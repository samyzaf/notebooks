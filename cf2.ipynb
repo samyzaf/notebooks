{
  "cells": [
    {
      "cell_type": "markdown",
      "metadata": {
        "id": "view-in-github",
        "colab_type": "text"
      },
      "source": [
        "<a href=\"https://colab.research.google.com/github/samyzaf/notebooks/blob/main/cf2.ipynb\" target=\"_parent\"><img src=\"https://colab.research.google.com/assets/colab-badge.svg\" alt=\"Open In Colab\"/></a>"
      ]
    },
    {
      "cell_type": "markdown",
      "metadata": {
        "id": "zo0mZHrOCICt"
      },
      "source": [
        "# Complex Functions\n",
        "# Chapter 2: Solutions to exercises\n",
        "\n",
        "<a href=\"https://samyzaf.com/technion/cfit/cf.pdf\">\n",
        "<img src=\"https://samyzaf.com/technion/cfit/cf1.jpg\" alt=\"ode book cover\"/>\n",
        "</a>\n",
        "\n",
        "* We used Python [**Sympy**](https://live.sympy.org)\n",
        "  package for obtaining the final\n",
        "  result for most of the exercises.\n",
        "* In some cases we used\n",
        "  [**ChatGPT**](https://chat.openai.com/chat)\n",
        "  application (version 3.0) to obtain\n",
        "  step-by-step solutions\n",
        "  which [**Sympy**](https://live.sympy.org)\n",
        "  is not yet able to give.\n",
        "* These packages are still under rapid active development,\n",
        "  and are not yet ready to cope with all problems yet.\n",
        "* Manual solutions are provided to some of the problems\n",
        "  that cannot be solved by these program.\n",
        "  A link to a PDF solution is provided.\n",
        "* This notebook can be edited and executed by clicking\n",
        "  the **open in colab** button at the top of this page.\n",
        "* If you are new to **Google Colab**, view\n",
        "  [Google Colab Tutorial for Beginners](https://www.youtube.com/watch?v=iMlMfrXJYSg)\n",
        "* These are only a small number of solutions.\n",
        "  Hopefully this will encourage students to try to solve more\n",
        "  exercises with similar methods.\n",
        "  We will be glad to accept notebooks\n",
        "  with solutions to other exercises in this book.\n",
        "  Please send them to sz@samyzaf.com."
      ]
    },
    {
      "cell_type": "code",
      "execution_count": 1,
      "metadata": {
        "id": "QO4VgM1r1vEy"
      },
      "outputs": [],
      "source": [
        "from sympy import *\n",
        "from sympy.plotting import plot_implicit\n",
        "#from math import atan2\n",
        "from cmath import exp, rect, polar, pi, isclose\n",
        "from numpy import roots, arange, linspace\n",
        "from IPython.display import HTML, IFrame\n",
        "import matplotlib.pyplot as plt"
      ]
    },
    {
      "cell_type": "markdown",
      "metadata": {
        "id": "YoIKr1sI4NRE"
      },
      "source": [
        "# Exercise 2.1.1\n",
        "Geometry sketch of\n",
        "\n",
        "$|z-1+i| = 1$"
      ]
    },
    {
      "cell_type": "markdown",
      "metadata": {
        "id": "m3wOxsFO6GNU"
      },
      "source": [
        "### Solution\n",
        "* We use Sympy plotting facilities to draw the geometric locus of the given equations\n",
        "* This is clearly a circle with radius $r=1$ and center $z_0 = 1-i$."
      ]
    },
    {
      "cell_type": "code",
      "execution_count": 2,
      "metadata": {
        "colab": {
          "base_uri": "https://localhost:8080/",
          "height": 526
        },
        "id": "QbDnEmqKHEyF",
        "outputId": "aafc09d7-8a5e-415b-b9ec-ad94d29028ed"
      },
      "outputs": [
        {
          "output_type": "display_data",
          "data": {
            "text/plain": [
              "<Figure size 600x520 with 1 Axes>"
            ],
            "image/png": "[encoded data removed]"
          },
          "metadata": {}
        }
      ],
      "source": [
        "x, y = symbols('x y', real=True)\n",
        "z = x + I*y\n",
        "z0 = 1 - 1j\n",
        "eq = Eq(abs(z - z0), 1)\n",
        "p = plot_implicit(eq, (x, -2, 4), (y, -3.2, 2), size=(6,5.2), grid=True)"
      ]
    },
    {
      "cell_type": "markdown",
      "metadata": {
        "id": "rjXo4ifg6GNV"
      },
      "source": [
        "# Exercise 2.1.2\n",
        "Geometry sketch of\n",
        "\n",
        "$|z+i| \\leq 5$"
      ]
    },
    {
      "cell_type": "markdown",
      "metadata": {
        "id": "ZZzeAMXc6GNW"
      },
      "source": [
        "### Solution\n",
        "* This is clearly a disk with radius $r=5$, center $z_0=-i$.\n",
        "* Here is how it is sketched by **Sympy**"
      ]
    },
    {
      "cell_type": "code",
      "execution_count": 3,
      "metadata": {
        "colab": {
          "base_uri": "https://localhost:8080/",
          "height": 357
        },
        "id": "QpMUZecDHEyH",
        "outputId": "34c7dda7-47b1-4bdf-873f-d132f1401fbe"
      },
      "outputs": [
        {
          "output_type": "display_data",
          "data": {
            "text/plain": [
              "<Figure size 300x350 with 1 Axes>"
            ],
            "image/png": "[encoded data removed]"
          },
          "metadata": {}
        }
      ],
      "source": [
        "x, y = symbols('x y', real=True)\n",
        "z = x + I*y\n",
        "z0 = - 1j\n",
        "p = plot_implicit(abs(z - z0) <= 5, (x, -5, 5), (y, -6.5, 5), line_color='cyan', size=(3,3.5))"
      ]
    },
    {
      "cell_type": "markdown",
      "metadata": {
        "id": "FtN4-w4r6GNX"
      },
      "source": [
        "# Exercise 2.1.3\n",
        "Geometry sketch of\n",
        "\n",
        "$|z-3i| \\geq 3$"
      ]
    },
    {
      "cell_type": "markdown",
      "metadata": {
        "id": "AVdUNgSQ6GNX"
      },
      "source": [
        "### Solution\n",
        "* This is clearly a complement of disk with radius $r=3$, center $z_0=3i$.\n",
        "* Here is how it is sketched by **Sympy**"
      ]
    },
    {
      "cell_type": "code",
      "execution_count": 4,
      "metadata": {
        "colab": {
          "base_uri": "https://localhost:8080/",
          "height": 432
        },
        "id": "GN5RcM0o6GNY",
        "outputId": "c907e726-b952-41b9-ad95-db5974dc39a0"
      },
      "outputs": [
        {
          "output_type": "display_data",
          "data": {
            "text/plain": [
              "<Figure size 500x425 with 1 Axes>"
            ],
            "image/png": "[encoded data removed]"
          },
          "metadata": {}
        }
      ],
      "source": [
        "x, y = symbols('x y', real=True)\n",
        "z = x + I*y\n",
        "z0 = 3j\n",
        "p = plot_implicit(abs(z - z0) >= 3, (x, -5, 5), (y, -1.5, 7), line_color='cyan', size=(5,4.25))"
      ]
    },
    {
      "cell_type": "markdown",
      "metadata": {
        "id": "-rVg7bm96GNY"
      },
      "source": [
        "# Exercise 2.1.4\n",
        "Geometry sketch of\n",
        "\n",
        "$|z-3i| + |z+3i| = 8$"
      ]
    },
    {
      "cell_type": "markdown",
      "metadata": {
        "id": "-IrRDJle6GNZ"
      },
      "source": [
        "### Solution\n",
        "* First we plot the graph of this equation"
      ]
    },
    {
      "cell_type": "code",
      "execution_count": 5,
      "metadata": {
        "colab": {
          "base_uri": "https://localhost:8080/",
          "height": 407
        },
        "id": "H4ewwT-S6GNZ",
        "outputId": "e6c75181-8fbd-4c9d-b17d-0d744ad1575e"
      },
      "outputs": [
        {
          "output_type": "display_data",
          "data": {
            "text/plain": [
              "<Figure size 600x400 with 1 Axes>"
            ],
            "image/png": "[encoded data removed]"
          },
          "metadata": {}
        }
      ],
      "source": [
        "x, y = symbols('x y', real=True)\n",
        "z = x + I*y\n",
        "z1 = -3j\n",
        "z2 = 3j\n",
        "eq = Eq(abs(z - z1) + abs(z - z2), 8)\n",
        "p = plot_implicit(eq, (x, -8, 8), (y, -5, 5), size=(6,4), grid=True)"
      ]
    },
    {
      "cell_type": "markdown",
      "metadata": {
        "id": "pENRHOvs6GNa"
      },
      "source": [
        "* This is of course an ellipse whose foci are $z_1 = -3i$, and $z_2 = 3i$.\n",
        "* The distance sum is $8$."
      ]
    },
    {
      "cell_type": "markdown",
      "metadata": {
        "id": "5NEn1Z1k6GNa"
      },
      "source": [
        "# Exercise 2.1.5\n",
        "Geometry sketch of\n",
        "\n",
        "$|z-1| = |z+i|$"
      ]
    },
    {
      "cell_type": "markdown",
      "metadata": {
        "id": "WJCdTk9d6GNa"
      },
      "source": [
        "### Solution\n",
        "* First we plot the graph of this equation\n",
        "* This equation is equivalent to $|z-1| - |z - (-i)| = 0"
      ]
    },
    {
      "cell_type": "code",
      "execution_count": 6,
      "metadata": {
        "colab": {
          "base_uri": "https://localhost:8080/",
          "height": 507
        },
        "id": "H22Ail6K6GNb",
        "outputId": "8b4d1788-59ba-4fec-dfed-857528858705"
      },
      "outputs": [
        {
          "output_type": "display_data",
          "data": {
            "text/plain": [
              "<Figure size 600x500 with 1 Axes>"
            ],
            "image/png": "[encoded data removed]"
          },
          "metadata": {}
        }
      ],
      "source": [
        "x, y = symbols('x y', real=True)\n",
        "z = x + I*y\n",
        "z1 = 1\n",
        "z2 = -1j\n",
        "eq = Eq(abs(z - z1) - abs(z - z2), 0)\n",
        "p = plot_implicit(eq, (x, -3, 3), (y, -3, 3), size=(6,5), grid=True)"
      ]
    },
    {
      "cell_type": "markdown",
      "metadata": {
        "id": "y0sBc8mQ6GNb"
      },
      "source": [
        "* This looks like a straight line.\n",
        "* We can guess that this is the line $y=-x$, but we must prove it!"
      ]
    },
    {
      "cell_type": "markdown",
      "metadata": {
        "id": "YE-UYAcp6GNb"
      },
      "source": [
        "$|z-1|^2 = |z+i|^2$\n",
        "\n",
        "$(x-1)^2 + y^2 = x^2 + (y+1)^2$\n",
        "\n",
        "$-2x = 2y$\n",
        "\n",
        "$y = -x$"
      ]
    },
    {
      "cell_type": "markdown",
      "metadata": {
        "id": "hB6WywoM6GNb"
      },
      "source": [
        "# Exercise 2.1.6\n",
        "Geometry sketch of\n",
        "\n",
        "$|z-1| \\geq |z+i|$"
      ]
    },
    {
      "cell_type": "markdown",
      "metadata": {
        "id": "--tHbfNZ6GNc"
      },
      "source": [
        "### Solution\n",
        "* First we plot the graph of this equation\n",
        "* This equation is equivalent to $|z-1| - |z - (-i)| \\geq 0$"
      ]
    },
    {
      "cell_type": "code",
      "execution_count": 7,
      "metadata": {
        "colab": {
          "base_uri": "https://localhost:8080/",
          "height": 507
        },
        "id": "Qo5kzcwn6GNc",
        "outputId": "798ab012-9ea0-4c08-fdd9-10c49720d156"
      },
      "outputs": [
        {
          "output_type": "display_data",
          "data": {
            "text/plain": [
              "<Figure size 600x500 with 1 Axes>"
            ],
            "image/png": "[encoded data removed]"
          },
          "metadata": {}
        }
      ],
      "source": [
        "x, y = symbols('x y', real=True)\n",
        "z = x + I*y\n",
        "z1 = 1\n",
        "z2 = -1j\n",
        "e = abs(z - z1) - abs(z - z2)\n",
        "p = plot_implicit(e >= 0, (x, -3, 3), (y, -3, 3), size=(6,5), line_color='cyan', grid=True)"
      ]
    },
    {
      "cell_type": "markdown",
      "metadata": {
        "id": "eZSBpLei6GNc"
      },
      "source": [
        "# Exercise 2.1.7\n",
        "Geometry sketch of\n",
        "\n",
        "$Re(\\overline{z} - i) = 2$"
      ]
    },
    {
      "cell_type": "markdown",
      "metadata": {
        "id": "z9EMhbbE6GNc"
      },
      "source": [
        "### Solution\n",
        "* This equation is equivalent to\n",
        "$Re(\\overline{z} - i) = Re(x - iy - i) = Re(x - i(y+1)) = 2$\n",
        "* $Re(x - i(y+1)) = -y - 1$\n",
        "* So we get: $-y - 3 = 0$\n",
        "* This is a simple horizontal line $y= -3$"
      ]
    },
    {
      "cell_type": "code",
      "execution_count": 8,
      "metadata": {
        "colab": {
          "base_uri": "https://localhost:8080/",
          "height": 407
        },
        "id": "zXaJhrRb6GNd",
        "outputId": "d8de42a5-b44f-4fe3-e152-4312026bc70d"
      },
      "outputs": [
        {
          "output_type": "display_data",
          "data": {
            "text/plain": [
              "<Figure size 600x400 with 1 Axes>"
            ],
            "image/png": "[encoded data removed]"
          },
          "metadata": {}
        }
      ],
      "source": [
        "x, y = symbols('x y', real=True)\n",
        "z = x + I*y\n",
        "eq = Eq(-y - 3, 0)\n",
        "p = plot_implicit(eq, (x, -6, 6), (y, -5, 1), size=(6,4))"
      ]
    },
    {
      "cell_type": "markdown",
      "metadata": {
        "id": "B5SEpB5b6GNd"
      },
      "source": [
        "# Exercise 2.1.8\n",
        "Geometry sketch of\n",
        "\n",
        "$|2\\overline{z} + i| = 4$"
      ]
    },
    {
      "cell_type": "markdown",
      "metadata": {
        "id": "i0W0Gj7g6GNd"
      },
      "source": [
        "### Solution\n",
        "* This equation is equivalent to\n",
        "$|2\\overline{z} + i| = |2x - 2iy + i| = |2x - i(2y-1)| = 2$\n",
        "* Which leads to:\n",
        "  $\\sqrt{x^2 + (2y-1)^2} = 2$\n",
        "* This is clearly an ellipse."
      ]
    },
    {
      "cell_type": "code",
      "execution_count": 9,
      "metadata": {
        "colab": {
          "base_uri": "https://localhost:8080/",
          "height": 306
        },
        "id": "71OclZoZ6GNd",
        "outputId": "3b974393-1462-44cd-8959-b7baa962afba"
      },
      "outputs": [
        {
          "output_type": "display_data",
          "data": {
            "text/plain": [
              "<Figure size 500x300 with 1 Axes>"
            ],
            "image/png": "[encoded data removed]"
          },
          "metadata": {}
        }
      ],
      "source": [
        "x, y = symbols('x y', real=True)\n",
        "eq = Eq(sqrt(x**2 + (2*y - 1)**2), 2)\n",
        "p = plot_implicit(eq, (x, -3, 3), (y, -1.5, 2.5), size=(5,3))"
      ]
    },
    {
      "cell_type": "markdown",
      "metadata": {
        "id": "6Up04xoc6GNe"
      },
      "source": [
        "# Exercise 2.1.9\n",
        "Geometry sketch of\n",
        "\n",
        "$z^2 +\\overline{z}^2 = 2$"
      ]
    },
    {
      "cell_type": "markdown",
      "metadata": {
        "id": "I_g4W4da6GNe"
      },
      "source": [
        "### Solution\n",
        "$(x+iy)^2 + (x-iy)^2 = 2$\n",
        "\n",
        "$(x^2 - y^2 + 2xyi) + (x^2 - y^2 - 2xyi) = 2$\n",
        "\n",
        "$2x^2 - 2y^2 = 2$\n",
        "\n",
        "$x^2 - y^2 = 1$\n",
        "\n",
        "* Simple hyperbola!"
      ]
    },
    {
      "cell_type": "code",
      "execution_count": 10,
      "metadata": {
        "colab": {
          "base_uri": "https://localhost:8080/",
          "height": 307
        },
        "id": "yX3rji-h6GNe",
        "outputId": "33469d5d-a403-4ff8-889b-cf18bfd2bd1c"
      },
      "outputs": [
        {
          "output_type": "display_data",
          "data": {
            "text/plain": [
              "<Figure size 500x300 with 1 Axes>"
            ],
            "image/png": "[encoded data removed]"
          },
          "metadata": {}
        }
      ],
      "source": [
        "x, y = symbols('x y', real=True)\n",
        "eq = Eq(x**2 - y**2, 1)\n",
        "p = plot_implicit(eq, (x, -4, 4), (y, -4, 4), size=(5,3))"
      ]
    },
    {
      "cell_type": "markdown",
      "metadata": {
        "id": "YPlKQrmn6GNf"
      },
      "source": [
        "# Exercise 2.2.1\n",
        "Geometry sketch of\n",
        "\n",
        "$\\displaystyle \\left|\\frac{z-1}{z+1}\\right| = 2$"
      ]
    },
    {
      "cell_type": "markdown",
      "metadata": {
        "id": "0WO1453K6GNf"
      },
      "source": [
        "### Solution\n",
        "* Try to get a hint by plotting the curve first ..."
      ]
    },
    {
      "cell_type": "code",
      "execution_count": 11,
      "metadata": {
        "colab": {
          "base_uri": "https://localhost:8080/",
          "height": 307
        },
        "id": "XejaDAPD6GNf",
        "outputId": "e5efb23e-46d2-438d-ee84-5667a7a1eba5"
      },
      "outputs": [
        {
          "output_type": "display_data",
          "data": {
            "text/plain": [
              "<Figure size 550x300 with 1 Axes>"
            ],
            "image/png": "[encoded data removed]"
          },
          "metadata": {}
        }
      ],
      "source": [
        "x, y = symbols('x y', real=True)\n",
        "z = x + I*y\n",
        "eq = Eq(abs((z-1)/(z+1)), 2)\n",
        "p = plot_implicit(eq, (x, -4, 4), (y, -2, 2), size=(5.5,3))"
      ]
    },
    {
      "cell_type": "markdown",
      "metadata": {
        "id": "tpZ7h3t36GNf"
      },
      "source": [
        "* Looks like an ellipse .. ? or maybe a circle?\n",
        "* We need to work it out formally ..\n",
        "\n",
        "$\\displaystyle\n",
        "\\begin{array}{l}\n",
        "|z-1|^2 = 4 |z+1|^2\n",
        "\\\\\n",
        "|z-1| - 2 |z+1| = 0\n",
        "\\\\\n",
        "(x-1)^2 + y^2 = 4 [(x+1)^2 + y^2]\n",
        "\\\\\n",
        "x^2 - 2x + 1 + y^2 = 4x^2 + 8x + 4 + 4y^2\n",
        "\\\\\n",
        "3x^2 + 10x + 3y^2 + 5 = 0\n",
        "\\end{array}\n",
        "$\n",
        "\n",
        "We need to check if $3x^2 + 10x + 3y^2 + 5 = 0$ can be converted to a canonical ellipse equation?\n",
        "\n",
        "It is recommended to try do it yourself before reading **ChatGPT** workout ...\n",
        "\n",
        "### ChatGPT Query\n",
        "The equation $3x^2 + 10x + 3y^2 + 5 = 0$ is supposed to be of an ellipse.\n",
        "Can you please bring it to a canonical form?\n",
        "\n",
        "### ChatGPT Reply (with minor fixes)\n",
        "Yes, the equation can be brought to a canonical form by completing the square for both the quadratic in x and the quadratic in y.\n",
        "\n",
        "First, complete the square for the quadratic in x:\n",
        "\n",
        "$\n",
        "3x^2 + 10x = 3(x^2 + \\frac{10}{3}x)\n",
        "=\n",
        "3(x^2 + \\frac{10}{3}x + \\frac{25}{9}) - \\frac{25}{3}\n",
        "=\n",
        "3(x + \\frac{5}{3})^2 - \\frac{25}{3}\n",
        "$\n",
        "\n",
        "Putting it all together:\n",
        "\n",
        "$\n",
        "3x^2 + 10x + 3y^2 + 5\n",
        "=\n",
        "3(x + \\frac{5}{3})^2 - \\frac{25}{3} + 3y^2 + 5\n",
        "=\n",
        "0\n",
        "$\n",
        "\n",
        "$\n",
        "3(x + \\frac{5}{3})^2 + 3y^2\n",
        "=\n",
        "\\frac{25}{3} - 5\n",
        "=\n",
        "\\frac{10}{3}\n",
        "$\n",
        "\n",
        "$\n",
        "(x + \\frac{5}{3})^2 + y^2\n",
        "=\n",
        "\\frac{10}{3}\n",
        "$\n",
        "\n",
        "The equation is now in the form of a standard canonical equation for an ellipse.\n",
        "\n",
        "In fact this is a circle! Center: $(-\\frac{5}{3},0)$, Radius: $r=\\sqrt{\\frac{10}{3}}$.\n",
        "\n",
        "\n"
      ]
    },
    {
      "cell_type": "markdown",
      "metadata": {
        "id": "KodyKuw26GNg"
      },
      "source": [
        "# Exercise 2.2.2\n",
        "Geometry sketch of\n",
        "\n",
        "$|z^2-1| = 1$"
      ]
    },
    {
      "cell_type": "markdown",
      "metadata": {
        "id": "hiMGhJy96GNg"
      },
      "source": [
        "### Solution\n",
        "* Try to get a hint by plotting the curve first ..."
      ]
    },
    {
      "cell_type": "code",
      "execution_count": 12,
      "metadata": {
        "colab": {
          "base_uri": "https://localhost:8080/",
          "height": 207
        },
        "id": "X7f9KtU_6GNg",
        "outputId": "bb9a6c66-3650-4ac3-a7d9-4f62a1466e78"
      },
      "outputs": [
        {
          "output_type": "display_data",
          "data": {
            "text/plain": [
              "<Figure size 450x200 with 1 Axes>"
            ],
            "image/png": "[encoded data removed]"
          },
          "metadata": {}
        }
      ],
      "source": [
        "x, y = symbols('x y', real=True)\n",
        "#z = x + I*y\n",
        "z = x**2 - y**2 - 1 + 2*x*y*I\n",
        "eq = Eq(abs(z), 1)\n",
        "p = plot_implicit(eq, (x, -2.2, 2.2), (y, -0.8, 0.8), size=(4.5,2))"
      ]
    },
    {
      "cell_type": "markdown",
      "metadata": {
        "id": "YclQxbuB6GNg"
      },
      "source": [
        "* This looks like a [lemniscate](https://en.wikipedia.org/wiki/Lemniscate).\n",
        "* Better known in its parametric polar form $r^2 = a^2 cos 2\\theta$\n",
        "\n",
        "If we plug $z=re^{i\\theta}$ in $|z^2 - 1| = 1$\n",
        "we get $2r^2\\cos(2\\theta)=r^4$,\n",
        "which is reduced to the lemniscate $r^2 = 2\\cos 2\\theta$."
      ]
    },
    {
      "cell_type": "markdown",
      "metadata": {
        "id": "HRRi7LqI6GNh"
      },
      "source": [
        "# Exercise 2.2.3\n",
        "Geometry sketch of\n",
        "\n",
        "$\\displaystyle \\arg{\\frac{z-1}{z+i}} = \\frac{\\pi}{3}$"
      ]
    },
    {
      "cell_type": "markdown",
      "metadata": {
        "id": "yjS0jR6F6GNh"
      },
      "source": [
        "### Solution\n",
        "* We can actually turn this into parametric form\n",
        "\n",
        "$\n",
        "\\renewcommand{\\arraystretch}{2.5}\n",
        "\\begin{array}{l}\n",
        "\\frac{z-1}{z+i} = re^{i\\frac{\\pi}{3}} = r ( \\cos \\frac{\\pi}{3} + i \\sin \\frac{\\pi}{3})\n",
        "\\qquad \\text{($r>0$ is a positive real number)}\n",
        "\\\\\n",
        "\\frac{z-1}{z+i} = r \\left( \\frac{1}{2} + i \\frac{\\sqrt{3}}{2} \\right)\n",
        "\\\\\n",
        "\\text{Let }\n",
        "c = \\frac{1}{2} + i \\frac{\\sqrt{3}}{2}\n",
        "\\\\\n",
        "\\text{Then }\n",
        "\\frac{z-1}{z+i} = cr\n",
        "\\\\\n",
        "z-1 = cr(z+i)\n",
        "\\\\\n",
        "(1 - cr)z = 1 + cri\n",
        "\\\\\n",
        "z = f(r) = \\frac{1 + cri}{1 - cr}\n",
        "=\n",
        "\\frac{1 + ri (\\frac{1}{2} + i \\frac{\\sqrt{3}}{2})}{1 - r (\\frac{1}{2} + i \\frac{\\sqrt{3}}{2})}\n",
        "\\end{array}\n",
        "$\n",
        "\n",
        "* So in fact, the equation turned into a simple parametric form $z=f(r)$!\n",
        "\n",
        "* Try to get a hint by plotting the parametric curve first ...\n",
        "* For some unclear reason Sympy `plot_implicit` does not work in this case ..\n",
        "* So we use the standard matplotlib facilities .."
      ]
    },
    {
      "cell_type": "code",
      "execution_count": 13,
      "metadata": {
        "id": "sbAnjFaC6GNh"
      },
      "outputs": [],
      "source": [
        "r = symbols('r', real=True)\n",
        "c = 1/2 + I*sqrt(3)/2\n",
        "e = (1+c*r*I) / (1 - c*r)\n",
        "f = lambdify(r, e, \"numpy\")   # This turns e into a regular Python function"
      ]
    },
    {
      "cell_type": "code",
      "execution_count": 14,
      "metadata": {
        "colab": {
          "base_uri": "https://localhost:8080/",
          "height": 522
        },
        "id": "AJwfxbWP6GNh",
        "outputId": "cd9058b2-018d-424e-9fa6-dbf0f0e9b327"
      },
      "outputs": [
        {
          "output_type": "display_data",
          "data": {
            "text/plain": [
              "<Figure size 600x600 with 1 Axes>"
            ],
            "image/png": "[encoded data removed]"
          },
          "metadata": {}
        }
      ],
      "source": [
        "fig = plt.figure(figsize=(6,6))\n",
        "ax = fig.gca()\n",
        "ax.grid('on', linestyle=':')\n",
        "R = linspace(0, 100, num=5000)\n",
        "x = [f(r).real for r in R]\n",
        "y = [f(r).imag for r in R]\n",
        "ax.plot(x, y, color='blue', linewidth=1.0)\n",
        "plt.show()"
      ]
    },
    {
      "cell_type": "markdown",
      "metadata": {
        "id": "zPThkz216GNi",
        "outputId": "f31dcb7d-0304-46cb-f21c-015cd61b621d"
      },
      "source": [
        "* Looks like an arc of a circle that starts the point $z_1=1$ and almost ends\n",
        "  at the point $z_2=-i$ (the point $z=0-i$ is not included!).\n",
        "* We need to prove this claim formally ...\n",
        "* To be continued ...\n"
      ]
    },
    {
      "cell_type": "code",
      "execution_count": 15,
      "metadata": {
        "colab": {
          "base_uri": "https://localhost:8080/",
          "height": 52
        },
        "id": "0whtQx_s6GNi",
        "outputId": "fb54565e-750c-4c11-9dc9-6b73b2b46f37"
      },
      "outputs": [
        {
          "output_type": "display_data",
          "data": {
            "text/plain": [
              "(1.0142500871477205-0.3595738281549148j)"
            ]
          },
          "metadata": {}
        },
        {
          "output_type": "execute_result",
          "data": {
            "text/plain": [
              "-2.0943951023931957"
            ]
          },
          "metadata": {},
          "execution_count": 15
        }
      ],
      "source": [
        "#x, y = symbols('x y', real=True)\n",
        "#z = x + I*y\n",
        "z = Symbol(\"z\", complex=True)\n",
        "eq = Eq((z-1)/(z+I), -0.3*c)\n",
        "m=solve(eq, z)\n",
        "w = complex(m[0])\n",
        "display(w)\n",
        "float(arg((w-1)/(w+ 1j)))\n"
      ]
    },
    {
      "cell_type": "code",
      "execution_count": 16,
      "metadata": {
        "colab": {
          "base_uri": "https://localhost:8080/",
          "height": 527
        },
        "id": "9Z4JS9u_6GNi",
        "outputId": "527ec193-bfe1-4a1d-e14a-757b7bdf859c"
      },
      "outputs": [
        {
          "output_type": "display_data",
          "data": {
            "text/plain": [
              "<Figure size 600x600 with 1 Axes>"
            ],
            "image/png": "[encoded data removed]"
          },
          "metadata": {}
        }
      ],
      "source": [
        "#Just testing ... to be continued ...\n",
        "fig = plt.figure(figsize=(6,6))\n",
        "ax = fig.gca()\n",
        "ax.grid('on', linestyle=':')\n",
        "R = linspace(0.0, 8.1, num=20)\n",
        "X = [] ; Y = []\n",
        "for r in R:\n",
        "    eq = Eq((z-1)/(z+I), r*c)\n",
        "    w = solve(eq, z)\n",
        "    #display(w)\n",
        "    w = complex(w[0])\n",
        "    X.append(w.real)\n",
        "    Y.append(w.imag)\n",
        "ax.plot(X, Y, color='blue', linewidth=1.0)\n",
        "plt.show()"
      ]
    },
    {
      "cell_type": "markdown",
      "source": [
        "# Exercise 2.4\n",
        "* Simple ChatGPT query can help.\n",
        "* Looks like the idea for a solution is in this link:  \n",
        "[Link to a ChatGPT transcript](https://samyzaf.com/technion/cfit/gpt_triangle_in_out_characterization.pdf)"
      ],
      "metadata": {
        "id": "DNOpAZ8ai0wi"
      }
    },
    {
      "cell_type": "markdown",
      "source": [
        "# Exercise 2.5\n",
        "* Simple ChatGPT query can help.\n",
        "* Looks like the idea for a solution is in this link:  \n",
        "[Link to a ChatGPT transcript](https://samyzaf.com/technion/cfit/gpt_rectangle_characterization.pdf)"
      ],
      "metadata": {
        "id": "LeoRlxqwKX9h"
      }
    },
    {
      "cell_type": "markdown",
      "metadata": {
        "id": "yFB2ohmN6GNj"
      },
      "source": [
        "# Exercise 2.8\n",
        "Prove every finite subset $A \\subseteq\\mathbb{C}$ is closed."
      ]
    },
    {
      "cell_type": "markdown",
      "metadata": {
        "id": "KbZCfRWP6GNj"
      },
      "source": [
        "### Solution\n",
        "$A = \\{z_1,z_2,\\ldots,z_n\\}$.\n",
        "Clearly, every singleton $\\{z_k\\}$ is a closed subset of $\\mathbb{C}$.\n",
        "So $A$ is closed since it is a union of finitely many closed sets."
      ]
    },
    {
      "cell_type": "markdown",
      "metadata": {
        "id": "fZc1yXWQ6GNj"
      },
      "source": [
        "# Exercise 2.9\n",
        "Prove: if $S\\subseteq\\mathbb{C}$ is open and closed then $S=\\emptyset$ or $S=\\mathbb{C}$."
      ]
    },
    {
      "cell_type": "markdown",
      "metadata": {
        "id": "8PZqkDE66GNj"
      },
      "source": [
        "### Solution\n",
        "If not, then $(S,\\mathbb{C}-S)$ is an open partition of $\\mathbb{C}$.\n",
        "In contradiction to the fact that $\\mathbb{C}$ is a topologically connected space."
      ]
    },
    {
      "cell_type": "markdown",
      "metadata": {
        "id": "Kt5s9kIV6GNj"
      },
      "source": [
        "# Exercise 2.11.1\n",
        "Construct an example of a set $D\\subseteq\\mathbb{C}$\n",
        "\n",
        "$D$ is simply connected but $\\overline{D}$ is not simply-connected."
      ]
    },
    {
      "cell_type": "markdown",
      "metadata": {
        "id": "g2FNwjoa6GNk"
      },
      "source": [
        "### Solution\n",
        "$D$ is simply connected but $\\overline{D}$ is not simply-connected.\n",
        "\n",
        "<img src=\"https://samyzaf.com/technion/cfit/sol/fig2_11_1.jpg\" alt=\"figure for 2.11.1\" width=\"50%\"/>\n",
        "\n",
        "<img src=\"https://samyzaf.com/technion/cfit/sol/fig2_11_1b.jpg\" alt=\"figure for 2.11.1b\" width=\"50%\"/>\n",
        "\n",
        "\n"
      ]
    },
    {
      "cell_type": "markdown",
      "metadata": {
        "id": "mjD_j8e-6GNk"
      },
      "source": [
        "# Exercise 2.11.2\n",
        "Construct an example of a set $D\\subseteq\\mathbb{C}$\n",
        "\n",
        "$D$ is not simply-connected but $\\overline{D}$ is simply-connected."
      ]
    },
    {
      "cell_type": "markdown",
      "metadata": {
        "id": "2oJ2-7-j6GNk",
        "jp-MarkdownHeadingCollapsed": true,
        "tags": []
      },
      "source": [
        "### Solution\n",
        "\n",
        "<img src=\"https://samyzaf.com/technion/cfit/sol/fig2_11_2.jpg\" alt=\"figure for 2.11.1\" width=\"90%\"/>\n"
      ]
    },
    {
      "cell_type": "markdown",
      "metadata": {
        "id": "QWkhuzP76GNk"
      },
      "source": [
        "# Exercise 2.11.3\n",
        "Construct an example of a set $D\\subseteq\\mathbb{C}$\n",
        "\n",
        "$D$ is simply-connected but $\\mathrm{Interior}(D)$ is not connected."
      ]
    },
    {
      "cell_type": "markdown",
      "metadata": {
        "id": "8fbH2S1R6GNk"
      },
      "source": [
        "### Solution\n",
        "\n",
        "<img src=\"https://samyzaf.com/technion/cfit/sol/fig2_11_3.jpg\" alt=\"figure for 2.11.1\" width=\"90%\"/>\n"
      ]
    },
    {
      "cell_type": "markdown",
      "metadata": {
        "id": "b3arAb2B6GNk"
      },
      "source": [
        "# Exercise 2.11.4\n",
        "Construct an example of a set $D\\subseteq\\mathbb{C}$\n",
        "\n",
        "$D$ is bounded and simply-connected but its boundary is not a Jordan curve."
      ]
    },
    {
      "cell_type": "markdown",
      "metadata": {
        "id": "NYHURav86GNl"
      },
      "source": [
        "### Solution\n",
        "\n",
        "<img src=\"https://samyzaf.com/technion/cfit/sol/fig2_11_4.jpg\" alt=\"figure for 2.11.4\" width=\"75%\"/>\n"
      ]
    },
    {
      "cell_type": "markdown",
      "metadata": {
        "id": "1g89s1Nc6GNl"
      },
      "source": [
        "# Exercise 2.11.5\n",
        "Construct an example of a set $D\\subseteq\\mathbb{C}$\n",
        "\n",
        "$D$ is open and not connected but $\\overline{D}$ is simply connected.  "
      ]
    },
    {
      "cell_type": "markdown",
      "metadata": {
        "id": "ibheCmUp6GNl"
      },
      "source": [
        "### Solution\n",
        "\n",
        "<img src=\"https://samyzaf.com/technion/cfit/sol/fig2_11_5.jpg\" alt=\"figure for 2.11.5\" width=\"80%\"/>\n"
      ]
    },
    {
      "cell_type": "markdown",
      "metadata": {
        "id": "Fz13zF2d6GNl"
      },
      "source": [
        "# Exercise 2.14\n",
        "Prove or disprove by a counter example:\n",
        "\n",
        "if $\\lim_{n\\to\\infty} z_n = z$\n",
        "then\n",
        "$\n",
        "\\lim_{n\\to\\infty} Arg(z_n) = Arg(z)\n",
        "$"
      ]
    },
    {
      "cell_type": "markdown",
      "metadata": {
        "id": "ukqYglDR6GNl"
      },
      "source": [
        "### Solution\n",
        "This is false.\n",
        "For example $z_n = e^{i(-\\pi + \\frac{1}{n})}$.\n",
        "Easy to check that\n",
        "$\\lim_{n\\to\\infty} z_n = -1$,\n",
        "but $\\lim_{n\\to\\infty} Arg(z_n) = -\\pi \\neq \\pi = Arg(-1)$."
      ]
    },
    {
      "cell_type": "markdown",
      "metadata": {
        "id": "hdwEvCxBzkXd"
      },
      "source": [
        "# Exercise 2.19.1\n",
        "Prove or disprove by a counter example:\n",
        "\n",
        "If $S$ is a connected subset of $\\mathbb{C}$ then $\\mathbb{C} - S$ is also connected"
      ]
    },
    {
      "cell_type": "markdown",
      "metadata": {
        "id": "D_o6z7C9zkXd"
      },
      "source": [
        "### Solution\n",
        "\n",
        "This is obviously false.\n",
        "For example, take $S$ to be the line $z=t+it$, $t\\in\\mathbb{R}$.\n",
        "\n",
        "If we subtract the line $S$ from the complex plane $\\mathbb{C}$ we ge two disconnected half planes.\n"
      ]
    },
    {
      "cell_type": "markdown",
      "metadata": {
        "id": "kmZOIBJOzkXe"
      },
      "source": [
        "# Exercise 2.19.2\n",
        "Prove or disprove by a counter example:\n",
        "\n",
        "If $D_1,D_2\\subseteq\\mathbb{C}$ are two domains with $D_1 \\cap D_2 \\neq \\emptyset$,\n",
        "then $D_1 \\cup D_2$ is a domain."
      ]
    },
    {
      "cell_type": "markdown",
      "metadata": {
        "id": "Ut0xcgpazkXe"
      },
      "source": [
        "### Solution\n",
        "\n",
        "This is True.\n",
        "Prove that $D_1 \\cup D_2$ is path connected.\n",
        "Let $z_0 \\in D_1 \\cap D_2$.\n",
        "Then every two points $z_1,z_2 \\in D_1 \\cup D_2$\n",
        "can be connected by a path passing thru $z_0$.\n"
      ]
    },
    {
      "cell_type": "markdown",
      "metadata": {
        "id": "m9WQGMaizkXe"
      },
      "source": [
        "# Exercise 2.19.3\n",
        "Prove or disprove by a counter example:\n",
        "\n",
        "If $D_1,D_2\\subseteq\\mathbb{C}$ are two domains with $D_1 \\cap D_2 \\neq \\emptyset$,\n",
        "then $D_1 \\cap D_2$ is a domain."
      ]
    },
    {
      "cell_type": "markdown",
      "metadata": {
        "id": "nvAmFYdozkXe"
      },
      "source": [
        "### Solution\n",
        "\n",
        "This is false as the following diagram shows.\n",
        "The intersection $D_1 \\cap D_2$ is not a domain since it is a disconnected set.\n",
        "\n",
        "<img src=\"https://samyzaf.com/technion/cfit/sol/fig2_19_3.jpg\" alt=\"figure for 2.19.3\" width=\"50%\"/>\n"
      ]
    },
    {
      "cell_type": "markdown",
      "metadata": {
        "id": "y8S6VxTLzkXf"
      },
      "source": [
        "# Exercise 2.19.4\n",
        "Prove or disprove by a counter example:\n",
        "\n",
        "Let $D_1,D_2\\subseteq\\mathbb{C}$.\n",
        "If $D_1$ is a domain, $D_2$ an open and simply connected set, $D_2\\subseteq D_1$,\n",
        "then $D_1 - D_2$ is a connected set."
      ]
    },
    {
      "cell_type": "markdown",
      "metadata": {
        "id": "ad6see_MzkXf"
      },
      "source": [
        "### Solution\n",
        "\n",
        "This is false as the following diagram shows.\n",
        "The set difference $D_1 - D_2$ is a disconnected set (consisting of $4$ connectivity components).\n",
        "\n",
        "<img src=\"https://samyzaf.com/technion/cfit/sol/fig2_19_4.jpg\" alt=\"figure for 2.19.4\" width=\"50%\"/>\n"
      ]
    },
    {
      "cell_type": "markdown",
      "metadata": {
        "id": "wEnYHfptzkXf"
      },
      "source": [
        "# Exercise 2.19.5\n",
        "Prove or disprove by a counter example:\n",
        "\n",
        "If $S$ is disconnected the $\\overline{S}$ is also disconnected."
      ]
    },
    {
      "cell_type": "markdown",
      "metadata": {
        "id": "oBO27NROzkXf"
      },
      "source": [
        "### Solution\n",
        "\n",
        "This is false as the following diagram shows.\n",
        "\n",
        "<img src=\"https://samyzaf.com/technion/cfit/sol/fig2_11_5.jpg\" alt=\"figure for 2.19.5\" width=\"80%\"/>"
      ]
    },
    {
      "cell_type": "markdown",
      "metadata": {
        "id": "zp4x-L-DzkXg"
      },
      "source": [
        "# Exercise 2.19.6\n",
        "Prove or disprove by a counter example:\n",
        "\n",
        "If $A$ is dense in $B$ and $B$ is dense in $C$ then $A$ is dense in $C$."
      ]
    },
    {
      "cell_type": "markdown",
      "metadata": {
        "id": "llgk3ccTzkXg"
      },
      "source": [
        "### Solution\n",
        "\n",
        "This is true.\n",
        "\n",
        "Let $z\\in C$ and $\\varepsilon>0$.  \n",
        "By assumption1 there is a point $z_2\\in B$ such that $|z_2 - z| < \\varepsilon/2$.  \n",
        "By assumption2 there is a point $z_1\\in A$ such that $|z_1 - z_2| < \\varepsilon/2$.  \n",
        "Hence $|z_1 -z| <  \\varepsilon$.  \n",
        "Hence $A$ is dense in $C$.\n"
      ]
    },
    {
      "cell_type": "markdown",
      "metadata": {
        "id": "XfAqdWumzkXg"
      },
      "source": [
        "# Exercise 2.19.7\n",
        "Prove or disprove by a counter example:\n",
        "\n",
        "There are two **disjoint** subsetes $A,B\\subseteq\\mathbb{C}$ such that $A$ is dene in $B$ and $B$ is dense in $A$."
      ]
    },
    {
      "cell_type": "markdown",
      "metadata": {
        "id": "CtWTpwOEzkXg"
      },
      "source": [
        "### Solution\n",
        "\n",
        "This is true.\n",
        "\n",
        "Take for example $A = \\{x+iy: y\\in\\mathbb{Q}$, and $B=\\mathbb{C} - A$."
      ]
    },
    {
      "cell_type": "markdown",
      "metadata": {
        "id": "t-X-grpLzkXg"
      },
      "source": [
        "# Exercise 2.19.8\n",
        "Prove or disprove by a counter example:\n",
        "\n",
        "If $S_n$ is a descending sequence of non-empty closed sets then $\\bigcap_{n=1}^{\\infty} S_n \\neq \\emptyset$."
      ]
    },
    {
      "cell_type": "markdown",
      "metadata": {
        "id": "gHeTRWydzkXh"
      },
      "source": [
        "### Solution\n",
        "\n",
        "This is false.\n",
        "\n",
        "Take for example $S_n = [n,\\infty)$."
      ]
    },
    {
      "cell_type": "markdown",
      "metadata": {
        "id": "9RPm2DMZzkXh"
      },
      "source": [
        "# Exercise 2.19.9\n",
        "Prove or disprove by a counter example:\n",
        "\n",
        "If $D_1,D_2\\subseteq\\mathbb{C}$ are two simply-connected domains, $D_1\\cap D_2 \\neq \\emptyset$.\n",
        "Then $D_1 \\cup D_2$ is a simply-connected domain."
      ]
    },
    {
      "cell_type": "markdown",
      "metadata": {
        "id": "gUWkMsEMzkXh"
      },
      "source": [
        "### Solution\n",
        "\n",
        "This is false.\n",
        "\n",
        "<img src=\"https://samyzaf.com/technion/cfit/sol/fig2_19_9.jpg\" alt=\"figure for 2.19.9\" width=\"60%\"/>"
      ]
    },
    {
      "cell_type": "markdown",
      "metadata": {
        "id": "ZHw0ZOzRoVmC"
      },
      "source": [
        "# Exercise 2.20\n",
        "Geometry sketch of\n",
        "\n",
        "$\n",
        "|z-a| - |z+a| = 2c\n",
        "$\n",
        "\n",
        "Where $a$, $b$, are real numbers\n",
        "."
      ]
    },
    {
      "cell_type": "markdown",
      "metadata": {
        "id": "-6eEnAGDoVmC"
      },
      "source": [
        "![Solution for problem 20](https://samyzaf.com/technion/cfit/sol/fig2_20.jpg)"
      ]
    },
    {
      "cell_type": "markdown",
      "metadata": {
        "id": "tZFLXjov6GNm"
      },
      "source": [
        "# Exercise 2.35\n",
        "Prove that topological connectivity is equivalent to rectilinear connectivity"
      ]
    },
    {
      "cell_type": "markdown",
      "metadata": {
        "id": "kll7TMHU6GNm"
      },
      "source": [
        "### Solution\n",
        "Look at\n",
        "[mathoverflow.net link](https://mathoverflow.net/questions/59506/minimum-number-of-polygonal-lines-connecting-points-in-an-annulus\n",
        ")"
      ]
    },
    {
      "cell_type": "markdown",
      "source": [
        "# Exercise 2.36\n",
        "* Simple ChatGPT query can help.\n",
        "* Looks like the idea for a solution is in this link:  \n",
        "[Link to a ChatGPT transcript](https://samyzaf.com/technion/cfit/gpt_Jordans_Curve_Theorem_for_Triangle.pdf)"
      ],
      "metadata": {
        "id": "fxNvP_uOzOmt"
      }
    },
    {
      "cell_type": "markdown",
      "source": [
        "# Exercise 2.21\n",
        "* Simple ChatGPT query can help.\n",
        "* Looks like a full solution is in this link:  \n",
        "[Link to a ChatGPT transcript](https://samyzaf.com/technion/cfit/gpt_ellipse_parametrization_chap2_21.pdf)"
      ],
      "metadata": {
        "id": "35-bJ1GMs71q"
      }
    },
    {
      "cell_type": "markdown",
      "metadata": {
        "id": "pbUnA3ps6GNm"
      },
      "source": [
        "# Exercise 2.39\n",
        "Let $U\\subseteq\\mathbb{C}$ an open subset.\n",
        "prove: there is an increasing sequence of compact sets $K_n$\n",
        "such that $U = \\bigcup_{n=0}^{\\infty} K_n$."
      ]
    },
    {
      "cell_type": "markdown",
      "metadata": {
        "id": "AKYmVvpg6GNm"
      },
      "source": [
        "### Solution\n",
        "For each $n$\n",
        "let $C_n$ be the set of all $\\frac{1}{n}$-internal points of $U$.\n",
        "Define $K_n = \\mathbf{D}_n \\cap C_n$, where $D_n$ is the disc of radius $n$ around the origin."
      ]
    },
    {
      "cell_type": "markdown",
      "metadata": {
        "id": "1wKOErbhqKWU",
        "tags": []
      },
      "source": [
        "# **TO BE CONTINUED ...**\n",
        "* Students help is needed! Any student is welcome to continue and contribute more\n",
        "  solutions to exercises\n",
        "  from the book [Complex Functions book](\"https://samyzaf.com/technion/cfit/cf.pdf\")\n",
        "* In some cases\n",
        "  [ChatGPT](\"https://chat.openai.com/chat\")\n",
        "  can solve standard problems if you phrase the\n",
        "  question with many clues.\n",
        "  Beware that in many cases it gives wrong statements!!\n",
        "\n",
        "* Solutions can also be found in web sites such as Math\n",
        "  [stackexchange](\"https://stackexchange.com/\")\n",
        "  or [Mathoverflow](\"https://mathoverflow.net/\").\n",
        "\n",
        "* Send your solutions notebook to sz@samyzaf.com.\n",
        "* They will be checked and added to this notebook.\n",
        "* Thanks!!!"
      ]
    }
  ],
  "metadata": {
    "colab": {
      "provenance": [],
      "include_colab_link": true
    },
    "kernelspec": {
      "display_name": "Python 3 (ipykernel)",
      "language": "python",
      "name": "python3"
    },
    "language_info": {
      "codemirror_mode": {
        "name": "ipython",
        "version": 3
      },
      "file_extension": ".py",
      "mimetype": "text/x-python",
      "name": "python",
      "nbconvert_exporter": "python",
      "pygments_lexer": "ipython3",
      "version": "3.7.16"
    }
  },
  "nbformat": 4,
  "nbformat_minor": 0
}