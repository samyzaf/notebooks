{
  "cells": [
    {
      "cell_type": "markdown",
      "metadata": {
        "id": "view-in-github",
        "colab_type": "text"
      },
      "source": [
        "<a href=\"https://colab.research.google.com/github/samyzaf/notebooks/blob/main/cf2.ipynb\" target=\"_parent\"><img src=\"https://colab.research.google.com/assets/colab-badge.svg\" alt=\"Open In Colab\"/></a>"
      ]
    },
    {
      "cell_type": "markdown",
      "metadata": {
        "id": "zo0mZHrOCICt"
      },
      "source": [
        "# Complex Functions\n",
        "# Chapter 2: Solutions to exercises\n",
        "\n",
        "<a href=\"https://samyzaf.com/technion/cfit/cf.pdf\">\n",
        "<img src=\"https://samyzaf.com/technion/cfit/cf1.jpg\" alt=\"ode book cover\"/>\n",
        "</a>\n",
        "\n",
        "* We used Python [**Sympy**](https://live.sympy.org)\n",
        "  package for obtaining the final\n",
        "  result for most of the exercises.\n",
        "  In some cases we used\n",
        "  [**ChatGPT**](https://chat.openai.com/chat)\n",
        "  application (version 3.0) to obtain\n",
        "  step-by-step solutions\n",
        "  which [**Sympy**](https://live.sympy.org)\n",
        "  is not yet able to give.\n",
        "* This package is still under development, and is not yet\n",
        "  ready to cope with all problems yet.\n",
        "  * Manual solutions are provided to some of the problems that cannot be\n",
        "    solved by the program. A link to a PDF solution is provided.\n",
        "* This notebook can be edited and executed by clicking\n",
        "  the **open in colab** button.\n",
        "* These are only a small number of solutions.\n",
        "  Hopefully this will encourage students to try to solve more\n",
        "  exercises with similar methods. We will be glad to accept notebooks\n",
        "  with solutions to other exercises in this book.\n",
        "  Please send them to sz@samyzaf.com."
      ]
    },
    {
      "cell_type": "code",
      "execution_count": 1,
      "metadata": {
        "colab": {
          "base_uri": "https://localhost:8080/"
        },
        "id": "M6sQe4JlsK7u",
        "outputId": "072498e3-5642-44fa-d194-be098c9fa725"
      },
      "outputs": [
        {
          "output_type": "stream",
          "name": "stdout",
          "text": [
            "Looking in indexes: https://pypi.org/simple, https://us-python.pkg.dev/colab-wheels/public/simple/\n",
            "Requirement already satisfied: sympy in /usr/local/lib/python3.8/dist-packages (1.7.1)\n",
            "Collecting sympy\n",
            "  Downloading sympy-1.11.1-py3-none-any.whl (6.5 MB)\n",
            "\u001b[2K     \u001b[90m━━━━━━━━━━━━━━━━━━━━━━━━━━━━━━━━━━━━━━━━\u001b[0m \u001b[32m6.5/6.5 MB\u001b[0m \u001b[31m42.2 MB/s\u001b[0m eta \u001b[36m0:00:00\u001b[0m\n",
            "\u001b[?25hRequirement already satisfied: mpmath>=0.19 in /usr/local/lib/python3.8/dist-packages (from sympy) (1.2.1)\n",
            "Installing collected packages: sympy\n",
            "  Attempting uninstall: sympy\n",
            "    Found existing installation: sympy 1.7.1\n",
            "    Uninstalling sympy-1.7.1:\n",
            "      Successfully uninstalled sympy-1.7.1\n",
            "Successfully installed sympy-1.11.1\n"
          ]
        }
      ],
      "source": [
        "%pip install --upgrade sympy"
      ]
    },
    {
      "cell_type": "code",
      "execution_count": 2,
      "metadata": {
        "id": "QO4VgM1r1vEy"
      },
      "outputs": [],
      "source": [
        "from sympy import *\n",
        "from sympy.plotting import plot_implicit\n",
        "#from math import atan2\n",
        "from cmath import exp, rect, polar, pi, isclose\n",
        "from numpy import roots, arange, linspace\n",
        "from IPython.display import HTML, IFrame\n",
        "import matplotlib.pyplot as plt"
      ]
    },
    {
      "cell_type": "markdown",
      "metadata": {
        "id": "YoIKr1sI4NRE"
      },
      "source": [
        "# Exercise 2.1.1\n",
        "Geometry sketch of\n",
        "\n",
        "$|z-1+i| = 1$"
      ]
    },
    {
      "cell_type": "markdown",
      "metadata": {
        "id": "m3wOxsFO6GNU"
      },
      "source": [
        "### Solution\n",
        "* We use Sympy plotting facilities to draw the geometric locus of the given equations\n",
        "* This is clearly a circle with radius $r=1$ and center $z_0 = 1-i$."
      ]
    },
    {
      "cell_type": "code",
      "execution_count": 3,
      "metadata": {
        "colab": {
          "base_uri": "https://localhost:8080/",
          "height": 384
        },
        "id": "QbDnEmqKHEyF",
        "outputId": "79df8b4b-18e4-49c3-d99d-82b4e19a61a7"
      },
      "outputs": [
        {
          "output_type": "display_data",
          "data": {
            "text/plain": [
              "<Figure size 432x374.4 with 1 Axes>"
            ],
            "image/png": "[encoded data removed]"
          },
          "metadata": {
            "needs_background": "light"
          }
        }
      ],
      "source": [
        "x, y = symbols('x y', real=True)\n",
        "z = x + I*y\n",
        "z0 = 1 - 1j\n",
        "eq = Eq(abs(z - z0), 1)    \n",
        "p = plot_implicit(eq, (x, -2, 4), (y, -3.2, 2), size=(6,5.2), grid=True)"
      ]
    },
    {
      "cell_type": "markdown",
      "metadata": {
        "id": "rjXo4ifg6GNV"
      },
      "source": [
        "# Exercise 2.1.2\n",
        "Geometry sketch of\n",
        "\n",
        "$|z+i| \\leq 5$"
      ]
    },
    {
      "cell_type": "markdown",
      "metadata": {
        "id": "ZZzeAMXc6GNW"
      },
      "source": [
        "### Solution\n",
        "* This is clearly a disk with radius $z=5$, center $z_0=-i$.\n",
        "* Here is how it is sketched by **Sympy**"
      ]
    },
    {
      "cell_type": "code",
      "execution_count": 4,
      "metadata": {
        "colab": {
          "base_uri": "https://localhost:8080/",
          "height": 261
        },
        "id": "QpMUZecDHEyH",
        "outputId": "af874b2d-0760-4000-ca9a-322fb9bf4677"
      },
      "outputs": [
        {
          "output_type": "display_data",
          "data": {
            "text/plain": [
              "<Figure size 216x252 with 1 Axes>"
            ],
            "image/png": "[encoded data removed]"
          },
          "metadata": {
            "needs_background": "light"
          }
        }
      ],
      "source": [
        "x, y = symbols('x y', real=True)\n",
        "z = x + I*y\n",
        "z0 = - 1j\n",
        "p = plot_implicit(abs(z - z0) <= 5, (x, -5, 5), (y, -6.5, 5), line_color='cyan', size=(3,3.5))"
      ]
    },
    {
      "cell_type": "markdown",
      "metadata": {
        "id": "FtN4-w4r6GNX"
      },
      "source": [
        "# Exercise 2.1.3\n",
        "Geometry sketch of\n",
        "\n",
        "$|z-3i| \\geq 3$"
      ]
    },
    {
      "cell_type": "markdown",
      "metadata": {
        "id": "AVdUNgSQ6GNX"
      },
      "source": [
        "### Solution\n",
        "* This is clearly a disk with radius $z=5$, center $z_0=-i$.\n",
        "* Here is how it is sketched by **Sympy**"
      ]
    },
    {
      "cell_type": "code",
      "execution_count": 5,
      "metadata": {
        "colab": {
          "base_uri": "https://localhost:8080/",
          "height": 315
        },
        "outputId": "a5263234-4371-4ee7-e33f-a4756ededd80",
        "id": "GN5RcM0o6GNY"
      },
      "outputs": [
        {
          "output_type": "display_data",
          "data": {
            "text/plain": [
              "<Figure size 360x306 with 1 Axes>"
            ],
            "image/png": "[encoded data removed]"
          },
          "metadata": {
            "needs_background": "light"
          }
        }
      ],
      "source": [
        "x, y = symbols('x y', real=True)\n",
        "z = x + I*y\n",
        "z0 = - 3j\n",
        "p = plot_implicit(abs(z - z0) >= 3, (x, -5, 5), (y, -6.5, 2), line_color='cyan', size=(5,4.25))"
      ]
    },
    {
      "cell_type": "markdown",
      "metadata": {
        "id": "-rVg7bm96GNY"
      },
      "source": [
        "# Exercise 2.1.4\n",
        "Geometry sketch of\n",
        "\n",
        "$|z-3i| + |z+3i| = 8$"
      ]
    },
    {
      "cell_type": "markdown",
      "metadata": {
        "id": "-IrRDJle6GNZ"
      },
      "source": [
        "### Solution\n",
        "* First we plot the graph of this equation"
      ]
    },
    {
      "cell_type": "code",
      "execution_count": 6,
      "metadata": {
        "colab": {
          "base_uri": "https://localhost:8080/",
          "height": 297
        },
        "outputId": "32948d66-e370-4436-ca6a-5b9c50aceb4f",
        "id": "H4ewwT-S6GNZ"
      },
      "outputs": [
        {
          "output_type": "display_data",
          "data": {
            "text/plain": [
              "<Figure size 432x288 with 1 Axes>"
            ],
            "image/png": "[encoded data removed]"
          },
          "metadata": {
            "needs_background": "light"
          }
        }
      ],
      "source": [
        "x, y = symbols('x y', real=True)\n",
        "z = x + I*y\n",
        "z1 = -3j\n",
        "z2 = 3j\n",
        "eq = Eq(abs(z - z1) + abs(z - z2), 8)    \n",
        "p = plot_implicit(eq, (x, -8, 8), (y, -5, 5), size=(6,4), grid=True)"
      ]
    },
    {
      "cell_type": "markdown",
      "metadata": {
        "id": "pENRHOvs6GNa"
      },
      "source": [
        "* This is of course an ellipse whose foci are $z_1 = -3i$, and $z_2 = 3i$.\n",
        "* The distance sum is $8$."
      ]
    },
    {
      "cell_type": "markdown",
      "metadata": {
        "id": "5NEn1Z1k6GNa"
      },
      "source": [
        "# Exercise 2.1.5\n",
        "Geometry sketch of\n",
        "\n",
        "$|z-1| = |z+i|$"
      ]
    },
    {
      "cell_type": "markdown",
      "metadata": {
        "id": "WJCdTk9d6GNa"
      },
      "source": [
        "### Solution\n",
        "* First we plot the graph of this equation\n",
        "* This equation is equivalent to $|z-1| - |z - (-i)| = 0"
      ]
    },
    {
      "cell_type": "code",
      "execution_count": 7,
      "metadata": {
        "colab": {
          "base_uri": "https://localhost:8080/",
          "height": 369
        },
        "outputId": "3a1e6f71-600d-4acb-a19e-ed9eca8eeb76",
        "id": "H22Ail6K6GNb"
      },
      "outputs": [
        {
          "output_type": "display_data",
          "data": {
            "text/plain": [
              "<Figure size 432x360 with 1 Axes>"
            ],
            "image/png": "[encoded data removed]"
          },
          "metadata": {
            "needs_background": "light"
          }
        }
      ],
      "source": [
        "x, y = symbols('x y', real=True)\n",
        "z = x + I*y\n",
        "z1 = 1\n",
        "z2 = -1j\n",
        "eq = Eq(abs(z - z1) - abs(z - z2), 0)    \n",
        "p = plot_implicit(eq, (x, -3, 3), (y, -3, 3), size=(6,5), grid=True)"
      ]
    },
    {
      "cell_type": "markdown",
      "metadata": {
        "id": "y0sBc8mQ6GNb"
      },
      "source": [
        "* This looks like a straight line.\n",
        "* We can guess that this is the line $y=-x$, but we must prove it!"
      ]
    },
    {
      "cell_type": "markdown",
      "metadata": {
        "id": "YE-UYAcp6GNb"
      },
      "source": [
        "$|z-1|^2 = |z+i|^2$\n",
        "\n",
        "$(x-1)^2 + y^2 = x^2 + (y+1)^2$\n",
        "\n",
        "$-2x = 2y$\n",
        "\n",
        "$y = -x$"
      ]
    },
    {
      "cell_type": "markdown",
      "metadata": {
        "id": "hB6WywoM6GNb"
      },
      "source": [
        "# Exercise 2.1.6\n",
        "Geometry sketch of\n",
        "\n",
        "$|z-1| \\geq |z+i|$"
      ]
    },
    {
      "cell_type": "markdown",
      "metadata": {
        "id": "--tHbfNZ6GNc"
      },
      "source": [
        "### Solution\n",
        "* First we plot the graph of this equation\n",
        "* This equation is equivalent to $|z-1| - |z - (-i)| \\geq 0$"
      ]
    },
    {
      "cell_type": "code",
      "execution_count": 8,
      "metadata": {
        "colab": {
          "base_uri": "https://localhost:8080/",
          "height": 369
        },
        "outputId": "27f1c873-f70e-44a8-9deb-13bf812ab27a",
        "id": "Qo5kzcwn6GNc"
      },
      "outputs": [
        {
          "output_type": "display_data",
          "data": {
            "text/plain": [
              "<Figure size 432x360 with 1 Axes>"
            ],
            "image/png": "[encoded data removed]"
          },
          "metadata": {
            "needs_background": "light"
          }
        }
      ],
      "source": [
        "x, y = symbols('x y', real=True)\n",
        "z = x + I*y\n",
        "z1 = 1\n",
        "z2 = -1j\n",
        "e = abs(z - z1) - abs(z - z2)    \n",
        "p = plot_implicit(e >= 0, (x, -3, 3), (y, -3, 3), size=(6,5), line_color='cyan', grid=True)"
      ]
    },
    {
      "cell_type": "markdown",
      "metadata": {
        "id": "eZSBpLei6GNc"
      },
      "source": [
        "# Exercise 2.1.7\n",
        "Geometry sketch of\n",
        "\n",
        "$Re(\\overline{z} - i) = 2$"
      ]
    },
    {
      "cell_type": "markdown",
      "metadata": {
        "id": "z9EMhbbE6GNc"
      },
      "source": [
        "### Solution\n",
        "* This equation is equivalent to\n",
        "$Re(\\overline{z} - i) = Re(x - iy - i) = Re(x - i(y+1)) = 2$\n",
        "* $Re(x - i(y+1)) = -y - 1$\n",
        "* So we get: $-y - 3 = 0$\n",
        "* This is a simple horizontal line $y= -3$"
      ]
    },
    {
      "cell_type": "code",
      "execution_count": 9,
      "metadata": {
        "colab": {
          "base_uri": "https://localhost:8080/",
          "height": 297
        },
        "outputId": "787e5d7d-bf8c-4eca-a716-bd87663e19dd",
        "id": "zXaJhrRb6GNd"
      },
      "outputs": [
        {
          "output_type": "display_data",
          "data": {
            "text/plain": [
              "<Figure size 432x288 with 1 Axes>"
            ],
            "image/png": "[encoded data removed]"
          },
          "metadata": {
            "needs_background": "light"
          }
        }
      ],
      "source": [
        "x, y = symbols('x y', real=True)\n",
        "z = x + I*y\n",
        "eq = Eq(-y - 3, 0)   \n",
        "p = plot_implicit(eq, (x, -6, 6), (y, -5, 1), size=(6,4))"
      ]
    },
    {
      "cell_type": "markdown",
      "metadata": {
        "id": "B5SEpB5b6GNd"
      },
      "source": [
        "# Exercise 2.1.8\n",
        "Geometry sketch of\n",
        "\n",
        "$|2\\overline{z} + i| = 4$"
      ]
    },
    {
      "cell_type": "markdown",
      "metadata": {
        "id": "i0W0Gj7g6GNd"
      },
      "source": [
        "### Solution\n",
        "* This equation is equivalent to\n",
        "$|2\\overline{z} + i| = |2x - 2iy + i| = |2x - i(2y-1)| = 2$\n",
        "* Which leads to:\n",
        "  $\\sqrt{x^2 + (2y-1)^2} = 2$\n",
        "* This is clearly an ellipse."
      ]
    },
    {
      "cell_type": "code",
      "execution_count": 10,
      "metadata": {
        "colab": {
          "base_uri": "https://localhost:8080/",
          "height": 225
        },
        "outputId": "ec3cd732-767b-4ac8-b981-ba19b8cadd83",
        "id": "71OclZoZ6GNd"
      },
      "outputs": [
        {
          "output_type": "display_data",
          "data": {
            "text/plain": [
              "<Figure size 360x216 with 1 Axes>"
            ],
            "image/png": "[encoded data removed]"
          },
          "metadata": {
            "needs_background": "light"
          }
        }
      ],
      "source": [
        "x, y = symbols('x y', real=True)\n",
        "eq = Eq(sqrt(x**2 + (2*y - 1)**2), 2)   \n",
        "p = plot_implicit(eq, (x, -3, 3), (y, -1.5, 2.5), size=(5,3))"
      ]
    },
    {
      "cell_type": "markdown",
      "metadata": {
        "id": "6Up04xoc6GNe"
      },
      "source": [
        "# Exercise 2.1.9\n",
        "Geometry sketch of\n",
        "\n",
        "$z^2 +\\overline{z}^2 = 2$"
      ]
    },
    {
      "cell_type": "markdown",
      "metadata": {
        "id": "I_g4W4da6GNe"
      },
      "source": [
        "### Solution\n",
        "$(x+iy)^2 + (x-iy)^2 = 2$\n",
        "\n",
        "$(x^2 - y^2 + 2xyi) + (x^2 - y^2 - 2xyi) = 2$\n",
        "\n",
        "$2x^2 - 2y^2 = 2$\n",
        "\n",
        "$x^2 - y^2 = 1$\n",
        "\n",
        "* Simple hyperbola!"
      ]
    },
    {
      "cell_type": "code",
      "execution_count": 11,
      "metadata": {
        "colab": {
          "base_uri": "https://localhost:8080/",
          "height": 225
        },
        "outputId": "ed8af21d-a215-46ff-cac2-affb0b27bc6e",
        "id": "yX3rji-h6GNe"
      },
      "outputs": [
        {
          "output_type": "display_data",
          "data": {
            "text/plain": [
              "<Figure size 360x216 with 1 Axes>"
            ],
            "image/png": "[encoded data removed]"
          },
          "metadata": {
            "needs_background": "light"
          }
        }
      ],
      "source": [
        "x, y = symbols('x y', real=True)\n",
        "eq = Eq(x**2 - y**2, 1)   \n",
        "p = plot_implicit(eq, (x, -4, 4), (y, -4, 4), size=(5,3))"
      ]
    },
    {
      "cell_type": "markdown",
      "metadata": {
        "id": "YPlKQrmn6GNf"
      },
      "source": [
        "# Exercise 2.2.1\n",
        "Geometry sketch of\n",
        "\n",
        "$\\displaystyle \\left|\\frac{z-1}{z+1}\\right| = 2$"
      ]
    },
    {
      "cell_type": "markdown",
      "metadata": {
        "id": "0WO1453K6GNf"
      },
      "source": [
        "### Solution\n",
        "* Try to get a hint by plotting the curve first ..."
      ]
    },
    {
      "cell_type": "code",
      "execution_count": 12,
      "metadata": {
        "colab": {
          "base_uri": "https://localhost:8080/",
          "height": 225
        },
        "outputId": "7cbae733-3a76-4a51-c80e-6c419de3f5ae",
        "id": "XejaDAPD6GNf"
      },
      "outputs": [
        {
          "output_type": "display_data",
          "data": {
            "text/plain": [
              "<Figure size 396x216 with 1 Axes>"
            ],
            "image/png": "[encoded data removed]"
          },
          "metadata": {
            "needs_background": "light"
          }
        }
      ],
      "source": [
        "x, y = symbols('x y', real=True)\n",
        "z = x + I*y\n",
        "eq = Eq(abs((z-1)/(z+1)), 2)   \n",
        "p = plot_implicit(eq, (x, -4, 4), (y, -2, 2), size=(5.5,3))"
      ]
    },
    {
      "cell_type": "markdown",
      "metadata": {
        "id": "tpZ7h3t36GNf"
      },
      "source": [
        "* Looks like an ellipse .. ? or maybe a circle?\n",
        "* We need to work it out formally ..\n",
        "\n",
        "$\\displaystyle\n",
        "\\begin{array}{l}\n",
        "|z-1|^2 = 4 |z+1|^2\n",
        "\\\\\n",
        "|z-1| - 2 |z+1| = 0\n",
        "\\\\\n",
        "(x-1)^2 + y^2 = 4 [(x+1)^2 + y^2]\n",
        "\\\\\n",
        "x^2 - 2x + 1 + y^2 = 4x^2 + 8x + 4 + 4y^2\n",
        "\\\\\n",
        "3x^2 + 10x + 3y^2 + 5 = 0\n",
        "\\end{array}\n",
        "$\n",
        "\n",
        "We need to check if $3x^2 + 10x + 3y^2 + 5 = 0$ can be converted to a canonical ellipse equation?\n",
        "\n",
        "It is recommended to try do it yourself before reading **ChatGPT** workout ...\n",
        "\n",
        "### ChatGPT Query\n",
        "The equation $3x^2 + 10x + 3y^2 + 5 = 0$ is supposed to be of an ellipse.\n",
        "Can you please bring it to a canonical form?\n",
        "\n",
        "### ChatGPT Reply (with minor fixes)\n",
        "Yes, the equation can be brought to a canonical form by completing the square for both the quadratic in x and the quadratic in y.\n",
        "\n",
        "First, complete the square for the quadratic in x:\n",
        "\n",
        "$\n",
        "3x^2 + 10x = 3(x^2 + \\frac{10}{3}x)\n",
        "=\n",
        "3(x^2 + \\frac{10}{3}x + \\frac{25}{9}) - \\frac{25}{3}\n",
        "=\n",
        "3(x + \\frac{5}{3})^2 - \\frac{25}{3}\n",
        "$\n",
        "\n",
        "Putting it all together:\n",
        "\n",
        "$\n",
        "3x^2 + 10x + 3y^2 + 5\n",
        "=\n",
        "3(x + \\frac{5}{3})^2 - \\frac{25}{3}\n",
        "+\n",
        "3y^2 + 5\n",
        "=\n",
        "0\n",
        "$\n",
        "\n",
        "$\n",
        "\\Rightarrow\\quad\n",
        "3(x + \\frac{5}{3})^2\n",
        "+ 3y^2\n",
        "=\n",
        "\\frac{25}{3} - 5\n",
        "=\n",
        "\\frac{10}{3}\n",
        "$\n",
        "\n",
        "$\n",
        "\\Rightarrow\\quad\n",
        "(x + \\frac{5}{3})^2\n",
        "+\n",
        "y^2\n",
        "=\n",
        "\\frac{10}{3}\n",
        "$\n",
        "\n",
        "The equation is now in the form of a standard canonical equation for an ellipse.\n",
        "\n",
        "In fact this is a circle! Center: $(\\frac{5}{3},0)$, Radius: $r=\\sqrt{\\frac{10}{3}}$.\n",
        "\n",
        "\n"
      ]
    },
    {
      "cell_type": "markdown",
      "metadata": {
        "id": "KodyKuw26GNg"
      },
      "source": [
        "# Exercise 2.2.2\n",
        "Geometry sketch of\n",
        "\n",
        "$|z^2-1| = 1$"
      ]
    },
    {
      "cell_type": "markdown",
      "metadata": {
        "id": "hiMGhJy96GNg"
      },
      "source": [
        "### Solution\n",
        "* Try to get a hint by plotting the curve first ..."
      ]
    },
    {
      "cell_type": "code",
      "execution_count": 13,
      "metadata": {
        "colab": {
          "base_uri": "https://localhost:8080/",
          "height": 153
        },
        "outputId": "b4386920-9c57-47d2-af61-513215237353",
        "id": "X7f9KtU_6GNg"
      },
      "outputs": [
        {
          "output_type": "display_data",
          "data": {
            "text/plain": [
              "<Figure size 324x144 with 1 Axes>"
            ],
            "image/png": "[encoded data removed]"
          },
          "metadata": {
            "needs_background": "light"
          }
        }
      ],
      "source": [
        "x, y = symbols('x y', real=True)\n",
        "#z = x + I*y\n",
        "z = x**2 - y**2 - 1 + 2*x*y*I\n",
        "eq = Eq(abs(z), 1) \n",
        "p = plot_implicit(eq, (x, -2.2, 2.2), (y, -0.8, 0.8), size=(4.5,2))"
      ]
    },
    {
      "cell_type": "markdown",
      "metadata": {
        "id": "YclQxbuB6GNg"
      },
      "source": [
        "* This looks like a [lemniscate](https://en.wikipedia.org/wiki/Lemniscate).\n",
        "* Better known in its parametric polar form $r^2 = a^2 cos 2\\theta$\n",
        "\n",
        "If we plug $z=re^{i\\theta}$ in $|z^2 - 1| = 1$\n",
        "we get $2r^2\\cos(2\\theta)=r^4$,\n",
        "which is reduced to the lemniscate $r^2 = 2 cos 2\\theta$."
      ]
    },
    {
      "cell_type": "markdown",
      "metadata": {
        "id": "HRRi7LqI6GNh"
      },
      "source": [
        "# Exercise 2.2.3\n",
        "Geometry sketch of\n",
        "\n",
        "$\\displaystyle \\arg{\\frac{z-1}{z+i}} = \\frac{\\pi}{3}$"
      ]
    },
    {
      "cell_type": "markdown",
      "metadata": {
        "id": "yjS0jR6F6GNh"
      },
      "source": [
        "### Solution\n",
        "* We can actually turn this into parametric form\n",
        "\n",
        "$\n",
        "\\renewcommand{\\arraystretch}{2.5}\n",
        "\\begin{array}{l}\n",
        "\\frac{z-1}{z+i} = re^{i\\frac{\\pi}{3}} = r ( \\cos \\frac{\\pi}{3} + i \\sin \\frac{\\pi}{3})\n",
        "\\qquad \\text{($r>0$ is a positive real number)}\n",
        "\\\\\n",
        "\\frac{z-1}{z+i} = r \\left( \\frac{1}{2} + i \\frac{\\sqrt{3}}{2} \\right)\n",
        "\\\\\n",
        "\\text{Let }\n",
        "c = \\frac{1}{2} + i \\frac{\\sqrt{3}}{2}\n",
        "\\\\\n",
        "\\text{Then }\n",
        "\\frac{z-1}{z+i} = cr\n",
        "\\\\\n",
        "z-1 = cr(z+i)\n",
        "\\\\\n",
        "(1 - cr)z = 1 + cri\n",
        "\\\\\n",
        "z = f(r) = \\frac{1 + cri}{1 - cr}\n",
        "=\n",
        "\\frac{1 + ri (\\frac{1}{2} + i \\frac{\\sqrt{3}}{2})}{1 - r (\\frac{1}{2} + i \\frac{\\sqrt{3}}{2})}\n",
        "\\end{array}\n",
        "$\n",
        "\n",
        "* So in fact, the equation turned into a simple parametric form $z=f(r)$!\n",
        "\n",
        "* Try to get a hint by plotting the parametric curve first ...\n",
        "* For some unclear reason Sympy `plot_implicit` does not work in this case ..\n",
        "* So we use the standard matplotlib facilities .."
      ]
    },
    {
      "cell_type": "code",
      "execution_count": 14,
      "metadata": {
        "id": "sbAnjFaC6GNh"
      },
      "outputs": [],
      "source": [
        "r = symbols('r', real=True)\n",
        "c = 1/2 + I*sqrt(3)/2\n",
        "e = (1+c*r*I) / (1 - c*r)\n",
        "f = lambdify(r, e, \"numpy\")   # This turns e into a regular Python function"
      ]
    },
    {
      "cell_type": "code",
      "execution_count": 16,
      "metadata": {
        "colab": {
          "base_uri": "https://localhost:8080/",
          "height": 374
        },
        "id": "AJwfxbWP6GNh",
        "outputId": "37a8643c-5202-461e-f85a-03d9480fb3ef"
      },
      "outputs": [
        {
          "output_type": "display_data",
          "data": {
            "text/plain": [
              "<Figure size 432x432 with 1 Axes>"
            ],
            "image/png": "[encoded data removed]"
          },
          "metadata": {
            "needs_background": "light"
          }
        }
      ],
      "source": [
        "fig = plt.figure(figsize=(6,6))\n",
        "ax = fig.gca()\n",
        "ax.grid('on', linestyle=':')\n",
        "R = linspace(0, 100, num=5000)\n",
        "x = [f(r).real for r in R]\n",
        "y = [f(r).imag for r in R]\n",
        "ax.plot(x, y, color='blue', linewidth=1.0)\n",
        "plt.show()"
      ]
    },
    {
      "cell_type": "markdown",
      "metadata": {
        "outputId": "f31dcb7d-0304-46cb-f21c-015cd61b621d",
        "id": "zPThkz216GNi"
      },
      "source": [
        "* Looks like an arc of a circle that starts the point $z_1=1$ and almost ends\n",
        "  at the point $z_2=-i$ (the point $z=0-i$ is not included!).\n",
        "* We need to prove this claim formally ...\n",
        "* To be continued ...\n"
      ]
    },
    {
      "cell_type": "code",
      "execution_count": 17,
      "metadata": {
        "colab": {
          "base_uri": "https://localhost:8080/",
          "height": 52
        },
        "id": "0whtQx_s6GNi",
        "outputId": "0f4e6b54-4c49-4460-dcf4-73d77f4e60cd"
      },
      "outputs": [
        {
          "output_type": "display_data",
          "data": {
            "text/plain": [
              "(1.0142500871477205-0.3595738281549148j)"
            ]
          },
          "metadata": {}
        },
        {
          "output_type": "execute_result",
          "data": {
            "text/plain": [
              "-2.0943951023931957"
            ]
          },
          "metadata": {},
          "execution_count": 17
        }
      ],
      "source": [
        "#x, y = symbols('x y', real=True)\n",
        "#z = x + I*y\n",
        "z = Symbol(\"z\", complex=True)\n",
        "eq = Eq((z-1)/(z+I), -0.3*c)\n",
        "m=solve(eq, z)\n",
        "w = complex(m[0])\n",
        "display(w)\n",
        "float(arg((w-1)/(w+ 1j)))\n"
      ]
    },
    {
      "cell_type": "code",
      "execution_count": 20,
      "metadata": {
        "colab": {
          "base_uri": "https://localhost:8080/",
          "height": 377
        },
        "id": "9Z4JS9u_6GNi",
        "outputId": "e8cbd360-aef5-40e3-d235-fc7b706be16c"
      },
      "outputs": [
        {
          "output_type": "display_data",
          "data": {
            "text/plain": [
              "<Figure size 432x432 with 1 Axes>"
            ],
            "image/png": "[encoded data removed]"
          },
          "metadata": {
            "needs_background": "light"
          }
        }
      ],
      "source": [
        "#Just testing ... to be continued ...\n",
        "fig = plt.figure(figsize=(6,6))\n",
        "ax = fig.gca()\n",
        "ax.grid('on', linestyle=':')\n",
        "R = linspace(0.0, 8.1, num=20)\n",
        "X = [] ; Y = []\n",
        "for r in R:\n",
        "    eq = Eq((z-1)/(z+I), r*c)\n",
        "    w = solve(eq, z)\n",
        "    #display(w)\n",
        "    w = complex(w[0])\n",
        "    X.append(w.real)\n",
        "    Y.append(w.imag)\n",
        "ax.plot(X, Y, color='blue', linewidth=1.0)\n",
        "plt.show()"
      ]
    },
    {
      "cell_type": "markdown",
      "metadata": {
        "id": "yFB2ohmN6GNj"
      },
      "source": [
        "# Exercise 2.8\n",
        "Prove every finite subset $A \\subseteq\\mathbb{C}$ is closed."
      ]
    },
    {
      "cell_type": "markdown",
      "metadata": {
        "id": "KbZCfRWP6GNj"
      },
      "source": [
        "### Solution\n",
        "$A = \\{z_1,z_2,\\ldots,z_n\\}.\n",
        "Clearly, every singleton $\\{z_k\\}$ is a closed subset of $\\mathbb{C}$."
      ]
    },
    {
      "cell_type": "markdown",
      "metadata": {
        "id": "fZc1yXWQ6GNj"
      },
      "source": [
        "# Exercise 2.9\n",
        "Prove: if $S\\subseteq\\mathbb{C}$ is open and closed then $S=\\emptyset$ or $S=\\mathbb{C}$."
      ]
    },
    {
      "cell_type": "markdown",
      "metadata": {
        "id": "8PZqkDE66GNj"
      },
      "source": [
        "### Solution\n",
        "If not, then $(S,\\mathbb{C}-S)$ is an open partition of $\\mathbb{C}$.\n",
        "In contradiction to the fact that $\\mathbb{C}$ is a topologically connected space."
      ]
    },
    {
      "cell_type": "markdown",
      "metadata": {
        "id": "Kt5s9kIV6GNj"
      },
      "source": [
        "# Exercise 2.11.1\n",
        "Construct an example of a set $D\\subseteq\\mathbb{C}$\n",
        "\n",
        "$D$ is simply connected but $\\overline{D}$ is not simply-connected."
      ]
    },
    {
      "cell_type": "markdown",
      "metadata": {
        "id": "g2FNwjoa6GNk"
      },
      "source": [
        "### Solution\n",
        "$D$ is simply connected but $\\overline{D}$ is not simply-connected.\n",
        "\n",
        "<img src=\"https://samyzaf.com/technion/cfit/sol/fig2_11_1.jpg\" alt=\"figure for 2.11.1\" width=\"50%\"/>\n",
        "\n",
        "<img src=\"https://samyzaf.com/technion/cfit/sol/fig2_11_1b.jpg\" alt=\"figure for 2.11.1b\" width=\"50%\"/>\n",
        "\n",
        "\n"
      ]
    },
    {
      "cell_type": "markdown",
      "metadata": {
        "id": "mjD_j8e-6GNk"
      },
      "source": [
        "# Exercise 2.11.2\n",
        "Construct an example of a set $D\\subseteq\\mathbb{C}$\n",
        "\n",
        "$D$ is not simply-connected but $\\overline{D}$ is simply-connected."
      ]
    },
    {
      "cell_type": "markdown",
      "metadata": {
        "jp-MarkdownHeadingCollapsed": true,
        "tags": [],
        "id": "2oJ2-7-j6GNk"
      },
      "source": [
        "### Solution\n",
        "\n",
        "<img src=\"https://samyzaf.com/technion/cfit/sol/fig2_11_2.jpg\" alt=\"figure for 2.11.1\" width=\"90%\"/>\n"
      ]
    },
    {
      "cell_type": "markdown",
      "metadata": {
        "id": "QWkhuzP76GNk"
      },
      "source": [
        "# Exercise 2.11.3\n",
        "Construct an example of a set $D\\subseteq\\mathbb{C}$\n",
        "\n",
        "$D$ is simply-connected but $\\mathrm{Interior}(D)$ is not connected."
      ]
    },
    {
      "cell_type": "markdown",
      "metadata": {
        "id": "8fbH2S1R6GNk"
      },
      "source": [
        "### Solution\n",
        "\n",
        "<img src=\"https://samyzaf.com/technion/cfit/sol/fig2_11_3.jpg\" alt=\"figure for 2.11.1\" width=\"90%\"/>\n"
      ]
    },
    {
      "cell_type": "markdown",
      "metadata": {
        "id": "b3arAb2B6GNk"
      },
      "source": [
        "# Exercise 2.11.4\n",
        "Construct an example of a set $D\\subseteq\\mathbb{C}$\n",
        "\n",
        "$D$ is bounded and simply-connected but its boundary is not a Jordan curve."
      ]
    },
    {
      "cell_type": "markdown",
      "metadata": {
        "id": "NYHURav86GNl"
      },
      "source": [
        "### Solution\n",
        "\n",
        "<img src=\"https://samyzaf.com/technion/cfit/sol/fig2_11_4.jpg\" alt=\"figure for 2.11.4\" width=\"75%\"/>\n"
      ]
    },
    {
      "cell_type": "markdown",
      "metadata": {
        "id": "1g89s1Nc6GNl"
      },
      "source": [
        "# Exercise 2.11.5\n",
        "Construct an example of a set $D\\subseteq\\mathbb{C}$\n",
        "\n",
        "$D$ is open and not connected but $\\overline{D}$ is simply connected.  "
      ]
    },
    {
      "cell_type": "markdown",
      "metadata": {
        "id": "ibheCmUp6GNl"
      },
      "source": [
        "### Solution\n",
        "\n",
        "<img src=\"https://samyzaf.com/technion/cfit/sol/fig2_11_5.jpg\" alt=\"figure for 2.11.5\" width=\"80%\"/>\n"
      ]
    },
    {
      "cell_type": "markdown",
      "metadata": {
        "id": "Fz13zF2d6GNl"
      },
      "source": [
        "# Exercise 2.20\n",
        "Geometry sketch of\n",
        "\n",
        "$\n",
        "|z-a| - |z+a| = 2c\n",
        "$\n",
        "\n",
        "Where $a$, $b$, are real numbers\n",
        "."
      ]
    },
    {
      "cell_type": "markdown",
      "metadata": {
        "id": "ukqYglDR6GNl"
      },
      "source": [
        "![Solution for problem 20](https://samyzaf.com/technion/cfit/sol/fig2_20.jpg)"
      ]
    },
    {
      "cell_type": "markdown",
      "metadata": {
        "id": "tZFLXjov6GNm"
      },
      "source": [
        "# Exercise 2.35\n",
        "Prove that topological connectivity is equivalent to rectilinear connectivity"
      ]
    },
    {
      "cell_type": "markdown",
      "metadata": {
        "id": "kll7TMHU6GNm"
      },
      "source": [
        "### Solution\n",
        "Look at\n",
        "[mathoverflow.net link](https://mathoverflow.net/questions/59506/minimum-number-of-polygonal-lines-connecting-points-in-an-annulus\n",
        ")"
      ]
    },
    {
      "cell_type": "markdown",
      "metadata": {
        "id": "pbUnA3ps6GNm"
      },
      "source": [
        "# Exercise 2.39\n",
        "Let $U\\subseteq\\mathbb{C}$ an open subset.\n",
        "prove: there is an increasing sequence of compact sets $K_n$\n",
        "such that $U = \\bigcup_{n=0}^{\\infty} K_n$."
      ]
    },
    {
      "cell_type": "markdown",
      "metadata": {
        "id": "AKYmVvpg6GNm"
      },
      "source": [
        "### Solution\n",
        "For each $n$\n",
        "let $C_n$ be the set of all $\\frac{1}{n}$-internal points of $U$.\n",
        "Define $K_n = \\mathbf{D}_n \\cap C_n$, where $D_n$ is the disc of radius $n$ around the origin."
      ]
    },
    {
      "cell_type": "markdown",
      "metadata": {
        "id": "1wKOErbhqKWU",
        "tags": []
      },
      "source": [
        "# **TO BE CONTINUED ...**\n",
        "* Any student with basic Python programming skill\n",
        "  is welcome to continue and contribute more solutions to exercises\n",
        "  from the [Complex Functions book](\"https://samyzaf.com/technion/cfit/cf.pdf\")\n",
        "* In some cases\n",
        "  [ChatGPT](\"https://chat.openai.com/chat\")\n",
        "  can solve standard problems if you phrase the\n",
        "  question with many clues.\n",
        "  Beware that in many cases it gives wrong statements!\n",
        "\n",
        "* Solutions can also be found in web sites such as Math\n",
        "  [stackexchange](\"https://stackexchange.com/\")\n",
        "  or [Mathoverflow](\"https://mathoverflow.net/\").\n",
        "\n",
        "* Send your solutions notebook to sz@samyzaf.com.\n",
        "* They will be checked and added to this notebook.\n",
        "* Thanks!!!"
      ]
    }
  ],
  "metadata": {
    "colab": {
      "provenance": [],
      "include_colab_link": true
    },
    "kernelspec": {
      "display_name": "Python 3 (ipykernel)",
      "language": "python",
      "name": "python3"
    },
    "language_info": {
      "codemirror_mode": {
        "name": "ipython",
        "version": 3
      },
      "file_extension": ".py",
      "mimetype": "text/x-python",
      "name": "python",
      "nbconvert_exporter": "python",
      "pygments_lexer": "ipython3",
      "version": "3.7.16"
    }
  },
  "nbformat": 4,
  "nbformat_minor": 0
}