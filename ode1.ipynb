{
  "cells": [
    {
      "cell_type": "markdown",
      "metadata": {
        "id": "view-in-github",
        "colab_type": "text"
      },
      "source": [
        "<a href=\"https://colab.research.google.com/github/samyzaf/notebooks/blob/main/ode1.ipynb\" target=\"_parent\"><img src=\"https://colab.research.google.com/assets/colab-badge.svg\" alt=\"Open In Colab\"/></a>"
      ]
    },
    {
      "cell_type": "markdown",
      "source": [
        "# Ordinary Differential Equations\n",
        "# Chapter 2: Solutions to exercises\n",
        "\n",
        "<a href=\"https://samyzaf.com/technion/ode/ode.pdf\">\n",
        "<img src=\"https://samyzaf.com/technion/ode/ode2.jpg\" alt=\"ode book cover\"/>\n",
        "</a>\n",
        "\n",
        "* This is an initial attempt to supply code solutions\n",
        "  to my\n",
        "  [Ordinary Differential Equations book](\n",
        "    https://samyzaf.com/technion/ode/ode.pdf\n",
        "  )\n",
        "* We used Python **Sympy** package for obtaining the final\n",
        "  result for most of the exercises.\n",
        "* This package is still under development, and is not yet\n",
        "  ready to cope withh all ode's.\n",
        "* The new site https://mathdf.com seems to be a great source\n",
        "  for obtaining full step-by-step solutions.\n",
        "* This note book can be edited and executed by clicking\n",
        "  the **open in colab** button."
      ],
      "metadata": {
        "id": "zo0mZHrOCICt"
      }
    },
    {
      "cell_type": "code",
      "execution_count": null,
      "metadata": {
        "id": "QO4VgM1r1vEy"
      },
      "outputs": [],
      "source": [
        "from sympy import *\n",
        "from sympy.solvers.ode import checkodesol\n",
        "#from numpy import e"
      ]
    },
    {
      "cell_type": "markdown",
      "metadata": {
        "id": "bkcQw2Bg4NQ2"
      },
      "source": [
        "# Example 1\n",
        "Solve: $T''(t) +\\frac{g}{L} T(t) = 0$"
      ]
    },
    {
      "cell_type": "code",
      "execution_count": null,
      "metadata": {
        "id": "E-UnFRKU17gr",
        "colab": {
          "base_uri": "https://localhost:8080/",
          "height": 58
        },
        "outputId": "c2dcd64b-8f89-4a0c-e580-e3e9386d09fb"
      },
      "outputs": [
        {
          "output_type": "execute_result",
          "data": {
            "text/plain": [
              "Eq(T(t), C1*sin(sqrt(g)*t/sqrt(L)) + C2*cos(sqrt(g)*t/sqrt(L)))"
            ],
            "text/latex": "$\\displaystyle T{\\left(t \\right)} = C_{1} \\sin{\\left(\\frac{\\sqrt{g} t}{\\sqrt{L}} \\right)} + C_{2} \\cos{\\left(\\frac{\\sqrt{g} t}{\\sqrt{L}} \\right)}$"
          },
          "metadata": {},
          "execution_count": 2
        }
      ],
      "source": [
        "t, g, L = symbols(\"t g L\", real=True, positive=True)\n",
        "T = symbols(\"T\", cls=Function)\n",
        "de = Eq(T(t).diff(t,t) + g/L * T(t), 0)\n",
        "dsolve(de, T(t))"
      ]
    },
    {
      "cell_type": "markdown",
      "metadata": {
        "id": "mrMWTquT4NQ_"
      },
      "source": [
        "# Example 2\n",
        "Solve: $y''(t) + ky'(t) = mg$"
      ]
    },
    {
      "cell_type": "code",
      "execution_count": null,
      "metadata": {
        "colab": {
          "base_uri": "https://localhost:8080/",
          "height": 51
        },
        "id": "RCgdvCB01_Tp",
        "outputId": "cb4ab8e4-2cfe-4f7b-c1e2-e2ea881045e9"
      },
      "outputs": [
        {
          "output_type": "execute_result",
          "data": {
            "text/plain": [
              "Eq(y(t), C1 + C2*exp(-k*t/m) + g*m*t/k)"
            ],
            "text/latex": "$\\displaystyle y{\\left(t \\right)} = C_{1} + C_{2} e^{- \\frac{k t}{m}} + \\frac{g m t}{k}$"
          },
          "metadata": {},
          "execution_count": 3
        }
      ],
      "source": [
        "t, m, g, k = symbols(\"t m g k\", real=True, positive=True)\n",
        "y = symbols(\"y\", cls=Function)\n",
        "de = Eq(m*y(t).diff(t,t) + k*y(t).diff(t), m*g)\n",
        "dsolve(de, y(t))"
      ]
    },
    {
      "cell_type": "markdown",
      "metadata": {
        "id": "YoIKr1sI4NRE"
      },
      "source": [
        "# Exercise 2.4\n",
        "\n",
        "$y' - y \\cot(x) = \\cot(x)$"
      ]
    },
    {
      "cell_type": "code",
      "execution_count": null,
      "metadata": {
        "id": "NZnh7uRSHpf3",
        "colab": {
          "base_uri": "https://localhost:8080/",
          "height": 39
        },
        "outputId": "1e55e1ce-6439-4482-9a19-a88bd1a25003"
      },
      "outputs": [
        {
          "output_type": "execute_result",
          "data": {
            "text/plain": [
              "Eq(y(x), C1*sin(x) - 1)"
            ],
            "text/latex": "$\\displaystyle y{\\left(x \\right)} = C_{1} \\sin{\\left(x \\right)} - 1$"
          },
          "metadata": {},
          "execution_count": 4
        }
      ],
      "source": [
        "x = symbols(\"x\", real=True)\n",
        "y = symbols(\"y\", cls=Function)\n",
        "de = Eq(y(x).diff(x) - y(x) * cot(x) , cot(x))\n",
        "dsolve(de, y(x))"
      ]
    },
    {
      "cell_type": "markdown",
      "metadata": {
        "id": "tHHu_SlT4NRI"
      },
      "source": [
        "## Verification"
      ]
    },
    {
      "cell_type": "code",
      "execution_count": null,
      "metadata": {
        "colab": {
          "base_uri": "https://localhost:8080/",
          "height": 55
        },
        "id": "-mQjeKGM4NRK",
        "outputId": "5481fd85-c4f8-4e28-84f5-92bad61681cd"
      },
      "outputs": [
        {
          "output_type": "execute_result",
          "data": {
            "text/plain": [
              "1/tan(x)"
            ],
            "text/latex": "$\\displaystyle \\frac{1}{\\tan{\\left(x \\right)}}$"
          },
          "metadata": {},
          "execution_count": 5
        }
      ],
      "source": [
        "y = symbols(\"y\", cls=Function)\n",
        "C1 = symbols(\"C1\", real=True)\n",
        "𝑦 = C1 * sin(x) - 1\n",
        "simplify(y.diff(x) - y * cot(x))"
      ]
    },
    {
      "cell_type": "markdown",
      "metadata": {
        "id": "ZyFYRsm34NRO"
      },
      "source": [
        "# Exercise 2.5\n",
        "\n",
        "$x^2y' - 2xy = 3$"
      ]
    },
    {
      "cell_type": "code",
      "execution_count": null,
      "metadata": {
        "colab": {
          "base_uri": "https://localhost:8080/",
          "height": 51
        },
        "id": "pta_vjpo4NRQ",
        "outputId": "a75624be-9d0a-471d-c592-ef3b428bebfb"
      },
      "outputs": [
        {
          "output_type": "execute_result",
          "data": {
            "text/plain": [
              "Eq(y(x), C1*x**2 - 1/x)"
            ],
            "text/latex": "$\\displaystyle y{\\left(x \\right)} = C_{1} x^{2} - \\frac{1}{x}$"
          },
          "metadata": {},
          "execution_count": 6
        }
      ],
      "source": [
        "x = symbols(\"x\", real=True)\n",
        "y = symbols(\"y\", cls=Function)\n",
        "de = Eq(x**2 * y(x).diff(x) - 2 * x * y(x) , 3)\n",
        "dsolve(de, y(x))"
      ]
    },
    {
      "cell_type": "markdown",
      "metadata": {
        "id": "poUTpkjx4NRR"
      },
      "source": [
        "# Exercise 2.6\n",
        "\n",
        "$xy' - xy = (1+x^2)e^x$"
      ]
    },
    {
      "cell_type": "code",
      "execution_count": null,
      "metadata": {
        "colab": {
          "base_uri": "https://localhost:8080/",
          "height": 58
        },
        "id": "lVU3PItM4NRT",
        "outputId": "a3c93742-3d83-4658-bb22-79c3e1e49be9"
      },
      "outputs": [
        {
          "output_type": "execute_result",
          "data": {
            "text/plain": [
              "Eq(y(x), (C1 + x**2/2 + log(x))*exp(x))"
            ],
            "text/latex": "$\\displaystyle y{\\left(x \\right)} = \\left(C_{1} + \\frac{x^{2}}{2} + \\log{\\left(x \\right)}\\right) e^{x}$"
          },
          "metadata": {},
          "execution_count": 7
        }
      ],
      "source": [
        "x = symbols(\"x\", real=True)\n",
        "y = symbols(\"y\", cls=Function)\n",
        "de = Eq(x * y(x).diff(x) - x * y(x) , (1 + x**2) * exp(x))\n",
        "dsolve(de, y(x))"
      ]
    },
    {
      "cell_type": "markdown",
      "metadata": {
        "id": "nESqAJ_O4NRU"
      },
      "source": [
        "# Exercise 2.7\n",
        "\n",
        "$(1+x^2)y' - 2xy = (1+x^2)^2$"
      ]
    },
    {
      "cell_type": "code",
      "execution_count": null,
      "metadata": {
        "colab": {
          "base_uri": "https://localhost:8080/",
          "height": 39
        },
        "id": "q0_RWXtb4NRV",
        "outputId": "6aacf03b-7e16-463c-9a18-b5c02039a124"
      },
      "outputs": [
        {
          "output_type": "execute_result",
          "data": {
            "text/plain": [
              "Eq(y(x), C1*x**2 + C1 + x**3 + x)"
            ],
            "text/latex": "$\\displaystyle y{\\left(x \\right)} = C_{1} x^{2} + C_{1} + x^{3} + x$"
          },
          "metadata": {},
          "execution_count": 8
        }
      ],
      "source": [
        "x = symbols(\"x\", real=True)\n",
        "y = symbols(\"y\", cls=Function)\n",
        "de = Eq((1 + x**2) * y(x).diff(x) - 2 * x * y(x) , (1 + x**2) ** 2)\n",
        "dsolve(de, y(x))"
      ]
    },
    {
      "cell_type": "markdown",
      "metadata": {
        "id": "XsmZ4uTU4NRW"
      },
      "source": [
        "# Exercise 2.8\n",
        "\n",
        "$xy' - ny = e^x x^{n+1}$"
      ]
    },
    {
      "cell_type": "code",
      "execution_count": null,
      "metadata": {
        "colab": {
          "base_uri": "https://localhost:8080/",
          "height": 47
        },
        "id": "aAmznmFK4NRX",
        "outputId": "f7f97d9f-6b3d-4374-97df-bc4e986ffe15"
      },
      "outputs": [
        {
          "output_type": "execute_result",
          "data": {
            "text/plain": [
              "Eq(y(x), (C1 + x**n*exp(x)*exp(-n*log(x)))*exp(n*log(x)))"
            ],
            "text/latex": "$\\displaystyle y{\\left(x \\right)} = \\left(C_{1} + x^{n} e^{x} e^{- n \\log{\\left(x \\right)}}\\right) e^{n \\log{\\left(x \\right)}}$"
          },
          "metadata": {},
          "execution_count": 9
        }
      ],
      "source": [
        "x, n = symbols(\"x n\", real=True)\n",
        "y = symbols(\"y\", cls=Function)\n",
        "de = Eq(x * y(x).diff(x) - n * y(x) , exp(x) * x**(n+1))\n",
        "dsolve(de, y(x))"
      ]
    },
    {
      "cell_type": "code",
      "execution_count": null,
      "metadata": {
        "colab": {
          "base_uri": "https://localhost:8080/",
          "height": 39
        },
        "id": "US-FwA_t4NRY",
        "outputId": "1819eee7-7dbe-40f4-f96b-3177b9757a33"
      },
      "outputs": [
        {
          "output_type": "execute_result",
          "data": {
            "text/plain": [
              "exp(n*log(x))"
            ],
            "text/latex": "$\\displaystyle e^{n \\log{\\left(x \\right)}}$"
          },
          "metadata": {},
          "execution_count": 10
        }
      ],
      "source": [
        "x = Symbol(\"x\", real=True, positive=True)\n",
        "n = Symbol(\"n\", integer=True, positive=True)\n",
        "powsimp(exp(n * log(x)))"
      ]
    },
    {
      "cell_type": "markdown",
      "metadata": {
        "id": "hjueVl8n4NRZ"
      },
      "source": [
        "# Exercise 2.9\n",
        "\n",
        "$y' - \\frac{y}{\\sin x} = \\frac{\\tan x}{2}$\n",
        "\n",
        "($0<x<\\frac{\\pi}{2}$)\n",
        "\n",
        "**Solution:**\n",
        "<br/>\n",
        "$y=\\dfrac{\\sin\\left(x\\right)\\,\\ln\\left(\\frac{\\sin\\left(x\\right)+1}{\\cos\\left(x\\right)}\\right)+\\left(x+C\\right)\\,\\sin\\left(x\\right)}{2\\,\\cos\\left(x\\right)+2}$\n",
        "\n",
        "[**Link to a step-by-step solution**](\n",
        "https://mathdf.com/dif/#expr=y'-(y)%2F(sin(x))%3D(tan(x))%2F(2)&func=y&arg=x\n",
        ")\n",
        "\n",
        "[Solution 2](https://samyzaf.com/technion/ode/sol/sol2.9.pdf)\n",
        "\n",
        "Sympy fails to give any useful solution:"
      ]
    },
    {
      "cell_type": "code",
      "execution_count": null,
      "metadata": {
        "id": "ToRZvmw84NRZ"
      },
      "outputs": [],
      "source": [
        "x = Symbol(\"x\", real=True, positive=True)\n",
        "y = symbols(\"y\", cls=Function)\n",
        "de = Eq(y(x).diff(x) - y(x) / sin(x) , tan(x) / 2)\n",
        "dsolve(de, y(x))"
      ]
    },
    {
      "cell_type": "markdown",
      "metadata": {
        "id": "ZCi3ZoFI4NRa"
      },
      "source": [
        "# Exercise 2.10\n",
        "\n",
        "$y' + 2xy = 2x^3$\n",
        "\n",
        "[**Link to a step-by-step solution:**](\n",
        "https://mathdf.com/dif/#expr=y'%2B2xy%3D2x%5E3&func=y&arg=x\n",
        ")"
      ]
    },
    {
      "cell_type": "code",
      "execution_count": null,
      "metadata": {
        "colab": {
          "base_uri": "https://localhost:8080/",
          "height": 41
        },
        "id": "LZ9Zy66h4NRb",
        "outputId": "3cf1ff57-2b30-42a8-94bb-7990c0533116"
      },
      "outputs": [
        {
          "output_type": "display_data",
          "data": {
            "text/plain": [
              "Eq(y(x), C1*exp(-x**2) + x**2 - 1)"
            ],
            "text/latex": "$\\displaystyle y{\\left(x \\right)} = C_{1} e^{- x^{2}} + x^{2} - 1$"
          },
          "metadata": {}
        }
      ],
      "source": [
        "x = symbols(\"x\", real=True)\n",
        "y = symbols(\"y\", cls=Function)\n",
        "de = Eq(y(x).diff(x) + 2 * x * y(x) , 2 * x ** 3)\n",
        "Y = dsolve(de, y(x))\n",
        "display(Y)"
      ]
    },
    {
      "cell_type": "markdown",
      "metadata": {
        "id": "dF2BHElW4NRc"
      },
      "source": [
        "## Verification"
      ]
    },
    {
      "cell_type": "code",
      "execution_count": null,
      "metadata": {
        "colab": {
          "base_uri": "https://localhost:8080/"
        },
        "id": "NYbUZmvr4NRc",
        "outputId": "d889e6db-7a33-4b5f-f7df-aecc31a917f9"
      },
      "outputs": [
        {
          "output_type": "stream",
          "name": "stdout",
          "text": [
            "Eq(y(x), C1*exp(-x**2) + x**2 - 1)\n"
          ]
        },
        {
          "output_type": "execute_result",
          "data": {
            "text/plain": [
              "(True, 0)"
            ]
          },
          "metadata": {},
          "execution_count": 14
        }
      ],
      "source": [
        "print(Y)\n",
        "checkodesol(de, Y)"
      ]
    },
    {
      "cell_type": "markdown",
      "metadata": {
        "id": "9PGQ_yxX4NRd"
      },
      "source": [
        "# Exercise 2.11\n",
        "\n",
        "$y' - y\\sin x = \\sin(x) \\cos(x)$\n",
        "\n",
        "[**Link to a step-by-step solution**](\n",
        "https://mathdf.com/dif/#expr=y'-ysin(x)%3Dsin(x)cos(x)&func=y&arg=x\n",
        ")"
      ]
    },
    {
      "cell_type": "code",
      "execution_count": null,
      "metadata": {
        "colab": {
          "base_uri": "https://localhost:8080/",
          "height": 39
        },
        "id": "jEJmLcwk4NRd",
        "outputId": "b852b197-cccf-4843-e31a-99cab7e2c5e8"
      },
      "outputs": [
        {
          "output_type": "display_data",
          "data": {
            "text/plain": [
              "Eq(y(x), C1*exp(-cos(x)) - cos(x) + 1)"
            ],
            "text/latex": "$\\displaystyle y{\\left(x \\right)} = C_{1} e^{- \\cos{\\left(x \\right)}} - \\cos{\\left(x \\right)} + 1$"
          },
          "metadata": {}
        }
      ],
      "source": [
        "x = symbols(\"x\", real=True)\n",
        "y = symbols(\"y\", cls=Function)\n",
        "de = Eq(y(x).diff(x) - y(x) * sin(x) , sin(x) * cos(x))\n",
        "Y = dsolve(de, y(x))\n",
        "display(Y)"
      ]
    },
    {
      "cell_type": "markdown",
      "metadata": {
        "id": "xdFm4Isz4NRe"
      },
      "source": [
        "# Exercise 2.12\n",
        "\n",
        "$xy' - 2y = 2x^4$\n",
        "\n",
        "[**Link to a step-by-step solution:**](\n",
        "https://mathdf.com/dif/#expr=xy'-2y%3D2x%5E4&func=y&arg=x\n",
        ")"
      ]
    },
    {
      "cell_type": "code",
      "execution_count": null,
      "metadata": {
        "colab": {
          "base_uri": "https://localhost:8080/",
          "height": 39
        },
        "id": "RdIBmV9V4NRe",
        "outputId": "7a9ae8ed-b952-474a-c26e-628f979d04d1"
      },
      "outputs": [
        {
          "output_type": "display_data",
          "data": {
            "text/plain": [
              "Eq(y(x), x**2*(C1 + x**2))"
            ],
            "text/latex": "$\\displaystyle y{\\left(x \\right)} = x^{2} \\left(C_{1} + x^{2}\\right)$"
          },
          "metadata": {}
        }
      ],
      "source": [
        "x = symbols(\"x\", real=True)\n",
        "y = symbols(\"y\", cls=Function)\n",
        "de = Eq(x * y(x).diff(x) - 2 * y(x) , 2 * x ** 4)\n",
        "Y = dsolve(de, y(x))\n",
        "display(Y)"
      ]
    },
    {
      "cell_type": "code",
      "execution_count": null,
      "metadata": {
        "colab": {
          "base_uri": "https://localhost:8080/"
        },
        "id": "etlFTqEL4NRf",
        "outputId": "9c4ccfc0-2ffb-4996-eef9-dee1c97f33b8"
      },
      "outputs": [
        {
          "output_type": "execute_result",
          "data": {
            "text/plain": [
              "(True, 0)"
            ]
          },
          "metadata": {},
          "execution_count": 17
        }
      ],
      "source": [
        "checkodesol(de, Y)"
      ]
    },
    {
      "cell_type": "markdown",
      "metadata": {
        "id": "D8DmLbXv4NRf"
      },
      "source": [
        "# Exercise 2.13\n",
        "\n",
        "$(2x+1) y' = 4x + 2y$\n",
        "\n",
        "[**Link to a step-by-step solution:**](\n",
        "https://mathdf.com/dif/#expr=(2x%2B1)y'%3D4x%2B2y&func=y&arg=x\n",
        ")"
      ]
    },
    {
      "cell_type": "code",
      "execution_count": null,
      "metadata": {
        "colab": {
          "base_uri": "https://localhost:8080/",
          "height": 39
        },
        "id": "y9yiADDo4NRg",
        "outputId": "0b636782-afd1-464d-d504-c433cbe0dcc0"
      },
      "outputs": [
        {
          "output_type": "display_data",
          "data": {
            "text/plain": [
              "Eq(y(x), 2*C1*x + C1 + 2*x*log(2*x + 1) + log(2*x + 1) + 1)"
            ],
            "text/latex": "$\\displaystyle y{\\left(x \\right)} = 2 C_{1} x + C_{1} + 2 x \\log{\\left(2 x + 1 \\right)} + \\log{\\left(2 x + 1 \\right)} + 1$"
          },
          "metadata": {}
        }
      ],
      "source": [
        "x = symbols(\"x\", real=True)\n",
        "y = symbols(\"y\", cls=Function)\n",
        "de = Eq((2*x+1) * y(x).diff(x) , 4*x + 2*y(x))\n",
        "Y = dsolve(de, y(x))\n",
        "display(Y)"
      ]
    },
    {
      "cell_type": "code",
      "execution_count": null,
      "metadata": {
        "colab": {
          "base_uri": "https://localhost:8080/"
        },
        "id": "cyCXFnRL4NRg",
        "outputId": "dbcc6bad-fd5e-49ea-9e1f-11fb57236b61"
      },
      "outputs": [
        {
          "output_type": "execute_result",
          "data": {
            "text/plain": [
              "(True, 0)"
            ]
          },
          "metadata": {},
          "execution_count": 19
        }
      ],
      "source": [
        "checkodesol(de, Y)"
      ]
    },
    {
      "cell_type": "markdown",
      "metadata": {
        "id": "qvZ_rgOD4NRh"
      },
      "source": [
        "# Exercise 2.14\n",
        "\n",
        "$y' + y\\tan(x) = \\sec(x)$\n",
        "\n",
        "[**Link to a step-by-step solution:**](\n",
        "https://mathdf.com/dif/#expr=(2x%2B1)y'%3D4x%2B2y&func=y&arg=x\n",
        ")"
      ]
    },
    {
      "cell_type": "code",
      "execution_count": null,
      "metadata": {
        "colab": {
          "base_uri": "https://localhost:8080/",
          "height": 39
        },
        "id": "S6r9SRWr4NRh",
        "outputId": "3d060510-ab41-44dd-83fa-317bb4dc4874"
      },
      "outputs": [
        {
          "output_type": "display_data",
          "data": {
            "text/plain": [
              "Eq(y(x), C1*cos(x) + sin(x))"
            ],
            "text/latex": "$\\displaystyle y{\\left(x \\right)} = C_{1} \\cos{\\left(x \\right)} + \\sin{\\left(x \\right)}$"
          },
          "metadata": {}
        }
      ],
      "source": [
        "x = symbols(\"x\", real=True)\n",
        "y = symbols(\"y\", cls=Function)\n",
        "de = Eq(y(x).diff(x) + y(x) * tan(x), sec(x))\n",
        "Y = dsolve(de, y(x))\n",
        "display(Y)"
      ]
    },
    {
      "cell_type": "code",
      "execution_count": null,
      "metadata": {
        "colab": {
          "base_uri": "https://localhost:8080/"
        },
        "id": "JameTwZy4NRi",
        "outputId": "d3ba9fc6-6b83-4aa9-f73c-a18c0ba7e94b"
      },
      "outputs": [
        {
          "output_type": "execute_result",
          "data": {
            "text/plain": [
              "(True, 0)"
            ]
          },
          "metadata": {},
          "execution_count": 21
        }
      ],
      "source": [
        "checkodesol(de, Y)"
      ]
    },
    {
      "cell_type": "markdown",
      "metadata": {
        "id": "UXV85sGG4NRi"
      },
      "source": [
        "# Exercise 2.15\n",
        "\n",
        "$(xy + e^x)dx - xdy = 0$\n",
        "\n",
        "[**Link to a step-by-step solution:**](\n",
        "https://mathdf.com/dif/#expr=(xy%2Be%5Ex)d(x)-xd(y)%3D0&func=y&arg=x\n",
        ")"
      ]
    },
    {
      "cell_type": "code",
      "execution_count": null,
      "metadata": {
        "colab": {
          "base_uri": "https://localhost:8080/",
          "height": 39
        },
        "id": "c2UUcyrY4NRj",
        "outputId": "91aa6cbe-1008-47f9-d4f2-6bde424ae803"
      },
      "outputs": [
        {
          "output_type": "display_data",
          "data": {
            "text/plain": [
              "Eq(y(x), (C1 + log(x))*exp(x))"
            ],
            "text/latex": "$\\displaystyle y{\\left(x \\right)} = \\left(C_{1} + \\log{\\left(x \\right)}\\right) e^{x}$"
          },
          "metadata": {}
        }
      ],
      "source": [
        "x = symbols(\"x\", real=True)\n",
        "y = symbols(\"y\", cls=Function)\n",
        "de = Eq((x*y(x) + exp(x)) - x * y(x).diff(x) , 0)\n",
        "Y = dsolve(de, y(x))\n",
        "display(Y)"
      ]
    },
    {
      "cell_type": "code",
      "execution_count": null,
      "metadata": {
        "id": "_-P2ic644NRk",
        "outputId": "88e6e12e-3707-440a-f652-552516db000e"
      },
      "outputs": [
        {
          "data": {
            "text/plain": [
              "(True, 0)"
            ]
          },
          "execution_count": 24,
          "metadata": {},
          "output_type": "execute_result"
        }
      ],
      "source": [
        "checkodesol(de, Y)"
      ]
    },
    {
      "cell_type": "markdown",
      "metadata": {
        "id": "Eo9qMHAq4NRk"
      },
      "source": [
        "# Exercise 2.16\n",
        "\n",
        "$x^2y' + xy + 1 =0$\n",
        "\n",
        "[**Link to a step-by-step solution:**](\n",
        "https://mathdf.com/dif/#expr=x%5E2y'%2Bxy%2B1%3D0&func=y&arg=x\n",
        ")"
      ]
    },
    {
      "cell_type": "code",
      "execution_count": null,
      "metadata": {
        "colab": {
          "base_uri": "https://localhost:8080/",
          "height": 53
        },
        "id": "EgAkgU7d4NRl",
        "outputId": "067f943c-d3ad-4339-fd90-97892e0c452b"
      },
      "outputs": [
        {
          "output_type": "display_data",
          "data": {
            "text/plain": [
              "Eq(y(x), (C1 - log(x))/x)"
            ],
            "text/latex": "$\\displaystyle y{\\left(x \\right)} = \\frac{C_{1} - \\log{\\left(x \\right)}}{x}$"
          },
          "metadata": {}
        }
      ],
      "source": [
        "x = symbols(\"x\", real=True)\n",
        "y = symbols(\"y\", cls=Function)\n",
        "de = Eq(x**2 * y(x).diff(x) + x*y(x) + 1 , 0)\n",
        "Y = dsolve(de, y(x))\n",
        "display(Y)"
      ]
    },
    {
      "cell_type": "code",
      "execution_count": null,
      "metadata": {
        "colab": {
          "base_uri": "https://localhost:8080/"
        },
        "id": "45eGoMSH4NRl",
        "outputId": "3f19381c-f173-4c85-f3e8-cd73762dfbc5"
      },
      "outputs": [
        {
          "output_type": "execute_result",
          "data": {
            "text/plain": [
              "(True, 0)"
            ]
          },
          "metadata": {},
          "execution_count": 24
        }
      ],
      "source": [
        "checkodesol(de, Y)"
      ]
    },
    {
      "cell_type": "markdown",
      "metadata": {
        "id": "Blsi6csl4NRl"
      },
      "source": [
        "# Exercise 2.17\n",
        "\n",
        "$y = x(y' - x\\cos(x))$\n",
        "\n",
        "[**Link to a step-by-step solution:**](\n",
        "https://mathdf.com/dif/#expr=y%3Dx(y'-xcos(x))&func=y&arg=x\n",
        ")"
      ]
    },
    {
      "cell_type": "code",
      "execution_count": null,
      "metadata": {
        "colab": {
          "base_uri": "https://localhost:8080/",
          "height": 39
        },
        "id": "wNhBsVio4NRm",
        "outputId": "67b6d813-68e5-416b-8c91-c7d7f5a430c4"
      },
      "outputs": [
        {
          "output_type": "display_data",
          "data": {
            "text/plain": [
              "Eq(y(x), x*(C1 + sin(x)))"
            ],
            "text/latex": "$\\displaystyle y{\\left(x \\right)} = x \\left(C_{1} + \\sin{\\left(x \\right)}\\right)$"
          },
          "metadata": {}
        }
      ],
      "source": [
        "x = symbols(\"x\", real=True)\n",
        "y = symbols(\"y\", cls=Function)\n",
        "de = Eq(y(x) , x * (y(x).diff(x) - x * cos(x)))\n",
        "Y = dsolve(de, y(x))\n",
        "display(Y)"
      ]
    },
    {
      "cell_type": "code",
      "execution_count": null,
      "metadata": {
        "colab": {
          "base_uri": "https://localhost:8080/"
        },
        "id": "6estFWtk4NRm",
        "outputId": "f968b2e2-ddac-4175-dc83-55363bb8eecd"
      },
      "outputs": [
        {
          "output_type": "execute_result",
          "data": {
            "text/plain": [
              "(True, 0)"
            ]
          },
          "metadata": {},
          "execution_count": 26
        }
      ],
      "source": [
        "checkodesol(de, Y)"
      ]
    },
    {
      "cell_type": "markdown",
      "metadata": {
        "id": "J0U_XrMY4NRn"
      },
      "source": [
        "# Exercise 2.18\n",
        "\n",
        "$(2x + y)dy = ydx + 4\\ln y \\,dy$\n",
        "\n",
        "[**Link to a step-by-step solution:**](\n",
        "https://mathdf.com/dif/#expr=(2x%2By)d(y)%3Dyd(x)%2B4ln(y)d(y)&func=y&arg=x\n",
        ")"
      ]
    },
    {
      "cell_type": "code",
      "execution_count": null,
      "metadata": {
        "colab": {
          "base_uri": "https://localhost:8080/",
          "height": 57
        },
        "id": "4JMWJ_oj4NRn",
        "outputId": "0ab1acfd-6b2f-4def-8d5b-d0a566828301"
      },
      "outputs": [
        {
          "output_type": "display_data",
          "data": {
            "text/plain": [
              "Eq((-x - y(x) + 2*log(y(x)) + 1)/y(x)**2, C1)"
            ],
            "text/latex": "$\\displaystyle \\frac{- x - y{\\left(x \\right)} + 2 \\log{\\left(y{\\left(x \\right)} \\right)} + 1}{y^{2}{\\left(x \\right)}} = C_{1}$"
          },
          "metadata": {}
        }
      ],
      "source": [
        "x = symbols(\"x\", real=True)\n",
        "y = symbols(\"y\", cls=Function)\n",
        "de = Eq((2*x + y(x)) * y(x).diff(x) , y(x) + 4 * log(y(x)) * y(x).diff(x))\n",
        "Y = dsolve(de, y(x))\n",
        "display(Y)"
      ]
    },
    {
      "cell_type": "markdown",
      "metadata": {
        "id": "OwpTWS214NRo"
      },
      "source": [
        "* The solution is in an **implicit form**, so the `checkodesol` method is useless here.\n",
        "* Visit the mathdf link for a double check:\n",
        "[step-by-step-solution](https://mathdf.com/dif/#expr=(2x%2By)d(y)%3Dyd(x)%2B4ln(y)d(y)&func=y&arg=x)"
      ]
    },
    {
      "cell_type": "markdown",
      "metadata": {
        "id": "KkftCllO4NRo"
      },
      "source": [
        "# Exercise 2.19\n",
        "\n",
        "$2x(x^2+y)dx = dy$\n",
        "\n",
        "[**Link to a step-by-step solution:**](\n",
        "https://mathdf.com/dif/#expr=2x(x%5E2%2By)d(x)%3Dd(y)&func=y&arg=x\n",
        ")"
      ]
    },
    {
      "cell_type": "code",
      "execution_count": null,
      "metadata": {
        "colab": {
          "base_uri": "https://localhost:8080/",
          "height": 41
        },
        "id": "igERGv8Q4NRo",
        "outputId": "1ec70f4b-c6ff-49f9-921d-7e7bcdf7fdc7"
      },
      "outputs": [
        {
          "output_type": "display_data",
          "data": {
            "text/plain": [
              "Eq(y(x), C1*exp(x**2) - x**2 - 1)"
            ],
            "text/latex": "$\\displaystyle y{\\left(x \\right)} = C_{1} e^{x^{2}} - x^{2} - 1$"
          },
          "metadata": {}
        }
      ],
      "source": [
        "x = symbols(\"x\", real=True)\n",
        "y = symbols(\"y\", cls=Function)\n",
        "de = Eq(2*x*(x**2 + y(x)), y(x).diff(x))\n",
        "Y = dsolve(de, y(x))\n",
        "display(Y)"
      ]
    },
    {
      "cell_type": "code",
      "execution_count": null,
      "metadata": {
        "colab": {
          "base_uri": "https://localhost:8080/"
        },
        "id": "79gnMXmM4NRp",
        "outputId": "b6b918ea-c810-460c-f673-7d239770f071"
      },
      "outputs": [
        {
          "output_type": "execute_result",
          "data": {
            "text/plain": [
              "(True, 0)"
            ]
          },
          "metadata": {},
          "execution_count": 29
        }
      ],
      "source": [
        "checkodesol(de, Y)"
      ]
    },
    {
      "cell_type": "markdown",
      "metadata": {
        "id": "MouqS78O4NRp"
      },
      "source": [
        "# Exercise 2.20\n",
        "\n",
        "$(xy'-1)\\ln x = 2y$\n",
        "\n",
        "[**Link to a step-by-step solution:**](\n",
        "https://mathdf.com/dif/#expr=(xy'-1)ln(x)%3D2y&func=y&arg=x\n",
        ")"
      ]
    },
    {
      "cell_type": "code",
      "execution_count": null,
      "metadata": {
        "colab": {
          "base_uri": "https://localhost:8080/",
          "height": 39
        },
        "id": "QQIlEfhN4NRq",
        "outputId": "f8a2a1e7-462e-4a12-9b61-d056798fb71e"
      },
      "outputs": [
        {
          "output_type": "display_data",
          "data": {
            "text/plain": [
              "Eq(y(x), (C1*log(x) - 1)*log(x))"
            ],
            "text/latex": "$\\displaystyle y{\\left(x \\right)} = \\left(C_{1} \\log{\\left(x \\right)} - 1\\right) \\log{\\left(x \\right)}$"
          },
          "metadata": {}
        }
      ],
      "source": [
        "x = symbols(\"x\", real=True)\n",
        "y = symbols(\"y\", cls=Function)\n",
        "de = Eq((x * y(x).diff(x) - 1) * log(x) , 2 * y(x))\n",
        "Y = dsolve(de, y(x))\n",
        "display(Y)"
      ]
    },
    {
      "cell_type": "code",
      "execution_count": null,
      "metadata": {
        "colab": {
          "base_uri": "https://localhost:8080/"
        },
        "id": "9rYGihlV4NRq",
        "outputId": "f36340df-90dc-4cf4-b031-518b2b5e9a0a"
      },
      "outputs": [
        {
          "output_type": "execute_result",
          "data": {
            "text/plain": [
              "(True, 0)"
            ]
          },
          "metadata": {},
          "execution_count": 31
        }
      ],
      "source": [
        "checkodesol(de, Y)"
      ]
    },
    {
      "cell_type": "markdown",
      "metadata": {
        "id": "H7EgJspS4NRr"
      },
      "source": [
        "# Exercise 2.21\n",
        "\n",
        "$(x+y^2)dy = ydx$\n",
        "\n",
        "Solution:\n",
        "\n",
        "$\\dfrac{x}{y}-y=C,\\;\\,y=0$\n",
        "\n",
        "[**Link to a step-by-step solution:**](\n",
        "https://mathdf.com/dif/#expr=(x%2By%5E2)d(y)%3Dyd(x)&func=y&arg=x\n",
        ")"
      ]
    },
    {
      "cell_type": "code",
      "execution_count": null,
      "metadata": {
        "colab": {
          "base_uri": "https://localhost:8080/",
          "height": 95
        },
        "id": "6z436l9E4NRr",
        "outputId": "7d26b1a1-b388-49a8-f1e3-49ccdc28fd50"
      },
      "outputs": [
        {
          "output_type": "display_data",
          "data": {
            "text/plain": [
              "Eq(y(x), C1/2 - sqrt(C1**2 + 4*x)/2)"
            ],
            "text/latex": "$\\displaystyle y{\\left(x \\right)} = \\frac{C_{1}}{2} - \\frac{\\sqrt{C_{1}^{2} + 4 x}}{2}$"
          },
          "metadata": {}
        },
        {
          "output_type": "display_data",
          "data": {
            "text/plain": [
              "Eq(y(x), C1/2 + sqrt(C1**2 + 4*x)/2)"
            ],
            "text/latex": "$\\displaystyle y{\\left(x \\right)} = \\frac{C_{1}}{2} + \\frac{\\sqrt{C_{1}^{2} + 4 x}}{2}$"
          },
          "metadata": {}
        }
      ],
      "source": [
        "x = symbols(\"x\", real=True)\n",
        "y = symbols(\"y\", cls=Function)\n",
        "de = Eq((x + y(x)**2) * y(x).diff(x) , y(x))\n",
        "Y = dsolve(de, y(x))\n",
        "display(Y[0])\n",
        "display(Y[1])"
      ]
    },
    {
      "cell_type": "code",
      "execution_count": null,
      "metadata": {
        "colab": {
          "base_uri": "https://localhost:8080/"
        },
        "id": "fEh049934NRr",
        "outputId": "8b7e2a6f-4ee5-4522-dbd0-ff9452e37edf"
      },
      "outputs": [
        {
          "output_type": "execute_result",
          "data": {
            "text/plain": [
              "[(True, 0), (True, 0)]"
            ]
          },
          "metadata": {},
          "execution_count": 33
        }
      ],
      "source": [
        "checkodesol(de, Y)"
      ]
    },
    {
      "cell_type": "markdown",
      "metadata": {
        "id": "YZJRlFyr4NRs"
      },
      "source": [
        "* Simpy splits the general solution to two families of solutions"
      ]
    },
    {
      "cell_type": "markdown",
      "metadata": {
        "id": "TOUM3pnJ4NRs"
      },
      "source": [
        "# Exercise 2.22\n",
        "\n",
        "$(2e^y - x)y' = 1$\n",
        "\n",
        "Solution:\n",
        "\n",
        "$x={e}^{y}+\\dfrac{C}{{e}^{y}}$\n",
        "\n",
        "[**Link to a step-by-step solution:**](\n",
        "https://mathdf.com/dif/#expr=(x%2By%5E2)d(y)%3Dyd(x)&func=y&arg=x\n",
        ")"
      ]
    },
    {
      "cell_type": "code",
      "execution_count": null,
      "metadata": {
        "colab": {
          "base_uri": "https://localhost:8080/",
          "height": 54
        },
        "id": "cEsbIfm_4NRt",
        "outputId": "db22bd05-9859-4596-98c0-26e55b98151e"
      },
      "outputs": [
        {
          "output_type": "display_data",
          "data": {
            "text/plain": [
              "Eq(y(x), x*exp(-C1)/2 - x**3*exp(-3*C1)/48 + 3*x**5*exp(-5*C1)/1280 + C1 + O(x**6))"
            ],
            "text/latex": "$\\displaystyle y{\\left(x \\right)} = \\frac{x e^{- C_{1}}}{2} - \\frac{x^{3} e^{- 3 C_{1}}}{48} + \\frac{3 x^{5} e^{- 5 C_{1}}}{1280} + C_{1} + O\\left(x^{6}\\right)$"
          },
          "metadata": {}
        }
      ],
      "source": [
        "x = symbols(\"x\", real=True)\n",
        "y = symbols(\"y\", cls=Function)\n",
        "de = Eq((2 * exp(y(x)) - x) * y(x).diff(x) , 1)\n",
        "Y = dsolve(de, y(x))\n",
        "display(Y)"
      ]
    },
    {
      "cell_type": "markdown",
      "metadata": {
        "id": "u0SWtt9w4NRt"
      },
      "source": [
        "* Sympy failed to give a closed solution and instead resorted to a power series solution.\n",
        "* Let's chech if the solution provided by mathdf is valid:\n",
        "\n",
        "$y' = \\frac{dy}{dx} = 1/x'(y)$\n",
        "\n",
        "Easy to check that:\n",
        "\n",
        "$2e^y - x(y) = x'(y)$"
      ]
    },
    {
      "cell_type": "markdown",
      "metadata": {
        "id": "n4LcxBXt4NRt"
      },
      "source": [
        "# Exercise 2.23\n",
        "\n",
        "$\\left(\\sin^2 y + x\\cot y\\right)y' = 1$\n",
        "\n",
        "Solution:\n",
        "\n",
        "$x=C\\,\\sin\\left(y\\right)-\\cos\\left(y\\right)\\,\\sin\\left(y\\right)$\n",
        "\n",
        "[**Link to a step-by-step solution:**](\n",
        "https://mathdf.com/dif/#expr=(sin%5E2y%2Bxcot(y))y'%3D1&func=y&arg=x\n",
        ")"
      ]
    },
    {
      "cell_type": "code",
      "execution_count": null,
      "metadata": {
        "id": "soK1FPkh4NRu"
      },
      "outputs": [],
      "source": [
        "# This does not work! It hangs forever .. do not try!\n",
        "x = symbols(\"x\", real=True)\n",
        "y = symbols(\"y\", cls=Function)\n",
        "de = Eq((sin(y(x)) ** 2 + x * cot(y(x))) * y(x).diff(x), 1)\n",
        "Y = dsolve(de, y(x))\n",
        "display(Y)"
      ]
    },
    {
      "cell_type": "code",
      "execution_count": null,
      "metadata": {
        "id": "ycj0FQZd4NRu"
      },
      "outputs": [],
      "source": [
        "checkodesol(de, Y)"
      ]
    },
    {
      "cell_type": "markdown",
      "metadata": {
        "id": "3IKrAIik4NRv"
      },
      "source": [
        "# Exercise 2.24\n",
        "\n",
        "$y' = \\dfrac{y}{3x-y^2}$\n",
        "\n",
        "Solution:\n",
        "\n",
        "$x=C\\,{y}^{3}+{y}^{2},\\;\\,y=0$\n",
        "\n",
        "[**Link to a step-by-step solution:**](\n",
        "https://mathdf.com/dif/#expr=y'%3D(y)%2F(3x-y%5E2)&func=y&arg=x\n",
        ")"
      ]
    },
    {
      "cell_type": "code",
      "execution_count": null,
      "metadata": {
        "colab": {
          "base_uri": "https://localhost:8080/",
          "height": 58
        },
        "id": "mEp8g5G34NRv",
        "outputId": "1482e79d-38d3-4caf-839c-725d5282e262"
      },
      "outputs": [
        {
          "output_type": "display_data",
          "data": {
            "text/plain": [
              "Eq(y(x), -143*x**5/C1**9 - 30*x**4/C1**7 - 7*x**3/C1**5 - 2*x**2/C1**3 - x/C1 + C1 + O(x**6))"
            ],
            "text/latex": "$\\displaystyle y{\\left(x \\right)} = - \\frac{143 x^{5}}{C_{1}^{9}} - \\frac{30 x^{4}}{C_{1}^{7}} - \\frac{7 x^{3}}{C_{1}^{5}} - \\frac{2 x^{2}}{C_{1}^{3}} - \\frac{x}{C_{1}} + C_{1} + O\\left(x^{6}\\right)$"
          },
          "metadata": {}
        }
      ],
      "source": [
        "x = symbols(\"x\", real=True)\n",
        "y = symbols(\"y\", cls=Function)\n",
        "de = Eq(y(x).diff(x), y(x) / (3*x - y(x)**2))\n",
        "Y = dsolve(de, y(x))\n",
        "display(Y)"
      ]
    },
    {
      "cell_type": "markdown",
      "source": [
        "* **Simpy** again fails to find a closed solution and instead\n",
        "  gives an approximate power series solution.\n",
        "* The **mathdf** site above gives a closed\n",
        "  [step-by-step-solution](https://mathdf.com/dif/#expr=y'%3D(y)%2F(3x-y%5E2)&func=y&arg=x)."
      ],
      "metadata": {
        "id": "eMBK-uhfAjJ8"
      }
    }
  ],
  "metadata": {
    "colab": {
      "provenance": [],
      "collapsed_sections": [
        "XsmZ4uTU4NRW",
        "hjueVl8n4NRZ",
        "dF2BHElW4NRc",
        "9PGQ_yxX4NRd",
        "xdFm4Isz4NRe",
        "D8DmLbXv4NRf",
        "qvZ_rgOD4NRh",
        "UXV85sGG4NRi",
        "J0U_XrMY4NRn",
        "KkftCllO4NRo",
        "MouqS78O4NRp",
        "H7EgJspS4NRr",
        "TOUM3pnJ4NRs",
        "n4LcxBXt4NRt",
        "3IKrAIik4NRv"
      ],
      "include_colab_link": true
    },
    "kernelspec": {
      "display_name": "Python 3 (ipykernel)",
      "language": "python",
      "name": "python3"
    },
    "language_info": {
      "codemirror_mode": {
        "name": "ipython",
        "version": 3
      },
      "file_extension": ".py",
      "mimetype": "text/x-python",
      "name": "python",
      "nbconvert_exporter": "python",
      "pygments_lexer": "ipython3",
      "version": "3.7.11"
    }
  },
  "nbformat": 4,
  "nbformat_minor": 0
}