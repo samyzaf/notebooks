{
  "cells": [
    {
      "cell_type": "markdown",
      "metadata": {
        "id": "view-in-github",
        "colab_type": "text"
      },
      "source": [
        "<a href=\"https://colab.research.google.com/github/samyzaf/notebooks/blob/main/harmonic_animation.ipynb\" target=\"_parent\"><img src=\"https://colab.research.google.com/assets/colab-badge.svg\" alt=\"Open In Colab\"/></a>"
      ]
    },
    {
      "cell_type": "markdown",
      "id": "6ada2ec4",
      "metadata": {
        "cell_marker": "\"\"\"",
        "id": "6ada2ec4"
      },
      "source": [
        "# **Using Harmonic Functions for Movie Animation**\n",
        "  <small>version: 14.09.25a</small>\n",
        "\n",
        "* **Harmonic Functions** is a classic mathematical topic\n",
        "  which college and university students encounter\n",
        "  in Multivariable Calculus and Complex Functions courses.\n",
        "* However, it is usually covered without mentioning its\n",
        "  geometric and practical applications, which is\n",
        "  unfortunate.\n",
        "\n",
        "* Recently, the movie animation company\n",
        "  [**Pixar**](https://www.pixar.com)\n",
        "  developed new computerized animation techniques that\n",
        "  are based on harmonic functions,\n",
        "  which immediately caught our attention.\n",
        "* After reading the main academic papers,\n",
        "  we realized that the highly complex 3D algorithms\n",
        "  that are involved in this tecnology are too complex for\n",
        "  an introductory math course,\n",
        "  so we looked for a 2D version.\n",
        "\n",
        "* After a thorough search, we could not find\n",
        "  any equivalent 2D software and\n",
        "  therefore attempted to develop it ourselves.\n",
        "  To save time and effort we decided to use\n",
        "  a convenient Python/Numpy framework for developing a decent\n",
        "  Python package\n",
        "  [cfclon](https://samyzaf.com/cfclon.zip) for our academic course.\n",
        "\n",
        "* The main aim of this notebook is to introduce this\n",
        "  package to the students, to help them confront\n",
        "  their final project in their **Comple Functions** course,\n",
        "  which involves a programming challenge in addition\n",
        "  to the theoretical problems.\n",
        "\n",
        "* This is also an introductory overview for the more\n",
        "  general topic of caged-based animation using\n",
        "  cage coordinate systems.\n",
        "\n",
        "## **20 minutes Python Guide**\n",
        "* We will use the\n",
        "  [Python](https://python.org) programming\n",
        "  language for this project.\n",
        "  \n",
        "* This is a very easy language to learn!\n",
        "\n",
        "* Please invest 20 minutes in one or more of the following tutorials.\n",
        "\n",
        "* [**TUTORIAL 1**](https://colab.research.google.com/github/data-psl/lectures2020/blob/master/notebooks/01_python_basics.ipynb#scrollTo=3EKvP6jiMZ9H)\n",
        "\n",
        "* [**TUTORIAL 2**](https://colab.research.google.com/github/jckantor/CBE30338/blob/master/docs/01.02-Python-Basics.ipynb#scrollTo=ZxIVKlSbTMj8)\n",
        "\n",
        "* [**TUTORIAL 3**](https://colab.research.google.com/github/samyzaf/notebooks/blob/main/python_tutorial.ipynb)\n",
        "\n",
        "* [**TUTORIAL 4**](https://colab.research.google.com/github/cs231n/cs231n.github.io/blob/master/python-colab.ipynb)\n",
        "\n",
        "## **20 Minutes Google Colab Notebook Guide**\n",
        "\n",
        "* Students that are new to **Jupyter Notebooks**\n",
        "  (or **Google Colab Notebook**) are encouraged to\n",
        "  invest 20 minutes in one of the following\n",
        "  tutorials on this topic.\n",
        "\n",
        "1. [**Complete Beginner's Tutorial to Google Colab**](https://www.youtube.com/watch?v=JJYZ3OE_lGo)  \n",
        "2. [**Google Colab Tutorial for Beginners**](https://www.youtube.com/watch?v=iMlMfrXJYSg)\n",
        "3. [**Official Google Colaboratory Tutorial**](\n",
        "    https://colab.research.google.com)\n",
        "\n",
        "## **Cleanup and Restart**\n",
        "* It is very easy and common to get into troubles\n",
        "  when you execute code.\n",
        "\n",
        "* General advise: whenever you're in trouble, restart your\n",
        "  notebook from the **Runtime menu button**:\n",
        "  *Disconnect and delete runtime*  \n",
        "\n",
        "  <IMG src=\"https://samyzaf.com/cfproj/colab1.jpg\" width=500 align=\"center\"/>\n",
        "\n",
        "* It is also recommended to clear all outputs\n",
        "  (bottom of the **Edit** menu).\n",
        "\n",
        "* After restart, make sure to run all code cells\n",
        "  **sequentially**. Running code cells in the wrong order can\n",
        "  result in a corrupt notebook and then you must restart\n",
        "  the notebook as described above.\n",
        "\n",
        "## **Installing and Importing the cfclon package**\n",
        "* Run the following cell to install and activate\n",
        "  the **cfclon** package.\n",
        "\n",
        "* Make sure not to miss to hit the play button of every\n",
        "  code cell in linear order.\n",
        "\n",
        "* If you get into trouble, just restart and clear outputs as\n",
        "  described above."
      ]
    },
    {
      "cell_type": "code",
      "execution_count": null,
      "id": "ae6930fb",
      "metadata": {
        "id": "ae6930fb"
      },
      "outputs": [],
      "source": [
        "%pip install -q -r https://samyzaf.com/hfa.pkg   # Install the cfclon package on your Google virtual machine\n",
        "from cfclon import *                             # Import cfclon commands to this notebook\n",
        "plt.rcParams['figure.dpi'] = 100                 # dpi = dots per inch resolution"
      ]
    },
    {
      "cell_type": "markdown",
      "id": "905a05c8",
      "metadata": {
        "cell_marker": "\"\"\"",
        "id": "905a05c8"
      },
      "source": [
        "## **Overview**\n",
        "* Animation characters such as\n",
        "  **Pixar Animation Studio**\n",
        "  [Ratatouille](https://www.imdb.com/title/tt0382932/)\n",
        "  or\n",
        "  [Remy](https://www.youtube.com/watch?v=3YG4h5GbTqU)\n",
        "  are modeled by 3D geometric mesh grid data structures,\n",
        "  that usually consists of 5000 to 9000 vertices together\n",
        "  with ten thousands triangles or quadrilateral shape\n",
        "  which connects these vertices.\n",
        "  <IMG src=\"https://samyzaf.com/cfproj/group2a.jpg\" width=700 align=\"center\"/>\n",
        "\n",
        "* These are very heavy and complex data structures\n",
        "  which are very hard to control and manipulate.\n",
        "  Animating a 9000 points triangular mesh grid is\n",
        "  a highly challenging mission for most image processing\n",
        "  software systems.\n",
        "\n",
        "* At every move, each individual vertex and triangle\n",
        "  must be addressed individually so that the overall\n",
        "  character move is smooth and natural.\n",
        "\n",
        "* The common method for animating a large mesh grid\n",
        "  character is by enclosing it within a simpler control figure called **cage**\n",
        "  (which usually consists of 100 or 150 control points) that is easier to\n",
        "  manipulate and maneuver (for example by a real person or a robot,\n",
        "  which wears a special suit that contains the cage nodes,\n",
        "  that records the nodes movements).\n",
        "  <IMG src=\"https://samyzaf.com/cfproj/group2b.jpg\" width=700 align=\"center\"/>\n",
        "\n",
        "* To move our character we only need to reposition\n",
        "  the cage vertices to the desired\n",
        "  position and then recalculate the 9000 mesh\n",
        "  points of our character according to some\n",
        "  simple **interpolation** algorithm (aka **\"cloning\"**).\n",
        "\n",
        "* This algorithm must be computationally efficient but must\n",
        "  not cause any undesired distortions to our character.\n",
        "\n",
        "* The action of deforming our character from the\n",
        "  old cage to the new cage is called\n",
        "  **image cloning**.\n",
        "\n",
        "* Due to the high complexity of the 3D case, this course\n",
        "  project is restricted to the 2D case.  \n",
        "\n",
        "  <figure>\n",
        "  <IMG src=\"https://samyzaf.com/cfproj/mean_figs2.png\" width=\"500\" align=\"center\" figcaption=\"test aaa\"/>\n",
        "  <figcaption>\n",
        "  Cloning a cat character using mean value coordinates\n",
        "  </figcaption>\n",
        "  </figure>\n",
        "\n",
        "* The following YouTube video shows how you can\n",
        "  actually create an animation of the cat\n",
        "  by animating the cage and clone the initial image\n",
        "  after each cage move.\n",
        "\n",
        "* The full YouTube address of this video is  \n",
        "  https://www.youtube.com/watch?v=OnGSuGOJzg0"
      ]
    },
    {
      "cell_type": "code",
      "execution_count": null,
      "id": "b88ae3bf",
      "metadata": {
        "id": "b88ae3bf"
      },
      "outputs": [],
      "source": [
        "#@title Animation using Mean Value Coordinates { display-mode: \"form\" }\n",
        "# @markdown This is a 40 seconds video Inspired by David\n",
        "# @markdown Austin's paper\n",
        "# @markdown \"Moving Remy in Harmony: Pixar's Use of Harmonic Functions\"\n",
        "YouTubeVideo(\"OnGSuGOJzg0\", width=640, height=397)"
      ]
    },
    {
      "cell_type": "markdown",
      "id": "ac49a5e9",
      "metadata": {
        "cell_marker": "\"\"\"",
        "id": "ac49a5e9"
      },
      "source": [
        "* The two main methods for accomplishing\n",
        "  this scheme are\n",
        "  1. *Gradient domain techniques*\n",
        "     (such as the *Poisson cloning* method)\n",
        "\n",
        "  2. *Coordinate-based techniques* which use the cage\n",
        "     for defining a coordinate that is used to describe\n",
        "     our animation characters as a function of\n",
        "     the cage vertices.\n",
        "     When the cage moves, our character is recomputed\n",
        "     from the new cage vertices.\n",
        "\n",
        "* The first method is computationally heavy and\n",
        "  thus less and less popular, while the second method\n",
        "  has gained more momentum as it is much faster and\n",
        "  generates more\n",
        "  pleasing deformations to the character.\n",
        "\n",
        "* We will present the three main techniques of the second\n",
        "  method, but most of the effort will fall on\n",
        "  the third technique which deploys Harmonic functions:\n",
        "  1. **Barycentric coordinates**\n",
        "  2. **Mean value coordinates**\n",
        "  3. **Harmonic coordinates**\n",
        "\n",
        "* The following YouTube video contains more details about\n",
        "  this method in the 3D case\n",
        "  * https://www.youtube.com/watch?v=egf4m6zVHUI\n",
        "\n",
        "* You can also play it here if you entered the\n",
        "  **Google Colab** mode.\n",
        "\n",
        "## **Resources**\n",
        "1. https://www.ams.org/publicoutreach/feature-column/fcarc-harmonic\n",
        "2. https://graphics.pixar.com/library/HarmonicCoordinates/paper.pdf\n",
        "3. https://www.cs.jhu.edu/~misha/Fall07/Papers/Joshi07.pdf\n",
        "4. https://www.cs.huji.ac.il/~danix/mvclone/files/mvc-final-opt.pdf\n",
        "5. https://cgvr.cs.uni-bremen.de/teaching/cg_literatur/barycentric_floater.pdf\n",
        "6. https://www.samyzaf.com/technion/cfit/cf.pdf\n",
        "7. https://www.inf.usi.ch/hormann/papers/Hormann.2006.MVC.pdf"
      ]
    },
    {
      "cell_type": "code",
      "execution_count": null,
      "id": "f77a4d11",
      "metadata": {
        "id": "f77a4d11"
      },
      "outputs": [],
      "source": [
        "#@title Harmonic coordinates explained\n",
        "#@markdown This video explains a new deformation technique to pixar animators. the video was taken from a pixar patent site\n",
        "YouTubeVideo(\"egf4m6zVHUI\", width=720, height=480)"
      ]
    },
    {
      "cell_type": "code",
      "execution_count": null,
      "id": "6d797e38",
      "metadata": {
        "id": "6d797e38"
      },
      "outputs": [],
      "source": [
        "#@title Why motion capture is harder than it looks\n",
        "#@markdown This video explains motion capture techniques used in animation industry.\n",
        "YouTubeVideo(\"O0mLfzbmqcg\", width=640, height=360)"
      ]
    },
    {
      "cell_type": "markdown",
      "id": "3e39c3bf",
      "metadata": {
        "cell_marker": "\"\"\"",
        "id": "3e39c3bf"
      },
      "source": [
        "## **Barycentric Coordinates**\n",
        "* The concept of **coordinates** is much broader than what we are\n",
        "  taught in school or college. In general,\n",
        "  **Coordinates** are a sequence (vector) of numbers for\n",
        "  describing the **exact location** of a given\n",
        "  point relative to a geometrical system\n",
        "  (like axes, sphere, cage, etc.) and a method (formula) for mapping the sequence\n",
        "  of points to a point.\n",
        "\n",
        "* The essential requirement: a formula for reconstructing the point\n",
        "  from its coordinates vector.\n",
        "\n",
        "* The simplest and most minimal 2D coordinates **cage based system**\n",
        "  is called **Barycentric coordinates**.\n",
        "\n",
        "* The origin of these coordinates are in\n",
        "  [Ceva Theorem](https://en.wikipedia.org/wiki/Ceva\\%27s_theorem),\n",
        "  which states that for every point $p$ inside\n",
        "  a given triangle $\\Delta$,\n",
        "  there are masses $w_1$, $w_2$, $w_3$, which if\n",
        "  assigned to its vertices, the point $p$\n",
        "  becomes its gravity center (bary-centric).\n",
        "  These weights (masses) $(w_1,w_2,w_3)$ are the\n",
        "  **Barycentric Coordinates** of the point $p$\n",
        "  with respect to the triangle $\\Delta$\n",
        "* In this system only a **triangular cage** is allowed!\n",
        "  Thus it is very limited but has theoretical\n",
        "  importance since it used used as a building block\n",
        "  for more advanced cage systems.\n",
        "* Given a triangular cage  \n",
        "  $\\qquad\n",
        "  C = \\{(x_1,y_1), (x_2,y_2), (x_2,y_3)\\}\n",
        "  $\n",
        "\n",
        "<figure>\n",
        "<IMG src=\"https://samyzaf.com/cfproj/cage1.jpg\" width=\"400\" align=\"center\"/>\n",
        "</figure>\n",
        "\n",
        "* The barycentric coordinates method for this cage\n",
        "  is a linear transformation  \n",
        "\n",
        "  $\\qquad\n",
        "  \\beta(x,y) = (w_1,w_2,w_3)\n",
        "  $  \n",
        "\n",
        "  which assigns to each point\n",
        "  $(x,y)$ in the 2-dimensional plane $\\mathbb{R}^2$\n",
        "  three weights $(w_1,w_2,w_3)$.\n",
        "\n",
        "* Each of the components $w_1$, $w_2$, $w_3$ is obtained\n",
        "  by a corresponding linear function\n",
        "  $\\beta_1(x,y)$, $\\beta_2(x,y)$, $\\beta_3(x,y)$  \n",
        "\n",
        "  $\\qquad\n",
        "  w_1 = \\beta_1(x,y) = a_1 x + b_1 y + c_1\n",
        "  \\\\\n",
        "  \\qquad\n",
        "  w_2 = \\beta_2(x,y) = a_2 x + b_2 y + c_2\n",
        "  \\\\\n",
        "  \\qquad\n",
        "  w_3 = \\beta_3(x,y) = a_3 x + b_3 y + c_3\n",
        "  $  \n",
        "\n",
        "  which in matrix notation is equivalent to  \n",
        "  $\\qquad\n",
        "  \\beta(x, y)\n",
        "  =\n",
        "  \\begin{bmatrix}\n",
        "  w_1 \\\\ w_2 \\\\ w_3\n",
        "  \\end{bmatrix}\n",
        "  =\n",
        "  \\begin{bmatrix}\n",
        "  a_1 & b_1 & c_1 \\\\\n",
        "  a_2 & b_2 & c_2 \\\\\n",
        "  a_3 & b_3 & c_3 \\\\\n",
        "  \\end{bmatrix}\n",
        "  \\begin{bmatrix}\n",
        "  x_1 \\\\ y_1 \\\\ 1\n",
        "  \\end{bmatrix}\n",
        "  $  \n",
        "\n",
        "* The main two requirements from this map are\n",
        "  * Every point $(x,y)$ in the plane is the linear\n",
        "    combination of the cage vertices where\n",
        "    the barycentric coordinates are the coefficients  \n",
        "\n",
        "    $\\qquad\n",
        "    (x,y) = w_1 \\cdot (x_1,y_1) + w_2\\cdot (x_2,y_2) + w_3\\cdot (x_3,y_3)\n",
        "    $  \n",
        "\n",
        "    that is, $(x,y)$ is the **center of gravity** of the 3 masses $w_1$, $w_2$, $w_3$.\n",
        "    \n",
        "\n",
        "  * The three vertices of the cage must satisfy  \n",
        "\n",
        "    $\\qquad\n",
        "    \\beta(x_1,y_1) = (1,0,0)\n",
        "    \\\\\n",
        "    \\beta(x_2,y_2) = (0,1,0)\n",
        "    \\\\\n",
        "    \\beta(x_3,y_3) = (0,0,1)\n",
        "    $\n",
        "\n",
        "## **Exercise**\n",
        "Assuming that our cage is a **non-degenerate triangle**\n",
        "* Prove that there is a unique solution for $\\beta$\n",
        "* Find a solution for $\\beta$ in terms of $x_1$, $y_1$.\n",
        "\n",
        "## **Solution**\n",
        "We need to solve three 3x3 linear systems  \n",
        "\n",
        "$\\qquad\n",
        "\\begin{align}\n",
        "\\beta(x_1, y_1)\n",
        "=\n",
        "\\begin{bmatrix}\n",
        "a_1 & b_1 & c_1 \\\\\n",
        "a_2 & b_2 & c_2 \\\\\n",
        "a_3 & b_3 & c_3 \\\\\n",
        "\\end{bmatrix}\n",
        "\\begin{bmatrix}\n",
        "x_1 \\\\ y_1 \\\\ 1\n",
        "\\end{bmatrix}\n",
        "=\n",
        "\\begin{bmatrix}\n",
        "1 \\\\ 0 \\\\ 0\n",
        "\\end{bmatrix}\n",
        "\\\\[2ex]\n",
        "\\qquad\n",
        "\\beta(x_2, y_2)\n",
        "=\n",
        "\\begin{bmatrix}\n",
        "a_1 & b_1 & c_1 \\\\\n",
        "a_2 & b_2 & c_2 \\\\\n",
        "a_3 & b_3 & c_3 \\\\\n",
        "\\end{bmatrix}\n",
        "\\begin{bmatrix}\n",
        "x_2 \\\\ y_2 \\\\ 1\n",
        "\\end{bmatrix}\n",
        "=\n",
        "\\begin{bmatrix}\n",
        "0 \\\\ 1 \\\\ 0\n",
        "\\end{bmatrix}\n",
        "\\\\[2ex]\n",
        "\\qquad\n",
        "\\beta(x_3, y_3)\n",
        "=\n",
        "\\begin{bmatrix}\n",
        "a_1 & b_1 & c_1 \\\\\n",
        "a_2 & b_2 & c_2 \\\\\n",
        "a_3 & b_3 & c_3 \\\\\n",
        "\\end{bmatrix}\n",
        "\\begin{bmatrix}\n",
        "x_3 \\\\ y_3 \\\\ 1\n",
        "\\end{bmatrix}\n",
        "=\n",
        "\\begin{bmatrix}\n",
        "0 \\\\ 0 \\\\ 1\n",
        "\\end{bmatrix}\n",
        "\\end{align}\n",
        "$\n",
        "\n",
        "For programmers it is also useful to note that the above\n",
        "three systems are equivalent to the following matrix\n",
        "equation  \n",
        "\n",
        "$\\qquad\n",
        "\\begin{bmatrix}\n",
        "a_1 & b_1 & c_1 \\\\\n",
        "a_2 & b_2 & c_2 \\\\\n",
        "a_3 & b_3 & c_3 \\\\\n",
        "\\end{bmatrix}\n",
        "\\begin{bmatrix}\n",
        "x_1 & x_2 & x_3 \\\\\n",
        "y_1 & y_2 & y_3 \\\\\n",
        "1 & 1 & 1 \\\\\n",
        "\\end{bmatrix}\n",
        "=\n",
        "\\begin{bmatrix}\n",
        "1 & 0 & 0 \\\\\n",
        "0 & 1 & 0 \\\\\n",
        "0 & 0 & 1 \\\\\n",
        "\\end{bmatrix}\n",
        "$  \n",
        "\n",
        "Thus  \n",
        "\n",
        "$\\qquad\n",
        "\\begin{bmatrix}\n",
        "a_1 & b_1 & c_1 \\\\\n",
        "a_2 & b_2 & c_2 \\\\\n",
        "a_3 & b_3 & c_3 \\\\\n",
        "\\end{bmatrix}\n",
        "=\n",
        "\\begin{bmatrix}\n",
        "x_1 & x_2 & x_3 \\\\\n",
        "y_1 & y_2 & y_3 \\\\\n",
        "1 & 1 & 1 \\\\\n",
        "\\end{bmatrix}\n",
        "^{-1}\n",
        "$\n",
        "\n",
        "Thus  \n",
        "\n",
        "$\\qquad\n",
        "\\beta(x,y)\n",
        "=\n",
        "\\begin{bmatrix}\n",
        "x_1 & x_2 & x_3 \\\\\n",
        "y_1 & y_2 & y_3 \\\\\n",
        "1 & 1 & 1 \\\\\n",
        "\\end{bmatrix}\n",
        "^{-1}\n",
        "\\begin{bmatrix}\n",
        "x \\\\ y \\\\ 1\n",
        "\\end{bmatrix}\n",
        "$\n",
        "\n",
        "* Experienced **Python** programmers can turn\n",
        "  this into a 4 lines method which resolves this problem.\n",
        "\n",
        "* Indeed, this is core of the method we use for\n",
        "  solving the following examples\n",
        "\n",
        "```python\n",
        "    def get_bary_coords_map(cage):\n",
        "        A = [point + (1,) for point in cage]\n",
        "        M = linalg.inv(A).transpose()\n",
        "        map = lambda x,y: np.dot(M,[x,y,1])\n",
        "        return map\n",
        "```\n",
        "\n",
        "* This method returns a function object which is\n",
        "  the barycentric transformation for our cage.\n",
        "\n",
        "* See the examples below.\n",
        "\n",
        "## **Python commands**\n",
        "* Some of the Python methods we use:\n",
        "  * **get_bary_coords_map(cage1)** - obtain the barycentric\n",
        "    coordinates transformation for a given **cage**\n",
        "    (only triangular cage is supported of course)\n",
        "\n",
        "  * **clone(coords, cage)** - Apply the barycentric coords\n",
        "    on a new cage to obtain the new point in a new cage (the\n",
        "    coords were computed in the initial cage)\n",
        "\n",
        "  * **draw_cage** - draw a cage on a 2D canvas\n",
        "\n",
        "  * **draw_poly** - draw a polygon from its vertices\n",
        "\n",
        "  * **draw_oval(x0,y0,a,b)** - draw an ellipse centered\n",
        "    at `(x0,y0)` and axis `a`, `b`.\n",
        "\n",
        "  * **draw_curve(coords_list)** - draw an arbitrary\n",
        "    curve from its point list (the difference from\n",
        "    **draw_poly** is that vertices are not drawn)\n",
        "\n",
        "## **Example**\n",
        "* In our first example we compute the barycentric\n",
        "  coordinates of a single point `p=(x1,y1)=(6,4)`\n",
        "  inside the triangle `[(3,1), (5,6), (9,2)]`\n",
        "\n",
        "* Then we show how to visualize the cage and the point on a\n",
        "  [matplotlib](https://matplotlib.org)\n",
        "  canvas."
      ]
    },
    {
      "cell_type": "code",
      "execution_count": null,
      "id": "644f5c4f",
      "metadata": {
        "id": "644f5c4f"
      },
      "outputs": [],
      "source": [
        "cage1 = [(3,1), (5,6), (9,2)]\n",
        "bary_coords = get_bary_coords_map(cage1)\n",
        "p = x1,y1 = 6,4\n",
        "coords = bary_coords(x1, y1)\n",
        "print(f\"The barycentric coordinates of {(x1,y1)} = {coords}\")"
      ]
    },
    {
      "cell_type": "markdown",
      "id": "67ff604d",
      "metadata": {
        "cell_marker": "\"\"\"",
        "id": "67ff604d"
      },
      "source": [
        "* To validate that these are indeed the correct\n",
        "  Barycentric coordinates of **p** we need to\n",
        "  verify that the dot product  \n",
        "  $\\qquad\n",
        "  (0.14285714285714257, \\ 0.5357142857142857, \\ 0.3214285714285715) \\cdot \\mathbf{cage1}\n",
        "  $  \n",
        "  yields the point $p$  \n",
        "  $\n",
        "  \\qquad\n",
        "  0.14285714285714257 \\cdot (3,1)\n",
        "  + 0.5357142857142857 \\cdot (11,10)\n",
        "  + 0.3214285714285715 \\cdot (9,2)\n",
        "  = (6, 4) = p\n",
        "  $  \n",
        "\n",
        "* In Python, the dot product can be preformed by\n",
        "  the Numpy dot function:"
      ]
    },
    {
      "cell_type": "code",
      "execution_count": null,
      "id": "6525fb93",
      "metadata": {
        "id": "6525fb93"
      },
      "outputs": [],
      "source": [
        "np.dot(coords, cage1)"
      ]
    },
    {
      "cell_type": "markdown",
      "id": "8d27ec24",
      "metadata": {
        "cell_marker": "\"\"\"",
        "id": "8d27ec24"
      },
      "source": [
        "* In our cfclon package, this calculation can also\n",
        "  be done more simply with the clone(coords, cage) command."
      ]
    },
    {
      "cell_type": "code",
      "execution_count": null,
      "id": "3f60d961",
      "metadata": {
        "id": "3f60d961"
      },
      "outputs": [],
      "source": [
        "clone(coords, cage1)"
      ]
    },
    {
      "cell_type": "markdown",
      "id": "b730c09a",
      "metadata": {
        "cell_marker": "\"\"\"",
        "id": "b730c09a"
      },
      "source": [
        "* Lets save this result in a point (x1,y1) and draw it inside the cage."
      ]
    },
    {
      "cell_type": "code",
      "execution_count": null,
      "id": "1cd1eddd",
      "metadata": {
        "id": "1cd1eddd"
      },
      "outputs": [],
      "source": [
        "x1,y1 = clone(coords, cage1)\n",
        "\n",
        "draw_cage(cage1)\n",
        "draw_point(x1, y1, color=\"red\", label=\"(x1,y1)\")\n",
        "show_plot()"
      ]
    },
    {
      "cell_type": "markdown",
      "id": "9521d280",
      "metadata": {
        "cell_marker": "\"\"\"",
        "id": "9521d280"
      },
      "source": [
        "* The advantage of using our **clone** function is that it also\n",
        "  works for a list of coordinates, so we can clone a whole polygon\n",
        "  or any figure.\n",
        "* Next, we modify our cage by replacing the point\n",
        "  `(5,6)` with the new point `(11,10)`.\n",
        "  The new cage is called **cage2**.\n",
        "\n",
        "* To find out what happens to our point `p`\n",
        "  under this transition, we apply the\n",
        "  command **clone(coords, cage2)**"
      ]
    },
    {
      "cell_type": "code",
      "execution_count": null,
      "id": "82760581",
      "metadata": {
        "id": "82760581"
      },
      "outputs": [],
      "source": [
        "cage2 = [(3,1), (11,10), (9,2)]\n",
        "draw_cage(cage2)\n",
        "x2,y2 = clone(coords, cage2)\n",
        "print(f\"Cloned point = ({x2}, {y2})\")\n",
        "draw_point(x2, y2, color=\"red\", label=\"(x2,y2)\")\n",
        "show_plot()"
      ]
    },
    {
      "cell_type": "markdown",
      "id": "3ad575b8",
      "metadata": {
        "cell_marker": "\"\"\"",
        "id": "3ad575b8"
      },
      "source": [
        "* In the next example we draw a circle inside `cage1`\n",
        "  and then see what happens to it when we move to `cage2`.\n",
        "\n",
        "* We use the command **draw_oval(x0, y0, a, b)**\n",
        "  which does three things:\n",
        "  1. Creates a polygonal approximation for the oval (circle/ellipse)\n",
        "     as a curve consisting of 180 points.\n",
        "  2. Draws the oval centered at (x0,y0) with radii a, b.\n",
        "  3. Returns the polygonal curve (180 points) which\n",
        "     approximates the oval to the caller."
      ]
    },
    {
      "cell_type": "code",
      "execution_count": null,
      "id": "6f651e2b",
      "metadata": {
        "id": "6f651e2b"
      },
      "outputs": [],
      "source": [
        "cage1 = [(3,1), (5,6) ,(9,2)]\n",
        "draw_cage(cage1)\n",
        "circle = draw_oval(6,3,1,1)    # circle is a polygon of 180 points\n",
        "show_plot()\n",
        "\n",
        "bary_coords = get_bary_coords_map(cage1)\n",
        "coords_list = bary_coords(circle)"
      ]
    },
    {
      "cell_type": "markdown",
      "id": "d29eed10",
      "metadata": {
        "cell_marker": "\"\"\"",
        "id": "d29eed10"
      },
      "source": [
        "* Now we move the top vertex (5,6)\n",
        "  to a new location (11,10).\n",
        "* Then we calculate the effect of this cage change\n",
        "  on our circle."
      ]
    },
    {
      "cell_type": "code",
      "execution_count": null,
      "id": "deae7520",
      "metadata": {
        "id": "deae7520"
      },
      "outputs": [],
      "source": [
        "cage2 = [(3,1), (11,10), (9,2)]\n",
        "draw_cage(cage2)\n",
        "cloned_set = clone(coords_list, cage2)\n",
        "draw_curve(cloned_set)\n",
        "show_plot()"
      ]
    },
    {
      "cell_type": "markdown",
      "id": "4c56e5ff",
      "metadata": {
        "cell_marker": "\"\"\"",
        "id": "4c56e5ff"
      },
      "source": [
        "* In the next example we draw a man figure inside **cage1**\n",
        "  and then clone it into **cage2**.\n",
        "\n",
        "* This time our\n",
        "  [man figure](https://samyzaf.com/cfproj/man1.svg)\n",
        "  features a polygon with 28 points,\n",
        "  therefore we use a\n",
        "  [Scalable Vector Graphics \\(SVG\\)](https://en.wikipedia.org/wiki/SVG)\n",
        "  file for its graphic representation.\n",
        "\n",
        "* [SVG](https://en.wikipedia.org/wiki/SVG)\n",
        "  is now the standard image format for defining two-dimensional\n",
        "  graphics, which later will also enable\n",
        "  us to create and edit polygons for our\n",
        "  project by using software tool such as\n",
        "  [Inkscape](https://inkscape.org)\n",
        "\n",
        "* You can download the cat and man\n",
        "  svg files from  \n",
        "  https://samyzaf.com/cfproj/files.zip"
      ]
    },
    {
      "cell_type": "code",
      "execution_count": null,
      "id": "675b689e",
      "metadata": {
        "id": "675b689e"
      },
      "outputs": [],
      "source": [
        "link = \"https://samyzaf.com/cfproj/man1.svg\"\n",
        "man = read_polygon(link, tag=\"man\")\n",
        "cage1 = read_polygon(link, tag=\"cage\")\n",
        "print(cage1)"
      ]
    },
    {
      "cell_type": "markdown",
      "id": "e3215851",
      "metadata": {
        "cell_marker": "\"\"\"",
        "id": "e3215851"
      },
      "source": [
        "* To get an impression on how the man character polygon\n",
        "  looks like, lets print its points one by one:"
      ]
    },
    {
      "cell_type": "code",
      "execution_count": null,
      "id": "afdfa295",
      "metadata": {
        "id": "afdfa295"
      },
      "outputs": [],
      "source": [
        "for point in man: print(point)"
      ]
    },
    {
      "cell_type": "markdown",
      "id": "b27820bc",
      "metadata": {
        "cell_marker": "\"\"\"",
        "id": "b27820bc"
      },
      "source": [
        "* We can count the number of points in this polygon by using\n",
        "  Python's **len** command (length of list)."
      ]
    },
    {
      "cell_type": "code",
      "execution_count": null,
      "id": "bf8c02d8",
      "metadata": {
        "id": "bf8c02d8"
      },
      "outputs": [],
      "source": [
        "len(man)"
      ]
    },
    {
      "cell_type": "markdown",
      "id": "195eb2c4",
      "metadata": {
        "cell_marker": "\"\"\"",
        "id": "195eb2c4"
      },
      "source": [
        "* Now we draw the man figure and the cage together."
      ]
    },
    {
      "cell_type": "code",
      "execution_count": null,
      "id": "95ca78a0",
      "metadata": {
        "id": "95ca78a0"
      },
      "outputs": [],
      "source": [
        "draw_cage(cage1)\n",
        "draw_poly(man)\n",
        "show_plot()"
      ]
    },
    {
      "cell_type": "markdown",
      "id": "5640810e",
      "metadata": {
        "cell_marker": "\"\"\"",
        "id": "5640810e"
      },
      "source": [
        "* Now we compute the Barycentric coordinates of\n",
        "  our **man figure** with respect to\n",
        "  our initial cage **cage1**.\n",
        "\n",
        "* Notice that we first need to generate\n",
        "  the Barycentric coordinates transformation,\n",
        "  which we can apply on any set of coordinates."
      ]
    },
    {
      "cell_type": "code",
      "execution_count": null,
      "id": "54f0e053",
      "metadata": {
        "id": "54f0e053"
      },
      "outputs": [],
      "source": [
        "bary_coords_map = get_bary_coords_map(cage1)\n",
        "coords_list = bary_coords_map(man)"
      ]
    },
    {
      "cell_type": "markdown",
      "id": "1b4490f5",
      "metadata": {
        "cell_marker": "\"\"\"",
        "id": "1b4490f5"
      },
      "source": [
        "* You may use the **inkscape program** for editing our polygon\n",
        "  (which you can download to your pc)\n",
        "  and generate more cage examples\n",
        "\n",
        "* But you can also modify a point or two of **cage1**\n",
        "  and obtain a new cage to play with as we did\n",
        "  in the next example."
      ]
    },
    {
      "cell_type": "code",
      "execution_count": null,
      "id": "5f578bff",
      "metadata": {
        "id": "5f578bff"
      },
      "outputs": [],
      "source": [
        "cage2 = [(314,1143), (1000,218), (1770,850)]\n",
        "draw_cage(cage2)\n",
        "cloned_points = clone(coords_list, cage2)\n",
        "draw_poly(cloned_points)\n",
        "show_plot()"
      ]
    },
    {
      "cell_type": "markdown",
      "id": "4c9664ab",
      "metadata": {
        "cell_marker": "\"\"\"",
        "id": "4c9664ab"
      },
      "source": [
        "* If you want to edit the cage and experiment with other types of cages,\n",
        "  we recommend to install and use the\n",
        "  [InkScape](https://inkscape.org) application.\n",
        "\n",
        "* But this is not needed for the project.\n",
        "\n",
        "* Lets explore one more example of cage."
      ]
    },
    {
      "cell_type": "code",
      "execution_count": null,
      "id": "dd346540",
      "metadata": {
        "id": "dd346540"
      },
      "outputs": [],
      "source": [
        "cage3 = [(314,1143), (1000,218), (1770,650)]\n",
        "draw_cage(cage3)\n",
        "cloned_points = clone(coords_list, cage3)\n",
        "draw_poly(cloned_points, fill=True, facecolor=\"aliceblue\");\n",
        "show_plot()"
      ]
    },
    {
      "cell_type": "markdown",
      "id": "40895c5d",
      "metadata": {
        "cell_marker": "\"\"\"",
        "id": "40895c5d"
      },
      "source": [
        "## **Mean Value Coordinates**\n",
        "* Barycentric coordinates exist **only** for\n",
        "  triangular cages! This is of course a serious\n",
        "  limitation, since even 2D animation characters require\n",
        "  cages that are more complex (as we see in the\n",
        "  following figure).  \n",
        "\n",
        "  <IMG src=\"https://samyzaf.com/cfproj/cat1a.jpg\" width=400 align=\"center\"/>\n",
        "\n",
        "* **Mean value coordinates** are generalizations of\n",
        "  Barycentric coordinates to polygons\n",
        "  of any order $n$ (number of vertices)\n",
        "  as seen in the following figure.  \n",
        "\n",
        "  <IMG src=\"https://samyzaf.com/cfproj/cage6.jpg\" width=400 align=\"center\"/>\n",
        "\n",
        "* In contrast to Barycentric coordinates,\n",
        "  there are many types of Mean value coordinates.\n",
        "\n",
        "* The typical formal definition of a mean value\n",
        "  coordinates system goes roughly as follows.\n",
        "\n",
        "* Let $\\mathbf{p}$ a point inside our cage (see figure),\n",
        "  and let $\\alpha_0$, $\\alpha_1$, $\\ldots$, $\\alpha_{n-1}$\n",
        "  the angles generated by joining the point $\\mathbf{p}$\n",
        "  to the cage vertices.\n",
        "* Let $\\beta_i$ be the Barycentric coordinates map\n",
        "  corresponding to the triangle\n",
        "  $\\triangle(\\mathbf{p},\\mathbf{p}_i,\\mathbf{p}_{i+1})$\n",
        "\n",
        "* For each $i$, the arc $\\text{arc}(\\alpha_i)$\n",
        "  corresponding to angle $\\alpha_i$ is included\n",
        "  in the triangle\n",
        "  $\\triangle(\\mathbf{p}, \\mathbf{p}_i,\\mathbf{p}_{i+1})$,\n",
        "  and therefore every point $\\mathbf{q}$ on this arc\n",
        "  has Barycentric coordinates\n",
        "  $\\beta_i(\\mathbf{q})$.\n",
        "\n",
        "* A mean value coordinate can be defined taking\n",
        "  a line integral over some function $f(\\beta_i(q))$\n",
        "  over the arc $\\mathrm{arc}(\\alpha_i)$,    \n",
        "  $\\qquad\n",
        "  \\lambda_i(\\mathbb{p})\n",
        "  =\n",
        "  \\int_{q\\in\\text{arc}(\\alpha_i)} f(\\beta_i(q))\\,ds\n",
        "  $  \n",
        "\n",
        "* This is just a rough idea.\n",
        "  We will not delve into the details of this special\n",
        "  contour integral since it is not practical for\n",
        "  computation.\n",
        "\n",
        "* Instead, we use an equivalent simpler formula\n",
        "  (see paper 4 above) for one of the most\n",
        "  popular examples of mean value coordinate\n",
        "  systems.\n",
        "  You can find more information on this in\n",
        "  the 4 papers mentioned above if you like.\n",
        "\n",
        "* The simplified formula from paper 4\n",
        "  (see above) is  \n",
        "\n",
        "  $\\qquad\n",
        "  \\lambda_i(\\mathbb{p})\n",
        "  =\n",
        "  \\frac{w_i}{\\sum_{j=0}^{m-1} w_j},\n",
        "  \\qquad\n",
        "  w_i = \\frac{\\tan(\\alpha_{i-1}/2) + \\tan(\\alpha_i/2)}{\\|p_i - p\\|}\n",
        "  $\n",
        "\n",
        "### **Example**\n",
        "* This time we are using a **Cat Character**, represented\n",
        "  by a **152 vertices** polygon.\n",
        "\n",
        "* So instead of displaying the full 152 coordinates\n",
        "  in a cell we simply read them from\n",
        "  a file which we store on our website:"
      ]
    },
    {
      "cell_type": "code",
      "execution_count": null,
      "id": "8b0b657e",
      "metadata": {
        "id": "8b0b657e"
      },
      "outputs": [],
      "source": [
        "link = \"https://samyzaf.com/cfproj/cat1.svg\"\n",
        "cat = read_polygon(link, tag=\"cat\")\n",
        "cage1 = read_polygon(link, tag=\"cage1\")\n",
        "print(cat)\n",
        "print(f\"Number of vertices = {len(cat)}\")"
      ]
    },
    {
      "cell_type": "markdown",
      "id": "34a106e2",
      "metadata": {
        "cell_marker": "\"\"\"",
        "id": "34a106e2"
      },
      "source": [
        "* The initial cage (cage1) consists of 25 vertices.\n",
        "\n",
        "* You may download all SVG files from  \n",
        "  https://samyzaf.com/cfproj/files.zip"
      ]
    },
    {
      "cell_type": "code",
      "execution_count": null,
      "id": "208ae5d8",
      "metadata": {
        "id": "208ae5d8"
      },
      "outputs": [],
      "source": [
        "print(cage1)\n",
        "print(f\"Number of vertices = {len(cage1)}\")"
      ]
    },
    {
      "cell_type": "markdown",
      "id": "b68a9962",
      "metadata": {
        "cell_marker": "\"\"\"",
        "id": "b68a9962"
      },
      "source": [
        "* Of course, more important is that we can actually draw\n",
        "  these polygons"
      ]
    },
    {
      "cell_type": "code",
      "execution_count": null,
      "id": "5b8f54cb",
      "metadata": {
        "id": "5b8f54cb"
      },
      "outputs": [],
      "source": [
        "draw_curve(cat, fill=True, facecolor=\"aliceblue\")\n",
        "draw_cage(cage1)\n",
        "show_plot()"
      ]
    },
    {
      "cell_type": "markdown",
      "id": "436459e3",
      "metadata": {
        "cell_marker": "\"\"\"",
        "id": "436459e3"
      },
      "source": [
        "* The following procedure **get_mean_value_coords_map**\n",
        "  builds and returns the mean value coordinates map\n",
        "  for a given cage.\n",
        "\n",
        "* In other words, it generates for us the method we\n",
        "  need to apply on a point $(x,y)$ for computing\n",
        "  its mean value coordinates!"
      ]
    },
    {
      "cell_type": "code",
      "execution_count": null,
      "id": "4d137bc1",
      "metadata": {
        "id": "4d137bc1"
      },
      "outputs": [],
      "source": [
        "mean_coords = get_mean_value_coords_map(cage1)"
      ]
    },
    {
      "cell_type": "markdown",
      "id": "76c1b151",
      "metadata": {
        "cell_marker": "\"\"\"",
        "id": "76c1b151"
      },
      "source": [
        "* For example, lets see what if we run it on the\n",
        "  point $\\mathbb{p} = (800,600)$ which is obviously inside\n",
        "  our cage.\n",
        "* It should return 27 coordinates! Since our cage\n",
        "  has 27 vertices!"
      ]
    },
    {
      "cell_type": "code",
      "execution_count": null,
      "id": "89d966bc",
      "metadata": {
        "id": "89d966bc"
      },
      "outputs": [],
      "source": [
        "coords = mean_coords(800,600)\n",
        "print(coords)"
      ]
    },
    {
      "cell_type": "markdown",
      "id": "843f617c",
      "metadata": {
        "cell_marker": "\"\"\"",
        "id": "843f617c"
      },
      "source": [
        "* To validate our **mean_coords** procedure for this\n",
        "  point we need to check that the dot product\n",
        "  of the coords vector and the cage polygon\n",
        "  yield the point $(800,600)$  \n",
        "$\\qquad\\displaystyle\n",
        "(800,600)\n",
        "=\n",
        "\\mathrm{coords} \\cdot \\mathrm{cage1}\n",
        "=\n",
        "\\sum_{i=0}^{26} \\mathrm{coords}[i] \\cdot \\mathrm{cage1}[i]\n",
        "$\n",
        "\n",
        "* Note that the cage1 vector is viewed as a vector of\n",
        "  27 tuples $(x_i,y_i)$, $i=0,1,2,\\ldots,26$.\n",
        "\n",
        "* Within our Python code, this is accomplished\n",
        "  by the **clone** procedure"
      ]
    },
    {
      "cell_type": "code",
      "execution_count": null,
      "id": "db43536f",
      "metadata": {
        "id": "db43536f"
      },
      "outputs": [],
      "source": [
        "x,y = clone(coords, cage1)\n",
        "print(x,y)"
      ]
    },
    {
      "cell_type": "markdown",
      "id": "e9b19351",
      "metadata": {
        "cell_marker": "\"\"\"",
        "id": "e9b19351"
      },
      "source": [
        "* This is very close to the point **(800,600)**,\n",
        "  which is good enough precision for our project.\n",
        "\n",
        "* To apply this map on all the cat points, we\n",
        "  apply the **mean_coords** function on\n",
        "  the list **cat** (polygon points).\n",
        "\n",
        "* The **mean_coords** procedure is applied on all\n",
        "  points $(x,y)$ in the cat polygon, and\n",
        "  we get a list of all 151 mean value coordinates\n",
        "  corresponding to the 151 points of the cat polygon."
      ]
    },
    {
      "cell_type": "code",
      "execution_count": null,
      "id": "f01b1b49",
      "metadata": {
        "id": "f01b1b49"
      },
      "outputs": [],
      "source": [
        "coords_list = mean_coords(cat)"
      ]
    },
    {
      "cell_type": "markdown",
      "id": "35b30911",
      "metadata": {
        "cell_marker": "\"\"\"",
        "id": "35b30911"
      },
      "source": [
        "* If you want to see how this list looks like\n",
        "  run the following code (not recommended, it's too long!)"
      ]
    },
    {
      "cell_type": "code",
      "execution_count": null,
      "id": "8b4685e3",
      "metadata": {
        "id": "8b4685e3"
      },
      "outputs": [],
      "source": [
        "for coords in coords_list:\n",
        "  print(coords)"
      ]
    },
    {
      "cell_type": "markdown",
      "id": "81206ee1",
      "metadata": {
        "cell_marker": "\"\"\"",
        "id": "81206ee1"
      },
      "source": [
        "* Next we want to modify our cage and see what\n",
        "  happens to our cat figure as a result of it.\n",
        "\n",
        "* We have built three additional examples of cage (with\n",
        "  a simple drawing application) and stored them\n",
        "  in our website for you to use.\n",
        "\n",
        "* For that purpose we need to clone all the 152 cat point\n",
        "  with respect to the new cage.\n",
        "  \n",
        "* We built a Python procedure **Clone** which\n",
        "  does this smoothly (if you're a Python programmer you're\n",
        "  welcome to peak at the package\n",
        "  [code](https://samyzaf.com/cfclon-33.zip)."
      ]
    },
    {
      "cell_type": "code",
      "execution_count": null,
      "id": "150f5e01",
      "metadata": {
        "id": "150f5e01"
      },
      "outputs": [],
      "source": [
        "plt.rcParams['figure.figsize'] = [5, 5]\n",
        "\n",
        "link = \"https://samyzaf.com/cfproj/cat2.svg\"\n",
        "cage2 = read_polygon(link, tag=\"cage2\")\n",
        "Clone(cage2, coords_list, fill=True, facecolor=\"aliceblue\")\n",
        "show_plot()\n",
        "\n",
        "link = \"https://samyzaf.com/cfproj/cat3.svg\"\n",
        "cage3 = read_polygon(link, tag=\"cage3\")\n",
        "Clone(cage3, coords_list, fill=True, facecolor=\"aliceblue\")\n",
        "show_plot()\n",
        "\n",
        "link = \"https://samyzaf.com/cfproj/cat4.svg\"\n",
        "cage4 = read_polygon(link, tag=\"cage4\")\n",
        "Clone(cage4, coords_list, fill=True, facecolor=\"aliceblue\")\n",
        "show_plot()"
      ]
    },
    {
      "cell_type": "markdown",
      "id": "4704fc38",
      "metadata": {
        "cell_marker": "\"\"\"",
        "id": "4704fc38"
      },
      "source": [
        "* The last clone does not look good.\n",
        "  The reason is of course a poor choice of cage.\n",
        "* In order to get a naturally looking character clone one\n",
        "  must make sure to handle the cage appropriately.\n",
        "* Here are the last 4 figures grouped together\n",
        "  for a better view\n",
        "\n",
        "<IMG src=\"https://samyzaf.com/cfproj/mean_figs2.png\" width=\"60%\" align=\"center\"/>\n",
        "\n",
        "* With more advanced Python tools\n",
        "  it is possible to generate new cages from this four\n",
        "  by interpolation, and the make an animation\n",
        "  that shows how the cat character is moving.\n",
        "\n",
        "* Notice that in frames 3 and 4, the right leg has\n",
        "  shrieked disproportionally. This is a well\n",
        "  known anomaly with respect to mean value coordinates.\n",
        "  This anomaly is solved by switching to a better\n",
        "  coordinates system: namely Harmonic Coordinates\n",
        "\n",
        "* Also, a poor choice of the cage may cause unpleasant\n",
        "  deformities to the character as we see in frame 4 (the\n",
        "  cat head has been twisted)."
      ]
    },
    {
      "cell_type": "code",
      "execution_count": null,
      "id": "b5815f74",
      "metadata": {
        "id": "b5815f74"
      },
      "outputs": [],
      "source": [
        "YouTubeVideo(\"OnGSuGOJzg0\", width=640, height=397)"
      ]
    },
    {
      "cell_type": "markdown",
      "id": "23af906b",
      "metadata": {
        "cell_marker": "\"\"\"",
        "id": "23af906b"
      },
      "source": [
        "## **Harmonic Coordinates**\n",
        "* Harmonic coordinates are computed by applying harmonic\n",
        "  functions on a given point (one for each vertex of\n",
        "  our **initial cage**).\n",
        "* Harmonic functions are defined as solutions to the\n",
        "  **Laplace Equation**  \n",
        "  $\\qquad\n",
        "  u_{xx} + u_{yy} = 0\n",
        "  $  \n",
        "  with initial conditions over the boundary of a 2D\n",
        "  domain in $\\mathbb{R}^2$.\n",
        "* This is a classical **Partial Differential Equation**\n",
        "  which is usually covered in every course on partial differential equations.\n",
        "* In introductory PDE courses, students learn to solve this\n",
        "  equation over a rectangle or disk domains\n",
        "  with relatively simple boundary conditions, and obtain\n",
        "  solutions in the form of\n",
        "  infinite 2d Fourier series.\n",
        "* In our case, we need to find solutions for this equation\n",
        "  over polygonal domains (cages).\n",
        "* Contrary to Barycentric and mean value coordinates,\n",
        "  we do do not have closed form formulas for computing\n",
        "  harmonic coordinates except maybe for a small\n",
        "  number of cage shapes like rectangles or disks which require\n",
        "  an infinite 2-dimensional Fourier series.\n",
        "\n",
        "* In most cases the only way to compute harmonic\n",
        "  coordinates is by discrete finite elements approximation algorithms\n",
        "  which usually require high computation power in order to achieve\n",
        "  modest precision levels.\n",
        "\n",
        "## **Basic Harmonic Functions over a Polygon**\n",
        "* Given a polygonal cage  \n",
        "  $\\qquad\n",
        "  C = \\{(x_0,y_0), (x_1,y_1), (x_2,y_2)\\ldots, (x_{n-1},y_{n-1})\\}\n",
        "  $  \n",
        "  we want to define how we assign **harmonic coordinates**\n",
        "  to every point $p(x,y)$ inside the cage.\n",
        "\n",
        "  <figure>\n",
        "  <IMG src=\"https://samyzaf.com/cfproj/har4b.jpg\" width=400 align=\"center\"/>\n",
        "  <figcaption><small>\n",
        "  Polygonal cage with vertices $p_i=(x_i,y_i)$,\n",
        "  $i=0,1,2,\\ldots,n-1$\n",
        "  </small></figcaption>\n",
        "  </figure>\n",
        "\n",
        "* Our cage has $n$ vertices, so we need to define\n",
        "  $n$ coordinates!\n",
        "\n",
        "* For that purpose we define\n",
        "  $n$ **Basic Harmonic Functions**,\n",
        "  one for each cage vertex.\n",
        "\n",
        "* For every cage vertex $(x_i,y_i)$ we define a\n",
        "  **Basic Harmonic Function** $h_i(x,y)$ with the\n",
        "  following boundary properties\n",
        "  * $h_i(x_i,y_i) = 1$\n",
        "  * For evey $j\\neq i$, $h_i(x_j,y_j) = 0$\n",
        "  * $h_i(x,y)$ is continuous and linear on\n",
        "    every cage edge.\n",
        "\n",
        "* In other words, $h_i(x,y)$ is zero on all cage edges\n",
        "  except for the two edges that come out of the vertex\n",
        "  $(x_i,y_i)$,\n",
        "  on which it is \"sliding\" from $1$ to $0$, as can be seen\n",
        "  the simple example below.\n",
        "\n",
        "  <figure>\n",
        "  <IMG src=\"https://samyzaf.com/cfproj/har3.jpg\" width=400 align=\"center\"/>\n",
        "  <figcaption><small>\n",
        "  Boundary conditions for $h_0(x,y)$ on over the boundary\n",
        "  <BR>\n",
        "  of the square cage\n",
        "  $C=\\{(0,0),(4,0),(4,4),(0,4)\\}$\n",
        "  </small></figcaption>\n",
        "  </figure>\n",
        "\n",
        "* The existence and uniqueness theorem for the Laplace\n",
        "  PDE (with Dirichlet boundary conditions) guarantees\n",
        "  that there is **exactly one** harmonic function $h_i(x,y)$\n",
        "  over the full cage (interior and boundary)\n",
        "  which satisfies these conditions.\n",
        "\n",
        "* **Theorem (Cloning):**\n",
        "  Let $(m_0,m_1,m_2,\\ldots,m_{n-1})$\n",
        "  be the harmonic coordinates of a point $p$\n",
        "  inside a polygonal cage  \n",
        "\n",
        "  $\\qquad\n",
        "  C = \\{(x_0,y_0), (x_1,y_1), (x_2,y_2)\\ldots, (x_{n-1},y_{n-1})\\}\n",
        "  $  \n",
        "\n",
        "  Then  \n",
        "\n",
        "  $\\qquad\n",
        "  \\begin{array}{rcl}\n",
        "  p &=& (m_0,m_1,m_2,\\ldots,m_{n-1}) \\cdot C\n",
        "  \\\\\n",
        "    &=& m_0 \\cdot (x_0,y_0) + m_1 \\cdot (x_1,y_1) + m_2\\cdot (x_2,y_2) + \\cdots + m_{n-1} \\cdot (x_{n-1},y_{n-1})\n",
        "  \\end{array}\n",
        "  $  \n",
        "\n",
        "* The last formula is sometimes called\n",
        "  **the cloning formula**, since it shows how\n",
        "  to clone the point $p$ from its coordinates with respect\n",
        "  to any change of the cage $C$.\n",
        "\n",
        "## **The ScanLine Algorithm**\n",
        "* The first step of our story starts with an algorithm\n",
        "  for classifying grid pixels to three types\n",
        "  1. Internal pixels\n",
        "  2. External pixels\n",
        "  3. Boundary pixels\n",
        "\n",
        "* The next code shows how to build a pixel database\n",
        "  (named \"cat_db\") for our cat **initial** cage1.\n",
        "\n",
        "* In the first two commands we read the cat and cage\n",
        "  polygons.\n",
        "* The third command builds the pixels database.\n",
        "  * Its first argument is the database name.\n",
        "  * The second argument is the polygon for which\n",
        "    we want to build a pixels database.\n",
        "  * The third argument is the resolution measure:\n",
        "    how many pixels enter in polygon width or height\n",
        "    (on the smallest of both).\n",
        "\n",
        "* The fourth command draws the pixels grid.\n",
        "  The `bcolor` argument is the boundary pixels color,\n",
        "  and the `fcolor` argument is the internal pixels\n",
        "  color."
      ]
    },
    {
      "cell_type": "code",
      "execution_count": null,
      "id": "d4c66239",
      "metadata": {
        "id": "d4c66239"
      },
      "outputs": [],
      "source": [
        "cat1 = read_polygon(\"https://samyzaf.com/cfproj/cat1.svg\", tag=\"cat\")\n",
        "cage1 = read_polygon(\"https://samyzaf.com/cfproj/cat1.svg\", tag=\"cage\")\n",
        "build_db(\"cat_db\", cage1, 40)   # pixel resolution = 40\n",
        "scanline_plot(plotgrid=True, bcolor=\"salmon\", fcolor=\"cyan\")"
      ]
    },
    {
      "cell_type": "markdown",
      "id": "b36025b9",
      "metadata": {
        "cell_marker": "\"\"\"",
        "id": "b36025b9"
      },
      "source": [
        "* To get a better mesh grid resolution we can increase\n",
        "  the resolution factor to 70.\n",
        "* This time we draw only internal and boundary pixels.\n",
        "* Here is how the result looks like:"
      ]
    },
    {
      "cell_type": "code",
      "execution_count": null,
      "id": "a097828f",
      "metadata": {
        "id": "a097828f"
      },
      "outputs": [],
      "source": [
        "build_db(\"cat_db\", cage1, 70)\n",
        "scanline_plot(bcolor=\"salmon\", fcolor=\"cyan\")"
      ]
    },
    {
      "cell_type": "markdown",
      "id": "09f7fb54",
      "metadata": {
        "cell_marker": "\"\"\"",
        "id": "09f7fb54"
      },
      "source": [
        "* If you need to, you can zoom in to particular areas of\n",
        "  this plot by using the `xlim` and `ylim` arguments\n",
        "  of the `scanline_plot` command.\n",
        "* For example we can take a closer look at the front legs area."
      ]
    },
    {
      "cell_type": "code",
      "execution_count": null,
      "id": "7c6abba2",
      "metadata": {
        "id": "7c6abba2"
      },
      "outputs": [],
      "source": [
        "scanline_plot(xlim=(350,750), ylim=(700,950), plotgrid=True, fcolor='cyan', bcolor='salmon')"
      ]
    },
    {
      "cell_type": "markdown",
      "id": "de145efa",
      "metadata": {
        "cell_marker": "\"\"\"",
        "id": "de145efa"
      },
      "source": [
        "## **Basic Harmonic Matrices**\n",
        "* After choosing a fine pixels grid, we need to build\n",
        "  our basic harmonic functions.\n",
        "\n",
        "* To be precise, these are not functions in\n",
        "  the usual math analysis sense. They are\n",
        "  better described as **basic harmonic matrices**,\n",
        "  since these are discrete value assignments on our\n",
        "  discrete scanline grid.\n",
        "* We will need $n$ such matrices corresponding\n",
        "  to our cage $n$ vertices."
      ]
    },
    {
      "cell_type": "code",
      "execution_count": null,
      "id": "8b3366b5",
      "metadata": {
        "id": "8b3366b5"
      },
      "outputs": [],
      "source": [
        "set_outcell_height(300)        # This code sets the height of the output text box\n",
        "build_elementary_matrices()    # The main method for building our harmonic functions basis"
      ]
    },
    {
      "cell_type": "markdown",
      "id": "99d1bcf8",
      "metadata": {
        "cell_marker": "\"\"\"",
        "id": "99d1bcf8"
      },
      "source": [
        "* After building our scanline database and harmonic matrices\n",
        "  we can save it into a database file to disk.\n",
        "\n",
        "* Later we can simply load it quickly back to memory with\n",
        "  the `load_db` command and save cpu time.\n",
        "\n",
        "* The db file name is \"cat_db.db\" as the name of our\n",
        "  db above."
      ]
    },
    {
      "cell_type": "code",
      "execution_count": null,
      "id": "4473d97b",
      "metadata": {
        "id": "4473d97b"
      },
      "outputs": [],
      "source": [
        "save_db()"
      ]
    },
    {
      "cell_type": "markdown",
      "id": "391e8954",
      "metadata": {
        "cell_marker": "\"\"\"",
        "id": "391e8954"
      },
      "source": [
        "* We now can calculate Harmonic coordinate of any given\n",
        "  point with respect to our initial cage."
      ]
    },
    {
      "cell_type": "code",
      "execution_count": null,
      "id": "93071c9f",
      "metadata": {
        "id": "93071c9f"
      },
      "outputs": [],
      "source": [
        "reg.log.state = \"disabled\"   # We disable logging to avoid too much text prints\n",
        "p = x,y = 805.0,607.0\n",
        "coords = harmonic_coordinates(x, y);\n",
        "print(coords)"
      ]
    },
    {
      "cell_type": "markdown",
      "id": "2b8ce29b",
      "metadata": {
        "cell_marker": "\"\"\"",
        "id": "2b8ce29b"
      },
      "source": [
        "* Notice that the harmonic coordinates of the point $p$\n",
        "  consists of a list of 25 real numbers! As the\n",
        "  number of our cage vertices.\n",
        "\n",
        "* Now we clone our point $p=(805,607)$ from its\n",
        "  harmonic coordinates in our initial cage,\n",
        "  and see if get back the point.\n",
        "* Expectedly, we'll loose some precision, since our grid\n",
        "  is not too fine."
      ]
    },
    {
      "cell_type": "code",
      "execution_count": null,
      "id": "3f103eb2",
      "metadata": {
        "id": "3f103eb2"
      },
      "outputs": [],
      "source": [
        "q = clone(coords, cage1)\n",
        "print(p)\n",
        "print(q)"
      ]
    },
    {
      "cell_type": "markdown",
      "id": "ecd176e6",
      "metadata": {
        "cell_marker": "\"\"\"",
        "id": "ecd176e6"
      },
      "source": [
        "* `q=clone(p)` within the initial cage, should result\n",
        "   ideally with `p` but our approximation algorithm\n",
        "   yields a good enough close result.\n",
        "* We lost 0.22% precision on the x coordinate,\n",
        "  and 0.72% precision on the y coordinates.\n",
        "* This is good enough and does not have real effects on\n",
        "  the total character cloning as we'll see shortly.\n",
        "* First, lets compute the list of harmonic coordinates\n",
        "  of our initial cat: this is going to be a long\n",
        "  list of 152 sets of coordinates,\n",
        "  so in total we'll have $152{\\times}25=3800$ real\n",
        "  numbers."
      ]
    },
    {
      "cell_type": "code",
      "execution_count": null,
      "id": "c69f9872",
      "metadata": {
        "id": "c69f9872"
      },
      "outputs": [],
      "source": [
        "coords_list = harmonic_coordinates(cat1)"
      ]
    },
    {
      "cell_type": "markdown",
      "id": "6b57e458",
      "metadata": {
        "cell_marker": "\"\"\"",
        "id": "6b57e458"
      },
      "source": [
        "* We now load our second cage, and clone there our cat1\n",
        "  figure.\n",
        "* Then we draw this cage, clone cat1, and draw the new\n",
        "  cat2 clone\n",
        "* For illustration we also add a fill color"
      ]
    },
    {
      "cell_type": "code",
      "execution_count": null,
      "id": "1e25328f",
      "metadata": {
        "id": "1e25328f"
      },
      "outputs": [],
      "source": [
        "link = \"https://samyzaf.com/cfproj/cat2.svg\"\n",
        "cage2 = read_polygon(link, tag=\"cage2\")\n",
        "draw_cage(cage2)\n",
        "cat2 = clone(coords_list, cage2)\n",
        "draw_curve(cat2, fill=True, facecolor=\"aliceblue\", linewidth=1)\n",
        "show_plot()"
      ]
    },
    {
      "cell_type": "markdown",
      "id": "57554e03",
      "metadata": {
        "cell_marker": "\"\"\"",
        "id": "57554e03"
      },
      "source": [
        "* Next we load our third cage (`cage3`).\n",
        "\n",
        "* We use the command **Clone** which conveniently\n",
        "  computes the clone and also draw it."
      ]
    },
    {
      "cell_type": "code",
      "execution_count": null,
      "id": "10437dc1",
      "metadata": {
        "id": "10437dc1"
      },
      "outputs": [],
      "source": [
        "link = \"https://samyzaf.com/cfproj/cat3.svg\"\n",
        "cage3 = read_polygon(link, tag=\"cage3\")\n",
        "Clone(cage3, coords_list, fill=True, facecolor=\"honeydew\")\n",
        "show_plot()"
      ]
    },
    {
      "cell_type": "markdown",
      "id": "e3805286",
      "metadata": {
        "cell_marker": "\"\"\"",
        "id": "e3805286"
      },
      "source": [
        "* We can now see that the problem with the back leg\n",
        "  is fixed with harmonic coordinates.\n",
        "\n",
        "* In the right figure we see that cat cloning\n",
        "  using mean value coordinates distorts the cat leg\n",
        "  (see red circle).\n",
        "\n",
        "* The left figure shows cat cloning using\n",
        "  harmonic coordinates.\n",
        "\n",
        "<A href=\"https://www.youtube.com/watch?v=hWWOiF-G3nQ\">\n",
        "<IMG src=\"https://samyzaf.com/cfproj/hcat3.jpg\" width=300 align=\"center\"/></A>\n",
        "<A href=\"https://www.youtube.com/watch?v=hWWOiF-G3nQ\">\n",
        "<IMG src=\"https://samyzaf.com/cfproj/cat3c.jpg\" width=300 align=\"center\"/></A>\n",
        "\n",
        "* We will conclude with info-graphic utilities\n",
        "  for visualizing solutions for harmonic functions\n",
        "  over a rectangle\n",
        "  and visualizing elementary harmonic matrices."
      ]
    },
    {
      "cell_type": "code",
      "execution_count": null,
      "id": "611363d9",
      "metadata": {
        "id": "611363d9"
      },
      "outputs": [],
      "source": [
        "boundary_conditions = {\n",
        "    (0,0): 0.95,\n",
        "    (0,4): 0.2,\n",
        "    (4,0): 0.1,\n",
        "    (4,4): 0.8,\n",
        "}\n",
        "ax = solve_rectangle(boundary_conditions, ncols=30, nrows=30)\n",
        "ax.view_init(elev=30, azim=-20, roll=0)\n",
        "plt.show()"
      ]
    },
    {
      "cell_type": "markdown",
      "id": "b7d72aaa",
      "metadata": {
        "cell_marker": "\"\"\"",
        "id": "b7d72aaa"
      },
      "source": [
        "* Here is a solution to Laplace equation\n",
        "  $u_{xx} + u_{yy} =0$\n",
        "  with a linear boundary conditions  \n",
        "  $\\qquad\n",
        "  \\left\\{\n",
        "    \\begin{array}{rcl}\n",
        "    u(1,1) &=& 0.8 \\\\\n",
        "    u(1,2) &=& 0.1 \\\\\n",
        "    u(2,1) &=& 0.2 \\\\\n",
        "    u(2,2) &=& 0.9\n",
        "    \\end{array}\n",
        "  \\right.\n",
        "  $  \n",
        "\n",
        "  <IMG src=\"https://samyzaf.com/cfproj/har6b.jpg\" width=400 align=\"center\"/>\n",
        "\n",
        "* The next utility show how to visualize an elementary\n",
        "  harmonic matrix as a thermal map of blue color shades.\n",
        "\n",
        "* The `res` parameter is for grid **resolution**.\n",
        "\n",
        "* The `index` parameter is for the index of the\n",
        "  elementary harmonic matrix.\n",
        "\n",
        "* The cage has 25 elementary matrices and we draw\n",
        "  the fist one `index=0`."
      ]
    },
    {
      "cell_type": "code",
      "execution_count": null,
      "id": "020aaa39",
      "metadata": {
        "id": "020aaa39"
      },
      "outputs": [],
      "source": [
        "link = \"https://samyzaf.com/cfproj/cat1.svg\"\n",
        "cage = read_polygon(link, tag=\"cage\")\n",
        "res = 40\n",
        "index = 0\n",
        "draw_harmonic_colormap(cage, res, index)"
      ]
    },
    {
      "cell_type": "markdown",
      "id": "2f222fe0",
      "metadata": {
        "cell_marker": "\"\"\"",
        "id": "2f222fe0"
      },
      "source": [
        "* The thermal map is based on two colormaps:\n",
        "  1. Shades of blue for the internal pixels.\n",
        "  2. Shades of red for the boundary pixels.\n",
        "\n",
        "* Note how the values of $h_0(x,y)$ are getting close to\n",
        "  $1$ when the pixels are closer to vertex $0$.\n",
        "\n",
        "* We can increase the grid resolution, but then it take\n",
        "  more computation time"
      ]
    },
    {
      "cell_type": "code",
      "execution_count": null,
      "id": "57e3cf2a",
      "metadata": {
        "id": "57e3cf2a"
      },
      "outputs": [],
      "source": [
        "res = 60\n",
        "index = 0\n",
        "draw_harmonic_colormap(cage, res, index)"
      ]
    },
    {
      "cell_type": "markdown",
      "id": "314744d9",
      "metadata": {
        "cell_marker": "\"\"\"",
        "id": "314744d9"
      },
      "source": [
        "* It is possible to zoom in to specific area of the colormap\n",
        "  by using the `xlim` and `ylim` flags."
      ]
    },
    {
      "cell_type": "code",
      "execution_count": null,
      "id": "919d0a3c",
      "metadata": {
        "id": "919d0a3c"
      },
      "outputs": [],
      "source": [
        "res = 80\n",
        "index = 0\n",
        "draw_harmonic_colormap(cage, res, index, xlim=(350,800), ylim=(500,950))"
      ]
    },
    {
      "cell_type": "markdown",
      "id": "ed23e475",
      "metadata": {
        "cell_marker": "\"\"\"",
        "id": "ed23e475"
      },
      "source": [
        "* Elementary harmonic matrices can also be viewed\n",
        "  in 3D space"
      ]
    },
    {
      "cell_type": "code",
      "execution_count": null,
      "id": "302910d6",
      "metadata": {
        "id": "302910d6"
      },
      "outputs": [],
      "source": [
        "res = 60\n",
        "index = 0\n",
        "ax = draw_3d_elementary_matrix(cage, res, index)\n",
        "ax.invert_yaxis()\n",
        "ax.view_init(elev=30, azim=35, roll=0)\n",
        "plt.show()"
      ]
    },
    {
      "cell_type": "markdown",
      "id": "3c8c903d",
      "metadata": {
        "cell_marker": "\"\"\"",
        "id": "3c8c903d"
      },
      "source": [
        "* This 3D surface can be viewed from different angles\n",
        "  by supplying appropriate parameters\n",
        "  to the `view_init` method."
      ]
    },
    {
      "cell_type": "code",
      "execution_count": null,
      "id": "13ccafd6",
      "metadata": {
        "id": "13ccafd6"
      },
      "outputs": [],
      "source": [
        "res = 60\n",
        "index = 0\n",
        "ax = draw_3d_elementary_matrix(cage, res, index)\n",
        "ax.invert_yaxis()\n",
        "ax.view_init(elev=30, azim=230, roll=0)\n",
        "plt.show()"
      ]
    },
    {
      "cell_type": "markdown",
      "id": "46264542",
      "metadata": {
        "cell_marker": "\"\"\"",
        "id": "46264542"
      },
      "source": [
        "* It takes about 10 hours to build a high resolution\n",
        "  grid for resolution level `res=192`.\n",
        "* However, once you build one, you can save it\n",
        "  with the `save_db` command,\n",
        "  and later load it with the `load_db` command\n",
        "* Here is a 192 high resolution grid database\n",
        "  which we built and saved in our web site.\n",
        "  It can be loaded and use instantly!"
      ]
    },
    {
      "cell_type": "code",
      "execution_count": null,
      "id": "476e4eb0",
      "metadata": {
        "id": "476e4eb0"
      },
      "outputs": [],
      "source": [
        "dbname = \"https://samyzaf.com/cfproj/cat192a.db\"\n",
        "load_db(dbname)\n",
        "reg.log.state = \"disabled\"  # Quite log\n",
        "\n",
        "link = \"https://samyzaf.com/cfproj/cat3.svg\"\n",
        "cat = read_polygon(link, tag=\"cat\")\n",
        "cage3 = read_polygon(link, tag=\"cage3\")\n",
        "coords_list = harmonic_coordinates(cat)\n",
        "Clone(cage3, coords_list, fill=True, facecolor=\"lightyellow\")\n",
        "show_plot()"
      ]
    },
    {
      "cell_type": "markdown",
      "id": "cb6bd455",
      "metadata": {
        "cell_marker": "\"\"\"",
        "id": "cb6bd455"
      },
      "source": [
        "* Lets check the accuracy of this database."
      ]
    },
    {
      "cell_type": "code",
      "execution_count": null,
      "id": "64f48405",
      "metadata": {
        "id": "64f48405"
      },
      "outputs": [],
      "source": [
        "p = x,y = 805.0,607.0\n",
        "coords = harmonic_coordinates(x, y);\n",
        "q = clone(coords, cage1)\n",
        "print(p)\n",
        "print(q)"
      ]
    },
    {
      "cell_type": "markdown",
      "id": "891c5624",
      "metadata": {
        "cell_marker": "\"\"\"",
        "lines_to_next_cell": 2,
        "id": "891c5624"
      },
      "source": [
        "* The x coordinate is 99.99% precise.\n",
        "* The y coordinate is 99.87%.\n",
        "* This is good enough for a 4K resolution video!"
      ]
    }
  ],
  "metadata": {
    "jupytext": {
      "cell_metadata_filter": "-all",
      "main_language": "python",
      "notebook_metadata_filter": "-all"
    },
    "colab": {
      "provenance": [],
      "include_colab_link": true
    }
  },
  "nbformat": 4,
  "nbformat_minor": 5
}