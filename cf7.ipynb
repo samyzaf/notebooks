{
  "cells": [
    {
      "cell_type": "markdown",
      "metadata": {
        "id": "view-in-github",
        "colab_type": "text"
      },
      "source": [
        "<a href=\"https://colab.research.google.com/github/samyzaf/notebooks/blob/main/cf7.ipynb\" target=\"_parent\"><img src=\"https://colab.research.google.com/assets/colab-badge.svg\" alt=\"Open In Colab\"/></a>"
      ]
    },
    {
      "cell_type": "markdown",
      "id": "e077ec4d",
      "metadata": {
        "cell_marker": "\"\"\"",
        "id": "e077ec4d"
      },
      "source": [
        "# **Complex Functions**\n",
        "# Chapter 7: Solutions to exercises\n",
        "\n",
        "<a href=\"https://samyzaf.com/technion/cfit/cf.pdf\">\n",
        "<img src=\"https://samyzaf.com/technion/cfit/cf1.jpg\" alt=\"cf book cover\"/>\n",
        "</a>\n",
        "\n",
        "* These are only a small number of solutions.\n",
        "  Hopefully this will encourage students to try to solve more\n",
        "  exercises with similar methods.\n",
        "\n",
        "* We will be glad to accept notebooks\n",
        "  with solutions to other exercises in this book.\n",
        "  Please send them to mail@samyzaf.com.\n",
        "\n",
        "* Thanks a lot to all the students that provided help, short snippets, and ideas."
      ]
    },
    {
      "cell_type": "markdown",
      "id": "950e7898",
      "metadata": {
        "cell_marker": "\"\"\"",
        "id": "950e7898"
      },
      "source": [
        "# Exercise 7.5\n",
        "\n",
        "<img src=\"https://samyzaf.com/technion/cfit/sol/ex7u1.jpg\" width=\"60%\" />\n",
        "<img src=\"https://samyzaf.com/technion/cfit/sol/ex7u2.jpg\" width=\"60%\" />\n",
        "<img src=\"https://samyzaf.com/technion/cfit/sol/ex7u3.jpg\" width=\"60%\" />\n",
        "<img src=\"https://samyzaf.com/technion/cfit/sol/ex7u4.jpg\" width=\"60%\" />\n",
        "<img src=\"https://samyzaf.com/technion/cfit/sol/ex7u5.jpg\" width=\"60%\" />\n",
        "<img src=\"https://samyzaf.com/technion/cfit/sol/ex7u6.jpg\" width=\"60%\" />\n",
        "<img src=\"https://samyzaf.com/technion/cfit/sol/ex7u7.jpg\" width=\"60%\" />"
      ]
    },
    {
      "cell_type": "markdown",
      "id": "ba35e68c",
      "metadata": {
        "cell_marker": "\"\"\"",
        "id": "ba35e68c"
      },
      "source": [
        "# Exercise 7.6\n",
        "\n",
        "<img\n",
        "src=\"https://samyzaf.com/technion/cfit/sol/ex7r.jpg\"\n",
        "width=\"100%\"\n",
        "/>"
      ]
    },
    {
      "cell_type": "markdown",
      "id": "28967a9f",
      "metadata": {
        "cell_marker": "\"\"\"",
        "id": "28967a9f"
      },
      "source": [
        "# Exercise 7.7\n",
        "\n",
        "<img\n",
        "src=\"https://samyzaf.com/technion/cfit/sol/ex7z1.jpg\"\n",
        "width=\"60%\"\n",
        "/>"
      ]
    },
    {
      "cell_type": "markdown",
      "id": "a99e7ffb",
      "metadata": {
        "cell_marker": "\"\"\"",
        "id": "a99e7ffb"
      },
      "source": [
        "# Exercise 7.8\n",
        "\n",
        "<img\n",
        "src=\"https://samyzaf.com/technion/cfit/sol/ex7af.jpg\"\n",
        "width=\"60%\"\n",
        "/>"
      ]
    },
    {
      "cell_type": "markdown",
      "id": "1689f262",
      "metadata": {
        "cell_marker": "\"\"\"",
        "id": "1689f262"
      },
      "source": [
        "# Exercise 7.10\n",
        "\n",
        "<img\n",
        "src=\"https://samyzaf.com/technion/cfit/sol/ex7z2.jpg\"\n",
        "width=\"60%\"\n",
        "/>"
      ]
    },
    {
      "cell_type": "markdown",
      "id": "755a83ae",
      "metadata": {
        "cell_marker": "\"\"\"",
        "id": "755a83ae"
      },
      "source": [
        "# Exercise 7.20\n",
        "\n",
        "<img\n",
        "src=\"https://samyzaf.com/technion/cfit/sol/ex7z3.jpg\"\n",
        "width=\"60%\"\n",
        "/>"
      ]
    },
    {
      "cell_type": "markdown",
      "id": "2120afd5",
      "metadata": {
        "cell_marker": "\"\"\"",
        "id": "2120afd5"
      },
      "source": [
        "# Exercise 7.22\n",
        "\n",
        "<img\n",
        "src=\"https://samyzaf.com/technion/cfit/sol/ex7w.jpg\"\n",
        "width=\"60%\"\n",
        "/>"
      ]
    },
    {
      "cell_type": "markdown",
      "id": "006f9206",
      "metadata": {
        "cell_marker": "\"\"\"",
        "id": "006f9206"
      },
      "source": [
        "# Exercise 7.25\n",
        "\n",
        "<img\n",
        "src=\"https://samyzaf.com/technion/cfit/sol/ex7aa.jpg\"\n",
        "width=\"60%\"\n",
        "/>"
      ]
    },
    {
      "cell_type": "markdown",
      "id": "b404ca03",
      "metadata": {
        "cell_marker": "\"\"\"",
        "id": "b404ca03"
      },
      "source": [
        "# Exercise 7.26\n",
        "\n",
        "<img src=\"https://samyzaf.com/technion/cfit/sol/fig0d.jpg\" width=\"60%\" />\n",
        "<img src=\"https://samyzaf.com/technion/cfit/sol/ex7g.jpg\" width=\"60%\" />"
      ]
    },
    {
      "cell_type": "markdown",
      "id": "9f1227c8",
      "metadata": {
        "cell_marker": "\"\"\"",
        "id": "9f1227c8"
      },
      "source": [
        "# Exercise 7.28\n",
        "\n",
        "<img\n",
        "src=\"https://samyzaf.com/technion/cfit/sol/ex7p.jpg\"\n",
        "width=\"100%\"\n",
        "/>"
      ]
    },
    {
      "cell_type": "markdown",
      "id": "43e57419",
      "metadata": {
        "cell_marker": "\"\"\"",
        "id": "43e57419"
      },
      "source": [
        "# Exercise 7.30\n",
        "\n",
        "<img src=\"https://samyzaf.com/technion/cfit/sol/ex6m.jpg\" width=\"60%\" />\n",
        "<img src=\"https://samyzaf.com/technion/cfit/sol/ex7z.jpg\" width=\"60%\" />"
      ]
    },
    {
      "cell_type": "markdown",
      "id": "a6d496f0",
      "metadata": {
        "cell_marker": "\"\"\"",
        "id": "a6d496f0"
      },
      "source": [
        "# Exercise 7.33\n",
        "\n",
        "<img src=\"https://samyzaf.com/technion/cfit/sol/ex7m1.jpg\" width=\"60%\" />\n",
        "<img src=\"https://samyzaf.com/technion/cfit/sol/ex7m2.jpg\" width=\"60%\" />\n",
        "<img src=\"https://samyzaf.com/technion/cfit/sol/ex7m3.jpg\" width=\"60%\" />\n",
        "<img src=\"https://samyzaf.com/technion/cfit/sol/ex7m4.jpg\" width=\"60%\" />\n",
        "<img src=\"https://samyzaf.com/technion/cfit/sol/ex7m5.jpg\" width=\"60%\" />\n",
        "<img src=\"https://samyzaf.com/technion/cfit/sol/ex7m6.jpg\" width=\"60%\" />\n",
        "<img src=\"https://samyzaf.com/technion/cfit/sol/ex7m7.jpg\" width=\"60%\" />\n",
        "<img src=\"https://samyzaf.com/technion/cfit/sol/ex7m8.jpg\" width=\"60%\" />\n",
        "<img src=\"https://samyzaf.com/technion/cfit/sol/ex7m9.jpg\" width=\"60%\" />\n",
        "<img src=\"https://samyzaf.com/technion/cfit/sol/ex7m10.jpg\" width=\"60%\" />\n",
        "<img src=\"https://samyzaf.com/technion/cfit/sol/ex7m11.jpg\" width=\"60%\" />"
      ]
    },
    {
      "cell_type": "markdown",
      "id": "c6fa0ba3",
      "metadata": {
        "cell_marker": "\"\"\"",
        "id": "c6fa0ba3"
      },
      "source": [
        "# Exercise 7.34\n",
        "\n",
        "<img src=\"https://samyzaf.com/technion/cfit/sol/ex7l.jpg\" width=\"60%\" />"
      ]
    },
    {
      "cell_type": "markdown",
      "id": "fb65ac21",
      "metadata": {
        "cell_marker": "\"\"\"",
        "id": "fb65ac21"
      },
      "source": [
        "# Exercise 7.36\n",
        "\n",
        "<img\n",
        "src=\"https://samyzaf.com/technion/cfit/sol/ex7v1.jpg\"\n",
        "width=\"60%\"\n",
        "/>\n",
        "\n",
        "<img\n",
        "src=\"https://samyzaf.com/technion/cfit/sol/ex7v2.jpg\"\n",
        "width=\"60%\"\n",
        "/>"
      ]
    },
    {
      "cell_type": "markdown",
      "id": "5f3b21a2",
      "metadata": {
        "cell_marker": "\"\"\"",
        "id": "5f3b21a2"
      },
      "source": [
        "# Exercise 7.37\n",
        "\n",
        "<img src=\"https://samyzaf.com/technion/cfit/sol/fig0b1.jpg\" width=\"60%\" />\n",
        "<img src=\"https://samyzaf.com/technion/cfit/sol/fig0b2.jpg\" width=\"60%\" />"
      ]
    },
    {
      "cell_type": "markdown",
      "id": "49c50196",
      "metadata": {
        "cell_marker": "\"\"\"",
        "id": "49c50196"
      },
      "source": [
        "# Exercise 7.38\n",
        "\n",
        "<img src=\"https://samyzaf.com/technion/cfit/sol/ex7o1.jpg\" width=\"60%\" />\n",
        "<img src=\"https://samyzaf.com/technion/cfit/sol/ex7o2.jpg\" width=\"60%\" />"
      ]
    },
    {
      "cell_type": "markdown",
      "id": "c56108e8",
      "metadata": {
        "cell_marker": "\"\"\"",
        "id": "c56108e8"
      },
      "source": [
        "# Exercise 7.39\n",
        "\n",
        "<img src=\"https://samyzaf.com/technion/cfit/sol/ex7x1.jpg\" width=\"60%\" />\n",
        "<img src=\"https://samyzaf.com/technion/cfit/sol/ex7x2.jpg\" width=\"60%\" />"
      ]
    },
    {
      "cell_type": "markdown",
      "id": "3d2f694d",
      "metadata": {
        "cell_marker": "\"\"\"",
        "id": "3d2f694d"
      },
      "source": [
        "# Exercise 7.40\n",
        "\n",
        "<img\n",
        "src=\"https://samyzaf.com/technion/cfit/sol/ex7y.jpg\"\n",
        "width=\"60%\"\n",
        "/>"
      ]
    },
    {
      "cell_type": "markdown",
      "id": "97eb73cb",
      "metadata": {
        "cell_marker": "\"\"\"",
        "id": "97eb73cb"
      },
      "source": [
        "# Exercise 7.55\n",
        "\n",
        "<img\n",
        "src=\"https://samyzaf.com/technion/cfit/sol/fig0b1.jpg\"\n",
        "width=\"60%\"\n",
        "/>"
      ]
    },
    {
      "cell_type": "markdown",
      "id": "cc46dbde",
      "metadata": {
        "cell_marker": "\"\"\"",
        "id": "cc46dbde"
      },
      "source": [
        "# Exercise 7.57\n",
        "\n",
        "<img\n",
        "src=\"https://samyzaf.com/technion/cfit/sol/ex7ae.jpg\"\n",
        "width=\"60%\"\n",
        "/>"
      ]
    },
    {
      "cell_type": "markdown",
      "id": "5fdf73dd",
      "metadata": {
        "cell_marker": "\"\"\"",
        "id": "5fdf73dd"
      },
      "source": [
        "# Exercise 7.59\n",
        "\n",
        "<img\n",
        "src=\"https://samyzaf.com/technion/cfit/sol/ex7ad.jpg\"\n",
        "width=\"60%\"\n",
        "/>"
      ]
    },
    {
      "cell_type": "markdown",
      "id": "3b9e6a69",
      "metadata": {
        "cell_marker": "\"\"\"",
        "id": "3b9e6a69"
      },
      "source": [
        "# Exercise 7.60\n",
        "\n",
        "<img\n",
        "src=\"https://samyzaf.com/technion/cfit/sol/ex7ag.jpg\"\n",
        "width=\"60%\"\n",
        "/>"
      ]
    },
    {
      "cell_type": "markdown",
      "id": "cf96a539",
      "metadata": {
        "cell_marker": "\"\"\"",
        "id": "cf96a539"
      },
      "source": [
        "# Exercise 7.75\n",
        "\n",
        "<img\n",
        "src=\"https://samyzaf.com/technion/cfit/sol/ex7i.jpg\"\n",
        "width=\"60%\"\n",
        "/>"
      ]
    },
    {
      "cell_type": "markdown",
      "id": "651c779a",
      "metadata": {
        "cell_marker": "\"\"\"",
        "id": "651c779a"
      },
      "source": [
        "# Exercise 7.78\n",
        "\n",
        "<img src=\"https://samyzaf.com/technion/cfit/sol/ex7aa.jpg\" width=\"60%\" />\n",
        "<img src=\"https://samyzaf.com/technion/cfit/sol/ex7ac.jpg\" width=\"60%\" />"
      ]
    },
    {
      "cell_type": "markdown",
      "id": "0500e06a",
      "metadata": {
        "cell_marker": "\"\"\"",
        "id": "0500e06a"
      },
      "source": [
        "# Exercise 7.80\n",
        "\n",
        "<img src=\"https://samyzaf.com/technion/cfit/sol/ex7k.jpg\" width=\"60%\" />"
      ]
    },
    {
      "cell_type": "markdown",
      "id": "18e7dcbd",
      "metadata": {
        "cell_marker": "\"\"\"",
        "id": "18e7dcbd"
      },
      "source": [
        "# Exercise 7.84\n",
        "\n",
        "This discussion in math.stackexchange may contain a solution:\n",
        "\n",
        "https://math.stackexchange.com/questions/626488/find-all-entire-functions-fz-such-that-fz-1-for-z-1"
      ]
    },
    {
      "cell_type": "markdown",
      "id": "0dea8e91",
      "metadata": {
        "cell_marker": "\"\"\"",
        "lines_to_next_cell": 2,
        "id": "0dea8e91"
      },
      "source": [
        "# Exercise 7.89\n",
        "\n",
        "<img src=\"https://samyzaf.com/technion/cfit/sol/ex7j.jpg\" width=\"60%\" />"
      ]
    }
  ],
  "metadata": {
    "jupytext": {
      "cell_metadata_filter": "-all",
      "main_language": "python",
      "notebook_metadata_filter": "-all"
    },
    "colab": {
      "provenance": [],
      "include_colab_link": true
    }
  },
  "nbformat": 4,
  "nbformat_minor": 5
}