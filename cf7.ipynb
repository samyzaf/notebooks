{
  "cells": [
    {
      "cell_type": "markdown",
      "metadata": {
        "id": "view-in-github",
        "colab_type": "text"
      },
      "source": [
        "<a href=\"https://colab.research.google.com/github/samyzaf/notebooks/blob/main/cf7.ipynb\" target=\"_parent\"><img src=\"https://colab.research.google.com/assets/colab-badge.svg\" alt=\"Open In Colab\"/></a>"
      ]
    },
    {
      "cell_type": "markdown",
      "id": "b728056c",
      "metadata": {
        "cell_marker": "\"\"\"",
        "id": "b728056c"
      },
      "source": [
        "# **Complex Functions**\n",
        "# Chapter 7: Solutions to exercises\n",
        "\n",
        "<a href=\"https://samyzaf.com/technion/cfit/cf.pdf\">\n",
        "<img src=\"https://samyzaf.com/technion/cfit/cf1.jpg\" alt=\"cf book cover\"/>\n",
        "</a>\n",
        "\n",
        "* These are only a small number of solutions.\n",
        "  Hopefully this will encourage students to try to\n",
        "  solve more exercises with similar methods.\n",
        "\n",
        "* We will be glad to accept notebooks\n",
        "  with solutions to other exercises in this book.\n",
        "  Please send them to mail@samyzaf.com.\n",
        "\n",
        "* Thanks a lot to all the students that provided help, short snippets, and ideas."
      ]
    },
    {
      "cell_type": "markdown",
      "id": "98bcf6bd",
      "metadata": {
        "cell_marker": "\"\"\"",
        "id": "98bcf6bd"
      },
      "source": [
        "# **Exercise 7.5**\n",
        "\n",
        "<img src=\"https://samyzaf.com/technion/cfit/sol/ex7u1.jpg\" width=\"75%\" />\n",
        "<img src=\"https://samyzaf.com/technion/cfit/sol/ex7u2.jpg\" width=\"75%\" />\n",
        "<img src=\"https://samyzaf.com/technion/cfit/sol/ex7u3.jpg\" width=\"75%\" />\n",
        "<img src=\"https://samyzaf.com/technion/cfit/sol/ex7u4.jpg\" width=\"75%\" />\n",
        "<img src=\"https://samyzaf.com/technion/cfit/sol/ex7u5.jpg\" width=\"75%\" />\n",
        "<img src=\"https://samyzaf.com/technion/cfit/sol/ex7u6.jpg\" width=\"75%\" />\n",
        "<img src=\"https://samyzaf.com/technion/cfit/sol/ex7u7.jpg\" width=\"75%\" />"
      ]
    },
    {
      "cell_type": "markdown",
      "id": "bdb20b54",
      "metadata": {
        "cell_marker": "\"\"\"",
        "id": "bdb20b54"
      },
      "source": [
        "# **Exercise 7.6**\n",
        "\n",
        "<img\n",
        "src=\"https://samyzaf.com/technion/cfit/sol/ex7r.jpg\"\n",
        "width=\"100%\"\n",
        "/>"
      ]
    },
    {
      "cell_type": "markdown",
      "id": "1f127c12",
      "metadata": {
        "cell_marker": "\"\"\"",
        "id": "1f127c12"
      },
      "source": [
        "# **Exercise 7.7**\n",
        "\n",
        "<img\n",
        "src=\"https://samyzaf.com/technion/cfit/sol/ex7z1.jpg\"\n",
        "width=\"75%\"\n",
        "/>"
      ]
    },
    {
      "cell_type": "markdown",
      "id": "e26dcceb",
      "metadata": {
        "cell_marker": "\"\"\"",
        "id": "e26dcceb"
      },
      "source": [
        "# **Exercise 7.8**\n",
        "\n",
        "<img\n",
        "src=\"https://samyzaf.com/technion/cfit/sol/ex7af.jpg\"\n",
        "width=\"75%\"\n",
        "/>"
      ]
    },
    {
      "cell_type": "markdown",
      "id": "5d24b4be",
      "metadata": {
        "cell_marker": "\"\"\"",
        "id": "5d24b4be"
      },
      "source": [
        "# **Exercise 7.10**\n",
        "\n",
        "<img\n",
        "src=\"https://samyzaf.com/technion/cfit/sol/ex7z2.jpg\"\n",
        "width=\"75%\"\n",
        "/>"
      ]
    },
    {
      "cell_type": "markdown",
      "id": "3a4625ae",
      "metadata": {
        "cell_marker": "\"\"\"",
        "id": "3a4625ae"
      },
      "source": [
        "# **Exercise 7.20**\n",
        "\n",
        "<img\n",
        "src=\"https://samyzaf.com/technion/cfit/sol/ex7z3.jpg\"\n",
        "width=\"75%\"\n",
        "/>"
      ]
    },
    {
      "cell_type": "markdown",
      "id": "408cb161",
      "metadata": {
        "cell_marker": "\"\"\"",
        "id": "408cb161"
      },
      "source": [
        "# **Exercise 7.22**\n",
        "\n",
        "<img\n",
        "src=\"https://samyzaf.com/technion/cfit/sol/ex7w.jpg\"\n",
        "width=\"75%\"\n",
        "/>"
      ]
    },
    {
      "cell_type": "markdown",
      "id": "940e05c0",
      "metadata": {
        "cell_marker": "\"\"\"",
        "id": "940e05c0"
      },
      "source": [
        "# **Exercise 7.25**\n",
        "\n",
        "<img\n",
        "src=\"https://samyzaf.com/technion/cfit/sol/ex7aa.jpg\"\n",
        "width=\"75%\"\n",
        "/>"
      ]
    },
    {
      "cell_type": "markdown",
      "id": "761c71b6",
      "metadata": {
        "cell_marker": "\"\"\"",
        "id": "761c71b6"
      },
      "source": [
        "# **Exercise 7.26**\n",
        "\n",
        "<img src=\"https://samyzaf.com/technion/cfit/sol/fig0d.jpg\" width=\"75%\" />\n",
        "<img src=\"https://samyzaf.com/technion/cfit/sol/ex7g.jpg\" width=\"75%\" />"
      ]
    },
    {
      "cell_type": "markdown",
      "id": "d73994bc",
      "metadata": {
        "cell_marker": "\"\"\"",
        "id": "d73994bc"
      },
      "source": [
        "# **Exercise 7.28**\n",
        "\n",
        "<img\n",
        "src=\"https://samyzaf.com/technion/cfit/sol/ex7p.jpg\"\n",
        "width=\"100%\"\n",
        "/>"
      ]
    },
    {
      "cell_type": "markdown",
      "id": "d03b855b",
      "metadata": {
        "cell_marker": "\"\"\"",
        "id": "d03b855b"
      },
      "source": [
        "# **Exercise 7.30**\n",
        "\n",
        "<img src=\"https://samyzaf.com/technion/cfit/sol/ex6m.jpg\" width=\"75%\" />\n",
        "<img src=\"https://samyzaf.com/technion/cfit/sol/ex7z.jpg\" width=\"75%\" />"
      ]
    },
    {
      "cell_type": "markdown",
      "id": "c23059ee",
      "metadata": {
        "cell_marker": "\"\"\"",
        "id": "c23059ee"
      },
      "source": [
        "# **Exercise 7.33**\n",
        "\n",
        "<img src=\"https://samyzaf.com/technion/cfit/sol/ex7m1.jpg\" width=\"75%\" />\n",
        "<img src=\"https://samyzaf.com/technion/cfit/sol/ex7m2.jpg\" width=\"75%\" />\n",
        "<img src=\"https://samyzaf.com/technion/cfit/sol/ex7m3.jpg\" width=\"75%\" />\n",
        "<img src=\"https://samyzaf.com/technion/cfit/sol/ex7m4.jpg\" width=\"75%\" />\n",
        "<img src=\"https://samyzaf.com/technion/cfit/sol/ex7m5.jpg\" width=\"75%\" />\n",
        "<img src=\"https://samyzaf.com/technion/cfit/sol/ex7m6.jpg\" width=\"75%\" />\n",
        "<img src=\"https://samyzaf.com/technion/cfit/sol/ex7m7.jpg\" width=\"75%\" />\n",
        "<img src=\"https://samyzaf.com/technion/cfit/sol/ex7m8.jpg\" width=\"75%\" />\n",
        "<img src=\"https://samyzaf.com/technion/cfit/sol/ex7m9.jpg\" width=\"75%\" />\n",
        "<img src=\"https://samyzaf.com/technion/cfit/sol/ex7m10.jpg\" width=\"75%\" />\n",
        "<img src=\"https://samyzaf.com/technion/cfit/sol/ex7m11.jpg\" width=\"75%\" />"
      ]
    },
    {
      "cell_type": "markdown",
      "id": "53a63de8",
      "metadata": {
        "cell_marker": "\"\"\"",
        "id": "53a63de8"
      },
      "source": [
        "# **Exercise 7.34**\n",
        "\n",
        "<img src=\"https://samyzaf.com/technion/cfit/sol/ex7l.jpg\" width=\"75%\" />"
      ]
    },
    {
      "cell_type": "markdown",
      "id": "7ccfab02",
      "metadata": {
        "cell_marker": "\"\"\"",
        "id": "7ccfab02"
      },
      "source": [
        "# **Exercise 7.36**\n",
        "\n",
        "<img\n",
        "src=\"https://samyzaf.com/technion/cfit/sol/ex7v1.jpg\"\n",
        "width=\"75%\"\n",
        "/>\n",
        "\n",
        "<img\n",
        "src=\"https://samyzaf.com/technion/cfit/sol/ex7v2.jpg\"\n",
        "width=\"75%\"\n",
        "/>"
      ]
    },
    {
      "cell_type": "markdown",
      "id": "0dd8c22c",
      "metadata": {
        "cell_marker": "\"\"\"",
        "id": "0dd8c22c"
      },
      "source": [
        "# **Exercise 7.37**\n",
        "\n",
        "<img src=\"https://samyzaf.com/technion/cfit/sol/fig0b1.jpg\" width=\"75%\" />\n",
        "<img src=\"https://samyzaf.com/technion/cfit/sol/fig0b2.jpg\" width=\"75%\" />"
      ]
    },
    {
      "cell_type": "markdown",
      "id": "1e1f7323",
      "metadata": {
        "cell_marker": "\"\"\"",
        "id": "1e1f7323"
      },
      "source": [
        "# **Exercise 7.38**\n",
        "\n",
        "<img src=\"https://samyzaf.com/technion/cfit/sol/ex7o1.jpg\" width=\"75%\" />\n",
        "<img src=\"https://samyzaf.com/technion/cfit/sol/ex7o2.jpg\" width=\"75%\" />"
      ]
    },
    {
      "cell_type": "markdown",
      "id": "461411d0",
      "metadata": {
        "cell_marker": "\"\"\"",
        "id": "461411d0"
      },
      "source": [
        "# **Exercise 7.39**\n",
        "\n",
        "<img src=\"https://samyzaf.com/technion/cfit/sol/ex7x1.jpg\" width=\"75%\" />\n",
        "<img src=\"https://samyzaf.com/technion/cfit/sol/ex7x2.jpg\" width=\"75%\" />"
      ]
    },
    {
      "cell_type": "markdown",
      "id": "d5afd36f",
      "metadata": {
        "cell_marker": "\"\"\"",
        "id": "d5afd36f"
      },
      "source": [
        "# **Exercise 7.40**\n",
        "\n",
        "<img\n",
        "src=\"https://samyzaf.com/technion/cfit/sol/ex7y.jpg\"\n",
        "width=\"75%\"\n",
        "/>"
      ]
    },
    {
      "cell_type": "markdown",
      "id": "bb8918b6",
      "metadata": {
        "cell_marker": "\"\"\"",
        "id": "bb8918b6"
      },
      "source": [
        "# **Exercise 7.55**\n",
        "\n",
        "<img\n",
        "src=\"https://samyzaf.com/technion/cfit/sol/fig0b1.jpg\"\n",
        "width=\"75%\"\n",
        "/>"
      ]
    },
    {
      "cell_type": "markdown",
      "id": "72ec681e",
      "metadata": {
        "cell_marker": "\"\"\"",
        "id": "72ec681e"
      },
      "source": [
        "# **Exercise 7.57**\n",
        "\n",
        "<img\n",
        "src=\"https://samyzaf.com/technion/cfit/sol/ex7ae.jpg\"\n",
        "width=\"75%\"\n",
        "/>"
      ]
    },
    {
      "cell_type": "markdown",
      "id": "61af2a3c",
      "metadata": {
        "cell_marker": "\"\"\"",
        "id": "61af2a3c"
      },
      "source": [
        "# **Exercise 7.59**\n",
        "\n",
        "<img\n",
        "src=\"https://samyzaf.com/technion/cfit/sol/ex7ad.jpg\"\n",
        "width=\"75%\"\n",
        "/>"
      ]
    },
    {
      "cell_type": "markdown",
      "id": "cbf5c111",
      "metadata": {
        "cell_marker": "\"\"\"",
        "id": "cbf5c111"
      },
      "source": [
        "# **Exercise 7.60**\n",
        "\n",
        "<img\n",
        "src=\"https://samyzaf.com/technion/cfit/sol/ex7ag.jpg\"\n",
        "width=\"75%\"\n",
        "/>"
      ]
    },
    {
      "cell_type": "markdown",
      "id": "487446f5",
      "metadata": {
        "cell_marker": "\"\"\"",
        "id": "487446f5"
      },
      "source": [
        "# **Exercise 7.75**\n",
        "\n",
        "<img\n",
        "src=\"https://samyzaf.com/technion/cfit/sol/ex7i.jpg\"\n",
        "width=\"75%\"\n",
        "/>"
      ]
    },
    {
      "cell_type": "markdown",
      "id": "dbe6e7e8",
      "metadata": {
        "cell_marker": "\"\"\"",
        "id": "dbe6e7e8"
      },
      "source": [
        "# **Exercise 7.78**\n",
        "\n",
        "<img src=\"https://samyzaf.com/technion/cfit/sol/ex7aa.jpg\" width=\"75%\" />\n",
        "<img src=\"https://samyzaf.com/technion/cfit/sol/ex7ac.jpg\" width=\"75%\" />"
      ]
    },
    {
      "cell_type": "markdown",
      "id": "3869af23",
      "metadata": {
        "cell_marker": "\"\"\"",
        "id": "3869af23"
      },
      "source": [
        "# **Exercise 7.80**\n",
        "\n",
        "<img src=\"https://samyzaf.com/technion/cfit/sol/ex7k.jpg\" width=\"75%\" />"
      ]
    },
    {
      "cell_type": "markdown",
      "id": "9bd9947d",
      "metadata": {
        "cell_marker": "\"\"\"",
        "id": "9bd9947d"
      },
      "source": [
        "# **Exercise 7.84**\n",
        "\n",
        "This discussion in math.stackexchange may contain a solution:\n",
        "\n",
        "https://math.stackexchange.com/questions/626488/find-all-entire-functions-fz-such-that-fz-1-for-z-1"
      ]
    },
    {
      "cell_type": "markdown",
      "id": "f9800c44",
      "metadata": {
        "cell_marker": "\"\"\"",
        "lines_to_next_cell": 2,
        "id": "f9800c44"
      },
      "source": [
        "# **Exercise 7.89**\n",
        "\n",
        "<img src=\"https://samyzaf.com/technion/cfit/sol/ex7j.jpg\" width=\"75%\" />"
      ]
    }
  ],
  "metadata": {
    "jupytext": {
      "cell_metadata_filter": "-all",
      "main_language": "python",
      "notebook_metadata_filter": "-all"
    },
    "colab": {
      "provenance": [],
      "include_colab_link": true
    }
  },
  "nbformat": 4,
  "nbformat_minor": 5
}