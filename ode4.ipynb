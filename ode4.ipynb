{
  "cells": [
    {
      "cell_type": "markdown",
      "metadata": {
        "id": "view-in-github",
        "colab_type": "text"
      },
      "source": [
        "<a href=\"https://colab.research.google.com/github/samyzaf/notebooks/blob/main/ode4.ipynb\" target=\"_parent\"><img src=\"https://colab.research.google.com/assets/colab-badge.svg\" alt=\"Open In Colab\"/></a>"
      ]
    },
    {
      "cell_type": "markdown",
      "id": "4332060a",
      "metadata": {
        "cell_marker": "\"\"\"",
        "id": "4332060a"
      },
      "source": [
        "\n",
        "# Ordinary Differential Equations\n",
        "# Chapter 4: Solutions to exercises\n",
        "\n",
        "<a href=\"https://samyzaf.com/technion/ode/ode.pdf\">\n",
        "<img src=\"https://samyzaf.com/technion/ode/ode2.jpg\" alt=\"ode book cover\"/>\n",
        "</a>\n",
        "\n",
        "* We used Python **Sympy** package for obtaining the final\n",
        "  result for most of the exercises.\n",
        "* This package is still under development, and is not yet\n",
        "  ready to cope with all ode's.\n",
        "* The new site https://mathdf.com seems to be a great source\n",
        "  for obtaining full step-by-step solutions.\n",
        "  Please use it for obtaining full solutions and let us know\n",
        "  if it meets expectations. We will be glad to receive full solutions\n",
        "  and add them here later (sz@samyzaf.com).\n",
        "* This notebook can be edited and executed by clicking\n",
        "  the **open in colab** button.\n",
        "* These are only a small number of solutions.\n",
        "  Hopefully this will encourage students to try to solve more\n",
        "  exercises with similar methods. We will be glad to accept notebooks\n",
        "  with solutions to other exercises in this book.\n",
        "  Please send them to sz@samyzaf.com."
      ]
    },
    {
      "cell_type": "code",
      "execution_count": null,
      "id": "1892809b",
      "metadata": {
        "id": "1892809b"
      },
      "outputs": [],
      "source": [
        "from sympy import *\n",
        "from sympy.solvers.ode import checkodesol\n",
        "from IPython.display import HTML"
      ]
    },
    {
      "cell_type": "markdown",
      "id": "c566f3e9",
      "metadata": {
        "cell_marker": "\"\"\"",
        "id": "c566f3e9"
      },
      "source": [
        "# Exercise 4.1.1\n",
        "\n",
        "$y'' -25y = 0$"
      ]
    },
    {
      "cell_type": "code",
      "execution_count": null,
      "id": "adc956fa",
      "metadata": {
        "lines_to_next_cell": 2,
        "colab": {
          "base_uri": "https://localhost:8080/",
          "height": 56
        },
        "id": "adc956fa",
        "outputId": "e37d8893-3db7-461f-e846-9eee2defd348"
      },
      "outputs": [
        {
          "output_type": "display_data",
          "data": {
            "text/plain": [
              "Eq(y(x), C1*exp(-5*x) + C2*exp(5*x))"
            ],
            "text/latex": "$\\displaystyle y{\\left(x \\right)} = C_{1} e^{- 5 x} + C_{2} e^{5 x}$"
          },
          "metadata": {}
        },
        {
          "output_type": "execute_result",
          "data": {
            "text/plain": [
              "(True, 0)"
            ]
          },
          "metadata": {},
          "execution_count": 57
        }
      ],
      "source": [
        "x = symbols(\"x\", real=True)\n",
        "y = symbols(\"y\", cls=Function)\n",
        "de = Eq(y(x).diff(x,x) - 25*y(x) , 0)\n",
        "Y = dsolve(de)\n",
        "display(Y)\n",
        "\n",
        "checkodesol(de, Y)"
      ]
    },
    {
      "cell_type": "markdown",
      "id": "6fd3c016",
      "metadata": {
        "cell_marker": "\"\"\"",
        "id": "6fd3c016"
      },
      "source": [
        "# Exercise 4.1.2\n",
        "\n",
        "$y''-2y'+2y=0$"
      ]
    },
    {
      "cell_type": "code",
      "execution_count": null,
      "id": "2eb28819",
      "metadata": {
        "lines_to_next_cell": 2,
        "colab": {
          "base_uri": "https://localhost:8080/",
          "height": 56
        },
        "id": "2eb28819",
        "outputId": "ea9dd7f1-7d06-41f5-c0c0-e5de0a6affb2"
      },
      "outputs": [
        {
          "output_type": "display_data",
          "data": {
            "text/plain": [
              "Eq(y(x), (C1*sin(x) + C2*cos(x))*exp(x))"
            ],
            "text/latex": "$\\displaystyle y{\\left(x \\right)} = \\left(C_{1} \\sin{\\left(x \\right)} + C_{2} \\cos{\\left(x \\right)}\\right) e^{x}$"
          },
          "metadata": {}
        },
        {
          "output_type": "execute_result",
          "data": {
            "text/plain": [
              "(True, 0)"
            ]
          },
          "metadata": {},
          "execution_count": 58
        }
      ],
      "source": [
        "x = symbols(\"x\", real=True)\n",
        "y = symbols(\"y\", cls=Function)\n",
        "de = Eq(y(x).diff(x,x) - 2*y(x).diff(x) + 2*y(x) , 0)\n",
        "Y = dsolve(de)\n",
        "display(Y)\n",
        "\n",
        "checkodesol(de, Y)"
      ]
    },
    {
      "cell_type": "markdown",
      "id": "abba298e",
      "metadata": {
        "cell_marker": "\"\"\"",
        "id": "abba298e"
      },
      "source": [
        "# Exercise 4.1.3\n",
        "\n",
        "$y'' - 5y' + 6y = 0$"
      ]
    },
    {
      "cell_type": "code",
      "execution_count": null,
      "id": "622be641",
      "metadata": {
        "lines_to_next_cell": 2,
        "colab": {
          "base_uri": "https://localhost:8080/",
          "height": 39
        },
        "id": "622be641",
        "outputId": "7dd1e923-482b-4f3a-c3f5-b0f18faf249a"
      },
      "outputs": [
        {
          "output_type": "execute_result",
          "data": {
            "text/plain": [
              "Eq(y(x), C1*exp(2*x) + C2*exp(3*x))"
            ],
            "text/latex": "$\\displaystyle y{\\left(x \\right)} = C_{1} e^{2 x} + C_{2} e^{3 x}$"
          },
          "metadata": {},
          "execution_count": 59
        }
      ],
      "source": [
        "x = symbols(\"x\", real=True)\n",
        "y = symbols(\"y\", cls=Function)\n",
        "de = Eq(y(x).diff(x,x) - 5*y(x).diff(x) + 6*y(x) , 0)\n",
        "dsolve(de)\n",
        "\n",
        "expand(dsolve(de))"
      ]
    },
    {
      "cell_type": "markdown",
      "id": "f75fd715",
      "metadata": {
        "cell_marker": "\"\"\"",
        "id": "f75fd715"
      },
      "source": [
        "# Exercise 4.1.4\n",
        "\n",
        "$y''' - y = 0$"
      ]
    },
    {
      "cell_type": "code",
      "execution_count": null,
      "id": "01568ee2",
      "metadata": {
        "lines_to_next_cell": 2,
        "colab": {
          "base_uri": "https://localhost:8080/",
          "height": 119
        },
        "id": "01568ee2",
        "outputId": "e381a6ee-a561-4508-a1ba-5de043a9808d"
      },
      "outputs": [
        {
          "output_type": "display_data",
          "data": {
            "text/plain": [
              "Eq(y(x), C3*exp(x) + (C1*sin(sqrt(3)*x/2) + C2*cos(sqrt(3)*x/2))*exp(-x/2))"
            ],
            "text/latex": "$\\displaystyle y{\\left(x \\right)} = C_{3} e^{x} + \\left(C_{1} \\sin{\\left(\\frac{\\sqrt{3} x}{2} \\right)} + C_{2} \\cos{\\left(\\frac{\\sqrt{3} x}{2} \\right)}\\right) e^{- \\frac{x}{2}}$"
          },
          "metadata": {}
        },
        {
          "output_type": "execute_result",
          "data": {
            "text/plain": [
              "Eq(y(x), C1*exp(-x/2)*sin(sqrt(3)*x/2) + C2*exp(-x/2)*cos(sqrt(3)*x/2) + C3*exp(x))"
            ],
            "text/latex": "$\\displaystyle y{\\left(x \\right)} = C_{1} e^{- \\frac{x}{2}} \\sin{\\left(\\frac{\\sqrt{3} x}{2} \\right)} + C_{2} e^{- \\frac{x}{2}} \\cos{\\left(\\frac{\\sqrt{3} x}{2} \\right)} + C_{3} e^{x}$"
          },
          "metadata": {},
          "execution_count": 60
        }
      ],
      "source": [
        "x = symbols(\"x\", real=True)\n",
        "y = symbols(\"y\", cls=Function)\n",
        "de = Eq(y(x).diff(x,x,x) - y(x) , 0)\n",
        "Y=dsolve(de)\n",
        "display(Y)\n",
        "\n",
        "expand(Y)"
      ]
    },
    {
      "cell_type": "markdown",
      "id": "3e6be622",
      "metadata": {
        "cell_marker": "\"\"\"",
        "id": "3e6be622"
      },
      "source": [
        "# Exercise 4.1.5\n",
        "\n",
        "$y^{(4)} - y = 0$"
      ]
    },
    {
      "cell_type": "code",
      "execution_count": null,
      "id": "0a9611c4",
      "metadata": {
        "lines_to_next_cell": 2,
        "colab": {
          "base_uri": "https://localhost:8080/",
          "height": 39
        },
        "id": "0a9611c4",
        "outputId": "e28cef17-ccf4-4856-d27a-405f5c8a15af"
      },
      "outputs": [
        {
          "output_type": "execute_result",
          "data": {
            "text/plain": [
              "Eq(y(x), C1*exp(-x) + C2*exp(x) + C3*sin(x) + C4*cos(x))"
            ],
            "text/latex": "$\\displaystyle y{\\left(x \\right)} = C_{1} e^{- x} + C_{2} e^{x} + C_{3} \\sin{\\left(x \\right)} + C_{4} \\cos{\\left(x \\right)}$"
          },
          "metadata": {},
          "execution_count": 61
        }
      ],
      "source": [
        "t = symbols(\"t\", real=True)\n",
        "s = symbols(\"s\", cls=Function)\n",
        "de = Eq(y(x).diff(x,x,x,x) - y(x) , 0)\n",
        "dsolve(de)"
      ]
    },
    {
      "cell_type": "markdown",
      "id": "65c03a02",
      "metadata": {
        "cell_marker": "\"\"\"",
        "id": "65c03a02"
      },
      "source": [
        "# Exercise 4.1.6\n",
        "\n",
        "$y^{(4)} + 4y'' + 3y = 0$"
      ]
    },
    {
      "cell_type": "code",
      "execution_count": null,
      "id": "2ff528c7",
      "metadata": {
        "lines_to_next_cell": 2,
        "colab": {
          "base_uri": "https://localhost:8080/",
          "height": 47
        },
        "id": "2ff528c7",
        "outputId": "499a1da0-357e-4582-efbb-18f5a015c9c0"
      },
      "outputs": [
        {
          "output_type": "execute_result",
          "data": {
            "text/plain": [
              "Eq(y(x), C1*sin(x) + C2*sin(sqrt(3)*x) + C3*cos(x) + C4*cos(sqrt(3)*x))"
            ],
            "text/latex": "$\\displaystyle y{\\left(x \\right)} = C_{1} \\sin{\\left(x \\right)} + C_{2} \\sin{\\left(\\sqrt{3} x \\right)} + C_{3} \\cos{\\left(x \\right)} + C_{4} \\cos{\\left(\\sqrt{3} x \\right)}$"
          },
          "metadata": {},
          "execution_count": 62
        }
      ],
      "source": [
        "x = Symbol(\"x\", real=True)\n",
        "y = symbols(\"y\", cls=Function)\n",
        "de = Eq(y(x).diff(x,x,x,x) + 4*y(x).diff(x,x) + 3*y(x) , 0)\n",
        "dsolve(de)"
      ]
    },
    {
      "cell_type": "markdown",
      "id": "76afb10e",
      "metadata": {
        "cell_marker": "\"\"\"",
        "id": "76afb10e"
      },
      "source": [
        "# Exercise 4.1.7\n",
        "\n",
        "$y''' - 2y'' - 3y' = 0$"
      ]
    },
    {
      "cell_type": "code",
      "execution_count": null,
      "id": "9d858b3b",
      "metadata": {
        "lines_to_next_cell": 2,
        "colab": {
          "base_uri": "https://localhost:8080/"
        },
        "id": "9d858b3b",
        "outputId": "d06a2aeb-9fa8-40ac-9996-23520d07d507"
      },
      "outputs": [
        {
          "output_type": "execute_result",
          "data": {
            "text/plain": [
              "(True, 0)"
            ]
          },
          "metadata": {},
          "execution_count": 63
        }
      ],
      "source": [
        "x = symbols(\"x\", real=True)\n",
        "y = symbols(\"y\", cls=Function)\n",
        "de = Eq(y(x).diff(x,x,x) - 2*y(x).diff(x,x) - 3*y(x).diff(x) , 0)\n",
        "dsolve(de)\n",
        "\n",
        "Y = dsolve(de)\n",
        "checkodesol(de, Y)"
      ]
    },
    {
      "cell_type": "markdown",
      "id": "b71a7eee",
      "metadata": {
        "cell_marker": "\"\"\"",
        "id": "b71a7eee"
      },
      "source": [
        "# Exercise 4.1.8\n",
        "\n",
        "$y''' - 3y'' + 3y' - y = 0$"
      ]
    },
    {
      "cell_type": "code",
      "execution_count": null,
      "id": "7e92c5aa",
      "metadata": {
        "lines_to_next_cell": 2,
        "colab": {
          "base_uri": "https://localhost:8080/",
          "height": 56
        },
        "id": "7e92c5aa",
        "outputId": "f98e8447-0e40-4712-b47e-2339f33c501f"
      },
      "outputs": [
        {
          "output_type": "display_data",
          "data": {
            "text/plain": [
              "Eq(y(x), C1*exp(x) + C2*x*exp(x) + C3*x**2*exp(x))"
            ],
            "text/latex": "$\\displaystyle y{\\left(x \\right)} = C_{1} e^{x} + C_{2} x e^{x} + C_{3} x^{2} e^{x}$"
          },
          "metadata": {}
        },
        {
          "output_type": "execute_result",
          "data": {
            "text/plain": [
              "(True, 0)"
            ]
          },
          "metadata": {},
          "execution_count": 64
        }
      ],
      "source": [
        "x = symbols(\"x\", real=True)\n",
        "y = symbols(\"y\", cls=Function)\n",
        "de = Eq(y(x).diff(x,x,x) - 3*y(x).diff(x,x) + 3*y(x).diff(x) - y(x) , 0)\n",
        "Y = dsolve(de)\n",
        "Y = expand(Y)\n",
        "display(Y)\n",
        "\n",
        "checkodesol(de, Y)"
      ]
    },
    {
      "cell_type": "markdown",
      "id": "a978f5c1",
      "metadata": {
        "cell_marker": "\"\"\"",
        "id": "a978f5c1"
      },
      "source": [
        "# Exercise 4.1.9\n",
        "\n",
        "$y^{(4)} - 5y'' + 4y = 0$"
      ]
    },
    {
      "cell_type": "code",
      "execution_count": null,
      "id": "a11c71a4",
      "metadata": {
        "lines_to_next_cell": 2,
        "colab": {
          "base_uri": "https://localhost:8080/",
          "height": 39
        },
        "id": "a11c71a4",
        "outputId": "e38215f3-8bb1-40af-97b6-333d60f8012e"
      },
      "outputs": [
        {
          "output_type": "display_data",
          "data": {
            "text/plain": [
              "Eq(y(x), C1*exp(-2*x) + C2*exp(-x) + C3*exp(x) + C4*exp(2*x))"
            ],
            "text/latex": "$\\displaystyle y{\\left(x \\right)} = C_{1} e^{- 2 x} + C_{2} e^{- x} + C_{3} e^{x} + C_{4} e^{2 x}$"
          },
          "metadata": {}
        }
      ],
      "source": [
        "x = symbols(\"x\", real=True)\n",
        "y = symbols(\"y\", cls=Function)\n",
        "de = Eq(y(x).diff(x,x,x,x) - 5*y(x).diff(x,x) + 4*y(x) , 0)\n",
        "Y = dsolve(de)\n",
        "display(Y)"
      ]
    },
    {
      "cell_type": "markdown",
      "id": "cdee0b08",
      "metadata": {
        "cell_marker": "\"\"\"",
        "id": "cdee0b08"
      },
      "source": [
        "# Exercise 4.2.1\n",
        "$\n",
        "y'' - 5y' + 4y = 0 \\\\\n",
        "y(0) = 5 \\\\\n",
        "y'(0) = 8\n",
        "$"
      ]
    },
    {
      "cell_type": "code",
      "execution_count": null,
      "id": "075924ca",
      "metadata": {
        "lines_to_next_cell": 2,
        "colab": {
          "base_uri": "https://localhost:8080/",
          "height": 39
        },
        "id": "075924ca",
        "outputId": "2d7a9778-9f46-4bb9-e5b4-8fe485e36162"
      },
      "outputs": [
        {
          "output_type": "display_data",
          "data": {
            "text/plain": [
              "Eq(y(x), (exp(3*x) + 4)*exp(x))"
            ],
            "text/latex": "$\\displaystyle y{\\left(x \\right)} = \\left(e^{3 x} + 4\\right) e^{x}$"
          },
          "metadata": {}
        }
      ],
      "source": [
        "x = symbols(\"x\", real=True)\n",
        "y = symbols(\"y\", cls=Function)\n",
        "de = Eq(y(x).diff(x,x) - 5*y(x).diff(x) + 4*y(x) , 0)\n",
        "Y = dsolve(de, y(x) , ics={y(0): 5, y(x).diff(x).subs(x,0): 8})\n",
        "display(Y)"
      ]
    },
    {
      "cell_type": "markdown",
      "id": "7cc13380",
      "metadata": {
        "cell_marker": "\"\"\"",
        "id": "7cc13380"
      },
      "source": [
        "# Exercise 4.2.2\n",
        "\n",
        "$\n",
        "y'' + 4y = 0 \\\\\n",
        "y(0) = 0 \\\\\n",
        "y'(0) = 2\n",
        "$"
      ]
    },
    {
      "cell_type": "code",
      "execution_count": null,
      "id": "cd21f4f9",
      "metadata": {
        "lines_to_next_cell": 2,
        "colab": {
          "base_uri": "https://localhost:8080/",
          "height": 61
        },
        "id": "cd21f4f9",
        "outputId": "acc191df-a80c-4ad2-e5fd-a73ccdb71d1d"
      },
      "outputs": [
        {
          "output_type": "display_data",
          "data": {
            "text/plain": [
              "Eq(y(x), sin(2*x))"
            ],
            "text/latex": "$\\displaystyle y{\\left(x \\right)} = \\sin{\\left(2 x \\right)}$"
          },
          "metadata": {}
        },
        {
          "output_type": "execute_result",
          "data": {
            "text/plain": [
              "Eq(y(0), 0)"
            ],
            "text/latex": "$\\displaystyle y{\\left(0 \\right)} = 0$"
          },
          "metadata": {},
          "execution_count": 67
        }
      ],
      "source": [
        "x = symbols(\"x\", real=True)\n",
        "y = symbols(\"y\", cls=Function)\n",
        "de = Eq(y(x).diff(x,x) + 4*y(x) , 0)\n",
        "Y = dsolve(de, y(x) , ics={y(0): 0, y(x).diff(x).subs(x,0): 2})\n",
        "display(Y)\n",
        "\n",
        "checkodesol(de, Y)\n",
        "\n",
        "Y.evalf(subs={x: 0}).doit()"
      ]
    },
    {
      "cell_type": "markdown",
      "id": "af15b0ed",
      "metadata": {
        "cell_marker": "\"\"\"",
        "id": "af15b0ed"
      },
      "source": [
        "* `Y` is an equation object:\n",
        "  `Eq(y(x), sin(2*x))`.\n",
        "  It has two parts:\n",
        "  * lhs (left hand side)\n",
        "  * rhs (right hand side)\n",
        "* The right hand side `Y.rhs` is our private solution.\n",
        "* we check if it satisfies the initial conditions"
      ]
    },
    {
      "cell_type": "code",
      "execution_count": null,
      "id": "8aa05d87",
      "metadata": {
        "lines_to_next_cell": 2,
        "colab": {
          "base_uri": "https://localhost:8080/",
          "height": 37
        },
        "id": "8aa05d87",
        "outputId": "9b7b6dcd-bcf8-4a6e-dbd3-fcd3ef838f00"
      },
      "outputs": [
        {
          "output_type": "execute_result",
          "data": {
            "text/plain": [
              "2"
            ],
            "text/latex": "$\\displaystyle 2$"
          },
          "metadata": {},
          "execution_count": 68
        }
      ],
      "source": [
        "sol = Y.rhs\n",
        "sol.subs(x,0)\n",
        "\n",
        "sol.diff(x).subs(x,0)"
      ]
    },
    {
      "cell_type": "markdown",
      "id": "5b8e7e2d",
      "metadata": {
        "cell_marker": "\"\"\"",
        "id": "5b8e7e2d"
      },
      "source": [
        "* You can convert `sol` to a Python function and evaluate it\n",
        "  like any other function:"
      ]
    },
    {
      "cell_type": "code",
      "execution_count": null,
      "id": "cfe2b995",
      "metadata": {
        "lines_to_next_cell": 2,
        "colab": {
          "base_uri": "https://localhost:8080/"
        },
        "id": "cfe2b995",
        "outputId": "636d8815-1ac3-44b2-888a-8dad97514cde"
      },
      "outputs": [
        {
          "output_type": "execute_result",
          "data": {
            "text/plain": [
              "2.0"
            ]
          },
          "metadata": {},
          "execution_count": 69
        }
      ],
      "source": [
        "s = lambdify(x, sol)\n",
        "s(1)\n",
        "\n",
        "ds = lambdify(x, sol.diff(x))\n",
        "ds(0)"
      ]
    },
    {
      "cell_type": "markdown",
      "id": "1bafc509",
      "metadata": {
        "cell_marker": "\"\"\"",
        "id": "1bafc509"
      },
      "source": [
        "# Exercise 4.2.3\n",
        "\n",
        "$\n",
        "y''' + y'' - 5y' + 3y = 0 \\\\\n",
        "y(0) = 0 \\\\\n",
        "y'(0) = 1 \\\\\n",
        "y''(0) = -2\n",
        "$"
      ]
    },
    {
      "cell_type": "code",
      "execution_count": null,
      "id": "3e81707f",
      "metadata": {
        "lines_to_next_cell": 2,
        "colab": {
          "base_uri": "https://localhost:8080/",
          "height": 71
        },
        "id": "3e81707f",
        "outputId": "e1567386-15db-46e1-92c6-b14b76ade193"
      },
      "outputs": [
        {
          "output_type": "display_data",
          "data": {
            "text/plain": [
              "Eq(y(x), exp(x)/4 - exp(-3*x)/4)"
            ],
            "text/latex": "$\\displaystyle y{\\left(x \\right)} = \\frac{e^{x}}{4} - \\frac{e^{- 3 x}}{4}$"
          },
          "metadata": {}
        },
        {
          "output_type": "stream",
          "name": "stdout",
          "text": [
            "0 1 -2\n"
          ]
        }
      ],
      "source": [
        "x = symbols(\"x\", real=True)\n",
        "y = symbols(\"y\", cls=Function)\n",
        "de = Eq(y(x).diff(x,x,x) + y(x).diff(x,x) - 5*y(x).diff(x) + 3*y(x) , 0)\n",
        "Y = dsolve(de, y(x) , ics={y(0): 0, y(x).diff(x).subs(x,0): 1, y(x).diff(x,x).subs(x,0): -2})\n",
        "display(Y)\n",
        "\n",
        "checkodesol(de, Y)\n",
        "\n",
        "sol = Y.rhs\n",
        "y0 = sol.subs(x,0)\n",
        "y1 = sol.diff(x).subs(x,0)\n",
        "y2 = sol.diff(x,x).subs(x,0)\n",
        "print(y0,y1,y2)"
      ]
    },
    {
      "cell_type": "markdown",
      "id": "10ae3e9a",
      "metadata": {
        "cell_marker": "\"\"\"",
        "id": "10ae3e9a"
      },
      "source": [
        "# Exercise 4.3.1\n",
        "\n",
        "$y'' - 2y' - 3y = e^{4x}$\n"
      ]
    },
    {
      "cell_type": "code",
      "execution_count": null,
      "id": "beb521ce",
      "metadata": {
        "lines_to_next_cell": 2,
        "colab": {
          "base_uri": "https://localhost:8080/",
          "height": 71
        },
        "id": "beb521ce",
        "outputId": "0bfb1265-bcf4-424a-fcc9-39a5573ca7f3"
      },
      "outputs": [
        {
          "output_type": "display_data",
          "data": {
            "text/plain": [
              "Eq(y(x), C1*exp(-x) + C2*exp(3*x) + exp(4*x)/5)"
            ],
            "text/latex": "$\\displaystyle y{\\left(x \\right)} = C_{1} e^{- x} + C_{2} e^{3 x} + \\frac{e^{4 x}}{5}$"
          },
          "metadata": {}
        },
        {
          "output_type": "execute_result",
          "data": {
            "text/plain": [
              "(True, 0)"
            ]
          },
          "metadata": {},
          "execution_count": 71
        }
      ],
      "source": [
        "x = symbols(\"x\", real=True)\n",
        "y = symbols(\"y\", cls=Function)\n",
        "de = Eq(y(x).diff(x,x) - 2*y(x).diff(x) - 3*y(x) , exp(4*x))\n",
        "Y = dsolve(de)\n",
        "display(Y)\n",
        "\n",
        "checkodesol(de, Y)"
      ]
    },
    {
      "cell_type": "markdown",
      "id": "96779ba0",
      "metadata": {
        "cell_marker": "\"\"\"",
        "id": "96779ba0"
      },
      "source": [
        "# Exercise 4.3.2\n",
        "\n",
        "$y'' - 5y' + 4y = 4x^2e^{2x}$"
      ]
    },
    {
      "cell_type": "code",
      "execution_count": null,
      "id": "b648c23e",
      "metadata": {
        "lines_to_next_cell": 2,
        "colab": {
          "base_uri": "https://localhost:8080/",
          "height": 56
        },
        "id": "b648c23e",
        "outputId": "a2bc4e99-90b8-4f90-94c1-d8d2c2603730"
      },
      "outputs": [
        {
          "output_type": "display_data",
          "data": {
            "text/plain": [
              "Eq(y(x), (C1 + C2*exp(3*x) + (-2*x**2 + 2*x - 3)*exp(x))*exp(x))"
            ],
            "text/latex": "$\\displaystyle y{\\left(x \\right)} = \\left(C_{1} + C_{2} e^{3 x} + \\left(- 2 x^{2} + 2 x - 3\\right) e^{x}\\right) e^{x}$"
          },
          "metadata": {}
        },
        {
          "output_type": "execute_result",
          "data": {
            "text/plain": [
              "(True, 0)"
            ]
          },
          "metadata": {},
          "execution_count": 72
        }
      ],
      "source": [
        "x = symbols(\"x\", real=True)\n",
        "y = symbols(\"y\", cls=Function)\n",
        "de = Eq(y(x).diff(x,x) - 5*y(x).diff(x) + 4*y(x) , 4*x**2 * exp(2*x))\n",
        "Y = dsolve(de)\n",
        "display(Y)\n",
        "\n",
        "checkodesol(de, Y)"
      ]
    },
    {
      "cell_type": "markdown",
      "id": "e90516f5",
      "metadata": {
        "cell_marker": "\"\"\"",
        "id": "e90516f5"
      },
      "source": [
        "# Exercise 4.3.3\n",
        "\n",
        "$y'' - y = -x^2$"
      ]
    },
    {
      "cell_type": "code",
      "execution_count": null,
      "id": "5a471bc6",
      "metadata": {
        "lines_to_next_cell": 2,
        "colab": {
          "base_uri": "https://localhost:8080/",
          "height": 56
        },
        "id": "5a471bc6",
        "outputId": "2fc4ee4b-1cf7-4ee3-dd3a-50e0812f2ba7"
      },
      "outputs": [
        {
          "output_type": "display_data",
          "data": {
            "text/plain": [
              "Eq(y(x), C1*exp(-x) + C2*exp(x) + x**2 + 2)"
            ],
            "text/latex": "$\\displaystyle y{\\left(x \\right)} = C_{1} e^{- x} + C_{2} e^{x} + x^{2} + 2$"
          },
          "metadata": {}
        },
        {
          "output_type": "execute_result",
          "data": {
            "text/plain": [
              "(True, 0)"
            ]
          },
          "metadata": {},
          "execution_count": 73
        }
      ],
      "source": [
        "x = symbols(\"x\", real=True)\n",
        "y = symbols(\"y\", cls=Function)\n",
        "de = Eq(y(x).diff(x,x) - y(x) , -x**2)\n",
        "Y = dsolve(de)\n",
        "display(Y)\n",
        "\n",
        "checkodesol(de, Y)"
      ]
    },
    {
      "cell_type": "markdown",
      "id": "ba525576",
      "metadata": {
        "cell_marker": "\"\"\"",
        "id": "ba525576"
      },
      "source": [
        "# Exercise 4.3.4\n",
        "\n",
        "$y'' + 3y' - 4y = xe^{-x}$"
      ]
    },
    {
      "cell_type": "code",
      "execution_count": null,
      "id": "8607fcc7",
      "metadata": {
        "lines_to_next_cell": 2,
        "colab": {
          "base_uri": "https://localhost:8080/",
          "height": 71
        },
        "id": "8607fcc7",
        "outputId": "1b41a288-0860-4027-a1d9-85c8f5f52142"
      },
      "outputs": [
        {
          "output_type": "display_data",
          "data": {
            "text/plain": [
              "Eq(y(x), C1*exp(-4*x) + C2*exp(x) + (-6*x - 1)*exp(-x)/36)"
            ],
            "text/latex": "$\\displaystyle y{\\left(x \\right)} = C_{1} e^{- 4 x} + C_{2} e^{x} + \\frac{\\left(- 6 x - 1\\right) e^{- x}}{36}$"
          },
          "metadata": {}
        },
        {
          "output_type": "execute_result",
          "data": {
            "text/plain": [
              "(True, 0)"
            ]
          },
          "metadata": {},
          "execution_count": 74
        }
      ],
      "source": [
        "x = symbols(\"x\", real=True)\n",
        "y = symbols(\"y\", cls=Function)\n",
        "de = Eq(y(x).diff(x,x) + 3*y(x).diff(x) - 4 * y(x) , x * exp(-x))\n",
        "Y = dsolve(de)\n",
        "display(Y)\n",
        "\n",
        "checkodesol(de, Y)"
      ]
    },
    {
      "cell_type": "markdown",
      "id": "4f7fd9d8",
      "metadata": {
        "cell_marker": "\"\"\"",
        "id": "4f7fd9d8"
      },
      "source": [
        "# Exercise 4.3.5\n",
        "\n",
        "$y'' - 5y' + 4y = 4x^2e^{2x}$"
      ]
    },
    {
      "cell_type": "code",
      "execution_count": null,
      "id": "6c54e79e",
      "metadata": {
        "lines_to_next_cell": 2,
        "colab": {
          "base_uri": "https://localhost:8080/",
          "height": 61
        },
        "id": "6c54e79e",
        "outputId": "2e5c800d-6d91-4b62-b522-9bf0e3e3798f"
      },
      "outputs": [
        {
          "output_type": "display_data",
          "data": {
            "text/plain": [
              "Eq(y(x), (C1 + C2*exp(3*x) + (-2*x**2 + 2*x - 3)*exp(x))*exp(x))"
            ],
            "text/latex": "$\\displaystyle y{\\left(x \\right)} = \\left(C_{1} + C_{2} e^{3 x} + \\left(- 2 x^{2} + 2 x - 3\\right) e^{x}\\right) e^{x}$"
          },
          "metadata": {}
        },
        {
          "output_type": "execute_result",
          "data": {
            "text/plain": [
              "Eq(y(x), C1*exp(x) + C2*exp(4*x) - 2*x**2*exp(2*x) + 2*x*exp(2*x) - 3*exp(2*x))"
            ],
            "text/latex": "$\\displaystyle y{\\left(x \\right)} = C_{1} e^{x} + C_{2} e^{4 x} - 2 x^{2} e^{2 x} + 2 x e^{2 x} - 3 e^{2 x}$"
          },
          "metadata": {},
          "execution_count": 75
        }
      ],
      "source": [
        "x, a, b = symbols(\"x a b\", real=True)\n",
        "y = symbols(\"y\", cls=Function)\n",
        "de = Eq(y(x).diff(x,x) - 5*y(x).diff(x) + 4*y(x) , 4*x**2 * exp(2*x))\n",
        "Y = dsolve(de)\n",
        "display(Y)\n",
        "\n",
        "checkodesol(de, Y)\n",
        "\n",
        "expand(Y)"
      ]
    },
    {
      "cell_type": "markdown",
      "id": "c9884a42",
      "metadata": {
        "cell_marker": "\"\"\"",
        "id": "c9884a42"
      },
      "source": [
        "# Exercise 4.3.6\n",
        "\n",
        "$y'' - y = -x^2$"
      ]
    },
    {
      "cell_type": "code",
      "execution_count": null,
      "id": "f4dc6cd6",
      "metadata": {
        "lines_to_next_cell": 2,
        "colab": {
          "base_uri": "https://localhost:8080/",
          "height": 56
        },
        "id": "f4dc6cd6",
        "outputId": "b1d72054-9940-4752-e63d-60f4f868675f"
      },
      "outputs": [
        {
          "output_type": "display_data",
          "data": {
            "text/plain": [
              "Eq(y(x), C1*exp(-x) + C2*exp(x) + x**2 + 2)"
            ],
            "text/latex": "$\\displaystyle y{\\left(x \\right)} = C_{1} e^{- x} + C_{2} e^{x} + x^{2} + 2$"
          },
          "metadata": {}
        },
        {
          "output_type": "execute_result",
          "data": {
            "text/plain": [
              "(True, 0)"
            ]
          },
          "metadata": {},
          "execution_count": 76
        }
      ],
      "source": [
        "x = symbols(\"x\", real=True)\n",
        "y = symbols(\"y\", cls=Function)\n",
        "de = Eq(y(x).diff(x,x) - y(x) , -x**2)\n",
        "Y = dsolve(de)\n",
        "display(Y)\n",
        "\n",
        "checkodesol(de, Y)"
      ]
    },
    {
      "cell_type": "markdown",
      "id": "ce5c031c",
      "metadata": {
        "cell_marker": "\"\"\"",
        "id": "ce5c031c"
      },
      "source": [
        "# Exercise 4.3.7\n",
        "\n",
        "$y'' + 3y' - 4y = xe^{-x}$"
      ]
    },
    {
      "cell_type": "code",
      "execution_count": null,
      "id": "37c00acd",
      "metadata": {
        "lines_to_next_cell": 2,
        "colab": {
          "base_uri": "https://localhost:8080/",
          "height": 71
        },
        "id": "37c00acd",
        "outputId": "40a15e65-f9b1-41c2-b81b-604f45613ca1"
      },
      "outputs": [
        {
          "output_type": "display_data",
          "data": {
            "text/plain": [
              "Eq(y(x), C1*exp(-4*x) + C2*exp(x) + (-6*x - 1)*exp(-x)/36)"
            ],
            "text/latex": "$\\displaystyle y{\\left(x \\right)} = C_{1} e^{- 4 x} + C_{2} e^{x} + \\frac{\\left(- 6 x - 1\\right) e^{- x}}{36}$"
          },
          "metadata": {}
        },
        {
          "output_type": "execute_result",
          "data": {
            "text/plain": [
              "(True, 0)"
            ]
          },
          "metadata": {},
          "execution_count": 77
        }
      ],
      "source": [
        "x = symbols(\"x\", real=True)\n",
        "y = symbols(\"y\", cls=Function)\n",
        "de = Eq(y(x).diff(x,x) + 3*y(x).diff(x) - 4*y(x) , x*exp(-x))\n",
        "Y = dsolve(de)\n",
        "display(Y)\n",
        "\n",
        "checkodesol(de, Y)"
      ]
    },
    {
      "cell_type": "markdown",
      "id": "3bee4503",
      "metadata": {
        "cell_marker": "\"\"\"",
        "id": "3bee4503"
      },
      "source": [
        "# Exercise 4.3.8\n",
        "\n",
        "$y'' - y' + y = x^3 + 6$"
      ]
    },
    {
      "cell_type": "code",
      "execution_count": null,
      "id": "38e9db8d",
      "metadata": {
        "lines_to_next_cell": 2,
        "colab": {
          "base_uri": "https://localhost:8080/",
          "height": 119
        },
        "id": "38e9db8d",
        "outputId": "92010adb-b4f8-42ed-997f-285997533be7"
      },
      "outputs": [
        {
          "output_type": "display_data",
          "data": {
            "text/plain": [
              "Eq(y(x), x**3 + 3*x**2 + (C1*sin(sqrt(3)*x/2) + C2*cos(sqrt(3)*x/2))*exp(x/2))"
            ],
            "text/latex": "$\\displaystyle y{\\left(x \\right)} = x^{3} + 3 x^{2} + \\left(C_{1} \\sin{\\left(\\frac{\\sqrt{3} x}{2} \\right)} + C_{2} \\cos{\\left(\\frac{\\sqrt{3} x}{2} \\right)}\\right) e^{\\frac{x}{2}}$"
          },
          "metadata": {}
        },
        {
          "output_type": "execute_result",
          "data": {
            "text/plain": [
              "Eq(y(x), C1*exp(x/2)*sin(sqrt(3)*x/2) + C2*exp(x/2)*cos(sqrt(3)*x/2) + x**3 + 3*x**2)"
            ],
            "text/latex": "$\\displaystyle y{\\left(x \\right)} = C_{1} e^{\\frac{x}{2}} \\sin{\\left(\\frac{\\sqrt{3} x}{2} \\right)} + C_{2} e^{\\frac{x}{2}} \\cos{\\left(\\frac{\\sqrt{3} x}{2} \\right)} + x^{3} + 3 x^{2}$"
          },
          "metadata": {},
          "execution_count": 78
        }
      ],
      "source": [
        "x = symbols(\"x\", real=True)\n",
        "y = symbols(\"y\", cls=Function)\n",
        "de = Eq(y(x).diff(x,x) - y(x).diff(x) + y(x) , x**3 +6)\n",
        "Y = dsolve(de)\n",
        "display(Y)\n",
        "\n",
        "checkodesol(de, Y)\n",
        "\n",
        "expand(Y)"
      ]
    },
    {
      "cell_type": "markdown",
      "id": "1ba483e5",
      "metadata": {
        "cell_marker": "\"\"\"",
        "id": "1ba483e5"
      },
      "source": [
        "# Exercise 4.3.9\n",
        "\n",
        "$y'' - 8y' + 7y = 14$"
      ]
    },
    {
      "cell_type": "code",
      "execution_count": null,
      "id": "470df082",
      "metadata": {
        "lines_to_next_cell": 2,
        "colab": {
          "base_uri": "https://localhost:8080/",
          "height": 56
        },
        "id": "470df082",
        "outputId": "d8fea6cb-3c04-4b56-931b-53d8cfa44c19"
      },
      "outputs": [
        {
          "output_type": "display_data",
          "data": {
            "text/plain": [
              "Eq(y(x), C1*exp(x) + C2*exp(7*x) + 2)"
            ],
            "text/latex": "$\\displaystyle y{\\left(x \\right)} = C_{1} e^{x} + C_{2} e^{7 x} + 2$"
          },
          "metadata": {}
        },
        {
          "output_type": "execute_result",
          "data": {
            "text/plain": [
              "(True, 0)"
            ]
          },
          "metadata": {},
          "execution_count": 79
        }
      ],
      "source": [
        "x = symbols(\"x\", real=True)\n",
        "y = symbols(\"y\", cls=Function)\n",
        "de = Eq(y(x).diff(x,x) - 8*y(x).diff(x) + 7*y(x) , 14)\n",
        "Y = dsolve(de)\n",
        "display(Y)\n",
        "\n",
        "checkodesol(de, Y)"
      ]
    },
    {
      "cell_type": "markdown",
      "id": "4e8b2011",
      "metadata": {
        "cell_marker": "\"\"\"",
        "id": "4e8b2011"
      },
      "source": [
        "# Exercise 4.3.10\n",
        "\n",
        "$y'' + y' - 2y = 3xe^x$"
      ]
    },
    {
      "cell_type": "code",
      "execution_count": null,
      "id": "62d99446",
      "metadata": {
        "lines_to_next_cell": 2,
        "colab": {
          "base_uri": "https://localhost:8080/",
          "height": 76
        },
        "id": "62d99446",
        "outputId": "7154df6b-80fc-4b02-ce7f-b5d85b515a49"
      },
      "outputs": [
        {
          "output_type": "display_data",
          "data": {
            "text/plain": [
              "Eq(y(x), C2*exp(-2*x) + (C1 + x**2/2 - x/3)*exp(x))"
            ],
            "text/latex": "$\\displaystyle y{\\left(x \\right)} = C_{2} e^{- 2 x} + \\left(C_{1} + \\frac{x^{2}}{2} - \\frac{x}{3}\\right) e^{x}$"
          },
          "metadata": {}
        },
        {
          "output_type": "execute_result",
          "data": {
            "text/plain": [
              "(True, 0)"
            ]
          },
          "metadata": {},
          "execution_count": 80
        }
      ],
      "source": [
        "x = symbols(\"x\", real=True)\n",
        "y = symbols(\"y\", cls=Function)\n",
        "de = Eq(y(x).diff(x,x) + y(x).diff(x) -2*y(x) , 3 * x * exp(x))\n",
        "Y = dsolve(de)\n",
        "display(Y)\n",
        "\n",
        "checkodesol(de, Y)"
      ]
    },
    {
      "cell_type": "markdown",
      "id": "b9cd6817",
      "metadata": {
        "cell_marker": "\"\"\"",
        "id": "b9cd6817"
      },
      "source": [
        "# Exercise 4.3.11\n",
        "\n",
        "$y'' - y = 2e^{x}$"
      ]
    },
    {
      "cell_type": "code",
      "execution_count": null,
      "id": "ae26c572",
      "metadata": {
        "lines_to_next_cell": 2,
        "colab": {
          "base_uri": "https://localhost:8080/",
          "height": 56
        },
        "id": "ae26c572",
        "outputId": "e9d927e0-716a-4c5a-8044-1ee257be578c"
      },
      "outputs": [
        {
          "output_type": "display_data",
          "data": {
            "text/plain": [
              "Eq(y(x), C2*exp(-x) + (C1 + x)*exp(x))"
            ],
            "text/latex": "$\\displaystyle y{\\left(x \\right)} = C_{2} e^{- x} + \\left(C_{1} + x\\right) e^{x}$"
          },
          "metadata": {}
        },
        {
          "output_type": "execute_result",
          "data": {
            "text/plain": [
              "(True, 0)"
            ]
          },
          "metadata": {},
          "execution_count": 81
        }
      ],
      "source": [
        "x = symbols(\"x\", real=True)\n",
        "y = symbols(\"y\", cls=Function)\n",
        "de = Eq(y(x).diff(x,x) - y(x) , 2*exp(x))\n",
        "Y = dsolve(de)\n",
        "display(Y)\n",
        "\n",
        "checkodesol(de, Y)"
      ]
    },
    {
      "cell_type": "markdown",
      "id": "27656640",
      "metadata": {
        "cell_marker": "\"\"\"",
        "id": "27656640"
      },
      "source": [
        "# Exercise 4.3.12\n",
        "\n",
        "$y^{(4)} - 2y''' + y'' = e^x$"
      ]
    },
    {
      "cell_type": "code",
      "execution_count": null,
      "id": "5fad80c5",
      "metadata": {
        "lines_to_next_cell": 2,
        "colab": {
          "base_uri": "https://localhost:8080/",
          "height": 85
        },
        "id": "5fad80c5",
        "outputId": "da742f4e-aaec-42ae-8666-ac2d8bc44e0b"
      },
      "outputs": [
        {
          "output_type": "display_data",
          "data": {
            "text/plain": [
              "Eq(y(x), C1 + C4*exp(x) + x*(C2 + (C3 + x/2)*exp(x)))"
            ],
            "text/latex": "$\\displaystyle y{\\left(x \\right)} = C_{1} + C_{4} e^{x} + x \\left(C_{2} + \\left(C_{3} + \\frac{x}{2}\\right) e^{x}\\right)$"
          },
          "metadata": {}
        },
        {
          "output_type": "execute_result",
          "data": {
            "text/plain": [
              "Eq(y(x), C1 + C2*x + C3*x*exp(x) + C4*exp(x) + x**2*exp(x)/2)"
            ],
            "text/latex": "$\\displaystyle y{\\left(x \\right)} = C_{1} + C_{2} x + C_{3} x e^{x} + C_{4} e^{x} + \\frac{x^{2} e^{x}}{2}$"
          },
          "metadata": {},
          "execution_count": 82
        }
      ],
      "source": [
        "x = symbols(\"x\", real=True)\n",
        "y = symbols(\"y\", cls=Function)\n",
        "de = Eq(y(x).diff(x,x,x,x) - 2*y(x).diff(x,x,x) + y(x).diff(x,x) , exp(x))\n",
        "Y = dsolve(de)\n",
        "display(Y)\n",
        "\n",
        "checkodesol(de, Y)\n",
        "\n",
        "expand(Y)"
      ]
    },
    {
      "cell_type": "markdown",
      "id": "e745b44c",
      "metadata": {
        "cell_marker": "\"\"\"",
        "id": "e745b44c"
      },
      "source": [
        "# Exercise 4.3.13\n",
        "\n",
        "$y'' - 4y' + 3y = 2-\\cos(2x) + 35\\sin(2x)$"
      ]
    },
    {
      "cell_type": "code",
      "execution_count": null,
      "id": "01e333e1",
      "metadata": {
        "lines_to_next_cell": 2,
        "colab": {
          "base_uri": "https://localhost:8080/",
          "height": 70
        },
        "id": "01e333e1",
        "outputId": "742efba7-3c02-4b97-b44a-24e453fab060"
      },
      "outputs": [
        {
          "output_type": "display_data",
          "data": {
            "text/plain": [
              "Eq(y(x), C1*exp(x) + C2*exp(3*x) - 27*sin(2*x)/65 + 281*cos(2*x)/65 + 2/3)"
            ],
            "text/latex": "$\\displaystyle y{\\left(x \\right)} = C_{1} e^{x} + C_{2} e^{3 x} - \\frac{27 \\sin{\\left(2 x \\right)}}{65} + \\frac{281 \\cos{\\left(2 x \\right)}}{65} + \\frac{2}{3}$"
          },
          "metadata": {}
        },
        {
          "output_type": "execute_result",
          "data": {
            "text/plain": [
              "(True, 0)"
            ]
          },
          "metadata": {},
          "execution_count": 83
        }
      ],
      "source": [
        "x = symbols(\"x\", real=True)\n",
        "y = symbols(\"y\", cls=Function)\n",
        "de = Eq(y(x).diff(x,x) -4*y(x).diff(x) + 3*y(x) , 2 - cos(2*x) + 35*sin(2*x))\n",
        "Y = dsolve(de)\n",
        "display(Y)\n",
        "\n",
        "checkodesol(de, Y)"
      ]
    },
    {
      "cell_type": "markdown",
      "id": "d8e6c28a",
      "metadata": {
        "cell_marker": "\"\"\"",
        "id": "d8e6c28a"
      },
      "source": [
        "# Exercise 4.3.14\n",
        "\n",
        "$y''+y'-2y = 11\\cos\\frac{x}{2} - 7\\sin\\frac{x}{2}$"
      ]
    },
    {
      "cell_type": "code",
      "execution_count": null,
      "id": "fe821b4d",
      "metadata": {
        "lines_to_next_cell": 2,
        "colab": {
          "base_uri": "https://localhost:8080/",
          "height": 65
        },
        "id": "fe821b4d",
        "outputId": "f7921981-2da4-4ec9-b437-26b4dff88369"
      },
      "outputs": [
        {
          "output_type": "display_data",
          "data": {
            "text/plain": [
              "Eq(y(x), C1*exp(-2*x) + C2*exp(x) + 4*sin(x/2) - 4*cos(x/2))"
            ],
            "text/latex": "$\\displaystyle y{\\left(x \\right)} = C_{1} e^{- 2 x} + C_{2} e^{x} + 4 \\sin{\\left(\\frac{x}{2} \\right)} - 4 \\cos{\\left(\\frac{x}{2} \\right)}$"
          },
          "metadata": {}
        },
        {
          "output_type": "execute_result",
          "data": {
            "text/plain": [
              "(True, 0)"
            ]
          },
          "metadata": {},
          "execution_count": 84
        }
      ],
      "source": [
        "x = symbols(\"x\", real=True)\n",
        "y = symbols(\"y\", cls=Function)\n",
        "de = Eq(y(x).diff(x,x) + y(x).diff(x) - 2*y(x) , 11*cos(x/2) - 7*sin(x/2))\n",
        "Y = dsolve(de)\n",
        "display(Y)\n",
        "\n",
        "checkodesol(de, Y)"
      ]
    },
    {
      "cell_type": "markdown",
      "id": "9ac28b42",
      "metadata": {
        "cell_marker": "\"\"\"",
        "id": "9ac28b42"
      },
      "source": [
        "# Exercise 4.3.15\n",
        "\n",
        "$y''+5y'+6y = -50\\sin 4x$"
      ]
    },
    {
      "cell_type": "code",
      "execution_count": null,
      "id": "94ceffa0",
      "metadata": {
        "lines_to_next_cell": 2,
        "colab": {
          "base_uri": "https://localhost:8080/",
          "height": 56
        },
        "id": "94ceffa0",
        "outputId": "6efdf39e-5dc8-4af3-aee0-4abdc8ae542d"
      },
      "outputs": [
        {
          "output_type": "display_data",
          "data": {
            "text/plain": [
              "Eq(y(x), C1*exp(-3*x) + C2*exp(-2*x) + sin(4*x) + 2*cos(4*x))"
            ],
            "text/latex": "$\\displaystyle y{\\left(x \\right)} = C_{1} e^{- 3 x} + C_{2} e^{- 2 x} + \\sin{\\left(4 x \\right)} + 2 \\cos{\\left(4 x \\right)}$"
          },
          "metadata": {}
        },
        {
          "output_type": "execute_result",
          "data": {
            "text/plain": [
              "(True, 0)"
            ]
          },
          "metadata": {},
          "execution_count": 85
        }
      ],
      "source": [
        "x = symbols(\"x\", real=True)\n",
        "y = symbols(\"y\", cls=Function)\n",
        "de = Eq(y(x).diff(x,x) + 5*y(x).diff(x) + 6*y(x) , -50 * sin(4*x))\n",
        "Y = dsolve(de)\n",
        "display(Y)\n",
        "\n",
        "checkodesol(de, Y)"
      ]
    },
    {
      "cell_type": "markdown",
      "id": "a9f76254",
      "metadata": {
        "cell_marker": "\"\"\"",
        "id": "a9f76254"
      },
      "source": [
        "# Exercise 4.3.16\n",
        "\n",
        "$y'' - 3y' + 2y = 2e^x\\cos\\frac{x}{2}$"
      ]
    },
    {
      "cell_type": "code",
      "execution_count": null,
      "id": "bd46c4f2",
      "metadata": {
        "lines_to_next_cell": 2,
        "colab": {
          "base_uri": "https://localhost:8080/",
          "height": 85
        },
        "id": "bd46c4f2",
        "outputId": "edf21ba3-522d-44be-fee8-8ac1771dcf5c"
      },
      "outputs": [
        {
          "output_type": "display_data",
          "data": {
            "text/plain": [
              "Eq(y(x), (C1 + C2*exp(x) - 16*sin(x/2)/5 - 8*cos(x/2)/5)*exp(x))"
            ],
            "text/latex": "$\\displaystyle y{\\left(x \\right)} = \\left(C_{1} + C_{2} e^{x} - \\frac{16 \\sin{\\left(\\frac{x}{2} \\right)}}{5} - \\frac{8 \\cos{\\left(\\frac{x}{2} \\right)}}{5}\\right) e^{x}$"
          },
          "metadata": {}
        },
        {
          "output_type": "execute_result",
          "data": {
            "text/plain": [
              "(True, 0)"
            ]
          },
          "metadata": {},
          "execution_count": 86
        }
      ],
      "source": [
        "x = symbols(\"x\", real=True)\n",
        "y = symbols(\"y\", cls=Function)\n",
        "de = Eq(y(x).diff(x,x) - 3*y(x).diff(x) + 2*y(x) , 2*exp(x)*cos(x/2))\n",
        "Y = dsolve(de)\n",
        "display(Y)\n",
        "\n",
        "expand(Y)\n",
        "\n",
        "checkodesol(de, Y)"
      ]
    },
    {
      "cell_type": "markdown",
      "id": "d32058ba",
      "metadata": {
        "cell_marker": "\"\"\"",
        "id": "d32058ba"
      },
      "source": [
        "# Exercise 4.3.17\n",
        "\n",
        "$y''-3y'+2y=2\\sin x$"
      ]
    },
    {
      "cell_type": "code",
      "execution_count": null,
      "id": "f6067166",
      "metadata": {
        "lines_to_next_cell": 2,
        "colab": {
          "base_uri": "https://localhost:8080/",
          "height": 56
        },
        "id": "f6067166",
        "outputId": "0ff94802-3eb0-44cc-8a1c-ccdcaf89c05a"
      },
      "outputs": [
        {
          "output_type": "display_data",
          "data": {
            "text/plain": [
              "Eq(y(x), C1*exp(-x) + C2*exp(x) - sin(x))"
            ],
            "text/latex": "$\\displaystyle y{\\left(x \\right)} = C_{1} e^{- x} + C_{2} e^{x} - \\sin{\\left(x \\right)}$"
          },
          "metadata": {}
        },
        {
          "output_type": "execute_result",
          "data": {
            "text/plain": [
              "(True, 0)"
            ]
          },
          "metadata": {},
          "execution_count": 87
        }
      ],
      "source": [
        "x = symbols(\"x\", real=True)\n",
        "y = symbols(\"y\", cls=Function)\n",
        "de = Eq(y(x).diff(x,x) - 3*y(x) + 2*y(x) , 2*sin(x))\n",
        "Y = dsolve(de)\n",
        "display(Y)\n",
        "\n",
        "checkodesol(de, Y)"
      ]
    },
    {
      "cell_type": "markdown",
      "id": "b90584e6",
      "metadata": {
        "cell_marker": "\"\"\"",
        "id": "b90584e6"
      },
      "source": [
        "# Exercise 4.3.18\n",
        "\n",
        "$y''+4y = 12\\cos 2x$"
      ]
    },
    {
      "cell_type": "code",
      "execution_count": null,
      "id": "1a728e96",
      "metadata": {
        "lines_to_next_cell": 2,
        "colab": {
          "base_uri": "https://localhost:8080/",
          "height": 56
        },
        "id": "1a728e96",
        "outputId": "22aa463e-1381-4f51-e8ce-16c94de9a3de"
      },
      "outputs": [
        {
          "output_type": "display_data",
          "data": {
            "text/plain": [
              "Eq(y(x), C2*cos(2*x) + (C1 + 3*x)*sin(2*x))"
            ],
            "text/latex": "$\\displaystyle y{\\left(x \\right)} = C_{2} \\cos{\\left(2 x \\right)} + \\left(C_{1} + 3 x\\right) \\sin{\\left(2 x \\right)}$"
          },
          "metadata": {}
        },
        {
          "output_type": "execute_result",
          "data": {
            "text/plain": [
              "(True, 0)"
            ]
          },
          "metadata": {},
          "execution_count": 88
        }
      ],
      "source": [
        "x = symbols(\"x\", real=True)\n",
        "y = symbols(\"y\", cls=Function)\n",
        "de = Eq(y(x).diff(x,x) + 4*y(x) , 12*cos(2*x))\n",
        "Y = dsolve(de)\n",
        "display(Y)\n",
        "\n",
        "expand(Y)\n",
        "\n",
        "checkodesol(de, Y)"
      ]
    },
    {
      "cell_type": "markdown",
      "id": "8810f183",
      "metadata": {
        "cell_marker": "\"\"\"",
        "id": "8810f183"
      },
      "source": [
        "# Exercise 4.3.19\n",
        "\n",
        "$y''+9y=-18\\cos 3x$"
      ]
    },
    {
      "cell_type": "code",
      "execution_count": null,
      "id": "a2c8caa8",
      "metadata": {
        "lines_to_next_cell": 2,
        "colab": {
          "base_uri": "https://localhost:8080/",
          "height": 56
        },
        "id": "a2c8caa8",
        "outputId": "7ab63a1d-bc44-4670-cac1-465fae25a8df"
      },
      "outputs": [
        {
          "output_type": "display_data",
          "data": {
            "text/plain": [
              "Eq(y(x), C2*cos(3*x) + (C1 - 3*x)*sin(3*x))"
            ],
            "text/latex": "$\\displaystyle y{\\left(x \\right)} = C_{2} \\cos{\\left(3 x \\right)} + \\left(C_{1} - 3 x\\right) \\sin{\\left(3 x \\right)}$"
          },
          "metadata": {}
        },
        {
          "output_type": "execute_result",
          "data": {
            "text/plain": [
              "(True, 0)"
            ]
          },
          "metadata": {},
          "execution_count": 89
        }
      ],
      "source": [
        "x = symbols(\"x\", real=True)\n",
        "y = symbols(\"y\", cls=Function)\n",
        "de = Eq(y(x).diff(x,x) + 9*y(x) , -18*cos(3*x))\n",
        "Y = dsolve(de)\n",
        "display(Y)\n",
        "\n",
        "expand(Y)\n",
        "\n",
        "checkodesol(de, Y)"
      ]
    },
    {
      "cell_type": "markdown",
      "id": "ae6f4688",
      "metadata": {
        "cell_marker": "\"\"\"",
        "id": "ae6f4688"
      },
      "source": [
        "# Exercise 4.3.20\n",
        "\n",
        "$y'' - 4y' + 4y = x^2 + e^2x + \\sin 2x$"
      ]
    },
    {
      "cell_type": "code",
      "execution_count": null,
      "id": "644d8f50",
      "metadata": {
        "lines_to_next_cell": 2,
        "colab": {
          "base_uri": "https://localhost:8080/",
          "height": 71
        },
        "id": "644d8f50",
        "outputId": "faa7d319-5404-467e-c7dd-ff63b9af7f8d"
      },
      "outputs": [
        {
          "output_type": "display_data",
          "data": {
            "text/plain": [
              "Eq(y(x), x**2/4 + x/2 + (C1 + x*(C2 + x/2))*exp(2*x) + cos(2*x)/8 + 3/8)"
            ],
            "text/latex": "$\\displaystyle y{\\left(x \\right)} = \\frac{x^{2}}{4} + \\frac{x}{2} + \\left(C_{1} + x \\left(C_{2} + \\frac{x}{2}\\right)\\right) e^{2 x} + \\frac{\\cos{\\left(2 x \\right)}}{8} + \\frac{3}{8}$"
          },
          "metadata": {}
        },
        {
          "output_type": "execute_result",
          "data": {
            "text/plain": [
              "(True, 0)"
            ]
          },
          "metadata": {},
          "execution_count": 90
        }
      ],
      "source": [
        "x = symbols(\"x\", real=True)\n",
        "y = symbols(\"y\", cls=Function)\n",
        "de = Eq(y(x).diff(x,x) - 4*y(x).diff(x) + 4*y(x) , x**2 + exp(2*x) + sin(2*x))\n",
        "Y = dsolve(de)\n",
        "display(Y)\n",
        "\n",
        "expand(Y)\n",
        "\n",
        "checkodesol(de, Y)"
      ]
    },
    {
      "cell_type": "markdown",
      "id": "44c77e0d",
      "metadata": {
        "cell_marker": "\"\"\"",
        "id": "44c77e0d"
      },
      "source": [
        "# Exercise 4.3.21\n",
        "\n",
        "$y'' - 2y' -8y = e^x - 8\\cos 2x$"
      ]
    },
    {
      "cell_type": "code",
      "execution_count": null,
      "id": "c0293c5e",
      "metadata": {
        "lines_to_next_cell": 2,
        "colab": {
          "base_uri": "https://localhost:8080/",
          "height": 70
        },
        "id": "c0293c5e",
        "outputId": "05748291-d774-467e-fc21-f63c997ec533"
      },
      "outputs": [
        {
          "output_type": "display_data",
          "data": {
            "text/plain": [
              "Eq(y(x), C1*exp(-2*x) + C2*exp(4*x) - exp(x)/9 + sin(2*x)/5 + 3*cos(2*x)/5)"
            ],
            "text/latex": "$\\displaystyle y{\\left(x \\right)} = C_{1} e^{- 2 x} + C_{2} e^{4 x} - \\frac{e^{x}}{9} + \\frac{\\sin{\\left(2 x \\right)}}{5} + \\frac{3 \\cos{\\left(2 x \\right)}}{5}$"
          },
          "metadata": {}
        },
        {
          "output_type": "execute_result",
          "data": {
            "text/plain": [
              "(True, 0)"
            ]
          },
          "metadata": {},
          "execution_count": 91
        }
      ],
      "source": [
        "x = symbols(\"x\", real=True)\n",
        "y = symbols(\"y\", cls=Function)\n",
        "de = Eq(y(x).diff(x,x) - 2*y(x).diff(x) - 8*y(x) , exp(x) -8*cos(2*x))\n",
        "Y = dsolve(de)\n",
        "display(Y)\n",
        "\n",
        "checkodesol(de, Y)"
      ]
    },
    {
      "cell_type": "markdown",
      "id": "ce1c7550",
      "metadata": {
        "cell_marker": "\"\"\"",
        "id": "ce1c7550"
      },
      "source": [
        "# Exercise 4.3.22\n",
        "\n",
        "$y''-y = 2x -1 - 3e^x$"
      ]
    },
    {
      "cell_type": "code",
      "execution_count": null,
      "id": "5e70657b",
      "metadata": {
        "lines_to_next_cell": 2,
        "colab": {
          "base_uri": "https://localhost:8080/",
          "height": 75
        },
        "id": "5e70657b",
        "outputId": "1f9278fe-547f-4266-ec1d-396044a806e7"
      },
      "outputs": [
        {
          "output_type": "display_data",
          "data": {
            "text/plain": [
              "Eq(y(x), C2*exp(-x) - 2*x + (C1 - 3*x/2)*exp(x) + 1)"
            ],
            "text/latex": "$\\displaystyle y{\\left(x \\right)} = C_{2} e^{- x} - 2 x + \\left(C_{1} - \\frac{3 x}{2}\\right) e^{x} + 1$"
          },
          "metadata": {}
        },
        {
          "output_type": "execute_result",
          "data": {
            "text/plain": [
              "(True, 0)"
            ]
          },
          "metadata": {},
          "execution_count": 92
        }
      ],
      "source": [
        "x = symbols(\"x\", real=True)\n",
        "y = symbols(\"y\", cls=Function)\n",
        "de = Eq(y(x).diff(x,x) - y(x) , 2*x -1 -3*exp(x))\n",
        "Y = dsolve(de)\n",
        "display(Y)\n",
        "\n",
        "expand(Y)\n",
        "\n",
        "checkodesol(de, Y)"
      ]
    },
    {
      "cell_type": "markdown",
      "id": "ffeeeda9",
      "metadata": {
        "cell_marker": "\"\"\"",
        "id": "ffeeeda9"
      },
      "source": [
        "# Exercise 4.3.23\n",
        "\n",
        "$y''' + y'' = 3xe^x + x^2 + 1$"
      ]
    },
    {
      "cell_type": "code",
      "execution_count": null,
      "id": "bbd35821",
      "metadata": {
        "lines_to_next_cell": 2,
        "colab": {
          "base_uri": "https://localhost:8080/",
          "height": 95
        },
        "id": "bbd35821",
        "outputId": "97fc9dab-2986-405f-d89b-20ab9662625d"
      },
      "outputs": [
        {
          "output_type": "display_data",
          "data": {
            "text/plain": [
              "Eq(y(x), C1 + C3*exp(-x) + x**4/12 - x**3/3 + 3*x**2/2 + x*(C2 + 3*exp(x)/2) - 15*exp(x)/4)"
            ],
            "text/latex": "$\\displaystyle y{\\left(x \\right)} = C_{1} + C_{3} e^{- x} + \\frac{x^{4}}{12} - \\frac{x^{3}}{3} + \\frac{3 x^{2}}{2} + x \\left(C_{2} + \\frac{3 e^{x}}{2}\\right) - \\frac{15 e^{x}}{4}$"
          },
          "metadata": {}
        },
        {
          "output_type": "execute_result",
          "data": {
            "text/plain": [
              "Eq(y(x), C1 + C2*x + C3*exp(-x) + x**4/12 - x**3/3 + 3*x**2/2 + 3*x*exp(x)/2 - 15*exp(x)/4)"
            ],
            "text/latex": "$\\displaystyle y{\\left(x \\right)} = C_{1} + C_{2} x + C_{3} e^{- x} + \\frac{x^{4}}{12} - \\frac{x^{3}}{3} + \\frac{3 x^{2}}{2} + \\frac{3 x e^{x}}{2} - \\frac{15 e^{x}}{4}$"
          },
          "metadata": {},
          "execution_count": 93
        }
      ],
      "source": [
        "x = symbols(\"x\", real=True)\n",
        "y = symbols(\"y\", cls=Function)\n",
        "de = Eq(y(x).diff(x,x,x) + y(x).diff(x,x) , 3*x*exp(x) + x**2 +1)\n",
        "Y = dsolve(de, y(x))\n",
        "display(Y)\n",
        "\n",
        "expand(Y)"
      ]
    },
    {
      "cell_type": "markdown",
      "id": "296abcc2",
      "metadata": {
        "cell_marker": "\"\"\"",
        "id": "296abcc2"
      },
      "source": [
        "# Exercise 4.3.24\n",
        "\n",
        "$y'' -8y' + 20y = 5xe^{4x}\\sin 2x$"
      ]
    },
    {
      "cell_type": "code",
      "execution_count": null,
      "id": "c9415e14",
      "metadata": {
        "lines_to_next_cell": 2,
        "colab": {
          "base_uri": "https://localhost:8080/",
          "height": 76
        },
        "id": "c9415e14",
        "outputId": "6fc86fb0-db60-4588-bf0e-bc0266351786"
      },
      "outputs": [
        {
          "output_type": "display_data",
          "data": {
            "text/plain": [
              "Eq(y(x), ((C1 - 5*x**2/8)*cos(2*x) + (C2 + 5*x/16)*sin(2*x))*exp(4*x))"
            ],
            "text/latex": "$\\displaystyle y{\\left(x \\right)} = \\left(\\left(C_{1} - \\frac{5 x^{2}}{8}\\right) \\cos{\\left(2 x \\right)} + \\left(C_{2} + \\frac{5 x}{16}\\right) \\sin{\\left(2 x \\right)}\\right) e^{4 x}$"
          },
          "metadata": {}
        },
        {
          "output_type": "execute_result",
          "data": {
            "text/plain": [
              "(True, 0)"
            ]
          },
          "metadata": {},
          "execution_count": 94
        }
      ],
      "source": [
        "x = symbols(\"x\", real=True)\n",
        "y = symbols(\"y\", cls=Function)\n",
        "de = Eq(y(x).diff(x,x) - 8*y(x).diff(x) + 20*y(x) , 5*x*exp(4*x) * sin(2*x))\n",
        "Y = dsolve(de)\n",
        "display(Y)\n",
        "\n",
        "expand(Y)\n",
        "\n",
        "checkodesol(de, Y)"
      ]
    },
    {
      "cell_type": "markdown",
      "id": "3f2f597c",
      "metadata": {
        "cell_marker": "\"\"\"",
        "id": "3f2f597c"
      },
      "source": [
        "# Exercise 4.3.25\n",
        "\n",
        "$y'' - 9y = e^{-3x}(x^2 + \\sin 3x)$"
      ]
    },
    {
      "cell_type": "code",
      "execution_count": null,
      "id": "f0a7b592",
      "metadata": {
        "lines_to_next_cell": 2,
        "colab": {
          "base_uri": "https://localhost:8080/",
          "height": 76
        },
        "id": "f0a7b592",
        "outputId": "1e1441ce-54bc-49f6-d21e-1e7405270e15"
      },
      "outputs": [
        {
          "output_type": "display_data",
          "data": {
            "text/plain": [
              "Eq(y(x), C2*exp(3*x) + (C1 - x**3/18 - x**2/36 - x/108 - sin(3*x)/45 + 2*cos(3*x)/45)*exp(-3*x))"
            ],
            "text/latex": "$\\displaystyle y{\\left(x \\right)} = C_{2} e^{3 x} + \\left(C_{1} - \\frac{x^{3}}{18} - \\frac{x^{2}}{36} - \\frac{x}{108} - \\frac{\\sin{\\left(3 x \\right)}}{45} + \\frac{2 \\cos{\\left(3 x \\right)}}{45}\\right) e^{- 3 x}$"
          },
          "metadata": {}
        },
        {
          "output_type": "execute_result",
          "data": {
            "text/plain": [
              "(True, 0)"
            ]
          },
          "metadata": {},
          "execution_count": 95
        }
      ],
      "source": [
        "x = symbols(\"x\", real=True)\n",
        "y = symbols(\"y\", cls=Function)\n",
        "de = Eq(y(x).diff(x,x) - 9*y(x) , exp(-3*x) * (x**2 + sin(3*x)))\n",
        "Y = dsolve(de)\n",
        "display(Y)\n",
        "\n",
        "expand(Y)\n",
        "\n",
        "checkodesol(de, Y)"
      ]
    },
    {
      "cell_type": "markdown",
      "id": "31bf4d33",
      "metadata": {
        "cell_marker": "\"\"\"",
        "id": "31bf4d33"
      },
      "source": [
        "# Exercise 4.3.26\n",
        "\n",
        "$y'' + 3y -4y = e^{-4x} + xe^{-x}$"
      ]
    },
    {
      "cell_type": "code",
      "execution_count": null,
      "id": "864ac063",
      "metadata": {
        "lines_to_next_cell": 2,
        "colab": {
          "base_uri": "https://localhost:8080/",
          "height": 76
        },
        "id": "864ac063",
        "outputId": "2a2fc820-0e6c-4f3c-bc1a-54284e4752fd"
      },
      "outputs": [
        {
          "output_type": "display_data",
          "data": {
            "text/plain": [
              "Eq(y(x), C2*exp(x) + (C1 - x**2/4 - x/4)*exp(-x) + exp(-4*x)/15)"
            ],
            "text/latex": "$\\displaystyle y{\\left(x \\right)} = C_{2} e^{x} + \\left(C_{1} - \\frac{x^{2}}{4} - \\frac{x}{4}\\right) e^{- x} + \\frac{e^{- 4 x}}{15}$"
          },
          "metadata": {}
        },
        {
          "output_type": "execute_result",
          "data": {
            "text/plain": [
              "(True, 0)"
            ]
          },
          "metadata": {},
          "execution_count": 96
        }
      ],
      "source": [
        "x = symbols(\"x\", real=True)\n",
        "y = symbols(\"y\", cls=Function)\n",
        "de = Eq(y(x).diff(x,x) + 3*y(x) - 4*y(x) , exp(-4*x) + x*exp(-x))\n",
        "Y = dsolve(de)\n",
        "display(Y)\n",
        "\n",
        "expand(Y)\n",
        "\n",
        "checkodesol(de, Y)"
      ]
    },
    {
      "cell_type": "markdown",
      "id": "999601e6",
      "metadata": {
        "cell_marker": "\"\"\"",
        "id": "999601e6"
      },
      "source": [
        "# Exercise 4.6.1\n",
        "\n",
        "$\n",
        "y'' - 2y' = e^{2x} + x^2 - 1 \\\\\n",
        "y(0) = \\frac{1}{8} \\\\\n",
        "y'(0) = 1\n",
        "$"
      ]
    },
    {
      "cell_type": "code",
      "execution_count": null,
      "id": "c7a533f4",
      "metadata": {
        "lines_to_next_cell": 2,
        "colab": {
          "base_uri": "https://localhost:8080/",
          "height": 71
        },
        "id": "c7a533f4",
        "outputId": "9350d24e-65b9-4f94-9316-568079e65fc8"
      },
      "outputs": [
        {
          "output_type": "display_data",
          "data": {
            "text/plain": [
              "Eq(y(x), -x**3/6 - x**2/4 + x/4 + (x/2 + 0.125)*exp(2*x))"
            ],
            "text/latex": "$\\displaystyle y{\\left(x \\right)} = - \\frac{x^{3}}{6} - \\frac{x^{2}}{4} + \\frac{x}{4} + \\left(\\frac{x}{2} + 0.125\\right) e^{2 x}$"
          },
          "metadata": {}
        },
        {
          "output_type": "stream",
          "name": "stdout",
          "text": [
            "0.125000000000000 1.00000000000000\n"
          ]
        }
      ],
      "source": [
        "x = symbols(\"x\", real=True)\n",
        "y = symbols(\"y\", cls=Function)\n",
        "de = Eq(y(x).diff(x,x) - 2*y(x).diff(x) , exp(2*x) + x**2 - 1)\n",
        "Y = dsolve(de, y(x) , ics={y(0): 1/8, y(x).diff(x).subs(x,0): 1})\n",
        "display(Y)\n",
        "\n",
        "checkodesol(de, Y)\n",
        "\n",
        "sol = Y.rhs\n",
        "y0 = sol.subs(x,0)\n",
        "y1 = sol.diff(x).subs(x,0)\n",
        "print(y0,y1)"
      ]
    },
    {
      "cell_type": "markdown",
      "id": "c6d2048a",
      "metadata": {
        "cell_marker": "\"\"\"",
        "id": "c6d2048a"
      },
      "source": [
        "# Exercise 4.6.2\n",
        "\n",
        "$\n",
        "y'' + y = e^{2x} + x^2 - 1 \\\\\n",
        "y(0) = 0 \\\\\n",
        "y'(0) = 1\n",
        "$"
      ]
    },
    {
      "cell_type": "code",
      "execution_count": null,
      "id": "42424b4a",
      "metadata": {
        "lines_to_next_cell": 2,
        "colab": {
          "base_uri": "https://localhost:8080/",
          "height": 76
        },
        "id": "42424b4a",
        "outputId": "caf01e7b-03cb-4cb5-8a5c-6e22005401cf"
      },
      "outputs": [
        {
          "output_type": "display_data",
          "data": {
            "text/plain": [
              "Eq(y(x), -x**3/6 - x**2/4 + x/4 + (x/2 + 1/8)*exp(2*x) - 1/8)"
            ],
            "text/latex": "$\\displaystyle y{\\left(x \\right)} = - \\frac{x^{3}}{6} - \\frac{x^{2}}{4} + \\frac{x}{4} + \\left(\\frac{x}{2} + \\frac{1}{8}\\right) e^{2 x} - \\frac{1}{8}$"
          },
          "metadata": {}
        },
        {
          "output_type": "stream",
          "name": "stdout",
          "text": [
            "0 1\n"
          ]
        }
      ],
      "source": [
        "x = symbols(\"x\", real=True)\n",
        "y = symbols(\"y\", cls=Function)\n",
        "de = Eq(y(x).diff(x,x) - 2*y(x).diff(x) , exp(2*x) + x**2 - 1)\n",
        "Y = dsolve(de, y(x) , ics={y(0): 0, y(x).diff(x).subs(x,0): 1})\n",
        "display(Y)\n",
        "\n",
        "checkodesol(de, Y)\n",
        "\n",
        "sol = Y.rhs\n",
        "y0 = sol.subs(x,0)\n",
        "y1 = sol.diff(x).subs(x,0)\n",
        "print(y0,y1)"
      ]
    },
    {
      "cell_type": "markdown",
      "id": "df369f4d",
      "metadata": {
        "cell_marker": "\"\"\"",
        "id": "df369f4d"
      },
      "source": [
        "# Exercise 4.6.3\n",
        "\n",
        "$\n",
        "y''' - y' = 3(2-x^2) \\\\\n",
        "y(0) = 1 \\\\\n",
        "y'(0) = 1 \\\\\n",
        "y''(0) = 1\n",
        "$"
      ]
    },
    {
      "cell_type": "code",
      "execution_count": null,
      "id": "76dbeef3",
      "metadata": {
        "lines_to_next_cell": 2,
        "colab": {
          "base_uri": "https://localhost:8080/",
          "height": 56
        },
        "id": "76dbeef3",
        "outputId": "3076998c-44e5-43ae-cde8-7226c757507a"
      },
      "outputs": [
        {
          "output_type": "display_data",
          "data": {
            "text/plain": [
              "Eq(y(x), x**3 + exp(x))"
            ],
            "text/latex": "$\\displaystyle y{\\left(x \\right)} = x^{3} + e^{x}$"
          },
          "metadata": {}
        },
        {
          "output_type": "stream",
          "name": "stdout",
          "text": [
            "1 1 1\n"
          ]
        }
      ],
      "source": [
        "x = symbols(\"x\", real=True)\n",
        "y = symbols(\"y\", cls=Function)\n",
        "de = Eq(y(x).diff(x,x,x) - y(x).diff(x) , 3*(2-x**2))\n",
        "Y = dsolve(de, y(x) , ics={y(0): 1, y(x).diff(x).subs(x,0): 1, y(x).diff(x,x).subs(x,0): 1})\n",
        "display(Y)\n",
        "\n",
        "checkodesol(de, Y)\n",
        "\n",
        "sol = Y.rhs\n",
        "y0 = sol.subs(x,0)\n",
        "y1 = sol.diff(x).subs(x,0)\n",
        "y2 = sol.diff(x,x).subs(x,0)\n",
        "print(y0,y1,y2)"
      ]
    },
    {
      "cell_type": "markdown",
      "id": "c49a61d3",
      "metadata": {
        "cell_marker": "\"\"\"",
        "id": "c49a61d3"
      },
      "source": [
        "# Exercise 4.6.4\n",
        "\n",
        "$\n",
        "y'' - 2y' +y = x \\\\\n",
        "y(0) = 1 \\\\\n",
        "y'(0) = 1\n",
        "$"
      ]
    },
    {
      "cell_type": "code",
      "execution_count": null,
      "id": "330e6323",
      "metadata": {
        "lines_to_next_cell": 2,
        "colab": {
          "base_uri": "https://localhost:8080/",
          "height": 56
        },
        "id": "330e6323",
        "outputId": "cb0fdddb-2a89-4b47-81f0-a0f926d9a918"
      },
      "outputs": [
        {
          "output_type": "display_data",
          "data": {
            "text/plain": [
              "Eq(y(x), x + (x - 1)*exp(x) + 2)"
            ],
            "text/latex": "$\\displaystyle y{\\left(x \\right)} = x + \\left(x - 1\\right) e^{x} + 2$"
          },
          "metadata": {}
        },
        {
          "output_type": "stream",
          "name": "stdout",
          "text": [
            "1 1\n"
          ]
        }
      ],
      "source": [
        "x = symbols(\"x\", real=True)\n",
        "y = symbols(\"y\", cls=Function)\n",
        "de = Eq(y(x).diff(x,x) - 2*y(x).diff(x) + y(x) , x)\n",
        "Y = dsolve(de, y(x) , ics={y(0): 1, y(x).diff(x).subs(x,0): 1})\n",
        "display(Y)\n",
        "\n",
        "checkodesol(de, Y)\n",
        "\n",
        "sol = Y.rhs\n",
        "y0 = sol.subs(x,0)\n",
        "y1 = sol.diff(x).subs(x,0)\n",
        "print(y0,y1)"
      ]
    },
    {
      "cell_type": "markdown",
      "id": "bd5f237c",
      "metadata": {
        "cell_marker": "\"\"\"",
        "id": "bd5f237c"
      },
      "source": [
        "# Exercise 4.6.5\n",
        "\n",
        "$\n",
        "y'' - 6y' + 9y = 50\\sin x \\\\\n",
        "y(0) = 0 \\\\\n",
        "y'(0) = 1 \\\\\n",
        "y''(0) = -2\n",
        "$"
      ]
    },
    {
      "cell_type": "code",
      "execution_count": null,
      "id": "7ab8bb8c",
      "metadata": {
        "lines_to_next_cell": 2,
        "colab": {
          "base_uri": "https://localhost:8080/",
          "height": 75
        },
        "id": "7ab8bb8c",
        "outputId": "91922b4f-b26f-43b4-fdb4-137bfba70b22"
      },
      "outputs": [
        {
          "output_type": "display_data",
          "data": {
            "text/plain": [
              "Eq(y(x), x/9 + (10*x/9 - 2/27)*exp(3*x) + 2/27)"
            ],
            "text/latex": "$\\displaystyle y{\\left(x \\right)} = \\frac{x}{9} + \\left(\\frac{10 x}{9} - \\frac{2}{27}\\right) e^{3 x} + \\frac{2}{27}$"
          },
          "metadata": {}
        },
        {
          "output_type": "stream",
          "name": "stdout",
          "text": [
            "0 1 6\n"
          ]
        }
      ],
      "source": [
        "x = symbols(\"x\", real=True)\n",
        "y = symbols(\"y\", cls=Function)\n",
        "de = Eq(y(x).diff(x,x) - 6*y(x).diff(x) + 9*y(x) , x)\n",
        "Y = dsolve(de, y(x) , ics={y(0): 0, y(x).diff(x).subs(x,0): 1})\n",
        "display(Y)\n",
        "\n",
        "checkodesol(de, Y)\n",
        "\n",
        "sol = Y.rhs\n",
        "y0 = sol.subs(x,0)\n",
        "y1 = sol.diff(x).subs(x,0)\n",
        "y2 = sol.diff(x,x).subs(x,0)\n",
        "print(y0,y1,y2)"
      ]
    },
    {
      "cell_type": "markdown",
      "id": "e2d843bc",
      "metadata": {
        "cell_marker": "\"\"\"",
        "id": "e2d843bc"
      },
      "source": [
        "* The second derivative at $x=0$ is $y''(0)=6$,\n",
        "  so there is no solution to our problem!\n",
        "  This follows from the uniqueness theorem.\n",
        "* You can add the third condition to this proble as follows\n",
        "  and watch Sympy response ..."
      ]
    },
    {
      "cell_type": "code",
      "execution_count": null,
      "id": "d7484bd3",
      "metadata": {
        "lines_to_next_cell": 2,
        "id": "d7484bd3"
      },
      "outputs": [],
      "source": [
        "# dsolve(de, y(x) , ics={y(0): 0, y(x).diff(x).subs(x,0): 1, y(x).diff(x,x).subs(x,0): -2})"
      ]
    },
    {
      "cell_type": "markdown",
      "id": "29c871d9",
      "metadata": {
        "cell_marker": "\"\"\"",
        "id": "29c871d9"
      },
      "source": [
        "# Exercise 4.6.6\n",
        "\n",
        "$\n",
        "y'' - 2y' + y = xe^x + 4 \\\\\n",
        "y(0) = 0 \\\\\n",
        "y'(0) = 1\n",
        "$"
      ]
    },
    {
      "cell_type": "code",
      "execution_count": null,
      "id": "b6a41c18",
      "metadata": {
        "lines_to_next_cell": 2,
        "colab": {
          "base_uri": "https://localhost:8080/",
          "height": 76
        },
        "id": "b6a41c18",
        "outputId": "68d89aef-3e8a-4ff4-9e62-be9952a1289d"
      },
      "outputs": [
        {
          "output_type": "display_data",
          "data": {
            "text/plain": [
              "Eq(y(x), (x*(x**2/6 + 5) - 4)*exp(x) + 4)"
            ],
            "text/latex": "$\\displaystyle y{\\left(x \\right)} = \\left(x \\left(\\frac{x^{2}}{6} + 5\\right) - 4\\right) e^{x} + 4$"
          },
          "metadata": {}
        },
        {
          "output_type": "stream",
          "name": "stdout",
          "text": [
            "0 1\n"
          ]
        }
      ],
      "source": [
        "x = symbols(\"x\", real=True)\n",
        "y = symbols(\"y\", cls=Function)\n",
        "de = Eq(y(x).diff(x,x) - 2*y(x).diff(x) + y(x) , x*exp(x) + 4)\n",
        "Y = dsolve(de, y(x) , ics={y(0): 0, y(x).diff(x).subs(x,0): 1})\n",
        "display(Y)\n",
        "\n",
        "expand(Y)\n",
        "\n",
        "checkodesol(de, Y)\n",
        "\n",
        "sol = Y.rhs\n",
        "y0 = sol.subs(x,0)\n",
        "y1 = sol.diff(x).subs(x,0)\n",
        "print(y0,y1)"
      ]
    },
    {
      "cell_type": "markdown",
      "id": "309dd196",
      "metadata": {
        "cell_marker": "\"\"\"",
        "id": "309dd196"
      },
      "source": [
        "# Exercise 4.6.7\n",
        "\n",
        "$\n",
        "y'' + 2y' + y = xe^{-x} \\\\\n",
        "y(0) = 1 \\\\\n",
        "y'(0) = 0\n",
        "$"
      ]
    },
    {
      "cell_type": "code",
      "execution_count": null,
      "id": "c6e2af57",
      "metadata": {
        "lines_to_next_cell": 2,
        "colab": {
          "base_uri": "https://localhost:8080/",
          "height": 75
        },
        "id": "c6e2af57",
        "outputId": "8a5235ce-b573-4baf-e8f7-21bf3c474f23"
      },
      "outputs": [
        {
          "output_type": "display_data",
          "data": {
            "text/plain": [
              "Eq(y(x), (x - 1)*exp(x)/4 + (5*x/4 + 5/4)*exp(-x))"
            ],
            "text/latex": "$\\displaystyle y{\\left(x \\right)} = \\frac{\\left(x - 1\\right) e^{x}}{4} + \\left(\\frac{5 x}{4} + \\frac{5}{4}\\right) e^{- x}$"
          },
          "metadata": {}
        },
        {
          "output_type": "stream",
          "name": "stdout",
          "text": [
            "1 0\n"
          ]
        }
      ],
      "source": [
        "x = symbols(\"x\", real=True)\n",
        "y = symbols(\"y\", cls=Function)\n",
        "de = Eq(y(x).diff(x,x) + 2*y(x).diff(x) + y(x) , x*exp(x))\n",
        "Y = dsolve(de, y(x) , ics={y(0): 1, y(x).diff(x).subs(x,0): 0})\n",
        "display(Y)\n",
        "\n",
        "expand(Y)\n",
        "\n",
        "checkodesol(de, Y)\n",
        "\n",
        "sol = Y.rhs\n",
        "y0 = sol.subs(x,0)\n",
        "y1 = sol.diff(x).subs(x,0)\n",
        "print(y0,y1)"
      ]
    },
    {
      "cell_type": "markdown",
      "id": "9ec7775f",
      "metadata": {
        "cell_marker": "\"\"\"",
        "id": "9ec7775f"
      },
      "source": [
        "# Exercise 4.10\n",
        "\n",
        "$\n",
        "y'''+3y''+3y'+y=0 \\\\\n",
        "y(0) = 1 \\\\\n",
        "y'(0) = 0 \\\\\n",
        "y''(0) = 1\n",
        "$"
      ]
    },
    {
      "cell_type": "code",
      "execution_count": null,
      "id": "4c1453a7",
      "metadata": {
        "lines_to_next_cell": 2,
        "colab": {
          "base_uri": "https://localhost:8080/",
          "height": 56
        },
        "id": "4c1453a7",
        "outputId": "c3389aaa-b4c3-4022-e829-73dc68ff349d"
      },
      "outputs": [
        {
          "output_type": "display_data",
          "data": {
            "text/plain": [
              "Eq(y(x), (x*(x + 1) + 1)*exp(-x))"
            ],
            "text/latex": "$\\displaystyle y{\\left(x \\right)} = \\left(x \\left(x + 1\\right) + 1\\right) e^{- x}$"
          },
          "metadata": {}
        },
        {
          "output_type": "stream",
          "name": "stdout",
          "text": [
            "1 0 1\n"
          ]
        }
      ],
      "source": [
        "x = symbols(\"x\", real=True)\n",
        "y = symbols(\"y\", cls=Function)\n",
        "de = Eq(y(x).diff(x,x,x) + 3*y(x).diff(x,x) + 3*y(x).diff(x) + y(x) , 0)\n",
        "Y = dsolve(de, y(x) , ics={y(0): 1, y(x).diff(x).subs(x,0): 0, y(x).diff(x,x).subs(x,0): 1})\n",
        "display(Y)\n",
        "\n",
        "expand(Y)\n",
        "\n",
        "checkodesol(de, Y)\n",
        "\n",
        "sol = Y.rhs\n",
        "y0 = sol.subs(x,0)\n",
        "y1 = sol.diff(x).subs(x,0)\n",
        "y2 = sol.diff(x,x).subs(x,0)\n",
        "print(y0,y1,y2)"
      ]
    },
    {
      "cell_type": "markdown",
      "id": "58128abb",
      "metadata": {
        "cell_marker": "\"\"\"",
        "id": "58128abb"
      },
      "source": [
        "# Exercise 4.11\n",
        "\n",
        "$\n",
        "y''+4y=0 \\\\\n",
        "y(0) = 0 \\\\\n",
        "y'(0) = 1\n",
        "$"
      ]
    },
    {
      "cell_type": "code",
      "execution_count": null,
      "id": "2f17f38d",
      "metadata": {
        "lines_to_next_cell": 2,
        "colab": {
          "base_uri": "https://localhost:8080/",
          "height": 70
        },
        "id": "2f17f38d",
        "outputId": "02922b43-2600-4f61-fa5b-0de772be429e"
      },
      "outputs": [
        {
          "output_type": "display_data",
          "data": {
            "text/plain": [
              "Eq(y(x), sin(2*x)/2)"
            ],
            "text/latex": "$\\displaystyle y{\\left(x \\right)} = \\frac{\\sin{\\left(2 x \\right)}}{2}$"
          },
          "metadata": {}
        },
        {
          "output_type": "stream",
          "name": "stdout",
          "text": [
            "0 1\n"
          ]
        }
      ],
      "source": [
        "x = symbols(\"x\", real=True)\n",
        "y = symbols(\"y\", cls=Function)\n",
        "de = Eq(y(x).diff(x,x) + 4*y(x) , 0)\n",
        "Y = dsolve(de, y(x) , ics={y(0): 0, y(x).diff(x).subs(x,0): 1})\n",
        "display(Y)\n",
        "\n",
        "checkodesol(de, Y)\n",
        "\n",
        "sol = Y.rhs\n",
        "y0 = sol.subs(x,0)\n",
        "y1 = sol.diff(x).subs(x,0)\n",
        "print(y0,y1)"
      ]
    },
    {
      "cell_type": "markdown",
      "id": "ac3fe013",
      "metadata": {
        "cell_marker": "\"\"\"",
        "id": "ac3fe013"
      },
      "source": [
        "# Exercise 4.12.1\n",
        "\n",
        "$x^2 y'' + xy' + 4y = 10x$"
      ]
    },
    {
      "cell_type": "code",
      "execution_count": null,
      "id": "449971aa",
      "metadata": {
        "lines_to_next_cell": 2,
        "colab": {
          "base_uri": "https://localhost:8080/",
          "height": 56
        },
        "id": "449971aa",
        "outputId": "3a2dc4ee-1609-403b-922c-013773011b98"
      },
      "outputs": [
        {
          "output_type": "display_data",
          "data": {
            "text/plain": [
              "Eq(y(x), C1*sin(2*log(x)) + C2*cos(2*log(x)) + 2*x)"
            ],
            "text/latex": "$\\displaystyle y{\\left(x \\right)} = C_{1} \\sin{\\left(2 \\log{\\left(x \\right)} \\right)} + C_{2} \\cos{\\left(2 \\log{\\left(x \\right)} \\right)} + 2 x$"
          },
          "metadata": {}
        },
        {
          "output_type": "execute_result",
          "data": {
            "text/plain": [
              "(True, 0)"
            ]
          },
          "metadata": {},
          "execution_count": 107
        }
      ],
      "source": [
        "x = symbols(\"x\", real=True)\n",
        "y = symbols(\"y\", cls=Function)\n",
        "de = Eq(x**2 * y(x).diff(x,x) + x*y(x).diff(x) + 4*y(x) , 10*x)\n",
        "Y = dsolve(de)\n",
        "display(Y)\n",
        "\n",
        "checkodesol(de, Y)"
      ]
    },
    {
      "cell_type": "markdown",
      "id": "502205bd",
      "metadata": {
        "cell_marker": "\"\"\"",
        "id": "502205bd"
      },
      "source": [
        "# Exercise 4.12.2\n",
        "\n",
        "$x^2 y'' - 3xy' + 5y = 3x^2$"
      ]
    },
    {
      "cell_type": "code",
      "execution_count": null,
      "id": "070f4a3f",
      "metadata": {
        "lines_to_next_cell": 2,
        "colab": {
          "base_uri": "https://localhost:8080/",
          "height": 56
        },
        "id": "070f4a3f",
        "outputId": "e73c271b-823b-4474-a8a8-e31765912266"
      },
      "outputs": [
        {
          "output_type": "display_data",
          "data": {
            "text/plain": [
              "Eq(y(x), x**2*(C1*sin(log(x)) + C2*cos(log(x)) + 3))"
            ],
            "text/latex": "$\\displaystyle y{\\left(x \\right)} = x^{2} \\left(C_{1} \\sin{\\left(\\log{\\left(x \\right)} \\right)} + C_{2} \\cos{\\left(\\log{\\left(x \\right)} \\right)} + 3\\right)$"
          },
          "metadata": {}
        },
        {
          "output_type": "execute_result",
          "data": {
            "text/plain": [
              "(True, 0)"
            ]
          },
          "metadata": {},
          "execution_count": 108
        }
      ],
      "source": [
        "x = symbols(\"x\", real=True)\n",
        "y = symbols(\"y\", cls=Function)\n",
        "de = Eq(x**2 * y(x).diff(x,x) - 3*x*y(x).diff(x) + 5*y(x) , 3*x**2)\n",
        "Y = dsolve(de)\n",
        "display(Y)\n",
        "\n",
        "expand(Y)\n",
        "\n",
        "checkodesol(de, Y)"
      ]
    },
    {
      "cell_type": "markdown",
      "id": "6eabda44",
      "metadata": {
        "cell_marker": "\"\"\"",
        "id": "6eabda44"
      },
      "source": [
        "# Exercise 4.12.3\n",
        "\n",
        "$x^2 y'' - 6y = 5x^3 + 8x^2$"
      ]
    },
    {
      "cell_type": "code",
      "execution_count": null,
      "id": "f351bd2c",
      "metadata": {
        "lines_to_next_cell": 2,
        "colab": {
          "base_uri": "https://localhost:8080/",
          "height": 71
        },
        "id": "f351bd2c",
        "outputId": "ebd7be59-2452-47fe-bd9a-bc3c3fb4a5c0"
      },
      "outputs": [
        {
          "output_type": "display_data",
          "data": {
            "text/plain": [
              "Eq(y(x), (C1 + x**4*(C2*x + x*log(x) - 2))/x**2)"
            ],
            "text/latex": "$\\displaystyle y{\\left(x \\right)} = \\frac{C_{1} + x^{4} \\left(C_{2} x + x \\log{\\left(x \\right)} - 2\\right)}{x^{2}}$"
          },
          "metadata": {}
        },
        {
          "output_type": "execute_result",
          "data": {
            "text/plain": [
              "(True, 0)"
            ]
          },
          "metadata": {},
          "execution_count": 109
        }
      ],
      "source": [
        "x = symbols(\"x\", real=True)\n",
        "y = symbols(\"y\", cls=Function)\n",
        "de = Eq(x**2 * y(x).diff(x,x) - 6*y(x) , 5*x**3 + 8*x**2)\n",
        "Y = dsolve(de)\n",
        "display(Y)\n",
        "\n",
        "expand(Y)\n",
        "\n",
        "checkodesol(de, Y)"
      ]
    },
    {
      "cell_type": "markdown",
      "id": "9bd55674",
      "metadata": {
        "cell_marker": "\"\"\"",
        "id": "9bd55674"
      },
      "source": [
        "# Exercise 4.12.4\n",
        "\n",
        "$x^2 y'' - 2y = \\sin(\\ln x)$"
      ]
    },
    {
      "cell_type": "code",
      "execution_count": null,
      "id": "0fd2969c",
      "metadata": {
        "lines_to_next_cell": 2,
        "colab": {
          "base_uri": "https://localhost:8080/",
          "height": 70
        },
        "id": "0fd2969c",
        "outputId": "7cc01c9f-cf0e-4432-f54e-8e50356e2235"
      },
      "outputs": [
        {
          "output_type": "display_data",
          "data": {
            "text/plain": [
              "Eq(y(x), C1/x + C2*x**2 - 3*sin(log(x))/10 + cos(log(x))/10)"
            ],
            "text/latex": "$\\displaystyle y{\\left(x \\right)} = \\frac{C_{1}}{x} + C_{2} x^{2} - \\frac{3 \\sin{\\left(\\log{\\left(x \\right)} \\right)}}{10} + \\frac{\\cos{\\left(\\log{\\left(x \\right)} \\right)}}{10}$"
          },
          "metadata": {}
        },
        {
          "output_type": "execute_result",
          "data": {
            "text/plain": [
              "(True, 0)"
            ]
          },
          "metadata": {},
          "execution_count": 110
        }
      ],
      "source": [
        "x = symbols(\"x\", real=True)\n",
        "y = symbols(\"y\", cls=Function)\n",
        "de = Eq(x**2 * y(x).diff(x,x) - 2*y(x) , sin(log(x)))\n",
        "Y = dsolve(de)\n",
        "display(Y)\n",
        "\n",
        "checkodesol(de, Y)"
      ]
    },
    {
      "cell_type": "markdown",
      "id": "a321675c",
      "metadata": {
        "cell_marker": "\"\"\"",
        "id": "a321675c"
      },
      "source": [
        "# Exercise 4.12.5\n",
        "\n",
        "$(1+x)^2 y'' - 3(1+x)y' + 4y = (1+x)^3$"
      ]
    },
    {
      "cell_type": "code",
      "execution_count": null,
      "id": "2912a94b",
      "metadata": {
        "lines_to_next_cell": 2,
        "id": "2912a94b"
      },
      "outputs": [],
      "source": [
        "x = symbols(\"x\", real=True)\n",
        "y = symbols(\"y\", cls=Function)\n",
        "de = Eq((1+x)**2 * y(x).diff(x,x) - 3*(1+x)*y(x).diff(x) + 4*y(x) , (1+x)**3)\n",
        "# Y = dsolve(de, hint=\"nth_linear_euler_eq_nonhomogeneous_variation_of_parameters\")\n",
        "# display(Y)"
      ]
    },
    {
      "cell_type": "markdown",
      "id": "9a795143",
      "metadata": {
        "cell_marker": "\"\"\"",
        "id": "9a795143"
      },
      "source": [
        "* Sympy 1.11.1 failed on this euler type equation.\n",
        "* Mathdf solution:\n",
        "$$\n",
        "y=C_{1}\\,\\left({x}^{2}\\,\\ln\\left(x+1\\right)+2\\,x\\,\\ln\\left(x+1\\right)+\\ln\\left(x+1\\right)\\right)+{x}^{3}+C\\,\\left({x}^{2}+2\\,x+1\\right)+3\\,{x}^{2}+3\\,x+1\n",
        "$$\n",
        "* For a step-by-step-solution click:\n",
        "[**Link to a step-by-step solution**](\n",
        "https://mathdf.com/dif/#expr=(1%2Bx)%5E2y'2-3(1%2Bx)y'%2B4y%3D(1%2Bx)%5E3&func=y&arg=x\n",
        ")\n",
        "\n",
        "# Exercise 4.12.6\n",
        "\n",
        "$y'' - 2y' +y = \\dfrac{e^x}{x}$"
      ]
    },
    {
      "cell_type": "code",
      "execution_count": null,
      "id": "f67a7b2e",
      "metadata": {
        "lines_to_next_cell": 2,
        "colab": {
          "base_uri": "https://localhost:8080/",
          "height": 56
        },
        "id": "f67a7b2e",
        "outputId": "0ebfd993-e6aa-4956-f714-754d9240b938"
      },
      "outputs": [
        {
          "output_type": "display_data",
          "data": {
            "text/plain": [
              "Eq(y(x), (C1 + x*(C2 + log(x)))*exp(x))"
            ],
            "text/latex": "$\\displaystyle y{\\left(x \\right)} = \\left(C_{1} + x \\left(C_{2} + \\log{\\left(x \\right)}\\right)\\right) e^{x}$"
          },
          "metadata": {}
        },
        {
          "output_type": "execute_result",
          "data": {
            "text/plain": [
              "(True, 0)"
            ]
          },
          "metadata": {},
          "execution_count": 112
        }
      ],
      "source": [
        "x = symbols(\"x\", real=True)\n",
        "y = symbols(\"y\", cls=Function)\n",
        "de = Eq(y(x).diff(x,x) - 2*y(x).diff(x) + y(x) , exp(x) / x)\n",
        "Y = dsolve(de)\n",
        "display(Y)\n",
        "\n",
        "expand(Y)\n",
        "\n",
        "checkodesol(de, Y)"
      ]
    },
    {
      "cell_type": "markdown",
      "id": "be9bc061",
      "metadata": {
        "cell_marker": "\"\"\"",
        "id": "be9bc061"
      },
      "source": [
        "# Exercise 4.12.7\n",
        "\n",
        "$y'' +y = \\dfrac{1}{\\sin x}$"
      ]
    },
    {
      "cell_type": "code",
      "execution_count": null,
      "id": "0a56550d",
      "metadata": {
        "lines_to_next_cell": 2,
        "id": "0a56550d",
        "colab": {
          "base_uri": "https://localhost:8080/",
          "height": 56
        },
        "outputId": "303c1dd7-ad87-44f1-c1c8-9a363f1c5bd0"
      },
      "outputs": [
        {
          "output_type": "display_data",
          "data": {
            "text/plain": [
              "Eq(y(x), (C1 - x)*cos(x) + (C2 + log(sin(x)))*sin(x))"
            ],
            "text/latex": "$\\displaystyle y{\\left(x \\right)} = \\left(C_{1} - x\\right) \\cos{\\left(x \\right)} + \\left(C_{2} + \\log{\\left(\\sin{\\left(x \\right)} \\right)}\\right) \\sin{\\left(x \\right)}$"
          },
          "metadata": {}
        },
        {
          "output_type": "execute_result",
          "data": {
            "text/plain": [
              "(True, 0)"
            ]
          },
          "metadata": {},
          "execution_count": 113
        }
      ],
      "source": [
        "x = symbols(\"x\", real=True)\n",
        "y = symbols(\"y\", cls=Function)\n",
        "de = Eq(y(x).diff(x,x) + y(x) , 1 / sin(x))\n",
        "Y = dsolve(de)\n",
        "display(Y)\n",
        "\n",
        "expand(Y)\n",
        "\n",
        "checkodesol(de, Y)"
      ]
    },
    {
      "cell_type": "markdown",
      "id": "3481f0bf",
      "metadata": {
        "cell_marker": "\"\"\"",
        "id": "3481f0bf"
      },
      "source": [
        "# Exercise 4.12.8\n",
        "\n",
        "$y'' + 2y' + 5y = e^{-x}(\\cos^2 x + \\tan x)$"
      ]
    },
    {
      "cell_type": "code",
      "execution_count": null,
      "id": "dc8abc80",
      "metadata": {
        "lines_to_next_cell": 2,
        "id": "dc8abc80",
        "colab": {
          "base_uri": "https://localhost:8080/",
          "height": 98
        },
        "outputId": "f233cd22-a88f-4476-f8a1-10a14f3d23ab"
      },
      "outputs": [
        {
          "output_type": "display_data",
          "data": {
            "text/plain": [
              "Eq(y(x), (-(1 - cos(2*x))**3/16 + 3*(1 - cos(2*x))**2/16 + (C1 - x/2)*cos(2*x) + (C2 + x/8 - log(1/(cos(2*x) + 1))/4)*sin(2*x) - cos(6*x)/64)*exp(-x))"
            ],
            "text/latex": "$\\displaystyle y{\\left(x \\right)} = \\left(- \\frac{\\left(1 - \\cos{\\left(2 x \\right)}\\right)^{3}}{16} + \\frac{3 \\left(1 - \\cos{\\left(2 x \\right)}\\right)^{2}}{16} + \\left(C_{1} - \\frac{x}{2}\\right) \\cos{\\left(2 x \\right)} + \\left(C_{2} + \\frac{x}{8} - \\frac{\\log{\\left(\\frac{1}{\\cos{\\left(2 x \\right)} + 1} \\right)}}{4}\\right) \\sin{\\left(2 x \\right)} - \\frac{\\cos{\\left(6 x \\right)}}{64}\\right) e^{- x}$"
          },
          "metadata": {}
        },
        {
          "output_type": "execute_result",
          "data": {
            "text/plain": [
              "(True, 0)"
            ]
          },
          "metadata": {},
          "execution_count": 114
        }
      ],
      "source": [
        "x = symbols(\"x\", real=True)\n",
        "y = symbols(\"y\", cls=Function)\n",
        "de = Eq(y(x).diff(x,x) + 2*y(x).diff(x) + 5*y(x) , exp(-x) * (cos(x)**2 + tan(x)))\n",
        "Y = dsolve(de)\n",
        "display(Y)\n",
        "\n",
        "expand(Y)\n",
        "\n",
        "checkodesol(de, Y)"
      ]
    },
    {
      "cell_type": "markdown",
      "id": "9eacc2f9",
      "metadata": {
        "cell_marker": "\"\"\"",
        "id": "9eacc2f9"
      },
      "source": [
        "# Exercise 4.12.9\n",
        "\n",
        "$y''' + y' = \\sin x + x\\cos x$"
      ]
    },
    {
      "cell_type": "code",
      "execution_count": null,
      "id": "074bb4b1",
      "metadata": {
        "lines_to_next_cell": 2,
        "id": "074bb4b1",
        "colab": {
          "base_uri": "https://localhost:8080/",
          "height": 76
        },
        "outputId": "23bc4360-76a1-49ea-8cf8-e9a11066b718"
      },
      "outputs": [
        {
          "output_type": "display_data",
          "data": {
            "text/plain": [
              "Eq(y(x), C1 + (C2 - x**2/4)*cos(x) + (C3 + x/4)*sin(x))"
            ],
            "text/latex": "$\\displaystyle y{\\left(x \\right)} = C_{1} + \\left(C_{2} - \\frac{x^{2}}{4}\\right) \\cos{\\left(x \\right)} + \\left(C_{3} + \\frac{x}{4}\\right) \\sin{\\left(x \\right)}$"
          },
          "metadata": {}
        },
        {
          "output_type": "execute_result",
          "data": {
            "text/plain": [
              "(True, 0)"
            ]
          },
          "metadata": {},
          "execution_count": 115
        }
      ],
      "source": [
        "x = symbols(\"x\", real=True)\n",
        "y = symbols(\"y\", cls=Function)\n",
        "de = Eq(y(x).diff(x,x,x) + y(x).diff(x) , sin(x) + x*cos(x))\n",
        "Y = dsolve(de)\n",
        "display(Y)\n",
        "\n",
        "expand(Y)\n",
        "\n",
        "checkodesol(de, Y)"
      ]
    },
    {
      "cell_type": "markdown",
      "id": "3eaeb13a",
      "metadata": {
        "cell_marker": "\"\"\"",
        "id": "3eaeb13a"
      },
      "source": [
        "# Exercise 4.12.10\n",
        "\n",
        "$y^{(5)} + 4y' = x + 1 + \\cos 2x$"
      ]
    },
    {
      "cell_type": "code",
      "execution_count": null,
      "id": "9a5b7210",
      "metadata": {
        "lines_to_next_cell": 2,
        "id": "9a5b7210",
        "colab": {
          "base_uri": "https://localhost:8080/",
          "height": 71
        },
        "outputId": "4a2058fd-37b4-4ddd-a8c5-350850b83520"
      },
      "outputs": [
        {
          "output_type": "display_data",
          "data": {
            "text/plain": [
              "Eq(y(x), C1 + x**2/8 + x/4 + (C2*sin(x) + C3*cos(x))*exp(-x) + (C4*sin(x) + C5*cos(x))*exp(x) + sin(2*x)/40)"
            ],
            "text/latex": "$\\displaystyle y{\\left(x \\right)} = C_{1} + \\frac{x^{2}}{8} + \\frac{x}{4} + \\left(C_{2} \\sin{\\left(x \\right)} + C_{3} \\cos{\\left(x \\right)}\\right) e^{- x} + \\left(C_{4} \\sin{\\left(x \\right)} + C_{5} \\cos{\\left(x \\right)}\\right) e^{x} + \\frac{\\sin{\\left(2 x \\right)}}{40}$"
          },
          "metadata": {}
        },
        {
          "output_type": "execute_result",
          "data": {
            "text/plain": [
              "(True, 0)"
            ]
          },
          "metadata": {},
          "execution_count": 116
        }
      ],
      "source": [
        "x = symbols(\"x\", real=True)\n",
        "y = symbols(\"y\", cls=Function)\n",
        "de = Eq(y(x).diff(x,x,x,x,x) + 4*y(x).diff(x) , x+1+cos(2*x))\n",
        "Y = dsolve(de)\n",
        "display(Y)\n",
        "\n",
        "expand(Y)\n",
        "\n",
        "checkodesol(de, Y)"
      ]
    },
    {
      "cell_type": "markdown",
      "id": "2b9a5086",
      "metadata": {
        "cell_marker": "\"\"\"",
        "id": "2b9a5086"
      },
      "source": [
        "# Exercise 4.13.1\n",
        "\n",
        "$\n",
        "x^2y'' - xy' + y = 2x \\\\\n",
        "y(1) = 0 \\\\\n",
        "y'(1) = 1\n",
        "$"
      ]
    },
    {
      "cell_type": "code",
      "execution_count": null,
      "id": "f1588ab0",
      "metadata": {
        "lines_to_next_cell": 2,
        "id": "f1588ab0",
        "colab": {
          "base_uri": "https://localhost:8080/",
          "height": 65
        },
        "outputId": "3fa2ecc6-eb1e-4dd2-f26c-07e09b9485b9"
      },
      "outputs": [
        {
          "output_type": "display_data",
          "data": {
            "text/plain": [
              "Eq(y(x), x*(log(x)**2 + log(x)))"
            ],
            "text/latex": "$\\displaystyle y{\\left(x \\right)} = x \\left(\\log{\\left(x \\right)}^{2} + \\log{\\left(x \\right)}\\right)$"
          },
          "metadata": {}
        },
        {
          "output_type": "execute_result",
          "data": {
            "text/plain": [
              "(True, 0)"
            ]
          },
          "metadata": {},
          "execution_count": 117
        }
      ],
      "source": [
        "x = symbols(\"x\", real=True)\n",
        "y = symbols(\"y\", cls=Function)\n",
        "de = Eq(x**2 * y(x).diff(x,x) - x*y(x).diff(x) + y(x) , 2*x)\n",
        "Y = dsolve(de, y(x) , ics={y(1): 0, y(x).diff(x).subs(x,1): 1})\n",
        "display(Y)\n",
        "\n",
        "expand(Y)\n",
        "\n",
        "checkodesol(de, Y)"
      ]
    },
    {
      "cell_type": "markdown",
      "id": "3728af01",
      "metadata": {
        "cell_marker": "\"\"\"",
        "id": "3728af01"
      },
      "source": [
        "# Exercise 4.13.2\n",
        "\n",
        "$\n",
        "x^2y'' - 3xy' + 13y = 0 \\\\\n",
        "y(1) = 1 \\\\\n",
        "y'(1) = -1\n",
        "$"
      ]
    },
    {
      "cell_type": "code",
      "execution_count": null,
      "id": "6fafc852",
      "metadata": {
        "lines_to_next_cell": 2,
        "id": "6fafc852",
        "colab": {
          "base_uri": "https://localhost:8080/",
          "height": 56
        },
        "outputId": "426cfa1c-85c5-4f99-e8be-f9fbaac4b355"
      },
      "outputs": [
        {
          "output_type": "display_data",
          "data": {
            "text/plain": [
              "Eq(y(x), x**2*(-sin(3*log(x)) + cos(3*log(x))))"
            ],
            "text/latex": "$\\displaystyle y{\\left(x \\right)} = x^{2} \\left(- \\sin{\\left(3 \\log{\\left(x \\right)} \\right)} + \\cos{\\left(3 \\log{\\left(x \\right)} \\right)}\\right)$"
          },
          "metadata": {}
        },
        {
          "output_type": "execute_result",
          "data": {
            "text/plain": [
              "(True, 0)"
            ]
          },
          "metadata": {},
          "execution_count": 118
        }
      ],
      "source": [
        "x = symbols(\"x\", real=True)\n",
        "y = symbols(\"y\", cls=Function)\n",
        "de = Eq(x**2 * y(x).diff(x,x) - 3*x*y(x).diff(x) + 13*y(x) , 0)\n",
        "Y = dsolve(de, y(x) , ics={y(1): 1, y(x).diff(x).subs(x,1): -1})\n",
        "display(Y)\n",
        "\n",
        "expand(Y)\n",
        "\n",
        "checkodesol(de, Y)"
      ]
    },
    {
      "cell_type": "markdown",
      "id": "7c133e97",
      "metadata": {
        "cell_marker": "\"\"\"",
        "id": "7c133e97"
      },
      "source": [
        "# Exercise 4.14.1\n",
        "\n",
        "$y''+y = \\cot x$"
      ]
    },
    {
      "cell_type": "code",
      "execution_count": null,
      "id": "4c9a9ab3",
      "metadata": {
        "lines_to_next_cell": 2,
        "id": "4c9a9ab3",
        "colab": {
          "base_uri": "https://localhost:8080/",
          "height": 75
        },
        "outputId": "82fc6a2f-155d-401d-b2a8-42950c14b686"
      },
      "outputs": [
        {
          "output_type": "display_data",
          "data": {
            "text/plain": [
              "Eq(y(x), C2*cos(x) + (C1 + log(cos(x) - 1)/2 - log(cos(x) + 1)/2)*sin(x))"
            ],
            "text/latex": "$\\displaystyle y{\\left(x \\right)} = C_{2} \\cos{\\left(x \\right)} + \\left(C_{1} + \\frac{\\log{\\left(\\cos{\\left(x \\right)} - 1 \\right)}}{2} - \\frac{\\log{\\left(\\cos{\\left(x \\right)} + 1 \\right)}}{2}\\right) \\sin{\\left(x \\right)}$"
          },
          "metadata": {}
        },
        {
          "output_type": "execute_result",
          "data": {
            "text/plain": [
              "(True, 0)"
            ]
          },
          "metadata": {},
          "execution_count": 119
        }
      ],
      "source": [
        "x = symbols(\"x\", real=True)\n",
        "y = symbols(\"y\", cls=Function)\n",
        "de = Eq(y(x).diff(x,x) + y(x) , cot(x))\n",
        "Y = dsolve(de)\n",
        "display(Y)\n",
        "\n",
        "expand(Y)\n",
        "\n",
        "checkodesol(de, Y)"
      ]
    },
    {
      "cell_type": "markdown",
      "id": "312c2896",
      "metadata": {
        "cell_marker": "\"\"\"",
        "id": "312c2896"
      },
      "source": [
        "# Exercise 4.14.2\n",
        "\n",
        "$y'' + 2y' + y = \\dfrac{e^{-x}}{x}$"
      ]
    },
    {
      "cell_type": "code",
      "execution_count": null,
      "id": "c92125ca",
      "metadata": {
        "lines_to_next_cell": 2,
        "id": "c92125ca",
        "colab": {
          "base_uri": "https://localhost:8080/",
          "height": 56
        },
        "outputId": "0ecdcb9b-c26c-4b2c-8458-af6cc741a5ec"
      },
      "outputs": [
        {
          "output_type": "display_data",
          "data": {
            "text/plain": [
              "Eq(y(x), (C1 + x*(C2 + log(x)))*exp(-x))"
            ],
            "text/latex": "$\\displaystyle y{\\left(x \\right)} = \\left(C_{1} + x \\left(C_{2} + \\log{\\left(x \\right)}\\right)\\right) e^{- x}$"
          },
          "metadata": {}
        },
        {
          "output_type": "execute_result",
          "data": {
            "text/plain": [
              "(True, 0)"
            ]
          },
          "metadata": {},
          "execution_count": 120
        }
      ],
      "source": [
        "x = symbols(\"x\", real=True)\n",
        "y = symbols(\"y\", cls=Function)\n",
        "de = Eq(y(x).diff(x,x) + 2*y(x).diff(x) + y(x) , exp(-x)/x)\n",
        "Y = dsolve(de)\n",
        "display(Y)\n",
        "\n",
        "expand(Y)\n",
        "\n",
        "checkodesol(de, Y)"
      ]
    },
    {
      "cell_type": "markdown",
      "id": "3edb9f02",
      "metadata": {
        "cell_marker": "\"\"\"",
        "id": "3edb9f02"
      },
      "source": [
        "# Exercise 4.14.3\n",
        "\n",
        "$y'' + 5y' + 6y = \\dfrac{1}{e^{2x} + 1}$"
      ]
    },
    {
      "cell_type": "code",
      "execution_count": null,
      "id": "68770924",
      "metadata": {
        "lines_to_next_cell": 2,
        "id": "68770924"
      },
      "outputs": [],
      "source": [
        "x = symbols(\"x\", real=True)\n",
        "y = symbols(\"y\", cls=Function)\n",
        "de = Eq(y(x).diff(x,x) + 5*y(x).diff(x) + 6*y(x) , 1 / (exp(2*x) + 1))\n",
        "# Y = dsolve(de)\n",
        "# display(Y)"
      ]
    },
    {
      "cell_type": "markdown",
      "id": "a82fadca",
      "metadata": {
        "cell_marker": "\"\"\"",
        "id": "a82fadca"
      },
      "source": [
        "* This one seems to be hard. Sympy failed to solve.\n",
        "* Mathdf gave this solution:\n",
        "$$\n",
        "y=\\dfrac{\\arctan\\left({e}^{x}\\right)-C_{3}}{{e}^{3\\,x}}-\\dfrac{-\\ln\\left({e}^{2\\,x}+1\\right)-C_{2}}{2\\,{e}^{2\\,x}}\n",
        "$$\n",
        "\n",
        "* For a step-by-step-solution click:\n",
        "[**Link to a step-by-step solution**](\n",
        "https://mathdf.com/dif/#expr=y'2%2B5y'%2B6y%3D(1)%2F(e%5E(2x)%2B1)&func=y&arg=x\n",
        ")"
      ]
    },
    {
      "cell_type": "code",
      "execution_count": null,
      "id": "c5736abe",
      "metadata": {
        "lines_to_next_cell": 2,
        "id": "c5736abe",
        "colab": {
          "base_uri": "https://localhost:8080/"
        },
        "outputId": "5464d4a7-b3af-4cdc-96b4-f65696c59d8b"
      },
      "outputs": [
        {
          "output_type": "stream",
          "name": "stdout",
          "text": [
            "Object ` checkodesol(de, Y)` not found.\n"
          ]
        }
      ],
      "source": [
        "x, C3, C2 = symbols(\"x C3 C2\", real=True)\n",
        "y = symbols(\"y\", cls=Function)\n",
        "Y = Eq(y(x), (atan(exp(x)) - C3) / exp(3*x)  +  (log(exp(2*x) + 1) + C2) / (2*exp(2*x)))\n",
        "? checkodesol(de, Y)"
      ]
    },
    {
      "cell_type": "markdown",
      "id": "bcc99f2c",
      "metadata": {
        "cell_marker": "\"\"\"",
        "id": "bcc99f2c"
      },
      "source": [
        "# Exercise 4.14.4\n",
        "\n",
        "$y'' - 4y' + 5y = \\dfrac{e^{2x}}{\\cos x}$"
      ]
    },
    {
      "cell_type": "code",
      "execution_count": null,
      "id": "6f417512",
      "metadata": {
        "lines_to_next_cell": 2,
        "id": "6f417512",
        "colab": {
          "base_uri": "https://localhost:8080/",
          "height": 56
        },
        "outputId": "d0649070-4437-41a4-a7e6-a633e8468993"
      },
      "outputs": [
        {
          "output_type": "display_data",
          "data": {
            "text/plain": [
              "Eq(y(x), ((C1 + x)*sin(x) + (C2 + log(cos(x)))*cos(x))*exp(2*x))"
            ],
            "text/latex": "$\\displaystyle y{\\left(x \\right)} = \\left(\\left(C_{1} + x\\right) \\sin{\\left(x \\right)} + \\left(C_{2} + \\log{\\left(\\cos{\\left(x \\right)} \\right)}\\right) \\cos{\\left(x \\right)}\\right) e^{2 x}$"
          },
          "metadata": {}
        },
        {
          "output_type": "execute_result",
          "data": {
            "text/plain": [
              "(True, 0)"
            ]
          },
          "metadata": {},
          "execution_count": 123
        }
      ],
      "source": [
        "x = symbols(\"x\", real=True)\n",
        "y = symbols(\"y\", cls=Function)\n",
        "de = Eq(y(x).diff(x,x) - 4*y(x).diff(x) + 5*y(x) , exp(2*x)/cos(x))\n",
        "Y = dsolve(de)\n",
        "display(Y)\n",
        "\n",
        "expand(Y)\n",
        "\n",
        "checkodesol(de, Y)"
      ]
    },
    {
      "cell_type": "markdown",
      "id": "be426694",
      "metadata": {
        "cell_marker": "\"\"\"",
        "id": "be426694"
      },
      "source": [
        "# Exercise 4.14.5\n",
        "\n",
        "$y''' + y = \\dfrac{\\sin x}{\\cos^2 x}$"
      ]
    },
    {
      "cell_type": "code",
      "execution_count": null,
      "id": "4693a602",
      "metadata": {
        "lines_to_next_cell": 2,
        "id": "4693a602"
      },
      "outputs": [],
      "source": [
        "x = symbols(\"x\", real=True)\n",
        "y = symbols(\"y\", cls=Function)\n",
        "de = Eq(y(x).diff(x,x,x) + y(x) , sin(x) / (cos(x)**2))\n",
        "# Y = dsolve(de)\n",
        "# display(Y)"
      ]
    },
    {
      "cell_type": "markdown",
      "id": "121de66a",
      "metadata": {
        "cell_marker": "\"\"\"",
        "id": "121de66a"
      },
      "source": [
        "* Sympy 1.11.1 failed to give a solution (hangs forever).\n",
        "* Also Mathdf engine failed to give a solution.\n",
        "* Could be that this is unsolvable in terms of elementary functions.\n",
        "* Will wait for more feedback before it is dropped from the list.\n",
        "\n",
        "# Exercise 4.14.6\n",
        "\n",
        "$y''' + 4y = \\dfrac{1}{\\cos 2x}$"
      ]
    },
    {
      "cell_type": "code",
      "execution_count": null,
      "id": "aea8b02a",
      "metadata": {
        "lines_to_next_cell": 2,
        "id": "aea8b02a"
      },
      "outputs": [],
      "source": [
        "x = symbols(\"x\", real=True)\n",
        "y = symbols(\"y\", cls=Function)\n",
        "de = Eq(y(x).diff(x,x,x) + 4*y(x) , 1 / cos(2*x))\n",
        "# Y = dsolve(de, hint=\"nth_linear_constant_coeff_variation_of_parameters\")\n",
        "# display(Y)"
      ]
    },
    {
      "cell_type": "markdown",
      "id": "76b317cf",
      "metadata": {
        "cell_marker": "\"\"\"",
        "id": "76b317cf"
      },
      "source": [
        "* Sympy 1.11.1 failed to give a solution (hangs forever).\n",
        "* Also Mathdf engine failed to give a solution.\n",
        "* Could be that this is unsolvable in terms of elementary functions.\n",
        "* Will wait for more feedback before it is dropped from the list."
      ]
    },
    {
      "cell_type": "code",
      "execution_count": null,
      "id": "46dcb724",
      "metadata": {
        "lines_to_next_cell": 2,
        "id": "46dcb724",
        "colab": {
          "base_uri": "https://localhost:8080/",
          "height": 39
        },
        "outputId": "14008b08-0454-4fc2-a670-d3adeb5ad786"
      },
      "outputs": [
        {
          "output_type": "execute_result",
          "data": {
            "text/plain": [
              "Eq(y(x), C1*exp(2*x)*sin(x) + C2*exp(2*x)*cos(x) + x*exp(2*x)*sin(x) + exp(2*x)*log(cos(x))*cos(x))"
            ],
            "text/latex": "$\\displaystyle y{\\left(x \\right)} = C_{1} e^{2 x} \\sin{\\left(x \\right)} + C_{2} e^{2 x} \\cos{\\left(x \\right)} + x e^{2 x} \\sin{\\left(x \\right)} + e^{2 x} \\log{\\left(\\cos{\\left(x \\right)} \\right)} \\cos{\\left(x \\right)}$"
          },
          "metadata": {},
          "execution_count": 126
        }
      ],
      "source": [
        "expand(Y)\n",
        "\n",
        "#checkodesol(de, Y)"
      ]
    },
    {
      "cell_type": "markdown",
      "id": "2a444b35",
      "metadata": {
        "cell_marker": "\"\"\"",
        "id": "2a444b35"
      },
      "source": [
        "# Exercise 4.14.7\n",
        "\n",
        "$x^2y'' - xy' - 3y = 0$"
      ]
    },
    {
      "cell_type": "code",
      "execution_count": null,
      "id": "d0df52dd",
      "metadata": {
        "lines_to_next_cell": 2,
        "id": "d0df52dd",
        "colab": {
          "base_uri": "https://localhost:8080/",
          "height": 69
        },
        "outputId": "abfbab3b-5297-4d24-81ce-4ddc26d97aa3"
      },
      "outputs": [
        {
          "output_type": "display_data",
          "data": {
            "text/plain": [
              "Eq(y(x), C1/x + C2*x**3)"
            ],
            "text/latex": "$\\displaystyle y{\\left(x \\right)} = \\frac{C_{1}}{x} + C_{2} x^{3}$"
          },
          "metadata": {}
        },
        {
          "output_type": "execute_result",
          "data": {
            "text/plain": [
              "(True, 0)"
            ]
          },
          "metadata": {},
          "execution_count": 127
        }
      ],
      "source": [
        "x = symbols(\"x\", real=True)\n",
        "y = symbols(\"y\", cls=Function)\n",
        "de = Eq(x**2 * y(x).diff(x,x) - x*y(x).diff(x) - 3*y(x) , 0)\n",
        "Y = dsolve(de, simplify=False)\n",
        "display(Y)\n",
        "\n",
        "expand(Y)\n",
        "\n",
        "checkodesol(de, Y)"
      ]
    },
    {
      "cell_type": "markdown",
      "id": "9f8caf9d",
      "metadata": {
        "cell_marker": "\"\"\"",
        "id": "9f8caf9d"
      },
      "source": [
        "# Exercise 4.14.8\n",
        "\n",
        "$x^2y'' - 2xy' + 2y = x^3 \\sin x$"
      ]
    },
    {
      "cell_type": "code",
      "execution_count": null,
      "id": "a6233179",
      "metadata": {
        "lines_to_next_cell": 2,
        "id": "a6233179",
        "colab": {
          "base_uri": "https://localhost:8080/",
          "height": 56
        },
        "outputId": "f4aa514e-fefb-4ad8-9134-c16fa8d3208e"
      },
      "outputs": [
        {
          "output_type": "display_data",
          "data": {
            "text/plain": [
              "Eq(y(x), x*(C1 + C2*x - sin(x)))"
            ],
            "text/latex": "$\\displaystyle y{\\left(x \\right)} = x \\left(C_{1} + C_{2} x - \\sin{\\left(x \\right)}\\right)$"
          },
          "metadata": {}
        },
        {
          "output_type": "execute_result",
          "data": {
            "text/plain": [
              "(True, 0)"
            ]
          },
          "metadata": {},
          "execution_count": 128
        }
      ],
      "source": [
        "x = symbols(\"x\", real=True)\n",
        "y = symbols(\"y\", cls=Function)\n",
        "de = Eq(x**2 * y(x).diff(x,x) - 2*x*y(x).diff(x) + 2*y(x) , x**3 * sin(x))\n",
        "Y = dsolve(de)\n",
        "display(Y)\n",
        "\n",
        "expand(Y)\n",
        "\n",
        "checkodesol(de, Y)"
      ]
    },
    {
      "cell_type": "markdown",
      "id": "079b2cd3",
      "metadata": {
        "cell_marker": "\"\"\"",
        "id": "079b2cd3"
      },
      "source": [
        "# Exercise 4.14.9\n",
        "\n",
        "$x^2 y'' - xy' + y = \\dfrac{\\ln x}{x} + \\dfrac{x}{\\ln x}$"
      ]
    },
    {
      "cell_type": "code",
      "execution_count": null,
      "id": "b3a5a107",
      "metadata": {
        "lines_to_next_cell": 2,
        "id": "b3a5a107",
        "colab": {
          "base_uri": "https://localhost:8080/",
          "height": 70
        },
        "outputId": "c251fc8e-ef52-4cdb-a0b8-1f46f94f6d4b"
      },
      "outputs": [
        {
          "output_type": "display_data",
          "data": {
            "text/plain": [
              "Eq(y(x), C1*x + C2*x*log(x) + x*log(x)*log(log(x)) - x*log(x) + log(x)/(4*x) + 1/(4*x))"
            ],
            "text/latex": "$\\displaystyle y{\\left(x \\right)} = C_{1} x + C_{2} x \\log{\\left(x \\right)} + x \\log{\\left(x \\right)} \\log{\\left(\\log{\\left(x \\right)} \\right)} - x \\log{\\left(x \\right)} + \\frac{\\log{\\left(x \\right)}}{4 x} + \\frac{1}{4 x}$"
          },
          "metadata": {}
        },
        {
          "output_type": "execute_result",
          "data": {
            "text/plain": [
              "(True, 0)"
            ]
          },
          "metadata": {},
          "execution_count": 129
        }
      ],
      "source": [
        "x = symbols(\"x\", real=True)\n",
        "y = symbols(\"y\", cls=Function)\n",
        "de = Eq(x**2 * y(x).diff(x,x) - x*y(x).diff(x) + y(x) , ln(x)/x + x/ln(x))\n",
        "Y = dsolve(de)\n",
        "display(Y)\n",
        "\n",
        "expand(Y)\n",
        "\n",
        "checkodesol(de, Y)"
      ]
    },
    {
      "cell_type": "markdown",
      "id": "5203e300",
      "metadata": {
        "cell_marker": "\"\"\"",
        "id": "5203e300"
      },
      "source": [
        "# Exercise 4.14.10\n",
        "\n",
        "$x^2y'' - 4xy' + 6y = 0$"
      ]
    },
    {
      "cell_type": "code",
      "execution_count": null,
      "id": "f824182a",
      "metadata": {
        "lines_to_next_cell": 2,
        "id": "f824182a",
        "colab": {
          "base_uri": "https://localhost:8080/",
          "height": 56
        },
        "outputId": "a034c1ae-ffba-4037-f5ad-c043171620af"
      },
      "outputs": [
        {
          "output_type": "display_data",
          "data": {
            "text/plain": [
              "Eq(y(x), x**2*(C1 + C2*x))"
            ],
            "text/latex": "$\\displaystyle y{\\left(x \\right)} = x^{2} \\left(C_{1} + C_{2} x\\right)$"
          },
          "metadata": {}
        },
        {
          "output_type": "execute_result",
          "data": {
            "text/plain": [
              "(True, 0)"
            ]
          },
          "metadata": {},
          "execution_count": 130
        }
      ],
      "source": [
        "x = symbols(\"x\", real=True)\n",
        "y = symbols(\"y\", cls=Function)\n",
        "de = Eq(x**2 * y(x).diff(x,x) - 4*x*y(x).diff(x) + 6*y(x) , 0)\n",
        "Y = dsolve(de)\n",
        "display(Y)\n",
        "\n",
        "expand(Y)\n",
        "\n",
        "checkodesol(de, Y)"
      ]
    },
    {
      "cell_type": "markdown",
      "id": "726b6c18",
      "metadata": {
        "cell_marker": "\"\"\"",
        "id": "726b6c18"
      },
      "source": [
        "# Exercise 4.14.11\n",
        "\n",
        "$(x-2)^2y'' - 3(x-2)y' + 4y = x$\n",
        "\n",
        "* This is an Euler type ode.\n",
        "* For some reason Sympy 1.11.1 does not identify it as such and fails.\n",
        "* We need to help Sympy by making a substitution as follows:"
      ]
    },
    {
      "cell_type": "code",
      "execution_count": null,
      "id": "22147438",
      "metadata": {
        "lines_to_next_cell": 2,
        "id": "22147438",
        "colab": {
          "base_uri": "https://localhost:8080/",
          "height": 120
        },
        "outputId": "1a0cf6b2-587d-42af-c33f-4fbd9726b089"
      },
      "outputs": [
        {
          "output_type": "display_data",
          "data": {
            "text/plain": [
              "Eq(y(t), C1*t**2 + C2*t**2*log(t) + t + 1/2)"
            ],
            "text/latex": "$\\displaystyle y{\\left(t \\right)} = C_{1} t^{2} + C_{2} t^{2} \\log{\\left(t \\right)} + t + \\frac{1}{2}$"
          },
          "metadata": {}
        },
        {
          "output_type": "stream",
          "name": "stdout",
          "text": [
            "C1*(x - 2)**2 + C2*(x - 2)**2*log(x - 2) + x - 3/2\n"
          ]
        },
        {
          "output_type": "display_data",
          "data": {
            "text/plain": [
              "C1*(x - 2)**2 + C2*(x - 2)**2*log(x - 2) + x - 3/2"
            ],
            "text/latex": "$\\displaystyle C_{1} \\left(x - 2\\right)^{2} + C_{2} \\left(x - 2\\right)^{2} \\log{\\left(x - 2 \\right)} + x - \\frac{3}{2}$"
          },
          "metadata": {}
        },
        {
          "output_type": "execute_result",
          "data": {
            "text/plain": [
              "(True, 0)"
            ]
          },
          "metadata": {},
          "execution_count": 131
        }
      ],
      "source": [
        "x,t = symbols(\"x t\", real=True)\n",
        "y = symbols(\"y\", cls=Function)\n",
        "de1 = Eq((x-2)**2 * y(x).diff(x,x) - 3*(x-2)*y(x).diff(x) + 4*y(x) , x)\n",
        "# Substitution: t = x-2\n",
        "de2 = Eq(t**2 * y(t).diff(t,t) - 3*t*y(t).diff(t) + 4*y(t) , t+2)\n",
        "Y2 = dsolve(de2)\n",
        "display(Y2)\n",
        "\n",
        "Y1 = Y2.subs(t,x-2)\n",
        "y1 = Y1.rhs\n",
        "print(y1)\n",
        "display(y1)\n",
        "\n",
        "checkodesol(de1, y1)"
      ]
    },
    {
      "cell_type": "markdown",
      "id": "47364635",
      "metadata": {
        "cell_marker": "\"\"\"",
        "id": "47364635"
      },
      "source": [
        "# Exercise 4.14.12\n",
        "\n",
        "$x^3y''' + xy' - y = 0$"
      ]
    },
    {
      "cell_type": "code",
      "execution_count": null,
      "id": "6fdf30f8",
      "metadata": {
        "lines_to_next_cell": 2,
        "id": "6fdf30f8",
        "colab": {
          "base_uri": "https://localhost:8080/",
          "height": 65
        },
        "outputId": "f35301e6-c9fb-4f5f-fa9f-bb22f5230c55"
      },
      "outputs": [
        {
          "output_type": "display_data",
          "data": {
            "text/plain": [
              "Eq(y(x), x*(C1 + C2*log(x) + C3*log(x)**2))"
            ],
            "text/latex": "$\\displaystyle y{\\left(x \\right)} = x \\left(C_{1} + C_{2} \\log{\\left(x \\right)} + C_{3} \\log{\\left(x \\right)}^{2}\\right)$"
          },
          "metadata": {}
        },
        {
          "output_type": "execute_result",
          "data": {
            "text/plain": [
              "(True, 0)"
            ]
          },
          "metadata": {},
          "execution_count": 132
        }
      ],
      "source": [
        "x = symbols(\"x\", real=True)\n",
        "y = symbols(\"y\", cls=Function)\n",
        "de = Eq(x**3 * y(x).diff(x,x,x) + x*y(x).diff(x) - y(x) , 0)\n",
        "Y = dsolve(de)\n",
        "display(Y)\n",
        "\n",
        "expand(Y)\n",
        "\n",
        "checkodesol(de, Y)"
      ]
    },
    {
      "cell_type": "markdown",
      "id": "1b0591e7",
      "metadata": {
        "cell_marker": "\"\"\"",
        "id": "1b0591e7"
      },
      "source": [
        "# Exercise 4.14.13\n",
        "\n",
        "$x^3y'' - 2xy = 6\\ln x$"
      ]
    },
    {
      "cell_type": "code",
      "execution_count": null,
      "id": "674d99fd",
      "metadata": {
        "lines_to_next_cell": 2,
        "id": "674d99fd",
        "colab": {
          "base_uri": "https://localhost:8080/",
          "height": 76
        },
        "outputId": "bda2386d-0925-44fa-d674-a49314f9b0fc"
      },
      "outputs": [
        {
          "output_type": "display_data",
          "data": {
            "text/plain": [
              "Eq(y(x), (C1 + C2*x**3 - log(x)**2 - 2*log(x)/3)/x)"
            ],
            "text/latex": "$\\displaystyle y{\\left(x \\right)} = \\frac{C_{1} + C_{2} x^{3} - \\log{\\left(x \\right)}^{2} - \\frac{2 \\log{\\left(x \\right)}}{3}}{x}$"
          },
          "metadata": {}
        },
        {
          "output_type": "execute_result",
          "data": {
            "text/plain": [
              "(True, 0)"
            ]
          },
          "metadata": {},
          "execution_count": 133
        }
      ],
      "source": [
        "x = symbols(\"x\", real=True)\n",
        "y = symbols(\"y\", cls=Function)\n",
        "de = Eq(x**3 * y(x).diff(x,x) - 2*x*y(x) , 6*ln(x))\n",
        "Y = dsolve(de)\n",
        "display(Y)\n",
        "\n",
        "expand(Y)\n",
        "\n",
        "checkodesol(de, Y)"
      ]
    },
    {
      "cell_type": "markdown",
      "id": "74d432ce",
      "metadata": {
        "cell_marker": "\"\"\"",
        "id": "74d432ce"
      },
      "source": [
        "# Exercise 4.14.14\n",
        "\n",
        "$x^2y'' - 2y = \\sin \\ln x$"
      ]
    },
    {
      "cell_type": "code",
      "execution_count": null,
      "id": "221e9734",
      "metadata": {
        "lines_to_next_cell": 2,
        "id": "221e9734",
        "colab": {
          "base_uri": "https://localhost:8080/",
          "height": 70
        },
        "outputId": "a7313f94-a68f-4157-921c-2415d8317b5f"
      },
      "outputs": [
        {
          "output_type": "display_data",
          "data": {
            "text/plain": [
              "Eq(y(x), C1/x + C2*x**2 - 3*sin(log(x))/10 + cos(log(x))/10)"
            ],
            "text/latex": "$\\displaystyle y{\\left(x \\right)} = \\frac{C_{1}}{x} + C_{2} x^{2} - \\frac{3 \\sin{\\left(\\log{\\left(x \\right)} \\right)}}{10} + \\frac{\\cos{\\left(\\log{\\left(x \\right)} \\right)}}{10}$"
          },
          "metadata": {}
        },
        {
          "output_type": "execute_result",
          "data": {
            "text/plain": [
              "(True, 0)"
            ]
          },
          "metadata": {},
          "execution_count": 134
        }
      ],
      "source": [
        "x = symbols(\"x\", real=True)\n",
        "y = symbols(\"y\", cls=Function)\n",
        "de = Eq(x**2 * y(x).diff(x,x) - 2*y(x) , sin(ln(x)))\n",
        "Y = dsolve(de)\n",
        "display(Y)\n",
        "\n",
        "expand(Y)\n",
        "\n",
        "checkodesol(de, Y)"
      ]
    },
    {
      "cell_type": "markdown",
      "id": "4370e870",
      "metadata": {
        "cell_marker": "\"\"\"",
        "lines_to_next_cell": 2,
        "id": "4370e870"
      },
      "source": [
        "# **TO BE CONTINUED ...**\n",
        "* Any student with a basic Python programming skill\n",
        "  is welcome to continue and solve more exercises\n",
        "  from the\n",
        "<a href=\"https://samyzaf.com/technion/ode/ode.pdf\">\n",
        "Ordinal Differential Equations book\n",
        "</a>.\n",
        "\n",
        "* Send your solutions notebook to sz@samyzaf.com.\n",
        "* They will be checked and added to this notebook.\n",
        "* Thanks!!!"
      ]
    }
  ],
  "metadata": {
    "jupytext": {
      "cell_metadata_filter": "-all",
      "main_language": "python",
      "notebook_metadata_filter": "-all"
    },
    "colab": {
      "provenance": [],
      "include_colab_link": true
    },
    "language_info": {
      "name": "python"
    },
    "kernelspec": {
      "name": "python3",
      "display_name": "Python 3"
    }
  },
  "nbformat": 4,
  "nbformat_minor": 5
}