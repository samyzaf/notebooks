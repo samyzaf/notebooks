{
  "cells": [
    {
      "cell_type": "markdown",
      "metadata": {
        "id": "view-in-github",
        "colab_type": "text"
      },
      "source": [
        "<a href=\"https://colab.research.google.com/github/samyzaf/notebooks/blob/main/ode4.ipynb\" target=\"_parent\"><img src=\"https://colab.research.google.com/assets/colab-badge.svg\" alt=\"Open In Colab\"/></a>"
      ]
    },
    {
      "cell_type": "markdown",
      "metadata": {
        "id": "zo0mZHrOCICt"
      },
      "source": [
        "# Ordinary Differential Equations\n",
        "# Chapter 4: Solutions to exercises\n",
        "\n",
        "<a href=\"https://samyzaf.com/technion/ode/ode.pdf\">\n",
        "<img src=\"https://samyzaf.com/technion/ode/ode2.jpg\" alt=\"ode book cover\"/>\n",
        "</a>\n",
        "\n",
        "* We used Python **Sympy** package for obtaining the final\n",
        "  result for most of the exercises.\n",
        "* This package is still under development, and is not yet\n",
        "  ready to cope with all ode's.\n",
        "* The new site https://mathdf.com seems to be a great source\n",
        "  for obtaining full step-by-step solutions.\n",
        "  Please use it for obtaining full solutions and let us know\n",
        "  if it meets expectations. We will be glad to receive full solutions\n",
        "  and add them here later (sz@samyzaf.com).\n",
        "* This notebook can be edited and executed by clicking\n",
        "  the **open in colab** button.\n",
        "* These are only a small number of solutions.\n",
        "  Hopefully this will encourage students to try to solve more\n",
        "  exercises with similar methods. We will be glad to accept notebooks\n",
        "  with solutions to other exercises in this book.\n",
        "  Please send them to sz@samyzaf.com."
      ]
    },
    {
      "cell_type": "code",
      "execution_count": 1,
      "metadata": {
        "colab": {
          "base_uri": "https://localhost:8080/"
        },
        "id": "M6sQe4JlsK7u",
        "outputId": "923dafb0-7796-419d-bebf-014299251abc"
      },
      "outputs": [
        {
          "output_type": "stream",
          "name": "stdout",
          "text": [
            "Looking in indexes: https://pypi.org/simple, https://us-python.pkg.dev/colab-wheels/public/simple/\n",
            "Requirement already satisfied: sympy in /usr/local/lib/python3.8/dist-packages (1.7.1)\n",
            "Collecting sympy\n",
            "  Downloading sympy-1.11.1-py3-none-any.whl (6.5 MB)\n",
            "\u001b[K     |████████████████████████████████| 6.5 MB 8.6 MB/s \n",
            "\u001b[?25hRequirement already satisfied: mpmath>=0.19 in /usr/local/lib/python3.8/dist-packages (from sympy) (1.2.1)\n",
            "Installing collected packages: sympy\n",
            "  Attempting uninstall: sympy\n",
            "    Found existing installation: sympy 1.7.1\n",
            "    Uninstalling sympy-1.7.1:\n",
            "      Successfully uninstalled sympy-1.7.1\n",
            "Successfully installed sympy-1.11.1\n"
          ]
        }
      ],
      "source": [
        "%pip install --upgrade sympy"
      ]
    },
    {
      "cell_type": "code",
      "execution_count": 2,
      "metadata": {
        "id": "QO4VgM1r1vEy"
      },
      "outputs": [],
      "source": [
        "from sympy import *\n",
        "from sympy.solvers.ode import checkodesol\n",
        "from IPython.display import HTML"
      ]
    },
    {
      "cell_type": "markdown",
      "metadata": {
        "id": "YoIKr1sI4NRE"
      },
      "source": [
        "# Exercise 4.1.1\n",
        "\n",
        "$y'' -25y = 0$"
      ]
    },
    {
      "cell_type": "code",
      "execution_count": 3,
      "metadata": {
        "colab": {
          "base_uri": "https://localhost:8080/",
          "height": 39
        },
        "id": "NZnh7uRSHpf3",
        "outputId": "d2b4836e-f00e-4da6-f180-137343333d7a"
      },
      "outputs": [
        {
          "output_type": "display_data",
          "data": {
            "text/plain": [
              "Eq(y(x), C1*exp(-5*x) + C2*exp(5*x))"
            ],
            "text/latex": "$\\displaystyle y{\\left(x \\right)} = C_{1} e^{- 5 x} + C_{2} e^{5 x}$"
          },
          "metadata": {}
        }
      ],
      "source": [
        "x = symbols(\"x\", real=True)\n",
        "y = symbols(\"y\", cls=Function)\n",
        "de = Eq(y(x).diff(x,x) - 25*y(x) , 0)\n",
        "Y = dsolve(de)\n",
        "display(Y)"
      ]
    },
    {
      "cell_type": "code",
      "execution_count": 4,
      "metadata": {
        "colab": {
          "base_uri": "https://localhost:8080/"
        },
        "id": "-xQCw9LYZkNX",
        "outputId": "fb423b12-015b-453e-bc5d-c4b3e9b3a247"
      },
      "outputs": [
        {
          "output_type": "execute_result",
          "data": {
            "text/plain": [
              "(True, 0)"
            ]
          },
          "metadata": {},
          "execution_count": 4
        }
      ],
      "source": [
        "checkodesol(de, Y)"
      ]
    },
    {
      "cell_type": "markdown",
      "metadata": {
        "id": "ZyFYRsm34NRO"
      },
      "source": [
        "# Exercise 4.1.2\n",
        "\n",
        "$y''-2y'+2y=0$"
      ]
    },
    {
      "cell_type": "code",
      "execution_count": 5,
      "metadata": {
        "colab": {
          "base_uri": "https://localhost:8080/",
          "height": 39
        },
        "id": "pta_vjpo4NRQ",
        "outputId": "dd80cd70-fa2b-4c8f-b045-6446b23fb5c3"
      },
      "outputs": [
        {
          "output_type": "display_data",
          "data": {
            "text/plain": [
              "Eq(y(x), (C1*sin(x) + C2*cos(x))*exp(x))"
            ],
            "text/latex": "$\\displaystyle y{\\left(x \\right)} = \\left(C_{1} \\sin{\\left(x \\right)} + C_{2} \\cos{\\left(x \\right)}\\right) e^{x}$"
          },
          "metadata": {}
        }
      ],
      "source": [
        "x = symbols(\"x\", real=True)\n",
        "y = symbols(\"y\", cls=Function)\n",
        "de = Eq(y(x).diff(x,x) - 2*y(x).diff(x) + 2*y(x) , 0)\n",
        "Y = dsolve(de)\n",
        "display(Y)"
      ]
    },
    {
      "cell_type": "code",
      "execution_count": 6,
      "metadata": {
        "colab": {
          "base_uri": "https://localhost:8080/"
        },
        "id": "Jt1h8PWLZ05u",
        "outputId": "0bf468dd-6bbb-48b0-b7e0-e4c61fbf45cb"
      },
      "outputs": [
        {
          "output_type": "execute_result",
          "data": {
            "text/plain": [
              "(True, 0)"
            ]
          },
          "metadata": {},
          "execution_count": 6
        }
      ],
      "source": [
        "checkodesol(de, Y)"
      ]
    },
    {
      "cell_type": "markdown",
      "metadata": {
        "id": "poUTpkjx4NRR"
      },
      "source": [
        "# Exercise 4.1.3\n",
        "\n",
        "$y'' - 5y' + 6y = 0$"
      ]
    },
    {
      "cell_type": "code",
      "execution_count": 7,
      "metadata": {
        "colab": {
          "base_uri": "https://localhost:8080/",
          "height": 39
        },
        "id": "lVU3PItM4NRT",
        "outputId": "f184fe1d-45f8-4ecf-8f29-4c3fc90efeb3"
      },
      "outputs": [
        {
          "output_type": "execute_result",
          "data": {
            "text/plain": [
              "Eq(y(x), (C1 + C2*exp(x))*exp(2*x))"
            ],
            "text/latex": "$\\displaystyle y{\\left(x \\right)} = \\left(C_{1} + C_{2} e^{x}\\right) e^{2 x}$"
          },
          "metadata": {},
          "execution_count": 7
        }
      ],
      "source": [
        "x = symbols(\"x\", real=True)\n",
        "y = symbols(\"y\", cls=Function)\n",
        "de = Eq(y(x).diff(x,x) - 5*y(x).diff(x) + 6*y(x) , 0)\n",
        "dsolve(de)"
      ]
    },
    {
      "cell_type": "code",
      "execution_count": 8,
      "metadata": {
        "colab": {
          "base_uri": "https://localhost:8080/",
          "height": 39
        },
        "id": "9kJeTe7sZUrr",
        "outputId": "44be13f2-eb87-4308-91d4-e2a0d4c06c78"
      },
      "outputs": [
        {
          "output_type": "execute_result",
          "data": {
            "text/plain": [
              "Eq(y(x), C1*exp(2*x) + C2*exp(3*x))"
            ],
            "text/latex": "$\\displaystyle y{\\left(x \\right)} = C_{1} e^{2 x} + C_{2} e^{3 x}$"
          },
          "metadata": {},
          "execution_count": 8
        }
      ],
      "source": [
        "expand(dsolve(de))"
      ]
    },
    {
      "cell_type": "markdown",
      "metadata": {
        "id": "nESqAJ_O4NRU"
      },
      "source": [
        "# Exercise 4.1.4\n",
        "\n",
        "$y''' - y = 0$"
      ]
    },
    {
      "cell_type": "code",
      "execution_count": 9,
      "metadata": {
        "colab": {
          "base_uri": "https://localhost:8080/",
          "height": 68
        },
        "id": "q0_RWXtb4NRV",
        "outputId": "3e05d92c-32ff-475e-c93a-192cf82d75f1"
      },
      "outputs": [
        {
          "output_type": "display_data",
          "data": {
            "text/plain": [
              "Eq(y(x), C3*exp(x) + (C1*sin(sqrt(3)*x/2) + C2*cos(sqrt(3)*x/2))*exp(-x/2))"
            ],
            "text/latex": "$\\displaystyle y{\\left(x \\right)} = C_{3} e^{x} + \\left(C_{1} \\sin{\\left(\\frac{\\sqrt{3} x}{2} \\right)} + C_{2} \\cos{\\left(\\frac{\\sqrt{3} x}{2} \\right)}\\right) e^{- \\frac{x}{2}}$"
          },
          "metadata": {}
        }
      ],
      "source": [
        "x = symbols(\"x\", real=True)\n",
        "y = symbols(\"y\", cls=Function)\n",
        "de = Eq(y(x).diff(x,x,x) - y(x) , 0)\n",
        "Y=dsolve(de)\n",
        "display(Y)"
      ]
    },
    {
      "cell_type": "code",
      "execution_count": 10,
      "metadata": {
        "colab": {
          "base_uri": "https://localhost:8080/",
          "height": 68
        },
        "id": "i5SEN7fmZIES",
        "outputId": "6d5eb5f8-a7ac-4fc4-9a56-8fbee18e0689"
      },
      "outputs": [
        {
          "output_type": "execute_result",
          "data": {
            "text/plain": [
              "Eq(y(x), C1*exp(-x/2)*sin(sqrt(3)*x/2) + C2*exp(-x/2)*cos(sqrt(3)*x/2) + C3*exp(x))"
            ],
            "text/latex": "$\\displaystyle y{\\left(x \\right)} = C_{1} e^{- \\frac{x}{2}} \\sin{\\left(\\frac{\\sqrt{3} x}{2} \\right)} + C_{2} e^{- \\frac{x}{2}} \\cos{\\left(\\frac{\\sqrt{3} x}{2} \\right)} + C_{3} e^{x}$"
          },
          "metadata": {},
          "execution_count": 10
        }
      ],
      "source": [
        "expand(Y)"
      ]
    },
    {
      "cell_type": "markdown",
      "metadata": {
        "id": "XsmZ4uTU4NRW"
      },
      "source": [
        "# Exercise 4.1.5\n",
        "\n",
        "$y^{(4)} - y = 0$ "
      ]
    },
    {
      "cell_type": "code",
      "execution_count": 11,
      "metadata": {
        "colab": {
          "base_uri": "https://localhost:8080/",
          "height": 39
        },
        "id": "aAmznmFK4NRX",
        "outputId": "d9bf12eb-97b8-4e92-ad7f-b3c601ee9a50"
      },
      "outputs": [
        {
          "output_type": "execute_result",
          "data": {
            "text/plain": [
              "Eq(y(x), C1*exp(-x) + C2*exp(x) + C3*sin(x) + C4*cos(x))"
            ],
            "text/latex": "$\\displaystyle y{\\left(x \\right)} = C_{1} e^{- x} + C_{2} e^{x} + C_{3} \\sin{\\left(x \\right)} + C_{4} \\cos{\\left(x \\right)}$"
          },
          "metadata": {},
          "execution_count": 11
        }
      ],
      "source": [
        "t = symbols(\"t\", real=True)\n",
        "s = symbols(\"s\", cls=Function)\n",
        "de = Eq(y(x).diff(x,x,x,x) - y(x) , 0)\n",
        "dsolve(de)"
      ]
    },
    {
      "cell_type": "markdown",
      "metadata": {
        "id": "hjueVl8n4NRZ"
      },
      "source": [
        "# Exercise 4.1.6\n",
        "\n",
        "$y^{(4)} + 4y'' + 3y = 0$"
      ]
    },
    {
      "cell_type": "code",
      "execution_count": 12,
      "metadata": {
        "colab": {
          "base_uri": "https://localhost:8080/",
          "height": 47
        },
        "id": "ToRZvmw84NRZ",
        "outputId": "8d5e5eae-a6b5-4e44-a233-2e97b1cf67a8"
      },
      "outputs": [
        {
          "output_type": "execute_result",
          "data": {
            "text/plain": [
              "Eq(y(x), C1*sin(x) + C2*sin(sqrt(3)*x) + C3*cos(x) + C4*cos(sqrt(3)*x))"
            ],
            "text/latex": "$\\displaystyle y{\\left(x \\right)} = C_{1} \\sin{\\left(x \\right)} + C_{2} \\sin{\\left(\\sqrt{3} x \\right)} + C_{3} \\cos{\\left(x \\right)} + C_{4} \\cos{\\left(\\sqrt{3} x \\right)}$"
          },
          "metadata": {},
          "execution_count": 12
        }
      ],
      "source": [
        "x = Symbol(\"x\", real=True)\n",
        "y = symbols(\"y\", cls=Function)\n",
        "de = Eq(y(x).diff(x,x,x,x) + 4*y(x).diff(x,x) + 3*y(x) , 0)\n",
        "dsolve(de)"
      ]
    },
    {
      "cell_type": "markdown",
      "metadata": {
        "id": "ZCi3ZoFI4NRa"
      },
      "source": [
        "# Exercise 4.1.7\n",
        "\n",
        "$y''' - 2y'' - 3y' = 0$\n"
      ]
    },
    {
      "cell_type": "code",
      "execution_count": 13,
      "metadata": {
        "colab": {
          "base_uri": "https://localhost:8080/",
          "height": 39
        },
        "id": "LZ9Zy66h4NRb",
        "outputId": "b97ac1cd-f760-4075-f9c4-90379c4ac3f4"
      },
      "outputs": [
        {
          "output_type": "execute_result",
          "data": {
            "text/plain": [
              "Eq(y(x), C1 + C2*exp(-x) + C3*exp(3*x))"
            ],
            "text/latex": "$\\displaystyle y{\\left(x \\right)} = C_{1} + C_{2} e^{- x} + C_{3} e^{3 x}$"
          },
          "metadata": {},
          "execution_count": 13
        }
      ],
      "source": [
        "x = symbols(\"x\", real=True)\n",
        "y = symbols(\"y\", cls=Function)\n",
        "de = Eq(y(x).diff(x,x,x) - 2*y(x).diff(x,x) - 3*y(x).diff(x) , 0)\n",
        "dsolve(de)"
      ]
    },
    {
      "cell_type": "code",
      "execution_count": 14,
      "metadata": {
        "colab": {
          "base_uri": "https://localhost:8080/"
        },
        "id": "5p6wMUszatb6",
        "outputId": "a2e41006-c630-4a9f-ba2a-42979d1dbb8e"
      },
      "outputs": [
        {
          "output_type": "execute_result",
          "data": {
            "text/plain": [
              "(True, 0)"
            ]
          },
          "metadata": {},
          "execution_count": 14
        }
      ],
      "source": [
        "Y = dsolve(de)\n",
        "checkodesol(de, Y)"
      ]
    },
    {
      "cell_type": "markdown",
      "metadata": {
        "id": "9PGQ_yxX4NRd"
      },
      "source": [
        "# Exercise 4.1.8\n",
        "\n",
        "$y''' - 3y'' + 3y' - y = 0$\n"
      ]
    },
    {
      "cell_type": "code",
      "execution_count": 15,
      "metadata": {
        "colab": {
          "base_uri": "https://localhost:8080/",
          "height": 39
        },
        "id": "jEJmLcwk4NRd",
        "outputId": "b601cc30-708d-4af8-b14a-5517a8bddfc2"
      },
      "outputs": [
        {
          "output_type": "display_data",
          "data": {
            "text/plain": [
              "Eq(y(x), C1*exp(x) + C2*x*exp(x) + C3*x**2*exp(x))"
            ],
            "text/latex": "$\\displaystyle y{\\left(x \\right)} = C_{1} e^{x} + C_{2} x e^{x} + C_{3} x^{2} e^{x}$"
          },
          "metadata": {}
        }
      ],
      "source": [
        "x = symbols(\"x\", real=True)\n",
        "y = symbols(\"y\", cls=Function)\n",
        "de = Eq(y(x).diff(x,x,x) - 3*y(x).diff(x,x) + 3*y(x).diff(x) - y(x) , 0)\n",
        "Y = dsolve(de)\n",
        "Y = expand(Y)\n",
        "display(Y)"
      ]
    },
    {
      "cell_type": "code",
      "execution_count": 16,
      "metadata": {
        "colab": {
          "base_uri": "https://localhost:8080/"
        },
        "id": "iFxEPUI3fwgn",
        "outputId": "22e4346e-0cf7-48d2-c852-04154cf69f2f"
      },
      "outputs": [
        {
          "output_type": "execute_result",
          "data": {
            "text/plain": [
              "(True, 0)"
            ]
          },
          "metadata": {},
          "execution_count": 16
        }
      ],
      "source": [
        "checkodesol(de, Y)"
      ]
    },
    {
      "cell_type": "markdown",
      "metadata": {
        "id": "xdFm4Isz4NRe"
      },
      "source": [
        "# Exercise 4.1.9\n",
        "\n",
        "$y^{(4)} - 5y'' + 4y = 0$\n"
      ]
    },
    {
      "cell_type": "code",
      "execution_count": 17,
      "metadata": {
        "colab": {
          "base_uri": "https://localhost:8080/",
          "height": 39
        },
        "id": "RdIBmV9V4NRe",
        "outputId": "cd5609f2-b518-4e10-9c0d-a3cc8899ee25"
      },
      "outputs": [
        {
          "output_type": "display_data",
          "data": {
            "text/plain": [
              "Eq(y(x), C1*exp(-2*x) + C2*exp(-x) + C3*exp(x) + C4*exp(2*x))"
            ],
            "text/latex": "$\\displaystyle y{\\left(x \\right)} = C_{1} e^{- 2 x} + C_{2} e^{- x} + C_{3} e^{x} + C_{4} e^{2 x}$"
          },
          "metadata": {}
        }
      ],
      "source": [
        "x = symbols(\"x\", real=True)\n",
        "y = symbols(\"y\", cls=Function)\n",
        "de = Eq(y(x).diff(x,x,x,x) - 5*y(x).diff(x,x) + 4*y(x) , 0)\n",
        "Y = dsolve(de)\n",
        "display(Y)"
      ]
    },
    {
      "cell_type": "markdown",
      "metadata": {
        "id": "D8DmLbXv4NRf"
      },
      "source": [
        "# Exercise 4.2.1\n",
        "$\n",
        "y'' - 5y' + 4y = 0 \\\\\n",
        "y(0) = 5 \\\\\n",
        "y'(0) = 8\n",
        "$\n"
      ]
    },
    {
      "cell_type": "code",
      "execution_count": 18,
      "metadata": {
        "colab": {
          "base_uri": "https://localhost:8080/",
          "height": 39
        },
        "id": "y9yiADDo4NRg",
        "outputId": "a85fbe95-5248-4db8-abe9-1ca9fc456ebc"
      },
      "outputs": [
        {
          "output_type": "display_data",
          "data": {
            "text/plain": [
              "Eq(y(x), (exp(3*x) + 4)*exp(x))"
            ],
            "text/latex": "$\\displaystyle y{\\left(x \\right)} = \\left(e^{3 x} + 4\\right) e^{x}$"
          },
          "metadata": {}
        }
      ],
      "source": [
        "x = symbols(\"x\", real=True)\n",
        "y = symbols(\"y\", cls=Function)\n",
        "de = Eq(y(x).diff(x,x) - 5*y(x).diff(x) + 4*y(x) , 0)\n",
        "Y = dsolve(de, y(x) , ics={y(0): 5, y(x).diff(x).subs(x,0): 8})\n",
        "display(Y)"
      ]
    },
    {
      "cell_type": "markdown",
      "metadata": {
        "id": "qvZ_rgOD4NRh"
      },
      "source": [
        "# Exercise 4.2.2\n",
        "\n",
        "$\n",
        "y'' + 4y = 0 \\\\\n",
        "y(0) = 0 \\\\\n",
        "y'(0) = 2\n",
        "$\n"
      ]
    },
    {
      "cell_type": "code",
      "execution_count": 19,
      "metadata": {
        "colab": {
          "base_uri": "https://localhost:8080/",
          "height": 39
        },
        "id": "S6r9SRWr4NRh",
        "outputId": "83625487-cd39-4041-cb6b-e7f88a25014b"
      },
      "outputs": [
        {
          "output_type": "display_data",
          "data": {
            "text/plain": [
              "Eq(y(x), sin(2*x))"
            ],
            "text/latex": "$\\displaystyle y{\\left(x \\right)} = \\sin{\\left(2 x \\right)}$"
          },
          "metadata": {}
        }
      ],
      "source": [
        "x = symbols(\"x\", real=True)\n",
        "y = symbols(\"y\", cls=Function)\n",
        "de = Eq(y(x).diff(x,x) + 4*y(x) , 0)\n",
        "Y = dsolve(de, y(x) , ics={y(0): 0, y(x).diff(x).subs(x,0): 2})\n",
        "display(Y)"
      ]
    },
    {
      "cell_type": "code",
      "execution_count": 20,
      "metadata": {
        "colab": {
          "base_uri": "https://localhost:8080/"
        },
        "id": "JameTwZy4NRi",
        "outputId": "2e75d437-7454-4e85-b704-2d774b18a410"
      },
      "outputs": [
        {
          "output_type": "execute_result",
          "data": {
            "text/plain": [
              "(True, 0)"
            ]
          },
          "metadata": {},
          "execution_count": 20
        }
      ],
      "source": [
        "checkodesol(de, Y)"
      ]
    },
    {
      "cell_type": "code",
      "execution_count": 21,
      "metadata": {
        "colab": {
          "base_uri": "https://localhost:8080/",
          "height": 39
        },
        "id": "y_vJ9YfI8Xvm",
        "outputId": "ad9f6832-9059-4501-ec33-e9bdd8391231"
      },
      "outputs": [
        {
          "output_type": "execute_result",
          "data": {
            "text/plain": [
              "Eq(y(0), 0)"
            ],
            "text/latex": "$\\displaystyle y{\\left(0 \\right)} = 0$"
          },
          "metadata": {},
          "execution_count": 21
        }
      ],
      "source": [
        "Y.evalf(subs={x: 0}).doit()"
      ]
    },
    {
      "cell_type": "markdown",
      "metadata": {
        "id": "lslgwtM5IZCe"
      },
      "source": [
        "* `Y` is an equation object:\n",
        "  `Eq(y(x), sin(2*x))`.\n",
        "  It has two parts:\n",
        "  * lhs (left hand side)\n",
        "  * rhs (right hand side)\n",
        "* The right hand side `Y.rhs` is our private solution.\n",
        "* we check if it satisfies the initial conditions"
      ]
    },
    {
      "cell_type": "code",
      "execution_count": 22,
      "metadata": {
        "colab": {
          "base_uri": "https://localhost:8080/",
          "height": 37
        },
        "id": "jHuDKe5jJKoJ",
        "outputId": "6576cb9f-4c28-459c-966e-a3af5a73305f"
      },
      "outputs": [
        {
          "output_type": "execute_result",
          "data": {
            "text/plain": [
              "0"
            ],
            "text/latex": "$\\displaystyle 0$"
          },
          "metadata": {},
          "execution_count": 22
        }
      ],
      "source": [
        "sol = Y.rhs\n",
        "sol.subs(x,0)"
      ]
    },
    {
      "cell_type": "code",
      "execution_count": 23,
      "metadata": {
        "colab": {
          "base_uri": "https://localhost:8080/",
          "height": 37
        },
        "id": "ISLpSCmg6Q2t",
        "outputId": "424d1cbf-b315-46f0-d3f0-4a55fbc3517c"
      },
      "outputs": [
        {
          "output_type": "execute_result",
          "data": {
            "text/plain": [
              "2"
            ],
            "text/latex": "$\\displaystyle 2$"
          },
          "metadata": {},
          "execution_count": 23
        }
      ],
      "source": [
        "sol.diff(x).subs(x,0)"
      ]
    },
    {
      "cell_type": "markdown",
      "metadata": {
        "id": "vpJX_3ZqKNpe"
      },
      "source": [
        "* You can convert `sol` to a Python function and evaluate it\n",
        "  like any other function:"
      ]
    },
    {
      "cell_type": "code",
      "execution_count": 24,
      "metadata": {
        "colab": {
          "base_uri": "https://localhost:8080/"
        },
        "id": "IhEOY8zYJunp",
        "outputId": "756eb030-7e36-484d-a677-2d20a5b66664"
      },
      "outputs": [
        {
          "output_type": "execute_result",
          "data": {
            "text/plain": [
              "0.9092974268256817"
            ]
          },
          "metadata": {},
          "execution_count": 24
        }
      ],
      "source": [
        "s = lambdify(x, sol)\n",
        "s(1)"
      ]
    },
    {
      "cell_type": "code",
      "execution_count": 25,
      "metadata": {
        "colab": {
          "base_uri": "https://localhost:8080/"
        },
        "id": "ubd1HNe4Kca_",
        "outputId": "f427687d-e3bb-4389-b9c6-f814d052756d"
      },
      "outputs": [
        {
          "output_type": "execute_result",
          "data": {
            "text/plain": [
              "2.0"
            ]
          },
          "metadata": {},
          "execution_count": 25
        }
      ],
      "source": [
        "ds = lambdify(x, sol.diff(x))\n",
        "ds(0)"
      ]
    },
    {
      "cell_type": "markdown",
      "metadata": {
        "id": "UXV85sGG4NRi"
      },
      "source": [
        "# Exercise 4.2.3\n",
        "\n",
        "$\n",
        "y''' + y'' - 5y' + 3y = 0 \\\\\n",
        "y(0) = 0 \\\\\n",
        "y'(0) = 1 \\\\\n",
        "y''(0) = -2\n",
        "$\n"
      ]
    },
    {
      "cell_type": "code",
      "execution_count": 26,
      "metadata": {
        "colab": {
          "base_uri": "https://localhost:8080/",
          "height": 54
        },
        "id": "c2UUcyrY4NRj",
        "outputId": "d5d293cb-35a4-4af9-9d9c-d2a1e4bab21d"
      },
      "outputs": [
        {
          "output_type": "display_data",
          "data": {
            "text/plain": [
              "Eq(y(x), exp(x)/4 - exp(-3*x)/4)"
            ],
            "text/latex": "$\\displaystyle y{\\left(x \\right)} = \\frac{e^{x}}{4} - \\frac{e^{- 3 x}}{4}$"
          },
          "metadata": {}
        }
      ],
      "source": [
        "x = symbols(\"x\", real=True)\n",
        "y = symbols(\"y\", cls=Function)\n",
        "de = Eq(y(x).diff(x,x,x) + y(x).diff(x,x) - 5*y(x).diff(x) + 3*y(x) , 0)\n",
        "Y = dsolve(de, y(x) , ics={y(0): 0, y(x).diff(x).subs(x,0): 1, y(x).diff(x,x).subs(x,0): -2})\n",
        "display(Y)"
      ]
    },
    {
      "cell_type": "code",
      "execution_count": 27,
      "metadata": {
        "colab": {
          "base_uri": "https://localhost:8080/"
        },
        "id": "_-P2ic644NRk",
        "outputId": "55f4db2d-6644-42e4-a7e8-17f932265f82"
      },
      "outputs": [
        {
          "output_type": "execute_result",
          "data": {
            "text/plain": [
              "(True, 0)"
            ]
          },
          "metadata": {},
          "execution_count": 27
        }
      ],
      "source": [
        "checkodesol(de, Y)"
      ]
    },
    {
      "cell_type": "code",
      "execution_count": 28,
      "metadata": {
        "colab": {
          "base_uri": "https://localhost:8080/"
        },
        "id": "dbdDlb-9LrW-",
        "outputId": "af51ebf2-dc82-4db8-d650-31a9df168b6d"
      },
      "outputs": [
        {
          "output_type": "stream",
          "name": "stdout",
          "text": [
            "0 1 -2\n"
          ]
        }
      ],
      "source": [
        "sol = Y.rhs\n",
        "y0 = sol.subs(x,0)\n",
        "y1 = sol.diff(x).subs(x,0)\n",
        "y2 = sol.diff(x,x).subs(x,0)\n",
        "print(y0,y1,y2)"
      ]
    },
    {
      "cell_type": "markdown",
      "metadata": {
        "id": "Eo9qMHAq4NRk"
      },
      "source": [
        "# Exercise 4.3.1\n",
        "\n",
        "$y'' - 2y' - 3y = e^{4x}$\n",
        "\n"
      ]
    },
    {
      "cell_type": "code",
      "execution_count": 29,
      "metadata": {
        "colab": {
          "base_uri": "https://localhost:8080/",
          "height": 54
        },
        "id": "EgAkgU7d4NRl",
        "outputId": "be1a3775-15f0-40cd-bb68-6a04dc4981a5"
      },
      "outputs": [
        {
          "output_type": "display_data",
          "data": {
            "text/plain": [
              "Eq(y(x), C1*exp(-x) + C2*exp(3*x) + exp(4*x)/5)"
            ],
            "text/latex": "$\\displaystyle y{\\left(x \\right)} = C_{1} e^{- x} + C_{2} e^{3 x} + \\frac{e^{4 x}}{5}$"
          },
          "metadata": {}
        }
      ],
      "source": [
        "x = symbols(\"x\", real=True)\n",
        "y = symbols(\"y\", cls=Function)\n",
        "de = Eq(y(x).diff(x,x) - 2*y(x).diff(x) - 3*y(x) , exp(4*x))\n",
        "Y = dsolve(de)\n",
        "display(Y)"
      ]
    },
    {
      "cell_type": "code",
      "execution_count": 30,
      "metadata": {
        "colab": {
          "base_uri": "https://localhost:8080/"
        },
        "id": "zEONyFsxYpYz",
        "outputId": "0a4a9ca9-64bc-478c-e347-e61e98abd3ea"
      },
      "outputs": [
        {
          "output_type": "execute_result",
          "data": {
            "text/plain": [
              "(True, 0)"
            ]
          },
          "metadata": {},
          "execution_count": 30
        }
      ],
      "source": [
        "checkodesol(de, Y)"
      ]
    },
    {
      "cell_type": "markdown",
      "metadata": {
        "id": "YXi-q8jgYpYz"
      },
      "source": [
        "# Exercise 4.3.2\n",
        "\n",
        "$y'' - 5y' + 4y = 4x^2e^{2x}$\n"
      ]
    },
    {
      "cell_type": "code",
      "execution_count": 31,
      "metadata": {
        "colab": {
          "base_uri": "https://localhost:8080/",
          "height": 39
        },
        "id": "7ueMCJOXYpYz",
        "outputId": "0090be29-4335-4072-8fbd-dc960fb8df25"
      },
      "outputs": [
        {
          "output_type": "display_data",
          "data": {
            "text/plain": [
              "Eq(y(x), (C1 + C2*exp(3*x) + (-2*x**2 + 2*x - 3)*exp(x))*exp(x))"
            ],
            "text/latex": "$\\displaystyle y{\\left(x \\right)} = \\left(C_{1} + C_{2} e^{3 x} + \\left(- 2 x^{2} + 2 x - 3\\right) e^{x}\\right) e^{x}$"
          },
          "metadata": {}
        }
      ],
      "source": [
        "x = symbols(\"x\", real=True)\n",
        "y = symbols(\"y\", cls=Function)\n",
        "de = Eq(y(x).diff(x,x) - 5*y(x).diff(x) + 4*y(x) , 4*x**2 * exp(2*x))\n",
        "Y = dsolve(de)\n",
        "display(Y)"
      ]
    },
    {
      "cell_type": "code",
      "execution_count": 32,
      "metadata": {
        "colab": {
          "base_uri": "https://localhost:8080/"
        },
        "id": "IhIdWEY-YpYz",
        "outputId": "23ab873b-3a9e-4f25-9a77-de8371265e33"
      },
      "outputs": [
        {
          "output_type": "execute_result",
          "data": {
            "text/plain": [
              "(True, 0)"
            ]
          },
          "metadata": {},
          "execution_count": 32
        }
      ],
      "source": [
        "checkodesol(de, Y)"
      ]
    },
    {
      "cell_type": "markdown",
      "metadata": {
        "id": "tTHBhhGdYpY0"
      },
      "source": [
        "# Exercise 4.3.3\n",
        "\n",
        "$y'' - y = -x^2$\n"
      ]
    },
    {
      "cell_type": "code",
      "execution_count": 33,
      "metadata": {
        "colab": {
          "base_uri": "https://localhost:8080/",
          "height": 39
        },
        "id": "3FE8sqHlYpY0",
        "outputId": "99c33e63-546e-43ef-8cd9-bb98e45d38ee"
      },
      "outputs": [
        {
          "output_type": "display_data",
          "data": {
            "text/plain": [
              "Eq(y(x), C1*exp(-x) + C2*exp(x) + x**2 + 2)"
            ],
            "text/latex": "$\\displaystyle y{\\left(x \\right)} = C_{1} e^{- x} + C_{2} e^{x} + x^{2} + 2$"
          },
          "metadata": {}
        }
      ],
      "source": [
        "x = symbols(\"x\", real=True)\n",
        "y = symbols(\"y\", cls=Function)\n",
        "de = Eq(y(x).diff(x,x) - y(x) , -x**2)\n",
        "Y = dsolve(de)\n",
        "display(Y)"
      ]
    },
    {
      "cell_type": "code",
      "execution_count": 34,
      "metadata": {
        "colab": {
          "base_uri": "https://localhost:8080/"
        },
        "id": "wSDBVZ9yYpY0",
        "outputId": "f07ce369-804a-4c2a-c204-4abd143c9abd"
      },
      "outputs": [
        {
          "output_type": "execute_result",
          "data": {
            "text/plain": [
              "(True, 0)"
            ]
          },
          "metadata": {},
          "execution_count": 34
        }
      ],
      "source": [
        "checkodesol(de, Y)"
      ]
    },
    {
      "cell_type": "markdown",
      "metadata": {
        "id": "wktno-scYpY1"
      },
      "source": [
        "# Exercise 4.3.4\n",
        "\n",
        "$y'' + 3y' - 4y = xe^{-x}$\n"
      ]
    },
    {
      "cell_type": "code",
      "execution_count": 35,
      "metadata": {
        "colab": {
          "base_uri": "https://localhost:8080/",
          "height": 53
        },
        "id": "7oFeUq9EYpY1",
        "outputId": "ef4ed231-2472-489e-d7ad-2bc2a852e071"
      },
      "outputs": [
        {
          "output_type": "display_data",
          "data": {
            "text/plain": [
              "Eq(y(x), C1*exp(-4*x) + C2*exp(x) + (-6*x - 1)*exp(-x)/36)"
            ],
            "text/latex": "$\\displaystyle y{\\left(x \\right)} = C_{1} e^{- 4 x} + C_{2} e^{x} + \\frac{\\left(- 6 x - 1\\right) e^{- x}}{36}$"
          },
          "metadata": {}
        }
      ],
      "source": [
        "x = symbols(\"x\", real=True)\n",
        "y = symbols(\"y\", cls=Function)\n",
        "de = Eq(y(x).diff(x,x) + 3*y(x).diff(x) - 4 * y(x) , x * exp(-x))\n",
        "Y = dsolve(de)\n",
        "display(Y)"
      ]
    },
    {
      "cell_type": "code",
      "execution_count": 36,
      "metadata": {
        "colab": {
          "base_uri": "https://localhost:8080/"
        },
        "id": "lWJbSBRyYpY1",
        "outputId": "b7e3235c-ee73-49ef-88aa-9334ea89e538"
      },
      "outputs": [
        {
          "output_type": "execute_result",
          "data": {
            "text/plain": [
              "(True, 0)"
            ]
          },
          "metadata": {},
          "execution_count": 36
        }
      ],
      "source": [
        "checkodesol(de, Y)"
      ]
    },
    {
      "cell_type": "markdown",
      "metadata": {
        "id": "WAjgfxQYYpY1"
      },
      "source": [
        "# Exercise 4.3.5\n",
        "\n",
        "$y'' - 5y' + 4y = 4x^2e^{2x}$\n"
      ]
    },
    {
      "cell_type": "code",
      "execution_count": 37,
      "metadata": {
        "colab": {
          "base_uri": "https://localhost:8080/",
          "height": 39
        },
        "id": "cS6jEg-_YpY1",
        "outputId": "14ccdc0e-cc9d-4549-e95c-1d7ffce949a8"
      },
      "outputs": [
        {
          "output_type": "display_data",
          "data": {
            "text/plain": [
              "Eq(y(x), (C1 + C2*exp(3*x) + (-2*x**2 + 2*x - 3)*exp(x))*exp(x))"
            ],
            "text/latex": "$\\displaystyle y{\\left(x \\right)} = \\left(C_{1} + C_{2} e^{3 x} + \\left(- 2 x^{2} + 2 x - 3\\right) e^{x}\\right) e^{x}$"
          },
          "metadata": {}
        }
      ],
      "source": [
        "x, a, b = symbols(\"x a b\", real=True)\n",
        "y = symbols(\"y\", cls=Function)\n",
        "de = Eq(y(x).diff(x,x) - 5*y(x).diff(x) + 4*y(x) , 4*x**2 * exp(2*x))\n",
        "Y = dsolve(de)\n",
        "display(Y)"
      ]
    },
    {
      "cell_type": "code",
      "execution_count": 38,
      "metadata": {
        "colab": {
          "base_uri": "https://localhost:8080/"
        },
        "id": "doky9G0MYpY2",
        "outputId": "ad5fcb97-fa28-4ff0-9c4d-e402b2562982"
      },
      "outputs": [
        {
          "output_type": "execute_result",
          "data": {
            "text/plain": [
              "(True, 0)"
            ]
          },
          "metadata": {},
          "execution_count": 38
        }
      ],
      "source": [
        "checkodesol(de, Y)"
      ]
    },
    {
      "cell_type": "code",
      "execution_count": 39,
      "metadata": {
        "colab": {
          "base_uri": "https://localhost:8080/",
          "height": 39
        },
        "id": "qo9VunasUivh",
        "outputId": "8be603b3-8910-4d6b-a900-cc40e11f9833"
      },
      "outputs": [
        {
          "output_type": "execute_result",
          "data": {
            "text/plain": [
              "Eq(y(x), C1*exp(x) + C2*exp(4*x) - 2*x**2*exp(2*x) + 2*x*exp(2*x) - 3*exp(2*x))"
            ],
            "text/latex": "$\\displaystyle y{\\left(x \\right)} = C_{1} e^{x} + C_{2} e^{4 x} - 2 x^{2} e^{2 x} + 2 x e^{2 x} - 3 e^{2 x}$"
          },
          "metadata": {},
          "execution_count": 39
        }
      ],
      "source": [
        "expand(Y)"
      ]
    },
    {
      "cell_type": "markdown",
      "metadata": {
        "id": "57nn9VY-YpY2"
      },
      "source": [
        "# Exercise 4.3.6\n",
        "\n",
        "$y'' - y = -x^2$\n"
      ]
    },
    {
      "cell_type": "code",
      "execution_count": 40,
      "metadata": {
        "colab": {
          "base_uri": "https://localhost:8080/",
          "height": 39
        },
        "id": "hn_WT_EaYpY2",
        "outputId": "a054b13e-1cbb-4dcd-aa2d-02871ccf0b9a"
      },
      "outputs": [
        {
          "output_type": "display_data",
          "data": {
            "text/plain": [
              "Eq(y(x), C1*exp(-x) + C2*exp(x) + x**2 + 2)"
            ],
            "text/latex": "$\\displaystyle y{\\left(x \\right)} = C_{1} e^{- x} + C_{2} e^{x} + x^{2} + 2$"
          },
          "metadata": {}
        }
      ],
      "source": [
        "x = symbols(\"x\", real=True)\n",
        "y = symbols(\"y\", cls=Function)\n",
        "de = Eq(y(x).diff(x,x) - y(x) , -x**2)\n",
        "Y = dsolve(de)\n",
        "display(Y)"
      ]
    },
    {
      "cell_type": "code",
      "execution_count": 41,
      "metadata": {
        "colab": {
          "base_uri": "https://localhost:8080/"
        },
        "id": "DDA9uVOCYpY2",
        "outputId": "d6989243-0765-4080-9c38-e10c98b65809"
      },
      "outputs": [
        {
          "output_type": "execute_result",
          "data": {
            "text/plain": [
              "(True, 0)"
            ]
          },
          "metadata": {},
          "execution_count": 41
        }
      ],
      "source": [
        "checkodesol(de, Y)"
      ]
    },
    {
      "cell_type": "markdown",
      "metadata": {
        "id": "pqBnGWXAYpY2"
      },
      "source": [
        "# Exercise 4.3.7\n",
        "\n",
        "$y'' + 3y' - 4y = xe^{-x}$\n"
      ]
    },
    {
      "cell_type": "code",
      "execution_count": 42,
      "metadata": {
        "colab": {
          "base_uri": "https://localhost:8080/",
          "height": 53
        },
        "id": "WBXf0URPYpY2",
        "outputId": "dffa35c7-7cb3-4adc-87aa-7d42a6113596"
      },
      "outputs": [
        {
          "output_type": "display_data",
          "data": {
            "text/plain": [
              "Eq(y(x), C1*exp(-4*x) + C2*exp(x) + (-6*x - 1)*exp(-x)/36)"
            ],
            "text/latex": "$\\displaystyle y{\\left(x \\right)} = C_{1} e^{- 4 x} + C_{2} e^{x} + \\frac{\\left(- 6 x - 1\\right) e^{- x}}{36}$"
          },
          "metadata": {}
        }
      ],
      "source": [
        "x = symbols(\"x\", real=True)\n",
        "y = symbols(\"y\", cls=Function)\n",
        "de = Eq(y(x).diff(x,x) + 3*y(x).diff(x) - 4*y(x) , x*exp(-x))\n",
        "Y = dsolve(de)\n",
        "display(Y)"
      ]
    },
    {
      "cell_type": "code",
      "execution_count": 43,
      "metadata": {
        "colab": {
          "base_uri": "https://localhost:8080/"
        },
        "id": "xjBm47oXYpY3",
        "outputId": "a8e90efb-329a-400c-dd6e-074636f49af2"
      },
      "outputs": [
        {
          "output_type": "execute_result",
          "data": {
            "text/plain": [
              "(True, 0)"
            ]
          },
          "metadata": {},
          "execution_count": 43
        }
      ],
      "source": [
        "checkodesol(de, Y)"
      ]
    },
    {
      "cell_type": "markdown",
      "metadata": {
        "id": "TmoiRYBIYpY3"
      },
      "source": [
        "# Exercise 4.3.8\n",
        "\n",
        "$y'' - y' + y = x^3 + 6$\n"
      ]
    },
    {
      "cell_type": "code",
      "execution_count": 44,
      "metadata": {
        "colab": {
          "base_uri": "https://localhost:8080/",
          "height": 68
        },
        "id": "kixL_JqoYpY3",
        "outputId": "6b13984d-e67c-4fd7-c636-3c20f72a34f7"
      },
      "outputs": [
        {
          "output_type": "display_data",
          "data": {
            "text/plain": [
              "Eq(y(x), x**3 + 3*x**2 + (C1*sin(sqrt(3)*x/2) + C2*cos(sqrt(3)*x/2))*exp(x/2))"
            ],
            "text/latex": "$\\displaystyle y{\\left(x \\right)} = x^{3} + 3 x^{2} + \\left(C_{1} \\sin{\\left(\\frac{\\sqrt{3} x}{2} \\right)} + C_{2} \\cos{\\left(\\frac{\\sqrt{3} x}{2} \\right)}\\right) e^{\\frac{x}{2}}$"
          },
          "metadata": {}
        }
      ],
      "source": [
        "x = symbols(\"x\", real=True)\n",
        "y = symbols(\"y\", cls=Function)\n",
        "de = Eq(y(x).diff(x,x) - y(x).diff(x) + y(x) , x**3 +6)\n",
        "Y = dsolve(de)\n",
        "display(Y)"
      ]
    },
    {
      "cell_type": "code",
      "execution_count": 45,
      "metadata": {
        "colab": {
          "base_uri": "https://localhost:8080/"
        },
        "id": "WyqFEZrDYpY3",
        "outputId": "b4d186f2-169b-4f22-cfdb-274e161c3781"
      },
      "outputs": [
        {
          "output_type": "execute_result",
          "data": {
            "text/plain": [
              "(True, 0)"
            ]
          },
          "metadata": {},
          "execution_count": 45
        }
      ],
      "source": [
        "checkodesol(de, Y)"
      ]
    },
    {
      "cell_type": "code",
      "execution_count": 46,
      "metadata": {
        "colab": {
          "base_uri": "https://localhost:8080/",
          "height": 68
        },
        "id": "lE2lI5gH4TeI",
        "outputId": "4ccfa9a2-955c-4dae-c116-b040717bfd64"
      },
      "outputs": [
        {
          "output_type": "execute_result",
          "data": {
            "text/plain": [
              "Eq(y(x), C1*exp(x/2)*sin(sqrt(3)*x/2) + C2*exp(x/2)*cos(sqrt(3)*x/2) + x**3 + 3*x**2)"
            ],
            "text/latex": "$\\displaystyle y{\\left(x \\right)} = C_{1} e^{\\frac{x}{2}} \\sin{\\left(\\frac{\\sqrt{3} x}{2} \\right)} + C_{2} e^{\\frac{x}{2}} \\cos{\\left(\\frac{\\sqrt{3} x}{2} \\right)} + x^{3} + 3 x^{2}$"
          },
          "metadata": {},
          "execution_count": 46
        }
      ],
      "source": [
        "expand(Y)"
      ]
    },
    {
      "cell_type": "markdown",
      "metadata": {
        "id": "xikI_O_5YpY3"
      },
      "source": [
        "# Exercise 4.3.9\n",
        "\n",
        "$y'' - 8y' + 7y = 14$\n"
      ]
    },
    {
      "cell_type": "code",
      "execution_count": 47,
      "metadata": {
        "colab": {
          "base_uri": "https://localhost:8080/",
          "height": 39
        },
        "id": "iQXVGPgiYpY4",
        "outputId": "36fb4ac8-e88f-4a99-8654-a0878db78860"
      },
      "outputs": [
        {
          "output_type": "display_data",
          "data": {
            "text/plain": [
              "Eq(y(x), C1*exp(x) + C2*exp(7*x) + 2)"
            ],
            "text/latex": "$\\displaystyle y{\\left(x \\right)} = C_{1} e^{x} + C_{2} e^{7 x} + 2$"
          },
          "metadata": {}
        }
      ],
      "source": [
        "x = symbols(\"x\", real=True)\n",
        "y = symbols(\"y\", cls=Function)\n",
        "de = Eq(y(x).diff(x,x) - 8*y(x).diff(x) + 7*y(x) , 14)\n",
        "Y = dsolve(de)\n",
        "display(Y)"
      ]
    },
    {
      "cell_type": "code",
      "execution_count": 48,
      "metadata": {
        "colab": {
          "base_uri": "https://localhost:8080/"
        },
        "id": "iPCT3wK8YpY4",
        "outputId": "b3420de1-c325-4bc4-fb97-b53ba91e3c72"
      },
      "outputs": [
        {
          "output_type": "execute_result",
          "data": {
            "text/plain": [
              "(True, 0)"
            ]
          },
          "metadata": {},
          "execution_count": 48
        }
      ],
      "source": [
        "checkodesol(de, Y)"
      ]
    },
    {
      "cell_type": "markdown",
      "metadata": {
        "id": "vth-rl-LYpY4"
      },
      "source": [
        "# Exercise 4.3.10\n",
        "\n",
        "$y'' + y' - 2y = 3xe^x$\n"
      ]
    },
    {
      "cell_type": "code",
      "execution_count": 49,
      "metadata": {
        "colab": {
          "base_uri": "https://localhost:8080/",
          "height": 58
        },
        "id": "PdbxK-VOYpY4",
        "outputId": "684be316-cbee-4a54-98ae-288a742dd5ba"
      },
      "outputs": [
        {
          "output_type": "display_data",
          "data": {
            "text/plain": [
              "Eq(y(x), C2*exp(-2*x) + (C1 + x**2/2 - x/3)*exp(x))"
            ],
            "text/latex": "$\\displaystyle y{\\left(x \\right)} = C_{2} e^{- 2 x} + \\left(C_{1} + \\frac{x^{2}}{2} - \\frac{x}{3}\\right) e^{x}$"
          },
          "metadata": {}
        }
      ],
      "source": [
        "x = symbols(\"x\", real=True)\n",
        "y = symbols(\"y\", cls=Function)\n",
        "de = Eq(y(x).diff(x,x) + y(x).diff(x) -2*y(x) , 3 * x * exp(x))\n",
        "Y = dsolve(de)\n",
        "display(Y)"
      ]
    },
    {
      "cell_type": "code",
      "execution_count": 50,
      "metadata": {
        "colab": {
          "base_uri": "https://localhost:8080/"
        },
        "id": "oj8FsQBOYpY4",
        "outputId": "321599aa-07a3-4d79-8422-a9642a2ae85e"
      },
      "outputs": [
        {
          "output_type": "execute_result",
          "data": {
            "text/plain": [
              "(True, 0)"
            ]
          },
          "metadata": {},
          "execution_count": 50
        }
      ],
      "source": [
        "checkodesol(de, Y)"
      ]
    },
    {
      "cell_type": "markdown",
      "metadata": {
        "id": "m1FLvVGAYpY5"
      },
      "source": [
        "# Exercise 4.3.11\n",
        "\n",
        "$y'' - y = 2e^{x}$"
      ]
    },
    {
      "cell_type": "code",
      "execution_count": 51,
      "metadata": {
        "colab": {
          "base_uri": "https://localhost:8080/",
          "height": 39
        },
        "id": "rRLLDerLYpY5",
        "outputId": "739792e6-28ee-45b3-ae5b-af27adb87fe2"
      },
      "outputs": [
        {
          "output_type": "display_data",
          "data": {
            "text/plain": [
              "Eq(y(x), C2*exp(-x) + (C1 + x)*exp(x))"
            ],
            "text/latex": "$\\displaystyle y{\\left(x \\right)} = C_{2} e^{- x} + \\left(C_{1} + x\\right) e^{x}$"
          },
          "metadata": {}
        }
      ],
      "source": [
        "x = symbols(\"x\", real=True)\n",
        "y = symbols(\"y\", cls=Function)\n",
        "de = Eq(y(x).diff(x,x) - y(x) , 2*exp(x))\n",
        "Y = dsolve(de)\n",
        "display(Y)"
      ]
    },
    {
      "cell_type": "code",
      "execution_count": 52,
      "metadata": {
        "colab": {
          "base_uri": "https://localhost:8080/"
        },
        "id": "647adgeWYpY5",
        "outputId": "74bb1034-949b-495c-8653-e4a8f71fdd3b"
      },
      "outputs": [
        {
          "output_type": "execute_result",
          "data": {
            "text/plain": [
              "(True, 0)"
            ]
          },
          "metadata": {},
          "execution_count": 52
        }
      ],
      "source": [
        "checkodesol(de, Y)"
      ]
    },
    {
      "cell_type": "markdown",
      "metadata": {
        "id": "Ur3aN4UhqKWS"
      },
      "source": [
        "# Exercise 4.3.12\n",
        "\n",
        "$y^{(4)} - 2y''' + y'' = e^x$\n"
      ]
    },
    {
      "cell_type": "code",
      "execution_count": 53,
      "metadata": {
        "colab": {
          "base_uri": "https://localhost:8080/",
          "height": 48
        },
        "id": "D2CCA0IWqKWS",
        "outputId": "1f94a597-1219-4fc2-da6e-cfec503da3dc",
        "scrolled": true
      },
      "outputs": [
        {
          "output_type": "display_data",
          "data": {
            "text/plain": [
              "Eq(y(x), C1 + C4*exp(x) + x*(C2 + (C3 + x/2)*exp(x)))"
            ],
            "text/latex": "$\\displaystyle y{\\left(x \\right)} = C_{1} + C_{4} e^{x} + x \\left(C_{2} + \\left(C_{3} + \\frac{x}{2}\\right) e^{x}\\right)$"
          },
          "metadata": {}
        }
      ],
      "source": [
        "x = symbols(\"x\", real=True)\n",
        "y = symbols(\"y\", cls=Function)\n",
        "de = Eq(y(x).diff(x,x,x,x) - 2*y(x).diff(x,x,x) + y(x).diff(x,x) , exp(x))\n",
        "Y = dsolve(de)\n",
        "display(Y)"
      ]
    },
    {
      "cell_type": "code",
      "execution_count": 54,
      "metadata": {
        "colab": {
          "base_uri": "https://localhost:8080/"
        },
        "id": "qCMXNw7aqKWS",
        "outputId": "c8a1c2ee-8108-40e1-e7f1-95621c4f36e3"
      },
      "outputs": [
        {
          "output_type": "execute_result",
          "data": {
            "text/plain": [
              "(True, 0)"
            ]
          },
          "metadata": {},
          "execution_count": 54
        }
      ],
      "source": [
        "checkodesol(de, Y)"
      ]
    },
    {
      "cell_type": "code",
      "execution_count": 55,
      "metadata": {
        "colab": {
          "base_uri": "https://localhost:8080/",
          "height": 54
        },
        "id": "LpXTbzHe6or6",
        "outputId": "7409af94-0769-495d-dc77-5a63df163ea0"
      },
      "outputs": [
        {
          "output_type": "execute_result",
          "data": {
            "text/plain": [
              "Eq(y(x), C1 + C2*x + C3*x*exp(x) + C4*exp(x) + x**2*exp(x)/2)"
            ],
            "text/latex": "$\\displaystyle y{\\left(x \\right)} = C_{1} + C_{2} x + C_{3} x e^{x} + C_{4} e^{x} + \\frac{x^{2} e^{x}}{2}$"
          },
          "metadata": {},
          "execution_count": 55
        }
      ],
      "source": [
        "expand(Y)"
      ]
    },
    {
      "cell_type": "markdown",
      "metadata": {
        "id": "FbtsQO25qKWS"
      },
      "source": [
        "# Exercise 4.3.13\n",
        "\n",
        "$y'' - 4y' + 3y = 2-\\cos(2x) + 35\\sin(2x)$\n"
      ]
    },
    {
      "cell_type": "code",
      "execution_count": 56,
      "metadata": {
        "colab": {
          "base_uri": "https://localhost:8080/",
          "height": 53
        },
        "id": "wgk7fEMFqKWS",
        "outputId": "b5229756-aa1d-4483-ba01-09a6210725aa",
        "scrolled": true
      },
      "outputs": [
        {
          "output_type": "display_data",
          "data": {
            "text/plain": [
              "Eq(y(x), C1*exp(x) + C2*exp(3*x) - 27*sin(2*x)/65 + 281*cos(2*x)/65 + 2/3)"
            ],
            "text/latex": "$\\displaystyle y{\\left(x \\right)} = C_{1} e^{x} + C_{2} e^{3 x} - \\frac{27 \\sin{\\left(2 x \\right)}}{65} + \\frac{281 \\cos{\\left(2 x \\right)}}{65} + \\frac{2}{3}$"
          },
          "metadata": {}
        }
      ],
      "source": [
        "x = symbols(\"x\", real=True)\n",
        "y = symbols(\"y\", cls=Function)\n",
        "de = Eq(y(x).diff(x,x) -4*y(x).diff(x) + 3*y(x) , 2 - cos(2*x) + 35*sin(2*x))\n",
        "Y = dsolve(de)\n",
        "display(Y)"
      ]
    },
    {
      "cell_type": "code",
      "execution_count": 57,
      "metadata": {
        "colab": {
          "base_uri": "https://localhost:8080/"
        },
        "id": "ZQI-5lgHqKWS",
        "outputId": "2e105c41-f358-49dd-aa82-cfef5db0cc81",
        "scrolled": true
      },
      "outputs": [
        {
          "output_type": "execute_result",
          "data": {
            "text/plain": [
              "(True, 0)"
            ]
          },
          "metadata": {},
          "execution_count": 57
        }
      ],
      "source": [
        "checkodesol(de, Y)"
      ]
    },
    {
      "cell_type": "markdown",
      "metadata": {
        "id": "seZbGscoqKWT"
      },
      "source": [
        "# Exercise 4.3.14\n",
        "\n",
        "$y''+y'-2y = 11\\cos\\frac{x}{2} - 7\\sin\\frac{x}{2}$\n"
      ]
    },
    {
      "cell_type": "code",
      "execution_count": 58,
      "metadata": {
        "colab": {
          "base_uri": "https://localhost:8080/",
          "height": 48
        },
        "id": "I-UWS08eqKWT",
        "outputId": "b75cfa46-6282-464a-b148-f7536c3bd274",
        "scrolled": true
      },
      "outputs": [
        {
          "output_type": "display_data",
          "data": {
            "text/plain": [
              "Eq(y(x), C1*exp(-2*x) + C2*exp(x) + 4*sin(x/2) - 4*cos(x/2))"
            ],
            "text/latex": "$\\displaystyle y{\\left(x \\right)} = C_{1} e^{- 2 x} + C_{2} e^{x} + 4 \\sin{\\left(\\frac{x}{2} \\right)} - 4 \\cos{\\left(\\frac{x}{2} \\right)}$"
          },
          "metadata": {}
        }
      ],
      "source": [
        "x = symbols(\"x\", real=True)\n",
        "y = symbols(\"y\", cls=Function)\n",
        "de = Eq(y(x).diff(x,x) + y(x).diff(x) - 2*y(x) , 11*cos(x/2) - 7*sin(x/2))\n",
        "Y = dsolve(de)\n",
        "display(Y)"
      ]
    },
    {
      "cell_type": "code",
      "execution_count": 59,
      "metadata": {
        "colab": {
          "base_uri": "https://localhost:8080/"
        },
        "id": "eIpRbVFAqKWT",
        "outputId": "a094e9a2-97ad-47aa-dbf1-9ad3d69f7a8f"
      },
      "outputs": [
        {
          "output_type": "execute_result",
          "data": {
            "text/plain": [
              "(True, 0)"
            ]
          },
          "metadata": {},
          "execution_count": 59
        }
      ],
      "source": [
        "checkodesol(de, Y)"
      ]
    },
    {
      "cell_type": "markdown",
      "metadata": {
        "id": "LECnxh2WqKWT"
      },
      "source": [
        "# Exercise 4.3.15\n",
        "\n",
        "$y''+5y'+6y = -50\\sin 4x$\n"
      ]
    },
    {
      "cell_type": "code",
      "execution_count": 60,
      "metadata": {
        "colab": {
          "base_uri": "https://localhost:8080/",
          "height": 39
        },
        "id": "AYzToS2eqKWT",
        "outputId": "bbc0717f-3d38-43ec-970c-a7b9559b03d4",
        "scrolled": true
      },
      "outputs": [
        {
          "output_type": "display_data",
          "data": {
            "text/plain": [
              "Eq(y(x), C1*exp(-3*x) + C2*exp(-2*x) + sin(4*x) + 2*cos(4*x))"
            ],
            "text/latex": "$\\displaystyle y{\\left(x \\right)} = C_{1} e^{- 3 x} + C_{2} e^{- 2 x} + \\sin{\\left(4 x \\right)} + 2 \\cos{\\left(4 x \\right)}$"
          },
          "metadata": {}
        }
      ],
      "source": [
        "x = symbols(\"x\", real=True)\n",
        "y = symbols(\"y\", cls=Function)\n",
        "de = Eq(y(x).diff(x,x) + 5*y(x).diff(x) + 6*y(x) , -50 * sin(4*x))\n",
        "Y = dsolve(de)\n",
        "display(Y)"
      ]
    },
    {
      "cell_type": "code",
      "execution_count": 61,
      "metadata": {
        "colab": {
          "base_uri": "https://localhost:8080/"
        },
        "id": "AUoXu-kDqKWT",
        "outputId": "60f245ce-9646-4cdf-a208-096d36e998d6"
      },
      "outputs": [
        {
          "output_type": "execute_result",
          "data": {
            "text/plain": [
              "(True, 0)"
            ]
          },
          "metadata": {},
          "execution_count": 61
        }
      ],
      "source": [
        "checkodesol(de, Y)"
      ]
    },
    {
      "cell_type": "markdown",
      "metadata": {
        "id": "40ay9vT4vGyl"
      },
      "source": [
        "# Exercise 4.3.16\n",
        "\n",
        "$y'' - 3y' + 2y = 2e^x\\cos\\frac{x}{2}$\n"
      ]
    },
    {
      "cell_type": "code",
      "execution_count": 62,
      "metadata": {
        "colab": {
          "base_uri": "https://localhost:8080/",
          "height": 68
        },
        "id": "FiTpmhTEvGy_",
        "outputId": "e1b650e4-1f6d-4ed4-d50d-99fdf6b635e3",
        "scrolled": true
      },
      "outputs": [
        {
          "output_type": "display_data",
          "data": {
            "text/plain": [
              "Eq(y(x), (C1 + C2*exp(x) - 16*sin(x/2)/5 - 8*cos(x/2)/5)*exp(x))"
            ],
            "text/latex": "$\\displaystyle y{\\left(x \\right)} = \\left(C_{1} + C_{2} e^{x} - \\frac{16 \\sin{\\left(\\frac{x}{2} \\right)}}{5} - \\frac{8 \\cos{\\left(\\frac{x}{2} \\right)}}{5}\\right) e^{x}$"
          },
          "metadata": {}
        }
      ],
      "source": [
        "x = symbols(\"x\", real=True)\n",
        "y = symbols(\"y\", cls=Function)\n",
        "de = Eq(y(x).diff(x,x) - 3*y(x).diff(x) + 2*y(x) , 2*exp(x)*cos(x/2))\n",
        "Y = dsolve(de)\n",
        "display(Y)"
      ]
    },
    {
      "cell_type": "code",
      "execution_count": 63,
      "metadata": {
        "colab": {
          "base_uri": "https://localhost:8080/",
          "height": 56
        },
        "id": "JnJSeBEiATcS",
        "outputId": "6d4ef818-ec1d-42cf-cdc7-48255264d371"
      },
      "outputs": [
        {
          "output_type": "execute_result",
          "data": {
            "text/plain": [
              "Eq(y(x), C1*exp(x) + C2*exp(2*x) - 16*exp(x)*sin(x/2)/5 - 8*exp(x)*cos(x/2)/5)"
            ],
            "text/latex": "$\\displaystyle y{\\left(x \\right)} = C_{1} e^{x} + C_{2} e^{2 x} - \\frac{16 e^{x} \\sin{\\left(\\frac{x}{2} \\right)}}{5} - \\frac{8 e^{x} \\cos{\\left(\\frac{x}{2} \\right)}}{5}$"
          },
          "metadata": {},
          "execution_count": 63
        }
      ],
      "source": [
        "expand(Y)"
      ]
    },
    {
      "cell_type": "code",
      "execution_count": 64,
      "metadata": {
        "colab": {
          "base_uri": "https://localhost:8080/"
        },
        "id": "3-2sEUXzvGzA",
        "outputId": "2e268e09-ee53-45b4-ec0b-5dd4204285f3"
      },
      "outputs": [
        {
          "output_type": "execute_result",
          "data": {
            "text/plain": [
              "(True, 0)"
            ]
          },
          "metadata": {},
          "execution_count": 64
        }
      ],
      "source": [
        "checkodesol(de, Y)"
      ]
    },
    {
      "cell_type": "markdown",
      "metadata": {
        "id": "BtENlclcgYvQ"
      },
      "source": [
        "# Exercise 4.3.17\n",
        "\n",
        "$y''-3y'+2y=2\\sin x$\n"
      ]
    },
    {
      "cell_type": "code",
      "execution_count": 65,
      "metadata": {
        "colab": {
          "base_uri": "https://localhost:8080/",
          "height": 39
        },
        "id": "v7BE56ZsgYvh",
        "outputId": "965595d2-21d0-4323-dd6e-c1a369203e40",
        "scrolled": true
      },
      "outputs": [
        {
          "output_type": "display_data",
          "data": {
            "text/plain": [
              "Eq(y(x), C1*exp(-x) + C2*exp(x) - sin(x))"
            ],
            "text/latex": "$\\displaystyle y{\\left(x \\right)} = C_{1} e^{- x} + C_{2} e^{x} - \\sin{\\left(x \\right)}$"
          },
          "metadata": {}
        }
      ],
      "source": [
        "x = symbols(\"x\", real=True)\n",
        "y = symbols(\"y\", cls=Function)\n",
        "de = Eq(y(x).diff(x,x) - 3*y(x) + 2*y(x) , 2*sin(x))\n",
        "Y = dsolve(de)\n",
        "display(Y)"
      ]
    },
    {
      "cell_type": "code",
      "execution_count": 66,
      "metadata": {
        "colab": {
          "base_uri": "https://localhost:8080/"
        },
        "id": "sWsocfxpgYvh",
        "outputId": "af399c93-3ca2-4d4a-a918-7d6b562cf051"
      },
      "outputs": [
        {
          "output_type": "execute_result",
          "data": {
            "text/plain": [
              "(True, 0)"
            ]
          },
          "metadata": {},
          "execution_count": 66
        }
      ],
      "source": [
        "checkodesol(de, Y)"
      ]
    },
    {
      "cell_type": "markdown",
      "metadata": {
        "id": "ruseDy92g4L9"
      },
      "source": [
        "# Exercise 4.3.18\n",
        "\n",
        "$y''+4y = 12\\cos 2x$"
      ]
    },
    {
      "cell_type": "code",
      "execution_count": 67,
      "metadata": {
        "colab": {
          "base_uri": "https://localhost:8080/",
          "height": 39
        },
        "id": "ktq7PaLMg4L-",
        "outputId": "0134ea9f-9ecb-41a6-b9d3-02a7337d3466",
        "scrolled": true
      },
      "outputs": [
        {
          "output_type": "display_data",
          "data": {
            "text/plain": [
              "Eq(y(x), C2*cos(2*x) + (C1 + 3*x)*sin(2*x))"
            ],
            "text/latex": "$\\displaystyle y{\\left(x \\right)} = C_{2} \\cos{\\left(2 x \\right)} + \\left(C_{1} + 3 x\\right) \\sin{\\left(2 x \\right)}$"
          },
          "metadata": {}
        }
      ],
      "source": [
        "x = symbols(\"x\", real=True)\n",
        "y = symbols(\"y\", cls=Function)\n",
        "de = Eq(y(x).diff(x,x) + 4*y(x) , 12*cos(2*x))\n",
        "Y = dsolve(de)\n",
        "display(Y)"
      ]
    },
    {
      "cell_type": "code",
      "execution_count": 68,
      "metadata": {
        "colab": {
          "base_uri": "https://localhost:8080/",
          "height": 39
        },
        "id": "HoGUj2Y9YbPJ",
        "outputId": "da0bb374-174e-4f99-97a2-b1b6fcc04bf0"
      },
      "outputs": [
        {
          "output_type": "execute_result",
          "data": {
            "text/plain": [
              "Eq(y(x), C1*sin(2*x) + C2*cos(2*x) + 3*x*sin(2*x))"
            ],
            "text/latex": "$\\displaystyle y{\\left(x \\right)} = C_{1} \\sin{\\left(2 x \\right)} + C_{2} \\cos{\\left(2 x \\right)} + 3 x \\sin{\\left(2 x \\right)}$"
          },
          "metadata": {},
          "execution_count": 68
        }
      ],
      "source": [
        "expand(Y)"
      ]
    },
    {
      "cell_type": "code",
      "execution_count": 69,
      "metadata": {
        "colab": {
          "base_uri": "https://localhost:8080/"
        },
        "id": "kwIFT_bCg4L-",
        "outputId": "335b1779-fd5b-4436-e6d2-00085bcdd159"
      },
      "outputs": [
        {
          "output_type": "execute_result",
          "data": {
            "text/plain": [
              "(True, 0)"
            ]
          },
          "metadata": {},
          "execution_count": 69
        }
      ],
      "source": [
        "checkodesol(de, Y)"
      ]
    },
    {
      "cell_type": "markdown",
      "metadata": {
        "id": "GPMJmW-YHYC_"
      },
      "source": [
        "# Exercise 4.3.19\n",
        "\n",
        "$y''+9y=-18\\cos 3x$"
      ]
    },
    {
      "cell_type": "code",
      "execution_count": 70,
      "metadata": {
        "colab": {
          "base_uri": "https://localhost:8080/",
          "height": 39
        },
        "id": "ARGMTdjOHYDZ",
        "outputId": "c55b675b-8ff4-4ddf-86f2-5a8763ad2235",
        "scrolled": true
      },
      "outputs": [
        {
          "output_type": "display_data",
          "data": {
            "text/plain": [
              "Eq(y(x), C2*cos(3*x) + (C1 - 3*x)*sin(3*x))"
            ],
            "text/latex": "$\\displaystyle y{\\left(x \\right)} = C_{2} \\cos{\\left(3 x \\right)} + \\left(C_{1} - 3 x\\right) \\sin{\\left(3 x \\right)}$"
          },
          "metadata": {}
        }
      ],
      "source": [
        "x = symbols(\"x\", real=True)\n",
        "y = symbols(\"y\", cls=Function)\n",
        "de = Eq(y(x).diff(x,x) + 9*y(x) , -18*cos(3*x))\n",
        "Y = dsolve(de)\n",
        "display(Y)"
      ]
    },
    {
      "cell_type": "code",
      "execution_count": 71,
      "metadata": {
        "colab": {
          "base_uri": "https://localhost:8080/",
          "height": 39
        },
        "id": "Vg39CkTTYbPL",
        "outputId": "58d48336-8052-43ab-88a4-7f628ed0f09a"
      },
      "outputs": [
        {
          "output_type": "execute_result",
          "data": {
            "text/plain": [
              "Eq(y(x), C1*sin(3*x) + C2*cos(3*x) - 3*x*sin(3*x))"
            ],
            "text/latex": "$\\displaystyle y{\\left(x \\right)} = C_{1} \\sin{\\left(3 x \\right)} + C_{2} \\cos{\\left(3 x \\right)} - 3 x \\sin{\\left(3 x \\right)}$"
          },
          "metadata": {},
          "execution_count": 71
        }
      ],
      "source": [
        "expand(Y)"
      ]
    },
    {
      "cell_type": "code",
      "execution_count": 72,
      "metadata": {
        "colab": {
          "base_uri": "https://localhost:8080/"
        },
        "id": "iUbm5q8WHYDa",
        "outputId": "de150394-dc90-4548-8b13-b76600ab7e9d"
      },
      "outputs": [
        {
          "output_type": "execute_result",
          "data": {
            "text/plain": [
              "(True, 0)"
            ]
          },
          "metadata": {},
          "execution_count": 72
        }
      ],
      "source": [
        "checkodesol(de, Y)"
      ]
    },
    {
      "cell_type": "markdown",
      "metadata": {
        "id": "-OZQ60jiIKIC"
      },
      "source": [
        "# Exercise 4.3.20\n",
        "\n",
        "$y'' - 4y' + 4y = x^2 + e^2x + \\sin 2x$\n"
      ]
    },
    {
      "cell_type": "code",
      "execution_count": 73,
      "metadata": {
        "colab": {
          "base_uri": "https://localhost:8080/",
          "height": 54
        },
        "id": "U0YuTKV3IKIW",
        "outputId": "103d3066-1a03-4584-abd6-8f9d3b652f27",
        "scrolled": true
      },
      "outputs": [
        {
          "output_type": "display_data",
          "data": {
            "text/plain": [
              "Eq(y(x), x**2/4 + x/2 + (C1 + x*(C2 + x/2))*exp(2*x) + cos(2*x)/8 + 3/8)"
            ],
            "text/latex": "$\\displaystyle y{\\left(x \\right)} = \\frac{x^{2}}{4} + \\frac{x}{2} + \\left(C_{1} + x \\left(C_{2} + \\frac{x}{2}\\right)\\right) e^{2 x} + \\frac{\\cos{\\left(2 x \\right)}}{8} + \\frac{3}{8}$"
          },
          "metadata": {}
        }
      ],
      "source": [
        "x = symbols(\"x\", real=True)\n",
        "y = symbols(\"y\", cls=Function)\n",
        "de = Eq(y(x).diff(x,x) - 4*y(x).diff(x) + 4*y(x) , x**2 + exp(2*x) + sin(2*x))\n",
        "Y = dsolve(de)\n",
        "display(Y)"
      ]
    },
    {
      "cell_type": "code",
      "execution_count": 74,
      "metadata": {
        "colab": {
          "base_uri": "https://localhost:8080/",
          "height": 54
        },
        "id": "yVBDhyMMYbPM",
        "outputId": "d07f3052-be43-458a-c370-7a6f7527f178"
      },
      "outputs": [
        {
          "output_type": "execute_result",
          "data": {
            "text/plain": [
              "Eq(y(x), C1*exp(2*x) + C2*x*exp(2*x) + x**2*exp(2*x)/2 + x**2/4 + x/2 + cos(2*x)/8 + 3/8)"
            ],
            "text/latex": "$\\displaystyle y{\\left(x \\right)} = C_{1} e^{2 x} + C_{2} x e^{2 x} + \\frac{x^{2} e^{2 x}}{2} + \\frac{x^{2}}{4} + \\frac{x}{2} + \\frac{\\cos{\\left(2 x \\right)}}{8} + \\frac{3}{8}$"
          },
          "metadata": {},
          "execution_count": 74
        }
      ],
      "source": [
        "expand(Y)"
      ]
    },
    {
      "cell_type": "code",
      "execution_count": 75,
      "metadata": {
        "colab": {
          "base_uri": "https://localhost:8080/"
        },
        "id": "OXT6kSIpIKIW",
        "outputId": "4d67e31e-0c9a-420c-f9d5-bc280cac50af"
      },
      "outputs": [
        {
          "output_type": "execute_result",
          "data": {
            "text/plain": [
              "(True, 0)"
            ]
          },
          "metadata": {},
          "execution_count": 75
        }
      ],
      "source": [
        "checkodesol(de, Y)"
      ]
    },
    {
      "cell_type": "markdown",
      "metadata": {
        "id": "ovZkxOmUIre2"
      },
      "source": [
        "# Exercise 4.3.21\n",
        "\n",
        "$y'' - 2y' -8y = e^x - 8\\cos 2x$\n"
      ]
    },
    {
      "cell_type": "code",
      "execution_count": 76,
      "metadata": {
        "colab": {
          "base_uri": "https://localhost:8080/",
          "height": 53
        },
        "id": "Z71NBWJJIre2",
        "outputId": "3abd2b86-bddd-4dfe-c88a-e84fd2c076e6",
        "scrolled": true
      },
      "outputs": [
        {
          "output_type": "display_data",
          "data": {
            "text/plain": [
              "Eq(y(x), C1*exp(-2*x) + C2*exp(4*x) - exp(x)/9 + sin(2*x)/5 + 3*cos(2*x)/5)"
            ],
            "text/latex": "$\\displaystyle y{\\left(x \\right)} = C_{1} e^{- 2 x} + C_{2} e^{4 x} - \\frac{e^{x}}{9} + \\frac{\\sin{\\left(2 x \\right)}}{5} + \\frac{3 \\cos{\\left(2 x \\right)}}{5}$"
          },
          "metadata": {}
        }
      ],
      "source": [
        "x = symbols(\"x\", real=True)\n",
        "y = symbols(\"y\", cls=Function)\n",
        "de = Eq(y(x).diff(x,x) - 2*y(x).diff(x) - 8*y(x) , exp(x) -8*cos(2*x))\n",
        "Y = dsolve(de)\n",
        "display(Y)"
      ]
    },
    {
      "cell_type": "code",
      "execution_count": 77,
      "metadata": {
        "colab": {
          "base_uri": "https://localhost:8080/"
        },
        "id": "KIzjawAPYbPN",
        "outputId": "ab36feae-8632-4d53-cdfa-1a9342a9d282"
      },
      "outputs": [
        {
          "output_type": "execute_result",
          "data": {
            "text/plain": [
              "(True, 0)"
            ]
          },
          "metadata": {},
          "execution_count": 77
        }
      ],
      "source": [
        "checkodesol(de, Y)"
      ]
    },
    {
      "cell_type": "markdown",
      "metadata": {
        "id": "pwjBCsLcLcYT"
      },
      "source": [
        "# Exercise 4.3.22\n",
        "\n",
        "$y''-y = 2x -1 - 3e^x$\n"
      ]
    },
    {
      "cell_type": "code",
      "execution_count": 78,
      "metadata": {
        "colab": {
          "base_uri": "https://localhost:8080/",
          "height": 58
        },
        "id": "WwLiOmrnLcYe",
        "outputId": "70c3b17b-457f-44c5-f96a-22b3430ab1a9",
        "scrolled": true
      },
      "outputs": [
        {
          "output_type": "display_data",
          "data": {
            "text/plain": [
              "Eq(y(x), C2*exp(-x) - 2*x + (C1 - 3*x/2)*exp(x) + 1)"
            ],
            "text/latex": "$\\displaystyle y{\\left(x \\right)} = C_{2} e^{- x} - 2 x + \\left(C_{1} - \\frac{3 x}{2}\\right) e^{x} + 1$"
          },
          "metadata": {}
        }
      ],
      "source": [
        "x = symbols(\"x\", real=True)\n",
        "y = symbols(\"y\", cls=Function)\n",
        "de = Eq(y(x).diff(x,x) - y(x) , 2*x -1 -3*exp(x))\n",
        "Y = dsolve(de) \n",
        "display(Y)"
      ]
    },
    {
      "cell_type": "code",
      "execution_count": 79,
      "metadata": {
        "colab": {
          "base_uri": "https://localhost:8080/",
          "height": 51
        },
        "id": "DgxO2xsZYbPO",
        "outputId": "b379fc81-fdee-45e0-d682-bfb2fa3a2114"
      },
      "outputs": [
        {
          "output_type": "execute_result",
          "data": {
            "text/plain": [
              "Eq(y(x), C1*exp(x) + C2*exp(-x) - 3*x*exp(x)/2 - 2*x + 1)"
            ],
            "text/latex": "$\\displaystyle y{\\left(x \\right)} = C_{1} e^{x} + C_{2} e^{- x} - \\frac{3 x e^{x}}{2} - 2 x + 1$"
          },
          "metadata": {},
          "execution_count": 79
        }
      ],
      "source": [
        "expand(Y)"
      ]
    },
    {
      "cell_type": "code",
      "execution_count": 80,
      "metadata": {
        "colab": {
          "base_uri": "https://localhost:8080/"
        },
        "id": "PAujYkS1LcYf",
        "outputId": "64239a10-2f79-4c6e-aa7b-9d556ee3d753"
      },
      "outputs": [
        {
          "output_type": "execute_result",
          "data": {
            "text/plain": [
              "(True, 0)"
            ]
          },
          "metadata": {},
          "execution_count": 80
        }
      ],
      "source": [
        "checkodesol(de, Y)"
      ]
    },
    {
      "cell_type": "markdown",
      "metadata": {
        "id": "U8YHnTVMFpex"
      },
      "source": [
        "# Exercise 4.3.23\n",
        "\n",
        "$y''' + y'' = 3xe^x + x^2 + 1$"
      ]
    },
    {
      "cell_type": "code",
      "execution_count": 81,
      "metadata": {
        "colab": {
          "base_uri": "https://localhost:8080/",
          "height": 58
        },
        "id": "Hhy2MK9tFpe4",
        "outputId": "a5c0d14c-89f4-411a-95e7-bc91c48eb266",
        "scrolled": true
      },
      "outputs": [
        {
          "output_type": "display_data",
          "data": {
            "text/plain": [
              "Eq(y(x), C1 + C3*exp(-x) + x**4/12 - x**3/3 + 3*x**2/2 + x*(C2 + 3*exp(x)/2) - 15*exp(x)/4)"
            ],
            "text/latex": "$\\displaystyle y{\\left(x \\right)} = C_{1} + C_{3} e^{- x} + \\frac{x^{4}}{12} - \\frac{x^{3}}{3} + \\frac{3 x^{2}}{2} + x \\left(C_{2} + \\frac{3 e^{x}}{2}\\right) - \\frac{15 e^{x}}{4}$"
          },
          "metadata": {}
        }
      ],
      "source": [
        "x = symbols(\"x\", real=True)\n",
        "y = symbols(\"y\", cls=Function)\n",
        "de = Eq(y(x).diff(x,x,x) + y(x).diff(x,x) , 3*x*exp(x) + x**2 +1)\n",
        "Y = dsolve(de, y(x)) \n",
        "display(Y)"
      ]
    },
    {
      "cell_type": "code",
      "execution_count": 82,
      "metadata": {
        "colab": {
          "base_uri": "https://localhost:8080/",
          "height": 54
        },
        "id": "27z_wDnvYbPP",
        "outputId": "470dea31-501f-47a6-8392-de19374549d3"
      },
      "outputs": [
        {
          "output_type": "execute_result",
          "data": {
            "text/plain": [
              "Eq(y(x), C1 + C2*x + C3*exp(-x) + x**4/12 - x**3/3 + 3*x**2/2 + 3*x*exp(x)/2 - 15*exp(x)/4)"
            ],
            "text/latex": "$\\displaystyle y{\\left(x \\right)} = C_{1} + C_{2} x + C_{3} e^{- x} + \\frac{x^{4}}{12} - \\frac{x^{3}}{3} + \\frac{3 x^{2}}{2} + \\frac{3 x e^{x}}{2} - \\frac{15 e^{x}}{4}$"
          },
          "metadata": {},
          "execution_count": 82
        }
      ],
      "source": [
        "expand(Y)"
      ]
    },
    {
      "cell_type": "markdown",
      "metadata": {
        "id": "BGriVNz6IUvo"
      },
      "source": [
        "# Exercise 4.3.24\n",
        "\n",
        "$y'' -8y' + 20y = 5xe^{4x}\\sin 2x$\n"
      ]
    },
    {
      "cell_type": "code",
      "execution_count": 83,
      "metadata": {
        "colab": {
          "base_uri": "https://localhost:8080/",
          "height": 58
        },
        "id": "t1J1JgYAIUvz",
        "outputId": "f591e17b-93b5-4261-f275-fc7ae38824a1",
        "scrolled": true
      },
      "outputs": [
        {
          "output_type": "display_data",
          "data": {
            "text/plain": [
              "Eq(y(x), ((C1 - 5*x**2/8)*cos(2*x) + (C2 + 5*x/16)*sin(2*x))*exp(4*x))"
            ],
            "text/latex": "$\\displaystyle y{\\left(x \\right)} = \\left(\\left(C_{1} - \\frac{5 x^{2}}{8}\\right) \\cos{\\left(2 x \\right)} + \\left(C_{2} + \\frac{5 x}{16}\\right) \\sin{\\left(2 x \\right)}\\right) e^{4 x}$"
          },
          "metadata": {}
        }
      ],
      "source": [
        "x = symbols(\"x\", real=True)\n",
        "y = symbols(\"y\", cls=Function)\n",
        "de = Eq(y(x).diff(x,x) - 8*y(x).diff(x) + 20*y(x) , 5*x*exp(4*x) * sin(2*x))\n",
        "Y = dsolve(de) \n",
        "display(Y)"
      ]
    },
    {
      "cell_type": "code",
      "execution_count": 84,
      "metadata": {
        "colab": {
          "base_uri": "https://localhost:8080/",
          "height": 54
        },
        "id": "zi-QKAJTYbPQ",
        "outputId": "ed884592-132d-4781-90df-6cebd621387e"
      },
      "outputs": [
        {
          "output_type": "execute_result",
          "data": {
            "text/plain": [
              "Eq(y(x), C1*exp(4*x)*cos(2*x) + C2*exp(4*x)*sin(2*x) - 5*x**2*exp(4*x)*cos(2*x)/8 + 5*x*exp(4*x)*sin(2*x)/16)"
            ],
            "text/latex": "$\\displaystyle y{\\left(x \\right)} = C_{1} e^{4 x} \\cos{\\left(2 x \\right)} + C_{2} e^{4 x} \\sin{\\left(2 x \\right)} - \\frac{5 x^{2} e^{4 x} \\cos{\\left(2 x \\right)}}{8} + \\frac{5 x e^{4 x} \\sin{\\left(2 x \\right)}}{16}$"
          },
          "metadata": {},
          "execution_count": 84
        }
      ],
      "source": [
        "expand(Y)"
      ]
    },
    {
      "cell_type": "code",
      "execution_count": 85,
      "metadata": {
        "colab": {
          "base_uri": "https://localhost:8080/"
        },
        "id": "5vd9wT-0IUvz",
        "outputId": "cffaf3d4-06d6-4c56-9617-d7969c8e74c1"
      },
      "outputs": [
        {
          "output_type": "execute_result",
          "data": {
            "text/plain": [
              "(True, 0)"
            ]
          },
          "metadata": {},
          "execution_count": 85
        }
      ],
      "source": [
        "checkodesol(de, Y)"
      ]
    },
    {
      "cell_type": "markdown",
      "metadata": {
        "id": "WIV9i_6xJByS"
      },
      "source": [
        "# Exercise 4.3.25\n",
        "\n",
        "$y'' - 9y = e^{-3x}(x^2 + \\sin 3x)$\n"
      ]
    },
    {
      "cell_type": "code",
      "execution_count": 86,
      "metadata": {
        "colab": {
          "base_uri": "https://localhost:8080/",
          "height": 58
        },
        "id": "WKG1BmKGJByk",
        "outputId": "dd3e9589-bc9c-4889-afeb-8981a34907cb",
        "scrolled": true
      },
      "outputs": [
        {
          "output_type": "display_data",
          "data": {
            "text/plain": [
              "Eq(y(x), C2*exp(3*x) + (C1 - x**3/18 - x**2/36 - x/108 - sin(3*x)/45 + 2*cos(3*x)/45)*exp(-3*x))"
            ],
            "text/latex": "$\\displaystyle y{\\left(x \\right)} = C_{2} e^{3 x} + \\left(C_{1} - \\frac{x^{3}}{18} - \\frac{x^{2}}{36} - \\frac{x}{108} - \\frac{\\sin{\\left(3 x \\right)}}{45} + \\frac{2 \\cos{\\left(3 x \\right)}}{45}\\right) e^{- 3 x}$"
          },
          "metadata": {}
        }
      ],
      "source": [
        "x = symbols(\"x\", real=True)\n",
        "y = symbols(\"y\", cls=Function)\n",
        "de = Eq(y(x).diff(x,x) - 9*y(x) , exp(-3*x) * (x**2 + sin(3*x)))\n",
        "Y = dsolve(de) \n",
        "display(Y)"
      ]
    },
    {
      "cell_type": "code",
      "execution_count": 87,
      "metadata": {
        "colab": {
          "base_uri": "https://localhost:8080/",
          "height": 54
        },
        "id": "2ozd5M7cYbPR",
        "outputId": "80726c2a-d4b2-4456-cd6f-e6ca5c7ec158"
      },
      "outputs": [
        {
          "output_type": "execute_result",
          "data": {
            "text/plain": [
              "Eq(y(x), C1*exp(-3*x) + C2*exp(3*x) - x**3*exp(-3*x)/18 - x**2*exp(-3*x)/36 - x*exp(-3*x)/108 - exp(-3*x)*sin(3*x)/45 + 2*exp(-3*x)*cos(3*x)/45)"
            ],
            "text/latex": "$\\displaystyle y{\\left(x \\right)} = C_{1} e^{- 3 x} + C_{2} e^{3 x} - \\frac{x^{3} e^{- 3 x}}{18} - \\frac{x^{2} e^{- 3 x}}{36} - \\frac{x e^{- 3 x}}{108} - \\frac{e^{- 3 x} \\sin{\\left(3 x \\right)}}{45} + \\frac{2 e^{- 3 x} \\cos{\\left(3 x \\right)}}{45}$"
          },
          "metadata": {},
          "execution_count": 87
        }
      ],
      "source": [
        "expand(Y)"
      ]
    },
    {
      "cell_type": "code",
      "execution_count": 88,
      "metadata": {
        "colab": {
          "base_uri": "https://localhost:8080/"
        },
        "id": "cZAcwzF7JByk",
        "outputId": "323d90f0-a4d7-4575-d317-dd925f3ed3a7"
      },
      "outputs": [
        {
          "output_type": "execute_result",
          "data": {
            "text/plain": [
              "(True, 0)"
            ]
          },
          "metadata": {},
          "execution_count": 88
        }
      ],
      "source": [
        "checkodesol(de, Y)"
      ]
    },
    {
      "cell_type": "markdown",
      "metadata": {
        "id": "nOaa_uSoJp4x"
      },
      "source": [
        "# Exercise 4.3.26\n",
        "\n",
        "$y'' + 3y -4y = e^{-4x} + xe^{-x}$\n"
      ]
    },
    {
      "cell_type": "code",
      "execution_count": 89,
      "metadata": {
        "colab": {
          "base_uri": "https://localhost:8080/",
          "height": 58
        },
        "id": "SLetrNfqJp4y",
        "outputId": "3c713b1e-e7d0-4480-ac5b-a32dc21e891e",
        "scrolled": true
      },
      "outputs": [
        {
          "output_type": "display_data",
          "data": {
            "text/plain": [
              "Eq(y(x), C2*exp(x) + (C1 - x**2/4 - x/4)*exp(-x) + exp(-4*x)/15)"
            ],
            "text/latex": "$\\displaystyle y{\\left(x \\right)} = C_{2} e^{x} + \\left(C_{1} - \\frac{x^{2}}{4} - \\frac{x}{4}\\right) e^{- x} + \\frac{e^{- 4 x}}{15}$"
          },
          "metadata": {}
        }
      ],
      "source": [
        "x = symbols(\"x\", real=True)\n",
        "y = symbols(\"y\", cls=Function)\n",
        "de = Eq(y(x).diff(x,x) + 3*y(x) - 4*y(x) , exp(-4*x) + x*exp(-x))\n",
        "Y = dsolve(de) \n",
        "display(Y)"
      ]
    },
    {
      "cell_type": "code",
      "execution_count": 90,
      "metadata": {
        "colab": {
          "base_uri": "https://localhost:8080/",
          "height": 54
        },
        "id": "apKMwv2FYbPT",
        "outputId": "c5ddeac3-1bbe-45ef-af0c-084ddf9f37b8"
      },
      "outputs": [
        {
          "output_type": "execute_result",
          "data": {
            "text/plain": [
              "Eq(y(x), C1*exp(-x) + C2*exp(x) - x**2*exp(-x)/4 - x*exp(-x)/4 + exp(-4*x)/15)"
            ],
            "text/latex": "$\\displaystyle y{\\left(x \\right)} = C_{1} e^{- x} + C_{2} e^{x} - \\frac{x^{2} e^{- x}}{4} - \\frac{x e^{- x}}{4} + \\frac{e^{- 4 x}}{15}$"
          },
          "metadata": {},
          "execution_count": 90
        }
      ],
      "source": [
        "expand(Y)"
      ]
    },
    {
      "cell_type": "code",
      "execution_count": 91,
      "metadata": {
        "colab": {
          "base_uri": "https://localhost:8080/"
        },
        "id": "icVVx5JNJp41",
        "outputId": "db6edc5f-5d9d-4ef4-af78-c561bbc24403"
      },
      "outputs": [
        {
          "output_type": "execute_result",
          "data": {
            "text/plain": [
              "(True, 0)"
            ]
          },
          "metadata": {},
          "execution_count": 91
        }
      ],
      "source": [
        "checkodesol(de, Y)"
      ]
    },
    {
      "cell_type": "markdown",
      "metadata": {
        "id": "njhkpk70Nxi4"
      },
      "source": [
        "# Exercise 4.6.1\n",
        "\n",
        "$\n",
        "y'' - 2y' = e^{2x} + x^2 - 1 \\\\\n",
        "y(0) = \\frac{1}{8} \\\\\n",
        "y'(0) = 1\n",
        "$"
      ]
    },
    {
      "cell_type": "code",
      "execution_count": 92,
      "metadata": {
        "colab": {
          "base_uri": "https://localhost:8080/",
          "height": 54
        },
        "id": "PoIGBJZJNxjM",
        "outputId": "34bb5e6a-b1ec-49d7-ba71-d7d83070f8b3",
        "scrolled": true
      },
      "outputs": [
        {
          "output_type": "display_data",
          "data": {
            "text/plain": [
              "Eq(y(x), -x**3/6 - x**2/4 + x/4 + (x/2 + 0.125)*exp(2*x))"
            ],
            "text/latex": "$\\displaystyle y{\\left(x \\right)} = - \\frac{x^{3}}{6} - \\frac{x^{2}}{4} + \\frac{x}{4} + \\left(\\frac{x}{2} + 0.125\\right) e^{2 x}$"
          },
          "metadata": {}
        }
      ],
      "source": [
        "x = symbols(\"x\", real=True)\n",
        "y = symbols(\"y\", cls=Function)\n",
        "de = Eq(y(x).diff(x,x) - 2*y(x).diff(x) , exp(2*x) + x**2 - 1)\n",
        "Y = dsolve(de, y(x) , ics={y(0): 1/8, y(x).diff(x).subs(x,0): 1})\n",
        "display(Y)"
      ]
    },
    {
      "cell_type": "code",
      "execution_count": 93,
      "metadata": {
        "colab": {
          "base_uri": "https://localhost:8080/"
        },
        "id": "CZP1WMQ_NxjN",
        "outputId": "b57debcc-27cd-4aa4-c510-361acad6bfe9"
      },
      "outputs": [
        {
          "output_type": "execute_result",
          "data": {
            "text/plain": [
              "(True, 0)"
            ]
          },
          "metadata": {},
          "execution_count": 93
        }
      ],
      "source": [
        "checkodesol(de, Y)"
      ]
    },
    {
      "cell_type": "code",
      "execution_count": 94,
      "metadata": {
        "colab": {
          "base_uri": "https://localhost:8080/"
        },
        "id": "KMDNk2STYbPV",
        "outputId": "1db9ae35-656c-4e30-c91b-c01bb418adae"
      },
      "outputs": [
        {
          "output_type": "stream",
          "name": "stdout",
          "text": [
            "0.125000000000000 1.00000000000000\n"
          ]
        }
      ],
      "source": [
        "sol = Y.rhs\n",
        "y0 = sol.subs(x,0)\n",
        "y1 = sol.diff(x).subs(x,0)\n",
        "print(y0,y1)"
      ]
    },
    {
      "cell_type": "markdown",
      "metadata": {
        "id": "3Idvab0dPS-4"
      },
      "source": [
        "# Exercise 4.6.2\n",
        "\n",
        "$\n",
        "y'' + y = e^{2x} + x^2 - 1 \\\\\n",
        "y(0) = 0 \\\\\n",
        "y'(0) = 1\n",
        "$"
      ]
    },
    {
      "cell_type": "code",
      "execution_count": 95,
      "metadata": {
        "colab": {
          "base_uri": "https://localhost:8080/",
          "height": 58
        },
        "id": "hHqwVNJYPS_O",
        "outputId": "b8d80199-a07f-4fd2-c604-ae85ba1c1a7c",
        "scrolled": true
      },
      "outputs": [
        {
          "output_type": "display_data",
          "data": {
            "text/plain": [
              "Eq(y(x), -x**3/6 - x**2/4 + x/4 + (x/2 + 1/8)*exp(2*x) - 1/8)"
            ],
            "text/latex": "$\\displaystyle y{\\left(x \\right)} = - \\frac{x^{3}}{6} - \\frac{x^{2}}{4} + \\frac{x}{4} + \\left(\\frac{x}{2} + \\frac{1}{8}\\right) e^{2 x} - \\frac{1}{8}$"
          },
          "metadata": {}
        }
      ],
      "source": [
        "x = symbols(\"x\", real=True)\n",
        "y = symbols(\"y\", cls=Function)\n",
        "de = Eq(y(x).diff(x,x) - 2*y(x).diff(x) , exp(2*x) + x**2 - 1)\n",
        "Y = dsolve(de, y(x) , ics={y(0): 0, y(x).diff(x).subs(x,0): 1})\n",
        "display(Y)"
      ]
    },
    {
      "cell_type": "code",
      "execution_count": 96,
      "metadata": {
        "colab": {
          "base_uri": "https://localhost:8080/"
        },
        "id": "nKmJAx_JPS_P",
        "outputId": "b89100d0-9777-41c4-a2ea-9c8db9c18eda"
      },
      "outputs": [
        {
          "output_type": "execute_result",
          "data": {
            "text/plain": [
              "(True, 0)"
            ]
          },
          "metadata": {},
          "execution_count": 96
        }
      ],
      "source": [
        "checkodesol(de, Y)"
      ]
    },
    {
      "cell_type": "code",
      "execution_count": 97,
      "metadata": {
        "colab": {
          "base_uri": "https://localhost:8080/"
        },
        "id": "bNqF8wUmYbPW",
        "outputId": "05c16203-ee85-4acc-9201-b7cf1c2a8235"
      },
      "outputs": [
        {
          "output_type": "stream",
          "name": "stdout",
          "text": [
            "0 1\n"
          ]
        }
      ],
      "source": [
        "sol = Y.rhs\n",
        "y0 = sol.subs(x,0)\n",
        "y1 = sol.diff(x).subs(x,0)\n",
        "print(y0,y1)"
      ]
    },
    {
      "cell_type": "markdown",
      "metadata": {
        "id": "17HqEUq3Pk7_"
      },
      "source": [
        "# Exercise 4.6.3\n",
        "\n",
        "$\n",
        "y''' - y' = 3(2-x^2) \\\\\n",
        "y(0) = 1 \\\\\n",
        "y'(0) = 1 \\\\\n",
        "y''(0) = 1\n",
        "$"
      ]
    },
    {
      "cell_type": "code",
      "execution_count": 98,
      "metadata": {
        "colab": {
          "base_uri": "https://localhost:8080/",
          "height": 39
        },
        "id": "q7QRx-ISPk8Z",
        "outputId": "6d84f92b-d082-48d6-95be-3d4794144677",
        "scrolled": true
      },
      "outputs": [
        {
          "output_type": "display_data",
          "data": {
            "text/plain": [
              "Eq(y(x), x**3 + exp(x))"
            ],
            "text/latex": "$\\displaystyle y{\\left(x \\right)} = x^{3} + e^{x}$"
          },
          "metadata": {}
        }
      ],
      "source": [
        "x = symbols(\"x\", real=True)\n",
        "y = symbols(\"y\", cls=Function)\n",
        "de = Eq(y(x).diff(x,x,x) - y(x).diff(x) , 3*(2-x**2))\n",
        "Y = dsolve(de, y(x) , ics={y(0): 1, y(x).diff(x).subs(x,0): 1, y(x).diff(x,x).subs(x,0): 1})\n",
        "display(Y)"
      ]
    },
    {
      "cell_type": "code",
      "execution_count": 99,
      "metadata": {
        "colab": {
          "base_uri": "https://localhost:8080/"
        },
        "id": "6nm1L_T2YbPX",
        "outputId": "400cd2f2-bf70-406e-9e3e-cc19245a67b3"
      },
      "outputs": [
        {
          "output_type": "execute_result",
          "data": {
            "text/plain": [
              "(True, 0)"
            ]
          },
          "metadata": {},
          "execution_count": 99
        }
      ],
      "source": [
        "checkodesol(de, Y)"
      ]
    },
    {
      "cell_type": "code",
      "execution_count": 100,
      "metadata": {
        "colab": {
          "base_uri": "https://localhost:8080/"
        },
        "id": "vP9nWevuYbPX",
        "outputId": "62b2213c-28a7-4986-e3dd-791e8c0cb932"
      },
      "outputs": [
        {
          "output_type": "stream",
          "name": "stdout",
          "text": [
            "1 1 1\n"
          ]
        }
      ],
      "source": [
        "sol = Y.rhs\n",
        "y0 = sol.subs(x,0)\n",
        "y1 = sol.diff(x).subs(x,0)\n",
        "y2 = sol.diff(x,x).subs(x,0)\n",
        "print(y0,y1,y2)"
      ]
    },
    {
      "cell_type": "markdown",
      "metadata": {
        "id": "9cqjgOuD0sNm"
      },
      "source": [
        "# Exercise 4.6.4\n",
        "\n",
        "$\n",
        "y'' - 2y' +y = x \\\\\n",
        "y(0) = 1 \\\\\n",
        "y'(0) = 1\n",
        "$"
      ]
    },
    {
      "cell_type": "code",
      "execution_count": 101,
      "metadata": {
        "colab": {
          "base_uri": "https://localhost:8080/",
          "height": 39
        },
        "id": "F2XrqI4X0sNo",
        "outputId": "56e8126f-0a10-4ad7-c19e-30f9ba6247e7",
        "scrolled": true
      },
      "outputs": [
        {
          "output_type": "display_data",
          "data": {
            "text/plain": [
              "Eq(y(x), x + (x - 1)*exp(x) + 2)"
            ],
            "text/latex": "$\\displaystyle y{\\left(x \\right)} = x + \\left(x - 1\\right) e^{x} + 2$"
          },
          "metadata": {}
        }
      ],
      "source": [
        "x = symbols(\"x\", real=True)\n",
        "y = symbols(\"y\", cls=Function)\n",
        "de = Eq(y(x).diff(x,x) - 2*y(x).diff(x) + y(x) , x)\n",
        "Y = dsolve(de, y(x) , ics={y(0): 1, y(x).diff(x).subs(x,0): 1})\n",
        "display(Y)"
      ]
    },
    {
      "cell_type": "code",
      "execution_count": 102,
      "metadata": {
        "colab": {
          "base_uri": "https://localhost:8080/"
        },
        "id": "MYRW5mJjYbPY",
        "outputId": "250527b6-8212-43c6-a905-528ae6da54b0"
      },
      "outputs": [
        {
          "output_type": "execute_result",
          "data": {
            "text/plain": [
              "(True, 0)"
            ]
          },
          "metadata": {},
          "execution_count": 102
        }
      ],
      "source": [
        "checkodesol(de, Y)"
      ]
    },
    {
      "cell_type": "code",
      "execution_count": 103,
      "metadata": {
        "colab": {
          "base_uri": "https://localhost:8080/"
        },
        "id": "yPqmc5T5YbPY",
        "outputId": "7cb12625-7df3-43f2-86cf-4b25bb55247b"
      },
      "outputs": [
        {
          "output_type": "stream",
          "name": "stdout",
          "text": [
            "1 1\n"
          ]
        }
      ],
      "source": [
        "sol = Y.rhs\n",
        "y0 = sol.subs(x,0)\n",
        "y1 = sol.diff(x).subs(x,0)\n",
        "print(y0,y1)"
      ]
    },
    {
      "cell_type": "markdown",
      "metadata": {
        "id": "XBqtwN7eNwBB"
      },
      "source": [
        "# Exercise 4.6.5\n",
        "\n",
        "$\n",
        "y'' - 6y' + 9y = 50\\sin x \\\\\n",
        "y(0) = 0 \\\\\n",
        "y'(0) = 1 \\\\\n",
        "y''(0) = -2\n",
        "$"
      ]
    },
    {
      "cell_type": "code",
      "execution_count": 104,
      "metadata": {
        "colab": {
          "base_uri": "https://localhost:8080/",
          "height": 58
        },
        "id": "GW6StMwuNwBK",
        "outputId": "e30b3590-0333-40aa-d57e-477e90bea1c5",
        "scrolled": true
      },
      "outputs": [
        {
          "output_type": "display_data",
          "data": {
            "text/plain": [
              "Eq(y(x), x/9 + (10*x/9 - 2/27)*exp(3*x) + 2/27)"
            ],
            "text/latex": "$\\displaystyle y{\\left(x \\right)} = \\frac{x}{9} + \\left(\\frac{10 x}{9} - \\frac{2}{27}\\right) e^{3 x} + \\frac{2}{27}$"
          },
          "metadata": {}
        }
      ],
      "source": [
        "x = symbols(\"x\", real=True)\n",
        "y = symbols(\"y\", cls=Function)\n",
        "de = Eq(y(x).diff(x,x) - 6*y(x).diff(x) + 9*y(x) , x)\n",
        "Y = dsolve(de, y(x) , ics={y(0): 0, y(x).diff(x).subs(x,0): 1})\n",
        "display(Y)"
      ]
    },
    {
      "cell_type": "code",
      "execution_count": 105,
      "metadata": {
        "colab": {
          "base_uri": "https://localhost:8080/"
        },
        "id": "GyU7grKONwBK",
        "outputId": "85cd02ea-16da-4367-defb-19b32bbb44be"
      },
      "outputs": [
        {
          "output_type": "execute_result",
          "data": {
            "text/plain": [
              "(True, 0)"
            ]
          },
          "metadata": {},
          "execution_count": 105
        }
      ],
      "source": [
        "checkodesol(de, Y)"
      ]
    },
    {
      "cell_type": "code",
      "execution_count": 106,
      "metadata": {
        "colab": {
          "base_uri": "https://localhost:8080/"
        },
        "id": "r3kIJZ3MYbPZ",
        "outputId": "506e333f-8e60-4cce-fb92-63c03777ee3a"
      },
      "outputs": [
        {
          "output_type": "stream",
          "name": "stdout",
          "text": [
            "0 1 6\n"
          ]
        }
      ],
      "source": [
        "sol = Y.rhs\n",
        "y0 = sol.subs(x,0)\n",
        "y1 = sol.diff(x).subs(x,0)\n",
        "y2 = sol.diff(x,x).subs(x,0)\n",
        "print(y0,y1,y2)"
      ]
    },
    {
      "cell_type": "markdown",
      "metadata": {
        "id": "t42TJob2YbPa"
      },
      "source": [
        "* The second derivative at $x=0$ is $y''(0)=6$,\n",
        "  so there is no solution to our problem!\n",
        "  This follows from the uniqueness theorem.\n",
        "* You can add the third condition to this proble as follows\n",
        "  and watch Sympy response ..."
      ]
    },
    {
      "cell_type": "code",
      "execution_count": 107,
      "metadata": {
        "id": "OHj5-bh3YbPa"
      },
      "outputs": [],
      "source": [
        "# dsolve(de, y(x) , ics={y(0): 0, y(x).diff(x).subs(x,0): 1, y(x).diff(x,x).subs(x,0): -2})"
      ]
    },
    {
      "cell_type": "markdown",
      "metadata": {
        "id": "K-87_t9yjEFF"
      },
      "source": [
        "# Exercise 4.6.6\n",
        "\n",
        "$\n",
        "y'' - 2y' + y = xe^x + 4 \\\\\n",
        "y(0) = 0 \\\\\n",
        "y'(0) = 1\n",
        "$"
      ]
    },
    {
      "cell_type": "code",
      "execution_count": 108,
      "metadata": {
        "colab": {
          "base_uri": "https://localhost:8080/",
          "height": 58
        },
        "id": "c4z26FxUjEFa",
        "outputId": "9e2a3ea1-3745-4a53-d07a-6cc61a41e828",
        "scrolled": true
      },
      "outputs": [
        {
          "output_type": "display_data",
          "data": {
            "text/plain": [
              "Eq(y(x), (x*(x**2/6 + 5) - 4)*exp(x) + 4)"
            ],
            "text/latex": "$\\displaystyle y{\\left(x \\right)} = \\left(x \\left(\\frac{x^{2}}{6} + 5\\right) - 4\\right) e^{x} + 4$"
          },
          "metadata": {}
        }
      ],
      "source": [
        "x = symbols(\"x\", real=True)\n",
        "y = symbols(\"y\", cls=Function)\n",
        "de = Eq(y(x).diff(x,x) - 2*y(x).diff(x) + y(x) , x*exp(x) + 4)\n",
        "Y = dsolve(de, y(x) , ics={y(0): 0, y(x).diff(x).subs(x,0): 1})\n",
        "display(Y)"
      ]
    },
    {
      "cell_type": "code",
      "execution_count": 109,
      "metadata": {
        "colab": {
          "base_uri": "https://localhost:8080/",
          "height": 54
        },
        "id": "9_g6aGkEYbPb",
        "outputId": "ea8aee96-a589-4d75-a254-b1ee92f1eee4"
      },
      "outputs": [
        {
          "output_type": "execute_result",
          "data": {
            "text/plain": [
              "Eq(y(x), x**3*exp(x)/6 + 5*x*exp(x) - 4*exp(x) + 4)"
            ],
            "text/latex": "$\\displaystyle y{\\left(x \\right)} = \\frac{x^{3} e^{x}}{6} + 5 x e^{x} - 4 e^{x} + 4$"
          },
          "metadata": {},
          "execution_count": 109
        }
      ],
      "source": [
        "expand(Y)"
      ]
    },
    {
      "cell_type": "code",
      "execution_count": 110,
      "metadata": {
        "colab": {
          "base_uri": "https://localhost:8080/"
        },
        "id": "St7IMPEIYbPb",
        "outputId": "144129dc-d84b-485e-b9fb-60a2ce4df028"
      },
      "outputs": [
        {
          "output_type": "execute_result",
          "data": {
            "text/plain": [
              "(True, 0)"
            ]
          },
          "metadata": {},
          "execution_count": 110
        }
      ],
      "source": [
        "checkodesol(de, Y)"
      ]
    },
    {
      "cell_type": "code",
      "execution_count": 111,
      "metadata": {
        "colab": {
          "base_uri": "https://localhost:8080/"
        },
        "id": "5CkfjQwxYbPb",
        "outputId": "9073b9f6-d7e2-414d-c34a-35a82d41349a"
      },
      "outputs": [
        {
          "output_type": "stream",
          "name": "stdout",
          "text": [
            "0 1\n"
          ]
        }
      ],
      "source": [
        "sol = Y.rhs\n",
        "y0 = sol.subs(x,0)\n",
        "y1 = sol.diff(x).subs(x,0)\n",
        "print(y0,y1)"
      ]
    },
    {
      "cell_type": "markdown",
      "metadata": {
        "id": "Y1sI31FxYbPc"
      },
      "source": [
        "# Exercise 4.6.7\n",
        "\n",
        "$\n",
        "y'' + 2y' + y = xe^{-x} \\\\\n",
        "y(0) = 1 \\\\\n",
        "y'(0) = 0\n",
        "$"
      ]
    },
    {
      "cell_type": "code",
      "execution_count": 112,
      "metadata": {
        "colab": {
          "base_uri": "https://localhost:8080/",
          "height": 58
        },
        "id": "XLAwVjl_YbPc",
        "outputId": "6a21880b-c9bc-4b1e-e64a-1e932caba4b6",
        "scrolled": true
      },
      "outputs": [
        {
          "output_type": "display_data",
          "data": {
            "text/plain": [
              "Eq(y(x), (x - 1)*exp(x)/4 + (5*x/4 + 5/4)*exp(-x))"
            ],
            "text/latex": "$\\displaystyle y{\\left(x \\right)} = \\frac{\\left(x - 1\\right) e^{x}}{4} + \\left(\\frac{5 x}{4} + \\frac{5}{4}\\right) e^{- x}$"
          },
          "metadata": {}
        }
      ],
      "source": [
        "x = symbols(\"x\", real=True)\n",
        "y = symbols(\"y\", cls=Function)\n",
        "de = Eq(y(x).diff(x,x) + 2*y(x).diff(x) + y(x) , x*exp(x))\n",
        "Y = dsolve(de, y(x) , ics={y(0): 1, y(x).diff(x).subs(x,0): 0})\n",
        "display(Y)"
      ]
    },
    {
      "cell_type": "code",
      "execution_count": 113,
      "metadata": {
        "colab": {
          "base_uri": "https://localhost:8080/",
          "height": 53
        },
        "id": "6cKtomUSYbPc",
        "outputId": "0af4b8d0-c269-4327-f5ef-fd78642a394f"
      },
      "outputs": [
        {
          "output_type": "execute_result",
          "data": {
            "text/plain": [
              "Eq(y(x), x*exp(x)/4 + 5*x*exp(-x)/4 - exp(x)/4 + 5*exp(-x)/4)"
            ],
            "text/latex": "$\\displaystyle y{\\left(x \\right)} = \\frac{x e^{x}}{4} + \\frac{5 x e^{- x}}{4} - \\frac{e^{x}}{4} + \\frac{5 e^{- x}}{4}$"
          },
          "metadata": {},
          "execution_count": 113
        }
      ],
      "source": [
        "expand(Y)"
      ]
    },
    {
      "cell_type": "code",
      "execution_count": 114,
      "metadata": {
        "colab": {
          "base_uri": "https://localhost:8080/"
        },
        "id": "vFtmflY3YbPd",
        "outputId": "fd424968-b954-4665-9ba4-38d887405e26"
      },
      "outputs": [
        {
          "output_type": "execute_result",
          "data": {
            "text/plain": [
              "(True, 0)"
            ]
          },
          "metadata": {},
          "execution_count": 114
        }
      ],
      "source": [
        "checkodesol(de, Y)"
      ]
    },
    {
      "cell_type": "code",
      "execution_count": 115,
      "metadata": {
        "colab": {
          "base_uri": "https://localhost:8080/"
        },
        "id": "2fSGk16VYbPd",
        "outputId": "3f897d5f-dede-4b0c-d551-e19a4d0334ed"
      },
      "outputs": [
        {
          "output_type": "stream",
          "name": "stdout",
          "text": [
            "1 0\n"
          ]
        }
      ],
      "source": [
        "sol = Y.rhs\n",
        "y0 = sol.subs(x,0)\n",
        "y1 = sol.diff(x).subs(x,0)\n",
        "print(y0,y1)"
      ]
    },
    {
      "cell_type": "markdown",
      "metadata": {
        "id": "5eKIjOgIYbPd"
      },
      "source": [
        "# Exercise 4.10\n",
        "\n",
        "$\n",
        "y'''+3y''+3y'+y=0 \\\\\n",
        "y(0) = 1 \\\\\n",
        "y'(0) = 0 \\\\\n",
        "y''(0) = 1\n",
        "$"
      ]
    },
    {
      "cell_type": "code",
      "execution_count": 116,
      "metadata": {
        "colab": {
          "base_uri": "https://localhost:8080/",
          "height": 39
        },
        "id": "dxyDqhC0YbPd",
        "outputId": "52840642-f84f-4246-bffc-e41438afdfe0",
        "scrolled": true
      },
      "outputs": [
        {
          "output_type": "display_data",
          "data": {
            "text/plain": [
              "Eq(y(x), (x*(x + 1) + 1)*exp(-x))"
            ],
            "text/latex": "$\\displaystyle y{\\left(x \\right)} = \\left(x \\left(x + 1\\right) + 1\\right) e^{- x}$"
          },
          "metadata": {}
        }
      ],
      "source": [
        "x = symbols(\"x\", real=True)\n",
        "y = symbols(\"y\", cls=Function)\n",
        "de = Eq(y(x).diff(x,x,x) + 3*y(x).diff(x,x) + 3*y(x).diff(x) + y(x) , 0)\n",
        "Y = dsolve(de, y(x) , ics={y(0): 1, y(x).diff(x).subs(x,0): 0, y(x).diff(x,x).subs(x,0): 1})\n",
        "display(Y)"
      ]
    },
    {
      "cell_type": "code",
      "execution_count": 117,
      "metadata": {
        "colab": {
          "base_uri": "https://localhost:8080/",
          "height": 39
        },
        "id": "UKrTQ7AXYbPe",
        "outputId": "4215409d-3cd5-476f-c353-11618ec3fbf9"
      },
      "outputs": [
        {
          "output_type": "execute_result",
          "data": {
            "text/plain": [
              "Eq(y(x), x**2*exp(-x) + x*exp(-x) + exp(-x))"
            ],
            "text/latex": "$\\displaystyle y{\\left(x \\right)} = x^{2} e^{- x} + x e^{- x} + e^{- x}$"
          },
          "metadata": {},
          "execution_count": 117
        }
      ],
      "source": [
        "expand(Y)"
      ]
    },
    {
      "cell_type": "code",
      "execution_count": 118,
      "metadata": {
        "colab": {
          "base_uri": "https://localhost:8080/"
        },
        "id": "FfHXY3huYbPe",
        "outputId": "d1c86e42-627f-4da5-ece1-49db0953e16a"
      },
      "outputs": [
        {
          "output_type": "execute_result",
          "data": {
            "text/plain": [
              "(True, 0)"
            ]
          },
          "metadata": {},
          "execution_count": 118
        }
      ],
      "source": [
        "checkodesol(de, Y)"
      ]
    },
    {
      "cell_type": "code",
      "execution_count": 119,
      "metadata": {
        "colab": {
          "base_uri": "https://localhost:8080/"
        },
        "id": "C4cRJRJLYbPe",
        "outputId": "21450ba3-c304-4420-9170-ef8308b864a7"
      },
      "outputs": [
        {
          "output_type": "stream",
          "name": "stdout",
          "text": [
            "1 0 1\n"
          ]
        }
      ],
      "source": [
        "sol = Y.rhs\n",
        "y0 = sol.subs(x,0)\n",
        "y1 = sol.diff(x).subs(x,0)\n",
        "y2 = sol.diff(x,x).subs(x,0)\n",
        "print(y0,y1,y2)"
      ]
    },
    {
      "cell_type": "markdown",
      "metadata": {
        "id": "P4LdG4k5YbPf"
      },
      "source": [
        "# Exercise 4.11\n",
        "\n",
        "$\n",
        "y''+4y=0 \\\\\n",
        "y(0) = 0 \\\\\n",
        "y'(0) = 1\n",
        "$"
      ]
    },
    {
      "cell_type": "code",
      "execution_count": 120,
      "metadata": {
        "colab": {
          "base_uri": "https://localhost:8080/",
          "height": 53
        },
        "id": "y8odhkjyYbPf",
        "outputId": "a71be496-aa3f-45c6-cf48-d0b5f2ede9ed",
        "scrolled": true
      },
      "outputs": [
        {
          "output_type": "display_data",
          "data": {
            "text/plain": [
              "Eq(y(x), sin(2*x)/2)"
            ],
            "text/latex": "$\\displaystyle y{\\left(x \\right)} = \\frac{\\sin{\\left(2 x \\right)}}{2}$"
          },
          "metadata": {}
        }
      ],
      "source": [
        "x = symbols(\"x\", real=True)\n",
        "y = symbols(\"y\", cls=Function)\n",
        "de = Eq(y(x).diff(x,x) + 4*y(x) , 0)\n",
        "Y = dsolve(de, y(x) , ics={y(0): 0, y(x).diff(x).subs(x,0): 1})\n",
        "display(Y)"
      ]
    },
    {
      "cell_type": "code",
      "execution_count": 121,
      "metadata": {
        "colab": {
          "base_uri": "https://localhost:8080/"
        },
        "id": "Iu7hBsTUYbPf",
        "outputId": "d5048660-e6f4-4b6e-8dd8-17ac7eec17c7"
      },
      "outputs": [
        {
          "output_type": "execute_result",
          "data": {
            "text/plain": [
              "(True, 0)"
            ]
          },
          "metadata": {},
          "execution_count": 121
        }
      ],
      "source": [
        "checkodesol(de, Y)"
      ]
    },
    {
      "cell_type": "code",
      "execution_count": 122,
      "metadata": {
        "colab": {
          "base_uri": "https://localhost:8080/"
        },
        "id": "VRjt2BwYYbPg",
        "outputId": "d529572c-1517-4d1d-cae8-52b1e99bd457"
      },
      "outputs": [
        {
          "output_type": "stream",
          "name": "stdout",
          "text": [
            "0 1\n"
          ]
        }
      ],
      "source": [
        "sol = Y.rhs\n",
        "y0 = sol.subs(x,0)\n",
        "y1 = sol.diff(x).subs(x,0)\n",
        "print(y0,y1)"
      ]
    },
    {
      "cell_type": "markdown",
      "metadata": {
        "id": "dr8OIQZPYbPg"
      },
      "source": [
        "# Exercise 4.12.1\n",
        "\n",
        "$x^2 y'' + xy' + 4y = 10x$"
      ]
    },
    {
      "cell_type": "code",
      "execution_count": 123,
      "metadata": {
        "colab": {
          "base_uri": "https://localhost:8080/",
          "height": 39
        },
        "id": "lqr_GWRYYbPg",
        "outputId": "4dbe3570-c8ee-4d96-f43d-3504dad7f29f",
        "scrolled": true
      },
      "outputs": [
        {
          "output_type": "display_data",
          "data": {
            "text/plain": [
              "Eq(y(x), C1*sin(2*log(x)) + C2*cos(2*log(x)) + 2*x)"
            ],
            "text/latex": "$\\displaystyle y{\\left(x \\right)} = C_{1} \\sin{\\left(2 \\log{\\left(x \\right)} \\right)} + C_{2} \\cos{\\left(2 \\log{\\left(x \\right)} \\right)} + 2 x$"
          },
          "metadata": {}
        }
      ],
      "source": [
        "x = symbols(\"x\", real=True)\n",
        "y = symbols(\"y\", cls=Function)\n",
        "de = Eq(x**2 * y(x).diff(x,x) + x*y(x).diff(x) + 4*y(x) , 10*x)\n",
        "Y = dsolve(de)\n",
        "display(Y)"
      ]
    },
    {
      "cell_type": "code",
      "execution_count": 124,
      "metadata": {
        "colab": {
          "base_uri": "https://localhost:8080/"
        },
        "id": "BB_4Wp45YbPg",
        "outputId": "d53d8daf-13e8-4f6d-a3ab-3295795aeb1f"
      },
      "outputs": [
        {
          "output_type": "execute_result",
          "data": {
            "text/plain": [
              "(True, 0)"
            ]
          },
          "metadata": {},
          "execution_count": 124
        }
      ],
      "source": [
        "checkodesol(de, Y)"
      ]
    },
    {
      "cell_type": "markdown",
      "metadata": {
        "id": "8JNICdkKYbPh"
      },
      "source": [
        "# Exercise 4.12.2\n",
        "\n",
        "$x^2 y'' - 3xy' + 5y = 3x^2$"
      ]
    },
    {
      "cell_type": "code",
      "execution_count": 125,
      "metadata": {
        "colab": {
          "base_uri": "https://localhost:8080/",
          "height": 39
        },
        "id": "ECMtcylxYbPh",
        "outputId": "81d13538-f96f-4121-e4b7-fca19d11596c",
        "scrolled": true
      },
      "outputs": [
        {
          "output_type": "display_data",
          "data": {
            "text/plain": [
              "Eq(y(x), x**2*(C1*sin(log(x)) + C2*cos(log(x)) + 3))"
            ],
            "text/latex": "$\\displaystyle y{\\left(x \\right)} = x^{2} \\left(C_{1} \\sin{\\left(\\log{\\left(x \\right)} \\right)} + C_{2} \\cos{\\left(\\log{\\left(x \\right)} \\right)} + 3\\right)$"
          },
          "metadata": {}
        }
      ],
      "source": [
        "x = symbols(\"x\", real=True)\n",
        "y = symbols(\"y\", cls=Function)\n",
        "de = Eq(x**2 * y(x).diff(x,x) - 3*x*y(x).diff(x) + 5*y(x) , 3*x**2)\n",
        "Y = dsolve(de)\n",
        "display(Y)"
      ]
    },
    {
      "cell_type": "code",
      "execution_count": 126,
      "metadata": {
        "colab": {
          "base_uri": "https://localhost:8080/",
          "height": 39
        },
        "id": "LJ6nSaz1YbPh",
        "outputId": "239a84d3-c77a-4414-89d2-6742803496a6"
      },
      "outputs": [
        {
          "output_type": "execute_result",
          "data": {
            "text/plain": [
              "Eq(y(x), C1*x**2*sin(log(x)) + C2*x**2*cos(log(x)) + 3*x**2)"
            ],
            "text/latex": "$\\displaystyle y{\\left(x \\right)} = C_{1} x^{2} \\sin{\\left(\\log{\\left(x \\right)} \\right)} + C_{2} x^{2} \\cos{\\left(\\log{\\left(x \\right)} \\right)} + 3 x^{2}$"
          },
          "metadata": {},
          "execution_count": 126
        }
      ],
      "source": [
        "expand(Y)"
      ]
    },
    {
      "cell_type": "code",
      "execution_count": 127,
      "metadata": {
        "colab": {
          "base_uri": "https://localhost:8080/"
        },
        "id": "U1PB1GQDYbPh",
        "outputId": "c751864f-a65f-4eae-f0fa-487afa21b8cf"
      },
      "outputs": [
        {
          "output_type": "execute_result",
          "data": {
            "text/plain": [
              "(True, 0)"
            ]
          },
          "metadata": {},
          "execution_count": 127
        }
      ],
      "source": [
        "checkodesol(de, Y)"
      ]
    },
    {
      "cell_type": "markdown",
      "metadata": {
        "id": "o8qNkQ11YbPi"
      },
      "source": [
        "# Exercise 4.12.3\n",
        "\n",
        "$x^2 y'' - 6y = 5x^3 + 8x^2$"
      ]
    },
    {
      "cell_type": "code",
      "execution_count": 128,
      "metadata": {
        "colab": {
          "base_uri": "https://localhost:8080/",
          "height": 54
        },
        "id": "fFOkRLm4YbPi",
        "outputId": "d502ab1b-10e8-4274-c383-26eb87f57905",
        "scrolled": true
      },
      "outputs": [
        {
          "output_type": "display_data",
          "data": {
            "text/plain": [
              "Eq(y(x), (C1 + x**4*(C2*x + x*log(x) - 2))/x**2)"
            ],
            "text/latex": "$\\displaystyle y{\\left(x \\right)} = \\frac{C_{1} + x^{4} \\left(C_{2} x + x \\log{\\left(x \\right)} - 2\\right)}{x^{2}}$"
          },
          "metadata": {}
        }
      ],
      "source": [
        "x = symbols(\"x\", real=True)\n",
        "y = symbols(\"y\", cls=Function)\n",
        "de = Eq(x**2 * y(x).diff(x,x) - 6*y(x) , 5*x**3 + 8*x**2)\n",
        "Y = dsolve(de)\n",
        "display(Y)"
      ]
    },
    {
      "cell_type": "code",
      "execution_count": 129,
      "metadata": {
        "colab": {
          "base_uri": "https://localhost:8080/",
          "height": 52
        },
        "id": "oRZbXg7AYbPj",
        "outputId": "8f88e514-ade8-4b56-d42b-2c335971069b"
      },
      "outputs": [
        {
          "output_type": "execute_result",
          "data": {
            "text/plain": [
              "Eq(y(x), C1/x**2 + C2*x**3 + x**3*log(x) - 2*x**2)"
            ],
            "text/latex": "$\\displaystyle y{\\left(x \\right)} = \\frac{C_{1}}{x^{2}} + C_{2} x^{3} + x^{3} \\log{\\left(x \\right)} - 2 x^{2}$"
          },
          "metadata": {},
          "execution_count": 129
        }
      ],
      "source": [
        "expand(Y)"
      ]
    },
    {
      "cell_type": "code",
      "execution_count": 130,
      "metadata": {
        "colab": {
          "base_uri": "https://localhost:8080/"
        },
        "id": "JaBY5gdwYbPj",
        "outputId": "249b7991-b02b-4043-fc69-7d8645c1400c"
      },
      "outputs": [
        {
          "output_type": "execute_result",
          "data": {
            "text/plain": [
              "(True, 0)"
            ]
          },
          "metadata": {},
          "execution_count": 130
        }
      ],
      "source": [
        "checkodesol(de, Y)"
      ]
    },
    {
      "cell_type": "markdown",
      "metadata": {
        "id": "UbMsp_VSYbPj"
      },
      "source": [
        "# Exercise 4.12.4\n",
        "\n",
        "$x^2 y'' - 2y = \\sin(\\ln x)$"
      ]
    },
    {
      "cell_type": "code",
      "execution_count": 131,
      "metadata": {
        "colab": {
          "base_uri": "https://localhost:8080/",
          "height": 53
        },
        "id": "suHZjAqqYbPj",
        "outputId": "7794b5ea-d99f-4cb4-a723-61a3a087c91e",
        "scrolled": true
      },
      "outputs": [
        {
          "output_type": "display_data",
          "data": {
            "text/plain": [
              "Eq(y(x), C1/x + C2*x**2 - 3*sin(log(x))/10 + cos(log(x))/10)"
            ],
            "text/latex": "$\\displaystyle y{\\left(x \\right)} = \\frac{C_{1}}{x} + C_{2} x^{2} - \\frac{3 \\sin{\\left(\\log{\\left(x \\right)} \\right)}}{10} + \\frac{\\cos{\\left(\\log{\\left(x \\right)} \\right)}}{10}$"
          },
          "metadata": {}
        }
      ],
      "source": [
        "x = symbols(\"x\", real=True)\n",
        "y = symbols(\"y\", cls=Function)\n",
        "de = Eq(x**2 * y(x).diff(x,x) - 2*y(x) , sin(log(x)))\n",
        "Y = dsolve(de)\n",
        "display(Y)"
      ]
    },
    {
      "cell_type": "code",
      "execution_count": 132,
      "metadata": {
        "colab": {
          "base_uri": "https://localhost:8080/"
        },
        "id": "lGmwU22_YbPk",
        "outputId": "107acc3c-1ec5-4e77-b859-640abc1a714c"
      },
      "outputs": [
        {
          "output_type": "execute_result",
          "data": {
            "text/plain": [
              "(True, 0)"
            ]
          },
          "metadata": {},
          "execution_count": 132
        }
      ],
      "source": [
        "checkodesol(de, Y)"
      ]
    },
    {
      "cell_type": "markdown",
      "metadata": {
        "id": "_hc7I2DXYbPk"
      },
      "source": [
        "# Exercise 4.12.5\n",
        "\n",
        "$(1+x)^2 y'' - 3(1+x)y' + 4y = (1+x)^3$"
      ]
    },
    {
      "cell_type": "code",
      "execution_count": 133,
      "metadata": {
        "id": "aI6YXGEEYbPk",
        "scrolled": true
      },
      "outputs": [],
      "source": [
        "x = symbols(\"x\", real=True)\n",
        "y = symbols(\"y\", cls=Function)\n",
        "de = Eq((1+x)**2 * y(x).diff(x,x) - 3*(1+x)*y(x).diff(x) + 4*y(x) , (1+x)**3)\n",
        "# Y = dsolve(de, hint=\"nth_linear_euler_eq_nonhomogeneous_variation_of_parameters\")\n",
        "# display(Y)"
      ]
    },
    {
      "cell_type": "markdown",
      "metadata": {
        "id": "TxvJTm3oYbPk"
      },
      "source": [
        "* Sympy 1.11.1 failed on this euler type equation.\n",
        "* Mathdf solution:\n",
        "$$\n",
        "y=C_{1}\\,\\left({x}^{2}\\,\\ln\\left(x+1\\right)+2\\,x\\,\\ln\\left(x+1\\right)+\\ln\\left(x+1\\right)\\right)+{x}^{3}+C\\,\\left({x}^{2}+2\\,x+1\\right)+3\\,{x}^{2}+3\\,x+1\n",
        "$$\n",
        "* For a step-by-step-solution click:\n",
        "[**Link to a step-by-step solution**](\n",
        "https://mathdf.com/dif/#expr=(1%2Bx)%5E2y'2-3(1%2Bx)y'%2B4y%3D(1%2Bx)%5E3&func=y&arg=x\n",
        ")"
      ]
    },
    {
      "cell_type": "markdown",
      "metadata": {
        "id": "3kRD7T_OYbPl"
      },
      "source": [
        "# Exercise 4.12.6\n",
        "\n",
        "$y'' - 2y' +y = \\dfrac{e^x}{x}$\n"
      ]
    },
    {
      "cell_type": "code",
      "execution_count": 134,
      "metadata": {
        "colab": {
          "base_uri": "https://localhost:8080/",
          "height": 39
        },
        "id": "bE4lQsYDYbPl",
        "outputId": "3ac24a83-1f20-457b-9129-4c144784ca6b",
        "scrolled": true
      },
      "outputs": [
        {
          "output_type": "display_data",
          "data": {
            "text/plain": [
              "Eq(y(x), (C1 + x*(C2 + log(x)))*exp(x))"
            ],
            "text/latex": "$\\displaystyle y{\\left(x \\right)} = \\left(C_{1} + x \\left(C_{2} + \\log{\\left(x \\right)}\\right)\\right) e^{x}$"
          },
          "metadata": {}
        }
      ],
      "source": [
        "x = symbols(\"x\", real=True)\n",
        "y = symbols(\"y\", cls=Function)\n",
        "de = Eq(y(x).diff(x,x) - 2*y(x).diff(x) + y(x) , exp(x) / x)\n",
        "Y = dsolve(de)\n",
        "display(Y)"
      ]
    },
    {
      "cell_type": "code",
      "execution_count": 135,
      "metadata": {
        "colab": {
          "base_uri": "https://localhost:8080/",
          "height": 39
        },
        "id": "vEJ5jcvcYbPl",
        "outputId": "4341c52b-2ce9-4610-a362-0c03ee636578"
      },
      "outputs": [
        {
          "output_type": "execute_result",
          "data": {
            "text/plain": [
              "Eq(y(x), C1*exp(x) + C2*x*exp(x) + x*exp(x)*log(x))"
            ],
            "text/latex": "$\\displaystyle y{\\left(x \\right)} = C_{1} e^{x} + C_{2} x e^{x} + x e^{x} \\log{\\left(x \\right)}$"
          },
          "metadata": {},
          "execution_count": 135
        }
      ],
      "source": [
        "expand(Y)"
      ]
    },
    {
      "cell_type": "code",
      "execution_count": 136,
      "metadata": {
        "colab": {
          "base_uri": "https://localhost:8080/"
        },
        "id": "GZYVepB3YbPl",
        "outputId": "2d3d7701-408e-4ff2-c6b2-b9a263bfc880"
      },
      "outputs": [
        {
          "output_type": "execute_result",
          "data": {
            "text/plain": [
              "(True, 0)"
            ]
          },
          "metadata": {},
          "execution_count": 136
        }
      ],
      "source": [
        "checkodesol(de, Y)"
      ]
    },
    {
      "cell_type": "markdown",
      "metadata": {
        "id": "gFfewtRXYbPm"
      },
      "source": [
        "# Exercise 4.12.7\n",
        "\n",
        "$y'' +y = \\dfrac{1}{\\sin x}$\n"
      ]
    },
    {
      "cell_type": "code",
      "execution_count": 137,
      "metadata": {
        "colab": {
          "base_uri": "https://localhost:8080/",
          "height": 39
        },
        "id": "f1Qt5y4VYbPm",
        "outputId": "c2c5b39e-12be-4e30-cec3-6b713281906a",
        "scrolled": true
      },
      "outputs": [
        {
          "output_type": "display_data",
          "data": {
            "text/plain": [
              "Eq(y(x), (C1 - x)*cos(x) + (C2 + log(sin(x)))*sin(x))"
            ],
            "text/latex": "$\\displaystyle y{\\left(x \\right)} = \\left(C_{1} - x\\right) \\cos{\\left(x \\right)} + \\left(C_{2} + \\log{\\left(\\sin{\\left(x \\right)} \\right)}\\right) \\sin{\\left(x \\right)}$"
          },
          "metadata": {}
        }
      ],
      "source": [
        "x = symbols(\"x\", real=True)\n",
        "y = symbols(\"y\", cls=Function)\n",
        "de = Eq(y(x).diff(x,x) + y(x) , 1 / sin(x))\n",
        "Y = dsolve(de)\n",
        "display(Y)"
      ]
    },
    {
      "cell_type": "code",
      "execution_count": 138,
      "metadata": {
        "colab": {
          "base_uri": "https://localhost:8080/",
          "height": 39
        },
        "id": "iRu3fw8AYbPm",
        "outputId": "4e6cc487-10fa-44cc-b535-3960f11fe6d4"
      },
      "outputs": [
        {
          "output_type": "execute_result",
          "data": {
            "text/plain": [
              "Eq(y(x), C1*cos(x) + C2*sin(x) - x*cos(x) + log(sin(x))*sin(x))"
            ],
            "text/latex": "$\\displaystyle y{\\left(x \\right)} = C_{1} \\cos{\\left(x \\right)} + C_{2} \\sin{\\left(x \\right)} - x \\cos{\\left(x \\right)} + \\log{\\left(\\sin{\\left(x \\right)} \\right)} \\sin{\\left(x \\right)}$"
          },
          "metadata": {},
          "execution_count": 138
        }
      ],
      "source": [
        "expand(Y)"
      ]
    },
    {
      "cell_type": "code",
      "execution_count": 139,
      "metadata": {
        "colab": {
          "base_uri": "https://localhost:8080/"
        },
        "id": "0O0X9e5QYbPm",
        "outputId": "842ea645-49bb-4a0a-b0c6-e7e28ff5e77f"
      },
      "outputs": [
        {
          "output_type": "execute_result",
          "data": {
            "text/plain": [
              "(True, 0)"
            ]
          },
          "metadata": {},
          "execution_count": 139
        }
      ],
      "source": [
        "checkodesol(de, Y)"
      ]
    },
    {
      "cell_type": "markdown",
      "metadata": {
        "id": "rYDvdEZIYbPn"
      },
      "source": [
        "# Exercise 4.12.8\n",
        "\n",
        "$y'' + 2y' + 5y = e^{-x}(\\cos^2 x + \\tan x)$\n"
      ]
    },
    {
      "cell_type": "code",
      "execution_count": 140,
      "metadata": {
        "colab": {
          "base_uri": "https://localhost:8080/",
          "height": 58
        },
        "id": "1DyZjmjAYbPn",
        "outputId": "1fac3ca5-33d2-4fea-9a61-1d6e446d5d09",
        "scrolled": true
      },
      "outputs": [
        {
          "output_type": "display_data",
          "data": {
            "text/plain": [
              "Eq(y(x), ((C1 - x/2)*cos(2*x) + (C2 + x/8 + log(cos(x))/2)*sin(2*x) + 1/8)*exp(-x))"
            ],
            "text/latex": "$\\displaystyle y{\\left(x \\right)} = \\left(\\left(C_{1} - \\frac{x}{2}\\right) \\cos{\\left(2 x \\right)} + \\left(C_{2} + \\frac{x}{8} + \\frac{\\log{\\left(\\cos{\\left(x \\right)} \\right)}}{2}\\right) \\sin{\\left(2 x \\right)} + \\frac{1}{8}\\right) e^{- x}$"
          },
          "metadata": {}
        }
      ],
      "source": [
        "x = symbols(\"x\", real=True)\n",
        "y = symbols(\"y\", cls=Function)\n",
        "de = Eq(y(x).diff(x,x) + 2*y(x).diff(x) + 5*y(x) , exp(-x) * (cos(x)**2 + tan(x)))\n",
        "Y = dsolve(de)\n",
        "display(Y)"
      ]
    },
    {
      "cell_type": "code",
      "execution_count": 141,
      "metadata": {
        "colab": {
          "base_uri": "https://localhost:8080/",
          "height": 53
        },
        "id": "tncWLwEjYbPn",
        "outputId": "6ce144ad-4b50-4db9-9a87-3dab5d5a47a3"
      },
      "outputs": [
        {
          "output_type": "execute_result",
          "data": {
            "text/plain": [
              "Eq(y(x), C1*exp(-x)*cos(2*x) + C2*exp(-x)*sin(2*x) + x*exp(-x)*sin(2*x)/8 - x*exp(-x)*cos(2*x)/2 + exp(-x)*log(cos(x))*sin(2*x)/2 + exp(-x)/8)"
            ],
            "text/latex": "$\\displaystyle y{\\left(x \\right)} = C_{1} e^{- x} \\cos{\\left(2 x \\right)} + C_{2} e^{- x} \\sin{\\left(2 x \\right)} + \\frac{x e^{- x} \\sin{\\left(2 x \\right)}}{8} - \\frac{x e^{- x} \\cos{\\left(2 x \\right)}}{2} + \\frac{e^{- x} \\log{\\left(\\cos{\\left(x \\right)} \\right)} \\sin{\\left(2 x \\right)}}{2} + \\frac{e^{- x}}{8}$"
          },
          "metadata": {},
          "execution_count": 141
        }
      ],
      "source": [
        "expand(Y)"
      ]
    },
    {
      "cell_type": "code",
      "execution_count": 142,
      "metadata": {
        "colab": {
          "base_uri": "https://localhost:8080/"
        },
        "id": "8FMWnjyZYbPn",
        "outputId": "a0eaef36-2c5c-4cad-a98e-ce34a3615fc8"
      },
      "outputs": [
        {
          "output_type": "execute_result",
          "data": {
            "text/plain": [
              "(True, 0)"
            ]
          },
          "metadata": {},
          "execution_count": 142
        }
      ],
      "source": [
        "checkodesol(de, Y)"
      ]
    },
    {
      "cell_type": "markdown",
      "metadata": {
        "id": "7ShoOROuYbPo"
      },
      "source": [
        "# Exercise 4.12.9\n",
        "\n",
        "$y''' + y' = \\sin x + x\\cos x$\n"
      ]
    },
    {
      "cell_type": "code",
      "execution_count": 143,
      "metadata": {
        "colab": {
          "base_uri": "https://localhost:8080/",
          "height": 58
        },
        "id": "HT79PEO9YbPo",
        "outputId": "a3fe1598-94a0-4260-ab6d-ffaf97d01891",
        "scrolled": true
      },
      "outputs": [
        {
          "output_type": "display_data",
          "data": {
            "text/plain": [
              "Eq(y(x), C1 + (C2 - x**2/4)*cos(x) + (C3 + x/4)*sin(x))"
            ],
            "text/latex": "$\\displaystyle y{\\left(x \\right)} = C_{1} + \\left(C_{2} - \\frac{x^{2}}{4}\\right) \\cos{\\left(x \\right)} + \\left(C_{3} + \\frac{x}{4}\\right) \\sin{\\left(x \\right)}$"
          },
          "metadata": {}
        }
      ],
      "source": [
        "x = symbols(\"x\", real=True)\n",
        "y = symbols(\"y\", cls=Function)\n",
        "de = Eq(y(x).diff(x,x,x) + y(x).diff(x) , sin(x) + x*cos(x))\n",
        "Y = dsolve(de)\n",
        "display(Y)"
      ]
    },
    {
      "cell_type": "code",
      "execution_count": 144,
      "metadata": {
        "colab": {
          "base_uri": "https://localhost:8080/",
          "height": 54
        },
        "id": "LLGEfTnAYbPo",
        "outputId": "bdc1cc03-c618-4f1f-e87e-35a4dd41da64"
      },
      "outputs": [
        {
          "output_type": "execute_result",
          "data": {
            "text/plain": [
              "Eq(y(x), C1 + C2*cos(x) + C3*sin(x) - x**2*cos(x)/4 + x*sin(x)/4)"
            ],
            "text/latex": "$\\displaystyle y{\\left(x \\right)} = C_{1} + C_{2} \\cos{\\left(x \\right)} + C_{3} \\sin{\\left(x \\right)} - \\frac{x^{2} \\cos{\\left(x \\right)}}{4} + \\frac{x \\sin{\\left(x \\right)}}{4}$"
          },
          "metadata": {},
          "execution_count": 144
        }
      ],
      "source": [
        "expand(Y)"
      ]
    },
    {
      "cell_type": "code",
      "execution_count": 145,
      "metadata": {
        "colab": {
          "base_uri": "https://localhost:8080/"
        },
        "id": "28LUUkKFYbPo",
        "outputId": "2b8ceba5-40a1-4476-f852-39dbb3fd4873"
      },
      "outputs": [
        {
          "output_type": "execute_result",
          "data": {
            "text/plain": [
              "(True, 0)"
            ]
          },
          "metadata": {},
          "execution_count": 145
        }
      ],
      "source": [
        "checkodesol(de, Y)"
      ]
    },
    {
      "cell_type": "markdown",
      "metadata": {
        "id": "K-Byd4LoYbPp"
      },
      "source": [
        "# Exercise 4.12.10\n",
        "\n",
        "$y^{(5)} + 4y' = x + 1 + \\cos 2x$\n"
      ]
    },
    {
      "cell_type": "code",
      "execution_count": 146,
      "metadata": {
        "colab": {
          "base_uri": "https://localhost:8080/",
          "height": 54
        },
        "id": "cZjwiA6SYbPp",
        "outputId": "28969666-de19-490f-eacf-00b478d964ed",
        "scrolled": true
      },
      "outputs": [
        {
          "output_type": "display_data",
          "data": {
            "text/plain": [
              "Eq(y(x), C1 + x**2/8 + x/4 + (C2*sin(x) + C3*cos(x))*exp(-x) + (C4*sin(x) + C5*cos(x))*exp(x) + sin(2*x)/40)"
            ],
            "text/latex": "$\\displaystyle y{\\left(x \\right)} = C_{1} + \\frac{x^{2}}{8} + \\frac{x}{4} + \\left(C_{2} \\sin{\\left(x \\right)} + C_{3} \\cos{\\left(x \\right)}\\right) e^{- x} + \\left(C_{4} \\sin{\\left(x \\right)} + C_{5} \\cos{\\left(x \\right)}\\right) e^{x} + \\frac{\\sin{\\left(2 x \\right)}}{40}$"
          },
          "metadata": {}
        }
      ],
      "source": [
        "x = symbols(\"x\", real=True)\n",
        "y = symbols(\"y\", cls=Function)\n",
        "de = Eq(y(x).diff(x,x,x,x,x) + 4*y(x).diff(x) , x+1+cos(2*x))\n",
        "Y = dsolve(de)\n",
        "display(Y)"
      ]
    },
    {
      "cell_type": "code",
      "execution_count": 147,
      "metadata": {
        "colab": {
          "base_uri": "https://localhost:8080/",
          "height": 54
        },
        "id": "o5xF6OX2YbPp",
        "outputId": "ae06c0ba-5e2d-46b5-81f6-bc035c8afc21"
      },
      "outputs": [
        {
          "output_type": "execute_result",
          "data": {
            "text/plain": [
              "Eq(y(x), C1 + C2*exp(-x)*sin(x) + C3*exp(-x)*cos(x) + C4*exp(x)*sin(x) + C5*exp(x)*cos(x) + x**2/8 + x/4 + sin(2*x)/40)"
            ],
            "text/latex": "$\\displaystyle y{\\left(x \\right)} = C_{1} + C_{2} e^{- x} \\sin{\\left(x \\right)} + C_{3} e^{- x} \\cos{\\left(x \\right)} + C_{4} e^{x} \\sin{\\left(x \\right)} + C_{5} e^{x} \\cos{\\left(x \\right)} + \\frac{x^{2}}{8} + \\frac{x}{4} + \\frac{\\sin{\\left(2 x \\right)}}{40}$"
          },
          "metadata": {},
          "execution_count": 147
        }
      ],
      "source": [
        "expand(Y)"
      ]
    },
    {
      "cell_type": "code",
      "execution_count": 148,
      "metadata": {
        "colab": {
          "base_uri": "https://localhost:8080/"
        },
        "id": "NdS3mcoeYbPp",
        "outputId": "9e802471-5b4e-4e94-d8bf-09e08ff2f40c"
      },
      "outputs": [
        {
          "output_type": "execute_result",
          "data": {
            "text/plain": [
              "(True, 0)"
            ]
          },
          "metadata": {},
          "execution_count": 148
        }
      ],
      "source": [
        "checkodesol(de, Y)"
      ]
    },
    {
      "cell_type": "markdown",
      "metadata": {
        "id": "uhYO9Yg1n2Kr"
      },
      "source": [
        "# Exercise 4.13.1\n",
        "\n",
        "$\n",
        "x^2y'' - xy' + y = 2x \\\\\n",
        "y(1) = 0 \\\\\n",
        "y'(1) = 1\n",
        "$"
      ]
    },
    {
      "cell_type": "code",
      "execution_count": 149,
      "metadata": {
        "colab": {
          "base_uri": "https://localhost:8080/",
          "height": 47
        },
        "outputId": "e8a23bad-96ed-4028-af99-3deafccf59f7",
        "scrolled": true,
        "id": "UyoZ58nNn2Kr"
      },
      "outputs": [
        {
          "output_type": "display_data",
          "data": {
            "text/plain": [
              "Eq(y(x), x*(log(x)**2 + log(x)))"
            ],
            "text/latex": "$\\displaystyle y{\\left(x \\right)} = x \\left(\\log{\\left(x \\right)}^{2} + \\log{\\left(x \\right)}\\right)$"
          },
          "metadata": {}
        }
      ],
      "source": [
        "x = symbols(\"x\", real=True)\n",
        "y = symbols(\"y\", cls=Function)\n",
        "de = Eq(x**2 * y(x).diff(x,x) - x*y(x).diff(x) + y(x) , 2*x)\n",
        "Y = dsolve(de, y(x) , ics={y(1): 0, y(x).diff(x).subs(x,1): 1})\n",
        "display(Y)"
      ]
    },
    {
      "cell_type": "code",
      "execution_count": 150,
      "metadata": {
        "colab": {
          "base_uri": "https://localhost:8080/",
          "height": 40
        },
        "outputId": "8065bb79-7602-4a6f-82f3-8fc2f800b018",
        "id": "y0iz0Eyqn2Ks"
      },
      "outputs": [
        {
          "output_type": "execute_result",
          "data": {
            "text/plain": [
              "Eq(y(x), x*log(x)**2 + x*log(x))"
            ],
            "text/latex": "$\\displaystyle y{\\left(x \\right)} = x \\log{\\left(x \\right)}^{2} + x \\log{\\left(x \\right)}$"
          },
          "metadata": {},
          "execution_count": 150
        }
      ],
      "source": [
        "expand(Y)"
      ]
    },
    {
      "cell_type": "code",
      "execution_count": 151,
      "metadata": {
        "colab": {
          "base_uri": "https://localhost:8080/"
        },
        "outputId": "d41c5d22-6454-442b-e333-a68d4d86746b",
        "id": "OfgeU4Enn2Ks"
      },
      "outputs": [
        {
          "output_type": "execute_result",
          "data": {
            "text/plain": [
              "(True, 0)"
            ]
          },
          "metadata": {},
          "execution_count": 151
        }
      ],
      "source": [
        "checkodesol(de, Y)"
      ]
    },
    {
      "cell_type": "markdown",
      "metadata": {
        "id": "25I03CfHn2Ks"
      },
      "source": [
        "# Exercise 4.13.2\n",
        "\n",
        "$\n",
        "x^2y'' - 3xy' + 13y = 0 \\\\\n",
        "y(1) = 1 \\\\\n",
        "y'(1) = -1\n",
        "$"
      ]
    },
    {
      "cell_type": "code",
      "execution_count": 152,
      "metadata": {
        "colab": {
          "base_uri": "https://localhost:8080/",
          "height": 39
        },
        "outputId": "c76d21ac-1a93-47b2-b3b2-d47292ad2fb3",
        "scrolled": true,
        "id": "wh0QWDljn2Ks"
      },
      "outputs": [
        {
          "output_type": "display_data",
          "data": {
            "text/plain": [
              "Eq(y(x), x**2*(-sin(3*log(x)) + cos(3*log(x))))"
            ],
            "text/latex": "$\\displaystyle y{\\left(x \\right)} = x^{2} \\left(- \\sin{\\left(3 \\log{\\left(x \\right)} \\right)} + \\cos{\\left(3 \\log{\\left(x \\right)} \\right)}\\right)$"
          },
          "metadata": {}
        }
      ],
      "source": [
        "x = symbols(\"x\", real=True)\n",
        "y = symbols(\"y\", cls=Function)\n",
        "de = Eq(x**2 * y(x).diff(x,x) - 3*x*y(x).diff(x) + 13*y(x) , 0)\n",
        "Y = dsolve(de, y(x) , ics={y(1): 1, y(x).diff(x).subs(x,1): -1})\n",
        "display(Y)"
      ]
    },
    {
      "cell_type": "code",
      "execution_count": 153,
      "metadata": {
        "colab": {
          "base_uri": "https://localhost:8080/",
          "height": 39
        },
        "outputId": "6c1fba32-4048-4854-ed7b-9452537f2788",
        "id": "FmKqyCXMn2Ks"
      },
      "outputs": [
        {
          "output_type": "execute_result",
          "data": {
            "text/plain": [
              "Eq(y(x), -x**2*sin(3*log(x)) + x**2*cos(3*log(x)))"
            ],
            "text/latex": "$\\displaystyle y{\\left(x \\right)} = - x^{2} \\sin{\\left(3 \\log{\\left(x \\right)} \\right)} + x^{2} \\cos{\\left(3 \\log{\\left(x \\right)} \\right)}$"
          },
          "metadata": {},
          "execution_count": 153
        }
      ],
      "source": [
        "expand(Y)"
      ]
    },
    {
      "cell_type": "code",
      "execution_count": 154,
      "metadata": {
        "colab": {
          "base_uri": "https://localhost:8080/"
        },
        "outputId": "22989d06-bf58-40de-ac3a-518b35a0c197",
        "id": "Ht5z_a8Sn2Ks"
      },
      "outputs": [
        {
          "output_type": "execute_result",
          "data": {
            "text/plain": [
              "(True, 0)"
            ]
          },
          "metadata": {},
          "execution_count": 154
        }
      ],
      "source": [
        "checkodesol(de, Y)"
      ]
    },
    {
      "cell_type": "markdown",
      "metadata": {
        "id": "eq86hmhwn2Ks"
      },
      "source": [
        "# Exercise 4.14.1\n",
        "\n",
        "$y''+y = \\cot x$"
      ]
    },
    {
      "cell_type": "code",
      "execution_count": 155,
      "metadata": {
        "colab": {
          "base_uri": "https://localhost:8080/",
          "height": 58
        },
        "outputId": "470e00f1-ff63-42af-9cb6-390931ba676e",
        "scrolled": true,
        "id": "Dsva7Lgvn2Ks"
      },
      "outputs": [
        {
          "output_type": "display_data",
          "data": {
            "text/plain": [
              "Eq(y(x), C2*cos(x) + (C1 + log(cos(x) - 1)/2 - log(cos(x) + 1)/2)*sin(x))"
            ],
            "text/latex": "$\\displaystyle y{\\left(x \\right)} = C_{2} \\cos{\\left(x \\right)} + \\left(C_{1} + \\frac{\\log{\\left(\\cos{\\left(x \\right)} - 1 \\right)}}{2} - \\frac{\\log{\\left(\\cos{\\left(x \\right)} + 1 \\right)}}{2}\\right) \\sin{\\left(x \\right)}$"
          },
          "metadata": {}
        }
      ],
      "source": [
        "x = symbols(\"x\", real=True)\n",
        "y = symbols(\"y\", cls=Function)\n",
        "de = Eq(y(x).diff(x,x) + y(x) , cot(x))\n",
        "Y = dsolve(de)\n",
        "display(Y)"
      ]
    },
    {
      "cell_type": "code",
      "execution_count": 156,
      "metadata": {
        "colab": {
          "base_uri": "https://localhost:8080/",
          "height": 53
        },
        "outputId": "f4a74e56-b2eb-46b7-cafc-e6507e8ec944",
        "id": "cXKpkZW-n2Kt"
      },
      "outputs": [
        {
          "output_type": "execute_result",
          "data": {
            "text/plain": [
              "Eq(y(x), C1*sin(x) + C2*cos(x) + log(cos(x) - 1)*sin(x)/2 - log(cos(x) + 1)*sin(x)/2)"
            ],
            "text/latex": "$\\displaystyle y{\\left(x \\right)} = C_{1} \\sin{\\left(x \\right)} + C_{2} \\cos{\\left(x \\right)} + \\frac{\\log{\\left(\\cos{\\left(x \\right)} - 1 \\right)} \\sin{\\left(x \\right)}}{2} - \\frac{\\log{\\left(\\cos{\\left(x \\right)} + 1 \\right)} \\sin{\\left(x \\right)}}{2}$"
          },
          "metadata": {},
          "execution_count": 156
        }
      ],
      "source": [
        "expand(Y)"
      ]
    },
    {
      "cell_type": "code",
      "execution_count": 157,
      "metadata": {
        "colab": {
          "base_uri": "https://localhost:8080/"
        },
        "outputId": "a5b59197-b5fa-4014-c124-76f5df594f8a",
        "id": "lJIj90IFn2Kt"
      },
      "outputs": [
        {
          "output_type": "execute_result",
          "data": {
            "text/plain": [
              "(True, 0)"
            ]
          },
          "metadata": {},
          "execution_count": 157
        }
      ],
      "source": [
        "checkodesol(de, Y)"
      ]
    },
    {
      "cell_type": "markdown",
      "metadata": {
        "id": "yz-HFoHkn2Kt"
      },
      "source": [
        "# Exercise 4.14.2\n",
        "\n",
        "$y'' + 2y' + y = \\dfrac{e^{-x}}{x}$"
      ]
    },
    {
      "cell_type": "code",
      "execution_count": 158,
      "metadata": {
        "colab": {
          "base_uri": "https://localhost:8080/",
          "height": 39
        },
        "outputId": "83627aa5-7f2d-4c86-b6d3-74757448a8cc",
        "scrolled": true,
        "id": "CQ7deHXGn2Kt"
      },
      "outputs": [
        {
          "output_type": "display_data",
          "data": {
            "text/plain": [
              "Eq(y(x), (C1 + x*(C2 + log(x)))*exp(-x))"
            ],
            "text/latex": "$\\displaystyle y{\\left(x \\right)} = \\left(C_{1} + x \\left(C_{2} + \\log{\\left(x \\right)}\\right)\\right) e^{- x}$"
          },
          "metadata": {}
        }
      ],
      "source": [
        "x = symbols(\"x\", real=True)\n",
        "y = symbols(\"y\", cls=Function)\n",
        "de = Eq(y(x).diff(x,x) + 2*y(x).diff(x) + y(x) , exp(-x)/x)\n",
        "Y = dsolve(de)\n",
        "display(Y)"
      ]
    },
    {
      "cell_type": "code",
      "execution_count": 159,
      "metadata": {
        "colab": {
          "base_uri": "https://localhost:8080/",
          "height": 39
        },
        "outputId": "7b561f0d-da8f-4d93-b2af-0d61053f6b41",
        "id": "YvgcRsrAn2Kt"
      },
      "outputs": [
        {
          "output_type": "execute_result",
          "data": {
            "text/plain": [
              "Eq(y(x), C1*exp(-x) + C2*x*exp(-x) + x*exp(-x)*log(x))"
            ],
            "text/latex": "$\\displaystyle y{\\left(x \\right)} = C_{1} e^{- x} + C_{2} x e^{- x} + x e^{- x} \\log{\\left(x \\right)}$"
          },
          "metadata": {},
          "execution_count": 159
        }
      ],
      "source": [
        "expand(Y)"
      ]
    },
    {
      "cell_type": "code",
      "execution_count": 160,
      "metadata": {
        "colab": {
          "base_uri": "https://localhost:8080/"
        },
        "outputId": "00e97a88-d359-45c6-f23d-be7bcadde620",
        "id": "sxdfeRS3n2Kt"
      },
      "outputs": [
        {
          "output_type": "execute_result",
          "data": {
            "text/plain": [
              "(True, 0)"
            ]
          },
          "metadata": {},
          "execution_count": 160
        }
      ],
      "source": [
        "checkodesol(de, Y)"
      ]
    },
    {
      "cell_type": "markdown",
      "metadata": {
        "id": "iTRuhsYGn2Kt"
      },
      "source": [
        "# Exercise 4.14.3\n",
        "\n",
        "$y'' + 5y' + 6y = \\dfrac{1}{e^{2x} + 1}$"
      ]
    },
    {
      "cell_type": "code",
      "execution_count": 161,
      "metadata": {
        "scrolled": true,
        "id": "DpPYvFrOn2Ku"
      },
      "outputs": [],
      "source": [
        "x = symbols(\"x\", real=True)\n",
        "y = symbols(\"y\", cls=Function)\n",
        "de = Eq(y(x).diff(x,x) + 5*y(x).diff(x) + 6*y(x) , 1 / (exp(2*x) + 1))\n",
        "# Y = dsolve(de)\n",
        "# display(Y)"
      ]
    },
    {
      "cell_type": "markdown",
      "metadata": {
        "id": "mtMAlMQHn2Ku"
      },
      "source": [
        "* This one seems to be hard. Sympy failed to solve.\n",
        "* Mathdf gave this solution:\n",
        "$$\n",
        "y=\\dfrac{\\arctan\\left({e}^{x}\\right)-C_{3}}{{e}^{3\\,x}}-\\dfrac{-\\ln\\left({e}^{2\\,x}+1\\right)-C_{2}}{2\\,{e}^{2\\,x}}\n",
        "$$\n",
        "\n",
        "* For a step-by-step-solution click:\n",
        "[**Link to a step-by-step solution**](\n",
        "https://mathdf.com/dif/#expr=y'2%2B5y'%2B6y%3D(1)%2F(e%5E(2x)%2B1)&func=y&arg=x\n",
        ")"
      ]
    },
    {
      "cell_type": "code",
      "execution_count": 162,
      "metadata": {
        "id": "jJ30Lvy3n2Ku"
      },
      "outputs": [],
      "source": [
        "x, C3, C2 = symbols(\"x C3 C2\", real=True)\n",
        "y = symbols(\"y\", cls=Function)\n",
        "Y = Eq(y(x), (atan(exp(x)) - C3) / exp(3*x)  +  (log(exp(2*x) + 1) + C2) / (2*exp(2*x)))\n",
        "#? checkodesol(de, Y)"
      ]
    },
    {
      "cell_type": "markdown",
      "metadata": {
        "id": "HU2OI5W2n2Ku"
      },
      "source": [
        "# Exercise 4.14.4\n",
        "\n",
        "$y'' - 4y' + 5y = \\dfrac{e^{2x}}{\\cos x}$\n"
      ]
    },
    {
      "cell_type": "code",
      "execution_count": 163,
      "metadata": {
        "colab": {
          "base_uri": "https://localhost:8080/",
          "height": 39
        },
        "outputId": "918f53c0-ec3f-4dba-fa57-50768905b22a",
        "scrolled": true,
        "id": "h4zvMKq0n2Ku"
      },
      "outputs": [
        {
          "output_type": "display_data",
          "data": {
            "text/plain": [
              "Eq(y(x), ((C1 + x)*sin(x) + (C2 + log(cos(x)))*cos(x))*exp(2*x))"
            ],
            "text/latex": "$\\displaystyle y{\\left(x \\right)} = \\left(\\left(C_{1} + x\\right) \\sin{\\left(x \\right)} + \\left(C_{2} + \\log{\\left(\\cos{\\left(x \\right)} \\right)}\\right) \\cos{\\left(x \\right)}\\right) e^{2 x}$"
          },
          "metadata": {}
        }
      ],
      "source": [
        "x = symbols(\"x\", real=True)\n",
        "y = symbols(\"y\", cls=Function)\n",
        "de = Eq(y(x).diff(x,x) - 4*y(x).diff(x) + 5*y(x) , exp(2*x)/cos(x))\n",
        "Y = dsolve(de)\n",
        "display(Y)"
      ]
    },
    {
      "cell_type": "code",
      "execution_count": 164,
      "metadata": {
        "colab": {
          "base_uri": "https://localhost:8080/",
          "height": 39
        },
        "outputId": "a8bcd45b-5916-4543-8d01-2163dbfdf1bc",
        "id": "SJGRg0fUn2Ku"
      },
      "outputs": [
        {
          "output_type": "execute_result",
          "data": {
            "text/plain": [
              "Eq(y(x), C1*exp(2*x)*sin(x) + C2*exp(2*x)*cos(x) + x*exp(2*x)*sin(x) + exp(2*x)*log(cos(x))*cos(x))"
            ],
            "text/latex": "$\\displaystyle y{\\left(x \\right)} = C_{1} e^{2 x} \\sin{\\left(x \\right)} + C_{2} e^{2 x} \\cos{\\left(x \\right)} + x e^{2 x} \\sin{\\left(x \\right)} + e^{2 x} \\log{\\left(\\cos{\\left(x \\right)} \\right)} \\cos{\\left(x \\right)}$"
          },
          "metadata": {},
          "execution_count": 164
        }
      ],
      "source": [
        "expand(Y)"
      ]
    },
    {
      "cell_type": "code",
      "execution_count": 165,
      "metadata": {
        "colab": {
          "base_uri": "https://localhost:8080/"
        },
        "outputId": "372f3f53-8046-4415-c0ee-ea4f76e43406",
        "id": "2UApHKd3n2Ku"
      },
      "outputs": [
        {
          "output_type": "execute_result",
          "data": {
            "text/plain": [
              "(True, 0)"
            ]
          },
          "metadata": {},
          "execution_count": 165
        }
      ],
      "source": [
        "checkodesol(de, Y)"
      ]
    },
    {
      "cell_type": "markdown",
      "metadata": {
        "id": "FNhIfcrtn2Ku"
      },
      "source": [
        "# Exercise 4.14.5\n",
        "\n",
        "$y''' + y = \\dfrac{\\sin x}{\\cos^2 x}$\n"
      ]
    },
    {
      "cell_type": "code",
      "execution_count": 166,
      "metadata": {
        "scrolled": true,
        "id": "NgtwQ_oEn2Ku"
      },
      "outputs": [],
      "source": [
        "x = symbols(\"x\", real=True)\n",
        "y = symbols(\"y\", cls=Function)\n",
        "de = Eq(y(x).diff(x,x,x) + y(x) , sin(x) / (cos(x)**2))\n",
        "# Y = dsolve(de)\n",
        "# display(Y)"
      ]
    },
    {
      "cell_type": "markdown",
      "metadata": {
        "id": "NQb4WgJhn2Kv"
      },
      "source": [
        "* Sympy 1.11.1 failed to give a solution (hangs forever).\n",
        "* Also Mathdf engine failed to give a solution.\n",
        "* Could be that this is unsolvable in terms of elementary functions.\n",
        "* Will wait for more feedback before it is dropped from the list."
      ]
    },
    {
      "cell_type": "markdown",
      "metadata": {
        "id": "ouFTmzesn2Kv"
      },
      "source": [
        "# Exercise 4.14.6\n",
        "\n",
        "$y''' + 4y = \\dfrac{1}{\\cos 2x}$\n"
      ]
    },
    {
      "cell_type": "code",
      "execution_count": 167,
      "metadata": {
        "scrolled": true,
        "id": "vTuvdM1nn2Kv"
      },
      "outputs": [],
      "source": [
        "x = symbols(\"x\", real=True)\n",
        "y = symbols(\"y\", cls=Function)\n",
        "de = Eq(y(x).diff(x,x,x) + 4*y(x) , 1 / cos(2*x))\n",
        "# Y = dsolve(de, hint=\"nth_linear_constant_coeff_variation_of_parameters\")\n",
        "# display(Y)"
      ]
    },
    {
      "cell_type": "markdown",
      "metadata": {
        "id": "_AHPizJtn2Kv"
      },
      "source": [
        "* Sympy 1.11.1 failed to give a solution (hangs forever).\n",
        "* Also Mathdf engine failed to give a solution.\n",
        "* Could be that this is unsolvable in terms of elementary functions.\n",
        "* Will wait for more feedback before it is dropped from the list."
      ]
    },
    {
      "cell_type": "code",
      "execution_count": 168,
      "metadata": {
        "colab": {
          "base_uri": "https://localhost:8080/",
          "height": 39
        },
        "outputId": "09d6255c-8a18-41ec-f040-4e9d7b22051f",
        "id": "P20cy1lCn2Kv"
      },
      "outputs": [
        {
          "output_type": "execute_result",
          "data": {
            "text/plain": [
              "Eq(y(x), C1*exp(2*x)*sin(x) + C2*exp(2*x)*cos(x) + x*exp(2*x)*sin(x) + exp(2*x)*log(cos(x))*cos(x))"
            ],
            "text/latex": "$\\displaystyle y{\\left(x \\right)} = C_{1} e^{2 x} \\sin{\\left(x \\right)} + C_{2} e^{2 x} \\cos{\\left(x \\right)} + x e^{2 x} \\sin{\\left(x \\right)} + e^{2 x} \\log{\\left(\\cos{\\left(x \\right)} \\right)} \\cos{\\left(x \\right)}$"
          },
          "metadata": {},
          "execution_count": 168
        }
      ],
      "source": [
        "expand(Y)"
      ]
    },
    {
      "cell_type": "code",
      "execution_count": 170,
      "metadata": {
        "id": "fp8G9VtCn2Kv"
      },
      "outputs": [],
      "source": [
        "#checkodesol(de, Y)"
      ]
    },
    {
      "cell_type": "markdown",
      "metadata": {
        "id": "pumwi1a6n2Kv"
      },
      "source": [
        "# Exercise 4.14.7\n",
        "\n",
        "$x^2y'' - xy' - 3y = 0$"
      ]
    },
    {
      "cell_type": "code",
      "execution_count": 171,
      "metadata": {
        "colab": {
          "base_uri": "https://localhost:8080/",
          "height": 52
        },
        "outputId": "eddd8f49-bf13-4759-b0f6-3ceee450cd7e",
        "scrolled": true,
        "id": "hnQpFY-wn2Kv"
      },
      "outputs": [
        {
          "output_type": "display_data",
          "data": {
            "text/plain": [
              "Eq(y(x), C1/x + C2*x**3)"
            ],
            "text/latex": "$\\displaystyle y{\\left(x \\right)} = \\frac{C_{1}}{x} + C_{2} x^{3}$"
          },
          "metadata": {}
        }
      ],
      "source": [
        "x = symbols(\"x\", real=True)\n",
        "y = symbols(\"y\", cls=Function)\n",
        "de = Eq(x**2 * y(x).diff(x,x) - x*y(x).diff(x) - 3*y(x) , 0)\n",
        "Y = dsolve(de, simplify=False)\n",
        "display(Y)"
      ]
    },
    {
      "cell_type": "code",
      "execution_count": 172,
      "metadata": {
        "colab": {
          "base_uri": "https://localhost:8080/",
          "height": 52
        },
        "outputId": "f2eb0603-a26e-46cb-8ded-1c1e1c8461c5",
        "id": "gn_L2YnFn2Kv"
      },
      "outputs": [
        {
          "output_type": "execute_result",
          "data": {
            "text/plain": [
              "Eq(y(x), C1/x + C2*x**3)"
            ],
            "text/latex": "$\\displaystyle y{\\left(x \\right)} = \\frac{C_{1}}{x} + C_{2} x^{3}$"
          },
          "metadata": {},
          "execution_count": 172
        }
      ],
      "source": [
        "expand(Y)"
      ]
    },
    {
      "cell_type": "code",
      "execution_count": 173,
      "metadata": {
        "colab": {
          "base_uri": "https://localhost:8080/"
        },
        "outputId": "87dc932f-d058-4700-c0f2-788179930005",
        "id": "6xLeIwAvn2Kw"
      },
      "outputs": [
        {
          "output_type": "execute_result",
          "data": {
            "text/plain": [
              "(True, 0)"
            ]
          },
          "metadata": {},
          "execution_count": 173
        }
      ],
      "source": [
        "checkodesol(de, Y)"
      ]
    },
    {
      "cell_type": "markdown",
      "metadata": {
        "id": "F6DJpY_Fn2Kw"
      },
      "source": [
        "# Exercise 4.14.8\n",
        "\n",
        "$x^2y'' - 2xy' + 2y = x^3 \\sin x$\n"
      ]
    },
    {
      "cell_type": "code",
      "execution_count": 174,
      "metadata": {
        "colab": {
          "base_uri": "https://localhost:8080/",
          "height": 39
        },
        "outputId": "e2c88477-7dfb-4836-f63d-b7537b4af83c",
        "scrolled": true,
        "id": "SyQihjM_n2Kw"
      },
      "outputs": [
        {
          "output_type": "display_data",
          "data": {
            "text/plain": [
              "Eq(y(x), x*(C1 + C2*x - sin(x)))"
            ],
            "text/latex": "$\\displaystyle y{\\left(x \\right)} = x \\left(C_{1} + C_{2} x - \\sin{\\left(x \\right)}\\right)$"
          },
          "metadata": {}
        }
      ],
      "source": [
        "x = symbols(\"x\", real=True)\n",
        "y = symbols(\"y\", cls=Function)\n",
        "de = Eq(x**2 * y(x).diff(x,x) - 2*x*y(x).diff(x) + 2*y(x) , x**3 * sin(x))\n",
        "Y = dsolve(de)\n",
        "display(Y)"
      ]
    },
    {
      "cell_type": "code",
      "execution_count": 175,
      "metadata": {
        "colab": {
          "base_uri": "https://localhost:8080/",
          "height": 39
        },
        "outputId": "4495f5d2-b16b-4dc3-a1a3-5a72517af8f5",
        "id": "pfYkBSQ3n2Kw"
      },
      "outputs": [
        {
          "output_type": "execute_result",
          "data": {
            "text/plain": [
              "Eq(y(x), C1*x + C2*x**2 - x*sin(x))"
            ],
            "text/latex": "$\\displaystyle y{\\left(x \\right)} = C_{1} x + C_{2} x^{2} - x \\sin{\\left(x \\right)}$"
          },
          "metadata": {},
          "execution_count": 175
        }
      ],
      "source": [
        "expand(Y)"
      ]
    },
    {
      "cell_type": "code",
      "execution_count": 176,
      "metadata": {
        "colab": {
          "base_uri": "https://localhost:8080/"
        },
        "outputId": "b510ed26-88eb-471d-bafb-0fb73770094d",
        "id": "M0U_RNxjn2Kw"
      },
      "outputs": [
        {
          "output_type": "execute_result",
          "data": {
            "text/plain": [
              "(True, 0)"
            ]
          },
          "metadata": {},
          "execution_count": 176
        }
      ],
      "source": [
        "checkodesol(de, Y)"
      ]
    },
    {
      "cell_type": "markdown",
      "metadata": {
        "id": "KDc05Ajgn2Kw"
      },
      "source": [
        "# Exercise 4.14.9\n",
        "\n",
        "$x^2 y'' - xy' + y = \\dfrac{\\ln x}{x} + \\dfrac{x}{\\ln x}$\n"
      ]
    },
    {
      "cell_type": "code",
      "execution_count": 177,
      "metadata": {
        "colab": {
          "base_uri": "https://localhost:8080/",
          "height": 53
        },
        "outputId": "1142eb17-5712-4ceb-b234-5a95d8ce001e",
        "scrolled": true,
        "id": "DgKgOaoWn2Kw"
      },
      "outputs": [
        {
          "output_type": "display_data",
          "data": {
            "text/plain": [
              "Eq(y(x), C1*x + C2*x*log(x) + x*log(x)*log(log(x)) - x*log(x) + log(x)/(4*x) + 1/(4*x))"
            ],
            "text/latex": "$\\displaystyle y{\\left(x \\right)} = C_{1} x + C_{2} x \\log{\\left(x \\right)} + x \\log{\\left(x \\right)} \\log{\\left(\\log{\\left(x \\right)} \\right)} - x \\log{\\left(x \\right)} + \\frac{\\log{\\left(x \\right)}}{4 x} + \\frac{1}{4 x}$"
          },
          "metadata": {}
        }
      ],
      "source": [
        "x = symbols(\"x\", real=True)\n",
        "y = symbols(\"y\", cls=Function)\n",
        "de = Eq(x**2 * y(x).diff(x,x) - x*y(x).diff(x) + y(x) , ln(x)/x + x/ln(x))\n",
        "Y = dsolve(de)\n",
        "display(Y)"
      ]
    },
    {
      "cell_type": "code",
      "execution_count": 178,
      "metadata": {
        "colab": {
          "base_uri": "https://localhost:8080/",
          "height": 53
        },
        "outputId": "61e29d69-9679-4f39-d30f-613254352f14",
        "id": "DxwsFau8n2Kx"
      },
      "outputs": [
        {
          "output_type": "execute_result",
          "data": {
            "text/plain": [
              "Eq(y(x), C1*x + C2*x*log(x) + x*log(x)*log(log(x)) - x*log(x) + log(x)/(4*x) + 1/(4*x))"
            ],
            "text/latex": "$\\displaystyle y{\\left(x \\right)} = C_{1} x + C_{2} x \\log{\\left(x \\right)} + x \\log{\\left(x \\right)} \\log{\\left(\\log{\\left(x \\right)} \\right)} - x \\log{\\left(x \\right)} + \\frac{\\log{\\left(x \\right)}}{4 x} + \\frac{1}{4 x}$"
          },
          "metadata": {},
          "execution_count": 178
        }
      ],
      "source": [
        "expand(Y)"
      ]
    },
    {
      "cell_type": "code",
      "execution_count": 179,
      "metadata": {
        "colab": {
          "base_uri": "https://localhost:8080/"
        },
        "outputId": "b861aff3-9809-4fd6-ee5d-d1828bc5d51f",
        "id": "k2ATSOszn2Kx"
      },
      "outputs": [
        {
          "output_type": "execute_result",
          "data": {
            "text/plain": [
              "(True, 0)"
            ]
          },
          "metadata": {},
          "execution_count": 179
        }
      ],
      "source": [
        "checkodesol(de, Y)"
      ]
    },
    {
      "cell_type": "markdown",
      "metadata": {
        "id": "fZmI2qLZn2Kx"
      },
      "source": [
        "# Exercise 4.14.10\n",
        "\n",
        "$x^2y'' - 4xy' + 6y = 0$\n"
      ]
    },
    {
      "cell_type": "code",
      "execution_count": 180,
      "metadata": {
        "colab": {
          "base_uri": "https://localhost:8080/",
          "height": 39
        },
        "outputId": "734cabff-4f42-40d6-ce6c-b9556f995c48",
        "scrolled": true,
        "id": "FWli2ilVn2Kx"
      },
      "outputs": [
        {
          "output_type": "display_data",
          "data": {
            "text/plain": [
              "Eq(y(x), x**2*(C1 + C2*x))"
            ],
            "text/latex": "$\\displaystyle y{\\left(x \\right)} = x^{2} \\left(C_{1} + C_{2} x\\right)$"
          },
          "metadata": {}
        }
      ],
      "source": [
        "x = symbols(\"x\", real=True)\n",
        "y = symbols(\"y\", cls=Function)\n",
        "de = Eq(x**2 * y(x).diff(x,x) - 4*x*y(x).diff(x) + 6*y(x) , 0)\n",
        "Y = dsolve(de)\n",
        "display(Y)"
      ]
    },
    {
      "cell_type": "code",
      "execution_count": 181,
      "metadata": {
        "colab": {
          "base_uri": "https://localhost:8080/",
          "height": 39
        },
        "outputId": "36764813-ca9d-40a0-bd7b-828347472c09",
        "id": "eGFGocU2n2Kx"
      },
      "outputs": [
        {
          "output_type": "execute_result",
          "data": {
            "text/plain": [
              "Eq(y(x), C1*x**2 + C2*x**3)"
            ],
            "text/latex": "$\\displaystyle y{\\left(x \\right)} = C_{1} x^{2} + C_{2} x^{3}$"
          },
          "metadata": {},
          "execution_count": 181
        }
      ],
      "source": [
        "expand(Y)"
      ]
    },
    {
      "cell_type": "code",
      "execution_count": 182,
      "metadata": {
        "colab": {
          "base_uri": "https://localhost:8080/"
        },
        "outputId": "053e14ba-4398-4f39-a0ba-4ae06fd1f8ef",
        "id": "6VRCNzRqn2Kx"
      },
      "outputs": [
        {
          "output_type": "execute_result",
          "data": {
            "text/plain": [
              "(True, 0)"
            ]
          },
          "metadata": {},
          "execution_count": 182
        }
      ],
      "source": [
        "checkodesol(de, Y)"
      ]
    },
    {
      "cell_type": "markdown",
      "metadata": {
        "id": "cYz1prvin2Kx"
      },
      "source": [
        "# Exercise 4.14.11\n",
        "\n",
        "$(x-2)^2y'' - 3(x-2)y' + 4y = x$\n"
      ]
    },
    {
      "cell_type": "markdown",
      "metadata": {
        "id": "3jDy6rqen2Kx"
      },
      "source": [
        "* This is an Euler type ode.\n",
        "* For some reason Sympy 1.11.1 does not identify it as such and fails.\n",
        "* We need to help Sympy by making a substitution as follows:"
      ]
    },
    {
      "cell_type": "code",
      "execution_count": 183,
      "metadata": {
        "colab": {
          "base_uri": "https://localhost:8080/",
          "height": 51
        },
        "outputId": "54f0771a-ae9a-41bb-e333-b8c10646eb02",
        "scrolled": true,
        "id": "LMnlpLHtn2Ky"
      },
      "outputs": [
        {
          "output_type": "display_data",
          "data": {
            "text/plain": [
              "Eq(y(t), C1*t**2 + C2*t**2*log(t) + t + 1/2)"
            ],
            "text/latex": "$\\displaystyle y{\\left(t \\right)} = C_{1} t^{2} + C_{2} t^{2} \\log{\\left(t \\right)} + t + \\frac{1}{2}$"
          },
          "metadata": {}
        }
      ],
      "source": [
        "x,t = symbols(\"x t\", real=True)\n",
        "y = symbols(\"y\", cls=Function)\n",
        "de1 = Eq((x-2)**2 * y(x).diff(x,x) - 3*(x-2)*y(x).diff(x) + 4*y(x) , x)\n",
        "# Substitution: t = x-2\n",
        "de2 = Eq(t**2 * y(t).diff(t,t) - 3*t*y(t).diff(t) + 4*y(t) , t+2)\n",
        "Y2 = dsolve(de2)\n",
        "display(Y2)"
      ]
    },
    {
      "cell_type": "code",
      "execution_count": 184,
      "metadata": {
        "colab": {
          "base_uri": "https://localhost:8080/",
          "height": 68
        },
        "id": "UNuIEoaQn2Ky",
        "outputId": "73b8183a-4e8a-4bd3-e97b-7157ac71bdd3"
      },
      "outputs": [
        {
          "output_type": "stream",
          "name": "stdout",
          "text": [
            "C1*(x - 2)**2 + C2*(x - 2)**2*log(x - 2) + x - 3/2\n"
          ]
        },
        {
          "output_type": "display_data",
          "data": {
            "text/plain": [
              "C1*(x - 2)**2 + C2*(x - 2)**2*log(x - 2) + x - 3/2"
            ],
            "text/latex": "$\\displaystyle C_{1} \\left(x - 2\\right)^{2} + C_{2} \\left(x - 2\\right)^{2} \\log{\\left(x - 2 \\right)} + x - \\frac{3}{2}$"
          },
          "metadata": {}
        }
      ],
      "source": [
        "Y1 = Y2.subs(t,x-2)\n",
        "y1 = Y1.rhs\n",
        "print(y1)\n",
        "display(y1)"
      ]
    },
    {
      "cell_type": "code",
      "execution_count": 185,
      "metadata": {
        "colab": {
          "base_uri": "https://localhost:8080/"
        },
        "outputId": "bda4e13b-4a2a-4a56-d52a-a1fd2e59c8af",
        "id": "5H02bIcwn2Ky"
      },
      "outputs": [
        {
          "output_type": "execute_result",
          "data": {
            "text/plain": [
              "(True, 0)"
            ]
          },
          "metadata": {},
          "execution_count": 185
        }
      ],
      "source": [
        "checkodesol(de1, y1)"
      ]
    },
    {
      "cell_type": "markdown",
      "metadata": {
        "id": "n-DLskdXn2Ky"
      },
      "source": [
        "# Exercise 4.14.12\n",
        "\n",
        "$x^3y''' + xy' - y = 0$\n"
      ]
    },
    {
      "cell_type": "code",
      "execution_count": 186,
      "metadata": {
        "colab": {
          "base_uri": "https://localhost:8080/",
          "height": 47
        },
        "outputId": "8ccdb2b2-cf90-4981-92a1-70d4a66d67fa",
        "scrolled": true,
        "id": "dTHh1wF4n2Ky"
      },
      "outputs": [
        {
          "output_type": "display_data",
          "data": {
            "text/plain": [
              "Eq(y(x), x*(C1 + C2*log(x) + C3*log(x)**2))"
            ],
            "text/latex": "$\\displaystyle y{\\left(x \\right)} = x \\left(C_{1} + C_{2} \\log{\\left(x \\right)} + C_{3} \\log{\\left(x \\right)}^{2}\\right)$"
          },
          "metadata": {}
        }
      ],
      "source": [
        "x = symbols(\"x\", real=True)\n",
        "y = symbols(\"y\", cls=Function)\n",
        "de = Eq(x**3 * y(x).diff(x,x,x) + x*y(x).diff(x) - y(x) , 0)\n",
        "Y = dsolve(de)\n",
        "display(Y)"
      ]
    },
    {
      "cell_type": "code",
      "execution_count": 187,
      "metadata": {
        "colab": {
          "base_uri": "https://localhost:8080/",
          "height": 40
        },
        "outputId": "2a4806cb-450b-418f-f4d2-fefcde64351c",
        "id": "LGDaLHcKn2Ky"
      },
      "outputs": [
        {
          "output_type": "execute_result",
          "data": {
            "text/plain": [
              "Eq(y(x), C1*x + C2*x*log(x) + C3*x*log(x)**2)"
            ],
            "text/latex": "$\\displaystyle y{\\left(x \\right)} = C_{1} x + C_{2} x \\log{\\left(x \\right)} + C_{3} x \\log{\\left(x \\right)}^{2}$"
          },
          "metadata": {},
          "execution_count": 187
        }
      ],
      "source": [
        "expand(Y)"
      ]
    },
    {
      "cell_type": "code",
      "execution_count": 188,
      "metadata": {
        "colab": {
          "base_uri": "https://localhost:8080/"
        },
        "outputId": "d4ebc7b2-54c0-477f-ee06-864c560d5997",
        "id": "331dsAAMn2Kz"
      },
      "outputs": [
        {
          "output_type": "execute_result",
          "data": {
            "text/plain": [
              "(True, 0)"
            ]
          },
          "metadata": {},
          "execution_count": 188
        }
      ],
      "source": [
        "checkodesol(de, Y)"
      ]
    },
    {
      "cell_type": "markdown",
      "metadata": {
        "id": "wOZYGfEtn2Kz"
      },
      "source": [
        "# Exercise 4.14.13\n",
        "\n",
        "$x^3y'' - 2xy = 6\\ln x$\n"
      ]
    },
    {
      "cell_type": "code",
      "execution_count": 189,
      "metadata": {
        "colab": {
          "base_uri": "https://localhost:8080/",
          "height": 58
        },
        "outputId": "3feae7b1-eba6-411b-bc70-ff1d9de18c2b",
        "scrolled": true,
        "id": "mbUniIqqn2Kz"
      },
      "outputs": [
        {
          "output_type": "display_data",
          "data": {
            "text/plain": [
              "Eq(y(x), (C1 + C2*x**3 - log(x)**2 - 2*log(x)/3)/x)"
            ],
            "text/latex": "$\\displaystyle y{\\left(x \\right)} = \\frac{C_{1} + C_{2} x^{3} - \\log{\\left(x \\right)}^{2} - \\frac{2 \\log{\\left(x \\right)}}{3}}{x}$"
          },
          "metadata": {}
        }
      ],
      "source": [
        "x = symbols(\"x\", real=True)\n",
        "y = symbols(\"y\", cls=Function)\n",
        "de = Eq(x**3 * y(x).diff(x,x) - 2*x*y(x) , 6*ln(x))\n",
        "Y = dsolve(de)\n",
        "display(Y)"
      ]
    },
    {
      "cell_type": "code",
      "execution_count": 190,
      "metadata": {
        "colab": {
          "base_uri": "https://localhost:8080/",
          "height": 56
        },
        "outputId": "b4b790f3-d73b-4a58-d9a5-be99e79c44fd",
        "id": "bOMp281Ln2Kz"
      },
      "outputs": [
        {
          "output_type": "execute_result",
          "data": {
            "text/plain": [
              "Eq(y(x), C1/x + C2*x**2 - log(x)**2/x - 2*log(x)/(3*x))"
            ],
            "text/latex": "$\\displaystyle y{\\left(x \\right)} = \\frac{C_{1}}{x} + C_{2} x^{2} - \\frac{\\log{\\left(x \\right)}^{2}}{x} - \\frac{2 \\log{\\left(x \\right)}}{3 x}$"
          },
          "metadata": {},
          "execution_count": 190
        }
      ],
      "source": [
        "expand(Y)"
      ]
    },
    {
      "cell_type": "code",
      "execution_count": 191,
      "metadata": {
        "colab": {
          "base_uri": "https://localhost:8080/"
        },
        "outputId": "2349f89e-5752-4c34-de50-c8e7a2214d86",
        "id": "IbPsUm3Mn2Kz"
      },
      "outputs": [
        {
          "output_type": "execute_result",
          "data": {
            "text/plain": [
              "(True, 0)"
            ]
          },
          "metadata": {},
          "execution_count": 191
        }
      ],
      "source": [
        "checkodesol(de, Y)"
      ]
    },
    {
      "cell_type": "markdown",
      "metadata": {
        "id": "_j3iCgqln2Kz"
      },
      "source": [
        "# Exercise 4.14.14\n",
        "\n",
        "$x^2y'' - 2y = \\sin \\ln x$\n"
      ]
    },
    {
      "cell_type": "code",
      "execution_count": 192,
      "metadata": {
        "colab": {
          "base_uri": "https://localhost:8080/",
          "height": 53
        },
        "outputId": "a671ca12-2961-418b-f0f0-b191694b4d47",
        "scrolled": true,
        "id": "1Trt3Igjn2Kz"
      },
      "outputs": [
        {
          "output_type": "display_data",
          "data": {
            "text/plain": [
              "Eq(y(x), C1/x + C2*x**2 - 3*sin(log(x))/10 + cos(log(x))/10)"
            ],
            "text/latex": "$\\displaystyle y{\\left(x \\right)} = \\frac{C_{1}}{x} + C_{2} x^{2} - \\frac{3 \\sin{\\left(\\log{\\left(x \\right)} \\right)}}{10} + \\frac{\\cos{\\left(\\log{\\left(x \\right)} \\right)}}{10}$"
          },
          "metadata": {}
        }
      ],
      "source": [
        "x = symbols(\"x\", real=True)\n",
        "y = symbols(\"y\", cls=Function)\n",
        "de = Eq(x**2 * y(x).diff(x,x) - 2*y(x) , sin(ln(x)))\n",
        "Y = dsolve(de)\n",
        "display(Y)"
      ]
    },
    {
      "cell_type": "code",
      "execution_count": 193,
      "metadata": {
        "colab": {
          "base_uri": "https://localhost:8080/",
          "height": 53
        },
        "outputId": "23a0b32f-7bb5-4aa6-c75e-3fb13e075aaa",
        "id": "Fl7nqvPDn2Kz"
      },
      "outputs": [
        {
          "output_type": "execute_result",
          "data": {
            "text/plain": [
              "Eq(y(x), C1/x + C2*x**2 - 3*sin(log(x))/10 + cos(log(x))/10)"
            ],
            "text/latex": "$\\displaystyle y{\\left(x \\right)} = \\frac{C_{1}}{x} + C_{2} x^{2} - \\frac{3 \\sin{\\left(\\log{\\left(x \\right)} \\right)}}{10} + \\frac{\\cos{\\left(\\log{\\left(x \\right)} \\right)}}{10}$"
          },
          "metadata": {},
          "execution_count": 193
        }
      ],
      "source": [
        "expand(Y)"
      ]
    },
    {
      "cell_type": "code",
      "execution_count": 194,
      "metadata": {
        "colab": {
          "base_uri": "https://localhost:8080/"
        },
        "outputId": "2ed0f456-c880-424e-d99e-50531a3bb2d0",
        "id": "lAegfx0Un2Kz"
      },
      "outputs": [
        {
          "output_type": "execute_result",
          "data": {
            "text/plain": [
              "(True, 0)"
            ]
          },
          "metadata": {},
          "execution_count": 194
        }
      ],
      "source": [
        "checkodesol(de, Y)"
      ]
    },
    {
      "cell_type": "markdown",
      "metadata": {
        "id": "1wKOErbhqKWU"
      },
      "source": [
        "# **TO BE CONTINUED ...**\n",
        "* Any student with a basic Python programming skill\n",
        "  is welcome to continue and solve more exercises\n",
        "  from the\n",
        "<a href=\"https://samyzaf.com/technion/ode/ode.pdf\">\n",
        "Ordinal Differential Equations book\n",
        "</a>.\n",
        "\n",
        "* Send your solutions notebook to sz@samyzaf.com.\n",
        "* They will be checked and added to this notebook.\n",
        "* Thanks!!!"
      ]
    },
    {
      "cell_type": "code",
      "execution_count": 194,
      "metadata": {
        "id": "W69YSbejO4P-"
      },
      "outputs": [],
      "source": []
    }
  ],
  "metadata": {
    "colab": {
      "provenance": [],
      "include_colab_link": true
    },
    "kernelspec": {
      "display_name": "Python 3 (ipykernel)",
      "language": "python",
      "name": "python3"
    },
    "language_info": {
      "codemirror_mode": {
        "name": "ipython",
        "version": 3
      },
      "file_extension": ".py",
      "mimetype": "text/x-python",
      "name": "python",
      "nbconvert_exporter": "python",
      "pygments_lexer": "ipython3",
      "version": "3.7.11"
    }
  },
  "nbformat": 4,
  "nbformat_minor": 0
}