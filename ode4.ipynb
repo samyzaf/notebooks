{
  "cells": [
    {
      "cell_type": "markdown",
      "metadata": {
        "id": "view-in-github",
        "colab_type": "text"
      },
      "source": [
        "<a href=\"https://colab.research.google.com/github/samyzaf/notebooks/blob/main/ode4.ipynb\" target=\"_parent\"><img src=\"https://colab.research.google.com/assets/colab-badge.svg\" alt=\"Open In Colab\"/></a>"
      ]
    },
    {
      "cell_type": "markdown",
      "metadata": {
        "id": "zo0mZHrOCICt"
      },
      "source": [
        "# Ordinary Differential Equations\n",
        "# Chapter 4: Solutions to exercises\n",
        "\n",
        "<a href=\"https://samyzaf.com/technion/ode/ode.pdf\">\n",
        "<img src=\"https://samyzaf.com/technion/ode/ode2.jpg\" alt=\"ode book cover\"/>\n",
        "</a>\n",
        "\n",
        "* We used Python **Sympy** package for obtaining the final\n",
        "  result for most of the exercises.\n",
        "* This package is still under development, and is not yet\n",
        "  ready to cope with all ode's.\n",
        "* The new site https://mathdf.com seems to be a great source\n",
        "  for obtaining full step-by-step solutions.\n",
        "  Please use it for obtaining full solutions and let us know\n",
        "  if it meets expectations. We will be glad to receive full solutions\n",
        "  and add them here later (sz@samyzaf.com).\n",
        "* This notebook can be edited and executed by clicking\n",
        "  the **open in colab** button.\n",
        "* These are only a small number of solutions.\n",
        "  Hopefully this will encourage students to try to solve more\n",
        "  exercises with similar methods. We will be glad to accept notebooks\n",
        "  with solutions to other exercises in this book.\n",
        "  Please send them to sz@samyzaf.com."
      ]
    },
    {
      "cell_type": "code",
      "execution_count": 1,
      "metadata": {
        "colab": {
          "base_uri": "https://localhost:8080/"
        },
        "id": "M6sQe4JlsK7u",
        "outputId": "86c7a10f-66fc-4641-92d8-ae60152f9e00"
      },
      "outputs": [
        {
          "output_type": "stream",
          "name": "stdout",
          "text": [
            "Looking in indexes: https://pypi.org/simple, https://us-python.pkg.dev/colab-wheels/public/simple/\n",
            "Requirement already satisfied: sympy in /usr/local/lib/python3.8/dist-packages (1.7.1)\n",
            "Collecting sympy\n",
            "  Downloading sympy-1.11.1-py3-none-any.whl (6.5 MB)\n",
            "\u001b[K     |████████████████████████████████| 6.5 MB 5.1 MB/s \n",
            "\u001b[?25hRequirement already satisfied: mpmath>=0.19 in /usr/local/lib/python3.8/dist-packages (from sympy) (1.2.1)\n",
            "Installing collected packages: sympy\n",
            "  Attempting uninstall: sympy\n",
            "    Found existing installation: sympy 1.7.1\n",
            "    Uninstalling sympy-1.7.1:\n",
            "      Successfully uninstalled sympy-1.7.1\n",
            "Successfully installed sympy-1.11.1\n"
          ]
        }
      ],
      "source": [
        "%pip install --upgrade sympy"
      ]
    },
    {
      "cell_type": "code",
      "execution_count": 2,
      "metadata": {
        "id": "QO4VgM1r1vEy"
      },
      "outputs": [],
      "source": [
        "from sympy import *\n",
        "from sympy.solvers.ode import checkodesol\n",
        "from IPython.display import HTML"
      ]
    },
    {
      "cell_type": "markdown",
      "metadata": {
        "id": "YoIKr1sI4NRE"
      },
      "source": [
        "# Exercise 4.1.1\n",
        "\n",
        "$y'' -25y = 0$"
      ]
    },
    {
      "cell_type": "code",
      "execution_count": 3,
      "metadata": {
        "colab": {
          "base_uri": "https://localhost:8080/",
          "height": 39
        },
        "id": "NZnh7uRSHpf3",
        "outputId": "97449b45-c1ff-4bc2-ff0e-dabe43c0f5e8"
      },
      "outputs": [
        {
          "output_type": "display_data",
          "data": {
            "text/plain": [
              "Eq(y(x), C1*exp(-5*x) + C2*exp(5*x))"
            ],
            "text/latex": "$\\displaystyle y{\\left(x \\right)} = C_{1} e^{- 5 x} + C_{2} e^{5 x}$"
          },
          "metadata": {}
        }
      ],
      "source": [
        "x = symbols(\"x\", real=True)\n",
        "y = symbols(\"y\", cls=Function)\n",
        "de = Eq(y(x).diff(x,x) - 25*y(x) , 0)\n",
        "Y = dsolve(de)\n",
        "display(Y)"
      ]
    },
    {
      "cell_type": "code",
      "execution_count": 4,
      "metadata": {
        "colab": {
          "base_uri": "https://localhost:8080/"
        },
        "id": "-xQCw9LYZkNX",
        "outputId": "a5fda5d3-71cf-43d6-815f-111adfe6f685"
      },
      "outputs": [
        {
          "output_type": "execute_result",
          "data": {
            "text/plain": [
              "(True, 0)"
            ]
          },
          "metadata": {},
          "execution_count": 4
        }
      ],
      "source": [
        "checkodesol(de, Y)"
      ]
    },
    {
      "cell_type": "markdown",
      "metadata": {
        "id": "ZyFYRsm34NRO"
      },
      "source": [
        "# Exercise 4.1.2\n",
        "\n",
        "$y''-2y'+2y=0$"
      ]
    },
    {
      "cell_type": "code",
      "execution_count": 5,
      "metadata": {
        "colab": {
          "base_uri": "https://localhost:8080/",
          "height": 39
        },
        "id": "pta_vjpo4NRQ",
        "outputId": "88181f52-f447-4142-b08d-04920c21b03f"
      },
      "outputs": [
        {
          "output_type": "display_data",
          "data": {
            "text/plain": [
              "Eq(y(x), (C1*sin(x) + C2*cos(x))*exp(x))"
            ],
            "text/latex": "$\\displaystyle y{\\left(x \\right)} = \\left(C_{1} \\sin{\\left(x \\right)} + C_{2} \\cos{\\left(x \\right)}\\right) e^{x}$"
          },
          "metadata": {}
        }
      ],
      "source": [
        "x = symbols(\"x\", real=True)\n",
        "y = symbols(\"y\", cls=Function)\n",
        "de = Eq(y(x).diff(x,x) - 2*y(x).diff(x) + 2*y(x) , 0)\n",
        "Y = dsolve(de)\n",
        "display(Y)"
      ]
    },
    {
      "cell_type": "code",
      "execution_count": 6,
      "metadata": {
        "colab": {
          "base_uri": "https://localhost:8080/"
        },
        "id": "Jt1h8PWLZ05u",
        "outputId": "33e1e7cd-587a-4198-bb64-8e0b0f0b24f5"
      },
      "outputs": [
        {
          "output_type": "execute_result",
          "data": {
            "text/plain": [
              "(True, 0)"
            ]
          },
          "metadata": {},
          "execution_count": 6
        }
      ],
      "source": [
        "checkodesol(de, Y)"
      ]
    },
    {
      "cell_type": "markdown",
      "metadata": {
        "id": "poUTpkjx4NRR"
      },
      "source": [
        "# Exercise 4.1.3\n",
        "\n",
        "$y'' - 5y' + 6y = 0$"
      ]
    },
    {
      "cell_type": "code",
      "execution_count": 7,
      "metadata": {
        "colab": {
          "base_uri": "https://localhost:8080/",
          "height": 39
        },
        "id": "lVU3PItM4NRT",
        "outputId": "0ca792aa-0d3c-4133-a9be-c8bdb2e64d9a"
      },
      "outputs": [
        {
          "output_type": "execute_result",
          "data": {
            "text/plain": [
              "Eq(y(x), (C1 + C2*exp(x))*exp(2*x))"
            ],
            "text/latex": "$\\displaystyle y{\\left(x \\right)} = \\left(C_{1} + C_{2} e^{x}\\right) e^{2 x}$"
          },
          "metadata": {},
          "execution_count": 7
        }
      ],
      "source": [
        "x = symbols(\"x\", real=True)\n",
        "y = symbols(\"y\", cls=Function)\n",
        "de = Eq(y(x).diff(x,x) - 5*y(x).diff(x) + 6*y(x) , 0)\n",
        "dsolve(de)"
      ]
    },
    {
      "cell_type": "code",
      "execution_count": 8,
      "metadata": {
        "colab": {
          "base_uri": "https://localhost:8080/",
          "height": 39
        },
        "id": "9kJeTe7sZUrr",
        "outputId": "a1f7460a-2b6b-4fd6-9d4e-7091d3b132cb"
      },
      "outputs": [
        {
          "output_type": "execute_result",
          "data": {
            "text/plain": [
              "Eq(y(x), C1*exp(2*x) + C2*exp(3*x))"
            ],
            "text/latex": "$\\displaystyle y{\\left(x \\right)} = C_{1} e^{2 x} + C_{2} e^{3 x}$"
          },
          "metadata": {},
          "execution_count": 8
        }
      ],
      "source": [
        "expand(dsolve(de))"
      ]
    },
    {
      "cell_type": "markdown",
      "metadata": {
        "id": "nESqAJ_O4NRU"
      },
      "source": [
        "# Exercise 4.1.4\n",
        "\n",
        "$y''' - y = 0$"
      ]
    },
    {
      "cell_type": "code",
      "execution_count": 9,
      "metadata": {
        "colab": {
          "base_uri": "https://localhost:8080/",
          "height": 68
        },
        "id": "q0_RWXtb4NRV",
        "outputId": "00004429-dfca-4b8b-920a-2ff8986937aa"
      },
      "outputs": [
        {
          "output_type": "display_data",
          "data": {
            "text/plain": [
              "Eq(y(x), C3*exp(x) + (C1*sin(sqrt(3)*x/2) + C2*cos(sqrt(3)*x/2))*exp(-x/2))"
            ],
            "text/latex": "$\\displaystyle y{\\left(x \\right)} = C_{3} e^{x} + \\left(C_{1} \\sin{\\left(\\frac{\\sqrt{3} x}{2} \\right)} + C_{2} \\cos{\\left(\\frac{\\sqrt{3} x}{2} \\right)}\\right) e^{- \\frac{x}{2}}$"
          },
          "metadata": {}
        }
      ],
      "source": [
        "x = symbols(\"x\", real=True)\n",
        "y = symbols(\"y\", cls=Function)\n",
        "de = Eq(y(x).diff(x,x,x) - y(x) , 0)\n",
        "Y=dsolve(de)\n",
        "display(Y)"
      ]
    },
    {
      "cell_type": "code",
      "execution_count": 10,
      "metadata": {
        "colab": {
          "base_uri": "https://localhost:8080/",
          "height": 68
        },
        "id": "i5SEN7fmZIES",
        "outputId": "899eedab-917b-4dfa-c476-0009026d968b"
      },
      "outputs": [
        {
          "output_type": "execute_result",
          "data": {
            "text/plain": [
              "Eq(y(x), C1*exp(-x/2)*sin(sqrt(3)*x/2) + C2*exp(-x/2)*cos(sqrt(3)*x/2) + C3*exp(x))"
            ],
            "text/latex": "$\\displaystyle y{\\left(x \\right)} = C_{1} e^{- \\frac{x}{2}} \\sin{\\left(\\frac{\\sqrt{3} x}{2} \\right)} + C_{2} e^{- \\frac{x}{2}} \\cos{\\left(\\frac{\\sqrt{3} x}{2} \\right)} + C_{3} e^{x}$"
          },
          "metadata": {},
          "execution_count": 10
        }
      ],
      "source": [
        "expand(Y)"
      ]
    },
    {
      "cell_type": "markdown",
      "metadata": {
        "id": "XsmZ4uTU4NRW"
      },
      "source": [
        "# Exercise 4.1.5\n",
        "\n",
        "$y^{(4)} - y = 0$ "
      ]
    },
    {
      "cell_type": "code",
      "execution_count": 11,
      "metadata": {
        "colab": {
          "base_uri": "https://localhost:8080/",
          "height": 39
        },
        "id": "aAmznmFK4NRX",
        "outputId": "dff91d9d-75db-46ed-ee76-a2197c78e4e5"
      },
      "outputs": [
        {
          "output_type": "execute_result",
          "data": {
            "text/plain": [
              "Eq(y(x), C1*exp(-x) + C2*exp(x) + C3*sin(x) + C4*cos(x))"
            ],
            "text/latex": "$\\displaystyle y{\\left(x \\right)} = C_{1} e^{- x} + C_{2} e^{x} + C_{3} \\sin{\\left(x \\right)} + C_{4} \\cos{\\left(x \\right)}$"
          },
          "metadata": {},
          "execution_count": 11
        }
      ],
      "source": [
        "t = symbols(\"t\", real=True)\n",
        "s = symbols(\"s\", cls=Function)\n",
        "de = Eq(y(x).diff(x,x,x,x) - y(x) , 0)\n",
        "dsolve(de)"
      ]
    },
    {
      "cell_type": "markdown",
      "metadata": {
        "id": "hjueVl8n4NRZ"
      },
      "source": [
        "# Exercise 4.1.6\n",
        "\n",
        "$y^{(4)} + 4y'' + 3y = 0$"
      ]
    },
    {
      "cell_type": "code",
      "execution_count": 12,
      "metadata": {
        "colab": {
          "base_uri": "https://localhost:8080/",
          "height": 47
        },
        "id": "ToRZvmw84NRZ",
        "outputId": "8a8fdeec-ad00-4419-f4c3-e71c213102b5"
      },
      "outputs": [
        {
          "output_type": "execute_result",
          "data": {
            "text/plain": [
              "Eq(y(x), C1*sin(x) + C2*sin(sqrt(3)*x) + C3*cos(x) + C4*cos(sqrt(3)*x))"
            ],
            "text/latex": "$\\displaystyle y{\\left(x \\right)} = C_{1} \\sin{\\left(x \\right)} + C_{2} \\sin{\\left(\\sqrt{3} x \\right)} + C_{3} \\cos{\\left(x \\right)} + C_{4} \\cos{\\left(\\sqrt{3} x \\right)}$"
          },
          "metadata": {},
          "execution_count": 12
        }
      ],
      "source": [
        "x = Symbol(\"x\", real=True)\n",
        "y = symbols(\"y\", cls=Function)\n",
        "de = Eq(y(x).diff(x,x,x,x) + 4*y(x).diff(x,x) + 3*y(x) , 0)\n",
        "dsolve(de)"
      ]
    },
    {
      "cell_type": "markdown",
      "metadata": {
        "id": "ZCi3ZoFI4NRa"
      },
      "source": [
        "# Exercise 4.1.7\n",
        "\n",
        "$y''' - 2y'' - 3y' = 0$\n"
      ]
    },
    {
      "cell_type": "code",
      "execution_count": 13,
      "metadata": {
        "colab": {
          "base_uri": "https://localhost:8080/",
          "height": 39
        },
        "id": "LZ9Zy66h4NRb",
        "outputId": "42832bca-1ca8-4ad9-adaa-7f72be42567c"
      },
      "outputs": [
        {
          "output_type": "execute_result",
          "data": {
            "text/plain": [
              "Eq(y(x), C1 + C2*exp(-x) + C3*exp(3*x))"
            ],
            "text/latex": "$\\displaystyle y{\\left(x \\right)} = C_{1} + C_{2} e^{- x} + C_{3} e^{3 x}$"
          },
          "metadata": {},
          "execution_count": 13
        }
      ],
      "source": [
        "x = symbols(\"x\", real=True)\n",
        "y = symbols(\"y\", cls=Function)\n",
        "de = Eq(y(x).diff(x,x,x) - 2*y(x).diff(x,x) - 3*y(x).diff(x) , 0)\n",
        "dsolve(de)"
      ]
    },
    {
      "cell_type": "code",
      "execution_count": 14,
      "metadata": {
        "colab": {
          "base_uri": "https://localhost:8080/"
        },
        "id": "5p6wMUszatb6",
        "outputId": "afa700c9-ca85-48e0-cb28-beb3cf3804d8"
      },
      "outputs": [
        {
          "output_type": "execute_result",
          "data": {
            "text/plain": [
              "(True, 0)"
            ]
          },
          "metadata": {},
          "execution_count": 14
        }
      ],
      "source": [
        "Y = dsolve(de)\n",
        "checkodesol(de, Y)"
      ]
    },
    {
      "cell_type": "markdown",
      "metadata": {
        "id": "9PGQ_yxX4NRd"
      },
      "source": [
        "# Exercise 4.1.8\n",
        "\n",
        "$y''' - 3y'' + 3y' - y = 0$\n"
      ]
    },
    {
      "cell_type": "code",
      "execution_count": 15,
      "metadata": {
        "colab": {
          "base_uri": "https://localhost:8080/",
          "height": 39
        },
        "id": "jEJmLcwk4NRd",
        "outputId": "6ec0cacc-7268-44f7-a413-84962a19790e"
      },
      "outputs": [
        {
          "output_type": "display_data",
          "data": {
            "text/plain": [
              "Eq(y(x), C1*exp(x) + C2*x*exp(x) + C3*x**2*exp(x))"
            ],
            "text/latex": "$\\displaystyle y{\\left(x \\right)} = C_{1} e^{x} + C_{2} x e^{x} + C_{3} x^{2} e^{x}$"
          },
          "metadata": {}
        }
      ],
      "source": [
        "x = symbols(\"x\", real=True)\n",
        "y = symbols(\"y\", cls=Function)\n",
        "de = Eq(y(x).diff(x,x,x) - 3*y(x).diff(x,x) + 3*y(x).diff(x) - y(x) , 0)\n",
        "Y = dsolve(de)\n",
        "Y = expand(Y)\n",
        "display(Y)"
      ]
    },
    {
      "cell_type": "code",
      "execution_count": 16,
      "metadata": {
        "colab": {
          "base_uri": "https://localhost:8080/"
        },
        "id": "iFxEPUI3fwgn",
        "outputId": "1f0b9e8f-a983-4503-b892-644d75ff8186"
      },
      "outputs": [
        {
          "output_type": "execute_result",
          "data": {
            "text/plain": [
              "(True, 0)"
            ]
          },
          "metadata": {},
          "execution_count": 16
        }
      ],
      "source": [
        "checkodesol(de, Y)"
      ]
    },
    {
      "cell_type": "markdown",
      "metadata": {
        "id": "xdFm4Isz4NRe"
      },
      "source": [
        "# Exercise 4.1.9\n",
        "\n",
        "$y^{(4)} - 5y'' + 4y = 0$\n"
      ]
    },
    {
      "cell_type": "code",
      "execution_count": 17,
      "metadata": {
        "colab": {
          "base_uri": "https://localhost:8080/",
          "height": 39
        },
        "id": "RdIBmV9V4NRe",
        "outputId": "796559d8-5076-40a9-a03c-b55f346a416f"
      },
      "outputs": [
        {
          "output_type": "display_data",
          "data": {
            "text/plain": [
              "Eq(y(x), C1*exp(-2*x) + C2*exp(-x) + C3*exp(x) + C4*exp(2*x))"
            ],
            "text/latex": "$\\displaystyle y{\\left(x \\right)} = C_{1} e^{- 2 x} + C_{2} e^{- x} + C_{3} e^{x} + C_{4} e^{2 x}$"
          },
          "metadata": {}
        }
      ],
      "source": [
        "x = symbols(\"x\", real=True)\n",
        "y = symbols(\"y\", cls=Function)\n",
        "de = Eq(y(x).diff(x,x,x,x) - 5*y(x).diff(x,x) + 4*y(x) , 0)\n",
        "Y = dsolve(de)\n",
        "display(Y)"
      ]
    },
    {
      "cell_type": "markdown",
      "metadata": {
        "id": "D8DmLbXv4NRf"
      },
      "source": [
        "# Exercise 4.2.1\n",
        "$\n",
        "y'' - 5y' + 4y = 0 \\\\\n",
        "y(0) = 5 \\\\\n",
        "y'(0) = 8\n",
        "$\n"
      ]
    },
    {
      "cell_type": "code",
      "execution_count": 18,
      "metadata": {
        "colab": {
          "base_uri": "https://localhost:8080/",
          "height": 39
        },
        "id": "y9yiADDo4NRg",
        "outputId": "74a1b36e-6da4-422f-98d6-2edae3424be9"
      },
      "outputs": [
        {
          "output_type": "display_data",
          "data": {
            "text/plain": [
              "Eq(y(x), (exp(3*x) + 4)*exp(x))"
            ],
            "text/latex": "$\\displaystyle y{\\left(x \\right)} = \\left(e^{3 x} + 4\\right) e^{x}$"
          },
          "metadata": {}
        }
      ],
      "source": [
        "x = symbols(\"x\", real=True)\n",
        "y = symbols(\"y\", cls=Function)\n",
        "de = Eq(y(x).diff(x,x) - 5*y(x).diff(x) + 4*y(x) , 0)\n",
        "Y = dsolve(de, y(x) , ics={y(0): 5, y(x).diff(x).subs(x,0): 8})\n",
        "display(Y)"
      ]
    },
    {
      "cell_type": "markdown",
      "metadata": {
        "id": "qvZ_rgOD4NRh"
      },
      "source": [
        "# Exercise 4.2.2\n",
        "\n",
        "$\n",
        "y'' + 4y = 0 \\\\\n",
        "y(0) = 0 \\\\\n",
        "y'(0) = 2\n",
        "$\n"
      ]
    },
    {
      "cell_type": "code",
      "execution_count": 19,
      "metadata": {
        "colab": {
          "base_uri": "https://localhost:8080/",
          "height": 39
        },
        "id": "S6r9SRWr4NRh",
        "outputId": "b6ecaaeb-46a4-4563-e2a0-b7c77b891332"
      },
      "outputs": [
        {
          "output_type": "display_data",
          "data": {
            "text/plain": [
              "Eq(y(x), sin(2*x))"
            ],
            "text/latex": "$\\displaystyle y{\\left(x \\right)} = \\sin{\\left(2 x \\right)}$"
          },
          "metadata": {}
        }
      ],
      "source": [
        "x = symbols(\"x\", real=True)\n",
        "y = symbols(\"y\", cls=Function)\n",
        "de = Eq(y(x).diff(x,x) + 4*y(x) , 0)\n",
        "Y = dsolve(de, y(x) , ics={y(0): 0, y(x).diff(x).subs(x,0): 2})\n",
        "display(Y)"
      ]
    },
    {
      "cell_type": "code",
      "execution_count": 20,
      "metadata": {
        "colab": {
          "base_uri": "https://localhost:8080/"
        },
        "id": "JameTwZy4NRi",
        "outputId": "49d9193d-8efd-4214-973f-62fc98b600a1"
      },
      "outputs": [
        {
          "output_type": "execute_result",
          "data": {
            "text/plain": [
              "(True, 0)"
            ]
          },
          "metadata": {},
          "execution_count": 20
        }
      ],
      "source": [
        "checkodesol(de, Y)"
      ]
    },
    {
      "cell_type": "code",
      "execution_count": 21,
      "metadata": {
        "colab": {
          "base_uri": "https://localhost:8080/",
          "height": 39
        },
        "id": "y_vJ9YfI8Xvm",
        "outputId": "26ebcf2f-2f22-4150-8c82-501a47219928"
      },
      "outputs": [
        {
          "output_type": "execute_result",
          "data": {
            "text/plain": [
              "Eq(y(0), 0)"
            ],
            "text/latex": "$\\displaystyle y{\\left(0 \\right)} = 0$"
          },
          "metadata": {},
          "execution_count": 21
        }
      ],
      "source": [
        "Y.evalf(subs={x: 0}).doit()"
      ]
    },
    {
      "cell_type": "markdown",
      "metadata": {
        "id": "lslgwtM5IZCe"
      },
      "source": [
        "* `Y` is an equation object:\n",
        "  `Eq(y(x), sin(2*x))`.\n",
        "  It has two parts:\n",
        "  * lhs (left hand side)\n",
        "  * rhs (right hand side)\n",
        "* The right hand side `Y.rhs` is our private solution.\n",
        "* we check if it satisfies the initial conditions"
      ]
    },
    {
      "cell_type": "code",
      "execution_count": 22,
      "metadata": {
        "colab": {
          "base_uri": "https://localhost:8080/",
          "height": 37
        },
        "id": "jHuDKe5jJKoJ",
        "outputId": "28e46640-8d79-4d93-ac0a-f4863b5dd575"
      },
      "outputs": [
        {
          "output_type": "execute_result",
          "data": {
            "text/plain": [
              "0"
            ],
            "text/latex": "$\\displaystyle 0$"
          },
          "metadata": {},
          "execution_count": 22
        }
      ],
      "source": [
        "sol = Y.rhs\n",
        "sol.subs(x,0)"
      ]
    },
    {
      "cell_type": "code",
      "execution_count": 23,
      "metadata": {
        "colab": {
          "base_uri": "https://localhost:8080/",
          "height": 37
        },
        "id": "ISLpSCmg6Q2t",
        "outputId": "8f4ca961-0330-4d1b-b0dd-0d6dac3eebf6"
      },
      "outputs": [
        {
          "output_type": "execute_result",
          "data": {
            "text/plain": [
              "2"
            ],
            "text/latex": "$\\displaystyle 2$"
          },
          "metadata": {},
          "execution_count": 23
        }
      ],
      "source": [
        "sol.diff(x).subs(x,0)"
      ]
    },
    {
      "cell_type": "markdown",
      "metadata": {
        "id": "vpJX_3ZqKNpe"
      },
      "source": [
        "* You can convert `sol` to a Python function and evaluate it\n",
        "  like any other function:"
      ]
    },
    {
      "cell_type": "code",
      "execution_count": 24,
      "metadata": {
        "colab": {
          "base_uri": "https://localhost:8080/"
        },
        "id": "IhEOY8zYJunp",
        "outputId": "dd006950-8986-4783-e865-73f2ef4e0c8d"
      },
      "outputs": [
        {
          "output_type": "execute_result",
          "data": {
            "text/plain": [
              "0.9092974268256817"
            ]
          },
          "metadata": {},
          "execution_count": 24
        }
      ],
      "source": [
        "s = lambdify(x, sol)\n",
        "s(1)"
      ]
    },
    {
      "cell_type": "code",
      "execution_count": 25,
      "metadata": {
        "colab": {
          "base_uri": "https://localhost:8080/"
        },
        "id": "ubd1HNe4Kca_",
        "outputId": "f3c955c3-8707-4e86-f498-b5d2308a75c1"
      },
      "outputs": [
        {
          "output_type": "execute_result",
          "data": {
            "text/plain": [
              "2.0"
            ]
          },
          "metadata": {},
          "execution_count": 25
        }
      ],
      "source": [
        "ds = lambdify(x, sol.diff(x))\n",
        "ds(0)"
      ]
    },
    {
      "cell_type": "markdown",
      "metadata": {
        "id": "UXV85sGG4NRi"
      },
      "source": [
        "# Exercise 4.2.3\n",
        "\n",
        "$\n",
        "y''' + y'' - 5y' + 3y = 0 \\\\\n",
        "y(0) = 0 \\\\\n",
        "y'(0) = 1 \\\\\n",
        "y''(0) = -2\n",
        "$\n"
      ]
    },
    {
      "cell_type": "code",
      "execution_count": 26,
      "metadata": {
        "colab": {
          "base_uri": "https://localhost:8080/",
          "height": 54
        },
        "id": "c2UUcyrY4NRj",
        "outputId": "7569e253-bbf3-45fd-c777-bd9c89b686e5"
      },
      "outputs": [
        {
          "output_type": "display_data",
          "data": {
            "text/plain": [
              "Eq(y(x), exp(x)/4 - exp(-3*x)/4)"
            ],
            "text/latex": "$\\displaystyle y{\\left(x \\right)} = \\frac{e^{x}}{4} - \\frac{e^{- 3 x}}{4}$"
          },
          "metadata": {}
        }
      ],
      "source": [
        "x = symbols(\"x\", real=True)\n",
        "y = symbols(\"y\", cls=Function)\n",
        "de = Eq(y(x).diff(x,x,x) + y(x).diff(x,x) - 5*y(x).diff(x) + 3*y(x) , 0)\n",
        "Y = dsolve(de, y(x) , ics={y(0): 0, y(x).diff(x).subs(x,0): 1, y(x).diff(x,x).subs(x,0): -2})\n",
        "display(Y)"
      ]
    },
    {
      "cell_type": "code",
      "execution_count": 27,
      "metadata": {
        "colab": {
          "base_uri": "https://localhost:8080/"
        },
        "id": "_-P2ic644NRk",
        "outputId": "d6a938cb-451c-4870-bfbf-a34341e0f472"
      },
      "outputs": [
        {
          "output_type": "execute_result",
          "data": {
            "text/plain": [
              "(True, 0)"
            ]
          },
          "metadata": {},
          "execution_count": 27
        }
      ],
      "source": [
        "checkodesol(de, Y)"
      ]
    },
    {
      "cell_type": "code",
      "execution_count": 28,
      "metadata": {
        "colab": {
          "base_uri": "https://localhost:8080/"
        },
        "id": "dbdDlb-9LrW-",
        "outputId": "6c604977-b440-4dd6-8398-5a0b26327399"
      },
      "outputs": [
        {
          "output_type": "stream",
          "name": "stdout",
          "text": [
            "0 1 -2\n"
          ]
        }
      ],
      "source": [
        "sol = Y.rhs\n",
        "y0 = sol.subs(x,0)\n",
        "y1 = sol.diff(x).subs(x,0)\n",
        "y2 = sol.diff(x,x).subs(x,0)\n",
        "print(y0,y1,y2)"
      ]
    },
    {
      "cell_type": "markdown",
      "metadata": {
        "id": "Eo9qMHAq4NRk"
      },
      "source": [
        "# Exercise 4.3.1\n",
        "\n",
        "$y'' - 2y' - 3y = e^{4x}$\n",
        "\n"
      ]
    },
    {
      "cell_type": "code",
      "execution_count": 29,
      "metadata": {
        "colab": {
          "base_uri": "https://localhost:8080/",
          "height": 54
        },
        "id": "EgAkgU7d4NRl",
        "outputId": "a5912bab-5037-4a76-f5fc-6ca90abde6b1"
      },
      "outputs": [
        {
          "output_type": "display_data",
          "data": {
            "text/plain": [
              "Eq(y(x), C1*exp(-x) + C2*exp(3*x) + exp(4*x)/5)"
            ],
            "text/latex": "$\\displaystyle y{\\left(x \\right)} = C_{1} e^{- x} + C_{2} e^{3 x} + \\frac{e^{4 x}}{5}$"
          },
          "metadata": {}
        }
      ],
      "source": [
        "x = symbols(\"x\", real=True)\n",
        "y = symbols(\"y\", cls=Function)\n",
        "de = Eq(y(x).diff(x,x) - 2*y(x).diff(x) - 3*y(x) , exp(4*x))\n",
        "Y = dsolve(de)\n",
        "display(Y)"
      ]
    },
    {
      "cell_type": "code",
      "execution_count": 30,
      "metadata": {
        "colab": {
          "base_uri": "https://localhost:8080/"
        },
        "id": "zEONyFsxYpYz",
        "outputId": "b0ebb7f6-041b-4e94-f57a-4b2ae005429f"
      },
      "outputs": [
        {
          "output_type": "execute_result",
          "data": {
            "text/plain": [
              "(True, 0)"
            ]
          },
          "metadata": {},
          "execution_count": 30
        }
      ],
      "source": [
        "checkodesol(de, Y)"
      ]
    },
    {
      "cell_type": "markdown",
      "metadata": {
        "id": "YXi-q8jgYpYz"
      },
      "source": [
        "# Exercise 4.3.2\n",
        "\n",
        "$y'' - 5y' + 4y = 4x^2e^{2x}$\n"
      ]
    },
    {
      "cell_type": "code",
      "execution_count": 31,
      "metadata": {
        "colab": {
          "base_uri": "https://localhost:8080/",
          "height": 39
        },
        "id": "7ueMCJOXYpYz",
        "outputId": "913473f0-845b-4bbc-bb46-705af82312f3"
      },
      "outputs": [
        {
          "output_type": "display_data",
          "data": {
            "text/plain": [
              "Eq(y(x), (C1 + C2*exp(3*x) + (-2*x**2 + 2*x - 3)*exp(x))*exp(x))"
            ],
            "text/latex": "$\\displaystyle y{\\left(x \\right)} = \\left(C_{1} + C_{2} e^{3 x} + \\left(- 2 x^{2} + 2 x - 3\\right) e^{x}\\right) e^{x}$"
          },
          "metadata": {}
        }
      ],
      "source": [
        "x = symbols(\"x\", real=True)\n",
        "y = symbols(\"y\", cls=Function)\n",
        "de = Eq(y(x).diff(x,x) - 5*y(x).diff(x) + 4*y(x) , 4*x**2 * exp(2*x))\n",
        "Y = dsolve(de)\n",
        "display(Y)"
      ]
    },
    {
      "cell_type": "code",
      "execution_count": 32,
      "metadata": {
        "colab": {
          "base_uri": "https://localhost:8080/"
        },
        "id": "IhIdWEY-YpYz",
        "outputId": "c1ea561b-d460-43aa-c094-5e544e23ab40"
      },
      "outputs": [
        {
          "output_type": "execute_result",
          "data": {
            "text/plain": [
              "(True, 0)"
            ]
          },
          "metadata": {},
          "execution_count": 32
        }
      ],
      "source": [
        "checkodesol(de, Y)"
      ]
    },
    {
      "cell_type": "markdown",
      "metadata": {
        "id": "tTHBhhGdYpY0"
      },
      "source": [
        "# Exercise 4.3.3\n",
        "\n",
        "$y'' - y = -x^2$\n"
      ]
    },
    {
      "cell_type": "code",
      "execution_count": 33,
      "metadata": {
        "colab": {
          "base_uri": "https://localhost:8080/",
          "height": 39
        },
        "id": "3FE8sqHlYpY0",
        "outputId": "2f30a1d3-7532-420e-ddf0-cd8ba17f4040"
      },
      "outputs": [
        {
          "output_type": "display_data",
          "data": {
            "text/plain": [
              "Eq(y(x), C1*exp(-x) + C2*exp(x) + x**2 + 2)"
            ],
            "text/latex": "$\\displaystyle y{\\left(x \\right)} = C_{1} e^{- x} + C_{2} e^{x} + x^{2} + 2$"
          },
          "metadata": {}
        }
      ],
      "source": [
        "x = symbols(\"x\", real=True)\n",
        "y = symbols(\"y\", cls=Function)\n",
        "de = Eq(y(x).diff(x,x) - y(x) , -x**2)\n",
        "Y = dsolve(de)\n",
        "display(Y)"
      ]
    },
    {
      "cell_type": "code",
      "execution_count": 34,
      "metadata": {
        "colab": {
          "base_uri": "https://localhost:8080/"
        },
        "id": "wSDBVZ9yYpY0",
        "outputId": "aecc9965-89e1-4803-8b15-f72e1e750f52"
      },
      "outputs": [
        {
          "output_type": "execute_result",
          "data": {
            "text/plain": [
              "(True, 0)"
            ]
          },
          "metadata": {},
          "execution_count": 34
        }
      ],
      "source": [
        "checkodesol(de, Y)"
      ]
    },
    {
      "cell_type": "markdown",
      "metadata": {
        "id": "wktno-scYpY1"
      },
      "source": [
        "# Exercise 4.3.4\n",
        "\n",
        "$y'' + 3y' - 4y = xe^{-x}$\n"
      ]
    },
    {
      "cell_type": "code",
      "execution_count": 35,
      "metadata": {
        "colab": {
          "base_uri": "https://localhost:8080/",
          "height": 53
        },
        "id": "7oFeUq9EYpY1",
        "outputId": "f322a037-45f0-4e1c-920c-5afe9e357998"
      },
      "outputs": [
        {
          "output_type": "display_data",
          "data": {
            "text/plain": [
              "Eq(y(x), C1*exp(-4*x) + C2*exp(x) + (-6*x - 1)*exp(-x)/36)"
            ],
            "text/latex": "$\\displaystyle y{\\left(x \\right)} = C_{1} e^{- 4 x} + C_{2} e^{x} + \\frac{\\left(- 6 x - 1\\right) e^{- x}}{36}$"
          },
          "metadata": {}
        }
      ],
      "source": [
        "x = symbols(\"x\", real=True)\n",
        "y = symbols(\"y\", cls=Function)\n",
        "de = Eq(y(x).diff(x,x) + 3*y(x).diff(x) - 4 * y(x) , x * exp(-x))\n",
        "Y = dsolve(de)\n",
        "display(Y)"
      ]
    },
    {
      "cell_type": "code",
      "execution_count": 36,
      "metadata": {
        "colab": {
          "base_uri": "https://localhost:8080/"
        },
        "id": "lWJbSBRyYpY1",
        "outputId": "e1bc2c13-5f9c-488a-bec5-0880ba176338"
      },
      "outputs": [
        {
          "output_type": "execute_result",
          "data": {
            "text/plain": [
              "(True, 0)"
            ]
          },
          "metadata": {},
          "execution_count": 36
        }
      ],
      "source": [
        "checkodesol(de, Y)"
      ]
    },
    {
      "cell_type": "markdown",
      "metadata": {
        "id": "WAjgfxQYYpY1"
      },
      "source": [
        "# Exercise 4.3.5\n",
        "\n",
        "$y'' - 5y' + 4y = 4x^2e^{2x}$\n"
      ]
    },
    {
      "cell_type": "code",
      "execution_count": 37,
      "metadata": {
        "colab": {
          "base_uri": "https://localhost:8080/",
          "height": 39
        },
        "id": "cS6jEg-_YpY1",
        "outputId": "bf44beb4-8fa1-44c0-c4b2-17f877eddc0e"
      },
      "outputs": [
        {
          "output_type": "display_data",
          "data": {
            "text/plain": [
              "Eq(y(x), (C1 + C2*exp(3*x) + (-2*x**2 + 2*x - 3)*exp(x))*exp(x))"
            ],
            "text/latex": "$\\displaystyle y{\\left(x \\right)} = \\left(C_{1} + C_{2} e^{3 x} + \\left(- 2 x^{2} + 2 x - 3\\right) e^{x}\\right) e^{x}$"
          },
          "metadata": {}
        }
      ],
      "source": [
        "x, a, b = symbols(\"x a b\", real=True)\n",
        "y = symbols(\"y\", cls=Function)\n",
        "de = Eq(y(x).diff(x,x) - 5*y(x).diff(x) + 4*y(x) , 4*x**2 * exp(2*x))\n",
        "Y = dsolve(de)\n",
        "display(Y)"
      ]
    },
    {
      "cell_type": "code",
      "execution_count": 38,
      "metadata": {
        "colab": {
          "base_uri": "https://localhost:8080/"
        },
        "id": "doky9G0MYpY2",
        "outputId": "adf251da-43f8-437b-f20d-affb1b730dd0"
      },
      "outputs": [
        {
          "output_type": "execute_result",
          "data": {
            "text/plain": [
              "(True, 0)"
            ]
          },
          "metadata": {},
          "execution_count": 38
        }
      ],
      "source": [
        "checkodesol(de, Y)"
      ]
    },
    {
      "cell_type": "code",
      "execution_count": 39,
      "metadata": {
        "colab": {
          "base_uri": "https://localhost:8080/",
          "height": 39
        },
        "id": "qo9VunasUivh",
        "outputId": "7150c10c-0df0-4db4-c7a4-44f427dced52"
      },
      "outputs": [
        {
          "output_type": "execute_result",
          "data": {
            "text/plain": [
              "Eq(y(x), C1*exp(x) + C2*exp(4*x) - 2*x**2*exp(2*x) + 2*x*exp(2*x) - 3*exp(2*x))"
            ],
            "text/latex": "$\\displaystyle y{\\left(x \\right)} = C_{1} e^{x} + C_{2} e^{4 x} - 2 x^{2} e^{2 x} + 2 x e^{2 x} - 3 e^{2 x}$"
          },
          "metadata": {},
          "execution_count": 39
        }
      ],
      "source": [
        "expand(Y)"
      ]
    },
    {
      "cell_type": "markdown",
      "metadata": {
        "id": "57nn9VY-YpY2"
      },
      "source": [
        "# Exercise 4.3.6\n",
        "\n",
        "$y'' - y = -x^2$\n"
      ]
    },
    {
      "cell_type": "code",
      "execution_count": 40,
      "metadata": {
        "colab": {
          "base_uri": "https://localhost:8080/",
          "height": 39
        },
        "id": "hn_WT_EaYpY2",
        "outputId": "e741fac8-1b99-4c2b-fcce-dcccd87d92cf"
      },
      "outputs": [
        {
          "output_type": "display_data",
          "data": {
            "text/plain": [
              "Eq(y(x), C1*exp(-x) + C2*exp(x) + x**2 + 2)"
            ],
            "text/latex": "$\\displaystyle y{\\left(x \\right)} = C_{1} e^{- x} + C_{2} e^{x} + x^{2} + 2$"
          },
          "metadata": {}
        }
      ],
      "source": [
        "x = symbols(\"x\", real=True)\n",
        "y = symbols(\"y\", cls=Function)\n",
        "de = Eq(y(x).diff(x,x) - y(x) , -x**2)\n",
        "Y = dsolve(de)\n",
        "display(Y)"
      ]
    },
    {
      "cell_type": "code",
      "execution_count": 41,
      "metadata": {
        "colab": {
          "base_uri": "https://localhost:8080/"
        },
        "id": "DDA9uVOCYpY2",
        "outputId": "b194a69a-4aab-4a96-9d1f-3c3c0f227f3c"
      },
      "outputs": [
        {
          "output_type": "execute_result",
          "data": {
            "text/plain": [
              "(True, 0)"
            ]
          },
          "metadata": {},
          "execution_count": 41
        }
      ],
      "source": [
        "checkodesol(de, Y)"
      ]
    },
    {
      "cell_type": "markdown",
      "metadata": {
        "id": "pqBnGWXAYpY2"
      },
      "source": [
        "# Exercise 4.3.7\n",
        "\n",
        "$y'' + 3y' - 4y = xe^{-x}$\n"
      ]
    },
    {
      "cell_type": "code",
      "execution_count": 42,
      "metadata": {
        "colab": {
          "base_uri": "https://localhost:8080/",
          "height": 53
        },
        "id": "WBXf0URPYpY2",
        "outputId": "2399e471-c4da-4dd3-c596-d69505439279"
      },
      "outputs": [
        {
          "output_type": "display_data",
          "data": {
            "text/plain": [
              "Eq(y(x), C1*exp(-4*x) + C2*exp(x) + (-6*x - 1)*exp(-x)/36)"
            ],
            "text/latex": "$\\displaystyle y{\\left(x \\right)} = C_{1} e^{- 4 x} + C_{2} e^{x} + \\frac{\\left(- 6 x - 1\\right) e^{- x}}{36}$"
          },
          "metadata": {}
        }
      ],
      "source": [
        "x = symbols(\"x\", real=True)\n",
        "y = symbols(\"y\", cls=Function)\n",
        "de = Eq(y(x).diff(x,x) + 3*y(x).diff(x) - 4*y(x) , x*exp(-x))\n",
        "Y = dsolve(de)\n",
        "display(Y)"
      ]
    },
    {
      "cell_type": "code",
      "execution_count": 43,
      "metadata": {
        "colab": {
          "base_uri": "https://localhost:8080/"
        },
        "id": "xjBm47oXYpY3",
        "outputId": "3af3e684-91ea-4ffd-904a-0120d05393f4"
      },
      "outputs": [
        {
          "output_type": "execute_result",
          "data": {
            "text/plain": [
              "(True, 0)"
            ]
          },
          "metadata": {},
          "execution_count": 43
        }
      ],
      "source": [
        "checkodesol(de, Y)"
      ]
    },
    {
      "cell_type": "markdown",
      "metadata": {
        "id": "TmoiRYBIYpY3"
      },
      "source": [
        "# Exercise 4.3.8\n",
        "\n",
        "$y'' - y' + y = x^3 + 6$\n"
      ]
    },
    {
      "cell_type": "code",
      "execution_count": 44,
      "metadata": {
        "colab": {
          "base_uri": "https://localhost:8080/",
          "height": 68
        },
        "id": "kixL_JqoYpY3",
        "outputId": "afa78364-e313-4b11-fbb8-c34d080ee82e"
      },
      "outputs": [
        {
          "output_type": "display_data",
          "data": {
            "text/plain": [
              "Eq(y(x), x**3 + 3*x**2 + (C1*sin(sqrt(3)*x/2) + C2*cos(sqrt(3)*x/2))*exp(x/2))"
            ],
            "text/latex": "$\\displaystyle y{\\left(x \\right)} = x^{3} + 3 x^{2} + \\left(C_{1} \\sin{\\left(\\frac{\\sqrt{3} x}{2} \\right)} + C_{2} \\cos{\\left(\\frac{\\sqrt{3} x}{2} \\right)}\\right) e^{\\frac{x}{2}}$"
          },
          "metadata": {}
        }
      ],
      "source": [
        "x = symbols(\"x\", real=True)\n",
        "y = symbols(\"y\", cls=Function)\n",
        "de = Eq(y(x).diff(x,x) - y(x).diff(x) + y(x) , x**3 +6)\n",
        "Y = dsolve(de)\n",
        "display(Y)"
      ]
    },
    {
      "cell_type": "code",
      "execution_count": 45,
      "metadata": {
        "colab": {
          "base_uri": "https://localhost:8080/"
        },
        "id": "WyqFEZrDYpY3",
        "outputId": "2c112e83-7778-4a79-acf9-0925a361b408"
      },
      "outputs": [
        {
          "output_type": "execute_result",
          "data": {
            "text/plain": [
              "(True, 0)"
            ]
          },
          "metadata": {},
          "execution_count": 45
        }
      ],
      "source": [
        "checkodesol(de, Y)"
      ]
    },
    {
      "cell_type": "code",
      "execution_count": 46,
      "metadata": {
        "colab": {
          "base_uri": "https://localhost:8080/",
          "height": 68
        },
        "id": "lE2lI5gH4TeI",
        "outputId": "d1cd2dec-3649-44b9-c3aa-015ea217cf0e"
      },
      "outputs": [
        {
          "output_type": "execute_result",
          "data": {
            "text/plain": [
              "Eq(y(x), C1*exp(x/2)*sin(sqrt(3)*x/2) + C2*exp(x/2)*cos(sqrt(3)*x/2) + x**3 + 3*x**2)"
            ],
            "text/latex": "$\\displaystyle y{\\left(x \\right)} = C_{1} e^{\\frac{x}{2}} \\sin{\\left(\\frac{\\sqrt{3} x}{2} \\right)} + C_{2} e^{\\frac{x}{2}} \\cos{\\left(\\frac{\\sqrt{3} x}{2} \\right)} + x^{3} + 3 x^{2}$"
          },
          "metadata": {},
          "execution_count": 46
        }
      ],
      "source": [
        "expand(Y)"
      ]
    },
    {
      "cell_type": "markdown",
      "metadata": {
        "id": "xikI_O_5YpY3"
      },
      "source": [
        "# Exercise 4.3.9\n",
        "\n",
        "$y'' - 8y' + 7y = 14$\n"
      ]
    },
    {
      "cell_type": "code",
      "execution_count": 47,
      "metadata": {
        "colab": {
          "base_uri": "https://localhost:8080/",
          "height": 39
        },
        "id": "iQXVGPgiYpY4",
        "outputId": "f2ee1aa7-e4c7-4741-fe18-4f4e11544a0b"
      },
      "outputs": [
        {
          "output_type": "display_data",
          "data": {
            "text/plain": [
              "Eq(y(x), C1*exp(x) + C2*exp(7*x) + 2)"
            ],
            "text/latex": "$\\displaystyle y{\\left(x \\right)} = C_{1} e^{x} + C_{2} e^{7 x} + 2$"
          },
          "metadata": {}
        }
      ],
      "source": [
        "x = symbols(\"x\", real=True)\n",
        "y = symbols(\"y\", cls=Function)\n",
        "de = Eq(y(x).diff(x,x) - 8*y(x).diff(x) + 7*y(x) , 14)\n",
        "Y = dsolve(de)\n",
        "display(Y)"
      ]
    },
    {
      "cell_type": "code",
      "execution_count": 48,
      "metadata": {
        "colab": {
          "base_uri": "https://localhost:8080/"
        },
        "id": "iPCT3wK8YpY4",
        "outputId": "9982aca0-bc07-4ac3-a092-5a8fe6dda978"
      },
      "outputs": [
        {
          "output_type": "execute_result",
          "data": {
            "text/plain": [
              "(True, 0)"
            ]
          },
          "metadata": {},
          "execution_count": 48
        }
      ],
      "source": [
        "checkodesol(de, Y)"
      ]
    },
    {
      "cell_type": "markdown",
      "metadata": {
        "id": "vth-rl-LYpY4"
      },
      "source": [
        "# Exercise 4.3.10\n",
        "\n",
        "$y'' + y' - 2y = 3xe^x$\n"
      ]
    },
    {
      "cell_type": "code",
      "execution_count": 49,
      "metadata": {
        "colab": {
          "base_uri": "https://localhost:8080/",
          "height": 58
        },
        "id": "PdbxK-VOYpY4",
        "outputId": "f1d83491-ab31-404b-fc98-87448563b1d3"
      },
      "outputs": [
        {
          "output_type": "display_data",
          "data": {
            "text/plain": [
              "Eq(y(x), C2*exp(-2*x) + (C1 + x**2/2 - x/3)*exp(x))"
            ],
            "text/latex": "$\\displaystyle y{\\left(x \\right)} = C_{2} e^{- 2 x} + \\left(C_{1} + \\frac{x^{2}}{2} - \\frac{x}{3}\\right) e^{x}$"
          },
          "metadata": {}
        }
      ],
      "source": [
        "x = symbols(\"x\", real=True)\n",
        "y = symbols(\"y\", cls=Function)\n",
        "de = Eq(y(x).diff(x,x) + y(x).diff(x) -2*y(x) , 3 * x * exp(x))\n",
        "Y = dsolve(de)\n",
        "display(Y)"
      ]
    },
    {
      "cell_type": "code",
      "execution_count": 50,
      "metadata": {
        "colab": {
          "base_uri": "https://localhost:8080/"
        },
        "id": "oj8FsQBOYpY4",
        "outputId": "372233a1-a8cf-4ba9-dc46-6f5ad89fdc99"
      },
      "outputs": [
        {
          "output_type": "execute_result",
          "data": {
            "text/plain": [
              "(True, 0)"
            ]
          },
          "metadata": {},
          "execution_count": 50
        }
      ],
      "source": [
        "checkodesol(de, Y)"
      ]
    },
    {
      "cell_type": "markdown",
      "metadata": {
        "id": "m1FLvVGAYpY5"
      },
      "source": [
        "# Exercise 4.3.11\n",
        "\n",
        "$y'' - y = 2e^{x}$"
      ]
    },
    {
      "cell_type": "code",
      "execution_count": 51,
      "metadata": {
        "colab": {
          "base_uri": "https://localhost:8080/",
          "height": 39
        },
        "id": "rRLLDerLYpY5",
        "outputId": "0c04d6e4-e108-431d-ce4a-e103b9637617"
      },
      "outputs": [
        {
          "output_type": "display_data",
          "data": {
            "text/plain": [
              "Eq(y(x), C2*exp(-x) + (C1 + x)*exp(x))"
            ],
            "text/latex": "$\\displaystyle y{\\left(x \\right)} = C_{2} e^{- x} + \\left(C_{1} + x\\right) e^{x}$"
          },
          "metadata": {}
        }
      ],
      "source": [
        "x = symbols(\"x\", real=True)\n",
        "y = symbols(\"y\", cls=Function)\n",
        "de = Eq(y(x).diff(x,x) - y(x) , 2*exp(x))\n",
        "Y = dsolve(de)\n",
        "display(Y)"
      ]
    },
    {
      "cell_type": "code",
      "execution_count": 52,
      "metadata": {
        "colab": {
          "base_uri": "https://localhost:8080/"
        },
        "id": "647adgeWYpY5",
        "outputId": "81c5a94f-3bbd-48eb-f06a-4add44143d25"
      },
      "outputs": [
        {
          "output_type": "execute_result",
          "data": {
            "text/plain": [
              "(True, 0)"
            ]
          },
          "metadata": {},
          "execution_count": 52
        }
      ],
      "source": [
        "checkodesol(de, Y)"
      ]
    },
    {
      "cell_type": "markdown",
      "metadata": {
        "id": "Ur3aN4UhqKWS"
      },
      "source": [
        "# Exercise 4.3.12\n",
        "\n",
        "$y^{(4)} - 2y''' + y'' = e^x$\n"
      ]
    },
    {
      "cell_type": "code",
      "execution_count": 53,
      "metadata": {
        "colab": {
          "base_uri": "https://localhost:8080/",
          "height": 48
        },
        "id": "D2CCA0IWqKWS",
        "outputId": "49c367b1-250e-4a05-8ce3-0caf10f9bf51",
        "scrolled": true
      },
      "outputs": [
        {
          "output_type": "display_data",
          "data": {
            "text/plain": [
              "Eq(y(x), C1 + C4*exp(x) + x*(C2 + (C3 + x/2)*exp(x)))"
            ],
            "text/latex": "$\\displaystyle y{\\left(x \\right)} = C_{1} + C_{4} e^{x} + x \\left(C_{2} + \\left(C_{3} + \\frac{x}{2}\\right) e^{x}\\right)$"
          },
          "metadata": {}
        }
      ],
      "source": [
        "x = symbols(\"x\", real=True)\n",
        "y = symbols(\"y\", cls=Function)\n",
        "de = Eq(y(x).diff(x,x,x,x) - 2*y(x).diff(x,x,x) + y(x).diff(x,x) , exp(x))\n",
        "Y = dsolve(de)\n",
        "display(Y)"
      ]
    },
    {
      "cell_type": "code",
      "execution_count": 54,
      "metadata": {
        "colab": {
          "base_uri": "https://localhost:8080/"
        },
        "id": "qCMXNw7aqKWS",
        "outputId": "91e3143a-5da2-4ff0-d0ce-8fad2b6e07f8"
      },
      "outputs": [
        {
          "output_type": "execute_result",
          "data": {
            "text/plain": [
              "(True, 0)"
            ]
          },
          "metadata": {},
          "execution_count": 54
        }
      ],
      "source": [
        "checkodesol(de, Y)"
      ]
    },
    {
      "cell_type": "code",
      "execution_count": 55,
      "metadata": {
        "colab": {
          "base_uri": "https://localhost:8080/",
          "height": 54
        },
        "id": "LpXTbzHe6or6",
        "outputId": "ffa77bf4-4255-4c26-c8cf-e9d6ee35f29b"
      },
      "outputs": [
        {
          "output_type": "execute_result",
          "data": {
            "text/plain": [
              "Eq(y(x), C1 + C2*x + C3*x*exp(x) + C4*exp(x) + x**2*exp(x)/2)"
            ],
            "text/latex": "$\\displaystyle y{\\left(x \\right)} = C_{1} + C_{2} x + C_{3} x e^{x} + C_{4} e^{x} + \\frac{x^{2} e^{x}}{2}$"
          },
          "metadata": {},
          "execution_count": 55
        }
      ],
      "source": [
        "expand(Y)"
      ]
    },
    {
      "cell_type": "markdown",
      "metadata": {
        "id": "FbtsQO25qKWS"
      },
      "source": [
        "# Exercise 4.3.13\n",
        "\n",
        "$y'' - 4y' + 3y = 2-\\cos(2x) + 35\\sin(2x)$\n"
      ]
    },
    {
      "cell_type": "code",
      "execution_count": 56,
      "metadata": {
        "colab": {
          "base_uri": "https://localhost:8080/",
          "height": 53
        },
        "id": "wgk7fEMFqKWS",
        "outputId": "d1c3f9d8-4a55-4601-8aaa-9490091ebcee",
        "scrolled": true
      },
      "outputs": [
        {
          "output_type": "display_data",
          "data": {
            "text/plain": [
              "Eq(y(x), C1*exp(x) + C2*exp(3*x) - 27*sin(2*x)/65 + 281*cos(2*x)/65 + 2/3)"
            ],
            "text/latex": "$\\displaystyle y{\\left(x \\right)} = C_{1} e^{x} + C_{2} e^{3 x} - \\frac{27 \\sin{\\left(2 x \\right)}}{65} + \\frac{281 \\cos{\\left(2 x \\right)}}{65} + \\frac{2}{3}$"
          },
          "metadata": {}
        }
      ],
      "source": [
        "x = symbols(\"x\", real=True)\n",
        "y = symbols(\"y\", cls=Function)\n",
        "de = Eq(y(x).diff(x,x) -4*y(x).diff(x) + 3*y(x) , 2 - cos(2*x) + 35*sin(2*x))\n",
        "Y = dsolve(de)\n",
        "display(Y)"
      ]
    },
    {
      "cell_type": "code",
      "execution_count": 57,
      "metadata": {
        "colab": {
          "base_uri": "https://localhost:8080/"
        },
        "id": "ZQI-5lgHqKWS",
        "outputId": "d750eba8-13c2-4a63-b206-5455a6a8252f",
        "scrolled": true
      },
      "outputs": [
        {
          "output_type": "execute_result",
          "data": {
            "text/plain": [
              "(True, 0)"
            ]
          },
          "metadata": {},
          "execution_count": 57
        }
      ],
      "source": [
        "checkodesol(de, Y)"
      ]
    },
    {
      "cell_type": "markdown",
      "metadata": {
        "id": "seZbGscoqKWT"
      },
      "source": [
        "# Exercise 4.3.14\n",
        "\n",
        "$y''+y'-2y = 11\\cos\\frac{x}{2} - 7\\sin\\frac{x}{2}$\n"
      ]
    },
    {
      "cell_type": "code",
      "execution_count": 58,
      "metadata": {
        "colab": {
          "base_uri": "https://localhost:8080/",
          "height": 48
        },
        "id": "I-UWS08eqKWT",
        "outputId": "fdb2c6f3-391e-4c1d-e1d1-0ed5ce1f937d",
        "scrolled": true
      },
      "outputs": [
        {
          "output_type": "display_data",
          "data": {
            "text/plain": [
              "Eq(y(x), C1*exp(-2*x) + C2*exp(x) + 4*sin(x/2) - 4*cos(x/2))"
            ],
            "text/latex": "$\\displaystyle y{\\left(x \\right)} = C_{1} e^{- 2 x} + C_{2} e^{x} + 4 \\sin{\\left(\\frac{x}{2} \\right)} - 4 \\cos{\\left(\\frac{x}{2} \\right)}$"
          },
          "metadata": {}
        }
      ],
      "source": [
        "x = symbols(\"x\", real=True)\n",
        "y = symbols(\"y\", cls=Function)\n",
        "de = Eq(y(x).diff(x,x) + y(x).diff(x) - 2*y(x) , 11*cos(x/2) - 7*sin(x/2))\n",
        "Y = dsolve(de)\n",
        "display(Y)"
      ]
    },
    {
      "cell_type": "code",
      "execution_count": 59,
      "metadata": {
        "colab": {
          "base_uri": "https://localhost:8080/"
        },
        "id": "eIpRbVFAqKWT",
        "outputId": "f56ebffe-f4ee-4cdb-963f-660da0a8fb88"
      },
      "outputs": [
        {
          "output_type": "execute_result",
          "data": {
            "text/plain": [
              "(True, 0)"
            ]
          },
          "metadata": {},
          "execution_count": 59
        }
      ],
      "source": [
        "checkodesol(de, Y)"
      ]
    },
    {
      "cell_type": "markdown",
      "metadata": {
        "id": "LECnxh2WqKWT"
      },
      "source": [
        "# Exercise 4.3.15\n",
        "\n",
        "$y''+5y'+6y = -50\\sin 4x$\n"
      ]
    },
    {
      "cell_type": "code",
      "execution_count": 60,
      "metadata": {
        "colab": {
          "base_uri": "https://localhost:8080/",
          "height": 39
        },
        "id": "AYzToS2eqKWT",
        "outputId": "70067253-3e98-4d47-a746-f025599ef6a6",
        "scrolled": true
      },
      "outputs": [
        {
          "output_type": "display_data",
          "data": {
            "text/plain": [
              "Eq(y(x), C1*exp(-3*x) + C2*exp(-2*x) + sin(4*x) + 2*cos(4*x))"
            ],
            "text/latex": "$\\displaystyle y{\\left(x \\right)} = C_{1} e^{- 3 x} + C_{2} e^{- 2 x} + \\sin{\\left(4 x \\right)} + 2 \\cos{\\left(4 x \\right)}$"
          },
          "metadata": {}
        }
      ],
      "source": [
        "x = symbols(\"x\", real=True)\n",
        "y = symbols(\"y\", cls=Function)\n",
        "de = Eq(y(x).diff(x,x) + 5*y(x).diff(x) + 6*y(x) , -50 * sin(4*x))\n",
        "Y = dsolve(de)\n",
        "display(Y)"
      ]
    },
    {
      "cell_type": "code",
      "execution_count": 61,
      "metadata": {
        "colab": {
          "base_uri": "https://localhost:8080/"
        },
        "id": "AUoXu-kDqKWT",
        "outputId": "6c8108d1-7a37-4959-820b-9c195caa1d2d"
      },
      "outputs": [
        {
          "output_type": "execute_result",
          "data": {
            "text/plain": [
              "(True, 0)"
            ]
          },
          "metadata": {},
          "execution_count": 61
        }
      ],
      "source": [
        "checkodesol(de, Y)"
      ]
    },
    {
      "cell_type": "markdown",
      "metadata": {
        "id": "40ay9vT4vGyl"
      },
      "source": [
        "# Exercise 4.3.16\n",
        "\n",
        "$y'' - 3y' + 2y = 2e^x\\cos\\frac{x}{2}$\n"
      ]
    },
    {
      "cell_type": "code",
      "execution_count": 62,
      "metadata": {
        "colab": {
          "base_uri": "https://localhost:8080/",
          "height": 68
        },
        "id": "FiTpmhTEvGy_",
        "outputId": "36f51ebb-f3e9-492f-8889-2a8317f510fc",
        "scrolled": true
      },
      "outputs": [
        {
          "output_type": "display_data",
          "data": {
            "text/plain": [
              "Eq(y(x), (C1 + C2*exp(x) - 16*sin(x/2)/5 - 8*cos(x/2)/5)*exp(x))"
            ],
            "text/latex": "$\\displaystyle y{\\left(x \\right)} = \\left(C_{1} + C_{2} e^{x} - \\frac{16 \\sin{\\left(\\frac{x}{2} \\right)}}{5} - \\frac{8 \\cos{\\left(\\frac{x}{2} \\right)}}{5}\\right) e^{x}$"
          },
          "metadata": {}
        }
      ],
      "source": [
        "x = symbols(\"x\", real=True)\n",
        "y = symbols(\"y\", cls=Function)\n",
        "de = Eq(y(x).diff(x,x) - 3*y(x).diff(x) + 2*y(x) , 2*exp(x)*cos(x/2))\n",
        "Y = dsolve(de)\n",
        "display(Y)"
      ]
    },
    {
      "cell_type": "code",
      "execution_count": 63,
      "metadata": {
        "colab": {
          "base_uri": "https://localhost:8080/",
          "height": 56
        },
        "id": "JnJSeBEiATcS",
        "outputId": "39499f12-cacf-419c-a76b-490d19a8f31f"
      },
      "outputs": [
        {
          "output_type": "execute_result",
          "data": {
            "text/plain": [
              "Eq(y(x), C1*exp(x) + C2*exp(2*x) - 16*exp(x)*sin(x/2)/5 - 8*exp(x)*cos(x/2)/5)"
            ],
            "text/latex": "$\\displaystyle y{\\left(x \\right)} = C_{1} e^{x} + C_{2} e^{2 x} - \\frac{16 e^{x} \\sin{\\left(\\frac{x}{2} \\right)}}{5} - \\frac{8 e^{x} \\cos{\\left(\\frac{x}{2} \\right)}}{5}$"
          },
          "metadata": {},
          "execution_count": 63
        }
      ],
      "source": [
        "expand(Y)"
      ]
    },
    {
      "cell_type": "code",
      "execution_count": 64,
      "metadata": {
        "colab": {
          "base_uri": "https://localhost:8080/"
        },
        "id": "3-2sEUXzvGzA",
        "outputId": "7e795909-2535-4965-fa11-d256d2a44f52"
      },
      "outputs": [
        {
          "output_type": "execute_result",
          "data": {
            "text/plain": [
              "(True, 0)"
            ]
          },
          "metadata": {},
          "execution_count": 64
        }
      ],
      "source": [
        "checkodesol(de, Y)"
      ]
    },
    {
      "cell_type": "markdown",
      "metadata": {
        "id": "BtENlclcgYvQ"
      },
      "source": [
        "# Exercise 4.3.17\n",
        "\n",
        "$y''-3y'+2y=2\\sin x$\n"
      ]
    },
    {
      "cell_type": "code",
      "execution_count": 65,
      "metadata": {
        "colab": {
          "base_uri": "https://localhost:8080/",
          "height": 39
        },
        "id": "v7BE56ZsgYvh",
        "outputId": "34823340-6104-40c2-d571-471c9f334046",
        "scrolled": true
      },
      "outputs": [
        {
          "output_type": "display_data",
          "data": {
            "text/plain": [
              "Eq(y(x), C1*exp(-x) + C2*exp(x) - sin(x))"
            ],
            "text/latex": "$\\displaystyle y{\\left(x \\right)} = C_{1} e^{- x} + C_{2} e^{x} - \\sin{\\left(x \\right)}$"
          },
          "metadata": {}
        }
      ],
      "source": [
        "x = symbols(\"x\", real=True)\n",
        "y = symbols(\"y\", cls=Function)\n",
        "de = Eq(y(x).diff(x,x) - 3*y(x) + 2*y(x) , 2*sin(x))\n",
        "Y = dsolve(de)\n",
        "display(Y)"
      ]
    },
    {
      "cell_type": "code",
      "execution_count": 66,
      "metadata": {
        "colab": {
          "base_uri": "https://localhost:8080/"
        },
        "id": "sWsocfxpgYvh",
        "outputId": "6cc9d791-b10a-4a98-8d58-bf3fefe6c844"
      },
      "outputs": [
        {
          "output_type": "execute_result",
          "data": {
            "text/plain": [
              "(True, 0)"
            ]
          },
          "metadata": {},
          "execution_count": 66
        }
      ],
      "source": [
        "checkodesol(de, Y)"
      ]
    },
    {
      "cell_type": "markdown",
      "metadata": {
        "id": "ruseDy92g4L9"
      },
      "source": [
        "# Exercise 4.3.18\n",
        "\n",
        "$y''+4y = 12\\cos 2x$"
      ]
    },
    {
      "cell_type": "code",
      "execution_count": 67,
      "metadata": {
        "colab": {
          "base_uri": "https://localhost:8080/",
          "height": 39
        },
        "id": "ktq7PaLMg4L-",
        "outputId": "a5b2985c-0d8f-4d8d-982e-3659bbf346cb",
        "scrolled": true
      },
      "outputs": [
        {
          "output_type": "display_data",
          "data": {
            "text/plain": [
              "Eq(y(x), C2*cos(2*x) + (C1 + 3*x)*sin(2*x))"
            ],
            "text/latex": "$\\displaystyle y{\\left(x \\right)} = C_{2} \\cos{\\left(2 x \\right)} + \\left(C_{1} + 3 x\\right) \\sin{\\left(2 x \\right)}$"
          },
          "metadata": {}
        }
      ],
      "source": [
        "x = symbols(\"x\", real=True)\n",
        "y = symbols(\"y\", cls=Function)\n",
        "de = Eq(y(x).diff(x,x) + 4*y(x) , 12*cos(2*x))\n",
        "Y = dsolve(de)\n",
        "display(Y)"
      ]
    },
    {
      "cell_type": "code",
      "execution_count": 68,
      "metadata": {
        "colab": {
          "base_uri": "https://localhost:8080/",
          "height": 39
        },
        "id": "HoGUj2Y9YbPJ",
        "outputId": "1c89c265-2449-40bf-f51c-f42a160f0eea"
      },
      "outputs": [
        {
          "output_type": "execute_result",
          "data": {
            "text/plain": [
              "Eq(y(x), C1*sin(2*x) + C2*cos(2*x) + 3*x*sin(2*x))"
            ],
            "text/latex": "$\\displaystyle y{\\left(x \\right)} = C_{1} \\sin{\\left(2 x \\right)} + C_{2} \\cos{\\left(2 x \\right)} + 3 x \\sin{\\left(2 x \\right)}$"
          },
          "metadata": {},
          "execution_count": 68
        }
      ],
      "source": [
        "expand(Y)"
      ]
    },
    {
      "cell_type": "code",
      "execution_count": 69,
      "metadata": {
        "colab": {
          "base_uri": "https://localhost:8080/"
        },
        "id": "kwIFT_bCg4L-",
        "outputId": "ef848c04-522f-4cca-e510-6997614147ab"
      },
      "outputs": [
        {
          "output_type": "execute_result",
          "data": {
            "text/plain": [
              "(True, 0)"
            ]
          },
          "metadata": {},
          "execution_count": 69
        }
      ],
      "source": [
        "checkodesol(de, Y)"
      ]
    },
    {
      "cell_type": "markdown",
      "metadata": {
        "id": "GPMJmW-YHYC_"
      },
      "source": [
        "# Exercise 4.3.19\n",
        "\n",
        "$y''+9y=-18\\cos 3x$"
      ]
    },
    {
      "cell_type": "code",
      "execution_count": 70,
      "metadata": {
        "colab": {
          "base_uri": "https://localhost:8080/",
          "height": 39
        },
        "id": "ARGMTdjOHYDZ",
        "outputId": "456d4523-ef3c-4388-bdcf-c82d0e04fc74",
        "scrolled": true
      },
      "outputs": [
        {
          "output_type": "display_data",
          "data": {
            "text/plain": [
              "Eq(y(x), C2*cos(3*x) + (C1 - 3*x)*sin(3*x))"
            ],
            "text/latex": "$\\displaystyle y{\\left(x \\right)} = C_{2} \\cos{\\left(3 x \\right)} + \\left(C_{1} - 3 x\\right) \\sin{\\left(3 x \\right)}$"
          },
          "metadata": {}
        }
      ],
      "source": [
        "x = symbols(\"x\", real=True)\n",
        "y = symbols(\"y\", cls=Function)\n",
        "de = Eq(y(x).diff(x,x) + 9*y(x) , -18*cos(3*x))\n",
        "Y = dsolve(de)\n",
        "display(Y)"
      ]
    },
    {
      "cell_type": "code",
      "execution_count": 71,
      "metadata": {
        "colab": {
          "base_uri": "https://localhost:8080/",
          "height": 39
        },
        "id": "Vg39CkTTYbPL",
        "outputId": "94f38d45-3d7b-4f14-8b9b-4a0f8f44a9da"
      },
      "outputs": [
        {
          "output_type": "execute_result",
          "data": {
            "text/plain": [
              "Eq(y(x), C1*sin(3*x) + C2*cos(3*x) - 3*x*sin(3*x))"
            ],
            "text/latex": "$\\displaystyle y{\\left(x \\right)} = C_{1} \\sin{\\left(3 x \\right)} + C_{2} \\cos{\\left(3 x \\right)} - 3 x \\sin{\\left(3 x \\right)}$"
          },
          "metadata": {},
          "execution_count": 71
        }
      ],
      "source": [
        "expand(Y)"
      ]
    },
    {
      "cell_type": "code",
      "execution_count": 72,
      "metadata": {
        "colab": {
          "base_uri": "https://localhost:8080/"
        },
        "id": "iUbm5q8WHYDa",
        "outputId": "42c5e456-5f17-4896-8f03-632f368ec7d9"
      },
      "outputs": [
        {
          "output_type": "execute_result",
          "data": {
            "text/plain": [
              "(True, 0)"
            ]
          },
          "metadata": {},
          "execution_count": 72
        }
      ],
      "source": [
        "checkodesol(de, Y)"
      ]
    },
    {
      "cell_type": "markdown",
      "metadata": {
        "id": "-OZQ60jiIKIC"
      },
      "source": [
        "# Exercise 4.3.20\n",
        "\n",
        "$y'' - 4y' + 4y = x^2 + e^2x + \\sin 2x$\n"
      ]
    },
    {
      "cell_type": "code",
      "execution_count": 73,
      "metadata": {
        "colab": {
          "base_uri": "https://localhost:8080/",
          "height": 54
        },
        "id": "U0YuTKV3IKIW",
        "outputId": "54f92272-6523-4d55-b427-5a35a730a485",
        "scrolled": true
      },
      "outputs": [
        {
          "output_type": "display_data",
          "data": {
            "text/plain": [
              "Eq(y(x), x**2/4 + x/2 + (C1 + x*(C2 + x/2))*exp(2*x) + cos(2*x)/8 + 3/8)"
            ],
            "text/latex": "$\\displaystyle y{\\left(x \\right)} = \\frac{x^{2}}{4} + \\frac{x}{2} + \\left(C_{1} + x \\left(C_{2} + \\frac{x}{2}\\right)\\right) e^{2 x} + \\frac{\\cos{\\left(2 x \\right)}}{8} + \\frac{3}{8}$"
          },
          "metadata": {}
        }
      ],
      "source": [
        "x = symbols(\"x\", real=True)\n",
        "y = symbols(\"y\", cls=Function)\n",
        "de = Eq(y(x).diff(x,x) - 4*y(x).diff(x) + 4*y(x) , x**2 + exp(2*x) + sin(2*x))\n",
        "Y = dsolve(de)\n",
        "display(Y)"
      ]
    },
    {
      "cell_type": "code",
      "execution_count": 74,
      "metadata": {
        "colab": {
          "base_uri": "https://localhost:8080/",
          "height": 54
        },
        "id": "yVBDhyMMYbPM",
        "outputId": "4249f742-b046-4ee2-f820-30498ace9399"
      },
      "outputs": [
        {
          "output_type": "execute_result",
          "data": {
            "text/plain": [
              "Eq(y(x), C1*exp(2*x) + C2*x*exp(2*x) + x**2*exp(2*x)/2 + x**2/4 + x/2 + cos(2*x)/8 + 3/8)"
            ],
            "text/latex": "$\\displaystyle y{\\left(x \\right)} = C_{1} e^{2 x} + C_{2} x e^{2 x} + \\frac{x^{2} e^{2 x}}{2} + \\frac{x^{2}}{4} + \\frac{x}{2} + \\frac{\\cos{\\left(2 x \\right)}}{8} + \\frac{3}{8}$"
          },
          "metadata": {},
          "execution_count": 74
        }
      ],
      "source": [
        "expand(Y)"
      ]
    },
    {
      "cell_type": "code",
      "execution_count": 75,
      "metadata": {
        "colab": {
          "base_uri": "https://localhost:8080/"
        },
        "id": "OXT6kSIpIKIW",
        "outputId": "681a532f-2e10-4740-d862-07f82f1ef7b0"
      },
      "outputs": [
        {
          "output_type": "execute_result",
          "data": {
            "text/plain": [
              "(True, 0)"
            ]
          },
          "metadata": {},
          "execution_count": 75
        }
      ],
      "source": [
        "checkodesol(de, Y)"
      ]
    },
    {
      "cell_type": "markdown",
      "metadata": {
        "id": "ovZkxOmUIre2"
      },
      "source": [
        "# Exercise 4.3.21\n",
        "\n",
        "$y'' - 2y' -8y = e^x - 8\\cos 2x$\n"
      ]
    },
    {
      "cell_type": "code",
      "execution_count": 76,
      "metadata": {
        "id": "Z71NBWJJIre2",
        "scrolled": true,
        "colab": {
          "base_uri": "https://localhost:8080/",
          "height": 53
        },
        "outputId": "1e44d2ea-676d-4c27-a27f-4039eefb1074"
      },
      "outputs": [
        {
          "output_type": "display_data",
          "data": {
            "text/plain": [
              "Eq(y(x), C1*exp(-2*x) + C2*exp(4*x) - exp(x)/9 + sin(2*x)/5 + 3*cos(2*x)/5)"
            ],
            "text/latex": "$\\displaystyle y{\\left(x \\right)} = C_{1} e^{- 2 x} + C_{2} e^{4 x} - \\frac{e^{x}}{9} + \\frac{\\sin{\\left(2 x \\right)}}{5} + \\frac{3 \\cos{\\left(2 x \\right)}}{5}$"
          },
          "metadata": {}
        }
      ],
      "source": [
        "x = symbols(\"x\", real=True)\n",
        "y = symbols(\"y\", cls=Function)\n",
        "de = Eq(y(x).diff(x,x) - 2*y(x).diff(x) - 8*y(x) , exp(x) -8*cos(2*x))\n",
        "Y = dsolve(de)\n",
        "display(Y)"
      ]
    },
    {
      "cell_type": "code",
      "execution_count": 77,
      "metadata": {
        "colab": {
          "base_uri": "https://localhost:8080/"
        },
        "outputId": "52d2ad72-5df9-4e99-a555-bf185ba741e9",
        "id": "KIzjawAPYbPN"
      },
      "outputs": [
        {
          "output_type": "execute_result",
          "data": {
            "text/plain": [
              "(True, 0)"
            ]
          },
          "metadata": {},
          "execution_count": 77
        }
      ],
      "source": [
        "checkodesol(de, Y)"
      ]
    },
    {
      "cell_type": "markdown",
      "metadata": {
        "id": "pwjBCsLcLcYT"
      },
      "source": [
        "# Exercise 4.3.22\n",
        "\n",
        "$y''-y = 2x -1 - 3e^x$\n"
      ]
    },
    {
      "cell_type": "code",
      "execution_count": 78,
      "metadata": {
        "colab": {
          "base_uri": "https://localhost:8080/",
          "height": 58
        },
        "id": "WwLiOmrnLcYe",
        "outputId": "8c807fb9-32b2-4458-8d19-a3df87c8dacc",
        "scrolled": true
      },
      "outputs": [
        {
          "output_type": "display_data",
          "data": {
            "text/plain": [
              "Eq(y(x), C2*exp(-x) - 2*x + (C1 - 3*x/2)*exp(x) + 1)"
            ],
            "text/latex": "$\\displaystyle y{\\left(x \\right)} = C_{2} e^{- x} - 2 x + \\left(C_{1} - \\frac{3 x}{2}\\right) e^{x} + 1$"
          },
          "metadata": {}
        }
      ],
      "source": [
        "x = symbols(\"x\", real=True)\n",
        "y = symbols(\"y\", cls=Function)\n",
        "de = Eq(y(x).diff(x,x) - y(x) , 2*x -1 -3*exp(x))\n",
        "Y = dsolve(de) \n",
        "display(Y)"
      ]
    },
    {
      "cell_type": "code",
      "execution_count": 79,
      "metadata": {
        "colab": {
          "base_uri": "https://localhost:8080/",
          "height": 51
        },
        "id": "DgxO2xsZYbPO",
        "outputId": "17850208-8597-4586-e978-009cecb41a53"
      },
      "outputs": [
        {
          "output_type": "execute_result",
          "data": {
            "text/plain": [
              "Eq(y(x), C1*exp(x) + C2*exp(-x) - 3*x*exp(x)/2 - 2*x + 1)"
            ],
            "text/latex": "$\\displaystyle y{\\left(x \\right)} = C_{1} e^{x} + C_{2} e^{- x} - \\frac{3 x e^{x}}{2} - 2 x + 1$"
          },
          "metadata": {},
          "execution_count": 79
        }
      ],
      "source": [
        "expand(Y)"
      ]
    },
    {
      "cell_type": "code",
      "execution_count": 80,
      "metadata": {
        "colab": {
          "base_uri": "https://localhost:8080/"
        },
        "id": "PAujYkS1LcYf",
        "outputId": "9fdf7014-97c4-41b7-e16b-8b36b4765391"
      },
      "outputs": [
        {
          "output_type": "execute_result",
          "data": {
            "text/plain": [
              "(True, 0)"
            ]
          },
          "metadata": {},
          "execution_count": 80
        }
      ],
      "source": [
        "checkodesol(de, Y)"
      ]
    },
    {
      "cell_type": "markdown",
      "metadata": {
        "id": "U8YHnTVMFpex"
      },
      "source": [
        "# Exercise 4.3.23\n",
        "\n",
        "$y''' + y'' = 3xe^x + x^2 + 1$"
      ]
    },
    {
      "cell_type": "code",
      "execution_count": 81,
      "metadata": {
        "id": "Hhy2MK9tFpe4",
        "scrolled": true,
        "colab": {
          "base_uri": "https://localhost:8080/",
          "height": 58
        },
        "outputId": "0f73ce6f-3df6-477e-b655-80eea42d8965"
      },
      "outputs": [
        {
          "output_type": "display_data",
          "data": {
            "text/plain": [
              "Eq(y(x), C1 + C3*exp(-x) + x**4/12 - x**3/3 + 3*x**2/2 + x*(C2 + 3*exp(x)/2) - 15*exp(x)/4)"
            ],
            "text/latex": "$\\displaystyle y{\\left(x \\right)} = C_{1} + C_{3} e^{- x} + \\frac{x^{4}}{12} - \\frac{x^{3}}{3} + \\frac{3 x^{2}}{2} + x \\left(C_{2} + \\frac{3 e^{x}}{2}\\right) - \\frac{15 e^{x}}{4}$"
          },
          "metadata": {}
        }
      ],
      "source": [
        "x = symbols(\"x\", real=True)\n",
        "y = symbols(\"y\", cls=Function)\n",
        "de = Eq(y(x).diff(x,x,x) + y(x).diff(x,x) , 3*x*exp(x) + x**2 +1)\n",
        "Y = dsolve(de, y(x)) \n",
        "display(Y)"
      ]
    },
    {
      "cell_type": "code",
      "execution_count": 82,
      "metadata": {
        "colab": {
          "base_uri": "https://localhost:8080/",
          "height": 54
        },
        "id": "27z_wDnvYbPP",
        "outputId": "6a9efd98-7745-4989-a178-d7923fb5e413"
      },
      "outputs": [
        {
          "output_type": "execute_result",
          "data": {
            "text/plain": [
              "Eq(y(x), C1 + C2*x + C3*exp(-x) + x**4/12 - x**3/3 + 3*x**2/2 + 3*x*exp(x)/2 - 15*exp(x)/4)"
            ],
            "text/latex": "$\\displaystyle y{\\left(x \\right)} = C_{1} + C_{2} x + C_{3} e^{- x} + \\frac{x^{4}}{12} - \\frac{x^{3}}{3} + \\frac{3 x^{2}}{2} + \\frac{3 x e^{x}}{2} - \\frac{15 e^{x}}{4}$"
          },
          "metadata": {},
          "execution_count": 82
        }
      ],
      "source": [
        "expand(Y)"
      ]
    },
    {
      "cell_type": "markdown",
      "metadata": {
        "id": "BGriVNz6IUvo"
      },
      "source": [
        "# Exercise 4.3.24\n",
        "\n",
        "$y'' -8y' + 20y = 5xe^{4x}\\sin 2x$\n"
      ]
    },
    {
      "cell_type": "code",
      "execution_count": 83,
      "metadata": {
        "colab": {
          "base_uri": "https://localhost:8080/",
          "height": 58
        },
        "id": "t1J1JgYAIUvz",
        "outputId": "dde622c8-1184-43e4-c7cd-1fba62855168",
        "scrolled": true
      },
      "outputs": [
        {
          "output_type": "display_data",
          "data": {
            "text/plain": [
              "Eq(y(x), ((C1 - 5*x**2/8)*cos(2*x) + (C2 + 5*x/16)*sin(2*x))*exp(4*x))"
            ],
            "text/latex": "$\\displaystyle y{\\left(x \\right)} = \\left(\\left(C_{1} - \\frac{5 x^{2}}{8}\\right) \\cos{\\left(2 x \\right)} + \\left(C_{2} + \\frac{5 x}{16}\\right) \\sin{\\left(2 x \\right)}\\right) e^{4 x}$"
          },
          "metadata": {}
        }
      ],
      "source": [
        "x = symbols(\"x\", real=True)\n",
        "y = symbols(\"y\", cls=Function)\n",
        "de = Eq(y(x).diff(x,x) - 8*y(x).diff(x) + 20*y(x) , 5*x*exp(4*x) * sin(2*x))\n",
        "Y = dsolve(de) \n",
        "display(Y)"
      ]
    },
    {
      "cell_type": "code",
      "execution_count": 84,
      "metadata": {
        "colab": {
          "base_uri": "https://localhost:8080/",
          "height": 54
        },
        "id": "zi-QKAJTYbPQ",
        "outputId": "0522c361-3804-4070-c99f-f6d20abdba7f"
      },
      "outputs": [
        {
          "output_type": "execute_result",
          "data": {
            "text/plain": [
              "Eq(y(x), C1*exp(4*x)*cos(2*x) + C2*exp(4*x)*sin(2*x) - 5*x**2*exp(4*x)*cos(2*x)/8 + 5*x*exp(4*x)*sin(2*x)/16)"
            ],
            "text/latex": "$\\displaystyle y{\\left(x \\right)} = C_{1} e^{4 x} \\cos{\\left(2 x \\right)} + C_{2} e^{4 x} \\sin{\\left(2 x \\right)} - \\frac{5 x^{2} e^{4 x} \\cos{\\left(2 x \\right)}}{8} + \\frac{5 x e^{4 x} \\sin{\\left(2 x \\right)}}{16}$"
          },
          "metadata": {},
          "execution_count": 84
        }
      ],
      "source": [
        "expand(Y)"
      ]
    },
    {
      "cell_type": "code",
      "execution_count": 85,
      "metadata": {
        "colab": {
          "base_uri": "https://localhost:8080/"
        },
        "id": "5vd9wT-0IUvz",
        "outputId": "f18a776b-c5e0-4d77-8771-5f85e2195dcb"
      },
      "outputs": [
        {
          "output_type": "execute_result",
          "data": {
            "text/plain": [
              "(True, 0)"
            ]
          },
          "metadata": {},
          "execution_count": 85
        }
      ],
      "source": [
        "checkodesol(de, Y)"
      ]
    },
    {
      "cell_type": "markdown",
      "metadata": {
        "id": "WIV9i_6xJByS"
      },
      "source": [
        "# Exercise 4.3.25\n",
        "\n",
        "$y'' - 9y = e^{-3x}(x^2 + \\sin 3x)$\n"
      ]
    },
    {
      "cell_type": "code",
      "execution_count": 86,
      "metadata": {
        "colab": {
          "base_uri": "https://localhost:8080/",
          "height": 58
        },
        "id": "WKG1BmKGJByk",
        "outputId": "992ca9a9-1a76-445f-feb6-f9fc966bbcc9",
        "scrolled": true
      },
      "outputs": [
        {
          "output_type": "display_data",
          "data": {
            "text/plain": [
              "Eq(y(x), C2*exp(3*x) + (C1 - x**3/18 - x**2/36 - x/108 - sin(3*x)/45 + 2*cos(3*x)/45)*exp(-3*x))"
            ],
            "text/latex": "$\\displaystyle y{\\left(x \\right)} = C_{2} e^{3 x} + \\left(C_{1} - \\frac{x^{3}}{18} - \\frac{x^{2}}{36} - \\frac{x}{108} - \\frac{\\sin{\\left(3 x \\right)}}{45} + \\frac{2 \\cos{\\left(3 x \\right)}}{45}\\right) e^{- 3 x}$"
          },
          "metadata": {}
        }
      ],
      "source": [
        "x = symbols(\"x\", real=True)\n",
        "y = symbols(\"y\", cls=Function)\n",
        "de = Eq(y(x).diff(x,x) - 9*y(x) , exp(-3*x) * (x**2 + sin(3*x)))\n",
        "Y = dsolve(de) \n",
        "display(Y)"
      ]
    },
    {
      "cell_type": "code",
      "execution_count": 87,
      "metadata": {
        "colab": {
          "base_uri": "https://localhost:8080/",
          "height": 54
        },
        "id": "2ozd5M7cYbPR",
        "outputId": "ec68f369-4684-4037-ceeb-2bf06e84b363"
      },
      "outputs": [
        {
          "output_type": "execute_result",
          "data": {
            "text/plain": [
              "Eq(y(x), C1*exp(-3*x) + C2*exp(3*x) - x**3*exp(-3*x)/18 - x**2*exp(-3*x)/36 - x*exp(-3*x)/108 - exp(-3*x)*sin(3*x)/45 + 2*exp(-3*x)*cos(3*x)/45)"
            ],
            "text/latex": "$\\displaystyle y{\\left(x \\right)} = C_{1} e^{- 3 x} + C_{2} e^{3 x} - \\frac{x^{3} e^{- 3 x}}{18} - \\frac{x^{2} e^{- 3 x}}{36} - \\frac{x e^{- 3 x}}{108} - \\frac{e^{- 3 x} \\sin{\\left(3 x \\right)}}{45} + \\frac{2 e^{- 3 x} \\cos{\\left(3 x \\right)}}{45}$"
          },
          "metadata": {},
          "execution_count": 87
        }
      ],
      "source": [
        "expand(Y)"
      ]
    },
    {
      "cell_type": "code",
      "execution_count": 88,
      "metadata": {
        "colab": {
          "base_uri": "https://localhost:8080/"
        },
        "id": "cZAcwzF7JByk",
        "outputId": "0917cef3-163f-45cb-a9ff-5985b2cb63bb"
      },
      "outputs": [
        {
          "output_type": "execute_result",
          "data": {
            "text/plain": [
              "(True, 0)"
            ]
          },
          "metadata": {},
          "execution_count": 88
        }
      ],
      "source": [
        "checkodesol(de, Y)"
      ]
    },
    {
      "cell_type": "markdown",
      "metadata": {
        "id": "nOaa_uSoJp4x"
      },
      "source": [
        "# Exercise 4.3.26\n",
        "\n",
        "$y'' + 3y -4y = e^{-4x} + xe^{-x}$\n"
      ]
    },
    {
      "cell_type": "code",
      "execution_count": 89,
      "metadata": {
        "colab": {
          "base_uri": "https://localhost:8080/",
          "height": 58
        },
        "id": "SLetrNfqJp4y",
        "outputId": "a5c8d9b3-7db3-41d0-fe5b-e542d794957d",
        "scrolled": true
      },
      "outputs": [
        {
          "output_type": "display_data",
          "data": {
            "text/plain": [
              "Eq(y(x), C2*exp(x) + (C1 - x**2/4 - x/4)*exp(-x) + exp(-4*x)/15)"
            ],
            "text/latex": "$\\displaystyle y{\\left(x \\right)} = C_{2} e^{x} + \\left(C_{1} - \\frac{x^{2}}{4} - \\frac{x}{4}\\right) e^{- x} + \\frac{e^{- 4 x}}{15}$"
          },
          "metadata": {}
        }
      ],
      "source": [
        "x = symbols(\"x\", real=True)\n",
        "y = symbols(\"y\", cls=Function)\n",
        "de = Eq(y(x).diff(x,x) + 3*y(x) - 4*y(x) , exp(-4*x) + x*exp(-x))\n",
        "Y = dsolve(de) \n",
        "display(Y)"
      ]
    },
    {
      "cell_type": "code",
      "execution_count": 90,
      "metadata": {
        "colab": {
          "base_uri": "https://localhost:8080/",
          "height": 54
        },
        "id": "apKMwv2FYbPT",
        "outputId": "74fff81b-35d8-4930-b13a-d4666d166808"
      },
      "outputs": [
        {
          "output_type": "execute_result",
          "data": {
            "text/plain": [
              "Eq(y(x), C1*exp(-x) + C2*exp(x) - x**2*exp(-x)/4 - x*exp(-x)/4 + exp(-4*x)/15)"
            ],
            "text/latex": "$\\displaystyle y{\\left(x \\right)} = C_{1} e^{- x} + C_{2} e^{x} - \\frac{x^{2} e^{- x}}{4} - \\frac{x e^{- x}}{4} + \\frac{e^{- 4 x}}{15}$"
          },
          "metadata": {},
          "execution_count": 90
        }
      ],
      "source": [
        "expand(Y)"
      ]
    },
    {
      "cell_type": "code",
      "execution_count": 91,
      "metadata": {
        "colab": {
          "base_uri": "https://localhost:8080/"
        },
        "id": "icVVx5JNJp41",
        "outputId": "0ef41b04-e879-4e1d-8c38-d058962e33fd"
      },
      "outputs": [
        {
          "output_type": "execute_result",
          "data": {
            "text/plain": [
              "(True, 0)"
            ]
          },
          "metadata": {},
          "execution_count": 91
        }
      ],
      "source": [
        "checkodesol(de, Y)"
      ]
    },
    {
      "cell_type": "markdown",
      "metadata": {
        "id": "njhkpk70Nxi4"
      },
      "source": [
        "# Exercise 4.6.1\n",
        "\n",
        "$\n",
        "y'' - 2y' = e^{2x} + x^2 - 1 \\\\\n",
        "y(0) = \\frac{1}{8} \\\\\n",
        "y'(0) = 1\n",
        "$"
      ]
    },
    {
      "cell_type": "code",
      "execution_count": 92,
      "metadata": {
        "colab": {
          "base_uri": "https://localhost:8080/",
          "height": 54
        },
        "id": "PoIGBJZJNxjM",
        "outputId": "d5c3ab3e-c461-4331-bf45-7c321cf7be50",
        "scrolled": true
      },
      "outputs": [
        {
          "output_type": "display_data",
          "data": {
            "text/plain": [
              "Eq(y(x), -x**3/6 - x**2/4 + x/4 + (x/2 + 0.125)*exp(2*x))"
            ],
            "text/latex": "$\\displaystyle y{\\left(x \\right)} = - \\frac{x^{3}}{6} - \\frac{x^{2}}{4} + \\frac{x}{4} + \\left(\\frac{x}{2} + 0.125\\right) e^{2 x}$"
          },
          "metadata": {}
        }
      ],
      "source": [
        "x = symbols(\"x\", real=True)\n",
        "y = symbols(\"y\", cls=Function)\n",
        "de = Eq(y(x).diff(x,x) - 2*y(x).diff(x) , exp(2*x) + x**2 - 1)\n",
        "Y = dsolve(de, y(x) , ics={y(0): 1/8, y(x).diff(x).subs(x,0): 1})\n",
        "display(Y)"
      ]
    },
    {
      "cell_type": "code",
      "execution_count": 93,
      "metadata": {
        "colab": {
          "base_uri": "https://localhost:8080/"
        },
        "id": "CZP1WMQ_NxjN",
        "outputId": "b98d34e8-8cce-46e0-afca-4f23af395dcc"
      },
      "outputs": [
        {
          "output_type": "execute_result",
          "data": {
            "text/plain": [
              "(True, 0)"
            ]
          },
          "metadata": {},
          "execution_count": 93
        }
      ],
      "source": [
        "checkodesol(de, Y)"
      ]
    },
    {
      "cell_type": "code",
      "execution_count": 94,
      "metadata": {
        "colab": {
          "base_uri": "https://localhost:8080/"
        },
        "outputId": "b88e5fc7-f714-422c-a49f-a2dd9378fbfe",
        "id": "KMDNk2STYbPV"
      },
      "outputs": [
        {
          "output_type": "stream",
          "name": "stdout",
          "text": [
            "0.125000000000000 1.00000000000000\n"
          ]
        }
      ],
      "source": [
        "sol = Y.rhs\n",
        "y0 = sol.subs(x,0)\n",
        "y1 = sol.diff(x).subs(x,0)\n",
        "print(y0,y1)"
      ]
    },
    {
      "cell_type": "markdown",
      "metadata": {
        "id": "3Idvab0dPS-4"
      },
      "source": [
        "# Exercise 4.6.2\n",
        "\n",
        "$\n",
        "y'' + y = e^{2x} + x^2 - 1 \\\\\n",
        "y(0) = 0 \\\\\n",
        "y'(0) = 1\n",
        "$"
      ]
    },
    {
      "cell_type": "code",
      "execution_count": 95,
      "metadata": {
        "colab": {
          "base_uri": "https://localhost:8080/",
          "height": 58
        },
        "id": "hHqwVNJYPS_O",
        "outputId": "dac327fa-b970-413f-dd1e-da270e396112",
        "scrolled": true
      },
      "outputs": [
        {
          "output_type": "display_data",
          "data": {
            "text/plain": [
              "Eq(y(x), -x**3/6 - x**2/4 + x/4 + (x/2 + 1/8)*exp(2*x) - 1/8)"
            ],
            "text/latex": "$\\displaystyle y{\\left(x \\right)} = - \\frac{x^{3}}{6} - \\frac{x^{2}}{4} + \\frac{x}{4} + \\left(\\frac{x}{2} + \\frac{1}{8}\\right) e^{2 x} - \\frac{1}{8}$"
          },
          "metadata": {}
        }
      ],
      "source": [
        "x = symbols(\"x\", real=True)\n",
        "y = symbols(\"y\", cls=Function)\n",
        "de = Eq(y(x).diff(x,x) - 2*y(x).diff(x) , exp(2*x) + x**2 - 1)\n",
        "Y = dsolve(de, y(x) , ics={y(0): 0, y(x).diff(x).subs(x,0): 1})\n",
        "display(Y)"
      ]
    },
    {
      "cell_type": "code",
      "execution_count": 96,
      "metadata": {
        "colab": {
          "base_uri": "https://localhost:8080/"
        },
        "id": "nKmJAx_JPS_P",
        "outputId": "7862fc6e-111d-4656-b389-697132772e85"
      },
      "outputs": [
        {
          "output_type": "execute_result",
          "data": {
            "text/plain": [
              "(True, 0)"
            ]
          },
          "metadata": {},
          "execution_count": 96
        }
      ],
      "source": [
        "checkodesol(de, Y)"
      ]
    },
    {
      "cell_type": "code",
      "execution_count": 97,
      "metadata": {
        "colab": {
          "base_uri": "https://localhost:8080/"
        },
        "outputId": "5a11c588-8eab-43a7-997f-40e5ad7b06a9",
        "id": "bNqF8wUmYbPW"
      },
      "outputs": [
        {
          "output_type": "stream",
          "name": "stdout",
          "text": [
            "0 1\n"
          ]
        }
      ],
      "source": [
        "sol = Y.rhs\n",
        "y0 = sol.subs(x,0)\n",
        "y1 = sol.diff(x).subs(x,0)\n",
        "print(y0,y1)"
      ]
    },
    {
      "cell_type": "markdown",
      "metadata": {
        "id": "17HqEUq3Pk7_"
      },
      "source": [
        "# Exercise 4.6.3\n",
        "\n",
        "$\n",
        "y''' - y' = 3(2-x^2) \\\\\n",
        "y(0) = 1 \\\\\n",
        "y'(0) = 1 \\\\\n",
        "y''(0) = 1\n",
        "$"
      ]
    },
    {
      "cell_type": "code",
      "execution_count": 98,
      "metadata": {
        "id": "q7QRx-ISPk8Z",
        "scrolled": true,
        "colab": {
          "base_uri": "https://localhost:8080/",
          "height": 39
        },
        "outputId": "ff24ecdc-c4b7-4d2b-b557-6fff5c9faeaf"
      },
      "outputs": [
        {
          "output_type": "display_data",
          "data": {
            "text/plain": [
              "Eq(y(x), x**3 + exp(x))"
            ],
            "text/latex": "$\\displaystyle y{\\left(x \\right)} = x^{3} + e^{x}$"
          },
          "metadata": {}
        }
      ],
      "source": [
        "x = symbols(\"x\", real=True)\n",
        "y = symbols(\"y\", cls=Function)\n",
        "de = Eq(y(x).diff(x,x,x) - y(x).diff(x) , 3*(2-x**2))\n",
        "Y = dsolve(de, y(x) , ics={y(0): 1, y(x).diff(x).subs(x,0): 1, y(x).diff(x,x).subs(x,0): 1})\n",
        "display(Y)"
      ]
    },
    {
      "cell_type": "code",
      "execution_count": 99,
      "metadata": {
        "colab": {
          "base_uri": "https://localhost:8080/"
        },
        "outputId": "68184bf7-ecf4-4fe5-e898-820d1d507b16",
        "id": "6nm1L_T2YbPX"
      },
      "outputs": [
        {
          "output_type": "execute_result",
          "data": {
            "text/plain": [
              "(True, 0)"
            ]
          },
          "metadata": {},
          "execution_count": 99
        }
      ],
      "source": [
        "checkodesol(de, Y)"
      ]
    },
    {
      "cell_type": "code",
      "execution_count": 100,
      "metadata": {
        "colab": {
          "base_uri": "https://localhost:8080/"
        },
        "outputId": "c9e38dfc-f2d1-43e3-fa97-b22383e9fcbc",
        "id": "vP9nWevuYbPX"
      },
      "outputs": [
        {
          "output_type": "stream",
          "name": "stdout",
          "text": [
            "1 1 1\n"
          ]
        }
      ],
      "source": [
        "sol = Y.rhs\n",
        "y0 = sol.subs(x,0)\n",
        "y1 = sol.diff(x).subs(x,0)\n",
        "y2 = sol.diff(x,x).subs(x,0)\n",
        "print(y0,y1,y2)"
      ]
    },
    {
      "cell_type": "markdown",
      "metadata": {
        "id": "9cqjgOuD0sNm"
      },
      "source": [
        "# Exercise 4.6.4\n",
        "\n",
        "$\n",
        "y'' - 2y' +y = x \\\\\n",
        "y(0) = 1 \\\\\n",
        "y'(0) = 1\n",
        "$"
      ]
    },
    {
      "cell_type": "code",
      "execution_count": 101,
      "metadata": {
        "colab": {
          "base_uri": "https://localhost:8080/",
          "height": 39
        },
        "id": "F2XrqI4X0sNo",
        "outputId": "1ac70b9f-2c66-41e8-d0e9-81d33d13ab3b",
        "scrolled": true
      },
      "outputs": [
        {
          "output_type": "display_data",
          "data": {
            "text/plain": [
              "Eq(y(x), x + (x - 1)*exp(x) + 2)"
            ],
            "text/latex": "$\\displaystyle y{\\left(x \\right)} = x + \\left(x - 1\\right) e^{x} + 2$"
          },
          "metadata": {}
        }
      ],
      "source": [
        "x = symbols(\"x\", real=True)\n",
        "y = symbols(\"y\", cls=Function)\n",
        "de = Eq(y(x).diff(x,x) - 2*y(x).diff(x) + y(x) , x)\n",
        "Y = dsolve(de, y(x) , ics={y(0): 1, y(x).diff(x).subs(x,0): 1})\n",
        "display(Y)"
      ]
    },
    {
      "cell_type": "code",
      "execution_count": 102,
      "metadata": {
        "colab": {
          "base_uri": "https://localhost:8080/"
        },
        "outputId": "f30f59a5-0004-4afc-f931-aa42582a1b84",
        "id": "MYRW5mJjYbPY"
      },
      "outputs": [
        {
          "output_type": "execute_result",
          "data": {
            "text/plain": [
              "(True, 0)"
            ]
          },
          "metadata": {},
          "execution_count": 102
        }
      ],
      "source": [
        "checkodesol(de, Y)"
      ]
    },
    {
      "cell_type": "code",
      "execution_count": 103,
      "metadata": {
        "colab": {
          "base_uri": "https://localhost:8080/"
        },
        "outputId": "2c06e1ca-ac05-4cb6-e634-30de757197df",
        "id": "yPqmc5T5YbPY"
      },
      "outputs": [
        {
          "output_type": "stream",
          "name": "stdout",
          "text": [
            "1 1\n"
          ]
        }
      ],
      "source": [
        "sol = Y.rhs\n",
        "y0 = sol.subs(x,0)\n",
        "y1 = sol.diff(x).subs(x,0)\n",
        "print(y0,y1)"
      ]
    },
    {
      "cell_type": "markdown",
      "metadata": {
        "id": "XBqtwN7eNwBB"
      },
      "source": [
        "# Exercise 4.6.5\n",
        "\n",
        "$\n",
        "y'' - 6y' + 9y = 50\\sin x \\\\\n",
        "y(0) = 0 \\\\\n",
        "y'(0) = 1 \\\\\n",
        "y''(0) = -2\n",
        "$"
      ]
    },
    {
      "cell_type": "code",
      "execution_count": 104,
      "metadata": {
        "colab": {
          "base_uri": "https://localhost:8080/",
          "height": 58
        },
        "id": "GW6StMwuNwBK",
        "outputId": "d654b9e0-0922-42cf-b486-f630c105b894",
        "scrolled": true
      },
      "outputs": [
        {
          "output_type": "display_data",
          "data": {
            "text/plain": [
              "Eq(y(x), x/9 + (10*x/9 - 2/27)*exp(3*x) + 2/27)"
            ],
            "text/latex": "$\\displaystyle y{\\left(x \\right)} = \\frac{x}{9} + \\left(\\frac{10 x}{9} - \\frac{2}{27}\\right) e^{3 x} + \\frac{2}{27}$"
          },
          "metadata": {}
        }
      ],
      "source": [
        "x = symbols(\"x\", real=True)\n",
        "y = symbols(\"y\", cls=Function)\n",
        "de = Eq(y(x).diff(x,x) - 6*y(x).diff(x) + 9*y(x) , x)\n",
        "Y = dsolve(de, y(x) , ics={y(0): 0, y(x).diff(x).subs(x,0): 1})\n",
        "display(Y)"
      ]
    },
    {
      "cell_type": "code",
      "execution_count": 105,
      "metadata": {
        "colab": {
          "base_uri": "https://localhost:8080/"
        },
        "id": "GyU7grKONwBK",
        "outputId": "17e20166-e5cf-4186-d15f-c73b588b475c"
      },
      "outputs": [
        {
          "output_type": "execute_result",
          "data": {
            "text/plain": [
              "(True, 0)"
            ]
          },
          "metadata": {},
          "execution_count": 105
        }
      ],
      "source": [
        "checkodesol(de, Y)"
      ]
    },
    {
      "cell_type": "code",
      "execution_count": 106,
      "metadata": {
        "colab": {
          "base_uri": "https://localhost:8080/"
        },
        "outputId": "4db4e950-5835-42c0-9d57-e547eca466fa",
        "id": "r3kIJZ3MYbPZ"
      },
      "outputs": [
        {
          "output_type": "stream",
          "name": "stdout",
          "text": [
            "0 1 6\n"
          ]
        }
      ],
      "source": [
        "sol = Y.rhs\n",
        "y0 = sol.subs(x,0)\n",
        "y1 = sol.diff(x).subs(x,0)\n",
        "y2 = sol.diff(x,x).subs(x,0)\n",
        "print(y0,y1,y2)"
      ]
    },
    {
      "cell_type": "markdown",
      "metadata": {
        "id": "t42TJob2YbPa"
      },
      "source": [
        "* The second derivative at $x=0$ is $y''(0)=6$,\n",
        "  so there is no solution to our problem!\n",
        "  This follows from the uniqueness theorem.\n",
        "* You can add the third condition to this proble as follows\n",
        "  and watch Sympy response ..."
      ]
    },
    {
      "cell_type": "code",
      "execution_count": 107,
      "metadata": {
        "id": "OHj5-bh3YbPa"
      },
      "outputs": [],
      "source": [
        "# dsolve(de, y(x) , ics={y(0): 0, y(x).diff(x).subs(x,0): 1, y(x).diff(x,x).subs(x,0): -2})"
      ]
    },
    {
      "cell_type": "markdown",
      "metadata": {
        "id": "K-87_t9yjEFF"
      },
      "source": [
        "# Exercise 4.6.6\n",
        "\n",
        "$\n",
        "y'' - 2y' + y = xe^x + 4 \\\\\n",
        "y(0) = 0 \\\\\n",
        "y'(0) = 1\n",
        "$"
      ]
    },
    {
      "cell_type": "code",
      "execution_count": 108,
      "metadata": {
        "id": "c4z26FxUjEFa",
        "scrolled": true,
        "colab": {
          "base_uri": "https://localhost:8080/",
          "height": 58
        },
        "outputId": "852e3581-934b-468f-d650-ffdb16b673e5"
      },
      "outputs": [
        {
          "output_type": "display_data",
          "data": {
            "text/plain": [
              "Eq(y(x), (x*(x**2/6 + 5) - 4)*exp(x) + 4)"
            ],
            "text/latex": "$\\displaystyle y{\\left(x \\right)} = \\left(x \\left(\\frac{x^{2}}{6} + 5\\right) - 4\\right) e^{x} + 4$"
          },
          "metadata": {}
        }
      ],
      "source": [
        "x = symbols(\"x\", real=True)\n",
        "y = symbols(\"y\", cls=Function)\n",
        "de = Eq(y(x).diff(x,x) - 2*y(x).diff(x) + y(x) , x*exp(x) + 4)\n",
        "Y = dsolve(de, y(x) , ics={y(0): 0, y(x).diff(x).subs(x,0): 1})\n",
        "display(Y)"
      ]
    },
    {
      "cell_type": "code",
      "execution_count": 109,
      "metadata": {
        "colab": {
          "base_uri": "https://localhost:8080/",
          "height": 54
        },
        "id": "9_g6aGkEYbPb",
        "outputId": "f9a2548f-d3c8-4ef0-f37d-5aa588cd2ff0"
      },
      "outputs": [
        {
          "output_type": "execute_result",
          "data": {
            "text/plain": [
              "Eq(y(x), x**3*exp(x)/6 + 5*x*exp(x) - 4*exp(x) + 4)"
            ],
            "text/latex": "$\\displaystyle y{\\left(x \\right)} = \\frac{x^{3} e^{x}}{6} + 5 x e^{x} - 4 e^{x} + 4$"
          },
          "metadata": {},
          "execution_count": 109
        }
      ],
      "source": [
        "expand(Y)"
      ]
    },
    {
      "cell_type": "code",
      "execution_count": 110,
      "metadata": {
        "colab": {
          "base_uri": "https://localhost:8080/"
        },
        "outputId": "63e7019b-d16f-43ac-a4f0-2cf9da479629",
        "id": "St7IMPEIYbPb"
      },
      "outputs": [
        {
          "output_type": "execute_result",
          "data": {
            "text/plain": [
              "(True, 0)"
            ]
          },
          "metadata": {},
          "execution_count": 110
        }
      ],
      "source": [
        "checkodesol(de, Y)"
      ]
    },
    {
      "cell_type": "code",
      "execution_count": 111,
      "metadata": {
        "colab": {
          "base_uri": "https://localhost:8080/"
        },
        "outputId": "62ca309f-e88b-4485-f1bb-6f1f8ea30847",
        "id": "5CkfjQwxYbPb"
      },
      "outputs": [
        {
          "output_type": "stream",
          "name": "stdout",
          "text": [
            "0 1\n"
          ]
        }
      ],
      "source": [
        "sol = Y.rhs\n",
        "y0 = sol.subs(x,0)\n",
        "y1 = sol.diff(x).subs(x,0)\n",
        "print(y0,y1)"
      ]
    },
    {
      "cell_type": "markdown",
      "metadata": {
        "id": "Y1sI31FxYbPc"
      },
      "source": [
        "# Exercise 4.6.7\n",
        "\n",
        "$\n",
        "y'' + 2y' + y = xe^{-x} \\\\\n",
        "y(0) = 1 \\\\\n",
        "y'(0) = 0\n",
        "$"
      ]
    },
    {
      "cell_type": "code",
      "execution_count": 112,
      "metadata": {
        "scrolled": true,
        "colab": {
          "base_uri": "https://localhost:8080/",
          "height": 58
        },
        "id": "XLAwVjl_YbPc",
        "outputId": "f181bcb1-d444-4125-9d42-59b63637f98a"
      },
      "outputs": [
        {
          "output_type": "display_data",
          "data": {
            "text/plain": [
              "Eq(y(x), (x - 1)*exp(x)/4 + (5*x/4 + 5/4)*exp(-x))"
            ],
            "text/latex": "$\\displaystyle y{\\left(x \\right)} = \\frac{\\left(x - 1\\right) e^{x}}{4} + \\left(\\frac{5 x}{4} + \\frac{5}{4}\\right) e^{- x}$"
          },
          "metadata": {}
        }
      ],
      "source": [
        "x = symbols(\"x\", real=True)\n",
        "y = symbols(\"y\", cls=Function)\n",
        "de = Eq(y(x).diff(x,x) + 2*y(x).diff(x) + y(x) , x*exp(x))\n",
        "Y = dsolve(de, y(x) , ics={y(0): 1, y(x).diff(x).subs(x,0): 0})\n",
        "display(Y)"
      ]
    },
    {
      "cell_type": "code",
      "execution_count": 113,
      "metadata": {
        "colab": {
          "base_uri": "https://localhost:8080/",
          "height": 53
        },
        "id": "6cKtomUSYbPc",
        "outputId": "b58b4354-52a8-4aa9-e91a-821f43a982a0"
      },
      "outputs": [
        {
          "output_type": "execute_result",
          "data": {
            "text/plain": [
              "Eq(y(x), x*exp(x)/4 + 5*x*exp(-x)/4 - exp(x)/4 + 5*exp(-x)/4)"
            ],
            "text/latex": "$\\displaystyle y{\\left(x \\right)} = \\frac{x e^{x}}{4} + \\frac{5 x e^{- x}}{4} - \\frac{e^{x}}{4} + \\frac{5 e^{- x}}{4}$"
          },
          "metadata": {},
          "execution_count": 113
        }
      ],
      "source": [
        "expand(Y)"
      ]
    },
    {
      "cell_type": "code",
      "execution_count": 114,
      "metadata": {
        "colab": {
          "base_uri": "https://localhost:8080/"
        },
        "outputId": "55ba89b4-83cc-44b4-d393-8b2b21315c2d",
        "id": "vFtmflY3YbPd"
      },
      "outputs": [
        {
          "output_type": "execute_result",
          "data": {
            "text/plain": [
              "(True, 0)"
            ]
          },
          "metadata": {},
          "execution_count": 114
        }
      ],
      "source": [
        "checkodesol(de, Y)"
      ]
    },
    {
      "cell_type": "code",
      "execution_count": 115,
      "metadata": {
        "colab": {
          "base_uri": "https://localhost:8080/"
        },
        "outputId": "9c248d63-38f4-4a8b-da82-5ee98768ad14",
        "id": "2fSGk16VYbPd"
      },
      "outputs": [
        {
          "output_type": "stream",
          "name": "stdout",
          "text": [
            "1 0\n"
          ]
        }
      ],
      "source": [
        "sol = Y.rhs\n",
        "y0 = sol.subs(x,0)\n",
        "y1 = sol.diff(x).subs(x,0)\n",
        "print(y0,y1)"
      ]
    },
    {
      "cell_type": "markdown",
      "metadata": {
        "id": "5eKIjOgIYbPd"
      },
      "source": [
        "# Exercise 4.10\n",
        "\n",
        "$\n",
        "y'''+3y''+3y'+y=0 \\\\\n",
        "y(0) = 1 \\\\\n",
        "y'(0) = 0 \\\\\n",
        "y''(0) = 1\n",
        "$"
      ]
    },
    {
      "cell_type": "code",
      "execution_count": 116,
      "metadata": {
        "scrolled": true,
        "colab": {
          "base_uri": "https://localhost:8080/",
          "height": 39
        },
        "id": "dxyDqhC0YbPd",
        "outputId": "c29521b8-dfba-4000-e3e1-6e7c756ef2fa"
      },
      "outputs": [
        {
          "output_type": "display_data",
          "data": {
            "text/plain": [
              "Eq(y(x), (x*(x + 1) + 1)*exp(-x))"
            ],
            "text/latex": "$\\displaystyle y{\\left(x \\right)} = \\left(x \\left(x + 1\\right) + 1\\right) e^{- x}$"
          },
          "metadata": {}
        }
      ],
      "source": [
        "x = symbols(\"x\", real=True)\n",
        "y = symbols(\"y\", cls=Function)\n",
        "de = Eq(y(x).diff(x,x,x) + 3*y(x).diff(x,x) + 3*y(x).diff(x) + y(x) , 0)\n",
        "Y = dsolve(de, y(x) , ics={y(0): 1, y(x).diff(x).subs(x,0): 0, y(x).diff(x,x).subs(x,0): 1})\n",
        "display(Y)"
      ]
    },
    {
      "cell_type": "code",
      "execution_count": 117,
      "metadata": {
        "colab": {
          "base_uri": "https://localhost:8080/",
          "height": 39
        },
        "id": "UKrTQ7AXYbPe",
        "outputId": "66770dc8-742a-4f24-da07-0fcf49e81290"
      },
      "outputs": [
        {
          "output_type": "execute_result",
          "data": {
            "text/plain": [
              "Eq(y(x), x**2*exp(-x) + x*exp(-x) + exp(-x))"
            ],
            "text/latex": "$\\displaystyle y{\\left(x \\right)} = x^{2} e^{- x} + x e^{- x} + e^{- x}$"
          },
          "metadata": {},
          "execution_count": 117
        }
      ],
      "source": [
        "expand(Y)"
      ]
    },
    {
      "cell_type": "code",
      "execution_count": 118,
      "metadata": {
        "colab": {
          "base_uri": "https://localhost:8080/"
        },
        "outputId": "237a039f-96fa-4bfe-e8e6-6cb72b1c9f4f",
        "id": "FfHXY3huYbPe"
      },
      "outputs": [
        {
          "output_type": "execute_result",
          "data": {
            "text/plain": [
              "(True, 0)"
            ]
          },
          "metadata": {},
          "execution_count": 118
        }
      ],
      "source": [
        "checkodesol(de, Y)"
      ]
    },
    {
      "cell_type": "code",
      "execution_count": 119,
      "metadata": {
        "colab": {
          "base_uri": "https://localhost:8080/"
        },
        "outputId": "36be8045-eb65-4f28-f946-73a9bf4de75a",
        "id": "C4cRJRJLYbPe"
      },
      "outputs": [
        {
          "output_type": "stream",
          "name": "stdout",
          "text": [
            "1 0 1\n"
          ]
        }
      ],
      "source": [
        "sol = Y.rhs\n",
        "y0 = sol.subs(x,0)\n",
        "y1 = sol.diff(x).subs(x,0)\n",
        "y2 = sol.diff(x,x).subs(x,0)\n",
        "print(y0,y1,y2)"
      ]
    },
    {
      "cell_type": "markdown",
      "metadata": {
        "id": "P4LdG4k5YbPf"
      },
      "source": [
        "# Exercise 4.11\n",
        "\n",
        "$\n",
        "y''+4y=0 \\\\\n",
        "y(0) = 0 \\\\\n",
        "y'(0) = 1\n",
        "$"
      ]
    },
    {
      "cell_type": "code",
      "execution_count": 120,
      "metadata": {
        "scrolled": true,
        "colab": {
          "base_uri": "https://localhost:8080/",
          "height": 53
        },
        "id": "y8odhkjyYbPf",
        "outputId": "97788cef-aaa3-4f43-b9d3-40029d5c11fb"
      },
      "outputs": [
        {
          "output_type": "display_data",
          "data": {
            "text/plain": [
              "Eq(y(x), sin(2*x)/2)"
            ],
            "text/latex": "$\\displaystyle y{\\left(x \\right)} = \\frac{\\sin{\\left(2 x \\right)}}{2}$"
          },
          "metadata": {}
        }
      ],
      "source": [
        "x = symbols(\"x\", real=True)\n",
        "y = symbols(\"y\", cls=Function)\n",
        "de = Eq(y(x).diff(x,x) + 4*y(x) , 0)\n",
        "Y = dsolve(de, y(x) , ics={y(0): 0, y(x).diff(x).subs(x,0): 1})\n",
        "display(Y)"
      ]
    },
    {
      "cell_type": "code",
      "execution_count": 121,
      "metadata": {
        "colab": {
          "base_uri": "https://localhost:8080/"
        },
        "outputId": "1d9ff51e-ea55-4756-da4e-05759bddb5e1",
        "id": "Iu7hBsTUYbPf"
      },
      "outputs": [
        {
          "output_type": "execute_result",
          "data": {
            "text/plain": [
              "(True, 0)"
            ]
          },
          "metadata": {},
          "execution_count": 121
        }
      ],
      "source": [
        "checkodesol(de, Y)"
      ]
    },
    {
      "cell_type": "code",
      "execution_count": 122,
      "metadata": {
        "colab": {
          "base_uri": "https://localhost:8080/"
        },
        "outputId": "cf29ce31-f655-4673-b5be-3abc984b73ab",
        "id": "VRjt2BwYYbPg"
      },
      "outputs": [
        {
          "output_type": "stream",
          "name": "stdout",
          "text": [
            "0 1\n"
          ]
        }
      ],
      "source": [
        "sol = Y.rhs\n",
        "y0 = sol.subs(x,0)\n",
        "y1 = sol.diff(x).subs(x,0)\n",
        "print(y0,y1)"
      ]
    },
    {
      "cell_type": "markdown",
      "metadata": {
        "id": "dr8OIQZPYbPg"
      },
      "source": [
        "# Exercise 4.12.1\n",
        "\n",
        "$x^2 y'' + xy' + 4y = 10x$"
      ]
    },
    {
      "cell_type": "code",
      "execution_count": 123,
      "metadata": {
        "scrolled": true,
        "colab": {
          "base_uri": "https://localhost:8080/",
          "height": 39
        },
        "id": "lqr_GWRYYbPg",
        "outputId": "5a63a315-ba31-478d-80bd-04c71d126575"
      },
      "outputs": [
        {
          "output_type": "display_data",
          "data": {
            "text/plain": [
              "Eq(y(x), C1*sin(2*log(x)) + C2*cos(2*log(x)) + 2*x)"
            ],
            "text/latex": "$\\displaystyle y{\\left(x \\right)} = C_{1} \\sin{\\left(2 \\log{\\left(x \\right)} \\right)} + C_{2} \\cos{\\left(2 \\log{\\left(x \\right)} \\right)} + 2 x$"
          },
          "metadata": {}
        }
      ],
      "source": [
        "x = symbols(\"x\", real=True)\n",
        "y = symbols(\"y\", cls=Function)\n",
        "de = Eq(x**2 * y(x).diff(x,x) + x*y(x).diff(x) + 4*y(x) , 10*x)\n",
        "Y = dsolve(de)\n",
        "display(Y)"
      ]
    },
    {
      "cell_type": "code",
      "execution_count": 124,
      "metadata": {
        "colab": {
          "base_uri": "https://localhost:8080/"
        },
        "outputId": "b55d00c7-18b6-4133-b447-f0ef314460c4",
        "id": "BB_4Wp45YbPg"
      },
      "outputs": [
        {
          "output_type": "execute_result",
          "data": {
            "text/plain": [
              "(True, 0)"
            ]
          },
          "metadata": {},
          "execution_count": 124
        }
      ],
      "source": [
        "checkodesol(de, Y)"
      ]
    },
    {
      "cell_type": "markdown",
      "metadata": {
        "id": "8JNICdkKYbPh"
      },
      "source": [
        "# Exercise 4.12.2\n",
        "\n",
        "$x^2 y'' - 3xy' + 5y = 3x^2$"
      ]
    },
    {
      "cell_type": "code",
      "execution_count": 125,
      "metadata": {
        "scrolled": true,
        "colab": {
          "base_uri": "https://localhost:8080/",
          "height": 39
        },
        "id": "ECMtcylxYbPh",
        "outputId": "66506c2d-18f4-40c4-8925-a4f3e6e2b90a"
      },
      "outputs": [
        {
          "output_type": "display_data",
          "data": {
            "text/plain": [
              "Eq(y(x), x**2*(C1*sin(log(x)) + C2*cos(log(x)) + 3))"
            ],
            "text/latex": "$\\displaystyle y{\\left(x \\right)} = x^{2} \\left(C_{1} \\sin{\\left(\\log{\\left(x \\right)} \\right)} + C_{2} \\cos{\\left(\\log{\\left(x \\right)} \\right)} + 3\\right)$"
          },
          "metadata": {}
        }
      ],
      "source": [
        "x = symbols(\"x\", real=True)\n",
        "y = symbols(\"y\", cls=Function)\n",
        "de = Eq(x**2 * y(x).diff(x,x) - 3*x*y(x).diff(x) + 5*y(x) , 3*x**2)\n",
        "Y = dsolve(de)\n",
        "display(Y)"
      ]
    },
    {
      "cell_type": "code",
      "execution_count": 126,
      "metadata": {
        "colab": {
          "base_uri": "https://localhost:8080/",
          "height": 39
        },
        "id": "LJ6nSaz1YbPh",
        "outputId": "8f887e51-899f-4465-9d6c-7f2998ee2ef5"
      },
      "outputs": [
        {
          "output_type": "execute_result",
          "data": {
            "text/plain": [
              "Eq(y(x), C1*x**2*sin(log(x)) + C2*x**2*cos(log(x)) + 3*x**2)"
            ],
            "text/latex": "$\\displaystyle y{\\left(x \\right)} = C_{1} x^{2} \\sin{\\left(\\log{\\left(x \\right)} \\right)} + C_{2} x^{2} \\cos{\\left(\\log{\\left(x \\right)} \\right)} + 3 x^{2}$"
          },
          "metadata": {},
          "execution_count": 126
        }
      ],
      "source": [
        "expand(Y)"
      ]
    },
    {
      "cell_type": "code",
      "execution_count": 127,
      "metadata": {
        "colab": {
          "base_uri": "https://localhost:8080/"
        },
        "outputId": "c96b092b-96d8-4a9d-bf51-d99c132ffe07",
        "id": "U1PB1GQDYbPh"
      },
      "outputs": [
        {
          "output_type": "execute_result",
          "data": {
            "text/plain": [
              "(True, 0)"
            ]
          },
          "metadata": {},
          "execution_count": 127
        }
      ],
      "source": [
        "checkodesol(de, Y)"
      ]
    },
    {
      "cell_type": "markdown",
      "metadata": {
        "id": "o8qNkQ11YbPi"
      },
      "source": [
        "# Exercise 4.12.3\n",
        "\n",
        "$x^2 y'' - 6y = 5x^3 + 8x^2$"
      ]
    },
    {
      "cell_type": "code",
      "execution_count": 128,
      "metadata": {
        "scrolled": true,
        "colab": {
          "base_uri": "https://localhost:8080/",
          "height": 54
        },
        "id": "fFOkRLm4YbPi",
        "outputId": "56ef4a38-dbef-4a76-e599-9714d31c34f2"
      },
      "outputs": [
        {
          "output_type": "display_data",
          "data": {
            "text/plain": [
              "Eq(y(x), (C1 + x**4*(C2*x + x*log(x) - 2))/x**2)"
            ],
            "text/latex": "$\\displaystyle y{\\left(x \\right)} = \\frac{C_{1} + x^{4} \\left(C_{2} x + x \\log{\\left(x \\right)} - 2\\right)}{x^{2}}$"
          },
          "metadata": {}
        }
      ],
      "source": [
        "x = symbols(\"x\", real=True)\n",
        "y = symbols(\"y\", cls=Function)\n",
        "de = Eq(x**2 * y(x).diff(x,x) - 6*y(x) , 5*x**3 + 8*x**2)\n",
        "Y = dsolve(de)\n",
        "display(Y)"
      ]
    },
    {
      "cell_type": "code",
      "execution_count": 129,
      "metadata": {
        "colab": {
          "base_uri": "https://localhost:8080/",
          "height": 52
        },
        "id": "oRZbXg7AYbPj",
        "outputId": "655dd29b-b3d9-4171-f685-5944c9fbbcbc"
      },
      "outputs": [
        {
          "output_type": "execute_result",
          "data": {
            "text/plain": [
              "Eq(y(x), C1/x**2 + C2*x**3 + x**3*log(x) - 2*x**2)"
            ],
            "text/latex": "$\\displaystyle y{\\left(x \\right)} = \\frac{C_{1}}{x^{2}} + C_{2} x^{3} + x^{3} \\log{\\left(x \\right)} - 2 x^{2}$"
          },
          "metadata": {},
          "execution_count": 129
        }
      ],
      "source": [
        "expand(Y)"
      ]
    },
    {
      "cell_type": "code",
      "execution_count": 130,
      "metadata": {
        "colab": {
          "base_uri": "https://localhost:8080/"
        },
        "outputId": "8a75c19f-39c4-4e2c-b1e3-bd6a9d6a6a1b",
        "id": "JaBY5gdwYbPj"
      },
      "outputs": [
        {
          "output_type": "execute_result",
          "data": {
            "text/plain": [
              "(True, 0)"
            ]
          },
          "metadata": {},
          "execution_count": 130
        }
      ],
      "source": [
        "checkodesol(de, Y)"
      ]
    },
    {
      "cell_type": "markdown",
      "metadata": {
        "id": "UbMsp_VSYbPj"
      },
      "source": [
        "# Exercise 4.12.4\n",
        "\n",
        "$x^2 y'' - 2y = \\sin(\\ln x)$"
      ]
    },
    {
      "cell_type": "code",
      "execution_count": 131,
      "metadata": {
        "scrolled": true,
        "colab": {
          "base_uri": "https://localhost:8080/",
          "height": 53
        },
        "id": "suHZjAqqYbPj",
        "outputId": "30ed1aa2-7cd5-4cf7-ce92-5ce8f6552c12"
      },
      "outputs": [
        {
          "output_type": "display_data",
          "data": {
            "text/plain": [
              "Eq(y(x), C1/x + C2*x**2 - 3*sin(log(x))/10 + cos(log(x))/10)"
            ],
            "text/latex": "$\\displaystyle y{\\left(x \\right)} = \\frac{C_{1}}{x} + C_{2} x^{2} - \\frac{3 \\sin{\\left(\\log{\\left(x \\right)} \\right)}}{10} + \\frac{\\cos{\\left(\\log{\\left(x \\right)} \\right)}}{10}$"
          },
          "metadata": {}
        }
      ],
      "source": [
        "x = symbols(\"x\", real=True)\n",
        "y = symbols(\"y\", cls=Function)\n",
        "de = Eq(x**2 * y(x).diff(x,x) - 2*y(x) , sin(log(x)))\n",
        "Y = dsolve(de)\n",
        "display(Y)"
      ]
    },
    {
      "cell_type": "code",
      "execution_count": 132,
      "metadata": {
        "colab": {
          "base_uri": "https://localhost:8080/"
        },
        "outputId": "306d3f64-9529-4927-891e-98517bdcb9c9",
        "id": "lGmwU22_YbPk"
      },
      "outputs": [
        {
          "output_type": "execute_result",
          "data": {
            "text/plain": [
              "(True, 0)"
            ]
          },
          "metadata": {},
          "execution_count": 132
        }
      ],
      "source": [
        "checkodesol(de, Y)"
      ]
    },
    {
      "cell_type": "markdown",
      "metadata": {
        "id": "_hc7I2DXYbPk"
      },
      "source": [
        "# Exercise 4.12.5\n",
        "\n",
        "$(1+x)^2 y'' - 3(1+x)y' + 4y = (1+x)^3$"
      ]
    },
    {
      "cell_type": "code",
      "execution_count": 133,
      "metadata": {
        "scrolled": true,
        "id": "aI6YXGEEYbPk"
      },
      "outputs": [],
      "source": [
        "x = symbols(\"x\", real=True)\n",
        "y = symbols(\"y\", cls=Function)\n",
        "de = Eq((1+x)**2 * y(x).diff(x,x) - 3*(1+x)*y(x).diff(x) + 4*y(x) , (1+x)**3)\n",
        "# Y = dsolve(de, hint=\"nth_linear_euler_eq_nonhomogeneous_variation_of_parameters\")\n",
        "# display(Y)"
      ]
    },
    {
      "cell_type": "markdown",
      "metadata": {
        "id": "TxvJTm3oYbPk"
      },
      "source": [
        "* Sympy 1.11.1 failed on this euler type equation.\n",
        "* Mathdf solution:\n",
        "$$\n",
        "y=C_{1}\\,\\left({x}^{2}\\,\\ln\\left(x+1\\right)+2\\,x\\,\\ln\\left(x+1\\right)+\\ln\\left(x+1\\right)\\right)+{x}^{3}+C\\,\\left({x}^{2}+2\\,x+1\\right)+3\\,{x}^{2}+3\\,x+1\n",
        "$$\n",
        "* For a step-by-step-solution click:\n",
        "[**Link to a step-by-step solution**](\n",
        "https://mathdf.com/dif/#expr=(1%2Bx)%5E2y'2-3(1%2Bx)y'%2B4y%3D(1%2Bx)%5E3&func=y&arg=x\n",
        ")"
      ]
    },
    {
      "cell_type": "markdown",
      "metadata": {
        "id": "3kRD7T_OYbPl"
      },
      "source": [
        "# Exercise 4.12.6\n",
        "\n",
        "$y'' - 2y' +y = \\dfrac{e^x}{x}$\n"
      ]
    },
    {
      "cell_type": "code",
      "execution_count": 134,
      "metadata": {
        "scrolled": true,
        "colab": {
          "base_uri": "https://localhost:8080/",
          "height": 39
        },
        "id": "bE4lQsYDYbPl",
        "outputId": "0d4faa5b-251b-4884-c6d3-a8872df984c4"
      },
      "outputs": [
        {
          "output_type": "display_data",
          "data": {
            "text/plain": [
              "Eq(y(x), (C1 + x*(C2 + log(x)))*exp(x))"
            ],
            "text/latex": "$\\displaystyle y{\\left(x \\right)} = \\left(C_{1} + x \\left(C_{2} + \\log{\\left(x \\right)}\\right)\\right) e^{x}$"
          },
          "metadata": {}
        }
      ],
      "source": [
        "x = symbols(\"x\", real=True)\n",
        "y = symbols(\"y\", cls=Function)\n",
        "de = Eq(y(x).diff(x,x) - 2*y(x).diff(x) + y(x) , exp(x) / x)\n",
        "Y = dsolve(de)\n",
        "display(Y)"
      ]
    },
    {
      "cell_type": "code",
      "execution_count": 135,
      "metadata": {
        "colab": {
          "base_uri": "https://localhost:8080/",
          "height": 39
        },
        "id": "vEJ5jcvcYbPl",
        "outputId": "7293c7de-95a3-44a8-ae55-2a2d8c99e9de"
      },
      "outputs": [
        {
          "output_type": "execute_result",
          "data": {
            "text/plain": [
              "Eq(y(x), C1*exp(x) + C2*x*exp(x) + x*exp(x)*log(x))"
            ],
            "text/latex": "$\\displaystyle y{\\left(x \\right)} = C_{1} e^{x} + C_{2} x e^{x} + x e^{x} \\log{\\left(x \\right)}$"
          },
          "metadata": {},
          "execution_count": 135
        }
      ],
      "source": [
        "expand(Y)"
      ]
    },
    {
      "cell_type": "code",
      "execution_count": 136,
      "metadata": {
        "colab": {
          "base_uri": "https://localhost:8080/"
        },
        "outputId": "a03e4242-9bd9-41b8-fd45-81c1f78cc841",
        "id": "GZYVepB3YbPl"
      },
      "outputs": [
        {
          "output_type": "execute_result",
          "data": {
            "text/plain": [
              "(True, 0)"
            ]
          },
          "metadata": {},
          "execution_count": 136
        }
      ],
      "source": [
        "checkodesol(de, Y)"
      ]
    },
    {
      "cell_type": "markdown",
      "metadata": {
        "id": "gFfewtRXYbPm"
      },
      "source": [
        "# Exercise 4.12.7\n",
        "\n",
        "$y'' +y = \\dfrac{1}{\\sin x}$\n"
      ]
    },
    {
      "cell_type": "code",
      "execution_count": 137,
      "metadata": {
        "scrolled": true,
        "colab": {
          "base_uri": "https://localhost:8080/",
          "height": 39
        },
        "id": "f1Qt5y4VYbPm",
        "outputId": "eeb54ca8-a2d8-4a90-f93a-76c4a79a3e09"
      },
      "outputs": [
        {
          "output_type": "display_data",
          "data": {
            "text/plain": [
              "Eq(y(x), (C1 - x)*cos(x) + (C2 + log(sin(x)))*sin(x))"
            ],
            "text/latex": "$\\displaystyle y{\\left(x \\right)} = \\left(C_{1} - x\\right) \\cos{\\left(x \\right)} + \\left(C_{2} + \\log{\\left(\\sin{\\left(x \\right)} \\right)}\\right) \\sin{\\left(x \\right)}$"
          },
          "metadata": {}
        }
      ],
      "source": [
        "x = symbols(\"x\", real=True)\n",
        "y = symbols(\"y\", cls=Function)\n",
        "de = Eq(y(x).diff(x,x) + y(x) , 1 / sin(x))\n",
        "Y = dsolve(de)\n",
        "display(Y)"
      ]
    },
    {
      "cell_type": "code",
      "execution_count": 138,
      "metadata": {
        "colab": {
          "base_uri": "https://localhost:8080/",
          "height": 39
        },
        "id": "iRu3fw8AYbPm",
        "outputId": "5705027a-75d2-4f7a-ecbb-79af12565640"
      },
      "outputs": [
        {
          "output_type": "execute_result",
          "data": {
            "text/plain": [
              "Eq(y(x), C1*cos(x) + C2*sin(x) - x*cos(x) + log(sin(x))*sin(x))"
            ],
            "text/latex": "$\\displaystyle y{\\left(x \\right)} = C_{1} \\cos{\\left(x \\right)} + C_{2} \\sin{\\left(x \\right)} - x \\cos{\\left(x \\right)} + \\log{\\left(\\sin{\\left(x \\right)} \\right)} \\sin{\\left(x \\right)}$"
          },
          "metadata": {},
          "execution_count": 138
        }
      ],
      "source": [
        "expand(Y)"
      ]
    },
    {
      "cell_type": "code",
      "execution_count": 139,
      "metadata": {
        "colab": {
          "base_uri": "https://localhost:8080/"
        },
        "outputId": "d7966323-53aa-49d1-f635-560efe74e778",
        "id": "0O0X9e5QYbPm"
      },
      "outputs": [
        {
          "output_type": "execute_result",
          "data": {
            "text/plain": [
              "(True, 0)"
            ]
          },
          "metadata": {},
          "execution_count": 139
        }
      ],
      "source": [
        "checkodesol(de, Y)"
      ]
    },
    {
      "cell_type": "markdown",
      "metadata": {
        "id": "rYDvdEZIYbPn"
      },
      "source": [
        "# Exercise 4.12.8\n",
        "\n",
        "$y'' + 2y' + 5y = e^{-x}(\\cos^2 x + \\tan x)$\n"
      ]
    },
    {
      "cell_type": "code",
      "execution_count": 140,
      "metadata": {
        "scrolled": true,
        "colab": {
          "base_uri": "https://localhost:8080/",
          "height": 58
        },
        "id": "1DyZjmjAYbPn",
        "outputId": "61d6c71d-a804-4240-dcf1-22f6ce5dc72a"
      },
      "outputs": [
        {
          "output_type": "display_data",
          "data": {
            "text/plain": [
              "Eq(y(x), ((C1 - x/2)*cos(2*x) + (C2 + x/8 + log(cos(x))/2)*sin(2*x) + 1/8)*exp(-x))"
            ],
            "text/latex": "$\\displaystyle y{\\left(x \\right)} = \\left(\\left(C_{1} - \\frac{x}{2}\\right) \\cos{\\left(2 x \\right)} + \\left(C_{2} + \\frac{x}{8} + \\frac{\\log{\\left(\\cos{\\left(x \\right)} \\right)}}{2}\\right) \\sin{\\left(2 x \\right)} + \\frac{1}{8}\\right) e^{- x}$"
          },
          "metadata": {}
        }
      ],
      "source": [
        "x = symbols(\"x\", real=True)\n",
        "y = symbols(\"y\", cls=Function)\n",
        "de = Eq(y(x).diff(x,x) + 2*y(x).diff(x) + 5*y(x) , exp(-x) * (cos(x)**2 + tan(x)))\n",
        "Y = dsolve(de)\n",
        "display(Y)"
      ]
    },
    {
      "cell_type": "code",
      "execution_count": 141,
      "metadata": {
        "colab": {
          "base_uri": "https://localhost:8080/",
          "height": 53
        },
        "id": "tncWLwEjYbPn",
        "outputId": "c538ab8f-e09e-491f-d79b-7b9c572f1ce4"
      },
      "outputs": [
        {
          "output_type": "execute_result",
          "data": {
            "text/plain": [
              "Eq(y(x), C1*exp(-x)*cos(2*x) + C2*exp(-x)*sin(2*x) + x*exp(-x)*sin(2*x)/8 - x*exp(-x)*cos(2*x)/2 + exp(-x)*log(cos(x))*sin(2*x)/2 + exp(-x)/8)"
            ],
            "text/latex": "$\\displaystyle y{\\left(x \\right)} = C_{1} e^{- x} \\cos{\\left(2 x \\right)} + C_{2} e^{- x} \\sin{\\left(2 x \\right)} + \\frac{x e^{- x} \\sin{\\left(2 x \\right)}}{8} - \\frac{x e^{- x} \\cos{\\left(2 x \\right)}}{2} + \\frac{e^{- x} \\log{\\left(\\cos{\\left(x \\right)} \\right)} \\sin{\\left(2 x \\right)}}{2} + \\frac{e^{- x}}{8}$"
          },
          "metadata": {},
          "execution_count": 141
        }
      ],
      "source": [
        "expand(Y)"
      ]
    },
    {
      "cell_type": "code",
      "execution_count": 142,
      "metadata": {
        "colab": {
          "base_uri": "https://localhost:8080/"
        },
        "outputId": "b735c643-aaff-488b-e85b-20066fe2a192",
        "id": "8FMWnjyZYbPn"
      },
      "outputs": [
        {
          "output_type": "execute_result",
          "data": {
            "text/plain": [
              "(True, 0)"
            ]
          },
          "metadata": {},
          "execution_count": 142
        }
      ],
      "source": [
        "checkodesol(de, Y)"
      ]
    },
    {
      "cell_type": "markdown",
      "metadata": {
        "id": "7ShoOROuYbPo"
      },
      "source": [
        "# Exercise 4.12.9\n",
        "\n",
        "$y''' + y' = \\sin x + x\\cos x$\n"
      ]
    },
    {
      "cell_type": "code",
      "execution_count": 143,
      "metadata": {
        "scrolled": true,
        "colab": {
          "base_uri": "https://localhost:8080/",
          "height": 58
        },
        "id": "HT79PEO9YbPo",
        "outputId": "0f32b474-79ef-4639-8e5a-b7063c3a9ffc"
      },
      "outputs": [
        {
          "output_type": "display_data",
          "data": {
            "text/plain": [
              "Eq(y(x), C1 + (C2 - x**2/4)*cos(x) + (C3 + x/4)*sin(x))"
            ],
            "text/latex": "$\\displaystyle y{\\left(x \\right)} = C_{1} + \\left(C_{2} - \\frac{x^{2}}{4}\\right) \\cos{\\left(x \\right)} + \\left(C_{3} + \\frac{x}{4}\\right) \\sin{\\left(x \\right)}$"
          },
          "metadata": {}
        }
      ],
      "source": [
        "x = symbols(\"x\", real=True)\n",
        "y = symbols(\"y\", cls=Function)\n",
        "de = Eq(y(x).diff(x,x,x) + y(x).diff(x) , sin(x) + x*cos(x))\n",
        "Y = dsolve(de)\n",
        "display(Y)"
      ]
    },
    {
      "cell_type": "code",
      "execution_count": 144,
      "metadata": {
        "colab": {
          "base_uri": "https://localhost:8080/",
          "height": 54
        },
        "id": "LLGEfTnAYbPo",
        "outputId": "76dbdea7-3bec-413a-a71b-72ad88f420f7"
      },
      "outputs": [
        {
          "output_type": "execute_result",
          "data": {
            "text/plain": [
              "Eq(y(x), C1 + C2*cos(x) + C3*sin(x) - x**2*cos(x)/4 + x*sin(x)/4)"
            ],
            "text/latex": "$\\displaystyle y{\\left(x \\right)} = C_{1} + C_{2} \\cos{\\left(x \\right)} + C_{3} \\sin{\\left(x \\right)} - \\frac{x^{2} \\cos{\\left(x \\right)}}{4} + \\frac{x \\sin{\\left(x \\right)}}{4}$"
          },
          "metadata": {},
          "execution_count": 144
        }
      ],
      "source": [
        "expand(Y)"
      ]
    },
    {
      "cell_type": "code",
      "execution_count": 145,
      "metadata": {
        "colab": {
          "base_uri": "https://localhost:8080/"
        },
        "outputId": "ae8bc110-949c-4770-873a-5b1c6a1d5a73",
        "id": "28LUUkKFYbPo"
      },
      "outputs": [
        {
          "output_type": "execute_result",
          "data": {
            "text/plain": [
              "(True, 0)"
            ]
          },
          "metadata": {},
          "execution_count": 145
        }
      ],
      "source": [
        "checkodesol(de, Y)"
      ]
    },
    {
      "cell_type": "markdown",
      "metadata": {
        "id": "K-Byd4LoYbPp"
      },
      "source": [
        "# Exercise 4.12.10\n",
        "\n",
        "$y^{(5)} + 4y' = x + 1 + \\cos 2x$\n"
      ]
    },
    {
      "cell_type": "code",
      "execution_count": 146,
      "metadata": {
        "scrolled": true,
        "colab": {
          "base_uri": "https://localhost:8080/",
          "height": 54
        },
        "id": "cZjwiA6SYbPp",
        "outputId": "59cacd51-225c-4d5f-b55f-a07b0285d8f6"
      },
      "outputs": [
        {
          "output_type": "display_data",
          "data": {
            "text/plain": [
              "Eq(y(x), C1 + x**2/8 + x/4 + (C2*sin(x) + C3*cos(x))*exp(-x) + (C4*sin(x) + C5*cos(x))*exp(x) + sin(2*x)/40)"
            ],
            "text/latex": "$\\displaystyle y{\\left(x \\right)} = C_{1} + \\frac{x^{2}}{8} + \\frac{x}{4} + \\left(C_{2} \\sin{\\left(x \\right)} + C_{3} \\cos{\\left(x \\right)}\\right) e^{- x} + \\left(C_{4} \\sin{\\left(x \\right)} + C_{5} \\cos{\\left(x \\right)}\\right) e^{x} + \\frac{\\sin{\\left(2 x \\right)}}{40}$"
          },
          "metadata": {}
        }
      ],
      "source": [
        "x = symbols(\"x\", real=True)\n",
        "y = symbols(\"y\", cls=Function)\n",
        "de = Eq(y(x).diff(x,x,x,x,x) + 4*y(x).diff(x) , x+1+cos(2*x))\n",
        "Y = dsolve(de)\n",
        "display(Y)"
      ]
    },
    {
      "cell_type": "code",
      "execution_count": 147,
      "metadata": {
        "colab": {
          "base_uri": "https://localhost:8080/",
          "height": 54
        },
        "id": "o5xF6OX2YbPp",
        "outputId": "5fe2ff8d-a29f-4899-a605-c537dae028ac"
      },
      "outputs": [
        {
          "output_type": "execute_result",
          "data": {
            "text/plain": [
              "Eq(y(x), C1 + C2*exp(-x)*sin(x) + C3*exp(-x)*cos(x) + C4*exp(x)*sin(x) + C5*exp(x)*cos(x) + x**2/8 + x/4 + sin(2*x)/40)"
            ],
            "text/latex": "$\\displaystyle y{\\left(x \\right)} = C_{1} + C_{2} e^{- x} \\sin{\\left(x \\right)} + C_{3} e^{- x} \\cos{\\left(x \\right)} + C_{4} e^{x} \\sin{\\left(x \\right)} + C_{5} e^{x} \\cos{\\left(x \\right)} + \\frac{x^{2}}{8} + \\frac{x}{4} + \\frac{\\sin{\\left(2 x \\right)}}{40}$"
          },
          "metadata": {},
          "execution_count": 147
        }
      ],
      "source": [
        "expand(Y)"
      ]
    },
    {
      "cell_type": "code",
      "execution_count": 148,
      "metadata": {
        "colab": {
          "base_uri": "https://localhost:8080/"
        },
        "outputId": "0bcd6a59-77a4-4ebb-eee4-c0c0f14969aa",
        "id": "NdS3mcoeYbPp"
      },
      "outputs": [
        {
          "output_type": "execute_result",
          "data": {
            "text/plain": [
              "(True, 0)"
            ]
          },
          "metadata": {},
          "execution_count": 148
        }
      ],
      "source": [
        "checkodesol(de, Y)"
      ]
    },
    {
      "cell_type": "markdown",
      "metadata": {
        "id": "1wKOErbhqKWU"
      },
      "source": [
        "# **TO BE CONTINUED ...**\n",
        "* Any student with a basic Python programming skill\n",
        "  is welcome to continue and solve more exercises\n",
        "  from the\n",
        "<a href=\"https://samyzaf.com/technion/ode/ode.pdf\">\n",
        "Ordinal Differential Equations book\n",
        "</a>.\n",
        "\n",
        "* They will be checked and added to this notebook.\n",
        "\n",
        "* Send your notebook to sz@samyzaf.com.\n",
        "* Thanks!!!"
      ]
    },
    {
      "cell_type": "code",
      "execution_count": 148,
      "metadata": {
        "id": "W69YSbejO4P-"
      },
      "outputs": [],
      "source": []
    }
  ],
  "metadata": {
    "colab": {
      "provenance": [],
      "include_colab_link": true
    },
    "kernelspec": {
      "display_name": "Python 3 (ipykernel)",
      "language": "python",
      "name": "python3"
    },
    "language_info": {
      "codemirror_mode": {
        "name": "ipython",
        "version": 3
      },
      "file_extension": ".py",
      "mimetype": "text/x-python",
      "name": "python",
      "nbconvert_exporter": "python",
      "pygments_lexer": "ipython3",
      "version": "3.7.11"
    }
  },
  "nbformat": 4,
  "nbformat_minor": 0
}