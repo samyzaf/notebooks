{
  "cells": [
    {
      "cell_type": "markdown",
      "metadata": {
        "id": "view-in-github",
        "colab_type": "text"
      },
      "source": [
        "<a href=\"https://colab.research.google.com/github/samyzaf/notebooks/blob/main/fdm_euler1.ipynb\" target=\"_parent\"><img src=\"https://colab.research.google.com/assets/colab-badge.svg\" alt=\"Open In Colab\"/></a>"
      ]
    },
    {
      "cell_type": "markdown",
      "id": "0bdd41c5",
      "metadata": {
        "cell_marker": "\"\"\"",
        "id": "0bdd41c5"
      },
      "source": [
        "# **Forward Euler Method**\n",
        "\n",
        "<small> version: 25.12.24a</small>\n",
        "\n",
        "* The history of the **Finite Difference Method (FDM)**\n",
        "  starts with the Swiss mathematician\n",
        "  [Leonard Euler (1707-1783)](https://en.wikipedia.org/wiki/Leonhard_Euler).\n",
        "\n",
        "* Euler devised a simple and brilliant plan for finding\n",
        "  a numerical solution to the general ordinary differential\n",
        "  equation  \n",
        "\n",
        "  $\\qquad\n",
        "  \\left\\{\n",
        "  \\begin{array}{l}\n",
        "  y' = F(x,y), \\quad a\\leq x\\leq b\n",
        "  \\\\\n",
        "  y(a) = y_0\n",
        "  \\end{array}\\right.\n",
        "  \\newcommand{\\Dx}{\\Delta x}\n",
        "  \\newcommand{\\Dy}{\\Delta y}\n",
        "  \\newcommand{\\Dz}{\\Delta z}\n",
        "  \\newcommand{\\Dt}{\\Delta t}\n",
        "  \\newcommand{\\Ds}{\\Delta s}\n",
        "  \\newcommand{\\Du}{\\Delta u}\n",
        "  $\n",
        "\n",
        "* Lets divide the closed interval $[a,b]$ to $N$\n",
        "  equal size sub-intervals  \n",
        "\n",
        "  $\\qquad\n",
        "  a=x_0, x_1, x_2, \\ldots, x_N = b$  \n",
        "\n",
        "  * That is: $x_i = a+i\\Dx$, where $\\Dx=\\frac{b-a}{N}$.  \n",
        "  * Notice that we get $N+1$ **nodes** $x_i$, $i=0,1,2,\\ldots,N$.\n",
        "\n",
        "* Assuming that $y(x)$ is a solution to our equation,\n",
        "  we define the nodes on the $y$-axis by $y_i = y(x_i)$\n",
        "\n",
        "* The first order derivative $y'(x)$ can be approximated\n",
        "  on our nodes $x_i$ by the formula  \n",
        "\n",
        "  $\\qquad\\displaystyle\n",
        "  y'(x_i) = \\frac{y(x_i + \\Dx) - y(x_i)}{\\Dx} = \\frac{y_{i+1} - y_i}{\\Dx}\n",
        "  $\n",
        "\n",
        "* So, the discrete form of our equation is\n",
        "\n",
        "  $\\qquad\\displaystyle\n",
        "  \\frac{y_{i+1} - y_i}{\\Dx} = F(x_i,y_i)\n",
        "  $\n",
        "\n",
        "* We get Euler's recursive solution:  \n",
        "\n",
        "  $\\qquad\\displaystyle\n",
        "  \\fbox{$y_{i+1} = y_i + F(x_i,y_i)\\Dx$}\n",
        "  $  \n",
        "\n",
        "  $y_0$ is given as an initial condition, so\n",
        "  we can easily compute all the nodes $y_i$!\n",
        "\n",
        "* **Practically, this allows us to solve (numerically)\n",
        "  any first order ordinary differential equation!**\n",
        "\n",
        "# Example\n",
        "* We show how to find a numerical solution to\n",
        "  the ordinary differential equation\n",
        "\n",
        "  $\\qquad\n",
        "  \\left\\{\n",
        "  \\begin{array}{l}\n",
        "  y' = 3x^2(y+1), \\quad 0\\leq x\\leq 2\n",
        "  \\\\\n",
        "  y(0) =1\n",
        "  \\end{array}\\right.\n",
        "  \\newcommand{\\Dx}{\\Delta x}\n",
        "  \\newcommand{\\Dy}{\\Delta y}\n",
        "  \\newcommand{\\Dz}{\\Delta z}\n",
        "  \\newcommand{\\Dt}{\\Delta t}\n",
        "  \\newcommand{\\Ds}{\\Delta s}\n",
        "  \\newcommand{\\Du}{\\Delta u}\n",
        "  \\newcommand{\\U}{\\mathbf{U}}\n",
        "  \\renewcommand{\\V}{\\mathbf{V}}\n",
        "  $  \n",
        "* Here we have $F(x,y) = 3x^2(y+1)$.\n",
        "\n",
        "* By the **forward Euler method**\n",
        "\n",
        "  $\\qquad\\displaystyle\n",
        "  y_{i+1} = y_i + F(x_i, y_i) \\Dx\n",
        "  $\n",
        "\n",
        "* Our interval $[0,2]$ is divided to $n$ equal subintervals\n",
        "  $x_i = 2/n$.\n",
        "\n",
        "* The array $y_i$ is obtained by the recursive formula\n",
        "  above."
      ]
    },
    {
      "cell_type": "code",
      "execution_count": 1,
      "id": "0c705e57",
      "metadata": {
        "colab": {
          "base_uri": "https://localhost:8080/"
        },
        "id": "0c705e57",
        "outputId": "24cc68af-ed26-455c-f64a-378f5efad776"
      },
      "outputs": [
        {
          "output_type": "stream",
          "name": "stdout",
          "text": [
            "  Preparing metadata (setup.py) ... \u001b[?25l\u001b[?25hdone\n",
            "  Preparing metadata (setup.py) ... \u001b[?25l\u001b[?25hdone\n",
            "  Preparing metadata (setup.py) ... \u001b[?25l\u001b[?25hdone\n",
            "  Building wheel for fdmtools (setup.py) ... \u001b[?25l\u001b[?25hdone\n",
            "  Building wheel for ezprogbar (setup.py) ... \u001b[?25l\u001b[?25hdone\n",
            "  Building wheel for ezsettings (setup.py) ... \u001b[?25l\u001b[?25hdone\n",
            "fdmtools version: 7\n"
          ]
        }
      ],
      "source": [
        "%pip install -q https://samyzaf.com/fdmtools.zip\n",
        "from fdmtools import *"
      ]
    },
    {
      "cell_type": "markdown",
      "id": "17181af7",
      "metadata": {
        "cell_marker": "\"\"\"",
        "id": "17181af7"
      },
      "source": [
        "* First we define our grid parameters.\n",
        "* For a start we use a small division size $N=100$."
      ]
    },
    {
      "cell_type": "code",
      "execution_count": 2,
      "id": "143c4eec",
      "metadata": {
        "lines_to_next_cell": 2,
        "id": "143c4eec"
      },
      "outputs": [],
      "source": [
        "a = 0                   # Interval = [0,2]\n",
        "b = 2\n",
        "N = 100                 # Division size = 100\n",
        "dx = (b-a)/N            # x-axis grid step\n",
        "X = np.array([a + i*dx for i in range(N+1)])  # N+1 x-nodes array\n",
        "Y = np.zeros(N+1)       # y-nodes array (all initialized to zero)"
      ]
    },
    {
      "cell_type": "markdown",
      "id": "d20bf1c8",
      "metadata": {
        "cell_marker": "\"\"\"",
        "id": "d20bf1c8"
      },
      "source": [
        "* This is the **Euler Forward Method** for solving our equation!\n",
        "* Notice how our right side function $F(x,y) = 3x^2(y+1)$\n",
        "  is represented in a discrete form\n",
        "  (as a Python **lambda** function)."
      ]
    },
    {
      "cell_type": "code",
      "execution_count": 3,
      "id": "22a0d990",
      "metadata": {
        "lines_to_next_cell": 2,
        "id": "22a0d990"
      },
      "outputs": [],
      "source": [
        "Y[0] = 0                               # initial condition y(0) = 0\n",
        "F = lambda i: 3*X[i]**2 * (Y[i] + 1)   # this is our F from: y' = F(x,y)\n",
        "for i in range(0, N):\n",
        "    Y[i+1] = Y[i] + F(i)*dx"
      ]
    },
    {
      "cell_type": "markdown",
      "id": "043db787",
      "metadata": {
        "cell_marker": "\"\"\"",
        "id": "043db787"
      },
      "source": [
        "* Took us 4 lines of code to solve the problem!\n",
        "* To be sure, lets plot the graph of the array **Y**"
      ]
    },
    {
      "cell_type": "code",
      "execution_count": 4,
      "id": "b5082df8",
      "metadata": {
        "lines_to_next_cell": 2,
        "colab": {
          "base_uri": "https://localhost:8080/"
        },
        "id": "b5082df8",
        "outputId": "d91f7c82-130e-4d7e-b753-b382d2bf2a29"
      },
      "outputs": [
        {
          "output_type": "execute_result",
          "data": {
            "text/plain": [
              "[<matplotlib.lines.Line2D at 0x7a4347cf4a90>]"
            ]
          },
          "metadata": {},
          "execution_count": 4
        }
      ],
      "source": [
        "plt.plot(X, Y, color=\"blue\", linewidth=1.5)"
      ]
    },
    {
      "cell_type": "markdown",
      "id": "a6e7850f",
      "metadata": {
        "cell_marker": "\"\"\"",
        "id": "a6e7850f"
      },
      "source": [
        "* The real solution to this problem is $y(x) = e^{x^3} - 1$.\n",
        "* Lets plot it using matplotlib."
      ]
    },
    {
      "cell_type": "code",
      "execution_count": 5,
      "id": "5489bf84",
      "metadata": {
        "lines_to_next_cell": 2,
        "colab": {
          "base_uri": "https://localhost:8080/"
        },
        "id": "5489bf84",
        "outputId": "db5903dd-8f3e-4877-a989-5387af765f34"
      },
      "outputs": [
        {
          "output_type": "execute_result",
          "data": {
            "text/plain": [
              "[<matplotlib.lines.Line2D at 0x7a4347cde150>]"
            ]
          },
          "metadata": {},
          "execution_count": 5
        }
      ],
      "source": [
        "Yreal = np.exp(X**3) - 1    # The real solution of the equation\n",
        "plt.plot(X, Yreal, color=\"red\", linewidth=1.5)"
      ]
    },
    {
      "cell_type": "markdown",
      "id": "a047ad8e",
      "metadata": {
        "cell_marker": "\"\"\"",
        "id": "a047ad8e"
      },
      "source": [
        "* The graphs look very similar up to $x=1.5$, but diverge sharply\n",
        "  at the interval $[1.5,2.0]$.\n",
        "* At the right end ($x=2.0$) we\n",
        "  notice a very sharp deviation from 1600 to 3000!\n",
        "\n",
        "* To get a better comparison between the graphs,\n",
        "  we should draw them together on the same axis.\n",
        "\n",
        "* We will use a blue line for the numerical solution, and dashed red\n",
        "  line for the real solution."
      ]
    },
    {
      "cell_type": "code",
      "execution_count": 6,
      "id": "cbb1dd63",
      "metadata": {
        "lines_to_next_cell": 2,
        "colab": {
          "base_uri": "https://localhost:8080/"
        },
        "id": "cbb1dd63",
        "outputId": "9a411ef7-5379-4ebf-8374-af69a7152276"
      },
      "outputs": [
        {
          "output_type": "execute_result",
          "data": {
            "text/plain": [
              "[<matplotlib.lines.Line2D at 0x7a4347cdf610>]"
            ]
          },
          "metadata": {},
          "execution_count": 6
        }
      ],
      "source": [
        "plt.plot(X, Y, color=\"blue\", linewidth=1.5)\n",
        "plt.plot(X, Yreal, color=\"red\", linewidth=3.0, linestyle=':')"
      ]
    },
    {
      "cell_type": "markdown",
      "id": "7bc07146",
      "metadata": {
        "cell_marker": "\"\"\"",
        "id": "7bc07146"
      },
      "source": [
        "* The graphs look identical on the interval $[0,1.5]$,\n",
        "  but significantly diverge\n",
        "  on the interval $[1.5,2.0]$.\n",
        "* We can perform a more precise numerical check:"
      ]
    },
    {
      "cell_type": "code",
      "execution_count": 7,
      "id": "6eab4d24",
      "metadata": {
        "lines_to_next_cell": 2,
        "colab": {
          "base_uri": "https://localhost:8080/"
        },
        "id": "6eab4d24",
        "outputId": "60e59787-c4a2-447c-b6a1-f0953f8ea695"
      },
      "outputs": [
        {
          "output_type": "stream",
          "name": "stdout",
          "text": [
            "Max err = 1385.973819800836\n"
          ]
        }
      ],
      "source": [
        "Yreal = np.exp(X**3) - 1          # The real solution\n",
        "E = np.abs(Y - Yreal)             # The real error (absolute value)\n",
        "print(f\"Max err = {E.max()}\")\n",
        "\n",
        "plt.title(\"Error = Y - Yreal\")\n",
        "plt.plot(X, E, color=\"red\", linewidth=1.5);"
      ]
    },
    {
      "cell_type": "markdown",
      "id": "dd86668f",
      "metadata": {
        "cell_marker": "\"\"\"",
        "id": "dd86668f"
      },
      "source": [
        "* Looks like the error is very small on the interval $[0,1.75]$,\n",
        "  and getting larger when we're getting close to $x=2.0$.\n",
        "\n",
        "* However, the values in this area are very high ($y(x)=e^{x^3} - 1$)\n",
        "  so we need to divide the error by $y(x)$, to get a **relative error**."
      ]
    },
    {
      "cell_type": "code",
      "execution_count": 8,
      "id": "6b37b9c9",
      "metadata": {
        "lines_to_next_cell": 2,
        "colab": {
          "base_uri": "https://localhost:8080/"
        },
        "id": "6b37b9c9",
        "outputId": "a8a4f046-46c7-401d-c624-3c67e43c9ee5"
      },
      "outputs": [
        {
          "output_type": "stream",
          "name": "stdout",
          "text": [
            "Max relative err = 0.465098442940373\n"
          ]
        },
        {
          "output_type": "execute_result",
          "data": {
            "text/plain": [
              "[<matplotlib.lines.Line2D at 0x7a4347ccaa90>]"
            ]
          },
          "metadata": {},
          "execution_count": 8
        }
      ],
      "source": [
        "i = int(1.5/dx)                              # Index of x=1.5\n",
        "E = np.abs((Y[i:] - Yreal[i:])/Yreal[i:])    # Relative error in the interval [1.5,2.0]\n",
        "print(f\"Max relative err = {E.max()}\")       # Max error in the interval [1.5,2.0]\n",
        "\n",
        "plt.plot(X[i:], E, color=\"red\", linewidth=1.5)"
      ]
    },
    {
      "cell_type": "markdown",
      "id": "a21a4df6",
      "metadata": {
        "cell_marker": "\"\"\"",
        "id": "a21a4df6"
      },
      "source": [
        "* The relative error near near $x=2.0$ is around 46%!\n",
        "* So we may need to use a larger division number like $N=10000$?\n",
        "* Lets first try $N=5000$."
      ]
    },
    {
      "cell_type": "code",
      "execution_count": 9,
      "id": "18edf49b",
      "metadata": {
        "lines_to_next_cell": 2,
        "colab": {
          "base_uri": "https://localhost:8080/"
        },
        "id": "18edf49b",
        "outputId": "523e8b71-847b-4359-bc68-73bd07750a48"
      },
      "outputs": [
        {
          "output_type": "stream",
          "name": "stdout",
          "text": [
            "Max err = 41.11292546162258\n"
          ]
        },
        {
          "output_type": "execute_result",
          "data": {
            "text/plain": [
              "[<matplotlib.lines.Line2D at 0x7a4347cbf8d0>]"
            ]
          },
          "metadata": {},
          "execution_count": 9
        }
      ],
      "source": [
        "N = 5000\n",
        "dx = (b-a)/N\n",
        "Y = np.zeros(N+1)             # Array for the FDM solution\n",
        "Y[0] = 0                      # initial condition y(0) = 0\n",
        "X = np.array([a + i*dx for i in range(N+1)])\n",
        "for i in range(0, N):\n",
        "    Y[i+1] = Y[i] + F(i) * dx\n",
        "\n",
        "Yreal = np.exp(X**3) - 1      # The real solution\n",
        "E = np.abs(Y - Yreal)         # The real (absolute) error\n",
        "print(f\"Max err = {E.max()}\")\n",
        "\n",
        "plt.title(\"Y vs. Yreal\")\n",
        "plt.plot(X, Y, color=\"blue\", linewidth=1.5)\n",
        "plt.plot(X, Yreal, color=\"red\", linewidth=3.0, linestyle=':')"
      ]
    },
    {
      "cell_type": "markdown",
      "id": "5f3b00a1",
      "metadata": {
        "cell_marker": "\"\"\"",
        "id": "5f3b00a1"
      },
      "source": [
        "* This time it looks as if the numerical solution **Y** overlaps\n",
        "  smoothly with the real solution **Yreal**.\n",
        "\n",
        "* Lets compute the maximal error."
      ]
    },
    {
      "cell_type": "code",
      "execution_count": 10,
      "id": "d1bda6ef",
      "metadata": {
        "lines_to_next_cell": 2,
        "colab": {
          "base_uri": "https://localhost:8080/"
        },
        "id": "d1bda6ef",
        "outputId": "436ddda2-a7d2-4400-92ad-8d666bd150d8"
      },
      "outputs": [
        {
          "output_type": "stream",
          "name": "stdout",
          "text": [
            "Max relative err = 0.013796478218955131\n"
          ]
        }
      ],
      "source": [
        "Yreal = np.exp(X**3) - 1\n",
        "i = int(1.5/dx)                              # Index of x=1.5\n",
        "E = np.abs((Y[i:] - Yreal[i:])/Yreal[i:])    # Relative error in the interval [1.5,2.0]\n",
        "print(f\"Max relative err = {E.max()}\")\n",
        "\n",
        "plt.plot(X[i:], E, color=\"red\", linewidth=1.5);"
      ]
    },
    {
      "cell_type": "markdown",
      "id": "bef94815",
      "metadata": {
        "cell_marker": "\"\"\"",
        "lines_to_next_cell": 2,
        "id": "bef94815"
      },
      "source": [
        "* This time the relative error is much smaller 1.4%.\n",
        "* So changing $N=1000$ to $N=5000$ seems to get us better precision\n",
        "  near the problematic endpoint $x=2.0$.\n",
        "\n",
        "* In any case, this process shows that the Euler forward method seems\n",
        "  to provide a converging solution to our problem.\n",
        "\n",
        "* Exact conditions for pointwise convergence of the numerical\n",
        "  solution to the real\n",
        "  solution can be found in the following source:  \n",
        "  http://www.math.ntu.edu.tw/~chern/notes/FD2013.pdf"
      ]
    }
  ],
  "metadata": {
    "jupytext": {
      "cell_metadata_filter": "-all",
      "main_language": "python",
      "notebook_metadata_filter": "-all"
    },
    "colab": {
      "provenance": [],
      "include_colab_link": true
    },
    "language_info": {
      "name": "python"
    },
    "kernelspec": {
      "name": "python3",
      "display_name": "Python 3"
    }
  },
  "nbformat": 4,
  "nbformat_minor": 5
}