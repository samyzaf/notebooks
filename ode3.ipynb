{
  "cells": [
    {
      "cell_type": "markdown",
      "metadata": {
        "id": "view-in-github",
        "colab_type": "text"
      },
      "source": [
        "<a href=\"https://colab.research.google.com/github/samyzaf/notebooks/blob/main/ode3.ipynb\" target=\"_parent\"><img src=\"https://colab.research.google.com/assets/colab-badge.svg\" alt=\"Open In Colab\"/></a>"
      ]
    },
    {
      "cell_type": "markdown",
      "metadata": {
        "id": "zo0mZHrOCICt"
      },
      "source": [
        "# Ordinary Differential Equations\n",
        "# Chapter 3: Solutions to exercises\n",
        "\n",
        "<a href=\"https://samyzaf.com/technion/ode/ode.pdf\">\n",
        "<img src=\"https://samyzaf.com/technion/ode/ode2.jpg\" alt=\"ode book cover\"/>\n",
        "</a>\n",
        "\n",
        "* We used Python **Sympy** package for obtaining the final\n",
        "  result for most of the exercises.\n",
        "* This package is still under development, and is not yet\n",
        "  ready to cope with all ode's.\n",
        "* The new site https://mathdf.com seems to be a great source\n",
        "  for obtaining full step-by-step solutions.\n",
        "* This notebook can be edited and executed by clicking\n",
        "  the **open in colab** button.\n",
        "* These are only a small number of solutions.\n",
        "  Hopefully this will encourage students to try to solve more\n",
        "  exercises with similar methods. We will be glad to accept notebooks\n",
        "  with solutions to other exercises in this book.\n",
        "  Please send them to sz@samyzaf.com."
      ]
    },
    {
      "cell_type": "code",
      "execution_count": 1,
      "metadata": {
        "colab": {
          "base_uri": "https://localhost:8080/"
        },
        "id": "M6sQe4JlsK7u",
        "outputId": "e21c3ac0-d755-4505-ffa3-1678d86d2e7f"
      },
      "outputs": [
        {
          "output_type": "stream",
          "name": "stdout",
          "text": [
            "Looking in indexes: https://pypi.org/simple, https://us-python.pkg.dev/colab-wheels/public/simple/\n",
            "Requirement already satisfied: sympy in /usr/local/lib/python3.8/dist-packages (1.7.1)\n",
            "Collecting sympy\n",
            "  Downloading sympy-1.11.1-py3-none-any.whl (6.5 MB)\n",
            "\u001b[K     |████████████████████████████████| 6.5 MB 5.0 MB/s \n",
            "\u001b[?25hRequirement already satisfied: mpmath>=0.19 in /usr/local/lib/python3.8/dist-packages (from sympy) (1.2.1)\n",
            "Installing collected packages: sympy\n",
            "  Attempting uninstall: sympy\n",
            "    Found existing installation: sympy 1.7.1\n",
            "    Uninstalling sympy-1.7.1:\n",
            "      Successfully uninstalled sympy-1.7.1\n",
            "Successfully installed sympy-1.11.1\n"
          ]
        }
      ],
      "source": [
        "%pip install --upgrade sympy"
      ]
    },
    {
      "cell_type": "code",
      "execution_count": 2,
      "metadata": {
        "id": "QO4VgM1r1vEy"
      },
      "outputs": [],
      "source": [
        "from sympy import *\n",
        "from sympy.solvers.ode import checkodesol"
      ]
    },
    {
      "cell_type": "markdown",
      "metadata": {
        "id": "YoIKr1sI4NRE"
      },
      "source": [
        "# Exercise 3.1.1\n",
        "\n",
        "$xy' - y = y^3$"
      ]
    },
    {
      "cell_type": "code",
      "execution_count": 3,
      "metadata": {
        "colab": {
          "base_uri": "https://localhost:8080/",
          "height": 100
        },
        "id": "NZnh7uRSHpf3",
        "outputId": "19009de5-6afa-43f0-8106-799ea4e3b4ae"
      },
      "outputs": [
        {
          "output_type": "display_data",
          "data": {
            "text/plain": [
              "Eq(y(x), -x*sqrt(-C1/(C1*x**2 - 1)))"
            ],
            "text/latex": "$\\displaystyle y{\\left(x \\right)} = - x \\sqrt{- \\frac{C_{1}}{C_{1} x^{2} - 1}}$"
          },
          "metadata": {}
        },
        {
          "output_type": "display_data",
          "data": {
            "text/plain": [
              "Eq(y(x), x*sqrt(-C1/(C1*x**2 - 1)))"
            ],
            "text/latex": "$\\displaystyle y{\\left(x \\right)} = x \\sqrt{- \\frac{C_{1}}{C_{1} x^{2} - 1}}$"
          },
          "metadata": {}
        }
      ],
      "source": [
        "x = symbols(\"x\", real=True)\n",
        "y = symbols(\"y\", cls=Function)\n",
        "de = Eq(x * y(x).diff(x) - y(x) , y(x) ** 3)\n",
        "Y = dsolve(de, y(x))\n",
        "display(Y[0])\n",
        "display(Y[1])"
      ]
    },
    {
      "cell_type": "code",
      "execution_count": 4,
      "metadata": {
        "colab": {
          "base_uri": "https://localhost:8080/"
        },
        "id": "-xQCw9LYZkNX",
        "outputId": "f257e91c-3873-4764-c963-999661e8548f"
      },
      "outputs": [
        {
          "output_type": "execute_result",
          "data": {
            "text/plain": [
              "[(True, 0), (True, 0)]"
            ]
          },
          "metadata": {},
          "execution_count": 4
        }
      ],
      "source": [
        "checkodesol(de, Y)"
      ]
    },
    {
      "cell_type": "markdown",
      "metadata": {
        "id": "ZyFYRsm34NRO"
      },
      "source": [
        "# Exercise 3.1.2\n",
        "\n",
        "$xyy' = 1 - x^2$"
      ]
    },
    {
      "cell_type": "code",
      "execution_count": 5,
      "metadata": {
        "colab": {
          "base_uri": "https://localhost:8080/",
          "height": 63
        },
        "id": "pta_vjpo4NRQ",
        "outputId": "48f893df-b941-4a3e-82e0-e4709af98f02"
      },
      "outputs": [
        {
          "output_type": "display_data",
          "data": {
            "text/plain": [
              "Eq(y(x), -sqrt(C1 - x**2 + 2*log(x)))"
            ],
            "text/latex": "$\\displaystyle y{\\left(x \\right)} = - \\sqrt{C_{1} - x^{2} + 2 \\log{\\left(x \\right)}}$"
          },
          "metadata": {}
        },
        {
          "output_type": "display_data",
          "data": {
            "text/plain": [
              "Eq(y(x), sqrt(C1 - x**2 + 2*log(x)))"
            ],
            "text/latex": "$\\displaystyle y{\\left(x \\right)} = \\sqrt{C_{1} - x^{2} + 2 \\log{\\left(x \\right)}}$"
          },
          "metadata": {}
        }
      ],
      "source": [
        "x = symbols(\"x\", real=True)\n",
        "y = symbols(\"y\", cls=Function)\n",
        "de = Eq(x* y(x) * y(x).diff(x) , 1 - x ** 2)\n",
        "Y = dsolve(de, y(x))\n",
        "display(Y[0])\n",
        "display(Y[1])"
      ]
    },
    {
      "cell_type": "code",
      "execution_count": 6,
      "metadata": {
        "colab": {
          "base_uri": "https://localhost:8080/"
        },
        "id": "Jt1h8PWLZ05u",
        "outputId": "c68b5cd4-8ee1-4e64-9dd4-d057f4592ecf"
      },
      "outputs": [
        {
          "output_type": "execute_result",
          "data": {
            "text/plain": [
              "[(True, 0), (True, 0)]"
            ]
          },
          "metadata": {},
          "execution_count": 6
        }
      ],
      "source": [
        "checkodesol(de, Y)"
      ]
    },
    {
      "cell_type": "markdown",
      "metadata": {
        "id": "poUTpkjx4NRR"
      },
      "source": [
        "# Exercise 3.1.3\n",
        "\n",
        "$y' \\tan x = y$"
      ]
    },
    {
      "cell_type": "code",
      "execution_count": 7,
      "metadata": {
        "colab": {
          "base_uri": "https://localhost:8080/",
          "height": 39
        },
        "id": "lVU3PItM4NRT",
        "outputId": "cf908c1b-047b-418c-82b0-28bfac62657f"
      },
      "outputs": [
        {
          "output_type": "execute_result",
          "data": {
            "text/plain": [
              "Eq(y(x), C1*sin(x))"
            ],
            "text/latex": "$\\displaystyle y{\\left(x \\right)} = C_{1} \\sin{\\left(x \\right)}$"
          },
          "metadata": {},
          "execution_count": 7
        }
      ],
      "source": [
        "x = symbols(\"x\", real=True)\n",
        "y = symbols(\"y\", cls=Function)\n",
        "de = Eq(y(x).diff(x) * tan(x) , y(x))\n",
        "dsolve(de, y(x))"
      ]
    },
    {
      "cell_type": "markdown",
      "metadata": {
        "id": "nESqAJ_O4NRU"
      },
      "source": [
        "# Exercise 3.1.4\n",
        "\n",
        "$y' - xy^2 = 2xy$"
      ]
    },
    {
      "cell_type": "code",
      "execution_count": 8,
      "metadata": {
        "colab": {
          "base_uri": "https://localhost:8080/",
          "height": 58
        },
        "id": "q0_RWXtb4NRV",
        "outputId": "deb0beaf-d4e6-428e-e45d-e20fca70b94b"
      },
      "outputs": [
        {
          "output_type": "execute_result",
          "data": {
            "text/plain": [
              "Eq(y(x), 2*exp(2*C1 + x**2)/(1 - exp(2*C1 + x**2)))"
            ],
            "text/latex": "$\\displaystyle y{\\left(x \\right)} = \\frac{2 e^{2 C_{1} + x^{2}}}{1 - e^{2 C_{1} + x^{2}}}$"
          },
          "metadata": {},
          "execution_count": 8
        }
      ],
      "source": [
        "x = symbols(\"x\", real=True)\n",
        "y = symbols(\"y\", cls=Function)\n",
        "de = Eq(y(x).diff(x) - x * y(x)**2 , 2*x*y(x))\n",
        "dsolve(de, y(x))"
      ]
    },
    {
      "cell_type": "markdown",
      "metadata": {
        "id": "XsmZ4uTU4NRW"
      },
      "source": [
        "# Exercise 3.1.5\n",
        "\n",
        "$e^{-s} \\left(1+\\frac{ds}{dt}\\right) = 1$"
      ]
    },
    {
      "cell_type": "code",
      "execution_count": 9,
      "metadata": {
        "colab": {
          "base_uri": "https://localhost:8080/",
          "height": 47
        },
        "id": "aAmznmFK4NRX",
        "outputId": "6d2ed834-e7b5-44f3-c7e6-ee1f82fc8819"
      },
      "outputs": [
        {
          "output_type": "execute_result",
          "data": {
            "text/plain": [
              "Eq(t + s(t) - log(exp(s(t)) - 1), C1)"
            ],
            "text/latex": "$\\displaystyle t + s{\\left(t \\right)} - \\log{\\left(e^{s{\\left(t \\right)}} - 1 \\right)} = C_{1}$"
          },
          "metadata": {},
          "execution_count": 9
        }
      ],
      "source": [
        "t = symbols(\"t\", real=True)\n",
        "s = symbols(\"s\", cls=Function)\n",
        "de = Eq(exp(-s(t)) * (1 + s(t).diff(t)) , 1)\n",
        "dsolve(de, s(t))"
      ]
    },
    {
      "cell_type": "markdown",
      "metadata": {
        "id": "hjueVl8n4NRZ"
      },
      "source": [
        "# Exercise 3.1.6\n",
        "\n",
        "$y' = 10^{x+y}$"
      ]
    },
    {
      "cell_type": "code",
      "execution_count": 10,
      "metadata": {
        "colab": {
          "base_uri": "https://localhost:8080/",
          "height": 70
        },
        "id": "ToRZvmw84NRZ",
        "outputId": "61110119-3e41-4a98-a261-6b7066892f83"
      },
      "outputs": [
        {
          "output_type": "execute_result",
          "data": {
            "text/plain": [
              "Eq(y(x), log(-1/(10**x + C1))/log(10))"
            ],
            "text/latex": "$\\displaystyle y{\\left(x \\right)} = \\frac{\\log{\\left(- \\frac{1}{10^{x} + C_{1}} \\right)}}{\\log{\\left(10 \\right)}}$"
          },
          "metadata": {},
          "execution_count": 10
        }
      ],
      "source": [
        "x = Symbol(\"x\", real=True, positive=True)\n",
        "y = symbols(\"y\", cls=Function)\n",
        "de = Eq(y(x).diff(x) , 10 ** (x + y(x)))\n",
        "dsolve(de, y(x))"
      ]
    },
    {
      "cell_type": "markdown",
      "metadata": {
        "id": "ZCi3ZoFI4NRa"
      },
      "source": [
        "# Exercise 3.1.7\n",
        "\n",
        "$(x+1)dx + (y-1)dy = 0$\n",
        "\n",
        "**Link to a step-by-step solution:**\n",
        "<br/>\n",
        "https://mathdf.com/dif/#expr=y'%2B2xy%3D2x%5E3&func=y&arg=x"
      ]
    },
    {
      "cell_type": "code",
      "execution_count": 11,
      "metadata": {
        "colab": {
          "base_uri": "https://localhost:8080/",
          "height": 65
        },
        "id": "LZ9Zy66h4NRb",
        "outputId": "1871068b-4687-47c8-d2aa-5f12c3fbc762"
      },
      "outputs": [
        {
          "output_type": "display_data",
          "data": {
            "text/plain": [
              "Eq(y(x), 1 - sqrt(C1 - x**2 - 2*x))"
            ],
            "text/latex": "$\\displaystyle y{\\left(x \\right)} = 1 - \\sqrt{C_{1} - x^{2} - 2 x}$"
          },
          "metadata": {}
        },
        {
          "output_type": "display_data",
          "data": {
            "text/plain": [
              "Eq(y(x), sqrt(C1 - x**2 - 2*x) + 1)"
            ],
            "text/latex": "$\\displaystyle y{\\left(x \\right)} = \\sqrt{C_{1} - x^{2} - 2 x} + 1$"
          },
          "metadata": {}
        }
      ],
      "source": [
        "x = symbols(\"x\", real=True)\n",
        "y = symbols(\"y\", cls=Function)\n",
        "de = Eq(x + 1 + (y(x) -1) * y(x).diff(x), 0)\n",
        "Y = dsolve(de, y(x))\n",
        "display(Y[0])\n",
        "display(Y[1])"
      ]
    },
    {
      "cell_type": "markdown",
      "metadata": {
        "id": "dF2BHElW4NRc"
      },
      "source": [
        "## Verification"
      ]
    },
    {
      "cell_type": "code",
      "execution_count": 12,
      "metadata": {
        "colab": {
          "base_uri": "https://localhost:8080/"
        },
        "id": "NYbUZmvr4NRc",
        "outputId": "4591fc4a-bbc8-4e11-f984-7ac0be5d3903"
      },
      "outputs": [
        {
          "output_type": "stream",
          "name": "stdout",
          "text": [
            "[Eq(y(x), 1 - sqrt(C1 - x**2 - 2*x)), Eq(y(x), sqrt(C1 - x**2 - 2*x) + 1)]\n"
          ]
        },
        {
          "output_type": "execute_result",
          "data": {
            "text/plain": [
              "[(True, 0), (True, 0)]"
            ]
          },
          "metadata": {},
          "execution_count": 12
        }
      ],
      "source": [
        "print(Y)\n",
        "checkodesol(de, Y)"
      ]
    },
    {
      "cell_type": "markdown",
      "metadata": {
        "id": "9PGQ_yxX4NRd"
      },
      "source": [
        "# Exercise 3.1.8\n",
        "\n",
        "$\\cos\\sqrt{x}\\, dx - \\sqrt{x}\\,dy = 0$\n",
        "\n",
        "[**Link to a step-by-step solution**](\n",
        "https://mathdf.com/dif/#expr=cos(sqrt(x))d(x)-sqrt(x)d(y)%3D0&func=y&arg=x\n",
        ")"
      ]
    },
    {
      "cell_type": "code",
      "execution_count": 13,
      "metadata": {
        "colab": {
          "base_uri": "https://localhost:8080/",
          "height": 39
        },
        "id": "jEJmLcwk4NRd",
        "outputId": "05cb3506-a3bd-43b1-fa73-3d51f1d16148"
      },
      "outputs": [
        {
          "output_type": "display_data",
          "data": {
            "text/plain": [
              "Eq(y(x), C1 + 2*sin(sqrt(x)))"
            ],
            "text/latex": "$\\displaystyle y{\\left(x \\right)} = C_{1} + 2 \\sin{\\left(\\sqrt{x} \\right)}$"
          },
          "metadata": {}
        }
      ],
      "source": [
        "x = symbols(\"x\", real=True)\n",
        "y = symbols(\"y\", cls=Function)\n",
        "de = Eq(cos(sqrt(x)) - sqrt(x) * y(x).diff(x) , 0)\n",
        "Y = dsolve(de, y(x))\n",
        "display(Y)"
      ]
    },
    {
      "cell_type": "code",
      "execution_count": 14,
      "metadata": {
        "colab": {
          "base_uri": "https://localhost:8080/"
        },
        "id": "iFxEPUI3fwgn",
        "outputId": "417c17de-809a-46c7-d5d6-c8b3c559aa7b"
      },
      "outputs": [
        {
          "output_type": "execute_result",
          "data": {
            "text/plain": [
              "(True, 0)"
            ]
          },
          "metadata": {},
          "execution_count": 14
        }
      ],
      "source": [
        "checkodesol(de, Y)"
      ]
    },
    {
      "cell_type": "markdown",
      "metadata": {
        "id": "xdFm4Isz4NRe"
      },
      "source": [
        "# Exercise 3.1.9\n",
        "\n",
        "$\\sqrt{1-x^2} dy - \\sqrt{1-y^2} dx = 0$\n",
        "\n",
        "Solution:\n",
        "\n",
        "$y=\\sin\\left(\\arcsin\\left(x\\right)+C\\right),\\;\\,x=1,\\;\\,x=-1,\\;\\,y=1,\\;\\,y=-1$\n",
        "\n",
        "[**Link to a step-by-step solution:**](\n",
        "https://mathdf.com/dif/#expr=sqrt(1-x%5E2)d(y)-sqrt(1-y%5E2)d(x)%3D0&func=y&arg=x\n",
        ")"
      ]
    },
    {
      "cell_type": "code",
      "execution_count": 15,
      "metadata": {
        "colab": {
          "base_uri": "https://localhost:8080/",
          "height": 39
        },
        "id": "RdIBmV9V4NRe",
        "outputId": "bf1675ee-b4a3-47ea-dcc8-7b85bbba08cf"
      },
      "outputs": [
        {
          "output_type": "display_data",
          "data": {
            "text/plain": [
              "Eq(y(x), sin(C1 + asin(x)))"
            ],
            "text/latex": "$\\displaystyle y{\\left(x \\right)} = \\sin{\\left(C_{1} + \\operatorname{asin}{\\left(x \\right)} \\right)}$"
          },
          "metadata": {}
        }
      ],
      "source": [
        "x = symbols(\"x\", real=True)\n",
        "y = symbols(\"y\", cls=Function)\n",
        "de = Eq(sqrt(1-x**2) * y(x).diff(x) - sqrt(1 - y(x)**2) , 0)\n",
        "Y = dsolve(de, y(x))\n",
        "display(Y)"
      ]
    },
    {
      "cell_type": "markdown",
      "metadata": {
        "id": "CyeB_rpGYpYu"
      },
      "source": [
        "* Sympy missed the special solutions $x=1,\\;\\,x=-1,\\;\\,y=1,\\;\\,y=-1$ which mathdf engine found."
      ]
    },
    {
      "cell_type": "markdown",
      "metadata": {
        "id": "D8DmLbXv4NRf"
      },
      "source": [
        "# Exercise 3.1.10\n",
        "\n",
        "$e^x(1+e^y)dx + e^y(1+e^x)dy = 0$\n",
        "\n",
        "[**Link to a step-by-step solution**](\n",
        "https://mathdf.com/dif/#expr=(2x%2B1)y'%3D4x%2B2y&func=y&arg=x\n",
        ")"
      ]
    },
    {
      "cell_type": "code",
      "execution_count": 16,
      "metadata": {
        "colab": {
          "base_uri": "https://localhost:8080/",
          "height": 47
        },
        "id": "y9yiADDo4NRg",
        "outputId": "971485e6-e89a-42e4-8027-270e960f9235"
      },
      "outputs": [
        {
          "output_type": "display_data",
          "data": {
            "text/plain": [
              "Eq(y(x) + log(exp(x) + 1) - log(exp(y(x)) + 1), C1)"
            ],
            "text/latex": "$\\displaystyle y{\\left(x \\right)} + \\log{\\left(e^{x} + 1 \\right)} - \\log{\\left(e^{y{\\left(x \\right)}} + 1 \\right)} = C_{1}$"
          },
          "metadata": {}
        }
      ],
      "source": [
        "x = symbols(\"x\", real=True)\n",
        "y = symbols(\"y\", cls=Function)\n",
        "de = Eq(exp(x) * (1 + exp(y(x))) + (1 + exp(x)) * y(x).diff(x) , 0)\n",
        "Y = dsolve(de, y(x))\n",
        "display(Y)"
      ]
    },
    {
      "cell_type": "markdown",
      "metadata": {
        "id": "qvZ_rgOD4NRh"
      },
      "source": [
        "# Exercise 3.1.11\n",
        "\n",
        "$xy^3y' = x^4+y^4$\n",
        "\n",
        "Solution:\n",
        "\n",
        "${y}^{4}=4\\,{x}^{4}\\,\\left(\\ln\\left(x\\right)+C\\right)$\n",
        "\n",
        "[**Link to a step-by-step solution:**](\n",
        "https://mathdf.com/dif/#expr=(2x%2B1)y'%3D4x%2B2y&func=y&arg=x\n",
        ")"
      ]
    },
    {
      "cell_type": "code",
      "execution_count": 17,
      "metadata": {
        "colab": {
          "base_uri": "https://localhost:8080/",
          "height": 86
        },
        "id": "S6r9SRWr4NRh",
        "outputId": "e6d050b2-c482-40a8-9433-fdd589b13d49"
      },
      "outputs": [
        {
          "output_type": "display_data",
          "data": {
            "text/plain": [
              "[Eq(y(x), -I*(C1 + 4*log(x))**(1/4)*Abs(x)),\n",
              " Eq(y(x), I*(C1 + 4*log(x))**(1/4)*Abs(x)),\n",
              " Eq(y(x), -(C1 + 4*log(x))**(1/4)*Abs(x)),\n",
              " Eq(y(x), (C1 + 4*log(x))**(1/4)*Abs(x))]"
            ]
          },
          "metadata": {}
        }
      ],
      "source": [
        "x = symbols(\"x\", real=True)\n",
        "y = symbols(\"y\", cls=Function)\n",
        "de = Eq(x * y(x) ** 3 * y(x).diff(x) , x**4 + y(x) ** 4)\n",
        "Y = dsolve(de, y(x))\n",
        "display(Y)"
      ]
    },
    {
      "cell_type": "code",
      "execution_count": 18,
      "metadata": {
        "colab": {
          "base_uri": "https://localhost:8080/",
          "height": 110
        },
        "id": "pcn_oap6YpYv",
        "outputId": "4a691280-ac45-49de-9f6c-b540266c2b14"
      },
      "outputs": [
        {
          "output_type": "display_data",
          "data": {
            "text/plain": [
              "Eq(y(x), -I*(C1 + 4*log(x))**(1/4)*Abs(x))"
            ],
            "text/latex": "$\\displaystyle y{\\left(x \\right)} = - i \\sqrt[4]{C_{1} + 4 \\log{\\left(x \\right)}} \\left|{x}\\right|$"
          },
          "metadata": {}
        },
        {
          "output_type": "display_data",
          "data": {
            "text/plain": [
              "Eq(y(x), I*(C1 + 4*log(x))**(1/4)*Abs(x))"
            ],
            "text/latex": "$\\displaystyle y{\\left(x \\right)} = i \\sqrt[4]{C_{1} + 4 \\log{\\left(x \\right)}} \\left|{x}\\right|$"
          },
          "metadata": {}
        },
        {
          "output_type": "display_data",
          "data": {
            "text/plain": [
              "Eq(y(x), -(C1 + 4*log(x))**(1/4)*Abs(x))"
            ],
            "text/latex": "$\\displaystyle y{\\left(x \\right)} = - \\sqrt[4]{C_{1} + 4 \\log{\\left(x \\right)}} \\left|{x}\\right|$"
          },
          "metadata": {}
        },
        {
          "output_type": "display_data",
          "data": {
            "text/plain": [
              "Eq(y(x), (C1 + 4*log(x))**(1/4)*Abs(x))"
            ],
            "text/latex": "$\\displaystyle y{\\left(x \\right)} = \\sqrt[4]{C_{1} + 4 \\log{\\left(x \\right)}} \\left|{x}\\right|$"
          },
          "metadata": {}
        }
      ],
      "source": [
        "display(Y[0])\n",
        "display(Y[1])\n",
        "display(Y[2])\n",
        "display(Y[3])"
      ]
    },
    {
      "cell_type": "code",
      "execution_count": 19,
      "metadata": {
        "colab": {
          "base_uri": "https://localhost:8080/"
        },
        "id": "JameTwZy4NRi",
        "outputId": "e1fec145-367a-445e-d4af-cc4df84915de"
      },
      "outputs": [
        {
          "output_type": "execute_result",
          "data": {
            "text/plain": [
              "[(True, 0), (True, 0), (True, 0), (True, 0)]"
            ]
          },
          "metadata": {},
          "execution_count": 19
        }
      ],
      "source": [
        "checkodesol(de, Y)"
      ]
    },
    {
      "cell_type": "markdown",
      "metadata": {
        "id": "UXV85sGG4NRi"
      },
      "source": [
        "# Exercise 3.2.1\n",
        "\n",
        "$\n",
        "\\left\\{\n",
        "\\begin{array}{l}\n",
        "(x^2-1)y' +2xy^2 = 0 \\\\\n",
        "y(2) = 1\n",
        "\\end{array}\n",
        "\\right.\n",
        "$\n",
        "\n",
        "[**Link to a step-by-step solution**](\n",
        "https://mathdf.com/dif/#expr=(x%5E2-1)y'%2B2xy%5E2%3D0&func=y&arg=x&vals=2%3B1\n",
        ")"
      ]
    },
    {
      "cell_type": "code",
      "execution_count": 20,
      "metadata": {
        "colab": {
          "base_uri": "https://localhost:8080/",
          "height": 55
        },
        "id": "c2UUcyrY4NRj",
        "outputId": "5c868d09-10b2-4955-ddfa-cc20d5b7c1af"
      },
      "outputs": [
        {
          "output_type": "display_data",
          "data": {
            "text/plain": [
              "Eq(y(x), -1/(-log(x**2 - 1) - 1 + log(3)))"
            ],
            "text/latex": "$\\displaystyle y{\\left(x \\right)} = - \\frac{1}{- \\log{\\left(x^{2} - 1 \\right)} - 1 + \\log{\\left(3 \\right)}}$"
          },
          "metadata": {}
        }
      ],
      "source": [
        "x = symbols(\"x\", real=True)\n",
        "y = symbols(\"y\", cls=Function)\n",
        "de = Eq((x**2 - 1) * y(x).diff(x) + 2*x*y(x)**2, 0)\n",
        "Y = dsolve(de, y(x), ics={y(2):1})\n",
        "display(Y)"
      ]
    },
    {
      "cell_type": "code",
      "execution_count": 21,
      "metadata": {
        "colab": {
          "base_uri": "https://localhost:8080/"
        },
        "id": "_-P2ic644NRk",
        "outputId": "6d251d82-a5c7-421d-829f-776e23d9a29f"
      },
      "outputs": [
        {
          "output_type": "execute_result",
          "data": {
            "text/plain": [
              "(True, 0)"
            ]
          },
          "metadata": {},
          "execution_count": 21
        }
      ],
      "source": [
        "checkodesol(de, Y)"
      ]
    },
    {
      "cell_type": "markdown",
      "metadata": {
        "id": "Eo9qMHAq4NRk"
      },
      "source": [
        "# Exercise 3.2.2\n",
        "\n",
        "$\n",
        "\\left\\{\n",
        "\\begin{array}{l}\n",
        "y' = 3 \\sqrt[3]{y^2} \\\\\n",
        "y(2) = 0\n",
        "\\end{array}\n",
        "\\right.\n",
        "$\n",
        "\n",
        "[**Link to a step-by-step solution**](\n",
        "https://mathdf.com/dif/#expr=y'%3D3*y%5E(2%2F3)&func=y&arg=x&vals=2%3B0\n",
        ")"
      ]
    },
    {
      "cell_type": "code",
      "execution_count": 22,
      "metadata": {
        "colab": {
          "base_uri": "https://localhost:8080/",
          "height": 56
        },
        "id": "EgAkgU7d4NRl",
        "outputId": "544bd0b2-f7b6-496a-ee55-3007a4dd5a2c"
      },
      "outputs": [
        {
          "output_type": "stream",
          "name": "stdout",
          "text": [
            "Eq(y(x), x**3 - 6*x**2 + 12*x - 8)\n"
          ]
        },
        {
          "output_type": "display_data",
          "data": {
            "text/plain": [
              "Eq(y(x), x**3 - 6*x**2 + 12*x - 8)"
            ],
            "text/latex": "$\\displaystyle y{\\left(x \\right)} = x^{3} - 6 x^{2} + 12 x - 8$"
          },
          "metadata": {}
        }
      ],
      "source": [
        "x = symbols(\"x\", real=True)\n",
        "y = symbols(\"y\", cls=Function)\n",
        "de = Eq(y(x).diff(x) , 3 * cbrt(y(x)**2))\n",
        "Y = dsolve(de, y(x), ics={y(2): 0})\n",
        "print(Y)\n",
        "display(Y)"
      ]
    },
    {
      "cell_type": "markdown",
      "metadata": {
        "id": "45eGoMSH4NRl",
        "outputId": "3f19381c-f173-4c85-f3e8-cd73762dfbc5"
      },
      "source": [
        "Private solution: $y = (x-2)^3$"
      ]
    },
    {
      "cell_type": "code",
      "execution_count": 23,
      "metadata": {
        "id": "I3LhZ6gIYpYy"
      },
      "outputs": [],
      "source": [
        "yp = Eq(y(x) , (x-2)**3)"
      ]
    },
    {
      "cell_type": "code",
      "execution_count": 24,
      "metadata": {
        "colab": {
          "base_uri": "https://localhost:8080/"
        },
        "id": "zEONyFsxYpYz",
        "outputId": "0d5214bb-ae61-4f07-833a-c4aa14af3297"
      },
      "outputs": [
        {
          "output_type": "execute_result",
          "data": {
            "text/plain": [
              "(True, 0)"
            ]
          },
          "metadata": {},
          "execution_count": 24
        }
      ],
      "source": [
        "checkodesol(de, yp)"
      ]
    },
    {
      "cell_type": "markdown",
      "metadata": {
        "id": "YXi-q8jgYpYz"
      },
      "source": [
        "# Exercise 3.2.3\n",
        "\n",
        "$\n",
        "\\left\\{\n",
        "\\begin{array}{l}\n",
        "(xy^2 + x)dx + (x^2y - y)dy = 0 \\\\[1ex]\n",
        "y(0) = 1\n",
        "\\end{array}\n",
        "\\right.\n",
        "$\n",
        "\n",
        "[**Link to a step-by-step solution:**](\n",
        "https://mathdf.com/dif/#expr=(xy%5E2%2Bx)d(x)%2B(x%5E2y-y)d(y)%3D0&func=y&arg=x&vals=0%3B1)"
      ]
    },
    {
      "cell_type": "code",
      "execution_count": 25,
      "metadata": {
        "colab": {
          "base_uri": "https://localhost:8080/",
          "height": 65
        },
        "id": "7ueMCJOXYpYz",
        "outputId": "a5bbb579-3c9a-4ff2-9e66-0f64f54458a3"
      },
      "outputs": [
        {
          "output_type": "display_data",
          "data": {
            "text/plain": [
              "Eq(y(x), -sqrt(C1*x**2 - C1 - 1))"
            ],
            "text/latex": "$\\displaystyle y{\\left(x \\right)} = - \\sqrt{C_{1} x^{2} - C_{1} - 1}$"
          },
          "metadata": {}
        },
        {
          "output_type": "display_data",
          "data": {
            "text/plain": [
              "Eq(y(x), sqrt(C1*x**2 - C1 - 1))"
            ],
            "text/latex": "$\\displaystyle y{\\left(x \\right)} = \\sqrt{C_{1} x^{2} - C_{1} - 1}$"
          },
          "metadata": {}
        }
      ],
      "source": [
        "x = symbols(\"x\", real=True)\n",
        "y = symbols(\"y\", cls=Function)\n",
        "de = Eq(x * y(x)**2 +x, (x**2 * y(x) - y(x)) * y(x).diff(x) , cis={y(0): 1})\n",
        "Y = dsolve(de, y(x))\n",
        "display(Y[0])\n",
        "display(Y[1])"
      ]
    },
    {
      "cell_type": "code",
      "execution_count": 26,
      "metadata": {
        "colab": {
          "base_uri": "https://localhost:8080/"
        },
        "id": "IhIdWEY-YpYz",
        "outputId": "d5e0c141-0d64-4afd-d2e7-b456d926c039"
      },
      "outputs": [
        {
          "output_type": "execute_result",
          "data": {
            "text/plain": [
              "[(True, 0), (True, 0)]"
            ]
          },
          "metadata": {},
          "execution_count": 26
        }
      ],
      "source": [
        "checkodesol(de, Y)"
      ]
    },
    {
      "cell_type": "markdown",
      "metadata": {
        "id": "tTHBhhGdYpY0"
      },
      "source": [
        "# Exercise 3.2.4\n",
        "\n",
        "$\n",
        "\\left\\{\n",
        "\\begin{array}{l}\n",
        "y' \\sin x + y\\ln y = 0 \\\\[1ex]\n",
        "y(\\frac{\\pi}{2}) = 1\n",
        "\\end{array}\n",
        "\\right.\n",
        "$\n",
        "\n",
        "[**Link to a step-by-step solution**](\n",
        "https://mathdf.com/dif/#expr=y'sin(x)%2Byln(y)%3D0&func=y&arg=x&vals=pi%2F2%3B1\n",
        ")"
      ]
    },
    {
      "cell_type": "code",
      "execution_count": 27,
      "metadata": {
        "colab": {
          "base_uri": "https://localhost:8080/",
          "height": 56
        },
        "id": "3FE8sqHlYpY0",
        "outputId": "e74fae86-7517-498b-f60e-2e35e2c4f103"
      },
      "outputs": [
        {
          "output_type": "stream",
          "name": "stdout",
          "text": [
            "Eq(y(x), 1)\n"
          ]
        },
        {
          "output_type": "display_data",
          "data": {
            "text/plain": [
              "Eq(y(x), 1)"
            ],
            "text/latex": "$\\displaystyle y{\\left(x \\right)} = 1$"
          },
          "metadata": {}
        }
      ],
      "source": [
        "x = symbols(\"x\", real=True)\n",
        "y = symbols(\"y\", cls=Function)\n",
        "de = Eq(y(x).diff(x) * sin(x) + y(x) * log(y(x)), 0)\n",
        "Y = dsolve(de, y(x) , ics={y(pi/2): 1})\n",
        "print(Y)\n",
        "display(Y)"
      ]
    },
    {
      "cell_type": "code",
      "execution_count": 28,
      "metadata": {
        "colab": {
          "base_uri": "https://localhost:8080/"
        },
        "id": "wSDBVZ9yYpY0",
        "outputId": "62455c3a-df1e-4c0b-92d4-a6a5725ab24a"
      },
      "outputs": [
        {
          "output_type": "execute_result",
          "data": {
            "text/plain": [
              "(True, 0)"
            ]
          },
          "metadata": {},
          "execution_count": 28
        }
      ],
      "source": [
        "checkodesol(de, Y)"
      ]
    },
    {
      "cell_type": "markdown",
      "metadata": {
        "id": "wktno-scYpY1"
      },
      "source": [
        "# Exercise 3.2.5\n",
        "\n",
        "$\n",
        "\\left\\{\n",
        "\\begin{array}{l}\n",
        "2xyy' + x^2 - y^2 = 0 \\\\[1ex]\n",
        "y(1) = 0\n",
        "\\end{array}\n",
        "\\right.\n",
        "$\n"
      ]
    },
    {
      "cell_type": "code",
      "execution_count": 29,
      "metadata": {
        "colab": {
          "base_uri": "https://localhost:8080/",
          "height": 81
        },
        "id": "7oFeUq9EYpY1",
        "outputId": "d19eba4b-6211-4f69-84b1-4b408eb0f593"
      },
      "outputs": [
        {
          "output_type": "stream",
          "name": "stdout",
          "text": [
            "[Eq(y(x), -sqrt(x*(1 - x))), Eq(y(x), sqrt(x*(1 - x)))]\n"
          ]
        },
        {
          "output_type": "display_data",
          "data": {
            "text/plain": [
              "Eq(y(x), -sqrt(x*(1 - x)))"
            ],
            "text/latex": "$\\displaystyle y{\\left(x \\right)} = - \\sqrt{x \\left(1 - x\\right)}$"
          },
          "metadata": {}
        },
        {
          "output_type": "display_data",
          "data": {
            "text/plain": [
              "Eq(y(x), sqrt(x*(1 - x)))"
            ],
            "text/latex": "$\\displaystyle y{\\left(x \\right)} = \\sqrt{x \\left(1 - x\\right)}$"
          },
          "metadata": {}
        }
      ],
      "source": [
        "x = symbols(\"x\", real=True)\n",
        "y = symbols(\"y\", cls=Function)\n",
        "de = Eq(2*x*y(x)*y(x).diff(x) + x**2 - y(x)**2 , 0)\n",
        "Y = dsolve(de, y(x) , ics={y(1): 0})\n",
        "print(Y)\n",
        "display(Y[0])\n",
        "display(Y[1])"
      ]
    },
    {
      "cell_type": "code",
      "execution_count": 30,
      "metadata": {
        "colab": {
          "base_uri": "https://localhost:8080/"
        },
        "id": "lWJbSBRyYpY1",
        "outputId": "117c9bef-3de8-4726-e3b8-68fb02b6a850"
      },
      "outputs": [
        {
          "output_type": "execute_result",
          "data": {
            "text/plain": [
              "[(True, 0), (True, 0)]"
            ]
          },
          "metadata": {},
          "execution_count": 30
        }
      ],
      "source": [
        "checkodesol(de, Y)"
      ]
    },
    {
      "cell_type": "markdown",
      "metadata": {
        "id": "WAjgfxQYYpY1"
      },
      "source": [
        "# Exercise 3.2.6\n",
        "\n",
        "$\n",
        "\\left\\{\n",
        "\\begin{array}{l}\n",
        "xy' + y - e^x = 0 \\\\[1ex]\n",
        "y(a) = b\n",
        "\\end{array}\n",
        "\\right.\n",
        "$\n"
      ]
    },
    {
      "cell_type": "code",
      "execution_count": 31,
      "metadata": {
        "colab": {
          "base_uri": "https://localhost:8080/",
          "height": 69
        },
        "id": "cS6jEg-_YpY1",
        "outputId": "59f7822f-8ea3-43fa-c967-9ab8b99a0222"
      },
      "outputs": [
        {
          "output_type": "stream",
          "name": "stdout",
          "text": [
            "Eq(y(x), (a*b - exp(a) + exp(x))/x)\n"
          ]
        },
        {
          "output_type": "display_data",
          "data": {
            "text/plain": [
              "Eq(y(x), (a*b - exp(a) + exp(x))/x)"
            ],
            "text/latex": "$\\displaystyle y{\\left(x \\right)} = \\frac{a b - e^{a} + e^{x}}{x}$"
          },
          "metadata": {}
        }
      ],
      "source": [
        "x, a, b = symbols(\"x a b\", real=True)\n",
        "y = symbols(\"y\", cls=Function)\n",
        "de = Eq(x*y(x).diff(x) + y(x) - exp(x) , 0)\n",
        "Y = dsolve(de, y(x) , ics={y(a): b})\n",
        "print(Y)\n",
        "display(Y)"
      ]
    },
    {
      "cell_type": "code",
      "execution_count": 32,
      "metadata": {
        "colab": {
          "base_uri": "https://localhost:8080/"
        },
        "id": "doky9G0MYpY2",
        "outputId": "cb4f7b26-4fd2-4052-e529-307352db0077"
      },
      "outputs": [
        {
          "output_type": "execute_result",
          "data": {
            "text/plain": [
              "(True, 0)"
            ]
          },
          "metadata": {},
          "execution_count": 32
        }
      ],
      "source": [
        "checkodesol(de, Y)"
      ]
    },
    {
      "cell_type": "markdown",
      "metadata": {
        "id": "57nn9VY-YpY2"
      },
      "source": [
        "# Exercise 3.2.7\n",
        "\n",
        "$\n",
        "\\left\\{\n",
        "\\begin{array}{l}\n",
        "y' - 2y = -x^2      \\\\[1ex]\n",
        "y(0) = \\frac{1}{4}\n",
        "\\end{array}\n",
        "\\right.\n",
        "$\n"
      ]
    },
    {
      "cell_type": "code",
      "execution_count": 33,
      "metadata": {
        "colab": {
          "base_uri": "https://localhost:8080/",
          "height": 71
        },
        "id": "hn_WT_EaYpY2",
        "outputId": "448778f5-bff3-448f-cb19-30d9600120d3"
      },
      "outputs": [
        {
          "output_type": "stream",
          "name": "stdout",
          "text": [
            "Eq(y(x), x**2/2 + x/2 + 1/4)\n"
          ]
        },
        {
          "output_type": "display_data",
          "data": {
            "text/plain": [
              "Eq(y(x), x**2/2 + x/2 + 1/4)"
            ],
            "text/latex": "$\\displaystyle y{\\left(x \\right)} = \\frac{x^{2}}{2} + \\frac{x}{2} + \\frac{1}{4}$"
          },
          "metadata": {}
        }
      ],
      "source": [
        "x = symbols(\"x\", real=True)\n",
        "y = symbols(\"y\", cls=Function)\n",
        "de = Eq(y(x).diff(x) - 2*y(x) , -x**2)\n",
        "Y = dsolve(de, y(x) , ics={y(0): 1/4})\n",
        "print(Y)\n",
        "display(Y)"
      ]
    },
    {
      "cell_type": "code",
      "execution_count": 34,
      "metadata": {
        "colab": {
          "base_uri": "https://localhost:8080/"
        },
        "id": "DDA9uVOCYpY2",
        "outputId": "431fbff5-1d2a-439e-ecd3-a991bdff2688"
      },
      "outputs": [
        {
          "output_type": "execute_result",
          "data": {
            "text/plain": [
              "(True, 0)"
            ]
          },
          "metadata": {},
          "execution_count": 34
        }
      ],
      "source": [
        "checkodesol(de, Y)"
      ]
    },
    {
      "cell_type": "markdown",
      "metadata": {
        "id": "pqBnGWXAYpY2"
      },
      "source": [
        "# Exercise 3.2.8\n",
        "\n",
        "$\n",
        "\\left\\{\n",
        "\\begin{array}{l}\n",
        "xy' + y = 2x+1, \\quad x>0 \\\\[1ex]\n",
        "y(1) = 1\n",
        "\\end{array}\n",
        "\\right.\n",
        "$\n"
      ]
    },
    {
      "cell_type": "code",
      "execution_count": 35,
      "metadata": {
        "colab": {
          "base_uri": "https://localhost:8080/",
          "height": 68
        },
        "id": "WBXf0URPYpY2",
        "outputId": "18da8bf9-c31a-4b4a-b809-baf07e772c16"
      },
      "outputs": [
        {
          "output_type": "stream",
          "name": "stdout",
          "text": [
            "Eq(y(x), -x + 1 + 1/x)\n"
          ]
        },
        {
          "output_type": "display_data",
          "data": {
            "text/plain": [
              "Eq(y(x), -x + 1 + 1/x)"
            ],
            "text/latex": "$\\displaystyle y{\\left(x \\right)} = - x + 1 + \\frac{1}{x}$"
          },
          "metadata": {}
        }
      ],
      "source": [
        "x = symbols(\"x\", real=True)\n",
        "y = symbols(\"y\", cls=Function)\n",
        "de = Eq(x * y(x).diff(x) + y(x) , -2*x + 1)\n",
        "Y = dsolve(de, y(x) , ics={y(1): 1})\n",
        "print(Y)\n",
        "display(Y)"
      ]
    },
    {
      "cell_type": "code",
      "execution_count": 36,
      "metadata": {
        "colab": {
          "base_uri": "https://localhost:8080/"
        },
        "id": "xjBm47oXYpY3",
        "outputId": "e35b610b-dba3-41c4-c416-44718fa4652a"
      },
      "outputs": [
        {
          "output_type": "execute_result",
          "data": {
            "text/plain": [
              "(True, 0)"
            ]
          },
          "metadata": {},
          "execution_count": 36
        }
      ],
      "source": [
        "checkodesol(de, Y)"
      ]
    },
    {
      "cell_type": "markdown",
      "metadata": {
        "id": "TmoiRYBIYpY3"
      },
      "source": [
        "# Exercise 3.2.9\n",
        "\n",
        "$\n",
        "\\left\\{\n",
        "\\begin{array}{l}\n",
        "(x-2)dx + (y-1)dy = 0 \\\\[1ex]\n",
        "y(2) = 1\n",
        "\\end{array}\n",
        "\\right.\n",
        "$\n"
      ]
    },
    {
      "cell_type": "code",
      "execution_count": 37,
      "metadata": {
        "colab": {
          "base_uri": "https://localhost:8080/",
          "height": 83
        },
        "id": "kixL_JqoYpY3",
        "outputId": "ae7f0455-ee91-45fb-adee-e705355ea465"
      },
      "outputs": [
        {
          "output_type": "stream",
          "name": "stdout",
          "text": [
            "[Eq(y(x), 1 - sqrt(-x**2 + 4*x - 4)), Eq(y(x), sqrt(-x**2 + 4*x - 4) + 1)]\n"
          ]
        },
        {
          "output_type": "display_data",
          "data": {
            "text/plain": [
              "Eq(y(x), 1 - sqrt(-x**2 + 4*x - 4))"
            ],
            "text/latex": "$\\displaystyle y{\\left(x \\right)} = 1 - \\sqrt{- x^{2} + 4 x - 4}$"
          },
          "metadata": {}
        },
        {
          "output_type": "display_data",
          "data": {
            "text/plain": [
              "Eq(y(x), sqrt(-x**2 + 4*x - 4) + 1)"
            ],
            "text/latex": "$\\displaystyle y{\\left(x \\right)} = \\sqrt{- x^{2} + 4 x - 4} + 1$"
          },
          "metadata": {}
        }
      ],
      "source": [
        "x = symbols(\"x\", real=True)\n",
        "y = symbols(\"y\", cls=Function)\n",
        "de = Eq(x-2 + (y(x) - 1) * y(x).diff(x) , 0)\n",
        "Y = dsolve(de, y(x) , ics={y(2): 1})\n",
        "print(Y)\n",
        "display(Y[0])\n",
        "display(Y[1])"
      ]
    },
    {
      "cell_type": "code",
      "execution_count": 38,
      "metadata": {
        "colab": {
          "base_uri": "https://localhost:8080/"
        },
        "id": "WyqFEZrDYpY3",
        "outputId": "b32c1cf0-7c2d-4c15-98f2-c0a3863e4e31"
      },
      "outputs": [
        {
          "output_type": "execute_result",
          "data": {
            "text/plain": [
              "[(True, 0), (True, 0)]"
            ]
          },
          "metadata": {},
          "execution_count": 38
        }
      ],
      "source": [
        "checkodesol(de, Y)"
      ]
    },
    {
      "cell_type": "markdown",
      "metadata": {
        "id": "xikI_O_5YpY3"
      },
      "source": [
        "# Exercise 3.2.10\n",
        "\n",
        "$\n",
        "\\left\\{\n",
        "\\begin{array}{l}\n",
        "(1+x^2)dy - 2x(y+3)dx = 0 \\\\[1ex]\n",
        "y(0) = -1\n",
        "\\end{array}\n",
        "\\right.\n",
        "$\n"
      ]
    },
    {
      "cell_type": "code",
      "execution_count": 39,
      "metadata": {
        "colab": {
          "base_uri": "https://localhost:8080/",
          "height": 56
        },
        "id": "iQXVGPgiYpY4",
        "outputId": "ee3752ea-afc0-44fb-b1a6-6c153fe116cf"
      },
      "outputs": [
        {
          "output_type": "stream",
          "name": "stdout",
          "text": [
            "Eq(y(x), 2*x**2 - 1)\n"
          ]
        },
        {
          "output_type": "display_data",
          "data": {
            "text/plain": [
              "Eq(y(x), 2*x**2 - 1)"
            ],
            "text/latex": "$\\displaystyle y{\\left(x \\right)} = 2 x^{2} - 1$"
          },
          "metadata": {}
        }
      ],
      "source": [
        "x = symbols(\"x\", real=True)\n",
        "y = symbols(\"y\", cls=Function)\n",
        "de = Eq((1+x**2) * y(x).diff(x) - 2*x*(y(x) + 3) , 0)\n",
        "Y = dsolve(de, y(x) , ics={y(0): -1})\n",
        "print(Y)\n",
        "display(Y)"
      ]
    },
    {
      "cell_type": "code",
      "execution_count": 40,
      "metadata": {
        "colab": {
          "base_uri": "https://localhost:8080/"
        },
        "id": "iPCT3wK8YpY4",
        "outputId": "8bf7775c-0fed-4979-d121-3c195406dcb5"
      },
      "outputs": [
        {
          "output_type": "execute_result",
          "data": {
            "text/plain": [
              "(True, 0)"
            ]
          },
          "metadata": {},
          "execution_count": 40
        }
      ],
      "source": [
        "checkodesol(de, Y)"
      ]
    },
    {
      "cell_type": "markdown",
      "metadata": {
        "id": "vth-rl-LYpY4"
      },
      "source": [
        "# Exercise 3.2.11\n",
        "\n",
        "$\n",
        "\\left\\{\n",
        "\\begin{array}{l}\n",
        "y'\\sqrt{1-x^2} = x \\\\[1ex]\n",
        "y(1) = 0\n",
        "\\end{array}\n",
        "\\right.\n",
        "$\n"
      ]
    },
    {
      "cell_type": "code",
      "execution_count": 41,
      "metadata": {
        "colab": {
          "base_uri": "https://localhost:8080/",
          "height": 59
        },
        "id": "PdbxK-VOYpY4",
        "outputId": "97646085-90d5-4242-af83-71120711c9a3"
      },
      "outputs": [
        {
          "output_type": "stream",
          "name": "stdout",
          "text": [
            "Eq(y(x), -sqrt(1 - x**2))\n"
          ]
        },
        {
          "output_type": "display_data",
          "data": {
            "text/plain": [
              "Eq(y(x), -sqrt(1 - x**2))"
            ],
            "text/latex": "$\\displaystyle y{\\left(x \\right)} = - \\sqrt{1 - x^{2}}$"
          },
          "metadata": {}
        }
      ],
      "source": [
        "x = symbols(\"x\", real=True)\n",
        "y = symbols(\"y\", cls=Function)\n",
        "de = Eq(y(x).diff(x) * sqrt(1 - x**2) , x)\n",
        "Y = dsolve(de, y(x) , ics={y(1): 0})\n",
        "print(Y)\n",
        "display(Y)"
      ]
    },
    {
      "cell_type": "code",
      "execution_count": 42,
      "metadata": {
        "colab": {
          "base_uri": "https://localhost:8080/"
        },
        "id": "oj8FsQBOYpY4",
        "outputId": "34b5223e-cc90-496f-95ac-32c32bef69c5"
      },
      "outputs": [
        {
          "output_type": "execute_result",
          "data": {
            "text/plain": [
              "(True, 0)"
            ]
          },
          "metadata": {},
          "execution_count": 42
        }
      ],
      "source": [
        "checkodesol(de, Y)"
      ]
    },
    {
      "cell_type": "markdown",
      "metadata": {
        "id": "m1FLvVGAYpY5"
      },
      "source": [
        "# Exercise 3.2.12\n",
        "\n",
        "$\n",
        "\\left\\{\n",
        "\\begin{array}{l}\n",
        "y' \\tan x = 1 + y \\\\[1ex]\n",
        "y(\\frac{\\pi}{6}) = -0.5\n",
        "\\end{array}\n",
        "\\right.\n",
        "$\n"
      ]
    },
    {
      "cell_type": "code",
      "execution_count": 43,
      "metadata": {
        "colab": {
          "base_uri": "https://localhost:8080/",
          "height": 56
        },
        "id": "rRLLDerLYpY5",
        "outputId": "10e0a490-4be9-42bb-ab3e-8374ab57b8f1"
      },
      "outputs": [
        {
          "output_type": "stream",
          "name": "stdout",
          "text": [
            "Eq(y(x), 3.0*sin(x) - 1)\n"
          ]
        },
        {
          "output_type": "display_data",
          "data": {
            "text/plain": [
              "Eq(y(x), 3.0*sin(x) - 1)"
            ],
            "text/latex": "$\\displaystyle y{\\left(x \\right)} = 3.0 \\sin{\\left(x \\right)} - 1$"
          },
          "metadata": {}
        }
      ],
      "source": [
        "x = symbols(\"x\", real=True)\n",
        "y = symbols(\"y\", cls=Function)\n",
        "de = Eq(y(x).diff(x) * tan(x) , 1 + y(x))\n",
        "Y = dsolve(de, y(x) , ics={y(pi/6): 1/2})\n",
        "print(Y)\n",
        "display(Y)"
      ]
    },
    {
      "cell_type": "code",
      "execution_count": 44,
      "metadata": {
        "colab": {
          "base_uri": "https://localhost:8080/"
        },
        "id": "647adgeWYpY5",
        "outputId": "c322e973-682e-429f-b46d-56cea68e3f0b"
      },
      "outputs": [
        {
          "output_type": "execute_result",
          "data": {
            "text/plain": [
              "(True, 0)"
            ]
          },
          "metadata": {},
          "execution_count": 44
        }
      ],
      "source": [
        "checkodesol(de, Y)"
      ]
    },
    {
      "cell_type": "markdown",
      "metadata": {
        "id": "Ur3aN4UhqKWS"
      },
      "source": [
        "# Exercise 3.3.1\n",
        "\n",
        "$y' = \\dfrac{2xy}{x^2+y^2}$\n",
        "\n",
        "[**Link to a step-by-step solution**](\n",
        "https://mathdf.com/dif/#expr=y'%3D(2xy)%2F(x%5E2%2By%5E2)&func=y&arg=x)"
      ]
    },
    {
      "cell_type": "code",
      "execution_count": 45,
      "metadata": {
        "colab": {
          "base_uri": "https://localhost:8080/",
          "height": 95
        },
        "outputId": "c5cef310-a5c3-43af-c37f-937a7ca7d246",
        "scrolled": true,
        "id": "D2CCA0IWqKWS"
      },
      "outputs": [
        {
          "output_type": "display_data",
          "data": {
            "text/plain": [
              "Eq(y(x), -sqrt(4*x**2 + exp(2*C1))/2 - exp(C1)/2)"
            ],
            "text/latex": "$\\displaystyle y{\\left(x \\right)} = - \\frac{\\sqrt{4 x^{2} + e^{2 C_{1}}}}{2} - \\frac{e^{C_{1}}}{2}$"
          },
          "metadata": {}
        },
        {
          "output_type": "display_data",
          "data": {
            "text/plain": [
              "Eq(y(x), sqrt(4*x**2 + exp(2*C1))/2 - exp(C1)/2)"
            ],
            "text/latex": "$\\displaystyle y{\\left(x \\right)} = \\frac{\\sqrt{4 x^{2} + e^{2 C_{1}}}}{2} - \\frac{e^{C_{1}}}{2}$"
          },
          "metadata": {}
        }
      ],
      "source": [
        "x = symbols(\"x\", real=True)\n",
        "y = symbols(\"y\", cls=Function)\n",
        "de = Eq(y(x).diff(x), 2*x*y(x) / (x**2 + y(x)**2))\n",
        "Y = dsolve(de, y(x))\n",
        "display(Y[0])\n",
        "display(Y[1])"
      ]
    },
    {
      "cell_type": "code",
      "execution_count": 46,
      "metadata": {
        "colab": {
          "base_uri": "https://localhost:8080/"
        },
        "outputId": "2ab654d1-7cff-4a43-eed5-f6c1028cfeb3",
        "id": "qCMXNw7aqKWS"
      },
      "outputs": [
        {
          "output_type": "execute_result",
          "data": {
            "text/plain": [
              "[(True, 0), (True, 0)]"
            ]
          },
          "metadata": {},
          "execution_count": 46
        }
      ],
      "source": [
        "checkodesol(de, Y)"
      ]
    },
    {
      "cell_type": "markdown",
      "metadata": {
        "id": "Y6Ygr3xUqKWS"
      },
      "source": [
        "* Sympy missed the trivial solution: $y=0$\n",
        "* The mathdf engine gave a more compact implicit solution:\n",
        "<br/>\n",
        "$\\dfrac{y}{x}-\\dfrac{x}{y}=\\dfrac{C}{x},\\;\\,y=0$"
      ]
    },
    {
      "cell_type": "markdown",
      "metadata": {
        "id": "FbtsQO25qKWS"
      },
      "source": [
        "# Exercise 3.3.2\n",
        "\n",
        "$xy' - y = x\\tan\\frac{y}{x}$\n",
        "\n",
        "[**Link to a step-by-step solution**](\n",
        "https://mathdf.com/dif/#expr=xy'-y%3Dxtan((y)%2F(x))&func=y&arg=x\n",
        ")"
      ]
    },
    {
      "cell_type": "code",
      "execution_count": 47,
      "metadata": {
        "colab": {
          "base_uri": "https://localhost:8080/",
          "height": 61
        },
        "outputId": "59b67b64-3a82-4d45-d156-9be42bf77256",
        "scrolled": true,
        "id": "wgk7fEMFqKWS"
      },
      "outputs": [
        {
          "output_type": "display_data",
          "data": {
            "text/plain": [
              "Eq(y(x), x*(pi - asin(C1*x)))"
            ],
            "text/latex": "$\\displaystyle y{\\left(x \\right)} = x \\left(\\pi - \\operatorname{asin}{\\left(C_{1} x \\right)}\\right)$"
          },
          "metadata": {}
        },
        {
          "output_type": "display_data",
          "data": {
            "text/plain": [
              "Eq(y(x), x*asin(C1*x))"
            ],
            "text/latex": "$\\displaystyle y{\\left(x \\right)} = x \\operatorname{asin}{\\left(C_{1} x \\right)}$"
          },
          "metadata": {}
        }
      ],
      "source": [
        "x = symbols(\"x\", real=True)\n",
        "y = symbols(\"y\", cls=Function)\n",
        "de = Eq(x * y(x).diff(x) - y(x) , x * tan(y(x)/x))\n",
        "Y = dsolve(de, y(x))\n",
        "display(Y[0])\n",
        "display(Y[1])"
      ]
    },
    {
      "cell_type": "code",
      "execution_count": 48,
      "metadata": {
        "colab": {
          "base_uri": "https://localhost:8080/"
        },
        "outputId": "a6c799bf-4a92-4152-a277-ab4283b11178",
        "scrolled": true,
        "id": "ZQI-5lgHqKWS"
      },
      "outputs": [
        {
          "output_type": "execute_result",
          "data": {
            "text/plain": [
              "[(True, 0), (True, 0)]"
            ]
          },
          "metadata": {},
          "execution_count": 48
        }
      ],
      "source": [
        "checkodesol(de, Y)"
      ]
    },
    {
      "cell_type": "markdown",
      "metadata": {
        "id": "seZbGscoqKWT"
      },
      "source": [
        "# Exercise 3.3.3\n",
        "\n",
        "$xy' - y = (x+y)\\ln\\frac{x+y}{x}$\n",
        "\n",
        "[**Link to a step-by-step solution**](\n",
        "https://mathdf.com/dif/#expr=xy'-y%3D(x%2By)ln((x%2By)%2F(x))&func=y&arg=x\n",
        ")"
      ]
    },
    {
      "cell_type": "code",
      "execution_count": 49,
      "metadata": {
        "colab": {
          "base_uri": "https://localhost:8080/",
          "height": 39
        },
        "outputId": "1e164431-d5a0-464c-cf0e-049723cd4e4f",
        "scrolled": true,
        "id": "I-UWS08eqKWT"
      },
      "outputs": [
        {
          "output_type": "display_data",
          "data": {
            "text/plain": [
              "Eq(y(x), x*(exp(C1*x) - 1))"
            ],
            "text/latex": "$\\displaystyle y{\\left(x \\right)} = x \\left(e^{C_{1} x} - 1\\right)$"
          },
          "metadata": {}
        }
      ],
      "source": [
        "x = symbols(\"x\", real=True)\n",
        "y = symbols(\"y\", cls=Function)\n",
        "de = Eq(x * y(x).diff(x) - y(x) , (x + y(x)) * log((x+y(x)) / x))\n",
        "Y = dsolve(de, y(x))\n",
        "display(Y)"
      ]
    },
    {
      "cell_type": "code",
      "execution_count": 50,
      "metadata": {
        "colab": {
          "base_uri": "https://localhost:8080/"
        },
        "outputId": "0a167635-c87e-480a-a273-05f3f5bcf4ba",
        "id": "eIpRbVFAqKWT"
      },
      "outputs": [
        {
          "output_type": "execute_result",
          "data": {
            "text/plain": [
              "(True, 0)"
            ]
          },
          "metadata": {},
          "execution_count": 50
        }
      ],
      "source": [
        "checkodesol(de, Y)"
      ]
    },
    {
      "cell_type": "markdown",
      "metadata": {
        "id": "LECnxh2WqKWT"
      },
      "source": [
        "# Exercise 3.3.4\n",
        "\n",
        "$\\left(x-y\\cos\\frac{y}{x}\\right)dx + x\\cos\\frac{y}{x}\\,dy = 0$\n"
      ]
    },
    {
      "cell_type": "code",
      "execution_count": 51,
      "metadata": {
        "colab": {
          "base_uri": "https://localhost:8080/",
          "height": 61
        },
        "outputId": "8ab6f5e8-34f6-4795-ac37-b91fd2263ea8",
        "scrolled": true,
        "id": "AYzToS2eqKWT"
      },
      "outputs": [
        {
          "output_type": "display_data",
          "data": {
            "text/plain": [
              "Eq(y(x), x*(pi - asin(C1 - log(x))))"
            ],
            "text/latex": "$\\displaystyle y{\\left(x \\right)} = x \\left(\\pi - \\operatorname{asin}{\\left(C_{1} - \\log{\\left(x \\right)} \\right)}\\right)$"
          },
          "metadata": {}
        },
        {
          "output_type": "display_data",
          "data": {
            "text/plain": [
              "Eq(y(x), x*asin(C1 - log(x)))"
            ],
            "text/latex": "$\\displaystyle y{\\left(x \\right)} = x \\operatorname{asin}{\\left(C_{1} - \\log{\\left(x \\right)} \\right)}$"
          },
          "metadata": {}
        }
      ],
      "source": [
        "x = symbols(\"x\", real=True)\n",
        "y = symbols(\"y\", cls=Function)\n",
        "de = Eq(x - y(x)*cos(y(x)/x) + x * cos(y(x)/x) * y(x).diff(x) , 0)\n",
        "Y = dsolve(de, y(x))\n",
        "display(Y[0])\n",
        "display(Y[1])"
      ]
    },
    {
      "cell_type": "code",
      "execution_count": 52,
      "metadata": {
        "colab": {
          "base_uri": "https://localhost:8080/"
        },
        "outputId": "5d1629a1-e889-4f5f-ff8c-6f99499943b4",
        "id": "AUoXu-kDqKWT"
      },
      "outputs": [
        {
          "output_type": "execute_result",
          "data": {
            "text/plain": [
              "[(True, 0), (True, 0)]"
            ]
          },
          "metadata": {},
          "execution_count": 52
        }
      ],
      "source": [
        "checkodesol(de, Y)"
      ]
    },
    {
      "cell_type": "markdown",
      "metadata": {
        "id": "1wKOErbhqKWU"
      },
      "source": [
        "# **TO BE CONTINUED ...**\n",
        "Any student with a basic Python programming skill is welcome\n",
        "to continue and solve more exercises from the\n",
        "<a href=\"https://samyzaf.com/technion/ode/ode.pdf\">\n",
        "Ordinal Differential Equations book\n",
        "</a>.\n",
        "\n",
        "They will be checked and added to this notebook.\n",
        "\n",
        "Send you notebook to sz@samyzaf.com. Thanks!"
      ]
    },
    {
      "cell_type": "code",
      "execution_count": 52,
      "metadata": {
        "id": "krHOmz7RYpY5"
      },
      "outputs": [],
      "source": []
    }
  ],
  "metadata": {
    "colab": {
      "provenance": [],
      "include_colab_link": true
    },
    "kernelspec": {
      "display_name": "Python 3 (ipykernel)",
      "language": "python",
      "name": "python3"
    },
    "language_info": {
      "codemirror_mode": {
        "name": "ipython",
        "version": 3
      },
      "file_extension": ".py",
      "mimetype": "text/x-python",
      "name": "python",
      "nbconvert_exporter": "python",
      "pygments_lexer": "ipython3",
      "version": "3.7.11"
    }
  },
  "nbformat": 4,
  "nbformat_minor": 0
}