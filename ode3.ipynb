{
  "cells": [
    {
      "cell_type": "markdown",
      "metadata": {
        "id": "view-in-github",
        "colab_type": "text"
      },
      "source": [
        "<a href=\"https://colab.research.google.com/github/samyzaf/notebooks/blob/main/ode3.ipynb\" target=\"_parent\"><img src=\"https://colab.research.google.com/assets/colab-badge.svg\" alt=\"Open In Colab\"/></a>"
      ]
    },
    {
      "cell_type": "markdown",
      "metadata": {
        "id": "zo0mZHrOCICt"
      },
      "source": [
        "# Ordinary Differential Equations\n",
        "# Chapter 3: Solutions to exercises\n",
        "\n",
        "<a href=\"https://samyzaf.com/technion/ode/ode.pdf\">\n",
        "<img src=\"https://samyzaf.com/technion/ode/ode2.jpg\" alt=\"ode book cover\"/>\n",
        "</a>\n",
        "\n",
        "* We used Python **Sympy** package for obtaining the final\n",
        "  result for most of the exercises.\n",
        "* This package is still under development, and is not yet\n",
        "  ready to cope with all ode's.\n",
        "* The new site https://mathdf.com seems to be a great source\n",
        "  for obtaining full step-by-step solutions.\n",
        "* This notebook can be edited and executed by clicking\n",
        "  the **open in colab** button.\n",
        "* These are only a small number of solutions.\n",
        "  Hopefully this will encourage students to try to solve more\n",
        "  exercises with similar methods. We will be glad to accept notebooks\n",
        "  with solutions to other exercises in this book.\n",
        "  Please send them to sz@samyzaf.com."
      ]
    },
    {
      "cell_type": "code",
      "source": [
        "%pip install --upgrade sympy"
      ],
      "metadata": {
        "colab": {
          "base_uri": "https://localhost:8080/"
        },
        "id": "M6sQe4JlsK7u",
        "outputId": "349c3937-02ed-44dc-83a3-9c490cf73ba3"
      },
      "execution_count": 1,
      "outputs": [
        {
          "output_type": "stream",
          "name": "stdout",
          "text": [
            "Looking in indexes: https://pypi.org/simple, https://us-python.pkg.dev/colab-wheels/public/simple/\n",
            "Requirement already satisfied: sympy in /usr/local/lib/python3.8/dist-packages (1.7.1)\n",
            "Collecting sympy\n",
            "  Downloading sympy-1.11.1-py3-none-any.whl (6.5 MB)\n",
            "\u001b[K     |████████████████████████████████| 6.5 MB 1.1 MB/s \n",
            "\u001b[?25hRequirement already satisfied: mpmath>=0.19 in /usr/local/lib/python3.8/dist-packages (from sympy) (1.2.1)\n",
            "Installing collected packages: sympy\n",
            "  Attempting uninstall: sympy\n",
            "    Found existing installation: sympy 1.7.1\n",
            "    Uninstalling sympy-1.7.1:\n",
            "      Successfully uninstalled sympy-1.7.1\n",
            "Successfully installed sympy-1.11.1\n"
          ]
        }
      ]
    },
    {
      "cell_type": "code",
      "execution_count": 2,
      "metadata": {
        "id": "QO4VgM1r1vEy"
      },
      "outputs": [],
      "source": [
        "from sympy import *\n",
        "from sympy.solvers.ode import checkodesol"
      ]
    },
    {
      "cell_type": "markdown",
      "metadata": {
        "id": "YoIKr1sI4NRE"
      },
      "source": [
        "# Exercise 3.1.1\n",
        "\n",
        "$xy' - y = y^3$"
      ]
    },
    {
      "cell_type": "code",
      "execution_count": 3,
      "metadata": {
        "colab": {
          "base_uri": "https://localhost:8080/",
          "height": 100
        },
        "id": "NZnh7uRSHpf3",
        "outputId": "3f2dd556-d811-4a80-b890-6a2f1c8d578e"
      },
      "outputs": [
        {
          "output_type": "display_data",
          "data": {
            "text/plain": [
              "Eq(y(x), -x*sqrt(-C1/(C1*x**2 - 1)))"
            ],
            "text/latex": "$\\displaystyle y{\\left(x \\right)} = - x \\sqrt{- \\frac{C_{1}}{C_{1} x^{2} - 1}}$"
          },
          "metadata": {}
        },
        {
          "output_type": "display_data",
          "data": {
            "text/plain": [
              "Eq(y(x), x*sqrt(-C1/(C1*x**2 - 1)))"
            ],
            "text/latex": "$\\displaystyle y{\\left(x \\right)} = x \\sqrt{- \\frac{C_{1}}{C_{1} x^{2} - 1}}$"
          },
          "metadata": {}
        }
      ],
      "source": [
        "x = symbols(\"x\", real=True)\n",
        "y = symbols(\"y\", cls=Function)\n",
        "de = Eq(x * y(x).diff(x) - y(x) , y(x) ** 3)\n",
        "Y = dsolve(de, y(x))\n",
        "display(Y[0])\n",
        "display(Y[1])"
      ]
    },
    {
      "cell_type": "code",
      "execution_count": 4,
      "metadata": {
        "colab": {
          "base_uri": "https://localhost:8080/"
        },
        "id": "-xQCw9LYZkNX",
        "outputId": "4c021e12-afd5-4692-f1a8-7116a1cc7122"
      },
      "outputs": [
        {
          "output_type": "execute_result",
          "data": {
            "text/plain": [
              "[(True, 0), (True, 0)]"
            ]
          },
          "metadata": {},
          "execution_count": 4
        }
      ],
      "source": [
        "checkodesol(de, Y)"
      ]
    },
    {
      "cell_type": "markdown",
      "metadata": {
        "id": "ZyFYRsm34NRO"
      },
      "source": [
        "# Exercise 3.1.2\n",
        "\n",
        "$xyy' = 1 - x^2$"
      ]
    },
    {
      "cell_type": "code",
      "execution_count": 5,
      "metadata": {
        "colab": {
          "base_uri": "https://localhost:8080/",
          "height": 63
        },
        "id": "pta_vjpo4NRQ",
        "outputId": "be37ae2c-49a8-43ed-f2e5-4b1add4d54cc"
      },
      "outputs": [
        {
          "output_type": "display_data",
          "data": {
            "text/plain": [
              "Eq(y(x), -sqrt(C1 - x**2 + 2*log(x)))"
            ],
            "text/latex": "$\\displaystyle y{\\left(x \\right)} = - \\sqrt{C_{1} - x^{2} + 2 \\log{\\left(x \\right)}}$"
          },
          "metadata": {}
        },
        {
          "output_type": "display_data",
          "data": {
            "text/plain": [
              "Eq(y(x), sqrt(C1 - x**2 + 2*log(x)))"
            ],
            "text/latex": "$\\displaystyle y{\\left(x \\right)} = \\sqrt{C_{1} - x^{2} + 2 \\log{\\left(x \\right)}}$"
          },
          "metadata": {}
        }
      ],
      "source": [
        "x = symbols(\"x\", real=True)\n",
        "y = symbols(\"y\", cls=Function)\n",
        "de = Eq(x* y(x) * y(x).diff(x) , 1 - x ** 2)\n",
        "Y = dsolve(de, y(x))\n",
        "display(Y[0])\n",
        "display(Y[1])"
      ]
    },
    {
      "cell_type": "code",
      "execution_count": 6,
      "metadata": {
        "colab": {
          "base_uri": "https://localhost:8080/"
        },
        "id": "Jt1h8PWLZ05u",
        "outputId": "8ddc54f4-6c10-47d3-aaf1-02f28752c5ec"
      },
      "outputs": [
        {
          "output_type": "execute_result",
          "data": {
            "text/plain": [
              "[(True, 0), (True, 0)]"
            ]
          },
          "metadata": {},
          "execution_count": 6
        }
      ],
      "source": [
        "checkodesol(de, Y)"
      ]
    },
    {
      "cell_type": "markdown",
      "metadata": {
        "id": "poUTpkjx4NRR"
      },
      "source": [
        "# Exercise 3.1.3\n",
        "\n",
        "$y' \\tan x = y$"
      ]
    },
    {
      "cell_type": "code",
      "execution_count": 7,
      "metadata": {
        "colab": {
          "base_uri": "https://localhost:8080/",
          "height": 39
        },
        "id": "lVU3PItM4NRT",
        "outputId": "866e6ac9-33d4-4505-9243-65e37c06c172"
      },
      "outputs": [
        {
          "output_type": "execute_result",
          "data": {
            "text/plain": [
              "Eq(y(x), C1*sin(x))"
            ],
            "text/latex": "$\\displaystyle y{\\left(x \\right)} = C_{1} \\sin{\\left(x \\right)}$"
          },
          "metadata": {},
          "execution_count": 7
        }
      ],
      "source": [
        "x = symbols(\"x\", real=True)\n",
        "y = symbols(\"y\", cls=Function)\n",
        "de = Eq(y(x).diff(x) * tan(x) , y(x))\n",
        "dsolve(de, y(x))"
      ]
    },
    {
      "cell_type": "markdown",
      "metadata": {
        "id": "nESqAJ_O4NRU"
      },
      "source": [
        "# Exercise 3.1.4\n",
        "\n",
        "$y' - xy^2 = 2xy$"
      ]
    },
    {
      "cell_type": "code",
      "execution_count": 8,
      "metadata": {
        "colab": {
          "base_uri": "https://localhost:8080/",
          "height": 58
        },
        "id": "q0_RWXtb4NRV",
        "outputId": "7d390580-97b5-488e-ac19-5d0995c23873"
      },
      "outputs": [
        {
          "output_type": "execute_result",
          "data": {
            "text/plain": [
              "Eq(y(x), 2*exp(2*C1 + x**2)/(1 - exp(2*C1 + x**2)))"
            ],
            "text/latex": "$\\displaystyle y{\\left(x \\right)} = \\frac{2 e^{2 C_{1} + x^{2}}}{1 - e^{2 C_{1} + x^{2}}}$"
          },
          "metadata": {},
          "execution_count": 8
        }
      ],
      "source": [
        "x = symbols(\"x\", real=True)\n",
        "y = symbols(\"y\", cls=Function)\n",
        "de = Eq(y(x).diff(x) - x * y(x)**2 , 2*x*y(x))\n",
        "dsolve(de, y(x))"
      ]
    },
    {
      "cell_type": "markdown",
      "metadata": {
        "id": "XsmZ4uTU4NRW"
      },
      "source": [
        "# Exercise 3.1.5\n",
        "\n",
        "$e^{-s} \\left(1+\\frac{ds}{dt}\\right) = 1$"
      ]
    },
    {
      "cell_type": "code",
      "execution_count": 9,
      "metadata": {
        "colab": {
          "base_uri": "https://localhost:8080/",
          "height": 47
        },
        "id": "aAmznmFK4NRX",
        "outputId": "4eab5a80-1097-49e0-f538-2513ac12a73e"
      },
      "outputs": [
        {
          "output_type": "execute_result",
          "data": {
            "text/plain": [
              "Eq(t + s(t) - log(exp(s(t)) - 1), C1)"
            ],
            "text/latex": "$\\displaystyle t + s{\\left(t \\right)} - \\log{\\left(e^{s{\\left(t \\right)}} - 1 \\right)} = C_{1}$"
          },
          "metadata": {},
          "execution_count": 9
        }
      ],
      "source": [
        "t = symbols(\"t\", real=True)\n",
        "s = symbols(\"s\", cls=Function)\n",
        "de = Eq(exp(-s(t)) * (1 + s(t).diff(t)) , 1)\n",
        "dsolve(de, s(t))"
      ]
    },
    {
      "cell_type": "markdown",
      "metadata": {
        "id": "hjueVl8n4NRZ"
      },
      "source": [
        "# Exercise 3.1.6\n",
        "\n",
        "$y' = 10^{x+y}$"
      ]
    },
    {
      "cell_type": "code",
      "execution_count": 10,
      "metadata": {
        "id": "ToRZvmw84NRZ",
        "outputId": "a43b8e5b-1b5e-4341-c3a2-d8b6b2ff7c4a",
        "colab": {
          "base_uri": "https://localhost:8080/",
          "height": 70
        }
      },
      "outputs": [
        {
          "output_type": "execute_result",
          "data": {
            "text/plain": [
              "Eq(y(x), log(-1/(10**x + C1))/log(10))"
            ],
            "text/latex": "$\\displaystyle y{\\left(x \\right)} = \\frac{\\log{\\left(- \\frac{1}{10^{x} + C_{1}} \\right)}}{\\log{\\left(10 \\right)}}$"
          },
          "metadata": {},
          "execution_count": 10
        }
      ],
      "source": [
        "x = Symbol(\"x\", real=True, positive=True)\n",
        "y = symbols(\"y\", cls=Function)\n",
        "de = Eq(y(x).diff(x) , 10 ** (x + y(x)))\n",
        "dsolve(de, y(x))"
      ]
    },
    {
      "cell_type": "markdown",
      "metadata": {
        "id": "ZCi3ZoFI4NRa"
      },
      "source": [
        "# Exercise 3.1.7\n",
        "\n",
        "$(x+1)dx + (y-1)dy = 0$\n",
        "\n",
        "**Link to a step-by-step solution:**\n",
        "<br/>\n",
        "https://mathdf.com/dif/#expr=y'%2B2xy%3D2x%5E3&func=y&arg=x"
      ]
    },
    {
      "cell_type": "code",
      "execution_count": 11,
      "metadata": {
        "colab": {
          "base_uri": "https://localhost:8080/",
          "height": 65
        },
        "id": "LZ9Zy66h4NRb",
        "outputId": "f54fe920-4d7f-4e3c-aac4-41c95ce9c6e8"
      },
      "outputs": [
        {
          "output_type": "display_data",
          "data": {
            "text/plain": [
              "Eq(y(x), 1 - sqrt(C1 - x**2 - 2*x))"
            ],
            "text/latex": "$\\displaystyle y{\\left(x \\right)} = 1 - \\sqrt{C_{1} - x^{2} - 2 x}$"
          },
          "metadata": {}
        },
        {
          "output_type": "display_data",
          "data": {
            "text/plain": [
              "Eq(y(x), sqrt(C1 - x**2 - 2*x) + 1)"
            ],
            "text/latex": "$\\displaystyle y{\\left(x \\right)} = \\sqrt{C_{1} - x^{2} - 2 x} + 1$"
          },
          "metadata": {}
        }
      ],
      "source": [
        "x = symbols(\"x\", real=True)\n",
        "y = symbols(\"y\", cls=Function)\n",
        "de = Eq(x + 1 + (y(x) -1) * y(x).diff(x), 0)\n",
        "Y = dsolve(de, y(x))\n",
        "display(Y[0])\n",
        "display(Y[1])"
      ]
    },
    {
      "cell_type": "markdown",
      "metadata": {
        "id": "dF2BHElW4NRc"
      },
      "source": [
        "## Verification"
      ]
    },
    {
      "cell_type": "code",
      "execution_count": 12,
      "metadata": {
        "colab": {
          "base_uri": "https://localhost:8080/"
        },
        "id": "NYbUZmvr4NRc",
        "outputId": "2de008f1-0d63-4209-8cd9-ca7fc5740c20"
      },
      "outputs": [
        {
          "output_type": "stream",
          "name": "stdout",
          "text": [
            "[Eq(y(x), 1 - sqrt(C1 - x**2 - 2*x)), Eq(y(x), sqrt(C1 - x**2 - 2*x) + 1)]\n"
          ]
        },
        {
          "output_type": "execute_result",
          "data": {
            "text/plain": [
              "[(True, 0), (True, 0)]"
            ]
          },
          "metadata": {},
          "execution_count": 12
        }
      ],
      "source": [
        "print(Y)\n",
        "checkodesol(de, Y)"
      ]
    },
    {
      "cell_type": "markdown",
      "metadata": {
        "id": "9PGQ_yxX4NRd"
      },
      "source": [
        "# Exercise 3.1.8\n",
        "\n",
        "$\\cos\\sqrt{x}\\, dx - \\sqrt{x}\\,dy = 0$\n",
        "\n",
        "[**Link to a step-by-step solution**](\n",
        "https://mathdf.com/dif/#expr=cos(sqrt(x))d(x)-sqrt(x)d(y)%3D0&func=y&arg=x\n",
        ")"
      ]
    },
    {
      "cell_type": "code",
      "execution_count": 13,
      "metadata": {
        "colab": {
          "base_uri": "https://localhost:8080/",
          "height": 39
        },
        "id": "jEJmLcwk4NRd",
        "outputId": "4b5df7a7-1fcc-4584-fb47-3ef19a33e6d8"
      },
      "outputs": [
        {
          "output_type": "display_data",
          "data": {
            "text/plain": [
              "Eq(y(x), C1 + 2*sin(sqrt(x)))"
            ],
            "text/latex": "$\\displaystyle y{\\left(x \\right)} = C_{1} + 2 \\sin{\\left(\\sqrt{x} \\right)}$"
          },
          "metadata": {}
        }
      ],
      "source": [
        "x = symbols(\"x\", real=True)\n",
        "y = symbols(\"y\", cls=Function)\n",
        "de = Eq(cos(sqrt(x)) - sqrt(x) * y(x).diff(x) , 0)\n",
        "Y = dsolve(de, y(x))\n",
        "display(Y)"
      ]
    },
    {
      "cell_type": "code",
      "execution_count": null,
      "metadata": {
        "colab": {
          "base_uri": "https://localhost:8080/"
        },
        "outputId": "ba94ccaf-c07e-4d2c-9056-c86fb96cbf39",
        "id": "iFxEPUI3fwgn"
      },
      "outputs": [
        {
          "output_type": "execute_result",
          "data": {
            "text/plain": [
              "(True, 0)"
            ]
          },
          "metadata": {},
          "execution_count": 18
        }
      ],
      "source": [
        "checkodesol(de, Y)"
      ]
    },
    {
      "cell_type": "markdown",
      "metadata": {
        "id": "xdFm4Isz4NRe"
      },
      "source": [
        "# Exercise 3.1.9\n",
        "\n",
        "$\\sqrt{1-x^2} dy - \\sqrt{1-y^2} dx = 0$\n",
        "\n",
        "Solution:\n",
        "\n",
        "$y=\\sin\\left(\\arcsin\\left(x\\right)+C\\right),\\;\\,x=1,\\;\\,x=-1,\\;\\,y=1,\\;\\,y=-1$\n",
        "\n",
        "[**Link to a step-by-step solution:**](\n",
        "https://mathdf.com/dif/#expr=sqrt(1-x%5E2)d(y)-sqrt(1-y%5E2)d(x)%3D0&func=y&arg=x\n",
        ")"
      ]
    },
    {
      "cell_type": "code",
      "execution_count": 14,
      "metadata": {
        "colab": {
          "base_uri": "https://localhost:8080/",
          "height": 39
        },
        "id": "RdIBmV9V4NRe",
        "outputId": "bb46204d-e579-4848-9bfd-9558ee4ff21c"
      },
      "outputs": [
        {
          "output_type": "display_data",
          "data": {
            "text/plain": [
              "Eq(y(x), sin(C1 + asin(x)))"
            ],
            "text/latex": "$\\displaystyle y{\\left(x \\right)} = \\sin{\\left(C_{1} + \\operatorname{asin}{\\left(x \\right)} \\right)}$"
          },
          "metadata": {}
        }
      ],
      "source": [
        "x = symbols(\"x\", real=True)\n",
        "y = symbols(\"y\", cls=Function)\n",
        "de = Eq(sqrt(1-x**2) * y(x).diff(x) - sqrt(1 - y(x)**2) , 0)\n",
        "Y = dsolve(de, y(x))\n",
        "display(Y)"
      ]
    },
    {
      "cell_type": "markdown",
      "metadata": {
        "id": "CyeB_rpGYpYu"
      },
      "source": [
        "* Sympy missed the special solutions $x=1,\\;\\,x=-1,\\;\\,y=1,\\;\\,y=-1$ which mathdf engine found."
      ]
    },
    {
      "cell_type": "markdown",
      "metadata": {
        "id": "D8DmLbXv4NRf"
      },
      "source": [
        "# Exercise 3.1.10\n",
        "\n",
        "$e^x(1+e^y)dx + e^y(1+e^x)dy = 0$\n",
        "\n",
        "[**Link to a step-by-step solution**](\n",
        "https://mathdf.com/dif/#expr=(2x%2B1)y'%3D4x%2B2y&func=y&arg=x\n",
        ")"
      ]
    },
    {
      "cell_type": "code",
      "execution_count": 15,
      "metadata": {
        "colab": {
          "base_uri": "https://localhost:8080/",
          "height": 47
        },
        "id": "y9yiADDo4NRg",
        "outputId": "152d8ce6-4d5b-4bf2-bf8e-5bb4d846df76"
      },
      "outputs": [
        {
          "output_type": "display_data",
          "data": {
            "text/plain": [
              "Eq(y(x) + log(exp(x) + 1) - log(exp(y(x)) + 1), C1)"
            ],
            "text/latex": "$\\displaystyle y{\\left(x \\right)} + \\log{\\left(e^{x} + 1 \\right)} - \\log{\\left(e^{y{\\left(x \\right)}} + 1 \\right)} = C_{1}$"
          },
          "metadata": {}
        }
      ],
      "source": [
        "x = symbols(\"x\", real=True)\n",
        "y = symbols(\"y\", cls=Function)\n",
        "de = Eq(exp(x) * (1 + exp(y(x))) + (1 + exp(x)) * y(x).diff(x) , 0)\n",
        "Y = dsolve(de, y(x))\n",
        "display(Y)"
      ]
    },
    {
      "cell_type": "markdown",
      "metadata": {
        "id": "qvZ_rgOD4NRh"
      },
      "source": [
        "# Exercise 3.1.11\n",
        "\n",
        "$xy^3y' = x^4+y^4$\n",
        "\n",
        "Solution:\n",
        "\n",
        "${y}^{4}=4\\,{x}^{4}\\,\\left(\\ln\\left(x\\right)+C\\right)$\n",
        "\n",
        "[**Link to a step-by-step solution:**](\n",
        "https://mathdf.com/dif/#expr=(2x%2B1)y'%3D4x%2B2y&func=y&arg=x\n",
        ")"
      ]
    },
    {
      "cell_type": "code",
      "execution_count": 16,
      "metadata": {
        "colab": {
          "base_uri": "https://localhost:8080/",
          "height": 86
        },
        "id": "S6r9SRWr4NRh",
        "outputId": "07523e12-d5b3-4359-9abf-1b4e42c0b69e"
      },
      "outputs": [
        {
          "output_type": "display_data",
          "data": {
            "text/plain": [
              "[Eq(y(x), -I*(C1 + 4*log(x))**(1/4)*Abs(x)),\n",
              " Eq(y(x), I*(C1 + 4*log(x))**(1/4)*Abs(x)),\n",
              " Eq(y(x), -(C1 + 4*log(x))**(1/4)*Abs(x)),\n",
              " Eq(y(x), (C1 + 4*log(x))**(1/4)*Abs(x))]"
            ]
          },
          "metadata": {}
        }
      ],
      "source": [
        "x = symbols(\"x\", real=True)\n",
        "y = symbols(\"y\", cls=Function)\n",
        "de = Eq(x * y(x) ** 3 * y(x).diff(x) , x**4 + y(x) ** 4)\n",
        "Y = dsolve(de, y(x))\n",
        "display(Y)"
      ]
    },
    {
      "cell_type": "code",
      "execution_count": 17,
      "metadata": {
        "id": "pcn_oap6YpYv",
        "outputId": "411cf123-7253-47d4-e756-60287908213b",
        "colab": {
          "base_uri": "https://localhost:8080/",
          "height": 110
        }
      },
      "outputs": [
        {
          "output_type": "display_data",
          "data": {
            "text/plain": [
              "Eq(y(x), -I*(C1 + 4*log(x))**(1/4)*Abs(x))"
            ],
            "text/latex": "$\\displaystyle y{\\left(x \\right)} = - i \\sqrt[4]{C_{1} + 4 \\log{\\left(x \\right)}} \\left|{x}\\right|$"
          },
          "metadata": {}
        },
        {
          "output_type": "display_data",
          "data": {
            "text/plain": [
              "Eq(y(x), I*(C1 + 4*log(x))**(1/4)*Abs(x))"
            ],
            "text/latex": "$\\displaystyle y{\\left(x \\right)} = i \\sqrt[4]{C_{1} + 4 \\log{\\left(x \\right)}} \\left|{x}\\right|$"
          },
          "metadata": {}
        },
        {
          "output_type": "display_data",
          "data": {
            "text/plain": [
              "Eq(y(x), -(C1 + 4*log(x))**(1/4)*Abs(x))"
            ],
            "text/latex": "$\\displaystyle y{\\left(x \\right)} = - \\sqrt[4]{C_{1} + 4 \\log{\\left(x \\right)}} \\left|{x}\\right|$"
          },
          "metadata": {}
        },
        {
          "output_type": "display_data",
          "data": {
            "text/plain": [
              "Eq(y(x), (C1 + 4*log(x))**(1/4)*Abs(x))"
            ],
            "text/latex": "$\\displaystyle y{\\left(x \\right)} = \\sqrt[4]{C_{1} + 4 \\log{\\left(x \\right)}} \\left|{x}\\right|$"
          },
          "metadata": {}
        }
      ],
      "source": [
        "display(Y[0])\n",
        "display(Y[1])\n",
        "display(Y[2])\n",
        "display(Y[3])"
      ]
    },
    {
      "cell_type": "code",
      "execution_count": 18,
      "metadata": {
        "colab": {
          "base_uri": "https://localhost:8080/"
        },
        "id": "JameTwZy4NRi",
        "outputId": "80521c12-ef0d-427e-aaaa-d1bce5bf7691"
      },
      "outputs": [
        {
          "output_type": "execute_result",
          "data": {
            "text/plain": [
              "[(True, 0), (True, 0), (True, 0), (True, 0)]"
            ]
          },
          "metadata": {},
          "execution_count": 18
        }
      ],
      "source": [
        "checkodesol(de, Y)"
      ]
    },
    {
      "cell_type": "markdown",
      "metadata": {
        "id": "UXV85sGG4NRi"
      },
      "source": [
        "# Exercise 3.2.1\n",
        "\n",
        "$\n",
        "\\left\\{\n",
        "\\begin{array}{l}\n",
        "(x^2-1)y' +2xy^2 = 0 \\\\\n",
        "y(2) = 1\n",
        "\\end{array}\n",
        "\\right.\n",
        "$\n",
        "\n",
        "[**Link to a step-by-step solution**](\n",
        "https://mathdf.com/dif/#expr=(x%5E2-1)y'%2B2xy%5E2%3D0&func=y&arg=x&vals=2%3B1\n",
        ")"
      ]
    },
    {
      "cell_type": "code",
      "execution_count": 19,
      "metadata": {
        "colab": {
          "base_uri": "https://localhost:8080/",
          "height": 55
        },
        "id": "c2UUcyrY4NRj",
        "outputId": "ba2b9cef-d196-422f-a433-404af603edfe"
      },
      "outputs": [
        {
          "output_type": "display_data",
          "data": {
            "text/plain": [
              "Eq(y(x), -1/(-log(x**2 - 1) - 1 + log(3)))"
            ],
            "text/latex": "$\\displaystyle y{\\left(x \\right)} = - \\frac{1}{- \\log{\\left(x^{2} - 1 \\right)} - 1 + \\log{\\left(3 \\right)}}$"
          },
          "metadata": {}
        }
      ],
      "source": [
        "x = symbols(\"x\", real=True)\n",
        "y = symbols(\"y\", cls=Function)\n",
        "de = Eq((x**2 - 1) * y(x).diff(x) + 2*x*y(x)**2, 0)\n",
        "Y = dsolve(de, y(x), ics={y(2):1})\n",
        "display(Y)"
      ]
    },
    {
      "cell_type": "code",
      "execution_count": 20,
      "metadata": {
        "id": "_-P2ic644NRk",
        "outputId": "20ed02ba-e6a5-4a67-d933-f1554a301e5a",
        "colab": {
          "base_uri": "https://localhost:8080/"
        }
      },
      "outputs": [
        {
          "output_type": "execute_result",
          "data": {
            "text/plain": [
              "(True, 0)"
            ]
          },
          "metadata": {},
          "execution_count": 20
        }
      ],
      "source": [
        "checkodesol(de, Y)"
      ]
    },
    {
      "cell_type": "markdown",
      "metadata": {
        "id": "Eo9qMHAq4NRk"
      },
      "source": [
        "# Exercise 3.2.2\n",
        "\n",
        "$\n",
        "\\left\\{\n",
        "\\begin{array}{l}\n",
        "y' = 3 \\sqrt[3]{y^2} \\\\\n",
        "y(2) = 0\n",
        "\\end{array}\n",
        "\\right.\n",
        "$\n",
        "\n",
        "[**Link to a step-by-step solution**](\n",
        "https://mathdf.com/dif/#expr=y'%3D3*y%5E(2%2F3)&func=y&arg=x&vals=2%3B0\n",
        ")"
      ]
    },
    {
      "cell_type": "code",
      "execution_count": 21,
      "metadata": {
        "colab": {
          "base_uri": "https://localhost:8080/",
          "height": 56
        },
        "id": "EgAkgU7d4NRl",
        "outputId": "05beb10a-d6b3-48e3-827c-a8d3ff543d5f"
      },
      "outputs": [
        {
          "output_type": "stream",
          "name": "stdout",
          "text": [
            "Eq(y(x), x**3 - 6*x**2 + 12*x - 8)\n"
          ]
        },
        {
          "output_type": "display_data",
          "data": {
            "text/plain": [
              "Eq(y(x), x**3 - 6*x**2 + 12*x - 8)"
            ],
            "text/latex": "$\\displaystyle y{\\left(x \\right)} = x^{3} - 6 x^{2} + 12 x - 8$"
          },
          "metadata": {}
        }
      ],
      "source": [
        "x = symbols(\"x\", real=True)\n",
        "y = symbols(\"y\", cls=Function)\n",
        "de = Eq(y(x).diff(x) , 3 * cbrt(y(x)**2))\n",
        "Y = dsolve(de, y(x), ics={y(2): 0})\n",
        "print(Y)\n",
        "display(Y)"
      ]
    },
    {
      "cell_type": "markdown",
      "metadata": {
        "id": "45eGoMSH4NRl",
        "outputId": "3f19381c-f173-4c85-f3e8-cd73762dfbc5"
      },
      "source": [
        "Private solution: $y = (x-2)^3$"
      ]
    },
    {
      "cell_type": "code",
      "execution_count": 22,
      "metadata": {
        "id": "I3LhZ6gIYpYy"
      },
      "outputs": [],
      "source": [
        "yp = Eq(y(x) , (x-2)**3)"
      ]
    },
    {
      "cell_type": "code",
      "execution_count": 23,
      "metadata": {
        "colab": {
          "base_uri": "https://localhost:8080/"
        },
        "id": "zEONyFsxYpYz",
        "outputId": "3196edbb-d813-497e-a951-b5f8b38b293b"
      },
      "outputs": [
        {
          "output_type": "execute_result",
          "data": {
            "text/plain": [
              "(True, 0)"
            ]
          },
          "metadata": {},
          "execution_count": 23
        }
      ],
      "source": [
        "checkodesol(de, yp)"
      ]
    },
    {
      "cell_type": "markdown",
      "metadata": {
        "id": "YXi-q8jgYpYz"
      },
      "source": [
        "# Exercise 3.2.3\n",
        "\n",
        "$\n",
        "\\left\\{\n",
        "\\begin{array}{l}\n",
        "(xy^2 + x)dx + (x^2y - y)dy = 0 \\\\[1ex]\n",
        "y(0) = 1\n",
        "\\end{array}\n",
        "\\right.\n",
        "$\n",
        "\n",
        "[**Link to a step-by-step solution:**](\n",
        "https://mathdf.com/dif/#expr=(xy%5E2%2Bx)d(x)%2B(x%5E2y-y)d(y)%3D0&func=y&arg=x&vals=0%3B1)"
      ]
    },
    {
      "cell_type": "code",
      "execution_count": 24,
      "metadata": {
        "colab": {
          "base_uri": "https://localhost:8080/",
          "height": 65
        },
        "id": "7ueMCJOXYpYz",
        "outputId": "60bf533c-6132-4038-95bb-d8cefe1ee32a"
      },
      "outputs": [
        {
          "output_type": "display_data",
          "data": {
            "text/plain": [
              "Eq(y(x), -sqrt(C1*x**2 - C1 - 1))"
            ],
            "text/latex": "$\\displaystyle y{\\left(x \\right)} = - \\sqrt{C_{1} x^{2} - C_{1} - 1}$"
          },
          "metadata": {}
        },
        {
          "output_type": "display_data",
          "data": {
            "text/plain": [
              "Eq(y(x), sqrt(C1*x**2 - C1 - 1))"
            ],
            "text/latex": "$\\displaystyle y{\\left(x \\right)} = \\sqrt{C_{1} x^{2} - C_{1} - 1}$"
          },
          "metadata": {}
        }
      ],
      "source": [
        "x = symbols(\"x\", real=True)\n",
        "y = symbols(\"y\", cls=Function)\n",
        "de = Eq(x * y(x)**2 +x, (x**2 * y(x) - y(x)) * y(x).diff(x) , cis={y(0): 1})\n",
        "Y = dsolve(de, y(x))\n",
        "display(Y[0])\n",
        "display(Y[1])"
      ]
    },
    {
      "cell_type": "code",
      "execution_count": 25,
      "metadata": {
        "id": "IhIdWEY-YpYz",
        "outputId": "eee2bcac-cb62-4614-a1b3-e65c59360832",
        "colab": {
          "base_uri": "https://localhost:8080/"
        }
      },
      "outputs": [
        {
          "output_type": "execute_result",
          "data": {
            "text/plain": [
              "[(True, 0), (True, 0)]"
            ]
          },
          "metadata": {},
          "execution_count": 25
        }
      ],
      "source": [
        "checkodesol(de, Y)"
      ]
    },
    {
      "cell_type": "markdown",
      "metadata": {
        "id": "tTHBhhGdYpY0"
      },
      "source": [
        "# Exercise 3.2.4\n",
        "\n",
        "$\n",
        "\\left\\{\n",
        "\\begin{array}{l}\n",
        "y' \\sin x + y\\ln y = 0 \\\\[1ex]\n",
        "y(\\frac{\\pi}{2}) = 1\n",
        "\\end{array}\n",
        "\\right.\n",
        "$\n",
        "\n",
        "[**Link to a step-by-step solution:**](\n",
        "https://mathdf.com/dif/#expr=y'sin(x)%2Byln(y)%3D0&func=y&arg=x&vals=pi%2F2%3B1\n",
        ")"
      ]
    },
    {
      "cell_type": "code",
      "execution_count": 26,
      "metadata": {
        "colab": {
          "base_uri": "https://localhost:8080/",
          "height": 56
        },
        "id": "3FE8sqHlYpY0",
        "outputId": "615bafd8-bda8-490c-f15c-709f167de1f4"
      },
      "outputs": [
        {
          "output_type": "stream",
          "name": "stdout",
          "text": [
            "Eq(y(x), 1)\n"
          ]
        },
        {
          "output_type": "display_data",
          "data": {
            "text/plain": [
              "Eq(y(x), 1)"
            ],
            "text/latex": "$\\displaystyle y{\\left(x \\right)} = 1$"
          },
          "metadata": {}
        }
      ],
      "source": [
        "x = symbols(\"x\", real=True)\n",
        "y = symbols(\"y\", cls=Function)\n",
        "de = Eq(y(x).diff(x) * sin(x) + y(x) * log(y(x)), 0)\n",
        "Y = dsolve(de, y(x) , ics={y(pi/2): 1})\n",
        "print(Y)\n",
        "display(Y)"
      ]
    },
    {
      "cell_type": "code",
      "execution_count": 27,
      "metadata": {
        "id": "wSDBVZ9yYpY0",
        "outputId": "4bf6fa05-8ed6-4e77-efcd-2afd4cf04704",
        "colab": {
          "base_uri": "https://localhost:8080/"
        }
      },
      "outputs": [
        {
          "output_type": "execute_result",
          "data": {
            "text/plain": [
              "(True, 0)"
            ]
          },
          "metadata": {},
          "execution_count": 27
        }
      ],
      "source": [
        "checkodesol(de, Y)"
      ]
    },
    {
      "cell_type": "markdown",
      "metadata": {
        "id": "wktno-scYpY1"
      },
      "source": [
        "# Exercise 3.2.5\n",
        "\n",
        "$\n",
        "\\left\\{\n",
        "\\begin{array}{l}\n",
        "2xyy' + x^2 - y^2 = 0 \\\\[1ex]\n",
        "y(1) = 0\n",
        "\\end{array}\n",
        "\\right.\n",
        "$\n"
      ]
    },
    {
      "cell_type": "code",
      "execution_count": 28,
      "metadata": {
        "colab": {
          "base_uri": "https://localhost:8080/",
          "height": 81
        },
        "id": "7oFeUq9EYpY1",
        "outputId": "d2046e2d-fdbe-49f4-ebb4-721a24a4c6a5"
      },
      "outputs": [
        {
          "output_type": "stream",
          "name": "stdout",
          "text": [
            "[Eq(y(x), -sqrt(x*(1 - x))), Eq(y(x), sqrt(x*(1 - x)))]\n"
          ]
        },
        {
          "output_type": "display_data",
          "data": {
            "text/plain": [
              "Eq(y(x), -sqrt(x*(1 - x)))"
            ],
            "text/latex": "$\\displaystyle y{\\left(x \\right)} = - \\sqrt{x \\left(1 - x\\right)}$"
          },
          "metadata": {}
        },
        {
          "output_type": "display_data",
          "data": {
            "text/plain": [
              "Eq(y(x), sqrt(x*(1 - x)))"
            ],
            "text/latex": "$\\displaystyle y{\\left(x \\right)} = \\sqrt{x \\left(1 - x\\right)}$"
          },
          "metadata": {}
        }
      ],
      "source": [
        "x = symbols(\"x\", real=True)\n",
        "y = symbols(\"y\", cls=Function)\n",
        "de = Eq(2*x*y(x)*y(x).diff(x) + x**2 - y(x)**2 , 0)\n",
        "Y = dsolve(de, y(x) , ics={y(1): 0})\n",
        "print(Y)\n",
        "display(Y[0])\n",
        "display(Y[1])"
      ]
    },
    {
      "cell_type": "code",
      "execution_count": 29,
      "metadata": {
        "id": "lWJbSBRyYpY1",
        "outputId": "cfb0d4f2-b55b-425f-9fda-6666a007d539",
        "colab": {
          "base_uri": "https://localhost:8080/"
        }
      },
      "outputs": [
        {
          "output_type": "execute_result",
          "data": {
            "text/plain": [
              "[(True, 0), (True, 0)]"
            ]
          },
          "metadata": {},
          "execution_count": 29
        }
      ],
      "source": [
        "checkodesol(de, Y)"
      ]
    },
    {
      "cell_type": "markdown",
      "metadata": {
        "id": "WAjgfxQYYpY1"
      },
      "source": [
        "# Exercise 3.2.6\n",
        "\n",
        "$\n",
        "\\left\\{\n",
        "\\begin{array}{l}\n",
        "xy' + y - e^x = 0 \\\\[1ex]\n",
        "y(a) = b\n",
        "\\end{array}\n",
        "\\right.\n",
        "$\n"
      ]
    },
    {
      "cell_type": "code",
      "execution_count": 30,
      "metadata": {
        "colab": {
          "base_uri": "https://localhost:8080/",
          "height": 69
        },
        "id": "cS6jEg-_YpY1",
        "outputId": "65c51233-57db-4c79-cb87-7cd878c30e48"
      },
      "outputs": [
        {
          "output_type": "stream",
          "name": "stdout",
          "text": [
            "Eq(y(x), (a*b - exp(a) + exp(x))/x)\n"
          ]
        },
        {
          "output_type": "display_data",
          "data": {
            "text/plain": [
              "Eq(y(x), (a*b - exp(a) + exp(x))/x)"
            ],
            "text/latex": "$\\displaystyle y{\\left(x \\right)} = \\frac{a b - e^{a} + e^{x}}{x}$"
          },
          "metadata": {}
        }
      ],
      "source": [
        "x, a, b = symbols(\"x a b\", real=True)\n",
        "y = symbols(\"y\", cls=Function)\n",
        "de = Eq(x*y(x).diff(x) + y(x) - exp(x) , 0)\n",
        "Y = dsolve(de, y(x) , ics={y(a): b})\n",
        "print(Y)\n",
        "display(Y)"
      ]
    },
    {
      "cell_type": "code",
      "execution_count": 31,
      "metadata": {
        "id": "doky9G0MYpY2",
        "outputId": "d8bfad16-d9c0-455b-f6ed-9bcaf028c00f",
        "colab": {
          "base_uri": "https://localhost:8080/"
        }
      },
      "outputs": [
        {
          "output_type": "execute_result",
          "data": {
            "text/plain": [
              "(True, 0)"
            ]
          },
          "metadata": {},
          "execution_count": 31
        }
      ],
      "source": [
        "checkodesol(de, Y)"
      ]
    },
    {
      "cell_type": "markdown",
      "metadata": {
        "id": "57nn9VY-YpY2"
      },
      "source": [
        "# Exercise 3.2.7\n",
        "\n",
        "$\n",
        "\\left\\{\n",
        "\\begin{array}{l}\n",
        "y' - 2y = -x^2      \\\\[1ex]\n",
        "y(0) = \\frac{1}{4}\n",
        "\\end{array}\n",
        "\\right.\n",
        "$\n"
      ]
    },
    {
      "cell_type": "code",
      "execution_count": 32,
      "metadata": {
        "colab": {
          "base_uri": "https://localhost:8080/",
          "height": 71
        },
        "id": "hn_WT_EaYpY2",
        "outputId": "9f7bfd82-6d45-450d-cd45-3a9c42fe0dd5"
      },
      "outputs": [
        {
          "output_type": "stream",
          "name": "stdout",
          "text": [
            "Eq(y(x), x**2/2 + x/2 + 1/4)\n"
          ]
        },
        {
          "output_type": "display_data",
          "data": {
            "text/plain": [
              "Eq(y(x), x**2/2 + x/2 + 1/4)"
            ],
            "text/latex": "$\\displaystyle y{\\left(x \\right)} = \\frac{x^{2}}{2} + \\frac{x}{2} + \\frac{1}{4}$"
          },
          "metadata": {}
        }
      ],
      "source": [
        "x = symbols(\"x\", real=True)\n",
        "y = symbols(\"y\", cls=Function)\n",
        "de = Eq(y(x).diff(x) - 2*y(x) , -x**2)\n",
        "Y = dsolve(de, y(x) , ics={y(0): 1/4})\n",
        "print(Y)\n",
        "display(Y)"
      ]
    },
    {
      "cell_type": "code",
      "execution_count": 33,
      "metadata": {
        "id": "DDA9uVOCYpY2",
        "outputId": "d3582c16-5099-42b2-82c3-e0676a0e7958",
        "colab": {
          "base_uri": "https://localhost:8080/"
        }
      },
      "outputs": [
        {
          "output_type": "execute_result",
          "data": {
            "text/plain": [
              "(True, 0)"
            ]
          },
          "metadata": {},
          "execution_count": 33
        }
      ],
      "source": [
        "checkodesol(de, Y)"
      ]
    },
    {
      "cell_type": "markdown",
      "metadata": {
        "id": "pqBnGWXAYpY2"
      },
      "source": [
        "# Exercise 3.2.8\n",
        "\n",
        "$\n",
        "\\left\\{\n",
        "\\begin{array}{l}\n",
        "xy' + y = 2x+1, \\quad x>0 \\\\[1ex]\n",
        "y(1) = 1\n",
        "\\end{array}\n",
        "\\right.\n",
        "$\n"
      ]
    },
    {
      "cell_type": "code",
      "execution_count": 34,
      "metadata": {
        "colab": {
          "base_uri": "https://localhost:8080/",
          "height": 68
        },
        "id": "WBXf0URPYpY2",
        "outputId": "7beb6b7a-d130-417c-ae8a-965bff029352"
      },
      "outputs": [
        {
          "output_type": "stream",
          "name": "stdout",
          "text": [
            "Eq(y(x), -x + 1 + 1/x)\n"
          ]
        },
        {
          "output_type": "display_data",
          "data": {
            "text/plain": [
              "Eq(y(x), -x + 1 + 1/x)"
            ],
            "text/latex": "$\\displaystyle y{\\left(x \\right)} = - x + 1 + \\frac{1}{x}$"
          },
          "metadata": {}
        }
      ],
      "source": [
        "x = symbols(\"x\", real=True)\n",
        "y = symbols(\"y\", cls=Function)\n",
        "de = Eq(x * y(x).diff(x) + y(x) , -2*x + 1)\n",
        "Y = dsolve(de, y(x) , ics={y(1): 1})\n",
        "print(Y)\n",
        "display(Y)"
      ]
    },
    {
      "cell_type": "code",
      "execution_count": 35,
      "metadata": {
        "id": "xjBm47oXYpY3",
        "outputId": "c940c971-760c-4da1-87c4-dfa036441659",
        "colab": {
          "base_uri": "https://localhost:8080/"
        }
      },
      "outputs": [
        {
          "output_type": "execute_result",
          "data": {
            "text/plain": [
              "(True, 0)"
            ]
          },
          "metadata": {},
          "execution_count": 35
        }
      ],
      "source": [
        "checkodesol(de, Y)"
      ]
    },
    {
      "cell_type": "markdown",
      "metadata": {
        "id": "TmoiRYBIYpY3"
      },
      "source": [
        "# Exercise 3.2.9\n",
        "\n",
        "$\n",
        "\\left\\{\n",
        "\\begin{array}{l}\n",
        "(x-2)dx + (y-1)dy = 0 \\\\[1ex]\n",
        "y(2) = 1\n",
        "\\end{array}\n",
        "\\right.\n",
        "$\n"
      ]
    },
    {
      "cell_type": "code",
      "execution_count": 36,
      "metadata": {
        "colab": {
          "base_uri": "https://localhost:8080/",
          "height": 83
        },
        "id": "kixL_JqoYpY3",
        "outputId": "9ea7ab6c-3b22-4a20-c8ff-6f65fa3b506e"
      },
      "outputs": [
        {
          "output_type": "stream",
          "name": "stdout",
          "text": [
            "[Eq(y(x), 1 - sqrt(-x**2 + 4*x - 4)), Eq(y(x), sqrt(-x**2 + 4*x - 4) + 1)]\n"
          ]
        },
        {
          "output_type": "display_data",
          "data": {
            "text/plain": [
              "Eq(y(x), 1 - sqrt(-x**2 + 4*x - 4))"
            ],
            "text/latex": "$\\displaystyle y{\\left(x \\right)} = 1 - \\sqrt{- x^{2} + 4 x - 4}$"
          },
          "metadata": {}
        },
        {
          "output_type": "display_data",
          "data": {
            "text/plain": [
              "Eq(y(x), sqrt(-x**2 + 4*x - 4) + 1)"
            ],
            "text/latex": "$\\displaystyle y{\\left(x \\right)} = \\sqrt{- x^{2} + 4 x - 4} + 1$"
          },
          "metadata": {}
        }
      ],
      "source": [
        "x = symbols(\"x\", real=True)\n",
        "y = symbols(\"y\", cls=Function)\n",
        "de = Eq(x-2 + (y(x) - 1) * y(x).diff(x) , 0)\n",
        "Y = dsolve(de, y(x) , ics={y(2): 1})\n",
        "print(Y)\n",
        "display(Y[0])\n",
        "display(Y[1])"
      ]
    },
    {
      "cell_type": "code",
      "execution_count": 37,
      "metadata": {
        "id": "WyqFEZrDYpY3",
        "outputId": "40174112-d557-470b-e63c-8efb79bb7c4f",
        "colab": {
          "base_uri": "https://localhost:8080/"
        }
      },
      "outputs": [
        {
          "output_type": "execute_result",
          "data": {
            "text/plain": [
              "[(True, 0), (True, 0)]"
            ]
          },
          "metadata": {},
          "execution_count": 37
        }
      ],
      "source": [
        "checkodesol(de, Y)"
      ]
    },
    {
      "cell_type": "markdown",
      "metadata": {
        "id": "xikI_O_5YpY3"
      },
      "source": [
        "# Exercise 3.2.10\n",
        "\n",
        "$\n",
        "\\left\\{\n",
        "\\begin{array}{l}\n",
        "(1+x^2)dy - 2x(y+3)dx = 0 \\\\[1ex]\n",
        "y(0) = -1\n",
        "\\end{array}\n",
        "\\right.\n",
        "$\n"
      ]
    },
    {
      "cell_type": "code",
      "execution_count": 38,
      "metadata": {
        "colab": {
          "base_uri": "https://localhost:8080/",
          "height": 56
        },
        "id": "iQXVGPgiYpY4",
        "outputId": "09cf4eb2-012b-497b-b6cf-f28d0db8f363"
      },
      "outputs": [
        {
          "output_type": "stream",
          "name": "stdout",
          "text": [
            "Eq(y(x), 2*x**2 - 1)\n"
          ]
        },
        {
          "output_type": "display_data",
          "data": {
            "text/plain": [
              "Eq(y(x), 2*x**2 - 1)"
            ],
            "text/latex": "$\\displaystyle y{\\left(x \\right)} = 2 x^{2} - 1$"
          },
          "metadata": {}
        }
      ],
      "source": [
        "x = symbols(\"x\", real=True)\n",
        "y = symbols(\"y\", cls=Function)\n",
        "de = Eq((1+x**2) * y(x).diff(x) - 2*x*(y(x) + 3) , 0)\n",
        "Y = dsolve(de, y(x) , ics={y(0): -1})\n",
        "print(Y)\n",
        "display(Y)"
      ]
    },
    {
      "cell_type": "code",
      "execution_count": 39,
      "metadata": {
        "id": "iPCT3wK8YpY4",
        "outputId": "9a03642f-b8a2-467e-eb43-d066f65ec295",
        "colab": {
          "base_uri": "https://localhost:8080/"
        }
      },
      "outputs": [
        {
          "output_type": "execute_result",
          "data": {
            "text/plain": [
              "(True, 0)"
            ]
          },
          "metadata": {},
          "execution_count": 39
        }
      ],
      "source": [
        "checkodesol(de, Y)"
      ]
    },
    {
      "cell_type": "markdown",
      "metadata": {
        "id": "vth-rl-LYpY4"
      },
      "source": [
        "# Exercise 3.2.11\n",
        "\n",
        "$\n",
        "\\left\\{\n",
        "\\begin{array}{l}\n",
        "y'\\sqrt{1-x^2} = x \\\\[1ex]\n",
        "y(1) = 0\n",
        "\\end{array}\n",
        "\\right.\n",
        "$\n"
      ]
    },
    {
      "cell_type": "code",
      "execution_count": 40,
      "metadata": {
        "colab": {
          "base_uri": "https://localhost:8080/",
          "height": 59
        },
        "id": "PdbxK-VOYpY4",
        "outputId": "cb13aa22-523e-490a-d011-074d57dd520e"
      },
      "outputs": [
        {
          "output_type": "stream",
          "name": "stdout",
          "text": [
            "Eq(y(x), -sqrt(1 - x**2))\n"
          ]
        },
        {
          "output_type": "display_data",
          "data": {
            "text/plain": [
              "Eq(y(x), -sqrt(1 - x**2))"
            ],
            "text/latex": "$\\displaystyle y{\\left(x \\right)} = - \\sqrt{1 - x^{2}}$"
          },
          "metadata": {}
        }
      ],
      "source": [
        "x = symbols(\"x\", real=True)\n",
        "y = symbols(\"y\", cls=Function)\n",
        "de = Eq(y(x).diff(x) * sqrt(1 - x**2) , x)\n",
        "Y = dsolve(de, y(x) , ics={y(1): 0})\n",
        "print(Y)\n",
        "display(Y)"
      ]
    },
    {
      "cell_type": "code",
      "execution_count": 41,
      "metadata": {
        "id": "oj8FsQBOYpY4",
        "outputId": "beff48dd-5ebd-41e8-93b5-cbc029eda0a7",
        "colab": {
          "base_uri": "https://localhost:8080/"
        }
      },
      "outputs": [
        {
          "output_type": "execute_result",
          "data": {
            "text/plain": [
              "(True, 0)"
            ]
          },
          "metadata": {},
          "execution_count": 41
        }
      ],
      "source": [
        "checkodesol(de, Y)"
      ]
    },
    {
      "cell_type": "markdown",
      "metadata": {
        "id": "m1FLvVGAYpY5"
      },
      "source": [
        "# Exercise 3.2.12\n",
        "\n",
        "$\n",
        "\\left\\{\n",
        "\\begin{array}{l}\n",
        "y' \\tan x = 1 + y \\\\[1ex]\n",
        "y(\\frac{\\pi}{6}) = -0.5\n",
        "\\end{array}\n",
        "\\right.\n",
        "$\n"
      ]
    },
    {
      "cell_type": "code",
      "execution_count": 42,
      "metadata": {
        "colab": {
          "base_uri": "https://localhost:8080/",
          "height": 56
        },
        "id": "rRLLDerLYpY5",
        "outputId": "5d29e65f-d59e-4cc5-9d09-515a232c0c24"
      },
      "outputs": [
        {
          "output_type": "stream",
          "name": "stdout",
          "text": [
            "Eq(y(x), 3.0*sin(x) - 1)\n"
          ]
        },
        {
          "output_type": "display_data",
          "data": {
            "text/plain": [
              "Eq(y(x), 3.0*sin(x) - 1)"
            ],
            "text/latex": "$\\displaystyle y{\\left(x \\right)} = 3.0 \\sin{\\left(x \\right)} - 1$"
          },
          "metadata": {}
        }
      ],
      "source": [
        "x = symbols(\"x\", real=True)\n",
        "y = symbols(\"y\", cls=Function)\n",
        "de = Eq(y(x).diff(x) * tan(x) , 1 + y(x))\n",
        "Y = dsolve(de, y(x) , ics={y(pi/6): 1/2})\n",
        "print(Y)\n",
        "display(Y)"
      ]
    },
    {
      "cell_type": "code",
      "execution_count": 43,
      "metadata": {
        "colab": {
          "base_uri": "https://localhost:8080/"
        },
        "id": "647adgeWYpY5",
        "outputId": "4071e4e0-ea8b-47ef-81f2-aeb95a0b3fee"
      },
      "outputs": [
        {
          "output_type": "execute_result",
          "data": {
            "text/plain": [
              "(True, 0)"
            ]
          },
          "metadata": {},
          "execution_count": 43
        }
      ],
      "source": [
        "checkodesol(de, Y)"
      ]
    },
    {
      "cell_type": "markdown",
      "source": [
        "# **TO BE CONTINUED ...**\n",
        "Any student with a basic Python programming skill is welcome\n",
        "to continue and solve more exercises from the\n",
        "<a href=\"https://samyzaf.com/technion/ode/ode.pdf\">\n",
        "Ordinal Differential Equations book\n",
        "</a>.\n",
        "\n",
        "They will be checked and added to this notebook.\n",
        "\n",
        "Send you notebook to sz@samyzaf.com. Thanks!"
      ],
      "metadata": {
        "id": "jrDtRGG9vqB5"
      }
    },
    {
      "cell_type": "code",
      "execution_count": null,
      "metadata": {
        "id": "krHOmz7RYpY5"
      },
      "outputs": [],
      "source": []
    }
  ],
  "metadata": {
    "colab": {
      "provenance": [],
      "collapsed_sections": [
        "jrDtRGG9vqB5"
      ],
      "include_colab_link": true
    },
    "kernelspec": {
      "display_name": "Python 3 (ipykernel)",
      "language": "python",
      "name": "python3"
    },
    "language_info": {
      "codemirror_mode": {
        "name": "ipython",
        "version": 3
      },
      "file_extension": ".py",
      "mimetype": "text/x-python",
      "name": "python",
      "nbconvert_exporter": "python",
      "pygments_lexer": "ipython3",
      "version": "3.7.11"
    }
  },
  "nbformat": 4,
  "nbformat_minor": 0
}