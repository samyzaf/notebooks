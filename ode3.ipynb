{
  "cells": [
    {
      "cell_type": "markdown",
      "metadata": {
        "id": "view-in-github",
        "colab_type": "text"
      },
      "source": [
        "<a href=\"https://colab.research.google.com/github/samyzaf/notebooks/blob/main/ode3.ipynb\" target=\"_parent\"><img src=\"https://colab.research.google.com/assets/colab-badge.svg\" alt=\"Open In Colab\"/></a>"
      ]
    },
    {
      "cell_type": "markdown",
      "id": "fe0b8b90",
      "metadata": {
        "cell_marker": "\"\"\"",
        "id": "fe0b8b90"
      },
      "source": [
        "\n",
        "# Ordinary Differential Equations\n",
        "# Chapter 3: Solutions to exercises\n",
        "\n",
        "<a href=\"https://samyzaf.com/technion/ode/ode.pdf\">\n",
        "<img src=\"https://samyzaf.com/technion/ode/ode2.jpg\" alt=\"ode book cover\"/>\n",
        "</a>\n",
        "\n",
        "* We used Python **Sympy** package for obtaining the final\n",
        "  result for most of the exercises.\n",
        "* This package is still under development, and is not yet\n",
        "  ready to cope with all ode's.\n",
        "* The new site https://mathdf.com seems to be a great source\n",
        "  for obtaining full step-by-step solutions.\n",
        "* This notebook can be edited and executed by clicking\n",
        "  the **open in colab** button.\n",
        "* These are only a small number of solutions.\n",
        "  Hopefully this will encourage students to try to solve more\n",
        "  exercises with similar methods. We will be glad to accept notebooks\n",
        "  with solutions to other exercises in this book.\n",
        "  Please send them to sz@samyzaf.com."
      ]
    },
    {
      "cell_type": "code",
      "execution_count": null,
      "id": "2ace075b",
      "metadata": {
        "lines_to_next_cell": 2,
        "id": "2ace075b"
      },
      "outputs": [],
      "source": [
        "from sympy import *\n",
        "from sympy.solvers.ode import checkodesol\n",
        "from IPython.display import HTML"
      ]
    },
    {
      "cell_type": "markdown",
      "id": "faf2124a",
      "metadata": {
        "cell_marker": "\"\"\"",
        "id": "faf2124a"
      },
      "source": [
        "# Exercise 3.1.1\n",
        "\n",
        "$xy' - y = y^3$"
      ]
    },
    {
      "cell_type": "code",
      "execution_count": null,
      "id": "8986dbe4",
      "metadata": {
        "lines_to_next_cell": 2,
        "colab": {
          "base_uri": "https://localhost:8080/",
          "height": 117
        },
        "id": "8986dbe4",
        "outputId": "ecfe3945-79f2-4798-f697-3d7d524b1177"
      },
      "outputs": [
        {
          "output_type": "display_data",
          "data": {
            "text/plain": [
              "Eq(y(x), -x*sqrt(-C1/(C1*x**2 - 1)))"
            ],
            "text/latex": "$\\displaystyle y{\\left(x \\right)} = - x \\sqrt{- \\frac{C_{1}}{C_{1} x^{2} - 1}}$"
          },
          "metadata": {}
        },
        {
          "output_type": "display_data",
          "data": {
            "text/plain": [
              "Eq(y(x), x*sqrt(-C1/(C1*x**2 - 1)))"
            ],
            "text/latex": "$\\displaystyle y{\\left(x \\right)} = x \\sqrt{- \\frac{C_{1}}{C_{1} x^{2} - 1}}$"
          },
          "metadata": {}
        },
        {
          "output_type": "execute_result",
          "data": {
            "text/plain": [
              "[(True, 0), (True, 0)]"
            ]
          },
          "metadata": {},
          "execution_count": 77
        }
      ],
      "source": [
        "x = symbols(\"x\", real=True)\n",
        "y = symbols(\"y\", cls=Function)\n",
        "de = Eq(x * y(x).diff(x) - y(x) , y(x) ** 3)\n",
        "Y = dsolve(de, y(x))\n",
        "display(Y[0])\n",
        "display(Y[1])\n",
        "\n",
        "checkodesol(de, Y)"
      ]
    },
    {
      "cell_type": "markdown",
      "id": "9f1a5a20",
      "metadata": {
        "cell_marker": "\"\"\"",
        "id": "9f1a5a20"
      },
      "source": [
        "# Exercise 3.1.2\n",
        "\n",
        "$xyy' = 1 - x^2$"
      ]
    },
    {
      "cell_type": "code",
      "execution_count": null,
      "id": "5f4e0f8c",
      "metadata": {
        "lines_to_next_cell": 2,
        "colab": {
          "base_uri": "https://localhost:8080/",
          "height": 98
        },
        "id": "5f4e0f8c",
        "outputId": "610489c6-a5cf-44b1-d789-c9813d5678e1"
      },
      "outputs": [
        {
          "output_type": "display_data",
          "data": {
            "text/plain": [
              "Eq(y(x), -sqrt(C1 - x**2 + 2*log(x)))"
            ],
            "text/latex": "$\\displaystyle y{\\left(x \\right)} = - \\sqrt{C_{1} - x^{2} + 2 \\log{\\left(x \\right)}}$"
          },
          "metadata": {}
        },
        {
          "output_type": "display_data",
          "data": {
            "text/plain": [
              "<IPython.core.display.HTML object>"
            ],
            "text/html": [
              "<br/>"
            ]
          },
          "metadata": {}
        },
        {
          "output_type": "display_data",
          "data": {
            "text/plain": [
              "Eq(y(x), sqrt(C1 - x**2 + 2*log(x)))"
            ],
            "text/latex": "$\\displaystyle y{\\left(x \\right)} = \\sqrt{C_{1} - x^{2} + 2 \\log{\\left(x \\right)}}$"
          },
          "metadata": {}
        },
        {
          "output_type": "execute_result",
          "data": {
            "text/plain": [
              "[(True, 0), (True, 0)]"
            ]
          },
          "metadata": {},
          "execution_count": 78
        }
      ],
      "source": [
        "x = symbols(\"x\", real=True)\n",
        "y = symbols(\"y\", cls=Function)\n",
        "de = Eq(x* y(x) * y(x).diff(x) , 1 - x ** 2)\n",
        "Y = dsolve(de, y(x))\n",
        "display(Y[0])\n",
        "display(HTML(\"<br/>\"))\n",
        "display(Y[1])\n",
        "\n",
        "checkodesol(de, Y)"
      ]
    },
    {
      "cell_type": "markdown",
      "id": "23cfe4d1",
      "metadata": {
        "cell_marker": "\"\"\"",
        "id": "23cfe4d1"
      },
      "source": [
        "# Exercise 3.1.3\n",
        "\n",
        "$y' \\tan x = y$"
      ]
    },
    {
      "cell_type": "code",
      "execution_count": null,
      "id": "d79aeace",
      "metadata": {
        "lines_to_next_cell": 2,
        "colab": {
          "base_uri": "https://localhost:8080/",
          "height": 39
        },
        "id": "d79aeace",
        "outputId": "6239c3a3-1f91-4c43-8d63-577c81995c90"
      },
      "outputs": [
        {
          "output_type": "execute_result",
          "data": {
            "text/plain": [
              "Eq(y(x), C1*sin(x))"
            ],
            "text/latex": "$\\displaystyle y{\\left(x \\right)} = C_{1} \\sin{\\left(x \\right)}$"
          },
          "metadata": {},
          "execution_count": 79
        }
      ],
      "source": [
        "x = symbols(\"x\", real=True)\n",
        "y = symbols(\"y\", cls=Function)\n",
        "de = Eq(y(x).diff(x) * tan(x) , y(x))\n",
        "dsolve(de, y(x))"
      ]
    },
    {
      "cell_type": "markdown",
      "id": "5f6ccd1c",
      "metadata": {
        "cell_marker": "\"\"\"",
        "id": "5f6ccd1c"
      },
      "source": [
        "# Exercise 3.1.4\n",
        "\n",
        "$y' - xy^2 = 2xy$"
      ]
    },
    {
      "cell_type": "code",
      "execution_count": null,
      "id": "f1bdf9b0",
      "metadata": {
        "lines_to_next_cell": 2,
        "colab": {
          "base_uri": "https://localhost:8080/",
          "height": 58
        },
        "id": "f1bdf9b0",
        "outputId": "5613b749-1bd5-40ea-a317-f8040e8b7f56"
      },
      "outputs": [
        {
          "output_type": "execute_result",
          "data": {
            "text/plain": [
              "Eq(y(x), 2*exp(2*C1 + x**2)/(1 - exp(2*C1 + x**2)))"
            ],
            "text/latex": "$\\displaystyle y{\\left(x \\right)} = \\frac{2 e^{2 C_{1} + x^{2}}}{1 - e^{2 C_{1} + x^{2}}}$"
          },
          "metadata": {},
          "execution_count": 80
        }
      ],
      "source": [
        "x = symbols(\"x\", real=True)\n",
        "y = symbols(\"y\", cls=Function)\n",
        "de = Eq(y(x).diff(x) - x * y(x)**2 , 2*x*y(x))\n",
        "dsolve(de, y(x))"
      ]
    },
    {
      "cell_type": "markdown",
      "id": "16bae5e2",
      "metadata": {
        "cell_marker": "\"\"\"",
        "id": "16bae5e2"
      },
      "source": [
        "# Exercise 3.1.5\n",
        "\n",
        "$e^{-s} \\left(1+\\frac{ds}{dt}\\right) = 1$"
      ]
    },
    {
      "cell_type": "code",
      "execution_count": null,
      "id": "c86a531f",
      "metadata": {
        "lines_to_next_cell": 2,
        "colab": {
          "base_uri": "https://localhost:8080/",
          "height": 47
        },
        "id": "c86a531f",
        "outputId": "b05d034e-8a7d-4ecc-ea5e-b0d78d36dd24"
      },
      "outputs": [
        {
          "output_type": "execute_result",
          "data": {
            "text/plain": [
              "Eq(t + s(t) - log(exp(s(t)) - 1), C1)"
            ],
            "text/latex": "$\\displaystyle t + s{\\left(t \\right)} - \\log{\\left(e^{s{\\left(t \\right)}} - 1 \\right)} = C_{1}$"
          },
          "metadata": {},
          "execution_count": 81
        }
      ],
      "source": [
        "t = symbols(\"t\", real=True)\n",
        "s = symbols(\"s\", cls=Function)\n",
        "de = Eq(exp(-s(t)) * (1 + s(t).diff(t)) , 1)\n",
        "dsolve(de, s(t))"
      ]
    },
    {
      "cell_type": "markdown",
      "id": "126ae856",
      "metadata": {
        "cell_marker": "\"\"\"",
        "id": "126ae856"
      },
      "source": [
        "# Exercise 3.1.6\n",
        "\n",
        "$y' = 10^{x+y}$"
      ]
    },
    {
      "cell_type": "code",
      "execution_count": null,
      "id": "ad4f61bf",
      "metadata": {
        "lines_to_next_cell": 2,
        "colab": {
          "base_uri": "https://localhost:8080/",
          "height": 70
        },
        "id": "ad4f61bf",
        "outputId": "9d899a2b-40b1-4413-ae77-43222bdc7deb"
      },
      "outputs": [
        {
          "output_type": "execute_result",
          "data": {
            "text/plain": [
              "Eq(y(x), log(-1/(10**x + C1))/log(10))"
            ],
            "text/latex": "$\\displaystyle y{\\left(x \\right)} = \\frac{\\log{\\left(- \\frac{1}{10^{x} + C_{1}} \\right)}}{\\log{\\left(10 \\right)}}$"
          },
          "metadata": {},
          "execution_count": 82
        }
      ],
      "source": [
        "x = Symbol(\"x\", real=True, positive=True)\n",
        "y = symbols(\"y\", cls=Function)\n",
        "de = Eq(y(x).diff(x) , 10 ** (x + y(x)))\n",
        "dsolve(de, y(x))"
      ]
    },
    {
      "cell_type": "markdown",
      "id": "3eb6c711",
      "metadata": {
        "cell_marker": "\"\"\"",
        "id": "3eb6c711"
      },
      "source": [
        "# Exercise 3.1.7\n",
        "\n",
        "$(x+1)dx + (y-1)dy = 0$\n",
        "\n",
        "**Link to a step-by-step solution:**\n",
        "<br/>\n",
        "https://mathdf.com/dif/#expr=y'%2B2xy%3D2x%5E3&func=y&arg=x"
      ]
    },
    {
      "cell_type": "code",
      "execution_count": null,
      "id": "bfa85dcc",
      "metadata": {
        "lines_to_next_cell": 2,
        "colab": {
          "base_uri": "https://localhost:8080/",
          "height": 83
        },
        "id": "bfa85dcc",
        "outputId": "ef4b91a9-d056-40cb-a3f4-a85503c8e108"
      },
      "outputs": [
        {
          "output_type": "display_data",
          "data": {
            "text/plain": [
              "Eq(y(x), 1 - sqrt(C1 - x**2 - 2*x))"
            ],
            "text/latex": "$\\displaystyle y{\\left(x \\right)} = 1 - \\sqrt{C_{1} - x^{2} - 2 x}$"
          },
          "metadata": {}
        },
        {
          "output_type": "display_data",
          "data": {
            "text/plain": [
              "<IPython.core.display.HTML object>"
            ],
            "text/html": [
              "<br/>"
            ]
          },
          "metadata": {}
        },
        {
          "output_type": "display_data",
          "data": {
            "text/plain": [
              "Eq(y(x), sqrt(C1 - x**2 - 2*x) + 1)"
            ],
            "text/latex": "$\\displaystyle y{\\left(x \\right)} = \\sqrt{C_{1} - x^{2} - 2 x} + 1$"
          },
          "metadata": {}
        }
      ],
      "source": [
        "x = symbols(\"x\", real=True)\n",
        "y = symbols(\"y\", cls=Function)\n",
        "de = Eq(x + 1 + (y(x) -1) * y(x).diff(x), 0)\n",
        "Y = dsolve(de, y(x))\n",
        "display(Y[0])\n",
        "display(HTML(\"<br/>\"))\n",
        "display(Y[1])"
      ]
    },
    {
      "cell_type": "markdown",
      "id": "2c38bc5b",
      "metadata": {
        "cell_marker": "\"\"\"",
        "id": "2c38bc5b"
      },
      "source": [
        "## Verification"
      ]
    },
    {
      "cell_type": "code",
      "execution_count": null,
      "id": "b856eac4",
      "metadata": {
        "lines_to_next_cell": 2,
        "colab": {
          "base_uri": "https://localhost:8080/"
        },
        "id": "b856eac4",
        "outputId": "4d735ead-9126-4750-ccfe-f83a966f0cef"
      },
      "outputs": [
        {
          "output_type": "stream",
          "name": "stdout",
          "text": [
            "[Eq(y(x), 1 - sqrt(C1 - x**2 - 2*x)), Eq(y(x), sqrt(C1 - x**2 - 2*x) + 1)]\n"
          ]
        },
        {
          "output_type": "execute_result",
          "data": {
            "text/plain": [
              "[(True, 0), (True, 0)]"
            ]
          },
          "metadata": {},
          "execution_count": 84
        }
      ],
      "source": [
        "print(Y)\n",
        "checkodesol(de, Y)"
      ]
    },
    {
      "cell_type": "markdown",
      "id": "9c6fb1fd",
      "metadata": {
        "cell_marker": "\"\"\"",
        "id": "9c6fb1fd"
      },
      "source": [
        "# Exercise 3.1.8\n",
        "\n",
        "$\\cos\\sqrt{x}\\, dx - \\sqrt{x}\\,dy = 0$\n",
        "\n",
        "[**Link to a step-by-step solution**](\n",
        "https://mathdf.com/dif/#expr=cos(sqrt(x))d(x)-sqrt(x)d(y)%3D0&func=y&arg=x\n",
        ")"
      ]
    },
    {
      "cell_type": "code",
      "execution_count": null,
      "id": "cb6ce2e7",
      "metadata": {
        "lines_to_next_cell": 2,
        "colab": {
          "base_uri": "https://localhost:8080/",
          "height": 56
        },
        "id": "cb6ce2e7",
        "outputId": "840316d2-7ef8-404b-d21a-7d1f8d82543f"
      },
      "outputs": [
        {
          "output_type": "display_data",
          "data": {
            "text/plain": [
              "Eq(y(x), C1 + 2*sin(sqrt(x)))"
            ],
            "text/latex": "$\\displaystyle y{\\left(x \\right)} = C_{1} + 2 \\sin{\\left(\\sqrt{x} \\right)}$"
          },
          "metadata": {}
        },
        {
          "output_type": "execute_result",
          "data": {
            "text/plain": [
              "(True, 0)"
            ]
          },
          "metadata": {},
          "execution_count": 85
        }
      ],
      "source": [
        "x = symbols(\"x\", real=True)\n",
        "y = symbols(\"y\", cls=Function)\n",
        "de = Eq(cos(sqrt(x)) - sqrt(x) * y(x).diff(x) , 0)\n",
        "Y = dsolve(de, y(x))\n",
        "display(Y)\n",
        "\n",
        "checkodesol(de, Y)"
      ]
    },
    {
      "cell_type": "markdown",
      "id": "053f2ede",
      "metadata": {
        "cell_marker": "\"\"\"",
        "id": "053f2ede"
      },
      "source": [
        "# Exercise 3.1.9\n",
        "\n",
        "$\\sqrt{1-x^2} dy - \\sqrt{1-y^2} dx = 0$\n",
        "\n",
        "Solution:\n",
        "\n",
        "$y=\\sin\\left(\\arcsin\\left(x\\right)+C\\right),\\;\\,x=1,\\;\\,x=-1,\\;\\,y=1,\\;\\,y=-1$\n",
        "\n",
        "[**Link to a step-by-step solution:**](\n",
        "https://mathdf.com/dif/#expr=sqrt(1-x%5E2)d(y)-sqrt(1-y%5E2)d(x)%3D0&func=y&arg=x\n",
        ")"
      ]
    },
    {
      "cell_type": "code",
      "execution_count": null,
      "id": "7df0996f",
      "metadata": {
        "lines_to_next_cell": 2,
        "colab": {
          "base_uri": "https://localhost:8080/",
          "height": 39
        },
        "id": "7df0996f",
        "outputId": "3e8402a2-7f7f-47ed-c11d-e40511ffa159"
      },
      "outputs": [
        {
          "output_type": "display_data",
          "data": {
            "text/plain": [
              "Eq(y(x), sin(C1 + asin(x)))"
            ],
            "text/latex": "$\\displaystyle y{\\left(x \\right)} = \\sin{\\left(C_{1} + \\operatorname{asin}{\\left(x \\right)} \\right)}$"
          },
          "metadata": {}
        }
      ],
      "source": [
        "x = symbols(\"x\", real=True)\n",
        "y = symbols(\"y\", cls=Function)\n",
        "de = Eq(sqrt(1-x**2) * y(x).diff(x) - sqrt(1 - y(x)**2) , 0)\n",
        "Y = dsolve(de, y(x))\n",
        "display(Y)"
      ]
    },
    {
      "cell_type": "markdown",
      "id": "ef0b9326",
      "metadata": {
        "cell_marker": "\"\"\"",
        "id": "ef0b9326"
      },
      "source": [
        "* Sympy missed the special solutions $x=1,\\;\\,x=-1,\\;\\,y=1,\\;\\,y=-1$ which mathdf engine found.\n",
        "\n",
        "# Exercise 3.1.10\n",
        "\n",
        "$e^x(1+e^y)dx + e^y(1+e^x)dy = 0$\n",
        "\n",
        "[**Link to a step-by-step solution**](\n",
        "https://mathdf.com/dif/#expr=(2x%2B1)y'%3D4x%2B2y&func=y&arg=x\n",
        ")"
      ]
    },
    {
      "cell_type": "code",
      "execution_count": null,
      "id": "a03be303",
      "metadata": {
        "lines_to_next_cell": 2,
        "colab": {
          "base_uri": "https://localhost:8080/",
          "height": 47
        },
        "id": "a03be303",
        "outputId": "5a19d01b-ea56-4b10-f60c-e7d4109870cc"
      },
      "outputs": [
        {
          "output_type": "display_data",
          "data": {
            "text/plain": [
              "Eq(y(x) + log(exp(x) + 1) - log(exp(y(x)) + 1), C1)"
            ],
            "text/latex": "$\\displaystyle y{\\left(x \\right)} + \\log{\\left(e^{x} + 1 \\right)} - \\log{\\left(e^{y{\\left(x \\right)}} + 1 \\right)} = C_{1}$"
          },
          "metadata": {}
        }
      ],
      "source": [
        "x = symbols(\"x\", real=True)\n",
        "y = symbols(\"y\", cls=Function)\n",
        "de = Eq(exp(x) * (1 + exp(y(x))) + (1 + exp(x)) * y(x).diff(x) , 0)\n",
        "Y = dsolve(de, y(x))\n",
        "display(Y)"
      ]
    },
    {
      "cell_type": "markdown",
      "id": "925c0701",
      "metadata": {
        "cell_marker": "\"\"\"",
        "id": "925c0701"
      },
      "source": [
        "# Exercise 3.1.11\n",
        "\n",
        "$xy^3y' = x^4+y^4$\n",
        "\n",
        "Solution:\n",
        "\n",
        "${y}^{4}=4\\,{x}^{4}\\,\\left(\\ln\\left(x\\right)+C\\right)$\n",
        "\n",
        "[**Link to a step-by-step solution:**](\n",
        "https://mathdf.com/dif/#expr=(2x%2B1)y'%3D4x%2B2y&func=y&arg=x\n",
        ")"
      ]
    },
    {
      "cell_type": "code",
      "execution_count": null,
      "id": "52b75c07",
      "metadata": {
        "lines_to_next_cell": 2,
        "colab": {
          "base_uri": "https://localhost:8080/",
          "height": 197
        },
        "id": "52b75c07",
        "outputId": "7dd43556-86f7-4b08-f47b-a3549a8921e8"
      },
      "outputs": [
        {
          "output_type": "display_data",
          "data": {
            "text/plain": [
              "[Eq(y(x), -I*(C1 + 4*log(x))**(1/4)*Abs(x)),\n",
              " Eq(y(x), I*(C1 + 4*log(x))**(1/4)*Abs(x)),\n",
              " Eq(y(x), -(C1 + 4*log(x))**(1/4)*Abs(x)),\n",
              " Eq(y(x), (C1 + 4*log(x))**(1/4)*Abs(x))]"
            ]
          },
          "metadata": {}
        },
        {
          "output_type": "display_data",
          "data": {
            "text/plain": [
              "Eq(y(x), -I*(C1 + 4*log(x))**(1/4)*Abs(x))"
            ],
            "text/latex": "$\\displaystyle y{\\left(x \\right)} = - i \\sqrt[4]{C_{1} + 4 \\log{\\left(x \\right)}} \\left|{x}\\right|$"
          },
          "metadata": {}
        },
        {
          "output_type": "display_data",
          "data": {
            "text/plain": [
              "Eq(y(x), I*(C1 + 4*log(x))**(1/4)*Abs(x))"
            ],
            "text/latex": "$\\displaystyle y{\\left(x \\right)} = i \\sqrt[4]{C_{1} + 4 \\log{\\left(x \\right)}} \\left|{x}\\right|$"
          },
          "metadata": {}
        },
        {
          "output_type": "display_data",
          "data": {
            "text/plain": [
              "Eq(y(x), -(C1 + 4*log(x))**(1/4)*Abs(x))"
            ],
            "text/latex": "$\\displaystyle y{\\left(x \\right)} = - \\sqrt[4]{C_{1} + 4 \\log{\\left(x \\right)}} \\left|{x}\\right|$"
          },
          "metadata": {}
        },
        {
          "output_type": "display_data",
          "data": {
            "text/plain": [
              "Eq(y(x), (C1 + 4*log(x))**(1/4)*Abs(x))"
            ],
            "text/latex": "$\\displaystyle y{\\left(x \\right)} = \\sqrt[4]{C_{1} + 4 \\log{\\left(x \\right)}} \\left|{x}\\right|$"
          },
          "metadata": {}
        },
        {
          "output_type": "execute_result",
          "data": {
            "text/plain": [
              "[(True, 0), (True, 0), (True, 0), (True, 0)]"
            ]
          },
          "metadata": {},
          "execution_count": 88
        }
      ],
      "source": [
        "x = symbols(\"x\", real=True)\n",
        "y = symbols(\"y\", cls=Function)\n",
        "de = Eq(x * y(x) ** 3 * y(x).diff(x) , x**4 + y(x) ** 4)\n",
        "Y = dsolve(de, y(x))\n",
        "display(Y)\n",
        "\n",
        "display(Y[0])\n",
        "display(Y[1])\n",
        "display(Y[2])\n",
        "display(Y[3])\n",
        "\n",
        "checkodesol(de, Y)"
      ]
    },
    {
      "cell_type": "markdown",
      "id": "746e45cc",
      "metadata": {
        "cell_marker": "\"\"\"",
        "id": "746e45cc"
      },
      "source": [
        "# Exercise 3.2.1\n",
        "\n",
        "$\n",
        "\\left\\{\n",
        "\\begin{array}{l}\n",
        "(x^2-1)y' +2xy^2 = 0 \\\\\n",
        "y(2) = 1\n",
        "\\end{array}\n",
        "\\right.\n",
        "$\n",
        "\n",
        "[**Link to a step-by-step solution**](\n",
        "https://mathdf.com/dif/#expr=(x%5E2-1)y'%2B2xy%5E2%3D0&func=y&arg=x&vals=2%3B1\n",
        ")"
      ]
    },
    {
      "cell_type": "code",
      "execution_count": null,
      "id": "9bde83a6",
      "metadata": {
        "lines_to_next_cell": 2,
        "colab": {
          "base_uri": "https://localhost:8080/",
          "height": 73
        },
        "id": "9bde83a6",
        "outputId": "190f6405-29c0-4e7f-bfa7-bf0788ee5b8e"
      },
      "outputs": [
        {
          "output_type": "display_data",
          "data": {
            "text/plain": [
              "Eq(y(x), -1/(-log(x**2 - 1) - 1 + log(3)))"
            ],
            "text/latex": "$\\displaystyle y{\\left(x \\right)} = - \\frac{1}{- \\log{\\left(x^{2} - 1 \\right)} - 1 + \\log{\\left(3 \\right)}}$"
          },
          "metadata": {}
        },
        {
          "output_type": "execute_result",
          "data": {
            "text/plain": [
              "(True, 0)"
            ]
          },
          "metadata": {},
          "execution_count": 89
        }
      ],
      "source": [
        "x = symbols(\"x\", real=True)\n",
        "y = symbols(\"y\", cls=Function)\n",
        "de = Eq((x**2 - 1) * y(x).diff(x) + 2*x*y(x)**2, 0)\n",
        "Y = dsolve(de, y(x), ics={y(2):1})\n",
        "display(Y)\n",
        "\n",
        "checkodesol(de, Y)"
      ]
    },
    {
      "cell_type": "markdown",
      "id": "5161b852",
      "metadata": {
        "cell_marker": "\"\"\"",
        "id": "5161b852"
      },
      "source": [
        "# Exercise 3.2.2\n",
        "\n",
        "$\n",
        "\\left\\{\n",
        "\\begin{array}{l}\n",
        "y' = 3 \\sqrt[3]{y^2} \\\\\n",
        "y(2) = 0\n",
        "\\end{array}\n",
        "\\right.\n",
        "$\n",
        "\n",
        "[**Link to a step-by-step solution**](\n",
        "https://mathdf.com/dif/#expr=y'%3D3*y%5E(2%2F3)&func=y&arg=x&vals=2%3B0\n",
        ")"
      ]
    },
    {
      "cell_type": "code",
      "execution_count": null,
      "id": "4badbd7b",
      "metadata": {
        "lines_to_next_cell": 2,
        "colab": {
          "base_uri": "https://localhost:8080/",
          "height": 56
        },
        "id": "4badbd7b",
        "outputId": "6ba43451-54c7-4d20-813e-9ce54a86a084"
      },
      "outputs": [
        {
          "output_type": "stream",
          "name": "stdout",
          "text": [
            "Eq(y(x), x**3 - 6*x**2 + 12*x - 8)\n"
          ]
        },
        {
          "output_type": "display_data",
          "data": {
            "text/plain": [
              "Eq(y(x), x**3 - 6*x**2 + 12*x - 8)"
            ],
            "text/latex": "$\\displaystyle y{\\left(x \\right)} = x^{3} - 6 x^{2} + 12 x - 8$"
          },
          "metadata": {}
        }
      ],
      "source": [
        "x = symbols(\"x\", real=True)\n",
        "y = symbols(\"y\", cls=Function)\n",
        "de = Eq(y(x).diff(x) , 3 * cbrt(y(x)**2))\n",
        "Y = dsolve(de, y(x), ics={y(2): 0})\n",
        "print(Y)\n",
        "display(Y)"
      ]
    },
    {
      "cell_type": "markdown",
      "id": "953de664",
      "metadata": {
        "cell_marker": "\"\"\"",
        "id": "953de664"
      },
      "source": [
        "Private solution: $y = (x-2)^3$"
      ]
    },
    {
      "cell_type": "code",
      "execution_count": null,
      "id": "99e842f1",
      "metadata": {
        "lines_to_next_cell": 2,
        "colab": {
          "base_uri": "https://localhost:8080/"
        },
        "id": "99e842f1",
        "outputId": "2b787ee1-3eff-4c8e-f55b-eca840ab9301"
      },
      "outputs": [
        {
          "output_type": "execute_result",
          "data": {
            "text/plain": [
              "(True, 0)"
            ]
          },
          "metadata": {},
          "execution_count": 91
        }
      ],
      "source": [
        "yp = Eq(y(x) , (x-2)**3)\n",
        "\n",
        "checkodesol(de, yp)"
      ]
    },
    {
      "cell_type": "markdown",
      "id": "33fc3ec7",
      "metadata": {
        "cell_marker": "\"\"\"",
        "id": "33fc3ec7"
      },
      "source": [
        "# Exercise 3.2.3\n",
        "\n",
        "$\n",
        "\\left\\{\n",
        "\\begin{array}{l}\n",
        "(xy^2 + x)dx + (x^2y - y)dy = 0 \\\\[1ex]\n",
        "y(0) = 1\n",
        "\\end{array}\n",
        "\\right.\n",
        "$\n",
        "\n",
        "[**Link to a step-by-step solution:**](\n",
        "https://mathdf.com/dif/#expr=(xy%5E2%2Bx)d(x)%2B(x%5E2y-y)d(y)%3D0&func=y&arg=x&vals=0%3B1)"
      ]
    },
    {
      "cell_type": "code",
      "execution_count": null,
      "id": "a3df1e9d",
      "metadata": {
        "lines_to_next_cell": 2,
        "colab": {
          "base_uri": "https://localhost:8080/",
          "height": 59
        },
        "id": "a3df1e9d",
        "outputId": "bb0dabc8-4bb7-48a0-ae0a-f35192efc518"
      },
      "outputs": [
        {
          "output_type": "display_data",
          "data": {
            "text/plain": [
              "Eq(y(x), sqrt(1 - 2*x**2))"
            ],
            "text/latex": "$\\displaystyle y{\\left(x \\right)} = \\sqrt{1 - 2 x^{2}}$"
          },
          "metadata": {}
        },
        {
          "output_type": "execute_result",
          "data": {
            "text/plain": [
              "(True, 0)"
            ]
          },
          "metadata": {},
          "execution_count": 92
        }
      ],
      "source": [
        "x = symbols(\"x\", real=True)\n",
        "y = symbols(\"y\", cls=Function)\n",
        "de = Eq(x * y(x)**2 +x, (x**2 * y(x) - y(x)) * y(x).diff(x))\n",
        "Y = dsolve(de, y(x), ics={y(0): 1})\n",
        "display(Y)\n",
        "\n",
        "checkodesol(de, Y)"
      ]
    },
    {
      "cell_type": "markdown",
      "id": "7049e9e4",
      "metadata": {
        "cell_marker": "\"\"\"",
        "id": "7049e9e4"
      },
      "source": [
        "# Exercise 3.2.4\n",
        "\n",
        "$\n",
        "\\left\\{\n",
        "\\begin{array}{l}\n",
        "y' \\sin x + y\\ln y = 0 \\\\[1ex]\n",
        "y(\\frac{\\pi}{2}) = 1\n",
        "\\end{array}\n",
        "\\right.\n",
        "$\n",
        "\n",
        "[**Link to a step-by-step solution**](\n",
        "https://mathdf.com/dif/#expr=y'sin(x)%2Byln(y)%3D0&func=y&arg=x&vals=pi%2F2%3B1\n",
        ")"
      ]
    },
    {
      "cell_type": "code",
      "execution_count": null,
      "id": "c9c4cb38",
      "metadata": {
        "lines_to_next_cell": 2,
        "colab": {
          "base_uri": "https://localhost:8080/",
          "height": 74
        },
        "id": "c9c4cb38",
        "outputId": "b14209e2-e52a-4ce6-dff0-24ee4c15351d"
      },
      "outputs": [
        {
          "output_type": "stream",
          "name": "stdout",
          "text": [
            "Eq(y(x), 1)\n"
          ]
        },
        {
          "output_type": "display_data",
          "data": {
            "text/plain": [
              "Eq(y(x), 1)"
            ],
            "text/latex": "$\\displaystyle y{\\left(x \\right)} = 1$"
          },
          "metadata": {}
        },
        {
          "output_type": "execute_result",
          "data": {
            "text/plain": [
              "(True, 0)"
            ]
          },
          "metadata": {},
          "execution_count": 93
        }
      ],
      "source": [
        "x = symbols(\"x\", real=True)\n",
        "y = symbols(\"y\", cls=Function)\n",
        "de = Eq(y(x).diff(x) * sin(x) + y(x) * log(y(x)), 0)\n",
        "Y = dsolve(de, y(x) , ics={y(pi/2): 1})\n",
        "print(Y)\n",
        "display(Y)\n",
        "\n",
        "checkodesol(de, Y)"
      ]
    },
    {
      "cell_type": "markdown",
      "id": "2457988b",
      "metadata": {
        "cell_marker": "\"\"\"",
        "id": "2457988b"
      },
      "source": [
        "# Exercise 3.2.5\n",
        "\n",
        "$\n",
        "\\left\\{\n",
        "\\begin{array}{l}\n",
        "2xyy' + x^2 - y^2 = 0 \\\\[1ex]\n",
        "y(1) = 0\n",
        "\\end{array}\n",
        "\\right.\n",
        "$"
      ]
    },
    {
      "cell_type": "code",
      "execution_count": null,
      "id": "9a61821d",
      "metadata": {
        "lines_to_next_cell": 2,
        "colab": {
          "base_uri": "https://localhost:8080/",
          "height": 98
        },
        "id": "9a61821d",
        "outputId": "6a33b40d-deb8-4c0a-8230-1dd8b9ce5088"
      },
      "outputs": [
        {
          "output_type": "stream",
          "name": "stdout",
          "text": [
            "[Eq(y(x), -sqrt(x*(1 - x))), Eq(y(x), sqrt(x*(1 - x)))]\n"
          ]
        },
        {
          "output_type": "display_data",
          "data": {
            "text/plain": [
              "Eq(y(x), -sqrt(x*(1 - x)))"
            ],
            "text/latex": "$\\displaystyle y{\\left(x \\right)} = - \\sqrt{x \\left(1 - x\\right)}$"
          },
          "metadata": {}
        },
        {
          "output_type": "display_data",
          "data": {
            "text/plain": [
              "Eq(y(x), sqrt(x*(1 - x)))"
            ],
            "text/latex": "$\\displaystyle y{\\left(x \\right)} = \\sqrt{x \\left(1 - x\\right)}$"
          },
          "metadata": {}
        },
        {
          "output_type": "execute_result",
          "data": {
            "text/plain": [
              "[(True, 0), (True, 0)]"
            ]
          },
          "metadata": {},
          "execution_count": 94
        }
      ],
      "source": [
        "x = symbols(\"x\", real=True)\n",
        "y = symbols(\"y\", cls=Function)\n",
        "de = Eq(2*x*y(x)*y(x).diff(x) + x**2 - y(x)**2 , 0)\n",
        "Y = dsolve(de, y(x) , ics={y(1): 0})\n",
        "print(Y)\n",
        "display(Y[0])\n",
        "display(Y[1])\n",
        "\n",
        "checkodesol(de, Y)"
      ]
    },
    {
      "cell_type": "markdown",
      "id": "17a1e9e5",
      "metadata": {
        "cell_marker": "\"\"\"",
        "id": "17a1e9e5"
      },
      "source": [
        "# Exercise 3.2.6\n",
        "\n",
        "$\n",
        "\\left\\{\n",
        "\\begin{array}{l}\n",
        "xy' + y - e^x = 0 \\\\[1ex]\n",
        "y(a) = b\n",
        "\\end{array}\n",
        "\\right.\n",
        "$"
      ]
    },
    {
      "cell_type": "code",
      "execution_count": null,
      "id": "334b83cf",
      "metadata": {
        "lines_to_next_cell": 2,
        "colab": {
          "base_uri": "https://localhost:8080/",
          "height": 87
        },
        "id": "334b83cf",
        "outputId": "139d2396-483c-45a7-bc95-c7846275c9d6"
      },
      "outputs": [
        {
          "output_type": "stream",
          "name": "stdout",
          "text": [
            "Eq(y(x), (a*b - exp(a) + exp(x))/x)\n"
          ]
        },
        {
          "output_type": "display_data",
          "data": {
            "text/plain": [
              "Eq(y(x), (a*b - exp(a) + exp(x))/x)"
            ],
            "text/latex": "$\\displaystyle y{\\left(x \\right)} = \\frac{a b - e^{a} + e^{x}}{x}$"
          },
          "metadata": {}
        },
        {
          "output_type": "execute_result",
          "data": {
            "text/plain": [
              "(True, 0)"
            ]
          },
          "metadata": {},
          "execution_count": 95
        }
      ],
      "source": [
        "x, a, b = symbols(\"x a b\", real=True)\n",
        "y = symbols(\"y\", cls=Function)\n",
        "de = Eq(x*y(x).diff(x) + y(x) - exp(x) , 0)\n",
        "Y = dsolve(de, y(x) , ics={y(a): b})\n",
        "print(Y)\n",
        "display(Y)\n",
        "\n",
        "checkodesol(de, Y)"
      ]
    },
    {
      "cell_type": "markdown",
      "id": "38931631",
      "metadata": {
        "cell_marker": "\"\"\"",
        "id": "38931631"
      },
      "source": [
        "# Exercise 3.2.7\n",
        "\n",
        "$\n",
        "\\left\\{\n",
        "\\begin{array}{l}\n",
        "y' - 2y = -x^2      \\\\[1ex]\n",
        "y(0) = \\frac{1}{4}\n",
        "\\end{array}\n",
        "\\right.\n",
        "$"
      ]
    },
    {
      "cell_type": "code",
      "execution_count": null,
      "id": "e2a10af8",
      "metadata": {
        "lines_to_next_cell": 2,
        "colab": {
          "base_uri": "https://localhost:8080/",
          "height": 89
        },
        "id": "e2a10af8",
        "outputId": "492f7323-c851-4389-a296-b91d783903bd"
      },
      "outputs": [
        {
          "output_type": "stream",
          "name": "stdout",
          "text": [
            "Eq(y(x), x**2/2 + x/2 + 1/4)\n"
          ]
        },
        {
          "output_type": "display_data",
          "data": {
            "text/plain": [
              "Eq(y(x), x**2/2 + x/2 + 1/4)"
            ],
            "text/latex": "$\\displaystyle y{\\left(x \\right)} = \\frac{x^{2}}{2} + \\frac{x}{2} + \\frac{1}{4}$"
          },
          "metadata": {}
        },
        {
          "output_type": "execute_result",
          "data": {
            "text/plain": [
              "(True, 0)"
            ]
          },
          "metadata": {},
          "execution_count": 96
        }
      ],
      "source": [
        "x = symbols(\"x\", real=True)\n",
        "y = symbols(\"y\", cls=Function)\n",
        "de = Eq(y(x).diff(x) - 2*y(x) , -x**2)\n",
        "Y = dsolve(de, y(x) , ics={y(0): 1/4})\n",
        "print(Y)\n",
        "display(Y)\n",
        "\n",
        "checkodesol(de, Y)"
      ]
    },
    {
      "cell_type": "markdown",
      "id": "a2711701",
      "metadata": {
        "cell_marker": "\"\"\"",
        "id": "a2711701"
      },
      "source": [
        "# Exercise 3.2.8\n",
        "\n",
        "$\n",
        "\\left\\{\n",
        "\\begin{array}{l}\n",
        "xy' + y = 2x+1, \\quad x>0 \\\\[1ex]\n",
        "y(1) = 1\n",
        "\\end{array}\n",
        "\\right.\n",
        "$"
      ]
    },
    {
      "cell_type": "code",
      "execution_count": null,
      "id": "121f5d42",
      "metadata": {
        "lines_to_next_cell": 2,
        "colab": {
          "base_uri": "https://localhost:8080/",
          "height": 86
        },
        "id": "121f5d42",
        "outputId": "f39564c5-ec2c-452e-e8ed-12b7e734504b"
      },
      "outputs": [
        {
          "output_type": "stream",
          "name": "stdout",
          "text": [
            "Eq(y(x), -x + 1 + 1/x)\n"
          ]
        },
        {
          "output_type": "display_data",
          "data": {
            "text/plain": [
              "Eq(y(x), -x + 1 + 1/x)"
            ],
            "text/latex": "$\\displaystyle y{\\left(x \\right)} = - x + 1 + \\frac{1}{x}$"
          },
          "metadata": {}
        },
        {
          "output_type": "execute_result",
          "data": {
            "text/plain": [
              "(True, 0)"
            ]
          },
          "metadata": {},
          "execution_count": 97
        }
      ],
      "source": [
        "x = symbols(\"x\", real=True)\n",
        "y = symbols(\"y\", cls=Function)\n",
        "de = Eq(x * y(x).diff(x) + y(x) , -2*x + 1)\n",
        "Y = dsolve(de, y(x) , ics={y(1): 1})\n",
        "print(Y)\n",
        "display(Y)\n",
        "\n",
        "checkodesol(de, Y)"
      ]
    },
    {
      "cell_type": "markdown",
      "id": "7350db95",
      "metadata": {
        "cell_marker": "\"\"\"",
        "id": "7350db95"
      },
      "source": [
        "# Exercise 3.2.9\n",
        "\n",
        "$\n",
        "\\left\\{\n",
        "\\begin{array}{l}\n",
        "(x-2)dx + (y-1)dy = 0 \\\\[1ex]\n",
        "y(2) = 1\n",
        "\\end{array}\n",
        "\\right.\n",
        "$"
      ]
    },
    {
      "cell_type": "code",
      "execution_count": null,
      "id": "28df8886",
      "metadata": {
        "lines_to_next_cell": 2,
        "colab": {
          "base_uri": "https://localhost:8080/",
          "height": 101
        },
        "id": "28df8886",
        "outputId": "f0c9ecf2-4cf3-4a18-e2d0-0a3832869bfb"
      },
      "outputs": [
        {
          "output_type": "stream",
          "name": "stdout",
          "text": [
            "[Eq(y(x), 1 - sqrt(-x**2 + 4*x - 4)), Eq(y(x), sqrt(-x**2 + 4*x - 4) + 1)]\n"
          ]
        },
        {
          "output_type": "display_data",
          "data": {
            "text/plain": [
              "Eq(y(x), 1 - sqrt(-x**2 + 4*x - 4))"
            ],
            "text/latex": "$\\displaystyle y{\\left(x \\right)} = 1 - \\sqrt{- x^{2} + 4 x - 4}$"
          },
          "metadata": {}
        },
        {
          "output_type": "display_data",
          "data": {
            "text/plain": [
              "Eq(y(x), sqrt(-x**2 + 4*x - 4) + 1)"
            ],
            "text/latex": "$\\displaystyle y{\\left(x \\right)} = \\sqrt{- x^{2} + 4 x - 4} + 1$"
          },
          "metadata": {}
        },
        {
          "output_type": "execute_result",
          "data": {
            "text/plain": [
              "[(True, 0), (True, 0)]"
            ]
          },
          "metadata": {},
          "execution_count": 98
        }
      ],
      "source": [
        "x = symbols(\"x\", real=True)\n",
        "y = symbols(\"y\", cls=Function)\n",
        "de = Eq(x-2 + (y(x) - 1) * y(x).diff(x) , 0)\n",
        "Y = dsolve(de, y(x) , ics={y(2): 1})\n",
        "print(Y)\n",
        "display(Y[0])\n",
        "display(Y[1])\n",
        "\n",
        "checkodesol(de, Y)"
      ]
    },
    {
      "cell_type": "markdown",
      "id": "0764cf9f",
      "metadata": {
        "cell_marker": "\"\"\"",
        "id": "0764cf9f"
      },
      "source": [
        "# Exercise 3.2.10\n",
        "\n",
        "$\n",
        "\\left\\{\n",
        "\\begin{array}{l}\n",
        "(1+x^2)dy - 2x(y+3)dx = 0 \\\\[1ex]\n",
        "y(0) = -1\n",
        "\\end{array}\n",
        "\\right.\n",
        "$"
      ]
    },
    {
      "cell_type": "code",
      "execution_count": null,
      "id": "89fd83f0",
      "metadata": {
        "lines_to_next_cell": 2,
        "colab": {
          "base_uri": "https://localhost:8080/",
          "height": 74
        },
        "id": "89fd83f0",
        "outputId": "f3b5202d-e64d-4e41-cc39-5c1356214d2e"
      },
      "outputs": [
        {
          "output_type": "stream",
          "name": "stdout",
          "text": [
            "Eq(y(x), 2*x**2 - 1)\n"
          ]
        },
        {
          "output_type": "display_data",
          "data": {
            "text/plain": [
              "Eq(y(x), 2*x**2 - 1)"
            ],
            "text/latex": "$\\displaystyle y{\\left(x \\right)} = 2 x^{2} - 1$"
          },
          "metadata": {}
        },
        {
          "output_type": "execute_result",
          "data": {
            "text/plain": [
              "(True, 0)"
            ]
          },
          "metadata": {},
          "execution_count": 99
        }
      ],
      "source": [
        "x = symbols(\"x\", real=True)\n",
        "y = symbols(\"y\", cls=Function)\n",
        "de = Eq((1+x**2) * y(x).diff(x) - 2*x*(y(x) + 3) , 0)\n",
        "Y = dsolve(de, y(x) , ics={y(0): -1})\n",
        "print(Y)\n",
        "display(Y)\n",
        "\n",
        "checkodesol(de, Y)"
      ]
    },
    {
      "cell_type": "markdown",
      "id": "93609008",
      "metadata": {
        "cell_marker": "\"\"\"",
        "id": "93609008"
      },
      "source": [
        "# Exercise 3.2.11\n",
        "\n",
        "$\n",
        "\\left\\{\n",
        "\\begin{array}{l}\n",
        "y'\\sqrt{1-x^2} = x \\\\[1ex]\n",
        "y(1) = 0\n",
        "\\end{array}\n",
        "\\right.\n",
        "$"
      ]
    },
    {
      "cell_type": "code",
      "execution_count": null,
      "id": "4b2b138a",
      "metadata": {
        "lines_to_next_cell": 2,
        "colab": {
          "base_uri": "https://localhost:8080/",
          "height": 76
        },
        "id": "4b2b138a",
        "outputId": "a7e144cd-d809-4e88-af45-3acab3e1cfd6"
      },
      "outputs": [
        {
          "output_type": "stream",
          "name": "stdout",
          "text": [
            "Eq(y(x), -sqrt(1 - x**2))\n"
          ]
        },
        {
          "output_type": "display_data",
          "data": {
            "text/plain": [
              "Eq(y(x), -sqrt(1 - x**2))"
            ],
            "text/latex": "$\\displaystyle y{\\left(x \\right)} = - \\sqrt{1 - x^{2}}$"
          },
          "metadata": {}
        },
        {
          "output_type": "execute_result",
          "data": {
            "text/plain": [
              "(True, 0)"
            ]
          },
          "metadata": {},
          "execution_count": 100
        }
      ],
      "source": [
        "x = symbols(\"x\", real=True)\n",
        "y = symbols(\"y\", cls=Function)\n",
        "de = Eq(y(x).diff(x) * sqrt(1 - x**2) , x)\n",
        "Y = dsolve(de, y(x) , ics={y(1): 0})\n",
        "print(Y)\n",
        "display(Y)\n",
        "\n",
        "checkodesol(de, Y)"
      ]
    },
    {
      "cell_type": "markdown",
      "id": "ba9e8abf",
      "metadata": {
        "cell_marker": "\"\"\"",
        "id": "ba9e8abf"
      },
      "source": [
        "# Exercise 3.2.12\n",
        "\n",
        "$\n",
        "\\left\\{\n",
        "\\begin{array}{l}\n",
        "y' \\tan x = 1 + y \\\\[1ex]\n",
        "y(\\frac{\\pi}{6}) = -0.5\n",
        "\\end{array}\n",
        "\\right.\n",
        "$"
      ]
    },
    {
      "cell_type": "code",
      "execution_count": null,
      "id": "8e8ea65b",
      "metadata": {
        "lines_to_next_cell": 2,
        "colab": {
          "base_uri": "https://localhost:8080/",
          "height": 74
        },
        "id": "8e8ea65b",
        "outputId": "c0c00bf8-b25f-4449-bc5d-43dfd6577b61"
      },
      "outputs": [
        {
          "output_type": "stream",
          "name": "stdout",
          "text": [
            "Eq(y(x), 3.0*sin(x) - 1)\n"
          ]
        },
        {
          "output_type": "display_data",
          "data": {
            "text/plain": [
              "Eq(y(x), 3.0*sin(x) - 1)"
            ],
            "text/latex": "$\\displaystyle y{\\left(x \\right)} = 3.0 \\sin{\\left(x \\right)} - 1$"
          },
          "metadata": {}
        },
        {
          "output_type": "execute_result",
          "data": {
            "text/plain": [
              "(True, 0)"
            ]
          },
          "metadata": {},
          "execution_count": 101
        }
      ],
      "source": [
        "x = symbols(\"x\", real=True)\n",
        "y = symbols(\"y\", cls=Function)\n",
        "de = Eq(y(x).diff(x) * tan(x) , 1 + y(x))\n",
        "Y = dsolve(de, y(x) , ics={y(pi/6): 1/2})\n",
        "print(Y)\n",
        "display(Y)\n",
        "\n",
        "checkodesol(de, Y)"
      ]
    },
    {
      "cell_type": "markdown",
      "id": "c510045e",
      "metadata": {
        "cell_marker": "\"\"\"",
        "id": "c510045e"
      },
      "source": [
        "# Exercise 3.3.1\n",
        "\n",
        "$y' = \\dfrac{2xy}{x^2+y^2}$\n",
        "\n",
        "[**Link to a step-by-step solution**](\n",
        "https://mathdf.com/dif/#expr=y'%3D(2xy)%2F(x%5E2%2By%5E2)&func=y&arg=x)"
      ]
    },
    {
      "cell_type": "code",
      "execution_count": null,
      "id": "ef9f9b73",
      "metadata": {
        "lines_to_next_cell": 2,
        "colab": {
          "base_uri": "https://localhost:8080/",
          "height": 112
        },
        "id": "ef9f9b73",
        "outputId": "94165ecc-8e23-4b4f-db7c-2c5dc8f4791d"
      },
      "outputs": [
        {
          "output_type": "display_data",
          "data": {
            "text/plain": [
              "Eq(y(x), -sqrt(4*x**2 + exp(2*C1))/2 - exp(C1)/2)"
            ],
            "text/latex": "$\\displaystyle y{\\left(x \\right)} = - \\frac{\\sqrt{4 x^{2} + e^{2 C_{1}}}}{2} - \\frac{e^{C_{1}}}{2}$"
          },
          "metadata": {}
        },
        {
          "output_type": "display_data",
          "data": {
            "text/plain": [
              "Eq(y(x), sqrt(4*x**2 + exp(2*C1))/2 - exp(C1)/2)"
            ],
            "text/latex": "$\\displaystyle y{\\left(x \\right)} = \\frac{\\sqrt{4 x^{2} + e^{2 C_{1}}}}{2} - \\frac{e^{C_{1}}}{2}$"
          },
          "metadata": {}
        },
        {
          "output_type": "execute_result",
          "data": {
            "text/plain": [
              "[(True, 0), (True, 0)]"
            ]
          },
          "metadata": {},
          "execution_count": 102
        }
      ],
      "source": [
        "x = symbols(\"x\", real=True)\n",
        "y = symbols(\"y\", cls=Function)\n",
        "de = Eq(y(x).diff(x), 2*x*y(x) / (x**2 + y(x)**2))\n",
        "Y = dsolve(de, y(x))\n",
        "display(Y[0])\n",
        "display(Y[1])\n",
        "\n",
        "checkodesol(de, Y)"
      ]
    },
    {
      "cell_type": "markdown",
      "id": "ccf99845",
      "metadata": {
        "cell_marker": "\"\"\"",
        "id": "ccf99845"
      },
      "source": [
        "* Sympy missed the trivial solution: $y=0$\n",
        "* The mathdf engine gave a more compact implicit solution:\n",
        "<br/>\n",
        "$\\dfrac{y}{x}-\\dfrac{x}{y}=\\dfrac{C}{x},\\;\\,y=0$\n",
        "\n",
        "* In fact, there is a special flag called **simplify** for\n",
        "  asking sympy not to bother to get an explicit solution.\n",
        "* For some reason it gives a different implicit solution,\n",
        "  which is probably equvalent to mathdf (needs a check)."
      ]
    },
    {
      "cell_type": "code",
      "execution_count": null,
      "id": "9d33f74f",
      "metadata": {
        "lines_to_next_cell": 2,
        "colab": {
          "base_uri": "https://localhost:8080/",
          "height": 58
        },
        "id": "9d33f74f",
        "outputId": "49410767-587c-4a3c-f1ce-8fbb6ce3b1be"
      },
      "outputs": [
        {
          "output_type": "execute_result",
          "data": {
            "text/plain": [
              "Eq(log(y(x)), log(C1) - log(x**2/y(x)**2 - 1))"
            ],
            "text/latex": "$\\displaystyle \\log{\\left(y{\\left(x \\right)} \\right)} = \\log{\\left(C_{1} \\right)} - \\log{\\left(\\frac{x^{2}}{y^{2}{\\left(x \\right)}} - 1 \\right)}$"
          },
          "metadata": {},
          "execution_count": 103
        }
      ],
      "source": [
        "dsolve(de, simplify=False)"
      ]
    },
    {
      "cell_type": "markdown",
      "id": "b0af7973",
      "metadata": {
        "cell_marker": "\"\"\"",
        "id": "b0af7973"
      },
      "source": [
        "# Exercise 3.3.2\n",
        "\n",
        "$xy' - y = x\\tan\\frac{y}{x}$\n",
        "\n",
        "[**Link to a step-by-step solution**](\n",
        "https://mathdf.com/dif/#expr=xy'-y%3Dxtan((y)%2F(x))&func=y&arg=x\n",
        ")"
      ]
    },
    {
      "cell_type": "code",
      "execution_count": null,
      "id": "4ab54118",
      "metadata": {
        "lines_to_next_cell": 2,
        "colab": {
          "base_uri": "https://localhost:8080/",
          "height": 78
        },
        "id": "4ab54118",
        "outputId": "250454b0-18bd-455a-a264-7ed52bfbee01"
      },
      "outputs": [
        {
          "output_type": "display_data",
          "data": {
            "text/plain": [
              "Eq(y(x), x*(pi - asin(C1*x)))"
            ],
            "text/latex": "$\\displaystyle y{\\left(x \\right)} = x \\left(\\pi - \\operatorname{asin}{\\left(C_{1} x \\right)}\\right)$"
          },
          "metadata": {}
        },
        {
          "output_type": "display_data",
          "data": {
            "text/plain": [
              "Eq(y(x), x*asin(C1*x))"
            ],
            "text/latex": "$\\displaystyle y{\\left(x \\right)} = x \\operatorname{asin}{\\left(C_{1} x \\right)}$"
          },
          "metadata": {}
        },
        {
          "output_type": "execute_result",
          "data": {
            "text/plain": [
              "[(True, 0), (True, 0)]"
            ]
          },
          "metadata": {},
          "execution_count": 104
        }
      ],
      "source": [
        "x = symbols(\"x\", real=True)\n",
        "y = symbols(\"y\", cls=Function)\n",
        "de = Eq(x * y(x).diff(x) - y(x) , x * tan(y(x)/x))\n",
        "Y = dsolve(de, y(x))\n",
        "display(Y[0])\n",
        "display(Y[1])\n",
        "\n",
        "checkodesol(de, Y)"
      ]
    },
    {
      "cell_type": "markdown",
      "id": "6ef46ae7",
      "metadata": {
        "cell_marker": "\"\"\"",
        "id": "6ef46ae7"
      },
      "source": [
        "# Exercise 3.3.3\n",
        "\n",
        "$xy' - y = (x+y)\\ln\\frac{x+y}{x}$\n",
        "\n",
        "[**Link to a step-by-step solution**](\n",
        "https://mathdf.com/dif/#expr=xy'-y%3D(x%2By)ln((x%2By)%2F(x))&func=y&arg=x\n",
        ")"
      ]
    },
    {
      "cell_type": "code",
      "execution_count": null,
      "id": "12ad0643",
      "metadata": {
        "lines_to_next_cell": 2,
        "colab": {
          "base_uri": "https://localhost:8080/",
          "height": 56
        },
        "id": "12ad0643",
        "outputId": "9487b4ea-bfc5-4649-a4d6-7c91318b1148"
      },
      "outputs": [
        {
          "output_type": "display_data",
          "data": {
            "text/plain": [
              "Eq(y(x), x*(exp(C1*x) - 1))"
            ],
            "text/latex": "$\\displaystyle y{\\left(x \\right)} = x \\left(e^{C_{1} x} - 1\\right)$"
          },
          "metadata": {}
        },
        {
          "output_type": "execute_result",
          "data": {
            "text/plain": [
              "(True, 0)"
            ]
          },
          "metadata": {},
          "execution_count": 105
        }
      ],
      "source": [
        "x = symbols(\"x\", real=True)\n",
        "y = symbols(\"y\", cls=Function)\n",
        "de = Eq(x * y(x).diff(x) - y(x) , (x + y(x)) * log((x+y(x)) / x))\n",
        "Y = dsolve(de, y(x))\n",
        "display(Y)\n",
        "\n",
        "checkodesol(de, Y)"
      ]
    },
    {
      "cell_type": "markdown",
      "id": "2a89da31",
      "metadata": {
        "cell_marker": "\"\"\"",
        "id": "2a89da31"
      },
      "source": [
        "# Exercise 3.3.4\n",
        "\n",
        "$\\left(x-y\\cos\\frac{y}{x}\\right)dx + x\\cos\\frac{y}{x}\\,dy = 0$"
      ]
    },
    {
      "cell_type": "code",
      "execution_count": null,
      "id": "004b6617",
      "metadata": {
        "lines_to_next_cell": 2,
        "colab": {
          "base_uri": "https://localhost:8080/",
          "height": 78
        },
        "id": "004b6617",
        "outputId": "c56e9895-d336-43f3-af85-bf5ef5b5b165"
      },
      "outputs": [
        {
          "output_type": "display_data",
          "data": {
            "text/plain": [
              "Eq(y(x), x*(pi - asin(C1 - log(x))))"
            ],
            "text/latex": "$\\displaystyle y{\\left(x \\right)} = x \\left(\\pi - \\operatorname{asin}{\\left(C_{1} - \\log{\\left(x \\right)} \\right)}\\right)$"
          },
          "metadata": {}
        },
        {
          "output_type": "display_data",
          "data": {
            "text/plain": [
              "Eq(y(x), x*asin(C1 - log(x)))"
            ],
            "text/latex": "$\\displaystyle y{\\left(x \\right)} = x \\operatorname{asin}{\\left(C_{1} - \\log{\\left(x \\right)} \\right)}$"
          },
          "metadata": {}
        },
        {
          "output_type": "execute_result",
          "data": {
            "text/plain": [
              "[(True, 0), (True, 0)]"
            ]
          },
          "metadata": {},
          "execution_count": 106
        }
      ],
      "source": [
        "x = symbols(\"x\", real=True)\n",
        "y = symbols(\"y\", cls=Function)\n",
        "de = Eq(x - y(x)*cos(y(x)/x) + x * cos(y(x)/x) * y(x).diff(x) , 0)\n",
        "Y = dsolve(de, y(x))\n",
        "display(Y[0])\n",
        "display(Y[1])\n",
        "\n",
        "checkodesol(de, Y)"
      ]
    },
    {
      "cell_type": "markdown",
      "id": "8e2ae7b4",
      "metadata": {
        "cell_marker": "\"\"\"",
        "id": "8e2ae7b4"
      },
      "source": [
        "# Exercise 3.3.5\n",
        "\n",
        "$y' - \\dfrac{y}{x} = x$"
      ]
    },
    {
      "cell_type": "code",
      "execution_count": null,
      "id": "2880148d",
      "metadata": {
        "lines_to_next_cell": 2,
        "colab": {
          "base_uri": "https://localhost:8080/",
          "height": 56
        },
        "id": "2880148d",
        "outputId": "250b644c-e506-4f1c-8be6-d0fa95fedd23"
      },
      "outputs": [
        {
          "output_type": "display_data",
          "data": {
            "text/plain": [
              "Eq(y(x), x*(C1 + x))"
            ],
            "text/latex": "$\\displaystyle y{\\left(x \\right)} = x \\left(C_{1} + x\\right)$"
          },
          "metadata": {}
        },
        {
          "output_type": "execute_result",
          "data": {
            "text/plain": [
              "(True, 0)"
            ]
          },
          "metadata": {},
          "execution_count": 107
        }
      ],
      "source": [
        "x = symbols(\"x\", real=True)\n",
        "y = symbols(\"y\", cls=Function)\n",
        "de = Eq(y(x).diff(x) - y(x)/x , x)\n",
        "Y = dsolve(de, y(x))\n",
        "display(Y)\n",
        "\n",
        "checkodesol(de, Y)"
      ]
    },
    {
      "cell_type": "markdown",
      "id": "bede64a2",
      "metadata": {
        "cell_marker": "\"\"\"",
        "id": "bede64a2"
      },
      "source": [
        "# Exercise 3.3.6\n",
        "\n",
        "$x(y' - y) = e^x$"
      ]
    },
    {
      "cell_type": "code",
      "execution_count": null,
      "id": "c13709fa",
      "metadata": {
        "lines_to_next_cell": 2,
        "colab": {
          "base_uri": "https://localhost:8080/",
          "height": 56
        },
        "id": "c13709fa",
        "outputId": "b44880ec-7622-46e1-e270-739c669713c2"
      },
      "outputs": [
        {
          "output_type": "display_data",
          "data": {
            "text/plain": [
              "Eq(y(x), (C1 + log(x))*exp(x))"
            ],
            "text/latex": "$\\displaystyle y{\\left(x \\right)} = \\left(C_{1} + \\log{\\left(x \\right)}\\right) e^{x}$"
          },
          "metadata": {}
        },
        {
          "output_type": "execute_result",
          "data": {
            "text/plain": [
              "(True, 0)"
            ]
          },
          "metadata": {},
          "execution_count": 108
        }
      ],
      "source": [
        "x = symbols(\"x\", real=True)\n",
        "y = symbols(\"y\", cls=Function)\n",
        "de = Eq(x * (y(x).diff(x) - y(x)) , exp(x))\n",
        "Y = dsolve(de, y(x))\n",
        "display(Y)\n",
        "\n",
        "checkodesol(de, Y)"
      ]
    },
    {
      "cell_type": "markdown",
      "id": "6539e31d",
      "metadata": {
        "cell_marker": "\"\"\"",
        "id": "6539e31d"
      },
      "source": [
        "# Exercise 3.3.7\n",
        "\n",
        "$xy' + (x+1)y = 3x^2e^{-x}$"
      ]
    },
    {
      "cell_type": "code",
      "execution_count": null,
      "id": "39055136",
      "metadata": {
        "lines_to_next_cell": 2,
        "colab": {
          "base_uri": "https://localhost:8080/",
          "height": 71
        },
        "id": "39055136",
        "outputId": "be4782bd-14bd-4b74-8c3c-6d9c2bfa9a8f"
      },
      "outputs": [
        {
          "output_type": "display_data",
          "data": {
            "text/plain": [
              "Eq(y(x), C1 - x**2/2 - x)"
            ],
            "text/latex": "$\\displaystyle y{\\left(x \\right)} = C_{1} - \\frac{x^{2}}{2} - x$"
          },
          "metadata": {}
        },
        {
          "output_type": "execute_result",
          "data": {
            "text/plain": [
              "(True, 0)"
            ]
          },
          "metadata": {},
          "execution_count": 109
        }
      ],
      "source": [
        "x = symbols(\"x\", real=True)\n",
        "y = symbols(\"y\", cls=Function)\n",
        "de = Eq(x * (y(x).diff(x) + (x+1)), 0)\n",
        "Y = dsolve(de, y(x))\n",
        "display(Y)\n",
        "\n",
        "checkodesol(de, Y)"
      ]
    },
    {
      "cell_type": "markdown",
      "id": "18e67c1b",
      "metadata": {
        "cell_marker": "\"\"\"",
        "id": "18e67c1b"
      },
      "source": [
        "# Exercise 3.3.8\n",
        "\n",
        "$xy' - 2y = x^3 +x$"
      ]
    },
    {
      "cell_type": "code",
      "execution_count": null,
      "id": "a79330b0",
      "metadata": {
        "lines_to_next_cell": 2,
        "colab": {
          "base_uri": "https://localhost:8080/",
          "height": 56
        },
        "id": "a79330b0",
        "outputId": "cbe85cb0-c0a0-4a04-d5de-709821addfd3"
      },
      "outputs": [
        {
          "output_type": "display_data",
          "data": {
            "text/plain": [
              "Eq(y(x), x*(C1*x + x**2 - 1))"
            ],
            "text/latex": "$\\displaystyle y{\\left(x \\right)} = x \\left(C_{1} x + x^{2} - 1\\right)$"
          },
          "metadata": {}
        },
        {
          "output_type": "execute_result",
          "data": {
            "text/plain": [
              "(True, 0)"
            ]
          },
          "metadata": {},
          "execution_count": 110
        }
      ],
      "source": [
        "x = symbols(\"x\", real=True)\n",
        "y = symbols(\"y\", cls=Function)\n",
        "de = Eq(x * y(x).diff(x) - 2*y(x) , x**3 + x)\n",
        "Y = dsolve(de, y(x))\n",
        "display(Y)\n",
        "\n",
        "checkodesol(de, Y)"
      ]
    },
    {
      "cell_type": "markdown",
      "id": "f3a86695",
      "metadata": {
        "cell_marker": "\"\"\"",
        "id": "f3a86695"
      },
      "source": [
        "# Exercise 3.3.9\n",
        "\n",
        "$y'\\sin x - y\\cos x = 1$"
      ]
    },
    {
      "cell_type": "code",
      "execution_count": null,
      "id": "1496db58",
      "metadata": {
        "lines_to_next_cell": 2,
        "colab": {
          "base_uri": "https://localhost:8080/",
          "height": 56
        },
        "id": "1496db58",
        "outputId": "a1effa4b-aac6-4063-9d26-7856b6af1598"
      },
      "outputs": [
        {
          "output_type": "display_data",
          "data": {
            "text/plain": [
              "Eq(y(x), C1*sin(x) - cos(x))"
            ],
            "text/latex": "$\\displaystyle y{\\left(x \\right)} = C_{1} \\sin{\\left(x \\right)} - \\cos{\\left(x \\right)}$"
          },
          "metadata": {}
        },
        {
          "output_type": "execute_result",
          "data": {
            "text/plain": [
              "(True, 0)"
            ]
          },
          "metadata": {},
          "execution_count": 111
        }
      ],
      "source": [
        "x = symbols(\"x\", real=True)\n",
        "y = symbols(\"y\", cls=Function)\n",
        "de = Eq(y(x).diff(x) * sin(x) - y(x) * cos(x) , 1)\n",
        "Y = dsolve(de, y(x))\n",
        "display(Y)\n",
        "\n",
        "checkodesol(de, Y)"
      ]
    },
    {
      "cell_type": "markdown",
      "id": "3cd877be",
      "metadata": {
        "cell_marker": "\"\"\"",
        "id": "3cd877be"
      },
      "source": [
        "# Exercise 3.3.10\n",
        "\n",
        "$\\frac{dy}{dx} = \\frac{2y-x+5}{2x-y-4}$"
      ]
    },
    {
      "cell_type": "code",
      "execution_count": null,
      "id": "bcc94098",
      "metadata": {
        "lines_to_next_cell": 2,
        "id": "bcc94098"
      },
      "outputs": [],
      "source": [
        "x = symbols(\"x\", real=True)\n",
        "y = symbols(\"y\", cls=Function)\n",
        "de = Eq(y(x).diff(x) , (2*y(x) - x + 5) / (2*x - y(x) -4))\n",
        "# Y = dsolve(de, y(x)) # sympy 1.11.1 failed to solve (hangs) - will wait for upgrade ...\n",
        "# display(Y)"
      ]
    },
    {
      "cell_type": "markdown",
      "id": "38c808c1",
      "metadata": {
        "cell_marker": "\"\"\"",
        "id": "38c808c1"
      },
      "source": [
        "mathdf final solution:\n",
        "\n",
        "$\\dfrac{y-x+3}{\\left({y+x+1}\\right)^{3}}=C,\\;\\,x=-y-1$\n",
        "\n",
        "[**Link to a step-by-step solution**](\n",
        "https://mathdf.com/dif/#expr=(d(y))%2F(d(x))%3D(2y-x%2B5)%2F(2x-y-4)&func=y&arg=x)\n",
        "\n",
        "# Exercise 3.3.11\n",
        "\n",
        "$(2x+y-3)dx + (x+y-1)dy = 0$"
      ]
    },
    {
      "cell_type": "code",
      "execution_count": null,
      "id": "27689993",
      "metadata": {
        "lines_to_next_cell": 2,
        "colab": {
          "base_uri": "https://localhost:8080/",
          "height": 83
        },
        "id": "27689993",
        "outputId": "7c11cee0-bb8a-466a-8ac8-ca20e4ed0f90"
      },
      "outputs": [
        {
          "output_type": "display_data",
          "data": {
            "text/plain": [
              "Eq(y(x), -x - sqrt(C1 - x**2 + 4*x) + 1)"
            ],
            "text/latex": "$\\displaystyle y{\\left(x \\right)} = - x - \\sqrt{C_{1} - x^{2} + 4 x} + 1$"
          },
          "metadata": {}
        },
        {
          "output_type": "display_data",
          "data": {
            "text/plain": [
              "Eq(y(x), -x + sqrt(C1 - x**2 + 4*x) + 1)"
            ],
            "text/latex": "$\\displaystyle y{\\left(x \\right)} = - x + \\sqrt{C_{1} - x^{2} + 4 x} + 1$"
          },
          "metadata": {}
        },
        {
          "output_type": "execute_result",
          "data": {
            "text/plain": [
              "[(True, 0), (True, 0)]"
            ]
          },
          "metadata": {},
          "execution_count": 113
        }
      ],
      "source": [
        "x = symbols(\"x\", real=True)\n",
        "y = symbols(\"y\", cls=Function)\n",
        "de = Eq(2*x + y(x) - 3 + (x + y(x) - 1) * y(x).diff(x) , 0)\n",
        "Y = dsolve(de, y(x))\n",
        "display(Y[0])\n",
        "display(Y[1])\n",
        "\n",
        "checkodesol(de, Y)"
      ]
    },
    {
      "cell_type": "markdown",
      "id": "a9b5a19f",
      "metadata": {
        "cell_marker": "\"\"\"",
        "id": "a9b5a19f"
      },
      "source": [
        "# Exercise 3.4.1\n",
        "\n",
        "$xy^2y' = x^2 + y^2$"
      ]
    },
    {
      "cell_type": "code",
      "execution_count": null,
      "id": "783b8766",
      "metadata": {
        "lines_to_next_cell": 2,
        "id": "783b8766"
      },
      "outputs": [],
      "source": [
        "x = symbols(\"x\", real=True)\n",
        "y = symbols(\"y\", cls=Function)\n",
        "de = Eq(x * y(x)**2 * y(x).diff(x) , x**2 + y(x)**2)\n",
        "# Y = dsolve(de, y(x))\n",
        "# display(Y)"
      ]
    },
    {
      "cell_type": "markdown",
      "id": "a9dbd549",
      "metadata": {
        "cell_marker": "\"\"\"",
        "id": "a9dbd549"
      },
      "source": [
        "* This problem could not be solved by Sympy and MathDF\n",
        "* Maybe it should be dropped.\n",
        "* Will be checked later ...\n",
        "\n",
        "# Exercise 3.4.2\n",
        "\n",
        "$xy\\,dy = (y^2+x)dx$"
      ]
    },
    {
      "cell_type": "code",
      "execution_count": null,
      "id": "aa46901c",
      "metadata": {
        "lines_to_next_cell": 2,
        "colab": {
          "base_uri": "https://localhost:8080/",
          "height": 81
        },
        "id": "aa46901c",
        "outputId": "d572fb99-4efa-4e69-bfcf-6ba97b8a4a08"
      },
      "outputs": [
        {
          "output_type": "display_data",
          "data": {
            "text/plain": [
              "Eq(y(x), -sqrt(x*(C1*x - 2)))"
            ],
            "text/latex": "$\\displaystyle y{\\left(x \\right)} = - \\sqrt{x \\left(C_{1} x - 2\\right)}$"
          },
          "metadata": {}
        },
        {
          "output_type": "display_data",
          "data": {
            "text/plain": [
              "Eq(y(x), sqrt(x*(C1*x - 2)))"
            ],
            "text/latex": "$\\displaystyle y{\\left(x \\right)} = \\sqrt{x \\left(C_{1} x - 2\\right)}$"
          },
          "metadata": {}
        },
        {
          "output_type": "execute_result",
          "data": {
            "text/plain": [
              "[(True, 0), (True, 0)]"
            ]
          },
          "metadata": {},
          "execution_count": 115
        }
      ],
      "source": [
        "x = symbols(\"x\", real=True)\n",
        "y = symbols(\"y\", cls=Function)\n",
        "de = Eq(x * y(x) * y(x).diff(x) , y(x)**2 + x)\n",
        "Y = dsolve(de, y(x))\n",
        "display(Y[0])\n",
        "display(Y[1])\n",
        "\n",
        "checkodesol(de, Y)"
      ]
    },
    {
      "cell_type": "markdown",
      "id": "be8f82fd",
      "metadata": {
        "cell_marker": "\"\"\"",
        "id": "be8f82fd"
      },
      "source": [
        "# Exercise 3.4.3\n",
        "\n",
        "$x^2 y' = y(x+y)$"
      ]
    },
    {
      "cell_type": "code",
      "execution_count": null,
      "id": "87f5525a",
      "metadata": {
        "lines_to_next_cell": 2,
        "colab": {
          "base_uri": "https://localhost:8080/",
          "height": 69
        },
        "id": "87f5525a",
        "outputId": "99f36289-7063-4e99-c26e-b0aa78cb9c44"
      },
      "outputs": [
        {
          "output_type": "display_data",
          "data": {
            "text/plain": [
              "Eq(y(x), x/(C1 - log(x)))"
            ],
            "text/latex": "$\\displaystyle y{\\left(x \\right)} = \\frac{x}{C_{1} - \\log{\\left(x \\right)}}$"
          },
          "metadata": {}
        },
        {
          "output_type": "execute_result",
          "data": {
            "text/plain": [
              "(True, 0)"
            ]
          },
          "metadata": {},
          "execution_count": 116
        }
      ],
      "source": [
        "x = symbols(\"x\", real=True)\n",
        "y = symbols(\"y\", cls=Function)\n",
        "de = Eq(x**2 * y(x).diff(x) , y(x) * (x + y(x)))\n",
        "Y = dsolve(de, y(x))\n",
        "display(Y)\n",
        "\n",
        "checkodesol(de, Y)"
      ]
    },
    {
      "cell_type": "markdown",
      "id": "ace7ead5",
      "metadata": {
        "cell_marker": "\"\"\"",
        "id": "ace7ead5"
      },
      "source": [
        "# Exercise 3.4.4\n",
        "\n",
        "$y' + y = xy^3$"
      ]
    },
    {
      "cell_type": "code",
      "execution_count": null,
      "id": "02fcbf50",
      "metadata": {
        "lines_to_next_cell": 2,
        "colab": {
          "base_uri": "https://localhost:8080/",
          "height": 134
        },
        "id": "02fcbf50",
        "outputId": "f11b8443-eed1-4c4f-a879-c5f11a1d74f3"
      },
      "outputs": [
        {
          "output_type": "display_data",
          "data": {
            "text/plain": [
              "Eq(y(x), -sqrt(2)*sqrt(1/(C1*exp(2*x) + 2*x + 1)))"
            ],
            "text/latex": "$\\displaystyle y{\\left(x \\right)} = - \\sqrt{2} \\sqrt{\\frac{1}{C_{1} e^{2 x} + 2 x + 1}}$"
          },
          "metadata": {}
        },
        {
          "output_type": "display_data",
          "data": {
            "text/plain": [
              "<IPython.core.display.HTML object>"
            ],
            "text/html": [
              "<br/>"
            ]
          },
          "metadata": {}
        },
        {
          "output_type": "display_data",
          "data": {
            "text/plain": [
              "Eq(y(x), sqrt(2)*sqrt(1/(C1*exp(2*x) + 2*x + 1)))"
            ],
            "text/latex": "$\\displaystyle y{\\left(x \\right)} = \\sqrt{2} \\sqrt{\\frac{1}{C_{1} e^{2 x} + 2 x + 1}}$"
          },
          "metadata": {}
        },
        {
          "output_type": "execute_result",
          "data": {
            "text/plain": [
              "[(True, 0), (True, 0)]"
            ]
          },
          "metadata": {},
          "execution_count": 117
        }
      ],
      "source": [
        "x = symbols(\"x\", real=True)\n",
        "y = symbols(\"y\", cls=Function)\n",
        "de = Eq(y(x).diff(x) + y(x) , x * y(x)**3)\n",
        "Y = dsolve(de, y(x))\n",
        "display(Y[0])\n",
        "display(HTML(\"<br/>\"))\n",
        "display(Y[1])\n",
        "\n",
        "checkodesol(de, Y)"
      ]
    },
    {
      "cell_type": "markdown",
      "id": "988f27d8",
      "metadata": {
        "cell_marker": "\"\"\"",
        "id": "988f27d8"
      },
      "source": [
        "# Exercise 3.4.5\n",
        "\n",
        "$y' + x^3 \\sqrt{y} = 3y$"
      ]
    },
    {
      "cell_type": "code",
      "execution_count": null,
      "id": "72cd599b",
      "metadata": {
        "lines_to_next_cell": 2,
        "colab": {
          "base_uri": "https://localhost:8080/",
          "height": 180
        },
        "id": "72cd599b",
        "outputId": "191d9711-b35c-4cd8-d4c2-6b0a7b5e2b92"
      },
      "outputs": [
        {
          "output_type": "display_data",
          "data": {
            "text/plain": [
              "Eq(y(x), C1**2*exp(3*x) + 2*C1*x**3*exp(3*x/2)/3 + 4*C1*x**2*exp(3*x/2)/3 + 16*C1*x*exp(3*x/2)/9 + 32*C1*exp(3*x/2)/27 + x**6/9 + 4*x**5/9 + 28*x**4/27 + 128*x**3/81 + 128*x**2/81 + 256*x/243 + 256/729)"
            ],
            "text/latex": "$\\displaystyle y{\\left(x \\right)} = C_{1}^{2} e^{3 x} + \\frac{2 C_{1} x^{3} e^{\\frac{3 x}{2}}}{3} + \\frac{4 C_{1} x^{2} e^{\\frac{3 x}{2}}}{3} + \\frac{16 C_{1} x e^{\\frac{3 x}{2}}}{9} + \\frac{32 C_{1} e^{\\frac{3 x}{2}}}{27} + \\frac{x^{6}}{9} + \\frac{4 x^{5}}{9} + \\frac{28 x^{4}}{27} + \\frac{128 x^{3}}{81} + \\frac{128 x^{2}}{81} + \\frac{256 x}{243} + \\frac{256}{729}$"
          },
          "metadata": {}
        },
        {
          "output_type": "execute_result",
          "data": {
            "text/plain": [
              "(False,\n",
              " x**3*(27*C1*exp(3*x/2) + 9*x**3 + 18*x**2 + 24*x - sqrt(729*C1**2*exp(3*x) + 486*C1*x**3*exp(3*x/2) + 972*C1*x**2*exp(3*x/2) + 1296*C1*x*exp(3*x/2) + 864*C1*exp(3*x/2) + 81*x**6 + 324*x**5 + 756*x**4 + 1152*x**3 + 1152*x**2 + 768*x + 256) + 16))"
            ]
          },
          "metadata": {},
          "execution_count": 118
        }
      ],
      "source": [
        "x = symbols(\"x\", real=True)\n",
        "y = symbols(\"y\", cls=Function)\n",
        "de = Eq(y(x).diff(x) + x**3 * sqrt(y(x)) , 3 * y(x))\n",
        "Y = dsolve(de, y(x))\n",
        "display(Y)\n",
        "\n",
        "checkodesol(de, Y)"
      ]
    },
    {
      "cell_type": "markdown",
      "id": "62e5f571",
      "metadata": {
        "cell_marker": "\"\"\"",
        "id": "62e5f571"
      },
      "source": [
        "* Sympy gives a false solution.\n",
        "* MathDF also provides the same false solution\n",
        "* Something is wrong with this problem\n",
        "* Probably should be dropped ...\n",
        "* Later checked the `simplify` flag and sympy seems to\n",
        "  give a more reasonable solution (needs check)."
      ]
    },
    {
      "cell_type": "code",
      "execution_count": null,
      "id": "762f6cb7",
      "metadata": {
        "lines_to_next_cell": 2,
        "colab": {
          "base_uri": "https://localhost:8080/",
          "height": 68
        },
        "id": "762f6cb7",
        "outputId": "64d90e8a-0171-4f15-f85d-47e3986d857c"
      },
      "outputs": [
        {
          "output_type": "execute_result",
          "data": {
            "text/plain": [
              "Eq(sqrt(y(x)), (C1 + (18*x**3 + 36*x**2 + 48*x + 32)*exp(-3*x/2)/54)*exp(3*x/2))"
            ],
            "text/latex": "$\\displaystyle \\sqrt{y{\\left(x \\right)}} = \\left(C_{1} + \\frac{\\left(18 x^{3} + 36 x^{2} + 48 x + 32\\right) e^{- \\frac{3 x}{2}}}{54}\\right) e^{\\frac{3 x}{2}}$"
          },
          "metadata": {},
          "execution_count": 119
        }
      ],
      "source": [
        "dsolve(de, simplify=False)"
      ]
    },
    {
      "cell_type": "markdown",
      "id": "23bb86ee",
      "metadata": {
        "cell_marker": "\"\"\"",
        "id": "23bb86ee"
      },
      "source": [
        "# Exercise 3.4.6\n",
        "\n",
        "$y' + \\frac{y}{x} = x^2 y^2$"
      ]
    },
    {
      "cell_type": "code",
      "execution_count": null,
      "id": "e15e746a",
      "metadata": {
        "lines_to_next_cell": 2,
        "colab": {
          "base_uri": "https://localhost:8080/",
          "height": 73
        },
        "id": "e15e746a",
        "outputId": "903717f9-65ab-4efd-d838-f257a754ca71"
      },
      "outputs": [
        {
          "output_type": "display_data",
          "data": {
            "text/plain": [
              "Eq(y(x), 2/(x*(C1 - x**2)))"
            ],
            "text/latex": "$\\displaystyle y{\\left(x \\right)} = \\frac{2}{x \\left(C_{1} - x^{2}\\right)}$"
          },
          "metadata": {}
        },
        {
          "output_type": "execute_result",
          "data": {
            "text/plain": [
              "(True, 0)"
            ]
          },
          "metadata": {},
          "execution_count": 120
        }
      ],
      "source": [
        "x = symbols(\"x\", real=True)\n",
        "y = symbols(\"y\", cls=Function)\n",
        "de = Eq(y(x).diff(x) + y(x) / x , x**2 * y(x) **2)\n",
        "Y = dsolve(de, y(x))\n",
        "display(Y)\n",
        "\n",
        "checkodesol(de, Y)"
      ]
    },
    {
      "cell_type": "markdown",
      "id": "dadfc195",
      "metadata": {
        "cell_marker": "\"\"\"",
        "id": "dadfc195"
      },
      "source": [
        "# Exercise 3.4.7\n",
        "\n",
        "$(2-9xy^2)xdx + (4y^2-6x^3)ydy = 0$"
      ]
    },
    {
      "cell_type": "code",
      "execution_count": null,
      "id": "02c7c7e1",
      "metadata": {
        "lines_to_next_cell": 2,
        "id": "02c7c7e1"
      },
      "outputs": [],
      "source": [
        "x = symbols(\"x\", real=True)\n",
        "y = symbols(\"y\", cls=Function)\n",
        "de = Eq(( 2 - 9 * x * y(x) **2) * x + (4*y(x)**2 - 6 * x**3) * y(x) * y(x).diff(x) , 0)\n",
        "# Y = dsolve(de, y(x)) # Sympy 1.11.1 FAILED!\n",
        "# display(Y)           # Will wait for upgrade"
      ]
    },
    {
      "cell_type": "markdown",
      "id": "ef57ce44",
      "metadata": {
        "cell_marker": "\"\"\"",
        "id": "ef57ce44"
      },
      "source": [
        "* The simple call of `dsolve` does not work.\n",
        "* In some circimstances, users must help sympy with providing\n",
        "  a hint and ither flags:"
      ]
    },
    {
      "cell_type": "code",
      "execution_count": null,
      "id": "f8de7041",
      "metadata": {
        "lines_to_next_cell": 2,
        "colab": {
          "base_uri": "https://localhost:8080/",
          "height": 39
        },
        "id": "f8de7041",
        "outputId": "3122d719-536f-49fb-be58-994e5631a3e0"
      },
      "outputs": [
        {
          "output_type": "execute_result",
          "data": {
            "text/plain": [
              "Eq(-3*x**3*y(x)**2 + x**2 + y(x)**4, C1)"
            ],
            "text/latex": "$\\displaystyle - 3 x^{3} y^{2}{\\left(x \\right)} + x^{2} + y^{4}{\\left(x \\right)} = C_{1}$"
          },
          "metadata": {},
          "execution_count": 122
        }
      ],
      "source": [
        "dsolve(de, hint='1st_exact', simplify=False)"
      ]
    },
    {
      "cell_type": "markdown",
      "id": "19c08449",
      "metadata": {
        "cell_marker": "\"\"\"",
        "id": "19c08449"
      },
      "source": [
        "* MathDF gave a final solution is identical:\n",
        "\n",
        "$${y}^{4}-3\\,{x}^{3}\\,{y}^{2}=C-{x}^{2}$$\n",
        "\n",
        "* For a step-by-step-solution click:\n",
        "[**Link to a step-by-step solution**](\n",
        "https://mathdf.com/dif/#expr=(2-9xy%5E2)xd(x)%2B(4y%5E2-6x%5E3)yd(y)%3D0&func=y&arg=x)\n",
        "\n",
        "# Exercise 3.4.8\n",
        "\n",
        "$2(1+\\sqrt{x^2-y})xdx - \\sqrt{x^2-y}dy = 0$"
      ]
    },
    {
      "cell_type": "code",
      "execution_count": null,
      "id": "133fc8c5",
      "metadata": {
        "lines_to_next_cell": 2,
        "colab": {
          "base_uri": "https://localhost:8080/",
          "height": 157
        },
        "id": "133fc8c5",
        "outputId": "1446ae2a-fe66-46b6-a9e7-e15abaec6e53"
      },
      "outputs": [
        {
          "output_type": "display_data",
          "data": {
            "text/plain": [
              "Eq(y(x), x**2 + (-1 - sqrt(3)*I)*(-9*C1**2 - 9*C1*x**2 - 9*x**4/4)**(1/3)/2)"
            ],
            "text/latex": "$\\displaystyle y{\\left(x \\right)} = x^{2} + \\frac{\\left(-1 - \\sqrt{3} i\\right) \\sqrt[3]{- 9 C_{1}^{2} - 9 C_{1} x^{2} - \\frac{9 x^{4}}{4}}}{2}$"
          },
          "metadata": {}
        },
        {
          "output_type": "display_data",
          "data": {
            "text/plain": [
              "Eq(y(x), x**2 + (-1 + sqrt(3)*I)*(-9*C1**2 - 9*C1*x**2 - 9*x**4/4)**(1/3)/2)"
            ],
            "text/latex": "$\\displaystyle y{\\left(x \\right)} = x^{2} + \\frac{\\left(-1 + \\sqrt{3} i\\right) \\sqrt[3]{- 9 C_{1}^{2} - 9 C_{1} x^{2} - \\frac{9 x^{4}}{4}}}{2}$"
          },
          "metadata": {}
        },
        {
          "output_type": "display_data",
          "data": {
            "text/plain": [
              "Eq(y(x), x**2 + (-9*C1**2 - 9*C1*x**2 - 9*x**4/4)**(1/3))"
            ],
            "text/latex": "$\\displaystyle y{\\left(x \\right)} = x^{2} + \\sqrt[3]{- 9 C_{1}^{2} - 9 C_{1} x^{2} - \\frac{9 x^{4}}{4}}$"
          },
          "metadata": {}
        }
      ],
      "source": [
        "x = symbols(\"x\", real=True)\n",
        "y = symbols(\"y\", cls=Function)\n",
        "de = Eq(2 * (1 + sqrt(x**2 - y(x))) * x - sqrt(x**2 - y(x)) * y(x).diff(x) , 0)\n",
        "Y = dsolve(de, y(x))  # Sympy 1.11.1 seems to give two complex solution and one real\n",
        "display(Y[0])           # Will wait for upgrade\n",
        "display(Y[1])\n",
        "display(Y[2])"
      ]
    },
    {
      "cell_type": "markdown",
      "id": "679eb253",
      "metadata": {
        "cell_marker": "\"\"\"",
        "id": "679eb253"
      },
      "source": [
        "* To get an implicit solution we need to supply two more\n",
        "  flags to the **dsolve** call:"
      ]
    },
    {
      "cell_type": "code",
      "execution_count": null,
      "id": "43c7e185",
      "metadata": {
        "lines_to_next_cell": 2,
        "colab": {
          "base_uri": "https://localhost:8080/",
          "height": 56
        },
        "id": "43c7e185",
        "outputId": "5bd22267-c05c-46c9-ccd1-6b559f3ef904"
      },
      "outputs": [
        {
          "output_type": "execute_result",
          "data": {
            "text/plain": [
              "Eq(2*x**2*sqrt(x**2 - y(x))/3 + x**2 - 2*sqrt(x**2 - y(x))*y(x)/3, C1)"
            ],
            "text/latex": "$\\displaystyle \\frac{2 x^{2} \\sqrt{x^{2} - y{\\left(x \\right)}}}{3} + x^{2} - \\frac{2 \\sqrt{x^{2} - y{\\left(x \\right)}} y{\\left(x \\right)}}{3} = C_{1}$"
          },
          "metadata": {},
          "execution_count": 124
        }
      ],
      "source": [
        "dsolve(de, hint=\"1st_exact\", simplify=False)"
      ]
    },
    {
      "cell_type": "markdown",
      "id": "054dd3f0",
      "metadata": {
        "cell_marker": "\"\"\"",
        "id": "054dd3f0"
      },
      "source": [
        "* MathDF gave an implicit final solution which seems identical:\n",
        "$$\n",
        "2y\\,\\sqrt{{x}^{2}-y} - 2\\,{x}^{2}\\,\\sqrt{{x}^{2}-y}=3\\,{x}^{2}+C\n",
        "$$\n",
        "* For a step-by-step-solution click:\n",
        "[**Link to a step-by-step solution**](\n",
        "https://mathdf.com/dif/#expr=2(1%2Bsqrt(x%5E2-y))xd(x)-sqrt(x%5E2-y)d(y)%3D0&func=y&arg=x)\n",
        "\n",
        "# Exercise 3.4.9\n",
        "\n",
        "$(1 + y^2\\sin 2x)dx - 2y\\cos^2 x\\, dy = 0$"
      ]
    },
    {
      "cell_type": "code",
      "execution_count": null,
      "id": "0ae8879a",
      "metadata": {
        "lines_to_next_cell": 2,
        "colab": {
          "base_uri": "https://localhost:8080/",
          "height": 135
        },
        "id": "0ae8879a",
        "outputId": "fd7556ff-a421-4e71-cc69-d0a81dac61ad"
      },
      "outputs": [
        {
          "output_type": "display_data",
          "data": {
            "text/plain": [
              "Eq(y(x), -sqrt(C1 + x)/cos(x))"
            ],
            "text/latex": "$\\displaystyle y{\\left(x \\right)} = - \\frac{\\sqrt{C_{1} + x}}{\\cos{\\left(x \\right)}}$"
          },
          "metadata": {}
        },
        {
          "output_type": "display_data",
          "data": {
            "text/plain": [
              "<IPython.core.display.HTML object>"
            ],
            "text/html": [
              "<br/>"
            ]
          },
          "metadata": {}
        },
        {
          "output_type": "display_data",
          "data": {
            "text/plain": [
              "Eq(y(x), sqrt(C1 + x)/cos(x))"
            ],
            "text/latex": "$\\displaystyle y{\\left(x \\right)} = \\frac{\\sqrt{C_{1} + x}}{\\cos{\\left(x \\right)}}$"
          },
          "metadata": {}
        },
        {
          "output_type": "execute_result",
          "data": {
            "text/plain": [
              "[(True, 0), (True, 0)]"
            ]
          },
          "metadata": {},
          "execution_count": 125
        }
      ],
      "source": [
        "x = symbols(\"x\", real=True)\n",
        "y = symbols(\"y\", cls=Function)\n",
        "de = Eq(1 + y(x)**2 * sin(2*x) - 2*y(x)*cos(x)**2 * y(x).diff(x) , 0)\n",
        "Y = dsolve(de, y(x))\n",
        "display(Y[0])\n",
        "display(HTML(\"<br/>\"))\n",
        "display(Y[1])\n",
        "\n",
        "checkodesol(de, Y)"
      ]
    },
    {
      "cell_type": "markdown",
      "id": "c4be298b",
      "metadata": {
        "cell_marker": "\"\"\"",
        "id": "c4be298b"
      },
      "source": [
        "# Exercise 3.4.10\n",
        "\n",
        "$\\frac{2xdx}{y^3} + \\frac{y^2-3x^2}{y^4}dy = 0$"
      ]
    },
    {
      "cell_type": "code",
      "execution_count": null,
      "id": "2a4f0197",
      "metadata": {
        "lines_to_next_cell": 2,
        "id": "2a4f0197"
      },
      "outputs": [],
      "source": [
        "x = symbols(\"x\", real=True)\n",
        "y = symbols(\"y\", cls=Function)\n",
        "de = Eq(2*x/y(x)**3 + (y(x)**2 - 3*x**2)/y(x)**4 * y(x).diff(x) , 0)\n",
        "#Y = dsolve(de, y(x) , hint='1st_exact') # Sympy 1.11.1 Hangs for too much time!\n",
        "#display(Y)"
      ]
    },
    {
      "cell_type": "markdown",
      "id": "1b3ad91b",
      "metadata": {
        "cell_marker": "\"\"\"",
        "id": "1b3ad91b"
      },
      "source": [
        "* Sympy 1.11.1 failed (hangs).\n",
        "* MathDF gave a final solution:\n",
        "$$\n",
        "\\dfrac{x}{y}-\\dfrac{{x}^{3}}{{y}^{3}}=C\\,x\n",
        "$$\n",
        "\n",
        "* For a step-by-step-solution click:\n",
        "[**Link to a step-by-step solution**](\n",
        "https://mathdf.com/dif/#expr=(2xd(x))%2F(y%5E3)%2B(y%5E2-3x%5E2)%2F(y%5E4)d(y)%3D0&func=y&arg=x)\n",
        "\n",
        "# Exercise 3.4.11\n",
        "\n",
        "$xdx + ydy = \\frac{xdy - ydx}{x^2 + y^2}$"
      ]
    },
    {
      "cell_type": "code",
      "execution_count": null,
      "id": "b9808c97",
      "metadata": {
        "lines_to_next_cell": 2,
        "colab": {
          "base_uri": "https://localhost:8080/",
          "height": 54
        },
        "id": "b9808c97",
        "outputId": "d685d45a-0788-4884-8596-07cff0933c40"
      },
      "outputs": [
        {
          "output_type": "display_data",
          "data": {
            "text/plain": [
              "Eq(x**2/2 + y(x)**2/2 - I*log(x - I*y(x))/2 + I*log(x + I*y(x))/2, C1)"
            ],
            "text/latex": "$\\displaystyle \\frac{x^{2}}{2} + \\frac{y^{2}{\\left(x \\right)}}{2} - \\frac{i \\log{\\left(x - i y{\\left(x \\right)} \\right)}}{2} + \\frac{i \\log{\\left(x + i y{\\left(x \\right)} \\right)}}{2} = C_{1}$"
          },
          "metadata": {}
        }
      ],
      "source": [
        "x = symbols(\"x\", real=True)\n",
        "y = symbols(\"y\", cls=Function)\n",
        "de = Eq(x + y(x) * y(x).diff(x) , (x * y(x).diff(x) - y(x)) / (x**2 + y(x)**2))\n",
        "Y = dsolve(de, y(x), hint='1st_exact', simplify=False)\n",
        "display(Y)"
      ]
    },
    {
      "cell_type": "markdown",
      "id": "b021ead2",
      "metadata": {
        "cell_marker": "\"\"\"",
        "id": "b021ead2"
      },
      "source": [
        "* Sympy 1.11.1 gave a complex implicit solution which is difficult to check if it is OK.\n",
        "* MathDF gave a final solution:\n",
        "$$\n",
        "\\dfrac{{y}^{2}}{2}+\\arctan\\left(\\frac{x}{y}\\right)=C-\\dfrac{{x}^{2}}{2}$$\n",
        "\n",
        "* For a step-by-step-solution click:\n",
        "[**Link to a step-by-step solution**](\n",
        "https://mathdf.com/dif/#expr=xd(x)%2Byd(y)%3D(xd(y)-yd(x))%2F(x%5E2%2By%5E2)&func=y&arg=x)\n",
        "\n",
        "# Exercise 3.4.12\n",
        "\n",
        "$\\left(y+\\dfrac{1}{1+x^2}\\right)dx + \\left(x - \\dfrac{1}{1+y^2}\\right)dy = 0$"
      ]
    },
    {
      "cell_type": "code",
      "execution_count": null,
      "id": "a510ed3c",
      "metadata": {
        "lines_to_next_cell": 2,
        "colab": {
          "base_uri": "https://localhost:8080/",
          "height": 53
        },
        "id": "a510ed3c",
        "outputId": "68eb7a56-51dd-4f31-88c4-d617ea873772"
      },
      "outputs": [
        {
          "output_type": "display_data",
          "data": {
            "text/plain": [
              "Eq(x*y(x) - I*log(x - I)/2 + I*log(x + I)/2 - atan(y(x)), C1)"
            ],
            "text/latex": "$\\displaystyle x y{\\left(x \\right)} - \\frac{i \\log{\\left(x - i \\right)}}{2} + \\frac{i \\log{\\left(x + i \\right)}}{2} - \\operatorname{atan}{\\left(y{\\left(x \\right)} \\right)} = C_{1}$"
          },
          "metadata": {}
        }
      ],
      "source": [
        "x = symbols(\"x\", real=True)\n",
        "y = symbols(\"y\", cls=Function)\n",
        "de = Eq(y(x) + 1 / (1+x**2) + (x - 1/(1+y(x)**2)) * y(x).diff(x), 0)\n",
        "Y = dsolve(de, y(x), hint='1st_exact')\n",
        "display(Y)"
      ]
    },
    {
      "cell_type": "markdown",
      "id": "74b48ae3",
      "metadata": {
        "cell_marker": "\"\"\"",
        "id": "74b48ae3"
      },
      "source": [
        "* Sympy 1.11.1 gave a complex solution which is hard to\n",
        "  check (not yet implemented in sympy).\n",
        "* MathDF gave a final implicit solution:\n",
        "$$\n",
        "x\\,y-\\arctan\\left(y\\right)=C-\\arctan\\left(x\\right)\n",
        "$$\n",
        "\n",
        "* For a step-by-step-solution click:\n",
        "[**Link to a step-by-step solution**](\n",
        "https://mathdf.com/dif/#expr=(y%2B(1)%2F(1%2Bx%5E2))d(x)%2B(x-(1)%2F(1%2By%5E2))d(y)%3D0&func=y&arg=x)\n",
        "\n",
        "# Exercise 3.4.13\n",
        "\n",
        "$xy' - 2x^2\\sqrt{y} = 4y$"
      ]
    },
    {
      "cell_type": "code",
      "execution_count": null,
      "id": "aa4b1138",
      "metadata": {
        "lines_to_next_cell": 2,
        "colab": {
          "base_uri": "https://localhost:8080/",
          "height": 65
        },
        "id": "aa4b1138",
        "outputId": "a8b0ac6d-e7b8-422d-c388-d61eac48d912"
      },
      "outputs": [
        {
          "output_type": "display_data",
          "data": {
            "text/plain": [
              "Eq(y(x), x**4*(C1**2 + 2*C1*log(x) + log(x)**2))"
            ],
            "text/latex": "$\\displaystyle y{\\left(x \\right)} = x^{4} \\left(C_{1}^{2} + 2 C_{1} \\log{\\left(x \\right)} + \\log{\\left(x \\right)}^{2}\\right)$"
          },
          "metadata": {}
        },
        {
          "output_type": "execute_result",
          "data": {
            "text/plain": [
              "(False, 2*x**4*(-C1 + sqrt(C1**2 + 2*C1*log(x) + log(x)**2) - log(x)))"
            ]
          },
          "metadata": {},
          "execution_count": 129
        }
      ],
      "source": [
        "x = symbols(\"x\", real=True)\n",
        "y = symbols(\"y\", cls=Function)\n",
        "de = Eq(x * y(x).diff(x) - 2*x**2 * sqrt(y(x)) , 4 * y(x))\n",
        "Y = dsolve(de, simplify=False)\n",
        "display(Y)\n",
        "\n",
        "checkodesol(de, Y)"
      ]
    },
    {
      "cell_type": "markdown",
      "id": "fc4d4155",
      "metadata": {
        "cell_marker": "\"\"\"",
        "id": "fc4d4155"
      },
      "source": [
        "* Sympy 1.11.1 gave a complex solution which is hard to\n",
        "  check (not yet implemented in sympy).\n",
        "* MathDF gave a final implicit solution:\n",
        "$$\n",
        "y={x}^{4}\\,\\ln^{2}\\left(x\\right)+2\\,C\\,{x}^{4}\\,\\ln\\left(x\\right)+{C}^{2}\\,{x}^{4},\\;\\,y=0\n",
        "$$\n",
        "\n",
        "* For a step-by-step-solution click:\n",
        "[**Link to a step-by-step solution**](\n",
        "https://mathdf.com/dif/#expr=xy'-2x%5E2sqrt(y)%3D4y&func=y&arg=x)\n",
        "\n",
        "# Exercise 3.4.14\n",
        "\n",
        "$xy^2y' = x^2 + y^3$"
      ]
    },
    {
      "cell_type": "code",
      "execution_count": null,
      "id": "0ae43701",
      "metadata": {
        "lines_to_next_cell": 2,
        "colab": {
          "base_uri": "https://localhost:8080/",
          "height": 180
        },
        "id": "0ae43701",
        "outputId": "83906cf5-60c0-4a67-d1aa-751ea093a6b9"
      },
      "outputs": [
        {
          "output_type": "display_data",
          "data": {
            "text/plain": [
              "Eq(y(x), (C1*x - 3)**(1/3)*Abs(x)**(2/3))"
            ],
            "text/latex": "$\\displaystyle y{\\left(x \\right)} = \\sqrt[3]{C_{1} x - 3} \\left|{x}\\right|^{\\frac{2}{3}}$"
          },
          "metadata": {}
        },
        {
          "output_type": "display_data",
          "data": {
            "text/plain": [
              "<IPython.core.display.HTML object>"
            ],
            "text/html": [
              "<br/>"
            ]
          },
          "metadata": {}
        },
        {
          "output_type": "display_data",
          "data": {
            "text/plain": [
              "Eq(y(x), (-1 - sqrt(3)*I)*(C1*x - 3)**(1/3)*Abs(x)**(2/3)/2)"
            ],
            "text/latex": "$\\displaystyle y{\\left(x \\right)} = \\frac{\\left(-1 - \\sqrt{3} i\\right) \\sqrt[3]{C_{1} x - 3} \\left|{x}\\right|^{\\frac{2}{3}}}{2}$"
          },
          "metadata": {}
        },
        {
          "output_type": "display_data",
          "data": {
            "text/plain": [
              "<IPython.core.display.HTML object>"
            ],
            "text/html": [
              "<br/>"
            ]
          },
          "metadata": {}
        },
        {
          "output_type": "display_data",
          "data": {
            "text/plain": [
              "Eq(y(x), (-1 + sqrt(3)*I)*(C1*x - 3)**(1/3)*Abs(x)**(2/3)/2)"
            ],
            "text/latex": "$\\displaystyle y{\\left(x \\right)} = \\frac{\\left(-1 + \\sqrt{3} i\\right) \\sqrt[3]{C_{1} x - 3} \\left|{x}\\right|^{\\frac{2}{3}}}{2}$"
          },
          "metadata": {}
        },
        {
          "output_type": "execute_result",
          "data": {
            "text/plain": [
              "[(True, 0), (True, 0), (True, 0)]"
            ]
          },
          "metadata": {},
          "execution_count": 130
        }
      ],
      "source": [
        "x = symbols(\"x\", real=True)\n",
        "y = symbols(\"y\", cls=Function)\n",
        "de = Eq(x * y(x)**2 * y(x).diff(x) , x**2 + y(x)**3)\n",
        "Y = dsolve(de, y(x))\n",
        "display(Y[0])\n",
        "display(HTML('<br/>'))\n",
        "display(Y[1])\n",
        "display(HTML('<br/>'))\n",
        "display(Y[2])\n",
        "\n",
        "checkodesol(de, Y)"
      ]
    },
    {
      "cell_type": "markdown",
      "id": "c5bd7396",
      "metadata": {
        "cell_marker": "\"\"\"",
        "id": "c5bd7396"
      },
      "source": [
        "# Exercise 3.4.15\n",
        "\n",
        "$(x+1)(yy'-1) = y^2$"
      ]
    },
    {
      "cell_type": "code",
      "execution_count": null,
      "id": "346695ed",
      "metadata": {
        "lines_to_next_cell": 2,
        "colab": {
          "base_uri": "https://localhost:8080/",
          "height": 100
        },
        "id": "346695ed",
        "outputId": "de091470-c902-41c9-d694-ba9ecddc5fc6"
      },
      "outputs": [
        {
          "output_type": "display_data",
          "data": {
            "text/plain": [
              "Eq(y(x), -sqrt(C1*x**2 + 2*C1*x + C1 - 2*x - 2))"
            ],
            "text/latex": "$\\displaystyle y{\\left(x \\right)} = - \\sqrt{C_{1} x^{2} + 2 C_{1} x + C_{1} - 2 x - 2}$"
          },
          "metadata": {}
        },
        {
          "output_type": "display_data",
          "data": {
            "text/plain": [
              "<IPython.core.display.HTML object>"
            ],
            "text/html": [
              "<br/>"
            ]
          },
          "metadata": {}
        },
        {
          "output_type": "display_data",
          "data": {
            "text/plain": [
              "Eq(y(x), sqrt(C1*x**2 + 2*C1*x + C1 - 2*x - 2))"
            ],
            "text/latex": "$\\displaystyle y{\\left(x \\right)} = \\sqrt{C_{1} x^{2} + 2 C_{1} x + C_{1} - 2 x - 2}$"
          },
          "metadata": {}
        },
        {
          "output_type": "execute_result",
          "data": {
            "text/plain": [
              "[(True, 0), (True, 0)]"
            ]
          },
          "metadata": {},
          "execution_count": 131
        }
      ],
      "source": [
        "x = symbols(\"x\", real=True)\n",
        "y = symbols(\"y\", cls=Function)\n",
        "de = Eq((x + 1) * (y(x) * y(x).diff(x) - 1) , y(x)**2)\n",
        "Y = dsolve(de, y(x))\n",
        "display(Y[0])\n",
        "display(HTML('<br/>'))\n",
        "display(Y[1])\n",
        "\n",
        "checkodesol(de, Y)"
      ]
    },
    {
      "cell_type": "markdown",
      "id": "f2af9789",
      "metadata": {
        "cell_marker": "\"\"\"",
        "id": "f2af9789"
      },
      "source": [
        "# Exercise 3.5.1\n",
        "\n",
        "$(x+y^2)dx - 2xydy = 0$"
      ]
    },
    {
      "cell_type": "code",
      "execution_count": null,
      "id": "4714a00c",
      "metadata": {
        "lines_to_next_cell": 2,
        "colab": {
          "base_uri": "https://localhost:8080/",
          "height": 98
        },
        "id": "4714a00c",
        "outputId": "ccbb7420-31f9-4705-d55f-91413d0121cd"
      },
      "outputs": [
        {
          "output_type": "display_data",
          "data": {
            "text/plain": [
              "Eq(y(x), -sqrt(x*(C1 + log(x))))"
            ],
            "text/latex": "$\\displaystyle y{\\left(x \\right)} = - \\sqrt{x \\left(C_{1} + \\log{\\left(x \\right)}\\right)}$"
          },
          "metadata": {}
        },
        {
          "output_type": "display_data",
          "data": {
            "text/plain": [
              "<IPython.core.display.HTML object>"
            ],
            "text/html": [
              "<br/>"
            ]
          },
          "metadata": {}
        },
        {
          "output_type": "display_data",
          "data": {
            "text/plain": [
              "Eq(y(x), sqrt(x*(C1 + log(x))))"
            ],
            "text/latex": "$\\displaystyle y{\\left(x \\right)} = \\sqrt{x \\left(C_{1} + \\log{\\left(x \\right)}\\right)}$"
          },
          "metadata": {}
        },
        {
          "output_type": "execute_result",
          "data": {
            "text/plain": [
              "[(True, 0), (True, 0)]"
            ]
          },
          "metadata": {},
          "execution_count": 132
        }
      ],
      "source": [
        "x = symbols(\"x\", real=True)\n",
        "y = symbols(\"y\", cls=Function)\n",
        "de = Eq(x + y(x)**2 - 2*x*y(x)*y(x).diff(x) , 0)\n",
        "Y = dsolve(de, y(x))\n",
        "display(Y[0])\n",
        "display(HTML('<br/>'))\n",
        "display(Y[1])\n",
        "\n",
        "checkodesol(de, Y)"
      ]
    },
    {
      "cell_type": "markdown",
      "id": "bd72057d",
      "metadata": {
        "cell_marker": "\"\"\"",
        "id": "bd72057d"
      },
      "source": [
        "# Exercise 3.5.2\n",
        "\n",
        "$(x^2 + y^2 + x)dx + ydy=0$"
      ]
    },
    {
      "cell_type": "code",
      "execution_count": null,
      "id": "08fe1cd9",
      "metadata": {
        "lines_to_next_cell": 2,
        "colab": {
          "base_uri": "https://localhost:8080/",
          "height": 100
        },
        "id": "08fe1cd9",
        "outputId": "0de71f8d-38a3-41dc-db2e-6b26abb9ceb8"
      },
      "outputs": [
        {
          "output_type": "display_data",
          "data": {
            "text/plain": [
              "Eq(y(x), -sqrt(C1 - x**2*exp(2*x))*exp(-x))"
            ],
            "text/latex": "$\\displaystyle y{\\left(x \\right)} = - \\sqrt{C_{1} - x^{2} e^{2 x}} e^{- x}$"
          },
          "metadata": {}
        },
        {
          "output_type": "display_data",
          "data": {
            "text/plain": [
              "<IPython.core.display.HTML object>"
            ],
            "text/html": [
              "<br/>"
            ]
          },
          "metadata": {}
        },
        {
          "output_type": "display_data",
          "data": {
            "text/plain": [
              "Eq(y(x), sqrt(C1 - x**2*exp(2*x))*exp(-x))"
            ],
            "text/latex": "$\\displaystyle y{\\left(x \\right)} = \\sqrt{C_{1} - x^{2} e^{2 x}} e^{- x}$"
          },
          "metadata": {}
        },
        {
          "output_type": "execute_result",
          "data": {
            "text/plain": [
              "[(True, 0), (True, 0)]"
            ]
          },
          "metadata": {},
          "execution_count": 133
        }
      ],
      "source": [
        "x = symbols(\"x\", real=True)\n",
        "y = symbols(\"y\", cls=Function)\n",
        "de = Eq(x**2 + y(x)**2 + x + y(x) * y(x).diff(x) , 0)\n",
        "Y = dsolve(de, y(x))\n",
        "display(Y[0])\n",
        "display(HTML('<br/>'))\n",
        "display(Y[1])\n",
        "\n",
        "checkodesol(de, Y)"
      ]
    },
    {
      "cell_type": "markdown",
      "id": "053ffb9e",
      "metadata": {
        "cell_marker": "\"\"\"",
        "id": "053ffb9e"
      },
      "source": [
        "# Exercise 3.5.3\n",
        "\n",
        "$y(1+xy)dx - xdy = 0$"
      ]
    },
    {
      "cell_type": "code",
      "execution_count": null,
      "id": "dd042f2e",
      "metadata": {
        "lines_to_next_cell": 2,
        "colab": {
          "base_uri": "https://localhost:8080/",
          "height": 71
        },
        "id": "dd042f2e",
        "outputId": "19a08e57-a9f1-426b-b53d-149d8aad0f19"
      },
      "outputs": [
        {
          "output_type": "display_data",
          "data": {
            "text/plain": [
              "Eq(y(x), 2*x/(C1 - x**2))"
            ],
            "text/latex": "$\\displaystyle y{\\left(x \\right)} = \\frac{2 x}{C_{1} - x^{2}}$"
          },
          "metadata": {}
        },
        {
          "output_type": "execute_result",
          "data": {
            "text/plain": [
              "(True, 0)"
            ]
          },
          "metadata": {},
          "execution_count": 134
        }
      ],
      "source": [
        "x = symbols(\"x\", real=True)\n",
        "y = symbols(\"y\", cls=Function)\n",
        "de = Eq(y(x) * (1 + x*y(x)) - x * y(x).diff(x) , 0)\n",
        "Y = dsolve(de, y(x))\n",
        "display(Y)\n",
        "\n",
        "checkodesol(de, Y)"
      ]
    },
    {
      "cell_type": "markdown",
      "id": "c0e200da",
      "metadata": {
        "cell_marker": "\"\"\"",
        "id": "c0e200da"
      },
      "source": [
        "# Exercise 3.5.4\n",
        "\n",
        "$(x^2y - 1)dx + (x^3 + x^2\\cos y) dy = 0$"
      ]
    },
    {
      "cell_type": "code",
      "execution_count": null,
      "id": "74a3a5d8",
      "metadata": {
        "lines_to_next_cell": 2,
        "colab": {
          "base_uri": "https://localhost:8080/",
          "height": 51
        },
        "id": "74a3a5d8",
        "outputId": "a8d2baa0-2ddc-4136-83ae-00769ddc15f7"
      },
      "outputs": [
        {
          "output_type": "display_data",
          "data": {
            "text/plain": [
              "Eq(x*y(x) + sin(y(x)) + 1/x, C1)"
            ],
            "text/latex": "$\\displaystyle x y{\\left(x \\right)} + \\sin{\\left(y{\\left(x \\right)} \\right)} + \\frac{1}{x} = C_{1}$"
          },
          "metadata": {}
        }
      ],
      "source": [
        "x = symbols(\"x\", real=True)\n",
        "y = symbols(\"y\", cls=Function)\n",
        "de = Eq(x**2 * y(x) -1 + (x**3 + x**2 * cos(y(x))) * y(x).diff(x) , 0)\n",
        "Y = dsolve(de, y(x), hint='1st_exact')\n",
        "display(Y)"
      ]
    },
    {
      "cell_type": "markdown",
      "id": "55797bd9",
      "metadata": {
        "cell_marker": "\"\"\"",
        "id": "55797bd9"
      },
      "source": [
        "# Exercise 3.5.5\n",
        "\n",
        "$(2xy\\ln y + y^2 \\cos x)dx + (x^2 + y\\sin x)dy = 0$"
      ]
    },
    {
      "cell_type": "code",
      "execution_count": null,
      "id": "68a03af7",
      "metadata": {
        "lines_to_next_cell": 2,
        "id": "68a03af7"
      },
      "outputs": [],
      "source": [
        "x = symbols(\"x\", real=True)\n",
        "y = symbols(\"y\", cls=Function)\n",
        "de = Eq(2 * x * log(y(x)) + y(x)**2 * cos(x) + (x**2 + y(x)*sin(x)) * y(x).diff(x) , 0)\n",
        "#Y = dsolve(de, simplify=False)\n",
        "#display(Y)"
      ]
    },
    {
      "cell_type": "markdown",
      "id": "5a058b48",
      "metadata": {
        "cell_marker": "\"\"\"",
        "id": "5a058b48"
      },
      "source": [
        "* Sympy 1.11.1 fails in this case.\n",
        "* MathDF gave a final implicit solution:\n",
        "$$\n",
        "{x}^{2}\\,\\ln\\left(y\\right)+\\sin\\left(x\\right)\\,y=C\n",
        "$$\n",
        "\n",
        "* For a step-by-step-solution click:\n",
        "[**Link to a step-by-step solution**](\n",
        "https://mathdf.com/dif/#expr=(2xyln(y)%2By%5E2cos(x))d(x)%2B(x%5E2%2Bysin(x))d(y)%3D0&func=y&arg=x)\n",
        "\n",
        "# Exercise 3.7.1\n",
        "\n",
        "$(x+y)y'=y$"
      ]
    },
    {
      "cell_type": "code",
      "execution_count": null,
      "id": "897fe7cb",
      "metadata": {
        "lines_to_next_cell": 2,
        "colab": {
          "base_uri": "https://localhost:8080/",
          "height": 95
        },
        "id": "897fe7cb",
        "outputId": "6e54200a-15bb-4f62-ad66-d9a6c483b3a4"
      },
      "outputs": [
        {
          "output_type": "display_data",
          "data": {
            "text/plain": [
              "Eq(y(x), exp(C1 + LambertW(x*exp(-C1))))"
            ],
            "text/latex": "$\\displaystyle y{\\left(x \\right)} = e^{C_{1} + W\\left(x e^{- C_{1}}\\right)}$"
          },
          "metadata": {}
        },
        {
          "output_type": "execute_result",
          "data": {
            "text/plain": [
              "(False,\n",
              " (x - exp(C1 + LambertW(x*exp(-C1)))*LambertW(x*exp(-C1)))*exp(C1 + LambertW(x*exp(-C1))))"
            ]
          },
          "metadata": {},
          "execution_count": 137
        }
      ],
      "source": [
        "x = symbols(\"x\", real=True)\n",
        "y = symbols(\"y\", cls=Function)\n",
        "de = Eq((x + y(x)) * y(x).diff(x) , y(x))\n",
        "Y = dsolve(de, y(x))\n",
        "display(Y)\n",
        "\n",
        "checkodesol(de, Y)"
      ]
    },
    {
      "cell_type": "markdown",
      "id": "e191a3d4",
      "metadata": {
        "cell_marker": "\"\"\"",
        "id": "e191a3d4"
      },
      "source": [
        "* Sympy 1.11.1 solution is not clear.\n",
        "* MathDF gave a final implicit solution:\n",
        "$$\n",
        "\\dfrac{x}{y}-\\ln\\left(y\\right)=C,\\;\\,y=0\n",
        "$$\n",
        "\n",
        "* For a step-by-step-solution click:\n",
        "[**Link to a step-by-step solution**](\n",
        "https://mathdf.com/dif/#expr=(x%2By)y'%3Dy&func=y&arg=x)\n",
        "\n",
        "# Exercise 3.7.2\n",
        "\n",
        "$(x-2)y'=y^2$"
      ]
    },
    {
      "cell_type": "code",
      "execution_count": null,
      "id": "5aee9c04",
      "metadata": {
        "lines_to_next_cell": 2,
        "colab": {
          "base_uri": "https://localhost:8080/",
          "height": 73
        },
        "id": "5aee9c04",
        "outputId": "d43cbac4-ee9f-4a5e-da86-f6d7000b4632"
      },
      "outputs": [
        {
          "output_type": "display_data",
          "data": {
            "text/plain": [
              "Eq(y(x), -1/(C1 + log(x - 2)))"
            ],
            "text/latex": "$\\displaystyle y{\\left(x \\right)} = - \\frac{1}{C_{1} + \\log{\\left(x - 2 \\right)}}$"
          },
          "metadata": {}
        },
        {
          "output_type": "execute_result",
          "data": {
            "text/plain": [
              "(True, 0)"
            ]
          },
          "metadata": {},
          "execution_count": 138
        }
      ],
      "source": [
        "x = symbols(\"x\", real=True)\n",
        "y = symbols(\"y\", cls=Function)\n",
        "de = Eq((x - 2) * y(x).diff(x) , y(x)**2)\n",
        "Y = dsolve(de, y(x))\n",
        "display(Y)\n",
        "\n",
        "checkodesol(de, Y)"
      ]
    },
    {
      "cell_type": "markdown",
      "id": "89d662c8",
      "metadata": {
        "cell_marker": "\"\"\"",
        "id": "89d662c8"
      },
      "source": [
        "# Exercise 3.7.3\n",
        "\n",
        "$y'=2xy+x$"
      ]
    },
    {
      "cell_type": "code",
      "execution_count": null,
      "id": "9ccb9ab5",
      "metadata": {
        "lines_to_next_cell": 2,
        "colab": {
          "base_uri": "https://localhost:8080/",
          "height": 68
        },
        "id": "9ccb9ab5",
        "outputId": "55bce73f-4532-4964-f012-19f05534b494"
      },
      "outputs": [
        {
          "output_type": "display_data",
          "data": {
            "text/plain": [
              "Eq(y(x), C1*exp(x**2) - 1/2)"
            ],
            "text/latex": "$\\displaystyle y{\\left(x \\right)} = C_{1} e^{x^{2}} - \\frac{1}{2}$"
          },
          "metadata": {}
        },
        {
          "output_type": "execute_result",
          "data": {
            "text/plain": [
              "(True, 0)"
            ]
          },
          "metadata": {},
          "execution_count": 139
        }
      ],
      "source": [
        "x = symbols(\"x\", real=True)\n",
        "y = symbols(\"y\", cls=Function)\n",
        "de = Eq(y(x).diff(x) , 2*x*y(x) + x)\n",
        "Y = dsolve(de, y(x))\n",
        "display(Y)\n",
        "\n",
        "checkodesol(de, Y)"
      ]
    },
    {
      "cell_type": "markdown",
      "id": "8007615a",
      "metadata": {
        "cell_marker": "\"\"\"",
        "id": "8007615a"
      },
      "source": [
        "# Exercise 3.7.4\n",
        "\n",
        "$(x^2 + 2xy^3)dx + (y^2 + 3x^2y^2)dy = 0$"
      ]
    },
    {
      "cell_type": "code",
      "execution_count": null,
      "id": "6a9c21a5",
      "metadata": {
        "lines_to_next_cell": 2,
        "colab": {
          "base_uri": "https://localhost:8080/",
          "height": 164
        },
        "id": "6a9c21a5",
        "outputId": "bd8b33ad-f6ba-4c50-ca1a-2d6262c35147"
      },
      "outputs": [
        {
          "output_type": "display_data",
          "data": {
            "text/plain": [
              "Eq(y(x), (C1 - x**3)**(1/3)/(3*x**2 + 1)**(1/3))"
            ],
            "text/latex": "$\\displaystyle y{\\left(x \\right)} = \\frac{\\sqrt[3]{C_{1} - x^{3}}}{\\sqrt[3]{3 x^{2} + 1}}$"
          },
          "metadata": {}
        },
        {
          "output_type": "display_data",
          "data": {
            "text/plain": [
              "Eq(y(x), (-1 - sqrt(3)*I)*(C1 - x**3)**(1/3)/(2*(3*x**2 + 1)**(1/3)))"
            ],
            "text/latex": "$\\displaystyle y{\\left(x \\right)} = \\frac{\\left(-1 - \\sqrt{3} i\\right) \\sqrt[3]{C_{1} - x^{3}}}{2 \\sqrt[3]{3 x^{2} + 1}}$"
          },
          "metadata": {}
        },
        {
          "output_type": "display_data",
          "data": {
            "text/plain": [
              "Eq(y(x), (-1 + sqrt(3)*I)*(C1 - x**3)**(1/3)/(2*(3*x**2 + 1)**(1/3)))"
            ],
            "text/latex": "$\\displaystyle y{\\left(x \\right)} = \\frac{\\left(-1 + \\sqrt{3} i\\right) \\sqrt[3]{C_{1} - x^{3}}}{2 \\sqrt[3]{3 x^{2} + 1}}$"
          },
          "metadata": {}
        },
        {
          "output_type": "execute_result",
          "data": {
            "text/plain": [
              "[(True, 0), (True, 0), (True, 0)]"
            ]
          },
          "metadata": {},
          "execution_count": 140
        }
      ],
      "source": [
        "x = symbols(\"x\", real=True)\n",
        "y = symbols(\"y\", cls=Function)\n",
        "de = Eq(x**2 + 2*x*y(x)**3 + (y(x)**2 + 3*x**2 * y(x)**2) * y(x).diff(x) , 0)\n",
        "Y = dsolve(de, y(x))\n",
        "display(Y[0])\n",
        "display(Y[1])\n",
        "display(Y[2])\n",
        "\n",
        "checkodesol(de, Y)"
      ]
    },
    {
      "cell_type": "markdown",
      "id": "74a06d2f",
      "metadata": {
        "cell_marker": "\"\"\"",
        "id": "74a06d2f"
      },
      "source": [
        "* To get an implicit solution use this code:"
      ]
    },
    {
      "cell_type": "code",
      "execution_count": null,
      "id": "99d9ea3a",
      "metadata": {
        "lines_to_next_cell": 2,
        "colab": {
          "base_uri": "https://localhost:8080/",
          "height": 54
        },
        "id": "99d9ea3a",
        "outputId": "491b76b4-a842-4cd3-ac63-87b78e6e4a66"
      },
      "outputs": [
        {
          "output_type": "execute_result",
          "data": {
            "text/plain": [
              "Eq(x**3/3 + x**2*y(x)**3 + y(x)**3/3, C1)"
            ],
            "text/latex": "$\\displaystyle \\frac{x^{3}}{3} + x^{2} y^{3}{\\left(x \\right)} + \\frac{y^{3}{\\left(x \\right)}}{3} = C_{1}$"
          },
          "metadata": {},
          "execution_count": 141
        }
      ],
      "source": [
        "dsolve(de, hint=\"1st_exact\", simplify=False)"
      ]
    },
    {
      "cell_type": "markdown",
      "id": "5753f578",
      "metadata": {
        "cell_marker": "\"\"\"",
        "id": "5753f578"
      },
      "source": [
        "# Exercise 3.7.5\n",
        "\n",
        "$y' + y\\cos x = \\sin x \\cos x$"
      ]
    },
    {
      "cell_type": "code",
      "execution_count": null,
      "id": "2836e055",
      "metadata": {
        "lines_to_next_cell": 2,
        "colab": {
          "base_uri": "https://localhost:8080/",
          "height": 57
        },
        "id": "2836e055",
        "outputId": "9cce96ef-99c7-4448-ca6a-978b14d1e790"
      },
      "outputs": [
        {
          "output_type": "display_data",
          "data": {
            "text/plain": [
              "Eq(y(x), C1*exp(-sin(x)) + sin(x) - 1)"
            ],
            "text/latex": "$\\displaystyle y{\\left(x \\right)} = C_{1} e^{- \\sin{\\left(x \\right)}} + \\sin{\\left(x \\right)} - 1$"
          },
          "metadata": {}
        },
        {
          "output_type": "execute_result",
          "data": {
            "text/plain": [
              "(True, 0)"
            ]
          },
          "metadata": {},
          "execution_count": 142
        }
      ],
      "source": [
        "x = symbols(\"x\", real=True)\n",
        "y = symbols(\"y\", cls=Function)\n",
        "de = Eq(y(x).diff(x) + y(x)*cos(x) , sin(x) * cos(x))\n",
        "Y = dsolve(de, y(x))\n",
        "display(Y)\n",
        "\n",
        "checkodesol(de, Y)"
      ]
    },
    {
      "cell_type": "markdown",
      "id": "faed5d6e",
      "metadata": {
        "cell_marker": "\"\"\"",
        "id": "faed5d6e"
      },
      "source": [
        "# Exercise 3.7.6\n",
        "\n",
        "$(2e^x+y^4)dy - ye^xdx = 0$"
      ]
    },
    {
      "cell_type": "code",
      "execution_count": null,
      "id": "b62faece",
      "metadata": {
        "lines_to_next_cell": 2,
        "id": "b62faece"
      },
      "outputs": [],
      "source": [
        "x = symbols(\"x\", real=True)\n",
        "y = symbols(\"y\", cls=Function)\n",
        "de = Eq((2*exp(x) + y(x)**4) * y(x).diff(x) - y(x)*exp(x) , 0)\n",
        "#Y = dsolve(de, y(x), hint=\"1st_exact\")\n",
        "#display(Y)"
      ]
    },
    {
      "cell_type": "markdown",
      "id": "52bbfd4f",
      "metadata": {
        "cell_marker": "\"\"\"",
        "id": "52bbfd4f"
      },
      "source": [
        "* Sympy 1.11.1 gives several unclear solutions.\n",
        "* MathDF gave a final implicit solution:\n",
        "$$\n",
        "\\dfrac{{y}^{2}}{2}-\\dfrac{{e}^{x}}{{y}^{2}}=C,\\;\\,y=0\n",
        "$$\n",
        "\n",
        "* For a step-by-step-solution click:\n",
        "[**Link to a step-by-step solution**](\n",
        "https://mathdf.com/dif/#expr=(2e%5Ex%2By%5E4)d(y)-ye%5Exd(x)%3D0&func=y&arg=x)\n",
        "\n",
        "# Exercise 3.7.7\n",
        "\n",
        "$\\tan x \\cdot \\frac{dy}{dx} - y = a$"
      ]
    },
    {
      "cell_type": "code",
      "execution_count": null,
      "id": "7fba8b34",
      "metadata": {
        "lines_to_next_cell": 2,
        "colab": {
          "base_uri": "https://localhost:8080/",
          "height": 56
        },
        "id": "7fba8b34",
        "outputId": "7ab11f6d-f66b-49cd-cafb-101b022fef42"
      },
      "outputs": [
        {
          "output_type": "display_data",
          "data": {
            "text/plain": [
              "Eq(y(x), C1*sin(x) - a)"
            ],
            "text/latex": "$\\displaystyle y{\\left(x \\right)} = C_{1} \\sin{\\left(x \\right)} - a$"
          },
          "metadata": {}
        },
        {
          "output_type": "execute_result",
          "data": {
            "text/plain": [
              "(True, 0)"
            ]
          },
          "metadata": {},
          "execution_count": 144
        }
      ],
      "source": [
        "x, a = symbols(\"x a\", real=True)\n",
        "y = symbols(\"y\", cls=Function)\n",
        "de = Eq(tan(x) * y(x).diff(x) - y(x) , a)\n",
        "Y = dsolve(de, y(x))\n",
        "display(Y)\n",
        "\n",
        "checkodesol(de, Y)"
      ]
    },
    {
      "cell_type": "markdown",
      "id": "48c2e631",
      "metadata": {
        "cell_marker": "\"\"\"",
        "id": "48c2e631"
      },
      "source": [
        "# Exercise 3.7.8\n",
        "\n",
        "$(3x^2 + 2xy - y^2)dx + (x^2 - 2xy - 3y^2) dy = 0$"
      ]
    },
    {
      "cell_type": "code",
      "execution_count": null,
      "id": "09110d8d",
      "metadata": {
        "lines_to_next_cell": 2,
        "colab": {
          "base_uri": "https://localhost:8080/",
          "height": 39
        },
        "id": "09110d8d",
        "outputId": "38f7aefb-8392-4371-829e-b1d7bd158ae8"
      },
      "outputs": [
        {
          "output_type": "display_data",
          "data": {
            "text/plain": [
              "Eq(x**3 + x**2*y(x) - x*y(x)**2 - y(x)**3, C1)"
            ],
            "text/latex": "$\\displaystyle x^{3} + x^{2} y{\\left(x \\right)} - x y^{2}{\\left(x \\right)} - y^{3}{\\left(x \\right)} = C_{1}$"
          },
          "metadata": {}
        }
      ],
      "source": [
        "x = symbols(\"x\", real=True)\n",
        "y = symbols(\"y\", cls=Function)\n",
        "de = Eq(3*x**2 + 2*x*y(x) - y(x)**2 + (x**2 - 2*x*y(x) - 3*y(x)**2) * y(x).diff(x) , 0)\n",
        "Y = dsolve(de, hint=\"1st_exact\", simplify=False)\n",
        "display(Y)"
      ]
    },
    {
      "cell_type": "markdown",
      "id": "4281040a",
      "metadata": {
        "cell_marker": "\"\"\"",
        "id": "4281040a"
      },
      "source": [
        "* Mathdf site gives an implicit solution:\n",
        "$$\n",
        "{y}^{3}+x\\,{y}^{2}-{x}^{2}\\,y={x}^{3}+C\n",
        "$$\n",
        "* For a step-by-step-solution click:\n",
        "[**Link to a step-by-step solution**](\n",
        "https://mathdf.com/dif/#expr=(3x%5E2%2B2xy-y%5E2)d(x)%2B(x%5E2-2xy-3y%5E2)d(y)%3D0&func=y&arg=x)\n",
        "\n",
        "# Exercise 3.7.9\n",
        "\n",
        "$\\dfrac{y}{x}dx + (y^3 + \\ln x) dy = 0$\n",
        "\n",
        "$0<x<\\infty$"
      ]
    },
    {
      "cell_type": "code",
      "execution_count": null,
      "id": "91c9609f",
      "metadata": {
        "lines_to_next_cell": 2,
        "colab": {
          "base_uri": "https://localhost:8080/",
          "height": 54
        },
        "id": "91c9609f",
        "outputId": "e7f0cb7c-0b64-4856-8dd0-0697b3419d42"
      },
      "outputs": [
        {
          "output_type": "display_data",
          "data": {
            "text/plain": [
              "Eq(y(x)**4/4 + y(x)*log(x), C1)"
            ],
            "text/latex": "$\\displaystyle \\frac{y^{4}{\\left(x \\right)}}{4} + y{\\left(x \\right)} \\log{\\left(x \\right)} = C_{1}$"
          },
          "metadata": {}
        }
      ],
      "source": [
        "x = symbols(\"x\", real=True, positive=True)\n",
        "y = symbols(\"y\", cls=Function)\n",
        "de = Eq(y(x) / x + (y(x)**3 + log(x)) * y(x).diff(x) , 0)\n",
        "Y = dsolve(de, hint=\"1st_exact\", simplify=False)\n",
        "display(Y)"
      ]
    },
    {
      "cell_type": "markdown",
      "id": "3851fa0c",
      "metadata": {
        "cell_marker": "\"\"\"",
        "id": "3851fa0c"
      },
      "source": [
        "# Exercise 3.7.10\n",
        "\n",
        "$x(y^4 - x^2)dy + y(y^4+x^2)dx = 0$"
      ]
    },
    {
      "cell_type": "code",
      "execution_count": null,
      "id": "e83f8acc",
      "metadata": {
        "lines_to_next_cell": 2,
        "colab": {
          "base_uri": "https://localhost:8080/",
          "height": 58
        },
        "id": "e83f8acc",
        "outputId": "570e155d-19aa-41d3-aeb0-9f004a085789"
      },
      "outputs": [
        {
          "output_type": "display_data",
          "data": {
            "text/plain": [
              "Eq(x**3/(3*y(x)**3) + x*y(x), C1)"
            ],
            "text/latex": "$\\displaystyle \\frac{x^{3}}{3 y^{3}{\\left(x \\right)}} + x y{\\left(x \\right)} = C_{1}$"
          },
          "metadata": {}
        }
      ],
      "source": [
        "x = symbols(\"x\", real=True)\n",
        "y = symbols(\"y\", cls=Function)\n",
        "de = Eq(x * (y(x)**4 - x**2) * y(x).diff(x) + y(x) * (y(x)**4 + x**2) , 0)\n",
        "Y = dsolve(de, hint=\"1st_exact\", simplify=False)\n",
        "display(Y)"
      ]
    },
    {
      "cell_type": "markdown",
      "id": "6622ccc9",
      "metadata": {
        "cell_marker": "\"\"\"",
        "id": "6622ccc9"
      },
      "source": [
        "# Exercise 3.7.11\n",
        "\n",
        "$(3x^2y + 2xy + y^3)dx + (x^2+y^2)dy = 0$"
      ]
    },
    {
      "cell_type": "code",
      "execution_count": null,
      "id": "ab79e25a",
      "metadata": {
        "lines_to_next_cell": 2,
        "colab": {
          "base_uri": "https://localhost:8080/",
          "height": 56
        },
        "id": "ab79e25a",
        "outputId": "332fd886-c338-4c5f-ad6d-2215b704f087"
      },
      "outputs": [
        {
          "output_type": "display_data",
          "data": {
            "text/plain": [
              "Eq((3*x**2*y(x) + y(x)**3)*exp(3*x)/3, C1)"
            ],
            "text/latex": "$\\displaystyle \\frac{\\left(3 x^{2} y{\\left(x \\right)} + y^{3}{\\left(x \\right)}\\right) e^{3 x}}{3} = C_{1}$"
          },
          "metadata": {}
        }
      ],
      "source": [
        "x = symbols(\"x\", real=True)\n",
        "y = symbols(\"y\", cls=Function)\n",
        "de = Eq(3*x**2 * y(x) + 2*x*y(x) + y(x)**3 + (x**2 + y(x)**2) * y(x).diff(x), 0)\n",
        "Y = dsolve(de, hint=\"1st_exact\", simplify=False)\n",
        "display(Y)"
      ]
    },
    {
      "cell_type": "markdown",
      "id": "46e573b2",
      "metadata": {
        "cell_marker": "\"\"\"",
        "id": "46e573b2"
      },
      "source": [
        "# Exercise 3.7.12\n",
        "\n",
        "$y' = \\dfrac{3x^2 - 2xy}{x^2 - 4y^3}$"
      ]
    },
    {
      "cell_type": "code",
      "execution_count": null,
      "id": "3dde2ec9",
      "metadata": {
        "lines_to_next_cell": 2,
        "colab": {
          "base_uri": "https://localhost:8080/"
        },
        "id": "3dde2ec9",
        "outputId": "b526f568-beff-4c03-f64c-5c858fb6a69e"
      },
      "outputs": [
        {
          "output_type": "execute_result",
          "data": {
            "text/plain": [
              "('factorable', '1st_power_series', 'lie_group')"
            ]
          },
          "metadata": {},
          "execution_count": 149
        }
      ],
      "source": [
        "x = symbols(\"x\", real=True)\n",
        "y = symbols(\"y\", cls=Function)\n",
        "de = Eq(y(x).diff(x) , (3*x**2 - 2*x*y(x)) / (x**2 - 4*y(x)**3))\n",
        "classify_ode(de)\n",
        "#Y = dsolve(de, hint=\"all\", simplify=False)\n",
        "#display(Y)"
      ]
    },
    {
      "cell_type": "markdown",
      "id": "30defb80",
      "metadata": {
        "cell_marker": "\"\"\"",
        "id": "30defb80"
      },
      "source": [
        "* Sympy 1.11.1 failed.\n",
        "* Mathdf solution:\n",
        "$$\n",
        "{y}^{4}-{x}^{2}\\,y=C-{x}^{3}\n",
        "$$\n",
        "* For a step-by-step-solution click:\n",
        "[**Link to a step-by-step solution**](\n",
        "https://mathdf.com/dif/#expr=y'%3D(3x%5E2-2xy)%2F(x%5E2-4y%5E3)&func=y&arg=x\n",
        ")\n",
        "\n",
        "# **TO BE CONTINUED ...**\n",
        "* Any student with a basic Python programming skill\n",
        "  is welcome to continue and solve more exercises\n",
        "  from the\n",
        "<a href=\"https://samyzaf.com/technion/ode/ode.pdf\">\n",
        "Ordinal Differential Equations book\n",
        "</a>.\n",
        "\n",
        "* They will be checked and added to this notebook.\n",
        "\n",
        "* Send your notebook to sz@samyzaf.com.\n",
        "* Thanks!!!"
      ]
    },
    {
      "cell_type": "code",
      "execution_count": null,
      "id": "31981d0d",
      "metadata": {
        "lines_to_next_cell": 2,
        "id": "31981d0d"
      },
      "outputs": [],
      "source": [
        "dsolve?"
      ]
    }
  ],
  "metadata": {
    "jupytext": {
      "cell_metadata_filter": "-all",
      "main_language": "python",
      "notebook_metadata_filter": "-all"
    },
    "colab": {
      "provenance": [],
      "include_colab_link": true
    },
    "language_info": {
      "name": "python"
    },
    "kernelspec": {
      "name": "python3",
      "display_name": "Python 3"
    }
  },
  "nbformat": 4,
  "nbformat_minor": 5
}