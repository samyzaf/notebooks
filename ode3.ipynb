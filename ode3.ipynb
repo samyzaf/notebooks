{
  "cells": [
    {
      "cell_type": "markdown",
      "metadata": {
        "id": "view-in-github",
        "colab_type": "text"
      },
      "source": [
        "<a href=\"https://colab.research.google.com/github/samyzaf/notebooks/blob/main/ode3.ipynb\" target=\"_parent\"><img src=\"https://colab.research.google.com/assets/colab-badge.svg\" alt=\"Open In Colab\"/></a>"
      ]
    },
    {
      "cell_type": "markdown",
      "metadata": {
        "id": "zo0mZHrOCICt"
      },
      "source": [
        "# Ordinary Differential Equations\n",
        "# Chapter 3: Solutions to exercises\n",
        "\n",
        "<a href=\"https://samyzaf.com/technion/ode/ode.pdf\">\n",
        "<img src=\"https://samyzaf.com/technion/ode/ode2.jpg\" alt=\"ode book cover\"/>\n",
        "</a>\n",
        "\n",
        "* We used Python **Sympy** package for obtaining the final\n",
        "  result for most of the exercises.\n",
        "* This package is still under development, and is not yet\n",
        "  ready to cope with all ode's.\n",
        "* The new site https://mathdf.com seems to be a great source\n",
        "  for obtaining full step-by-step solutions.\n",
        "* This notebook can be edited and executed by clicking\n",
        "  the **open in colab** button.\n",
        "* These are only a small number of solutions.\n",
        "  Hopefully this will encourage students to try to solve more\n",
        "  exercises with similar methods. We will be glad to accept notebooks\n",
        "  with solutions to other exercises in this book.\n",
        "  Please send them to sz@samyzaf.com."
      ]
    },
    {
      "cell_type": "code",
      "execution_count": 1,
      "metadata": {
        "colab": {
          "base_uri": "https://localhost:8080/"
        },
        "id": "M6sQe4JlsK7u",
        "outputId": "c4f07767-6043-48bc-de22-4b907bb614a7"
      },
      "outputs": [
        {
          "output_type": "stream",
          "name": "stdout",
          "text": [
            "Looking in indexes: https://pypi.org/simple, https://us-python.pkg.dev/colab-wheels/public/simple/\n",
            "Requirement already satisfied: sympy in /usr/local/lib/python3.8/dist-packages (1.7.1)\n",
            "Collecting sympy\n",
            "  Downloading sympy-1.11.1-py3-none-any.whl (6.5 MB)\n",
            "\u001b[K     |████████████████████████████████| 6.5 MB 23.2 MB/s \n",
            "\u001b[?25hRequirement already satisfied: mpmath>=0.19 in /usr/local/lib/python3.8/dist-packages (from sympy) (1.2.1)\n",
            "Installing collected packages: sympy\n",
            "  Attempting uninstall: sympy\n",
            "    Found existing installation: sympy 1.7.1\n",
            "    Uninstalling sympy-1.7.1:\n",
            "      Successfully uninstalled sympy-1.7.1\n",
            "Successfully installed sympy-1.11.1\n"
          ]
        }
      ],
      "source": [
        "%pip install --upgrade sympy"
      ]
    },
    {
      "cell_type": "code",
      "execution_count": 2,
      "metadata": {
        "id": "QO4VgM1r1vEy"
      },
      "outputs": [],
      "source": [
        "from sympy import *\n",
        "from sympy.solvers.ode import checkodesol\n",
        "from IPython.display import HTML"
      ]
    },
    {
      "cell_type": "markdown",
      "metadata": {
        "id": "YoIKr1sI4NRE"
      },
      "source": [
        "# Exercise 3.1.1\n",
        "\n",
        "$xy' - y = y^3$"
      ]
    },
    {
      "cell_type": "code",
      "execution_count": 3,
      "metadata": {
        "colab": {
          "base_uri": "https://localhost:8080/",
          "height": 100
        },
        "id": "NZnh7uRSHpf3",
        "outputId": "19009de5-6afa-43f0-8106-799ea4e3b4ae"
      },
      "outputs": [
        {
          "output_type": "display_data",
          "data": {
            "text/plain": [
              "Eq(y(x), -x*sqrt(-C1/(C1*x**2 - 1)))"
            ],
            "text/latex": "$\\displaystyle y{\\left(x \\right)} = - x \\sqrt{- \\frac{C_{1}}{C_{1} x^{2} - 1}}$"
          },
          "metadata": {}
        },
        {
          "output_type": "display_data",
          "data": {
            "text/plain": [
              "Eq(y(x), x*sqrt(-C1/(C1*x**2 - 1)))"
            ],
            "text/latex": "$\\displaystyle y{\\left(x \\right)} = x \\sqrt{- \\frac{C_{1}}{C_{1} x^{2} - 1}}$"
          },
          "metadata": {}
        }
      ],
      "source": [
        "x = symbols(\"x\", real=True)\n",
        "y = symbols(\"y\", cls=Function)\n",
        "de = Eq(x * y(x).diff(x) - y(x) , y(x) ** 3)\n",
        "Y = dsolve(de, y(x))\n",
        "display(Y[0])\n",
        "display(Y[1])"
      ]
    },
    {
      "cell_type": "code",
      "execution_count": 4,
      "metadata": {
        "colab": {
          "base_uri": "https://localhost:8080/"
        },
        "id": "-xQCw9LYZkNX",
        "outputId": "f257e91c-3873-4764-c963-999661e8548f"
      },
      "outputs": [
        {
          "output_type": "execute_result",
          "data": {
            "text/plain": [
              "[(True, 0), (True, 0)]"
            ]
          },
          "metadata": {},
          "execution_count": 4
        }
      ],
      "source": [
        "checkodesol(de, Y)"
      ]
    },
    {
      "cell_type": "markdown",
      "metadata": {
        "id": "ZyFYRsm34NRO"
      },
      "source": [
        "# Exercise 3.1.2\n",
        "\n",
        "$xyy' = 1 - x^2$"
      ]
    },
    {
      "cell_type": "code",
      "execution_count": 5,
      "metadata": {
        "colab": {
          "base_uri": "https://localhost:8080/",
          "height": 63
        },
        "id": "pta_vjpo4NRQ",
        "outputId": "48f893df-b941-4a3e-82e0-e4709af98f02"
      },
      "outputs": [
        {
          "output_type": "display_data",
          "data": {
            "text/plain": [
              "Eq(y(x), -sqrt(C1 - x**2 + 2*log(x)))"
            ],
            "text/latex": "$\\displaystyle y{\\left(x \\right)} = - \\sqrt{C_{1} - x^{2} + 2 \\log{\\left(x \\right)}}$"
          },
          "metadata": {}
        },
        {
          "output_type": "display_data",
          "data": {
            "text/plain": [
              "Eq(y(x), sqrt(C1 - x**2 + 2*log(x)))"
            ],
            "text/latex": "$\\displaystyle y{\\left(x \\right)} = \\sqrt{C_{1} - x^{2} + 2 \\log{\\left(x \\right)}}$"
          },
          "metadata": {}
        }
      ],
      "source": [
        "x = symbols(\"x\", real=True)\n",
        "y = symbols(\"y\", cls=Function)\n",
        "de = Eq(x* y(x) * y(x).diff(x) , 1 - x ** 2)\n",
        "Y = dsolve(de, y(x))\n",
        "display(Y[0])\n",
        "display(Y[1])"
      ]
    },
    {
      "cell_type": "code",
      "execution_count": 6,
      "metadata": {
        "colab": {
          "base_uri": "https://localhost:8080/"
        },
        "id": "Jt1h8PWLZ05u",
        "outputId": "c68b5cd4-8ee1-4e64-9dd4-d057f4592ecf"
      },
      "outputs": [
        {
          "output_type": "execute_result",
          "data": {
            "text/plain": [
              "[(True, 0), (True, 0)]"
            ]
          },
          "metadata": {},
          "execution_count": 6
        }
      ],
      "source": [
        "checkodesol(de, Y)"
      ]
    },
    {
      "cell_type": "markdown",
      "metadata": {
        "id": "poUTpkjx4NRR"
      },
      "source": [
        "# Exercise 3.1.3\n",
        "\n",
        "$y' \\tan x = y$"
      ]
    },
    {
      "cell_type": "code",
      "execution_count": 7,
      "metadata": {
        "colab": {
          "base_uri": "https://localhost:8080/",
          "height": 39
        },
        "id": "lVU3PItM4NRT",
        "outputId": "cf908c1b-047b-418c-82b0-28bfac62657f"
      },
      "outputs": [
        {
          "output_type": "execute_result",
          "data": {
            "text/plain": [
              "Eq(y(x), C1*sin(x))"
            ],
            "text/latex": "$\\displaystyle y{\\left(x \\right)} = C_{1} \\sin{\\left(x \\right)}$"
          },
          "metadata": {},
          "execution_count": 7
        }
      ],
      "source": [
        "x = symbols(\"x\", real=True)\n",
        "y = symbols(\"y\", cls=Function)\n",
        "de = Eq(y(x).diff(x) * tan(x) , y(x))\n",
        "dsolve(de, y(x))"
      ]
    },
    {
      "cell_type": "markdown",
      "metadata": {
        "id": "nESqAJ_O4NRU"
      },
      "source": [
        "# Exercise 3.1.4\n",
        "\n",
        "$y' - xy^2 = 2xy$"
      ]
    },
    {
      "cell_type": "code",
      "execution_count": 8,
      "metadata": {
        "colab": {
          "base_uri": "https://localhost:8080/",
          "height": 58
        },
        "id": "q0_RWXtb4NRV",
        "outputId": "deb0beaf-d4e6-428e-e45d-e20fca70b94b"
      },
      "outputs": [
        {
          "output_type": "execute_result",
          "data": {
            "text/plain": [
              "Eq(y(x), 2*exp(2*C1 + x**2)/(1 - exp(2*C1 + x**2)))"
            ],
            "text/latex": "$\\displaystyle y{\\left(x \\right)} = \\frac{2 e^{2 C_{1} + x^{2}}}{1 - e^{2 C_{1} + x^{2}}}$"
          },
          "metadata": {},
          "execution_count": 8
        }
      ],
      "source": [
        "x = symbols(\"x\", real=True)\n",
        "y = symbols(\"y\", cls=Function)\n",
        "de = Eq(y(x).diff(x) - x * y(x)**2 , 2*x*y(x))\n",
        "dsolve(de, y(x))"
      ]
    },
    {
      "cell_type": "markdown",
      "metadata": {
        "id": "XsmZ4uTU4NRW"
      },
      "source": [
        "# Exercise 3.1.5\n",
        "\n",
        "$e^{-s} \\left(1+\\frac{ds}{dt}\\right) = 1$"
      ]
    },
    {
      "cell_type": "code",
      "execution_count": 9,
      "metadata": {
        "colab": {
          "base_uri": "https://localhost:8080/",
          "height": 47
        },
        "id": "aAmznmFK4NRX",
        "outputId": "6d2ed834-e7b5-44f3-c7e6-ee1f82fc8819"
      },
      "outputs": [
        {
          "output_type": "execute_result",
          "data": {
            "text/plain": [
              "Eq(t + s(t) - log(exp(s(t)) - 1), C1)"
            ],
            "text/latex": "$\\displaystyle t + s{\\left(t \\right)} - \\log{\\left(e^{s{\\left(t \\right)}} - 1 \\right)} = C_{1}$"
          },
          "metadata": {},
          "execution_count": 9
        }
      ],
      "source": [
        "t = symbols(\"t\", real=True)\n",
        "s = symbols(\"s\", cls=Function)\n",
        "de = Eq(exp(-s(t)) * (1 + s(t).diff(t)) , 1)\n",
        "dsolve(de, s(t))"
      ]
    },
    {
      "cell_type": "markdown",
      "metadata": {
        "id": "hjueVl8n4NRZ"
      },
      "source": [
        "# Exercise 3.1.6\n",
        "\n",
        "$y' = 10^{x+y}$"
      ]
    },
    {
      "cell_type": "code",
      "execution_count": 10,
      "metadata": {
        "colab": {
          "base_uri": "https://localhost:8080/",
          "height": 70
        },
        "id": "ToRZvmw84NRZ",
        "outputId": "61110119-3e41-4a98-a261-6b7066892f83"
      },
      "outputs": [
        {
          "output_type": "execute_result",
          "data": {
            "text/plain": [
              "Eq(y(x), log(-1/(10**x + C1))/log(10))"
            ],
            "text/latex": "$\\displaystyle y{\\left(x \\right)} = \\frac{\\log{\\left(- \\frac{1}{10^{x} + C_{1}} \\right)}}{\\log{\\left(10 \\right)}}$"
          },
          "metadata": {},
          "execution_count": 10
        }
      ],
      "source": [
        "x = Symbol(\"x\", real=True, positive=True)\n",
        "y = symbols(\"y\", cls=Function)\n",
        "de = Eq(y(x).diff(x) , 10 ** (x + y(x)))\n",
        "dsolve(de, y(x))"
      ]
    },
    {
      "cell_type": "markdown",
      "metadata": {
        "id": "ZCi3ZoFI4NRa"
      },
      "source": [
        "# Exercise 3.1.7\n",
        "\n",
        "$(x+1)dx + (y-1)dy = 0$\n",
        "\n",
        "**Link to a step-by-step solution:**\n",
        "<br/>\n",
        "https://mathdf.com/dif/#expr=y'%2B2xy%3D2x%5E3&func=y&arg=x"
      ]
    },
    {
      "cell_type": "code",
      "execution_count": 11,
      "metadata": {
        "colab": {
          "base_uri": "https://localhost:8080/",
          "height": 65
        },
        "id": "LZ9Zy66h4NRb",
        "outputId": "1871068b-4687-47c8-d2aa-5f12c3fbc762"
      },
      "outputs": [
        {
          "output_type": "display_data",
          "data": {
            "text/plain": [
              "Eq(y(x), 1 - sqrt(C1 - x**2 - 2*x))"
            ],
            "text/latex": "$\\displaystyle y{\\left(x \\right)} = 1 - \\sqrt{C_{1} - x^{2} - 2 x}$"
          },
          "metadata": {}
        },
        {
          "output_type": "display_data",
          "data": {
            "text/plain": [
              "Eq(y(x), sqrt(C1 - x**2 - 2*x) + 1)"
            ],
            "text/latex": "$\\displaystyle y{\\left(x \\right)} = \\sqrt{C_{1} - x^{2} - 2 x} + 1$"
          },
          "metadata": {}
        }
      ],
      "source": [
        "x = symbols(\"x\", real=True)\n",
        "y = symbols(\"y\", cls=Function)\n",
        "de = Eq(x + 1 + (y(x) -1) * y(x).diff(x), 0)\n",
        "Y = dsolve(de, y(x))\n",
        "display(Y[0])\n",
        "display(Y[1])"
      ]
    },
    {
      "cell_type": "markdown",
      "metadata": {
        "id": "dF2BHElW4NRc"
      },
      "source": [
        "## Verification"
      ]
    },
    {
      "cell_type": "code",
      "execution_count": 12,
      "metadata": {
        "colab": {
          "base_uri": "https://localhost:8080/"
        },
        "id": "NYbUZmvr4NRc",
        "outputId": "4591fc4a-bbc8-4e11-f984-7ac0be5d3903"
      },
      "outputs": [
        {
          "output_type": "stream",
          "name": "stdout",
          "text": [
            "[Eq(y(x), 1 - sqrt(C1 - x**2 - 2*x)), Eq(y(x), sqrt(C1 - x**2 - 2*x) + 1)]\n"
          ]
        },
        {
          "output_type": "execute_result",
          "data": {
            "text/plain": [
              "[(True, 0), (True, 0)]"
            ]
          },
          "metadata": {},
          "execution_count": 12
        }
      ],
      "source": [
        "print(Y)\n",
        "checkodesol(de, Y)"
      ]
    },
    {
      "cell_type": "markdown",
      "metadata": {
        "id": "9PGQ_yxX4NRd"
      },
      "source": [
        "# Exercise 3.1.8\n",
        "\n",
        "$\\cos\\sqrt{x}\\, dx - \\sqrt{x}\\,dy = 0$\n",
        "\n",
        "[**Link to a step-by-step solution**](\n",
        "https://mathdf.com/dif/#expr=cos(sqrt(x))d(x)-sqrt(x)d(y)%3D0&func=y&arg=x\n",
        ")"
      ]
    },
    {
      "cell_type": "code",
      "execution_count": 13,
      "metadata": {
        "colab": {
          "base_uri": "https://localhost:8080/",
          "height": 39
        },
        "id": "jEJmLcwk4NRd",
        "outputId": "05cb3506-a3bd-43b1-fa73-3d51f1d16148"
      },
      "outputs": [
        {
          "output_type": "display_data",
          "data": {
            "text/plain": [
              "Eq(y(x), C1 + 2*sin(sqrt(x)))"
            ],
            "text/latex": "$\\displaystyle y{\\left(x \\right)} = C_{1} + 2 \\sin{\\left(\\sqrt{x} \\right)}$"
          },
          "metadata": {}
        }
      ],
      "source": [
        "x = symbols(\"x\", real=True)\n",
        "y = symbols(\"y\", cls=Function)\n",
        "de = Eq(cos(sqrt(x)) - sqrt(x) * y(x).diff(x) , 0)\n",
        "Y = dsolve(de, y(x))\n",
        "display(Y)"
      ]
    },
    {
      "cell_type": "code",
      "execution_count": 14,
      "metadata": {
        "colab": {
          "base_uri": "https://localhost:8080/"
        },
        "id": "iFxEPUI3fwgn",
        "outputId": "417c17de-809a-46c7-d5d6-c8b3c559aa7b"
      },
      "outputs": [
        {
          "output_type": "execute_result",
          "data": {
            "text/plain": [
              "(True, 0)"
            ]
          },
          "metadata": {},
          "execution_count": 14
        }
      ],
      "source": [
        "checkodesol(de, Y)"
      ]
    },
    {
      "cell_type": "markdown",
      "metadata": {
        "id": "xdFm4Isz4NRe"
      },
      "source": [
        "# Exercise 3.1.9\n",
        "\n",
        "$\\sqrt{1-x^2} dy - \\sqrt{1-y^2} dx = 0$\n",
        "\n",
        "Solution:\n",
        "\n",
        "$y=\\sin\\left(\\arcsin\\left(x\\right)+C\\right),\\;\\,x=1,\\;\\,x=-1,\\;\\,y=1,\\;\\,y=-1$\n",
        "\n",
        "[**Link to a step-by-step solution:**](\n",
        "https://mathdf.com/dif/#expr=sqrt(1-x%5E2)d(y)-sqrt(1-y%5E2)d(x)%3D0&func=y&arg=x\n",
        ")"
      ]
    },
    {
      "cell_type": "code",
      "execution_count": 15,
      "metadata": {
        "colab": {
          "base_uri": "https://localhost:8080/",
          "height": 39
        },
        "id": "RdIBmV9V4NRe",
        "outputId": "bf1675ee-b4a3-47ea-dcc8-7b85bbba08cf"
      },
      "outputs": [
        {
          "output_type": "display_data",
          "data": {
            "text/plain": [
              "Eq(y(x), sin(C1 + asin(x)))"
            ],
            "text/latex": "$\\displaystyle y{\\left(x \\right)} = \\sin{\\left(C_{1} + \\operatorname{asin}{\\left(x \\right)} \\right)}$"
          },
          "metadata": {}
        }
      ],
      "source": [
        "x = symbols(\"x\", real=True)\n",
        "y = symbols(\"y\", cls=Function)\n",
        "de = Eq(sqrt(1-x**2) * y(x).diff(x) - sqrt(1 - y(x)**2) , 0)\n",
        "Y = dsolve(de, y(x))\n",
        "display(Y)"
      ]
    },
    {
      "cell_type": "markdown",
      "metadata": {
        "id": "CyeB_rpGYpYu"
      },
      "source": [
        "* Sympy missed the special solutions $x=1,\\;\\,x=-1,\\;\\,y=1,\\;\\,y=-1$ which mathdf engine found."
      ]
    },
    {
      "cell_type": "markdown",
      "metadata": {
        "id": "D8DmLbXv4NRf"
      },
      "source": [
        "# Exercise 3.1.10\n",
        "\n",
        "$e^x(1+e^y)dx + e^y(1+e^x)dy = 0$\n",
        "\n",
        "[**Link to a step-by-step solution**](\n",
        "https://mathdf.com/dif/#expr=(2x%2B1)y'%3D4x%2B2y&func=y&arg=x\n",
        ")"
      ]
    },
    {
      "cell_type": "code",
      "execution_count": 16,
      "metadata": {
        "colab": {
          "base_uri": "https://localhost:8080/",
          "height": 47
        },
        "id": "y9yiADDo4NRg",
        "outputId": "971485e6-e89a-42e4-8027-270e960f9235"
      },
      "outputs": [
        {
          "output_type": "display_data",
          "data": {
            "text/plain": [
              "Eq(y(x) + log(exp(x) + 1) - log(exp(y(x)) + 1), C1)"
            ],
            "text/latex": "$\\displaystyle y{\\left(x \\right)} + \\log{\\left(e^{x} + 1 \\right)} - \\log{\\left(e^{y{\\left(x \\right)}} + 1 \\right)} = C_{1}$"
          },
          "metadata": {}
        }
      ],
      "source": [
        "x = symbols(\"x\", real=True)\n",
        "y = symbols(\"y\", cls=Function)\n",
        "de = Eq(exp(x) * (1 + exp(y(x))) + (1 + exp(x)) * y(x).diff(x) , 0)\n",
        "Y = dsolve(de, y(x))\n",
        "display(Y)"
      ]
    },
    {
      "cell_type": "markdown",
      "metadata": {
        "id": "qvZ_rgOD4NRh"
      },
      "source": [
        "# Exercise 3.1.11\n",
        "\n",
        "$xy^3y' = x^4+y^4$\n",
        "\n",
        "Solution:\n",
        "\n",
        "${y}^{4}=4\\,{x}^{4}\\,\\left(\\ln\\left(x\\right)+C\\right)$\n",
        "\n",
        "[**Link to a step-by-step solution:**](\n",
        "https://mathdf.com/dif/#expr=(2x%2B1)y'%3D4x%2B2y&func=y&arg=x\n",
        ")"
      ]
    },
    {
      "cell_type": "code",
      "execution_count": 17,
      "metadata": {
        "colab": {
          "base_uri": "https://localhost:8080/",
          "height": 86
        },
        "id": "S6r9SRWr4NRh",
        "outputId": "e6d050b2-c482-40a8-9433-fdd589b13d49"
      },
      "outputs": [
        {
          "output_type": "display_data",
          "data": {
            "text/plain": [
              "[Eq(y(x), -I*(C1 + 4*log(x))**(1/4)*Abs(x)),\n",
              " Eq(y(x), I*(C1 + 4*log(x))**(1/4)*Abs(x)),\n",
              " Eq(y(x), -(C1 + 4*log(x))**(1/4)*Abs(x)),\n",
              " Eq(y(x), (C1 + 4*log(x))**(1/4)*Abs(x))]"
            ]
          },
          "metadata": {}
        }
      ],
      "source": [
        "x = symbols(\"x\", real=True)\n",
        "y = symbols(\"y\", cls=Function)\n",
        "de = Eq(x * y(x) ** 3 * y(x).diff(x) , x**4 + y(x) ** 4)\n",
        "Y = dsolve(de, y(x))\n",
        "display(Y)"
      ]
    },
    {
      "cell_type": "code",
      "execution_count": 18,
      "metadata": {
        "colab": {
          "base_uri": "https://localhost:8080/",
          "height": 110
        },
        "id": "pcn_oap6YpYv",
        "outputId": "4a691280-ac45-49de-9f6c-b540266c2b14"
      },
      "outputs": [
        {
          "output_type": "display_data",
          "data": {
            "text/plain": [
              "Eq(y(x), -I*(C1 + 4*log(x))**(1/4)*Abs(x))"
            ],
            "text/latex": "$\\displaystyle y{\\left(x \\right)} = - i \\sqrt[4]{C_{1} + 4 \\log{\\left(x \\right)}} \\left|{x}\\right|$"
          },
          "metadata": {}
        },
        {
          "output_type": "display_data",
          "data": {
            "text/plain": [
              "Eq(y(x), I*(C1 + 4*log(x))**(1/4)*Abs(x))"
            ],
            "text/latex": "$\\displaystyle y{\\left(x \\right)} = i \\sqrt[4]{C_{1} + 4 \\log{\\left(x \\right)}} \\left|{x}\\right|$"
          },
          "metadata": {}
        },
        {
          "output_type": "display_data",
          "data": {
            "text/plain": [
              "Eq(y(x), -(C1 + 4*log(x))**(1/4)*Abs(x))"
            ],
            "text/latex": "$\\displaystyle y{\\left(x \\right)} = - \\sqrt[4]{C_{1} + 4 \\log{\\left(x \\right)}} \\left|{x}\\right|$"
          },
          "metadata": {}
        },
        {
          "output_type": "display_data",
          "data": {
            "text/plain": [
              "Eq(y(x), (C1 + 4*log(x))**(1/4)*Abs(x))"
            ],
            "text/latex": "$\\displaystyle y{\\left(x \\right)} = \\sqrt[4]{C_{1} + 4 \\log{\\left(x \\right)}} \\left|{x}\\right|$"
          },
          "metadata": {}
        }
      ],
      "source": [
        "display(Y[0])\n",
        "display(Y[1])\n",
        "display(Y[2])\n",
        "display(Y[3])"
      ]
    },
    {
      "cell_type": "code",
      "execution_count": 19,
      "metadata": {
        "colab": {
          "base_uri": "https://localhost:8080/"
        },
        "id": "JameTwZy4NRi",
        "outputId": "e1fec145-367a-445e-d4af-cc4df84915de"
      },
      "outputs": [
        {
          "output_type": "execute_result",
          "data": {
            "text/plain": [
              "[(True, 0), (True, 0), (True, 0), (True, 0)]"
            ]
          },
          "metadata": {},
          "execution_count": 19
        }
      ],
      "source": [
        "checkodesol(de, Y)"
      ]
    },
    {
      "cell_type": "markdown",
      "metadata": {
        "id": "UXV85sGG4NRi"
      },
      "source": [
        "# Exercise 3.2.1\n",
        "\n",
        "$\n",
        "\\left\\{\n",
        "\\begin{array}{l}\n",
        "(x^2-1)y' +2xy^2 = 0 \\\\\n",
        "y(2) = 1\n",
        "\\end{array}\n",
        "\\right.\n",
        "$\n",
        "\n",
        "[**Link to a step-by-step solution**](\n",
        "https://mathdf.com/dif/#expr=(x%5E2-1)y'%2B2xy%5E2%3D0&func=y&arg=x&vals=2%3B1\n",
        ")"
      ]
    },
    {
      "cell_type": "code",
      "execution_count": 20,
      "metadata": {
        "colab": {
          "base_uri": "https://localhost:8080/",
          "height": 55
        },
        "id": "c2UUcyrY4NRj",
        "outputId": "5c868d09-10b2-4955-ddfa-cc20d5b7c1af"
      },
      "outputs": [
        {
          "output_type": "display_data",
          "data": {
            "text/plain": [
              "Eq(y(x), -1/(-log(x**2 - 1) - 1 + log(3)))"
            ],
            "text/latex": "$\\displaystyle y{\\left(x \\right)} = - \\frac{1}{- \\log{\\left(x^{2} - 1 \\right)} - 1 + \\log{\\left(3 \\right)}}$"
          },
          "metadata": {}
        }
      ],
      "source": [
        "x = symbols(\"x\", real=True)\n",
        "y = symbols(\"y\", cls=Function)\n",
        "de = Eq((x**2 - 1) * y(x).diff(x) + 2*x*y(x)**2, 0)\n",
        "Y = dsolve(de, y(x), ics={y(2):1})\n",
        "display(Y)"
      ]
    },
    {
      "cell_type": "code",
      "execution_count": 21,
      "metadata": {
        "colab": {
          "base_uri": "https://localhost:8080/"
        },
        "id": "_-P2ic644NRk",
        "outputId": "6d251d82-a5c7-421d-829f-776e23d9a29f"
      },
      "outputs": [
        {
          "output_type": "execute_result",
          "data": {
            "text/plain": [
              "(True, 0)"
            ]
          },
          "metadata": {},
          "execution_count": 21
        }
      ],
      "source": [
        "checkodesol(de, Y)"
      ]
    },
    {
      "cell_type": "markdown",
      "metadata": {
        "id": "Eo9qMHAq4NRk"
      },
      "source": [
        "# Exercise 3.2.2\n",
        "\n",
        "$\n",
        "\\left\\{\n",
        "\\begin{array}{l}\n",
        "y' = 3 \\sqrt[3]{y^2} \\\\\n",
        "y(2) = 0\n",
        "\\end{array}\n",
        "\\right.\n",
        "$\n",
        "\n",
        "[**Link to a step-by-step solution**](\n",
        "https://mathdf.com/dif/#expr=y'%3D3*y%5E(2%2F3)&func=y&arg=x&vals=2%3B0\n",
        ")"
      ]
    },
    {
      "cell_type": "code",
      "execution_count": 22,
      "metadata": {
        "colab": {
          "base_uri": "https://localhost:8080/",
          "height": 56
        },
        "id": "EgAkgU7d4NRl",
        "outputId": "544bd0b2-f7b6-496a-ee55-3007a4dd5a2c"
      },
      "outputs": [
        {
          "output_type": "stream",
          "name": "stdout",
          "text": [
            "Eq(y(x), x**3 - 6*x**2 + 12*x - 8)\n"
          ]
        },
        {
          "output_type": "display_data",
          "data": {
            "text/plain": [
              "Eq(y(x), x**3 - 6*x**2 + 12*x - 8)"
            ],
            "text/latex": "$\\displaystyle y{\\left(x \\right)} = x^{3} - 6 x^{2} + 12 x - 8$"
          },
          "metadata": {}
        }
      ],
      "source": [
        "x = symbols(\"x\", real=True)\n",
        "y = symbols(\"y\", cls=Function)\n",
        "de = Eq(y(x).diff(x) , 3 * cbrt(y(x)**2))\n",
        "Y = dsolve(de, y(x), ics={y(2): 0})\n",
        "print(Y)\n",
        "display(Y)"
      ]
    },
    {
      "cell_type": "markdown",
      "metadata": {
        "id": "45eGoMSH4NRl",
        "outputId": "3f19381c-f173-4c85-f3e8-cd73762dfbc5"
      },
      "source": [
        "Private solution: $y = (x-2)^3$"
      ]
    },
    {
      "cell_type": "code",
      "execution_count": 23,
      "metadata": {
        "id": "I3LhZ6gIYpYy"
      },
      "outputs": [],
      "source": [
        "yp = Eq(y(x) , (x-2)**3)"
      ]
    },
    {
      "cell_type": "code",
      "execution_count": 24,
      "metadata": {
        "colab": {
          "base_uri": "https://localhost:8080/"
        },
        "id": "zEONyFsxYpYz",
        "outputId": "0d5214bb-ae61-4f07-833a-c4aa14af3297"
      },
      "outputs": [
        {
          "output_type": "execute_result",
          "data": {
            "text/plain": [
              "(True, 0)"
            ]
          },
          "metadata": {},
          "execution_count": 24
        }
      ],
      "source": [
        "checkodesol(de, yp)"
      ]
    },
    {
      "cell_type": "markdown",
      "metadata": {
        "id": "YXi-q8jgYpYz"
      },
      "source": [
        "# Exercise 3.2.3\n",
        "\n",
        "$\n",
        "\\left\\{\n",
        "\\begin{array}{l}\n",
        "(xy^2 + x)dx + (x^2y - y)dy = 0 \\\\[1ex]\n",
        "y(0) = 1\n",
        "\\end{array}\n",
        "\\right.\n",
        "$\n",
        "\n",
        "[**Link to a step-by-step solution:**](\n",
        "https://mathdf.com/dif/#expr=(xy%5E2%2Bx)d(x)%2B(x%5E2y-y)d(y)%3D0&func=y&arg=x&vals=0%3B1)"
      ]
    },
    {
      "cell_type": "code",
      "execution_count": 25,
      "metadata": {
        "colab": {
          "base_uri": "https://localhost:8080/",
          "height": 65
        },
        "id": "7ueMCJOXYpYz",
        "outputId": "a5bbb579-3c9a-4ff2-9e66-0f64f54458a3"
      },
      "outputs": [
        {
          "output_type": "display_data",
          "data": {
            "text/plain": [
              "Eq(y(x), -sqrt(C1*x**2 - C1 - 1))"
            ],
            "text/latex": "$\\displaystyle y{\\left(x \\right)} = - \\sqrt{C_{1} x^{2} - C_{1} - 1}$"
          },
          "metadata": {}
        },
        {
          "output_type": "display_data",
          "data": {
            "text/plain": [
              "Eq(y(x), sqrt(C1*x**2 - C1 - 1))"
            ],
            "text/latex": "$\\displaystyle y{\\left(x \\right)} = \\sqrt{C_{1} x^{2} - C_{1} - 1}$"
          },
          "metadata": {}
        }
      ],
      "source": [
        "x = symbols(\"x\", real=True)\n",
        "y = symbols(\"y\", cls=Function)\n",
        "de = Eq(x * y(x)**2 +x, (x**2 * y(x) - y(x)) * y(x).diff(x) , cis={y(0): 1})\n",
        "Y = dsolve(de, y(x))\n",
        "display(Y[0])\n",
        "display(Y[1])"
      ]
    },
    {
      "cell_type": "code",
      "execution_count": 26,
      "metadata": {
        "colab": {
          "base_uri": "https://localhost:8080/"
        },
        "id": "IhIdWEY-YpYz",
        "outputId": "d5e0c141-0d64-4afd-d2e7-b456d926c039"
      },
      "outputs": [
        {
          "output_type": "execute_result",
          "data": {
            "text/plain": [
              "[(True, 0), (True, 0)]"
            ]
          },
          "metadata": {},
          "execution_count": 26
        }
      ],
      "source": [
        "checkodesol(de, Y)"
      ]
    },
    {
      "cell_type": "markdown",
      "metadata": {
        "id": "tTHBhhGdYpY0"
      },
      "source": [
        "# Exercise 3.2.4\n",
        "\n",
        "$\n",
        "\\left\\{\n",
        "\\begin{array}{l}\n",
        "y' \\sin x + y\\ln y = 0 \\\\[1ex]\n",
        "y(\\frac{\\pi}{2}) = 1\n",
        "\\end{array}\n",
        "\\right.\n",
        "$\n",
        "\n",
        "[**Link to a step-by-step solution**](\n",
        "https://mathdf.com/dif/#expr=y'sin(x)%2Byln(y)%3D0&func=y&arg=x&vals=pi%2F2%3B1\n",
        ")"
      ]
    },
    {
      "cell_type": "code",
      "execution_count": 27,
      "metadata": {
        "colab": {
          "base_uri": "https://localhost:8080/",
          "height": 56
        },
        "id": "3FE8sqHlYpY0",
        "outputId": "e74fae86-7517-498b-f60e-2e35e2c4f103"
      },
      "outputs": [
        {
          "output_type": "stream",
          "name": "stdout",
          "text": [
            "Eq(y(x), 1)\n"
          ]
        },
        {
          "output_type": "display_data",
          "data": {
            "text/plain": [
              "Eq(y(x), 1)"
            ],
            "text/latex": "$\\displaystyle y{\\left(x \\right)} = 1$"
          },
          "metadata": {}
        }
      ],
      "source": [
        "x = symbols(\"x\", real=True)\n",
        "y = symbols(\"y\", cls=Function)\n",
        "de = Eq(y(x).diff(x) * sin(x) + y(x) * log(y(x)), 0)\n",
        "Y = dsolve(de, y(x) , ics={y(pi/2): 1})\n",
        "print(Y)\n",
        "display(Y)"
      ]
    },
    {
      "cell_type": "code",
      "execution_count": 28,
      "metadata": {
        "colab": {
          "base_uri": "https://localhost:8080/"
        },
        "id": "wSDBVZ9yYpY0",
        "outputId": "62455c3a-df1e-4c0b-92d4-a6a5725ab24a"
      },
      "outputs": [
        {
          "output_type": "execute_result",
          "data": {
            "text/plain": [
              "(True, 0)"
            ]
          },
          "metadata": {},
          "execution_count": 28
        }
      ],
      "source": [
        "checkodesol(de, Y)"
      ]
    },
    {
      "cell_type": "markdown",
      "metadata": {
        "id": "wktno-scYpY1"
      },
      "source": [
        "# Exercise 3.2.5\n",
        "\n",
        "$\n",
        "\\left\\{\n",
        "\\begin{array}{l}\n",
        "2xyy' + x^2 - y^2 = 0 \\\\[1ex]\n",
        "y(1) = 0\n",
        "\\end{array}\n",
        "\\right.\n",
        "$\n"
      ]
    },
    {
      "cell_type": "code",
      "execution_count": 29,
      "metadata": {
        "colab": {
          "base_uri": "https://localhost:8080/",
          "height": 81
        },
        "id": "7oFeUq9EYpY1",
        "outputId": "d19eba4b-6211-4f69-84b1-4b408eb0f593"
      },
      "outputs": [
        {
          "output_type": "stream",
          "name": "stdout",
          "text": [
            "[Eq(y(x), -sqrt(x*(1 - x))), Eq(y(x), sqrt(x*(1 - x)))]\n"
          ]
        },
        {
          "output_type": "display_data",
          "data": {
            "text/plain": [
              "Eq(y(x), -sqrt(x*(1 - x)))"
            ],
            "text/latex": "$\\displaystyle y{\\left(x \\right)} = - \\sqrt{x \\left(1 - x\\right)}$"
          },
          "metadata": {}
        },
        {
          "output_type": "display_data",
          "data": {
            "text/plain": [
              "Eq(y(x), sqrt(x*(1 - x)))"
            ],
            "text/latex": "$\\displaystyle y{\\left(x \\right)} = \\sqrt{x \\left(1 - x\\right)}$"
          },
          "metadata": {}
        }
      ],
      "source": [
        "x = symbols(\"x\", real=True)\n",
        "y = symbols(\"y\", cls=Function)\n",
        "de = Eq(2*x*y(x)*y(x).diff(x) + x**2 - y(x)**2 , 0)\n",
        "Y = dsolve(de, y(x) , ics={y(1): 0})\n",
        "print(Y)\n",
        "display(Y[0])\n",
        "display(Y[1])"
      ]
    },
    {
      "cell_type": "code",
      "execution_count": 30,
      "metadata": {
        "colab": {
          "base_uri": "https://localhost:8080/"
        },
        "id": "lWJbSBRyYpY1",
        "outputId": "117c9bef-3de8-4726-e3b8-68fb02b6a850"
      },
      "outputs": [
        {
          "output_type": "execute_result",
          "data": {
            "text/plain": [
              "[(True, 0), (True, 0)]"
            ]
          },
          "metadata": {},
          "execution_count": 30
        }
      ],
      "source": [
        "checkodesol(de, Y)"
      ]
    },
    {
      "cell_type": "markdown",
      "metadata": {
        "id": "WAjgfxQYYpY1"
      },
      "source": [
        "# Exercise 3.2.6\n",
        "\n",
        "$\n",
        "\\left\\{\n",
        "\\begin{array}{l}\n",
        "xy' + y - e^x = 0 \\\\[1ex]\n",
        "y(a) = b\n",
        "\\end{array}\n",
        "\\right.\n",
        "$\n"
      ]
    },
    {
      "cell_type": "code",
      "execution_count": 31,
      "metadata": {
        "colab": {
          "base_uri": "https://localhost:8080/",
          "height": 69
        },
        "id": "cS6jEg-_YpY1",
        "outputId": "59f7822f-8ea3-43fa-c967-9ab8b99a0222"
      },
      "outputs": [
        {
          "output_type": "stream",
          "name": "stdout",
          "text": [
            "Eq(y(x), (a*b - exp(a) + exp(x))/x)\n"
          ]
        },
        {
          "output_type": "display_data",
          "data": {
            "text/plain": [
              "Eq(y(x), (a*b - exp(a) + exp(x))/x)"
            ],
            "text/latex": "$\\displaystyle y{\\left(x \\right)} = \\frac{a b - e^{a} + e^{x}}{x}$"
          },
          "metadata": {}
        }
      ],
      "source": [
        "x, a, b = symbols(\"x a b\", real=True)\n",
        "y = symbols(\"y\", cls=Function)\n",
        "de = Eq(x*y(x).diff(x) + y(x) - exp(x) , 0)\n",
        "Y = dsolve(de, y(x) , ics={y(a): b})\n",
        "print(Y)\n",
        "display(Y)"
      ]
    },
    {
      "cell_type": "code",
      "execution_count": 32,
      "metadata": {
        "colab": {
          "base_uri": "https://localhost:8080/"
        },
        "id": "doky9G0MYpY2",
        "outputId": "cb4f7b26-4fd2-4052-e529-307352db0077"
      },
      "outputs": [
        {
          "output_type": "execute_result",
          "data": {
            "text/plain": [
              "(True, 0)"
            ]
          },
          "metadata": {},
          "execution_count": 32
        }
      ],
      "source": [
        "checkodesol(de, Y)"
      ]
    },
    {
      "cell_type": "markdown",
      "metadata": {
        "id": "57nn9VY-YpY2"
      },
      "source": [
        "# Exercise 3.2.7\n",
        "\n",
        "$\n",
        "\\left\\{\n",
        "\\begin{array}{l}\n",
        "y' - 2y = -x^2      \\\\[1ex]\n",
        "y(0) = \\frac{1}{4}\n",
        "\\end{array}\n",
        "\\right.\n",
        "$\n"
      ]
    },
    {
      "cell_type": "code",
      "execution_count": 33,
      "metadata": {
        "colab": {
          "base_uri": "https://localhost:8080/",
          "height": 71
        },
        "id": "hn_WT_EaYpY2",
        "outputId": "448778f5-bff3-448f-cb19-30d9600120d3"
      },
      "outputs": [
        {
          "output_type": "stream",
          "name": "stdout",
          "text": [
            "Eq(y(x), x**2/2 + x/2 + 1/4)\n"
          ]
        },
        {
          "output_type": "display_data",
          "data": {
            "text/plain": [
              "Eq(y(x), x**2/2 + x/2 + 1/4)"
            ],
            "text/latex": "$\\displaystyle y{\\left(x \\right)} = \\frac{x^{2}}{2} + \\frac{x}{2} + \\frac{1}{4}$"
          },
          "metadata": {}
        }
      ],
      "source": [
        "x = symbols(\"x\", real=True)\n",
        "y = symbols(\"y\", cls=Function)\n",
        "de = Eq(y(x).diff(x) - 2*y(x) , -x**2)\n",
        "Y = dsolve(de, y(x) , ics={y(0): 1/4})\n",
        "print(Y)\n",
        "display(Y)"
      ]
    },
    {
      "cell_type": "code",
      "execution_count": 34,
      "metadata": {
        "colab": {
          "base_uri": "https://localhost:8080/"
        },
        "id": "DDA9uVOCYpY2",
        "outputId": "431fbff5-1d2a-439e-ecd3-a991bdff2688"
      },
      "outputs": [
        {
          "output_type": "execute_result",
          "data": {
            "text/plain": [
              "(True, 0)"
            ]
          },
          "metadata": {},
          "execution_count": 34
        }
      ],
      "source": [
        "checkodesol(de, Y)"
      ]
    },
    {
      "cell_type": "markdown",
      "metadata": {
        "id": "pqBnGWXAYpY2"
      },
      "source": [
        "# Exercise 3.2.8\n",
        "\n",
        "$\n",
        "\\left\\{\n",
        "\\begin{array}{l}\n",
        "xy' + y = 2x+1, \\quad x>0 \\\\[1ex]\n",
        "y(1) = 1\n",
        "\\end{array}\n",
        "\\right.\n",
        "$\n"
      ]
    },
    {
      "cell_type": "code",
      "execution_count": 35,
      "metadata": {
        "colab": {
          "base_uri": "https://localhost:8080/",
          "height": 68
        },
        "id": "WBXf0URPYpY2",
        "outputId": "18da8bf9-c31a-4b4a-b809-baf07e772c16"
      },
      "outputs": [
        {
          "output_type": "stream",
          "name": "stdout",
          "text": [
            "Eq(y(x), -x + 1 + 1/x)\n"
          ]
        },
        {
          "output_type": "display_data",
          "data": {
            "text/plain": [
              "Eq(y(x), -x + 1 + 1/x)"
            ],
            "text/latex": "$\\displaystyle y{\\left(x \\right)} = - x + 1 + \\frac{1}{x}$"
          },
          "metadata": {}
        }
      ],
      "source": [
        "x = symbols(\"x\", real=True)\n",
        "y = symbols(\"y\", cls=Function)\n",
        "de = Eq(x * y(x).diff(x) + y(x) , -2*x + 1)\n",
        "Y = dsolve(de, y(x) , ics={y(1): 1})\n",
        "print(Y)\n",
        "display(Y)"
      ]
    },
    {
      "cell_type": "code",
      "execution_count": 36,
      "metadata": {
        "colab": {
          "base_uri": "https://localhost:8080/"
        },
        "id": "xjBm47oXYpY3",
        "outputId": "e35b610b-dba3-41c4-c416-44718fa4652a"
      },
      "outputs": [
        {
          "output_type": "execute_result",
          "data": {
            "text/plain": [
              "(True, 0)"
            ]
          },
          "metadata": {},
          "execution_count": 36
        }
      ],
      "source": [
        "checkodesol(de, Y)"
      ]
    },
    {
      "cell_type": "markdown",
      "metadata": {
        "id": "TmoiRYBIYpY3"
      },
      "source": [
        "# Exercise 3.2.9\n",
        "\n",
        "$\n",
        "\\left\\{\n",
        "\\begin{array}{l}\n",
        "(x-2)dx + (y-1)dy = 0 \\\\[1ex]\n",
        "y(2) = 1\n",
        "\\end{array}\n",
        "\\right.\n",
        "$\n"
      ]
    },
    {
      "cell_type": "code",
      "execution_count": 37,
      "metadata": {
        "colab": {
          "base_uri": "https://localhost:8080/",
          "height": 83
        },
        "id": "kixL_JqoYpY3",
        "outputId": "ae7f0455-ee91-45fb-adee-e705355ea465"
      },
      "outputs": [
        {
          "output_type": "stream",
          "name": "stdout",
          "text": [
            "[Eq(y(x), 1 - sqrt(-x**2 + 4*x - 4)), Eq(y(x), sqrt(-x**2 + 4*x - 4) + 1)]\n"
          ]
        },
        {
          "output_type": "display_data",
          "data": {
            "text/plain": [
              "Eq(y(x), 1 - sqrt(-x**2 + 4*x - 4))"
            ],
            "text/latex": "$\\displaystyle y{\\left(x \\right)} = 1 - \\sqrt{- x^{2} + 4 x - 4}$"
          },
          "metadata": {}
        },
        {
          "output_type": "display_data",
          "data": {
            "text/plain": [
              "Eq(y(x), sqrt(-x**2 + 4*x - 4) + 1)"
            ],
            "text/latex": "$\\displaystyle y{\\left(x \\right)} = \\sqrt{- x^{2} + 4 x - 4} + 1$"
          },
          "metadata": {}
        }
      ],
      "source": [
        "x = symbols(\"x\", real=True)\n",
        "y = symbols(\"y\", cls=Function)\n",
        "de = Eq(x-2 + (y(x) - 1) * y(x).diff(x) , 0)\n",
        "Y = dsolve(de, y(x) , ics={y(2): 1})\n",
        "print(Y)\n",
        "display(Y[0])\n",
        "display(Y[1])"
      ]
    },
    {
      "cell_type": "code",
      "execution_count": 38,
      "metadata": {
        "colab": {
          "base_uri": "https://localhost:8080/"
        },
        "id": "WyqFEZrDYpY3",
        "outputId": "b32c1cf0-7c2d-4c15-98f2-c0a3863e4e31"
      },
      "outputs": [
        {
          "output_type": "execute_result",
          "data": {
            "text/plain": [
              "[(True, 0), (True, 0)]"
            ]
          },
          "metadata": {},
          "execution_count": 38
        }
      ],
      "source": [
        "checkodesol(de, Y)"
      ]
    },
    {
      "cell_type": "markdown",
      "metadata": {
        "id": "xikI_O_5YpY3"
      },
      "source": [
        "# Exercise 3.2.10\n",
        "\n",
        "$\n",
        "\\left\\{\n",
        "\\begin{array}{l}\n",
        "(1+x^2)dy - 2x(y+3)dx = 0 \\\\[1ex]\n",
        "y(0) = -1\n",
        "\\end{array}\n",
        "\\right.\n",
        "$\n"
      ]
    },
    {
      "cell_type": "code",
      "execution_count": 39,
      "metadata": {
        "colab": {
          "base_uri": "https://localhost:8080/",
          "height": 56
        },
        "id": "iQXVGPgiYpY4",
        "outputId": "ee3752ea-afc0-44fb-b1a6-6c153fe116cf"
      },
      "outputs": [
        {
          "output_type": "stream",
          "name": "stdout",
          "text": [
            "Eq(y(x), 2*x**2 - 1)\n"
          ]
        },
        {
          "output_type": "display_data",
          "data": {
            "text/plain": [
              "Eq(y(x), 2*x**2 - 1)"
            ],
            "text/latex": "$\\displaystyle y{\\left(x \\right)} = 2 x^{2} - 1$"
          },
          "metadata": {}
        }
      ],
      "source": [
        "x = symbols(\"x\", real=True)\n",
        "y = symbols(\"y\", cls=Function)\n",
        "de = Eq((1+x**2) * y(x).diff(x) - 2*x*(y(x) + 3) , 0)\n",
        "Y = dsolve(de, y(x) , ics={y(0): -1})\n",
        "print(Y)\n",
        "display(Y)"
      ]
    },
    {
      "cell_type": "code",
      "execution_count": 40,
      "metadata": {
        "colab": {
          "base_uri": "https://localhost:8080/"
        },
        "id": "iPCT3wK8YpY4",
        "outputId": "8bf7775c-0fed-4979-d121-3c195406dcb5"
      },
      "outputs": [
        {
          "output_type": "execute_result",
          "data": {
            "text/plain": [
              "(True, 0)"
            ]
          },
          "metadata": {},
          "execution_count": 40
        }
      ],
      "source": [
        "checkodesol(de, Y)"
      ]
    },
    {
      "cell_type": "markdown",
      "metadata": {
        "id": "vth-rl-LYpY4"
      },
      "source": [
        "# Exercise 3.2.11\n",
        "\n",
        "$\n",
        "\\left\\{\n",
        "\\begin{array}{l}\n",
        "y'\\sqrt{1-x^2} = x \\\\[1ex]\n",
        "y(1) = 0\n",
        "\\end{array}\n",
        "\\right.\n",
        "$\n"
      ]
    },
    {
      "cell_type": "code",
      "execution_count": 41,
      "metadata": {
        "colab": {
          "base_uri": "https://localhost:8080/",
          "height": 59
        },
        "id": "PdbxK-VOYpY4",
        "outputId": "97646085-90d5-4242-af83-71120711c9a3"
      },
      "outputs": [
        {
          "output_type": "stream",
          "name": "stdout",
          "text": [
            "Eq(y(x), -sqrt(1 - x**2))\n"
          ]
        },
        {
          "output_type": "display_data",
          "data": {
            "text/plain": [
              "Eq(y(x), -sqrt(1 - x**2))"
            ],
            "text/latex": "$\\displaystyle y{\\left(x \\right)} = - \\sqrt{1 - x^{2}}$"
          },
          "metadata": {}
        }
      ],
      "source": [
        "x = symbols(\"x\", real=True)\n",
        "y = symbols(\"y\", cls=Function)\n",
        "de = Eq(y(x).diff(x) * sqrt(1 - x**2) , x)\n",
        "Y = dsolve(de, y(x) , ics={y(1): 0})\n",
        "print(Y)\n",
        "display(Y)"
      ]
    },
    {
      "cell_type": "code",
      "execution_count": 42,
      "metadata": {
        "colab": {
          "base_uri": "https://localhost:8080/"
        },
        "id": "oj8FsQBOYpY4",
        "outputId": "34b5223e-cc90-496f-95ac-32c32bef69c5"
      },
      "outputs": [
        {
          "output_type": "execute_result",
          "data": {
            "text/plain": [
              "(True, 0)"
            ]
          },
          "metadata": {},
          "execution_count": 42
        }
      ],
      "source": [
        "checkodesol(de, Y)"
      ]
    },
    {
      "cell_type": "markdown",
      "metadata": {
        "id": "m1FLvVGAYpY5"
      },
      "source": [
        "# Exercise 3.2.12\n",
        "\n",
        "$\n",
        "\\left\\{\n",
        "\\begin{array}{l}\n",
        "y' \\tan x = 1 + y \\\\[1ex]\n",
        "y(\\frac{\\pi}{6}) = -0.5\n",
        "\\end{array}\n",
        "\\right.\n",
        "$\n"
      ]
    },
    {
      "cell_type": "code",
      "execution_count": 43,
      "metadata": {
        "colab": {
          "base_uri": "https://localhost:8080/",
          "height": 56
        },
        "id": "rRLLDerLYpY5",
        "outputId": "10e0a490-4be9-42bb-ab3e-8374ab57b8f1"
      },
      "outputs": [
        {
          "output_type": "stream",
          "name": "stdout",
          "text": [
            "Eq(y(x), 3.0*sin(x) - 1)\n"
          ]
        },
        {
          "output_type": "display_data",
          "data": {
            "text/plain": [
              "Eq(y(x), 3.0*sin(x) - 1)"
            ],
            "text/latex": "$\\displaystyle y{\\left(x \\right)} = 3.0 \\sin{\\left(x \\right)} - 1$"
          },
          "metadata": {}
        }
      ],
      "source": [
        "x = symbols(\"x\", real=True)\n",
        "y = symbols(\"y\", cls=Function)\n",
        "de = Eq(y(x).diff(x) * tan(x) , 1 + y(x))\n",
        "Y = dsolve(de, y(x) , ics={y(pi/6): 1/2})\n",
        "print(Y)\n",
        "display(Y)"
      ]
    },
    {
      "cell_type": "code",
      "execution_count": 44,
      "metadata": {
        "colab": {
          "base_uri": "https://localhost:8080/"
        },
        "id": "647adgeWYpY5",
        "outputId": "c322e973-682e-429f-b46d-56cea68e3f0b"
      },
      "outputs": [
        {
          "output_type": "execute_result",
          "data": {
            "text/plain": [
              "(True, 0)"
            ]
          },
          "metadata": {},
          "execution_count": 44
        }
      ],
      "source": [
        "checkodesol(de, Y)"
      ]
    },
    {
      "cell_type": "markdown",
      "metadata": {
        "id": "Ur3aN4UhqKWS"
      },
      "source": [
        "# Exercise 3.3.1\n",
        "\n",
        "$y' = \\dfrac{2xy}{x^2+y^2}$\n",
        "\n",
        "[**Link to a step-by-step solution**](\n",
        "https://mathdf.com/dif/#expr=y'%3D(2xy)%2F(x%5E2%2By%5E2)&func=y&arg=x)"
      ]
    },
    {
      "cell_type": "code",
      "execution_count": 45,
      "metadata": {
        "colab": {
          "base_uri": "https://localhost:8080/",
          "height": 95
        },
        "outputId": "c5cef310-a5c3-43af-c37f-937a7ca7d246",
        "scrolled": true,
        "id": "D2CCA0IWqKWS"
      },
      "outputs": [
        {
          "output_type": "display_data",
          "data": {
            "text/plain": [
              "Eq(y(x), -sqrt(4*x**2 + exp(2*C1))/2 - exp(C1)/2)"
            ],
            "text/latex": "$\\displaystyle y{\\left(x \\right)} = - \\frac{\\sqrt{4 x^{2} + e^{2 C_{1}}}}{2} - \\frac{e^{C_{1}}}{2}$"
          },
          "metadata": {}
        },
        {
          "output_type": "display_data",
          "data": {
            "text/plain": [
              "Eq(y(x), sqrt(4*x**2 + exp(2*C1))/2 - exp(C1)/2)"
            ],
            "text/latex": "$\\displaystyle y{\\left(x \\right)} = \\frac{\\sqrt{4 x^{2} + e^{2 C_{1}}}}{2} - \\frac{e^{C_{1}}}{2}$"
          },
          "metadata": {}
        }
      ],
      "source": [
        "x = symbols(\"x\", real=True)\n",
        "y = symbols(\"y\", cls=Function)\n",
        "de = Eq(y(x).diff(x), 2*x*y(x) / (x**2 + y(x)**2))\n",
        "Y = dsolve(de, y(x))\n",
        "display(Y[0])\n",
        "display(Y[1])"
      ]
    },
    {
      "cell_type": "code",
      "execution_count": 46,
      "metadata": {
        "colab": {
          "base_uri": "https://localhost:8080/"
        },
        "outputId": "2ab654d1-7cff-4a43-eed5-f6c1028cfeb3",
        "id": "qCMXNw7aqKWS"
      },
      "outputs": [
        {
          "output_type": "execute_result",
          "data": {
            "text/plain": [
              "[(True, 0), (True, 0)]"
            ]
          },
          "metadata": {},
          "execution_count": 46
        }
      ],
      "source": [
        "checkodesol(de, Y)"
      ]
    },
    {
      "cell_type": "markdown",
      "metadata": {
        "id": "Y6Ygr3xUqKWS"
      },
      "source": [
        "* Sympy missed the trivial solution: $y=0$\n",
        "* The mathdf engine gave a more compact implicit solution:\n",
        "<br/>\n",
        "$\\dfrac{y}{x}-\\dfrac{x}{y}=\\dfrac{C}{x},\\;\\,y=0$"
      ]
    },
    {
      "cell_type": "markdown",
      "metadata": {
        "id": "FbtsQO25qKWS"
      },
      "source": [
        "# Exercise 3.3.2\n",
        "\n",
        "$xy' - y = x\\tan\\frac{y}{x}$\n",
        "\n",
        "[**Link to a step-by-step solution**](\n",
        "https://mathdf.com/dif/#expr=xy'-y%3Dxtan((y)%2F(x))&func=y&arg=x\n",
        ")"
      ]
    },
    {
      "cell_type": "code",
      "execution_count": 47,
      "metadata": {
        "colab": {
          "base_uri": "https://localhost:8080/",
          "height": 61
        },
        "outputId": "59b67b64-3a82-4d45-d156-9be42bf77256",
        "scrolled": true,
        "id": "wgk7fEMFqKWS"
      },
      "outputs": [
        {
          "output_type": "display_data",
          "data": {
            "text/plain": [
              "Eq(y(x), x*(pi - asin(C1*x)))"
            ],
            "text/latex": "$\\displaystyle y{\\left(x \\right)} = x \\left(\\pi - \\operatorname{asin}{\\left(C_{1} x \\right)}\\right)$"
          },
          "metadata": {}
        },
        {
          "output_type": "display_data",
          "data": {
            "text/plain": [
              "Eq(y(x), x*asin(C1*x))"
            ],
            "text/latex": "$\\displaystyle y{\\left(x \\right)} = x \\operatorname{asin}{\\left(C_{1} x \\right)}$"
          },
          "metadata": {}
        }
      ],
      "source": [
        "x = symbols(\"x\", real=True)\n",
        "y = symbols(\"y\", cls=Function)\n",
        "de = Eq(x * y(x).diff(x) - y(x) , x * tan(y(x)/x))\n",
        "Y = dsolve(de, y(x))\n",
        "display(Y[0])\n",
        "display(Y[1])"
      ]
    },
    {
      "cell_type": "code",
      "execution_count": 48,
      "metadata": {
        "colab": {
          "base_uri": "https://localhost:8080/"
        },
        "outputId": "a6c799bf-4a92-4152-a277-ab4283b11178",
        "scrolled": true,
        "id": "ZQI-5lgHqKWS"
      },
      "outputs": [
        {
          "output_type": "execute_result",
          "data": {
            "text/plain": [
              "[(True, 0), (True, 0)]"
            ]
          },
          "metadata": {},
          "execution_count": 48
        }
      ],
      "source": [
        "checkodesol(de, Y)"
      ]
    },
    {
      "cell_type": "markdown",
      "metadata": {
        "id": "seZbGscoqKWT"
      },
      "source": [
        "# Exercise 3.3.3\n",
        "\n",
        "$xy' - y = (x+y)\\ln\\frac{x+y}{x}$\n",
        "\n",
        "[**Link to a step-by-step solution**](\n",
        "https://mathdf.com/dif/#expr=xy'-y%3D(x%2By)ln((x%2By)%2F(x))&func=y&arg=x\n",
        ")"
      ]
    },
    {
      "cell_type": "code",
      "execution_count": 49,
      "metadata": {
        "colab": {
          "base_uri": "https://localhost:8080/",
          "height": 39
        },
        "outputId": "1e164431-d5a0-464c-cf0e-049723cd4e4f",
        "scrolled": true,
        "id": "I-UWS08eqKWT"
      },
      "outputs": [
        {
          "output_type": "display_data",
          "data": {
            "text/plain": [
              "Eq(y(x), x*(exp(C1*x) - 1))"
            ],
            "text/latex": "$\\displaystyle y{\\left(x \\right)} = x \\left(e^{C_{1} x} - 1\\right)$"
          },
          "metadata": {}
        }
      ],
      "source": [
        "x = symbols(\"x\", real=True)\n",
        "y = symbols(\"y\", cls=Function)\n",
        "de = Eq(x * y(x).diff(x) - y(x) , (x + y(x)) * log((x+y(x)) / x))\n",
        "Y = dsolve(de, y(x))\n",
        "display(Y)"
      ]
    },
    {
      "cell_type": "code",
      "execution_count": 50,
      "metadata": {
        "colab": {
          "base_uri": "https://localhost:8080/"
        },
        "outputId": "0a167635-c87e-480a-a273-05f3f5bcf4ba",
        "id": "eIpRbVFAqKWT"
      },
      "outputs": [
        {
          "output_type": "execute_result",
          "data": {
            "text/plain": [
              "(True, 0)"
            ]
          },
          "metadata": {},
          "execution_count": 50
        }
      ],
      "source": [
        "checkodesol(de, Y)"
      ]
    },
    {
      "cell_type": "markdown",
      "metadata": {
        "id": "LECnxh2WqKWT"
      },
      "source": [
        "# Exercise 3.3.4\n",
        "\n",
        "$\\left(x-y\\cos\\frac{y}{x}\\right)dx + x\\cos\\frac{y}{x}\\,dy = 0$\n"
      ]
    },
    {
      "cell_type": "code",
      "execution_count": 51,
      "metadata": {
        "colab": {
          "base_uri": "https://localhost:8080/",
          "height": 61
        },
        "outputId": "8ab6f5e8-34f6-4795-ac37-b91fd2263ea8",
        "scrolled": true,
        "id": "AYzToS2eqKWT"
      },
      "outputs": [
        {
          "output_type": "display_data",
          "data": {
            "text/plain": [
              "Eq(y(x), x*(pi - asin(C1 - log(x))))"
            ],
            "text/latex": "$\\displaystyle y{\\left(x \\right)} = x \\left(\\pi - \\operatorname{asin}{\\left(C_{1} - \\log{\\left(x \\right)} \\right)}\\right)$"
          },
          "metadata": {}
        },
        {
          "output_type": "display_data",
          "data": {
            "text/plain": [
              "Eq(y(x), x*asin(C1 - log(x)))"
            ],
            "text/latex": "$\\displaystyle y{\\left(x \\right)} = x \\operatorname{asin}{\\left(C_{1} - \\log{\\left(x \\right)} \\right)}$"
          },
          "metadata": {}
        }
      ],
      "source": [
        "x = symbols(\"x\", real=True)\n",
        "y = symbols(\"y\", cls=Function)\n",
        "de = Eq(x - y(x)*cos(y(x)/x) + x * cos(y(x)/x) * y(x).diff(x) , 0)\n",
        "Y = dsolve(de, y(x))\n",
        "display(Y[0])\n",
        "display(Y[1])"
      ]
    },
    {
      "cell_type": "code",
      "execution_count": 53,
      "metadata": {
        "colab": {
          "base_uri": "https://localhost:8080/"
        },
        "outputId": "e46ba6e4-7bb8-4e5b-ba70-18a26fc38082",
        "id": "AUoXu-kDqKWT"
      },
      "outputs": [
        {
          "output_type": "execute_result",
          "data": {
            "text/plain": [
              "[(True, 0), (True, 0)]"
            ]
          },
          "metadata": {},
          "execution_count": 53
        }
      ],
      "source": [
        "checkodesol(de, Y)"
      ]
    },
    {
      "cell_type": "markdown",
      "metadata": {
        "id": "40ay9vT4vGyl"
      },
      "source": [
        "# Exercise 3.3.5\n",
        "\n",
        "$y' - \\dfrac{y}{x} = x$\n"
      ]
    },
    {
      "cell_type": "code",
      "execution_count": 6,
      "metadata": {
        "colab": {
          "base_uri": "https://localhost:8080/",
          "height": 39
        },
        "outputId": "96098295-b4db-4922-cc9b-d3bbce32f441",
        "scrolled": true,
        "id": "FiTpmhTEvGy_"
      },
      "outputs": [
        {
          "output_type": "display_data",
          "data": {
            "text/plain": [
              "Eq(y(x), x*(C1 + x))"
            ],
            "text/latex": "$\\displaystyle y{\\left(x \\right)} = x \\left(C_{1} + x\\right)$"
          },
          "metadata": {}
        }
      ],
      "source": [
        "x = symbols(\"x\", real=True)\n",
        "y = symbols(\"y\", cls=Function)\n",
        "de = Eq(y(x).diff(x) - y(x)/x , x)\n",
        "Y = dsolve(de, y(x))\n",
        "display(Y)"
      ]
    },
    {
      "cell_type": "code",
      "execution_count": 7,
      "metadata": {
        "colab": {
          "base_uri": "https://localhost:8080/"
        },
        "outputId": "dc0ea8fe-9462-47fa-cdbf-79297ecb04b9",
        "id": "3-2sEUXzvGzA"
      },
      "outputs": [
        {
          "output_type": "execute_result",
          "data": {
            "text/plain": [
              "(True, 0)"
            ]
          },
          "metadata": {},
          "execution_count": 7
        }
      ],
      "source": [
        "checkodesol(de, Y)"
      ]
    },
    {
      "cell_type": "markdown",
      "metadata": {
        "id": "BtENlclcgYvQ"
      },
      "source": [
        "# Exercise 3.3.6\n",
        "\n",
        "$x(y' - y) = e^x$\n"
      ]
    },
    {
      "cell_type": "code",
      "execution_count": 5,
      "metadata": {
        "colab": {
          "base_uri": "https://localhost:8080/",
          "height": 39
        },
        "outputId": "0dc3ac2b-358b-4616-8c7e-8949faf48270",
        "scrolled": true,
        "id": "v7BE56ZsgYvh"
      },
      "outputs": [
        {
          "output_type": "display_data",
          "data": {
            "text/plain": [
              "Eq(y(x), (C1 + log(x))*exp(x))"
            ],
            "text/latex": "$\\displaystyle y{\\left(x \\right)} = \\left(C_{1} + \\log{\\left(x \\right)}\\right) e^{x}$"
          },
          "metadata": {}
        }
      ],
      "source": [
        "x = symbols(\"x\", real=True)\n",
        "y = symbols(\"y\", cls=Function)\n",
        "de = Eq(x * (y(x).diff(x) - y(x)) , exp(x))\n",
        "Y = dsolve(de, y(x))\n",
        "display(Y)"
      ]
    },
    {
      "cell_type": "code",
      "execution_count": 8,
      "metadata": {
        "colab": {
          "base_uri": "https://localhost:8080/"
        },
        "outputId": "3cd4001b-5e8d-4b64-fb35-8eaaed83b062",
        "id": "sWsocfxpgYvh"
      },
      "outputs": [
        {
          "output_type": "execute_result",
          "data": {
            "text/plain": [
              "(True, 0)"
            ]
          },
          "metadata": {},
          "execution_count": 8
        }
      ],
      "source": [
        "checkodesol(de, Y)"
      ]
    },
    {
      "cell_type": "markdown",
      "metadata": {
        "id": "ruseDy92g4L9"
      },
      "source": [
        "# Exercise 3.3.7\n",
        "\n",
        "$xy' + (x+1)y = 3x^2e^{-x}$\n"
      ]
    },
    {
      "cell_type": "code",
      "execution_count": null,
      "metadata": {
        "colab": {
          "base_uri": "https://localhost:8080/",
          "height": 39
        },
        "outputId": "0dc3ac2b-358b-4616-8c7e-8949faf48270",
        "scrolled": true,
        "id": "ktq7PaLMg4L-"
      },
      "outputs": [
        {
          "output_type": "display_data",
          "data": {
            "text/plain": [
              "Eq(y(x), (C1 + log(x))*exp(x))"
            ],
            "text/latex": "$\\displaystyle y{\\left(x \\right)} = \\left(C_{1} + \\log{\\left(x \\right)}\\right) e^{x}$"
          },
          "metadata": {}
        }
      ],
      "source": [
        "x = symbols(\"x\", real=True)\n",
        "y = symbols(\"y\", cls=Function)\n",
        "de = Eq(x * (y(x).diff(x) + (x+1))\n",
        "Y = dsolve(de, y(x))\n",
        "display(Y)"
      ]
    },
    {
      "cell_type": "code",
      "execution_count": null,
      "metadata": {
        "colab": {
          "base_uri": "https://localhost:8080/"
        },
        "outputId": "3cd4001b-5e8d-4b64-fb35-8eaaed83b062",
        "id": "kwIFT_bCg4L-"
      },
      "outputs": [
        {
          "output_type": "execute_result",
          "data": {
            "text/plain": [
              "(True, 0)"
            ]
          },
          "metadata": {},
          "execution_count": 8
        }
      ],
      "source": [
        "checkodesol(de, Y)"
      ]
    },
    {
      "cell_type": "markdown",
      "metadata": {
        "id": "GPMJmW-YHYC_"
      },
      "source": [
        "# Exercise 3.3.8\n",
        "\n",
        "$xy' - 2y = x^3 +x$\n"
      ]
    },
    {
      "cell_type": "code",
      "execution_count": 4,
      "metadata": {
        "colab": {
          "base_uri": "https://localhost:8080/",
          "height": 39
        },
        "outputId": "ba8f3ac1-9d34-4b0d-ce67-b54ca18a3ba2",
        "scrolled": true,
        "id": "ARGMTdjOHYDZ"
      },
      "outputs": [
        {
          "output_type": "display_data",
          "data": {
            "text/plain": [
              "Eq(y(x), x*(C1*x + x**2 - 1))"
            ],
            "text/latex": "$\\displaystyle y{\\left(x \\right)} = x \\left(C_{1} x + x^{2} - 1\\right)$"
          },
          "metadata": {}
        }
      ],
      "source": [
        "x = symbols(\"x\", real=True)\n",
        "y = symbols(\"y\", cls=Function)\n",
        "de = Eq(x * y(x).diff(x) - 2*y(x) , x**3 + x)\n",
        "Y = dsolve(de, y(x))\n",
        "display(Y)"
      ]
    },
    {
      "cell_type": "code",
      "execution_count": 5,
      "metadata": {
        "colab": {
          "base_uri": "https://localhost:8080/"
        },
        "outputId": "befdce20-4f59-4c95-c913-7b18563da412",
        "id": "iUbm5q8WHYDa"
      },
      "outputs": [
        {
          "output_type": "execute_result",
          "data": {
            "text/plain": [
              "(True, 0)"
            ]
          },
          "metadata": {},
          "execution_count": 5
        }
      ],
      "source": [
        "checkodesol(de, Y)"
      ]
    },
    {
      "cell_type": "markdown",
      "metadata": {
        "id": "-OZQ60jiIKIC"
      },
      "source": [
        "# Exercise 3.3.9\n",
        "\n",
        "$y'\\sin x - y\\cos x = 1$\n"
      ]
    },
    {
      "cell_type": "code",
      "execution_count": 6,
      "metadata": {
        "colab": {
          "base_uri": "https://localhost:8080/",
          "height": 39
        },
        "outputId": "a8ac86f5-7ac9-437b-b41c-b2936821ead7",
        "scrolled": true,
        "id": "U0YuTKV3IKIW"
      },
      "outputs": [
        {
          "output_type": "display_data",
          "data": {
            "text/plain": [
              "Eq(y(x), C1*sin(x) - cos(x))"
            ],
            "text/latex": "$\\displaystyle y{\\left(x \\right)} = C_{1} \\sin{\\left(x \\right)} - \\cos{\\left(x \\right)}$"
          },
          "metadata": {}
        }
      ],
      "source": [
        "x = symbols(\"x\", real=True)\n",
        "y = symbols(\"y\", cls=Function)\n",
        "de = Eq(y(x).diff(x) * sin(x) - y(x) * cos(x) , 1)\n",
        "Y = dsolve(de, y(x))\n",
        "display(Y)"
      ]
    },
    {
      "cell_type": "code",
      "execution_count": 7,
      "metadata": {
        "colab": {
          "base_uri": "https://localhost:8080/"
        },
        "outputId": "184195f9-bb28-4a7b-c234-e4ca6d88087d",
        "id": "OXT6kSIpIKIW"
      },
      "outputs": [
        {
          "output_type": "execute_result",
          "data": {
            "text/plain": [
              "(True, 0)"
            ]
          },
          "metadata": {},
          "execution_count": 7
        }
      ],
      "source": [
        "checkodesol(de, Y)"
      ]
    },
    {
      "cell_type": "markdown",
      "metadata": {
        "id": "ovZkxOmUIre2"
      },
      "source": [
        "# Exercise 3.3.10\n",
        "\n",
        "$\\frac{dy}{dx} = \\frac{2y-x+5}{2x-y-4}$\n"
      ]
    },
    {
      "cell_type": "code",
      "execution_count": null,
      "metadata": {
        "scrolled": true,
        "id": "Z71NBWJJIre2"
      },
      "outputs": [],
      "source": [
        "x = symbols(\"x\", real=True)\n",
        "y = symbols(\"y\", cls=Function)\n",
        "de = Eq(y(x).diff(x) , (2*y(x) - x + 5) / (2*x - y(x) -4))\n",
        "# Y = dsolve(de, y(x)) # sympy 1.11.1 failed to solve (hangs) - will wait for upgrade ...\n",
        "# display(Y)"
      ]
    },
    {
      "cell_type": "markdown",
      "source": [
        "mathdf final solution:\n",
        "\n",
        "$\\dfrac{y-x+3}{\\left({y+x+1}\\right)^{3}}=C,\\;\\,x=-y-1$\n",
        "\n",
        "[**Link to a step-by-step solution**](\n",
        "https://mathdf.com/dif/#expr=(d(y))%2F(d(x))%3D(2y-x%2B5)%2F(2x-y-4)&func=y&arg=x)"
      ],
      "metadata": {
        "id": "plaj76wVKFvo"
      }
    },
    {
      "cell_type": "code",
      "execution_count": null,
      "metadata": {
        "colab": {
          "base_uri": "https://localhost:8080/"
        },
        "outputId": "184195f9-bb28-4a7b-c234-e4ca6d88087d",
        "id": "s4Bunzn6Ire2"
      },
      "outputs": [
        {
          "output_type": "execute_result",
          "data": {
            "text/plain": [
              "(True, 0)"
            ]
          },
          "metadata": {},
          "execution_count": 7
        }
      ],
      "source": [
        "checkodesol(de, Y)"
      ]
    },
    {
      "cell_type": "markdown",
      "metadata": {
        "id": "pwjBCsLcLcYT"
      },
      "source": [
        "# Exercise 3.3.11\n",
        "\n",
        "$(2x+y-3)dx + (x+y-1)dy = 0$\n"
      ]
    },
    {
      "cell_type": "code",
      "execution_count": 7,
      "metadata": {
        "scrolled": true,
        "colab": {
          "base_uri": "https://localhost:8080/",
          "height": 65
        },
        "id": "WwLiOmrnLcYe",
        "outputId": "b6e49605-3449-4f3b-d907-ccbbc2959748"
      },
      "outputs": [
        {
          "output_type": "display_data",
          "data": {
            "text/plain": [
              "Eq(y(x), -x - sqrt(C1 - x**2 + 4*x) + 1)"
            ],
            "text/latex": "$\\displaystyle y{\\left(x \\right)} = - x - \\sqrt{C_{1} - x^{2} + 4 x} + 1$"
          },
          "metadata": {}
        },
        {
          "output_type": "display_data",
          "data": {
            "text/plain": [
              "Eq(y(x), -x + sqrt(C1 - x**2 + 4*x) + 1)"
            ],
            "text/latex": "$\\displaystyle y{\\left(x \\right)} = - x + \\sqrt{C_{1} - x^{2} + 4 x} + 1$"
          },
          "metadata": {}
        }
      ],
      "source": [
        "x = symbols(\"x\", real=True)\n",
        "y = symbols(\"y\", cls=Function)\n",
        "de = Eq(2*x + y(x) - 3 + (x + y(x) - 1) * y(x).diff(x) , 0)\n",
        "Y = dsolve(de, y(x)) \n",
        "display(Y[0])\n",
        "display(Y[1])"
      ]
    },
    {
      "cell_type": "code",
      "execution_count": 8,
      "metadata": {
        "colab": {
          "base_uri": "https://localhost:8080/"
        },
        "outputId": "b1069e15-39bc-48c2-c949-ea5e6b511add",
        "id": "PAujYkS1LcYf"
      },
      "outputs": [
        {
          "output_type": "execute_result",
          "data": {
            "text/plain": [
              "[(True, 0), (True, 0)]"
            ]
          },
          "metadata": {},
          "execution_count": 8
        }
      ],
      "source": [
        "checkodesol(de, Y)"
      ]
    },
    {
      "cell_type": "markdown",
      "metadata": {
        "id": "U8YHnTVMFpex"
      },
      "source": [
        "# Exercise 3.4.1\n",
        "\n",
        "$xy^2y' = x^2 + y^2$"
      ]
    },
    {
      "cell_type": "code",
      "execution_count": null,
      "metadata": {
        "scrolled": true,
        "id": "Hhy2MK9tFpe4"
      },
      "outputs": [],
      "source": [
        "x = symbols(\"x\", real=True)\n",
        "y = symbols(\"y\", cls=Function)\n",
        "de = Eq(x * y(x)**2 * y(x).diff(x) , x**2 + y(x)**2)\n",
        "# Y = dsolve(de, y(x)) \n",
        "# display(Y)"
      ]
    },
    {
      "cell_type": "markdown",
      "source": [
        "* This problem could not be solved by Sympy and MathDF\n",
        "* Maybe it should be dropped.\n",
        "* Will be checked later ..."
      ],
      "metadata": {
        "id": "HqwHLw4NHetM"
      }
    },
    {
      "cell_type": "markdown",
      "metadata": {
        "id": "BGriVNz6IUvo"
      },
      "source": [
        "# Exercise 3.4.2\n",
        "\n",
        "$xy\\,dy = (y^2+x)dx$"
      ]
    },
    {
      "cell_type": "code",
      "execution_count": 10,
      "metadata": {
        "scrolled": true,
        "colab": {
          "base_uri": "https://localhost:8080/",
          "height": 63
        },
        "outputId": "7af5e73d-1118-40dd-b992-9f5194f23cf6",
        "id": "t1J1JgYAIUvz"
      },
      "outputs": [
        {
          "output_type": "display_data",
          "data": {
            "text/plain": [
              "Eq(y(x), -sqrt(x*(C1*x - 2)))"
            ],
            "text/latex": "$\\displaystyle y{\\left(x \\right)} = - \\sqrt{x \\left(C_{1} x - 2\\right)}$"
          },
          "metadata": {}
        },
        {
          "output_type": "display_data",
          "data": {
            "text/plain": [
              "Eq(y(x), sqrt(x*(C1*x - 2)))"
            ],
            "text/latex": "$\\displaystyle y{\\left(x \\right)} = \\sqrt{x \\left(C_{1} x - 2\\right)}$"
          },
          "metadata": {}
        }
      ],
      "source": [
        "x = symbols(\"x\", real=True)\n",
        "y = symbols(\"y\", cls=Function)\n",
        "de = Eq(x * y(x) * y(x).diff(x) , y(x)**2 + x)\n",
        "Y = dsolve(de, y(x)) \n",
        "display(Y[0])\n",
        "display(Y[1])"
      ]
    },
    {
      "cell_type": "code",
      "execution_count": 11,
      "metadata": {
        "colab": {
          "base_uri": "https://localhost:8080/"
        },
        "outputId": "327d07be-e744-471c-dcc1-77b97ad47f33",
        "id": "5vd9wT-0IUvz"
      },
      "outputs": [
        {
          "output_type": "execute_result",
          "data": {
            "text/plain": [
              "[(True, 0), (True, 0)]"
            ]
          },
          "metadata": {},
          "execution_count": 11
        }
      ],
      "source": [
        "checkodesol(de, Y)"
      ]
    },
    {
      "cell_type": "markdown",
      "metadata": {
        "id": "WIV9i_6xJByS"
      },
      "source": [
        "# Exercise 3.4.3\n",
        "\n",
        "$x^2 y' = y(x+y)$"
      ]
    },
    {
      "cell_type": "code",
      "execution_count": 14,
      "metadata": {
        "scrolled": true,
        "colab": {
          "base_uri": "https://localhost:8080/",
          "height": 52
        },
        "outputId": "98972ec6-841d-4ce5-fe56-953f79e7593e",
        "id": "WKG1BmKGJByk"
      },
      "outputs": [
        {
          "output_type": "display_data",
          "data": {
            "text/plain": [
              "Eq(y(x), x/(C1 - log(x)))"
            ],
            "text/latex": "$\\displaystyle y{\\left(x \\right)} = \\frac{x}{C_{1} - \\log{\\left(x \\right)}}$"
          },
          "metadata": {}
        }
      ],
      "source": [
        "x = symbols(\"x\", real=True)\n",
        "y = symbols(\"y\", cls=Function)\n",
        "de = Eq(x**2 * y(x).diff(x) , y(x) * (x + y(x)))\n",
        "Y = dsolve(de, y(x)) \n",
        "display(Y)"
      ]
    },
    {
      "cell_type": "code",
      "execution_count": 15,
      "metadata": {
        "colab": {
          "base_uri": "https://localhost:8080/"
        },
        "outputId": "fd68620f-2fe4-4557-922c-528a74b8ec66",
        "id": "cZAcwzF7JByk"
      },
      "outputs": [
        {
          "output_type": "execute_result",
          "data": {
            "text/plain": [
              "(True, 0)"
            ]
          },
          "metadata": {},
          "execution_count": 15
        }
      ],
      "source": [
        "checkodesol(de, Y)"
      ]
    },
    {
      "cell_type": "markdown",
      "metadata": {
        "id": "nOaa_uSoJp4x"
      },
      "source": [
        "# Exercise 3.4.4\n",
        "\n",
        "$y' + y = xy^3$"
      ]
    },
    {
      "cell_type": "code",
      "execution_count": 27,
      "metadata": {
        "scrolled": true,
        "colab": {
          "base_uri": "https://localhost:8080/",
          "height": 117
        },
        "outputId": "2d399e56-d7d6-44df-bd5b-408fa92e017e",
        "id": "SLetrNfqJp4y"
      },
      "outputs": [
        {
          "output_type": "display_data",
          "data": {
            "text/plain": [
              "Eq(y(x), -sqrt(2)*sqrt(1/(C1*exp(2*x) + 2*x + 1)))"
            ],
            "text/latex": "$\\displaystyle y{\\left(x \\right)} = - \\sqrt{2} \\sqrt{\\frac{1}{C_{1} e^{2 x} + 2 x + 1}}$"
          },
          "metadata": {}
        },
        {
          "output_type": "display_data",
          "data": {
            "text/plain": [
              "<IPython.core.display.HTML object>"
            ],
            "text/html": [
              "<br/>"
            ]
          },
          "metadata": {}
        },
        {
          "output_type": "display_data",
          "data": {
            "text/plain": [
              "Eq(y(x), sqrt(2)*sqrt(1/(C1*exp(2*x) + 2*x + 1)))"
            ],
            "text/latex": "$\\displaystyle y{\\left(x \\right)} = \\sqrt{2} \\sqrt{\\frac{1}{C_{1} e^{2 x} + 2 x + 1}}$"
          },
          "metadata": {}
        }
      ],
      "source": [
        "x = symbols(\"x\", real=True)\n",
        "y = symbols(\"y\", cls=Function)\n",
        "de = Eq(y(x).diff(x) + y(x) , x * y(x)**3)\n",
        "Y = dsolve(de, y(x)) \n",
        "display(Y[0])\n",
        "display(HTML(\"<br/>\"))\n",
        "display(Y[1])"
      ]
    },
    {
      "cell_type": "code",
      "execution_count": null,
      "metadata": {
        "colab": {
          "base_uri": "https://localhost:8080/"
        },
        "outputId": "fd68620f-2fe4-4557-922c-528a74b8ec66",
        "id": "icVVx5JNJp41"
      },
      "outputs": [
        {
          "output_type": "execute_result",
          "data": {
            "text/plain": [
              "(True, 0)"
            ]
          },
          "metadata": {},
          "execution_count": 15
        }
      ],
      "source": [
        "checkodesol(de, Y)"
      ]
    },
    {
      "cell_type": "markdown",
      "metadata": {
        "id": "njhkpk70Nxi4"
      },
      "source": [
        "# Exercise 3.4.5\n",
        "\n",
        "$y' + x^3 \\sqrt{y} = 3y$"
      ]
    },
    {
      "cell_type": "code",
      "execution_count": 29,
      "metadata": {
        "scrolled": true,
        "colab": {
          "base_uri": "https://localhost:8080/",
          "height": 56
        },
        "outputId": "d296f4d1-b18c-4eb9-dfe8-a909a7e09c89",
        "id": "PoIGBJZJNxjM"
      },
      "outputs": [
        {
          "output_type": "display_data",
          "data": {
            "text/plain": [
              "Eq(y(x), C1**2*exp(3*x) + 2*C1*x**3*exp(3*x/2)/3 + 4*C1*x**2*exp(3*x/2)/3 + 16*C1*x*exp(3*x/2)/9 + 32*C1*exp(3*x/2)/27 + x**6/9 + 4*x**5/9 + 28*x**4/27 + 128*x**3/81 + 128*x**2/81 + 256*x/243 + 256/729)"
            ],
            "text/latex": "$\\displaystyle y{\\left(x \\right)} = C_{1}^{2} e^{3 x} + \\frac{2 C_{1} x^{3} e^{\\frac{3 x}{2}}}{3} + \\frac{4 C_{1} x^{2} e^{\\frac{3 x}{2}}}{3} + \\frac{16 C_{1} x e^{\\frac{3 x}{2}}}{9} + \\frac{32 C_{1} e^{\\frac{3 x}{2}}}{27} + \\frac{x^{6}}{9} + \\frac{4 x^{5}}{9} + \\frac{28 x^{4}}{27} + \\frac{128 x^{3}}{81} + \\frac{128 x^{2}}{81} + \\frac{256 x}{243} + \\frac{256}{729}$"
          },
          "metadata": {}
        }
      ],
      "source": [
        "x = symbols(\"x\", real=True)\n",
        "y = symbols(\"y\", cls=Function)\n",
        "de = Eq(y(x).diff(x) + x**3 * sqrt(y(x)) , 3 * y(x))\n",
        "Y = dsolve(de, y(x)) \n",
        "display(Y)"
      ]
    },
    {
      "cell_type": "code",
      "execution_count": 30,
      "metadata": {
        "colab": {
          "base_uri": "https://localhost:8080/"
        },
        "outputId": "28ecc1c6-4e45-4771-ea88-5f071b687fa4",
        "id": "CZP1WMQ_NxjN"
      },
      "outputs": [
        {
          "output_type": "execute_result",
          "data": {
            "text/plain": [
              "(False,\n",
              " x**3*(27*C1*exp(3*x/2) + 9*x**3 + 18*x**2 + 24*x - sqrt(729*C1**2*exp(3*x) + 486*C1*x**3*exp(3*x/2) + 972*C1*x**2*exp(3*x/2) + 1296*C1*x*exp(3*x/2) + 864*C1*exp(3*x/2) + 81*x**6 + 324*x**5 + 756*x**4 + 1152*x**3 + 1152*x**2 + 768*x + 256) + 16))"
            ]
          },
          "metadata": {},
          "execution_count": 30
        }
      ],
      "source": [
        "checkodesol(de, Y)"
      ]
    },
    {
      "cell_type": "markdown",
      "source": [
        "* Sympy gives a false solution.\n",
        "* MathDF also provides the same false solution\n",
        "* Something is wrong with this problem\n",
        "* Probably should be dropped ..."
      ],
      "metadata": {
        "id": "Mp5j4d5hO2jR"
      }
    },
    {
      "cell_type": "markdown",
      "metadata": {
        "id": "3Idvab0dPS-4"
      },
      "source": [
        "# Exercise 3.4.6\n",
        "\n",
        "$y' + \\frac{y}{x} = x^2 y^2$"
      ]
    },
    {
      "cell_type": "code",
      "execution_count": 31,
      "metadata": {
        "scrolled": true,
        "colab": {
          "base_uri": "https://localhost:8080/",
          "height": 55
        },
        "outputId": "e0c700b4-fd53-4a9b-d5d9-798d550d383d",
        "id": "hHqwVNJYPS_O"
      },
      "outputs": [
        {
          "output_type": "display_data",
          "data": {
            "text/plain": [
              "Eq(y(x), 2/(x*(C1 - x**2)))"
            ],
            "text/latex": "$\\displaystyle y{\\left(x \\right)} = \\frac{2}{x \\left(C_{1} - x^{2}\\right)}$"
          },
          "metadata": {}
        }
      ],
      "source": [
        "x = symbols(\"x\", real=True)\n",
        "y = symbols(\"y\", cls=Function)\n",
        "de = Eq(y(x).diff(x) + y(x) / x , x**2 * y(x) **2)\n",
        "Y = dsolve(de, y(x)) \n",
        "display(Y)"
      ]
    },
    {
      "cell_type": "code",
      "execution_count": 32,
      "metadata": {
        "colab": {
          "base_uri": "https://localhost:8080/"
        },
        "outputId": "a8b58135-91b9-474f-d7fe-81b13a14df42",
        "id": "nKmJAx_JPS_P"
      },
      "outputs": [
        {
          "output_type": "execute_result",
          "data": {
            "text/plain": [
              "(True, 0)"
            ]
          },
          "metadata": {},
          "execution_count": 32
        }
      ],
      "source": [
        "checkodesol(de, Y)"
      ]
    },
    {
      "cell_type": "markdown",
      "metadata": {
        "id": "17HqEUq3Pk7_"
      },
      "source": [
        "# Exercise 3.4.7\n",
        "\n",
        "$(2-9xy^2)xdx + (4y^2-6x^3)ydy = 0$"
      ]
    },
    {
      "cell_type": "code",
      "execution_count": null,
      "metadata": {
        "scrolled": true,
        "id": "q7QRx-ISPk8Z"
      },
      "outputs": [],
      "source": [
        "x = symbols(\"x\", real=True)\n",
        "y = symbols(\"y\", cls=Function)\n",
        "de = Eq(( 2 - 9 * x * y(x) **2) * x + (4*y(x)**2 - 6 * x**3) * y(x) * y(x).diff(x) , 0)\n",
        "# Y = dsolve(de, y(x)) # Sympy 1.11.1 FAILED!\n",
        "# display(Y)           # Will wait for upgrade"
      ]
    },
    {
      "cell_type": "markdown",
      "source": [
        "* Sympy 1.11.1 failed (hangs).\n",
        "* MathDF gave a final solution:\n",
        "\n",
        "$${y}^{4}-3\\,{x}^{3}\\,{y}^{2}=C-{x}^{2}$$\n",
        "\n",
        "* For a step-by-step-solution click:\n",
        "[**Link to a step-by-step solution**](\n",
        "https://mathdf.com/dif/#expr=(2-9xy%5E2)xd(x)%2B(4y%5E2-6x%5E3)yd(y)%3D0&func=y&arg=x)"
      ],
      "metadata": {
        "id": "ZDjt47deQ-4P"
      }
    },
    {
      "cell_type": "code",
      "execution_count": null,
      "metadata": {
        "colab": {
          "base_uri": "https://localhost:8080/"
        },
        "outputId": "a8b58135-91b9-474f-d7fe-81b13a14df42",
        "id": "ByAp037gPk8a"
      },
      "outputs": [
        {
          "output_type": "execute_result",
          "data": {
            "text/plain": [
              "(True, 0)"
            ]
          },
          "metadata": {},
          "execution_count": 32
        }
      ],
      "source": [
        "checkodesol(de, Y)"
      ]
    },
    {
      "cell_type": "markdown",
      "metadata": {
        "id": "9cqjgOuD0sNm"
      },
      "source": [
        "# Exercise 3.4.8\n",
        "\n",
        "$2(1+\\sqrt{x^2-y})xdx - \\sqrt{x^2-y}dy = 0$"
      ]
    },
    {
      "cell_type": "code",
      "execution_count": 4,
      "metadata": {
        "scrolled": true,
        "colab": {
          "base_uri": "https://localhost:8080/",
          "height": 157
        },
        "id": "F2XrqI4X0sNo",
        "outputId": "49d2892f-04ce-48ad-f580-882d0f5cb98f"
      },
      "outputs": [
        {
          "output_type": "display_data",
          "data": {
            "text/plain": [
              "Eq(y(x), x**2 + (-1 - sqrt(3)*I)*(-9*C1**2 - 9*C1*x**2 - 9*x**4/4)**(1/3)/2)"
            ],
            "text/latex": "$\\displaystyle y{\\left(x \\right)} = x^{2} + \\frac{\\left(-1 - \\sqrt{3} i\\right) \\sqrt[3]{- 9 C_{1}^{2} - 9 C_{1} x^{2} - \\frac{9 x^{4}}{4}}}{2}$"
          },
          "metadata": {}
        },
        {
          "output_type": "display_data",
          "data": {
            "text/plain": [
              "Eq(y(x), x**2 + (-1 + sqrt(3)*I)*(-9*C1**2 - 9*C1*x**2 - 9*x**4/4)**(1/3)/2)"
            ],
            "text/latex": "$\\displaystyle y{\\left(x \\right)} = x^{2} + \\frac{\\left(-1 + \\sqrt{3} i\\right) \\sqrt[3]{- 9 C_{1}^{2} - 9 C_{1} x^{2} - \\frac{9 x^{4}}{4}}}{2}$"
          },
          "metadata": {}
        },
        {
          "output_type": "display_data",
          "data": {
            "text/plain": [
              "Eq(y(x), x**2 + (-9*C1**2 - 9*C1*x**2 - 9*x**4/4)**(1/3))"
            ],
            "text/latex": "$\\displaystyle y{\\left(x \\right)} = x^{2} + \\sqrt[3]{- 9 C_{1}^{2} - 9 C_{1} x^{2} - \\frac{9 x^{4}}{4}}$"
          },
          "metadata": {}
        }
      ],
      "source": [
        "x = symbols(\"x\", real=True)\n",
        "y = symbols(\"y\", cls=Function)\n",
        "de = Eq(2 * (1 + sqrt(x**2 - y(x))) * x - sqrt(x**2 - y(x)) * y(x).diff(x) , 0)\n",
        "Y = dsolve(de, y(x))  # Sympy 1.11.1 seems to give two complex solution and one real\n",
        "display(Y[0])           # Will wait for upgrade\n",
        "display(Y[1])\n",
        "display(Y[2])"
      ]
    },
    {
      "cell_type": "code",
      "execution_count": 5,
      "metadata": {
        "colab": {
          "base_uri": "https://localhost:8080/"
        },
        "outputId": "9081ea12-eecf-4d60-fadf-05f98a13308c",
        "id": "oHA9r9z40sNp"
      },
      "outputs": [
        {
          "output_type": "execute_result",
          "data": {
            "text/plain": [
              "[(False,\n",
              "  -x*(2*sqrt(6)*I*C1*sqrt((-1)**(1/3)*(1 + sqrt(3)*I))*(4*C1**2 + 4*C1*x**2 + x**4)**(1/6) + 2*sqrt(2)*C1*sqrt((-1)**(1/3)*(1 + sqrt(3)*I))*(4*C1**2 + 4*C1*x**2 + x**4)**(1/6) + sqrt(6)*I*x**2*sqrt((-1)**(1/3)*(1 + sqrt(3)*I))*(4*C1**2 + 4*C1*x**2 + x**4)**(1/6) + sqrt(2)*x**2*sqrt((-1)**(1/3)*(1 + sqrt(3)*I))*(4*C1**2 + 4*C1*x**2 + x**4)**(1/6) - 4*(-1)**(2/3)*(4*C1**2 + 4*C1*x**2 + x**4)**(2/3))),\n",
              " (False,\n",
              "  x*(-2*sqrt(2)*C1*sqrt((-1)**(1/3)*(1 - sqrt(3)*I))*(4*C1**2 + 4*C1*x**2 + x**4)**(1/6) + 2*sqrt(6)*I*C1*sqrt((-1)**(1/3)*(1 - sqrt(3)*I))*(4*C1**2 + 4*C1*x**2 + x**4)**(1/6) - sqrt(2)*x**2*sqrt((-1)**(1/3)*(1 - sqrt(3)*I))*(4*C1**2 + 4*C1*x**2 + x**4)**(1/6) + sqrt(6)*I*x**2*sqrt((-1)**(1/3)*(1 - sqrt(3)*I))*(4*C1**2 + 4*C1*x**2 + x**4)**(1/6) + 4*(-4*C1**2 - 4*C1*x**2 - x**4)**(2/3))),\n",
              " (False,\n",
              "  2*x*(2*C1*sqrt(-(-1)**(1/3))*(4*C1**2 + 4*C1*x**2 + x**4)**(1/6) + x**2*sqrt(-(-1)**(1/3))*(4*C1**2 + 4*C1*x**2 + x**4)**(1/6) + (-4*C1**2 - 4*C1*x**2 - x**4)**(2/3)))]"
            ]
          },
          "metadata": {},
          "execution_count": 5
        }
      ],
      "source": [
        "checkodesol(de, Y)"
      ]
    },
    {
      "cell_type": "markdown",
      "source": [
        "* Sympy 1.11.1 seems to give two complex solutions\n",
        "  and one real.\n",
        "* All these three solutions do not pass the ode check.\n",
        "* MathDF gave an implicit final solution:\n",
        "$$\n",
        "2y\\,\\sqrt{{x}^{2}-y} - 2\\,{x}^{2}\\,\\sqrt{{x}^{2}-y}=3\\,{x}^{2}+C\n",
        "$$\n",
        "* For a step-by-step-solution click:\n",
        "[**Link to a step-by-step solution**](\n",
        "https://mathdf.com/dif/#expr=2(1%2Bsqrt(x%5E2-y))xd(x)-sqrt(x%5E2-y)d(y)%3D0&func=y&arg=x)"
      ],
      "metadata": {
        "id": "ngNKvu4f0sNo"
      }
    },
    {
      "cell_type": "markdown",
      "metadata": {
        "id": "XBqtwN7eNwBB"
      },
      "source": [
        "# Exercise 3.4.9\n",
        "\n",
        "$(1 + y^2\\sin 2x)dx - 2y\\cos^2 x\\, dy = 0$"
      ]
    },
    {
      "cell_type": "code",
      "execution_count": 13,
      "metadata": {
        "scrolled": true,
        "colab": {
          "base_uri": "https://localhost:8080/",
          "height": 118
        },
        "outputId": "14d024d0-67cd-4550-c40c-6778b338a5e6",
        "id": "GW6StMwuNwBK"
      },
      "outputs": [
        {
          "output_type": "display_data",
          "data": {
            "text/plain": [
              "Eq(y(x), -sqrt(C1 + x)/cos(x))"
            ],
            "text/latex": "$\\displaystyle y{\\left(x \\right)} = - \\frac{\\sqrt{C_{1} + x}}{\\cos{\\left(x \\right)}}$"
          },
          "metadata": {}
        },
        {
          "output_type": "display_data",
          "data": {
            "text/plain": [
              "<IPython.core.display.HTML object>"
            ],
            "text/html": [
              "<br/>"
            ]
          },
          "metadata": {}
        },
        {
          "output_type": "display_data",
          "data": {
            "text/plain": [
              "Eq(y(x), sqrt(C1 + x)/cos(x))"
            ],
            "text/latex": "$\\displaystyle y{\\left(x \\right)} = \\frac{\\sqrt{C_{1} + x}}{\\cos{\\left(x \\right)}}$"
          },
          "metadata": {}
        }
      ],
      "source": [
        "x = symbols(\"x\", real=True)\n",
        "y = symbols(\"y\", cls=Function)\n",
        "de = Eq(1 + y(x)**2 * sin(2*x) - 2*y(x)*cos(x)**2 * y(x).diff(x) , 0)\n",
        "Y = dsolve(de, y(x))\n",
        "display(Y[0])\n",
        "display(HTML(\"<br/>\"))\n",
        "display(Y[1])"
      ]
    },
    {
      "cell_type": "code",
      "execution_count": 14,
      "metadata": {
        "colab": {
          "base_uri": "https://localhost:8080/"
        },
        "outputId": "891431f1-e5fc-423f-c172-38cd58b1f087",
        "id": "GyU7grKONwBK"
      },
      "outputs": [
        {
          "output_type": "execute_result",
          "data": {
            "text/plain": [
              "[(True, 0), (True, 0)]"
            ]
          },
          "metadata": {},
          "execution_count": 14
        }
      ],
      "source": [
        "checkodesol(de, Y)"
      ]
    },
    {
      "cell_type": "markdown",
      "metadata": {
        "id": "K-87_t9yjEFF"
      },
      "source": [
        "# Exercise 3.4.10\n",
        "\n",
        "$\\frac{2xdx}{y^3} + \\frac{y^2-3x^2}{y^4}dy = 0$"
      ]
    },
    {
      "cell_type": "code",
      "execution_count": null,
      "metadata": {
        "scrolled": true,
        "id": "c4z26FxUjEFa"
      },
      "outputs": [],
      "source": [
        "x = symbols(\"x\", real=True)\n",
        "y = symbols(\"y\", cls=Function)\n",
        "de = Eq(2*x/y(x)**3 + (y(x)**2 - 3*x**2)/y(x)**4 * y(x).diff(x) , 0)\n",
        "#Y = dsolve(de, y(x) , hint='1st_exact') # Sympy 1.11.1 Hangs for too much time!\n",
        "#display(Y)"
      ]
    },
    {
      "cell_type": "markdown",
      "source": [
        "* Sympy 1.11.1 failed (hangs).\n",
        "* MathDF gave a final solution:\n",
        "$$\n",
        "\\dfrac{x}{y}-\\dfrac{{x}^{3}}{{y}^{3}}=C\\,x\n",
        "$$\n",
        "\n",
        "* For a step-by-step-solution click:\n",
        "[**Link to a step-by-step solution**](\n",
        "https://mathdf.com/dif/#expr=(2xd(x))%2F(y%5E3)%2B(y%5E2-3x%5E2)%2F(y%5E4)d(y)%3D0&func=y&arg=x)"
      ],
      "metadata": {
        "id": "1p3k7rALkjrT"
      }
    },
    {
      "cell_type": "markdown",
      "metadata": {
        "id": "UAVSZ1_amA2u"
      },
      "source": [
        "# Exercise 3.4.11\n",
        "\n",
        "$xdx + ydy = \\frac{xdy - ydx}{x^2 + y^2}$"
      ]
    },
    {
      "cell_type": "code",
      "execution_count": 15,
      "metadata": {
        "scrolled": true,
        "colab": {
          "base_uri": "https://localhost:8080/",
          "height": 54
        },
        "outputId": "fb632c6b-9463-45ad-f4d5-d24f8256f93a",
        "id": "HJmnuF21mA2v"
      },
      "outputs": [
        {
          "output_type": "display_data",
          "data": {
            "text/plain": [
              "Eq(x**2/2 + y(x)**2/2 - I*log(x - I*y(x))/2 + I*log(x + I*y(x))/2, C1)"
            ],
            "text/latex": "$\\displaystyle \\frac{x^{2}}{2} + \\frac{y^{2}{\\left(x \\right)}}{2} - \\frac{i \\log{\\left(x - i y{\\left(x \\right)} \\right)}}{2} + \\frac{i \\log{\\left(x + i y{\\left(x \\right)} \\right)}}{2} = C_{1}$"
          },
          "metadata": {}
        }
      ],
      "source": [
        "x = symbols(\"x\", real=True)\n",
        "y = symbols(\"y\", cls=Function)\n",
        "de = Eq(x + y(x) * y(x).diff(x) , (x * y(x).diff(x) - y(x)) / (x**2 + y(x)**2))\n",
        "Y = dsolve(de, y(x), hint='1st_exact')\n",
        "display(Y)"
      ]
    },
    {
      "cell_type": "markdown",
      "source": [
        "* Sympy 1.11.1 gave a complex solution which is probably wrong.\n",
        "* MathDF gave a final solution:\n",
        "$$\n",
        "\\dfrac{{y}^{2}}{2}+\\arctan\\left(\\frac{x}{y}\\right)=C-\\dfrac{{x}^{2}}{2}$$\n",
        "\n",
        "* For a step-by-step-solution click:\n",
        "[**Link to a step-by-step solution**](\n",
        "https://mathdf.com/dif/#expr=xd(x)%2Byd(y)%3D(xd(y)-yd(x))%2F(x%5E2%2By%5E2)&func=y&arg=x)"
      ],
      "metadata": {
        "id": "LYk7IP8tsk2k"
      }
    },
    {
      "cell_type": "markdown",
      "metadata": {
        "id": "XlSsWTaztSWc"
      },
      "source": [
        "# Exercise 3.4.12\n",
        "\n",
        "$\\left(y+\\dfrac{1}{1+x^2}\\right)dx + \\left(x - \\dfrac{1}{1+y^2}\\right)dy = 0$"
      ]
    },
    {
      "cell_type": "code",
      "execution_count": 19,
      "metadata": {
        "scrolled": true,
        "colab": {
          "base_uri": "https://localhost:8080/",
          "height": 53
        },
        "outputId": "d2e74937-96bb-4f7c-97cd-99e6acb63e45",
        "id": "kO86R6mZtSWi"
      },
      "outputs": [
        {
          "output_type": "display_data",
          "data": {
            "text/plain": [
              "Eq(x*y(x) - I*log(x - I)/2 + I*log(x + I)/2 - atan(y(x)), C1)"
            ],
            "text/latex": "$\\displaystyle x y{\\left(x \\right)} - \\frac{i \\log{\\left(x - i \\right)}}{2} + \\frac{i \\log{\\left(x + i \\right)}}{2} - \\operatorname{atan}{\\left(y{\\left(x \\right)} \\right)} = C_{1}$"
          },
          "metadata": {}
        }
      ],
      "source": [
        "x = symbols(\"x\", real=True)\n",
        "y = symbols(\"y\", cls=Function)\n",
        "de = Eq(y(x) + 1 / (1+x**2) + (x - 1/(1+y(x)**2)) * y(x).diff(x), 0)\n",
        "Y = dsolve(de, y(x), hint='1st_exact')\n",
        "display(Y)"
      ]
    },
    {
      "cell_type": "markdown",
      "source": [
        "* Sympy 1.11.1 gave a complex solution which is hard to\n",
        "  check (not yet implemented in sympy).\n",
        "* MathDF gave a final implicit solution:\n",
        "$$\n",
        "x\\,y-\\arctan\\left(y\\right)=C-\\arctan\\left(x\\right)\n",
        "$$\n",
        "\n",
        "* For a step-by-step-solution click:\n",
        "[**Link to a step-by-step solution**](\n",
        "https://mathdf.com/dif/#expr=(y%2B(1)%2F(1%2Bx%5E2))d(x)%2B(x-(1)%2F(1%2By%5E2))d(y)%3D0&func=y&arg=x)"
      ],
      "metadata": {
        "id": "blC1FNowuR86"
      }
    },
    {
      "cell_type": "markdown",
      "metadata": {
        "id": "UlQXrlTXvBUF"
      },
      "source": [
        "# Exercise 3.4.13\n",
        "\n",
        "$xy' - 2x^2\\sqrt{y} = 4y$"
      ]
    },
    {
      "cell_type": "code",
      "execution_count": 22,
      "metadata": {
        "scrolled": true,
        "colab": {
          "base_uri": "https://localhost:8080/",
          "height": 47
        },
        "outputId": "32aa097c-6262-4e12-cd91-607132328692",
        "id": "3W1_KZYyvBUV"
      },
      "outputs": [
        {
          "output_type": "display_data",
          "data": {
            "text/plain": [
              "Eq(y(x), x**4*(C1**2 + 2*C1*log(x) + log(x)**2))"
            ],
            "text/latex": "$\\displaystyle y{\\left(x \\right)} = x^{4} \\left(C_{1}^{2} + 2 C_{1} \\log{\\left(x \\right)} + \\log{\\left(x \\right)}^{2}\\right)$"
          },
          "metadata": {}
        }
      ],
      "source": [
        "x = symbols(\"x\", real=True)\n",
        "y = symbols(\"y\", cls=Function)\n",
        "de = Eq(x * y(x).diff(x) - 2*x**2 * sqrt(y(x)) , 4 * y(x))\n",
        "Y = dsolve(de, y(x))\n",
        "display(Y)"
      ]
    },
    {
      "cell_type": "code",
      "execution_count": 23,
      "metadata": {
        "colab": {
          "base_uri": "https://localhost:8080/"
        },
        "outputId": "9b3069a3-e7f2-488f-82c2-c0d8108b4efa",
        "id": "qoZAmskkvBUW"
      },
      "outputs": [
        {
          "output_type": "execute_result",
          "data": {
            "text/plain": [
              "(False, 2*x**4*(-C1 + sqrt(C1**2 + 2*C1*log(x) + log(x)**2) - log(x)))"
            ]
          },
          "metadata": {},
          "execution_count": 23
        }
      ],
      "source": [
        "checkodesol(de, Y)"
      ]
    },
    {
      "cell_type": "markdown",
      "source": [
        "* Sympy 1.11.1 gave a complex solution which is hard to\n",
        "  check (not yet implemented in sympy).\n",
        "* MathDF gave a final implicit solution:\n",
        "$$\n",
        "y={x}^{4}\\,\\ln^{2}\\left(x\\right)+2\\,C\\,{x}^{4}\\,\\ln\\left(x\\right)+{C}^{2}\\,{x}^{4},\\;\\,y=0\n",
        "$$\n",
        "\n",
        "* For a step-by-step-solution click:\n",
        "[**Link to a step-by-step solution**](\n",
        "https://mathdf.com/dif/#expr=xy'-2x%5E2sqrt(y)%3D4y&func=y&arg=x)"
      ],
      "metadata": {
        "id": "zFDhQvHvwA7a"
      }
    },
    {
      "cell_type": "markdown",
      "metadata": {
        "id": "jlbcNSwL8Vjq"
      },
      "source": [
        "# Exercise 3.4.14\n",
        "\n",
        "$xy^2y' = x^2 + y^3$"
      ]
    },
    {
      "cell_type": "code",
      "execution_count": 29,
      "metadata": {
        "scrolled": true,
        "colab": {
          "base_uri": "https://localhost:8080/",
          "height": 162
        },
        "outputId": "ed20beac-54ab-44c6-c893-811aa54bec3c",
        "id": "hfH0Zotn8Vjy"
      },
      "outputs": [
        {
          "output_type": "display_data",
          "data": {
            "text/plain": [
              "Eq(y(x), (C1*x - 3)**(1/3)*Abs(x)**(2/3))"
            ],
            "text/latex": "$\\displaystyle y{\\left(x \\right)} = \\sqrt[3]{C_{1} x - 3} \\left|{x}\\right|^{\\frac{2}{3}}$"
          },
          "metadata": {}
        },
        {
          "output_type": "display_data",
          "data": {
            "text/plain": [
              "<IPython.core.display.HTML object>"
            ],
            "text/html": [
              "<br/>"
            ]
          },
          "metadata": {}
        },
        {
          "output_type": "display_data",
          "data": {
            "text/plain": [
              "Eq(y(x), (-1 - sqrt(3)*I)*(C1*x - 3)**(1/3)*Abs(x)**(2/3)/2)"
            ],
            "text/latex": "$\\displaystyle y{\\left(x \\right)} = \\frac{\\left(-1 - \\sqrt{3} i\\right) \\sqrt[3]{C_{1} x - 3} \\left|{x}\\right|^{\\frac{2}{3}}}{2}$"
          },
          "metadata": {}
        },
        {
          "output_type": "display_data",
          "data": {
            "text/plain": [
              "<IPython.core.display.HTML object>"
            ],
            "text/html": [
              "<br/>"
            ]
          },
          "metadata": {}
        },
        {
          "output_type": "display_data",
          "data": {
            "text/plain": [
              "Eq(y(x), (-1 + sqrt(3)*I)*(C1*x - 3)**(1/3)*Abs(x)**(2/3)/2)"
            ],
            "text/latex": "$\\displaystyle y{\\left(x \\right)} = \\frac{\\left(-1 + \\sqrt{3} i\\right) \\sqrt[3]{C_{1} x - 3} \\left|{x}\\right|^{\\frac{2}{3}}}{2}$"
          },
          "metadata": {}
        }
      ],
      "source": [
        "x = symbols(\"x\", real=True)\n",
        "y = symbols(\"y\", cls=Function)\n",
        "de = Eq(x * y(x)**2 * y(x).diff(x) , x**2 + y(x)**3)\n",
        "Y = dsolve(de, y(x))\n",
        "display(Y[0])\n",
        "display(HTML('<br/>'))\n",
        "display(Y[1])\n",
        "display(HTML('<br/>'))\n",
        "display(Y[2])"
      ]
    },
    {
      "cell_type": "code",
      "execution_count": 30,
      "metadata": {
        "colab": {
          "base_uri": "https://localhost:8080/"
        },
        "outputId": "cb305fd2-0bdc-43d3-ffce-70a69fe36eb8",
        "id": "DoIWDgi_8Vjy"
      },
      "outputs": [
        {
          "output_type": "execute_result",
          "data": {
            "text/plain": [
              "[(True, 0), (True, 0), (True, 0)]"
            ]
          },
          "metadata": {},
          "execution_count": 30
        }
      ],
      "source": [
        "checkodesol(de, Y)"
      ]
    },
    {
      "cell_type": "markdown",
      "metadata": {
        "id": "dniOeYGC9bI5"
      },
      "source": [
        "# Exercise 3.4.15\n",
        "\n",
        "$(x+1)(yy'-1) = y^2$"
      ]
    },
    {
      "cell_type": "code",
      "execution_count": 33,
      "metadata": {
        "scrolled": true,
        "colab": {
          "base_uri": "https://localhost:8080/",
          "height": 82
        },
        "outputId": "6b3605e8-2827-4298-c522-d47eae5c6e43",
        "id": "nk1ulXaI9bJF"
      },
      "outputs": [
        {
          "output_type": "display_data",
          "data": {
            "text/plain": [
              "Eq(y(x), -sqrt(C1*x**2 + 2*C1*x + C1 - 2*x - 2))"
            ],
            "text/latex": "$\\displaystyle y{\\left(x \\right)} = - \\sqrt{C_{1} x^{2} + 2 C_{1} x + C_{1} - 2 x - 2}$"
          },
          "metadata": {}
        },
        {
          "output_type": "display_data",
          "data": {
            "text/plain": [
              "<IPython.core.display.HTML object>"
            ],
            "text/html": [
              "<br/>"
            ]
          },
          "metadata": {}
        },
        {
          "output_type": "display_data",
          "data": {
            "text/plain": [
              "Eq(y(x), sqrt(C1*x**2 + 2*C1*x + C1 - 2*x - 2))"
            ],
            "text/latex": "$\\displaystyle y{\\left(x \\right)} = \\sqrt{C_{1} x^{2} + 2 C_{1} x + C_{1} - 2 x - 2}$"
          },
          "metadata": {}
        }
      ],
      "source": [
        "x = symbols(\"x\", real=True)\n",
        "y = symbols(\"y\", cls=Function)\n",
        "de = Eq((x + 1) * (y(x) * y(x).diff(x) - 1) , y(x)**2)\n",
        "Y = dsolve(de, y(x))\n",
        "display(Y[0])\n",
        "display(HTML('<br/>'))\n",
        "display(Y[1])"
      ]
    },
    {
      "cell_type": "code",
      "execution_count": 34,
      "metadata": {
        "colab": {
          "base_uri": "https://localhost:8080/"
        },
        "outputId": "222076fb-b10d-499c-cefb-bcb8fe089baa",
        "id": "4gu-lniY9bJF"
      },
      "outputs": [
        {
          "output_type": "execute_result",
          "data": {
            "text/plain": [
              "[(True, 0), (True, 0)]"
            ]
          },
          "metadata": {},
          "execution_count": 34
        }
      ],
      "source": [
        "checkodesol(de, Y)"
      ]
    },
    {
      "cell_type": "markdown",
      "metadata": {
        "id": "X0FRymEY-Ghx"
      },
      "source": [
        "# Exercise 3.5.1\n",
        "\n",
        "$(x+y^2)dx - 2xydy = 0$"
      ]
    },
    {
      "cell_type": "code",
      "execution_count": 35,
      "metadata": {
        "scrolled": true,
        "colab": {
          "base_uri": "https://localhost:8080/",
          "height": 81
        },
        "outputId": "2944e074-e461-4acf-d6e8-4df28f4c2dca",
        "id": "EkFqtD-i-Gh6"
      },
      "outputs": [
        {
          "output_type": "display_data",
          "data": {
            "text/plain": [
              "Eq(y(x), -sqrt(x*(C1 + log(x))))"
            ],
            "text/latex": "$\\displaystyle y{\\left(x \\right)} = - \\sqrt{x \\left(C_{1} + \\log{\\left(x \\right)}\\right)}$"
          },
          "metadata": {}
        },
        {
          "output_type": "display_data",
          "data": {
            "text/plain": [
              "<IPython.core.display.HTML object>"
            ],
            "text/html": [
              "<br/>"
            ]
          },
          "metadata": {}
        },
        {
          "output_type": "display_data",
          "data": {
            "text/plain": [
              "Eq(y(x), sqrt(x*(C1 + log(x))))"
            ],
            "text/latex": "$\\displaystyle y{\\left(x \\right)} = \\sqrt{x \\left(C_{1} + \\log{\\left(x \\right)}\\right)}$"
          },
          "metadata": {}
        }
      ],
      "source": [
        "x = symbols(\"x\", real=True)\n",
        "y = symbols(\"y\", cls=Function)\n",
        "de = Eq(x + y(x)**2 - 2*x*y(x)*y(x).diff(x) , 0)\n",
        "Y = dsolve(de, y(x))\n",
        "display(Y[0])\n",
        "display(HTML('<br/>'))\n",
        "display(Y[1])"
      ]
    },
    {
      "cell_type": "code",
      "execution_count": 36,
      "metadata": {
        "colab": {
          "base_uri": "https://localhost:8080/"
        },
        "outputId": "0bcd9e8d-afec-481f-da2b-a70acfc29def",
        "id": "5DTUGWpV-Gh6"
      },
      "outputs": [
        {
          "output_type": "execute_result",
          "data": {
            "text/plain": [
              "[(True, 0), (True, 0)]"
            ]
          },
          "metadata": {},
          "execution_count": 36
        }
      ],
      "source": [
        "checkodesol(de, Y)"
      ]
    },
    {
      "cell_type": "markdown",
      "metadata": {
        "id": "PQXs0OR5-mwu"
      },
      "source": [
        "# Exercise 3.5.2\n",
        "\n",
        "$(x^2 + y^2 + x)dx + ydy=0$"
      ]
    },
    {
      "cell_type": "code",
      "execution_count": 37,
      "metadata": {
        "scrolled": true,
        "colab": {
          "base_uri": "https://localhost:8080/",
          "height": 82
        },
        "outputId": "d6aca800-dbb5-4728-cd82-424eafc4fa2f",
        "id": "PIInwgBw-mwv"
      },
      "outputs": [
        {
          "output_type": "display_data",
          "data": {
            "text/plain": [
              "Eq(y(x), -sqrt(C1 - x**2*exp(2*x))*exp(-x))"
            ],
            "text/latex": "$\\displaystyle y{\\left(x \\right)} = - \\sqrt{C_{1} - x^{2} e^{2 x}} e^{- x}$"
          },
          "metadata": {}
        },
        {
          "output_type": "display_data",
          "data": {
            "text/plain": [
              "<IPython.core.display.HTML object>"
            ],
            "text/html": [
              "<br/>"
            ]
          },
          "metadata": {}
        },
        {
          "output_type": "display_data",
          "data": {
            "text/plain": [
              "Eq(y(x), sqrt(C1 - x**2*exp(2*x))*exp(-x))"
            ],
            "text/latex": "$\\displaystyle y{\\left(x \\right)} = \\sqrt{C_{1} - x^{2} e^{2 x}} e^{- x}$"
          },
          "metadata": {}
        }
      ],
      "source": [
        "x = symbols(\"x\", real=True)\n",
        "y = symbols(\"y\", cls=Function)\n",
        "de = Eq(x**2 + y(x)**2 + x + y(x) * y(x).diff(x) , 0)\n",
        "Y = dsolve(de, y(x))\n",
        "display(Y[0])\n",
        "display(HTML('<br/>'))\n",
        "display(Y[1])"
      ]
    },
    {
      "cell_type": "code",
      "execution_count": null,
      "metadata": {
        "colab": {
          "base_uri": "https://localhost:8080/"
        },
        "outputId": "0bcd9e8d-afec-481f-da2b-a70acfc29def",
        "id": "NzZxCVb2-mwv"
      },
      "outputs": [
        {
          "output_type": "execute_result",
          "data": {
            "text/plain": [
              "[(True, 0), (True, 0)]"
            ]
          },
          "metadata": {},
          "execution_count": 36
        }
      ],
      "source": [
        "checkodesol(de, Y)"
      ]
    },
    {
      "cell_type": "markdown",
      "metadata": {
        "id": "Q-JMlqJs-_TX"
      },
      "source": [
        "# Exercise 3.5.3\n",
        "\n",
        "$y(1+xy)dx - xdy = 0$"
      ]
    },
    {
      "cell_type": "code",
      "execution_count": 39,
      "metadata": {
        "scrolled": true,
        "colab": {
          "base_uri": "https://localhost:8080/",
          "height": 54
        },
        "outputId": "8a4cc82a-e457-4275-d177-4d0bd7e50e71",
        "id": "GPlEOTjs-_TY"
      },
      "outputs": [
        {
          "output_type": "display_data",
          "data": {
            "text/plain": [
              "Eq(y(x), 2*x/(C1 - x**2))"
            ],
            "text/latex": "$\\displaystyle y{\\left(x \\right)} = \\frac{2 x}{C_{1} - x^{2}}$"
          },
          "metadata": {}
        }
      ],
      "source": [
        "x = symbols(\"x\", real=True)\n",
        "y = symbols(\"y\", cls=Function)\n",
        "de = Eq(y(x) * (1 + x*y(x)) - x * y(x).diff(x) , 0)\n",
        "Y = dsolve(de, y(x))\n",
        "display(Y)"
      ]
    },
    {
      "cell_type": "code",
      "execution_count": 40,
      "metadata": {
        "colab": {
          "base_uri": "https://localhost:8080/"
        },
        "outputId": "67285b5a-edd5-41ce-d3b2-4e9a4560976f",
        "id": "dFVcxyZq-_TY"
      },
      "outputs": [
        {
          "output_type": "execute_result",
          "data": {
            "text/plain": [
              "(True, 0)"
            ]
          },
          "metadata": {},
          "execution_count": 40
        }
      ],
      "source": [
        "checkodesol(de, Y)"
      ]
    },
    {
      "cell_type": "markdown",
      "metadata": {
        "id": "xYov-Rf6_YKJ"
      },
      "source": [
        "# Exercise 3.5.4\n",
        "\n",
        "$(x^2y - 1)dx + (x^3 + x^2\\cos y) dy = 0$\n"
      ]
    },
    {
      "cell_type": "code",
      "execution_count": 42,
      "metadata": {
        "scrolled": true,
        "colab": {
          "base_uri": "https://localhost:8080/",
          "height": 51
        },
        "outputId": "0790666b-6b81-4024-92ec-6097b18f9bd1",
        "id": "EY6o3svW_YKS"
      },
      "outputs": [
        {
          "output_type": "display_data",
          "data": {
            "text/plain": [
              "Eq(x*y(x) + sin(y(x)) + 1/x, C1)"
            ],
            "text/latex": "$\\displaystyle x y{\\left(x \\right)} + \\sin{\\left(y{\\left(x \\right)} \\right)} + \\frac{1}{x} = C_{1}$"
          },
          "metadata": {}
        }
      ],
      "source": [
        "x = symbols(\"x\", real=True)\n",
        "y = symbols(\"y\", cls=Function)\n",
        "de = Eq(x**2 * y(x) -1 + (x**3 + x**2 * cos(y(x))) * y(x).diff(x) , 0)\n",
        "Y = dsolve(de, y(x), hint='1st_exact')\n",
        "display(Y)"
      ]
    },
    {
      "cell_type": "markdown",
      "metadata": {
        "id": "kjfGQZuhXm91"
      },
      "source": [
        "# Exercise 3.5.5\n",
        "\n",
        "$(2xy\\ln y + y^2 \\cos x)dx + (x^2 + y\\sin x)dy = 0$"
      ]
    },
    {
      "cell_type": "code",
      "execution_count": 8,
      "metadata": {
        "scrolled": true,
        "id": "YYnm4h66Xm92"
      },
      "outputs": [],
      "source": [
        "x = symbols(\"x\", real=True)\n",
        "y = symbols(\"y\", cls=Function)\n",
        "de = Eq(2 * x * log(y(x)) + y(x)**2 * cos(x) + (x**2 + y(x)*sin(x)) * y(x).diff(x) , 0)\n",
        "#Y = dsolve(de, y(x))        \n",
        "#display(Y)"
      ]
    },
    {
      "cell_type": "markdown",
      "source": [
        "* Sympy 1.11.1 fails in this case.\n",
        "* MathDF gave a final implicit solution:\n",
        "$$\n",
        "{x}^{2}\\,\\ln\\left(y\\right)+\\sin\\left(x\\right)\\,y=C\n",
        "$$\n",
        "\n",
        "* For a step-by-step-solution click:\n",
        "[**Link to a step-by-step solution**](\n",
        "https://mathdf.com/dif/#expr=(2xyln(y)%2By%5E2cos(x))d(x)%2B(x%5E2%2Bysin(x))d(y)%3D0&func=y&arg=x)"
      ],
      "metadata": {
        "id": "uKN_46PfZ0TF"
      }
    },
    {
      "cell_type": "markdown",
      "metadata": {
        "id": "ImGtHfvh-sgg"
      },
      "source": [
        "# Exercise 3.7.1\n",
        "\n",
        "$(x+y)y'=y$"
      ]
    },
    {
      "cell_type": "code",
      "execution_count": 3,
      "metadata": {
        "scrolled": true,
        "colab": {
          "base_uri": "https://localhost:8080/",
          "height": 42
        },
        "id": "k6YOnPV4-sgu",
        "outputId": "25ce5965-8ca5-4518-f0d6-08c34be48529"
      },
      "outputs": [
        {
          "output_type": "display_data",
          "data": {
            "text/plain": [
              "Eq(y(x), exp(C1 + LambertW(x*exp(-C1))))"
            ],
            "text/latex": "$\\displaystyle y{\\left(x \\right)} = e^{C_{1} + W\\left(x e^{- C_{1}}\\right)}$"
          },
          "metadata": {}
        }
      ],
      "source": [
        "x = symbols(\"x\", real=True)\n",
        "y = symbols(\"y\", cls=Function)\n",
        "de = Eq((x + y(x)) * y(x).diff(x) , y(x))\n",
        "Y = dsolve(de, y(x))        \n",
        "display(Y)"
      ]
    },
    {
      "cell_type": "code",
      "execution_count": null,
      "metadata": {
        "id": "6QjeRDRX_ZHq"
      },
      "outputs": [],
      "source": [
        "checkodesol(de, Y)"
      ]
    },
    {
      "cell_type": "markdown",
      "source": [
        "* Sympy 1.11.1 solution is not clear.\n",
        "* MathDF gave a final implicit solution:\n",
        "$$\n",
        "\\dfrac{x}{y}-\\ln\\left(y\\right)=C,\\;\\,y=0\n",
        "$$\n",
        "\n",
        "* For a step-by-step-solution click:\n",
        "[**Link to a step-by-step solution**](\n",
        "https://mathdf.com/dif/#expr=(x%2By)y'%3Dy&func=y&arg=x)"
      ],
      "metadata": {
        "id": "50JuLfJ2-sgv"
      }
    },
    {
      "cell_type": "markdown",
      "metadata": {
        "id": "tRQRhrRPA7Yq"
      },
      "source": [
        "# Exercise 3.7.2\n",
        "\n",
        "$(x-2)y'=y^2$"
      ]
    },
    {
      "cell_type": "code",
      "execution_count": 5,
      "metadata": {
        "scrolled": true,
        "colab": {
          "base_uri": "https://localhost:8080/",
          "height": 55
        },
        "outputId": "621db568-692a-43da-e7b3-4cdbdf1b6b35",
        "id": "78q1l-NHA7Yx"
      },
      "outputs": [
        {
          "output_type": "display_data",
          "data": {
            "text/plain": [
              "Eq(y(x), -1/(C1 + log(x - 2)))"
            ],
            "text/latex": "$\\displaystyle y{\\left(x \\right)} = - \\frac{1}{C_{1} + \\log{\\left(x - 2 \\right)}}$"
          },
          "metadata": {}
        }
      ],
      "source": [
        "x = symbols(\"x\", real=True)\n",
        "y = symbols(\"y\", cls=Function)\n",
        "de = Eq((x - 2) * y(x).diff(x) , y(x)**2)\n",
        "Y = dsolve(de, y(x))        \n",
        "display(Y)"
      ]
    },
    {
      "cell_type": "code",
      "execution_count": 6,
      "metadata": {
        "colab": {
          "base_uri": "https://localhost:8080/"
        },
        "id": "Kvu6IfslA7Yx",
        "outputId": "ce451a3a-1fd4-4b3f-a520-fb0375288b6e"
      },
      "outputs": [
        {
          "output_type": "execute_result",
          "data": {
            "text/plain": [
              "(True, 0)"
            ]
          },
          "metadata": {},
          "execution_count": 6
        }
      ],
      "source": [
        "checkodesol(de, Y)"
      ]
    },
    {
      "cell_type": "markdown",
      "metadata": {
        "id": "GDV-HpOJBVsc"
      },
      "source": [
        "# Exercise 3.7.3\n",
        "\n",
        "$y'=2xy+x$"
      ]
    },
    {
      "cell_type": "code",
      "execution_count": 7,
      "metadata": {
        "scrolled": true,
        "colab": {
          "base_uri": "https://localhost:8080/",
          "height": 51
        },
        "outputId": "dcbca4b6-368c-4c38-e930-765c6092e5f7",
        "id": "GYXVLCrxBVsk"
      },
      "outputs": [
        {
          "output_type": "display_data",
          "data": {
            "text/plain": [
              "Eq(y(x), C1*exp(x**2) - 1/2)"
            ],
            "text/latex": "$\\displaystyle y{\\left(x \\right)} = C_{1} e^{x^{2}} - \\frac{1}{2}$"
          },
          "metadata": {}
        }
      ],
      "source": [
        "x = symbols(\"x\", real=True)\n",
        "y = symbols(\"y\", cls=Function)\n",
        "de = Eq(y(x).diff(x) , 2*x*y(x) + x)\n",
        "Y = dsolve(de, y(x))        \n",
        "display(Y)"
      ]
    },
    {
      "cell_type": "code",
      "execution_count": 8,
      "metadata": {
        "colab": {
          "base_uri": "https://localhost:8080/"
        },
        "outputId": "b1639b1e-a06c-4813-b93f-f7e467257539",
        "id": "wHGzyWoGBVsk"
      },
      "outputs": [
        {
          "output_type": "execute_result",
          "data": {
            "text/plain": [
              "(True, 0)"
            ]
          },
          "metadata": {},
          "execution_count": 8
        }
      ],
      "source": [
        "checkodesol(de, Y)"
      ]
    },
    {
      "cell_type": "markdown",
      "metadata": {
        "id": "mbN2Kms2Bpzf"
      },
      "source": [
        "# Exercise 3.7.4\n",
        "\n",
        "$(x^2 + 2xy^3)dx + (y^2 + 3x^2y^2)dy = 0$"
      ]
    },
    {
      "cell_type": "code",
      "execution_count": 22,
      "metadata": {
        "scrolled": true,
        "colab": {
          "base_uri": "https://localhost:8080/",
          "height": 146
        },
        "outputId": "31c1b077-40ea-4f21-b248-c751dc24182e",
        "id": "xOjCOWndBpzg"
      },
      "outputs": [
        {
          "output_type": "display_data",
          "data": {
            "text/plain": [
              "Eq(y(x), (C1 - x**3)**(1/3)/(3*x**2 + 1)**(1/3))"
            ],
            "text/latex": "$\\displaystyle y{\\left(x \\right)} = \\frac{\\sqrt[3]{C_{1} - x^{3}}}{\\sqrt[3]{3 x^{2} + 1}}$"
          },
          "metadata": {}
        },
        {
          "output_type": "display_data",
          "data": {
            "text/plain": [
              "Eq(y(x), (-1 - sqrt(3)*I)*(C1 - x**3)**(1/3)/(2*(3*x**2 + 1)**(1/3)))"
            ],
            "text/latex": "$\\displaystyle y{\\left(x \\right)} = \\frac{\\left(-1 - \\sqrt{3} i\\right) \\sqrt[3]{C_{1} - x^{3}}}{2 \\sqrt[3]{3 x^{2} + 1}}$"
          },
          "metadata": {}
        },
        {
          "output_type": "display_data",
          "data": {
            "text/plain": [
              "Eq(y(x), (-1 + sqrt(3)*I)*(C1 - x**3)**(1/3)/(2*(3*x**2 + 1)**(1/3)))"
            ],
            "text/latex": "$\\displaystyle y{\\left(x \\right)} = \\frac{\\left(-1 + \\sqrt{3} i\\right) \\sqrt[3]{C_{1} - x^{3}}}{2 \\sqrt[3]{3 x^{2} + 1}}$"
          },
          "metadata": {}
        }
      ],
      "source": [
        "x = symbols(\"x\", real=True)\n",
        "y = symbols(\"y\", cls=Function)\n",
        "de = Eq(x**2 + 2*x*y(x)**3 + (y(x)**2 + 3*x**2 * y(x)**2) * y(x).diff(x) , 0)\n",
        "Y = dsolve(de, y(x))        \n",
        "display(Y[0])\n",
        "display(Y[1])\n",
        "display(Y[2])"
      ]
    },
    {
      "cell_type": "code",
      "execution_count": 11,
      "metadata": {
        "colab": {
          "base_uri": "https://localhost:8080/"
        },
        "outputId": "d27af78e-9086-4b7e-b04c-2132b0a6616f",
        "id": "vIprr073Bpzg"
      },
      "outputs": [
        {
          "output_type": "execute_result",
          "data": {
            "text/plain": [
              "[(True, 0), (True, 0), (True, 0)]"
            ]
          },
          "metadata": {},
          "execution_count": 11
        }
      ],
      "source": [
        "checkodesol(de, Y)"
      ]
    },
    {
      "cell_type": "markdown",
      "source": [
        "* To get an implicit solution use this code:"
      ],
      "metadata": {
        "id": "1Olx0pLlwttO"
      }
    },
    {
      "cell_type": "code",
      "source": [
        "dsolve(de, hint=\"1st_exact\", simplify=False)"
      ],
      "metadata": {
        "colab": {
          "base_uri": "https://localhost:8080/",
          "height": 54
        },
        "id": "y0UgVPxqwzS-",
        "outputId": "e88e76a0-e81a-4023-b5bd-f0e3def117be"
      },
      "execution_count": 26,
      "outputs": [
        {
          "output_type": "execute_result",
          "data": {
            "text/plain": [
              "Eq(x**3/3 + x**2*y(x)**3 + y(x)**3/3, C1)"
            ],
            "text/latex": "$\\displaystyle \\frac{x^{3}}{3} + x^{2} y^{3}{\\left(x \\right)} + \\frac{y^{3}{\\left(x \\right)}}{3} = C_{1}$"
          },
          "metadata": {},
          "execution_count": 26
        }
      ]
    },
    {
      "cell_type": "markdown",
      "metadata": {
        "id": "nJRDqyqBC7Ui"
      },
      "source": [
        "# Exercise 3.7.5\n",
        "\n",
        "$y' + y\\cos x = \\sin x \\cos x$"
      ]
    },
    {
      "cell_type": "code",
      "execution_count": 12,
      "metadata": {
        "scrolled": true,
        "colab": {
          "base_uri": "https://localhost:8080/",
          "height": 39
        },
        "outputId": "7fa6ec65-3149-451a-dec1-d67e77f6b0d5",
        "id": "mODh0r2ZC7Uy"
      },
      "outputs": [
        {
          "output_type": "display_data",
          "data": {
            "text/plain": [
              "Eq(y(x), C1*exp(-sin(x)) + sin(x) - 1)"
            ],
            "text/latex": "$\\displaystyle y{\\left(x \\right)} = C_{1} e^{- \\sin{\\left(x \\right)}} + \\sin{\\left(x \\right)} - 1$"
          },
          "metadata": {}
        }
      ],
      "source": [
        "x = symbols(\"x\", real=True)\n",
        "y = symbols(\"y\", cls=Function)\n",
        "de = Eq(y(x).diff(x) + y(x)*cos(x) , sin(x) * cos(x))\n",
        "Y = dsolve(de, y(x))        \n",
        "display(Y)"
      ]
    },
    {
      "cell_type": "code",
      "execution_count": 13,
      "metadata": {
        "colab": {
          "base_uri": "https://localhost:8080/"
        },
        "outputId": "2f90798e-c909-4a5c-f332-0ef185288296",
        "id": "utlPz3ltC7Uz"
      },
      "outputs": [
        {
          "output_type": "execute_result",
          "data": {
            "text/plain": [
              "(True, 0)"
            ]
          },
          "metadata": {},
          "execution_count": 13
        }
      ],
      "source": [
        "checkodesol(de, Y)"
      ]
    },
    {
      "cell_type": "markdown",
      "metadata": {
        "id": "9AUUirwEDcZd"
      },
      "source": [
        "# Exercise 3.7.6\n",
        "\n",
        "$(2e^x+y^4)dy - ye^xdx = 0$"
      ]
    },
    {
      "cell_type": "code",
      "execution_count": null,
      "metadata": {
        "scrolled": true,
        "id": "cQ5p_AERDcZm"
      },
      "outputs": [],
      "source": [
        "x = symbols(\"x\", real=True)\n",
        "y = symbols(\"y\", cls=Function)\n",
        "de = Eq((2*exp(x) + y(x)**4) * y(x).diff(x) - y(x)*exp(x) , 0)\n",
        "#Y = dsolve(de, y(x), hint=\"1st_exact\")        \n",
        "#display(Y)"
      ]
    },
    {
      "cell_type": "markdown",
      "source": [
        "* Sympy 1.11.1 gives several unclear solutions.\n",
        "* MathDF gave a final implicit solution:\n",
        "$$\n",
        "\\dfrac{{y}^{2}}{2}-\\dfrac{{e}^{x}}{{y}^{2}}=C,\\;\\,y=0\n",
        "$$\n",
        "\n",
        "* For a step-by-step-solution click:\n",
        "[**Link to a step-by-step solution**](\n",
        "https://mathdf.com/dif/#expr=(2e%5Ex%2By%5E4)d(y)-ye%5Exd(x)%3D0&func=y&arg=x)"
      ],
      "metadata": {
        "id": "53sSSa9qFY9C"
      }
    },
    {
      "cell_type": "markdown",
      "metadata": {
        "id": "g8aefxU6GBgx"
      },
      "source": [
        "# Exercise 3.7.7\n",
        "\n",
        "$\\tan x \\cdot \\frac{dy}{dx} - y = a$"
      ]
    },
    {
      "cell_type": "code",
      "execution_count": 20,
      "metadata": {
        "scrolled": true,
        "colab": {
          "base_uri": "https://localhost:8080/",
          "height": 39
        },
        "outputId": "277ad432-2dce-42ce-96c8-1b40249c7ea3",
        "id": "v_CzXbp5GBhB"
      },
      "outputs": [
        {
          "output_type": "display_data",
          "data": {
            "text/plain": [
              "Eq(y(x), C1*sin(x) - a)"
            ],
            "text/latex": "$\\displaystyle y{\\left(x \\right)} = C_{1} \\sin{\\left(x \\right)} - a$"
          },
          "metadata": {}
        }
      ],
      "source": [
        "x, a = symbols(\"x a\", real=True)\n",
        "y = symbols(\"y\", cls=Function)\n",
        "de = Eq(tan(x) * y(x).diff(x) - y(x) , a)\n",
        "Y = dsolve(de, y(x))        \n",
        "display(Y)"
      ]
    },
    {
      "cell_type": "code",
      "execution_count": 21,
      "metadata": {
        "colab": {
          "base_uri": "https://localhost:8080/"
        },
        "outputId": "ecf48b8f-ba39-4c1b-c4d2-288f45b17c4e",
        "id": "Y9GTVbBkGBhC"
      },
      "outputs": [
        {
          "output_type": "execute_result",
          "data": {
            "text/plain": [
              "(True, 0)"
            ]
          },
          "metadata": {},
          "execution_count": 21
        }
      ],
      "source": [
        "checkodesol(de, Y)"
      ]
    },
    {
      "cell_type": "markdown",
      "metadata": {
        "id": "KG8v_OgdowT1"
      },
      "source": [
        "# Exercise 3.7.8\n",
        "\n",
        "$(3x^2 + 2xy - y^2)dx + (x^2 - 2xy - 3y^2) dy = 0$"
      ]
    },
    {
      "cell_type": "code",
      "execution_count": 21,
      "metadata": {
        "scrolled": true,
        "colab": {
          "base_uri": "https://localhost:8080/",
          "height": 39
        },
        "outputId": "bf9dccb4-70c5-4e69-fae2-bbd065516025",
        "id": "XdCQFP4QowUC"
      },
      "outputs": [
        {
          "output_type": "display_data",
          "data": {
            "text/plain": [
              "Eq(x**3 + x**2*y(x) - x*y(x)**2 - y(x)**3, C1)"
            ],
            "text/latex": "$\\displaystyle x^{3} + x^{2} y{\\left(x \\right)} - x y^{2}{\\left(x \\right)} - y^{3}{\\left(x \\right)} = C_{1}$"
          },
          "metadata": {}
        }
      ],
      "source": [
        "x = symbols(\"x\", real=True)\n",
        "y = symbols(\"y\", cls=Function)\n",
        "de = Eq(3*x**2 + 2*x*y(x) - y(x)**2 + (x**2 - 2*x*y(x) - 3*y(x)**2) * y(x).diff(x) , 0)\n",
        "Y = dsolve(de, hint=\"1st_exact\", simplify=False)        \n",
        "display(Y)"
      ]
    },
    {
      "cell_type": "markdown",
      "source": [
        "* Mathdf site gives an implicit solution:\n",
        "$$\n",
        "{y}^{3}+x\\,{y}^{2}-{x}^{2}\\,y={x}^{3}+C\n",
        "$$\n",
        "* For a step-by-step-solution click:\n",
        "[**Link to a step-by-step solution**](\n",
        "https://mathdf.com/dif/#expr=(3x%5E2%2B2xy-y%5E2)d(x)%2B(x%5E2-2xy-3y%5E2)d(y)%3D0&func=y&arg=x)"
      ],
      "metadata": {
        "id": "GlIoLBKAq6wt"
      }
    },
    {
      "cell_type": "markdown",
      "metadata": {
        "id": "u0998M8bufeC"
      },
      "source": [
        "# Exercise 3.7.9\n",
        "\n",
        "$\\dfrac{y}{x}dx + (y^3 + \\ln x) dy = 0$\n",
        "\n",
        "$0<x<\\infty$"
      ]
    },
    {
      "cell_type": "code",
      "execution_count": 18,
      "metadata": {
        "scrolled": true,
        "colab": {
          "base_uri": "https://localhost:8080/",
          "height": 54
        },
        "outputId": "ccb96742-1556-4ac5-b596-a703f9c8e756",
        "id": "Oxu1ehdCufeD"
      },
      "outputs": [
        {
          "output_type": "display_data",
          "data": {
            "text/plain": [
              "Eq(y(x)**4/4 + y(x)*log(x), C1)"
            ],
            "text/latex": "$\\displaystyle \\frac{y^{4}{\\left(x \\right)}}{4} + y{\\left(x \\right)} \\log{\\left(x \\right)} = C_{1}$"
          },
          "metadata": {}
        }
      ],
      "source": [
        "x = symbols(\"x\", real=True, positive=True)\n",
        "y = symbols(\"y\", cls=Function)\n",
        "de = Eq(y(x) / x + (y(x)**3 + log(x)) * y(x).diff(x) , 0)\n",
        "Y = dsolve(de, hint=\"1st_exact\", simplify=False)        \n",
        "display(Y)"
      ]
    },
    {
      "cell_type": "markdown",
      "metadata": {
        "id": "B3Xbb87DxTUV"
      },
      "source": [
        "# Exercise 3.7.10\n",
        "\n",
        "$x(y^4 - x^2)dy + y(y^4+x^2)dx = 0$"
      ]
    },
    {
      "cell_type": "code",
      "execution_count": 28,
      "metadata": {
        "scrolled": true,
        "colab": {
          "base_uri": "https://localhost:8080/",
          "height": 58
        },
        "outputId": "1362b711-ada4-45b6-d87f-43c4994e6b32",
        "id": "OSyTQpj2xTUV"
      },
      "outputs": [
        {
          "output_type": "display_data",
          "data": {
            "text/plain": [
              "Eq(x**3/(3*y(x)**3) + x*y(x), C1)"
            ],
            "text/latex": "$\\displaystyle \\frac{x^{3}}{3 y^{3}{\\left(x \\right)}} + x y{\\left(x \\right)} = C_{1}$"
          },
          "metadata": {}
        }
      ],
      "source": [
        "x = symbols(\"x\", real=True)\n",
        "y = symbols(\"y\", cls=Function)\n",
        "de = Eq(x * (y(x)**4 - x**2) * y(x).diff(x) + y(x) * (y(x)**4 + x**2) , 0)\n",
        "Y = dsolve(de, hint=\"1st_exact\", simplify=False)        \n",
        "display(Y)"
      ]
    },
    {
      "cell_type": "markdown",
      "metadata": {
        "id": "j4jonHR0zZy-"
      },
      "source": [
        "# Exercise 3.7.11\n",
        "\n",
        "$(3x^2y + 2xy + y^3)dx + (x^2+y^2)dy = 0$"
      ]
    },
    {
      "cell_type": "code",
      "execution_count": 30,
      "metadata": {
        "scrolled": true,
        "colab": {
          "base_uri": "https://localhost:8080/",
          "height": 56
        },
        "outputId": "c1d3d7a2-9f87-4c4b-a7e6-0382f6bfcd3a",
        "id": "mtn-f7CazZzI"
      },
      "outputs": [
        {
          "output_type": "display_data",
          "data": {
            "text/plain": [
              "Eq((3*x**2*y(x) + y(x)**3)*exp(3*x)/3, C1)"
            ],
            "text/latex": "$\\displaystyle \\frac{\\left(3 x^{2} y{\\left(x \\right)} + y^{3}{\\left(x \\right)}\\right) e^{3 x}}{3} = C_{1}$"
          },
          "metadata": {}
        }
      ],
      "source": [
        "x = symbols(\"x\", real=True)\n",
        "y = symbols(\"y\", cls=Function)\n",
        "de = Eq(3*x**2 * y(x) + 2*x*y(x) + y(x)**3 + (x**2 + y(x)**2) * y(x).diff(x), 0)\n",
        "Y = dsolve(de, hint=\"1st_exact\", simplify=False)        \n",
        "display(Y)"
      ]
    },
    {
      "cell_type": "markdown",
      "metadata": {
        "id": "0j5nbPl_0ORt"
      },
      "source": [
        "# Exercise 3.7.12\n",
        "\n",
        "$y' = \\dfrac{3x^2 - 2xy}{x^2 - 4y^3}$"
      ]
    },
    {
      "cell_type": "code",
      "execution_count": 41,
      "metadata": {
        "scrolled": true,
        "colab": {
          "base_uri": "https://localhost:8080/"
        },
        "outputId": "a587a359-71ef-44e7-f97b-3157581f7df8",
        "id": "OZchv63p0ORt"
      },
      "outputs": [
        {
          "output_type": "execute_result",
          "data": {
            "text/plain": [
              "('factorable', '1st_power_series', 'lie_group')"
            ]
          },
          "metadata": {},
          "execution_count": 41
        }
      ],
      "source": [
        "x = symbols(\"x\", real=True)\n",
        "y = symbols(\"y\", cls=Function)\n",
        "de = Eq(y(x).diff(x) , (3*x**2 - 2*x*y(x)) / (x**2 - 4*y(x)**3))\n",
        "classify_ode(de)\n",
        "#Y = dsolve(de, hint=\"all\", simplify=False)        \n",
        "#display(Y)"
      ]
    },
    {
      "cell_type": "markdown",
      "source": [
        "* Sympy 1.11.1 failed.\n",
        "* Mathdf solution:\n",
        "$$\n",
        "{y}^{4}-{x}^{2}\\,y=C-{x}^{3}\n",
        "$$\n",
        "* For a step-by-step-solution click:\n",
        "[**Link to a step-by-step solution**](\n",
        "https://mathdf.com/dif/#expr=y'%3D(3x%5E2-2xy)%2F(x%5E2-4y%5E3)&func=y&arg=x\n",
        ")\n"
      ],
      "metadata": {
        "id": "qgvR28p_2mtN"
      }
    },
    {
      "cell_type": "markdown",
      "metadata": {
        "id": "1wKOErbhqKWU"
      },
      "source": [
        "# **TO BE CONTINUED ...**\n",
        "* Any student with a basic Python programming skill\n",
        "  is welcome to continue and solve more exercises\n",
        "  from the\n",
        "<a href=\"https://samyzaf.com/technion/ode/ode.pdf\">\n",
        "Ordinal Differential Equations book\n",
        "</a>.\n",
        "\n",
        "* They will be checked and added to this notebook.\n",
        "\n",
        "* Send your notebook to sz@samyzaf.com.\n",
        "* Thanks!!!"
      ]
    },
    {
      "cell_type": "code",
      "source": [
        "dsolve?"
      ],
      "metadata": {
        "id": "W69YSbejO4P-"
      },
      "execution_count": 39,
      "outputs": []
    }
  ],
  "metadata": {
    "colab": {
      "provenance": [],
      "include_colab_link": true
    },
    "kernelspec": {
      "display_name": "Python 3 (ipykernel)",
      "language": "python",
      "name": "python3"
    },
    "language_info": {
      "codemirror_mode": {
        "name": "ipython",
        "version": 3
      },
      "file_extension": ".py",
      "mimetype": "text/x-python",
      "name": "python",
      "nbconvert_exporter": "python",
      "pygments_lexer": "ipython3",
      "version": "3.7.11"
    }
  },
  "nbformat": 4,
  "nbformat_minor": 0
}