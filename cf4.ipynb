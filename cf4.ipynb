{
  "cells": [
    {
      "cell_type": "markdown",
      "metadata": {
        "id": "view-in-github",
        "colab_type": "text"
      },
      "source": [
        "<a href=\"https://colab.research.google.com/github/samyzaf/notebooks/blob/main/cf4.ipynb\" target=\"_parent\"><img src=\"https://colab.research.google.com/assets/colab-badge.svg\" alt=\"Open In Colab\"/></a>"
      ]
    },
    {
      "cell_type": "markdown",
      "id": "6fb934e0",
      "metadata": {
        "cell_marker": "\"\"\"",
        "id": "6fb934e0"
      },
      "source": [
        "# **Complex Functions**\n",
        "# Chapter 4: Solutions to exercises\n",
        "\n",
        "<a href=\"https://samyzaf.com/technion/cfit/cf.pdf\">\n",
        "<img src=\"https://samyzaf.com/technion/cfit/cf1.jpg\" alt=\"cf book cover\"/>\n",
        "</a>\n",
        "\n",
        "* These are only a small number of solutions.\n",
        "  Hopefully this will encourage students to try to solve more\n",
        "  exercises with similar methods.\n",
        "\n",
        "* We will be glad to accept notebooks\n",
        "  with solutions to other exercises in this book.\n",
        "  Please send them to mail@samyzaf.com.\n",
        "\n",
        "* Thanks a lot to all the students that provided help, short snippets, and ideas."
      ]
    },
    {
      "cell_type": "markdown",
      "id": "db5b4dde",
      "metadata": {
        "cell_marker": "\"\"\"",
        "id": "db5b4dde"
      },
      "source": [
        "# Exercise 4.10\n",
        "\n",
        "<img\n",
        "src=\"https://samyzaf.com/technion/cfit/sol/ex4q.jpg\"\n",
        "alt=\"figure for 4.10\"\n",
        "width=\"60%\"\n",
        "/>"
      ]
    },
    {
      "cell_type": "markdown",
      "id": "a5ae401e",
      "metadata": {
        "cell_marker": "\"\"\"",
        "id": "a5ae401e"
      },
      "source": [
        "# Exercise 4.14\n",
        "\n",
        "Look at the following link:\n",
        "\n",
        "https://samyzaf.com/technion/cfit/sol/chap4_14.pdf"
      ]
    },
    {
      "cell_type": "markdown",
      "id": "9ee7572f",
      "metadata": {
        "cell_marker": "\"\"\"",
        "id": "9ee7572f"
      },
      "source": [
        "# Exercise 4.19\n",
        "\n",
        "Look at the following link:\n",
        "\n",
        "https://samyzaf.com/technion/cfit/sol/chap4_19.pdf"
      ]
    },
    {
      "cell_type": "markdown",
      "id": "05235a9c",
      "metadata": {
        "cell_marker": "\"\"\"",
        "id": "05235a9c"
      },
      "source": [
        "# Exercise 4.25\n",
        "\n",
        "Look at the following link:\n",
        "\n",
        "https://samyzaf.com/technion/cfit/sol/chap4_25.pdf"
      ]
    },
    {
      "cell_type": "markdown",
      "id": "cc241dae",
      "metadata": {
        "cell_marker": "\"\"\"",
        "id": "cc241dae"
      },
      "source": [
        "# Exercise 4.26\n",
        "\n",
        "Look at the following link:\n",
        "\n",
        "https://samyzaf.com/technion/cfit/sol/chap4_26.pdf"
      ]
    },
    {
      "cell_type": "markdown",
      "id": "367e5c18",
      "metadata": {
        "cell_marker": "\"\"\"",
        "id": "367e5c18"
      },
      "source": [
        "# Exercise 4.29\n",
        "\n",
        "<img\n",
        "src=\"https://samyzaf.com/technion/cfit/sol/ex4t.jpg\"\n",
        "alt=\"figure for 4.29\"\n",
        "width=\"60%\"\n",
        "/>"
      ]
    },
    {
      "cell_type": "markdown",
      "id": "2a266a39",
      "metadata": {
        "cell_marker": "\"\"\"",
        "id": "2a266a39"
      },
      "source": [
        "# Exercise 4.31\n",
        "\n",
        "<img\n",
        "src=\"https://samyzaf.com/technion/cfit/sol/ex4s1.jpg\"\n",
        "alt=\"figure for 4.31\"\n",
        "width=\"60%\"\n",
        "/>\n",
        "\n",
        "<img\n",
        "src=\"https://samyzaf.com/technion/cfit/sol/ex4s2.jpg\"\n",
        "alt=\"figure for 4.31\"\n",
        "width=\"60%\"\n",
        "/>"
      ]
    },
    {
      "cell_type": "markdown",
      "id": "699de731",
      "metadata": {
        "cell_marker": "\"\"\"",
        "id": "699de731"
      },
      "source": [
        "# Exercise 4.35\n",
        "\n",
        "<img\n",
        "src=\"https://samyzaf.com/technion/cfit/sol/ex4r.jpg\"\n",
        "alt=\"figure for 4.35\"\n",
        "width=\"40%\"\n",
        "/>"
      ]
    },
    {
      "cell_type": "markdown",
      "id": "fe988bcc",
      "metadata": {
        "cell_marker": "\"\"\"",
        "lines_to_next_cell": 2,
        "id": "fe988bcc"
      },
      "source": [
        "# Exercise 4.39\n",
        "\n",
        "<img\n",
        "src=\"https://samyzaf.com/technion/cfit/sol/ex4p.jpg\"\n",
        "alt=\"figure for 4.39\"\n",
        "width=\"60%\"\n",
        "/>"
      ]
    }
  ],
  "metadata": {
    "jupytext": {
      "cell_metadata_filter": "-all",
      "main_language": "python",
      "notebook_metadata_filter": "-all"
    },
    "colab": {
      "provenance": [],
      "include_colab_link": true
    }
  },
  "nbformat": 4,
  "nbformat_minor": 5
}