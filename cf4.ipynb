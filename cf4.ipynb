{
  "cells": [
    {
      "cell_type": "markdown",
      "metadata": {
        "id": "view-in-github",
        "colab_type": "text"
      },
      "source": [
        "<a href=\"https://colab.research.google.com/github/samyzaf/notebooks/blob/main/cf4.ipynb\" target=\"_parent\"><img src=\"https://colab.research.google.com/assets/colab-badge.svg\" alt=\"Open In Colab\"/></a>"
      ]
    },
    {
      "cell_type": "markdown",
      "id": "adfb017a",
      "metadata": {
        "cell_marker": "\"\"\"",
        "id": "adfb017a"
      },
      "source": [
        "# **Complex Functions**\n",
        "# Chapter 4: Solutions to exercises\n",
        "\n",
        "<a href=\"https://samyzaf.com/technion/cfit/cf.pdf\">\n",
        "<img src=\"https://samyzaf.com/technion/cfit/cf1.jpg\" alt=\"cf book cover\"/>\n",
        "</a>\n",
        "\n",
        "* These are only a small number of solutions.\n",
        "  Hopefully this will encourage students to try to solve more\n",
        "  exercises with similar methods.\n",
        "\n",
        "* We will be glad to accept notebooks\n",
        "  with solutions to other exercises in this book.\n",
        "  Please send them to mail@samyzaf.com.\n",
        "\n",
        "* Thanks a lot to all the students that provided help, short snippets, and ideas."
      ]
    },
    {
      "cell_type": "markdown",
      "id": "6136173f",
      "metadata": {
        "cell_marker": "\"\"\"",
        "id": "6136173f"
      },
      "source": [
        "# **Exercise 4.10**\n",
        "\n",
        "<img\n",
        "src=\"https://samyzaf.com/technion/cfit/sol/ex4q.jpg\"\n",
        "alt=\"figure for 4.10\"\n",
        "width=\"60%\"\n",
        "/>"
      ]
    },
    {
      "cell_type": "markdown",
      "id": "50ee7b89",
      "metadata": {
        "cell_marker": "\"\"\"",
        "id": "50ee7b89"
      },
      "source": [
        "# **Exercise 4.14**\n",
        "\n",
        "Look at the following link:\n",
        "\n",
        "https://samyzaf.com/technion/cfit/sol/chap4_14.pdf"
      ]
    },
    {
      "cell_type": "markdown",
      "id": "8ec1238d",
      "metadata": {
        "cell_marker": "\"\"\"",
        "id": "8ec1238d"
      },
      "source": [
        "# **Exercise 4.19**\n",
        "\n",
        "Look at the following link:\n",
        "\n",
        "https://samyzaf.com/technion/cfit/sol/chap4_19.pdf"
      ]
    },
    {
      "cell_type": "markdown",
      "id": "79960aee",
      "metadata": {
        "cell_marker": "\"\"\"",
        "id": "79960aee"
      },
      "source": [
        "# **Exercise 4.25**\n",
        "\n",
        "Look at the following link:\n",
        "\n",
        "https://samyzaf.com/technion/cfit/sol/chap4_25.pdf"
      ]
    },
    {
      "cell_type": "markdown",
      "id": "b0f41ce7",
      "metadata": {
        "cell_marker": "\"\"\"",
        "id": "b0f41ce7"
      },
      "source": [
        "# **Exercise 4.26**\n",
        "\n",
        "Look at the following link:\n",
        "\n",
        "https://samyzaf.com/technion/cfit/sol/chap4_26.pdf"
      ]
    },
    {
      "cell_type": "markdown",
      "id": "083089bb",
      "metadata": {
        "cell_marker": "\"\"\"",
        "id": "083089bb"
      },
      "source": [
        "# **Exercise 4.29**\n",
        "\n",
        "<img\n",
        "src=\"https://samyzaf.com/technion/cfit/sol/ex4t.jpg\"\n",
        "alt=\"figure for 4.29\"\n",
        "width=\"60%\"\n",
        "/>"
      ]
    },
    {
      "cell_type": "markdown",
      "id": "cfd8f9e1",
      "metadata": {
        "cell_marker": "\"\"\"",
        "id": "cfd8f9e1"
      },
      "source": [
        "# **Exercise 4.31**\n",
        "\n",
        "<img\n",
        "src=\"https://samyzaf.com/technion/cfit/sol/ex4s1.jpg\"\n",
        "alt=\"figure for 4.31\"\n",
        "width=\"60%\"\n",
        "/>\n",
        "\n",
        "<img\n",
        "src=\"https://samyzaf.com/technion/cfit/sol/ex4s2.jpg\"\n",
        "alt=\"figure for 4.31\"\n",
        "width=\"60%\"\n",
        "/>"
      ]
    },
    {
      "cell_type": "markdown",
      "id": "c5d459ae",
      "metadata": {
        "cell_marker": "\"\"\"",
        "id": "c5d459ae"
      },
      "source": [
        "# **Exercise 4.35**\n",
        "\n",
        "<img\n",
        "src=\"https://samyzaf.com/technion/cfit/sol/ex4r.jpg\"\n",
        "alt=\"figure for 4.35\"\n",
        "width=\"40%\"\n",
        "/>"
      ]
    },
    {
      "cell_type": "markdown",
      "id": "26ce3bfc",
      "metadata": {
        "cell_marker": "\"\"\"",
        "lines_to_next_cell": 2,
        "id": "26ce3bfc"
      },
      "source": [
        "# **Exercise 4.39**\n",
        "\n",
        "<img\n",
        "src=\"https://samyzaf.com/technion/cfit/sol/ex4p.jpg\"\n",
        "alt=\"figure for 4.39\"\n",
        "width=\"60%\"\n",
        "/>"
      ]
    }
  ],
  "metadata": {
    "jupytext": {
      "cell_metadata_filter": "-all",
      "main_language": "python",
      "notebook_metadata_filter": "-all"
    },
    "colab": {
      "provenance": [],
      "include_colab_link": true
    }
  },
  "nbformat": 4,
  "nbformat_minor": 5
}