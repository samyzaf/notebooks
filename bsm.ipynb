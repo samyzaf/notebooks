{
  "cells": [
    {
      "cell_type": "markdown",
      "metadata": {
        "id": "view-in-github",
        "colab_type": "text"
      },
      "source": [
        "<a href=\"https://colab.research.google.com/github/samyzaf/notebooks/blob/main/bsm.ipynb\" target=\"_parent\"><img src=\"https://colab.research.google.com/assets/colab-badge.svg\" alt=\"Open In Colab\"/></a>"
      ]
    },
    {
      "cell_type": "markdown",
      "id": "6e7c411f",
      "metadata": {
        "cell_marker": "\"\"\"",
        "id": "6e7c411f"
      },
      "source": [
        "<div hidden>\n",
        "$\n",
        "\\newcommand{\\Dt}{\\Delta t}\n",
        "\\newcommand{\\Ds}{\\Delta s}\n",
        "\\newcommand{\\V}{\\mathbf{V}}\n",
        "$\n",
        "</div>\n",
        "\n",
        "# **Solving the Black-Scholes-Merton Formula by FDM**\n",
        "<small>version: 26.12.2024a</small>\n",
        "\n",
        "* **FDM** stands for **Finite Difference Method**.\n",
        "* Thanks to\n",
        "[Antoni Smolski](https://antonismolski.medium.com/?source=post_page-----965fd0539808--------------------------------)\n",
        "for his inspiring BSM blog  \n",
        "https://antonismolski.medium.com/implementation-of-black-scholes-formula-using-finite-difference-method-with-code-965fd0539808  \n",
        "on which this notebook is based.\n",
        "\n",
        "* Also many thanks to **QuantStart Newsletter** for a detailed\n",
        "  outline of a **C++** code for an **Explicit Euler FDM** solution\n",
        "  specific to the European call option equation at their blog  \n",
        "  https://www.quantstart.com/articles/C-Explicit-Euler-Finite-Difference-Method-for-Black-Scholes/\n",
        "\n",
        "* This notebook is part of a PDE course project at Israel\n",
        "  Institute of Technology (Technion).\n",
        "  Most of the theoretical background is explained\n",
        "  in the project booklet (see the Moodle course page).\n",
        "\n",
        "* The Python code in this notebook is essentially\n",
        "  Antoni's Python code with\n",
        "  needed modifications to suite our course needs and targets.\n",
        "\n",
        "* The common **Black-Scholes-Merton equation** is the\n",
        "  partial differential equation\n",
        "  $$\\large\n",
        "  v_t +rsv_s + \\frac{1}{2}\\sigma^2 s^2 v_{ss} = r v\n",
        "  $$\n",
        "  which models the value of a financial derivative.\n",
        "\n",
        "* For European Call Option, the equation is\n",
        "  $$\\large\n",
        "  -v_t +rsv_s + \\frac{1}{2}\\sigma^2 s^2 v_{ss} = r v\n",
        "  $$\n",
        "\n",
        "* $v(s,t)$ is the option value of a given asset at\n",
        "   price $s$,  at time $t$.\n",
        "\n",
        "* $r$ = risk-free interest rate (aka **drift**)\n",
        "\n",
        "* $\\sigma$ = the price volatility measure of the stock\n",
        "  (standard deviation of a\n",
        "  [normal distribution](https://en.wikipedia.org/wiki/Normal_distribution))\n",
        "\n",
        "* We use Python's [Numpy package](https://numpy.org), to model\n",
        "  the **FDM** grid structure which represents the discrete\n",
        "  version of $v(s,t)$.\n",
        "\n",
        "* We use our\n",
        "  [**fdmtools Python package**](https://samyzaf.com/fdmtools.zip),\n",
        "  which is installed and imported by the next code cell.\n",
        "$\n",
        "\\newcommand{\\Dt}{\\Delta t}\n",
        "\\newcommand{\\Ds}{\\Delta s}\n",
        "\\newcommand{\\V}{\\mathbf{V}}\n",
        "$"
      ]
    },
    {
      "cell_type": "code",
      "execution_count": null,
      "id": "226d9c95",
      "metadata": {
        "id": "226d9c95"
      },
      "outputs": [],
      "source": [
        "# Commented out IPython magic to ensure Python compatibility.\n",
        "%pip install -q https://samyzaf.com/fdmtools.zip\n",
        "from fdmtools.bsm import *"
      ]
    },
    {
      "cell_type": "code",
      "execution_count": null,
      "id": "e93b3020",
      "metadata": {
        "id": "e93b3020"
      },
      "outputs": [],
      "source": [
        "#@title Black-Scholes-Merton Equation Video\n",
        "#@markdown  Motivation Video\n",
        "YouTubeVideo(\"A5w-dEgIU1M\", width=640, height=360)"
      ]
    },
    {
      "cell_type": "markdown",
      "id": "0bf7e867",
      "metadata": {
        "cell_marker": "\"\"\"",
        "lines_to_next_cell": 1,
        "id": "0bf7e867"
      },
      "source": [
        "* The implementation is the straightforward modification of\n",
        "  Antoni Smolski code.\n",
        "\n",
        "* I highly recommend reading his Blog!  \n",
        "  https://antonismolski.medium.com/implementation-of-black-scholes-formula-using-finite-difference-method-with-code-965fd0539808  \n",
        "\n",
        "* Another useful source:  \n",
        "https://diter.medium.com/option-pricing-using-the-black-scholes-model-without-the-formula-e09235f75fb7\n",
        "\n",
        "* The **FDM** solution is based on the following obsevations.\n",
        "* First, the **BSM** equation can be written as   \n",
        "  $$\n",
        "  \\large\n",
        "  -v_t = rv - rsv_s - \\frac{1}{2}\\sigma^2 s^2 v_{ss}\n",
        "  $$\n",
        "\n",
        "* Let $\\V$ be an **FDM** discrete grid model for the solution\n",
        "  $v(s,t)$ of the **BSM** equation over a rectangular\n",
        "  domain $[0,S]{\\times}[0,T]$, where $S$ is the maximal\n",
        "  asset price $s$, and $T$ is the maximal\n",
        "  option maturation time $t$.\n",
        "\n",
        "* The price interval $[0,S]$ is divided to discrete\n",
        "  nodes $s_i = i\\Ds$.\n",
        "  The time interval $[0,T]$ is divided to time\n",
        "  nodes $t_k = k\\Dt$.\n",
        "  The grid $\\V$ models the solution $v(s,t)$ by\n",
        "  $\\V[i,k] = v(s_i,t_k)$.\n",
        "\n",
        "* The FDM derivatives we need are as follows:\n",
        "\n",
        "\\begin{align*}\n",
        "\\V_s[i,k] &= \\frac{\\V[i+1,k] - \\V[i-1,k]}{2\\Ds}\n",
        "\\\\[2.0ex]\n",
        "\\V_{ss}[i,k] &= \\frac{\\V[i+1,k] -2\\V[i,k] + \\V[i-1,k]}{\\Ds^2}\n",
        "\\\\[2.0ex]\n",
        "\\V_t[i,k] &= \\frac{\\V[i,k+1] - \\V[i,k]}{\\Dt}\n",
        "\\end{align*}\n",
        "\n",
        "* From the first observation it follows that\n",
        "\n",
        "$$\n",
        "-\\frac{\\V[i,k+1] - \\V[i,k]}{\\Dt}\n",
        "=\n",
        "r \\V[i,k] - rs\\V_s[i,k] - \\frac{1}{2}\\sigma^2 s^2 \\V_{ss}[i,k]\n",
        "$$\n",
        "\n",
        "* In our discrete model, $s=i\\Ds$, and therefore  \n",
        "  $$\n",
        "  -\\frac{\\V[i,k+1] - \\V[i,k]}{\\Dt}\n",
        "  =\n",
        "  r \\V[i,k] - r (i\\Ds) \\V_s[i,k] - \\frac{1}{2}\\sigma^2 (i\\Ds)^2 \\V_{ss}[i,k]\n",
        "  $$\n",
        "\n",
        "* From which we derive our recursive solution to the **BSM**\n",
        "  equation:  \n",
        "  $$\n",
        "  \\V[i,k+1]\n",
        "  =\n",
        "  \\V[i,k] -\n",
        "  \\Dt \\left(r \\V[i,k] - r (i\\Ds) \\V_s[i,k] - \\frac{1}{2}\\sigma^2 (i\\Ds)^2 \\V_{ss}[i,k]\\right)\n",
        "  $$\n",
        "\n",
        "* Many texts use the following abbreviation\n",
        "$$\n",
        "\\gamma = r \\V[i,k] - r (i\\Ds) \\V_s[i,k] + \\frac{1}{2}\\sigma^2 (i\\Ds)^2 \\V_{ss}[i,k]\n",
        "$$\n",
        "So we get a shorter form of this solution\n",
        "$$\n",
        "\\V[i,k+1] = \\V[i,k] + \\gamma\\Dt\n",
        "$$\n",
        "\n",
        "* If we implement $\\V$ as a Python Numpy array, we can write\n",
        "  a simple Python procedure for implementing this solution\n",
        "  in Python."
      ]
    },
    {
      "cell_type": "code",
      "execution_count": null,
      "id": "b570b177",
      "metadata": {
        "id": "b570b177"
      },
      "outputs": [],
      "source": [
        "# sigma = the volatility of the stock (standard deviation)\n",
        "#         (the degree of variation of a trading price series over time)\n",
        "# r = risk-free interest rate\n",
        "# K = Strike price\n",
        "# Ns = Number of asset price steps\n",
        "# Nt = Number of time steps (Nt=0 means choose optimal number)\n",
        "\n",
        "def Solve(sigma, r, K, T, Ns, Nt=0):\n",
        "    S = 3*K                             # Max asset price\n",
        "    ds = S/Ns                           # asset price step\n",
        "    if Nt==0:                           # Automatic optimal selection of time step\n",
        "        dt = 0.9 / (sigma**2 * Ns**2)   # Stable optimal value of dt\n",
        "        Nt = int(T/dt) + 1              # Number of time steps\n",
        "    dt = T/Nt                           # Ensure that T is an integer number of time steps away\n",
        "    V = np.zeros((Ns+1, Nt+1))          # Option Value Array (V FDM grid)\n",
        "\n",
        "    for i in range(Ns+1):\n",
        "        V[i,0] = max(i*ds - K, 0)       # Initial condition at time t=0\n",
        "\n",
        "    for k in range(0, Nt+1):            # Time loop\n",
        "        V[0,k] = 0                      # Boundary condition at s=0\n",
        "        V[Ns,k] = S - K*exp(-r*k*dt)    # Boundary condition at s=S (Smax)\n",
        "\n",
        "    for k in range(0, Nt):      # Time loop\n",
        "        # And now ... Nobel prize winning diff equation ;)\n",
        "        for i in range(1, Ns):  # Asset loop\n",
        "            Vs = (V[i+1,k] - V[i-1,k]) / (2*ds)               # Vs[i,k] as central difference\n",
        "            Vss = (V[i+1,k] - 2*V[i,k] + V[i-1,k]) / (ds**2)  # Vss[i,k] as central difference\n",
        "            gamma = r*V[i,k] - r*(i*ds) * Vs - 0.5 * sigma**2 * (i*ds)**2 * Vss\n",
        "            V[i,k+1] = V[i,k] - gamma * dt\n",
        "\n",
        "    asset_steps = ds * np.arange(0, Ns+1)   # Asset price steps from 0 to S (i*ds, i=0,1,..,Ns)\n",
        "    time_steps = dt * np.arange(0, Nt+1)    # Time steps from 0 to T (k*dt, k=0,1,..,Nt)\n",
        "    rounded_asset_steps = np.round(asset_steps, decimals=3)\n",
        "    rounded_time_steps = np.round(time_steps, decimals=4)\n",
        "    data = pd.DataFrame(np.transpose(V), index=rounded_time_steps, columns=rounded_asset_steps).round(3)\n",
        "    data.attrs = dict(S=S, T=T, K=K, ds=ds, dt=dt, r=r, sigma=sigma, Ns=Ns, Nt=Nt)\n",
        "    return data  # Output array as pandas data frame object"
      ]
    },
    {
      "cell_type": "markdown",
      "id": "36c30a9c",
      "metadata": {
        "cell_marker": "\"\"\"",
        "id": "36c30a9c"
      },
      "source": [
        "* The boundary conditions are explained in our\n",
        "  [project booklet](https://samyzaf.com/fdm/fdm.pdf).\n",
        "\n",
        "# A Simple Example\n",
        "* In the following example we solve the **BSM** equation\n",
        "  for a stock call option\n",
        "  with the following parameters.\n",
        "\n",
        "* We would like to find the value of an option on a stock\n",
        "  which is currently priced **s=50**, for an equal\n",
        "  strike price **K=50**, for maturation time **t=2** (2 years).\n",
        "\n",
        "* In other words: the current price stock is 50$, and we would\n",
        "  like to buy an option to purchase it again in 2 years for\n",
        "  the same price (K=50).\n",
        "  \n",
        "* This option should cost us some money. The question is how much?"
      ]
    },
    {
      "cell_type": "code",
      "execution_count": null,
      "id": "1c744291",
      "metadata": {
        "lines_to_next_cell": 2,
        "id": "1c744291"
      },
      "outputs": [],
      "source": [
        "K = 50            # Option strike price\n",
        "S = 3*K           # Maximum asset price\n",
        "T = 3             # Maximum time (in year units)\n",
        "Ns = 100          # number of asset price steps\n",
        "Nt = 0            # Let Solve choose an optimal number of time steps\n",
        "sigma = 0.4       # Asset price sensitivity (aka volatility)\n",
        "r = 0.05          # Interest rate\n",
        "\n",
        "data = Solve(sigma, r, K, T, Ns, Nt)   # We solve the BSM equation!"
      ]
    },
    {
      "cell_type": "markdown",
      "id": "7c74fa0d",
      "metadata": {
        "cell_marker": "\"\"\"",
        "id": "7c74fa0d"
      },
      "source": [
        "* **data** is a [Pandas](https://pandas.pydata.org/)\n",
        "  [DataFrame object](https://pandas.pydata.org/docs/reference/api/pandas.DataFrame.html)\n",
        "  which holds the FDM grid solution in a tabular form.\n",
        "\n",
        "* This is a very useful information container which is\n",
        "  easy to query. It supports more than 400 query types!\n",
        "\n",
        "* Here are the first 5 rows of this table followed\n",
        "  by the last 5 rows.\n",
        "  \n",
        "* The columns (keys) are asset price steps,\n",
        "  and the lines are time steps.\n",
        "\n",
        "* The simplest query is the **data** command itself which\n",
        "  prints a small sample of of the table, which gives us\n",
        "  a rough impression about the data it holds."
      ]
    },
    {
      "cell_type": "code",
      "execution_count": null,
      "id": "aaa15aa6",
      "metadata": {
        "lines_to_next_cell": 2,
        "id": "aaa15aa6"
      },
      "outputs": [],
      "source": [
        "data"
      ]
    },
    {
      "cell_type": "markdown",
      "id": "7086fcdc",
      "metadata": {
        "cell_marker": "\"\"\"",
        "id": "7086fcdc"
      },
      "source": [
        "* In the first column (from the left) we see the\n",
        "  table **Index**. These are our **Time Steps**.\n",
        "* The first row is called the **table header**.\n",
        "  These are our **Price Steps**.\n",
        "\n",
        "* On the right side of this table you will find three\n",
        "  buttons for interacting with it just as if it was\n",
        "  an Excel table.\n",
        "  * The first button displays a full interactive table.\n",
        "  * The second buttons display several charts, and\n",
        "     can create code for generating them.\n",
        "  * The third button is experimental AI code generator for\n",
        "     extracting information from this table.\n",
        "\n",
        "* To learn more on how you can interact with the\n",
        "  **dataframe** object\n",
        "  read the\n",
        "  [Pandas package reference guide](https://pandas.pydata.org/docs/user_guide/index.html)\n",
        "\n",
        "* For example, to print the table index (time steps),\n",
        "  use the command:"
      ]
    },
    {
      "cell_type": "code",
      "execution_count": null,
      "id": "3cc4f8c9",
      "metadata": {
        "lines_to_next_cell": 2,
        "id": "3cc4f8c9"
      },
      "outputs": [],
      "source": [
        "times = data.index\n",
        "print(times)"
      ]
    },
    {
      "cell_type": "markdown",
      "id": "1fcb07bf",
      "metadata": {
        "cell_marker": "\"\"\"",
        "id": "1fcb07bf"
      },
      "source": [
        "* This is a list of 5335 time steps that are required for\n",
        "  precision.\n",
        "  \n",
        "* To see the **table keys** (asset price steps),\n",
        "  use the following command:"
      ]
    },
    {
      "cell_type": "code",
      "execution_count": null,
      "id": "a33aaec7",
      "metadata": {
        "lines_to_next_cell": 2,
        "id": "a33aaec7"
      },
      "outputs": [],
      "source": [
        "prices = data.keys()\n",
        "print(prices)"
      ]
    },
    {
      "cell_type": "markdown",
      "id": "3b596cec",
      "metadata": {
        "cell_marker": "\"\"\"",
        "id": "3b596cec"
      },
      "source": [
        "* This is a list of 100 price steps with **ds=1.5**.\n",
        "* Only a small sample is printed: the first 10 items, and\n",
        "  the last 10 items.\n",
        "* A Pandas **DataFrame** can be also exported into a\n",
        "  Microsoft Excel sheet easily!\n",
        "* If you are a Microsoft Excel user, you may want to convert\n",
        "  it to an Excel sheet, and then interact with it using\n",
        "  Microsoft office analysis tools."
      ]
    },
    {
      "cell_type": "code",
      "execution_count": null,
      "id": "3964b1da",
      "metadata": {
        "lines_to_next_cell": 2,
        "id": "3964b1da"
      },
      "outputs": [],
      "source": [
        "data.to_excel(\"data.xlsx\")"
      ]
    },
    {
      "cell_type": "markdown",
      "id": "ecadf8c6",
      "metadata": {
        "cell_marker": "\"\"\"",
        "id": "ecadf8c6"
      },
      "source": [
        "* The resulting Excel file can be viewed\n",
        "  [from this link](https://samyzaf.com/fdm/data.xlsx)\n",
        "\n",
        "* But you can download this Excel sheet from here to your\n",
        "  local disk by the following command."
      ]
    },
    {
      "cell_type": "code",
      "execution_count": null,
      "id": "f9823317",
      "metadata": {
        "lines_to_next_cell": 2,
        "id": "f9823317"
      },
      "outputs": [],
      "source": [
        "file_download(\"data.xlsx\")"
      ]
    },
    {
      "cell_type": "markdown",
      "id": "aedd1861",
      "metadata": {
        "cell_marker": "\"\"\"",
        "id": "aedd1861"
      },
      "source": [
        "* There are 427 methods that you can\n",
        "  apply on a **DataFrame** object.\n",
        "\n",
        "* To learn and try more of them check out the\n",
        "  [DataFrame reference guide](https://pandas.pydata.org/docs/reference/api/pandas.DataFrame.html).\n",
        "\n",
        "# BSM Heatmap\n",
        "* Use the **bsm_heatmap** for visualizing the **data**\n",
        "  table as a heat map.\n",
        "\n",
        "* This method is part of our\n",
        "  [**fdmtools package**](https://samyzaf.com/fdmtools.zip)\n",
        "  and can be viewed by downloading this package."
      ]
    },
    {
      "cell_type": "code",
      "execution_count": null,
      "id": "b96127f6",
      "metadata": {
        "lines_to_next_cell": 2,
        "id": "b96127f6"
      },
      "outputs": [],
      "source": [
        "bsm_heatmap(data)"
      ]
    },
    {
      "cell_type": "markdown",
      "id": "d6cd2671",
      "metadata": {
        "cell_marker": "\"\"\"",
        "id": "d6cd2671"
      },
      "source": [
        "# BSM 3D surface representation\n",
        "* There are more visualization aids available in Python's\n",
        "  matplotlib package.\n",
        "\n",
        "* Here is a 3D surface visualization of our **data** table."
      ]
    },
    {
      "cell_type": "code",
      "execution_count": null,
      "id": "8225d1b9",
      "metadata": {
        "lines_to_next_cell": 2,
        "id": "8225d1b9"
      },
      "outputs": [],
      "source": [
        "fig = plt.figure(figsize=(8, 8))\n",
        "ax = fig.add_subplot(111, projection='3d')\n",
        "Y,X = np.meshgrid(data.columns, data.index)\n",
        "Z = data.values\n",
        "surf = ax.plot_surface(X, Y, Z, cmap=\"jet\")\n",
        "ax.set_xlabel('Time')\n",
        "ax.set_ylabel('Asset Price')\n",
        "ax.set_zlabel('Option Value')\n",
        "ax.set_title('Option Value Surface Plot')\n",
        "fig.colorbar(surf, shrink=0.5, aspect=8, pad=0.1)\n",
        "plt.show()"
      ]
    },
    {
      "cell_type": "markdown",
      "id": "36732242",
      "metadata": {
        "cell_marker": "\"\"\"",
        "id": "36732242"
      },
      "source": [
        "# Extracting local and precision information\n",
        "* The **data** object is quite large: 855 rows × 101 columns.\n",
        "  That is 86355 entries!\n",
        "\n",
        "* The heatmap and 3D surface plots are great **infographics**\n",
        "  tools, but are not adequate for obtaining precise values\n",
        "  for specific needs.\n",
        "\n",
        "* In most cases we would like to inspect a small\n",
        "  subset of information\n",
        "  around specific values such as our strike price **K** and\n",
        "  maturation time **t**.\n",
        "\n",
        "* For example, if our strike price is **K=50** and maturation\n",
        "  time is **t=60/365** (2 months), here is a small code snippet\n",
        "  for extracting a small table around these values:"
      ]
    },
    {
      "cell_type": "code",
      "execution_count": null,
      "id": "4e51a2dd",
      "metadata": {
        "lines_to_next_cell": 2,
        "id": "4e51a2dd"
      },
      "outputs": [],
      "source": [
        "s = 50  # initial stock price and also our strike price\n",
        "t = 60/365   # Maturation time (60 days)\n",
        "ds = data.attrs[\"ds\"]\n",
        "dt = data.attrs[\"dt\"]\n",
        "i = int(s/ds)\n",
        "k = int(t/dt)\n",
        "print(f\"Extracting a small sub-table (10x10) around price s={s} and time t={t}\")\n",
        "df = data.iloc[k-5:k+5, i-5:i+5]\n",
        "df"
      ]
    },
    {
      "cell_type": "markdown",
      "id": "0fad1809",
      "metadata": {
        "cell_marker": "\"\"\"",
        "id": "0fad1809"
      },
      "source": [
        "* Notice the **Next steps** suggestions at the bottom of\n",
        "  the table which offers you code for generating plots.\n",
        "  You can learn more by playing with it.\n",
        "  \n",
        "* The **data** object has a special attributes\n",
        "  dictionary **data.attrs**\n",
        "  which holds all the parameters: **S, K, T, ds, dt, ...**\n",
        "  * To access the time step **dt** use:\n",
        "    **dt = data.attrs[\"dt\"]**.\n",
        "  * To access the number of price steps **Ns** use:\n",
        "    **Ns = data.attrs[\"Ns\"]**.\n",
        "  * Etc ...\n",
        "\n",
        "* Like in Microsoft Excel, to access **data** we need integer\n",
        "  indices **i**, **k**.\n",
        "  Beware that **k** is a row index, and **i** is a column index!\n",
        "\n",
        "* Therefore we had to convert the price value **s=50**\n",
        "  to its corresponding column index **i=s/ds**,\n",
        "  and the time value **t=60/365** to its corresponding\n",
        "  row index **k=t/dt**.\n",
        "\n",
        "* To access 10 rows around **i** we use a range expression\n",
        "  **i-5:i+5**.\n",
        "\n",
        "* But the first thing we should have noticed is that\n",
        "  our desired price **s=50** and time **t=60/365=0.16438**\n",
        "  are **not** in this table!\n",
        "\n",
        "* This is a typical issue with discrete models, which is\n",
        "  confronted by a special interpolation procedure for\n",
        "  computing the in between values.\n",
        "\n",
        "* Our **fdmtools** package includes an **interpolate** method\n",
        "  for handling this issue"
      ]
    },
    {
      "cell_type": "code",
      "execution_count": null,
      "id": "df9ef91c",
      "metadata": {
        "id": "df9ef91c"
      },
      "outputs": [],
      "source": [
        "s = 50.0\n",
        "t = 0.16438     # 60 days = 0.16438 of 1 year\n",
        "v = interpolate(data, s, t)\n",
        "print(v)"
      ]
    },
    {
      "cell_type": "markdown",
      "id": "116757d4",
      "metadata": {
        "cell_marker": "\"\"\"",
        "id": "116757d4"
      },
      "source": [
        "* So the value of a **CALL option** with price **s=50**\n",
        "  and maturation time **t=2** years with\n",
        "  a strike price **K=50** is **v=13.148**!\n",
        "  This answers our initial problem.\n",
        "\n",
        "* To make sure that your work is not detached from reality,\n",
        "  it is recommended that you check if you get a similar result\n",
        "  in an online option calculator (there are many of them\n",
        "  on the internet).\n",
        "\n",
        "* Here's is the result that we got from\n",
        "  **https://www.barchart.com/options/options-calculator**\n",
        "\n",
        "  <IMG src=\"https://samyzaf.com/fdm/opt_calc_ex2.jpg\" width=640 align=\"center\"/>\n",
        "\n",
        "* Looks pretty close to what we got with our code: **v=3.4389**.\n",
        "\n",
        "* We can also reconsider our maturation time to be **t=1.0**.\n",
        "  We have a method for generating a local table around\n",
        "  **s=50, t=1.0**.\n",
        "\n",
        "* For that purpose we need a more general method for generating\n",
        "  small subsets of our large table.\n",
        "  For example, to generate a smaller table for price range 40-60\n",
        "  and time range 0.98-1.02, we can use the following code:"
      ]
    },
    {
      "cell_type": "code",
      "execution_count": null,
      "id": "63343ace",
      "metadata": {
        "lines_to_next_cell": 2,
        "id": "63343ace"
      },
      "outputs": [],
      "source": [
        "times = [t for t in data.index if 0.98<=t<=1.02]\n",
        "prices = [s for s in data.keys() if 40<=s<=60]\n",
        "df = data.loc[times,prices]\n",
        "df"
      ]
    },
    {
      "cell_type": "markdown",
      "id": "c88b18a0",
      "metadata": {
        "cell_marker": "\"\"\"",
        "id": "c88b18a0"
      },
      "source": [
        "* This is still a long table (71 rows, 15 columns).\n",
        "* We can use our heatmap or 3d surface tools to get\n",
        "  a visual impression of it."
      ]
    },
    {
      "cell_type": "code",
      "execution_count": null,
      "id": "52c179ac",
      "metadata": {
        "id": "52c179ac"
      },
      "outputs": [],
      "source": [
        "bsm_heatmap(df)"
      ]
    },
    {
      "cell_type": "code",
      "execution_count": null,
      "id": "4bb0d2b4",
      "metadata": {
        "id": "4bb0d2b4"
      },
      "outputs": [],
      "source": [
        "bsm_surface(df)"
      ]
    },
    {
      "cell_type": "markdown",
      "id": "1950186b",
      "metadata": {
        "cell_marker": "\"\"\"",
        "id": "1950186b"
      },
      "source": [
        "* We can perform more precise queries that collect data from\n",
        "  several locations of our table.\n",
        "* For example, we can include a small sample around t=1\n",
        "  and a small sample around t=2."
      ]
    },
    {
      "cell_type": "code",
      "execution_count": null,
      "id": "ba641f22",
      "metadata": {
        "id": "ba641f22"
      },
      "outputs": [],
      "source": [
        "times = [t for t in data.index if 0.99<=t<=1.01 or 1.99<=t<=2.01]\n",
        "prices = [s for s in data.keys() if 40<=s<=60]\n",
        "df = data.loc[times,prices]\n",
        "df"
      ]
    },
    {
      "cell_type": "code",
      "execution_count": null,
      "id": "62feb7e6",
      "metadata": {
        "id": "62feb7e6"
      },
      "outputs": [],
      "source": [
        "bsm_heatmap(df)"
      ]
    },
    {
      "cell_type": "code",
      "execution_count": null,
      "id": "ec7d613c",
      "metadata": {
        "lines_to_next_cell": 2,
        "id": "ec7d613c"
      },
      "outputs": [],
      "source": [
        "times = [t for t in data.index if 0.995<=t<=1.005]\n",
        "prices = [s for s in data.keys() if 44<=s<=56]\n",
        "df = data.loc[times,prices]\n",
        "bsm_heatmap(df,vlabel=True)"
      ]
    }
  ],
  "metadata": {
    "jupytext": {
      "cell_metadata_filter": "-all",
      "main_language": "python",
      "notebook_metadata_filter": "-all"
    },
    "colab": {
      "provenance": [],
      "include_colab_link": true
    }
  },
  "nbformat": 4,
  "nbformat_minor": 5
}