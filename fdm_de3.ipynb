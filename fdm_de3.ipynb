{
  "cells": [
    {
      "cell_type": "markdown",
      "metadata": {
        "id": "view-in-github",
        "colab_type": "text"
      },
      "source": [
        "<a href=\"https://colab.research.google.com/github/samyzaf/notebooks/blob/main/fdm_de3.ipynb\" target=\"_parent\"><img src=\"https://colab.research.google.com/assets/colab-badge.svg\" alt=\"Open In Colab\"/></a>"
      ]
    },
    {
      "cell_type": "markdown",
      "metadata": {
        "id": "bNgCcbH05oim"
      },
      "source": [
        "# **Solving a second order linear equation by FDM**\n",
        "\n",
        "* We show how to find a numerical solution to\n",
        "  an Euler-like equation\n",
        "  with two initial conditions  \n",
        "\n",
        "  $\\qquad\n",
        "  \\left\\{\n",
        "  \\begin{array}{l}\n",
        "  (x^2-2x)y'' - 2y=0, \\quad 0.5 < x < 1.5\n",
        "  \\\\\n",
        "  y(1) = 0\n",
        "  \\\\\n",
        "  y(1) = -1\n",
        "  \\end{array}\n",
        "  \\right.\n",
        "  \\newcommand{\\Dx}{\\Delta x}\n",
        "  \\newcommand{\\Dy}{\\Delta y}\n",
        "  \\newcommand{\\Dz}{\\Delta z}\n",
        "  \\newcommand{\\Dt}{\\Delta t}\n",
        "  \\newcommand{\\Ds}{\\Delta s}\n",
        "  \\newcommand{\\Du}{\\Delta u}\n",
        "  \\newcommand{\\U}{\\mathbf{U}}\n",
        "  $  \n",
        "\n",
        "* Our interval $[0.5,1.5]$ is divided to $2n$ equal subintervals\n",
        "  with nodes $x_i = 0.5+i\\Dx$, where $\\Dx=1/n$,\n",
        "  $i = 0,1,2,\\ldots, 2n$.\n",
        "\n",
        "* We use the central difference second derivative formula  \n",
        "\n",
        "  $\\qquad\\displaystyle\n",
        "  y'' = \\frac{y_{i+1} - 2y_{i} + y_{i-1}}{\\Dx^2}\n",
        "  $\n",
        "\n",
        "* We use $d=\\Dx$, and plug into the equation\n",
        "\n",
        "  $\\qquad\\displaystyle\n",
        "   (x_i^2 - 2x_i)\\left(\\frac{y_{i+1} - 2y_{i} + y_{i-1}}{\\Dx^2}\\right) - 2y_i = 0\n",
        "  $\n",
        "\n",
        "* We receive a system of $2n+1$ linear equations\n",
        "  in $n+1$ unknowns $y_i$, $i=0,1,2,\\ldots,n$  \n",
        "\n",
        "  $\\qquad\n",
        "  y_{i+1} - 2y_{i} + y_{i-1} - \\frac{2d^2 y_i}{x_i^2 - 2x_i} = 0, \\quad i=1,2,\\ldots,2n-1\n",
        "  $\n",
        "\n",
        "* Compact form:  \n",
        "\n",
        "  $\\qquad\n",
        "  y_{i+1} - \\left(2 + \\frac{2d^2}{x_i^2 - 2x_i}\\right) y_{i} + y_{i-1} = 0\n",
        "  $"
      ]
    },
    {
      "cell_type": "code",
      "source": [
        "%pip install -q https://samyzaf.com/fdmtools-4.zip\n",
        "from fdmtools import *"
      ],
      "metadata": {
        "colab": {
          "base_uri": "https://localhost:8080/"
        },
        "id": "UaZSqhVASpUW",
        "outputId": "66416c8d-a433-4818-9b10-d460688c471b"
      },
      "execution_count": 1,
      "outputs": [
        {
          "output_type": "stream",
          "name": "stdout",
          "text": [
            "  Preparing metadata (setup.py) ... \u001b[?25l\u001b[?25hdone\n",
            "  Preparing metadata (setup.py) ... \u001b[?25l\u001b[?25hdone\n",
            "  Preparing metadata (setup.py) ... \u001b[?25l\u001b[?25hdone\n",
            "  Building wheel for fdmtools (setup.py) ... \u001b[?25l\u001b[?25hdone\n",
            "  Building wheel for ezprogbar (setup.py) ... \u001b[?25l\u001b[?25hdone\n",
            "  Building wheel for ezsettings (setup.py) ... \u001b[?25l\u001b[?25hdone\n"
          ]
        }
      ]
    },
    {
      "cell_type": "markdown",
      "source": [
        "* First we define our grid parameters.\n",
        "* For a start we use a small division size $N=100$."
      ],
      "metadata": {
        "id": "kAUIfTEmqRoO"
      }
    },
    {
      "cell_type": "code",
      "source": [
        "a=0.5\n",
        "b=1.5\n",
        "n = 500\n",
        "dx = (b-a)/(2*n)\n",
        "\n",
        "# Linear system of (2n+1)x(2n+1) equations: AY = B\n",
        "# A = coefficients matrix\n",
        "A = np.zeros((2*n+1,2*n+1))\n",
        "# Right side coefficients array\n",
        "B = np.zeros(2*n+1)\n",
        "\n",
        "# A = coefficients matrix for our (2n+1)x(2n+1) linear system\n",
        "# These define 2n-1 linear equations out of 2n+1 that we need for our\n",
        "# 2n+1 unknowns: Y[0], Y[1], ... Y[2n].\n",
        "# Note that A[i,i-1], A[i,i], A[i,i+1] are the coefficients of Y[i-1], Y[i], Y[i+1], respectively\n",
        "for i in range(1, 2*n):\n",
        "    A[i,i-1] = 1\n",
        "    A[i,i]   = -2 - (8*n**2 * dx**2)/(i**2 - 2*n*i - 3*n**2)\n",
        "    A[i,i+1] = 1\n",
        "    B[i]     = 0\n",
        "\n",
        "\n"
      ],
      "metadata": {
        "id": "YY_gpB6eqfEk"
      },
      "execution_count": 2,
      "outputs": []
    },
    {
      "cell_type": "markdown",
      "source": [
        "* We need two extra linear equations to complete\n",
        "  our $2n+1$ linear system.\n",
        "* The first one comes from the first initial\n",
        "  condition $y(1) = 0$.\n",
        "* The value x=1 correspomds to x[n]=1 which is\n",
        "  the middle point of our x array (0.5...1.5).\n",
        "* So the equation is simply `y[n] = 0`\n",
        "  which in our matrix notation is:\n",
        "* (We will place it as equation 0 using\n",
        "  the matrix notation)"
      ],
      "metadata": {
        "id": "Ih9MMub9iJVQ"
      }
    },
    {
      "cell_type": "code",
      "source": [
        "A[0,n] = 1\n",
        "B[n] = 0\n",
        "# A[0] is the first matrix row, and A[0,n]=1 is the coefficient of Y[n]\n",
        "# while B[n]=0 is the right side value of it\n",
        "# The last linar equation comes from our second initial condition: y'(1) = -1\n",
        "# which we place in the last row (2n) of our matrix A\n",
        "A[2*n,n+1] = 1   # This is the coefficient of Y[n+1]\n",
        "B[2*n] = -dx     # This is the right side value: 1 * Y[n+1] = -dx\n",
        "\n",
        "# Then we solve our system\n",
        "Y = np.linalg.solve(A, B)\n"
      ],
      "metadata": {
        "id": "bJ9csKyRiHgJ"
      },
      "execution_count": 3,
      "outputs": []
    },
    {
      "cell_type": "markdown",
      "source": [
        "## Sympy solution as power series\n"
      ],
      "metadata": {
        "id": "7YWNwnEuiwDM"
      }
    },
    {
      "cell_type": "code",
      "source": [
        "def F(x):\n",
        "    c1 = 0 ; c2 = -1\n",
        "    y = c1*(1 - (x - 1)**2) + c2*(x - (x - 1)**7/35 - (x - 1)**5/15 - (x - 1)**3/3 - 1)  # + O(x**9)\n",
        "    return y\n",
        "\n",
        "# Draw the solution\n",
        "X = np.linspace(a, b, 2*n+1)\n",
        "plt.plot(X, Y, color=\"blue\", linewidth=1.5)\n",
        "plt.grid('on', linestyle=':')\n",
        "Y2 = [F(x) for x in X]\n",
        "plt.plot(X, Y2, color=\"red\", linewidth=3.0, linestyle=':')\n",
        "plt.show()"
      ],
      "metadata": {
        "colab": {
          "base_uri": "https://localhost:8080/",
          "height": 430
        },
        "id": "Tgyshh_LitJQ",
        "outputId": "64a20cb6-1921-4723-f352-58e7f0fdf624"
      },
      "execution_count": 4,
      "outputs": [
        {
          "output_type": "display_data",
          "data": {
            "text/plain": [
              "<Figure size 640x480 with 1 Axes>"
            ],
            "image/png": "[encoded data removed]"
          },
          "metadata": {}
        }
      ]
    }
  ],
  "metadata": {
    "colab": {
      "provenance": [],
      "include_colab_link": true
    },
    "kernelspec": {
      "display_name": "Python 3 (ipykernel)",
      "language": "python",
      "name": "python3"
    },
    "language_info": {
      "codemirror_mode": {
        "name": "ipython",
        "version": 3
      },
      "file_extension": ".py",
      "mimetype": "text/x-python",
      "name": "python",
      "nbconvert_exporter": "python",
      "pygments_lexer": "ipython3",
      "version": "3.7.11"
    }
  },
  "nbformat": 4,
  "nbformat_minor": 0
}