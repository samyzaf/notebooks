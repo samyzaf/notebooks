{
  "cells": [
    {
      "cell_type": "markdown",
      "metadata": {
        "id": "view-in-github",
        "colab_type": "text"
      },
      "source": [
        "<a href=\"https://colab.research.google.com/github/samyzaf/notebooks/blob/main/harmonic_task.ipynb\" target=\"_parent\"><img src=\"https://colab.research.google.com/assets/colab-badge.svg\" alt=\"Open In Colab\"/></a>"
      ]
    },
    {
      "cell_type": "markdown",
      "id": "ba3e72a4",
      "metadata": {
        "cell_marker": "\"\"\"",
        "id": "ba3e72a4"
      },
      "source": [
        "# **Harmonic Functions Computational Project**\n",
        "<small>version: 19.09.25a</small>\n",
        "## **Preparation**\n",
        "* The project may be updated until Oct 12 (final version).\n",
        "  Make sure you see the latest version.\n",
        "\n",
        "* You have to save a copy of this notebook to your\n",
        "  private Google drive and work on your private copy.  \n",
        "\n",
        "  <IMG src=\"https://samyzaf.com/fdm/ipynb_save_in_drive.png\" width=\"50%\" align=\"center\"/>  \n",
        "\n",
        "  Please keep the same assignment name: **\"harmonic_task.ipynb\"**.\n",
        "\n",
        "* First thing: please read the project booklet\n",
        "  from the project Moodle page.\n",
        "* To do this project,\n",
        "  **you must read and work through the main Colab Notebook**:  \n",
        "  https://colab.research.google.com/github/samyzaf/notebooks/blob/main/harmonic_animation.ipynb\n",
        "* Understanding well the\n",
        "  [**harmonic_animation.ipynb**](https://colab.research.google.com/github/samyzaf/notebooks/blob/main/harmonic_animation.ipynb)\n",
        "  notebook will provide you with the skills and the tools\n",
        "  that you need for this project.\n",
        "  * Make sure to cover the Python and Colab tutorials\n",
        "    before you start the project!\n",
        "\n",
        "* An additional motivational example (Steve Jobs Calligraphy Story)\n",
        "  is also highly recommended:  \n",
        "  https://colab.research.google.com/github/samyzaf/notebooks/blob/main/harmonic_fonts.ipynb\n",
        "\n",
        "## **Installation and Loading**\n",
        "* Run the following cell to install and load the\n",
        "  [**cfclon** software](https://samyzaf.com/cfclon.zip)\n",
        "  and other libraries needed for our work."
      ]
    },
    {
      "cell_type": "code",
      "execution_count": null,
      "id": "1f892e06",
      "metadata": {
        "id": "1f892e06"
      },
      "outputs": [],
      "source": [
        "%pip install -q -r https://samyzaf.com/hfa.pkg   # Install the cfclon package on your Google virtual machine\n",
        "from cfclon import *                             # Load the cfclon commands to this notebook\n",
        "plt.rcParams['figure.dpi'] = 90                  # Set the dots per inch resolution to 90 dpi\n",
        "reg.log.state = \"disabled\"                       # Disable cfclon log messages\n",
        "load_db(\"https://samyzaf.com/cfproj/man.db\")     # Load the man character database"
      ]
    },
    {
      "cell_type": "markdown",
      "id": "376abf74",
      "metadata": {
        "cell_marker": "\"\"\"",
        "id": "376abf74"
      },
      "source": [
        "## **Registration**\n",
        "* Please enter your name, identity number, and email\n",
        "  address in the following form.\n",
        "* After any change, press the **play** button &#9658; to update."
      ]
    },
    {
      "cell_type": "code",
      "execution_count": null,
      "id": "cb706389",
      "metadata": {
        "cellView": "form",
        "id": "cb706389"
      },
      "outputs": [],
      "source": [
        "#@title **Student Form** {\"form-width\":\"50%\"}\n",
        "Name = 'הכנס שם מלא בעברית' # @param {type:\"string\"}\n",
        "Id = '123456789' # @param {type:\"string\"}\n",
        "Email = 'foo@bar.com' # @param {type:\"string\"}\n",
        "\n",
        "RunForm(\"proj6\")"
      ]
    },
    {
      "cell_type": "markdown",
      "id": "ae7e1da9",
      "metadata": {
        "cell_marker": "\"\"\"",
        "id": "ae7e1da9"
      },
      "source": [
        "## **TASK 1**<br/>**Solving Harmonic Puzzles**\n",
        "* In the project booklet we defined **Harmonic Puzzles**,\n",
        "the discrete version of a real harmonic function,\n",
        "  and learned how to solve them by using linear algebra  \n",
        "  \n",
        "  <IMG src=\"https://samyzaf.com/cfproj/hcw2d.png\" width=\"80%\"/>  \n",
        "\n",
        "* It turns out that if our puzzles are very large,\n",
        "  like for example 1920x1200 pixel images in a movie animation,\n",
        "  then we will need to solve 2 million equations with 2 million\n",
        "  variables! This is very slow and memory expensive, even\n",
        "  with the best computing systems in the world,\n",
        "  and therefore is not practical for movie animation.\n",
        "\n",
        "* The people at [Pixar Animation Studios](https://www.pixar.com)\n",
        "  came up with simple, elegant, fast, and practical numeric\n",
        "  algorithms for solving large (polygonal) puzzles,\n",
        "  which enabled them to implement\n",
        "  harmonic coordinates in Pixar movies efficiently.\n",
        "\n",
        "* Your first task is to implement the numerical method\n",
        "  for solving general mxn puzzles.\n",
        "\n",
        "* A puzzle can be represented by a Python 2D array,\n",
        "  which is a simple list of rows"
      ]
    },
    {
      "cell_type": "code",
      "execution_count": null,
      "id": "e0a4e0e6",
      "metadata": {
        "id": "e0a4e0e6"
      },
      "outputs": [],
      "source": [
        "puzzle1 = np.array([\n",
        "    [1.0, 1.0, 0.0 ,0.0],\n",
        "    [1.0, 0.0, 0.0 ,0.0],\n",
        "    [0.0, 0.0, 0.0 ,0.0],\n",
        "    [0.0, 0.0, 0.0 ,0.0],\n",
        "])"
      ]
    },
    {
      "cell_type": "markdown",
      "id": "3c7040b7",
      "metadata": {
        "cell_marker": "\"\"\"",
        "id": "3c7040b7"
      },
      "source": [
        "* A **Numpy** 2d matrix is simply a list of rows.\n",
        "* To see it more clearly, use the **print** function."
      ]
    },
    {
      "cell_type": "code",
      "execution_count": null,
      "id": "40f0c716",
      "metadata": {
        "id": "40f0c716"
      },
      "outputs": [],
      "source": [
        "print(puzzle1)"
      ]
    },
    {
      "cell_type": "markdown",
      "id": "80a9f65e",
      "metadata": {
        "cell_marker": "\"\"\"",
        "id": "80a9f65e"
      },
      "source": [
        "* We also have a nice utility for drawing puzzles."
      ]
    },
    {
      "cell_type": "code",
      "execution_count": null,
      "id": "62cb59f2",
      "metadata": {
        "id": "62cb59f2"
      },
      "outputs": [],
      "source": [
        "draw_table(puzzle1)"
      ]
    },
    {
      "cell_type": "markdown",
      "id": "aa914904",
      "metadata": {
        "cell_marker": "\"\"\"",
        "lines_to_next_cell": 1,
        "id": "aa914904"
      },
      "source": [
        "* To solve this puzzle we need to find the values\n",
        "  $x_{11}$, $x_{12}$, $x_{21}$, $x_{22}$, which make this\n",
        "  puzzle harmonic  \n",
        "  <IMG src=\"https://samyzaf.com/cfproj/hcw2a.png\" width=\"25%\"/>\n",
        "\n",
        "* Remember that a puzzle is harmonic if every **internal cell value**\n",
        "  is the average of its 8 neighbors!\n",
        "\n",
        "* Lets define a function for computing the average of the\n",
        "  neighbors of cell **(i,j)**.  \n",
        "  <IMG src=\"https://samyzaf.com/cfproj/hcw2c.png\" width=\"20%\"/>"
      ]
    },
    {
      "cell_type": "code",
      "execution_count": null,
      "id": "fe213dcc",
      "metadata": {
        "lines_to_next_cell": 1,
        "id": "fe213dcc"
      },
      "outputs": [],
      "source": [
        "def Average(puz, i, j):\n",
        "    average = (puz[i-1,j] + puz[i,j-1] + puz[i+1,j] + puz[i,j+1] +\n",
        "        puz[i-1,j-1] + puz[i-1,j+1] + puz[i+1,j-1] + puz[i+1,j+1]) / 8\n",
        "    return average"
      ]
    },
    {
      "cell_type": "markdown",
      "id": "08bcffff",
      "metadata": {
        "cell_marker": "\"\"\"",
        "id": "08bcffff"
      },
      "source": [
        "* For example, lets compute the average at cell (1,1) of puzzle1."
      ]
    },
    {
      "cell_type": "code",
      "execution_count": null,
      "id": "f8dbc3fb",
      "metadata": {
        "id": "f8dbc3fb"
      },
      "outputs": [],
      "source": [
        "Average(puzzle1, 1, 1)"
      ]
    },
    {
      "cell_type": "markdown",
      "id": "22d069d7",
      "metadata": {
        "cell_marker": "\"\"\"",
        "id": "22d069d7"
      },
      "source": [
        "* We can now insert this value to cell (1,1) and redraw our puzzle1."
      ]
    },
    {
      "cell_type": "code",
      "execution_count": null,
      "id": "0ce780ca",
      "metadata": {
        "id": "0ce780ca"
      },
      "outputs": [],
      "source": [
        "puzzle1[1,1] = Average(puzzle1, 1, 1)\n",
        "draw_table(puzzle1)"
      ]
    },
    {
      "cell_type": "markdown",
      "id": "a3f0765e",
      "metadata": {
        "cell_marker": "\"\"\"",
        "id": "a3f0765e"
      },
      "source": [
        "* We can do the same action on cells (1,2), (2,1), and (2,2)."
      ]
    },
    {
      "cell_type": "code",
      "execution_count": null,
      "id": "a786b302",
      "metadata": {
        "id": "a786b302"
      },
      "outputs": [],
      "source": [
        "puzzle1[1,2] = Average(puzzle1, 1, 2)\n",
        "puzzle1[2,1] = Average(puzzle1, 2, 1)\n",
        "puzzle1[2,2] = Average(puzzle1, 2, 2)\n",
        "draw_table(puzzle1, dx=120, dy=60, fontsize=7)"
      ]
    },
    {
      "cell_type": "markdown",
      "id": "3cf72903",
      "metadata": {
        "cell_marker": "\"\"\"",
        "lines_to_next_cell": 1,
        "id": "3cf72903"
      },
      "source": [
        "* Does it look close to the real solution?  \n",
        "  <IMG src=\"https://samyzaf.com/cfproj/hcw2.png\" width=\"30%\"/>  \n",
        "\n",
        "* How do we check it?\n",
        "\n",
        "* It is easy to write a Python method for checking\n",
        "  if a puzzle **puz** is harmonic."
      ]
    },
    {
      "cell_type": "code",
      "execution_count": null,
      "id": "1b8ce25b",
      "metadata": {
        "lines_to_next_cell": 1,
        "id": "1b8ce25b"
      },
      "outputs": [],
      "source": [
        "def CheckPuzzle(puz, epsilon=1e-7):\n",
        "    m,n = puz.shape\n",
        "    for i in range(1,m-1):\n",
        "        for j in range(1,n-1):\n",
        "            if abs(puz[i,j] - Average(puz, i, j)) > epsilon:\n",
        "                return False\n",
        "    return True"
      ]
    },
    {
      "cell_type": "markdown",
      "id": "6dff552c",
      "metadata": {
        "cell_marker": "\"\"\"",
        "id": "6dff552c"
      },
      "source": [
        "* The best we can do when we work with floating point numbers\n",
        "  is make sure that the distance between **puz[i,j]** and\n",
        "  the average **Average(puz,i,j)** is small enough.\n",
        "\n",
        "* We use the Python absolute value function\n",
        "  **abs(x)** for checking if the absolute value of\n",
        "  **puz[i,j] - Averagae(puz,i,j)**\n",
        "  is smaller than **epsilon=1e-7** (0.0000001),\n",
        "  for every internal cell **(i,j)**.\n",
        "\n",
        "* This condition should apply to\n",
        "  **internal cells (i,j)** only!\n",
        "  The boundary cells are not subject to any change or constraint.\n",
        "  * This is why the **for loop** runs\n",
        "    only for values i=1,...,m-2 and j=1,...,n-2\n",
        "    (and not for i=0,...,m-1 and j=0,...,n-1).\n",
        "\n",
        "* Now we can easily check if our **puzzle1** is harmonic."
      ]
    },
    {
      "cell_type": "code",
      "execution_count": null,
      "id": "038a1b8e",
      "metadata": {
        "id": "038a1b8e"
      },
      "outputs": [],
      "source": [
        "CheckPuzzle(puzzle1)"
      ]
    },
    {
      "cell_type": "markdown",
      "id": "30ca5b6e",
      "metadata": {
        "cell_marker": "\"\"\"",
        "id": "30ca5b6e"
      },
      "source": [
        "* So applying the **Average** operation one time does not\n",
        "  yield a solution of the puzzle.\n",
        "* What happens if we repeat all 4 actions again?\n",
        "  and again ... and again ... ?\n",
        "* After each iteration we also check if our puzzle is harmonic."
      ]
    },
    {
      "cell_type": "code",
      "execution_count": null,
      "id": "532b409c",
      "metadata": {
        "id": "532b409c"
      },
      "outputs": [],
      "source": [
        "puzzle1[1,1] = Average(puzzle1, 1, 1)\n",
        "puzzle1[1,2] = Average(puzzle1, 1, 2)\n",
        "puzzle1[2,1] = Average(puzzle1, 2, 1)\n",
        "puzzle1[2,2] = Average(puzzle1, 2, 2)\n",
        "draw_table(puzzle1, dx=120, dy=60, fontsize=7)\n",
        "\n",
        "CheckPuzzle(puzzle1, epsilon=1e-7)"
      ]
    },
    {
      "cell_type": "markdown",
      "id": "b9b6ef23",
      "metadata": {
        "cell_marker": "\"\"\"",
        "id": "b9b6ef23"
      },
      "source": [
        "* You can execute the previous code cell again and again,\n",
        "  and see what happens?\n",
        "  * Hint: $0.444444... = \\frac{4}{9}$."
      ]
    },
    {
      "cell_type": "markdown",
      "id": "dc156a72",
      "metadata": {
        "cell_marker": "\"\"\"",
        "lines_to_next_cell": 1,
        "id": "dc156a72"
      },
      "source": [
        "## **TASK 1A:**\n",
        "* Based on the above observation,\n",
        "  write a Python function **RunAverage**,\n",
        "  which accepts a general **mxn** puzzle and\n",
        "  performs the **Average** on every internal\n",
        "  cell **(i,j)** of the puzzle.\n",
        "\n",
        "* Note that a cell **(i,j)** is **internal**\n",
        "  if **i=1,2,...,m-2** and **j=1,2,...,n-2**.\n",
        "\n",
        "* Notice that this function is changing the puzzle!\n",
        "  It replaces all the internal cells with their average.\n",
        "  To reset the puzzles,\n",
        "  replay the registration form above.\n",
        "\n",
        "* To obtain the puzzle shape **(m,n)** use:  \n",
        "  **m,n = puzzle.shape**  \n",
        "  This should be the first line in your code."
      ]
    },
    {
      "cell_type": "code",
      "execution_count": null,
      "id": "82fb3f9a",
      "metadata": {
        "lines_to_next_cell": 1,
        "id": "82fb3f9a"
      },
      "outputs": [],
      "source": [
        "# puzzle = mxn Numpy array\n",
        "# The first line retrieves the number of rows m, and number of columns n\n",
        "\n",
        "def RunAverage(puzzle):\n",
        "    m,n = puzzle.shape\n",
        "    # Write your code here.\n",
        "    # It should not be too long!\n",
        "    # A code longer than 10 lines\n",
        "    # will not be accepted!"
      ]
    },
    {
      "cell_type": "markdown",
      "id": "f50ae686",
      "metadata": {
        "cell_marker": "\"\"\"",
        "lines_to_next_cell": 1,
        "id": "f50ae686"
      },
      "source": [
        "## **TASK 1B:**\n",
        "* Pixar labs researchers observed that if we repeat\n",
        "  this method enough times, then the puzzle **converges**\n",
        "  to its harmonic solution!\n",
        "* This has also been proved mathematically.\n",
        "  You can read about it in the papers that are listed\n",
        "  in the project booklet bibliography.\n",
        "* Based on this observation,\n",
        "  write a Python function **SolvePuzzle**,\n",
        "  which accepts a general **mxn** puzzle and\n",
        "  an optional argument **epsilon**,\n",
        "  which solves the puzzle with precision level **epsilon**."
      ]
    },
    {
      "cell_type": "code",
      "execution_count": null,
      "id": "463bfe41",
      "metadata": {
        "lines_to_next_cell": 1,
        "id": "463bfe41"
      },
      "outputs": [],
      "source": [
        "# puzzle = mxn Numpy array\n",
        "# epsilon = max error. Default=0.0000001\n",
        "\n",
        "def SolvePuzzle(puzzle, epsilon=1e-7):\n",
        "    # Write your code here.\n",
        "    # It should not be too long!\n",
        "    # A code longer than 10 lines\n",
        "    # will not be accepted!"
      ]
    },
    {
      "cell_type": "markdown",
      "id": "1358cf87",
      "metadata": {
        "cell_marker": "\"\"\"",
        "id": "1358cf87"
      },
      "source": [
        "## **TASK 1C**\n",
        "* Use your **SolvePuzzle** method to solve\n",
        "  puzzle2, puzzle3, and puzzle4,\n",
        "  with precision level 1e-7.\n",
        "* Then write your code for solving and drawing these 3 puzzles\n",
        "  in the following code cell."
      ]
    },
    {
      "cell_type": "markdown",
      "id": "41506ef5",
      "metadata": {
        "cell_marker": "\"\"\"",
        "id": "41506ef5"
      },
      "source": [
        "### $\\bullet$ **Write your code in the following cell.**"
      ]
    },
    {
      "cell_type": "code",
      "execution_count": null,
      "id": "2238d778",
      "metadata": {
        "id": "2238d778"
      },
      "outputs": [],
      "source": [
        "# Write here code to solve and draw the solutions\n",
        "# of puzzle2, puzzle3, and puzzle4."
      ]
    },
    {
      "cell_type": "markdown",
      "id": "c7c4dad8",
      "metadata": {
        "cell_marker": "\"\"\"",
        "id": "c7c4dad8"
      },
      "source": [
        "## **TASK 1D**\n",
        "* In addition to **puzzle1** ... **puzzle4**,\n",
        "  we also have a special large\n",
        "  puzzle **puzzle5**.\n",
        "  \n",
        "* To define it use the command **get_puzzle5()**.\n",
        "  This command also draws it as a thermal map,\n",
        "  and resets its original value.\n",
        "\n",
        "* This is a **26x26** size puzzle, so printing it\n",
        "  or drawing its table is not practical (but\n",
        "  you can try to see what happens).\n",
        "\n",
        "* In such cases, we use visualization methods such as\n",
        "  **Thermal Maps** to get a feel of it."
      ]
    },
    {
      "cell_type": "code",
      "execution_count": null,
      "id": "526ffea3",
      "metadata": {
        "id": "526ffea3"
      },
      "outputs": [],
      "source": [
        "get_puzzle5()"
      ]
    },
    {
      "cell_type": "markdown",
      "id": "9920c481",
      "metadata": {
        "cell_marker": "\"\"\"",
        "id": "9920c481"
      },
      "source": [
        "* If you insist, you can view small parts of **puzzle5**\n",
        "  by commands such as"
      ]
    },
    {
      "cell_type": "code",
      "execution_count": null,
      "id": "a548e186",
      "metadata": {
        "id": "a548e186"
      },
      "outputs": [],
      "source": [
        "draw_table(puzzle5[0:10,0:10])"
      ]
    },
    {
      "cell_type": "markdown",
      "id": "14b41b3c",
      "metadata": {
        "cell_marker": "\"\"\"",
        "id": "14b41b3c"
      },
      "source": [
        "* Try to run the following code repeatedly (at least 50 times)\n",
        "  and see what happens?  \n",
        "* What is your observation?\n",
        "* What kind of **Physical Phenomenon** do you notice?\n",
        "* Use exactly two words to describe your hypothesis about what happens."
      ]
    },
    {
      "cell_type": "code",
      "execution_count": null,
      "id": "22077e6e",
      "metadata": {
        "id": "22077e6e"
      },
      "outputs": [],
      "source": [
        "RunAverage(puzzle5)\n",
        "draw_thermal_map(puzzle5)"
      ]
    },
    {
      "cell_type": "code",
      "execution_count": null,
      "id": "f00a12df",
      "metadata": {
        "cellView": "form",
        "id": "f00a12df"
      },
      "outputs": [],
      "source": [
        "#@title **Phenomenon Description** {\"form-width\":\"50%\"}\n",
        "#@markdown **Enter your two words description and press the play button**\n",
        "Description = '' # @param {type:\"string\", placeholder:'Enter your two words description here (English)'}"
      ]
    },
    {
      "cell_type": "markdown",
      "id": "2b49193a",
      "metadata": {
        "cell_marker": "\"\"\"",
        "id": "2b49193a"
      },
      "source": [
        "This might give you an additional hint."
      ]
    },
    {
      "cell_type": "code",
      "execution_count": null,
      "id": "b71b0391",
      "metadata": {
        "id": "b71b0391"
      },
      "outputs": [],
      "source": [
        "SolvePuzzle(puzzle5)\n",
        "draw_thermal_map(puzzle5)"
      ]
    },
    {
      "cell_type": "markdown",
      "id": "b4add5c6",
      "metadata": {
        "cell_marker": "\"\"\"",
        "id": "b4add5c6"
      },
      "source": [
        "## **TASK 2**<br/>**Cloning a 2D Man Figure**\n",
        "* In your second task you will have to clone a **2D man figure**\n",
        "  into a given **cage2**.\n",
        "* The man figure is given as a polygon with **178 vertices**,\n",
        "  and the two cages are 21 vertices polygons.\n",
        "* In the following command we load and print these 3 polygons."
      ]
    },
    {
      "cell_type": "code",
      "execution_count": null,
      "id": "ed1dd7b3",
      "metadata": {
        "id": "ed1dd7b3"
      },
      "outputs": [],
      "source": [
        "man, cage1, cage2 = load_polygons()\n",
        "print(f\"man = {man}\")\n",
        "print(f\"cage1 = {cage1}\")\n",
        "print(f\"cage2 = {cage2}\")"
      ]
    },
    {
      "cell_type": "markdown",
      "id": "a56fbfe0",
      "metadata": {
        "cell_marker": "\"\"\"",
        "id": "a56fbfe0"
      },
      "source": [
        "* The Python **len** command counts the number\n",
        "  of elements in a list (or any container object).\n",
        "* We can use it for counting the number of vertices in our polygons."
      ]
    },
    {
      "cell_type": "code",
      "execution_count": null,
      "id": "9ef09075",
      "metadata": {
        "id": "9ef09075"
      },
      "outputs": [],
      "source": [
        "print(len(man))\n",
        "print(len(cage1))\n",
        "print(len(cage2))"
      ]
    },
    {
      "cell_type": "markdown",
      "id": "8b320fbb",
      "metadata": {
        "cell_marker": "\"\"\"",
        "id": "8b320fbb"
      },
      "source": [
        "* To get a better impression, lets draw the man figure and cage1."
      ]
    },
    {
      "cell_type": "code",
      "execution_count": null,
      "id": "7768b260",
      "metadata": {
        "id": "7768b260"
      },
      "outputs": [],
      "source": [
        "plt.figure(figsize=(7,7))\n",
        "draw_curve(man, fill=True, facecolor=\"azure\", linewidth=0.5)\n",
        "draw_cage(cage1, linewidth=0.5)\n",
        "\n",
        "show_plot()"
      ]
    },
    {
      "cell_type": "markdown",
      "id": "4105d2bc",
      "metadata": {
        "cell_marker": "\"\"\"",
        "id": "4105d2bc"
      },
      "source": [
        "* The man figure looks smooth, but if you zoom in,\n",
        "  you can notice it is really a polygon of straight segments.\n",
        "* For example the head consists of 36 vertices.   \n",
        "\n",
        "  <IMG src=\"https://samyzaf.com/cfproj/man_zoomto_head.jpg\" width=\"40%\"/>\n",
        "\n",
        "* Lets draw **cage2**."
      ]
    },
    {
      "cell_type": "code",
      "execution_count": null,
      "id": "769ddd07",
      "metadata": {
        "id": "769ddd07"
      },
      "outputs": [],
      "source": [
        "plt.figure(figsize=(6,6))\n",
        "draw_cage(cage2, linewidth=0.75)\n",
        "show_plot()"
      ]
    },
    {
      "cell_type": "markdown",
      "id": "4e727c46",
      "metadata": {
        "cell_marker": "\"\"\"",
        "id": "4e727c46"
      },
      "source": [
        "## **TASK 2A**\n",
        "* Write code for\n",
        "  1. Cloning the man figure into **cage2**.\n",
        "  2. Drawing the cloned man figure and\n",
        "     **cage2** in the same figure.\n",
        "\n",
        "* **Write you code in the following cell.**"
      ]
    },
    {
      "cell_type": "code",
      "execution_count": null,
      "id": "75a829e3",
      "metadata": {
        "id": "75a829e3"
      },
      "outputs": [],
      "source": [
        "# Write your code here.\n",
        "#\n",
        "#\n",
        "#"
      ]
    },
    {
      "cell_type": "markdown",
      "id": "f68996fb",
      "metadata": {
        "cell_marker": "\"\"\"",
        "id": "f68996fb"
      },
      "source": [
        "## **TASK 2B**\n",
        "* In the next figure we define and draw three points\n",
        "  **p1**, **p2**, **p3**,\n",
        "  inside our initial man figure."
      ]
    },
    {
      "cell_type": "code",
      "execution_count": null,
      "id": "f86117f4",
      "metadata": {
        "id": "f86117f4"
      },
      "outputs": [],
      "source": [
        "p1 = (600,200)\n",
        "p2 = (350,1250)\n",
        "p3 = (700,1200)"
      ]
    },
    {
      "cell_type": "markdown",
      "id": "aa7193ea",
      "metadata": {
        "cell_marker": "\"\"\"",
        "id": "aa7193ea"
      },
      "source": [
        "<IMG src=\"https://samyzaf.com/cfproj/man51.png\" width=\"70%\"/>\n",
        "\n",
        "* Your mission is to compute the new location of these\n",
        "  points after cloning the man figure to **cage2**.\n",
        "\n",
        "### **Write the new locations of points p1, p2, p3, in the following cell.**"
      ]
    },
    {
      "cell_type": "code",
      "execution_count": null,
      "id": "64b07fea",
      "metadata": {
        "id": "64b07fea"
      },
      "outputs": [],
      "source": [
        "# Write you final answer here:\n",
        "p1 =\n",
        "p2 =\n",
        "p3 ="
      ]
    },
    {
      "cell_type": "markdown",
      "id": "b47c1879",
      "metadata": {
        "cell_marker": "\"\"\"",
        "id": "b47c1879"
      },
      "source": [
        "* **Only the final numerical answer will be checked.\n",
        "  Code is not required.**\n",
        "\n",
        "* 6 digits precision is good enough."
      ]
    },
    {
      "cell_type": "markdown",
      "id": "6cfd6074",
      "metadata": {
        "cell_marker": "\"\"\"",
        "lines_to_next_cell": 2,
        "id": "6cfd6074"
      },
      "source": [
        "## **Your Tools**\n",
        "* The only **cfclon** functions you are allowed to use are:\n",
        "  * **harmonic_coordinates**\n",
        "  * **clone**\n",
        "  * **draw_line**\n",
        "  * **draw_point**\n",
        "  * **draw_curve**\n",
        "  * **draw_poly**\n",
        "  * **draw_cage**\n",
        "  * **show_plot**\n",
        "  * **draw_table**\n",
        "\n",
        "  * All the **standard Python commands** are of course allowed.\n",
        "     You may not load external libraries.\n",
        "\n",
        "* You don't need to draw point labels or point coordinates\n",
        "  in your figures.\n",
        "\n",
        "## **Task Submission**\n",
        "* After completing this project, you should save the notebook as\n",
        "  an **ipynb** file on your local drive:  \n",
        "  **File-->Download-->Download .ipynb**.  \n",
        "\n",
        "  <IMG src=\"https://samyzaf.com/fdm/ipynb_download1.png\" width=\"50%\" align=\"center\"/>  \n",
        "\n",
        "* Then upload it to the\n",
        "  assignment box of the Moodle project page.\n",
        "  * Make sure you keep the same name:\n",
        "    **harmonic_task.ipynb**.\n",
        "\n",
        "* The exact Moodle box for submitting the\n",
        "  project is: \"הגשת המטלה התיכנותית\".\n",
        "\n",
        "* **GOOD LUCK!**"
      ]
    }
  ],
  "metadata": {
    "jupytext": {
      "cell_metadata_filter": "-all",
      "main_language": "python",
      "notebook_metadata_filter": "-all"
    },
    "colab": {
      "provenance": [],
      "generative_ai_disabled": true,
      "include_colab_link": true
    },
    "language_info": {
      "name": "python"
    },
    "kernelspec": {
      "name": "python3",
      "display_name": "Python 3"
    }
  },
  "nbformat": 4,
  "nbformat_minor": 5
}