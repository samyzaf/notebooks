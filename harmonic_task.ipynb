{
  "cells": [
    {
      "cell_type": "markdown",
      "metadata": {
        "id": "view-in-github",
        "colab_type": "text"
      },
      "source": [
        "<a href=\"https://colab.research.google.com/github/samyzaf/notebooks/blob/main/harmonic_task.ipynb\" target=\"_parent\"><img src=\"https://colab.research.google.com/assets/colab-badge.svg\" alt=\"Open In Colab\"/></a>"
      ]
    },
    {
      "cell_type": "markdown",
      "id": "5ba7298f",
      "metadata": {
        "cell_marker": "\"\"\"",
        "id": "5ba7298f"
      },
      "source": [
        "# **THIS IS JUST A PROMOTION PAGE**\n",
        "# **THE PROJECT WILL BE PUBLISHED SOON ...**\n",
        "\n",
        "## **However, please start preparing for it by reading**\n",
        "## **the following Google Colab Notebooks!**\n",
        "\n",
        "* To do this project, you must read and work\n",
        "  through the main Colab Notebook:  \n",
        "  https://colab.research.google.com/github/samyzaf/notebooks/blob/main/harmonic_animation.ipynb\n",
        "\n",
        "* Understanding well the\n",
        "  [**harmonic_animation.ipynb**](https://colab.research.google.com/github/samyzaf/notebooks/blob/main/harmonic_animation.ipynb)\n",
        "  notebook will provide you with the skills and the tools\n",
        "  that you need for this project.\n",
        "\n",
        "* An additional motivational example (Steve Jobs Calligraphy Story)\n",
        "  is also highly recommended:  \n",
        "  https://colab.research.google.com/github/samyzaf/notebooks/blob/main/harmonic_fonts.ipynb\n"
      ]
    },
    {
      "cell_type": "markdown",
      "id": "9e270639",
      "metadata": {
        "cell_marker": "\"\"\"",
        "id": "9e270639"
      },
      "source": [
        "# **COMING SOON .........**\n",
        "<IMG src=\"https://samyzaf.com/cfproj/man52.png\" width=\"70%\"/>\n",
        "\n"
      ]
    }
  ],
  "metadata": {
    "jupytext": {
      "cell_metadata_filter": "-all",
      "main_language": "python",
      "notebook_metadata_filter": "-all"
    },
    "colab": {
      "provenance": [],
      "include_colab_link": true
    },
    "language_info": {
      "name": "python"
    },
    "kernelspec": {
      "name": "python3",
      "display_name": "Python 3"
    }
  },
  "nbformat": 4,
  "nbformat_minor": 5
}