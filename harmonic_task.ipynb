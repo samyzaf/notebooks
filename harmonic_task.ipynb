{
  "cells": [
    {
      "cell_type": "markdown",
      "metadata": {
        "id": "view-in-github",
        "colab_type": "text"
      },
      "source": [
        "<a href=\"https://colab.research.google.com/github/samyzaf/notebooks/blob/main/harmonic_task.ipynb\" target=\"_parent\"><img src=\"https://colab.research.google.com/assets/colab-badge.svg\" alt=\"Open In Colab\"/></a>"
      ]
    },
    {
      "cell_type": "markdown",
      "id": "296048a0",
      "metadata": {
        "cell_marker": "\"\"\"",
        "id": "296048a0"
      },
      "source": [
        "# **Harmonic Functions Computational Project**\n",
        "<small>version: 17.09.25a</small>\n",
        "## **Preparation**\n",
        "* The project may be updated until Oct 12 (final version).\n",
        "  Make sure you see the latest version.\n",
        "* First thing: please read the project booklet\n",
        "  from the project Moodle page.\n",
        "* To do this project,\n",
        "  **you must read and work through the main Colab Notebook**:  \n",
        "  https://colab.research.google.com/github/samyzaf/notebooks/blob/main/harmonic_animation.ipynb\n",
        "* Understanding well the\n",
        "  [**harmonic_animation.ipynb**](https://colab.research.google.com/github/samyzaf/notebooks/blob/main/harmonic_animation.ipynb)\n",
        "  notebook will provide you with the skills and the tools\n",
        "  that you need for this project.\n",
        "  * Make sure to cover the Python and Colab tutorials\n",
        "    before you start the project!\n",
        "\n",
        "* An additional motivational example (Steve Jobs Calligraphy Story)\n",
        "  is also highly recommended:  \n",
        "  https://colab.research.google.com/github/samyzaf/notebooks/blob/main/harmonic_fonts.ipynb\n",
        "\n",
        "## **Installation and Loading**\n",
        "* Run the following cell to install and load the\n",
        "  [**cfclon** software](https://samyzaf.com/cfclon.zip)\n",
        "  and other libraries needed for our work."
      ]
    },
    {
      "cell_type": "code",
      "execution_count": null,
      "id": "69599969",
      "metadata": {
        "id": "69599969"
      },
      "outputs": [],
      "source": [
        "%pip install -q -r https://samyzaf.com/hfa.pkg   # Install the cfclon package on your Google virtual machine\n",
        "from cfclon import *                             # Load the cfclon commands to this notebook\n",
        "plt.rcParams['figure.dpi'] = 90                  # Set the dots per inch resolution to 90 dpi\n",
        "reg.log.state = \"disabled\"                       # Disable cfclon log messages\n",
        "load_db(\"https://samyzaf.com/cfproj/man.db\")     # Load the man character database"
      ]
    },
    {
      "cell_type": "markdown",
      "id": "7294ff9e",
      "metadata": {
        "cell_marker": "\"\"\"",
        "id": "7294ff9e"
      },
      "source": [
        "## **Registration**\n",
        "* Please enter your name, identity number, and email\n",
        "  address in the following form.\n",
        "* After any change, press the **play** button &#9658; to update."
      ]
    },
    {
      "cell_type": "code",
      "execution_count": null,
      "id": "ea3cd4d8",
      "metadata": {
        "cellView": "form",
        "id": "ea3cd4d8"
      },
      "outputs": [],
      "source": [
        "#@title **Student Form** {\"form-width\":\"50%\"}\n",
        "Name = 'הכנס שם מלא בעברית' # @param {type:\"string\"}\n",
        "Id = '123456789' # @param {type:\"string\"}\n",
        "Email = 'foo@bar.com' # @param {type:\"string\"}\n",
        "\n",
        "RunForm(\"proj6\")"
      ]
    },
    {
      "cell_type": "markdown",
      "id": "2fcaaad6",
      "metadata": {
        "cell_marker": "\"\"\"",
        "id": "2fcaaad6"
      },
      "source": [
        "## **TASK 1**<br/>**Solving Harmonic Puzzles**\n",
        "* In the project booklet we defined **Harmonic Puzzles**,\n",
        "the discrete version of a real harmonic function,\n",
        "  and learned how to solve them by using linear algebra  \n",
        "  \n",
        "  <IMG src=\"https://samyzaf.com/cfproj/hcw2d.png\" width=\"80%\"/>  \n",
        "\n",
        "* It turns out that if our puzzles are very large,\n",
        "  like for example 1920x1200 pixel images in a movie animation,\n",
        "  then we will need to solve 2 million equations with 2 million\n",
        "  variables! This is very slow and memory expensive, even\n",
        "  with the best computing systems in the world,\n",
        "  and therefore is not practical for movie animation.\n",
        "\n",
        "* The people at [Pixar Animation Studios](https://www.pixar.com)\n",
        "  came up with simple, elegant, fast, and practical numeric\n",
        "  algorithms for solving large (polygonal) puzzles,\n",
        "  which enabled them to implement\n",
        "  harmonic coordinates in Pixar movies efficiently.\n",
        "\n",
        "* Your first task is to implement the numerical method\n",
        "  for solving general mxn puzzles.\n",
        "\n",
        "* A puzzle can be represented by a Python 2D array,\n",
        "  which is a simple list of rows"
      ]
    },
    {
      "cell_type": "code",
      "execution_count": null,
      "id": "88aa9bc4",
      "metadata": {
        "id": "88aa9bc4"
      },
      "outputs": [],
      "source": [
        "puzzle1 = np.array([\n",
        "    [1.0, 1.0, 0.0 ,0.0],\n",
        "    [1.0, 0.0, 0.0 ,0.0],\n",
        "    [0.0, 0.0, 0.0 ,0.0],\n",
        "    [0.0, 0.0, 0.0 ,0.0],\n",
        "])"
      ]
    },
    {
      "cell_type": "markdown",
      "id": "b02fa37d",
      "metadata": {
        "cell_marker": "\"\"\"",
        "id": "b02fa37d"
      },
      "source": [
        "* A **Numpy** 2d matrix is simply a list of rows.\n",
        "* To see it more clearly, use the **print** function."
      ]
    },
    {
      "cell_type": "code",
      "execution_count": null,
      "id": "caec3eef",
      "metadata": {
        "id": "caec3eef"
      },
      "outputs": [],
      "source": [
        "print(puzzle1)"
      ]
    },
    {
      "cell_type": "markdown",
      "id": "384e0bc9",
      "metadata": {
        "cell_marker": "\"\"\"",
        "id": "384e0bc9"
      },
      "source": [
        "* We also have a nice utility for drawing puzzles."
      ]
    },
    {
      "cell_type": "code",
      "execution_count": null,
      "id": "8c485508",
      "metadata": {
        "id": "8c485508"
      },
      "outputs": [],
      "source": [
        "draw_table(puzzle1)"
      ]
    },
    {
      "cell_type": "markdown",
      "id": "e6e87389",
      "metadata": {
        "cell_marker": "\"\"\"",
        "lines_to_next_cell": 1,
        "id": "e6e87389"
      },
      "source": [
        "* To solve this puzzle we need to find the values\n",
        "  $x_{11}$, $x_{12}$, $x_{21}$, $x_{22}$, which make this\n",
        "  puzzle harmonic  \n",
        "  <IMG src=\"https://samyzaf.com/cfproj/hcw2a.png\" width=\"25%\"/>\n",
        "\n",
        "* Remember that a puzzle is harmonic if every **internal cell value**\n",
        "  is the average of its 8 neighbors!\n",
        "\n",
        "* Lets define a function for computing the average of the\n",
        "  neighbors of cell **(i,j)**.  \n",
        "  <IMG src=\"https://samyzaf.com/cfproj/hcw2c.png\" width=\"20%\"/>"
      ]
    },
    {
      "cell_type": "code",
      "execution_count": null,
      "id": "54c8be72",
      "metadata": {
        "lines_to_next_cell": 1,
        "id": "54c8be72"
      },
      "outputs": [],
      "source": [
        "def Average(puz, i, j):\n",
        "    average = (puz[i-1,j] + puz[i,j-1] + puz[i+1,j] + puz[i,j+1] +\n",
        "        puz[i-1,j-1] + puz[i-1,j+1] + puz[i+1,j-1] + puz[i+1,j+1]) / 8\n",
        "    return average"
      ]
    },
    {
      "cell_type": "markdown",
      "id": "146fca6a",
      "metadata": {
        "cell_marker": "\"\"\"",
        "id": "146fca6a"
      },
      "source": [
        "* For example, lets compute the average at cell (1,1) of puzzle1."
      ]
    },
    {
      "cell_type": "code",
      "execution_count": null,
      "id": "8da0b6dc",
      "metadata": {
        "id": "8da0b6dc"
      },
      "outputs": [],
      "source": [
        "Average(puzzle1, 1, 1)"
      ]
    },
    {
      "cell_type": "markdown",
      "id": "0b8172fa",
      "metadata": {
        "cell_marker": "\"\"\"",
        "id": "0b8172fa"
      },
      "source": [
        "* We can now insert this value to cell (1,1) and redraw our puzzle1."
      ]
    },
    {
      "cell_type": "code",
      "execution_count": null,
      "id": "d1cae34e",
      "metadata": {
        "id": "d1cae34e"
      },
      "outputs": [],
      "source": [
        "puzzle1[1,1] = Average(puzzle1, 1, 1)\n",
        "draw_table(puzzle1)"
      ]
    },
    {
      "cell_type": "markdown",
      "id": "983adb5b",
      "metadata": {
        "cell_marker": "\"\"\"",
        "id": "983adb5b"
      },
      "source": [
        "* We can do the same action on cells (1,2), (2,1), and (2,2)."
      ]
    },
    {
      "cell_type": "code",
      "execution_count": null,
      "id": "8f38825a",
      "metadata": {
        "id": "8f38825a"
      },
      "outputs": [],
      "source": [
        "puzzle1[1,2] = Average(puzzle1, 1, 2)\n",
        "puzzle1[2,1] = Average(puzzle1, 2, 1)\n",
        "puzzle1[2,2] = Average(puzzle1, 2, 2)\n",
        "draw_table(puzzle1, dx=120, dy=60, fontsize=7)"
      ]
    },
    {
      "cell_type": "markdown",
      "id": "53725085",
      "metadata": {
        "cell_marker": "\"\"\"",
        "lines_to_next_cell": 1,
        "id": "53725085"
      },
      "source": [
        "* Does it look close to the real solution?  \n",
        "  <IMG src=\"https://samyzaf.com/cfproj/hcw2.png\" width=\"30%\"/>  \n",
        "\n",
        "* How do we check it?\n",
        "\n",
        "* It is easy to write a Python method for checking\n",
        "  if a puzzle **puz** is harmonic."
      ]
    },
    {
      "cell_type": "code",
      "execution_count": null,
      "id": "3a18e00b",
      "metadata": {
        "lines_to_next_cell": 1,
        "id": "3a18e00b"
      },
      "outputs": [],
      "source": [
        "def CheckPuzzle(puz, epsilon=1e-7):\n",
        "    m,n = puz.shape\n",
        "    for i in range(1,m-1):\n",
        "        for j in range(1,n-1):\n",
        "            if abs(puz[i,j] - Average(puz, i, j)) > epsilon:\n",
        "                return False\n",
        "    return True"
      ]
    },
    {
      "cell_type": "markdown",
      "id": "c0be6a72",
      "metadata": {
        "cell_marker": "\"\"\"",
        "id": "c0be6a72"
      },
      "source": [
        "* The best we can do when we work with floating point numbers\n",
        "  is make sure that the distance between **puz[i,j]** and\n",
        "  the average **Average(puz,i,j)** is small enough.\n",
        "\n",
        "* We use the Python absolute value function\n",
        "  **abs(x)** for checking if the absolute value of\n",
        "  **puz[i,j] - Averagae(puz,i,j)**\n",
        "  is smaller than **epsilon=1e-7** (0.0000001),\n",
        "  for every internal cell **(i,j)**.\n",
        "\n",
        "* This condition should apply to\n",
        "  **internal cells (i,j)** only!\n",
        "  The boundary cells are not subject to any change or constraint.\n",
        "  * This is why the **for loop** runs\n",
        "    only for values i=1,...,m-2 and j=1,...,n-2\n",
        "    (and not for i=0,...,m-1 and j=0,...,n-1).\n",
        "\n",
        "* Now we can easily check if our **puzzle1** is harmonic."
      ]
    },
    {
      "cell_type": "code",
      "execution_count": null,
      "id": "079409c4",
      "metadata": {
        "id": "079409c4"
      },
      "outputs": [],
      "source": [
        "CheckPuzzle(puzzle1)"
      ]
    },
    {
      "cell_type": "markdown",
      "id": "9776c69d",
      "metadata": {
        "cell_marker": "\"\"\"",
        "id": "9776c69d"
      },
      "source": [
        "* So applying the **Average** operation one time does not\n",
        "  yield a solution of the puzzle.\n",
        "* What happens if we repeat all 4 actions again?\n",
        "  and again ... and again ... ?\n",
        "* After each iteration we also check if our puzzle is harmonic."
      ]
    },
    {
      "cell_type": "code",
      "execution_count": null,
      "id": "9b02dba0",
      "metadata": {
        "id": "9b02dba0"
      },
      "outputs": [],
      "source": [
        "puzzle1[1,1] = Average(puzzle1, 1, 1)\n",
        "puzzle1[1,2] = Average(puzzle1, 1, 2)\n",
        "puzzle1[2,1] = Average(puzzle1, 2, 1)\n",
        "puzzle1[2,2] = Average(puzzle1, 2, 2)\n",
        "draw_table(puzzle1, dx=120, dy=60, fontsize=7)\n",
        "\n",
        "CheckPuzzle(puzzle1, epsilon=1e-7)"
      ]
    },
    {
      "cell_type": "markdown",
      "id": "b62a33c1",
      "metadata": {
        "cell_marker": "\"\"\"",
        "id": "b62a33c1"
      },
      "source": [
        "* You can execute the previous code cell again and again,\n",
        "  and see what happens?\n",
        "  * Hint: $0.444444... = \\frac{4}{9}$."
      ]
    },
    {
      "cell_type": "markdown",
      "id": "8741d212",
      "metadata": {
        "cell_marker": "\"\"\"",
        "lines_to_next_cell": 1,
        "id": "8741d212"
      },
      "source": [
        "## **TASK 1A:**\n",
        "* Based on the above observation,\n",
        "  write a Python function **RunAverage**,\n",
        "  which accepts a general **mxn** puzzle and\n",
        "  performs the **Average** on every internal\n",
        "  cell **(i,j)** of the puzzle.\n",
        "\n",
        "* Note that a cell **(i,j)** is **internal**\n",
        "  if **i=1,2,...,m-2** and **j=1,2,...,n-2**.\n",
        "\n",
        "* Notice that this function is changing the puzzle!\n",
        "  It replaces all the internal cells with their average.\n",
        "  To reset the puzzles,\n",
        "  replay the registration form above.\n",
        "\n",
        "* To obtain the puzzle shape **(m,n)** use:  \n",
        "  **m,n = puzzle.shape**  \n",
        "  This should be the first line in your code."
      ]
    },
    {
      "cell_type": "code",
      "execution_count": null,
      "id": "eab4f41a",
      "metadata": {
        "lines_to_next_cell": 1,
        "id": "eab4f41a"
      },
      "outputs": [],
      "source": [
        "# puzzle = mxn Numpy array\n",
        "# The first line retrieves the number of rows m, and number of columns n\n",
        "\n",
        "def RunAverage(puzzle):\n",
        "    m,n = puzzle.shape\n",
        "    # Write your code here.\n",
        "    # It should not be too long!\n",
        "    # A code longer than 10 lines\n",
        "    # will not be accepted!"
      ]
    },
    {
      "cell_type": "markdown",
      "id": "18fb62a8",
      "metadata": {
        "cell_marker": "\"\"\"",
        "lines_to_next_cell": 1,
        "id": "18fb62a8"
      },
      "source": [
        "## **TASK 1B:**\n",
        "* Pixar labs researchers observed that if we repeat\n",
        "  this method enough times, then the puzzle **converges**\n",
        "  to its harmonic solution!\n",
        "* This has also been proved mathematically.\n",
        "  You can read about it in the papers that are listed\n",
        "  in the project booklet bibliography.\n",
        "* Based on this observation,\n",
        "  write a Python function **SolvePuzzle**,\n",
        "  which accepts a general **mxn** puzzle and\n",
        "  an optional argument **epsilon**,\n",
        "  which solves the puzzle with precision level **epsilon**."
      ]
    },
    {
      "cell_type": "code",
      "execution_count": null,
      "id": "517bbc26",
      "metadata": {
        "lines_to_next_cell": 1,
        "id": "517bbc26"
      },
      "outputs": [],
      "source": [
        "# puzzle = mxn Numpy array\n",
        "# epsilon = max error. Default=0.0000001\n",
        "\n",
        "def SolvePuzzle(puzzle, epsilon=1e-7):\n",
        "    # Write your code here.\n",
        "    # It should not be too long!\n",
        "    # A code longer than 10 lines\n",
        "    # will not be accepted!"
      ]
    },
    {
      "cell_type": "markdown",
      "id": "5eebf24f",
      "metadata": {
        "cell_marker": "\"\"\"",
        "id": "5eebf24f"
      },
      "source": [
        "## **TASK 1C**\n",
        "* Use your **SolvePuzzle** method to solve\n",
        "  puzzle2, puzzle3, and puzzle4,\n",
        "  with precision level 1e-7.\n",
        "* Then write your code for solving and drawing these 3 puzzles\n",
        "  in the following code cell."
      ]
    },
    {
      "cell_type": "markdown",
      "id": "8eb69032",
      "metadata": {
        "cell_marker": "\"\"\"",
        "id": "8eb69032"
      },
      "source": [
        "### $\\bullet$ **Write your code in the following cell.**"
      ]
    },
    {
      "cell_type": "code",
      "execution_count": null,
      "id": "720f7782",
      "metadata": {
        "id": "720f7782"
      },
      "outputs": [],
      "source": [
        "# Write here code to solve and draw the solutions\n",
        "# of puzzle2, puzzle3, and puzzle4."
      ]
    },
    {
      "cell_type": "markdown",
      "id": "c898a6e8",
      "metadata": {
        "cell_marker": "\"\"\"",
        "id": "c898a6e8"
      },
      "source": [
        "## **TASK 1D**\n",
        "* In addition to **puzzle1** ... **puzzle4**,\n",
        "  we also have a special large\n",
        "  puzzle **puzzle5**.\n",
        "  \n",
        "* To define it use the command **get_puzzle5()**.\n",
        "  This command also draws it as a thermal map,\n",
        "  and resets its original value.\n",
        "\n",
        "* This is a **26x26** size puzzle, so printing it\n",
        "  or drawing its table is not practical (but\n",
        "  you can try to see what happens).\n",
        "\n",
        "* In such cases, we use visualization methods such as\n",
        "  **Thermal Maps** to get a feel of it."
      ]
    },
    {
      "cell_type": "code",
      "execution_count": null,
      "id": "f7f83f24",
      "metadata": {
        "id": "f7f83f24"
      },
      "outputs": [],
      "source": [
        "get_puzzle5()"
      ]
    },
    {
      "cell_type": "markdown",
      "id": "a86fc210",
      "metadata": {
        "cell_marker": "\"\"\"",
        "id": "a86fc210"
      },
      "source": [
        "* If you insist, you can view small parts of **puzzle5**\n",
        "  by commands such as"
      ]
    },
    {
      "cell_type": "code",
      "execution_count": null,
      "id": "cdab1fa5",
      "metadata": {
        "id": "cdab1fa5"
      },
      "outputs": [],
      "source": [
        "draw_table(puzzle5[0:10,0:10])"
      ]
    },
    {
      "cell_type": "markdown",
      "id": "2afd29a7",
      "metadata": {
        "cell_marker": "\"\"\"",
        "id": "2afd29a7"
      },
      "source": [
        "* Try to run the following code repeatedly (at least 50 times)\n",
        "  and see what happens?  \n",
        "* What is your observation?\n",
        "* What kind of **Physical Phenomenon** do you notice?\n",
        "* Use exactly two words to describe your hypothesis about what happens."
      ]
    },
    {
      "cell_type": "code",
      "execution_count": null,
      "id": "aedf31e3",
      "metadata": {
        "id": "aedf31e3"
      },
      "outputs": [],
      "source": [
        "RunAverage(puzzle5)\n",
        "draw_thermal_map(puzzle5)"
      ]
    },
    {
      "cell_type": "code",
      "execution_count": null,
      "id": "37136feb",
      "metadata": {
        "cellView": "form",
        "id": "37136feb"
      },
      "outputs": [],
      "source": [
        "#@title **Phenomenon Description** {\"form-width\":\"50%\"}\n",
        "#@markdown **Enter your two words description and press the play button**\n",
        "Description = '' # @param {type:\"string\", placeholder:'Enter your two words description here (English)'}"
      ]
    },
    {
      "cell_type": "markdown",
      "id": "1bdde819",
      "metadata": {
        "cell_marker": "\"\"\"",
        "id": "1bdde819"
      },
      "source": [
        "This might give you an additional hint."
      ]
    },
    {
      "cell_type": "code",
      "execution_count": null,
      "id": "16d1b3c4",
      "metadata": {
        "id": "16d1b3c4"
      },
      "outputs": [],
      "source": [
        "SolvePuzzle(puzzle5)\n",
        "draw_thermal_map(puzzle5)"
      ]
    },
    {
      "cell_type": "markdown",
      "id": "838a9e9b",
      "metadata": {
        "cell_marker": "\"\"\"",
        "id": "838a9e9b"
      },
      "source": [
        "## **TASK 2**<br/>**Cloning a 2D Man Figure**\n",
        "* In your second task you will have to clone a **2D man figure**\n",
        "  into a given **cage2**.\n",
        "* The man figure is given as a polygon with **178 vertices**,\n",
        "  and the two cages are 21 vertices polygons.\n",
        "* In the following command we load and print these 3 polygons."
      ]
    },
    {
      "cell_type": "code",
      "execution_count": null,
      "id": "bbdcd864",
      "metadata": {
        "id": "bbdcd864"
      },
      "outputs": [],
      "source": [
        "man, cage1, cage2 = load_polygons()\n",
        "print(f\"man = {man}\")\n",
        "print(f\"cage1 = {cage1}\")\n",
        "print(f\"cage2 = {cage2}\")"
      ]
    },
    {
      "cell_type": "markdown",
      "id": "6217dd10",
      "metadata": {
        "cell_marker": "\"\"\"",
        "id": "6217dd10"
      },
      "source": [
        "* The Python **len** command counts the number\n",
        "  of elements in a list (or any container object).\n",
        "* We can use it for counting the number of vertices in our polygons."
      ]
    },
    {
      "cell_type": "code",
      "execution_count": null,
      "id": "019b8463",
      "metadata": {
        "id": "019b8463"
      },
      "outputs": [],
      "source": [
        "print(len(man))\n",
        "print(len(cage1))\n",
        "print(len(cage2))"
      ]
    },
    {
      "cell_type": "markdown",
      "id": "a34671a6",
      "metadata": {
        "cell_marker": "\"\"\"",
        "id": "a34671a6"
      },
      "source": [
        "* To get a better impression, lets draw the man figure and cage1."
      ]
    },
    {
      "cell_type": "code",
      "execution_count": null,
      "id": "fe6ae98e",
      "metadata": {
        "id": "fe6ae98e"
      },
      "outputs": [],
      "source": [
        "plt.figure(figsize=(7,7))\n",
        "draw_curve(man, fill=True, facecolor=\"azure\", linewidth=0.5)\n",
        "draw_cage(cage1, linewidth=0.5)\n",
        "\n",
        "show_plot()"
      ]
    },
    {
      "cell_type": "markdown",
      "id": "838c8b8f",
      "metadata": {
        "cell_marker": "\"\"\"",
        "id": "838c8b8f"
      },
      "source": [
        "* The man figure looks smooth, but if you zoom in,\n",
        "  you can notice it is really a polygon of straight segments.\n",
        "* For example the head consists of 36 vertices.   \n",
        "\n",
        "  <IMG src=\"https://samyzaf.com/cfproj/man_zoomto_head.jpg\" width=\"40%\"/>\n",
        "\n",
        "* Lets draw **cage2**."
      ]
    },
    {
      "cell_type": "code",
      "execution_count": null,
      "id": "dae800e8",
      "metadata": {
        "id": "dae800e8"
      },
      "outputs": [],
      "source": [
        "plt.figure(figsize=(6,6))\n",
        "draw_cage(cage2, linewidth=0.75)\n",
        "show_plot()"
      ]
    },
    {
      "cell_type": "markdown",
      "id": "5384da8f",
      "metadata": {
        "cell_marker": "\"\"\"",
        "id": "5384da8f"
      },
      "source": [
        "## **TASK 2A**\n",
        "* Write code for\n",
        "  1. Cloning the man figure into **cage2**.\n",
        "  2. Drawing the cloned man figure and\n",
        "     **cage2** in the same figure.\n",
        "\n",
        "* **Write you code in the following cell.**"
      ]
    },
    {
      "cell_type": "code",
      "execution_count": null,
      "id": "2607e790",
      "metadata": {
        "id": "2607e790"
      },
      "outputs": [],
      "source": [
        "# Write your code here.\n",
        "#\n",
        "#\n",
        "#"
      ]
    },
    {
      "cell_type": "markdown",
      "id": "e1abfb84",
      "metadata": {
        "cell_marker": "\"\"\"",
        "id": "e1abfb84"
      },
      "source": [
        "## **TASK 2B**\n",
        "* In the next figure we define and draw three points\n",
        "  **p1**, **p2**, **p3**,\n",
        "  inside our initial man figure."
      ]
    },
    {
      "cell_type": "code",
      "execution_count": null,
      "id": "3a347e0d",
      "metadata": {
        "id": "3a347e0d"
      },
      "outputs": [],
      "source": [
        "p1 = (600,200)\n",
        "p2 = (350,1250)\n",
        "p3 = (700,1200)"
      ]
    },
    {
      "cell_type": "markdown",
      "id": "5e2e01a1",
      "metadata": {
        "cell_marker": "\"\"\"",
        "id": "5e2e01a1"
      },
      "source": [
        "<IMG src=\"https://samyzaf.com/cfproj/man51.png\" width=\"70%\"/>\n",
        "\n",
        "* Your mission is to compute the new location of these\n",
        "  points after cloning the man figure to **cage2**.\n",
        "\n",
        "### **Write the new locations of points p1, p2, p3, in the following cell.**"
      ]
    },
    {
      "cell_type": "code",
      "execution_count": null,
      "id": "bafbb412",
      "metadata": {
        "id": "bafbb412"
      },
      "outputs": [],
      "source": [
        "# Write you final answer here:\n",
        "p1 =\n",
        "p2 =\n",
        "p3 ="
      ]
    },
    {
      "cell_type": "markdown",
      "id": "d35dd2d0",
      "metadata": {
        "cell_marker": "\"\"\"",
        "id": "d35dd2d0"
      },
      "source": [
        "* **Only the final numerical answer will be checked.\n",
        "  Code is not required.**\n",
        "\n",
        "* 6 digits precision is good enough."
      ]
    },
    {
      "cell_type": "markdown",
      "id": "382b8a72",
      "metadata": {
        "cell_marker": "\"\"\"",
        "lines_to_next_cell": 2,
        "id": "382b8a72"
      },
      "source": [
        "## **Your Tools**\n",
        "* The only **cfclon** functions you are allowed to use are:\n",
        "  * **harmonic_coordinates**\n",
        "  * **clone**\n",
        "  * **draw_line**\n",
        "  * **draw_point**\n",
        "  * **draw_curve**\n",
        "  * **draw_poly**\n",
        "  * **draw_cage**\n",
        "  * **show_plot**\n",
        "  * **draw_table**\n",
        "\n",
        "  * All the **standard Python commands** are of course allowed.\n",
        "     You may not load external libraries.\n",
        "\n",
        "* You don't need to draw point labels or point coordinates\n",
        "  in your figures.\n",
        "\n",
        "## **Task Submission**\n",
        "* After completing this task\n",
        "  save this notebook to your local disk,\n",
        "  and later upload the ipynb file to your\n",
        "  Moodle account for grading.\n",
        "* From the **File/Download** menu download it to your local\n",
        "  disk as an **ipynb** file.\n",
        "* Please keep the file original name: **harmonic_task.ipynb**.\n",
        "* The exact Moodle box for submitting the\n",
        "  project is: \"הגשת המטלה התיכנותית\"."
      ]
    }
  ],
  "metadata": {
    "jupytext": {
      "cell_metadata_filter": "-all",
      "main_language": "python",
      "notebook_metadata_filter": "-all"
    },
    "colab": {
      "provenance": [],
      "include_colab_link": true
    }
  },
  "nbformat": 4,
  "nbformat_minor": 5
}