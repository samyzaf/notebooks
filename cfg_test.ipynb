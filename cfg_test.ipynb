{
  "cells": [
    {
      "cell_type": "markdown",
      "metadata": {
        "id": "view-in-github",
        "colab_type": "text"
      },
      "source": [
        "<a href=\"https://colab.research.google.com/github/samyzaf/notebooks/blob/main/cfg_test.ipynb\" target=\"_parent\"><img src=\"https://colab.research.google.com/assets/colab-badge.svg\" alt=\"Open In Colab\"/></a>"
      ]
    },
    {
      "cell_type": "markdown",
      "metadata": {
        "id": "QO4VgM1r1vEy",
        "outputId": "8a3ecaff-b861-4017-89e3-3a15ce3bab94"
      },
      "source": [
        "# Jupyter Notebook for chapter 4 (Context Free Languages) of  \n",
        "# the Computational Models and Formal Languages Book\n",
        "\n",
        "<a href=\"https://samyzaf.com/afl.pdf\">\n",
        "<img src=\"https://samyzaf.com/afl/afl1.jpg\" alt=\"CMFL book cover\" width=\"40%\"/>\n",
        "</a>\n",
        "\n",
        "* The purpose of this notebook is to allow students and readers of\n",
        "  the CMFL book to conveniently simulate finite automata on a Google Colab environment\n",
        "  (without having to install anything on their computer or device).\n",
        "* For that purpose we've built a simple Python wrapper package **pyfasim**,\n",
        "  around the excellent automata-lib package\n",
        "  (thanks to its author Caleb Evans <caleb@calebevans.me>).\n",
        "* It can be used to define easily standard examples of finite automata, and then run experiments,\n",
        "  check statements, and draw diagrams.\n",
        "* The simplified wrapper is intended to make it accessible to first or second year college students\n",
        "  without Python knowledge or even with no programming experience.\n",
        "* We'll be glad to get feedback and code for solving exercises from the book."
      ]
    },
    {
      "cell_type": "markdown",
      "metadata": {
        "id": "R0yA3d_LeCvX"
      },
      "source": [
        "## Starting with the Python **nltk** package\n",
        "* The following code block has to run first\n",
        "* **nltk** - Natural Language Toolkit\n",
        "* **nltk homepage:** https://www.nltk.org/\n",
        "* The next cell loads the **nltk** package and defines several utilities which\n",
        "  we need in this notebook."
      ]
    },
    {
      "cell_type": "code",
      "execution_count": 1,
      "metadata": {
        "id": "0UTFxZQ1eCvc",
        "colab": {
          "base_uri": "https://localhost:8080/"
        },
        "outputId": "cb8bce79-4a97-418d-9f02-75a0748e3b19"
      },
      "outputs": [
        {
          "output_type": "stream",
          "name": "stdout",
          "text": [
            "Requirement already satisfied: svgling in /usr/local/lib/python3.10/dist-packages (0.3.1)\n",
            "Requirement already satisfied: svgwrite in /usr/local/lib/python3.10/dist-packages (from svgling) (1.4.3)\n"
          ]
        }
      ],
      "source": [
        "!pip install svgling\n",
        "from nltk import CFG, ChartParser, Nonterminal\n",
        "from nltk.parse.generate import generate\n",
        "from random import random, sample, choice\n",
        "\n",
        "# Several nltk utilities\n",
        "def join(sentence, sep=' '):\n",
        "    sent = sep.join(sentence)\n",
        "    return sent\n",
        "\n",
        "def split(sent, sep=' '):\n",
        "    if sep == '':\n",
        "        sentence = list(sent)\n",
        "    else:\n",
        "        sentence = sent.split(sep)\n",
        "    return sentence\n",
        "\n",
        "def random_sentence(grammar, symbol=None):\n",
        "    if not symbol:\n",
        "        symbol = grammar.start()\n",
        "    sentence = []\n",
        "    productions = grammar.productions(lhs = symbol)\n",
        "    production = choice(productions)\n",
        "    for sym in production.rhs():\n",
        "        if isinstance(sym, str):\n",
        "            sentence.append(sym)\n",
        "        else:\n",
        "            sentence.extend(random_sentence(grammar, sym))\n",
        "    return sentence\n",
        "\n",
        "def random_sentences(grammar, n=10):\n",
        "    sentences = []\n",
        "    for i in range(n):\n",
        "        s = random_sentence(grammar)\n",
        "        sentences.append(s)\n",
        "\n",
        "    return sentences"
      ]
    },
    {
      "cell_type": "markdown",
      "metadata": {
        "id": "rqYCDGZneCve"
      },
      "source": [
        "## Defining a Context Free Grammar (CFG)\n",
        "* The **CFG** command creates a new **Context Free Grammar**\n",
        "  by specifying its variable names, terminals, and productions.\n",
        "* In most theoretical text books, a variable name is represented by a capital\n",
        "  English letter such as A, B, C, ..., X, Y, Z.\n",
        "  Terminals are presented by a lower case English letter such as a, b, c, ..., x, y, z.\n",
        "* Sentences\n",
        "* The following example is a typical.\n",
        "* You may copy it and solve some of the exercises in the book."
      ]
    },
    {
      "cell_type": "markdown",
      "metadata": {
        "id": "tkhHVROjkdRV"
      },
      "source": [
        "* A simple sub grammar for arithmetical expressions\n",
        "  as formally defined in classical textbooks:\n",
        "\n",
        "\n",
        "$\n",
        "\\qquad\n",
        "\\newcommand{\\imp}{\\rightarrow}\n",
        "\\begin{array}{rcl}\n",
        "S  & \\imp &  S+S \\\\\n",
        "S  & \\imp &  S*S \\\\\n",
        "S  & \\imp &  (S) \\\\\n",
        "S  & \\imp &  a \\\\\n",
        "S  & \\imp &  b \\\\\n",
        "S  & \\imp &  c\n",
        "\\end{array}\n",
        "$\n",
        "\n",
        "* In the **nltk** Python package, grammar variable names are represented by simple\n",
        "  Python names such as `start`, `statement`, `condition`, `float`, etc.\n",
        "  Terminals are represented bby simple Python strings such as `a`, `b`, `x1`, `y12`, etc."
      ]
    },
    {
      "cell_type": "code",
      "execution_count": 2,
      "metadata": {
        "id": "PttibIxHkdRV"
      },
      "outputs": [],
      "source": [
        "cfg1 = CFG.fromstring(\"\"\"\n",
        "S  ->  S '+' S\n",
        "S  ->  S '*' S\n",
        "S  ->  '(' S ')'\n",
        "S  ->  'a'\n",
        "S  ->  'b'\n",
        "S  ->  'c'\n",
        "\"\"\")"
      ]
    },
    {
      "cell_type": "code",
      "execution_count": 3,
      "metadata": {
        "colab": {
          "base_uri": "https://localhost:8080/"
        },
        "id": "6UHHbU11kdRW",
        "outputId": "6437e54e-f8ee-482c-8ccd-f9220dbc10ea"
      },
      "outputs": [
        {
          "output_type": "stream",
          "name": "stdout",
          "text": [
            "Start token = S\n"
          ]
        }
      ],
      "source": [
        "start = cfg1.start()\n",
        "print(f\"Start token = {start}\")"
      ]
    },
    {
      "cell_type": "code",
      "execution_count": 4,
      "metadata": {
        "colab": {
          "base_uri": "https://localhost:8080/"
        },
        "id": "pe6SX1MJkdRX",
        "outputId": "d9e40cde-ff4e-4c67-96b7-253ee7c4ef2c"
      },
      "outputs": [
        {
          "output_type": "stream",
          "name": "stdout",
          "text": [
            "Productions:\n",
            "    S -> S '+' S\n",
            "    S -> S '*' S\n",
            "    S -> '(' S ')'\n",
            "    S -> 'a'\n",
            "    S -> 'b'\n",
            "    S -> 'c'\n"
          ]
        }
      ],
      "source": [
        "productions = cfg1.productions()\n",
        "print(\"Productions:\")\n",
        "for p in productions:\n",
        "    print(f\"    {p}\")"
      ]
    },
    {
      "cell_type": "code",
      "execution_count": 5,
      "metadata": {
        "id": "NMQVj6WvkdRX"
      },
      "outputs": [],
      "source": [
        "sentence1 = ['a', '*', '(', 'b', '+', 'c', ')']\n",
        "parser = ChartParser(cfg1)\n",
        "trees1 = list(parser.parse(sentence1))"
      ]
    },
    {
      "cell_type": "code",
      "execution_count": 6,
      "metadata": {
        "colab": {
          "base_uri": "https://localhost:8080/",
          "height": 122
        },
        "id": "7uEMNhP2kdRY",
        "outputId": "2c8f2aa0-a3f2-4114-c990-c00230129243"
      },
      "outputs": [
        {
          "output_type": "stream",
          "name": "stdout",
          "text": [
            "This is how a sentence is represented in nltk:\n",
            "['a', '*', '(', 'b', '+', 'c', ')']\n",
            "This is a friendlier presentation:\n",
            "a * ( b + c )\n",
            "This is a tighter presentation:\n"
          ]
        },
        {
          "output_type": "execute_result",
          "data": {
            "text/plain": [
              "'a*(b+c)'"
            ],
            "application/vnd.google.colaboratory.intrinsic+json": {
              "type": "string"
            }
          },
          "metadata": {},
          "execution_count": 6
        }
      ],
      "source": [
        "print(\"This is how a sentence is represented in nltk:\")\n",
        "print(sentence1)\n",
        "print(\"This is a friendlier presentation:\")\n",
        "print(join(sentence1))\n",
        "print(\"This is a tighter presentation:\")\n",
        "join(sentence1, '')"
      ]
    },
    {
      "cell_type": "code",
      "execution_count": 7,
      "metadata": {
        "colab": {
          "base_uri": "https://localhost:8080/"
        },
        "id": "KHI-6qFIkdRY",
        "outputId": "fdead9f1-557b-4b45-b573-214728f314b2"
      },
      "outputs": [
        {
          "output_type": "execute_result",
          "data": {
            "text/plain": [
              "[Tree('S', [Tree('S', ['a']), '*', Tree('S', ['(', Tree('S', [Tree('S', ['b']), '+', Tree('S', ['c'])]), ')'])])]"
            ]
          },
          "metadata": {},
          "execution_count": 7
        }
      ],
      "source": [
        "trees1"
      ]
    },
    {
      "cell_type": "code",
      "execution_count": 8,
      "metadata": {
        "colab": {
          "base_uri": "https://localhost:8080/",
          "height": 237
        },
        "id": "1O0CsLTVkdRY",
        "outputId": "08d85b4a-4ab9-43ae-bb9d-f58a05235b80"
      },
      "outputs": [
        {
          "output_type": "execute_result",
          "data": {
            "text/plain": [
              "Tree('S', [Tree('S', ['a']), '*', Tree('S', ['(', Tree('S', [Tree('S', ['b']), '+', Tree('S', ['c'])]), ')'])])"
            ],
            "image/svg+xml": "<svg baseProfile=\"full\" height=\"216px\" preserveAspectRatio=\"xMidYMid meet\" style=\"font-family: times, serif; font-weight:normal; font-style: normal; font-size: 16px;\" version=\"1.1\" viewBox=\"0,0,168.0,216.0\" width=\"168px\" xmlns=\"http://www.w3.org/2000/svg\" xmlns:ev=\"http://www.w3.org/2001/xml-events\" xmlns:xlink=\"http://www.w3.org/1999/xlink\"><defs /><svg width=\"100%\" x=\"0\" y=\"0em\"><defs /><text text-anchor=\"middle\" x=\"50%\" y=\"1em\">S</text></svg><svg width=\"14.2857%\" x=\"0%\" y=\"3em\"><defs /><svg width=\"100%\" x=\"0\" y=\"0em\"><defs /><text text-anchor=\"middle\" x=\"50%\" y=\"1em\">S</text></svg><svg width=\"100%\" x=\"0%\" y=\"3em\"><defs /><svg width=\"100%\" x=\"0\" y=\"0em\"><defs /><text text-anchor=\"middle\" x=\"50%\" y=\"1em\">a</text></svg></svg><line stroke=\"black\" x1=\"50%\" x2=\"50%\" y1=\"1.2em\" y2=\"3em\" /></svg><line stroke=\"black\" x1=\"50%\" x2=\"7.14286%\" y1=\"1.2em\" y2=\"3em\" /><svg width=\"14.2857%\" x=\"14.2857%\" y=\"3em\"><defs /><svg width=\"100%\" x=\"0\" y=\"0em\"><defs /><text text-anchor=\"middle\" x=\"50%\" y=\"1em\">*</text></svg></svg><line stroke=\"black\" x1=\"50%\" x2=\"21.4286%\" y1=\"1.2em\" y2=\"3em\" /><svg width=\"71.4286%\" x=\"28.5714%\" y=\"3em\"><defs /><svg width=\"100%\" x=\"0\" y=\"0em\"><defs /><text text-anchor=\"middle\" x=\"50%\" y=\"1em\">S</text></svg><svg width=\"20%\" x=\"0%\" y=\"3em\"><defs /><svg width=\"100%\" x=\"0\" y=\"0em\"><defs /><text text-anchor=\"middle\" x=\"50%\" y=\"1em\">(</text></svg></svg><line stroke=\"black\" x1=\"50%\" x2=\"10%\" y1=\"1.2em\" y2=\"3em\" /><svg width=\"60%\" x=\"20%\" y=\"3em\"><defs /><svg width=\"100%\" x=\"0\" y=\"0em\"><defs /><text text-anchor=\"middle\" x=\"50%\" y=\"1em\">S</text></svg><svg width=\"33.3333%\" x=\"0%\" y=\"3em\"><defs /><svg width=\"100%\" x=\"0\" y=\"0em\"><defs /><text text-anchor=\"middle\" x=\"50%\" y=\"1em\">S</text></svg><svg width=\"100%\" x=\"0%\" y=\"3em\"><defs /><svg width=\"100%\" x=\"0\" y=\"0em\"><defs /><text text-anchor=\"middle\" x=\"50%\" y=\"1em\">b</text></svg></svg><line stroke=\"black\" x1=\"50%\" x2=\"50%\" y1=\"1.2em\" y2=\"3em\" /></svg><line stroke=\"black\" x1=\"50%\" x2=\"16.6667%\" y1=\"1.2em\" y2=\"3em\" /><svg width=\"33.3333%\" x=\"33.3333%\" y=\"3em\"><defs /><svg width=\"100%\" x=\"0\" y=\"0em\"><defs /><text text-anchor=\"middle\" x=\"50%\" y=\"1em\">+</text></svg></svg><line stroke=\"black\" x1=\"50%\" x2=\"50%\" y1=\"1.2em\" y2=\"3em\" /><svg width=\"33.3333%\" x=\"66.6667%\" y=\"3em\"><defs /><svg width=\"100%\" x=\"0\" y=\"0em\"><defs /><text text-anchor=\"middle\" x=\"50%\" y=\"1em\">S</text></svg><svg width=\"100%\" x=\"0%\" y=\"3em\"><defs /><svg width=\"100%\" x=\"0\" y=\"0em\"><defs /><text text-anchor=\"middle\" x=\"50%\" y=\"1em\">c</text></svg></svg><line stroke=\"black\" x1=\"50%\" x2=\"50%\" y1=\"1.2em\" y2=\"3em\" /></svg><line stroke=\"black\" x1=\"50%\" x2=\"83.3333%\" y1=\"1.2em\" y2=\"3em\" /></svg><line stroke=\"black\" x1=\"50%\" x2=\"50%\" y1=\"1.2em\" y2=\"3em\" /><svg width=\"20%\" x=\"80%\" y=\"3em\"><defs /><svg width=\"100%\" x=\"0\" y=\"0em\"><defs /><text text-anchor=\"middle\" x=\"50%\" y=\"1em\">)</text></svg></svg><line stroke=\"black\" x1=\"50%\" x2=\"90%\" y1=\"1.2em\" y2=\"3em\" /></svg><line stroke=\"black\" x1=\"50%\" x2=\"64.2857%\" y1=\"1.2em\" y2=\"3em\" /></svg>"
          },
          "metadata": {},
          "execution_count": 8
        }
      ],
      "source": [
        "trees1[0]"
      ]
    },
    {
      "cell_type": "code",
      "execution_count": 9,
      "metadata": {
        "colab": {
          "base_uri": "https://localhost:8080/"
        },
        "id": "IVt9kaOrkdRY",
        "outputId": "1501648e-efb4-4593-959f-72664fce5f5b"
      },
      "outputs": [
        {
          "output_type": "execute_result",
          "data": {
            "text/plain": [
              "1"
            ]
          },
          "metadata": {},
          "execution_count": 9
        }
      ],
      "source": [
        "len(trees1)"
      ]
    },
    {
      "cell_type": "code",
      "execution_count": 10,
      "metadata": {
        "colab": {
          "base_uri": "https://localhost:8080/"
        },
        "id": "BV7FBpiHkdRZ",
        "outputId": "6f73eeba-8a48-4d0e-d31d-3df7aba816b1"
      },
      "outputs": [
        {
          "output_type": "execute_result",
          "data": {
            "text/plain": [
              "2781264"
            ]
          },
          "metadata": {},
          "execution_count": 10
        }
      ],
      "source": [
        "len(list(generate(cfg1, depth=5)))"
      ]
    },
    {
      "cell_type": "markdown",
      "metadata": {
        "id": "LKMtMMe5kdRZ"
      },
      "source": [
        "* There are 2781264 sentence of depth 5 (or less) in the grammar **cfg1**.\n",
        "* Lets take a random sample of 20 sentences from this grammar to see how they look like"
      ]
    },
    {
      "cell_type": "code",
      "execution_count": 11,
      "metadata": {
        "tags": [],
        "id": "JagLspLOkdRZ"
      },
      "outputs": [],
      "source": [
        "sentences = random_sentences(cfg1, n=20)"
      ]
    },
    {
      "cell_type": "code",
      "execution_count": 12,
      "metadata": {
        "colab": {
          "base_uri": "https://localhost:8080/"
        },
        "id": "YqF-QNeCkdRZ",
        "outputId": "bf6f1b4f-14da-40a5-8ed0-7c4f7c28e0fc"
      },
      "outputs": [
        {
          "output_type": "stream",
          "name": "stdout",
          "text": [
            "1. ['a', '*', 'b', '+', 'c', '*', 'b', '+', 'a', '*', 'c', '*', 'c', '*', 'b']\n",
            "2. ['b', '+', 'b', '*', 'b', '*', 'a', '*', 'a', '+', 'a']\n",
            "3. ['c']\n",
            "4. ['c']\n",
            "5. ['b']\n",
            "6. ['b']\n",
            "7. ['c', '+', 'b']\n",
            "8. ['a']\n",
            "9. ['(', 'b', ')']\n",
            "10. ['a']\n",
            "11. ['a', '*', 'b']\n",
            "12. ['(', 'c', ')']\n",
            "13. ['c', '*', '(', '(', 'b', ')', ')', '+', 'c']\n",
            "14. ['(', 'b', ')', '+', '(', 'c', '+', '(', 'b', '+', 'b', '+', 'c', ')', '*', 'c', '+', 'a', '*', 'b', '+', 'a', '*', 'a', '*', '(', '(', 'c', '*', 'c', '*', 'b', '*', '(', 'a', '+', 'b', '*', '(', 'b', ')', '+', 'a', ')', '+', '(', '(', 'a', '+', '(', 'a', ')', ')', ')', ')', '+', 'a', ')', '*', '(', 'a', ')', ')', '*', '(', 'a', ')', '*', 'c', '+', 'b']\n",
            "15. ['c']\n",
            "16. ['(', '(', '(', 'c', ')', '*', 'b', '*', 'b', '+', 'c', ')', ')']\n",
            "17. ['a']\n",
            "18. ['(', '(', 'b', ')', ')']\n",
            "19. ['b']\n",
            "20. ['c']\n"
          ]
        }
      ],
      "source": [
        "for i,sent in enumerate(sentences):\n",
        "    print(f\"{i+1}. {sent}\")"
      ]
    },
    {
      "cell_type": "markdown",
      "metadata": {
        "id": "6DaqmbRtkdRZ"
      },
      "source": [
        "* A better view of these sentence is obtained by the **join** method:"
      ]
    },
    {
      "cell_type": "code",
      "execution_count": 13,
      "metadata": {
        "colab": {
          "base_uri": "https://localhost:8080/"
        },
        "id": "_PAagUGpkdRZ",
        "outputId": "8b610867-ab54-46ce-90eb-4db92c830c32"
      },
      "outputs": [
        {
          "output_type": "stream",
          "name": "stdout",
          "text": [
            "1. a*b+c*b+a*c*c*b\n",
            "2. b+b*b*a*a+a\n",
            "3. c\n",
            "4. c\n",
            "5. b\n",
            "6. b\n",
            "7. c+b\n",
            "8. a\n",
            "9. (b)\n",
            "10. a\n",
            "11. a*b\n",
            "12. (c)\n",
            "13. c*((b))+c\n",
            "14. (b)+(c+(b+b+c)*c+a*b+a*a*((c*c*b*(a+b*(b)+a)+((a+(a))))+a)*(a))*(a)*c+b\n",
            "15. c\n",
            "16. (((c)*b*b+c))\n",
            "17. a\n",
            "18. ((b))\n",
            "19. b\n",
            "20. c\n"
          ]
        }
      ],
      "source": [
        "for i,sent in enumerate(sentences):\n",
        "    print(f\"{i+1}. {join(sent, '')}\")"
      ]
    },
    {
      "cell_type": "markdown",
      "metadata": {
        "id": "IlM9hAX6kdRa"
      },
      "source": [
        "## Examples of sentences in the grammar cfg1\n",
        "* Lets pick a few examples of sentences in the grammar **cfg1**\n",
        "  and use them to display a few concepts of context free grammar theory.\n",
        "* We will start with the concept of a **Parse Tree**"
      ]
    },
    {
      "cell_type": "code",
      "execution_count": 14,
      "metadata": {
        "id": "GCbLkOVokdRa"
      },
      "outputs": [],
      "source": [
        "sentence1 = split(\"a * ( b + c ) + b * a * a\", ' ')\n",
        "sentence2 = split(\"c + b + b + c * b * c + a\", ' ')\n",
        "sentence3 = split(\"a + b * a + b + ( c * c )\", ' ')"
      ]
    },
    {
      "cell_type": "code",
      "source": [
        "sentence2"
      ],
      "metadata": {
        "colab": {
          "base_uri": "https://localhost:8080/"
        },
        "id": "4T1RNhZ3syJ0",
        "outputId": "01758bb9-dad4-48e5-bb74-0ba6657907f6"
      },
      "execution_count": 15,
      "outputs": [
        {
          "output_type": "execute_result",
          "data": {
            "text/plain": [
              "['c', '+', 'b', '+', 'b', '+', 'c', '*', 'b', '*', 'c', '+', 'a']"
            ]
          },
          "metadata": {},
          "execution_count": 15
        }
      ]
    },
    {
      "cell_type": "markdown",
      "metadata": {
        "id": "DptsKgI9kdRa"
      },
      "source": [
        "## Parse Trees\n",
        "* Lets take some of the sentences that we generated and display their parse tree\n",
        "* Note that for ambiguous grammar, a sentence may have more than one parse tree!"
      ]
    },
    {
      "cell_type": "code",
      "execution_count": 16,
      "metadata": {
        "colab": {
          "base_uri": "https://localhost:8080/"
        },
        "id": "u6OtkIZzkdRa",
        "outputId": "3ced26a7-3b2a-4138-b936-1b89657d1542"
      },
      "outputs": [
        {
          "output_type": "stream",
          "name": "stdout",
          "text": [
            "Number of parse trees: 132\n"
          ]
        }
      ],
      "source": [
        "parser = ChartParser(cfg1)\n",
        "trees = list(parser.parse(sentence2))\n",
        "print(f\"Number of parse trees: {len(trees)}\")"
      ]
    },
    {
      "cell_type": "markdown",
      "metadata": {
        "id": "yf6hl1KtkdRa"
      },
      "source": [
        "* Display parse tree 0:"
      ]
    },
    {
      "cell_type": "code",
      "execution_count": 17,
      "metadata": {
        "colab": {
          "base_uri": "https://localhost:8080/",
          "height": 285
        },
        "id": "0wyd_uPIkdRa",
        "outputId": "b6415b61-2ddc-430c-c986-124974f6b25f"
      },
      "outputs": [
        {
          "output_type": "execute_result",
          "data": {
            "text/plain": [
              "Tree('S', [Tree('S', [Tree('S', [Tree('S', [Tree('S', ['c']), '+', Tree('S', ['b'])]), '+', Tree('S', ['b'])]), '+', Tree('S', [Tree('S', [Tree('S', ['c']), '*', Tree('S', ['b'])]), '*', Tree('S', ['c'])])]), '+', Tree('S', ['a'])])"
            ],
            "image/svg+xml": "<svg baseProfile=\"full\" height=\"264px\" preserveAspectRatio=\"xMidYMid meet\" style=\"font-family: times, serif; font-weight:normal; font-style: normal; font-size: 16px;\" version=\"1.1\" viewBox=\"0,0,312.0,264.0\" width=\"312px\" xmlns=\"http://www.w3.org/2000/svg\" xmlns:ev=\"http://www.w3.org/2001/xml-events\" xmlns:xlink=\"http://www.w3.org/1999/xlink\"><defs /><svg width=\"100%\" x=\"0\" y=\"0em\"><defs /><text text-anchor=\"middle\" x=\"50%\" y=\"1em\">S</text></svg><svg width=\"84.6154%\" x=\"0%\" y=\"3em\"><defs /><svg width=\"100%\" x=\"0\" y=\"0em\"><defs /><text text-anchor=\"middle\" x=\"50%\" y=\"1em\">S</text></svg><svg width=\"45.4545%\" x=\"0%\" y=\"3em\"><defs /><svg width=\"100%\" x=\"0\" y=\"0em\"><defs /><text text-anchor=\"middle\" x=\"50%\" y=\"1em\">S</text></svg><svg width=\"60%\" x=\"0%\" y=\"3em\"><defs /><svg width=\"100%\" x=\"0\" y=\"0em\"><defs /><text text-anchor=\"middle\" x=\"50%\" y=\"1em\">S</text></svg><svg width=\"33.3333%\" x=\"0%\" y=\"3em\"><defs /><svg width=\"100%\" x=\"0\" y=\"0em\"><defs /><text text-anchor=\"middle\" x=\"50%\" y=\"1em\">S</text></svg><svg width=\"100%\" x=\"0%\" y=\"3em\"><defs /><svg width=\"100%\" x=\"0\" y=\"0em\"><defs /><text text-anchor=\"middle\" x=\"50%\" y=\"1em\">c</text></svg></svg><line stroke=\"black\" x1=\"50%\" x2=\"50%\" y1=\"1.2em\" y2=\"3em\" /></svg><line stroke=\"black\" x1=\"50%\" x2=\"16.6667%\" y1=\"1.2em\" y2=\"3em\" /><svg width=\"33.3333%\" x=\"33.3333%\" y=\"3em\"><defs /><svg width=\"100%\" x=\"0\" y=\"0em\"><defs /><text text-anchor=\"middle\" x=\"50%\" y=\"1em\">+</text></svg></svg><line stroke=\"black\" x1=\"50%\" x2=\"50%\" y1=\"1.2em\" y2=\"3em\" /><svg width=\"33.3333%\" x=\"66.6667%\" y=\"3em\"><defs /><svg width=\"100%\" x=\"0\" y=\"0em\"><defs /><text text-anchor=\"middle\" x=\"50%\" y=\"1em\">S</text></svg><svg width=\"100%\" x=\"0%\" y=\"3em\"><defs /><svg width=\"100%\" x=\"0\" y=\"0em\"><defs /><text text-anchor=\"middle\" x=\"50%\" y=\"1em\">b</text></svg></svg><line stroke=\"black\" x1=\"50%\" x2=\"50%\" y1=\"1.2em\" y2=\"3em\" /></svg><line stroke=\"black\" x1=\"50%\" x2=\"83.3333%\" y1=\"1.2em\" y2=\"3em\" /></svg><line stroke=\"black\" x1=\"50%\" x2=\"30%\" y1=\"1.2em\" y2=\"3em\" /><svg width=\"20%\" x=\"60%\" y=\"3em\"><defs /><svg width=\"100%\" x=\"0\" y=\"0em\"><defs /><text text-anchor=\"middle\" x=\"50%\" y=\"1em\">+</text></svg></svg><line stroke=\"black\" x1=\"50%\" x2=\"70%\" y1=\"1.2em\" y2=\"3em\" /><svg width=\"20%\" x=\"80%\" y=\"3em\"><defs /><svg width=\"100%\" x=\"0\" y=\"0em\"><defs /><text text-anchor=\"middle\" x=\"50%\" y=\"1em\">S</text></svg><svg width=\"100%\" x=\"0%\" y=\"3em\"><defs /><svg width=\"100%\" x=\"0\" y=\"0em\"><defs /><text text-anchor=\"middle\" x=\"50%\" y=\"1em\">b</text></svg></svg><line stroke=\"black\" x1=\"50%\" x2=\"50%\" y1=\"1.2em\" y2=\"3em\" /></svg><line stroke=\"black\" x1=\"50%\" x2=\"90%\" y1=\"1.2em\" y2=\"3em\" /></svg><line stroke=\"black\" x1=\"50%\" x2=\"22.7273%\" y1=\"1.2em\" y2=\"3em\" /><svg width=\"9.09091%\" x=\"45.4545%\" y=\"3em\"><defs /><svg width=\"100%\" x=\"0\" y=\"0em\"><defs /><text text-anchor=\"middle\" x=\"50%\" y=\"1em\">+</text></svg></svg><line stroke=\"black\" x1=\"50%\" x2=\"50%\" y1=\"1.2em\" y2=\"3em\" /><svg width=\"45.4545%\" x=\"54.5455%\" y=\"3em\"><defs /><svg width=\"100%\" x=\"0\" y=\"0em\"><defs /><text text-anchor=\"middle\" x=\"50%\" y=\"1em\">S</text></svg><svg width=\"60%\" x=\"0%\" y=\"3em\"><defs /><svg width=\"100%\" x=\"0\" y=\"0em\"><defs /><text text-anchor=\"middle\" x=\"50%\" y=\"1em\">S</text></svg><svg width=\"33.3333%\" x=\"0%\" y=\"3em\"><defs /><svg width=\"100%\" x=\"0\" y=\"0em\"><defs /><text text-anchor=\"middle\" x=\"50%\" y=\"1em\">S</text></svg><svg width=\"100%\" x=\"0%\" y=\"3em\"><defs /><svg width=\"100%\" x=\"0\" y=\"0em\"><defs /><text text-anchor=\"middle\" x=\"50%\" y=\"1em\">c</text></svg></svg><line stroke=\"black\" x1=\"50%\" x2=\"50%\" y1=\"1.2em\" y2=\"3em\" /></svg><line stroke=\"black\" x1=\"50%\" x2=\"16.6667%\" y1=\"1.2em\" y2=\"3em\" /><svg width=\"33.3333%\" x=\"33.3333%\" y=\"3em\"><defs /><svg width=\"100%\" x=\"0\" y=\"0em\"><defs /><text text-anchor=\"middle\" x=\"50%\" y=\"1em\">*</text></svg></svg><line stroke=\"black\" x1=\"50%\" x2=\"50%\" y1=\"1.2em\" y2=\"3em\" /><svg width=\"33.3333%\" x=\"66.6667%\" y=\"3em\"><defs /><svg width=\"100%\" x=\"0\" y=\"0em\"><defs /><text text-anchor=\"middle\" x=\"50%\" y=\"1em\">S</text></svg><svg width=\"100%\" x=\"0%\" y=\"3em\"><defs /><svg width=\"100%\" x=\"0\" y=\"0em\"><defs /><text text-anchor=\"middle\" x=\"50%\" y=\"1em\">b</text></svg></svg><line stroke=\"black\" x1=\"50%\" x2=\"50%\" y1=\"1.2em\" y2=\"3em\" /></svg><line stroke=\"black\" x1=\"50%\" x2=\"83.3333%\" y1=\"1.2em\" y2=\"3em\" /></svg><line stroke=\"black\" x1=\"50%\" x2=\"30%\" y1=\"1.2em\" y2=\"3em\" /><svg width=\"20%\" x=\"60%\" y=\"3em\"><defs /><svg width=\"100%\" x=\"0\" y=\"0em\"><defs /><text text-anchor=\"middle\" x=\"50%\" y=\"1em\">*</text></svg></svg><line stroke=\"black\" x1=\"50%\" x2=\"70%\" y1=\"1.2em\" y2=\"3em\" /><svg width=\"20%\" x=\"80%\" y=\"3em\"><defs /><svg width=\"100%\" x=\"0\" y=\"0em\"><defs /><text text-anchor=\"middle\" x=\"50%\" y=\"1em\">S</text></svg><svg width=\"100%\" x=\"0%\" y=\"3em\"><defs /><svg width=\"100%\" x=\"0\" y=\"0em\"><defs /><text text-anchor=\"middle\" x=\"50%\" y=\"1em\">c</text></svg></svg><line stroke=\"black\" x1=\"50%\" x2=\"50%\" y1=\"1.2em\" y2=\"3em\" /></svg><line stroke=\"black\" x1=\"50%\" x2=\"90%\" y1=\"1.2em\" y2=\"3em\" /></svg><line stroke=\"black\" x1=\"50%\" x2=\"77.2727%\" y1=\"1.2em\" y2=\"3em\" /></svg><line stroke=\"black\" x1=\"50%\" x2=\"42.3077%\" y1=\"1.2em\" y2=\"3em\" /><svg width=\"7.69231%\" x=\"84.6154%\" y=\"3em\"><defs /><svg width=\"100%\" x=\"0\" y=\"0em\"><defs /><text text-anchor=\"middle\" x=\"50%\" y=\"1em\">+</text></svg></svg><line stroke=\"black\" x1=\"50%\" x2=\"88.4615%\" y1=\"1.2em\" y2=\"3em\" /><svg width=\"7.69231%\" x=\"92.3077%\" y=\"3em\"><defs /><svg width=\"100%\" x=\"0\" y=\"0em\"><defs /><text text-anchor=\"middle\" x=\"50%\" y=\"1em\">S</text></svg><svg width=\"100%\" x=\"0%\" y=\"3em\"><defs /><svg width=\"100%\" x=\"0\" y=\"0em\"><defs /><text text-anchor=\"middle\" x=\"50%\" y=\"1em\">a</text></svg></svg><line stroke=\"black\" x1=\"50%\" x2=\"50%\" y1=\"1.2em\" y2=\"3em\" /></svg><line stroke=\"black\" x1=\"50%\" x2=\"96.1538%\" y1=\"1.2em\" y2=\"3em\" /></svg>"
          },
          "metadata": {},
          "execution_count": 17
        }
      ],
      "source": [
        "join(sent)\n",
        "trees[0]"
      ]
    },
    {
      "cell_type": "code",
      "execution_count": 18,
      "metadata": {
        "colab": {
          "base_uri": "https://localhost:8080/",
          "height": 285
        },
        "id": "amT2L5W1kdRa",
        "outputId": "f7f6ae40-98e9-48d9-842b-465ddbc813c3"
      },
      "outputs": [
        {
          "output_type": "execute_result",
          "data": {
            "text/plain": [
              "Tree('S', [Tree('S', [Tree('S', [Tree('S', [Tree('S', ['c']), '+', Tree('S', ['b'])]), '+', Tree('S', ['b'])]), '+', Tree('S', [Tree('S', ['c']), '*', Tree('S', [Tree('S', ['b']), '*', Tree('S', ['c'])])])]), '+', Tree('S', ['a'])])"
            ],
            "image/svg+xml": "<svg baseProfile=\"full\" height=\"264px\" preserveAspectRatio=\"xMidYMid meet\" style=\"font-family: times, serif; font-weight:normal; font-style: normal; font-size: 16px;\" version=\"1.1\" viewBox=\"0,0,312.0,264.0\" width=\"312px\" xmlns=\"http://www.w3.org/2000/svg\" xmlns:ev=\"http://www.w3.org/2001/xml-events\" xmlns:xlink=\"http://www.w3.org/1999/xlink\"><defs /><svg width=\"100%\" x=\"0\" y=\"0em\"><defs /><text text-anchor=\"middle\" x=\"50%\" y=\"1em\">S</text></svg><svg width=\"84.6154%\" x=\"0%\" y=\"3em\"><defs /><svg width=\"100%\" x=\"0\" y=\"0em\"><defs /><text text-anchor=\"middle\" x=\"50%\" y=\"1em\">S</text></svg><svg width=\"45.4545%\" x=\"0%\" y=\"3em\"><defs /><svg width=\"100%\" x=\"0\" y=\"0em\"><defs /><text text-anchor=\"middle\" x=\"50%\" y=\"1em\">S</text></svg><svg width=\"60%\" x=\"0%\" y=\"3em\"><defs /><svg width=\"100%\" x=\"0\" y=\"0em\"><defs /><text text-anchor=\"middle\" x=\"50%\" y=\"1em\">S</text></svg><svg width=\"33.3333%\" x=\"0%\" y=\"3em\"><defs /><svg width=\"100%\" x=\"0\" y=\"0em\"><defs /><text text-anchor=\"middle\" x=\"50%\" y=\"1em\">S</text></svg><svg width=\"100%\" x=\"0%\" y=\"3em\"><defs /><svg width=\"100%\" x=\"0\" y=\"0em\"><defs /><text text-anchor=\"middle\" x=\"50%\" y=\"1em\">c</text></svg></svg><line stroke=\"black\" x1=\"50%\" x2=\"50%\" y1=\"1.2em\" y2=\"3em\" /></svg><line stroke=\"black\" x1=\"50%\" x2=\"16.6667%\" y1=\"1.2em\" y2=\"3em\" /><svg width=\"33.3333%\" x=\"33.3333%\" y=\"3em\"><defs /><svg width=\"100%\" x=\"0\" y=\"0em\"><defs /><text text-anchor=\"middle\" x=\"50%\" y=\"1em\">+</text></svg></svg><line stroke=\"black\" x1=\"50%\" x2=\"50%\" y1=\"1.2em\" y2=\"3em\" /><svg width=\"33.3333%\" x=\"66.6667%\" y=\"3em\"><defs /><svg width=\"100%\" x=\"0\" y=\"0em\"><defs /><text text-anchor=\"middle\" x=\"50%\" y=\"1em\">S</text></svg><svg width=\"100%\" x=\"0%\" y=\"3em\"><defs /><svg width=\"100%\" x=\"0\" y=\"0em\"><defs /><text text-anchor=\"middle\" x=\"50%\" y=\"1em\">b</text></svg></svg><line stroke=\"black\" x1=\"50%\" x2=\"50%\" y1=\"1.2em\" y2=\"3em\" /></svg><line stroke=\"black\" x1=\"50%\" x2=\"83.3333%\" y1=\"1.2em\" y2=\"3em\" /></svg><line stroke=\"black\" x1=\"50%\" x2=\"30%\" y1=\"1.2em\" y2=\"3em\" /><svg width=\"20%\" x=\"60%\" y=\"3em\"><defs /><svg width=\"100%\" x=\"0\" y=\"0em\"><defs /><text text-anchor=\"middle\" x=\"50%\" y=\"1em\">+</text></svg></svg><line stroke=\"black\" x1=\"50%\" x2=\"70%\" y1=\"1.2em\" y2=\"3em\" /><svg width=\"20%\" x=\"80%\" y=\"3em\"><defs /><svg width=\"100%\" x=\"0\" y=\"0em\"><defs /><text text-anchor=\"middle\" x=\"50%\" y=\"1em\">S</text></svg><svg width=\"100%\" x=\"0%\" y=\"3em\"><defs /><svg width=\"100%\" x=\"0\" y=\"0em\"><defs /><text text-anchor=\"middle\" x=\"50%\" y=\"1em\">b</text></svg></svg><line stroke=\"black\" x1=\"50%\" x2=\"50%\" y1=\"1.2em\" y2=\"3em\" /></svg><line stroke=\"black\" x1=\"50%\" x2=\"90%\" y1=\"1.2em\" y2=\"3em\" /></svg><line stroke=\"black\" x1=\"50%\" x2=\"22.7273%\" y1=\"1.2em\" y2=\"3em\" /><svg width=\"9.09091%\" x=\"45.4545%\" y=\"3em\"><defs /><svg width=\"100%\" x=\"0\" y=\"0em\"><defs /><text text-anchor=\"middle\" x=\"50%\" y=\"1em\">+</text></svg></svg><line stroke=\"black\" x1=\"50%\" x2=\"50%\" y1=\"1.2em\" y2=\"3em\" /><svg width=\"45.4545%\" x=\"54.5455%\" y=\"3em\"><defs /><svg width=\"100%\" x=\"0\" y=\"0em\"><defs /><text text-anchor=\"middle\" x=\"50%\" y=\"1em\">S</text></svg><svg width=\"20%\" x=\"0%\" y=\"3em\"><defs /><svg width=\"100%\" x=\"0\" y=\"0em\"><defs /><text text-anchor=\"middle\" x=\"50%\" y=\"1em\">S</text></svg><svg width=\"100%\" x=\"0%\" y=\"3em\"><defs /><svg width=\"100%\" x=\"0\" y=\"0em\"><defs /><text text-anchor=\"middle\" x=\"50%\" y=\"1em\">c</text></svg></svg><line stroke=\"black\" x1=\"50%\" x2=\"50%\" y1=\"1.2em\" y2=\"3em\" /></svg><line stroke=\"black\" x1=\"50%\" x2=\"10%\" y1=\"1.2em\" y2=\"3em\" /><svg width=\"20%\" x=\"20%\" y=\"3em\"><defs /><svg width=\"100%\" x=\"0\" y=\"0em\"><defs /><text text-anchor=\"middle\" x=\"50%\" y=\"1em\">*</text></svg></svg><line stroke=\"black\" x1=\"50%\" x2=\"30%\" y1=\"1.2em\" y2=\"3em\" /><svg width=\"60%\" x=\"40%\" y=\"3em\"><defs /><svg width=\"100%\" x=\"0\" y=\"0em\"><defs /><text text-anchor=\"middle\" x=\"50%\" y=\"1em\">S</text></svg><svg width=\"33.3333%\" x=\"0%\" y=\"3em\"><defs /><svg width=\"100%\" x=\"0\" y=\"0em\"><defs /><text text-anchor=\"middle\" x=\"50%\" y=\"1em\">S</text></svg><svg width=\"100%\" x=\"0%\" y=\"3em\"><defs /><svg width=\"100%\" x=\"0\" y=\"0em\"><defs /><text text-anchor=\"middle\" x=\"50%\" y=\"1em\">b</text></svg></svg><line stroke=\"black\" x1=\"50%\" x2=\"50%\" y1=\"1.2em\" y2=\"3em\" /></svg><line stroke=\"black\" x1=\"50%\" x2=\"16.6667%\" y1=\"1.2em\" y2=\"3em\" /><svg width=\"33.3333%\" x=\"33.3333%\" y=\"3em\"><defs /><svg width=\"100%\" x=\"0\" y=\"0em\"><defs /><text text-anchor=\"middle\" x=\"50%\" y=\"1em\">*</text></svg></svg><line stroke=\"black\" x1=\"50%\" x2=\"50%\" y1=\"1.2em\" y2=\"3em\" /><svg width=\"33.3333%\" x=\"66.6667%\" y=\"3em\"><defs /><svg width=\"100%\" x=\"0\" y=\"0em\"><defs /><text text-anchor=\"middle\" x=\"50%\" y=\"1em\">S</text></svg><svg width=\"100%\" x=\"0%\" y=\"3em\"><defs /><svg width=\"100%\" x=\"0\" y=\"0em\"><defs /><text text-anchor=\"middle\" x=\"50%\" y=\"1em\">c</text></svg></svg><line stroke=\"black\" x1=\"50%\" x2=\"50%\" y1=\"1.2em\" y2=\"3em\" /></svg><line stroke=\"black\" x1=\"50%\" x2=\"83.3333%\" y1=\"1.2em\" y2=\"3em\" /></svg><line stroke=\"black\" x1=\"50%\" x2=\"70%\" y1=\"1.2em\" y2=\"3em\" /></svg><line stroke=\"black\" x1=\"50%\" x2=\"77.2727%\" y1=\"1.2em\" y2=\"3em\" /></svg><line stroke=\"black\" x1=\"50%\" x2=\"42.3077%\" y1=\"1.2em\" y2=\"3em\" /><svg width=\"7.69231%\" x=\"84.6154%\" y=\"3em\"><defs /><svg width=\"100%\" x=\"0\" y=\"0em\"><defs /><text text-anchor=\"middle\" x=\"50%\" y=\"1em\">+</text></svg></svg><line stroke=\"black\" x1=\"50%\" x2=\"88.4615%\" y1=\"1.2em\" y2=\"3em\" /><svg width=\"7.69231%\" x=\"92.3077%\" y=\"3em\"><defs /><svg width=\"100%\" x=\"0\" y=\"0em\"><defs /><text text-anchor=\"middle\" x=\"50%\" y=\"1em\">S</text></svg><svg width=\"100%\" x=\"0%\" y=\"3em\"><defs /><svg width=\"100%\" x=\"0\" y=\"0em\"><defs /><text text-anchor=\"middle\" x=\"50%\" y=\"1em\">a</text></svg></svg><line stroke=\"black\" x1=\"50%\" x2=\"50%\" y1=\"1.2em\" y2=\"3em\" /></svg><line stroke=\"black\" x1=\"50%\" x2=\"96.1538%\" y1=\"1.2em\" y2=\"3em\" /></svg>"
          },
          "metadata": {},
          "execution_count": 18
        }
      ],
      "source": [
        "join(sent)\n",
        "trees[1]"
      ]
    },
    {
      "cell_type": "code",
      "execution_count": 19,
      "metadata": {
        "colab": {
          "base_uri": "https://localhost:8080/",
          "height": 285
        },
        "id": "9yIhuiOikdRa",
        "outputId": "836209a6-6064-4d70-e172-268448add923"
      },
      "outputs": [
        {
          "output_type": "execute_result",
          "data": {
            "text/plain": [
              "Tree('S', [Tree('S', [Tree('S', [Tree('S', ['c']), '+', Tree('S', [Tree('S', ['b']), '+', Tree('S', ['b'])])]), '+', Tree('S', [Tree('S', [Tree('S', ['c']), '*', Tree('S', ['b'])]), '*', Tree('S', ['c'])])]), '+', Tree('S', ['a'])])"
            ],
            "image/svg+xml": "<svg baseProfile=\"full\" height=\"264px\" preserveAspectRatio=\"xMidYMid meet\" style=\"font-family: times, serif; font-weight:normal; font-style: normal; font-size: 16px;\" version=\"1.1\" viewBox=\"0,0,312.0,264.0\" width=\"312px\" xmlns=\"http://www.w3.org/2000/svg\" xmlns:ev=\"http://www.w3.org/2001/xml-events\" xmlns:xlink=\"http://www.w3.org/1999/xlink\"><defs /><svg width=\"100%\" x=\"0\" y=\"0em\"><defs /><text text-anchor=\"middle\" x=\"50%\" y=\"1em\">S</text></svg><svg width=\"84.6154%\" x=\"0%\" y=\"3em\"><defs /><svg width=\"100%\" x=\"0\" y=\"0em\"><defs /><text text-anchor=\"middle\" x=\"50%\" y=\"1em\">S</text></svg><svg width=\"45.4545%\" x=\"0%\" y=\"3em\"><defs /><svg width=\"100%\" x=\"0\" y=\"0em\"><defs /><text text-anchor=\"middle\" x=\"50%\" y=\"1em\">S</text></svg><svg width=\"20%\" x=\"0%\" y=\"3em\"><defs /><svg width=\"100%\" x=\"0\" y=\"0em\"><defs /><text text-anchor=\"middle\" x=\"50%\" y=\"1em\">S</text></svg><svg width=\"100%\" x=\"0%\" y=\"3em\"><defs /><svg width=\"100%\" x=\"0\" y=\"0em\"><defs /><text text-anchor=\"middle\" x=\"50%\" y=\"1em\">c</text></svg></svg><line stroke=\"black\" x1=\"50%\" x2=\"50%\" y1=\"1.2em\" y2=\"3em\" /></svg><line stroke=\"black\" x1=\"50%\" x2=\"10%\" y1=\"1.2em\" y2=\"3em\" /><svg width=\"20%\" x=\"20%\" y=\"3em\"><defs /><svg width=\"100%\" x=\"0\" y=\"0em\"><defs /><text text-anchor=\"middle\" x=\"50%\" y=\"1em\">+</text></svg></svg><line stroke=\"black\" x1=\"50%\" x2=\"30%\" y1=\"1.2em\" y2=\"3em\" /><svg width=\"60%\" x=\"40%\" y=\"3em\"><defs /><svg width=\"100%\" x=\"0\" y=\"0em\"><defs /><text text-anchor=\"middle\" x=\"50%\" y=\"1em\">S</text></svg><svg width=\"33.3333%\" x=\"0%\" y=\"3em\"><defs /><svg width=\"100%\" x=\"0\" y=\"0em\"><defs /><text text-anchor=\"middle\" x=\"50%\" y=\"1em\">S</text></svg><svg width=\"100%\" x=\"0%\" y=\"3em\"><defs /><svg width=\"100%\" x=\"0\" y=\"0em\"><defs /><text text-anchor=\"middle\" x=\"50%\" y=\"1em\">b</text></svg></svg><line stroke=\"black\" x1=\"50%\" x2=\"50%\" y1=\"1.2em\" y2=\"3em\" /></svg><line stroke=\"black\" x1=\"50%\" x2=\"16.6667%\" y1=\"1.2em\" y2=\"3em\" /><svg width=\"33.3333%\" x=\"33.3333%\" y=\"3em\"><defs /><svg width=\"100%\" x=\"0\" y=\"0em\"><defs /><text text-anchor=\"middle\" x=\"50%\" y=\"1em\">+</text></svg></svg><line stroke=\"black\" x1=\"50%\" x2=\"50%\" y1=\"1.2em\" y2=\"3em\" /><svg width=\"33.3333%\" x=\"66.6667%\" y=\"3em\"><defs /><svg width=\"100%\" x=\"0\" y=\"0em\"><defs /><text text-anchor=\"middle\" x=\"50%\" y=\"1em\">S</text></svg><svg width=\"100%\" x=\"0%\" y=\"3em\"><defs /><svg width=\"100%\" x=\"0\" y=\"0em\"><defs /><text text-anchor=\"middle\" x=\"50%\" y=\"1em\">b</text></svg></svg><line stroke=\"black\" x1=\"50%\" x2=\"50%\" y1=\"1.2em\" y2=\"3em\" /></svg><line stroke=\"black\" x1=\"50%\" x2=\"83.3333%\" y1=\"1.2em\" y2=\"3em\" /></svg><line stroke=\"black\" x1=\"50%\" x2=\"70%\" y1=\"1.2em\" y2=\"3em\" /></svg><line stroke=\"black\" x1=\"50%\" x2=\"22.7273%\" y1=\"1.2em\" y2=\"3em\" /><svg width=\"9.09091%\" x=\"45.4545%\" y=\"3em\"><defs /><svg width=\"100%\" x=\"0\" y=\"0em\"><defs /><text text-anchor=\"middle\" x=\"50%\" y=\"1em\">+</text></svg></svg><line stroke=\"black\" x1=\"50%\" x2=\"50%\" y1=\"1.2em\" y2=\"3em\" /><svg width=\"45.4545%\" x=\"54.5455%\" y=\"3em\"><defs /><svg width=\"100%\" x=\"0\" y=\"0em\"><defs /><text text-anchor=\"middle\" x=\"50%\" y=\"1em\">S</text></svg><svg width=\"60%\" x=\"0%\" y=\"3em\"><defs /><svg width=\"100%\" x=\"0\" y=\"0em\"><defs /><text text-anchor=\"middle\" x=\"50%\" y=\"1em\">S</text></svg><svg width=\"33.3333%\" x=\"0%\" y=\"3em\"><defs /><svg width=\"100%\" x=\"0\" y=\"0em\"><defs /><text text-anchor=\"middle\" x=\"50%\" y=\"1em\">S</text></svg><svg width=\"100%\" x=\"0%\" y=\"3em\"><defs /><svg width=\"100%\" x=\"0\" y=\"0em\"><defs /><text text-anchor=\"middle\" x=\"50%\" y=\"1em\">c</text></svg></svg><line stroke=\"black\" x1=\"50%\" x2=\"50%\" y1=\"1.2em\" y2=\"3em\" /></svg><line stroke=\"black\" x1=\"50%\" x2=\"16.6667%\" y1=\"1.2em\" y2=\"3em\" /><svg width=\"33.3333%\" x=\"33.3333%\" y=\"3em\"><defs /><svg width=\"100%\" x=\"0\" y=\"0em\"><defs /><text text-anchor=\"middle\" x=\"50%\" y=\"1em\">*</text></svg></svg><line stroke=\"black\" x1=\"50%\" x2=\"50%\" y1=\"1.2em\" y2=\"3em\" /><svg width=\"33.3333%\" x=\"66.6667%\" y=\"3em\"><defs /><svg width=\"100%\" x=\"0\" y=\"0em\"><defs /><text text-anchor=\"middle\" x=\"50%\" y=\"1em\">S</text></svg><svg width=\"100%\" x=\"0%\" y=\"3em\"><defs /><svg width=\"100%\" x=\"0\" y=\"0em\"><defs /><text text-anchor=\"middle\" x=\"50%\" y=\"1em\">b</text></svg></svg><line stroke=\"black\" x1=\"50%\" x2=\"50%\" y1=\"1.2em\" y2=\"3em\" /></svg><line stroke=\"black\" x1=\"50%\" x2=\"83.3333%\" y1=\"1.2em\" y2=\"3em\" /></svg><line stroke=\"black\" x1=\"50%\" x2=\"30%\" y1=\"1.2em\" y2=\"3em\" /><svg width=\"20%\" x=\"60%\" y=\"3em\"><defs /><svg width=\"100%\" x=\"0\" y=\"0em\"><defs /><text text-anchor=\"middle\" x=\"50%\" y=\"1em\">*</text></svg></svg><line stroke=\"black\" x1=\"50%\" x2=\"70%\" y1=\"1.2em\" y2=\"3em\" /><svg width=\"20%\" x=\"80%\" y=\"3em\"><defs /><svg width=\"100%\" x=\"0\" y=\"0em\"><defs /><text text-anchor=\"middle\" x=\"50%\" y=\"1em\">S</text></svg><svg width=\"100%\" x=\"0%\" y=\"3em\"><defs /><svg width=\"100%\" x=\"0\" y=\"0em\"><defs /><text text-anchor=\"middle\" x=\"50%\" y=\"1em\">c</text></svg></svg><line stroke=\"black\" x1=\"50%\" x2=\"50%\" y1=\"1.2em\" y2=\"3em\" /></svg><line stroke=\"black\" x1=\"50%\" x2=\"90%\" y1=\"1.2em\" y2=\"3em\" /></svg><line stroke=\"black\" x1=\"50%\" x2=\"77.2727%\" y1=\"1.2em\" y2=\"3em\" /></svg><line stroke=\"black\" x1=\"50%\" x2=\"42.3077%\" y1=\"1.2em\" y2=\"3em\" /><svg width=\"7.69231%\" x=\"84.6154%\" y=\"3em\"><defs /><svg width=\"100%\" x=\"0\" y=\"0em\"><defs /><text text-anchor=\"middle\" x=\"50%\" y=\"1em\">+</text></svg></svg><line stroke=\"black\" x1=\"50%\" x2=\"88.4615%\" y1=\"1.2em\" y2=\"3em\" /><svg width=\"7.69231%\" x=\"92.3077%\" y=\"3em\"><defs /><svg width=\"100%\" x=\"0\" y=\"0em\"><defs /><text text-anchor=\"middle\" x=\"50%\" y=\"1em\">S</text></svg><svg width=\"100%\" x=\"0%\" y=\"3em\"><defs /><svg width=\"100%\" x=\"0\" y=\"0em\"><defs /><text text-anchor=\"middle\" x=\"50%\" y=\"1em\">a</text></svg></svg><line stroke=\"black\" x1=\"50%\" x2=\"50%\" y1=\"1.2em\" y2=\"3em\" /></svg><line stroke=\"black\" x1=\"50%\" x2=\"96.1538%\" y1=\"1.2em\" y2=\"3em\" /></svg>"
          },
          "metadata": {},
          "execution_count": 19
        }
      ],
      "source": [
        "join(sent)\n",
        "trees[2]"
      ]
    },
    {
      "cell_type": "code",
      "execution_count": 20,
      "metadata": {
        "id": "Ug3FPfv9kdRb"
      },
      "outputs": [],
      "source": [
        "cfg2 = CFG.fromstring(\"\"\"\n",
        "statement -> 'if' condition 'then' sentence | sentence\n",
        "sentence -> 'if' condition 'then' sentence 'else' statement | claim\n",
        "condition -> 'a1' | 'a2' | 'a3'\n",
        "claim -> 'b1' | 'b2' | 'b3'\n",
        "\"\"\")\n"
      ]
    },
    {
      "cell_type": "code",
      "execution_count": 21,
      "metadata": {
        "colab": {
          "base_uri": "https://localhost:8080/"
        },
        "id": "rib2Ir-EkdRb",
        "outputId": "bfb793c9-bae8-41dc-e1aa-6f005f7763af"
      },
      "outputs": [
        {
          "output_type": "stream",
          "name": "stdout",
          "text": [
            "Start token = S\n"
          ]
        }
      ],
      "source": [
        "start = cfg1.start()\n",
        "print(f\"Start token = {start}\")"
      ]
    },
    {
      "cell_type": "code",
      "execution_count": 22,
      "metadata": {
        "colab": {
          "base_uri": "https://localhost:8080/"
        },
        "id": "NPRVU7XFkdRb",
        "outputId": "ada6a63e-a3b5-44cf-f5fc-c5e93605dc7b"
      },
      "outputs": [
        {
          "output_type": "execute_result",
          "data": {
            "text/plain": [
              "{'if': [statement -> 'if' condition 'then' sentence,\n",
              "  sentence -> 'if' condition 'then' sentence 'else' statement],\n",
              " sentence: [statement -> sentence],\n",
              " claim: [sentence -> claim],\n",
              " 'a1': [condition -> 'a1'],\n",
              " 'a2': [condition -> 'a2'],\n",
              " 'a3': [condition -> 'a3'],\n",
              " 'b1': [claim -> 'b1'],\n",
              " 'b2': [claim -> 'b2'],\n",
              " 'b3': [claim -> 'b3']}"
            ]
          },
          "metadata": {},
          "execution_count": 22
        }
      ],
      "source": [
        "cfg2._rhs_index"
      ]
    },
    {
      "cell_type": "code",
      "execution_count": 23,
      "metadata": {
        "colab": {
          "base_uri": "https://localhost:8080/"
        },
        "id": "Idhy8798kdRb",
        "outputId": "b134d59f-dcd6-4cea-aab9-fc4c58e08ccc"
      },
      "outputs": [
        {
          "output_type": "stream",
          "name": "stdout",
          "text": [
            "Productions:\n",
            "    S -> S '+' S\n",
            "    S -> S '*' S\n",
            "    S -> '(' S ')'\n",
            "    S -> 'a'\n",
            "    S -> 'b'\n",
            "    S -> 'c'\n"
          ]
        }
      ],
      "source": [
        "productions = cfg1.productions()\n",
        "print(\"Productions:\")\n",
        "for p in productions:\n",
        "    print(f\"    {p}\")"
      ]
    },
    {
      "cell_type": "code",
      "execution_count": 24,
      "metadata": {
        "id": "QWZ6bsQ8kdRb"
      },
      "outputs": [],
      "source": [
        "sentence1 = ['if', 'a1', 'then', 'b1']\n",
        "sentence2 = ['if', 'a3', 'then', 'if', 'a2', 'then', 'b2', 'else', 'b3']\n",
        "parser = ChartParser(cfg2)\n",
        "trees1 = list(parser.parse(sentence1))\n",
        "trees2 = list(parser.parse(sentence2))"
      ]
    },
    {
      "cell_type": "code",
      "execution_count": 25,
      "metadata": {
        "colab": {
          "base_uri": "https://localhost:8080/"
        },
        "id": "3rq33DBlkdRb",
        "outputId": "3b89272e-597c-4960-d8ce-bd78cbdc7abf"
      },
      "outputs": [
        {
          "output_type": "execute_result",
          "data": {
            "text/plain": [
              "[Tree('statement', ['if', Tree('condition', ['a1']), 'then', Tree('sentence', [Tree('claim', ['b1'])])])]"
            ]
          },
          "metadata": {},
          "execution_count": 25
        }
      ],
      "source": [
        "trees1"
      ]
    },
    {
      "cell_type": "code",
      "execution_count": 26,
      "metadata": {
        "colab": {
          "base_uri": "https://localhost:8080/",
          "height": 189
        },
        "id": "fJ77CDXXkdRb",
        "outputId": "a1ae6849-e49c-4127-e37a-75c8fb292fb4"
      },
      "outputs": [
        {
          "output_type": "execute_result",
          "data": {
            "text/plain": [
              "Tree('statement', ['if', Tree('condition', ['a1']), 'then', Tree('sentence', [Tree('claim', ['b1'])])])"
            ],
            "image/svg+xml": "<svg baseProfile=\"full\" height=\"168px\" preserveAspectRatio=\"xMidYMid meet\" style=\"font-family: times, serif; font-weight:normal; font-style: normal; font-size: 16px;\" version=\"1.1\" viewBox=\"0,0,248.0,168.0\" width=\"248px\" xmlns=\"http://www.w3.org/2000/svg\" xmlns:ev=\"http://www.w3.org/2001/xml-events\" xmlns:xlink=\"http://www.w3.org/1999/xlink\"><defs /><svg width=\"100%\" x=\"0\" y=\"0em\"><defs /><text text-anchor=\"middle\" x=\"50%\" y=\"1em\">statement</text></svg><svg width=\"12.9032%\" x=\"0%\" y=\"3em\"><defs /><svg width=\"100%\" x=\"0\" y=\"0em\"><defs /><text text-anchor=\"middle\" x=\"50%\" y=\"1em\">if</text></svg></svg><line stroke=\"black\" x1=\"50%\" x2=\"6.45161%\" y1=\"1.2em\" y2=\"3em\" /><svg width=\"35.4839%\" x=\"12.9032%\" y=\"3em\"><defs /><svg width=\"100%\" x=\"0\" y=\"0em\"><defs /><text text-anchor=\"middle\" x=\"50%\" y=\"1em\">condition</text></svg><svg width=\"100%\" x=\"0%\" y=\"3em\"><defs /><svg width=\"100%\" x=\"0\" y=\"0em\"><defs /><text text-anchor=\"middle\" x=\"50%\" y=\"1em\">a1</text></svg></svg><line stroke=\"black\" x1=\"50%\" x2=\"50%\" y1=\"1.2em\" y2=\"3em\" /></svg><line stroke=\"black\" x1=\"50%\" x2=\"30.6452%\" y1=\"1.2em\" y2=\"3em\" /><svg width=\"19.3548%\" x=\"48.3871%\" y=\"3em\"><defs /><svg width=\"100%\" x=\"0\" y=\"0em\"><defs /><text text-anchor=\"middle\" x=\"50%\" y=\"1em\">then</text></svg></svg><line stroke=\"black\" x1=\"50%\" x2=\"58.0645%\" y1=\"1.2em\" y2=\"3em\" /><svg width=\"32.2581%\" x=\"67.7419%\" y=\"3em\"><defs /><svg width=\"100%\" x=\"0\" y=\"0em\"><defs /><text text-anchor=\"middle\" x=\"50%\" y=\"1em\">sentence</text></svg><svg width=\"100%\" x=\"0%\" y=\"3em\"><defs /><svg width=\"100%\" x=\"0\" y=\"0em\"><defs /><text text-anchor=\"middle\" x=\"50%\" y=\"1em\">claim</text></svg><svg width=\"100%\" x=\"0%\" y=\"3em\"><defs /><svg width=\"100%\" x=\"0\" y=\"0em\"><defs /><text text-anchor=\"middle\" x=\"50%\" y=\"1em\">b1</text></svg></svg><line stroke=\"black\" x1=\"50%\" x2=\"50%\" y1=\"1.2em\" y2=\"3em\" /></svg><line stroke=\"black\" x1=\"50%\" x2=\"50%\" y1=\"1.2em\" y2=\"3em\" /></svg><line stroke=\"black\" x1=\"50%\" x2=\"83.871%\" y1=\"1.2em\" y2=\"3em\" /></svg>"
          },
          "metadata": {},
          "execution_count": 26
        }
      ],
      "source": [
        "trees1[0]"
      ]
    },
    {
      "cell_type": "code",
      "execution_count": 27,
      "metadata": {
        "colab": {
          "base_uri": "https://localhost:8080/"
        },
        "id": "s0aZtFgRkdRc",
        "outputId": "203f92e6-70d0-4d10-fa09-6fb005974473"
      },
      "outputs": [
        {
          "output_type": "execute_result",
          "data": {
            "text/plain": [
              "[Tree('statement', ['if', Tree('condition', ['a3']), 'then', Tree('sentence', ['if', Tree('condition', ['a2']), 'then', Tree('sentence', [Tree('claim', ['b2'])]), 'else', Tree('statement', [Tree('sentence', [Tree('claim', ['b3'])])])])])]"
            ]
          },
          "metadata": {},
          "execution_count": 27
        }
      ],
      "source": [
        "trees2"
      ]
    },
    {
      "cell_type": "code",
      "execution_count": 28,
      "metadata": {
        "colab": {
          "base_uri": "https://localhost:8080/",
          "height": 285
        },
        "id": "KCFgsin7kdRc",
        "outputId": "422215c8-59b8-4af1-b878-bcb55135e198"
      },
      "outputs": [
        {
          "output_type": "execute_result",
          "data": {
            "text/plain": [
              "Tree('statement', ['if', Tree('condition', ['a3']), 'then', Tree('sentence', ['if', Tree('condition', ['a2']), 'then', Tree('sentence', [Tree('claim', ['b2'])]), 'else', Tree('statement', [Tree('sentence', [Tree('claim', ['b3'])])])])])"
            ],
            "image/svg+xml": "<svg baseProfile=\"full\" height=\"264px\" preserveAspectRatio=\"xMidYMid meet\" style=\"font-family: times, serif; font-weight:normal; font-style: normal; font-size: 16px;\" version=\"1.1\" viewBox=\"0,0,552.0,264.0\" width=\"552px\" xmlns=\"http://www.w3.org/2000/svg\" xmlns:ev=\"http://www.w3.org/2001/xml-events\" xmlns:xlink=\"http://www.w3.org/1999/xlink\"><defs /><svg width=\"100%\" x=\"0\" y=\"0em\"><defs /><text text-anchor=\"middle\" x=\"50%\" y=\"1em\">statement</text></svg><svg width=\"5.7971%\" x=\"0%\" y=\"3em\"><defs /><svg width=\"100%\" x=\"0\" y=\"0em\"><defs /><text text-anchor=\"middle\" x=\"50%\" y=\"1em\">if</text></svg></svg><line stroke=\"black\" x1=\"50%\" x2=\"2.89855%\" y1=\"1.2em\" y2=\"3em\" /><svg width=\"15.942%\" x=\"5.7971%\" y=\"3em\"><defs /><svg width=\"100%\" x=\"0\" y=\"0em\"><defs /><text text-anchor=\"middle\" x=\"50%\" y=\"1em\">condition</text></svg><svg width=\"100%\" x=\"0%\" y=\"3em\"><defs /><svg width=\"100%\" x=\"0\" y=\"0em\"><defs /><text text-anchor=\"middle\" x=\"50%\" y=\"1em\">a3</text></svg></svg><line stroke=\"black\" x1=\"50%\" x2=\"50%\" y1=\"1.2em\" y2=\"3em\" /></svg><line stroke=\"black\" x1=\"50%\" x2=\"13.7681%\" y1=\"1.2em\" y2=\"3em\" /><svg width=\"8.69565%\" x=\"21.7391%\" y=\"3em\"><defs /><svg width=\"100%\" x=\"0\" y=\"0em\"><defs /><text text-anchor=\"middle\" x=\"50%\" y=\"1em\">then</text></svg></svg><line stroke=\"black\" x1=\"50%\" x2=\"26.087%\" y1=\"1.2em\" y2=\"3em\" /><svg width=\"69.5652%\" x=\"30.4348%\" y=\"3em\"><defs /><svg width=\"100%\" x=\"0\" y=\"0em\"><defs /><text text-anchor=\"middle\" x=\"50%\" y=\"1em\">sentence</text></svg><svg width=\"8.33333%\" x=\"0%\" y=\"3em\"><defs /><svg width=\"100%\" x=\"0\" y=\"0em\"><defs /><text text-anchor=\"middle\" x=\"50%\" y=\"1em\">if</text></svg></svg><line stroke=\"black\" x1=\"50%\" x2=\"4.16667%\" y1=\"1.2em\" y2=\"3em\" /><svg width=\"22.9167%\" x=\"8.33333%\" y=\"3em\"><defs /><svg width=\"100%\" x=\"0\" y=\"0em\"><defs /><text text-anchor=\"middle\" x=\"50%\" y=\"1em\">condition</text></svg><svg width=\"100%\" x=\"0%\" y=\"3em\"><defs /><svg width=\"100%\" x=\"0\" y=\"0em\"><defs /><text text-anchor=\"middle\" x=\"50%\" y=\"1em\">a2</text></svg></svg><line stroke=\"black\" x1=\"50%\" x2=\"50%\" y1=\"1.2em\" y2=\"3em\" /></svg><line stroke=\"black\" x1=\"50%\" x2=\"19.7917%\" y1=\"1.2em\" y2=\"3em\" /><svg width=\"12.5%\" x=\"31.25%\" y=\"3em\"><defs /><svg width=\"100%\" x=\"0\" y=\"0em\"><defs /><text text-anchor=\"middle\" x=\"50%\" y=\"1em\">then</text></svg></svg><line stroke=\"black\" x1=\"50%\" x2=\"37.5%\" y1=\"1.2em\" y2=\"3em\" /><svg width=\"20.8333%\" x=\"43.75%\" y=\"3em\"><defs /><svg width=\"100%\" x=\"0\" y=\"0em\"><defs /><text text-anchor=\"middle\" x=\"50%\" y=\"1em\">sentence</text></svg><svg width=\"100%\" x=\"0%\" y=\"3em\"><defs /><svg width=\"100%\" x=\"0\" y=\"0em\"><defs /><text text-anchor=\"middle\" x=\"50%\" y=\"1em\">claim</text></svg><svg width=\"100%\" x=\"0%\" y=\"3em\"><defs /><svg width=\"100%\" x=\"0\" y=\"0em\"><defs /><text text-anchor=\"middle\" x=\"50%\" y=\"1em\">b2</text></svg></svg><line stroke=\"black\" x1=\"50%\" x2=\"50%\" y1=\"1.2em\" y2=\"3em\" /></svg><line stroke=\"black\" x1=\"50%\" x2=\"50%\" y1=\"1.2em\" y2=\"3em\" /></svg><line stroke=\"black\" x1=\"50%\" x2=\"54.1667%\" y1=\"1.2em\" y2=\"3em\" /><svg width=\"12.5%\" x=\"64.5833%\" y=\"3em\"><defs /><svg width=\"100%\" x=\"0\" y=\"0em\"><defs /><text text-anchor=\"middle\" x=\"50%\" y=\"1em\">else</text></svg></svg><line stroke=\"black\" x1=\"50%\" x2=\"70.8333%\" y1=\"1.2em\" y2=\"3em\" /><svg width=\"22.9167%\" x=\"77.0833%\" y=\"3em\"><defs /><svg width=\"100%\" x=\"0\" y=\"0em\"><defs /><text text-anchor=\"middle\" x=\"50%\" y=\"1em\">statement</text></svg><svg width=\"100%\" x=\"0%\" y=\"3em\"><defs /><svg width=\"100%\" x=\"0\" y=\"0em\"><defs /><text text-anchor=\"middle\" x=\"50%\" y=\"1em\">sentence</text></svg><svg width=\"100%\" x=\"0%\" y=\"3em\"><defs /><svg width=\"100%\" x=\"0\" y=\"0em\"><defs /><text text-anchor=\"middle\" x=\"50%\" y=\"1em\">claim</text></svg><svg width=\"100%\" x=\"0%\" y=\"3em\"><defs /><svg width=\"100%\" x=\"0\" y=\"0em\"><defs /><text text-anchor=\"middle\" x=\"50%\" y=\"1em\">b3</text></svg></svg><line stroke=\"black\" x1=\"50%\" x2=\"50%\" y1=\"1.2em\" y2=\"3em\" /></svg><line stroke=\"black\" x1=\"50%\" x2=\"50%\" y1=\"1.2em\" y2=\"3em\" /></svg><line stroke=\"black\" x1=\"50%\" x2=\"50%\" y1=\"1.2em\" y2=\"3em\" /></svg><line stroke=\"black\" x1=\"50%\" x2=\"88.5417%\" y1=\"1.2em\" y2=\"3em\" /></svg><line stroke=\"black\" x1=\"50%\" x2=\"65.2174%\" y1=\"1.2em\" y2=\"3em\" /></svg>"
          },
          "metadata": {},
          "execution_count": 28
        }
      ],
      "source": [
        "trees2[0]"
      ]
    },
    {
      "cell_type": "code",
      "execution_count": 29,
      "metadata": {
        "colab": {
          "base_uri": "https://localhost:8080/"
        },
        "id": "wrrC36yFkdRc",
        "outputId": "02e95d5c-22e4-4b7e-b54f-b3161ef83f7a"
      },
      "outputs": [
        {
          "output_type": "execute_result",
          "data": {
            "text/plain": [
              "1"
            ]
          },
          "metadata": {},
          "execution_count": 29
        }
      ],
      "source": [
        "len(trees2)"
      ]
    },
    {
      "cell_type": "markdown",
      "metadata": {
        "id": "Litl01NKkdRc"
      },
      "source": [
        "## Example of a grammar for a simple subset of English"
      ]
    },
    {
      "cell_type": "code",
      "execution_count": 30,
      "metadata": {
        "id": "J63sDIfBkdRc"
      },
      "outputs": [],
      "source": [
        "grammar = CFG.fromstring(\"\"\"\n",
        "sentence  ->  \"Be\" trait \".\" | sentence \",\" command\n",
        "command  ->  \"Be\" trait | \"be\" trait\n",
        "trait -> \"bold\" | \"courageous\" | \"your best\"\n",
        "\"\"\")"
      ]
    },
    {
      "cell_type": "markdown",
      "metadata": {
        "id": "ECNUdghfkdRg"
      },
      "source": [
        "## Exercise 4.1\n",
        "Convert the following grammar to Chomsky Normal Form\n",
        "\n",
        "$\n",
        "\\qquad\n",
        "\\begin{array}{rcl}\n",
        "S   & \\rightarrow & SAS|A|\\varepsilon \\\\\n",
        "A   & \\rightarrow & 00|\\varepsilon\n",
        "\\end{array}\n",
        "$"
      ]
    },
    {
      "cell_type": "code",
      "execution_count": 31,
      "metadata": {
        "id": "vMfKsBMWkdRg"
      },
      "outputs": [],
      "source": [
        "cfg = CFG.fromstring(\"\"\"\n",
        "S  ->  S A S | A | ''\n",
        "A  ->  '00' | ''\n",
        "\"\"\")"
      ]
    },
    {
      "cell_type": "code",
      "execution_count": 32,
      "metadata": {
        "id": "9vOHj6fukdRg"
      },
      "outputs": [],
      "source": [
        "cnf = cfg.chomsky_normal_form()"
      ]
    },
    {
      "cell_type": "code",
      "execution_count": 33,
      "metadata": {
        "colab": {
          "base_uri": "https://localhost:8080/"
        },
        "id": "7I1TV9FykdRg",
        "outputId": "efcb20ab-7edf-4153-b89d-21efc5552ebd"
      },
      "outputs": [
        {
          "output_type": "execute_result",
          "data": {
            "text/plain": [
              "[S0_SIGMA -> S S@$@S,\n",
              " A -> '',\n",
              " A -> '00',\n",
              " S -> '',\n",
              " S0_SIGMA -> '',\n",
              " S -> '00',\n",
              " S@$@S -> A S,\n",
              " S0_SIGMA -> '00',\n",
              " S -> S S@$@S]"
            ]
          },
          "metadata": {},
          "execution_count": 33
        }
      ],
      "source": [
        "cnf.productions()"
      ]
    },
    {
      "cell_type": "code",
      "execution_count": 34,
      "metadata": {
        "tags": [],
        "id": "jRvnouwckdRh"
      },
      "outputs": [],
      "source": [
        "sentences = random_sentences(cfg, n=20)"
      ]
    },
    {
      "cell_type": "code",
      "execution_count": 35,
      "metadata": {
        "colab": {
          "base_uri": "https://localhost:8080/"
        },
        "id": "Y-eJ_wb6kdRh",
        "outputId": "d0bedb0a-eaf4-4577-d90a-1dcb7e31fcbd"
      },
      "outputs": [
        {
          "output_type": "stream",
          "name": "stdout",
          "text": [
            "1. 00\n",
            "2. \n",
            "3. 0000\n",
            "4. \n",
            "5. \n",
            "6. \n",
            "7. 0000000000000000\n",
            "8. 00\n",
            "9. 000000\n",
            "10. 00\n",
            "11. 00000000\n",
            "12. 00000000\n",
            "13. \n",
            "14. 000000\n",
            "15. \n",
            "16. 00\n",
            "17. \n",
            "18. \n",
            "19. \n",
            "20. 00\n"
          ]
        }
      ],
      "source": [
        "for i,sent in enumerate(sentences):\n",
        "    print(f\"{i+1}. {join(sent,'')}\")"
      ]
    },
    {
      "cell_type": "code",
      "execution_count": 36,
      "metadata": {
        "id": "HkIX5XAfkdRh"
      },
      "outputs": [],
      "source": [
        "cnf = cfg.chomsky_normal_form()"
      ]
    },
    {
      "cell_type": "code",
      "execution_count": 37,
      "metadata": {
        "colab": {
          "base_uri": "https://localhost:8080/"
        },
        "id": "dnXm6fuOkdRh",
        "outputId": "dfd5b61b-9c9f-4ec1-93a4-e92b82bfb934"
      },
      "outputs": [
        {
          "output_type": "stream",
          "name": "stdout",
          "text": [
            "S0_SIGMA -> S S@$@S\n",
            "A -> ''\n",
            "A -> '00'\n",
            "S -> ''\n",
            "S0_SIGMA -> ''\n",
            "S -> '00'\n",
            "S@$@S -> A S\n",
            "S0_SIGMA -> '00'\n",
            "S -> S S@$@S\n"
          ]
        }
      ],
      "source": [
        "for p in cnf.productions():\n",
        "    print(p)"
      ]
    },
    {
      "cell_type": "code",
      "execution_count": 38,
      "metadata": {
        "id": "DSvW0-cFkdRh"
      },
      "outputs": [],
      "source": [
        "cnf2 = CFG.fromstring(\"\"\"\n",
        "S -> S C\n",
        "A -> ''\n",
        "B -> ''\n",
        "B -> '00'\n",
        "B -> S C\n",
        "S -> ''\n",
        "C -> A S\n",
        "S -> '00'\n",
        "A -> '00'\n",
        "\"\"\")"
      ]
    },
    {
      "cell_type": "code",
      "execution_count": 39,
      "metadata": {
        "tags": [],
        "id": "ZvgqG7SGkdRh"
      },
      "outputs": [],
      "source": [
        "sentences = random_sentences(cnf2, n=20)"
      ]
    },
    {
      "cell_type": "code",
      "execution_count": 40,
      "metadata": {
        "colab": {
          "base_uri": "https://localhost:8080/"
        },
        "id": "5Q7u5QDokdRh",
        "outputId": "395015a6-8f21-4d3c-be1f-538351ce558c"
      },
      "outputs": [
        {
          "output_type": "stream",
          "name": "stdout",
          "text": [
            "1. \n",
            "2. 00\n",
            "3. \n",
            "4. 000000\n",
            "5. 00\n",
            "6. 00\n",
            "7. \n",
            "8. 00\n",
            "9. 00\n",
            "10. \n",
            "11. \n",
            "12. 00\n",
            "13. 000000\n",
            "14. 000000\n",
            "15. 00\n",
            "16. 00\n",
            "17. 00\n",
            "18. 000000\n",
            "19. \n",
            "20. 00\n"
          ]
        }
      ],
      "source": [
        "for i,sent in enumerate(sentences):\n",
        "    print(f\"{i+1}. {join(sent,'')}\")"
      ]
    },
    {
      "cell_type": "code",
      "execution_count": 41,
      "metadata": {
        "id": "VCzF1470kdRi"
      },
      "outputs": [],
      "source": [
        "sentences = sample(list(generate(cfg2, depth=6)), 10)"
      ]
    },
    {
      "cell_type": "code",
      "execution_count": 42,
      "metadata": {
        "colab": {
          "base_uri": "https://localhost:8080/"
        },
        "id": "1GELcoCHkdRi",
        "outputId": "8e22574b-3f57-4f45-f822-e8b4d19b48b5"
      },
      "outputs": [
        {
          "output_type": "stream",
          "name": "stdout",
          "text": [
            "if a3 then if a3 then b1 else b3\n",
            "if a2 then if a3 then b2 else if a3 then b1\n",
            "if a3 then if a3 then b1 else if a2 then b2\n",
            "if a1 then if a2 then b2 else b1\n",
            "if a1 then if a2 then b2 else if a1 then b3\n",
            "if a1 then if a1 then b2 else if a1 then b2\n",
            "if a2 then if a1 then b3 else b2\n",
            "if a2 then b3 else if a3 then b2\n",
            "if a2 then if a2 then b1 else b1\n",
            "if a2 then if a1 then b1 else if a1 then b2\n"
          ]
        }
      ],
      "source": [
        "for s in sentences:\n",
        "    print(join(s))"
      ]
    },
    {
      "cell_type": "markdown",
      "metadata": {
        "id": "IG0jhComkdRi"
      },
      "source": [
        "## Exercise 4.11: C Floating-Point Constants\n",
        "\n",
        "* A \"floating-point constant\" is a decimal number that represents a **signed real number**.\n",
        "\n",
        "* The representation of a signed real number includes an integer portion, a fractional portion,\n",
        "  an optional exponent, and an optional signifier (f,F,l,L).\n",
        "  \n",
        "* Examples:  \n",
        "  1708, -1708.0, 1.708e3, +1.708E3, 1708f, 1708F,  \n",
        "  0.1708e4, .1708E4, 1708.F, 1708.f, .1708e4F,  1708000e-3F,\n",
        "  1708L, 1708l, -1.78e3L, +1708.L, -.0170800e5L, 17080000.0e-4l, ...\n",
        "  \n",
        "### Specification\n",
        "\n",
        "\n",
        "````\n",
        "floating-point-constant:\n",
        "   fractional-constant exponent-part[opt] floating-suffix[opt]\n",
        "   digit-sequence exponent-part floating-suffix[opt]\n",
        "\n",
        "fractional-constant:\n",
        "   digit-sequence[opt] . digit-sequence\n",
        "   digit-sequence .\n",
        "\n",
        "exponent-part:\n",
        "   e sign[opt] digit-sequence\n",
        "   E sign[opt] digit-sequence\n",
        "\n",
        "sign: one of\n",
        "   + -\n",
        "\n",
        "digit-sequence:\n",
        "   digit\n",
        "   digit-sequence digit\n",
        "\n",
        "floating-suffix: one of\n",
        "   f l F L\n",
        "````\n",
        "\n",
        "* Your mission in this exercise is to construct a **context free grammar** for the language of\n",
        "  C Floating-Point Constants.\n",
        "\n",
        "* For more details see:  \n",
        "https://learn.microsoft.com/en-us/cpp/c-language/c-floating-point-constants?view=msvc-170&viewFallbackFrom=vs-2019#syntax"
      ]
    },
    {
      "cell_type": "code",
      "execution_count": 43,
      "metadata": {
        "id": "VhkCWqFVkdRi"
      },
      "outputs": [],
      "source": [
        "float_grammar = CFG.fromstring(\"\"\"\n",
        "float -> frac | frac exp int | frac suffix | frac exp int suffix\n",
        "frac -> int '.' | int '.' digseq\n",
        "int -> digseq | sign digseq\n",
        "digseq -> digit | digit digseq\n",
        "digit -> '0' | '1' | '2' | '3' | '4' | '5' | '6' | '7' | '8' | '9'\n",
        "sign -> '+' | '-'\n",
        "exp -> 'e' | 'E'\n",
        "suffix -> 'f' | 'F' | 'l' | 'L'\n",
        "\"\"\")"
      ]
    },
    {
      "cell_type": "code",
      "execution_count": 44,
      "metadata": {
        "colab": {
          "base_uri": "https://localhost:8080/"
        },
        "id": "DPEM6AAokdRi",
        "outputId": "be15d659-2917-4332-ed9d-3f018ba5503f"
      },
      "outputs": [
        {
          "output_type": "stream",
          "name": "stdout",
          "text": [
            "-70791.E0F\n",
            "3.e6l\n",
            "58.45E8F\n",
            "30.24F\n",
            "+59.F\n",
            "-1993.5\n",
            "-83.E5\n",
            "7.6683F\n",
            "+0465.84e10F\n",
            "3480605.e11F\n",
            "+1.E-8\n",
            "972.e862541\n",
            "-04.417L\n",
            "7869.1e8f\n",
            "0.6\n",
            "564.L\n",
            "+31.\n",
            "-090.8L\n",
            "25.59E+06l\n",
            "+08.477\n",
            "-4.042279e-76899l\n",
            "61.6626\n",
            "+516.\n",
            "+0.394E0\n",
            "2.e324L\n",
            "5.2E130l\n",
            "9.59l\n",
            "+5.\n",
            "8.E1\n",
            "-216.l\n"
          ]
        }
      ],
      "source": [
        "\n",
        "for sent in random_sentences(float_grammar, n=30):\n",
        "    print(join(sent, ''))"
      ]
    },
    {
      "cell_type": "code",
      "execution_count": 45,
      "metadata": {
        "id": "omUeBAzNkdRj"
      },
      "outputs": [],
      "source": [
        "sentence = list(\"+478.0675e35F\")\n",
        "parser = ChartParser(float_grammar)\n",
        "trees = list(parser.parse(sentence))"
      ]
    },
    {
      "cell_type": "code",
      "execution_count": 46,
      "metadata": {
        "colab": {
          "base_uri": "https://localhost:8080/"
        },
        "id": "Qp_fxe8okdRj",
        "outputId": "1f48dd64-0ac8-40ee-c9bf-5dce944f4f2f"
      },
      "outputs": [
        {
          "output_type": "execute_result",
          "data": {
            "text/plain": [
              "1"
            ]
          },
          "metadata": {},
          "execution_count": 46
        }
      ],
      "source": [
        "len(trees)"
      ]
    },
    {
      "cell_type": "markdown",
      "metadata": {
        "id": "nHWVocvakdRj"
      },
      "source": [
        "* Only one parse tree, so it looks like this is a non-ambiguous grammar\n",
        "* (But this requires a formal proof!)\n",
        "* Lets see how this tree looks like .."
      ]
    },
    {
      "cell_type": "code",
      "execution_count": 47,
      "metadata": {
        "colab": {
          "base_uri": "https://localhost:8080/",
          "height": 381
        },
        "id": "NROaRGUekdRj",
        "outputId": "9138835b-7ddf-4077-f0fc-342e61c6fe0a"
      },
      "outputs": [
        {
          "output_type": "execute_result",
          "data": {
            "text/plain": [
              "Tree('float', [Tree('frac', [Tree('int', [Tree('sign', ['+']), Tree('digseq', [Tree('digit', ['4']), Tree('digseq', [Tree('digit', ['7']), Tree('digseq', [Tree('digit', ['8'])])])])]), '.', Tree('digseq', [Tree('digit', ['0']), Tree('digseq', [Tree('digit', ['6']), Tree('digseq', [Tree('digit', ['7']), Tree('digseq', [Tree('digit', ['5'])])])])])]), Tree('exp', ['e']), Tree('int', [Tree('digseq', [Tree('digit', ['3']), Tree('digseq', [Tree('digit', ['5'])])])]), Tree('suffix', ['F'])])"
            ],
            "image/svg+xml": "<svg baseProfile=\"full\" height=\"360px\" preserveAspectRatio=\"xMidYMid meet\" style=\"font-family: times, serif; font-weight:normal; font-style: normal; font-size: 16px;\" version=\"1.1\" viewBox=\"0,0,704.0,360.0\" width=\"704px\" xmlns=\"http://www.w3.org/2000/svg\" xmlns:ev=\"http://www.w3.org/2001/xml-events\" xmlns:xlink=\"http://www.w3.org/1999/xlink\"><defs /><svg width=\"100%\" x=\"0\" y=\"0em\"><defs /><text text-anchor=\"middle\" x=\"50%\" y=\"1em\">float</text></svg><svg width=\"68.1818%\" x=\"0%\" y=\"3em\"><defs /><svg width=\"100%\" x=\"0\" y=\"0em\"><defs /><text text-anchor=\"middle\" x=\"50%\" y=\"1em\">frac</text></svg><svg width=\"46.6667%\" x=\"0%\" y=\"3em\"><defs /><svg width=\"100%\" x=\"0\" y=\"0em\"><defs /><text text-anchor=\"middle\" x=\"50%\" y=\"1em\">int</text></svg><svg width=\"21.4286%\" x=\"0%\" y=\"3em\"><defs /><svg width=\"100%\" x=\"0\" y=\"0em\"><defs /><text text-anchor=\"middle\" x=\"50%\" y=\"1em\">sign</text></svg><svg width=\"100%\" x=\"0%\" y=\"3em\"><defs /><svg width=\"100%\" x=\"0\" y=\"0em\"><defs /><text text-anchor=\"middle\" x=\"50%\" y=\"1em\">+</text></svg></svg><line stroke=\"black\" x1=\"50%\" x2=\"50%\" y1=\"1.2em\" y2=\"3em\" /></svg><line stroke=\"black\" x1=\"50%\" x2=\"10.7143%\" y1=\"1.2em\" y2=\"3em\" /><svg width=\"78.5714%\" x=\"21.4286%\" y=\"3em\"><defs /><svg width=\"100%\" x=\"0\" y=\"0em\"><defs /><text text-anchor=\"middle\" x=\"50%\" y=\"1em\">digseq</text></svg><svg width=\"31.8182%\" x=\"0%\" y=\"3em\"><defs /><svg width=\"100%\" x=\"0\" y=\"0em\"><defs /><text text-anchor=\"middle\" x=\"50%\" y=\"1em\">digit</text></svg><svg width=\"100%\" x=\"0%\" y=\"3em\"><defs /><svg width=\"100%\" x=\"0\" y=\"0em\"><defs /><text text-anchor=\"middle\" x=\"50%\" y=\"1em\">4</text></svg></svg><line stroke=\"black\" x1=\"50%\" x2=\"50%\" y1=\"1.2em\" y2=\"3em\" /></svg><line stroke=\"black\" x1=\"50%\" x2=\"15.9091%\" y1=\"1.2em\" y2=\"3em\" /><svg width=\"68.1818%\" x=\"31.8182%\" y=\"3em\"><defs /><svg width=\"100%\" x=\"0\" y=\"0em\"><defs /><text text-anchor=\"middle\" x=\"50%\" y=\"1em\">digseq</text></svg><svg width=\"46.6667%\" x=\"0%\" y=\"3em\"><defs /><svg width=\"100%\" x=\"0\" y=\"0em\"><defs /><text text-anchor=\"middle\" x=\"50%\" y=\"1em\">digit</text></svg><svg width=\"100%\" x=\"0%\" y=\"3em\"><defs /><svg width=\"100%\" x=\"0\" y=\"0em\"><defs /><text text-anchor=\"middle\" x=\"50%\" y=\"1em\">7</text></svg></svg><line stroke=\"black\" x1=\"50%\" x2=\"50%\" y1=\"1.2em\" y2=\"3em\" /></svg><line stroke=\"black\" x1=\"50%\" x2=\"23.3333%\" y1=\"1.2em\" y2=\"3em\" /><svg width=\"53.3333%\" x=\"46.6667%\" y=\"3em\"><defs /><svg width=\"100%\" x=\"0\" y=\"0em\"><defs /><text text-anchor=\"middle\" x=\"50%\" y=\"1em\">digseq</text></svg><svg width=\"100%\" x=\"0%\" y=\"3em\"><defs /><svg width=\"100%\" x=\"0\" y=\"0em\"><defs /><text text-anchor=\"middle\" x=\"50%\" y=\"1em\">digit</text></svg><svg width=\"100%\" x=\"0%\" y=\"3em\"><defs /><svg width=\"100%\" x=\"0\" y=\"0em\"><defs /><text text-anchor=\"middle\" x=\"50%\" y=\"1em\">8</text></svg></svg><line stroke=\"black\" x1=\"50%\" x2=\"50%\" y1=\"1.2em\" y2=\"3em\" /></svg><line stroke=\"black\" x1=\"50%\" x2=\"50%\" y1=\"1.2em\" y2=\"3em\" /></svg><line stroke=\"black\" x1=\"50%\" x2=\"73.3333%\" y1=\"1.2em\" y2=\"3em\" /></svg><line stroke=\"black\" x1=\"50%\" x2=\"65.9091%\" y1=\"1.2em\" y2=\"3em\" /></svg><line stroke=\"black\" x1=\"50%\" x2=\"60.7143%\" y1=\"1.2em\" y2=\"3em\" /></svg><line stroke=\"black\" x1=\"50%\" x2=\"23.3333%\" y1=\"1.2em\" y2=\"3em\" /><svg width=\"5%\" x=\"46.6667%\" y=\"3em\"><defs /><svg width=\"100%\" x=\"0\" y=\"0em\"><defs /><text text-anchor=\"middle\" x=\"50%\" y=\"1em\">.</text></svg></svg><line stroke=\"black\" x1=\"50%\" x2=\"49.1667%\" y1=\"1.2em\" y2=\"3em\" /><svg width=\"48.3333%\" x=\"51.6667%\" y=\"3em\"><defs /><svg width=\"100%\" x=\"0\" y=\"0em\"><defs /><text text-anchor=\"middle\" x=\"50%\" y=\"1em\">digseq</text></svg><svg width=\"24.1379%\" x=\"0%\" y=\"3em\"><defs /><svg width=\"100%\" x=\"0\" y=\"0em\"><defs /><text text-anchor=\"middle\" x=\"50%\" y=\"1em\">digit</text></svg><svg width=\"100%\" x=\"0%\" y=\"3em\"><defs /><svg width=\"100%\" x=\"0\" y=\"0em\"><defs /><text text-anchor=\"middle\" x=\"50%\" y=\"1em\">0</text></svg></svg><line stroke=\"black\" x1=\"50%\" x2=\"50%\" y1=\"1.2em\" y2=\"3em\" /></svg><line stroke=\"black\" x1=\"50%\" x2=\"12.069%\" y1=\"1.2em\" y2=\"3em\" /><svg width=\"75.8621%\" x=\"24.1379%\" y=\"3em\"><defs /><svg width=\"100%\" x=\"0\" y=\"0em\"><defs /><text text-anchor=\"middle\" x=\"50%\" y=\"1em\">digseq</text></svg><svg width=\"31.8182%\" x=\"0%\" y=\"3em\"><defs /><svg width=\"100%\" x=\"0\" y=\"0em\"><defs /><text text-anchor=\"middle\" x=\"50%\" y=\"1em\">digit</text></svg><svg width=\"100%\" x=\"0%\" y=\"3em\"><defs /><svg width=\"100%\" x=\"0\" y=\"0em\"><defs /><text text-anchor=\"middle\" x=\"50%\" y=\"1em\">6</text></svg></svg><line stroke=\"black\" x1=\"50%\" x2=\"50%\" y1=\"1.2em\" y2=\"3em\" /></svg><line stroke=\"black\" x1=\"50%\" x2=\"15.9091%\" y1=\"1.2em\" y2=\"3em\" /><svg width=\"68.1818%\" x=\"31.8182%\" y=\"3em\"><defs /><svg width=\"100%\" x=\"0\" y=\"0em\"><defs /><text text-anchor=\"middle\" x=\"50%\" y=\"1em\">digseq</text></svg><svg width=\"46.6667%\" x=\"0%\" y=\"3em\"><defs /><svg width=\"100%\" x=\"0\" y=\"0em\"><defs /><text text-anchor=\"middle\" x=\"50%\" y=\"1em\">digit</text></svg><svg width=\"100%\" x=\"0%\" y=\"3em\"><defs /><svg width=\"100%\" x=\"0\" y=\"0em\"><defs /><text text-anchor=\"middle\" x=\"50%\" y=\"1em\">7</text></svg></svg><line stroke=\"black\" x1=\"50%\" x2=\"50%\" y1=\"1.2em\" y2=\"3em\" /></svg><line stroke=\"black\" x1=\"50%\" x2=\"23.3333%\" y1=\"1.2em\" y2=\"3em\" /><svg width=\"53.3333%\" x=\"46.6667%\" y=\"3em\"><defs /><svg width=\"100%\" x=\"0\" y=\"0em\"><defs /><text text-anchor=\"middle\" x=\"50%\" y=\"1em\">digseq</text></svg><svg width=\"100%\" x=\"0%\" y=\"3em\"><defs /><svg width=\"100%\" x=\"0\" y=\"0em\"><defs /><text text-anchor=\"middle\" x=\"50%\" y=\"1em\">digit</text></svg><svg width=\"100%\" x=\"0%\" y=\"3em\"><defs /><svg width=\"100%\" x=\"0\" y=\"0em\"><defs /><text text-anchor=\"middle\" x=\"50%\" y=\"1em\">5</text></svg></svg><line stroke=\"black\" x1=\"50%\" x2=\"50%\" y1=\"1.2em\" y2=\"3em\" /></svg><line stroke=\"black\" x1=\"50%\" x2=\"50%\" y1=\"1.2em\" y2=\"3em\" /></svg><line stroke=\"black\" x1=\"50%\" x2=\"73.3333%\" y1=\"1.2em\" y2=\"3em\" /></svg><line stroke=\"black\" x1=\"50%\" x2=\"65.9091%\" y1=\"1.2em\" y2=\"3em\" /></svg><line stroke=\"black\" x1=\"50%\" x2=\"62.069%\" y1=\"1.2em\" y2=\"3em\" /></svg><line stroke=\"black\" x1=\"50%\" x2=\"75.8333%\" y1=\"1.2em\" y2=\"3em\" /></svg><line stroke=\"black\" x1=\"50%\" x2=\"34.0909%\" y1=\"1.2em\" y2=\"3em\" /><svg width=\"5.68182%\" x=\"68.1818%\" y=\"3em\"><defs /><svg width=\"100%\" x=\"0\" y=\"0em\"><defs /><text text-anchor=\"middle\" x=\"50%\" y=\"1em\">exp</text></svg><svg width=\"100%\" x=\"0%\" y=\"3em\"><defs /><svg width=\"100%\" x=\"0\" y=\"0em\"><defs /><text text-anchor=\"middle\" x=\"50%\" y=\"1em\">e</text></svg></svg><line stroke=\"black\" x1=\"50%\" x2=\"50%\" y1=\"1.2em\" y2=\"3em\" /></svg><line stroke=\"black\" x1=\"50%\" x2=\"71.0227%\" y1=\"1.2em\" y2=\"3em\" /><svg width=\"17.0455%\" x=\"73.8636%\" y=\"3em\"><defs /><svg width=\"100%\" x=\"0\" y=\"0em\"><defs /><text text-anchor=\"middle\" x=\"50%\" y=\"1em\">int</text></svg><svg width=\"100%\" x=\"0%\" y=\"3em\"><defs /><svg width=\"100%\" x=\"0\" y=\"0em\"><defs /><text text-anchor=\"middle\" x=\"50%\" y=\"1em\">digseq</text></svg><svg width=\"46.6667%\" x=\"0%\" y=\"3em\"><defs /><svg width=\"100%\" x=\"0\" y=\"0em\"><defs /><text text-anchor=\"middle\" x=\"50%\" y=\"1em\">digit</text></svg><svg width=\"100%\" x=\"0%\" y=\"3em\"><defs /><svg width=\"100%\" x=\"0\" y=\"0em\"><defs /><text text-anchor=\"middle\" x=\"50%\" y=\"1em\">3</text></svg></svg><line stroke=\"black\" x1=\"50%\" x2=\"50%\" y1=\"1.2em\" y2=\"3em\" /></svg><line stroke=\"black\" x1=\"50%\" x2=\"23.3333%\" y1=\"1.2em\" y2=\"3em\" /><svg width=\"53.3333%\" x=\"46.6667%\" y=\"3em\"><defs /><svg width=\"100%\" x=\"0\" y=\"0em\"><defs /><text text-anchor=\"middle\" x=\"50%\" y=\"1em\">digseq</text></svg><svg width=\"100%\" x=\"0%\" y=\"3em\"><defs /><svg width=\"100%\" x=\"0\" y=\"0em\"><defs /><text text-anchor=\"middle\" x=\"50%\" y=\"1em\">digit</text></svg><svg width=\"100%\" x=\"0%\" y=\"3em\"><defs /><svg width=\"100%\" x=\"0\" y=\"0em\"><defs /><text text-anchor=\"middle\" x=\"50%\" y=\"1em\">5</text></svg></svg><line stroke=\"black\" x1=\"50%\" x2=\"50%\" y1=\"1.2em\" y2=\"3em\" /></svg><line stroke=\"black\" x1=\"50%\" x2=\"50%\" y1=\"1.2em\" y2=\"3em\" /></svg><line stroke=\"black\" x1=\"50%\" x2=\"73.3333%\" y1=\"1.2em\" y2=\"3em\" /></svg><line stroke=\"black\" x1=\"50%\" x2=\"50%\" y1=\"1.2em\" y2=\"3em\" /></svg><line stroke=\"black\" x1=\"50%\" x2=\"82.3864%\" y1=\"1.2em\" y2=\"3em\" /><svg width=\"9.09091%\" x=\"90.9091%\" y=\"3em\"><defs /><svg width=\"100%\" x=\"0\" y=\"0em\"><defs /><text text-anchor=\"middle\" x=\"50%\" y=\"1em\">suffix</text></svg><svg width=\"100%\" x=\"0%\" y=\"3em\"><defs /><svg width=\"100%\" x=\"0\" y=\"0em\"><defs /><text text-anchor=\"middle\" x=\"50%\" y=\"1em\">F</text></svg></svg><line stroke=\"black\" x1=\"50%\" x2=\"50%\" y1=\"1.2em\" y2=\"3em\" /></svg><line stroke=\"black\" x1=\"50%\" x2=\"95.4545%\" y1=\"1.2em\" y2=\"3em\" /></svg>"
          },
          "metadata": {},
          "execution_count": 47
        }
      ],
      "source": [
        "trees[0]"
      ]
    },
    {
      "cell_type": "markdown",
      "metadata": {
        "id": "HDJeyzV5kdRj"
      },
      "source": [
        "## Exercise 4.34"
      ]
    },
    {
      "cell_type": "code",
      "execution_count": 48,
      "metadata": {
        "id": "a5YPE3CDkdRj"
      },
      "outputs": [],
      "source": [
        "grammar = CFG.fromstring(\"\"\"\n",
        "statement  ->  'if' condition 'then' sentence | sentence\n",
        "sentence  ->  'if' condition 'then' sentence 'else' statement | result\n",
        "condition -> 'c1' | 'c2' | 'c3'\n",
        "result  ->  'r1' | 'r2' | 'r3'\n",
        "\"\"\")"
      ]
    },
    {
      "cell_type": "code",
      "execution_count": 49,
      "metadata": {
        "colab": {
          "base_uri": "https://localhost:8080/"
        },
        "id": "Xb8MeaWCkdRj",
        "outputId": "d9b1297a-a2d9-4204-de57-8d0f18701a44"
      },
      "outputs": [
        {
          "output_type": "stream",
          "name": "stdout",
          "text": [
            "r3\n",
            "if c2 then if c2 then if c1 then if c3 then if c2 then if c3 then r3 else if c2 then if c3 then r1 else if c3 then r1 else if c3 then if c3 then r2 else if c2 then r3 else r2 else r3 else r3 else if c3 then r1 else if c3 then r1 else if c1 then if c1 then r2 else if c1 then if c3 then r1 else if c1 then if c1 then if c2 then r3 else if c2 then r2 else if c1 then if c2 then if c3 then if c2 then if c3 then r2 else if c1 then r2 else if c1 then if c2 then if c3 then if c2 then if c2 then if c3 then r3 else r1 else r3 else if c1 then if c3 then if c2 then if c2 then if c1 then if c2 then if c2 then r1 else if c1 then if c1 then r1 else if c2 then if c1 then r3 else if c1 then r1 else if c1 then r1 else if c2 then if c2 then r1 else if c2 then if c2 then r2 else if c2 then r2 else if c2 then if c1 then r1 else if c3 then r1 else r3 else if c2 then if c2 then if c3 then if c1 then if c2 then if c1 then r3 else r2 else r2 else if c2 then r1 else r2 else if c3 then r3 else if c2 then r3 else if c2 then if c1 then if c1 then r2 else if c1 then if c2 then r3 else if c2 then if c1 then if c3 then r3 else if c3 then if c1 then if c1 then r2 else if c2 then if c2 then r2 else if c1 then if c1 then r2 else r1 else if c3 then if c3 then if c2 then r1 else if c2 then r2 else if c1 then if c1 then if c1 then r3 else if c2 then r1 else if c3 then if c1 then r3 else if c2 then r3 else if c1 then if c2 then if c2 then if c2 then r3 else r2 else if c3 then if c1 then r1 else if c2 then if c3 then r3 else if c3 then if c2 then if c3 then if c2 then if c1 then if c1 then if c2 then r2 else r2 else r3 else if c2 then if c2 then r1 else r3 else if c3 then if c3 then if c1 then if c1 then r3 else r2 else r2 else if c1 then r1 else if c3 then r2 else if c3 then if c3 then if c3 then r3 else if c2 then if c1 then if c3 then if c2 then if c1 then if c2 then if c2 then if c1 then if c1 then r2 else if c2 then r2 else if c1 then if c2 then r1 else if c3 then if c1 then if c1 then if c3 then r1 else r3 else if c1 then if c2 then r1 else r3 else if c1 then r2 else if c2 then if c1 then r1 else if c1 then r1 else if c1 then r3 else r2 else if c3 then r3 else if c1 then if c1 then if c3 then r2 else if c3 then r1 else r3 else if c1 then r3 else if c1 then r1 else r2 else if c1 then r3 else if c2 then if c1 then if c3 then r3 else if c3 then r1 else if c2 then if c1 then if c3 then if c2 then r1 else if c1 then r2 else if c3 then if c1 then r1 else if c3 then if c3 then r1 else if c1 then r1 else if c3 then if c3 then if c3 then if c1 then if c2 then if c3 then if c1 then if c3 then if c3 then if c1 then if c3 then if c1 then r3 else if c1 then r1 else if c1 then r1 else if c1 then r2 else if c2 then if c3 then if c1 then if c2 then if c2 then r2 else if c2 then if c1 then r2 else if c2 then if c3 then r1 else if c2 then if c1 then r2 else if c2 then if c3 then r1 else if c3 then if c2 then if c1 then if c1 then if c1 then r2 else if c1 then r3 else if c3 then r1 else if c3 then r1 else if c1 then if c3 then r2 else if c3 then if c2 then r2 else if c3 then r3 else if c2 then if c1 then r3 else if c1 then r1 else if c3 then if c1 then if c2 then r2 else r2 else if c2 then r1 else if c1 then if c1 then if c2 then if c1 then r3 else if c1 then if c3 then r3 else r3 else if c3 then if c2 then r2 else if c1 then r2 else if c2 then r2 else r2 else r1 else r2 else if c1 then r3 else if c2 then if c2 then r2 else if c2 then r1 else r2 else r1 else r2 else if c2 then if c2 then r1 else if c2 then if c1 then r1 else r3 else if c2 then if c1 then r2 else if c1 then if c2 then r1 else if c2 then r2 else if c3 then if c3 then if c1 then if c2 then r3 else if c3 then if c1 then r1 else if c2 then r2 else if c2 then if c3 then r3 else r2 else r2 else if c3 then if c3 then r3 else if c3 then if c2 then if c1 then if c3 then if c2 then if c1 then if c2 then if c2 then if c2 then if c3 then if c3 then if c3 then if c3 then if c1 then if c1 then r2 else r2 else r1 else if c1 then if c3 then if c1 then r3 else r1 else if c3 then r3 else if c2 then r1 else if c3 then r1 else if c2 then if c1 then r2 else r3 else r1 else if c2 then r1 else if c3 then r3 else if c1 then r1 else if c2 then r3 else if c3 then r3 else if c3 then r1 else r1 else if c2 then r2 else if c1 then r2 else if c1 then r3 else if c2 then r1 else if c3 then if c3 then if c1 then r1 else r1 else r1 else if c3 then if c1 then if c2 then r3 else r1 else if c1 then r3 else if c2 then r2 else if c2 then if c2 then r3 else if c1 then r3 else if c1 then if c1 then if c3 then if c2 then if c2 then r2 else if c2 then r2 else r3 else r1 else if c1 then r1 else r2 else if c3 then r1 else if c2 then if c2 then if c2 then r3 else if c1 then r1 else if c3 then r3 else if c1 then if c3 then if c3 then r1 else if c2 then r2 else r3 else if c1 then if c3 then if c3 then r3 else if c3 then r2 else if c1 then if c2 then r2 else if c1 then r3 else if c1 then r1 else if c2 then if c1 then if c1 then r3 else if c3 then if c1 then if c2 then r3 else r2 else r2 else if c3 then if c2 then if c1 then if c3 then r1 else if c3 then if c1 then if c3 then if c2 then r3 else if c1 then if c1 then r2 else r3 else if c3 then r1 else if c3 then r1 else if c1 then r2 else if c1 then r1 else if c3 then if c1 then r2 else r3 else if c3 then r2 else if c3 then if c3 then r1 else if c3 then r3 else r1 else r3 else r3 else if c2 then if c1 then r1 else r2 else r1 else r2 else r1 else r2 else if c1 then if c1 then r2 else r3 else if c1 then if c1 then r1 else if c1 then r3 else if c2 then r3 else if c3 then r2 else r1 else if c2 then if c1 then if c2 then r2 else if c2 then r1 else if c3 then r2 else if c1 then if c2 then r3 else if c3 then r3 else if c2 then if c2 then if c1 then r3 else if c2 then r3 else if c1 then r3 else if c3 then r1 else if c1 then r3 else if c3 then r2 else if c1 then r1 else if c2 then if c1 then r3 else if c3 then r3 else if c1 then r2 else if c1 then if c2 then if c2 then r1 else if c3 then if c3 then if c3 then if c1 then r1 else if c3 then r2 else r2 else if c1 then if c1 then r3 else if c3 then r2 else if c3 then r2 else if c2 then r3 else r2 else if c1 then r1 else if c3 then r2 else if c1 then r2 else if c2 then if c1 then r3 else if c3 then if c3 then r1 else if c3 then r2 else if c3 then r3 else if c3 then r3 else r3 else if c3 then if c1 then if c2 then if c1 then r1 else if c1 then r2 else r3 else if c2 then r2 else if c3 then if c1 then r1 else if c3 then r3 else if c3 then r3 else if c3 then if c2 then if c3 then r1 else if c1 then if c2 then if c3 then r3 else if c1 then if c2 then if c2 then r3 else r3 else if c1 then if c3 then r1 else r3 else if c2 then if c3 then r1 else if c2 then if c1 then if c3 then if c3 then r1 else r3 else if c1 then if c1 then if c3 then if c3 then r2 else if c3 then if c2 then r1 else if c2 then if c2 then if c3 then if c2 then if c3 then r2 else r1 else if c2 then r1 else if c3 then if c3 then if c1 then r3 else if c2 then if c1 then if c3 then if c1 then r2 else if c1 then r3 else r3 else r2 else if c2 then r1 else if c3 then if c3 then r3 else if c2 then if c2 then r1 else r3 else r3 else if c1 then if c3 then if c1 then if c1 then r3 else if c2 then if c1 then r3 else if c3 then r1 else r3 else r3 else if c1 then if c1 then r3 else if c1 then r1 else r2 else if c1 then if c2 then if c3 then if c1 then r2 else if c1 then if c3 then if c3 then if c3 then r1 else r3 else r1 else if c3 then if c1 then r3 else if c2 then r1 else if c1 then if c1 then if c1 then if c2 then if c2 then if c3 then r1 else if c1 then r3 else if c1 then r1 else if c3 then r1 else if c1 then if c2 then if c1 then if c2 then if c1 then if c3 then if c1 then r2 else r3 else r3 else if c3 then r1 else if c3 then r3 else if c3 then r1 else if c1 then r1 else r1 else if c2 then if c3 then r3 else r2 else if c3 then r1 else r2 else if c1 then r2 else if c1 then if c1 then r1 else if c2 then r3 else if c2 then r3 else if c1 then r2 else if c3 then r3 else if c2 then r2 else r2 else if c3 then r3 else if c3 then if c2 then r3 else if c3 then r1 else if c2 then if c3 then if c3 then if c1 then r3 else r1 else if c2 then if c3 then r1 else if c1 then if c1 then if c1 then if c1 then r3 else if c1 then r3 else r3 else r2 else if c3 then if c1 then r1 else if c1 then r2 else if c1 then r2 else if c2 then if c2 then r2 else r1 else if c2 then if c1 then r1 else if c3 then if c3 then if c1 then r1 else r2 else if c2 then r2 else if c1 then if c2 then if c3 then if c1 then r3 else if c3 then if c2 then r2 else if c3 then r2 else r3 else if c3 then if c1 then if c3 then r2 else if c1 then if c2 then if c2 then if c1 then if c1 then r1 else if c2 then r3 else r1 else r1 else if c1 then r3 else if c1 then r2 else if c1 then if c3 then if c2 then if c1 then if c2 then r3 else if c2 then if c2 then if c1 then r1 else if c3 then r2 else r3 else if c1 then r1 else if c1 then if c3 then r3 else if c3 then r3 else if c1 then if c1 then r2 else if c3 then if c1 then if c3 then if c3 then r3 else if c2 then r3 else if c1 then if c1 then if c2 then if c1 then if c1 then r2 else r2 else if c1 then r3 else r3 else if c1 then r3 else r1 else if c2 then if c1 then if c1 then if c1 then r3 else if c3 then r3 else if c3 then if c2 then if c3 then if c3 then r2 else if c1 then r3 else if c1 then if c1 then r1 else if c1 then r1 else if c3 then if c1 then r3 else if c1 then if c1 then r1 else if c1 then if c1 then r1 else if c1 then if c2 then r2 else if c3 then if c3 then if c3 then r1 else if c2 then if c3 then if c1 then if c2 then r3 else if c2 then if c3 then r2 else r2 else if c2 then if c3 then r1 else r1 else if c3 then r3 else if c1 then if c3 then r3 else if c1 then r2 else if c3 then if c3 then if c1 then r3 else if c2 then r2 else if c1 then if c1 then r2 else if c2 then r1 else if c2 then r2 else if c3 then r2 else if c1 then r3 else if c3 then if c3 then r1 else if c2 then r3 else r1 else r1 else if c2 then if c2 then if c3 then if c2 then if c1 then if c2 then r1 else if c3 then r3 else if c3 then if c3 then r1 else if c3 then r1 else if c1 then if c3 then r1 else r3 else if c1 then if c2 then r3 else r1 else r2 else if c1 then r1 else r3 else if c2 then if c3 then if c2 then if c3 then if c3 then if c2 then r1 else if c1 then r2 else if c3 then if c1 then r2 else if c1 then if c1 then r2 else if c3 then r2 else if c3 then if c2 then if c3 then if c1 then r1 else if c2 then if c3 then r1 else r1 else if c3 then if c2 then if c3 then r2 else if c2 then if c2 then if c3 then if c2 then r2 else if c1 then r2 else if c2 then r3 else if c3 then if c1 then r2 else if c1 then if c3 then r3 else r2 else if c3 then if c1 then r3 else if c1 then if c1 then r1 else if c1 then if c2 then r2 else if c1 then r2 else r1 else if c3 then r2 else if c1 then if c1 then if c3 then r2 else if c2 then r2 else if c3 then if c3 then r3 else if c3 then if c2 then r1 else if c1 then if c3 then if c3 then if c2 then if c1 then r3 else r2 else r2 else if c2 then if c3 then if c3 then r3 else r2 else if c1 then if c3 then if c3 then r3 else if c2 then r2 else if c2 then r1 else r2 else if c2 then r3 else if c3 then r1 else if c3 then if c1 then if c2 then if c2 then r1 else if c1 then r1 else if c1 then if c3 then r3 else if c1 then if c1 then if c3 then r2 else r2 else r2 else if c3 then r2 else if c3 then if c2 then if c3 then r1 else if c2 then if c2 then r2 else if c3 then r3 else if c2 then if c2 then if c1 then r2 else if c1 then if c1 then r1 else if c3 then if c3 then if c3 then if c1 then r3 else if c3 then r1 else if c2 then if c1 then if c2 then if c1 then r1 else r2 else r2 else if c3 then r3 else if c1 then r3 else if c1 then if c2 then if c3 then r3 else if c1 then if c3 then if c3 then r3 else if c1 then if c1 then r2 else if c2 then if c1 then r1 else if c1 then r3 else if c2 then if c2 then r2 else if c3 then if c3 then if c1 then r2 else if c3 then if c1 then r3 else if c2 then r3 else r1 else r1 else r2 else if c2 then if c2 then if c3 then r2 else r1 else if c3 then r1 else if c1 then if c2 then r3 else if c3 then if c3 then if c1 then r1 else r2 else if c1 then if c2 then r3 else if c2 then if c3 then r3 else if c3 then if c2 then r2 else r2 else if c1 then r3 else if c3 then if c2 then r2 else r2 else r3 else if c1 then if c2 then r2 else if c1 then if c3 then r3 else if c2 then r1 else if c3 then if c1 then r3 else if c2 then if c3 then if c3 then r3 else r2 else r3 else if c3 then if c2 then if c1 then r1 else if c2 then r1 else if c1 then if c1 then r2 else r2 else if c3 then r3 else if c2 then r1 else if c1 then if c2 then if c1 then if c3 then r1 else if c1 then r1 else r1 else r2 else if c2 then if c1 then r3 else r1 else if c2 then if c2 then if c1 then if c1 then r2 else if c1 then if c1 then r3 else if c1 then r1 else if c1 then r2 else if c2 then if c2 then if c1 then if c3 then r2 else if c1 then r1 else if c1 then r1 else r3 else if c2 then if c2 then if c2 then r2 else r3 else if c2 then if c3 then r1 else if c3 then if c3 then if c3 then if c3 then r1 else if c2 then r3 else r3 else r1 else if c3 then if c2 then if c2 then if c1 then if c2 then r3 else if c2 then if c3 then if c2 then if c3 then if c2 then r3 else r2 else if c1 then if c1 then r2 else if c1 then if c1 then r1 else r2 else if c3 then r1 else if c1 then if c1 then r2 else if c1 then r1 else if c2 then r1 else if c3 then if c1 then r1 else if c3 then r2 else if c1 then if c2 then if c2 then if c3 then r2 else if c3 then r1 else if c3 then if c1 then if c2 then r2 else if c1 then r1 else if c1 then r3 else if c2 then if c2 then r1 else if c2 then r2 else if c1 then if c1 then r2 else if c2 then if c2 then r1 else if c2 then if c3 then r1 else if c2 then r2 else if c1 then if c2 then r3 else if c2 then if c1 then r2 else if c2 then if c3 then r1 else if c2 then if c1 then r2 else if c3 then r1 else if c3 then if c2 then if c3 then r1 else r3 else if c3 then if c3 then r1 else if c1 then r3 else r1 else if c2 then r3 else if c3 then if c2 then r1 else if c1 then r3 else r1 else r2 else if c1 then if c1 then r1 else if c2 then r1 else r3 else if c1 then if c1 then if c3 then if c1 then r1 else if c1 then if c3 then r2 else if c2 then r3 else if c3 then if c1 then r1 else if c3 then r1 else if c3 then r2 else if c1 then r3 else if c1 then if c3 then r3 else if c2 then r3 else if c1 then if c2 then if c3 then r2 else if c1 then r3 else r3 else if c3 then if c1 then r2 else if c1 then r2 else if c1 then if c3 then if c1 then r2 else if c3 then if c2 then r1 else if c2 then if c3 then if c2 then if c1 then if c1 then r1 else if c3 then if c2 then r3 else r1 else if c2 then if c2 then r2 else if c3 then if c3 then r1 else r3 else r1 else if c2 then r3 else if c1 then if c3 then r2 else r1 else r3 else r2 else if c1 then if c3 then if c1 then if c1 then if c2 then if c1 then if c1 then r2 else r2 else r3 else r2 else if c3 then r2 else if c2 then if c2 then if c3 then r2 else if c3 then if c3 then if c2 then r1 else if c3 then r3 else if c2 then if c2 then if c2 then if c3 then if c1 then if c2 then r3 else r3 else if c2 then r3 else r3 else r2 else if c1 then if c3 then if c2 then r1 else if c2 then r2 else r2 else if c2 then r1 else if c2 then if c2 then r1 else r2 else r1 else r2 else r1 else if c3 then r2 else if c2 then if c1 then r3 else r2 else if c2 then if c3 then r3 else if c2 then if c3 then r1 else if c3 then if c3 then r2 else if c1 then if c2 then r1 else r1 else r2 else if c1 then r3 else if c3 then r2 else r1 else if c1 then if c2 then if c1 then r1 else if c1 then if c3 then r1 else if c2 then if c1 then r1 else if c2 then if c2 then if c2 then if c3 then if c1 then r3 else r3 else if c3 then if c2 then r1 else if c2 then if c2 then r3 else if c3 then if c3 then r2 else if c3 then r1 else if c2 then if c3 then if c2 then r2 else if c1 then r2 else if c1 then r1 else if c1 then if c2 then if c1 then r1 else if c1 then if c3 then if c1 then r3 else if c1 then r3 else if c1 then r2 else if c2 then if c1 then if c3 then if c2 then r2 else if c1 then r2 else r1 else if c3 then if c2 then r1 else if c3 then if c1 then r2 else r3 else if c1 then if c3 then if c3 then r3 else if c1 then r3 else r1 else if c2 then r3 else r1 else if c1 then r2 else r1 else if c2 then r1 else if c3 then if c2 then if c1 then if c1 then if c1 then r2 else if c1 then r2 else if c1 then r1 else if c2 then if c3 then r1 else r3 else if c2 then if c1 then r3 else if c3 then if c2 then r2 else if c1 then r3 else if c1 then if c2 then r3 else r2 else r1 else r1 else if c3 then if c3 then r3 else if c1 then if c2 then if c2 then if c2 then r1 else r1 else if c1 then r1 else r1 else if c2 then if c1 then r2 else if c2 then r3 else r3 else r1 else if c3 then if c3 then r2 else if c3 then r2 else r2 else if c1 then r3 else if c3 then r3 else if c1 then r3 else if c3 then if c3 then r3 else if c2 then if c2 then r2 else if c1 then if c2 then if c3 then if c2 then r3 else if c1 then if c2 then if c1 then if c3 then r2 else if c3 then r1 else if c2 then r3 else if c3 then if c3 then if c2 then if c1 then if c3 then r1 else r2 else if c3 then r3 else if c3 then r1 else if c3 then if c1 then if c3 then r1 else if c3 then r3 else if c2 then r1 else if c1 then r2 else r1 else if c2 then if c3 then if c3 then r2 else if c3 then if c1 then r3 else if c2 then r3 else r2 else if c3 then r1 else if c2 then if c3 then r3 else if c3 then if c3 then r2 else if c2 then if c3 then r1 else r3 else if c3 then if c1 then if c2 then r3 else r1 else if c3 then if c1 then r1 else if c2 then r1 else if c3 then if c1 then if c2 then if c2 then if c3 then if c1 then if c1 then if c1 then r1 else if c1 then r3 else if c3 then r1 else if c3 then if c1 then if c3 then if c1 then r2 else r1 else r2 else if c3 then if c3 then r3 else if c2 then if c1 then if c1 then r1 else if c3 then if c1 then if c1 then r2 else if c3 then r2 else if c2 then r3 else if c1 then r1 else if c2 then r2 else if c3 then r2 else if c2 then r1 else if c1 then r3 else if c3 then if c3 then if c2 then r3 else if c3 then r2 else r1 else r1 else if c2 then r3 else if c1 then if c3 then r3 else if c3 then r3 else if c3 then r1 else if c1 then if c1 then if c2 then r3 else if c1 then r2 else r2 else if c3 then if c3 then if c3 then if c2 then if c1 then r3 else if c1 then if c2 then r1 else if c1 then r2 else if c3 then r3 else if c2 then r3 else if c3 then if c2 then r3 else if c3 then if c2 then if c2 then r3 else if c1 then if c2 then r3 else if c3 then r2 else if c1 then if c2 then r3 else r1 else r1 else if c3 then if c2 then if c3 then if c2 then r3 else if c3 then r3 else r3 else if c1 then r2 else if c3 then r2 else if c1 then r1 else if c3 then if c3 then if c3 then r3 else if c3 then r2 else if c1 then if c2 then if c3 then r3 else r2 else if c1 then if c2 then r1 else if c3 then r2 else r1 else if c3 then if c2 then r3 else if c2 then r2 else r3 else r3 else r3 else if c1 then r3 else r2\n",
            "if c3 then r2\n",
            "if c3 then r1\n",
            "if c2 then r1\n"
          ]
        }
      ],
      "source": [
        "for sent in random_sentences(grammar, n=5):\n",
        "    print(join(sent))"
      ]
    },
    {
      "cell_type": "code",
      "execution_count": 50,
      "metadata": {
        "colab": {
          "base_uri": "https://localhost:8080/",
          "height": 381
        },
        "id": "5Qk92QJFkdRk",
        "outputId": "971c9aad-486f-4228-c9e6-23e213d25e8a"
      },
      "outputs": [
        {
          "output_type": "execute_result",
          "data": {
            "text/plain": [
              "Tree('statement', ['if', Tree('condition', ['c1']), 'then', Tree('sentence', ['if', Tree('condition', ['c2']), 'then', Tree('sentence', [Tree('result', ['r1'])]), 'else', Tree('statement', [Tree('sentence', ['if', Tree('condition', ['c3']), 'then', Tree('sentence', [Tree('result', ['r2'])]), 'else', Tree('statement', [Tree('sentence', [Tree('result', ['r3'])])])])])])])"
            ],
            "image/svg+xml": "<svg baseProfile=\"full\" height=\"360px\" preserveAspectRatio=\"xMidYMid meet\" style=\"font-family: times, serif; font-weight:normal; font-style: normal; font-size: 16px;\" version=\"1.1\" viewBox=\"0,0,848.0,360.0\" width=\"848px\" xmlns=\"http://www.w3.org/2000/svg\" xmlns:ev=\"http://www.w3.org/2001/xml-events\" xmlns:xlink=\"http://www.w3.org/1999/xlink\"><defs /><svg width=\"100%\" x=\"0\" y=\"0em\"><defs /><text text-anchor=\"middle\" x=\"50%\" y=\"1em\">statement</text></svg><svg width=\"3.77358%\" x=\"0%\" y=\"3em\"><defs /><svg width=\"100%\" x=\"0\" y=\"0em\"><defs /><text text-anchor=\"middle\" x=\"50%\" y=\"1em\">if</text></svg></svg><line stroke=\"black\" x1=\"50%\" x2=\"1.88679%\" y1=\"1.2em\" y2=\"3em\" /><svg width=\"10.3774%\" x=\"3.77358%\" y=\"3em\"><defs /><svg width=\"100%\" x=\"0\" y=\"0em\"><defs /><text text-anchor=\"middle\" x=\"50%\" y=\"1em\">condition</text></svg><svg width=\"100%\" x=\"0%\" y=\"3em\"><defs /><svg width=\"100%\" x=\"0\" y=\"0em\"><defs /><text text-anchor=\"middle\" x=\"50%\" y=\"1em\">c1</text></svg></svg><line stroke=\"black\" x1=\"50%\" x2=\"50%\" y1=\"1.2em\" y2=\"3em\" /></svg><line stroke=\"black\" x1=\"50%\" x2=\"8.96226%\" y1=\"1.2em\" y2=\"3em\" /><svg width=\"5.66038%\" x=\"14.1509%\" y=\"3em\"><defs /><svg width=\"100%\" x=\"0\" y=\"0em\"><defs /><text text-anchor=\"middle\" x=\"50%\" y=\"1em\">then</text></svg></svg><line stroke=\"black\" x1=\"50%\" x2=\"16.9811%\" y1=\"1.2em\" y2=\"3em\" /><svg width=\"80.1887%\" x=\"19.8113%\" y=\"3em\"><defs /><svg width=\"100%\" x=\"0\" y=\"0em\"><defs /><text text-anchor=\"middle\" x=\"50%\" y=\"1em\">sentence</text></svg><svg width=\"4.70588%\" x=\"0%\" y=\"3em\"><defs /><svg width=\"100%\" x=\"0\" y=\"0em\"><defs /><text text-anchor=\"middle\" x=\"50%\" y=\"1em\">if</text></svg></svg><line stroke=\"black\" x1=\"50%\" x2=\"2.35294%\" y1=\"1.2em\" y2=\"3em\" /><svg width=\"12.9412%\" x=\"4.70588%\" y=\"3em\"><defs /><svg width=\"100%\" x=\"0\" y=\"0em\"><defs /><text text-anchor=\"middle\" x=\"50%\" y=\"1em\">condition</text></svg><svg width=\"100%\" x=\"0%\" y=\"3em\"><defs /><svg width=\"100%\" x=\"0\" y=\"0em\"><defs /><text text-anchor=\"middle\" x=\"50%\" y=\"1em\">c2</text></svg></svg><line stroke=\"black\" x1=\"50%\" x2=\"50%\" y1=\"1.2em\" y2=\"3em\" /></svg><line stroke=\"black\" x1=\"50%\" x2=\"11.1765%\" y1=\"1.2em\" y2=\"3em\" /><svg width=\"7.05882%\" x=\"17.6471%\" y=\"3em\"><defs /><svg width=\"100%\" x=\"0\" y=\"0em\"><defs /><text text-anchor=\"middle\" x=\"50%\" y=\"1em\">then</text></svg></svg><line stroke=\"black\" x1=\"50%\" x2=\"21.1765%\" y1=\"1.2em\" y2=\"3em\" /><svg width=\"11.7647%\" x=\"24.7059%\" y=\"3em\"><defs /><svg width=\"100%\" x=\"0\" y=\"0em\"><defs /><text text-anchor=\"middle\" x=\"50%\" y=\"1em\">sentence</text></svg><svg width=\"100%\" x=\"0%\" y=\"3em\"><defs /><svg width=\"100%\" x=\"0\" y=\"0em\"><defs /><text text-anchor=\"middle\" x=\"50%\" y=\"1em\">result</text></svg><svg width=\"100%\" x=\"0%\" y=\"3em\"><defs /><svg width=\"100%\" x=\"0\" y=\"0em\"><defs /><text text-anchor=\"middle\" x=\"50%\" y=\"1em\">r1</text></svg></svg><line stroke=\"black\" x1=\"50%\" x2=\"50%\" y1=\"1.2em\" y2=\"3em\" /></svg><line stroke=\"black\" x1=\"50%\" x2=\"50%\" y1=\"1.2em\" y2=\"3em\" /></svg><line stroke=\"black\" x1=\"50%\" x2=\"30.5882%\" y1=\"1.2em\" y2=\"3em\" /><svg width=\"7.05882%\" x=\"36.4706%\" y=\"3em\"><defs /><svg width=\"100%\" x=\"0\" y=\"0em\"><defs /><text text-anchor=\"middle\" x=\"50%\" y=\"1em\">else</text></svg></svg><line stroke=\"black\" x1=\"50%\" x2=\"40%\" y1=\"1.2em\" y2=\"3em\" /><svg width=\"56.4706%\" x=\"43.5294%\" y=\"3em\"><defs /><svg width=\"100%\" x=\"0\" y=\"0em\"><defs /><text text-anchor=\"middle\" x=\"50%\" y=\"1em\">statement</text></svg><svg width=\"100%\" x=\"0%\" y=\"3em\"><defs /><svg width=\"100%\" x=\"0\" y=\"0em\"><defs /><text text-anchor=\"middle\" x=\"50%\" y=\"1em\">sentence</text></svg><svg width=\"8.33333%\" x=\"0%\" y=\"3em\"><defs /><svg width=\"100%\" x=\"0\" y=\"0em\"><defs /><text text-anchor=\"middle\" x=\"50%\" y=\"1em\">if</text></svg></svg><line stroke=\"black\" x1=\"50%\" x2=\"4.16667%\" y1=\"1.2em\" y2=\"3em\" /><svg width=\"22.9167%\" x=\"8.33333%\" y=\"3em\"><defs /><svg width=\"100%\" x=\"0\" y=\"0em\"><defs /><text text-anchor=\"middle\" x=\"50%\" y=\"1em\">condition</text></svg><svg width=\"100%\" x=\"0%\" y=\"3em\"><defs /><svg width=\"100%\" x=\"0\" y=\"0em\"><defs /><text text-anchor=\"middle\" x=\"50%\" y=\"1em\">c3</text></svg></svg><line stroke=\"black\" x1=\"50%\" x2=\"50%\" y1=\"1.2em\" y2=\"3em\" /></svg><line stroke=\"black\" x1=\"50%\" x2=\"19.7917%\" y1=\"1.2em\" y2=\"3em\" /><svg width=\"12.5%\" x=\"31.25%\" y=\"3em\"><defs /><svg width=\"100%\" x=\"0\" y=\"0em\"><defs /><text text-anchor=\"middle\" x=\"50%\" y=\"1em\">then</text></svg></svg><line stroke=\"black\" x1=\"50%\" x2=\"37.5%\" y1=\"1.2em\" y2=\"3em\" /><svg width=\"20.8333%\" x=\"43.75%\" y=\"3em\"><defs /><svg width=\"100%\" x=\"0\" y=\"0em\"><defs /><text text-anchor=\"middle\" x=\"50%\" y=\"1em\">sentence</text></svg><svg width=\"100%\" x=\"0%\" y=\"3em\"><defs /><svg width=\"100%\" x=\"0\" y=\"0em\"><defs /><text text-anchor=\"middle\" x=\"50%\" y=\"1em\">result</text></svg><svg width=\"100%\" x=\"0%\" y=\"3em\"><defs /><svg width=\"100%\" x=\"0\" y=\"0em\"><defs /><text text-anchor=\"middle\" x=\"50%\" y=\"1em\">r2</text></svg></svg><line stroke=\"black\" x1=\"50%\" x2=\"50%\" y1=\"1.2em\" y2=\"3em\" /></svg><line stroke=\"black\" x1=\"50%\" x2=\"50%\" y1=\"1.2em\" y2=\"3em\" /></svg><line stroke=\"black\" x1=\"50%\" x2=\"54.1667%\" y1=\"1.2em\" y2=\"3em\" /><svg width=\"12.5%\" x=\"64.5833%\" y=\"3em\"><defs /><svg width=\"100%\" x=\"0\" y=\"0em\"><defs /><text text-anchor=\"middle\" x=\"50%\" y=\"1em\">else</text></svg></svg><line stroke=\"black\" x1=\"50%\" x2=\"70.8333%\" y1=\"1.2em\" y2=\"3em\" /><svg width=\"22.9167%\" x=\"77.0833%\" y=\"3em\"><defs /><svg width=\"100%\" x=\"0\" y=\"0em\"><defs /><text text-anchor=\"middle\" x=\"50%\" y=\"1em\">statement</text></svg><svg width=\"100%\" x=\"0%\" y=\"3em\"><defs /><svg width=\"100%\" x=\"0\" y=\"0em\"><defs /><text text-anchor=\"middle\" x=\"50%\" y=\"1em\">sentence</text></svg><svg width=\"100%\" x=\"0%\" y=\"3em\"><defs /><svg width=\"100%\" x=\"0\" y=\"0em\"><defs /><text text-anchor=\"middle\" x=\"50%\" y=\"1em\">result</text></svg><svg width=\"100%\" x=\"0%\" y=\"3em\"><defs /><svg width=\"100%\" x=\"0\" y=\"0em\"><defs /><text text-anchor=\"middle\" x=\"50%\" y=\"1em\">r3</text></svg></svg><line stroke=\"black\" x1=\"50%\" x2=\"50%\" y1=\"1.2em\" y2=\"3em\" /></svg><line stroke=\"black\" x1=\"50%\" x2=\"50%\" y1=\"1.2em\" y2=\"3em\" /></svg><line stroke=\"black\" x1=\"50%\" x2=\"50%\" y1=\"1.2em\" y2=\"3em\" /></svg><line stroke=\"black\" x1=\"50%\" x2=\"88.5417%\" y1=\"1.2em\" y2=\"3em\" /></svg><line stroke=\"black\" x1=\"50%\" x2=\"50%\" y1=\"1.2em\" y2=\"3em\" /></svg><line stroke=\"black\" x1=\"50%\" x2=\"71.7647%\" y1=\"1.2em\" y2=\"3em\" /></svg><line stroke=\"black\" x1=\"50%\" x2=\"59.9057%\" y1=\"1.2em\" y2=\"3em\" /></svg>"
          },
          "metadata": {},
          "execution_count": 50
        }
      ],
      "source": [
        "sent = \"if c1 then if c2 then r1 else if c3 then r2 else r3\"\n",
        "parser = ChartParser(grammar)\n",
        "trees = list(parser.parse(sent.split()))\n",
        "trees[0]"
      ]
    },
    {
      "cell_type": "code",
      "execution_count": 51,
      "metadata": {
        "colab": {
          "base_uri": "https://localhost:8080/",
          "height": 333
        },
        "id": "oIItcLnXkdRk",
        "outputId": "3cfef28f-8f05-484b-d924-78e91fbfb73a"
      },
      "outputs": [
        {
          "output_type": "execute_result",
          "data": {
            "text/plain": [
              "Tree('statement', [Tree('sentence', ['if', Tree('condition', ['c1']), 'then', Tree('sentence', ['if', Tree('condition', ['c2']), 'then', Tree('sentence', [Tree('result', ['r1'])]), 'else', Tree('statement', ['if', Tree('condition', ['c3']), 'then', Tree('sentence', [Tree('result', ['r2'])])])]), 'else', Tree('statement', [Tree('sentence', [Tree('result', ['r3'])])])])])"
            ],
            "image/svg+xml": "<svg baseProfile=\"full\" height=\"312px\" preserveAspectRatio=\"xMidYMid meet\" style=\"font-family: times, serif; font-weight:normal; font-style: normal; font-size: 16px;\" version=\"1.1\" viewBox=\"0,0,848.0,312.0\" width=\"848px\" xmlns=\"http://www.w3.org/2000/svg\" xmlns:ev=\"http://www.w3.org/2001/xml-events\" xmlns:xlink=\"http://www.w3.org/1999/xlink\"><defs /><svg width=\"100%\" x=\"0\" y=\"0em\"><defs /><text text-anchor=\"middle\" x=\"50%\" y=\"1em\">statement</text></svg><svg width=\"100%\" x=\"0%\" y=\"3em\"><defs /><svg width=\"100%\" x=\"0\" y=\"0em\"><defs /><text text-anchor=\"middle\" x=\"50%\" y=\"1em\">sentence</text></svg><svg width=\"3.77358%\" x=\"0%\" y=\"3em\"><defs /><svg width=\"100%\" x=\"0\" y=\"0em\"><defs /><text text-anchor=\"middle\" x=\"50%\" y=\"1em\">if</text></svg></svg><line stroke=\"black\" x1=\"50%\" x2=\"1.88679%\" y1=\"1.2em\" y2=\"3em\" /><svg width=\"10.3774%\" x=\"3.77358%\" y=\"3em\"><defs /><svg width=\"100%\" x=\"0\" y=\"0em\"><defs /><text text-anchor=\"middle\" x=\"50%\" y=\"1em\">condition</text></svg><svg width=\"100%\" x=\"0%\" y=\"3em\"><defs /><svg width=\"100%\" x=\"0\" y=\"0em\"><defs /><text text-anchor=\"middle\" x=\"50%\" y=\"1em\">c1</text></svg></svg><line stroke=\"black\" x1=\"50%\" x2=\"50%\" y1=\"1.2em\" y2=\"3em\" /></svg><line stroke=\"black\" x1=\"50%\" x2=\"8.96226%\" y1=\"1.2em\" y2=\"3em\" /><svg width=\"5.66038%\" x=\"14.1509%\" y=\"3em\"><defs /><svg width=\"100%\" x=\"0\" y=\"0em\"><defs /><text text-anchor=\"middle\" x=\"50%\" y=\"1em\">then</text></svg></svg><line stroke=\"black\" x1=\"50%\" x2=\"16.9811%\" y1=\"1.2em\" y2=\"3em\" /><svg width=\"64.1509%\" x=\"19.8113%\" y=\"3em\"><defs /><svg width=\"100%\" x=\"0\" y=\"0em\"><defs /><text text-anchor=\"middle\" x=\"50%\" y=\"1em\">sentence</text></svg><svg width=\"5.88235%\" x=\"0%\" y=\"3em\"><defs /><svg width=\"100%\" x=\"0\" y=\"0em\"><defs /><text text-anchor=\"middle\" x=\"50%\" y=\"1em\">if</text></svg></svg><line stroke=\"black\" x1=\"50%\" x2=\"2.94118%\" y1=\"1.2em\" y2=\"3em\" /><svg width=\"16.1765%\" x=\"5.88235%\" y=\"3em\"><defs /><svg width=\"100%\" x=\"0\" y=\"0em\"><defs /><text text-anchor=\"middle\" x=\"50%\" y=\"1em\">condition</text></svg><svg width=\"100%\" x=\"0%\" y=\"3em\"><defs /><svg width=\"100%\" x=\"0\" y=\"0em\"><defs /><text text-anchor=\"middle\" x=\"50%\" y=\"1em\">c2</text></svg></svg><line stroke=\"black\" x1=\"50%\" x2=\"50%\" y1=\"1.2em\" y2=\"3em\" /></svg><line stroke=\"black\" x1=\"50%\" x2=\"13.9706%\" y1=\"1.2em\" y2=\"3em\" /><svg width=\"8.82353%\" x=\"22.0588%\" y=\"3em\"><defs /><svg width=\"100%\" x=\"0\" y=\"0em\"><defs /><text text-anchor=\"middle\" x=\"50%\" y=\"1em\">then</text></svg></svg><line stroke=\"black\" x1=\"50%\" x2=\"26.4706%\" y1=\"1.2em\" y2=\"3em\" /><svg width=\"14.7059%\" x=\"30.8824%\" y=\"3em\"><defs /><svg width=\"100%\" x=\"0\" y=\"0em\"><defs /><text text-anchor=\"middle\" x=\"50%\" y=\"1em\">sentence</text></svg><svg width=\"100%\" x=\"0%\" y=\"3em\"><defs /><svg width=\"100%\" x=\"0\" y=\"0em\"><defs /><text text-anchor=\"middle\" x=\"50%\" y=\"1em\">result</text></svg><svg width=\"100%\" x=\"0%\" y=\"3em\"><defs /><svg width=\"100%\" x=\"0\" y=\"0em\"><defs /><text text-anchor=\"middle\" x=\"50%\" y=\"1em\">r1</text></svg></svg><line stroke=\"black\" x1=\"50%\" x2=\"50%\" y1=\"1.2em\" y2=\"3em\" /></svg><line stroke=\"black\" x1=\"50%\" x2=\"50%\" y1=\"1.2em\" y2=\"3em\" /></svg><line stroke=\"black\" x1=\"50%\" x2=\"38.2353%\" y1=\"1.2em\" y2=\"3em\" /><svg width=\"8.82353%\" x=\"45.5882%\" y=\"3em\"><defs /><svg width=\"100%\" x=\"0\" y=\"0em\"><defs /><text text-anchor=\"middle\" x=\"50%\" y=\"1em\">else</text></svg></svg><line stroke=\"black\" x1=\"50%\" x2=\"50%\" y1=\"1.2em\" y2=\"3em\" /><svg width=\"45.5882%\" x=\"54.4118%\" y=\"3em\"><defs /><svg width=\"100%\" x=\"0\" y=\"0em\"><defs /><text text-anchor=\"middle\" x=\"50%\" y=\"1em\">statement</text></svg><svg width=\"12.9032%\" x=\"0%\" y=\"3em\"><defs /><svg width=\"100%\" x=\"0\" y=\"0em\"><defs /><text text-anchor=\"middle\" x=\"50%\" y=\"1em\">if</text></svg></svg><line stroke=\"black\" x1=\"50%\" x2=\"6.45161%\" y1=\"1.2em\" y2=\"3em\" /><svg width=\"35.4839%\" x=\"12.9032%\" y=\"3em\"><defs /><svg width=\"100%\" x=\"0\" y=\"0em\"><defs /><text text-anchor=\"middle\" x=\"50%\" y=\"1em\">condition</text></svg><svg width=\"100%\" x=\"0%\" y=\"3em\"><defs /><svg width=\"100%\" x=\"0\" y=\"0em\"><defs /><text text-anchor=\"middle\" x=\"50%\" y=\"1em\">c3</text></svg></svg><line stroke=\"black\" x1=\"50%\" x2=\"50%\" y1=\"1.2em\" y2=\"3em\" /></svg><line stroke=\"black\" x1=\"50%\" x2=\"30.6452%\" y1=\"1.2em\" y2=\"3em\" /><svg width=\"19.3548%\" x=\"48.3871%\" y=\"3em\"><defs /><svg width=\"100%\" x=\"0\" y=\"0em\"><defs /><text text-anchor=\"middle\" x=\"50%\" y=\"1em\">then</text></svg></svg><line stroke=\"black\" x1=\"50%\" x2=\"58.0645%\" y1=\"1.2em\" y2=\"3em\" /><svg width=\"32.2581%\" x=\"67.7419%\" y=\"3em\"><defs /><svg width=\"100%\" x=\"0\" y=\"0em\"><defs /><text text-anchor=\"middle\" x=\"50%\" y=\"1em\">sentence</text></svg><svg width=\"100%\" x=\"0%\" y=\"3em\"><defs /><svg width=\"100%\" x=\"0\" y=\"0em\"><defs /><text text-anchor=\"middle\" x=\"50%\" y=\"1em\">result</text></svg><svg width=\"100%\" x=\"0%\" y=\"3em\"><defs /><svg width=\"100%\" x=\"0\" y=\"0em\"><defs /><text text-anchor=\"middle\" x=\"50%\" y=\"1em\">r2</text></svg></svg><line stroke=\"black\" x1=\"50%\" x2=\"50%\" y1=\"1.2em\" y2=\"3em\" /></svg><line stroke=\"black\" x1=\"50%\" x2=\"50%\" y1=\"1.2em\" y2=\"3em\" /></svg><line stroke=\"black\" x1=\"50%\" x2=\"83.871%\" y1=\"1.2em\" y2=\"3em\" /></svg><line stroke=\"black\" x1=\"50%\" x2=\"77.2059%\" y1=\"1.2em\" y2=\"3em\" /></svg><line stroke=\"black\" x1=\"50%\" x2=\"51.8868%\" y1=\"1.2em\" y2=\"3em\" /><svg width=\"5.66038%\" x=\"83.9623%\" y=\"3em\"><defs /><svg width=\"100%\" x=\"0\" y=\"0em\"><defs /><text text-anchor=\"middle\" x=\"50%\" y=\"1em\">else</text></svg></svg><line stroke=\"black\" x1=\"50%\" x2=\"86.7925%\" y1=\"1.2em\" y2=\"3em\" /><svg width=\"10.3774%\" x=\"89.6226%\" y=\"3em\"><defs /><svg width=\"100%\" x=\"0\" y=\"0em\"><defs /><text text-anchor=\"middle\" x=\"50%\" y=\"1em\">statement</text></svg><svg width=\"100%\" x=\"0%\" y=\"3em\"><defs /><svg width=\"100%\" x=\"0\" y=\"0em\"><defs /><text text-anchor=\"middle\" x=\"50%\" y=\"1em\">sentence</text></svg><svg width=\"100%\" x=\"0%\" y=\"3em\"><defs /><svg width=\"100%\" x=\"0\" y=\"0em\"><defs /><text text-anchor=\"middle\" x=\"50%\" y=\"1em\">result</text></svg><svg width=\"100%\" x=\"0%\" y=\"3em\"><defs /><svg width=\"100%\" x=\"0\" y=\"0em\"><defs /><text text-anchor=\"middle\" x=\"50%\" y=\"1em\">r3</text></svg></svg><line stroke=\"black\" x1=\"50%\" x2=\"50%\" y1=\"1.2em\" y2=\"3em\" /></svg><line stroke=\"black\" x1=\"50%\" x2=\"50%\" y1=\"1.2em\" y2=\"3em\" /></svg><line stroke=\"black\" x1=\"50%\" x2=\"50%\" y1=\"1.2em\" y2=\"3em\" /></svg><line stroke=\"black\" x1=\"50%\" x2=\"94.8113%\" y1=\"1.2em\" y2=\"3em\" /></svg><line stroke=\"black\" x1=\"50%\" x2=\"50%\" y1=\"1.2em\" y2=\"3em\" /></svg>"
          },
          "metadata": {},
          "execution_count": 51
        }
      ],
      "source": [
        "trees[1]"
      ]
    },
    {
      "cell_type": "code",
      "execution_count": 52,
      "metadata": {
        "colab": {
          "base_uri": "https://localhost:8080/"
        },
        "id": "wU_-9NUkkdRk",
        "outputId": "f6dda183-4812-4750-82d6-dd5cf4448204"
      },
      "outputs": [
        {
          "output_type": "execute_result",
          "data": {
            "text/plain": [
              "['CFG',\n",
              " 'DependencyGrammar',\n",
              " 'DependencyProduction',\n",
              " 'FeatDict',\n",
              " 'FeatStruct',\n",
              " 'FeatStructNonterminal',\n",
              " 'FeatStructReader',\n",
              " 'FeatureGrammar',\n",
              " 'FeatureValueType',\n",
              " 'ImmutableProbabilisticMixIn',\n",
              " 'Nonterminal',\n",
              " 'PCFG',\n",
              " 'ProbabilisticDependencyGrammar',\n",
              " 'ProbabilisticProduction',\n",
              " 'Production',\n",
              " 'SLASH',\n",
              " 'TYPE',\n",
              " '_ARROW_RE',\n",
              " '_DISJUNCTION_RE',\n",
              " '_PROBABILITY_RE',\n",
              " '_READ_DG_RE',\n",
              " '_SPLIT_DG_RE',\n",
              " '_STANDARD_NONTERM_RE',\n",
              " '_TERMINAL_RE',\n",
              " '__all__',\n",
              " '__builtins__',\n",
              " '__cached__',\n",
              " '__doc__',\n",
              " '__file__',\n",
              " '__loader__',\n",
              " '__name__',\n",
              " '__package__',\n",
              " '__spec__',\n",
              " '_read_cfg_production',\n",
              " '_read_dependency_production',\n",
              " '_read_fcfg_production',\n",
              " '_read_pcfg_production',\n",
              " '_read_production',\n",
              " 'cfg_demo',\n",
              " 'demo',\n",
              " 'dg_demo',\n",
              " 'fcfg_demo',\n",
              " 'induce_pcfg',\n",
              " 'invert_graph',\n",
              " 'is_nonterminal',\n",
              " 'is_terminal',\n",
              " 'nonterminals',\n",
              " 'pcfg_demo',\n",
              " 'raise_unorderable_types',\n",
              " 're',\n",
              " 'read_grammar',\n",
              " 'sdg_demo',\n",
              " 'standard_nonterm_parser',\n",
              " 'total_ordering',\n",
              " 'transitive_closure']"
            ]
          },
          "metadata": {},
          "execution_count": 52
        }
      ],
      "source": [
        "import nltk\n",
        "dir(nltk.grammar)"
      ]
    },
    {
      "cell_type": "code",
      "execution_count": 52,
      "metadata": {
        "id": "IgaZU0MEkdRk"
      },
      "outputs": [],
      "source": []
    }
  ],
  "metadata": {
    "colab": {
      "provenance": [],
      "include_colab_link": true
    },
    "kernelspec": {
      "display_name": "Python 3 (ipykernel)",
      "language": "python",
      "name": "python3"
    },
    "language_info": {
      "codemirror_mode": {
        "name": "ipython",
        "version": 3
      },
      "file_extension": ".py",
      "mimetype": "text/x-python",
      "name": "python",
      "nbconvert_exporter": "python",
      "pygments_lexer": "ipython3",
      "version": "3.7.16"
    }
  },
  "nbformat": 4,
  "nbformat_minor": 0
}