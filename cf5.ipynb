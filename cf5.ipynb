{
  "cells": [
    {
      "cell_type": "markdown",
      "metadata": {
        "id": "view-in-github",
        "colab_type": "text"
      },
      "source": [
        "<a href=\"https://colab.research.google.com/github/samyzaf/notebooks/blob/main/cf5.ipynb\" target=\"_parent\"><img src=\"https://colab.research.google.com/assets/colab-badge.svg\" alt=\"Open In Colab\"/></a>"
      ]
    },
    {
      "cell_type": "markdown",
      "id": "9581cd5b",
      "metadata": {
        "cell_marker": "\"\"\"",
        "id": "9581cd5b"
      },
      "source": [
        "# **Complex Functions**\n",
        "# Chapter 5: Solutions to exercises\n",
        "\n",
        "<a href=\"https://samyzaf.com/technion/cfit/cf.pdf\">\n",
        "<img src=\"https://samyzaf.com/technion/cfit/cf1.jpg\" alt=\"cf book cover\"/>\n",
        "</a>\n",
        "\n",
        "* These are only a small number of solutions.\n",
        "  Hopefully this will encourage students to try to solve more\n",
        "  exercises with similar methods.\n",
        "\n",
        "* We will be glad to accept notebooks\n",
        "  with solutions to other exercises in this book.\n",
        "  Please send them to mail@samyzaf.com."
      ]
    },
    {
      "cell_type": "markdown",
      "id": "d62d00b8",
      "metadata": {
        "cell_marker": "\"\"\"",
        "id": "d62d00b8"
      },
      "source": [
        "# Exercise 5.1\n",
        "\n",
        "Consider the antiderivative $F(z)=-ie^{iz}$ of $e^{iz}$ and compute  \n",
        "$\\qquad\n",
        "F(\\sigma(\\frac{\\pi}{2})) - F(\\sigma(-\\frac{\\pi}{2})) = F(2i)-F(0) = i(1-e^{-2})\n",
        "$"
      ]
    },
    {
      "cell_type": "markdown",
      "id": "5f279052",
      "metadata": {
        "cell_marker": "\"\"\"",
        "id": "5f279052"
      },
      "source": [
        "# Exercise 5.2\n",
        "\n",
        "<img\n",
        "src=\"https://samyzaf.com/technion/cfit/sol/ex5l.jpg\"\n",
        "alt=\"figure for 5.2\"\n",
        "width=\"60%\"\n",
        "/>"
      ]
    },
    {
      "cell_type": "markdown",
      "id": "af2aa167",
      "metadata": {
        "cell_marker": "\"\"\"",
        "id": "af2aa167"
      },
      "source": [
        "<div dir=rtl>\n",
        "<h1>תרגיל 5.5</h1>\n",
        "<p>נניח בשלילה $f(z) \\neq 0$ לכל $z$ בעיגול.\n",
        "נגדיר $g(z) = \\frac{1}{f(z)}$.\n",
        "אזי $|g(z)| = \\frac{1}{3}$ על שפת העיגול.\n",
        "על פי עקרון המקסימום $|g(z)| \\leq \\frac{1}{3}$\n",
        "ולכן $|f(z)| \\geq 3$ על כל העיגול.\n",
        "קיבלנו $|f(z)|=3$ על כל העיגול, ולכן על פי טענה 4.7 $f(z)$ קבועה על העיגול, בסתירה לנתון.</p>\n",
        "</div>"
      ]
    },
    {
      "cell_type": "markdown",
      "id": "a8ad59c0",
      "metadata": {
        "cell_marker": "\"\"\"",
        "id": "a8ad59c0"
      },
      "source": [
        "<div dir=rtl>\n",
        "<h1>תרגיל 5.6</h1>\n",
        "<p>לכל $r&lt;R$, על פי עקרון המקסימום, המקסימום של $|f(z)|$ בדיסק הסגור $\\ol{B(0,r)}$ מתקבל על המעגל $|z|=r$.\n",
        "לכן אם $r_1&lt;r_2$\n",
        "[\n",
        "g(r_1)\n",
        "=\n",
        "\\Max_{|z|=r_1} |f(z)|\n",
        "=\n",
        "\\Max_{|z| \\leq r_1} |f(z)|\n",
        "\\leq\n",
        "\\Max_{|z| \\leq r_2} |f(z)|\n",
        "=\n",
        "\\Max_{|z|=r_2} |f(z)|\n",
        "=\n",
        "g(r_2)\n",
        "]\n",
        "קיבלנו $g(r_1) \\leq g(r_2)$.</p>\n",
        "</div>"
      ]
    },
    {
      "cell_type": "markdown",
      "id": "470389c8",
      "metadata": {
        "cell_marker": "\"\"\"",
        "id": "470389c8"
      },
      "source": [
        "# Exercise 5.10\n",
        "\n",
        "<img\n",
        "src=\"https://samyzaf.com/technion/cfit/sol/ex5f.jpg\"\n",
        "alt=\"figure for 5.10\"\n",
        "width=\"60%\"\n",
        "/>"
      ]
    },
    {
      "cell_type": "markdown",
      "id": "ae299da4",
      "metadata": {
        "cell_marker": "\"\"\"",
        "id": "ae299da4"
      },
      "source": [
        "# Exercise 5.13\n",
        "\n",
        "<img\n",
        "src=\"https://samyzaf.com/technion/cfit/sol/ex5i.jpg\"\n",
        "alt=\"figure for 5.13\"\n",
        "width=\"60%\"\n",
        "/>"
      ]
    },
    {
      "cell_type": "markdown",
      "id": "eb5c654b",
      "metadata": {
        "cell_marker": "\"\"\"",
        "id": "eb5c654b"
      },
      "source": [
        "# Exercise 5.15\n",
        "\n",
        "<img\n",
        "src=\"https://samyzaf.com/technion/cfit/sol/ex5j.jpg\"\n",
        "alt=\"figure for 5.15\"\n",
        "width=\"60%\"\n",
        "/>"
      ]
    },
    {
      "cell_type": "markdown",
      "id": "406fb7a6",
      "metadata": {
        "cell_marker": "\"\"\"",
        "id": "406fb7a6"
      },
      "source": [
        "# Exercise 5.16\n",
        "\n",
        "<img\n",
        "src=\"https://samyzaf.com/technion/cfit/sol/ex5t.jpg\"\n",
        "alt=\"figure for 5.16\"\n",
        "width=\"60%\"\n",
        "/>"
      ]
    },
    {
      "cell_type": "markdown",
      "id": "2d307f57",
      "metadata": {
        "cell_marker": "\"\"\"",
        "id": "2d307f57"
      },
      "source": [
        "# Exercise 5.17\n",
        "\n",
        "<img\n",
        "src=\"https://samyzaf.com/technion/cfit/sol/ex7h.jpg\"\n",
        "alt=\"figure for 5.17\"\n",
        "width=\"60%\"\n",
        "/>\n",
        "\n",
        "<img\n",
        "src=\"https://samyzaf.com/technion/cfit/sol/44b.jpg\"\n",
        "alt=\"figure for 5.17\"\n",
        "width=\"60%\"\n",
        "/>"
      ]
    },
    {
      "cell_type": "markdown",
      "id": "7e35c502",
      "metadata": {
        "cell_marker": "\"\"\"",
        "id": "7e35c502"
      },
      "source": [
        "# Exercise 5.28\n",
        "\n",
        "<img\n",
        "src=\"https://samyzaf.com/technion/cfit/sol/ex5u.jpg\"\n",
        "alt=\"figure for 5.28\"\n",
        "width=\"60%\"\n",
        "/>"
      ]
    },
    {
      "cell_type": "markdown",
      "id": "2456a457",
      "metadata": {
        "cell_marker": "\"\"\"",
        "id": "2456a457"
      },
      "source": [
        "# Exercise 5.29\n",
        "\n",
        "<img\n",
        "src=\"https://samyzaf.com/technion/cfit/sol/ex5v.jpg\"\n",
        "alt=\"figure for 5.29\"\n",
        "width=\"60%\"\n",
        "/>"
      ]
    },
    {
      "cell_type": "markdown",
      "id": "ca43bdaf",
      "metadata": {
        "cell_marker": "\"\"\"",
        "id": "ca43bdaf"
      },
      "source": [
        "# Exercise 5.31\n",
        "\n",
        "<img\n",
        "src=\"https://samyzaf.com/technion/cfit/sol/ex5k.jpg\"\n",
        "alt=\"figure for 5.31\"\n",
        "width=\"60%\"\n",
        "/>"
      ]
    },
    {
      "cell_type": "markdown",
      "id": "8260546a",
      "metadata": {
        "cell_marker": "\"\"\"",
        "id": "8260546a"
      },
      "source": [
        "# Exercise 5.33\n",
        "\n",
        "<img\n",
        "src=\"https://samyzaf.com/technion/cfit/sol/ex5o.jpg\"\n",
        "alt=\"figure for 5.33\"\n",
        "width=\"60%\"\n",
        "/>"
      ]
    },
    {
      "cell_type": "markdown",
      "id": "bf94b119",
      "metadata": {
        "cell_marker": "\"\"\"",
        "id": "bf94b119"
      },
      "source": [
        "# Exercise 5.37\n",
        "\n",
        "<img\n",
        "src=\"https://samyzaf.com/technion/cfit/sol/ex5q.jpg\"\n",
        "alt=\"figure for 5.37\"\n",
        "width=\"60%\"\n",
        "/>"
      ]
    },
    {
      "cell_type": "markdown",
      "id": "6e3c8316",
      "metadata": {
        "cell_marker": "\"\"\"",
        "id": "6e3c8316"
      },
      "source": [
        "# Exercise 5.37\n",
        "\n",
        "<img\n",
        "src=\"https://samyzaf.com/technion/cfit/sol/ex5q.jpg\"\n",
        "alt=\"figure for 5.37\"\n",
        "width=\"60%\"\n",
        "/>"
      ]
    },
    {
      "cell_type": "markdown",
      "id": "a4db11f4",
      "metadata": {
        "cell_marker": "\"\"\"",
        "id": "a4db11f4"
      },
      "source": [
        "# Exercise 5.38\n",
        "\n",
        "<img\n",
        "src=\"https://samyzaf.com/technion/cfit/sol/ex6f.jpg\"\n",
        "alt=\"figure for 5.38\"\n",
        "width=\"60%\"\n",
        "/>"
      ]
    },
    {
      "cell_type": "markdown",
      "id": "4a304097",
      "metadata": {
        "cell_marker": "\"\"\"",
        "id": "4a304097"
      },
      "source": [
        "# Exercise 5.39\n",
        "\n",
        "<img\n",
        "src=\"https://samyzaf.com/technion/cfit/sol/ex6g.jpg\"\n",
        "alt=\"figure for 5.39\"\n",
        "width=\"60%\"\n",
        "/>"
      ]
    },
    {
      "cell_type": "markdown",
      "id": "225d0689",
      "metadata": {
        "cell_marker": "\"\"\"",
        "id": "225d0689"
      },
      "source": [
        "# Exercise 5.41\n",
        "\n",
        "<img\n",
        "src=\"https://samyzaf.com/technion/cfit/sol/ex6h.jpg\"\n",
        "alt=\"figure for 5.41\"\n",
        "width=\"60%\"\n",
        "/>"
      ]
    },
    {
      "cell_type": "markdown",
      "id": "7f83d045",
      "metadata": {
        "cell_marker": "\"\"\"",
        "id": "7f83d045"
      },
      "source": [
        "# Exercise 5.50\n",
        "\n",
        "<img\n",
        "src=\"https://samyzaf.com/technion/cfit/sol/ex5r.jpg\"\n",
        "alt=\"figure for 5.50\"\n",
        "width=\"60%\"\n",
        "/>"
      ]
    },
    {
      "cell_type": "markdown",
      "id": "36147173",
      "metadata": {
        "cell_marker": "\"\"\"",
        "id": "36147173"
      },
      "source": [
        "# Exercise 5.42\n",
        "\n",
        "<img\n",
        "src=\"https://samyzaf.com/technion/cfit/sol/ex5n.jpg\"\n",
        "alt=\"figure for 5.42\"\n",
        "width=\"60%\"\n",
        "/>"
      ]
    },
    {
      "cell_type": "markdown",
      "id": "9f240d8a",
      "metadata": {
        "cell_marker": "\"\"\"",
        "id": "9f240d8a"
      },
      "source": [
        "# Exercise 5.53\n",
        "\n",
        "<img\n",
        "src=\"https://samyzaf.com/technion/cfit/sol/ex5m.jpg\"\n",
        "alt=\"figure for 5.53\"\n",
        "width=\"60%\"\n",
        "/>"
      ]
    },
    {
      "cell_type": "markdown",
      "id": "bfc5edb5",
      "metadata": {
        "cell_marker": "\"\"\"",
        "id": "bfc5edb5"
      },
      "source": [
        "# Exercise 5.58\n",
        "\n",
        "https://math.stackexchange.com/questions/1947466/prove-morera\\%27s-theorem-in-circles-cases.#comment-3999258"
      ]
    },
    {
      "cell_type": "markdown",
      "id": "ef5dbf94",
      "metadata": {
        "cell_marker": "\"\"\"",
        "id": "ef5dbf94"
      },
      "source": [
        "# Exercise 5.59\n",
        "\n",
        "<img\n",
        "src=\"https://samyzaf.com/technion/cfit/sol/ex5w.jpg\"\n",
        "alt=\"figure for 5.59\"\n",
        "width=\"60%\"\n",
        "/>"
      ]
    },
    {
      "cell_type": "markdown",
      "id": "6c940404",
      "metadata": {
        "cell_marker": "\"\"\"",
        "lines_to_next_cell": 2,
        "id": "6c940404"
      },
      "source": [
        "# Exercise 5.62\n",
        "\n",
        "<img\n",
        "src=\"https://samyzaf.com/technion/cfit/sol/ex5s.jpg\"\n",
        "alt=\"figure for 5.62\"\n",
        "width=\"60%\"\n",
        "/>"
      ]
    }
  ],
  "metadata": {
    "jupytext": {
      "cell_metadata_filter": "-all",
      "main_language": "python",
      "notebook_metadata_filter": "-all"
    },
    "colab": {
      "provenance": [],
      "include_colab_link": true
    }
  },
  "nbformat": 4,
  "nbformat_minor": 5
}