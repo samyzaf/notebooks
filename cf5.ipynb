{
  "cells": [
    {
      "cell_type": "markdown",
      "metadata": {
        "id": "view-in-github",
        "colab_type": "text"
      },
      "source": [
        "<a href=\"https://colab.research.google.com/github/samyzaf/notebooks/blob/main/cf5.ipynb\" target=\"_parent\"><img src=\"https://colab.research.google.com/assets/colab-badge.svg\" alt=\"Open In Colab\"/></a>"
      ]
    },
    {
      "cell_type": "markdown",
      "id": "28955fdb",
      "metadata": {
        "cell_marker": "\"\"\"",
        "id": "28955fdb"
      },
      "source": [
        "# **Complex Functions**\n",
        "# Chapter 5: Solutions to exercises\n",
        "\n",
        "<a href=\"https://samyzaf.com/technion/cfit/cf.pdf\">\n",
        "<img src=\"https://samyzaf.com/technion/cfit/cf1.jpg\" alt=\"cf book cover\"/>\n",
        "</a>\n",
        "\n",
        "* These are only a small number of solutions.\n",
        "  Hopefully this will encourage students to try to solve more\n",
        "  exercises with similar methods.\n",
        "\n",
        "* We will be glad to accept notebooks\n",
        "  with solutions to other exercises in this book.\n",
        "  Please send them to mail@samyzaf.com."
      ]
    },
    {
      "cell_type": "markdown",
      "id": "f14407ba",
      "metadata": {
        "cell_marker": "\"\"\"",
        "id": "f14407ba"
      },
      "source": [
        "# Exercise 5.1\n",
        "\n",
        "Consider the antiderivative $F(z)=-ie^{iz}$ of $e^{iz}$ and compute  \n",
        "$\\qquad\n",
        "F(\\sigma(\\frac{\\pi}{2})) - F(\\sigma(-\\frac{\\pi}{2})) = F(2i)-F(0) = i(1-e^{-2})\n",
        "$"
      ]
    },
    {
      "cell_type": "markdown",
      "id": "9976f176",
      "metadata": {
        "cell_marker": "\"\"\"",
        "id": "9976f176"
      },
      "source": [
        "# Exercise 5.2\n",
        "\n",
        "<img\n",
        "src=\"https://samyzaf.com/technion/cfit/sol/ex5l.jpg\"\n",
        "alt=\"figure for 5.2\"\n",
        "width=\"60%\"\n",
        "/>"
      ]
    },
    {
      "cell_type": "markdown",
      "id": "089801ff",
      "metadata": {
        "cell_marker": "\"\"\"",
        "id": "089801ff"
      },
      "source": [
        "<div dir=rtl>\n",
        "<h1>תרגיל 5.5</h1>\n",
        "<p>נניח בשלילה $f(z) \\neq 0$ לכל $z$ בעיגול.\n",
        "נגדיר $g(z) = \\frac{1}{f(z)}$.\n",
        "אזי $|g(z)| = \\frac{1}{3}$ על שפת העיגול.\n",
        "על פי עקרון המקסימום $|g(z)| \\leq \\frac{1}{3}$\n",
        "ולכן $|f(z)| \\geq 3$ על כל העיגול.\n",
        "קיבלנו $|f(z)|=3$ על כל העיגול, ולכן על פי טענה 4.7 $f(z)$ קבועה על העיגול, בסתירה לנתון.</p>\n",
        "</div>"
      ]
    },
    {
      "cell_type": "markdown",
      "id": "521c1370",
      "metadata": {
        "cell_marker": "\"\"\"",
        "id": "521c1370"
      },
      "source": [
        "# Exercise 5.6\n",
        "\n",
        "<img\n",
        "src=\"https://samyzaf.com/technion/cfit/sol/ex5x.jpg\"\n",
        "alt=\"figure for 5.6\"\n",
        "width=\"60%\"\n",
        "/>"
      ]
    },
    {
      "cell_type": "markdown",
      "id": "3d847dcc",
      "metadata": {
        "cell_marker": "\"\"\"",
        "id": "3d847dcc"
      },
      "source": [
        "# Exercise 5.10\n",
        "\n",
        "<img\n",
        "src=\"https://samyzaf.com/technion/cfit/sol/ex5f.jpg\"\n",
        "alt=\"figure for 5.10\"\n",
        "width=\"60%\"\n",
        "/>"
      ]
    },
    {
      "cell_type": "markdown",
      "id": "34d01406",
      "metadata": {
        "cell_marker": "\"\"\"",
        "id": "34d01406"
      },
      "source": [
        "# Exercise 5.13\n",
        "\n",
        "<img\n",
        "src=\"https://samyzaf.com/technion/cfit/sol/ex5i.jpg\"\n",
        "alt=\"figure for 5.13\"\n",
        "width=\"60%\"\n",
        "/>"
      ]
    },
    {
      "cell_type": "markdown",
      "id": "f1f85d6b",
      "metadata": {
        "cell_marker": "\"\"\"",
        "id": "f1f85d6b"
      },
      "source": [
        "# Exercise 5.15\n",
        "\n",
        "<img\n",
        "src=\"https://samyzaf.com/technion/cfit/sol/ex5j.jpg\"\n",
        "alt=\"figure for 5.15\"\n",
        "width=\"60%\"\n",
        "/>"
      ]
    },
    {
      "cell_type": "markdown",
      "id": "87876aaf",
      "metadata": {
        "cell_marker": "\"\"\"",
        "id": "87876aaf"
      },
      "source": [
        "# Exercise 5.16\n",
        "\n",
        "<img\n",
        "src=\"https://samyzaf.com/technion/cfit/sol/ex5t.jpg\"\n",
        "alt=\"figure for 5.16\"\n",
        "width=\"60%\"\n",
        "/>"
      ]
    },
    {
      "cell_type": "markdown",
      "id": "8be4cf93",
      "metadata": {
        "cell_marker": "\"\"\"",
        "id": "8be4cf93"
      },
      "source": [
        "# Exercise 5.17\n",
        "\n",
        "<img\n",
        "src=\"https://samyzaf.com/technion/cfit/sol/ex7h.jpg\"\n",
        "alt=\"figure for 5.17\"\n",
        "width=\"60%\"\n",
        "/>\n",
        "\n",
        "<img\n",
        "src=\"https://samyzaf.com/technion/cfit/sol/44b.jpg\"\n",
        "alt=\"figure for 5.17\"\n",
        "width=\"60%\"\n",
        "/>"
      ]
    },
    {
      "cell_type": "markdown",
      "id": "f8452643",
      "metadata": {
        "cell_marker": "\"\"\"",
        "id": "f8452643"
      },
      "source": [
        "# Exercise 5.28\n",
        "\n",
        "<img\n",
        "src=\"https://samyzaf.com/technion/cfit/sol/ex5u.jpg\"\n",
        "alt=\"figure for 5.28\"\n",
        "width=\"60%\"\n",
        "/>"
      ]
    },
    {
      "cell_type": "markdown",
      "id": "1b256442",
      "metadata": {
        "cell_marker": "\"\"\"",
        "id": "1b256442"
      },
      "source": [
        "# Exercise 5.29\n",
        "\n",
        "<img\n",
        "src=\"https://samyzaf.com/technion/cfit/sol/ex5v.jpg\"\n",
        "alt=\"figure for 5.29\"\n",
        "width=\"60%\"\n",
        "/>"
      ]
    },
    {
      "cell_type": "markdown",
      "id": "79246732",
      "metadata": {
        "cell_marker": "\"\"\"",
        "id": "79246732"
      },
      "source": [
        "# Exercise 5.31\n",
        "\n",
        "<img\n",
        "src=\"https://samyzaf.com/technion/cfit/sol/ex5k.jpg\"\n",
        "alt=\"figure for 5.31\"\n",
        "width=\"60%\"\n",
        "/>"
      ]
    },
    {
      "cell_type": "markdown",
      "id": "870e5cc4",
      "metadata": {
        "cell_marker": "\"\"\"",
        "id": "870e5cc4"
      },
      "source": [
        "# Exercise 5.33\n",
        "\n",
        "<img\n",
        "src=\"https://samyzaf.com/technion/cfit/sol/ex5o.jpg\"\n",
        "alt=\"figure for 5.33\"\n",
        "width=\"60%\"\n",
        "/>"
      ]
    },
    {
      "cell_type": "markdown",
      "id": "7159bc3f",
      "metadata": {
        "cell_marker": "\"\"\"",
        "id": "7159bc3f"
      },
      "source": [
        "# Exercise 5.37\n",
        "\n",
        "<img\n",
        "src=\"https://samyzaf.com/technion/cfit/sol/ex5q.jpg\"\n",
        "alt=\"figure for 5.37\"\n",
        "width=\"60%\"\n",
        "/>"
      ]
    },
    {
      "cell_type": "markdown",
      "id": "66e13c14",
      "metadata": {
        "cell_marker": "\"\"\"",
        "id": "66e13c14"
      },
      "source": [
        "# Exercise 5.37\n",
        "\n",
        "<img\n",
        "src=\"https://samyzaf.com/technion/cfit/sol/ex5q.jpg\"\n",
        "alt=\"figure for 5.37\"\n",
        "width=\"60%\"\n",
        "/>"
      ]
    },
    {
      "cell_type": "markdown",
      "id": "21448229",
      "metadata": {
        "cell_marker": "\"\"\"",
        "id": "21448229"
      },
      "source": [
        "# Exercise 5.38\n",
        "\n",
        "<img\n",
        "src=\"https://samyzaf.com/technion/cfit/sol/ex6f.jpg\"\n",
        "alt=\"figure for 5.38\"\n",
        "width=\"60%\"\n",
        "/>"
      ]
    },
    {
      "cell_type": "markdown",
      "id": "a3670590",
      "metadata": {
        "cell_marker": "\"\"\"",
        "id": "a3670590"
      },
      "source": [
        "# Exercise 5.39\n",
        "\n",
        "<img\n",
        "src=\"https://samyzaf.com/technion/cfit/sol/ex6g.jpg\"\n",
        "alt=\"figure for 5.39\"\n",
        "width=\"60%\"\n",
        "/>"
      ]
    },
    {
      "cell_type": "markdown",
      "id": "21939bba",
      "metadata": {
        "cell_marker": "\"\"\"",
        "id": "21939bba"
      },
      "source": [
        "# Exercise 5.41\n",
        "\n",
        "<img\n",
        "src=\"https://samyzaf.com/technion/cfit/sol/ex6h.jpg\"\n",
        "alt=\"figure for 5.41\"\n",
        "width=\"60%\"\n",
        "/>"
      ]
    },
    {
      "cell_type": "markdown",
      "id": "28c499ea",
      "metadata": {
        "cell_marker": "\"\"\"",
        "id": "28c499ea"
      },
      "source": [
        "# Exercise 5.50\n",
        "\n",
        "<img\n",
        "src=\"https://samyzaf.com/technion/cfit/sol/ex5r.jpg\"\n",
        "alt=\"figure for 5.50\"\n",
        "width=\"60%\"\n",
        "/>"
      ]
    },
    {
      "cell_type": "markdown",
      "id": "c772f64b",
      "metadata": {
        "cell_marker": "\"\"\"",
        "id": "c772f64b"
      },
      "source": [
        "# Exercise 5.42\n",
        "\n",
        "<img\n",
        "src=\"https://samyzaf.com/technion/cfit/sol/ex5n.jpg\"\n",
        "alt=\"figure for 5.42\"\n",
        "width=\"60%\"\n",
        "/>"
      ]
    },
    {
      "cell_type": "markdown",
      "id": "84620847",
      "metadata": {
        "cell_marker": "\"\"\"",
        "id": "84620847"
      },
      "source": [
        "# Exercise 5.53\n",
        "\n",
        "<img\n",
        "src=\"https://samyzaf.com/technion/cfit/sol/ex5m.jpg\"\n",
        "alt=\"figure for 5.53\"\n",
        "width=\"60%\"\n",
        "/>"
      ]
    },
    {
      "cell_type": "markdown",
      "id": "f7fe2020",
      "metadata": {
        "cell_marker": "\"\"\"",
        "id": "f7fe2020"
      },
      "source": [
        "# Exercise 5.58\n",
        "\n",
        "https://math.stackexchange.com/questions/1947466/prove-morera\\%27s-theorem-in-circles-cases.#comment-3999258"
      ]
    },
    {
      "cell_type": "markdown",
      "id": "81567dbb",
      "metadata": {
        "cell_marker": "\"\"\"",
        "id": "81567dbb"
      },
      "source": [
        "# Exercise 5.59\n",
        "\n",
        "<img\n",
        "src=\"https://samyzaf.com/technion/cfit/sol/ex5w.jpg\"\n",
        "alt=\"figure for 5.59\"\n",
        "width=\"60%\"\n",
        "/>"
      ]
    },
    {
      "cell_type": "markdown",
      "id": "0fc494ea",
      "metadata": {
        "cell_marker": "\"\"\"",
        "lines_to_next_cell": 2,
        "id": "0fc494ea"
      },
      "source": [
        "# Exercise 5.62\n",
        "\n",
        "<img\n",
        "src=\"https://samyzaf.com/technion/cfit/sol/ex5s.jpg\"\n",
        "alt=\"figure for 5.62\"\n",
        "width=\"60%\"\n",
        "/>"
      ]
    }
  ],
  "metadata": {
    "jupytext": {
      "cell_metadata_filter": "-all",
      "main_language": "python",
      "notebook_metadata_filter": "-all"
    },
    "colab": {
      "provenance": [],
      "include_colab_link": true
    }
  },
  "nbformat": 4,
  "nbformat_minor": 5
}