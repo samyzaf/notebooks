{
  "cells": [
    {
      "cell_type": "markdown",
      "metadata": {
        "id": "view-in-github",
        "colab_type": "text"
      },
      "source": [
        "<a href=\"https://colab.research.google.com/github/samyzaf/notebooks/blob/main/cf5.ipynb\" target=\"_parent\"><img src=\"https://colab.research.google.com/assets/colab-badge.svg\" alt=\"Open In Colab\"/></a>"
      ]
    },
    {
      "cell_type": "markdown",
      "id": "459ff2f4",
      "metadata": {
        "cell_marker": "\"\"\"",
        "id": "459ff2f4"
      },
      "source": [
        "# **Complex Functions**\n",
        "# Chapter 5: Solutions to exercises\n",
        "\n",
        "<a href=\"https://samyzaf.com/technion/cfit/cf.pdf\">\n",
        "<img src=\"https://samyzaf.com/technion/cfit/cf1.jpg\" alt=\"cf book cover\"/>\n",
        "</a>\n",
        "\n",
        "* These are only a small number of solutions.\n",
        "  Hopefully this will encourage students to try to solve more\n",
        "  exercises with similar methods.\n",
        "\n",
        "* We will be glad to accept notebooks\n",
        "  with solutions to other exercises in this book.\n",
        "  Please send them to mail@samyzaf.com.\n",
        "\n",
        "* Thanks a lot to all the students that provided help, short snippets, and ideas."
      ]
    },
    {
      "cell_type": "markdown",
      "id": "f1837bab",
      "metadata": {
        "cell_marker": "\"\"\"",
        "id": "f1837bab"
      },
      "source": [
        "# Exercise 5.1\n",
        "\n",
        "Consider the antiderivative $F(z)=-ie^{iz}$ of $e^{iz}$ and compute  \n",
        "$\\qquad\n",
        "F(\\sigma(\\frac{\\pi}{2})) - F(\\sigma(-\\frac{\\pi}{2})) = F(2i)-F(0) = i(1-e^{-2})\n",
        "$"
      ]
    },
    {
      "cell_type": "markdown",
      "id": "a05bfb5d",
      "metadata": {
        "cell_marker": "\"\"\"",
        "id": "a05bfb5d"
      },
      "source": [
        "# Exercise 5.2\n",
        "\n",
        "<img\n",
        "src=\"https://samyzaf.com/technion/cfit/sol/ex5l.jpg\"\n",
        "alt=\"figure for 5.2\"\n",
        "width=\"60%\"\n",
        "/>"
      ]
    },
    {
      "cell_type": "markdown",
      "id": "d4ec4cce",
      "metadata": {
        "cell_marker": "\"\"\"",
        "id": "d4ec4cce"
      },
      "source": [
        "<div dir=rtl>\n",
        "<h1>תרגיל 5.5</h1>\n",
        "<p>נניח בשלילה $f(z) \\neq 0$ לכל $z$ בעיגול.\n",
        "נגדיר $g(z) = \\frac{1}{f(z)}$.\n",
        "אזי $|g(z)| = \\frac{1}{3}$ על שפת העיגול.\n",
        "על פי עקרון המקסימום $|g(z)| \\leq \\frac{1}{3}$\n",
        "ולכן $|f(z)| \\geq 3$ על כל העיגול.\n",
        "קיבלנו $|f(z)|=3$ על כל העיגול, ולכן על פי טענה 4.7 $f(z)$ קבועה על העיגול, בסתירה לנתון.</p>\n",
        "</div>"
      ]
    },
    {
      "cell_type": "markdown",
      "id": "4546097a",
      "metadata": {
        "cell_marker": "\"\"\"",
        "id": "4546097a"
      },
      "source": [
        "# Exercise 5.6\n",
        "\n",
        "<img\n",
        "src=\"https://samyzaf.com/technion/cfit/sol/ex5x.jpg\"\n",
        "alt=\"figure for 5.6\"\n",
        "width=\"60%\"\n",
        "/>"
      ]
    },
    {
      "cell_type": "markdown",
      "id": "9cc5a8af",
      "metadata": {
        "cell_marker": "\"\"\"",
        "id": "9cc5a8af"
      },
      "source": [
        "# Exercise 5.10\n",
        "\n",
        "<img\n",
        "src=\"https://samyzaf.com/technion/cfit/sol/ex5f.jpg\"\n",
        "alt=\"figure for 5.10\"\n",
        "width=\"60%\"\n",
        "/>"
      ]
    },
    {
      "cell_type": "markdown",
      "id": "cc83e871",
      "metadata": {
        "cell_marker": "\"\"\"",
        "id": "cc83e871"
      },
      "source": [
        "# Exercise 5.13\n",
        "\n",
        "<img\n",
        "src=\"https://samyzaf.com/technion/cfit/sol/ex5i.jpg\"\n",
        "alt=\"figure for 5.13\"\n",
        "width=\"60%\"\n",
        "/>"
      ]
    },
    {
      "cell_type": "markdown",
      "id": "d0d67f0a",
      "metadata": {
        "cell_marker": "\"\"\"",
        "id": "d0d67f0a"
      },
      "source": [
        "# Exercise 5.15\n",
        "\n",
        "<img\n",
        "src=\"https://samyzaf.com/technion/cfit/sol/ex5j.jpg\"\n",
        "alt=\"figure for 5.15\"\n",
        "width=\"60%\"\n",
        "/>"
      ]
    },
    {
      "cell_type": "markdown",
      "id": "0bfaf01e",
      "metadata": {
        "cell_marker": "\"\"\"",
        "id": "0bfaf01e"
      },
      "source": [
        "# Exercise 5.16\n",
        "\n",
        "<img\n",
        "src=\"https://samyzaf.com/technion/cfit/sol/ex5t.jpg\"\n",
        "alt=\"figure for 5.16\"\n",
        "width=\"60%\"\n",
        "/>"
      ]
    },
    {
      "cell_type": "markdown",
      "id": "a84693bd",
      "metadata": {
        "cell_marker": "\"\"\"",
        "id": "a84693bd"
      },
      "source": [
        "# Exercise 5.17\n",
        "\n",
        "<img\n",
        "src=\"https://samyzaf.com/technion/cfit/sol/ex7h.jpg\"\n",
        "alt=\"figure for 5.17\"\n",
        "width=\"60%\"\n",
        "/>\n",
        "\n",
        "<img\n",
        "src=\"https://samyzaf.com/technion/cfit/sol/44b.jpg\"\n",
        "alt=\"figure for 5.17\"\n",
        "width=\"60%\"\n",
        "/>"
      ]
    },
    {
      "cell_type": "markdown",
      "id": "6a02aeec",
      "metadata": {
        "cell_marker": "\"\"\"",
        "id": "6a02aeec"
      },
      "source": [
        "# Exercise 5.28\n",
        "\n",
        "<img\n",
        "src=\"https://samyzaf.com/technion/cfit/sol/ex5u.jpg\"\n",
        "alt=\"figure for 5.28\"\n",
        "width=\"60%\"\n",
        "/>"
      ]
    },
    {
      "cell_type": "markdown",
      "id": "5255ed55",
      "metadata": {
        "cell_marker": "\"\"\"",
        "id": "5255ed55"
      },
      "source": [
        "# Exercise 5.29\n",
        "\n",
        "<img\n",
        "src=\"https://samyzaf.com/technion/cfit/sol/ex5v.jpg\"\n",
        "alt=\"figure for 5.29\"\n",
        "width=\"60%\"\n",
        "/>"
      ]
    },
    {
      "cell_type": "markdown",
      "id": "339eb739",
      "metadata": {
        "cell_marker": "\"\"\"",
        "id": "339eb739"
      },
      "source": [
        "# Exercise 5.31\n",
        "\n",
        "<img\n",
        "src=\"https://samyzaf.com/technion/cfit/sol/ex5k.jpg\"\n",
        "alt=\"figure for 5.31\"\n",
        "width=\"60%\"\n",
        "/>"
      ]
    },
    {
      "cell_type": "markdown",
      "id": "4b8e8b9b",
      "metadata": {
        "cell_marker": "\"\"\"",
        "id": "4b8e8b9b"
      },
      "source": [
        "# Exercise 5.33\n",
        "\n",
        "<img\n",
        "src=\"https://samyzaf.com/technion/cfit/sol/ex5o.jpg\"\n",
        "alt=\"figure for 5.33\"\n",
        "width=\"60%\"\n",
        "/>"
      ]
    },
    {
      "cell_type": "markdown",
      "id": "0a0b2572",
      "metadata": {
        "cell_marker": "\"\"\"",
        "id": "0a0b2572"
      },
      "source": [
        "# Exercise 5.37\n",
        "\n",
        "<img\n",
        "src=\"https://samyzaf.com/technion/cfit/sol/ex5q.jpg\"\n",
        "alt=\"figure for 5.37\"\n",
        "width=\"60%\"\n",
        "/>"
      ]
    },
    {
      "cell_type": "markdown",
      "id": "49e7fbd7",
      "metadata": {
        "cell_marker": "\"\"\"",
        "id": "49e7fbd7"
      },
      "source": [
        "# Exercise 5.37\n",
        "\n",
        "<img\n",
        "src=\"https://samyzaf.com/technion/cfit/sol/ex5q.jpg\"\n",
        "alt=\"figure for 5.37\"\n",
        "width=\"60%\"\n",
        "/>"
      ]
    },
    {
      "cell_type": "markdown",
      "id": "0fc7c1d4",
      "metadata": {
        "cell_marker": "\"\"\"",
        "id": "0fc7c1d4"
      },
      "source": [
        "# Exercise 5.38\n",
        "\n",
        "<img\n",
        "src=\"https://samyzaf.com/technion/cfit/sol/ex6f.jpg\"\n",
        "alt=\"figure for 5.38\"\n",
        "width=\"60%\"\n",
        "/>"
      ]
    },
    {
      "cell_type": "markdown",
      "id": "528dc96b",
      "metadata": {
        "cell_marker": "\"\"\"",
        "id": "528dc96b"
      },
      "source": [
        "# Exercise 5.39\n",
        "\n",
        "<img\n",
        "src=\"https://samyzaf.com/technion/cfit/sol/ex6g.jpg\"\n",
        "alt=\"figure for 5.39\"\n",
        "width=\"60%\"\n",
        "/>"
      ]
    },
    {
      "cell_type": "markdown",
      "id": "3a59ccf4",
      "metadata": {
        "cell_marker": "\"\"\"",
        "id": "3a59ccf4"
      },
      "source": [
        "# Exercise 5.41\n",
        "\n",
        "<img\n",
        "src=\"https://samyzaf.com/technion/cfit/sol/ex6h.jpg\"\n",
        "alt=\"figure for 5.41\"\n",
        "width=\"60%\"\n",
        "/>"
      ]
    },
    {
      "cell_type": "markdown",
      "id": "e3cdccef",
      "metadata": {
        "cell_marker": "\"\"\"",
        "id": "e3cdccef"
      },
      "source": [
        "# Exercise 5.50\n",
        "\n",
        "<img\n",
        "src=\"https://samyzaf.com/technion/cfit/sol/ex5r.jpg\"\n",
        "alt=\"figure for 5.50\"\n",
        "width=\"60%\"\n",
        "/>"
      ]
    },
    {
      "cell_type": "markdown",
      "id": "9a4fec20",
      "metadata": {
        "cell_marker": "\"\"\"",
        "id": "9a4fec20"
      },
      "source": [
        "# Exercise 5.42\n",
        "\n",
        "<img\n",
        "src=\"https://samyzaf.com/technion/cfit/sol/ex5n.jpg\"\n",
        "alt=\"figure for 5.42\"\n",
        "width=\"60%\"\n",
        "/>"
      ]
    },
    {
      "cell_type": "markdown",
      "id": "8b58014d",
      "metadata": {
        "cell_marker": "\"\"\"",
        "id": "8b58014d"
      },
      "source": [
        "# Exercise 5.53\n",
        "\n",
        "<img\n",
        "src=\"https://samyzaf.com/technion/cfit/sol/ex5m.jpg\"\n",
        "alt=\"figure for 5.53\"\n",
        "width=\"60%\"\n",
        "/>"
      ]
    },
    {
      "cell_type": "markdown",
      "id": "bf5fd434",
      "metadata": {
        "cell_marker": "\"\"\"",
        "id": "bf5fd434"
      },
      "source": [
        "# Exercise 5.58\n",
        "\n",
        "https://math.stackexchange.com/questions/1947466/prove-morera\\%27s-theorem-in-circles-cases.#comment-3999258"
      ]
    },
    {
      "cell_type": "markdown",
      "id": "8be1f307",
      "metadata": {
        "cell_marker": "\"\"\"",
        "id": "8be1f307"
      },
      "source": [
        "# Exercise 5.59\n",
        "\n",
        "<img\n",
        "src=\"https://samyzaf.com/technion/cfit/sol/ex5w.jpg\"\n",
        "alt=\"figure for 5.59\"\n",
        "width=\"60%\"\n",
        "/>"
      ]
    },
    {
      "cell_type": "markdown",
      "id": "ca83d616",
      "metadata": {
        "cell_marker": "\"\"\"",
        "lines_to_next_cell": 2,
        "id": "ca83d616"
      },
      "source": [
        "# Exercise 5.62\n",
        "\n",
        "<img\n",
        "src=\"https://samyzaf.com/technion/cfit/sol/ex5s.jpg\"\n",
        "alt=\"figure for 5.62\"\n",
        "width=\"60%\"\n",
        "/>"
      ]
    }
  ],
  "metadata": {
    "jupytext": {
      "cell_metadata_filter": "-all",
      "main_language": "python",
      "notebook_metadata_filter": "-all"
    },
    "colab": {
      "provenance": [],
      "include_colab_link": true
    }
  },
  "nbformat": 4,
  "nbformat_minor": 5
}