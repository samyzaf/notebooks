{
  "cells": [
    {
      "cell_type": "markdown",
      "metadata": {
        "id": "view-in-github",
        "colab_type": "text"
      },
      "source": [
        "<a href=\"https://colab.research.google.com/github/samyzaf/notebooks/blob/main/cf6.ipynb\" target=\"_parent\"><img src=\"https://colab.research.google.com/assets/colab-badge.svg\" alt=\"Open In Colab\"/></a>"
      ]
    },
    {
      "cell_type": "markdown",
      "id": "60f79662",
      "metadata": {
        "cell_marker": "\"\"\"",
        "id": "60f79662"
      },
      "source": [
        "# **Complex Functions**\n",
        "# Chapter 6: Solutions to exercises\n",
        "\n",
        "<a href=\"https://samyzaf.com/technion/cfit/cf.pdf\">\n",
        "<img src=\"https://samyzaf.com/technion/cfit/cf1.jpg\" alt=\"cf book cover\"/>\n",
        "</a>\n",
        "\n",
        "* These are only a small number of solutions.\n",
        "  Hopefully this will encourage students to try to solve more\n",
        "  exercises with similar methods.\n",
        "\n",
        "* We will be glad to accept notebooks\n",
        "  with solutions to other exercises in this book.\n",
        "  Please send them to mail@samyzaf.com.\n",
        "\n",
        "* Thanks a lot to all the students that provided help, short snippets, and ideas."
      ]
    },
    {
      "cell_type": "markdown",
      "id": "7b24d8cd",
      "metadata": {
        "cell_marker": "\"\"\"",
        "id": "7b24d8cd"
      },
      "source": [
        "# **Exercise 6.1**\n",
        "\n",
        "<img\n",
        "src=\"https://samyzaf.com/technion/cfit/sol/ex6n.jpg\"\n",
        "width=\"75%\"\n",
        "/>"
      ]
    },
    {
      "cell_type": "markdown",
      "id": "c923b6cc",
      "metadata": {
        "cell_marker": "\"\"\"",
        "id": "c923b6cc"
      },
      "source": [
        "# **Exercise 6.4**\n",
        "\n",
        "<img\n",
        "src=\"https://samyzaf.com/technion/cfit/sol/ex6o.jpg\"\n",
        "width=\"75%\"\n",
        "/>"
      ]
    },
    {
      "cell_type": "markdown",
      "id": "2c8e2da4",
      "metadata": {
        "cell_marker": "\"\"\"",
        "id": "2c8e2da4"
      },
      "source": [
        "# **Exercise 6.6**\n",
        "\n",
        "<img\n",
        "src=\"https://samyzaf.com/technion/cfit/sol/ex6p.jpg\"\n",
        "width=\"75%\"\n",
        "/>"
      ]
    },
    {
      "cell_type": "markdown",
      "id": "181ca090",
      "metadata": {
        "cell_marker": "\"\"\"",
        "id": "181ca090"
      },
      "source": [
        "# **Exercise 6.18**\n",
        "\n",
        "<img\n",
        "src=\"https://samyzaf.com/technion/cfit/sol/ex7q.jpg\"\n",
        "width=\"75%\"\n",
        "/>"
      ]
    },
    {
      "cell_type": "markdown",
      "id": "7db8bb38",
      "metadata": {
        "cell_marker": "\"\"\"",
        "id": "7db8bb38"
      },
      "source": [
        "# **Exercise 6.21**\n",
        "\n",
        "<img\n",
        "src=\"https://samyzaf.com/technion/cfit/sol/ex5p.jpg\"\n",
        "width=\"75%\"\n",
        "/>"
      ]
    },
    {
      "cell_type": "markdown",
      "id": "9f1fd88a",
      "metadata": {
        "cell_marker": "\"\"\"",
        "id": "9f1fd88a"
      },
      "source": [
        "# **Exercise 6.22**\n",
        "\n",
        "<img\n",
        "src=\"https://samyzaf.com/technion/cfit/sol/ex6l.jpg\"\n",
        "width=\"75%\"\n",
        "/>"
      ]
    },
    {
      "cell_type": "markdown",
      "id": "e89d83dd",
      "metadata": {
        "cell_marker": "\"\"\"",
        "id": "e89d83dd"
      },
      "source": [
        "<div dir=rtl>\n",
        "<h1>תרגיל 6.23</h1>\n",
        "<p>$f(z) = e^{-1} \\cdot \\frac{e^{z+1}}{(1+z)^3}$.\n",
        "יש להשתמש בטור הידוע $e^{z+1} = \\sum_{n=0}^{\\infty} \\frac{1}{n!} (z+1)^n$</p>\n",
        "</div>"
      ]
    },
    {
      "cell_type": "markdown",
      "id": "6f1457d7",
      "metadata": {
        "cell_marker": "\"\"\"",
        "id": "6f1457d7"
      },
      "source": [
        "# **Exercise 6.24**\n",
        "\n",
        "<img\n",
        "src=\"https://samyzaf.com/technion/cfit/sol/ex6u.jpg\"\n",
        "width=\"75%\"\n",
        "/>"
      ]
    },
    {
      "cell_type": "markdown",
      "id": "56010826",
      "metadata": {
        "cell_marker": "\"\"\"",
        "id": "56010826"
      },
      "source": [
        "# **Exercise 6.25**\n",
        "\n",
        "<img\n",
        "src=\"https://samyzaf.com/technion/cfit/sol/ex6s.jpg\"\n",
        "width=\"75%\"\n",
        "/>"
      ]
    },
    {
      "cell_type": "markdown",
      "id": "b7d9d805",
      "metadata": {
        "cell_marker": "\"\"\"",
        "id": "b7d9d805"
      },
      "source": [
        "# **Exercise 6.26**\n",
        "\n",
        "<img\n",
        "src=\"https://samyzaf.com/technion/cfit/sol/ex6r.jpg\"\n",
        "width=\"75%\"\n",
        "/>"
      ]
    },
    {
      "cell_type": "markdown",
      "id": "2b68419a",
      "metadata": {
        "cell_marker": "\"\"\"",
        "id": "2b68419a"
      },
      "source": [
        "# **Exercise 6.28**\n",
        "\n",
        "<img\n",
        "src=\"https://samyzaf.com/technion/cfit/sol/ex6v.jpg\"\n",
        "width=\"75%\"\n",
        "/>"
      ]
    },
    {
      "cell_type": "markdown",
      "id": "1daf50c1",
      "metadata": {
        "cell_marker": "\"\"\"",
        "id": "1daf50c1"
      },
      "source": [
        "# **Exercise 6.29**\n",
        "\n",
        "<img\n",
        "src=\"https://samyzaf.com/technion/cfit/sol/ex6w.jpg\"\n",
        "width=\"75%\"\n",
        "/>"
      ]
    },
    {
      "cell_type": "markdown",
      "id": "0a99394f",
      "metadata": {
        "cell_marker": "\"\"\"",
        "id": "0a99394f"
      },
      "source": [
        "# **Exercise 6.30**\n",
        "\n",
        "<img\n",
        "src=\"https://samyzaf.com/technion/cfit/sol/ex6x.jpg\"\n",
        "width=\"75%\"\n",
        "/>"
      ]
    },
    {
      "cell_type": "markdown",
      "id": "fbd21474",
      "metadata": {
        "cell_marker": "\"\"\"",
        "id": "fbd21474"
      },
      "source": [
        "# **Exercise 6.33**\n",
        "\n",
        "<img\n",
        "src=\"https://samyzaf.com/technion/cfit/sol/ex7s.jpg\"\n",
        "width=\"75%\"\n",
        "/>"
      ]
    },
    {
      "cell_type": "markdown",
      "id": "faff99fc",
      "metadata": {
        "cell_marker": "\"\"\"",
        "id": "faff99fc"
      },
      "source": [
        "# **Exercise 6.34**\n",
        "\n",
        "<img\n",
        "src=\"https://samyzaf.com/technion/cfit/sol/ex7t.jpg\"\n",
        "width=\"75%\"\n",
        "/>"
      ]
    },
    {
      "cell_type": "markdown",
      "id": "8590fa6b",
      "metadata": {
        "cell_marker": "\"\"\"",
        "id": "8590fa6b"
      },
      "source": [
        "# **Exercise 6.36**\n",
        "\n",
        "Not fully checked yet, but it could be that the following link may contain ideas for a solution:\n",
        "\n",
        "https://math.stackexchange.com/questions/1233846/an-entire-function-is-a-polynomial-iff-the-taylor-expansion-around-0-converges"
      ]
    },
    {
      "cell_type": "markdown",
      "id": "0b4ea80f",
      "metadata": {
        "cell_marker": "\"\"\"",
        "id": "0b4ea80f"
      },
      "source": [
        "# **Exercise 6.37**\n",
        "\n",
        "Not fully checked yet, but it could be that the following link may contain ideas for a solution:\n",
        "\n",
        "https://math.stackexchange.com/questions/613524/suppose-f-and-g-are-entire-functions-and-fz-leq-gz-for-all-z-i"
      ]
    },
    {
      "cell_type": "markdown",
      "id": "560df64b",
      "metadata": {
        "cell_marker": "\"\"\"",
        "id": "560df64b"
      },
      "source": [
        "# **Exercise 6.39**\n",
        "\n",
        "<img\n",
        "src=\"https://samyzaf.com/technion/cfit/sol/ex6m.jpg\"\n",
        "width=\"75%\"\n",
        "/>\n",
        "\n",
        "<img\n",
        "src=\"https://samyzaf.com/technion/cfit/sol/ex7z.jpg\"\n",
        "width=\"75%\"\n",
        "/>"
      ]
    },
    {
      "cell_type": "markdown",
      "id": "891ab591",
      "metadata": {
        "cell_marker": "\"\"\"",
        "id": "891ab591"
      },
      "source": [
        "# **Exercise 6.40**\n",
        "\n",
        "<img\n",
        "src=\"https://samyzaf.com/technion/cfit/sol/ex6i.jpg\"\n",
        "width=\"75%\"\n",
        "/>"
      ]
    },
    {
      "cell_type": "markdown",
      "id": "b8b20f32",
      "metadata": {
        "cell_marker": "\"\"\"",
        "id": "b8b20f32"
      },
      "source": [
        "# **Exercise 6.41**\n",
        "\n",
        "<img\n",
        "src=\"https://samyzaf.com/technion/cfit/sol/ex6y.jpg\"\n",
        "width=\"75%\"\n",
        "/>"
      ]
    },
    {
      "cell_type": "markdown",
      "id": "3c553e12",
      "metadata": {
        "cell_marker": "\"\"\"",
        "id": "3c553e12"
      },
      "source": [
        "# **Exercise 6.43**\n",
        "\n",
        "<img\n",
        "src=\"https://samyzaf.com/technion/cfit/sol/ex6k.jpg\"\n",
        "width=\"75%\"\n",
        "/>"
      ]
    },
    {
      "cell_type": "markdown",
      "id": "b4726afb",
      "metadata": {
        "cell_marker": "\"\"\"",
        "id": "b4726afb"
      },
      "source": [
        "# **Exercise 6.47**\n",
        "\n",
        "<img\n",
        "src=\"https://samyzaf.com/technion/cfit/sol/ex6q.jpg\"\n",
        "width=\"75%\"\n",
        "/>"
      ]
    },
    {
      "cell_type": "markdown",
      "id": "ca900361",
      "metadata": {
        "cell_marker": "\"\"\"",
        "id": "ca900361"
      },
      "source": [
        "# **Exercise 6.51**\n",
        "\n",
        "<img\n",
        "src=\"https://samyzaf.com/technion/cfit/sol/ex6t.jpg\"\n",
        "width=\"75%\"\n",
        "/>"
      ]
    },
    {
      "cell_type": "markdown",
      "id": "e3068160",
      "metadata": {
        "cell_marker": "\"\"\"",
        "lines_to_next_cell": 2,
        "id": "e3068160"
      },
      "source": [
        "# **Exercise 6.55**\n",
        "\n",
        "<img\n",
        "src=\"https://samyzaf.com/technion/cfit/sol/ex6j.jpg\"\n",
        "width=\"75%\"\n",
        "/>"
      ]
    }
  ],
  "metadata": {
    "jupytext": {
      "cell_metadata_filter": "-all",
      "main_language": "python",
      "notebook_metadata_filter": "-all"
    },
    "colab": {
      "provenance": [],
      "include_colab_link": true
    }
  },
  "nbformat": 4,
  "nbformat_minor": 5
}