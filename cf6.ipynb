{
  "cells": [
    {
      "cell_type": "markdown",
      "metadata": {
        "id": "view-in-github",
        "colab_type": "text"
      },
      "source": [
        "<a href=\"https://colab.research.google.com/github/samyzaf/notebooks/blob/main/cf6.ipynb\" target=\"_parent\"><img src=\"https://colab.research.google.com/assets/colab-badge.svg\" alt=\"Open In Colab\"/></a>"
      ]
    },
    {
      "cell_type": "markdown",
      "id": "b37e5420",
      "metadata": {
        "cell_marker": "\"\"\"",
        "id": "b37e5420"
      },
      "source": [
        "# **Complex Functions**\n",
        "# Chapter 6: Solutions to exercises\n",
        "\n",
        "<a href=\"https://samyzaf.com/technion/cfit/cf.pdf\">\n",
        "<img src=\"https://samyzaf.com/technion/cfit/cf1.jpg\" alt=\"cf book cover\"/>\n",
        "</a>\n",
        "\n",
        "* These are only a small number of solutions.\n",
        "  Hopefully this will encourage students to try to solve more\n",
        "  exercises with similar methods.\n",
        "\n",
        "* We will be glad to accept notebooks\n",
        "  with solutions to other exercises in this book.\n",
        "  Please send them to mail@samyzaf.com.\n",
        "\n",
        "* Thanks a lot to all the students that provided help, short snippets, and ideas."
      ]
    },
    {
      "cell_type": "markdown",
      "id": "d46212d6",
      "metadata": {
        "cell_marker": "\"\"\"",
        "id": "d46212d6"
      },
      "source": [
        "# **Exercise 6.1**\n",
        "\n",
        "<img\n",
        "src=\"https://samyzaf.com/technion/cfit/sol/ex6n.jpg\"\n",
        "width=\"60%\"\n",
        "/>"
      ]
    },
    {
      "cell_type": "markdown",
      "id": "47fd068d",
      "metadata": {
        "cell_marker": "\"\"\"",
        "id": "47fd068d"
      },
      "source": [
        "# **Exercise 6.4**\n",
        "\n",
        "<img\n",
        "src=\"https://samyzaf.com/technion/cfit/sol/ex6o.jpg\"\n",
        "width=\"60%\"\n",
        "/>"
      ]
    },
    {
      "cell_type": "markdown",
      "id": "50f2ea82",
      "metadata": {
        "cell_marker": "\"\"\"",
        "id": "50f2ea82"
      },
      "source": [
        "# **Exercise 6.6**\n",
        "\n",
        "<img\n",
        "src=\"https://samyzaf.com/technion/cfit/sol/ex6p.jpg\"\n",
        "width=\"60%\"\n",
        "/>"
      ]
    },
    {
      "cell_type": "markdown",
      "id": "abf5c27b",
      "metadata": {
        "cell_marker": "\"\"\"",
        "id": "abf5c27b"
      },
      "source": [
        "# **Exercise 6.18**\n",
        "\n",
        "<img\n",
        "src=\"https://samyzaf.com/technion/cfit/sol/ex7q.jpg\"\n",
        "width=\"60%\"\n",
        "/>"
      ]
    },
    {
      "cell_type": "markdown",
      "id": "e2d33e78",
      "metadata": {
        "cell_marker": "\"\"\"",
        "id": "e2d33e78"
      },
      "source": [
        "# **Exercise 6.21**\n",
        "\n",
        "<img\n",
        "src=\"https://samyzaf.com/technion/cfit/sol/ex5p.jpg\"\n",
        "width=\"60%\"\n",
        "/>"
      ]
    },
    {
      "cell_type": "markdown",
      "id": "14ccb0b6",
      "metadata": {
        "cell_marker": "\"\"\"",
        "id": "14ccb0b6"
      },
      "source": [
        "# **Exercise 6.22**\n",
        "\n",
        "<img\n",
        "src=\"https://samyzaf.com/technion/cfit/sol/ex6l.jpg\"\n",
        "width=\"60%\"\n",
        "/>"
      ]
    },
    {
      "cell_type": "markdown",
      "id": "7fb60b60",
      "metadata": {
        "cell_marker": "\"\"\"",
        "id": "7fb60b60"
      },
      "source": [
        "<div dir=rtl>\n",
        "<h1>תרגיל 6.23</h1>\n",
        "<p>$f(z) = e^{-1} \\cdot \\frac{e^{z+1}}{(1+z)^3}$.\n",
        "יש להשתמש בטור הידוע $e^{z+1} = \\sum_{n=0}^{\\infty} \\frac{1}{n!} (z+1)^n$</p>\n",
        "</div>"
      ]
    },
    {
      "cell_type": "markdown",
      "id": "243e1bd3",
      "metadata": {
        "cell_marker": "\"\"\"",
        "id": "243e1bd3"
      },
      "source": [
        "# **Exercise 6.24**\n",
        "\n",
        "<img\n",
        "src=\"https://samyzaf.com/technion/cfit/sol/ex6u.jpg\"\n",
        "width=\"60%\"\n",
        "/>"
      ]
    },
    {
      "cell_type": "markdown",
      "id": "5f1eb430",
      "metadata": {
        "cell_marker": "\"\"\"",
        "id": "5f1eb430"
      },
      "source": [
        "# **Exercise 6.25**\n",
        "\n",
        "<img\n",
        "src=\"https://samyzaf.com/technion/cfit/sol/ex6s.jpg\"\n",
        "width=\"60%\"\n",
        "/>"
      ]
    },
    {
      "cell_type": "markdown",
      "id": "236ee0d2",
      "metadata": {
        "cell_marker": "\"\"\"",
        "id": "236ee0d2"
      },
      "source": [
        "# **Exercise 6.26**\n",
        "\n",
        "<img\n",
        "src=\"https://samyzaf.com/technion/cfit/sol/ex6r.jpg\"\n",
        "width=\"60%\"\n",
        "/>"
      ]
    },
    {
      "cell_type": "markdown",
      "id": "066e6afe",
      "metadata": {
        "cell_marker": "\"\"\"",
        "id": "066e6afe"
      },
      "source": [
        "# **Exercise 6.28**\n",
        "\n",
        "<img\n",
        "src=\"https://samyzaf.com/technion/cfit/sol/ex6v.jpg\"\n",
        "width=\"60%\"\n",
        "/>"
      ]
    },
    {
      "cell_type": "markdown",
      "id": "d773854b",
      "metadata": {
        "cell_marker": "\"\"\"",
        "id": "d773854b"
      },
      "source": [
        "# **Exercise 6.29**\n",
        "\n",
        "<img\n",
        "src=\"https://samyzaf.com/technion/cfit/sol/ex6w.jpg\"\n",
        "width=\"60%\"\n",
        "/>"
      ]
    },
    {
      "cell_type": "markdown",
      "id": "ff5b2904",
      "metadata": {
        "cell_marker": "\"\"\"",
        "id": "ff5b2904"
      },
      "source": [
        "# **Exercise 6.30**\n",
        "\n",
        "<img\n",
        "src=\"https://samyzaf.com/technion/cfit/sol/ex6x.jpg\"\n",
        "width=\"60%\"\n",
        "/>"
      ]
    },
    {
      "cell_type": "markdown",
      "id": "1e2c582e",
      "metadata": {
        "cell_marker": "\"\"\"",
        "id": "1e2c582e"
      },
      "source": [
        "# **Exercise 6.33**\n",
        "\n",
        "<img\n",
        "src=\"https://samyzaf.com/technion/cfit/sol/ex7s.jpg\"\n",
        "width=\"60%\"\n",
        "/>"
      ]
    },
    {
      "cell_type": "markdown",
      "id": "765cae91",
      "metadata": {
        "cell_marker": "\"\"\"",
        "id": "765cae91"
      },
      "source": [
        "# **Exercise 6.34**\n",
        "\n",
        "<img\n",
        "src=\"https://samyzaf.com/technion/cfit/sol/ex7t.jpg\"\n",
        "width=\"60%\"\n",
        "/>"
      ]
    },
    {
      "cell_type": "markdown",
      "id": "4591bbda",
      "metadata": {
        "cell_marker": "\"\"\"",
        "id": "4591bbda"
      },
      "source": [
        "# **Exercise 6.36**\n",
        "\n",
        "Not fully checked yet, but it could be that the following link may contain ideas for a solution:\n",
        "\n",
        "https://math.stackexchange.com/questions/1233846/an-entire-function-is-a-polynomial-iff-the-taylor-expansion-around-0-converges"
      ]
    },
    {
      "cell_type": "markdown",
      "id": "5d105519",
      "metadata": {
        "cell_marker": "\"\"\"",
        "id": "5d105519"
      },
      "source": [
        "# **Exercise 6.37**\n",
        "\n",
        "Not fully checked yet, but it could be that the following link may contain ideas for a solution:\n",
        "\n",
        "https://math.stackexchange.com/questions/613524/suppose-f-and-g-are-entire-functions-and-fz-leq-gz-for-all-z-i"
      ]
    },
    {
      "cell_type": "markdown",
      "id": "c8e825d9",
      "metadata": {
        "cell_marker": "\"\"\"",
        "id": "c8e825d9"
      },
      "source": [
        "# **Exercise 6.39**\n",
        "\n",
        "<img\n",
        "src=\"https://samyzaf.com/technion/cfit/sol/ex6m.jpg\"\n",
        "width=\"60%\"\n",
        "/>\n",
        "\n",
        "<img\n",
        "src=\"https://samyzaf.com/technion/cfit/sol/ex7z.jpg\"\n",
        "width=\"60%\"\n",
        "/>"
      ]
    },
    {
      "cell_type": "markdown",
      "id": "b2faf346",
      "metadata": {
        "cell_marker": "\"\"\"",
        "id": "b2faf346"
      },
      "source": [
        "# **Exercise 6.40**\n",
        "\n",
        "<img\n",
        "src=\"https://samyzaf.com/technion/cfit/sol/ex6i.jpg\"\n",
        "width=\"60%\"\n",
        "/>"
      ]
    },
    {
      "cell_type": "markdown",
      "id": "96f0b245",
      "metadata": {
        "cell_marker": "\"\"\"",
        "id": "96f0b245"
      },
      "source": [
        "# **Exercise 6.41**\n",
        "\n",
        "<img\n",
        "src=\"https://samyzaf.com/technion/cfit/sol/ex6y.jpg\"\n",
        "width=\"60%\"\n",
        "/>"
      ]
    },
    {
      "cell_type": "markdown",
      "id": "aa7edaf5",
      "metadata": {
        "cell_marker": "\"\"\"",
        "id": "aa7edaf5"
      },
      "source": [
        "# **Exercise 6.43**\n",
        "\n",
        "<img\n",
        "src=\"https://samyzaf.com/technion/cfit/sol/ex6k.jpg\"\n",
        "width=\"60%\"\n",
        "/>"
      ]
    },
    {
      "cell_type": "markdown",
      "id": "9cbce48e",
      "metadata": {
        "cell_marker": "\"\"\"",
        "id": "9cbce48e"
      },
      "source": [
        "# **Exercise 6.47**\n",
        "\n",
        "<img\n",
        "src=\"https://samyzaf.com/technion/cfit/sol/ex6q.jpg\"\n",
        "width=\"60%\"\n",
        "/>"
      ]
    },
    {
      "cell_type": "markdown",
      "id": "dfe6eecd",
      "metadata": {
        "cell_marker": "\"\"\"",
        "id": "dfe6eecd"
      },
      "source": [
        "# **Exercise 6.51**\n",
        "\n",
        "<img\n",
        "src=\"https://samyzaf.com/technion/cfit/sol/ex6t.jpg\"\n",
        "width=\"60%\"\n",
        "/>"
      ]
    },
    {
      "cell_type": "markdown",
      "id": "ac6ba88d",
      "metadata": {
        "cell_marker": "\"\"\"",
        "lines_to_next_cell": 2,
        "id": "ac6ba88d"
      },
      "source": [
        "# **Exercise 6.55**\n",
        "\n",
        "<img\n",
        "src=\"https://samyzaf.com/technion/cfit/sol/ex6j.jpg\"\n",
        "width=\"60%\"\n",
        "/>"
      ]
    }
  ],
  "metadata": {
    "jupytext": {
      "cell_metadata_filter": "-all",
      "main_language": "python",
      "notebook_metadata_filter": "-all"
    },
    "colab": {
      "provenance": [],
      "include_colab_link": true
    }
  },
  "nbformat": 4,
  "nbformat_minor": 5
}