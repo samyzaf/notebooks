{
  "cells": [
    {
      "cell_type": "markdown",
      "metadata": {
        "id": "view-in-github",
        "colab_type": "text"
      },
      "source": [
        "<a href=\"https://colab.research.google.com/github/samyzaf/notebooks/blob/main/cf6.ipynb\" target=\"_parent\"><img src=\"https://colab.research.google.com/assets/colab-badge.svg\" alt=\"Open In Colab\"/></a>"
      ]
    },
    {
      "cell_type": "markdown",
      "id": "a683fd6a",
      "metadata": {
        "cell_marker": "\"\"\"",
        "id": "a683fd6a"
      },
      "source": [
        "# **Complex Functions**\n",
        "# Chapter 6: Solutions to exercises\n",
        "\n",
        "<a href=\"https://samyzaf.com/technion/cfit/cf.pdf\">\n",
        "<img src=\"https://samyzaf.com/technion/cfit/cf1.jpg\" alt=\"cf book cover\"/>\n",
        "</a>\n",
        "\n",
        "* These are only a small number of solutions.\n",
        "  Hopefully this will encourage students to try to solve more\n",
        "  exercises with similar methods.\n",
        "\n",
        "* We will be glad to accept notebooks\n",
        "  with solutions to other exercises in this book.\n",
        "  Please send them to mail@samyzaf.com.\n",
        "\n",
        "* Thanks a lot to all the students that provided help, short snippets, and ideas."
      ]
    },
    {
      "cell_type": "markdown",
      "id": "9f8c0694",
      "metadata": {
        "cell_marker": "\"\"\"",
        "id": "9f8c0694"
      },
      "source": [
        "# Exercise 6.1\n",
        "\n",
        "<img\n",
        "src=\"https://samyzaf.com/technion/cfit/sol/ex6n.jpg\"\n",
        "width=\"60%\"\n",
        "/>"
      ]
    },
    {
      "cell_type": "markdown",
      "id": "e4ee8b23",
      "metadata": {
        "cell_marker": "\"\"\"",
        "id": "e4ee8b23"
      },
      "source": [
        "# Exercise 6.4\n",
        "\n",
        "<img\n",
        "src=\"https://samyzaf.com/technion/cfit/sol/ex6o.jpg\"\n",
        "width=\"60%\"\n",
        "/>"
      ]
    },
    {
      "cell_type": "markdown",
      "id": "14fa78b2",
      "metadata": {
        "cell_marker": "\"\"\"",
        "id": "14fa78b2"
      },
      "source": [
        "# Exercise 6.6\n",
        "\n",
        "<img\n",
        "src=\"https://samyzaf.com/technion/cfit/sol/ex6p.jpg\"\n",
        "width=\"60%\"\n",
        "/>"
      ]
    },
    {
      "cell_type": "markdown",
      "id": "c5769f0e",
      "metadata": {
        "cell_marker": "\"\"\"",
        "id": "c5769f0e"
      },
      "source": [
        "# Exercise 6.18\n",
        "\n",
        "<img\n",
        "src=\"https://samyzaf.com/technion/cfit/sol/ex7q.jpg\"\n",
        "width=\"60%\"\n",
        "/>"
      ]
    },
    {
      "cell_type": "markdown",
      "id": "07adef27",
      "metadata": {
        "cell_marker": "\"\"\"",
        "id": "07adef27"
      },
      "source": [
        "# Exercise 6.21\n",
        "\n",
        "<img\n",
        "src=\"https://samyzaf.com/technion/cfit/sol/ex5p.jpg\"\n",
        "width=\"60%\"\n",
        "/>"
      ]
    },
    {
      "cell_type": "markdown",
      "id": "d7dc3785",
      "metadata": {
        "cell_marker": "\"\"\"",
        "id": "d7dc3785"
      },
      "source": [
        "# Exercise 6.22\n",
        "\n",
        "<img\n",
        "src=\"https://samyzaf.com/technion/cfit/sol/ex6l.jpg\"\n",
        "width=\"60%\"\n",
        "/>"
      ]
    },
    {
      "cell_type": "markdown",
      "id": "2e6ce1da",
      "metadata": {
        "cell_marker": "\"\"\"",
        "id": "2e6ce1da"
      },
      "source": [
        "<div dir=rtl>\n",
        "<h1>תרגיל 6.23</h1>\n",
        "<p>$f(z) = e^{-1} \\cdot \\frac{e^{z+1}}{(1+z)^3}$.\n",
        "יש להשתמש בטור הידוע $e^{z+1} = \\sum_{n=0}^{\\infty} \\frac{1}{n!} (z+1)^n$</p>\n",
        "</div>"
      ]
    },
    {
      "cell_type": "markdown",
      "id": "1174569b",
      "metadata": {
        "cell_marker": "\"\"\"",
        "id": "1174569b"
      },
      "source": [
        "# Exercise 6.24\n",
        "\n",
        "<img\n",
        "src=\"https://samyzaf.com/technion/cfit/sol/ex6u.jpg\"\n",
        "width=\"60%\"\n",
        "/>"
      ]
    },
    {
      "cell_type": "markdown",
      "id": "22e280c2",
      "metadata": {
        "cell_marker": "\"\"\"",
        "id": "22e280c2"
      },
      "source": [
        "# Exercise 6.25\n",
        "\n",
        "<img\n",
        "src=\"https://samyzaf.com/technion/cfit/sol/ex6s.jpg\"\n",
        "width=\"60%\"\n",
        "/>"
      ]
    },
    {
      "cell_type": "markdown",
      "id": "4e452ed8",
      "metadata": {
        "cell_marker": "\"\"\"",
        "id": "4e452ed8"
      },
      "source": [
        "# Exercise 6.26\n",
        "\n",
        "<img\n",
        "src=\"https://samyzaf.com/technion/cfit/sol/ex6r.jpg\"\n",
        "width=\"60%\"\n",
        "/>"
      ]
    },
    {
      "cell_type": "markdown",
      "id": "54f96581",
      "metadata": {
        "cell_marker": "\"\"\"",
        "id": "54f96581"
      },
      "source": [
        "# Exercise 6.28\n",
        "\n",
        "<img\n",
        "src=\"https://samyzaf.com/technion/cfit/sol/ex6v.jpg\"\n",
        "width=\"60%\"\n",
        "/>"
      ]
    },
    {
      "cell_type": "markdown",
      "id": "96538a25",
      "metadata": {
        "cell_marker": "\"\"\"",
        "id": "96538a25"
      },
      "source": [
        "# Exercise 6.29\n",
        "\n",
        "<img\n",
        "src=\"https://samyzaf.com/technion/cfit/sol/ex6w.jpg\"\n",
        "width=\"60%\"\n",
        "/>"
      ]
    },
    {
      "cell_type": "markdown",
      "id": "b32bfd3c",
      "metadata": {
        "cell_marker": "\"\"\"",
        "id": "b32bfd3c"
      },
      "source": [
        "# Exercise 6.30\n",
        "\n",
        "<img\n",
        "src=\"https://samyzaf.com/technion/cfit/sol/ex6x.jpg\"\n",
        "width=\"60%\"\n",
        "/>"
      ]
    },
    {
      "cell_type": "markdown",
      "id": "0d8e1807",
      "metadata": {
        "cell_marker": "\"\"\"",
        "id": "0d8e1807"
      },
      "source": [
        "# Exercise 6.33\n",
        "\n",
        "<img\n",
        "src=\"https://samyzaf.com/technion/cfit/sol/ex7s.jpg\"\n",
        "width=\"60%\"\n",
        "/>"
      ]
    },
    {
      "cell_type": "markdown",
      "id": "d808a687",
      "metadata": {
        "cell_marker": "\"\"\"",
        "id": "d808a687"
      },
      "source": [
        "# Exercise 6.34\n",
        "\n",
        "<img\n",
        "src=\"https://samyzaf.com/technion/cfit/sol/ex7t.jpg\"\n",
        "width=\"60%\"\n",
        "/>"
      ]
    },
    {
      "cell_type": "markdown",
      "id": "97b7d6b5",
      "metadata": {
        "cell_marker": "\"\"\"",
        "id": "97b7d6b5"
      },
      "source": [
        "# Exercise 6.36\n",
        "\n",
        "Not fully checked yet, but it could be that the following link may contain ideas for a solution:\n",
        "\n",
        "https://math.stackexchange.com/questions/1233846/an-entire-function-is-a-polynomial-iff-the-taylor-expansion-around-0-converges"
      ]
    },
    {
      "cell_type": "markdown",
      "id": "71d57276",
      "metadata": {
        "cell_marker": "\"\"\"",
        "id": "71d57276"
      },
      "source": [
        "# Exercise 6.37\n",
        "\n",
        "Not fully checked yet, but it could be that the following link may contain ideas for a solution:\n",
        "\n",
        "https://math.stackexchange.com/questions/613524/suppose-f-and-g-are-entire-functions-and-fz-leq-gz-for-all-z-i"
      ]
    },
    {
      "cell_type": "markdown",
      "id": "236c7994",
      "metadata": {
        "cell_marker": "\"\"\"",
        "id": "236c7994"
      },
      "source": [
        "# Exercise 6.39\n",
        "\n",
        "<img\n",
        "src=\"https://samyzaf.com/technion/cfit/sol/ex6m.jpg\"\n",
        "width=\"60%\"\n",
        "/>\n",
        "\n",
        "<img\n",
        "src=\"https://samyzaf.com/technion/cfit/sol/ex7z.jpg\"\n",
        "width=\"60%\"\n",
        "/>"
      ]
    },
    {
      "cell_type": "markdown",
      "id": "41a1d1b1",
      "metadata": {
        "cell_marker": "\"\"\"",
        "id": "41a1d1b1"
      },
      "source": [
        "# Exercise 6.40\n",
        "\n",
        "<img\n",
        "src=\"https://samyzaf.com/technion/cfit/sol/ex6i.jpg\"\n",
        "width=\"60%\"\n",
        "/>"
      ]
    },
    {
      "cell_type": "markdown",
      "id": "7cc4fd51",
      "metadata": {
        "cell_marker": "\"\"\"",
        "id": "7cc4fd51"
      },
      "source": [
        "# Exercise 6.41\n",
        "\n",
        "<img\n",
        "src=\"https://samyzaf.com/technion/cfit/sol/ex6y.jpg\"\n",
        "width=\"60%\"\n",
        "/>"
      ]
    },
    {
      "cell_type": "markdown",
      "id": "f1ac9b81",
      "metadata": {
        "cell_marker": "\"\"\"",
        "id": "f1ac9b81"
      },
      "source": [
        "# Exercise 6.43\n",
        "\n",
        "<img\n",
        "src=\"https://samyzaf.com/technion/cfit/sol/ex6k.jpg\"\n",
        "width=\"60%\"\n",
        "/>"
      ]
    },
    {
      "cell_type": "markdown",
      "id": "addff914",
      "metadata": {
        "cell_marker": "\"\"\"",
        "id": "addff914"
      },
      "source": [
        "# Exercise 6.47\n",
        "\n",
        "<img\n",
        "src=\"https://samyzaf.com/technion/cfit/sol/ex6q.jpg\"\n",
        "width=\"60%\"\n",
        "/>"
      ]
    },
    {
      "cell_type": "markdown",
      "id": "907ce93a",
      "metadata": {
        "cell_marker": "\"\"\"",
        "id": "907ce93a"
      },
      "source": [
        "# Exercise 6.51\n",
        "\n",
        "<img\n",
        "src=\"https://samyzaf.com/technion/cfit/sol/ex6t.jpg\"\n",
        "width=\"60%\"\n",
        "/>"
      ]
    },
    {
      "cell_type": "markdown",
      "id": "5ed5f92e",
      "metadata": {
        "cell_marker": "\"\"\"",
        "lines_to_next_cell": 2,
        "id": "5ed5f92e"
      },
      "source": [
        "# Exercise 6.55\n",
        "\n",
        "<img\n",
        "src=\"https://samyzaf.com/technion/cfit/sol/ex6j.jpg\"\n",
        "width=\"60%\"\n",
        "/>"
      ]
    }
  ],
  "metadata": {
    "jupytext": {
      "cell_metadata_filter": "-all",
      "main_language": "python",
      "notebook_metadata_filter": "-all"
    },
    "colab": {
      "provenance": [],
      "include_colab_link": true
    }
  },
  "nbformat": 4,
  "nbformat_minor": 5
}