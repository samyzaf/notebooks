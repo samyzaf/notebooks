{
  "cells": [
    {
      "cell_type": "markdown",
      "metadata": {
        "id": "view-in-github",
        "colab_type": "text"
      },
      "source": [
        "<a href=\"https://colab.research.google.com/github/samyzaf/notebooks/blob/main/harmonic_task_4.ipynb\" target=\"_parent\"><img src=\"https://colab.research.google.com/assets/colab-badge.svg\" alt=\"Open In Colab\"/></a>"
      ]
    },
    {
      "cell_type": "markdown",
      "metadata": {
        "id": "bNgCcbH05oim"
      },
      "source": [
        "# **Harmonic Functions Computational Project**\n",
        "## **Preparation**\n",
        "* To prepare to this project, you have to read and work\n",
        "  through the main Colab notebook:  \n",
        "  https://colab.research.google.com/github/samyzaf/notebooks/blob/main/cfproj.ipynb\n",
        "\n",
        "* Understanding well the **cfproj.ipynb** notebook will provide\n",
        "  you with the tools you need for this project.\n",
        "\n",
        "* An additional motivational example (Steve Jobs Caligraphy Story)\n",
        "  is also highly recommended:  \n",
        "  https://colab.research.google.com/github/samyzaf/notebooks/blob/main/harmonic_fonts.ipynb\n",
        "\n",
        "## **Installation and Loading**\n",
        "* Run the following cell to install and load the **cfclon** package\n",
        "  and harmonic matrices database needed for the exercise."
      ]
    },
    {
      "cell_type": "code",
      "execution_count": 1,
      "metadata": {
        "id": "JD90Uu4zVoVv",
        "colab": {
          "base_uri": "https://localhost:8080/"
        },
        "outputId": "00a29561-83a4-4cf9-eb41-14f097acaf42"
      },
      "outputs": [
        {
          "output_type": "stream",
          "name": "stdout",
          "text": [
            "  Preparing metadata (setup.py) ... \u001b[?25l\u001b[?25hdone\n",
            "  Preparing metadata (setup.py) ... \u001b[?25l\u001b[?25hdone\n",
            "  Preparing metadata (setup.py) ... \u001b[?25l\u001b[?25hdone\n",
            "  Building wheel for cfclon (setup.py) ... \u001b[?25l\u001b[?25hdone\n",
            "  Building wheel for ezprogbar (setup.py) ... \u001b[?25l\u001b[?25hdone\n",
            "  Building wheel for ezsettings (setup.py) ... \u001b[?25l\u001b[?25hdone\n"
          ]
        }
      ],
      "source": [
        "%pip install -q https://samyzaf.com/cfclon-36.zip\n",
        "from cfclon import *\n",
        "plt.rcParams['figure.dpi'] = 90\n",
        "reg.log.state = \"disabled\"\n",
        "dbname = \"https://samyzaf.com/cfproj/aleph4.db\"\n",
        "load_db(dbname)"
      ]
    },
    {
      "cell_type": "markdown",
      "source": [
        "* The following code defines the coordinates of **cage1**,\n",
        "  the vertices and segments of the Hebrew letter aleph\n",
        "  image."
      ],
      "metadata": {
        "id": "ciR5UF7CUHyb"
      }
    },
    {
      "cell_type": "code",
      "source": [
        "cage1 = [(5,1), (1,8),  (5,15), (19,15), (23,8), (19,1)]\n",
        "\n",
        "p1 = (6,2)\n",
        "p2 = (9,5)\n",
        "p3 = (15,11)\n",
        "p4 = (18,14)\n",
        "p5 = (17,2)\n",
        "p6 = (7,14)\n",
        "\n",
        "draw_cage(cage1)\n",
        "\n",
        "draw_line(p1,p2)\n",
        "draw_line(p2,p3)\n",
        "draw_line(p3,p4)\n",
        "draw_line(p2,p6)\n",
        "draw_line(p3,p5)\n",
        "\n",
        "draw_point(p1)\n",
        "draw_point(p2)\n",
        "draw_point(p3)\n",
        "draw_point(p4)\n",
        "draw_point(p5)\n",
        "draw_point(p6)\n",
        "\n",
        "plt.rcParams[\"figure.figsize\"] = (5,5)\n",
        "show_plot()\n"
      ],
      "metadata": {
        "colab": {
          "base_uri": "https://localhost:8080/",
          "height": 278
        },
        "id": "Crn97-Nu419a",
        "outputId": "c078fc1f-8731-422a-df4b-8546731b6d83"
      },
      "execution_count": 6,
      "outputs": [
        {
          "output_type": "display_data",
          "data": {
            "text/plain": [
              "<Figure size 450x360 with 1 Axes>"
            ],
            "image/png": "[encoded data removed]"
          },
          "metadata": {}
        }
      ]
    },
    {
      "cell_type": "markdown",
      "source": [
        "* To print variables use the `print` command."
      ],
      "metadata": {
        "id": "QRvnFt6qbroi"
      }
    },
    {
      "cell_type": "code",
      "source": [
        "print(p5)"
      ],
      "metadata": {
        "colab": {
          "base_uri": "https://localhost:8080/"
        },
        "id": "I6hVXuYpbzFA",
        "outputId": "bef5f013-a485-4513-ed05-e7d891e8c0aa"
      },
      "execution_count": 7,
      "outputs": [
        {
          "output_type": "stream",
          "name": "stdout",
          "text": [
            "(17, 2)\n"
          ]
        }
      ]
    },
    {
      "cell_type": "markdown",
      "source": [
        "* This is a picture of the aleph character and **cage1**\n",
        "  with labels on the vertices.\n",
        "* The character color is dark blue and the cage color is dark brown.\n",
        "* Students are not required to draw labels (too technical).  \n",
        "<IMG\n",
        "src=\"https://samyzaf.com/cfproj/aleph4d.jpg\"\n",
        "width=500 align=\"center\"/>"
      ],
      "metadata": {
        "id": "wOzsDQMPUsP-"
      }
    },
    {
      "cell_type": "markdown",
      "source": [
        "* Next we show two pictures of two clones of the\n",
        "  aleph character inside two new cages\n",
        "```Python\n",
        "cage2 = [(5,4), (2,11), (5,15), (19,12), (22,5), (19,1)]\n",
        "cage3 = [(5,6), (7,11), (5,15), (19,10), (17,5), (19,1)]\n",
        "```\n",
        "* As you can see all cages are six points polygons that are\n",
        "  obtained by modifying the locations of **cage1** vertices.\n",
        "* Students are not required to draw labels (too technical).\n",
        "<IMG\n",
        "src=\"https://samyzaf.com/cfproj/aleph4c.jpg\"\n",
        "width=800\n",
        "align=\"center\"\n",
        "/>"
      ],
      "metadata": {
        "id": "IPDj8R6t1DN-"
      }
    },
    {
      "cell_type": "markdown",
      "source": [
        "* Now we define a new cage **cage4** and draw it."
      ],
      "metadata": {
        "id": "5-7aGgnoWS0D"
      }
    },
    {
      "cell_type": "code",
      "source": [
        "cage4 = [(5,9), (9,11), (7,18), (24,10), (15,5), (14,1)]\n",
        "draw_cage(cage4)\n",
        "show_plot()"
      ],
      "metadata": {
        "colab": {
          "base_uri": "https://localhost:8080/",
          "height": 368
        },
        "id": "xQBMqYOaTdsZ",
        "outputId": "fee4f969-f35e-45fb-9270-e656ff75315a"
      },
      "execution_count": 8,
      "outputs": [
        {
          "output_type": "display_data",
          "data": {
            "text/plain": [
              "<Figure size 450x450 with 1 Axes>"
            ],
            "image/png": "[encoded data removed]"
          },
          "metadata": {}
        }
      ]
    },
    {
      "cell_type": "markdown",
      "source": [
        "## **YOUR TASK**\n",
        "* In the next cell you need to write the required Python code for\n",
        "  cloning the letter aleph to **cage4**.\n",
        "\n",
        "* Your code should also draw **cage4** and the character **aleph**\n",
        "  as in the above examples.\n",
        "\n",
        "* You don't need to draw point labels or point coordinates.\n",
        "\n",
        "* To make it easier to grade, please use the variables\n",
        "  `q1`, `q2`, `q3`, `q4`, `q5`, `q6`\n",
        "  for the new points of the cloned **aleph** character."
      ],
      "metadata": {
        "id": "up1yyjcUcjeH"
      }
    },
    {
      "cell_type": "code",
      "source": [
        "# WRITE YOUR CODE HERE.\n",
        "#\n",
        "#\n",
        "#"
      ],
      "metadata": {
        "id": "kW-OQRh2f_5F"
      },
      "execution_count": null,
      "outputs": []
    },
    {
      "cell_type": "markdown",
      "source": [
        "## **Task Submission**\n",
        "* After completing the task you will have to upload it\n",
        "  to your Moodle account for grading.\n",
        "* From the **File/Download** menu download it to your local\n",
        "  drive as an **ipynb** file, and then upload it to\n",
        "  Moodle as the **\"תרגיל תיכנותי\"**."
      ],
      "metadata": {
        "id": "v_X69mUekMdN"
      }
    }
  ],
  "metadata": {
    "colab": {
      "provenance": [],
      "include_colab_link": true
    },
    "kernelspec": {
      "display_name": "Python 3 (ipykernel)",
      "language": "python",
      "name": "python3"
    },
    "language_info": {
      "codemirror_mode": {
        "name": "ipython",
        "version": 3
      },
      "file_extension": ".py",
      "mimetype": "text/x-python",
      "name": "python",
      "nbconvert_exporter": "python",
      "pygments_lexer": "ipython3",
      "version": "3.7.11"
    }
  },
  "nbformat": 4,
  "nbformat_minor": 0
}