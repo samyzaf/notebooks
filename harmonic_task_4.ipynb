{
  "cells": [
    {
      "cell_type": "markdown",
      "metadata": {
        "id": "view-in-github",
        "colab_type": "text"
      },
      "source": [
        "<a href=\"https://colab.research.google.com/github/samyzaf/notebooks/blob/main/harmonic_task_4.ipynb\" target=\"_parent\"><img src=\"https://colab.research.google.com/assets/colab-badge.svg\" alt=\"Open In Colab\"/></a>"
      ]
    },
    {
      "cell_type": "markdown",
      "id": "6fb95ecd",
      "metadata": {
        "cell_marker": "\"\"\"",
        "id": "6fb95ecd"
      },
      "source": [
        "# **Harmonic Functions Computational Project**\n",
        "<small>version: 18.12.25a</small>\n",
        "## **Preparation**\n",
        "* To prepare to this project, you have to read and work\n",
        "  through the main Colab notebook:  \n",
        "  https://colab.research.google.com/github/samyzaf/notebooks/blob/main/cfproj.ipynb\n",
        "\n",
        "* Understanding well the **cfproj.ipynb** notebook will provide\n",
        "  you with the tools you need for this project.\n",
        "\n",
        "* An additional motivational example (Steve Jobs Calligraphy Story)\n",
        "  is also highly recommended:  \n",
        "  https://colab.research.google.com/github/samyzaf/notebooks/blob/main/harmonic_fonts.ipynb\n",
        "\n",
        "## **Installation and Loading**\n",
        "* Run the following cell to install and load the **cfclon** package\n",
        "  and harmonic matrices database needed for the exercise."
      ]
    },
    {
      "cell_type": "code",
      "execution_count": null,
      "id": "3763959e",
      "metadata": {
        "lines_to_next_cell": 2,
        "id": "3763959e"
      },
      "outputs": [],
      "source": [
        "%pip install -q https://samyzaf.com/cfclon-36.zip\n",
        "from cfclon import *\n",
        "plt.rcParams['figure.dpi'] = 90\n",
        "reg.log.state = \"disabled\"\n",
        "dbname = \"https://samyzaf.com/cfproj/aleph4.db\"\n",
        "load_db(dbname)"
      ]
    },
    {
      "cell_type": "markdown",
      "id": "ae78890d",
      "metadata": {
        "cell_marker": "\"\"\"",
        "id": "ae78890d"
      },
      "source": [
        "* The following code defines the coordinates of **cage1**,\n",
        "  the vertices and segments of the Hebrew letter aleph\n",
        "  image."
      ]
    },
    {
      "cell_type": "code",
      "execution_count": null,
      "id": "29e9c9cc",
      "metadata": {
        "lines_to_next_cell": 2,
        "id": "29e9c9cc"
      },
      "outputs": [],
      "source": [
        "cage1 = [(5,1), (1,8),  (5,15), (19,15), (23,8), (19,1)]\n",
        "\n",
        "p1 = (6,2)\n",
        "p2 = (9,5)\n",
        "p3 = (15,11)\n",
        "p4 = (18,14)\n",
        "p5 = (17,2)\n",
        "p6 = (7,14)\n",
        "\n",
        "draw_cage(cage1)\n",
        "\n",
        "draw_line(p1,p2)\n",
        "draw_line(p2,p3)\n",
        "draw_line(p3,p4)\n",
        "draw_line(p2,p6)\n",
        "draw_line(p3,p5)\n",
        "\n",
        "draw_point(p1)\n",
        "draw_point(p2)\n",
        "draw_point(p3)\n",
        "draw_point(p4)\n",
        "draw_point(p5)\n",
        "draw_point(p6)\n",
        "\n",
        "plt.rcParams[\"figure.figsize\"] = (5,5)\n",
        "show_plot()"
      ]
    },
    {
      "cell_type": "markdown",
      "id": "6723fed1",
      "metadata": {
        "cell_marker": "\"\"\"",
        "id": "6723fed1"
      },
      "source": [
        "* To print variables use the `print` command.\""
      ]
    },
    {
      "cell_type": "code",
      "execution_count": null,
      "id": "ccc4faeb",
      "metadata": {
        "lines_to_next_cell": 2,
        "id": "ccc4faeb"
      },
      "outputs": [],
      "source": [
        "print(p5)"
      ]
    },
    {
      "cell_type": "markdown",
      "id": "9fc92641",
      "metadata": {
        "cell_marker": "\"\"\"",
        "id": "9fc92641"
      },
      "source": [
        "* This is a picture of the aleph character and **cage1**\n",
        "  with labels on the vertices.\n",
        "* The character color is dark blue and the cage color is dark brown.\n",
        "* Students are not required to draw labels (too technical).  \n",
        "<IMG\n",
        "src=\"https://samyzaf.com/cfproj/aleph4d.jpg\"\n",
        "width=500 align=\"center\"/>\n",
        "\n",
        "* Next we show two pictures of two clones of the\n",
        "  aleph character inside two new cages\n",
        "```Python\n",
        "cage2 = [(5,4), (2,11), (5,15), (19,12), (22,5), (19,1)]\n",
        "cage3 = [(5,6), (7,11), (5,15), (19,10), (17,5), (19,1)]\n",
        "```\n",
        "* As you can see all cages are six points polygons that are\n",
        "  obtained by modifying the locations of **cage1** vertices.\n",
        "* Students are not required to draw labels (too technical).\n",
        "<IMG\n",
        "src=\"https://samyzaf.com/cfproj/aleph4c.jpg\"\n",
        "width=800\n",
        "align=\"center\"\n",
        "/>\n",
        "\n",
        "* Now we define a new cage **cage4** and draw it."
      ]
    },
    {
      "cell_type": "code",
      "execution_count": null,
      "id": "a0aecfaa",
      "metadata": {
        "lines_to_next_cell": 2,
        "id": "a0aecfaa"
      },
      "outputs": [],
      "source": [
        "cage4 = [(5,9), (9,11), (7,18), (24,10), (15,5), (14,1)]\n",
        "draw_cage(cage4)\n",
        "show_plot()"
      ]
    },
    {
      "cell_type": "markdown",
      "id": "ba620c07",
      "metadata": {
        "cell_marker": "\"\"\"",
        "id": "ba620c07"
      },
      "source": [
        "## **YOUR TASK**\n",
        "* In the next cell you need to write the required Python code for\n",
        "  cloning the letter aleph to **cage4**.\n",
        "\n",
        "* Your code should also draw **cage4** and the character **aleph**\n",
        "  as in the above examples.\n",
        "\n",
        "* The only **cfclon** functions you are allowed to use are:\n",
        "  * **harmonic_coordinates**\n",
        "  * **clone**\n",
        "  * **draw_line**\n",
        "  * **draw_point**\n",
        "  * **draw_curve**\n",
        "  * **draw_poly**\n",
        "  * **draw_cage**\n",
        "  * **show_plot**\n",
        "\n",
        "  * All the standard Python commands are of course allowed.\n",
        "\n",
        "* You don't need to draw point labels or point coordinates.\n",
        "\n",
        "* To make it easier to grade, please use the variables\n",
        "  `q1`, `q2`, `q3`, `q4`, `q5`, `q6`\n",
        "  for the new points of the cloned **aleph** character."
      ]
    },
    {
      "cell_type": "code",
      "execution_count": null,
      "id": "47ef09d2",
      "metadata": {
        "id": "47ef09d2"
      },
      "outputs": [],
      "source": [
        "# WRITE YOUR CODE HERE.\n",
        "#\n",
        "#\n",
        "#"
      ]
    },
    {
      "cell_type": "markdown",
      "id": "c1e65624",
      "metadata": {
        "cell_marker": "\"\"\"",
        "lines_to_next_cell": 2,
        "id": "c1e65624"
      },
      "source": [
        "## **Task Submission**\n",
        "* After completing the task you will have to upload it\n",
        "  to your Moodle account for grading.\n",
        "* From the **File/Download** menu download it to your local\n",
        "  drive as an **ipynb** file, and then upload it to\n",
        "  Moodle as the **\"תרגיל תיכנותי\"**."
      ]
    }
  ],
  "metadata": {
    "jupytext": {
      "cell_metadata_filter": "-all",
      "main_language": "python",
      "notebook_metadata_filter": "-all"
    },
    "colab": {
      "provenance": [],
      "include_colab_link": true
    }
  },
  "nbformat": 4,
  "nbformat_minor": 5
}