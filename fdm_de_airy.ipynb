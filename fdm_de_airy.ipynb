{
  "cells": [
    {
      "cell_type": "markdown",
      "metadata": {
        "id": "view-in-github",
        "colab_type": "text"
      },
      "source": [
        "<a href=\"https://colab.research.google.com/github/samyzaf/notebooks/blob/main/fdm_de_airy.ipynb\" target=\"_parent\"><img src=\"https://colab.research.google.com/assets/colab-badge.svg\" alt=\"Open In Colab\"/></a>"
      ]
    },
    {
      "cell_type": "markdown",
      "id": "725694b9",
      "metadata": {
        "cell_marker": "\"\"\"",
        "id": "725694b9"
      },
      "source": [
        "# **Solving a second order linear equation by FDM**\n",
        "\n",
        "* We show how to find a numerical solution to\n",
        "  the [**Airy ordinary differential equation**](https://en.wikipedia.org/wiki/Airy_function)\n",
        "  with two boundary conditions  \n",
        "\n",
        "  $\\qquad\n",
        "  \\left\\{\n",
        "  \\begin{array}{l}\n",
        "  y'' - xy = 0, \\quad -3 < x < 3\n",
        "  \\\\\n",
        "  y(-3) = 4\n",
        "  \\\\\n",
        "  y(3) = -5\n",
        "  \\end{array}\n",
        "  \\right.\n",
        "  \\newcommand{\\Dx}{\\Delta x}\n",
        "  \\newcommand{\\Dy}{\\Delta y}\n",
        "  \\newcommand{\\Dz}{\\Delta z}\n",
        "  \\newcommand{\\Dt}{\\Delta t}\n",
        "  \\newcommand{\\Ds}{\\Delta s}\n",
        "  \\newcommand{\\Du}{\\Delta u}\n",
        "  \\newcommand{\\U}{\\mathbf{U}}\n",
        "  $  \n",
        "\n",
        "* Our interval $[-3,3]$ is divided to $n$ equal subintervals\n",
        "  with nodes $x_i = -3+i\\Dx$, where $\\Dx=6/n$.\n",
        "\n",
        "* By existence and uniqueness, the equation has a\n",
        "  solution $y=y(x)$.\n",
        "  We will compute a discrete approximation to\n",
        "  $y_i = y(x_i)$.\n",
        "\n",
        "* We use the central difference second derivative formula  \n",
        "\n",
        "  $\\qquad\\displaystyle\n",
        "  y'' = \\frac{y_{i+1} - 2y_{i} + y_{i-1}}{\\Dx^2}\n",
        "  $\n",
        "\n",
        "* We use $d=\\Dx$, and plug into the equation\n",
        "\n",
        "  $\\qquad\\displaystyle\n",
        "   \\frac{y_{i+1} - 2y_{i} + y_{i-1}}{d^2} - x_i y_i = 0\n",
        "  $\n",
        "\n",
        "* We receive a system of $n+1$ linear equations\n",
        "  in $n+1$ unknowns $y_i$, $i=0,1,2,\\ldots,n$  \n",
        "\n",
        "  $\\qquad\\left\\{\n",
        "  \\begin{array}{l}\n",
        "  y_0 = 4\n",
        "  \\\\\n",
        "  y_{i-1} - (d^2 x_i + 2)y_{i} + y_{i+1} = 0, \\quad i=1,2,\\ldots,n-1\n",
        "  \\\\\n",
        "  y_{n} = -5\n",
        "  \\end{array}\\right.\n",
        "  $\n",
        "\n",
        "* Most of the equations are homogenous, except for\n",
        "  the first one ($y_0=4$) and the last one ($y_n=-5$).\n",
        "  It's already in a diagonal reduce form so it\n",
        "  must have a unique soltion."
      ]
    },
    {
      "cell_type": "code",
      "execution_count": null,
      "id": "2e39cdff",
      "metadata": {
        "lines_to_next_cell": 2,
        "id": "2e39cdff"
      },
      "outputs": [],
      "source": [
        "# Commented out IPython magic to ensure Python compatibility.\n",
        "%pip install -q https://samyzaf.com/fdmtools.zip\n",
        "from fdmtools import *"
      ]
    },
    {
      "cell_type": "markdown",
      "id": "19e5b595",
      "metadata": {
        "cell_marker": "\"\"\"",
        "id": "19e5b595"
      },
      "source": [
        "* First we define our grid parameters.\n",
        "* For a start we use a small division size $N=100$."
      ]
    },
    {
      "cell_type": "code",
      "execution_count": null,
      "id": "95bd0cec",
      "metadata": {
        "lines_to_next_cell": 2,
        "id": "95bd0cec"
      },
      "outputs": [],
      "source": [
        "a = -3                   # Interval = [-3,3]\n",
        "b = 3\n",
        "N = 1000                 # Division size\n",
        "d = (b-a)/N             # x step\n",
        "X = np.array([a + i*d for i in range(N+1)])  # x nodes\n",
        "Y = np.zeros(N+1)        # y nodes (initialized to zero)"
      ]
    },
    {
      "cell_type": "markdown",
      "id": "c7d59020",
      "metadata": {
        "cell_marker": "\"\"\"",
        "id": "c7d59020"
      },
      "source": [
        "* Linear system of (n+1) equations, (n+1) variables:\n",
        "  $AY = B$\n",
        "* $A$ is our coefficients matrix of order\n",
        "  $(n+1)\\times(n+1)$.\n",
        "* $B$ is our right side coefficients array."
      ]
    },
    {
      "cell_type": "code",
      "execution_count": null,
      "id": "2340cf00",
      "metadata": {
        "lines_to_next_cell": 2,
        "id": "2340cf00"
      },
      "outputs": [],
      "source": [
        "A = np.zeros((N+1, N+1))\n",
        "B = np.zeros(N+1)\n",
        "X = [a+i*d for i in range(N+1)]"
      ]
    },
    {
      "cell_type": "markdown",
      "id": "c7f849f6",
      "metadata": {
        "cell_marker": "\"\"\"",
        "id": "c7f849f6"
      },
      "source": [
        "* We now construct our coefficients matrix $A$ by rows,\n",
        "  from row $1$ to row $n-1$\n",
        "* Row $0$ and row $n$ will be done separately."
      ]
    },
    {
      "cell_type": "code",
      "execution_count": null,
      "id": "9eac66df",
      "metadata": {
        "lines_to_next_cell": 2,
        "id": "9eac66df"
      },
      "outputs": [],
      "source": [
        "for i in range(1, N):\n",
        "    A[i,i-1] = 1\n",
        "    A[i,i] = -d**2 * X[i] - 2\n",
        "    A[i,i+1] = 1\n",
        "    B[i] = 0"
      ]
    },
    {
      "cell_type": "markdown",
      "id": "2c4b02a3",
      "metadata": {
        "cell_marker": "\"\"\"",
        "id": "2c4b02a3"
      },
      "source": [
        "* We need two more equation to complete\n",
        "  our $(N+1){\\times}(N+1)$ linear system:\n",
        "* The boundary condition y(0) = 4 implies\n"
      ]
    },
    {
      "cell_type": "code",
      "execution_count": null,
      "id": "22af94fd",
      "metadata": {
        "lines_to_next_cell": 2,
        "id": "22af94fd"
      },
      "outputs": [],
      "source": [
        "A[0,0] = 1\n",
        "B[0] = 4"
      ]
    },
    {
      "cell_type": "markdown",
      "id": "b253f066",
      "metadata": {
        "cell_marker": "\"\"\"",
        "id": "b253f066"
      },
      "source": [
        "* The boundary condition y(3) = -5 implies equation `Y[n] = -5`.\n",
        "* Hence in matrix terms this ammounts to"
      ]
    },
    {
      "cell_type": "code",
      "execution_count": null,
      "id": "26df047d",
      "metadata": {
        "lines_to_next_cell": 2,
        "id": "26df047d"
      },
      "outputs": [],
      "source": [
        "A[N,N] = 1\n",
        "B[N] = -5"
      ]
    },
    {
      "cell_type": "markdown",
      "id": "7c791f87",
      "metadata": {
        "cell_marker": "\"\"\"",
        "id": "7c791f87"
      },
      "source": [
        "* Now we are ready to solve our system."
      ]
    },
    {
      "cell_type": "code",
      "execution_count": null,
      "id": "39f62855",
      "metadata": {
        "lines_to_next_cell": 2,
        "id": "39f62855"
      },
      "outputs": [],
      "source": [
        "Y = np.linalg.solve(A, B)"
      ]
    },
    {
      "cell_type": "markdown",
      "id": "0c6e315a",
      "metadata": {
        "cell_marker": "\"\"\"",
        "id": "0c6e315a"
      },
      "source": [
        "* Lets draw the graph of **Y**."
      ]
    },
    {
      "cell_type": "code",
      "execution_count": null,
      "id": "cdf7a5e6",
      "metadata": {
        "lines_to_next_cell": 2,
        "id": "cdf7a5e6"
      },
      "outputs": [],
      "source": [
        "X = np.linspace(a, b ,N+1)\n",
        "plt.plot(X, Y, color=\"blue\", linewidth=1.5)\n",
        "plt.xlabel(\"x\")\n",
        "plt.ylabel(\"y\")\n",
        "plt.title(\"Airy function\")\n",
        "plt.grid('on', linestyle=':')\n",
        "#plt.savefig(\"airy.png\", dpi=150, bbox_inches='tight')\n",
        "plt.show()"
      ]
    },
    {
      "cell_type": "markdown",
      "id": "a2687aa5",
      "metadata": {
        "cell_marker": "\"\"\"",
        "lines_to_next_cell": 1,
        "id": "a2687aa5"
      },
      "source": [
        "# Verification\n",
        "* We would like to check if our solution is indeed\n",
        "  a solution to the Airy equation, and how\n",
        "  accurate it is?\n",
        "\n",
        "* The\n",
        "  [classical solution of Airy equation](https://mathworld.wolfram.com/AiryDifferentialEquation.html)\n",
        "  is done by using a power series method.\n",
        "  The general solution is  \n",
        "\n",
        "  $\\quad\\displaystyle\n",
        "  y(x)\n",
        "  =\n",
        "  a_0\n",
        "  \\left(\n",
        "  1\n",
        "  +\n",
        "  \\sum_{k=1}^{\\infty}\\,\\frac{x^{3k}}{2\\cdot 3 \\cdot 5\\cdot 6\\cdot 8\\cdot 9 \\cdots (3k-1) \\cdot 3k}\n",
        "  \\right)\n",
        "  +\n",
        "  a_1\n",
        "  \\left(\n",
        "  x\n",
        "  +\n",
        "  \\sum_{k=1}^{\\infty}\\,\\frac{x^{3k+1}}{3\\cdot 4 \\cdot 6\\cdot 7\\cdot 9\\cdot 10 \\cdots 3k \\cdot (3k+1)}\n",
        "  \\right)\n",
        "  $\n",
        "\n",
        "* Using Sympy, it is easy to find the\n",
        "  particular solution\n",
        "  to our case by plugging the initial conditions  \n",
        "\n",
        "  $\\qquad\n",
        "  \\begin{array}{rcl}\n",
        "  a_0 &=& -3.899582585804049\n",
        "  \\\\\n",
        "  a_1 &=& 2.527852502969321\n",
        "  \\end{array}\n",
        "  $"
      ]
    },
    {
      "cell_type": "code",
      "execution_count": null,
      "id": "c8702f36",
      "metadata": {
        "lines_to_next_cell": 2,
        "id": "c8702f36"
      },
      "outputs": [],
      "source": [
        "# Power series solution to the Airy ODE:\n",
        "#     y'' -xy' = 0\n",
        "#     y(-3) = 4\n",
        "#     y(3) = -5\n",
        "# with boundary conditions on the interval [-3,3]\n",
        "\n",
        "# These are the denominators in the power series\n",
        "def F0(n):\n",
        "    if n == 1:\n",
        "        return 6\n",
        "    else:\n",
        "        return F0(n-1) * (3*n-1) * 3*n\n",
        "\n",
        "def F1(n):\n",
        "    if n == 1:\n",
        "        return 12\n",
        "    else:\n",
        "        return F1(n-1) * 3*n * (3*n+1)\n",
        "\n",
        "# Fundamental solutions\n",
        "def f0(x):\n",
        "    y = 1\n",
        "    for k in range(1,30):\n",
        "        y += x**(3*k) / F0(k)\n",
        "    return y\n",
        "\n",
        "def f1(x):\n",
        "    y = x\n",
        "    for k in range(1,30):\n",
        "        y += x**(3*k+1) / F1(k)\n",
        "    return y\n",
        "\n",
        "a = -3\n",
        "b = 3\n",
        "\n",
        "# scalars for linear combination\n",
        "a0 = -3.899582585804049\n",
        "a1 = 2.527852502969321\n",
        "\n",
        "# Solution bu power series\n",
        "def f(x):\n",
        "    y = a0*f0(x) + a1*f1(x)\n",
        "    return y\n",
        "\n",
        "n = 1000\n",
        "d = (b-a)/n\n",
        "X = [a+ i*d for i in range(n+1)]\n",
        "Y = [f(x) for x in X]\n",
        "plt.plot(X, Y, color=\"blue\", linewidth=1.5)\n",
        "plt.grid('on', linestyle=':')\n",
        "#plt.savefig(\"de2.png\", dpi=120, bbox_inches='tight')\n",
        "plt.show()\n",
        "\n",
        "print(f\"f(-3) = {f(-3)}\")\n",
        "print(f\"f(3) = {f(3)}\")"
      ]
    },
    {
      "cell_type": "markdown",
      "id": "fe13c3de",
      "metadata": {
        "cell_marker": "\"\"\"",
        "id": "fe13c3de"
      },
      "source": [
        "* The two solutions look pretty close.\n",
        "* We can compute the maximal error:"
      ]
    },
    {
      "cell_type": "code",
      "execution_count": null,
      "id": "46632d36",
      "metadata": {
        "lines_to_next_cell": 2,
        "id": "46632d36"
      },
      "outputs": [],
      "source": [
        "Yreal = np.array([f(x) for x in X])\n",
        "E = np.abs(Y - Yreal)       # The real (absolute) error\n",
        "print(f\"Max err = {E.max()}\")"
      ]
    },
    {
      "cell_type": "markdown",
      "id": "0f44c1b6",
      "metadata": {
        "cell_marker": "\"\"\"",
        "lines_to_next_cell": 2,
        "id": "0f44c1b6"
      },
      "source": [
        "* The two solutions are identical at the highest\n",
        "  precision lvele of Python."
      ]
    }
  ],
  "metadata": {
    "jupytext": {
      "cell_metadata_filter": "-all",
      "main_language": "python",
      "notebook_metadata_filter": "-all"
    },
    "colab": {
      "provenance": [],
      "include_colab_link": true
    }
  },
  "nbformat": 4,
  "nbformat_minor": 5
}