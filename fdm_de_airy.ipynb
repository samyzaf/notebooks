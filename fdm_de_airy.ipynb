{
  "cells": [
    {
      "cell_type": "markdown",
      "metadata": {
        "id": "view-in-github",
        "colab_type": "text"
      },
      "source": [
        "<a href=\"https://colab.research.google.com/github/samyzaf/notebooks/blob/main/fdm_de_airy.ipynb\" target=\"_parent\"><img src=\"https://colab.research.google.com/assets/colab-badge.svg\" alt=\"Open In Colab\"/></a>"
      ]
    },
    {
      "cell_type": "markdown",
      "metadata": {
        "id": "bNgCcbH05oim"
      },
      "source": [
        "# **Solving a second order linear equation by FDM**\n",
        "\n",
        "* We show how to find a numerical solution to\n",
        "  the [**Airy ordinary differential equation**](https://en.wikipedia.org/wiki/Airy_function)\n",
        "  with two boundary conditions  \n",
        "\n",
        "  $\\qquad\n",
        "  \\left\\{\n",
        "  \\begin{array}{l}\n",
        "  y'' - xy = 0, \\quad -3 < x < 3\n",
        "  \\\\\n",
        "  y(-3) = 4\n",
        "  \\\\\n",
        "  y(3) = -5\n",
        "  \\end{array}\n",
        "  \\right.\n",
        "  \\newcommand{\\Dx}{\\Delta x}\n",
        "  \\newcommand{\\Dy}{\\Delta y}\n",
        "  \\newcommand{\\Dz}{\\Delta z}\n",
        "  \\newcommand{\\Dt}{\\Delta t}\n",
        "  \\newcommand{\\Ds}{\\Delta s}\n",
        "  \\newcommand{\\Du}{\\Delta u}\n",
        "  \\newcommand{\\U}{\\mathbf{U}}\n",
        "  $  \n",
        "\n",
        "* Our interval $[-3,3]$ is divided to $n$ equal subintervals\n",
        "  with nodes $x_i = -3+i\\Dx$, where $\\Dx=6/n$.\n",
        "\n",
        "* By existence and uniqueness, the equation has a\n",
        "  solution $y=y(x)$.\n",
        "  We will compute a discrete approximation to\n",
        "  $y_i = y(x_i)$.\n",
        "\n",
        "* We use the central difference second derivative formula  \n",
        "\n",
        "  $\\qquad\\displaystyle\n",
        "  y'' = \\frac{y_{i+1} - 2y_{i} + y_{i-1}}{\\Dx^2}\n",
        "  $\n",
        "\n",
        "* We use $d=\\Dx$, and plug into the equation\n",
        "\n",
        "  $\\qquad\\displaystyle\n",
        "   \\frac{y_{i+1} - 2y_{i} + y_{i-1}}{d^2} - x_i y_i = 0\n",
        "  $\n",
        "\n",
        "* We receive a system of $n+1$ linear equations\n",
        "  in $n+1$ unknowns $y_i$, $i=0,1,2,\\ldots,n$  \n",
        "\n",
        "  $\\qquad\\left\\{\n",
        "  \\begin{array}{l}\n",
        "  y_0 = 4\n",
        "  \\\\\n",
        "  y_{i-1} - (d^2 x_i + 2)y_{i} + y_{i+1} = 0, \\quad i=1,2,\\ldots,n-1\n",
        "  \\\\\n",
        "  y_{n} = -5\n",
        "  \\end{array}\\right.\n",
        "  $\n",
        "\n",
        "* Most of the equations are homogenous, except for\n",
        "  the first one ($y_0=4$) and the last one ($y_n=-5$).\n",
        "  It's already in a diagonal reduce form so it\n",
        "  must have a unique soltion.\n"
      ]
    },
    {
      "cell_type": "code",
      "source": [
        "%pip install -q https://samyzaf.com/fdmtools-4.zip\n",
        "from fdmtools import *"
      ],
      "metadata": {
        "colab": {
          "base_uri": "https://localhost:8080/"
        },
        "id": "UaZSqhVASpUW",
        "outputId": "d92423d4-09f7-4e71-c842-1ac56b548be8"
      },
      "execution_count": 1,
      "outputs": [
        {
          "output_type": "stream",
          "name": "stdout",
          "text": [
            "  Preparing metadata (setup.py) ... \u001b[?25l\u001b[?25hdone\n",
            "  Preparing metadata (setup.py) ... \u001b[?25l\u001b[?25hdone\n",
            "  Preparing metadata (setup.py) ... \u001b[?25l\u001b[?25hdone\n",
            "  Building wheel for fdmtools (setup.py) ... \u001b[?25l\u001b[?25hdone\n",
            "  Building wheel for ezprogbar (setup.py) ... \u001b[?25l\u001b[?25hdone\n",
            "  Building wheel for ezsettings (setup.py) ... \u001b[?25l\u001b[?25hdone\n"
          ]
        }
      ]
    },
    {
      "cell_type": "markdown",
      "source": [
        "* First we define our grid parameters.\n",
        "* For a start we use a small division size $N=100$."
      ],
      "metadata": {
        "id": "kAUIfTEmqRoO"
      }
    },
    {
      "cell_type": "code",
      "source": [
        "a = -3                   # Interval = [-3,3]\n",
        "b = 3\n",
        "N = 1000                 # Division size\n",
        "d = (b-a)/N             # x step\n",
        "X = np.array([a + i*d for i in range(N+1)])  # x nodes\n",
        "Y = np.zeros(N+1)        # y nodes (initialized to zero)"
      ],
      "metadata": {
        "id": "YY_gpB6eqfEk"
      },
      "execution_count": 2,
      "outputs": []
    },
    {
      "cell_type": "markdown",
      "source": [
        "* Linear system of (n+1) equations, (n+1) variables:\n",
        "  $AY = B$\n",
        "* $A$ is our coefficients matrix of order\n",
        "  $(n+1)\\times(n+1)$.\n",
        "* $B$ is our right side coefficients array."
      ],
      "metadata": {
        "id": "bg9x54Og4ar-"
      }
    },
    {
      "cell_type": "code",
      "execution_count": 3,
      "metadata": {
        "id": "JD90Uu4zVoVv"
      },
      "outputs": [],
      "source": [
        "A = np.zeros((N+1, N+1))\n",
        "B = np.zeros(N+1)\n",
        "X = [a+i*d for i in range(N+1)]"
      ]
    },
    {
      "cell_type": "markdown",
      "source": [
        "* We now construct our coefficients matrix $A$ by rows,\n",
        "  from row $1$ to row $n-1$\n",
        "* Row $0$ and row $n$ will be done separately."
      ],
      "metadata": {
        "id": "OaZlLIIs4sIb"
      }
    },
    {
      "cell_type": "code",
      "source": [
        "for i in range(1, N):\n",
        "    A[i,i-1] = 1\n",
        "    A[i,i] = -d**2 * X[i] - 2\n",
        "    A[i,i+1] = 1\n",
        "    B[i] = 0"
      ],
      "metadata": {
        "id": "kuk0FA7F44Gw"
      },
      "execution_count": 5,
      "outputs": []
    },
    {
      "cell_type": "markdown",
      "source": [
        "* # We need two more equation to complete\n",
        "  our $(N+1){\\times}(N+1)$ linear system:\n",
        "* The boundary condition y(0) = 4 implies\n",
        "\n"
      ],
      "metadata": {
        "id": "kCKP7WAaKFYv"
      }
    },
    {
      "cell_type": "code",
      "source": [
        "A[0,0] = 1\n",
        "B[0] = 4\n"
      ],
      "metadata": {
        "id": "Jgto0VdWYq7D"
      },
      "execution_count": 6,
      "outputs": []
    },
    {
      "cell_type": "markdown",
      "source": [
        "* The boundary condition y(3) = -5 implies equation `Y[n] = -5`.\n",
        "* Hence in matrix terms this ammounts to\n"
      ],
      "metadata": {
        "id": "WjPJwio2Y204"
      }
    },
    {
      "cell_type": "code",
      "source": [
        "A[N,N] = 1\n",
        "B[N] = -5"
      ],
      "metadata": {
        "id": "y957u0-XYwuH"
      },
      "execution_count": 7,
      "outputs": []
    },
    {
      "cell_type": "markdown",
      "source": [
        "* Now we are ready to solve our system."
      ],
      "metadata": {
        "id": "bKfAP9JZaQM3"
      }
    },
    {
      "cell_type": "code",
      "source": [
        "Y = np.linalg.solve(A, B)"
      ],
      "metadata": {
        "id": "pbC3ZsaoaUcL"
      },
      "execution_count": 8,
      "outputs": []
    },
    {
      "cell_type": "markdown",
      "source": [
        "* Lets draw the graph of **Y**."
      ],
      "metadata": {
        "id": "Uvq8UNNaabIv"
      }
    },
    {
      "cell_type": "code",
      "source": [
        "X = np.linspace(a, b ,N+1)\n",
        "plt.plot(X, Y, color=\"blue\", linewidth=1.5)\n",
        "plt.xlabel(\"x\")\n",
        "plt.ylabel(\"y\")\n",
        "plt.title(\"Airy function\")\n",
        "plt.grid('on', linestyle=':')\n",
        "#plt.savefig(\"airy.png\", dpi=150, bbox_inches='tight')\n",
        "plt.show()\n"
      ],
      "metadata": {
        "colab": {
          "base_uri": "https://localhost:8080/",
          "height": 472
        },
        "id": "yy0Wo7GAahDH",
        "outputId": "e56fead9-eb00-4bcf-e47a-631f4aacf2a9"
      },
      "execution_count": 10,
      "outputs": [
        {
          "output_type": "display_data",
          "data": {
            "text/plain": [
              "<Figure size 640x480 with 1 Axes>"
            ],
            "image/png": "[encoded data removed]"
          },
          "metadata": {}
        }
      ]
    }
  ],
  "metadata": {
    "colab": {
      "provenance": [],
      "include_colab_link": true
    },
    "kernelspec": {
      "display_name": "Python 3 (ipykernel)",
      "language": "python",
      "name": "python3"
    },
    "language_info": {
      "codemirror_mode": {
        "name": "ipython",
        "version": 3
      },
      "file_extension": ".py",
      "mimetype": "text/x-python",
      "name": "python",
      "nbconvert_exporter": "python",
      "pygments_lexer": "ipython3",
      "version": "3.7.11"
    }
  },
  "nbformat": 4,
  "nbformat_minor": 0
}