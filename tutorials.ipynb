{
  "cells": [
    {
      "cell_type": "markdown",
      "metadata": {
        "id": "view-in-github",
        "colab_type": "text"
      },
      "source": [
        "<a href=\"https://colab.research.google.com/github/samyzaf/notebooks/blob/main/tutorials.ipynb\" target=\"_parent\"><img src=\"https://colab.research.google.com/assets/colab-badge.svg\" alt=\"Open In Colab\"/></a>"
      ]
    },
    {
      "cell_type": "markdown",
      "id": "71f3fac7",
      "metadata": {
        "cell_marker": "\"\"\"",
        "id": "71f3fac7"
      },
      "source": [
        "# **Python, Google Colab, and LaTeX Tutorials**\n",
        "\n",
        "# **20 minutes Python Guide**\n",
        "* We will use the\n",
        "  [Python](https://python.org) programming\n",
        "  language for this project.\n",
        "  \n",
        "* This is a very easy language to learn!\n",
        "\n",
        "* Please invest 20 minutes in one or more of the following tutorials.\n",
        "\n",
        "* [**TUTORIAL 1**](https://colab.research.google.com/github/data-psl/lectures2020/blob/master/notebooks/01_python_basics.ipynb#scrollTo=3EKvP6jiMZ9H)\n",
        "\n",
        "* [**TUTORIAL 2**](https://colab.research.google.com/github/jckantor/CBE30338/blob/master/docs/01.02-Python-Basics.ipynb)\n",
        "\n",
        "* [**TUTORIAL 3**](https://colab.research.google.com/github/samyzaf/notebooks/blob/main/python_tutorial.ipynb)\n",
        "\n",
        "* [**TUTORIAL 4**](\n",
        "  https://colab.research.google.com)\n",
        "\n",
        "# **Google Colab Notebook Quick Tutorial**\n",
        "\n",
        "* Students new to **Google Colab Notebook**\n",
        "  are encouraged to invest 10 minutes in one of the following tutorials:\n",
        "\n",
        "* Beginners **Google Colab (Jupyter notebook)**,\n",
        "  YouTube courses:\n",
        "  * [Complete Beginner's Tutorial to Google Colab](https://www.youtube.com/watch?v=JJYZ3OE_lGo)  \n",
        "  * [Google Colab Tutorial for Beginners](https://www.youtube.com/watch?v=iMlMfrXJYSg)\n",
        "  * [Official Google Colaboratory Web Site](\n",
        "    https://colab.research.google.com)\n"
      ]
    },
    {
      "cell_type": "markdown",
      "id": "e0957de0",
      "metadata": {
        "cell_marker": "\"\"\"",
        "id": "e0957de0"
      },
      "source": [
        "\n",
        "# **5 Minutes $\\bf\\LaTeX$ Guide**  \n",
        "## **Write Math formulas in Google Colab Notebook in no time!**\n",
        "\n",
        "* LaTeX (pronounced \"La-tech\") is a language for writing math\n",
        "  and science texts which use math symbols and formulas.\n",
        "* It is now part of the Markdown language which Google Colab\n",
        "  notebook uses for its Text Cells.\n",
        "\n",
        "* It is also very useful for writing precise mathematical\n",
        "  propmps to **ChatGPT** and other AI engines.\n",
        "  All of them are accepting LaTeX as the standard\n",
        "  language for expressing Math formula in text prompts!\n",
        "\n",
        "* So you can actually write beautiful Math formulas in\n",
        "  Google Colab, and in many other environments,\n",
        "  if you invest a short time in this tutorial!\n",
        "* All we need to know is how to write a math fraction,\n",
        "  exponent, subscript, and a few Greek letters!\n",
        "* After going through the easy examples in this table, you\n",
        "  have all you need for our project!  \n",
        "\n",
        "  <IMG\n",
        "src=\"https://samyzaf.com/fdm/latex_guide_1.jpg?3\"\n",
        "width=700\n",
        "align=\"center\"\n",
        "/>  \n",
        "\n",
        "* **A LaTeX math expression** starts with a `$` sign and\n",
        "  ends with a `$` sign.\n",
        "  * It consists **only of plain ASCII** characters!  \n",
        "    ### **ASCII TABLE [CODES: 32-126]**\n",
        "    ```\n",
        "    ! \" # $ % & ' ( ) * + , - . / 0 1 2 3 4 5 6 7 8 9 : ; < = > ?  \n",
        "    @ A B C D E F G H I J K L M N O P Q R S T U V W X Y Z [ \\ ] ^ _  \n",
        "    ` a b c d e f g h i j k l m n o p q r s t u v w x y z { | } ~\n",
        "    ```\n",
        "  * You are not allowed to use unicode Greek characters or\n",
        "    unicode math symbols! Only ASCII characters!\n",
        "  * If you want to get the letter $\\beta$,\n",
        "    use the expression `\\beta`!\n",
        "\n",
        "* This introduction good enough for our needs.\n",
        "\n",
        "* For more information please visit the Google Official Guide:  \n",
        " [Equations and Formulas in Google Colab](https://colab.research.google.com/github/EPS-Libraries-Berkeley/volt/blob/main/LaTeX/Equations_and_Formulas.ipynb)  \n",
        " or other guides like  \n",
        " https://colab.research.google.com/github/bebi103a/bebi103a.github.io/blob/main/lessons/00/intro_to_latex.ipynb\n",
        "\n",
        "* For more expertise visit the\n",
        "  [Overleaf web site](https://www.overleaf.com/learn)\n",
        "  and their\n",
        "  [30 minutes guide](https://www.overleaf.com/learn/latex/Learn_LaTeX_in_30_minutes).\n",
        "\n",
        "## **$\\LaTeX$ EXERCISE**\n",
        "* To make sure you got the idea,\n",
        "  type $\\LaTeX$ code to produce the follwoing three formulas!\n",
        "\n",
        "  <IMG\n",
        "  src=\"https://samyzaf.com/fdm/latex1.png\"\n",
        "  width=500\n",
        "  align=\"center\"\n",
        "  />\n",
        "\n",
        "* Edit the next text cell and write\n",
        "  the three following formulas in $\\LaTeX$ format\n",
        "\n",
        "* To edit a text cell: select the cell,\n",
        "  and use the edit button on the top\n",
        "  right menubar of the cell  \n",
        "\n",
        "  <IMG\n",
        "src=\"https://samyzaf.com/fdm/colab_cell_menubar.jpg\"\n",
        "width=400\n",
        "align=\"center\"\n",
        "/>\n"
      ]
    },
    {
      "cell_type": "markdown",
      "id": "bdf18892",
      "metadata": {
        "cell_marker": "\"\"\"",
        "id": "bdf18892"
      },
      "source": [
        "## **Test your code here &#8595;**\n",
        "Just press the edit button of this cell and start writing\n",
        "bellow this line!\n"
      ]
    }
  ],
  "metadata": {
    "jupytext": {
      "cell_metadata_filter": "-all",
      "main_language": "python",
      "notebook_metadata_filter": "-all"
    },
    "colab": {
      "provenance": [],
      "include_colab_link": true
    },
    "language_info": {
      "name": "python"
    },
    "kernelspec": {
      "name": "python3",
      "display_name": "Python 3"
    }
  },
  "nbformat": 4,
  "nbformat_minor": 5
}