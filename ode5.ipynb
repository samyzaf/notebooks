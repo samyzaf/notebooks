{
  "cells": [
    {
      "cell_type": "markdown",
      "metadata": {
        "id": "view-in-github",
        "colab_type": "text"
      },
      "source": [
        "<a href=\"https://colab.research.google.com/github/samyzaf/notebooks/blob/main/ode5.ipynb\" target=\"_parent\"><img src=\"https://colab.research.google.com/assets/colab-badge.svg\" alt=\"Open In Colab\"/></a>"
      ]
    },
    {
      "cell_type": "markdown",
      "metadata": {
        "id": "zo0mZHrOCICt"
      },
      "source": [
        "# Ordinary Differential Equations\n",
        "# Chapter 5: Solutions to exercises\n",
        "\n",
        "<a href=\"https://samyzaf.com/technion/ode/ode.pdf\">\n",
        "<img src=\"https://samyzaf.com/technion/ode/ode2.jpg\" alt=\"ode book cover\"/>\n",
        "</a>\n",
        "\n",
        "* We used Python **Sympy** package for obtaining the final\n",
        "  result for most of the exercises.\n",
        "* This package is still under development, and is not yet\n",
        "  ready to cope with all ode's.\n",
        "  * Manual solutions are provided to some of the problems that cannot be\n",
        "    solved by the program. A link to a PDF solution is provided.\n",
        "* The new site https://mathdf.com seems to be a great source\n",
        "  for obtaining full step-by-step solutions.\n",
        "  Please use it for obtaining full solutions and let us know\n",
        "  if it meets expectations. We will be glad to receive full solutions\n",
        "  and add them here later (sz@samyzaf.com).\n",
        "* This notebook can be edited and executed by clicking\n",
        "  the **open in colab** button.\n",
        "* These are only a small number of solutions.\n",
        "  Hopefully this will encourage students to try to solve more\n",
        "  exercises with similar methods. We will be glad to accept notebooks\n",
        "  with solutions to other exercises in this book.\n",
        "  Please send them to sz@samyzaf.com."
      ]
    },
    {
      "cell_type": "code",
      "execution_count": null,
      "metadata": {
        "colab": {
          "base_uri": "https://localhost:8080/"
        },
        "id": "M6sQe4JlsK7u",
        "outputId": "e3b21bfa-a00d-4614-f7ce-21847d8919df"
      },
      "outputs": [
        {
          "output_type": "stream",
          "name": "stdout",
          "text": [
            "Looking in indexes: https://pypi.org/simple, https://us-python.pkg.dev/colab-wheels/public/simple/\n",
            "Requirement already satisfied: sympy in /usr/local/lib/python3.8/dist-packages (1.7.1)\n",
            "Collecting sympy\n",
            "  Downloading sympy-1.11.1-py3-none-any.whl (6.5 MB)\n",
            "\u001b[2K     \u001b[90m━━━━━━━━━━━━━━━━━━━━━━━━━━━━━━━━━━━━━━━━\u001b[0m \u001b[32m6.5/6.5 MB\u001b[0m \u001b[31m34.4 MB/s\u001b[0m eta \u001b[36m0:00:00\u001b[0m\n",
            "\u001b[?25hRequirement already satisfied: mpmath>=0.19 in /usr/local/lib/python3.8/dist-packages (from sympy) (1.2.1)\n",
            "Installing collected packages: sympy\n",
            "  Attempting uninstall: sympy\n",
            "    Found existing installation: sympy 1.7.1\n",
            "    Uninstalling sympy-1.7.1:\n",
            "      Successfully uninstalled sympy-1.7.1\n",
            "Successfully installed sympy-1.11.1\n"
          ]
        }
      ],
      "source": [
        "%pip install --upgrade sympy"
      ]
    },
    {
      "cell_type": "code",
      "execution_count": null,
      "metadata": {
        "id": "QO4VgM1r1vEy"
      },
      "outputs": [],
      "source": [
        "from sympy import *\n",
        "from sympy.solvers.ode import checkodesol\n",
        "from IPython.display import HTML"
      ]
    },
    {
      "cell_type": "markdown",
      "metadata": {
        "id": "YoIKr1sI4NRE"
      },
      "source": [
        "# Exercise 5.1.1\n",
        "\n",
        "$(1+x^2)y'' + x^3y = 0$"
      ]
    },
    {
      "cell_type": "code",
      "execution_count": null,
      "metadata": {
        "colab": {
          "base_uri": "https://localhost:8080/"
        },
        "id": "QbDnEmqKHEyF",
        "outputId": "7e269512-be83-416c-dc17-11a5a3b7013f"
      },
      "outputs": [
        {
          "output_type": "execute_result",
          "data": {
            "text/plain": [
              "('2nd_power_series_ordinary',)"
            ]
          },
          "metadata": {},
          "execution_count": 3
        }
      ],
      "source": [
        "x = symbols(\"x\", real=True)\n",
        "y = symbols(\"y\", cls=Function)\n",
        "de = Eq((1+x**2)*y(x).diff(x,x) - x**3 * y(x) , 0)\n",
        "classify_ode(de)"
      ]
    },
    {
      "cell_type": "code",
      "execution_count": null,
      "metadata": {
        "colab": {
          "base_uri": "https://localhost:8080/",
          "height": 58
        },
        "id": "NZnh7uRSHpf3",
        "outputId": "5de838a3-af68-450b-f9c0-a9f67d9ec17e"
      },
      "outputs": [
        {
          "output_type": "display_data",
          "data": {
            "text/plain": [
              "Eq(y(x), -3*x**5*r(3)/10 + C2*(-x**7/42 + x**5/20 + 1) + C1*x*(x**5/30 + 1) + O(x**6))"
            ],
            "text/latex": "$\\displaystyle y{\\left(x \\right)} = - \\frac{3 x^{5} r{\\left(3 \\right)}}{10} + C_{2} \\left(- \\frac{x^{7}}{42} + \\frac{x^{5}}{20} + 1\\right) + C_{1} x \\left(\\frac{x^{5}}{30} + 1\\right) + O\\left(x^{6}\\right)$"
          },
          "metadata": {}
        }
      ],
      "source": [
        "Y = dsolve(de, hint=\"2nd_power_series_ordinary\")\n",
        "display(Y)"
      ]
    },
    {
      "cell_type": "markdown",
      "metadata": {
        "id": "XsAHNlxoHEyG"
      },
      "source": [
        "* This is not a mathematically rigorous solution to our equation.\n",
        "* But it gives us a first impression and may help us with verifying a manual solution.\n",
        "* The follwing example shows us how to specify a length for the pwoer series ($n=11$),\n",
        "  and adjoin initial conditions to our differential equation."
      ]
    },
    {
      "cell_type": "code",
      "execution_count": null,
      "metadata": {
        "colab": {
          "base_uri": "https://localhost:8080/",
          "height": 95
        },
        "outputId": "19fd0b15-f1a1-49cf-cd75-a8483a1e5565",
        "id": "QpMUZecDHEyH"
      },
      "outputs": [
        {
          "output_type": "display_data",
          "data": {
            "text/plain": [
              "Eq(y(x), -3*x**5*r(3)/10 - 2*x**6*r(4)/5 + x**7*r(3)/7 + 3*x**8*r(4)/14 - x**8*r(3)/56 - x**9*r(4)/72 - x**9*r(3)/12 - 2*x**10*r(4)/15 + 13*x**10*r(3)/900 + C2*(x**12/132 + x**11/3300 - x**10/90 + x**8/56 - x**6/30 + x) + C1*(-31*x**12/55440 + x**11/110 + x**10/1800 - x**9/72 + x**7/42 - x**5/20 + 1) + O(x**11))"
            ],
            "text/latex": "$\\displaystyle y{\\left(x \\right)} = - \\frac{3 x^{5} r{\\left(3 \\right)}}{10} - \\frac{2 x^{6} r{\\left(4 \\right)}}{5} + \\frac{x^{7} r{\\left(3 \\right)}}{7} + \\frac{3 x^{8} r{\\left(4 \\right)}}{14} - \\frac{x^{8} r{\\left(3 \\right)}}{56} - \\frac{x^{9} r{\\left(4 \\right)}}{72} - \\frac{x^{9} r{\\left(3 \\right)}}{12} - \\frac{2 x^{10} r{\\left(4 \\right)}}{15} + \\frac{13 x^{10} r{\\left(3 \\right)}}{900} + C_{2} \\left(\\frac{x^{12}}{132} + \\frac{x^{11}}{3300} - \\frac{x^{10}}{90} + \\frac{x^{8}}{56} - \\frac{x^{6}}{30} + x\\right) + C_{1} \\left(- \\frac{31 x^{12}}{55440} + \\frac{x^{11}}{110} + \\frac{x^{10}}{1800} - \\frac{x^{9}}{72} + \\frac{x^{7}}{42} - \\frac{x^{5}}{20} + 1\\right) + O\\left(x^{11}\\right)$"
          },
          "metadata": {}
        }
      ],
      "source": [
        "x = symbols(\"x\", real=True)\n",
        "y = symbols(\"y\", cls=Function)\n",
        "de = Eq((1+x**2) * y(x).diff(x,x) + x**3 * y(x) , 0)\n",
        "Y = dsolve(de, x0=0, simplify=False, n=11) #, ics={y(0): 3, y(x).diff(x).subs(x,0): 12}, hint='2nd_power_series_ordinary')\n",
        "display(Y)"
      ]
    },
    {
      "cell_type": "code",
      "execution_count": null,
      "metadata": {
        "id": "MeWHnJIgHEyI"
      },
      "outputs": [],
      "source": [
        "def y1(x,n=19):\n",
        "    r = 1\n",
        "    for k in range(2,n//2 + 1):\n",
        "        r = r - (-1)**k/((2*k+1)*2*k) * x**(2*k+1)\n",
        "    return r"
      ]
    },
    {
      "cell_type": "code",
      "execution_count": null,
      "metadata": {
        "colab": {
          "base_uri": "https://localhost:8080/"
        },
        "id": "0iy22FJKHEyJ",
        "outputId": "d88c9a77-51f5-4658-d8ee-a1c3389a3a86"
      },
      "outputs": [
        {
          "output_type": "execute_result",
          "data": {
            "text/plain": [
              "5.200998338804285e+69"
            ]
          },
          "metadata": {},
          "execution_count": 7
        }
      ],
      "source": [
        "y1(3.99, 123)"
      ]
    },
    {
      "cell_type": "code",
      "execution_count": null,
      "metadata": {
        "colab": {
          "base_uri": "https://localhost:8080/",
          "height": 314
        },
        "id": "On6plNKAHEyJ",
        "outputId": "0d883b6f-4dcd-43cc-cb1b-ca2a87cc0200"
      },
      "outputs": [
        {
          "output_type": "display_data",
          "data": {
            "text/plain": [
              "<Figure size 432x288 with 1 Axes>"
            ],
            "image/png": "[encoded data removed]"
          },
          "metadata": {
            "needs_background": "light"
          }
        },
        {
          "output_type": "execute_result",
          "data": {
            "text/plain": [
              "<sympy.plotting.plot.Plot at 0x7fb06f7ecfa0>"
            ]
          },
          "metadata": {},
          "execution_count": 8
        }
      ],
      "source": [
        "plot(y1(x), (x,-0.99,0.99))"
      ]
    },
    {
      "cell_type": "markdown",
      "metadata": {
        "tags": [],
        "id": "3dQpqyO2HEyK"
      },
      "source": [
        "# Exercise 5.1.2\n",
        "\n",
        "$\n",
        "y'' - 2x^2y' + 4xy = x^2+2x+2\n",
        "$\n",
        "\n",
        "$\n",
        "y(0) = 3\n",
        "$\n",
        "\n",
        "$\n",
        "y'(0) = 12\n",
        "$"
      ]
    },
    {
      "cell_type": "code",
      "execution_count": null,
      "metadata": {
        "id": "CI7aPTFpHEyK"
      },
      "outputs": [],
      "source": [
        "x = symbols(\"x\", real=True)\n",
        "y = symbols(\"y\", cls=Function)\n",
        "de = Eq(y(x).diff(x,x) - 2*x**2 * y(x).diff(x) + 4*x*y(x) , x**2 + 2*x +2)\n",
        "#Y = dsolve(de, x0=0, simplify=False, n=9, ics={y(0): 3, y(x).diff(x).subs(x,0): 12}, hint='2nd_power_series_ordinary')\n",
        "#display(Y)"
      ]
    },
    {
      "cell_type": "markdown",
      "metadata": {
        "id": "-xQCw9LYZkNX",
        "outputId": "fb423b12-015b-453e-bc5d-c4b3e9b3a247"
      },
      "source": [
        "* Sympy 1.11.1 fails to give anything for this problem."
      ]
    },
    {
      "cell_type": "markdown",
      "metadata": {
        "id": "DiTTKM-AWhPB"
      },
      "source": [
        "### [Link to step-by-step-solution](https://samyzaf.com/technion/ode/sol/chap5.1.2.pdf)"
      ]
    },
    {
      "cell_type": "markdown",
      "metadata": {
        "tags": [],
        "id": "ELN3i2-THEyM"
      },
      "source": [
        "# Exercise 5.1.3\n",
        "\n",
        "$\n",
        "(1-x^2)y'' - 2xy' + 2y = 0\n",
        "$\n",
        "\n",
        "$\n",
        "y(0) = 1\n",
        "$\n",
        "\n",
        "$\n",
        "y'(0) = 0\n",
        "$"
      ]
    },
    {
      "cell_type": "code",
      "execution_count": null,
      "metadata": {
        "colab": {
          "base_uri": "https://localhost:8080/",
          "height": 58
        },
        "outputId": "6955ff2b-f4f6-4f64-c0a3-0f84cf8bcecd",
        "id": "TH-RzNV7HEyM"
      },
      "outputs": [
        {
          "output_type": "display_data",
          "data": {
            "text/plain": [
              "Eq(y(x), C2*x + C1*(-x**12/11 - x**10/9 - x**8/7 - x**6/5 - x**4/3 - x**2 + 1) + O(x**15))"
            ],
            "text/latex": "$\\displaystyle y{\\left(x \\right)} = C_{2} x + C_{1} \\left(- \\frac{x^{12}}{11} - \\frac{x^{10}}{9} - \\frac{x^{8}}{7} - \\frac{x^{6}}{5} - \\frac{x^{4}}{3} - x^{2} + 1\\right) + O\\left(x^{15}\\right)$"
          },
          "metadata": {}
        }
      ],
      "source": [
        "x = symbols(\"x\", real=True)\n",
        "y = symbols(\"y\", cls=Function)\n",
        "de = Eq((1 - x**2) * y(x).diff(x,x) - 2*x*y(x).diff(x) + 2*y(x) , 0)\n",
        "Y = dsolve(de, x0=0, simplify=False, n=15, ics={y(0): 1, y(x).diff(x).subs(x,0): 0}, hint='2nd_power_series_ordinary')\n",
        "display(Y)"
      ]
    },
    {
      "cell_type": "markdown",
      "metadata": {
        "id": "mMsJQWu8HEyM"
      },
      "source": [
        "### [Link to step-by-step-solution](https://samyzaf.com/technion/ode/sol/chap5.1.3.pdf)"
      ]
    },
    {
      "cell_type": "markdown",
      "metadata": {
        "tags": [],
        "id": "b8h0nmIcHEyN"
      },
      "source": [
        "# Exercise 5.1.4\n",
        "\n",
        "$\n",
        "(x^2+4)y'' + xy = x+2\n",
        "$"
      ]
    },
    {
      "cell_type": "code",
      "execution_count": null,
      "metadata": {
        "id": "WPq6svczHEyN"
      },
      "outputs": [],
      "source": [
        "x = symbols(\"x\", real=True)\n",
        "y = symbols(\"y\", cls=Function)\n",
        "de = Eq((x**2 + 4) * y(x).diff(x,x) + x*y(x) , x+2)\n",
        "#Y = dsolve(de, x0=0, simplify=False)\n",
        "#display(Y)"
      ]
    },
    {
      "cell_type": "markdown",
      "metadata": {
        "tags": [],
        "id": "ifdZ-0l7HEyO"
      },
      "source": [
        "# Exercise 5.1.7\n",
        "let $y(x) = \\sum_{n=0}^{\\infty} a_n x^n$ be a power series solution of\n",
        "\n",
        "$\n",
        "(10-x^3)y'' + 5xy = 0\n",
        "$\n",
        "\n",
        "$\n",
        "y(0) = 1\n",
        "$\n",
        "\n",
        "$\n",
        "y'(0) = 1\n",
        "$\n",
        "\n",
        "Calculate $a_3$, $a_4$, $a_5$."
      ]
    },
    {
      "cell_type": "code",
      "execution_count": null,
      "metadata": {
        "colab": {
          "base_uri": "https://localhost:8080/",
          "height": 58
        },
        "outputId": "43afa8eb-b673-465a-89e9-4cb4e2e41631",
        "id": "B9vhNYjqHEyO"
      },
      "outputs": [
        {
          "output_type": "display_data",
          "data": {
            "text/plain": [
              "Eq(y(x), C2*(-37*x**10/1296000 - x**7/1440 - x**4/24 + x) + C1*(-x**9/103680 - x**6/3600 - x**3/12 + 1) + O(x**11))"
            ],
            "text/latex": "$\\displaystyle y{\\left(x \\right)} = C_{2} \\left(- \\frac{37 x^{10}}{1296000} - \\frac{x^{7}}{1440} - \\frac{x^{4}}{24} + x\\right) + C_{1} \\left(- \\frac{x^{9}}{103680} - \\frac{x^{6}}{3600} - \\frac{x^{3}}{12} + 1\\right) + O\\left(x^{11}\\right)$"
          },
          "metadata": {}
        }
      ],
      "source": [
        "x = symbols(\"x\", real=True)\n",
        "y = symbols(\"y\", cls=Function)\n",
        "de = Eq((10 - x**3) * y(x).diff(x,x) + 5*x*y(x) , 0)\n",
        "Y = dsolve(de, x0=0, simplify=False, n=11, ics={y(0): 1, y(x).diff(x).subs(x,0): 1}, hint='2nd_power_series_ordinary')\n",
        "display(Y)"
      ]
    },
    {
      "cell_type": "markdown",
      "metadata": {
        "tags": [],
        "id": "aVXwHvH3HEyO"
      },
      "source": [
        "* For some reason Sympy 1.11.1 does not use the initial conditions $C_1=C_2=0$.\n",
        "* Easy to see that $a_3= -\\frac{1}{12}$, $a_4 = -\\frac{1}{24}$, $a_5=0$.\n",
        "* A full solution follows:\n",
        "### [Link to step-by-step-solution](https://samyzaf.com/technion/ode/sol/chap5.1.7.pdf)"
      ]
    },
    {
      "cell_type": "markdown",
      "metadata": {
        "tags": [],
        "id": "0z964DO6HEyP"
      },
      "source": [
        "# Exercise 5.1.8\n",
        "Find $y(x) = \\sum_{n=0}^{\\infty} a_n x^n$ a power series solution of\n",
        "\n",
        "$\n",
        "(x^2 - 2x)y'' -2y = 0\n",
        "$\n",
        "\n",
        "$\n",
        "y(1) = 0\n",
        "$\n",
        "\n",
        "$\n",
        "y'(1) = -1\n",
        "$"
      ]
    },
    {
      "cell_type": "code",
      "execution_count": null,
      "metadata": {
        "colab": {
          "base_uri": "https://localhost:8080/",
          "height": 68
        },
        "outputId": "8731102e-e8d4-4163-b0c0-ec03e9b15d55",
        "id": "rHSKpFRqHEyQ"
      },
      "outputs": [
        {
          "output_type": "display_data",
          "data": {
            "text/plain": [
              "Eq(y(x), C2*(x - (x - 1)**9/63 - (x - 1)**7/35 - (x - 1)**5/15 - (x - 1)**3/3 - 1) + C1*(1 - (x - 1)**2) + O(x**11))"
            ],
            "text/latex": "$\\displaystyle y{\\left(x \\right)} = C_{2} \\left(x - \\frac{\\left(x - 1\\right)^{9}}{63} - \\frac{\\left(x - 1\\right)^{7}}{35} - \\frac{\\left(x - 1\\right)^{5}}{15} - \\frac{\\left(x - 1\\right)^{3}}{3} - 1\\right) + C_{1} \\cdot \\left(1 - \\left(x - 1\\right)^{2}\\right) + O\\left(x^{11}\\right)$"
          },
          "metadata": {}
        }
      ],
      "source": [
        "x = symbols(\"x\", real=True)\n",
        "y = symbols(\"y\", cls=Function)\n",
        "de = Eq((x**2 - 2*x) * y(x).diff(x,x) - 2*y(x) , 0)\n",
        "Y = dsolve(de, x0=1, simplify=False, n=11, ics={y(1): 0, y(x).diff(x).subs(x,1): -1}, hint='2nd_power_series_ordinary')\n",
        "display(Y)"
      ]
    },
    {
      "cell_type": "markdown",
      "metadata": {
        "id": "SFsRlFyXHEyQ"
      },
      "source": [
        "* This is the general solution.\n",
        "* The particular solution is in the following link."
      ]
    },
    {
      "cell_type": "markdown",
      "metadata": {
        "id": "gHkRdvjPHEyQ"
      },
      "source": [
        "### [Link to step-by-step-solution](https://samyzaf.com/technion/ode/sol/chap5.1.8.pdf)"
      ]
    },
    {
      "cell_type": "markdown",
      "metadata": {
        "tags": [],
        "id": "zV3Q4im9HEyR"
      },
      "source": [
        "# Exercise 5.2\n",
        "Given the differential equation\n",
        "\n",
        "$\n",
        "y'' -xy' + 5y = x+1\n",
        "$\n",
        "\n",
        "<ol type=\"a\">\n",
        "<li>\n",
        "Find a power series solution $y(x) = \\sum_{n=0}^{\\infty} a_n x^n$\n",
        "<li>\n",
        "Find a particular solution $y(0)=0$, $y'(0)=3$\n",
        "</ol>"
      ]
    },
    {
      "cell_type": "code",
      "execution_count": null,
      "metadata": {
        "id": "Ax0RmdERHEyR"
      },
      "outputs": [],
      "source": [
        "x = symbols(\"x\", real=True)\n",
        "y = symbols(\"y\", cls=Function)\n",
        "de = Eq(y(x).diff(x,x) - x * y(x).diff(x) + 5*y(x) , x+1)\n",
        "#Y = dsolve(de, x0=0, simplify=False, n=11, hint='2nd_power_series_ordinary')\n",
        "#Y = dsolve(de, x0=0, simplify=False, n=11, ics={y(0): 1, y(x).diff(x).subs(x,0): 1}, hint='2nd_power_series_ordinary')\n",
        "#display(Y)"
      ]
    },
    {
      "cell_type": "markdown",
      "metadata": {
        "id": "kUJoJr8uHEyR"
      },
      "source": [
        "* Sympy 1.11.1 cannot solve this problem ... :-(\n",
        "* Here is a link to a manual solution:"
      ]
    },
    {
      "cell_type": "markdown",
      "metadata": {
        "id": "tbi4Sdn4M_XL"
      },
      "source": [
        "### [Link to step-by-step-solution](https://samyzaf.com/technion/ode/sol/chap5.1.8.pdf)"
      ]
    },
    {
      "cell_type": "markdown",
      "metadata": {
        "tags": [],
        "id": "gcMPtzHoHEyS"
      },
      "source": [
        "# Exercise 5.9\n",
        "let $y(x) = \\sum_{n=0}^{\\infty} a_n x^n$ be a power series solution of\n",
        "\n",
        "$\n",
        "y'' - 2xy' + my = 0\n",
        "$\n",
        "\n",
        "$\n",
        "y(0) = 0\n",
        "$\n",
        "\n",
        "$\n",
        "y'(0) = 1\n",
        "$\n",
        "\n",
        "Find all values of $m$ for which $y(x)$ is a polynom of finite degree,\n",
        "and the degree of such polynom."
      ]
    },
    {
      "cell_type": "code",
      "execution_count": null,
      "metadata": {
        "colab": {
          "base_uri": "https://localhost:8080/",
          "height": 100
        },
        "outputId": "bba9d5fd-2b00-4d34-88aa-de067dc61a71",
        "id": "vYelg7HmHEyS"
      },
      "outputs": [
        {
          "output_type": "display_data",
          "data": {
            "text/plain": [
              "Eq(y(x), C2*(m**4*x**9/362880 - m**3*x**9/11340 - m**3*x**7/5040 + 43*m**2*x**9/45360 + m**2*x**7/280 + m**2*x**5/120 - 11*m*x**9/2835 - 23*m*x**7/1260 - m*x**5/15 - m*x**3/6 + x**9/216 + x**7/42 + x**5/10 + x**3/3 + x) + C1*(m**4*x**8/40320 - m**3*x**8/1680 - m**3*x**6/720 + 11*m**2*x**8/2520 + m**2*x**6/60 + m**2*x**4/24 - m*x**8/105 - 2*m*x**6/45 - m*x**4/6 - m*x**2/2 + 1) + O(x**11))"
            ],
            "text/latex": "$\\displaystyle y{\\left(x \\right)} = C_{2} \\left(\\frac{m^{4} x^{9}}{362880} - \\frac{m^{3} x^{9}}{11340} - \\frac{m^{3} x^{7}}{5040} + \\frac{43 m^{2} x^{9}}{45360} + \\frac{m^{2} x^{7}}{280} + \\frac{m^{2} x^{5}}{120} - \\frac{11 m x^{9}}{2835} - \\frac{23 m x^{7}}{1260} - \\frac{m x^{5}}{15} - \\frac{m x^{3}}{6} + \\frac{x^{9}}{216} + \\frac{x^{7}}{42} + \\frac{x^{5}}{10} + \\frac{x^{3}}{3} + x\\right) + C_{1} \\left(\\frac{m^{4} x^{8}}{40320} - \\frac{m^{3} x^{8}}{1680} - \\frac{m^{3} x^{6}}{720} + \\frac{11 m^{2} x^{8}}{2520} + \\frac{m^{2} x^{6}}{60} + \\frac{m^{2} x^{4}}{24} - \\frac{m x^{8}}{105} - \\frac{2 m x^{6}}{45} - \\frac{m x^{4}}{6} - \\frac{m x^{2}}{2} + 1\\right) + O\\left(x^{11}\\right)$"
          },
          "metadata": {}
        }
      ],
      "source": [
        "x, m = symbols(\"x m\", real=True)\n",
        "y = symbols(\"y\", cls=Function)\n",
        "de = Eq(y(x).diff(x,x) - 2*x*y(x).diff(x) + m*y(x) , 0)\n",
        "Y = dsolve(de, x0=0, simplify=False, n=11, ics={y(0): 0, y(x).diff(x).subs(x,0): 1}, hint='2nd_power_series_ordinary')\n",
        "display(Y)"
      ]
    },
    {
      "cell_type": "markdown",
      "metadata": {
        "id": "2GASFBQfHEyT"
      },
      "source": [
        "### [Link to step-by-step-solution](https://samyzaf.com/technion/ode/sol/chap5.9.pdf)"
      ]
    },
    {
      "cell_type": "markdown",
      "metadata": {
        "id": "1wKOErbhqKWU",
        "tags": []
      },
      "source": [
        "# **TO BE CONTINUED ...**\n",
        "* Any student with a basic Python programming skill\n",
        "  is welcome to continue and solve more exercises\n",
        "  from the <a href=\"https://samyzaf.com/technion/ode/ode.pdf\">\n",
        "  Ordinal Differential Equations book\n",
        "</a>\n",
        "\n",
        "* Send your solutions notebook to sz@samyzaf.com.\n",
        "* They will be checked and added to this notebook.\n",
        "* Thanks!!!"
      ]
    },
    {
      "cell_type": "code",
      "execution_count": null,
      "metadata": {
        "id": "W69YSbejO4P-"
      },
      "outputs": [],
      "source": []
    }
  ],
  "metadata": {
    "colab": {
      "provenance": [],
      "include_colab_link": true
    },
    "kernelspec": {
      "display_name": "Python 3 (ipykernel)",
      "language": "python",
      "name": "python3"
    },
    "language_info": {
      "codemirror_mode": {
        "name": "ipython",
        "version": 3
      },
      "file_extension": ".py",
      "mimetype": "text/x-python",
      "name": "python",
      "nbconvert_exporter": "python",
      "pygments_lexer": "ipython3",
      "version": "3.7.11"
    }
  },
  "nbformat": 4,
  "nbformat_minor": 0
}