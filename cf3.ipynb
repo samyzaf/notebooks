{
  "cells": [
    {
      "cell_type": "markdown",
      "metadata": {
        "id": "view-in-github",
        "colab_type": "text"
      },
      "source": [
        "<a href=\"https://colab.research.google.com/github/samyzaf/notebooks/blob/main/cf3.ipynb\" target=\"_parent\"><img src=\"https://colab.research.google.com/assets/colab-badge.svg\" alt=\"Open In Colab\"/></a>"
      ]
    },
    {
      "cell_type": "markdown",
      "id": "fbb6476f",
      "metadata": {
        "cell_marker": "\"\"\"",
        "id": "fbb6476f"
      },
      "source": [
        "# **Complex Functions**\n",
        "# Chapter 3: Solutions to exercises\n",
        "\n",
        "<a href=\"https://samyzaf.com/technion/cfit/cf.pdf\">\n",
        "<img src=\"https://samyzaf.com/technion/cfit/cf1.jpg\" alt=\"cf book cover\"/>\n",
        "</a>\n",
        "\n",
        "* These are only a small number of solutions.\n",
        "  Hopefully this will encourage students to try to solve more\n",
        "  exercises with similar methods.\n",
        "\n",
        "* We will be glad to accept notebooks\n",
        "  with solutions to other exercises in this book.\n",
        "  Please send them to mail@samyzaf.com.\n",
        "\n",
        "* Thanks a lot to all the students that provided help, short snippets, and ideas."
      ]
    },
    {
      "cell_type": "markdown",
      "id": "017c8f7a",
      "metadata": {
        "cell_marker": "\"\"\"",
        "id": "017c8f7a"
      },
      "source": [
        "# **Exercise 3.16**\n",
        "\n",
        "<img\n",
        "src=\"https://samyzaf.com/technion/cfit/sol/sol3a.jpg\"\n",
        "alt=\"figure for 3.16\"\n",
        "width=\"60%\"\n",
        "/>"
      ]
    },
    {
      "cell_type": "markdown",
      "id": "6afebc90",
      "metadata": {
        "cell_marker": "\"\"\"",
        "id": "6afebc90"
      },
      "source": [
        "# **Exercise 3.17**\n",
        "\n",
        "<img\n",
        "src=\"https://samyzaf.com/technion/cfit/sol/sol3b.jpg\"\n",
        "alt=\"figure for 3.17\"\n",
        "width=\"60%\"\n",
        "/>"
      ]
    },
    {
      "cell_type": "markdown",
      "id": "c5e9cb58",
      "metadata": {
        "cell_marker": "\"\"\"",
        "id": "c5e9cb58"
      },
      "source": [
        "# **Exercise 3.21**\n",
        "\n",
        "<img\n",
        "src=\"https://samyzaf.com/technion/cfit/sol/sol3f.jpg\"\n",
        "alt=\"figure for 3.21\"\n",
        "width=\"60%\"\n",
        "/>"
      ]
    },
    {
      "cell_type": "markdown",
      "id": "aae1786b",
      "metadata": {
        "cell_marker": "\"\"\"",
        "id": "aae1786b"
      },
      "source": [
        "# **Exercise 3.22**\n",
        "\n",
        "<img\n",
        "src=\"https://samyzaf.com/technion/cfit/sol/sol3h.jpg\"\n",
        "alt=\"figure for 3.22\"\n",
        "width=\"60%\"\n",
        "/>"
      ]
    },
    {
      "cell_type": "markdown",
      "id": "c5d009d1",
      "metadata": {
        "cell_marker": "\"\"\"",
        "id": "c5d009d1"
      },
      "source": [
        "# **Exercise 3.23**\n",
        "\n",
        "<img\n",
        "src=\"https://samyzaf.com/technion/cfit/sol/sol3f.jpg\"\n",
        "alt=\"figure for 3.23\"\n",
        "width=\"60%\"\n",
        "/>"
      ]
    },
    {
      "cell_type": "markdown",
      "id": "ef8d45e0",
      "metadata": {
        "cell_marker": "\"\"\"",
        "id": "ef8d45e0"
      },
      "source": [
        "# **Exercise 3.34**\n",
        "\n",
        "By definition $z^i = e^{iL(z)}$ where $L(z)$ is the main branch of logarithm."
      ]
    },
    {
      "cell_type": "markdown",
      "id": "ebaf9507",
      "metadata": {
        "cell_marker": "\"\"\"",
        "id": "ebaf9507"
      },
      "source": [
        "# **Exercise 3.35**\n",
        "\n",
        "<img\n",
        "src=\"https://samyzaf.com/technion/cfit/sol/ex3k.jpg\"\n",
        "alt=\"figure for 3.35\"\n",
        "width=\"60%\"\n",
        "/>"
      ]
    },
    {
      "cell_type": "markdown",
      "id": "d5069965",
      "metadata": {
        "cell_marker": "\"\"\"",
        "id": "d5069965"
      },
      "source": [
        "# **Exercise 3.37**\n",
        "\n",
        "<img\n",
        "src=\"https://samyzaf.com/technion/cfit/sol/ex3i.jpg\"\n",
        "alt=\"figure for 3.37\"\n",
        "width=\"60%\"\n",
        "/>"
      ]
    },
    {
      "cell_type": "markdown",
      "id": "b9c7808b",
      "metadata": {
        "cell_marker": "\"\"\"",
        "lines_to_next_cell": 2,
        "id": "b9c7808b"
      },
      "source": [
        "# **Exercise 3.48**\n",
        "\n",
        "<img\n",
        "src=\"https://samyzaf.com/technion/cfit/sol/ex3j.jpg\"\n",
        "alt=\"figure for 3.48\"\n",
        "width=\"60%\"\n",
        "/>"
      ]
    }
  ],
  "metadata": {
    "jupytext": {
      "cell_metadata_filter": "-all",
      "main_language": "python",
      "notebook_metadata_filter": "-all"
    },
    "colab": {
      "provenance": [],
      "include_colab_link": true
    }
  },
  "nbformat": 4,
  "nbformat_minor": 5
}