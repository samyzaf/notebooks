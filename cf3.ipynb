{
  "cells": [
    {
      "cell_type": "markdown",
      "metadata": {
        "id": "view-in-github",
        "colab_type": "text"
      },
      "source": [
        "<a href=\"https://colab.research.google.com/github/samyzaf/notebooks/blob/main/cf3.ipynb\" target=\"_parent\"><img src=\"https://colab.research.google.com/assets/colab-badge.svg\" alt=\"Open In Colab\"/></a>"
      ]
    },
    {
      "cell_type": "markdown",
      "id": "955fcdad",
      "metadata": {
        "cell_marker": "\"\"\"",
        "id": "955fcdad"
      },
      "source": [
        "# **Complex Functions**\n",
        "# Chapter 3: Solutions to exercises\n",
        "\n",
        "<a href=\"https://samyzaf.com/technion/cfit/cf.pdf\">\n",
        "<img src=\"https://samyzaf.com/technion/cfit/cf1.jpg\" alt=\"cf book cover\"/>\n",
        "</a>\n",
        "\n",
        "* These are only a small number of solutions.\n",
        "  Hopefully this will encourage students to try to solve more\n",
        "  exercises with similar methods.\n",
        "\n",
        "* We will be glad to accept notebooks\n",
        "  with solutions to other exercises in this book.\n",
        "  Please send them to mail@samyzaf.com."
      ]
    },
    {
      "cell_type": "markdown",
      "id": "a261e0be",
      "metadata": {
        "cell_marker": "\"\"\"",
        "id": "a261e0be"
      },
      "source": [
        "# Exercise 3.16\n",
        "\n",
        "<img\n",
        "src=\"https://samyzaf.com/technion/cfit/sol/sol3a.jpg\"\n",
        "alt=\"figure for 3.16\"\n",
        "width=\"60%\"\n",
        "/>"
      ]
    },
    {
      "cell_type": "markdown",
      "id": "6a968571",
      "metadata": {
        "cell_marker": "\"\"\"",
        "id": "6a968571"
      },
      "source": [
        "# Exercise 3.17\n",
        "\n",
        "<img\n",
        "src=\"https://samyzaf.com/technion/cfit/sol/sol3b.jpg\"\n",
        "alt=\"figure for 3.17\"\n",
        "width=\"60%\"\n",
        "/>"
      ]
    },
    {
      "cell_type": "markdown",
      "id": "70e67c27",
      "metadata": {
        "cell_marker": "\"\"\"",
        "id": "70e67c27"
      },
      "source": [
        "# Exercise 3.21\n",
        "\n",
        "<img\n",
        "src=\"https://samyzaf.com/technion/cfit/sol/sol3f.jpg\"\n",
        "alt=\"figure for 3.21\"\n",
        "width=\"60%\"\n",
        "/>"
      ]
    },
    {
      "cell_type": "markdown",
      "id": "766865c5",
      "metadata": {
        "cell_marker": "\"\"\"",
        "id": "766865c5"
      },
      "source": [
        "# Exercise 3.22\n",
        "\n",
        "<img\n",
        "src=\"https://samyzaf.com/technion/cfit/sol/sol3h.jpg\"\n",
        "alt=\"figure for 3.22\"\n",
        "width=\"60%\"\n",
        "/>"
      ]
    },
    {
      "cell_type": "markdown",
      "id": "7abb33e5",
      "metadata": {
        "cell_marker": "\"\"\"",
        "id": "7abb33e5"
      },
      "source": [
        "# Exercise 3.23\n",
        "\n",
        "<img\n",
        "src=\"https://samyzaf.com/technion/cfit/sol/sol3f.jpg\"\n",
        "alt=\"figure for 3.23\"\n",
        "width=\"60%\"\n",
        "/>"
      ]
    },
    {
      "cell_type": "markdown",
      "id": "93fcef25",
      "metadata": {
        "cell_marker": "\"\"\"",
        "id": "93fcef25"
      },
      "source": [
        "# Exercise 3.34\n",
        "\n",
        "By definition $z^i = e^{iL(z)}$ where $L(z)$ is the main branch of logarithm."
      ]
    },
    {
      "cell_type": "markdown",
      "id": "45c9ccaf",
      "metadata": {
        "cell_marker": "\"\"\"",
        "id": "45c9ccaf"
      },
      "source": [
        "# Exercise 3.35\n",
        "\n",
        "<img\n",
        "src=\"https://samyzaf.com/technion/cfit/sol/ex3k.jpg\"\n",
        "alt=\"figure for 3.35\"\n",
        "width=\"60%\"\n",
        "/>"
      ]
    },
    {
      "cell_type": "markdown",
      "id": "ab8d75bc",
      "metadata": {
        "cell_marker": "\"\"\"",
        "id": "ab8d75bc"
      },
      "source": [
        "# Exercise 3.37\n",
        "\n",
        "<img\n",
        "src=\"https://samyzaf.com/technion/cfit/sol/ex3i.jpg\"\n",
        "alt=\"figure for 3.37\"\n",
        "width=\"60%\"\n",
        "/>"
      ]
    },
    {
      "cell_type": "markdown",
      "id": "8f866bef",
      "metadata": {
        "cell_marker": "\"\"\"",
        "lines_to_next_cell": 2,
        "id": "8f866bef"
      },
      "source": [
        "# Exercise 3.48\n",
        "\n",
        "<img\n",
        "src=\"https://samyzaf.com/technion/cfit/sol/ex3j.jpg\"\n",
        "alt=\"figure for 3.48\"\n",
        "width=\"60%\"\n",
        "/>"
      ]
    }
  ],
  "metadata": {
    "jupytext": {
      "cell_metadata_filter": "-all",
      "main_language": "python",
      "notebook_metadata_filter": "-all"
    },
    "colab": {
      "provenance": [],
      "include_colab_link": true
    }
  },
  "nbformat": 4,
  "nbformat_minor": 5
}