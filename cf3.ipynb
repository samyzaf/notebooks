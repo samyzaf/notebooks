{
  "cells": [
    {
      "cell_type": "markdown",
      "metadata": {
        "id": "view-in-github",
        "colab_type": "text"
      },
      "source": [
        "<a href=\"https://colab.research.google.com/github/samyzaf/notebooks/blob/main/cf3.ipynb\" target=\"_parent\"><img src=\"https://colab.research.google.com/assets/colab-badge.svg\" alt=\"Open In Colab\"/></a>"
      ]
    },
    {
      "cell_type": "markdown",
      "id": "391fea3b",
      "metadata": {
        "cell_marker": "\"\"\"",
        "id": "391fea3b"
      },
      "source": [
        "# **Complex Functions**\n",
        "# Chapter 3: Solutions to exercises\n",
        "\n",
        "<a href=\"https://samyzaf.com/technion/cfit/cf.pdf\">\n",
        "<img src=\"https://samyzaf.com/technion/cfit/cf1.jpg\" alt=\"cf book cover\"/>\n",
        "</a>\n",
        "\n",
        "* These are only a small number of solutions.\n",
        "  Hopefully this will encourage students to try to solve more\n",
        "  exercises with similar methods.\n",
        "\n",
        "* We will be glad to accept notebooks\n",
        "  with solutions to other exercises in this book.\n",
        "  Please send them to mail@samyzaf.com.\n",
        "\n",
        "* Thanks a lot to all the students that provided help, short snippets, and ideas."
      ]
    },
    {
      "cell_type": "markdown",
      "id": "007ca4ad",
      "metadata": {
        "cell_marker": "\"\"\"",
        "id": "007ca4ad"
      },
      "source": [
        "# Exercise 3.16\n",
        "\n",
        "<img\n",
        "src=\"https://samyzaf.com/technion/cfit/sol/sol3a.jpg\"\n",
        "alt=\"figure for 3.16\"\n",
        "width=\"60%\"\n",
        "/>"
      ]
    },
    {
      "cell_type": "markdown",
      "id": "28a7d6c2",
      "metadata": {
        "cell_marker": "\"\"\"",
        "id": "28a7d6c2"
      },
      "source": [
        "# Exercise 3.17\n",
        "\n",
        "<img\n",
        "src=\"https://samyzaf.com/technion/cfit/sol/sol3b.jpg\"\n",
        "alt=\"figure for 3.17\"\n",
        "width=\"60%\"\n",
        "/>"
      ]
    },
    {
      "cell_type": "markdown",
      "id": "dc654497",
      "metadata": {
        "cell_marker": "\"\"\"",
        "id": "dc654497"
      },
      "source": [
        "# Exercise 3.21\n",
        "\n",
        "<img\n",
        "src=\"https://samyzaf.com/technion/cfit/sol/sol3f.jpg\"\n",
        "alt=\"figure for 3.21\"\n",
        "width=\"60%\"\n",
        "/>"
      ]
    },
    {
      "cell_type": "markdown",
      "id": "03f87bdd",
      "metadata": {
        "cell_marker": "\"\"\"",
        "id": "03f87bdd"
      },
      "source": [
        "# Exercise 3.22\n",
        "\n",
        "<img\n",
        "src=\"https://samyzaf.com/technion/cfit/sol/sol3h.jpg\"\n",
        "alt=\"figure for 3.22\"\n",
        "width=\"60%\"\n",
        "/>"
      ]
    },
    {
      "cell_type": "markdown",
      "id": "786648aa",
      "metadata": {
        "cell_marker": "\"\"\"",
        "id": "786648aa"
      },
      "source": [
        "# Exercise 3.23\n",
        "\n",
        "<img\n",
        "src=\"https://samyzaf.com/technion/cfit/sol/sol3f.jpg\"\n",
        "alt=\"figure for 3.23\"\n",
        "width=\"60%\"\n",
        "/>"
      ]
    },
    {
      "cell_type": "markdown",
      "id": "858af260",
      "metadata": {
        "cell_marker": "\"\"\"",
        "id": "858af260"
      },
      "source": [
        "# Exercise 3.34\n",
        "\n",
        "By definition $z^i = e^{iL(z)}$ where $L(z)$ is the main branch of logarithm."
      ]
    },
    {
      "cell_type": "markdown",
      "id": "4744fc42",
      "metadata": {
        "cell_marker": "\"\"\"",
        "id": "4744fc42"
      },
      "source": [
        "# Exercise 3.35\n",
        "\n",
        "<img\n",
        "src=\"https://samyzaf.com/technion/cfit/sol/ex3k.jpg\"\n",
        "alt=\"figure for 3.35\"\n",
        "width=\"60%\"\n",
        "/>"
      ]
    },
    {
      "cell_type": "markdown",
      "id": "349a5882",
      "metadata": {
        "cell_marker": "\"\"\"",
        "id": "349a5882"
      },
      "source": [
        "# Exercise 3.37\n",
        "\n",
        "<img\n",
        "src=\"https://samyzaf.com/technion/cfit/sol/ex3i.jpg\"\n",
        "alt=\"figure for 3.37\"\n",
        "width=\"60%\"\n",
        "/>"
      ]
    },
    {
      "cell_type": "markdown",
      "id": "99491ad4",
      "metadata": {
        "cell_marker": "\"\"\"",
        "lines_to_next_cell": 2,
        "id": "99491ad4"
      },
      "source": [
        "# Exercise 3.48\n",
        "\n",
        "<img\n",
        "src=\"https://samyzaf.com/technion/cfit/sol/ex3j.jpg\"\n",
        "alt=\"figure for 3.48\"\n",
        "width=\"60%\"\n",
        "/>"
      ]
    }
  ],
  "metadata": {
    "jupytext": {
      "cell_metadata_filter": "-all",
      "main_language": "python",
      "notebook_metadata_filter": "-all"
    },
    "colab": {
      "provenance": [],
      "include_colab_link": true
    }
  },
  "nbformat": 4,
  "nbformat_minor": 5
}