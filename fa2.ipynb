{
  "cells": [
    {
      "cell_type": "markdown",
      "metadata": {
        "id": "view-in-github",
        "colab_type": "text"
      },
      "source": [
        "<a href=\"https://colab.research.google.com/github/samyzaf/notebooks/blob/main/fa2.ipynb\" target=\"_parent\"><img src=\"https://colab.research.google.com/assets/colab-badge.svg\" alt=\"Open In Colab\"/></a>"
      ]
    },
    {
      "cell_type": "markdown",
      "metadata": {
        "id": "QO4VgM1r1vEy",
        "outputId": "8a3ecaff-b861-4017-89e3-3a15ce3bab94"
      },
      "source": [
        "# Jupyter Notebook for chapters 2 and 3 of  \n",
        "# the Computational Models and Formal Languages Book\n",
        "\n",
        "<a href=\"https://samyzaf.com/afl.pdf\">\n",
        "<img src=\"https://samyzaf.com/afl/afl1.jpg\" alt=\"CMFL book cover\"/>\n",
        "</a>\n",
        "\n",
        "* The purpose of this notebook is to allow students and readers of\n",
        "  the CMFL book to conveniently simulate finite automata on a Google Colab environment\n",
        "  (without having to install anything on their computer or device).\n",
        "* For that purpose we've built a simple Python wrapper package **pyfasim**,\n",
        "  around the excellent automata-lib package\n",
        "  (thanks to its author Caleb Evans <caleb@calebevans.me>).\n",
        "* It can be used to define easily standard examples of finite automata, and then run experiments,\n",
        "  check statements, and draw diagrams.\n",
        "* The simplified wrapper is intended to make it accessible to first or second year college students\n",
        "  without Python knowledge or even with no programming experience.\n",
        "* We'll be glad to get feedback and code for solving exercises from the book."
      ]
    },
    {
      "cell_type": "markdown",
      "metadata": {
        "id": "R0yA3d_LeCvX"
      },
      "source": [
        "## Installing the **pyfasim** package\n",
        "* Depending on the virtual machine allocated to you\n",
        "  (or the local machine you are runnig this Jupyter notebook),\n",
        "  you may need to install the latest python3-dev/graphviz lib.\n",
        "\n",
        "* In such case you will have to run the next line of code."
      ]
    },
    {
      "cell_type": "code",
      "source": [
        "!sudo apt-get install python3-dev graphviz libgraphviz-dev pkg-config"
      ],
      "metadata": {
        "id": "DkH9F5ALRFdY"
      },
      "execution_count": null,
      "outputs": []
    },
    {
      "cell_type": "markdown",
      "source": [
        "* The next line must be run in order to install\n",
        "  the **pyfasim** package on the\n",
        "  machine on which the notebook runs.\n",
        "* The second line is required to import the package."
      ],
      "metadata": {
        "id": "pql0GMzjRNNQ"
      }
    },
    {
      "cell_type": "code",
      "execution_count": 2,
      "metadata": {
        "colab": {
          "base_uri": "https://localhost:8080/"
        },
        "id": "cU8P5-DbeCvZ",
        "outputId": "f0c47ce5-1897-4e74-821c-2832be2dda2d"
      },
      "outputs": [
        {
          "output_type": "stream",
          "name": "stdout",
          "text": [
            "  Preparing metadata (setup.py) ... \u001b[?25l\u001b[?25hdone\n",
            "\u001b[2K     \u001b[90m━━━━━━━━━━━━━━━━━━━━━━━━━━━━━━━━━━━━━━━━\u001b[0m \u001b[32m106.0/106.0 kB\u001b[0m \u001b[31m3.3 MB/s\u001b[0m eta \u001b[36m0:00:00\u001b[0m\n",
            "\u001b[?25h  Installing build dependencies ... \u001b[?25l\u001b[?25hdone\n",
            "  Getting requirements to build wheel ... \u001b[?25l\u001b[?25hdone\n",
            "  Preparing metadata (pyproject.toml) ... \u001b[?25l\u001b[?25hdone\n",
            "\u001b[2K   \u001b[90m━━━━━━━━━━━━━━━━━━━━━━━━━━━━━━━━━━━━━━━━\u001b[0m \u001b[32m125.2/125.2 kB\u001b[0m \u001b[31m8.2 MB/s\u001b[0m eta \u001b[36m0:00:00\u001b[0m\n",
            "\u001b[2K   \u001b[90m━━━━━━━━━━━━━━━━━━━━━━━━━━━━━━━━━━━━━━━━\u001b[0m \u001b[32m238.0/238.0 kB\u001b[0m \u001b[31m15.1 MB/s\u001b[0m eta \u001b[36m0:00:00\u001b[0m\n",
            "\u001b[?25h  Building wheel for pyfasim (setup.py) ... \u001b[?25l\u001b[?25hdone\n",
            "  Building wheel for pygraphviz (pyproject.toml) ... \u001b[?25l\u001b[?25hdone\n"
          ]
        }
      ],
      "source": [
        "%pip install -q https://samyzaf.com/pyfasim.zip\n",
        "from pyfasim import *"
      ]
    },
    {
      "cell_type": "markdown",
      "metadata": {
        "id": "rqYCDGZneCve"
      },
      "source": [
        "## Defining a Deterministic Finite Autamata (DFA)\n",
        "* The **DFA** command creates a new Deterministic Finite Autamata\n",
        "  by specifying its name, states, input_symbols, transitions,\n",
        "  initial_state, and final_states\n",
        "* The following example is a typical.\n",
        "* You may copy it and solve some of the exercises in the book."
      ]
    },
    {
      "cell_type": "code",
      "execution_count": 3,
      "metadata": {
        "id": "sEuKy6eHwpMS"
      },
      "outputs": [],
      "source": [
        "fa1 = DFA(\"\"\"\n",
        "name: foo\n",
        "states: q0 q1 q2 q3\n",
        "input_symbols: 0 1\n",
        "transitions:\n",
        "    q0:  0:q1  1:q0\n",
        "    q1:  0:q2  1:q0\n",
        "    q2:  0:q3  1:q2\n",
        "    q3:  0:q1  1:q2\n",
        "initial_state: q0\n",
        "final_states: q2 q3\n",
        "\"\"\")\n"
      ]
    },
    {
      "cell_type": "code",
      "execution_count": 4,
      "metadata": {
        "colab": {
          "base_uri": "https://localhost:8080/",
          "height": 190
        },
        "id": "TnQeZOx4eCvg",
        "outputId": "74dbd710-b64e-4065-bfab-8f1bba6a851f"
      },
      "outputs": [
        {
          "output_type": "execute_result",
          "data": {
            "image/svg+xml": "<?xml version=\"1.0\" encoding=\"UTF-8\" standalone=\"no\"?>\n<!DOCTYPE svg PUBLIC \"-//W3C//DTD SVG 1.1//EN\"\n \"http://www.w3.org/Graphics/SVG/1.1/DTD/svg11.dtd\">\n<!-- Generated by graphviz version 2.43.0 (0)\n -->\n<!-- Pages: 1 -->\n<svg width=\"354pt\" height=\"126pt\"\n viewBox=\"0.00 0.00 353.59 125.92\" xmlns=\"http://www.w3.org/2000/svg\" xmlns:xlink=\"http://www.w3.org/1999/xlink\">\n<g id=\"graph0\" class=\"graph\" transform=\"scale(1 1) rotate(0) translate(4 121.92)\">\n<polygon fill=\"white\" stroke=\"transparent\" points=\"-4,4 -4,-121.92 349.59,-121.92 349.59,4 -4,4\"/>\n<!-- 9ead8a95&#45;74e5&#45;4b41&#45;8a98&#45;81390b8985e3 -->\n<g id=\"node1\" class=\"node\">\n<title>9ead8a95&#45;74e5&#45;4b41&#45;8a98&#45;81390b8985e3</title>\n<g id=\"a_node1\"><a xlink:title=\".\">\n<ellipse fill=\"black\" stroke=\"black\" cx=\"1.8\" cy=\"-21.43\" rx=\"1.8\" ry=\"1.8\"/>\n</a>\n</g>\n</g>\n<!-- q0 -->\n<g id=\"node2\" class=\"node\">\n<title>q0</title>\n<ellipse fill=\"none\" stroke=\"black\" cx=\"60.1\" cy=\"-21.43\" rx=\"19.5\" ry=\"19.5\"/>\n<text text-anchor=\"middle\" x=\"60.1\" y=\"-17.73\" font-family=\"Times,serif\" font-size=\"14.00\">q0</text>\n</g>\n<!-- 9ead8a95&#45;74e5&#45;4b41&#45;8a98&#45;81390b8985e3&#45;&gt;q0 -->\n<g id=\"edge1\" class=\"edge\">\n<title>9ead8a95&#45;74e5&#45;4b41&#45;8a98&#45;81390b8985e3&#45;&gt;q0</title>\n<g id=\"a_edge1\"><a xlink:title=\"&#45;&gt;q0\">\n<path fill=\"none\" stroke=\"black\" d=\"M3.78,-21.43C7.28,-21.43 19.64,-21.43 31.78,-21.43\"/>\n<polygon fill=\"black\" stroke=\"black\" points=\"31.96,-24.4 40.46,-21.43 31.96,-18.45 31.96,-24.4\"/>\n</a>\n</g>\n</g>\n<!-- q0&#45;&gt;q0 -->\n<g id=\"edge2\" class=\"edge\">\n<title>q0&#45;&gt;q0</title>\n<path fill=\"none\" stroke=\"black\" d=\"M53.63,-39.95C52.53,-49.88 54.68,-58.93 60.1,-58.93 63.82,-58.93 66,-54.65 66.65,-48.75\"/>\n<polygon fill=\"black\" stroke=\"black\" points=\"69.62,-48.42 66.57,-39.95 63.67,-48.48 69.62,-48.42\"/>\n<text text-anchor=\"middle\" x=\"60.1\" y=\"-62.73\" font-family=\"Times,serif\" font-size=\"14.00\">1</text>\n</g>\n<!-- q1 -->\n<g id=\"node3\" class=\"node\">\n<title>q1</title>\n<ellipse fill=\"none\" stroke=\"black\" cx=\"142.09\" cy=\"-21.43\" rx=\"19.5\" ry=\"19.5\"/>\n<text text-anchor=\"middle\" x=\"142.09\" y=\"-17.73\" font-family=\"Times,serif\" font-size=\"14.00\">q1</text>\n</g>\n<!-- q0&#45;&gt;q1 -->\n<g id=\"edge3\" class=\"edge\">\n<title>q0&#45;&gt;q1</title>\n<path fill=\"none\" stroke=\"black\" d=\"M79.65,-21.43C89.78,-21.43 102.5,-21.43 113.75,-21.43\"/>\n<polygon fill=\"black\" stroke=\"black\" points=\"113.86,-24.4 122.36,-21.43 113.86,-18.45 113.86,-24.4\"/>\n<text text-anchor=\"middle\" x=\"101.1\" y=\"-25.23\" font-family=\"Times,serif\" font-size=\"14.00\">0</text>\n</g>\n<!-- q1&#45;&gt;q0 -->\n<g id=\"edge4\" class=\"edge\">\n<title>q1&#45;&gt;q0</title>\n<path fill=\"none\" stroke=\"black\" d=\"M126.24,-9.55C118.04,-4.38 107.52,0 97.6,-2.43 93.2,-3.5 88.74,-5.21 84.52,-7.17\"/>\n<polygon fill=\"black\" stroke=\"black\" points=\"82.98,-4.62 76.79,-11.16 85.71,-9.91 82.98,-4.62\"/>\n<text text-anchor=\"middle\" x=\"101.1\" y=\"-6.23\" font-family=\"Times,serif\" font-size=\"14.00\">1</text>\n</g>\n<!-- q2 -->\n<g id=\"node4\" class=\"node\">\n<title>q2</title>\n<ellipse fill=\"none\" stroke=\"black\" cx=\"228.09\" cy=\"-61.43\" rx=\"23.5\" ry=\"23.5\"/>\n<ellipse fill=\"none\" stroke=\"black\" cx=\"228.09\" cy=\"-61.43\" rx=\"27.5\" ry=\"27.5\"/>\n<text text-anchor=\"middle\" x=\"228.09\" y=\"-57.73\" font-family=\"Times,serif\" font-size=\"14.00\">q2</text>\n</g>\n<!-- q1&#45;&gt;q2 -->\n<g id=\"edge5\" class=\"edge\">\n<title>q1&#45;&gt;q2</title>\n<path fill=\"none\" stroke=\"black\" d=\"M160.09,-29.52C171.21,-34.82 186,-41.86 198.85,-47.98\"/>\n<polygon fill=\"black\" stroke=\"black\" points=\"197.61,-50.68 206.56,-51.65 200.16,-45.31 197.61,-50.68\"/>\n<text text-anchor=\"middle\" x=\"183.09\" y=\"-45.23\" font-family=\"Times,serif\" font-size=\"14.00\">0</text>\n</g>\n<!-- q2&#45;&gt;q2 -->\n<g id=\"edge6\" class=\"edge\">\n<title>q2&#45;&gt;q2</title>\n<path fill=\"none\" stroke=\"black\" d=\"M220,-83.63C219.12,-93.93 221.82,-102.92 228.09,-102.92 232.5,-102.92 235.14,-98.48 236.02,-92.26\"/>\n<polygon fill=\"black\" stroke=\"black\" points=\"239,-92.18 236.18,-83.63 233.05,-92.07 239,-92.18\"/>\n<text text-anchor=\"middle\" x=\"228.09\" y=\"-106.72\" font-family=\"Times,serif\" font-size=\"14.00\">1</text>\n</g>\n<!-- q3 -->\n<g id=\"node5\" class=\"node\">\n<title>q3</title>\n<ellipse fill=\"none\" stroke=\"black\" cx=\"318.09\" cy=\"-38.43\" rx=\"23.5\" ry=\"23.5\"/>\n<ellipse fill=\"none\" stroke=\"black\" cx=\"318.09\" cy=\"-38.43\" rx=\"27.5\" ry=\"27.5\"/>\n<text text-anchor=\"middle\" x=\"318.09\" y=\"-34.73\" font-family=\"Times,serif\" font-size=\"14.00\">q3</text>\n</g>\n<!-- q2&#45;&gt;q3 -->\n<g id=\"edge7\" class=\"edge\">\n<title>q2&#45;&gt;q3</title>\n<path fill=\"none\" stroke=\"black\" d=\"M251.54,-59.2C259.53,-58.12 268.54,-56.58 276.59,-54.43 280.39,-53.41 284.32,-52.15 288.17,-50.78\"/>\n<polygon fill=\"black\" stroke=\"black\" points=\"289.49,-53.46 296.38,-47.67 287.38,-47.9 289.49,-53.46\"/>\n<text text-anchor=\"middle\" x=\"273.09\" y=\"-59.23\" font-family=\"Times,serif\" font-size=\"14.00\">0</text>\n</g>\n<!-- q3&#45;&gt;q1 -->\n<g id=\"edge8\" class=\"edge\">\n<title>q3&#45;&gt;q1</title>\n<path fill=\"none\" stroke=\"black\" d=\"M296.37,-28.71C283.74,-23.33 267.09,-17.18 251.59,-14.43 223.98,-9.53 191.89,-12.67 169.81,-16.17\"/>\n<polygon fill=\"black\" stroke=\"black\" points=\"169.17,-13.27 161.29,-17.62 170.17,-19.13 169.17,-13.27\"/>\n<text text-anchor=\"middle\" x=\"228.09\" y=\"-18.23\" font-family=\"Times,serif\" font-size=\"14.00\">0</text>\n</g>\n<!-- q3&#45;&gt;q2 -->\n<g id=\"edge9\" class=\"edge\">\n<title>q3&#45;&gt;q2</title>\n<path fill=\"none\" stroke=\"black\" d=\"M294.98,-33.9C286.86,-33.05 277.68,-33.06 269.59,-35.43 264.33,-36.97 259.1,-39.43 254.24,-42.24\"/>\n<polygon fill=\"black\" stroke=\"black\" points=\"252.54,-39.79 246.95,-46.85 255.72,-44.82 252.54,-39.79\"/>\n<text text-anchor=\"middle\" x=\"273.09\" y=\"-39.23\" font-family=\"Times,serif\" font-size=\"14.00\">1</text>\n</g>\n</g>\n</svg>\n",
            "text/plain": [
              "<AGraph <Swig Object of type 'Agraph_t *' at 0x7f52a4992c70>>"
            ]
          },
          "metadata": {},
          "execution_count": 4
        }
      ],
      "source": [
        "fa1.show_diagram()"
      ]
    },
    {
      "cell_type": "code",
      "execution_count": 5,
      "metadata": {
        "colab": {
          "base_uri": "https://localhost:8080/",
          "height": 36
        },
        "id": "AU1eOxtXeCvh",
        "outputId": "afe50bfe-bc99-4eb4-bb7f-2f7e5faad84a"
      },
      "outputs": [
        {
          "output_type": "execute_result",
          "data": {
            "text/plain": [
              "'foo'"
            ],
            "application/vnd.google.colaboratory.intrinsic+json": {
              "type": "string"
            }
          },
          "metadata": {},
          "execution_count": 5
        }
      ],
      "source": [
        "fa1.name"
      ]
    },
    {
      "cell_type": "code",
      "execution_count": 6,
      "metadata": {
        "id": "5R9MP9MCeCvi"
      },
      "outputs": [],
      "source": [
        "fa2 = DFA(\"\"\"\n",
        "states: q0 q1 q2 q3\n",
        "input_symbols: 0 1\n",
        "transitions:\n",
        "    q0:  0:q3 1:q2\n",
        "    q1:  0:q1  1:q2\n",
        "    q2:  0:q0  1:q3\n",
        "    q3:  0:q1  1:q1\n",
        "initial_state: q0\n",
        "final_states: q2 q3\n",
        "\"\"\")"
      ]
    },
    {
      "cell_type": "code",
      "execution_count": 7,
      "metadata": {
        "colab": {
          "base_uri": "https://localhost:8080/",
          "height": 179
        },
        "id": "yz8bf52qeCvi",
        "outputId": "76c78aaa-8a32-4abd-e898-a5fa3b61350c"
      },
      "outputs": [
        {
          "output_type": "execute_result",
          "data": {
            "image/svg+xml": "<?xml version=\"1.0\" encoding=\"UTF-8\" standalone=\"no\"?>\n<!DOCTYPE svg PUBLIC \"-//W3C//DTD SVG 1.1//EN\"\n \"http://www.w3.org/Graphics/SVG/1.1/DTD/svg11.dtd\">\n<!-- Generated by graphviz version 2.43.0 (0)\n -->\n<!-- Pages: 1 -->\n<svg width=\"361pt\" height=\"118pt\"\n viewBox=\"0.00 0.00 360.59 118.00\" xmlns=\"http://www.w3.org/2000/svg\" xmlns:xlink=\"http://www.w3.org/1999/xlink\">\n<g id=\"graph0\" class=\"graph\" transform=\"scale(1 1) rotate(0) translate(4 114)\">\n<polygon fill=\"white\" stroke=\"transparent\" points=\"-4,4 -4,-114 356.59,-114 356.59,4 -4,4\"/>\n<!-- d646d6e7&#45;9483&#45;4c3c&#45;8871&#45;b7ad9c74295d -->\n<g id=\"node1\" class=\"node\">\n<title>d646d6e7&#45;9483&#45;4c3c&#45;8871&#45;b7ad9c74295d</title>\n<g id=\"a_node1\"><a xlink:title=\".\">\n<ellipse fill=\"black\" stroke=\"black\" cx=\"1.8\" cy=\"-56.5\" rx=\"1.8\" ry=\"1.8\"/>\n</a>\n</g>\n</g>\n<!-- q0 -->\n<g id=\"node2\" class=\"node\">\n<title>q0</title>\n<ellipse fill=\"none\" stroke=\"black\" cx=\"60.1\" cy=\"-56.5\" rx=\"19.5\" ry=\"19.5\"/>\n<text text-anchor=\"middle\" x=\"60.1\" y=\"-52.8\" font-family=\"Times,serif\" font-size=\"14.00\">q0</text>\n</g>\n<!-- d646d6e7&#45;9483&#45;4c3c&#45;8871&#45;b7ad9c74295d&#45;&gt;q0 -->\n<g id=\"edge1\" class=\"edge\">\n<title>d646d6e7&#45;9483&#45;4c3c&#45;8871&#45;b7ad9c74295d&#45;&gt;q0</title>\n<g id=\"a_edge1\"><a xlink:title=\"&#45;&gt;q0\">\n<path fill=\"none\" stroke=\"black\" d=\"M3.78,-56.5C7.28,-56.5 19.64,-56.5 31.78,-56.5\"/>\n<polygon fill=\"black\" stroke=\"black\" points=\"31.96,-59.48 40.46,-56.5 31.96,-53.53 31.96,-59.48\"/>\n</a>\n</g>\n</g>\n<!-- q2 -->\n<g id=\"node3\" class=\"node\">\n<title>q2</title>\n<ellipse fill=\"none\" stroke=\"black\" cx=\"146.09\" cy=\"-82.5\" rx=\"23.5\" ry=\"23.5\"/>\n<ellipse fill=\"none\" stroke=\"black\" cx=\"146.09\" cy=\"-82.5\" rx=\"27.5\" ry=\"27.5\"/>\n<text text-anchor=\"middle\" x=\"146.09\" y=\"-78.8\" font-family=\"Times,serif\" font-size=\"14.00\">q2</text>\n</g>\n<!-- q0&#45;&gt;q2 -->\n<g id=\"edge2\" class=\"edge\">\n<title>q0&#45;&gt;q2</title>\n<path fill=\"none\" stroke=\"black\" d=\"M77.9,-64.73C84,-67.48 91.01,-70.39 97.6,-72.5 102.86,-74.19 108.55,-75.67 114.1,-76.94\"/>\n<polygon fill=\"black\" stroke=\"black\" points=\"113.69,-79.89 122.62,-78.75 114.93,-74.07 113.69,-79.89\"/>\n<text text-anchor=\"middle\" x=\"101.1\" y=\"-77.3\" font-family=\"Times,serif\" font-size=\"14.00\">1</text>\n</g>\n<!-- q3 -->\n<g id=\"node4\" class=\"node\">\n<title>q3</title>\n<ellipse fill=\"none\" stroke=\"black\" cx=\"236.09\" cy=\"-27.5\" rx=\"23.5\" ry=\"23.5\"/>\n<ellipse fill=\"none\" stroke=\"black\" cx=\"236.09\" cy=\"-27.5\" rx=\"27.5\" ry=\"27.5\"/>\n<text text-anchor=\"middle\" x=\"236.09\" y=\"-23.8\" font-family=\"Times,serif\" font-size=\"14.00\">q3</text>\n</g>\n<!-- q0&#45;&gt;q3 -->\n<g id=\"edge3\" class=\"edge\">\n<title>q0&#45;&gt;q3</title>\n<path fill=\"none\" stroke=\"black\" d=\"M78.26,-49.3C90.42,-44.54 107.23,-38.62 122.6,-35.5 149.7,-30.01 181.14,-28.14 203.88,-27.57\"/>\n<polygon fill=\"black\" stroke=\"black\" points=\"204.01,-30.54 212.45,-27.41 203.89,-24.59 204.01,-30.54\"/>\n<text text-anchor=\"middle\" x=\"146.09\" y=\"-39.3\" font-family=\"Times,serif\" font-size=\"14.00\">0</text>\n</g>\n<!-- q2&#45;&gt;q0 -->\n<g id=\"edge4\" class=\"edge\">\n<title>q2&#45;&gt;q0</title>\n<path fill=\"none\" stroke=\"black\" d=\"M128.27,-66.88C121.45,-61.55 113.16,-56.25 104.6,-53.5 99.3,-51.8 93.46,-51.32 87.82,-51.51\"/>\n<polygon fill=\"black\" stroke=\"black\" points=\"87.45,-48.55 79.24,-52.26 87.97,-54.48 87.45,-48.55\"/>\n<text text-anchor=\"middle\" x=\"101.1\" y=\"-57.3\" font-family=\"Times,serif\" font-size=\"14.00\">0</text>\n</g>\n<!-- q2&#45;&gt;q3 -->\n<g id=\"edge5\" class=\"edge\">\n<title>q2&#45;&gt;q3</title>\n<path fill=\"none\" stroke=\"black\" d=\"M166.62,-70.29C178.81,-62.68 194.68,-52.76 208.07,-44.39\"/>\n<polygon fill=\"black\" stroke=\"black\" points=\"209.99,-46.7 215.62,-39.67 206.84,-41.65 209.99,-46.7\"/>\n<text text-anchor=\"middle\" x=\"191.09\" y=\"-60.3\" font-family=\"Times,serif\" font-size=\"14.00\">1</text>\n</g>\n<!-- q1 -->\n<g id=\"node5\" class=\"node\">\n<title>q1</title>\n<ellipse fill=\"none\" stroke=\"black\" cx=\"333.09\" cy=\"-57.5\" rx=\"19.5\" ry=\"19.5\"/>\n<text text-anchor=\"middle\" x=\"333.09\" y=\"-53.8\" font-family=\"Times,serif\" font-size=\"14.00\">q1</text>\n</g>\n<!-- q3&#45;&gt;q1 -->\n<g id=\"edge6\" class=\"edge\">\n<title>q3&#45;&gt;q1</title>\n<path fill=\"none\" stroke=\"black\" d=\"M258.65,-34.31C272.65,-38.73 290.99,-44.52 305.84,-49.21\"/>\n<polygon fill=\"black\" stroke=\"black\" points=\"305.12,-52.1 314.12,-51.83 306.91,-46.43 305.12,-52.1\"/>\n<text text-anchor=\"middle\" x=\"286.59\" y=\"-48.3\" font-family=\"Times,serif\" font-size=\"14.00\">0,1</text>\n</g>\n<!-- q1&#45;&gt;q2 -->\n<g id=\"edge7\" class=\"edge\">\n<title>q1&#45;&gt;q2</title>\n<path fill=\"none\" stroke=\"black\" d=\"M313.54,-60.68C307.79,-61.63 301.44,-62.65 295.59,-63.5 255.15,-69.41 208.37,-75.23 178.29,-78.84\"/>\n<polygon fill=\"black\" stroke=\"black\" points=\"177.61,-75.92 169.52,-79.88 178.31,-81.83 177.61,-75.92\"/>\n<text text-anchor=\"middle\" x=\"236.09\" y=\"-78.3\" font-family=\"Times,serif\" font-size=\"14.00\">1</text>\n</g>\n<!-- q1&#45;&gt;q1 -->\n<g id=\"edge8\" class=\"edge\">\n<title>q1&#45;&gt;q1</title>\n<path fill=\"none\" stroke=\"black\" d=\"M324.94,-75.25C323.27,-85.48 325.99,-95 333.09,-95 338.08,-95 340.9,-90.29 341.56,-83.94\"/>\n<polygon fill=\"black\" stroke=\"black\" points=\"344.53,-83.63 341.24,-75.25 338.58,-83.85 344.53,-83.63\"/>\n<text text-anchor=\"middle\" x=\"333.09\" y=\"-98.8\" font-family=\"Times,serif\" font-size=\"14.00\">0</text>\n</g>\n</g>\n</svg>\n",
            "text/plain": [
              "<AGraph <Swig Object of type 'Agraph_t *' at 0x7f528f9192c0>>"
            ]
          },
          "metadata": {},
          "execution_count": 7
        }
      ],
      "source": [
        "fa2.show_diagram()"
      ]
    },
    {
      "cell_type": "code",
      "execution_count": 8,
      "metadata": {
        "id": "MuOXQYwReCvj"
      },
      "outputs": [],
      "source": [
        "fa3 = DFA(\"\"\"\n",
        "states: q0 q1 q2 q3 q4 q5\n",
        "input_symbols: 0 1\n",
        "transitions:\n",
        "    q0:  0:q1 1:q3\n",
        "    q1:  0:q0  1:q3\n",
        "    q2:  0:q1  1:q4\n",
        "    q3:  0:q5  1:q5\n",
        "    q4:  0:q3  1:q3\n",
        "    q5:  0:q5  1:q5\n",
        "initial_state: q0\n",
        "final_states: q3 q5\n",
        "\"\"\")"
      ]
    },
    {
      "cell_type": "code",
      "execution_count": 9,
      "metadata": {
        "colab": {
          "base_uri": "https://localhost:8080/",
          "height": 223
        },
        "id": "h1bPRJhBeCvj",
        "outputId": "8677b653-5976-4c4e-9e60-dddfeb5805dc"
      },
      "outputs": [
        {
          "output_type": "execute_result",
          "data": {
            "image/svg+xml": "<?xml version=\"1.0\" encoding=\"UTF-8\" standalone=\"no\"?>\n<!DOCTYPE svg PUBLIC \"-//W3C//DTD SVG 1.1//EN\"\n \"http://www.w3.org/Graphics/SVG/1.1/DTD/svg11.dtd\">\n<!-- Generated by graphviz version 2.43.0 (0)\n -->\n<!-- Pages: 1 -->\n<svg width=\"376pt\" height=\"151pt\"\n viewBox=\"0.00 0.00 375.59 151.00\" xmlns=\"http://www.w3.org/2000/svg\" xmlns:xlink=\"http://www.w3.org/1999/xlink\">\n<g id=\"graph0\" class=\"graph\" transform=\"scale(1 1) rotate(0) translate(4 147)\">\n<polygon fill=\"white\" stroke=\"transparent\" points=\"-4,4 -4,-147 371.59,-147 371.59,4 -4,4\"/>\n<!-- 02dd268a&#45;5f86&#45;4dc8&#45;988c&#45;4eb4d62dc8ea -->\n<g id=\"node1\" class=\"node\">\n<title>02dd268a&#45;5f86&#45;4dc8&#45;988c&#45;4eb4d62dc8ea</title>\n<g id=\"a_node1\"><a xlink:title=\".\">\n<ellipse fill=\"black\" stroke=\"black\" cx=\"1.8\" cy=\"-123.5\" rx=\"1.8\" ry=\"1.8\"/>\n</a>\n</g>\n</g>\n<!-- q0 -->\n<g id=\"node2\" class=\"node\">\n<title>q0</title>\n<ellipse fill=\"none\" stroke=\"black\" cx=\"60.1\" cy=\"-123.5\" rx=\"19.5\" ry=\"19.5\"/>\n<text text-anchor=\"middle\" x=\"60.1\" y=\"-119.8\" font-family=\"Times,serif\" font-size=\"14.00\">q0</text>\n</g>\n<!-- 02dd268a&#45;5f86&#45;4dc8&#45;988c&#45;4eb4d62dc8ea&#45;&gt;q0 -->\n<g id=\"edge1\" class=\"edge\">\n<title>02dd268a&#45;5f86&#45;4dc8&#45;988c&#45;4eb4d62dc8ea&#45;&gt;q0</title>\n<g id=\"a_edge1\"><a xlink:title=\"&#45;&gt;q0\">\n<path fill=\"none\" stroke=\"black\" d=\"M3.78,-123.5C7.28,-123.5 19.64,-123.5 31.78,-123.5\"/>\n<polygon fill=\"black\" stroke=\"black\" points=\"31.96,-126.48 40.46,-123.5 31.96,-120.53 31.96,-126.48\"/>\n</a>\n</g>\n</g>\n<!-- q1 -->\n<g id=\"node3\" class=\"node\">\n<title>q1</title>\n<ellipse fill=\"none\" stroke=\"black\" cx=\"142.09\" cy=\"-85.5\" rx=\"19.5\" ry=\"19.5\"/>\n<text text-anchor=\"middle\" x=\"142.09\" y=\"-81.8\" font-family=\"Times,serif\" font-size=\"14.00\">q1</text>\n</g>\n<!-- q0&#45;&gt;q1 -->\n<g id=\"edge2\" class=\"edge\">\n<title>q0&#45;&gt;q1</title>\n<path fill=\"none\" stroke=\"black\" d=\"M72.01,-107.67C78.44,-99.75 87.33,-90.94 97.6,-86.5 102.69,-84.3 108.45,-83.28 114.07,-82.94\"/>\n<polygon fill=\"black\" stroke=\"black\" points=\"114.17,-85.92 122.66,-82.91 114.15,-79.97 114.17,-85.92\"/>\n<text text-anchor=\"middle\" x=\"101.1\" y=\"-90.3\" font-family=\"Times,serif\" font-size=\"14.00\">0</text>\n</g>\n<!-- q3 -->\n<g id=\"node4\" class=\"node\">\n<title>q3</title>\n<ellipse fill=\"none\" stroke=\"black\" cx=\"239.09\" cy=\"-85.5\" rx=\"23.5\" ry=\"23.5\"/>\n<ellipse fill=\"none\" stroke=\"black\" cx=\"239.09\" cy=\"-85.5\" rx=\"27.5\" ry=\"27.5\"/>\n<text text-anchor=\"middle\" x=\"239.09\" y=\"-81.8\" font-family=\"Times,serif\" font-size=\"14.00\">q3</text>\n</g>\n<!-- q0&#45;&gt;q3 -->\n<g id=\"edge3\" class=\"edge\">\n<title>q0&#45;&gt;q3</title>\n<path fill=\"none\" stroke=\"black\" d=\"M79.76,-124.89C87.47,-125.22 96.47,-125.27 104.6,-124.5 146.68,-120.47 157.76,-118.67 197.59,-104.5 201.7,-103.04 205.94,-101.31 210.08,-99.49\"/>\n<polygon fill=\"black\" stroke=\"black\" points=\"211.32,-102.2 217.81,-95.95 208.84,-96.79 211.32,-102.2\"/>\n<text text-anchor=\"middle\" x=\"142.09\" y=\"-126.3\" font-family=\"Times,serif\" font-size=\"14.00\">1</text>\n</g>\n<!-- q1&#45;&gt;q0 -->\n<g id=\"edge4\" class=\"edge\">\n<title>q1&#45;&gt;q0</title>\n<path fill=\"none\" stroke=\"black\" d=\"M124.15,-93.55C113.02,-98.83 98.27,-105.84 85.84,-111.75\"/>\n<polygon fill=\"black\" stroke=\"black\" points=\"84.47,-109.11 78.06,-115.44 87.02,-114.49 84.47,-109.11\"/>\n<text text-anchor=\"middle\" x=\"101.1\" y=\"-109.3\" font-family=\"Times,serif\" font-size=\"14.00\">0</text>\n</g>\n<!-- q1&#45;&gt;q3 -->\n<g id=\"edge5\" class=\"edge\">\n<title>q1&#45;&gt;q3</title>\n<path fill=\"none\" stroke=\"black\" d=\"M161.86,-85.5C174.58,-85.5 191.7,-85.5 206.49,-85.5\"/>\n<polygon fill=\"black\" stroke=\"black\" points=\"206.84,-88.48 215.34,-85.5 206.84,-82.53 206.84,-88.48\"/>\n<text text-anchor=\"middle\" x=\"188.59\" y=\"-89.3\" font-family=\"Times,serif\" font-size=\"14.00\">1</text>\n</g>\n<!-- q5 -->\n<g id=\"node5\" class=\"node\">\n<title>q5</title>\n<ellipse fill=\"none\" stroke=\"black\" cx=\"340.09\" cy=\"-85.5\" rx=\"23.5\" ry=\"23.5\"/>\n<ellipse fill=\"none\" stroke=\"black\" cx=\"340.09\" cy=\"-85.5\" rx=\"27.5\" ry=\"27.5\"/>\n<text text-anchor=\"middle\" x=\"340.09\" y=\"-81.8\" font-family=\"Times,serif\" font-size=\"14.00\">q5</text>\n</g>\n<!-- q3&#45;&gt;q5 -->\n<g id=\"edge6\" class=\"edge\">\n<title>q3&#45;&gt;q5</title>\n<path fill=\"none\" stroke=\"black\" d=\"M263.05,-85.5C276.3,-85.5 293.14,-85.5 307.61,-85.5\"/>\n<polygon fill=\"black\" stroke=\"black\" points=\"307.75,-88.48 316.25,-85.5 307.75,-82.53 307.75,-88.48\"/>\n<text text-anchor=\"middle\" x=\"289.59\" y=\"-89.3\" font-family=\"Times,serif\" font-size=\"14.00\">0,1</text>\n</g>\n<!-- q5&#45;&gt;q5 -->\n<g id=\"edge7\" class=\"edge\">\n<title>q5&#45;&gt;q5</title>\n<path fill=\"none\" stroke=\"black\" d=\"M330.94,-107.28C329.81,-117.75 332.86,-127 340.09,-127 345.17,-127 348.18,-122.43 349.14,-116.07\"/>\n<polygon fill=\"black\" stroke=\"black\" points=\"352.12,-115.81 349.23,-107.28 346.17,-115.75 352.12,-115.81\"/>\n<text text-anchor=\"middle\" x=\"340.09\" y=\"-130.8\" font-family=\"Times,serif\" font-size=\"14.00\">0,1</text>\n</g>\n<!-- q4 -->\n<g id=\"node6\" class=\"node\">\n<title>q4</title>\n<ellipse fill=\"none\" stroke=\"black\" cx=\"142.09\" cy=\"-19.5\" rx=\"19.5\" ry=\"19.5\"/>\n<text text-anchor=\"middle\" x=\"142.09\" y=\"-15.8\" font-family=\"Times,serif\" font-size=\"14.00\">q4</text>\n</g>\n<!-- q4&#45;&gt;q3 -->\n<g id=\"edge8\" class=\"edge\">\n<title>q4&#45;&gt;q3</title>\n<path fill=\"none\" stroke=\"black\" d=\"M158.78,-30.4C173.35,-40.52 195.32,-55.78 212.44,-67.68\"/>\n<polygon fill=\"black\" stroke=\"black\" points=\"210.76,-70.13 219.44,-72.54 214.16,-65.25 210.76,-70.13\"/>\n<text text-anchor=\"middle\" x=\"188.59\" y=\"-60.3\" font-family=\"Times,serif\" font-size=\"14.00\">0,1</text>\n</g>\n<!-- q2 -->\n<g id=\"node7\" class=\"node\">\n<title>q2</title>\n<ellipse fill=\"none\" stroke=\"black\" cx=\"60.1\" cy=\"-28.5\" rx=\"19.5\" ry=\"19.5\"/>\n<text text-anchor=\"middle\" x=\"60.1\" y=\"-24.8\" font-family=\"Times,serif\" font-size=\"14.00\">q2</text>\n</g>\n<!-- q2&#45;&gt;q1 -->\n<g id=\"edge9\" class=\"edge\">\n<title>q2&#45;&gt;q1</title>\n<path fill=\"none\" stroke=\"black\" d=\"M76.52,-39.49C88.47,-48.01 105.21,-59.93 118.64,-69.5\"/>\n<polygon fill=\"black\" stroke=\"black\" points=\"117.07,-72.04 125.72,-74.54 120.52,-67.19 117.07,-72.04\"/>\n<text text-anchor=\"middle\" x=\"101.1\" y=\"-63.3\" font-family=\"Times,serif\" font-size=\"14.00\">0</text>\n</g>\n<!-- q2&#45;&gt;q4 -->\n<g id=\"edge10\" class=\"edge\">\n<title>q2&#45;&gt;q4</title>\n<path fill=\"none\" stroke=\"black\" d=\"M77.21,-18.57C83.36,-15.33 90.58,-12.14 97.6,-10.5 103.35,-9.16 109.55,-9.43 115.42,-10.46\"/>\n<polygon fill=\"black\" stroke=\"black\" points=\"114.73,-13.35 123.69,-12.42 116.11,-7.56 114.73,-13.35\"/>\n<text text-anchor=\"middle\" x=\"101.1\" y=\"-14.3\" font-family=\"Times,serif\" font-size=\"14.00\">1</text>\n</g>\n</g>\n</svg>\n",
            "text/plain": [
              "<AGraph <Swig Object of type 'Agraph_t *' at 0x7f52af1cf270>>"
            ]
          },
          "metadata": {},
          "execution_count": 9
        }
      ],
      "source": [
        "fa3.show_diagram()"
      ]
    },
    {
      "cell_type": "code",
      "execution_count": 10,
      "metadata": {
        "id": "XdG3MV2deCvk"
      },
      "outputs": [],
      "source": [
        "fa4 = DFA(\"\"\"\n",
        "states: q0 q1 q2\n",
        "input_symbols: 0 1\n",
        "transitions:\n",
        "    q0:  0:q1 1:q2\n",
        "    q1:  0:q1  1:q2\n",
        "    q2:  0:q1  1:q2\n",
        "initial_state: q0\n",
        "final_states: q1\n",
        "\"\"\")"
      ]
    },
    {
      "cell_type": "code",
      "execution_count": 11,
      "metadata": {
        "colab": {
          "base_uri": "https://localhost:8080/",
          "height": 176
        },
        "id": "RkClfe85eCvk",
        "outputId": "5de504d9-153e-452e-c726-197fe9a0283c"
      },
      "outputs": [
        {
          "output_type": "execute_result",
          "data": {
            "image/svg+xml": "<?xml version=\"1.0\" encoding=\"UTF-8\" standalone=\"no\"?>\n<!DOCTYPE svg PUBLIC \"-//W3C//DTD SVG 1.1//EN\"\n \"http://www.w3.org/Graphics/SVG/1.1/DTD/svg11.dtd\">\n<!-- Generated by graphviz version 2.43.0 (0)\n -->\n<!-- Pages: 1 -->\n<svg width=\"264pt\" height=\"116pt\"\n viewBox=\"0.00 0.00 263.59 116.00\" xmlns=\"http://www.w3.org/2000/svg\" xmlns:xlink=\"http://www.w3.org/1999/xlink\">\n<g id=\"graph0\" class=\"graph\" transform=\"scale(1 1) rotate(0) translate(4 112)\">\n<polygon fill=\"white\" stroke=\"transparent\" points=\"-4,4 -4,-112 259.59,-112 259.59,4 -4,4\"/>\n<!-- 052467e8&#45;bbfb&#45;4306&#45;ab88&#45;041dbd5546f8 -->\n<g id=\"node1\" class=\"node\">\n<title>052467e8&#45;bbfb&#45;4306&#45;ab88&#45;041dbd5546f8</title>\n<g id=\"a_node1\"><a xlink:title=\".\">\n<ellipse fill=\"black\" stroke=\"black\" cx=\"1.8\" cy=\"-19.5\" rx=\"1.8\" ry=\"1.8\"/>\n</a>\n</g>\n</g>\n<!-- q0 -->\n<g id=\"node2\" class=\"node\">\n<title>q0</title>\n<ellipse fill=\"none\" stroke=\"black\" cx=\"60.1\" cy=\"-19.5\" rx=\"19.5\" ry=\"19.5\"/>\n<text text-anchor=\"middle\" x=\"60.1\" y=\"-15.8\" font-family=\"Times,serif\" font-size=\"14.00\">q0</text>\n</g>\n<!-- 052467e8&#45;bbfb&#45;4306&#45;ab88&#45;041dbd5546f8&#45;&gt;q0 -->\n<g id=\"edge1\" class=\"edge\">\n<title>052467e8&#45;bbfb&#45;4306&#45;ab88&#45;041dbd5546f8&#45;&gt;q0</title>\n<g id=\"a_edge1\"><a xlink:title=\"&#45;&gt;q0\">\n<path fill=\"none\" stroke=\"black\" d=\"M3.78,-19.5C7.28,-19.5 19.64,-19.5 31.78,-19.5\"/>\n<polygon fill=\"black\" stroke=\"black\" points=\"31.96,-22.48 40.46,-19.5 31.96,-16.53 31.96,-22.48\"/>\n</a>\n</g>\n</g>\n<!-- q2 -->\n<g id=\"node3\" class=\"node\">\n<title>q2</title>\n<ellipse fill=\"none\" stroke=\"black\" cx=\"142.09\" cy=\"-55.5\" rx=\"19.5\" ry=\"19.5\"/>\n<text text-anchor=\"middle\" x=\"142.09\" y=\"-51.8\" font-family=\"Times,serif\" font-size=\"14.00\">q2</text>\n</g>\n<!-- q0&#45;&gt;q2 -->\n<g id=\"edge2\" class=\"edge\">\n<title>q0&#45;&gt;q2</title>\n<path fill=\"none\" stroke=\"black\" d=\"M78.06,-27.13C89.02,-32.06 103.47,-38.57 115.77,-44.11\"/>\n<polygon fill=\"black\" stroke=\"black\" points=\"114.91,-46.98 123.88,-47.75 117.35,-41.55 114.91,-46.98\"/>\n<text text-anchor=\"middle\" x=\"101.1\" y=\"-42.3\" font-family=\"Times,serif\" font-size=\"14.00\">1</text>\n</g>\n<!-- q1 -->\n<g id=\"node4\" class=\"node\">\n<title>q1</title>\n<ellipse fill=\"none\" stroke=\"black\" cx=\"228.09\" cy=\"-36.5\" rx=\"23.5\" ry=\"23.5\"/>\n<ellipse fill=\"none\" stroke=\"black\" cx=\"228.09\" cy=\"-36.5\" rx=\"27.5\" ry=\"27.5\"/>\n<text text-anchor=\"middle\" x=\"228.09\" y=\"-32.8\" font-family=\"Times,serif\" font-size=\"14.00\">q1</text>\n</g>\n<!-- q0&#45;&gt;q1 -->\n<g id=\"edge3\" class=\"edge\">\n<title>q0&#45;&gt;q1</title>\n<path fill=\"none\" stroke=\"black\" d=\"M79.39,-15.56C99.64,-11.82 133.18,-7.46 161.59,-12.5 173.95,-14.69 187.03,-19.04 198.22,-23.44\"/>\n<polygon fill=\"black\" stroke=\"black\" points=\"197.39,-26.31 206.38,-26.78 199.64,-20.81 197.39,-26.31\"/>\n<text text-anchor=\"middle\" x=\"142.09\" y=\"-16.3\" font-family=\"Times,serif\" font-size=\"14.00\">0</text>\n</g>\n<!-- q2&#45;&gt;q2 -->\n<g id=\"edge4\" class=\"edge\">\n<title>q2&#45;&gt;q2</title>\n<path fill=\"none\" stroke=\"black\" d=\"M134.9,-74.02C133.68,-83.95 136.08,-93 142.09,-93 146.23,-93 148.66,-88.72 149.37,-82.82\"/>\n<polygon fill=\"black\" stroke=\"black\" points=\"152.34,-82.49 149.29,-74.02 146.39,-82.55 152.34,-82.49\"/>\n<text text-anchor=\"middle\" x=\"142.09\" y=\"-96.8\" font-family=\"Times,serif\" font-size=\"14.00\">1</text>\n</g>\n<!-- q2&#45;&gt;q1 -->\n<g id=\"edge5\" class=\"edge\">\n<title>q2&#45;&gt;q1</title>\n<path fill=\"none\" stroke=\"black\" d=\"M161.9,-55.46C169.63,-55.12 178.62,-54.3 186.59,-52.5 190.43,-51.63 194.38,-50.46 198.24,-49.13\"/>\n<polygon fill=\"black\" stroke=\"black\" points=\"199.54,-51.82 206.46,-46.06 197.46,-46.25 199.54,-51.82\"/>\n<text text-anchor=\"middle\" x=\"183.09\" y=\"-57.3\" font-family=\"Times,serif\" font-size=\"14.00\">0</text>\n</g>\n<!-- q1&#45;&gt;q2 -->\n<g id=\"edge6\" class=\"edge\">\n<title>q1&#45;&gt;q2</title>\n<path fill=\"none\" stroke=\"black\" d=\"M204.54,-32.05C196.54,-31.26 187.55,-31.29 179.59,-33.5 174.87,-34.81 170.15,-36.92 165.74,-39.32\"/>\n<polygon fill=\"black\" stroke=\"black\" points=\"163.96,-36.92 158.22,-43.86 167.04,-42.01 163.96,-36.92\"/>\n<text text-anchor=\"middle\" x=\"183.09\" y=\"-37.3\" font-family=\"Times,serif\" font-size=\"14.00\">1</text>\n</g>\n<!-- q1&#45;&gt;q1 -->\n<g id=\"edge7\" class=\"edge\">\n<title>q1&#45;&gt;q1</title>\n<path fill=\"none\" stroke=\"black\" d=\"M220,-58.7C219.12,-69 221.82,-78 228.09,-78 232.5,-78 235.14,-73.55 236.02,-67.33\"/>\n<polygon fill=\"black\" stroke=\"black\" points=\"239,-67.25 236.18,-58.7 233.05,-67.14 239,-67.25\"/>\n<text text-anchor=\"middle\" x=\"228.09\" y=\"-81.8\" font-family=\"Times,serif\" font-size=\"14.00\">0</text>\n</g>\n</g>\n</svg>\n",
            "text/plain": [
              "<AGraph <Swig Object of type 'Agraph_t *' at 0x7f528f918540>>"
            ]
          },
          "metadata": {},
          "execution_count": 11
        }
      ],
      "source": [
        "fa4.show_diagram()"
      ]
    },
    {
      "cell_type": "code",
      "execution_count": 12,
      "metadata": {
        "id": "nouOi_XXeCvl"
      },
      "outputs": [],
      "source": [
        "fa5 = DFA(\"\"\"\n",
        "states: q0 q1\n",
        "input_symbols: 0 1\n",
        "transitions:\n",
        "    q0:  0:q1 1:q0\n",
        "    q1:  0:q1  1:q0\n",
        "initial_state: q0\n",
        "final_states: q1\n",
        "\"\"\")"
      ]
    },
    {
      "cell_type": "code",
      "execution_count": 13,
      "metadata": {
        "colab": {
          "base_uri": "https://localhost:8080/",
          "height": 144
        },
        "id": "MXTjVoRY3K38",
        "outputId": "0d04b54e-7015-45f3-9d9b-7e8c3ba09060"
      },
      "outputs": [
        {
          "output_type": "execute_result",
          "data": {
            "image/svg+xml": "<?xml version=\"1.0\" encoding=\"UTF-8\" standalone=\"no\"?>\n<!DOCTYPE svg PUBLIC \"-//W3C//DTD SVG 1.1//EN\"\n \"http://www.w3.org/Graphics/SVG/1.1/DTD/svg11.dtd\">\n<!-- Generated by graphviz version 2.43.0 (0)\n -->\n<!-- Pages: 1 -->\n<svg width=\"182pt\" height=\"92pt\"\n viewBox=\"0.00 0.00 181.59 92.00\" xmlns=\"http://www.w3.org/2000/svg\" xmlns:xlink=\"http://www.w3.org/1999/xlink\">\n<g id=\"graph0\" class=\"graph\" transform=\"scale(1 1) rotate(0) translate(4 88)\">\n<polygon fill=\"white\" stroke=\"transparent\" points=\"-4,4 -4,-88 177.59,-88 177.59,4 -4,4\"/>\n<!-- 579a3816&#45;9272&#45;487c&#45;a45e&#45;e347dbd0760b -->\n<g id=\"node1\" class=\"node\">\n<title>579a3816&#45;9272&#45;487c&#45;a45e&#45;e347dbd0760b</title>\n<g id=\"a_node1\"><a xlink:title=\".\">\n<ellipse fill=\"black\" stroke=\"black\" cx=\"1.8\" cy=\"-27.5\" rx=\"1.8\" ry=\"1.8\"/>\n</a>\n</g>\n</g>\n<!-- q0 -->\n<g id=\"node2\" class=\"node\">\n<title>q0</title>\n<ellipse fill=\"none\" stroke=\"black\" cx=\"60.1\" cy=\"-27.5\" rx=\"19.5\" ry=\"19.5\"/>\n<text text-anchor=\"middle\" x=\"60.1\" y=\"-23.8\" font-family=\"Times,serif\" font-size=\"14.00\">q0</text>\n</g>\n<!-- 579a3816&#45;9272&#45;487c&#45;a45e&#45;e347dbd0760b&#45;&gt;q0 -->\n<g id=\"edge1\" class=\"edge\">\n<title>579a3816&#45;9272&#45;487c&#45;a45e&#45;e347dbd0760b&#45;&gt;q0</title>\n<g id=\"a_edge1\"><a xlink:title=\"&#45;&gt;q0\">\n<path fill=\"none\" stroke=\"black\" d=\"M3.78,-27.5C7.28,-27.5 19.64,-27.5 31.78,-27.5\"/>\n<polygon fill=\"black\" stroke=\"black\" points=\"31.96,-30.48 40.46,-27.5 31.96,-24.53 31.96,-30.48\"/>\n</a>\n</g>\n</g>\n<!-- q0&#45;&gt;q0 -->\n<g id=\"edge2\" class=\"edge\">\n<title>q0&#45;&gt;q0</title>\n<path fill=\"none\" stroke=\"black\" d=\"M53.63,-46.02C52.53,-55.95 54.68,-65 60.1,-65 63.82,-65 66,-60.72 66.65,-54.82\"/>\n<polygon fill=\"black\" stroke=\"black\" points=\"69.62,-54.5 66.57,-46.02 63.67,-54.55 69.62,-54.5\"/>\n<text text-anchor=\"middle\" x=\"60.1\" y=\"-68.8\" font-family=\"Times,serif\" font-size=\"14.00\">1</text>\n</g>\n<!-- q1 -->\n<g id=\"node3\" class=\"node\">\n<title>q1</title>\n<ellipse fill=\"none\" stroke=\"black\" cx=\"146.09\" cy=\"-27.5\" rx=\"23.5\" ry=\"23.5\"/>\n<ellipse fill=\"none\" stroke=\"black\" cx=\"146.09\" cy=\"-27.5\" rx=\"27.5\" ry=\"27.5\"/>\n<text text-anchor=\"middle\" x=\"146.09\" y=\"-23.8\" font-family=\"Times,serif\" font-size=\"14.00\">q1</text>\n</g>\n<!-- q0&#45;&gt;q1 -->\n<g id=\"edge3\" class=\"edge\">\n<title>q0&#45;&gt;q1</title>\n<path fill=\"none\" stroke=\"black\" d=\"M79.74,-27.5C89.66,-27.5 102.12,-27.5 113.49,-27.5\"/>\n<polygon fill=\"black\" stroke=\"black\" points=\"113.82,-30.48 122.32,-27.5 113.82,-24.53 113.82,-30.48\"/>\n<text text-anchor=\"middle\" x=\"101.1\" y=\"-31.3\" font-family=\"Times,serif\" font-size=\"14.00\">0</text>\n</g>\n<!-- q1&#45;&gt;q0 -->\n<g id=\"edge4\" class=\"edge\">\n<title>q1&#45;&gt;q0</title>\n<path fill=\"none\" stroke=\"black\" d=\"M126.54,-14.23C117.93,-9.6 107.43,-6.09 97.6,-8.5 93.2,-9.58 88.74,-11.28 84.52,-13.24\"/>\n<polygon fill=\"black\" stroke=\"black\" points=\"82.98,-10.69 76.79,-17.23 85.71,-15.98 82.98,-10.69\"/>\n<text text-anchor=\"middle\" x=\"101.1\" y=\"-12.3\" font-family=\"Times,serif\" font-size=\"14.00\">1</text>\n</g>\n<!-- q1&#45;&gt;q1 -->\n<g id=\"edge5\" class=\"edge\">\n<title>q1&#45;&gt;q1</title>\n<path fill=\"none\" stroke=\"black\" d=\"M138.01,-49.7C137.13,-60 139.82,-69 146.09,-69 150.51,-69 153.15,-64.55 154.02,-58.33\"/>\n<polygon fill=\"black\" stroke=\"black\" points=\"157,-58.25 154.18,-49.7 151.05,-58.14 157,-58.25\"/>\n<text text-anchor=\"middle\" x=\"146.09\" y=\"-72.8\" font-family=\"Times,serif\" font-size=\"14.00\">0</text>\n</g>\n</g>\n</svg>\n",
            "text/plain": [
              "<AGraph <Swig Object of type 'Agraph_t *' at 0x7f528f919170>>"
            ]
          },
          "metadata": {},
          "execution_count": 13
        }
      ],
      "source": [
        "fa5.show_diagram()"
      ]
    },
    {
      "cell_type": "code",
      "execution_count": 14,
      "metadata": {
        "id": "njehuXZmeCvl"
      },
      "outputs": [],
      "source": [
        "fa6 = DFA(\"\"\"\n",
        "states: q0 q1 q2 q3 q4\n",
        "input_symbols: 0 1\n",
        "transitions:\n",
        "    q0:  0:q0 1:q1\n",
        "    q1:  0:q1  1:q2\n",
        "    q2:  0:q2  1:q3\n",
        "    q3:  0:q3  1:q4\n",
        "    q4:  0:q4  1:q0\n",
        "initial_state: q0\n",
        "final_states: q0\n",
        "\"\"\")"
      ]
    },
    {
      "cell_type": "code",
      "execution_count": 15,
      "metadata": {
        "colab": {
          "base_uri": "https://localhost:8080/",
          "height": 187
        },
        "id": "wAhwUKP5eCvm",
        "outputId": "feb69954-5fbe-4d00-ea12-28acd1896583"
      },
      "outputs": [
        {
          "output_type": "execute_result",
          "data": {
            "image/svg+xml": "<?xml version=\"1.0\" encoding=\"UTF-8\" standalone=\"no\"?>\n<!DOCTYPE svg PUBLIC \"-//W3C//DTD SVG 1.1//EN\"\n \"http://www.w3.org/Graphics/SVG/1.1/DTD/svg11.dtd\">\n<!-- Generated by graphviz version 2.43.0 (0)\n -->\n<!-- Pages: 1 -->\n<svg width=\"424pt\" height=\"124pt\"\n viewBox=\"0.00 0.00 423.58 124.00\" xmlns=\"http://www.w3.org/2000/svg\" xmlns:xlink=\"http://www.w3.org/1999/xlink\">\n<g id=\"graph0\" class=\"graph\" transform=\"scale(1 1) rotate(0) translate(4 120)\">\n<polygon fill=\"white\" stroke=\"transparent\" points=\"-4,4 -4,-120 419.58,-120 419.58,4 -4,4\"/>\n<!-- f74918e7&#45;6ef4&#45;4217&#45;af2d&#45;2fcd352b6d91 -->\n<g id=\"node1\" class=\"node\">\n<title>f74918e7&#45;6ef4&#45;4217&#45;af2d&#45;2fcd352b6d91</title>\n<g id=\"a_node1\"><a xlink:title=\".\">\n<ellipse fill=\"black\" stroke=\"black\" cx=\"1.8\" cy=\"-27.5\" rx=\"1.8\" ry=\"1.8\"/>\n</a>\n</g>\n</g>\n<!-- q0 -->\n<g id=\"node2\" class=\"node\">\n<title>q0</title>\n<ellipse fill=\"none\" stroke=\"black\" cx=\"64.1\" cy=\"-27.5\" rx=\"23.5\" ry=\"23.5\"/>\n<ellipse fill=\"none\" stroke=\"black\" cx=\"64.1\" cy=\"-27.5\" rx=\"27.5\" ry=\"27.5\"/>\n<text text-anchor=\"middle\" x=\"64.1\" y=\"-23.8\" font-family=\"Times,serif\" font-size=\"14.00\">q0</text>\n</g>\n<!-- f74918e7&#45;6ef4&#45;4217&#45;af2d&#45;2fcd352b6d91&#45;&gt;q0 -->\n<g id=\"edge1\" class=\"edge\">\n<title>f74918e7&#45;6ef4&#45;4217&#45;af2d&#45;2fcd352b6d91&#45;&gt;q0</title>\n<g id=\"a_edge1\"><a xlink:title=\"&#45;&gt;q0\">\n<path fill=\"none\" stroke=\"black\" d=\"M3.85,-27.5C7.37,-27.5 19.27,-27.5 31.48,-27.5\"/>\n<polygon fill=\"black\" stroke=\"black\" points=\"31.82,-30.48 40.32,-27.5 31.82,-24.53 31.82,-30.48\"/>\n</a>\n</g>\n</g>\n<!-- q0&#45;&gt;q0 -->\n<g id=\"edge2\" class=\"edge\">\n<title>q0&#45;&gt;q0</title>\n<path fill=\"none\" stroke=\"black\" d=\"M56.72,-50.12C56.01,-60.25 58.47,-69 64.1,-69 67.97,-69 70.34,-64.86 71.21,-58.99\"/>\n<polygon fill=\"black\" stroke=\"black\" points=\"74.2,-58.71 71.48,-50.12 68.25,-58.53 74.2,-58.71\"/>\n<text text-anchor=\"middle\" x=\"64.1\" y=\"-72.8\" font-family=\"Times,serif\" font-size=\"14.00\">0</text>\n</g>\n<!-- q1 -->\n<g id=\"node3\" class=\"node\">\n<title>q1</title>\n<ellipse fill=\"none\" stroke=\"black\" cx=\"150.09\" cy=\"-59.5\" rx=\"19.5\" ry=\"19.5\"/>\n<text text-anchor=\"middle\" x=\"150.09\" y=\"-55.8\" font-family=\"Times,serif\" font-size=\"14.00\">q1</text>\n</g>\n<!-- q0&#45;&gt;q1 -->\n<g id=\"edge3\" class=\"edge\">\n<title>q0&#45;&gt;q1</title>\n<path fill=\"none\" stroke=\"black\" d=\"M86.29,-35.58C97.56,-39.87 111.49,-45.17 123.37,-49.7\"/>\n<polygon fill=\"black\" stroke=\"black\" points=\"122.59,-52.59 131.59,-52.83 124.71,-47.03 122.59,-52.59\"/>\n<text text-anchor=\"middle\" x=\"109.1\" y=\"-48.3\" font-family=\"Times,serif\" font-size=\"14.00\">1</text>\n</g>\n<!-- q1&#45;&gt;q1 -->\n<g id=\"edge4\" class=\"edge\">\n<title>q1&#45;&gt;q1</title>\n<path fill=\"none\" stroke=\"black\" d=\"M142.9,-78.02C141.68,-87.95 144.08,-97 150.09,-97 154.23,-97 156.66,-92.72 157.37,-86.82\"/>\n<polygon fill=\"black\" stroke=\"black\" points=\"160.34,-86.49 157.29,-78.02 154.39,-86.55 160.34,-86.49\"/>\n<text text-anchor=\"middle\" x=\"150.09\" y=\"-100.8\" font-family=\"Times,serif\" font-size=\"14.00\">0</text>\n</g>\n<!-- q2 -->\n<g id=\"node4\" class=\"node\">\n<title>q2</title>\n<ellipse fill=\"none\" stroke=\"black\" cx=\"232.09\" cy=\"-63.5\" rx=\"19.5\" ry=\"19.5\"/>\n<text text-anchor=\"middle\" x=\"232.09\" y=\"-59.8\" font-family=\"Times,serif\" font-size=\"14.00\">q2</text>\n</g>\n<!-- q1&#45;&gt;q2 -->\n<g id=\"edge5\" class=\"edge\">\n<title>q1&#45;&gt;q2</title>\n<path fill=\"none\" stroke=\"black\" d=\"M169.65,-60.43C179.77,-60.93 192.5,-61.57 203.74,-62.13\"/>\n<polygon fill=\"black\" stroke=\"black\" points=\"203.72,-65.11 212.36,-62.56 204.02,-59.17 203.72,-65.11\"/>\n<text text-anchor=\"middle\" x=\"191.09\" y=\"-65.3\" font-family=\"Times,serif\" font-size=\"14.00\">1</text>\n</g>\n<!-- q2&#45;&gt;q2 -->\n<g id=\"edge6\" class=\"edge\">\n<title>q2&#45;&gt;q2</title>\n<path fill=\"none\" stroke=\"black\" d=\"M224.9,-82.02C223.68,-91.95 226.08,-101 232.09,-101 236.23,-101 238.65,-96.72 239.37,-90.82\"/>\n<polygon fill=\"black\" stroke=\"black\" points=\"242.34,-90.49 239.28,-82.02 236.39,-90.55 242.34,-90.49\"/>\n<text text-anchor=\"middle\" x=\"232.09\" y=\"-104.8\" font-family=\"Times,serif\" font-size=\"14.00\">0</text>\n</g>\n<!-- q3 -->\n<g id=\"node5\" class=\"node\">\n<title>q3</title>\n<ellipse fill=\"none\" stroke=\"black\" cx=\"314.09\" cy=\"-60.5\" rx=\"19.5\" ry=\"19.5\"/>\n<text text-anchor=\"middle\" x=\"314.09\" y=\"-56.8\" font-family=\"Times,serif\" font-size=\"14.00\">q3</text>\n</g>\n<!-- q2&#45;&gt;q3 -->\n<g id=\"edge7\" class=\"edge\">\n<title>q2&#45;&gt;q3</title>\n<path fill=\"none\" stroke=\"black\" d=\"M251.65,-62.8C261.77,-62.43 274.5,-61.95 285.74,-61.53\"/>\n<polygon fill=\"black\" stroke=\"black\" points=\"285.98,-64.49 294.36,-61.2 285.75,-58.55 285.98,-64.49\"/>\n<text text-anchor=\"middle\" x=\"273.09\" y=\"-65.3\" font-family=\"Times,serif\" font-size=\"14.00\">1</text>\n</g>\n<!-- q3&#45;&gt;q3 -->\n<g id=\"edge11\" class=\"edge\">\n<title>q3&#45;&gt;q3</title>\n<path fill=\"none\" stroke=\"black\" d=\"M306.9,-79.02C305.68,-88.95 308.07,-98 314.09,-98 318.22,-98 320.65,-93.72 321.36,-87.82\"/>\n<polygon fill=\"black\" stroke=\"black\" points=\"324.33,-87.49 321.28,-79.02 318.38,-87.55 324.33,-87.49\"/>\n<text text-anchor=\"middle\" x=\"314.09\" y=\"-101.8\" font-family=\"Times,serif\" font-size=\"14.00\">0</text>\n</g>\n<!-- q4 -->\n<g id=\"node6\" class=\"node\">\n<title>q4</title>\n<ellipse fill=\"none\" stroke=\"black\" cx=\"396.08\" cy=\"-27.5\" rx=\"19.5\" ry=\"19.5\"/>\n<text text-anchor=\"middle\" x=\"396.08\" y=\"-23.8\" font-family=\"Times,serif\" font-size=\"14.00\">q4</text>\n</g>\n<!-- q3&#45;&gt;q4 -->\n<g id=\"edge10\" class=\"edge\">\n<title>q3&#45;&gt;q4</title>\n<path fill=\"none\" stroke=\"black\" d=\"M332.45,-53.34C343.35,-48.84 357.6,-42.97 369.75,-37.95\"/>\n<polygon fill=\"black\" stroke=\"black\" points=\"371.04,-40.64 377.76,-34.65 368.77,-35.14 371.04,-40.64\"/>\n<text text-anchor=\"middle\" x=\"355.09\" y=\"-48.3\" font-family=\"Times,serif\" font-size=\"14.00\">1</text>\n</g>\n<!-- q4&#45;&gt;q0 -->\n<g id=\"edge8\" class=\"edge\">\n<title>q4&#45;&gt;q0</title>\n<path fill=\"none\" stroke=\"black\" d=\"M377.18,-21.81C361.1,-17.22 336.76,-11.5 315.09,-11.5 149.09,-11.5 149.09,-11.5 149.09,-11.5 131.06,-11.5 111.22,-15.1 95.36,-18.89\"/>\n<polygon fill=\"black\" stroke=\"black\" points=\"94.51,-16.04 86.99,-20.99 95.96,-21.81 94.51,-16.04\"/>\n<text text-anchor=\"middle\" x=\"232.09\" y=\"-15.3\" font-family=\"Times,serif\" font-size=\"14.00\">1</text>\n</g>\n<!-- q4&#45;&gt;q4 -->\n<g id=\"edge9\" class=\"edge\">\n<title>q4&#45;&gt;q4</title>\n<path fill=\"none\" stroke=\"black\" d=\"M388.89,-46.02C387.67,-55.95 390.07,-65 396.08,-65 400.22,-65 402.65,-60.72 403.36,-54.82\"/>\n<polygon fill=\"black\" stroke=\"black\" points=\"406.33,-54.49 403.27,-46.02 400.38,-54.55 406.33,-54.49\"/>\n<text text-anchor=\"middle\" x=\"396.08\" y=\"-68.8\" font-family=\"Times,serif\" font-size=\"14.00\">0</text>\n</g>\n</g>\n</svg>\n",
            "text/plain": [
              "<AGraph <Swig Object of type 'Agraph_t *' at 0x7f52a412f150>>"
            ]
          },
          "metadata": {},
          "execution_count": 15
        }
      ],
      "source": [
        "fa6.show_diagram()"
      ]
    },
    {
      "cell_type": "markdown",
      "metadata": {
        "id": "eIyfMdk16QD6"
      },
      "source": [
        "## Computation Sequences"
      ]
    },
    {
      "cell_type": "code",
      "execution_count": 16,
      "metadata": {
        "colab": {
          "base_uri": "https://localhost:8080/",
          "height": 265
        },
        "id": "d2tycn5lE9Z7",
        "outputId": "ee973de8-7c09-4e1f-84e2-720ab1685f60",
        "scrolled": true
      },
      "outputs": [
        {
          "output_type": "stream",
          "name": "stdout",
          "text": [
            "ACCEPTED: 01000\n"
          ]
        },
        {
          "output_type": "display_data",
          "data": {
            "text/plain": [
              "<IPython.core.display.HTML object>"
            ],
            "text/html": [
              "<br/>"
            ]
          },
          "metadata": {}
        },
        {
          "output_type": "display_data",
          "data": {
            "text/plain": [
              "<IPython.core.display.Latex object>"
            ],
            "text/latex": "$\\mathbf{q0}\\xrightarrow{\\;\\textbf{0}\\;}\\mathbf{q1}\\xrightarrow{\\;\\textbf{1}\\;}\\mathbf{q0}\\xrightarrow{\\;\\textbf{0}\\;}\\mathbf{q1}\\xrightarrow{\\;\\textbf{0}\\;}\\mathbf{q2}\\xrightarrow{\\;\\textbf{0}\\;}\\mathbf{q3}$"
          },
          "metadata": {}
        },
        {
          "output_type": "display_data",
          "data": {
            "text/plain": [
              "<IPython.core.display.HTML object>"
            ],
            "text/html": [
              "<br/>"
            ]
          },
          "metadata": {}
        },
        {
          "output_type": "execute_result",
          "data": {
            "image/svg+xml": "<?xml version=\"1.0\" encoding=\"UTF-8\" standalone=\"no\"?>\n<!DOCTYPE svg PUBLIC \"-//W3C//DTD SVG 1.1//EN\"\n \"http://www.w3.org/Graphics/SVG/1.1/DTD/svg11.dtd\">\n<!-- Generated by graphviz version 2.43.0 (0)\n -->\n<!-- Pages: 1 -->\n<svg width=\"354pt\" height=\"126pt\"\n viewBox=\"0.00 0.00 353.59 125.92\" xmlns=\"http://www.w3.org/2000/svg\" xmlns:xlink=\"http://www.w3.org/1999/xlink\">\n<g id=\"graph0\" class=\"graph\" transform=\"scale(1 1) rotate(0) translate(4 121.92)\">\n<polygon fill=\"white\" stroke=\"transparent\" points=\"-4,4 -4,-121.92 349.59,-121.92 349.59,4 -4,4\"/>\n<!-- 28fa5628&#45;c8c6&#45;4410&#45;9968&#45;4205fc6d4fe8 -->\n<g id=\"node1\" class=\"node\">\n<title>28fa5628&#45;c8c6&#45;4410&#45;9968&#45;4205fc6d4fe8</title>\n<g id=\"a_node1\"><a xlink:title=\".\">\n<ellipse fill=\"black\" stroke=\"black\" cx=\"1.8\" cy=\"-21.43\" rx=\"1.8\" ry=\"1.8\"/>\n</a>\n</g>\n</g>\n<!-- q0 -->\n<g id=\"node2\" class=\"node\">\n<title>q0</title>\n<ellipse fill=\"none\" stroke=\"black\" cx=\"60.1\" cy=\"-21.43\" rx=\"19.5\" ry=\"19.5\"/>\n<text text-anchor=\"middle\" x=\"60.1\" y=\"-17.73\" font-family=\"Times,serif\" font-size=\"14.00\">q0</text>\n</g>\n<!-- 28fa5628&#45;c8c6&#45;4410&#45;9968&#45;4205fc6d4fe8&#45;&gt;q0 -->\n<g id=\"edge1\" class=\"edge\">\n<title>28fa5628&#45;c8c6&#45;4410&#45;9968&#45;4205fc6d4fe8&#45;&gt;q0</title>\n<g id=\"a_edge1\"><a xlink:title=\"&#45;&gt;q0\">\n<path fill=\"none\" stroke=\"black\" d=\"M3.78,-21.43C7.28,-21.43 19.64,-21.43 31.78,-21.43\"/>\n<polygon fill=\"black\" stroke=\"black\" points=\"31.96,-24.4 40.46,-21.43 31.96,-18.45 31.96,-24.4\"/>\n</a>\n</g>\n</g>\n<!-- q0&#45;&gt;q0 -->\n<g id=\"edge2\" class=\"edge\">\n<title>q0&#45;&gt;q0</title>\n<path fill=\"none\" stroke=\"black\" d=\"M53.63,-39.95C52.53,-49.88 54.68,-58.93 60.1,-58.93 63.82,-58.93 66,-54.65 66.65,-48.75\"/>\n<polygon fill=\"black\" stroke=\"black\" points=\"69.62,-48.42 66.57,-39.95 63.67,-48.48 69.62,-48.42\"/>\n<text text-anchor=\"middle\" x=\"60.1\" y=\"-62.73\" font-family=\"Times,serif\" font-size=\"14.00\">1</text>\n</g>\n<!-- q1 -->\n<g id=\"node3\" class=\"node\">\n<title>q1</title>\n<ellipse fill=\"none\" stroke=\"black\" cx=\"142.09\" cy=\"-21.43\" rx=\"19.5\" ry=\"19.5\"/>\n<text text-anchor=\"middle\" x=\"142.09\" y=\"-17.73\" font-family=\"Times,serif\" font-size=\"14.00\">q1</text>\n</g>\n<!-- q0&#45;&gt;q1 -->\n<g id=\"edge3\" class=\"edge\">\n<title>q0&#45;&gt;q1</title>\n<path fill=\"none\" stroke=\"black\" d=\"M79.65,-21.43C89.78,-21.43 102.5,-21.43 113.75,-21.43\"/>\n<polygon fill=\"black\" stroke=\"black\" points=\"113.86,-24.4 122.36,-21.43 113.86,-18.45 113.86,-24.4\"/>\n<text text-anchor=\"middle\" x=\"101.1\" y=\"-25.23\" font-family=\"Times,serif\" font-size=\"14.00\">0</text>\n</g>\n<!-- q1&#45;&gt;q0 -->\n<g id=\"edge4\" class=\"edge\">\n<title>q1&#45;&gt;q0</title>\n<path fill=\"none\" stroke=\"black\" d=\"M126.24,-9.55C118.04,-4.38 107.52,0 97.6,-2.43 93.2,-3.5 88.74,-5.21 84.52,-7.17\"/>\n<polygon fill=\"black\" stroke=\"black\" points=\"82.98,-4.62 76.79,-11.16 85.71,-9.91 82.98,-4.62\"/>\n<text text-anchor=\"middle\" x=\"101.1\" y=\"-6.23\" font-family=\"Times,serif\" font-size=\"14.00\">1</text>\n</g>\n<!-- q2 -->\n<g id=\"node4\" class=\"node\">\n<title>q2</title>\n<ellipse fill=\"none\" stroke=\"black\" cx=\"228.09\" cy=\"-61.43\" rx=\"23.5\" ry=\"23.5\"/>\n<ellipse fill=\"none\" stroke=\"black\" cx=\"228.09\" cy=\"-61.43\" rx=\"27.5\" ry=\"27.5\"/>\n<text text-anchor=\"middle\" x=\"228.09\" y=\"-57.73\" font-family=\"Times,serif\" font-size=\"14.00\">q2</text>\n</g>\n<!-- q1&#45;&gt;q2 -->\n<g id=\"edge5\" class=\"edge\">\n<title>q1&#45;&gt;q2</title>\n<path fill=\"none\" stroke=\"black\" d=\"M160.09,-29.52C171.21,-34.82 186,-41.86 198.85,-47.98\"/>\n<polygon fill=\"black\" stroke=\"black\" points=\"197.61,-50.68 206.56,-51.65 200.16,-45.31 197.61,-50.68\"/>\n<text text-anchor=\"middle\" x=\"183.09\" y=\"-45.23\" font-family=\"Times,serif\" font-size=\"14.00\">0</text>\n</g>\n<!-- q2&#45;&gt;q2 -->\n<g id=\"edge6\" class=\"edge\">\n<title>q2&#45;&gt;q2</title>\n<path fill=\"none\" stroke=\"black\" d=\"M220,-83.63C219.12,-93.93 221.82,-102.92 228.09,-102.92 232.5,-102.92 235.14,-98.48 236.02,-92.26\"/>\n<polygon fill=\"black\" stroke=\"black\" points=\"239,-92.18 236.18,-83.63 233.05,-92.07 239,-92.18\"/>\n<text text-anchor=\"middle\" x=\"228.09\" y=\"-106.72\" font-family=\"Times,serif\" font-size=\"14.00\">1</text>\n</g>\n<!-- q3 -->\n<g id=\"node5\" class=\"node\">\n<title>q3</title>\n<ellipse fill=\"none\" stroke=\"black\" cx=\"318.09\" cy=\"-38.43\" rx=\"23.5\" ry=\"23.5\"/>\n<ellipse fill=\"none\" stroke=\"black\" cx=\"318.09\" cy=\"-38.43\" rx=\"27.5\" ry=\"27.5\"/>\n<text text-anchor=\"middle\" x=\"318.09\" y=\"-34.73\" font-family=\"Times,serif\" font-size=\"14.00\">q3</text>\n</g>\n<!-- q2&#45;&gt;q3 -->\n<g id=\"edge7\" class=\"edge\">\n<title>q2&#45;&gt;q3</title>\n<path fill=\"none\" stroke=\"black\" d=\"M251.54,-59.2C259.53,-58.12 268.54,-56.58 276.59,-54.43 280.39,-53.41 284.32,-52.15 288.17,-50.78\"/>\n<polygon fill=\"black\" stroke=\"black\" points=\"289.49,-53.46 296.38,-47.67 287.38,-47.9 289.49,-53.46\"/>\n<text text-anchor=\"middle\" x=\"273.09\" y=\"-59.23\" font-family=\"Times,serif\" font-size=\"14.00\">0</text>\n</g>\n<!-- q3&#45;&gt;q1 -->\n<g id=\"edge8\" class=\"edge\">\n<title>q3&#45;&gt;q1</title>\n<path fill=\"none\" stroke=\"black\" d=\"M296.37,-28.71C283.74,-23.33 267.09,-17.18 251.59,-14.43 223.98,-9.53 191.89,-12.67 169.81,-16.17\"/>\n<polygon fill=\"black\" stroke=\"black\" points=\"169.17,-13.27 161.29,-17.62 170.17,-19.13 169.17,-13.27\"/>\n<text text-anchor=\"middle\" x=\"228.09\" y=\"-18.23\" font-family=\"Times,serif\" font-size=\"14.00\">0</text>\n</g>\n<!-- q3&#45;&gt;q2 -->\n<g id=\"edge9\" class=\"edge\">\n<title>q3&#45;&gt;q2</title>\n<path fill=\"none\" stroke=\"black\" d=\"M294.98,-33.9C286.86,-33.05 277.68,-33.06 269.59,-35.43 264.33,-36.97 259.1,-39.43 254.24,-42.24\"/>\n<polygon fill=\"black\" stroke=\"black\" points=\"252.54,-39.79 246.95,-46.85 255.72,-44.82 252.54,-39.79\"/>\n<text text-anchor=\"middle\" x=\"273.09\" y=\"-39.23\" font-family=\"Times,serif\" font-size=\"14.00\">1</text>\n</g>\n</g>\n</svg>\n",
            "text/plain": [
              "<AGraph <Swig Object of type 'Agraph_t *' at 0x7f528f9191a0>>"
            ]
          },
          "metadata": {},
          "execution_count": 16
        }
      ],
      "source": [
        "fa1.compseq('01000')\n",
        "display(HTML(\"<br/>\"))\n",
        "fa1.show_diagram()"
      ]
    },
    {
      "cell_type": "code",
      "execution_count": 17,
      "metadata": {
        "colab": {
          "base_uri": "https://localhost:8080/"
        },
        "id": "ly8fHWUteCvn",
        "outputId": "0ec14df3-d12f-49b5-e5ea-0b0b4e723532"
      },
      "outputs": [
        {
          "output_type": "execute_result",
          "data": {
            "text/plain": [
              "frozenset({'q0', 'q1', 'q2', 'q3'})"
            ]
          },
          "metadata": {},
          "execution_count": 17
        }
      ],
      "source": [
        "fa1.states"
      ]
    },
    {
      "cell_type": "code",
      "execution_count": 18,
      "metadata": {
        "colab": {
          "base_uri": "https://localhost:8080/"
        },
        "id": "camsc2QZeCvn",
        "outputId": "b7c17376-6d3d-4eaf-8d11-68f0caecd4a2"
      },
      "outputs": [
        {
          "output_type": "execute_result",
          "data": {
            "text/plain": [
              "frozenset({'q2', 'q3'})"
            ]
          },
          "metadata": {},
          "execution_count": 18
        }
      ],
      "source": [
        "fa2.final_states"
      ]
    },
    {
      "cell_type": "code",
      "execution_count": 19,
      "metadata": {
        "colab": {
          "base_uri": "https://localhost:8080/"
        },
        "id": "YseHmR3CeCvn",
        "outputId": "3365c25e-bb57-46e1-dbf1-c27f54031235"
      },
      "outputs": [
        {
          "output_type": "execute_result",
          "data": {
            "text/plain": [
              "False"
            ]
          },
          "metadata": {},
          "execution_count": 19
        }
      ],
      "source": [
        "fa1.isfinite()"
      ]
    },
    {
      "cell_type": "code",
      "execution_count": 20,
      "metadata": {
        "colab": {
          "base_uri": "https://localhost:8080/"
        },
        "id": "m_Ofb17zeCvo",
        "outputId": "2ec072c0-18bf-4fb7-aa7c-bf865abb561a"
      },
      "outputs": [
        {
          "output_type": "execute_result",
          "data": {
            "text/plain": [
              "['000',\n",
              " '001',\n",
              " '100',\n",
              " '0001',\n",
              " '0010',\n",
              " '0011',\n",
              " '0100',\n",
              " '1000',\n",
              " '1001',\n",
              " '1100',\n",
              " '00000',\n",
              " '00010',\n",
              " '00011',\n",
              " '00101',\n",
              " '00110',\n",
              " '00111',\n",
              " '01000',\n",
              " '01001',\n",
              " '01100',\n",
              " '10001',\n",
              " '10010',\n",
              " '10011',\n",
              " '10100',\n",
              " '11000',\n",
              " '11001',\n",
              " '11100']"
            ]
          },
          "metadata": {},
          "execution_count": 20
        }
      ],
      "source": [
        "fa1.words_of_lengths(3, 5)"
      ]
    },
    {
      "cell_type": "code",
      "execution_count": 21,
      "metadata": {
        "colab": {
          "base_uri": "https://localhost:8080/",
          "height": 75
        },
        "id": "m7j1IqCkeCvo",
        "outputId": "8936aaa3-4cc5-49c3-f4b8-f41bbdf4400b"
      },
      "outputs": [
        {
          "output_type": "stream",
          "name": "stdout",
          "text": [
            "ACCEPTED: 01001\n"
          ]
        },
        {
          "output_type": "display_data",
          "data": {
            "text/plain": [
              "<IPython.core.display.HTML object>"
            ],
            "text/html": [
              "<br/>"
            ]
          },
          "metadata": {}
        },
        {
          "output_type": "display_data",
          "data": {
            "text/plain": [
              "<IPython.core.display.Latex object>"
            ],
            "text/latex": "$\\mathbf{q0}\\xrightarrow{\\;\\textbf{0}\\;}\\mathbf{q1}\\xrightarrow{\\;\\textbf{1}\\;}\\mathbf{q0}\\xrightarrow{\\;\\textbf{0}\\;}\\mathbf{q1}\\xrightarrow{\\;\\textbf{0}\\;}\\mathbf{q2}\\xrightarrow{\\;\\textbf{1}\\;}\\mathbf{q2}$"
          },
          "metadata": {}
        }
      ],
      "source": [
        "fa1.compseq('01001')"
      ]
    },
    {
      "cell_type": "code",
      "execution_count": 22,
      "metadata": {
        "colab": {
          "base_uri": "https://localhost:8080/",
          "height": 75
        },
        "id": "4CSV-0ZseCvo",
        "outputId": "2a68f5be-5e0b-42e2-dd4e-ab42e64a4df9"
      },
      "outputs": [
        {
          "output_type": "stream",
          "name": "stdout",
          "text": [
            "REJECTED: 0100\n"
          ]
        },
        {
          "output_type": "display_data",
          "data": {
            "text/plain": [
              "<IPython.core.display.HTML object>"
            ],
            "text/html": [
              "<br/>"
            ]
          },
          "metadata": {}
        },
        {
          "output_type": "display_data",
          "data": {
            "text/plain": [
              "<IPython.core.display.Latex object>"
            ],
            "text/latex": "$\\mathbf{q0}\\xrightarrow{\\;\\textbf{0}\\;}\\mathbf{q3}\\xrightarrow{\\;\\textbf{1}\\;}\\mathbf{q1}\\xrightarrow{\\;\\textbf{0}\\;}\\mathbf{q1}\\xrightarrow{\\;\\textbf{0}\\;}\\mathbf{q1}$"
          },
          "metadata": {}
        }
      ],
      "source": [
        "fa2.compseq('0100')"
      ]
    },
    {
      "cell_type": "code",
      "execution_count": 23,
      "metadata": {
        "colab": {
          "base_uri": "https://localhost:8080/"
        },
        "id": "hd5HPYKleCvo",
        "outputId": "ca18d3e2-4c61-4a50-d668-14c898dc4fba"
      },
      "outputs": [
        {
          "output_type": "execute_result",
          "data": {
            "text/plain": [
              "False"
            ]
          },
          "metadata": {},
          "execution_count": 23
        }
      ],
      "source": [
        "fa2.accepts_input('000')"
      ]
    },
    {
      "cell_type": "markdown",
      "metadata": {
        "id": "6LbVxbXNeCvp"
      },
      "source": [
        "* This is too long!\n",
        "* Here is a shorter idiom!"
      ]
    },
    {
      "cell_type": "code",
      "execution_count": 24,
      "metadata": {
        "colab": {
          "base_uri": "https://localhost:8080/"
        },
        "id": "Dd_8pdToeCvp",
        "outputId": "14bb572a-eaa8-443f-8256-bc7eeed2bd5e"
      },
      "outputs": [
        {
          "output_type": "execute_result",
          "data": {
            "text/plain": [
              "False"
            ]
          },
          "metadata": {},
          "execution_count": 24
        }
      ],
      "source": [
        "'00000' in fa2"
      ]
    },
    {
      "cell_type": "code",
      "execution_count": 25,
      "metadata": {
        "colab": {
          "base_uri": "https://localhost:8080/"
        },
        "id": "ya_IRjUreCvp",
        "outputId": "69d7ba42-e058-4722-d6ea-97735edf3548"
      },
      "outputs": [
        {
          "output_type": "execute_result",
          "data": {
            "text/plain": [
              "False"
            ]
          },
          "metadata": {},
          "execution_count": 25
        }
      ],
      "source": [
        "6 * '000' in fa2"
      ]
    },
    {
      "cell_type": "code",
      "execution_count": 26,
      "metadata": {
        "colab": {
          "base_uri": "https://localhost:8080/"
        },
        "id": "wsehBvwDeCvp",
        "outputId": "8c23a9bb-27e3-4e74-92db-9c9e26110a79"
      },
      "outputs": [
        {
          "output_type": "execute_result",
          "data": {
            "text/plain": [
              "True"
            ]
          },
          "metadata": {},
          "execution_count": 26
        }
      ],
      "source": [
        "20 * '1' in fa2"
      ]
    },
    {
      "cell_type": "code",
      "execution_count": 27,
      "metadata": {
        "colab": {
          "base_uri": "https://localhost:8080/"
        },
        "id": "sEjvOTYXeCvq",
        "outputId": "97ffbc84-bc62-41be-8b9a-2e0ef98a0b15"
      },
      "outputs": [
        {
          "output_type": "stream",
          "name": "stdout",
          "text": [
            "1\n",
            "2\n",
            "4\n",
            "5\n",
            "7\n",
            "8\n",
            "10\n",
            "11\n",
            "13\n",
            "14\n",
            "16\n",
            "17\n",
            "19\n"
          ]
        }
      ],
      "source": [
        "for n in range(1,20):\n",
        "    if n * '1' in fa2:\n",
        "        print(n)"
      ]
    },
    {
      "cell_type": "markdown",
      "metadata": {
        "id": "nvP5FVIueCvq"
      },
      "source": [
        "**Exercise:** Prove that for every integet $k$, the automat **fa2** rejects the binary string `3k * '0'`"
      ]
    },
    {
      "cell_type": "code",
      "execution_count": 28,
      "metadata": {
        "colab": {
          "base_uri": "https://localhost:8080/"
        },
        "id": "6eRrdFezeCvq",
        "outputId": "584f8b80-6335-4903-bf68-3b18af20aaf9"
      },
      "outputs": [
        {
          "output_type": "execute_result",
          "data": {
            "text/plain": [
              "['0001', '0011', '0101', '0111', '1011', '1101', '1111']"
            ]
          },
          "metadata": {},
          "execution_count": 28
        }
      ],
      "source": [
        "fa2.words_of_lengths(4)"
      ]
    },
    {
      "cell_type": "code",
      "execution_count": 29,
      "metadata": {
        "colab": {
          "base_uri": "https://localhost:8080/"
        },
        "id": "m61FluXReCvq",
        "outputId": "18f38dfe-f32a-4153-9176-08aa4053f294"
      },
      "outputs": [
        {
          "output_type": "execute_result",
          "data": {
            "text/plain": [
              "['0101011', '0111101', '1111101']"
            ]
          },
          "metadata": {},
          "execution_count": 29
        }
      ],
      "source": [
        "fa2.random_words(7, 3)"
      ]
    },
    {
      "cell_type": "code",
      "execution_count": 30,
      "metadata": {
        "colab": {
          "base_uri": "https://localhost:8080/"
        },
        "id": "hiImjrRleCvr",
        "outputId": "82f75282-ca71-40a2-a2c4-3a75839a9cc1"
      },
      "outputs": [
        {
          "output_type": "execute_result",
          "data": {
            "text/plain": [
              "['10101011', '01110110', '11100101', '10111100', '01111010', '11110100']"
            ]
          },
          "metadata": {},
          "execution_count": 30
        }
      ],
      "source": [
        "fa6.random_words(8, 6)"
      ]
    },
    {
      "cell_type": "code",
      "execution_count": 31,
      "metadata": {
        "colab": {
          "base_uri": "https://localhost:8080/"
        },
        "id": "1Nns76VseCvr",
        "outputId": "80bee39b-c301-430e-9a0c-14f2dafae24f"
      },
      "outputs": [
        {
          "output_type": "execute_result",
          "data": {
            "text/plain": [
              "['000111100001',\n",
              " '011100100010',\n",
              " '101111101111',\n",
              " '101110000100',\n",
              " '100111010000',\n",
              " '100000110011',\n",
              " '101100000101',\n",
              " '100110100100']"
            ]
          },
          "metadata": {},
          "execution_count": 31
        }
      ],
      "source": [
        "fa6.random_words(12, 8)"
      ]
    },
    {
      "cell_type": "markdown",
      "metadata": {
        "id": "dtrlLiCZeCvr"
      },
      "source": [
        "* What is common to all these words?\n",
        "* Prove that the number of 1 bits in every word accepted by `fa6` must be a multiple of 5.\n",
        "* Here is a a simple python script for testing these hypothesis"
      ]
    },
    {
      "cell_type": "code",
      "execution_count": 32,
      "metadata": {
        "colab": {
          "base_uri": "https://localhost:8080/"
        },
        "id": "G360HUaseCvr",
        "outputId": "4bf7201c-b55f-452f-a786-1978edd0d9d4"
      },
      "outputs": [
        {
          "output_type": "stream",
          "name": "stdout",
          "text": [
            "011010011101001000101   10\n",
            "011100010010110011100   10\n",
            "011010010100100110011   10\n",
            "000101110001001110110   10\n",
            "101011100110111011111   15\n",
            "000110101100100110110   10\n",
            "001010011001111010100   10\n",
            "110001011010110010001   10\n",
            "111010001110101000001   10\n",
            "010010111000100101101   10\n"
          ]
        }
      ],
      "source": [
        "for w in fa6.random_words(21,10):\n",
        "    u = w.replace('0', '')\n",
        "    print(f\"{w} {len(u):4}\")"
      ]
    },
    {
      "cell_type": "code",
      "execution_count": 33,
      "metadata": {
        "id": "eOzK7ZvGeCvs"
      },
      "outputs": [],
      "source": [
        "mfa2 = fa2.minify()"
      ]
    },
    {
      "cell_type": "code",
      "execution_count": 34,
      "metadata": {
        "colab": {
          "base_uri": "https://localhost:8080/"
        },
        "id": "ZJoxK55geCvs",
        "outputId": "89378759-df0f-40c0-9a42-0d0ae3e0e5b2"
      },
      "outputs": [
        {
          "output_type": "stream",
          "name": "stdout",
          "text": [
            "DFA(states={0, 1, 2, 3}, input_symbols={'1', '0'}, transitions={0: {'0': 0, '1': 2}, 1: {'0': 0, '1': 0}, 2: {'0': 3, '1': 1}, 3: {'0': 1, '1': 2}}, initial_state=3, final_states={1, 2}, allow_partial=False)\n"
          ]
        }
      ],
      "source": [
        "print(mfa2)"
      ]
    },
    {
      "cell_type": "markdown",
      "metadata": {
        "id": "_FI75jGbaVcF"
      },
      "source": [
        "### Substraction\n",
        "* The substraction of two automatons fa1 and fa2 is defined as the minimak automaton\n",
        "  fa which accepts all words of fa1 which are not accepted by fa2.\n",
        "* The Python automamat-lib package supports the substraction operation:"
      ]
    },
    {
      "cell_type": "code",
      "execution_count": 35,
      "metadata": {
        "id": "bnnv66PGeCvs"
      },
      "outputs": [],
      "source": [
        "fa = fa1 - fa2"
      ]
    },
    {
      "cell_type": "code",
      "execution_count": 36,
      "metadata": {
        "colab": {
          "base_uri": "https://localhost:8080/",
          "height": 439
        },
        "id": "_7lHEP26eCvs",
        "outputId": "204637bf-f244-4456-e0e9-c5fa7d1d7fce"
      },
      "outputs": [
        {
          "output_type": "execute_result",
          "data": {
            "image/svg+xml": "<?xml version=\"1.0\" encoding=\"UTF-8\" standalone=\"no\"?>\n<!DOCTYPE svg PUBLIC \"-//W3C//DTD SVG 1.1//EN\"\n \"http://www.w3.org/Graphics/SVG/1.1/DTD/svg11.dtd\">\n<!-- Generated by graphviz version 2.43.0 (0)\n -->\n<!-- Pages: 1 -->\n<svg width=\"826pt\" height=\"313pt\"\n viewBox=\"0.00 0.00 825.59 313.00\" xmlns=\"http://www.w3.org/2000/svg\" xmlns:xlink=\"http://www.w3.org/1999/xlink\">\n<g id=\"graph0\" class=\"graph\" transform=\"scale(1 1) rotate(0) translate(4 309)\">\n<polygon fill=\"white\" stroke=\"transparent\" points=\"-4,4 -4,-309 821.59,-309 821.59,4 -4,4\"/>\n<!-- 5e8b3228&#45;657d&#45;42b4&#45;8e01&#45;c0b2cbc2e525 -->\n<g id=\"node1\" class=\"node\">\n<title>5e8b3228&#45;657d&#45;42b4&#45;8e01&#45;c0b2cbc2e525</title>\n<g id=\"a_node1\"><a xlink:title=\".\">\n<ellipse fill=\"black\" stroke=\"black\" cx=\"1.8\" cy=\"-18\" rx=\"1.8\" ry=\"1.8\"/>\n</a>\n</g>\n</g>\n<!-- 8 -->\n<g id=\"node2\" class=\"node\">\n<title>8</title>\n<ellipse fill=\"none\" stroke=\"black\" cx=\"58.6\" cy=\"-18\" rx=\"18\" ry=\"18\"/>\n<text text-anchor=\"middle\" x=\"58.6\" y=\"-14.3\" font-family=\"Times,serif\" font-size=\"14.00\">8</text>\n</g>\n<!-- 5e8b3228&#45;657d&#45;42b4&#45;8e01&#45;c0b2cbc2e525&#45;&gt;8 -->\n<g id=\"edge1\" class=\"edge\">\n<title>5e8b3228&#45;657d&#45;42b4&#45;8e01&#45;c0b2cbc2e525&#45;&gt;8</title>\n<g id=\"a_edge1\"><a xlink:title=\"&#45;&gt;8\">\n<path fill=\"none\" stroke=\"black\" d=\"M3.75,-18C7.25,-18 19.84,-18 31.96,-18\"/>\n<polygon fill=\"black\" stroke=\"black\" points=\"32.08,-20.98 40.58,-18 32.07,-15.03 32.08,-20.98\"/>\n</a>\n</g>\n</g>\n<!-- 0 -->\n<g id=\"node3\" class=\"node\">\n<title>0</title>\n<ellipse fill=\"none\" stroke=\"black\" cx=\"137.6\" cy=\"-139\" rx=\"18\" ry=\"18\"/>\n<text text-anchor=\"middle\" x=\"137.6\" y=\"-135.3\" font-family=\"Times,serif\" font-size=\"14.00\">0</text>\n</g>\n<!-- 8&#45;&gt;0 -->\n<g id=\"edge2\" class=\"edge\">\n<title>8&#45;&gt;0</title>\n<path fill=\"none\" stroke=\"black\" d=\"M69.04,-32.84C82.38,-53.79 106.83,-92.22 122.37,-116.64\"/>\n<polygon fill=\"black\" stroke=\"black\" points=\"120.01,-118.47 127.08,-124.04 125.03,-115.27 120.01,-118.47\"/>\n<text text-anchor=\"middle\" x=\"98.1\" y=\"-85.8\" font-family=\"Times,serif\" font-size=\"14.00\">1</text>\n</g>\n<!-- 5 -->\n<g id=\"node4\" class=\"node\">\n<title>5</title>\n<ellipse fill=\"none\" stroke=\"black\" cx=\"799.59\" cy=\"-67\" rx=\"18\" ry=\"18\"/>\n<text text-anchor=\"middle\" x=\"799.59\" y=\"-63.3\" font-family=\"Times,serif\" font-size=\"14.00\">5</text>\n</g>\n<!-- 8&#45;&gt;5 -->\n<g id=\"edge3\" class=\"edge\">\n<title>8&#45;&gt;5</title>\n<path fill=\"none\" stroke=\"black\" d=\"M75.92,-12.58C91.37,-7.94 115.3,-2 136.6,-2 136.6,-2 136.6,-2 717.59,-2 745.61,-2 769.45,-25.94 783.87,-44.77\"/>\n<polygon fill=\"black\" stroke=\"black\" points=\"781.68,-46.82 789.1,-51.92 786.49,-43.31 781.68,-46.82\"/>\n<text text-anchor=\"middle\" x=\"417.1\" y=\"-5.8\" font-family=\"Times,serif\" font-size=\"14.00\">0</text>\n</g>\n<!-- 6 -->\n<g id=\"node5\" class=\"node\">\n<title>6</title>\n<ellipse fill=\"none\" stroke=\"black\" cx=\"216.6\" cy=\"-174\" rx=\"18\" ry=\"18\"/>\n<text text-anchor=\"middle\" x=\"216.6\" y=\"-170.3\" font-family=\"Times,serif\" font-size=\"14.00\">6</text>\n</g>\n<!-- 0&#45;&gt;6 -->\n<g id=\"edge4\" class=\"edge\">\n<title>0&#45;&gt;6</title>\n<path fill=\"none\" stroke=\"black\" d=\"M154.63,-145.66C162.5,-148.98 172.09,-153.11 180.6,-157 184.39,-158.73 188.39,-160.62 192.28,-162.48\"/>\n<polygon fill=\"black\" stroke=\"black\" points=\"191.04,-165.19 199.99,-166.22 193.64,-159.83 191.04,-165.19\"/>\n<text text-anchor=\"middle\" x=\"177.1\" y=\"-160.8\" font-family=\"Times,serif\" font-size=\"14.00\">1</text>\n</g>\n<!-- 7 -->\n<g id=\"node6\" class=\"node\">\n<title>7</title>\n<ellipse fill=\"none\" stroke=\"black\" cx=\"216.6\" cy=\"-232\" rx=\"18\" ry=\"18\"/>\n<text text-anchor=\"middle\" x=\"216.6\" y=\"-228.3\" font-family=\"Times,serif\" font-size=\"14.00\">7</text>\n</g>\n<!-- 0&#45;&gt;7 -->\n<g id=\"edge5\" class=\"edge\">\n<title>0&#45;&gt;7</title>\n<path fill=\"none\" stroke=\"black\" d=\"M143.6,-156.01C148.91,-171.65 158.63,-194.66 173.6,-210 178.61,-215.14 185.08,-219.33 191.44,-222.62\"/>\n<polygon fill=\"black\" stroke=\"black\" points=\"190.34,-225.39 199.3,-226.31 192.87,-220 190.34,-225.39\"/>\n<text text-anchor=\"middle\" x=\"177.1\" y=\"-218.8\" font-family=\"Times,serif\" font-size=\"14.00\">0</text>\n</g>\n<!-- 3 -->\n<g id=\"node7\" class=\"node\">\n<title>3</title>\n<ellipse fill=\"none\" stroke=\"black\" cx=\"460.6\" cy=\"-145\" rx=\"22\" ry=\"22\"/>\n<ellipse fill=\"none\" stroke=\"black\" cx=\"460.6\" cy=\"-145\" rx=\"26\" ry=\"26\"/>\n<text text-anchor=\"middle\" x=\"460.6\" y=\"-141.3\" font-family=\"Times,serif\" font-size=\"14.00\">3</text>\n</g>\n<!-- 5&#45;&gt;3 -->\n<g id=\"edge6\" class=\"edge\">\n<title>5&#45;&gt;3</title>\n<path fill=\"none\" stroke=\"black\" d=\"M781.96,-70.85C728.29,-83.27 559.18,-122.41 490.76,-138.25\"/>\n<polygon fill=\"black\" stroke=\"black\" points=\"489.78,-135.42 482.17,-140.24 491.12,-141.22 489.78,-135.42\"/>\n<text text-anchor=\"middle\" x=\"633.59\" y=\"-111.8\" font-family=\"Times,serif\" font-size=\"14.00\">0</text>\n</g>\n<!-- 10 -->\n<g id=\"node8\" class=\"node\">\n<title>10</title>\n<ellipse fill=\"none\" stroke=\"black\" cx=\"297.1\" cy=\"-127\" rx=\"19.5\" ry=\"19.5\"/>\n<text text-anchor=\"middle\" x=\"297.1\" y=\"-123.3\" font-family=\"Times,serif\" font-size=\"14.00\">10</text>\n</g>\n<!-- 5&#45;&gt;10 -->\n<g id=\"edge7\" class=\"edge\">\n<title>5&#45;&gt;10</title>\n<path fill=\"none\" stroke=\"black\" d=\"M782.41,-60.88C766.24,-55.33 740.56,-48 717.59,-48 376.6,-48 376.6,-48 376.6,-48 345.81,-48 322.95,-78.56 310.07,-101.67\"/>\n<polygon fill=\"black\" stroke=\"black\" points=\"307.29,-100.57 305.93,-109.47 312.54,-103.36 307.29,-100.57\"/>\n<text text-anchor=\"middle\" x=\"549.09\" y=\"-51.8\" font-family=\"Times,serif\" font-size=\"14.00\">1</text>\n</g>\n<!-- 6&#45;&gt;10 -->\n<g id=\"edge8\" class=\"edge\">\n<title>6&#45;&gt;10</title>\n<path fill=\"none\" stroke=\"black\" d=\"M232.36,-165.16C243.73,-158.36 259.64,-148.83 272.73,-140.99\"/>\n<polygon fill=\"black\" stroke=\"black\" points=\"274.28,-143.53 280.05,-136.61 271.23,-138.42 274.28,-143.53\"/>\n<text text-anchor=\"middle\" x=\"256.1\" y=\"-154.8\" font-family=\"Times,serif\" font-size=\"14.00\">1</text>\n</g>\n<!-- 9 -->\n<g id=\"node9\" class=\"node\">\n<title>9</title>\n<ellipse fill=\"none\" stroke=\"black\" cx=\"377.6\" cy=\"-145\" rx=\"18\" ry=\"18\"/>\n<text text-anchor=\"middle\" x=\"377.6\" y=\"-141.3\" font-family=\"Times,serif\" font-size=\"14.00\">9</text>\n</g>\n<!-- 6&#45;&gt;9 -->\n<g id=\"edge9\" class=\"edge\">\n<title>6&#45;&gt;9</title>\n<path fill=\"none\" stroke=\"black\" d=\"M234.8,-172.7C242.42,-172.03 251.47,-171.13 259.6,-170 296.3,-164.91 305.52,-163.43 341.6,-155 344.96,-154.21 348.49,-153.31 351.95,-152.37\"/>\n<polygon fill=\"black\" stroke=\"black\" points=\"352.93,-155.18 360.3,-150.01 351.31,-149.46 352.93,-155.18\"/>\n<text text-anchor=\"middle\" x=\"297.1\" y=\"-170.8\" font-family=\"Times,serif\" font-size=\"14.00\">0</text>\n</g>\n<!-- 7&#45;&gt;0 -->\n<g id=\"edge10\" class=\"edge\">\n<title>7&#45;&gt;0</title>\n<path fill=\"none\" stroke=\"black\" d=\"M204.44,-218.52C191.6,-203.02 170.38,-177.39 155.51,-159.43\"/>\n<polygon fill=\"black\" stroke=\"black\" points=\"157.67,-157.37 149.96,-152.72 153.09,-161.17 157.67,-157.37\"/>\n<text text-anchor=\"middle\" x=\"177.1\" y=\"-191.8\" font-family=\"Times,serif\" font-size=\"14.00\">1</text>\n</g>\n<!-- 2 -->\n<g id=\"node10\" class=\"node\">\n<title>2</title>\n<ellipse fill=\"none\" stroke=\"black\" cx=\"716.59\" cy=\"-237\" rx=\"18\" ry=\"18\"/>\n<text text-anchor=\"middle\" x=\"716.59\" y=\"-233.3\" font-family=\"Times,serif\" font-size=\"14.00\">2</text>\n</g>\n<!-- 7&#45;&gt;2 -->\n<g id=\"edge11\" class=\"edge\">\n<title>7&#45;&gt;2</title>\n<path fill=\"none\" stroke=\"black\" d=\"M227.76,-246.34C241.24,-263.51 266.78,-290 296.1,-290 296.1,-290 296.1,-290 634.59,-290 659.89,-290 683.43,-271.68 698.55,-256.58\"/>\n<polygon fill=\"black\" stroke=\"black\" points=\"700.76,-258.57 704.49,-250.37 696.46,-254.46 700.76,-258.57\"/>\n<text text-anchor=\"middle\" x=\"460.6\" y=\"-293.8\" font-family=\"Times,serif\" font-size=\"14.00\">0</text>\n</g>\n<!-- 11 -->\n<g id=\"node11\" class=\"node\">\n<title>11</title>\n<ellipse fill=\"none\" stroke=\"black\" cx=\"549.09\" cy=\"-200\" rx=\"23.5\" ry=\"23.5\"/>\n<ellipse fill=\"none\" stroke=\"black\" cx=\"549.09\" cy=\"-200\" rx=\"27.5\" ry=\"27.5\"/>\n<text text-anchor=\"middle\" x=\"549.09\" y=\"-196.3\" font-family=\"Times,serif\" font-size=\"14.00\">11</text>\n</g>\n<!-- 3&#45;&gt;11 -->\n<g id=\"edge12\" class=\"edge\">\n<title>3&#45;&gt;11</title>\n<path fill=\"none\" stroke=\"black\" d=\"M479.52,-156.4C491.63,-164.1 507.82,-174.39 521.44,-183.05\"/>\n<polygon fill=\"black\" stroke=\"black\" points=\"519.92,-185.61 528.69,-187.66 523.11,-180.59 519.92,-185.61\"/>\n<text text-anchor=\"middle\" x=\"504.1\" y=\"-177.8\" font-family=\"Times,serif\" font-size=\"14.00\">0</text>\n</g>\n<!-- 4 -->\n<g id=\"node12\" class=\"node\">\n<title>4</title>\n<ellipse fill=\"none\" stroke=\"black\" cx=\"633.59\" cy=\"-155\" rx=\"18\" ry=\"18\"/>\n<text text-anchor=\"middle\" x=\"633.59\" y=\"-151.3\" font-family=\"Times,serif\" font-size=\"14.00\">4</text>\n</g>\n<!-- 3&#45;&gt;4 -->\n<g id=\"edge13\" class=\"edge\">\n<title>3&#45;&gt;4</title>\n<path fill=\"none\" stroke=\"black\" d=\"M482.56,-146.23C513.87,-148.06 572.76,-151.5 606.7,-153.49\"/>\n<polygon fill=\"black\" stroke=\"black\" points=\"606.91,-156.48 615.57,-154 607.25,-150.54 606.91,-156.48\"/>\n<text text-anchor=\"middle\" x=\"549.09\" y=\"-154.8\" font-family=\"Times,serif\" font-size=\"14.00\">1</text>\n</g>\n<!-- 10&#45;&gt;0 -->\n<g id=\"edge14\" class=\"edge\">\n<title>10&#45;&gt;0</title>\n<path fill=\"none\" stroke=\"black\" d=\"M277.38,-127.6C257.74,-128.31 225.96,-129.7 198.6,-132 187.25,-132.95 174.73,-134.36 164.08,-135.66\"/>\n<polygon fill=\"black\" stroke=\"black\" points=\"163.71,-132.71 155.64,-136.71 164.44,-138.61 163.71,-132.71\"/>\n<text text-anchor=\"middle\" x=\"216.6\" y=\"-135.8\" font-family=\"Times,serif\" font-size=\"14.00\">1</text>\n</g>\n<!-- 10&#45;&gt;9 -->\n<g id=\"edge15\" class=\"edge\">\n<title>10&#45;&gt;9</title>\n<path fill=\"none\" stroke=\"black\" d=\"M316.3,-131.17C326.77,-133.57 340.07,-136.62 351.52,-139.25\"/>\n<polygon fill=\"black\" stroke=\"black\" points=\"350.88,-142.16 359.83,-141.16 352.21,-136.36 350.88,-142.16\"/>\n<text text-anchor=\"middle\" x=\"338.1\" y=\"-139.8\" font-family=\"Times,serif\" font-size=\"14.00\">0</text>\n</g>\n<!-- 9&#45;&gt;0 -->\n<g id=\"edge16\" class=\"edge\">\n<title>9&#45;&gt;0</title>\n<path fill=\"none\" stroke=\"black\" d=\"M364.73,-132C353.56,-120.82 335.74,-105.49 316.6,-99 262.17,-80.54 195.47,-108.34 161.24,-126.1\"/>\n<polygon fill=\"black\" stroke=\"black\" points=\"159.76,-123.52 153.66,-130.15 162.56,-128.77 159.76,-123.52\"/>\n<text text-anchor=\"middle\" x=\"256.1\" y=\"-97.8\" font-family=\"Times,serif\" font-size=\"14.00\">1</text>\n</g>\n<!-- 9&#45;&gt;3 -->\n<g id=\"edge17\" class=\"edge\">\n<title>9&#45;&gt;3</title>\n<path fill=\"none\" stroke=\"black\" d=\"M395.77,-145C405.59,-145 418.19,-145 429.59,-145\"/>\n<polygon fill=\"black\" stroke=\"black\" points=\"429.91,-147.98 438.41,-145 429.91,-142.03 429.91,-147.98\"/>\n<text text-anchor=\"middle\" x=\"417.1\" y=\"-148.8\" font-family=\"Times,serif\" font-size=\"14.00\">0</text>\n</g>\n<!-- 2&#45;&gt;3 -->\n<g id=\"edge18\" class=\"edge\">\n<title>2&#45;&gt;3</title>\n<path fill=\"none\" stroke=\"black\" d=\"M699.02,-241.36C664.29,-249.53 582.4,-263.61 525.6,-232 496.93,-216.05 502.23,-198.29 482.6,-172 481.84,-170.99 481.07,-169.96 480.28,-168.92\"/>\n<polygon fill=\"black\" stroke=\"black\" points=\"482.56,-167 475.03,-162.06 477.83,-170.62 482.56,-167\"/>\n<text text-anchor=\"middle\" x=\"594.09\" y=\"-254.8\" font-family=\"Times,serif\" font-size=\"14.00\">1</text>\n</g>\n<!-- 2&#45;&gt;11 -->\n<g id=\"edge19\" class=\"edge\">\n<title>2&#45;&gt;11</title>\n<path fill=\"none\" stroke=\"black\" d=\"M698.64,-233.21C670.92,-227.01 615.53,-214.63 580.78,-206.86\"/>\n<polygon fill=\"black\" stroke=\"black\" points=\"581.35,-203.94 572.41,-204.99 580.06,-209.75 581.35,-203.94\"/>\n<text text-anchor=\"middle\" x=\"633.59\" y=\"-225.8\" font-family=\"Times,serif\" font-size=\"14.00\">0</text>\n</g>\n<!-- 11&#45;&gt;9 -->\n<g id=\"edge20\" class=\"edge\">\n<title>11&#45;&gt;9</title>\n<path fill=\"none\" stroke=\"black\" d=\"M525.82,-196.02C517.84,-194.53 508.8,-192.77 500.6,-191 472.88,-185.03 465.3,-185.52 438.6,-176 426.99,-171.86 424.57,-169.61 413.6,-164 409.62,-161.97 405.42,-159.75 401.37,-157.57\"/>\n<polygon fill=\"black\" stroke=\"black\" points=\"402.73,-154.92 393.84,-153.49 399.9,-160.16 402.73,-154.92\"/>\n<text text-anchor=\"middle\" x=\"460.6\" y=\"-190.8\" font-family=\"Times,serif\" font-size=\"14.00\">0</text>\n</g>\n<!-- 11&#45;&gt;4 -->\n<g id=\"edge21\" class=\"edge\">\n<title>11&#45;&gt;4</title>\n<path fill=\"none\" stroke=\"black\" d=\"M570.07,-189.11C582.04,-182.58 597.3,-174.25 609.75,-167.46\"/>\n<polygon fill=\"black\" stroke=\"black\" points=\"611.42,-169.94 617.46,-163.26 608.57,-164.71 611.42,-169.94\"/>\n<text text-anchor=\"middle\" x=\"594.09\" y=\"-180.8\" font-family=\"Times,serif\" font-size=\"14.00\">1</text>\n</g>\n<!-- 4&#45;&gt;2 -->\n<g id=\"edge22\" class=\"edge\">\n<title>4&#45;&gt;2</title>\n<path fill=\"none\" stroke=\"black\" d=\"M647.21,-167.08C655.61,-175.18 666.86,-186.14 676.59,-196 683.53,-203.03 691.03,-210.85 697.58,-217.77\"/>\n<polygon fill=\"black\" stroke=\"black\" points=\"695.76,-220.18 703.76,-224.32 700.09,-216.1 695.76,-220.18\"/>\n<text text-anchor=\"middle\" x=\"673.09\" y=\"-199.8\" font-family=\"Times,serif\" font-size=\"14.00\">1</text>\n</g>\n<!-- 1 -->\n<g id=\"node13\" class=\"node\">\n<title>1</title>\n<ellipse fill=\"none\" stroke=\"black\" cx=\"716.59\" cy=\"-136\" rx=\"22\" ry=\"22\"/>\n<ellipse fill=\"none\" stroke=\"black\" cx=\"716.59\" cy=\"-136\" rx=\"26\" ry=\"26\"/>\n<text text-anchor=\"middle\" x=\"716.59\" y=\"-132.3\" font-family=\"Times,serif\" font-size=\"14.00\">1</text>\n</g>\n<!-- 4&#45;&gt;1 -->\n<g id=\"edge23\" class=\"edge\">\n<title>4&#45;&gt;1</title>\n<path fill=\"none\" stroke=\"black\" d=\"M651.38,-151.06C661.59,-148.67 674.92,-145.54 686.78,-142.76\"/>\n<polygon fill=\"black\" stroke=\"black\" points=\"687.5,-145.65 695.1,-140.81 686.15,-139.85 687.5,-145.65\"/>\n<text text-anchor=\"middle\" x=\"673.09\" y=\"-149.8\" font-family=\"Times,serif\" font-size=\"14.00\">0</text>\n</g>\n<!-- 1&#45;&gt;5 -->\n<g id=\"edge24\" class=\"edge\">\n<title>1&#45;&gt;5</title>\n<path fill=\"none\" stroke=\"black\" d=\"M734.93,-123.03C743.68,-116.34 754.36,-107.93 763.59,-100 769.03,-95.33 774.75,-90.08 779.95,-85.17\"/>\n<polygon fill=\"black\" stroke=\"black\" points=\"782.11,-87.22 786.21,-79.2 778.01,-82.92 782.11,-87.22\"/>\n<text text-anchor=\"middle\" x=\"760.09\" y=\"-108.8\" font-family=\"Times,serif\" font-size=\"14.00\">0</text>\n</g>\n<!-- 1&#45;&gt;4 -->\n<g id=\"edge25\" class=\"edge\">\n<title>1&#45;&gt;4</title>\n<path fill=\"none\" stroke=\"black\" d=\"M696.03,-126.98C687.73,-124.37 678.05,-122.95 669.59,-126 663.47,-128.21 657.66,-132 652.59,-136.14\"/>\n<polygon fill=\"black\" stroke=\"black\" points=\"650.55,-133.98 646.19,-141.86 654.51,-138.41 650.55,-133.98\"/>\n<text text-anchor=\"middle\" x=\"673.09\" y=\"-129.8\" font-family=\"Times,serif\" font-size=\"14.00\">1</text>\n</g>\n</g>\n</svg>\n",
            "text/plain": [
              "<AGraph <Swig Object of type 'Agraph_t *' at 0x7f528f6e4600>>"
            ]
          },
          "metadata": {},
          "execution_count": 36
        }
      ],
      "source": [
        "fa.show_diagram()"
      ]
    },
    {
      "cell_type": "markdown",
      "metadata": {
        "id": "OqUFYexRaVcG"
      },
      "source": [
        "* We can test if fa is indeed the substraction $fa1 - fa2$ by checking word of constant length"
      ]
    },
    {
      "cell_type": "code",
      "execution_count": 37,
      "metadata": {
        "colab": {
          "base_uri": "https://localhost:8080/"
        },
        "id": "SkmXzPrLeCvt",
        "outputId": "08fa4dac-8d56-4d6a-d368-c7da7ce10be4"
      },
      "outputs": [
        {
          "output_type": "execute_result",
          "data": {
            "text/plain": [
              "{'0010', '0100', '1000', '1001', '1100'}"
            ]
          },
          "metadata": {},
          "execution_count": 37
        }
      ],
      "source": [
        "A = fa1.words_of_lengths(4)\n",
        "B = fa2.words_of_lengths(4)\n",
        "set(A) - set(B)"
      ]
    },
    {
      "cell_type": "code",
      "execution_count": 38,
      "metadata": {
        "colab": {
          "base_uri": "https://localhost:8080/"
        },
        "id": "sLjWAjsYeCvt",
        "outputId": "a06575e3-77a3-429f-d95d-9437ee8f15f0"
      },
      "outputs": [
        {
          "output_type": "execute_result",
          "data": {
            "text/plain": [
              "True"
            ]
          },
          "metadata": {},
          "execution_count": 38
        }
      ],
      "source": [
        "'0010' in fa and '0100' in fa and '1000' in fa and '1001' in fa and '1100' in fa"
      ]
    },
    {
      "cell_type": "code",
      "execution_count": 39,
      "metadata": {
        "id": "wE_na9WueCvt"
      },
      "outputs": [],
      "source": [
        "from itertools import product\n",
        "P = list(product(['0', '1'], repeat=4))"
      ]
    },
    {
      "cell_type": "code",
      "execution_count": 40,
      "metadata": {
        "colab": {
          "base_uri": "https://localhost:8080/"
        },
        "id": "oICuEJ_4eCvt",
        "outputId": "0d61ce5f-c158-4c0d-b706-e2f09b9a15f4"
      },
      "outputs": [
        {
          "output_type": "execute_result",
          "data": {
            "text/plain": [
              "[]"
            ]
          },
          "metadata": {},
          "execution_count": 40
        }
      ],
      "source": [
        "D = [''.join(w) for w in P if w in fa1 and not w in fa2]\n",
        "D"
      ]
    },
    {
      "cell_type": "code",
      "execution_count": 41,
      "metadata": {
        "id": "sdXy6Ce6eCvu"
      },
      "outputs": [],
      "source": [
        "fa = fa1 | fa2"
      ]
    },
    {
      "cell_type": "code",
      "execution_count": 42,
      "metadata": {
        "colab": {
          "base_uri": "https://localhost:8080/",
          "height": 482
        },
        "id": "_XiciaX_eCvu",
        "outputId": "44f74571-4fd0-4825-8208-af06d735c52d"
      },
      "outputs": [
        {
          "output_type": "execute_result",
          "data": {
            "image/svg+xml": "<?xml version=\"1.0\" encoding=\"UTF-8\" standalone=\"no\"?>\n<!DOCTYPE svg PUBLIC \"-//W3C//DTD SVG 1.1//EN\"\n \"http://www.w3.org/Graphics/SVG/1.1/DTD/svg11.dtd\">\n<!-- Generated by graphviz version 2.43.0 (0)\n -->\n<!-- Pages: 1 -->\n<svg width=\"864pt\" height=\"345pt\"\n viewBox=\"0.00 0.00 863.60 345.24\" xmlns=\"http://www.w3.org/2000/svg\" xmlns:xlink=\"http://www.w3.org/1999/xlink\">\n<g id=\"graph0\" class=\"graph\" transform=\"scale(1 1) rotate(0) translate(4 341.24)\">\n<polygon fill=\"white\" stroke=\"transparent\" points=\"-4,4 -4,-341.24 859.6,-341.24 859.6,4 -4,4\"/>\n<!-- 6ee0c4c7&#45;a6a1&#45;47dc&#45;9fbb&#45;662d66777acf -->\n<g id=\"node1\" class=\"node\">\n<title>6ee0c4c7&#45;a6a1&#45;47dc&#45;9fbb&#45;662d66777acf</title>\n<g id=\"a_node1\"><a xlink:title=\".\">\n<ellipse fill=\"black\" stroke=\"black\" cx=\"1.8\" cy=\"-24.24\" rx=\"1.8\" ry=\"1.8\"/>\n</a>\n</g>\n</g>\n<!-- 3 -->\n<g id=\"node2\" class=\"node\">\n<title>3</title>\n<ellipse fill=\"none\" stroke=\"black\" cx=\"58.6\" cy=\"-24.24\" rx=\"18\" ry=\"18\"/>\n<text text-anchor=\"middle\" x=\"58.6\" y=\"-20.54\" font-family=\"Times,serif\" font-size=\"14.00\">3</text>\n</g>\n<!-- 6ee0c4c7&#45;a6a1&#45;47dc&#45;9fbb&#45;662d66777acf&#45;&gt;3 -->\n<g id=\"edge1\" class=\"edge\">\n<title>6ee0c4c7&#45;a6a1&#45;47dc&#45;9fbb&#45;662d66777acf&#45;&gt;3</title>\n<g id=\"a_edge1\"><a xlink:title=\"&#45;&gt;3\">\n<path fill=\"none\" stroke=\"black\" d=\"M3.75,-24.24C7.25,-24.24 19.84,-24.24 31.96,-24.24\"/>\n<polygon fill=\"black\" stroke=\"black\" points=\"32.08,-27.21 40.58,-24.24 32.07,-21.26 32.08,-27.21\"/>\n</a>\n</g>\n</g>\n<!-- 5 -->\n<g id=\"node3\" class=\"node\">\n<title>5</title>\n<ellipse fill=\"none\" stroke=\"black\" cx=\"141.6\" cy=\"-100.24\" rx=\"22\" ry=\"22\"/>\n<ellipse fill=\"none\" stroke=\"black\" cx=\"141.6\" cy=\"-100.24\" rx=\"26\" ry=\"26\"/>\n<text text-anchor=\"middle\" x=\"141.6\" y=\"-96.54\" font-family=\"Times,serif\" font-size=\"14.00\">5</text>\n</g>\n<!-- 3&#45;&gt;5 -->\n<g id=\"edge2\" class=\"edge\">\n<title>3&#45;&gt;5</title>\n<path fill=\"none\" stroke=\"black\" d=\"M72.26,-36.11C84.6,-47.7 103.64,-65.56 118.49,-79.5\"/>\n<polygon fill=\"black\" stroke=\"black\" points=\"116.75,-81.94 124.98,-85.59 120.82,-77.6 116.75,-81.94\"/>\n<text text-anchor=\"middle\" x=\"98.1\" y=\"-66.04\" font-family=\"Times,serif\" font-size=\"14.00\">0</text>\n</g>\n<!-- 7 -->\n<g id=\"node4\" class=\"node\">\n<title>7</title>\n<ellipse fill=\"none\" stroke=\"black\" cx=\"307.6\" cy=\"-156.24\" rx=\"22\" ry=\"22\"/>\n<ellipse fill=\"none\" stroke=\"black\" cx=\"307.6\" cy=\"-156.24\" rx=\"26\" ry=\"26\"/>\n<text text-anchor=\"middle\" x=\"307.6\" y=\"-152.54\" font-family=\"Times,serif\" font-size=\"14.00\">7</text>\n</g>\n<!-- 3&#45;&gt;7 -->\n<g id=\"edge3\" class=\"edge\">\n<title>3&#45;&gt;7</title>\n<path fill=\"none\" stroke=\"black\" d=\"M76,-18.65C101.44,-10.98 151.35,0 188.6,-17.24 238.33,-40.26 274.77,-95.71 293.14,-129.2\"/>\n<polygon fill=\"black\" stroke=\"black\" points=\"290.58,-130.72 297.21,-136.81 295.82,-127.91 290.58,-130.72\"/>\n<text text-anchor=\"middle\" x=\"185.1\" y=\"-21.04\" font-family=\"Times,serif\" font-size=\"14.00\">1</text>\n</g>\n<!-- 0 -->\n<g id=\"node5\" class=\"node\">\n<title>0</title>\n<ellipse fill=\"none\" stroke=\"black\" cx=\"224.6\" cy=\"-206.24\" rx=\"18\" ry=\"18\"/>\n<text text-anchor=\"middle\" x=\"224.6\" y=\"-202.54\" font-family=\"Times,serif\" font-size=\"14.00\">0</text>\n</g>\n<!-- 5&#45;&gt;0 -->\n<g id=\"edge4\" class=\"edge\">\n<title>5&#45;&gt;0</title>\n<path fill=\"none\" stroke=\"black\" d=\"M155.61,-117.27C169.79,-135.83 192.48,-165.52 207.7,-185.44\"/>\n<polygon fill=\"black\" stroke=\"black\" points=\"205.42,-187.36 212.95,-192.3 210.15,-183.74 205.42,-187.36\"/>\n<text text-anchor=\"middle\" x=\"185.1\" y=\"-163.04\" font-family=\"Times,serif\" font-size=\"14.00\">1</text>\n</g>\n<!-- 6 -->\n<g id=\"node6\" class=\"node\">\n<title>6</title>\n<ellipse fill=\"none\" stroke=\"black\" cx=\"568.6\" cy=\"-77.24\" rx=\"22\" ry=\"22\"/>\n<ellipse fill=\"none\" stroke=\"black\" cx=\"568.6\" cy=\"-77.24\" rx=\"26\" ry=\"26\"/>\n<text text-anchor=\"middle\" x=\"568.6\" y=\"-73.54\" font-family=\"Times,serif\" font-size=\"14.00\">6</text>\n</g>\n<!-- 5&#45;&gt;6 -->\n<g id=\"edge5\" class=\"edge\">\n<title>5&#45;&gt;6</title>\n<path fill=\"none\" stroke=\"black\" d=\"M156.27,-83.74C171.06,-67.86 196.22,-46.24 223.6,-46.24 223.6,-46.24 223.6,-46.24 482.6,-46.24 503.39,-46.24 525.4,-54.52 541.81,-62.53\"/>\n<polygon fill=\"black\" stroke=\"black\" points=\"540.47,-65.18 549.39,-66.4 543.17,-59.88 540.47,-65.18\"/>\n<text text-anchor=\"middle\" x=\"351.1\" y=\"-50.04\" font-family=\"Times,serif\" font-size=\"14.00\">0</text>\n</g>\n<!-- 11 -->\n<g id=\"node7\" class=\"node\">\n<title>11</title>\n<ellipse fill=\"none\" stroke=\"black\" cx=\"394.6\" cy=\"-104.24\" rx=\"19.5\" ry=\"19.5\"/>\n<text text-anchor=\"middle\" x=\"394.6\" y=\"-100.54\" font-family=\"Times,serif\" font-size=\"14.00\">11</text>\n</g>\n<!-- 7&#45;&gt;11 -->\n<g id=\"edge6\" class=\"edge\">\n<title>7&#45;&gt;11</title>\n<path fill=\"none\" stroke=\"black\" d=\"M319.45,-137.08C326.2,-127.05 335.83,-115.57 347.6,-109.24 353.24,-106.21 359.83,-104.58 366.24,-103.77\"/>\n<polygon fill=\"black\" stroke=\"black\" points=\"366.49,-106.74 374.74,-103.13 366.04,-100.8 366.49,-106.74\"/>\n<text text-anchor=\"middle\" x=\"351.1\" y=\"-113.04\" font-family=\"Times,serif\" font-size=\"14.00\">0</text>\n</g>\n<!-- 1 -->\n<g id=\"node8\" class=\"node\">\n<title>1</title>\n<ellipse fill=\"none\" stroke=\"black\" cx=\"394.6\" cy=\"-221.24\" rx=\"22\" ry=\"22\"/>\n<ellipse fill=\"none\" stroke=\"black\" cx=\"394.6\" cy=\"-221.24\" rx=\"26\" ry=\"26\"/>\n<text text-anchor=\"middle\" x=\"394.6\" y=\"-217.54\" font-family=\"Times,serif\" font-size=\"14.00\">1</text>\n</g>\n<!-- 7&#45;&gt;1 -->\n<g id=\"edge7\" class=\"edge\">\n<title>7&#45;&gt;1</title>\n<path fill=\"none\" stroke=\"black\" d=\"M325.8,-169.39C338.44,-179.06 355.78,-192.32 369.75,-203.01\"/>\n<polygon fill=\"black\" stroke=\"black\" points=\"368.15,-205.53 376.71,-208.33 371.76,-200.8 368.15,-205.53\"/>\n<text text-anchor=\"middle\" x=\"351.1\" y=\"-194.04\" font-family=\"Times,serif\" font-size=\"14.00\">1</text>\n</g>\n<!-- 0&#45;&gt;7 -->\n<g id=\"edge8\" class=\"edge\">\n<title>0&#45;&gt;7</title>\n<path fill=\"none\" stroke=\"black\" d=\"M240.46,-197.07C251.76,-190.09 267.58,-180.32 280.92,-172.09\"/>\n<polygon fill=\"black\" stroke=\"black\" points=\"282.76,-174.45 288.43,-167.45 279.64,-169.39 282.76,-174.45\"/>\n<text text-anchor=\"middle\" x=\"264.1\" y=\"-187.04\" font-family=\"Times,serif\" font-size=\"14.00\">1</text>\n</g>\n<!-- 10 -->\n<g id=\"node9\" class=\"node\">\n<title>10</title>\n<ellipse fill=\"none\" stroke=\"black\" cx=\"742.6\" cy=\"-182.24\" rx=\"19.5\" ry=\"19.5\"/>\n<text text-anchor=\"middle\" x=\"742.6\" y=\"-178.54\" font-family=\"Times,serif\" font-size=\"14.00\">10</text>\n</g>\n<!-- 0&#45;&gt;10 -->\n<g id=\"edge9\" class=\"edge\">\n<title>0&#45;&gt;10</title>\n<path fill=\"none\" stroke=\"black\" d=\"M235.09,-221.32C248.48,-240.52 274.87,-271.24 306.6,-271.24 306.6,-271.24 306.6,-271.24 656.6,-271.24 691.84,-271.24 716.96,-234.3 730.36,-208.01\"/>\n<polygon fill=\"black\" stroke=\"black\" points=\"733.09,-209.19 734.15,-200.25 727.75,-206.58 733.09,-209.19\"/>\n<text text-anchor=\"middle\" x=\"481.6\" y=\"-275.04\" font-family=\"Times,serif\" font-size=\"14.00\">0</text>\n</g>\n<!-- 2 -->\n<g id=\"node10\" class=\"node\">\n<title>2</title>\n<ellipse fill=\"none\" stroke=\"black\" cx=\"655.6\" cy=\"-81.24\" rx=\"22\" ry=\"22\"/>\n<ellipse fill=\"none\" stroke=\"black\" cx=\"655.6\" cy=\"-81.24\" rx=\"26\" ry=\"26\"/>\n<text text-anchor=\"middle\" x=\"655.6\" y=\"-77.54\" font-family=\"Times,serif\" font-size=\"14.00\">2</text>\n</g>\n<!-- 6&#45;&gt;2 -->\n<g id=\"edge10\" class=\"edge\">\n<title>6&#45;&gt;2</title>\n<path fill=\"none\" stroke=\"black\" d=\"M590.61,-78.23C600.93,-78.71 613.54,-79.31 624.83,-79.84\"/>\n<polygon fill=\"black\" stroke=\"black\" points=\"624.91,-82.82 633.54,-80.25 625.19,-76.88 624.91,-82.82\"/>\n<text text-anchor=\"middle\" x=\"612.1\" y=\"-83.04\" font-family=\"Times,serif\" font-size=\"14.00\">0</text>\n</g>\n<!-- 8 -->\n<g id=\"node11\" class=\"node\">\n<title>8</title>\n<ellipse fill=\"none\" stroke=\"black\" cx=\"742.6\" cy=\"-40.24\" rx=\"22\" ry=\"22\"/>\n<ellipse fill=\"none\" stroke=\"black\" cx=\"742.6\" cy=\"-40.24\" rx=\"26\" ry=\"26\"/>\n<text text-anchor=\"middle\" x=\"742.6\" y=\"-36.54\" font-family=\"Times,serif\" font-size=\"14.00\">8</text>\n</g>\n<!-- 6&#45;&gt;8 -->\n<g id=\"edge11\" class=\"edge\">\n<title>6&#45;&gt;8</title>\n<path fill=\"none\" stroke=\"black\" d=\"M585.61,-62.89C597.8,-52.97 615.52,-40.64 633.6,-35.24 659.36,-27.54 690.12,-30.02 712.2,-33.71\"/>\n<polygon fill=\"black\" stroke=\"black\" points=\"711.9,-36.68 720.8,-35.27 712.97,-30.82 711.9,-36.68\"/>\n<text text-anchor=\"middle\" x=\"655.6\" y=\"-39.04\" font-family=\"Times,serif\" font-size=\"14.00\">1</text>\n</g>\n<!-- 11&#45;&gt;7 -->\n<g id=\"edge12\" class=\"edge\">\n<title>11&#45;&gt;7</title>\n<path fill=\"none\" stroke=\"black\" d=\"M377.48,-114.1C365.36,-121.52 348.49,-131.84 334.48,-140.41\"/>\n<polygon fill=\"black\" stroke=\"black\" points=\"332.74,-137.99 327.04,-144.96 335.84,-143.06 332.74,-137.99\"/>\n<text text-anchor=\"middle\" x=\"351.1\" y=\"-135.04\" font-family=\"Times,serif\" font-size=\"14.00\">1</text>\n</g>\n<!-- 9 -->\n<g id=\"node12\" class=\"node\">\n<title>9</title>\n<ellipse fill=\"none\" stroke=\"black\" cx=\"481.6\" cy=\"-104.24\" rx=\"22\" ry=\"22\"/>\n<ellipse fill=\"none\" stroke=\"black\" cx=\"481.6\" cy=\"-104.24\" rx=\"26\" ry=\"26\"/>\n<text text-anchor=\"middle\" x=\"481.6\" y=\"-100.54\" font-family=\"Times,serif\" font-size=\"14.00\">9</text>\n</g>\n<!-- 11&#45;&gt;9 -->\n<g id=\"edge13\" class=\"edge\">\n<title>11&#45;&gt;9</title>\n<path fill=\"none\" stroke=\"black\" d=\"M414.46,-104.24C425.07,-104.24 438.54,-104.24 450.56,-104.24\"/>\n<polygon fill=\"black\" stroke=\"black\" points=\"450.9,-107.21 459.4,-104.24 450.9,-101.26 450.9,-107.21\"/>\n<text text-anchor=\"middle\" x=\"438.1\" y=\"-108.04\" font-family=\"Times,serif\" font-size=\"14.00\">0</text>\n</g>\n<!-- 1&#45;&gt;0 -->\n<g id=\"edge14\" class=\"edge\">\n<title>1&#45;&gt;0</title>\n<path fill=\"none\" stroke=\"black\" d=\"M372.6,-219.36C341.84,-216.62 284.58,-211.51 251.33,-208.54\"/>\n<polygon fill=\"black\" stroke=\"black\" points=\"251.36,-205.56 242.63,-207.76 250.83,-211.48 251.36,-205.56\"/>\n<text text-anchor=\"middle\" x=\"307.6\" y=\"-219.04\" font-family=\"Times,serif\" font-size=\"14.00\">1</text>\n</g>\n<!-- 1&#45;&gt;10 -->\n<g id=\"edge15\" class=\"edge\">\n<title>1&#45;&gt;10</title>\n<path fill=\"none\" stroke=\"black\" d=\"M416.9,-222.41C434.09,-223.25 458.89,-224.24 480.6,-224.24 480.6,-224.24 480.6,-224.24 656.6,-224.24 680.15,-224.24 703.93,-211.12 720.32,-199.54\"/>\n<polygon fill=\"black\" stroke=\"black\" points=\"722.23,-201.83 727.31,-194.39 718.7,-197.04 722.23,-201.83\"/>\n<text text-anchor=\"middle\" x=\"568.6\" y=\"-228.04\" font-family=\"Times,serif\" font-size=\"14.00\">0</text>\n</g>\n<!-- 10&#45;&gt;7 -->\n<g id=\"edge16\" class=\"edge\">\n<title>10&#45;&gt;7</title>\n<path fill=\"none\" stroke=\"black\" d=\"M722.94,-181.12C655.2,-177.05 421.87,-163.04 338.5,-158.04\"/>\n<polygon fill=\"black\" stroke=\"black\" points=\"338.44,-155.06 329.78,-157.51 338.08,-160.99 338.44,-155.06\"/>\n<text text-anchor=\"middle\" x=\"525.1\" y=\"-173.04\" font-family=\"Times,serif\" font-size=\"14.00\">1</text>\n</g>\n<!-- 10&#45;&gt;6 -->\n<g id=\"edge17\" class=\"edge\">\n<title>10&#45;&gt;6</title>\n<path fill=\"none\" stroke=\"black\" d=\"M725.28,-172.28C695.29,-153.97 631.21,-114.85 595.31,-92.94\"/>\n<polygon fill=\"black\" stroke=\"black\" points=\"596.48,-90.17 587.68,-88.28 593.38,-95.25 596.48,-90.17\"/>\n<text text-anchor=\"middle\" x=\"655.6\" y=\"-145.04\" font-family=\"Times,serif\" font-size=\"14.00\">0</text>\n</g>\n<!-- 2&#45;&gt;10 -->\n<g id=\"edge20\" class=\"edge\">\n<title>2&#45;&gt;10</title>\n<path fill=\"none\" stroke=\"black\" d=\"M675.65,-90.35C684.62,-95.31 694.99,-102.11 702.6,-110.24 714.94,-123.43 724.64,-141.26 731.28,-155.88\"/>\n<polygon fill=\"black\" stroke=\"black\" points=\"728.72,-157.45 734.83,-164.06 734.18,-155.08 728.72,-157.45\"/>\n<text text-anchor=\"middle\" x=\"699.1\" y=\"-114.04\" font-family=\"Times,serif\" font-size=\"14.00\">0</text>\n</g>\n<!-- 2&#45;&gt;8 -->\n<g id=\"edge21\" class=\"edge\">\n<title>2&#45;&gt;8</title>\n<path fill=\"none\" stroke=\"black\" d=\"M675.89,-71.94C687.3,-66.43 701.93,-59.37 714.49,-53.32\"/>\n<polygon fill=\"black\" stroke=\"black\" points=\"716.03,-55.88 722.39,-49.51 713.44,-50.52 716.03,-55.88\"/>\n<text text-anchor=\"middle\" x=\"699.1\" y=\"-65.04\" font-family=\"Times,serif\" font-size=\"14.00\">1</text>\n</g>\n<!-- 8&#45;&gt;9 -->\n<g id=\"edge22\" class=\"edge\">\n<title>8&#45;&gt;9</title>\n<path fill=\"none\" stroke=\"black\" d=\"M721.61,-32.55C715.58,-30.51 708.89,-28.52 702.6,-27.24 661.62,-18.9 649.76,-15.85 608.6,-23.24 579.67,-28.43 571.72,-30.98 546.6,-46.24 530.59,-55.96 514.98,-70 503.17,-81.83\"/>\n<polygon fill=\"black\" stroke=\"black\" points=\"500.83,-79.97 497.03,-88.13 505.09,-84.12 500.83,-79.97\"/>\n<text text-anchor=\"middle\" x=\"612.1\" y=\"-27.04\" font-family=\"Times,serif\" font-size=\"14.00\">1</text>\n</g>\n<!-- 4 -->\n<g id=\"node13\" class=\"node\">\n<title>4</title>\n<ellipse fill=\"none\" stroke=\"black\" cx=\"829.6\" cy=\"-78.24\" rx=\"22\" ry=\"22\"/>\n<ellipse fill=\"none\" stroke=\"black\" cx=\"829.6\" cy=\"-78.24\" rx=\"26\" ry=\"26\"/>\n<text text-anchor=\"middle\" x=\"829.6\" y=\"-74.54\" font-family=\"Times,serif\" font-size=\"14.00\">4</text>\n</g>\n<!-- 8&#45;&gt;4 -->\n<g id=\"edge23\" class=\"edge\">\n<title>8&#45;&gt;4</title>\n<path fill=\"none\" stroke=\"black\" d=\"M762.89,-48.86C774.22,-53.93 788.72,-60.41 801.22,-66\"/>\n<polygon fill=\"black\" stroke=\"black\" points=\"800.12,-68.77 809.09,-69.52 802.54,-63.33 800.12,-68.77\"/>\n<text text-anchor=\"middle\" x=\"786.1\" y=\"-64.04\" font-family=\"Times,serif\" font-size=\"14.00\">0</text>\n</g>\n<!-- 9&#45;&gt;6 -->\n<g id=\"edge18\" class=\"edge\">\n<title>9&#45;&gt;6</title>\n<path fill=\"none\" stroke=\"black\" d=\"M502.74,-97.84C513.57,-94.4 527.1,-90.11 538.99,-86.33\"/>\n<polygon fill=\"black\" stroke=\"black\" points=\"540.11,-89.09 547.31,-83.69 538.31,-83.42 540.11,-89.09\"/>\n<text text-anchor=\"middle\" x=\"525.1\" y=\"-95.04\" font-family=\"Times,serif\" font-size=\"14.00\">1</text>\n</g>\n<!-- 9&#45;&gt;2 -->\n<g id=\"edge19\" class=\"edge\">\n<title>9&#45;&gt;2</title>\n<path fill=\"none\" stroke=\"black\" d=\"M503.58,-108.07C509.4,-108.97 515.73,-109.79 521.6,-110.24 542.63,-111.85 535.73,-119.73 590.6,-108.24 603.42,-105.56 616.89,-100.29 628.14,-95.11\"/>\n<polygon fill=\"black\" stroke=\"black\" points=\"629.52,-97.75 635.9,-91.4 626.95,-92.38 629.52,-97.75\"/>\n<text text-anchor=\"middle\" x=\"568.6\" y=\"-118.04\" font-family=\"Times,serif\" font-size=\"14.00\">0</text>\n</g>\n<!-- 4&#45;&gt;5 -->\n<g id=\"edge24\" class=\"edge\">\n<title>4&#45;&gt;5</title>\n<path fill=\"none\" stroke=\"black\" d=\"M825.74,-100.32C817.34,-160.39 790.36,-322.24 743.6,-322.24 223.6,-322.24 223.6,-322.24 223.6,-322.24 183.23,-322.24 157.05,-191.02 147.11,-130.35\"/>\n<polygon fill=\"black\" stroke=\"black\" points=\"150.04,-129.85 145.76,-121.93 144.17,-130.79 150.04,-129.85\"/>\n<text text-anchor=\"middle\" x=\"481.6\" y=\"-326.04\" font-family=\"Times,serif\" font-size=\"14.00\">0</text>\n</g>\n<!-- 4&#45;&gt;8 -->\n<g id=\"edge25\" class=\"edge\">\n<title>4&#45;&gt;8</title>\n<path fill=\"none\" stroke=\"black\" d=\"M815.35,-60.84C808.56,-53.34 799.61,-45.36 789.6,-41.24 784.56,-39.16 778.94,-38.13 773.4,-37.72\"/>\n<polygon fill=\"black\" stroke=\"black\" points=\"773.43,-34.74 764.87,-37.53 773.3,-40.69 773.43,-34.74\"/>\n<text text-anchor=\"middle\" x=\"786.1\" y=\"-45.04\" font-family=\"Times,serif\" font-size=\"14.00\">1</text>\n</g>\n</g>\n</svg>\n",
            "text/plain": [
              "<AGraph <Swig Object of type 'Agraph_t *' at 0x7f528f6e7840>>"
            ]
          },
          "metadata": {},
          "execution_count": 42
        }
      ],
      "source": [
        "fa.show_diagram()"
      ]
    },
    {
      "cell_type": "code",
      "execution_count": 43,
      "metadata": {
        "colab": {
          "base_uri": "https://localhost:8080/"
        },
        "id": "7h4dVVTpeCvu",
        "outputId": "210e757f-ee62-4cf0-c486-297c7f75e7b7"
      },
      "outputs": [
        {
          "output_type": "execute_result",
          "data": {
            "text/plain": [
              "(True, False, True)"
            ]
          },
          "metadata": {},
          "execution_count": 43
        }
      ],
      "source": [
        "'0010' in fa1, '0010' in fa2, '0010' in fa"
      ]
    },
    {
      "cell_type": "markdown",
      "metadata": {
        "id": "Y1SZMem_aVcH"
      },
      "source": [
        "## Union and Intersection of automatons"
      ]
    },
    {
      "cell_type": "markdown",
      "metadata": {
        "id": "yVbcPGqTeCvu"
      },
      "source": [
        "* The following code verifies that words of length 5 and below accepted by `fa1 & fa2` are also accepted by `fa1 | fa2`"
      ]
    },
    {
      "cell_type": "code",
      "execution_count": 44,
      "metadata": {
        "colab": {
          "base_uri": "https://localhost:8080/"
        },
        "id": "ZudPanrieCvu",
        "outputId": "60c451b1-e00e-4876-a1c7-bf28547a26c2"
      },
      "outputs": [
        {
          "output_type": "stream",
          "name": "stdout",
          "text": [
            "     001  True\n",
            "     100  True\n",
            "    0001  True\n",
            "    0011  True\n",
            "   00011  True\n",
            "   00101  True\n",
            "   01001  True\n",
            "   01100  True\n",
            "   10001  True\n",
            "   10011  True\n",
            "   10100  True\n",
            "   11001  True\n"
          ]
        }
      ],
      "source": [
        "intersection = fa1 & fa2\n",
        "union = fa1 | fa2\n",
        "\n",
        "for w in intersection:\n",
        "    if len(w)>5:\n",
        "        break\n",
        "    print(f\"{w:>8}  {w in union}\")"
      ]
    },
    {
      "cell_type": "markdown",
      "metadata": {
        "id": "x8AgtFi1eCvu"
      },
      "source": [
        "## Minimal Automata"
      ]
    },
    {
      "cell_type": "code",
      "execution_count": 45,
      "metadata": {
        "id": "85wuYzsCeCvv"
      },
      "outputs": [],
      "source": [
        "minfa = fa1.minify()"
      ]
    },
    {
      "cell_type": "code",
      "execution_count": 46,
      "metadata": {
        "colab": {
          "base_uri": "https://localhost:8080/",
          "height": 190
        },
        "id": "sP4wioHMeCvv",
        "outputId": "3553809a-0256-4ebc-d397-13bce561e8b7"
      },
      "outputs": [
        {
          "output_type": "execute_result",
          "data": {
            "image/svg+xml": "<?xml version=\"1.0\" encoding=\"UTF-8\" standalone=\"no\"?>\n<!DOCTYPE svg PUBLIC \"-//W3C//DTD SVG 1.1//EN\"\n \"http://www.w3.org/Graphics/SVG/1.1/DTD/svg11.dtd\">\n<!-- Generated by graphviz version 2.43.0 (0)\n -->\n<!-- Pages: 1 -->\n<svg width=\"354pt\" height=\"126pt\"\n viewBox=\"0.00 0.00 353.59 125.92\" xmlns=\"http://www.w3.org/2000/svg\" xmlns:xlink=\"http://www.w3.org/1999/xlink\">\n<g id=\"graph0\" class=\"graph\" transform=\"scale(1 1) rotate(0) translate(4 121.92)\">\n<polygon fill=\"white\" stroke=\"transparent\" points=\"-4,4 -4,-121.92 349.59,-121.92 349.59,4 -4,4\"/>\n<!-- 813d0f53&#45;61a6&#45;40dd&#45;99c9&#45;2a3b9772f2f1 -->\n<g id=\"node1\" class=\"node\">\n<title>813d0f53&#45;61a6&#45;40dd&#45;99c9&#45;2a3b9772f2f1</title>\n<g id=\"a_node1\"><a xlink:title=\".\">\n<ellipse fill=\"black\" stroke=\"black\" cx=\"1.8\" cy=\"-21.43\" rx=\"1.8\" ry=\"1.8\"/>\n</a>\n</g>\n</g>\n<!-- q0 -->\n<g id=\"node2\" class=\"node\">\n<title>q0</title>\n<ellipse fill=\"none\" stroke=\"black\" cx=\"60.1\" cy=\"-21.43\" rx=\"19.5\" ry=\"19.5\"/>\n<text text-anchor=\"middle\" x=\"60.1\" y=\"-17.73\" font-family=\"Times,serif\" font-size=\"14.00\">q0</text>\n</g>\n<!-- 813d0f53&#45;61a6&#45;40dd&#45;99c9&#45;2a3b9772f2f1&#45;&gt;q0 -->\n<g id=\"edge1\" class=\"edge\">\n<title>813d0f53&#45;61a6&#45;40dd&#45;99c9&#45;2a3b9772f2f1&#45;&gt;q0</title>\n<g id=\"a_edge1\"><a xlink:title=\"&#45;&gt;q0\">\n<path fill=\"none\" stroke=\"black\" d=\"M3.78,-21.43C7.28,-21.43 19.64,-21.43 31.78,-21.43\"/>\n<polygon fill=\"black\" stroke=\"black\" points=\"31.96,-24.4 40.46,-21.43 31.96,-18.45 31.96,-24.4\"/>\n</a>\n</g>\n</g>\n<!-- q0&#45;&gt;q0 -->\n<g id=\"edge2\" class=\"edge\">\n<title>q0&#45;&gt;q0</title>\n<path fill=\"none\" stroke=\"black\" d=\"M53.63,-39.95C52.53,-49.88 54.68,-58.93 60.1,-58.93 63.82,-58.93 66,-54.65 66.65,-48.75\"/>\n<polygon fill=\"black\" stroke=\"black\" points=\"69.62,-48.42 66.57,-39.95 63.67,-48.48 69.62,-48.42\"/>\n<text text-anchor=\"middle\" x=\"60.1\" y=\"-62.73\" font-family=\"Times,serif\" font-size=\"14.00\">1</text>\n</g>\n<!-- q1 -->\n<g id=\"node3\" class=\"node\">\n<title>q1</title>\n<ellipse fill=\"none\" stroke=\"black\" cx=\"142.09\" cy=\"-21.43\" rx=\"19.5\" ry=\"19.5\"/>\n<text text-anchor=\"middle\" x=\"142.09\" y=\"-17.73\" font-family=\"Times,serif\" font-size=\"14.00\">q1</text>\n</g>\n<!-- q0&#45;&gt;q1 -->\n<g id=\"edge3\" class=\"edge\">\n<title>q0&#45;&gt;q1</title>\n<path fill=\"none\" stroke=\"black\" d=\"M79.65,-21.43C89.78,-21.43 102.5,-21.43 113.75,-21.43\"/>\n<polygon fill=\"black\" stroke=\"black\" points=\"113.86,-24.4 122.36,-21.43 113.86,-18.45 113.86,-24.4\"/>\n<text text-anchor=\"middle\" x=\"101.1\" y=\"-25.23\" font-family=\"Times,serif\" font-size=\"14.00\">0</text>\n</g>\n<!-- q1&#45;&gt;q0 -->\n<g id=\"edge4\" class=\"edge\">\n<title>q1&#45;&gt;q0</title>\n<path fill=\"none\" stroke=\"black\" d=\"M126.24,-9.55C118.04,-4.38 107.52,0 97.6,-2.43 93.2,-3.5 88.74,-5.21 84.52,-7.17\"/>\n<polygon fill=\"black\" stroke=\"black\" points=\"82.98,-4.62 76.79,-11.16 85.71,-9.91 82.98,-4.62\"/>\n<text text-anchor=\"middle\" x=\"101.1\" y=\"-6.23\" font-family=\"Times,serif\" font-size=\"14.00\">1</text>\n</g>\n<!-- q2 -->\n<g id=\"node4\" class=\"node\">\n<title>q2</title>\n<ellipse fill=\"none\" stroke=\"black\" cx=\"228.09\" cy=\"-61.43\" rx=\"23.5\" ry=\"23.5\"/>\n<ellipse fill=\"none\" stroke=\"black\" cx=\"228.09\" cy=\"-61.43\" rx=\"27.5\" ry=\"27.5\"/>\n<text text-anchor=\"middle\" x=\"228.09\" y=\"-57.73\" font-family=\"Times,serif\" font-size=\"14.00\">q2</text>\n</g>\n<!-- q1&#45;&gt;q2 -->\n<g id=\"edge5\" class=\"edge\">\n<title>q1&#45;&gt;q2</title>\n<path fill=\"none\" stroke=\"black\" d=\"M160.09,-29.52C171.21,-34.82 186,-41.86 198.85,-47.98\"/>\n<polygon fill=\"black\" stroke=\"black\" points=\"197.61,-50.68 206.56,-51.65 200.16,-45.31 197.61,-50.68\"/>\n<text text-anchor=\"middle\" x=\"183.09\" y=\"-45.23\" font-family=\"Times,serif\" font-size=\"14.00\">0</text>\n</g>\n<!-- q2&#45;&gt;q2 -->\n<g id=\"edge6\" class=\"edge\">\n<title>q2&#45;&gt;q2</title>\n<path fill=\"none\" stroke=\"black\" d=\"M220,-83.63C219.12,-93.93 221.82,-102.92 228.09,-102.92 232.5,-102.92 235.14,-98.48 236.02,-92.26\"/>\n<polygon fill=\"black\" stroke=\"black\" points=\"239,-92.18 236.18,-83.63 233.05,-92.07 239,-92.18\"/>\n<text text-anchor=\"middle\" x=\"228.09\" y=\"-106.72\" font-family=\"Times,serif\" font-size=\"14.00\">1</text>\n</g>\n<!-- q3 -->\n<g id=\"node5\" class=\"node\">\n<title>q3</title>\n<ellipse fill=\"none\" stroke=\"black\" cx=\"318.09\" cy=\"-38.43\" rx=\"23.5\" ry=\"23.5\"/>\n<ellipse fill=\"none\" stroke=\"black\" cx=\"318.09\" cy=\"-38.43\" rx=\"27.5\" ry=\"27.5\"/>\n<text text-anchor=\"middle\" x=\"318.09\" y=\"-34.73\" font-family=\"Times,serif\" font-size=\"14.00\">q3</text>\n</g>\n<!-- q2&#45;&gt;q3 -->\n<g id=\"edge7\" class=\"edge\">\n<title>q2&#45;&gt;q3</title>\n<path fill=\"none\" stroke=\"black\" d=\"M251.54,-59.2C259.53,-58.12 268.54,-56.58 276.59,-54.43 280.39,-53.41 284.32,-52.15 288.17,-50.78\"/>\n<polygon fill=\"black\" stroke=\"black\" points=\"289.49,-53.46 296.38,-47.67 287.38,-47.9 289.49,-53.46\"/>\n<text text-anchor=\"middle\" x=\"273.09\" y=\"-59.23\" font-family=\"Times,serif\" font-size=\"14.00\">0</text>\n</g>\n<!-- q3&#45;&gt;q1 -->\n<g id=\"edge8\" class=\"edge\">\n<title>q3&#45;&gt;q1</title>\n<path fill=\"none\" stroke=\"black\" d=\"M296.37,-28.71C283.74,-23.33 267.09,-17.18 251.59,-14.43 223.98,-9.53 191.89,-12.67 169.81,-16.17\"/>\n<polygon fill=\"black\" stroke=\"black\" points=\"169.17,-13.27 161.29,-17.62 170.17,-19.13 169.17,-13.27\"/>\n<text text-anchor=\"middle\" x=\"228.09\" y=\"-18.23\" font-family=\"Times,serif\" font-size=\"14.00\">0</text>\n</g>\n<!-- q3&#45;&gt;q2 -->\n<g id=\"edge9\" class=\"edge\">\n<title>q3&#45;&gt;q2</title>\n<path fill=\"none\" stroke=\"black\" d=\"M294.98,-33.9C286.86,-33.05 277.68,-33.06 269.59,-35.43 264.33,-36.97 259.1,-39.43 254.24,-42.24\"/>\n<polygon fill=\"black\" stroke=\"black\" points=\"252.54,-39.79 246.95,-46.85 255.72,-44.82 252.54,-39.79\"/>\n<text text-anchor=\"middle\" x=\"273.09\" y=\"-39.23\" font-family=\"Times,serif\" font-size=\"14.00\">1</text>\n</g>\n</g>\n</svg>\n",
            "text/plain": [
              "<AGraph <Swig Object of type 'Agraph_t *' at 0x7f528f6e7030>>"
            ]
          },
          "metadata": {},
          "execution_count": 46
        }
      ],
      "source": [
        "fa1.show_diagram()"
      ]
    },
    {
      "cell_type": "code",
      "source": [
        "minfa.show_diagram()"
      ],
      "metadata": {
        "colab": {
          "base_uri": "https://localhost:8080/",
          "height": 187
        },
        "id": "fgLa4qkxTC0B",
        "outputId": "5a272906-b38b-4526-c9a5-ef29ed57bf1f"
      },
      "execution_count": 47,
      "outputs": [
        {
          "output_type": "execute_result",
          "data": {
            "image/svg+xml": "<?xml version=\"1.0\" encoding=\"UTF-8\" standalone=\"no\"?>\n<!DOCTYPE svg PUBLIC \"-//W3C//DTD SVG 1.1//EN\"\n \"http://www.w3.org/Graphics/SVG/1.1/DTD/svg11.dtd\">\n<!-- Generated by graphviz version 2.43.0 (0)\n -->\n<!-- Pages: 1 -->\n<svg width=\"342pt\" height=\"124pt\"\n viewBox=\"0.00 0.00 341.60 123.56\" xmlns=\"http://www.w3.org/2000/svg\" xmlns:xlink=\"http://www.w3.org/1999/xlink\">\n<g id=\"graph0\" class=\"graph\" transform=\"scale(1 1) rotate(0) translate(4 119.56)\">\n<polygon fill=\"white\" stroke=\"transparent\" points=\"-4,4 -4,-119.56 337.6,-119.56 337.6,4 -4,4\"/>\n<!-- 71721d87&#45;1558&#45;44b2&#45;9829&#45;4fae9c119a10 -->\n<g id=\"node1\" class=\"node\">\n<title>71721d87&#45;1558&#45;44b2&#45;9829&#45;4fae9c119a10</title>\n<g id=\"a_node1\"><a xlink:title=\".\">\n<ellipse fill=\"black\" stroke=\"black\" cx=\"1.8\" cy=\"-21.56\" rx=\"1.8\" ry=\"1.8\"/>\n</a>\n</g>\n</g>\n<!-- 0 -->\n<g id=\"node2\" class=\"node\">\n<title>0</title>\n<ellipse fill=\"none\" stroke=\"black\" cx=\"58.6\" cy=\"-21.56\" rx=\"18\" ry=\"18\"/>\n<text text-anchor=\"middle\" x=\"58.6\" y=\"-17.86\" font-family=\"Times,serif\" font-size=\"14.00\">0</text>\n</g>\n<!-- 71721d87&#45;1558&#45;44b2&#45;9829&#45;4fae9c119a10&#45;&gt;0 -->\n<g id=\"edge1\" class=\"edge\">\n<title>71721d87&#45;1558&#45;44b2&#45;9829&#45;4fae9c119a10&#45;&gt;0</title>\n<g id=\"a_edge1\"><a xlink:title=\"&#45;&gt;0\">\n<path fill=\"none\" stroke=\"black\" d=\"M3.75,-21.56C7.25,-21.56 19.84,-21.56 31.96,-21.56\"/>\n<polygon fill=\"black\" stroke=\"black\" points=\"32.08,-24.54 40.58,-21.56 32.07,-18.59 32.08,-24.54\"/>\n</a>\n</g>\n</g>\n<!-- 0&#45;&gt;0 -->\n<g id=\"edge2\" class=\"edge\">\n<title>0&#45;&gt;0</title>\n<path fill=\"none\" stroke=\"black\" d=\"M52.22,-38.6C50.92,-48.42 53.05,-57.56 58.6,-57.56 62.42,-57.56 64.62,-53.24 65.19,-47.35\"/>\n<polygon fill=\"black\" stroke=\"black\" points=\"68.16,-47.02 64.98,-38.6 62.21,-47.17 68.16,-47.02\"/>\n<text text-anchor=\"middle\" x=\"58.6\" y=\"-61.36\" font-family=\"Times,serif\" font-size=\"14.00\">1</text>\n</g>\n<!-- 2 -->\n<g id=\"node3\" class=\"node\">\n<title>2</title>\n<ellipse fill=\"none\" stroke=\"black\" cx=\"137.6\" cy=\"-21.56\" rx=\"18\" ry=\"18\"/>\n<text text-anchor=\"middle\" x=\"137.6\" y=\"-17.86\" font-family=\"Times,serif\" font-size=\"14.00\">2</text>\n</g>\n<!-- 0&#45;&gt;2 -->\n<g id=\"edge3\" class=\"edge\">\n<title>0&#45;&gt;2</title>\n<path fill=\"none\" stroke=\"black\" d=\"M76.69,-21.56C86.76,-21.56 99.69,-21.56 110.96,-21.56\"/>\n<polygon fill=\"black\" stroke=\"black\" points=\"111.06,-24.54 119.56,-21.56 111.06,-18.59 111.06,-24.54\"/>\n<text text-anchor=\"middle\" x=\"98.1\" y=\"-25.36\" font-family=\"Times,serif\" font-size=\"14.00\">0</text>\n</g>\n<!-- 2&#45;&gt;0 -->\n<g id=\"edge4\" class=\"edge\">\n<title>2&#45;&gt;0</title>\n<path fill=\"none\" stroke=\"black\" d=\"M123.42,-10.42C115.36,-4.94 104.68,0 94.6,-2.56 90.19,-3.68 85.73,-5.48 81.55,-7.54\"/>\n<polygon fill=\"black\" stroke=\"black\" points=\"79.95,-5.02 73.91,-11.7 82.8,-10.24 79.95,-5.02\"/>\n<text text-anchor=\"middle\" x=\"98.1\" y=\"-6.36\" font-family=\"Times,serif\" font-size=\"14.00\">1</text>\n</g>\n<!-- 3 -->\n<g id=\"node4\" class=\"node\">\n<title>3</title>\n<ellipse fill=\"none\" stroke=\"black\" cx=\"220.6\" cy=\"-60.56\" rx=\"22\" ry=\"22\"/>\n<ellipse fill=\"none\" stroke=\"black\" cx=\"220.6\" cy=\"-60.56\" rx=\"26\" ry=\"26\"/>\n<text text-anchor=\"middle\" x=\"220.6\" y=\"-56.86\" font-family=\"Times,serif\" font-size=\"14.00\">3</text>\n</g>\n<!-- 2&#45;&gt;3 -->\n<g id=\"edge5\" class=\"edge\">\n<title>2&#45;&gt;3</title>\n<path fill=\"none\" stroke=\"black\" d=\"M154.22,-29.08C165,-34.27 179.63,-41.32 192.32,-47.43\"/>\n<polygon fill=\"black\" stroke=\"black\" points=\"191.36,-50.27 200.31,-51.28 193.94,-44.91 191.36,-50.27\"/>\n<text text-anchor=\"middle\" x=\"177.1\" y=\"-44.36\" font-family=\"Times,serif\" font-size=\"14.00\">0</text>\n</g>\n<!-- 3&#45;&gt;3 -->\n<g id=\"edge6\" class=\"edge\">\n<title>3&#45;&gt;3</title>\n<path fill=\"none\" stroke=\"black\" d=\"M212.92,-81.55C211.97,-91.65 214.53,-100.56 220.6,-100.56 224.77,-100.56 227.29,-96.35 228.14,-90.43\"/>\n<polygon fill=\"black\" stroke=\"black\" points=\"231.12,-90.1 228.28,-81.55 225.17,-90 231.12,-90.1\"/>\n<text text-anchor=\"middle\" x=\"220.6\" y=\"-104.36\" font-family=\"Times,serif\" font-size=\"14.00\">1</text>\n</g>\n<!-- 1 -->\n<g id=\"node5\" class=\"node\">\n<title>1</title>\n<ellipse fill=\"none\" stroke=\"black\" cx=\"307.6\" cy=\"-38.56\" rx=\"22\" ry=\"22\"/>\n<ellipse fill=\"none\" stroke=\"black\" cx=\"307.6\" cy=\"-38.56\" rx=\"26\" ry=\"26\"/>\n<text text-anchor=\"middle\" x=\"307.6\" y=\"-34.86\" font-family=\"Times,serif\" font-size=\"14.00\">1</text>\n</g>\n<!-- 3&#45;&gt;1 -->\n<g id=\"edge7\" class=\"edge\">\n<title>3&#45;&gt;1</title>\n<path fill=\"none\" stroke=\"black\" d=\"M242.89,-58.95C250.74,-58.05 259.66,-56.67 267.6,-54.56 271.55,-53.51 275.63,-52.16 279.6,-50.69\"/>\n<polygon fill=\"black\" stroke=\"black\" points=\"280.7,-53.45 287.5,-47.55 278.5,-47.92 280.7,-53.45\"/>\n<text text-anchor=\"middle\" x=\"264.1\" y=\"-59.36\" font-family=\"Times,serif\" font-size=\"14.00\">0</text>\n</g>\n<!-- 1&#45;&gt;2 -->\n<g id=\"edge8\" class=\"edge\">\n<title>1&#45;&gt;2</title>\n<path fill=\"none\" stroke=\"black\" d=\"M287.51,-29.34C275.05,-23.84 258.25,-17.4 242.6,-14.56 215.96,-9.73 184.93,-12.94 163.75,-16.44\"/>\n<polygon fill=\"black\" stroke=\"black\" points=\"163.16,-13.52 155.31,-17.93 164.2,-19.38 163.16,-13.52\"/>\n<text text-anchor=\"middle\" x=\"220.6\" y=\"-18.36\" font-family=\"Times,serif\" font-size=\"14.00\">0</text>\n</g>\n<!-- 1&#45;&gt;3 -->\n<g id=\"edge9\" class=\"edge\">\n<title>1&#45;&gt;3</title>\n<path fill=\"none\" stroke=\"black\" d=\"M285.24,-36.96C277.38,-36.9 268.48,-37.48 260.6,-39.56 256.05,-40.76 251.44,-42.59 247.06,-44.68\"/>\n<polygon fill=\"black\" stroke=\"black\" points=\"245.65,-42.06 239.5,-48.63 248.41,-47.33 245.65,-42.06\"/>\n<text text-anchor=\"middle\" x=\"264.1\" y=\"-43.36\" font-family=\"Times,serif\" font-size=\"14.00\">1</text>\n</g>\n</g>\n</svg>\n",
            "text/plain": [
              "<AGraph <Swig Object of type 'Agraph_t *' at 0x7f528f7ccf30>>"
            ]
          },
          "metadata": {},
          "execution_count": 47
        }
      ]
    },
    {
      "cell_type": "markdown",
      "metadata": {
        "id": "ptCaQlKeeCvv"
      },
      "source": [
        "## Automata Equivalence\n",
        "* The `==` operator checks if two automata are equivalent.\n",
        "* The following check shows that `fa4` and `fa5` are equivalent!\n",
        "* But `fa1` and `fa2` are not."
      ]
    },
    {
      "cell_type": "code",
      "execution_count": 48,
      "metadata": {
        "colab": {
          "base_uri": "https://localhost:8080/"
        },
        "id": "4XZGwWM8eCvv",
        "outputId": "b6f5db16-159e-440f-9909-f269fa95eea0"
      },
      "outputs": [
        {
          "output_type": "execute_result",
          "data": {
            "text/plain": [
              "True"
            ]
          },
          "metadata": {},
          "execution_count": 48
        }
      ],
      "source": [
        "fa4 == fa5"
      ]
    },
    {
      "cell_type": "code",
      "execution_count": 49,
      "metadata": {
        "colab": {
          "base_uri": "https://localhost:8080/"
        },
        "id": "n2bcRzV8eCvv",
        "outputId": "e5a2ac97-38b1-4c17-9066-c2600737d944"
      },
      "outputs": [
        {
          "output_type": "execute_result",
          "data": {
            "text/plain": [
              "False"
            ]
          },
          "metadata": {},
          "execution_count": 49
        }
      ],
      "source": [
        "fa1 == fa2"
      ]
    },
    {
      "cell_type": "code",
      "execution_count": 50,
      "metadata": {
        "colab": {
          "base_uri": "https://localhost:8080/"
        },
        "id": "AFLFUV4YeCvw",
        "outputId": "8ef4d737-3c6a-40da-a0ca-6edd4745c2c6"
      },
      "outputs": [
        {
          "output_type": "execute_result",
          "data": {
            "text/plain": [
              "True"
            ]
          },
          "metadata": {},
          "execution_count": 50
        }
      ],
      "source": [
        "A = fa4.words_of_lengths(3,7)\n",
        "B = fa5.words_of_lengths(3,7)\n",
        "A == B"
      ]
    },
    {
      "cell_type": "code",
      "execution_count": 51,
      "metadata": {
        "id": "PRzYraWmeCvw"
      },
      "outputs": [],
      "source": [
        "fa = fa1 & fa2"
      ]
    },
    {
      "cell_type": "code",
      "execution_count": 52,
      "metadata": {
        "colab": {
          "base_uri": "https://localhost:8080/",
          "height": 459
        },
        "id": "qlvgdrnNeCvw",
        "outputId": "a3d79e71-b6ac-4fdc-cfe6-2eb850e6a0d8"
      },
      "outputs": [
        {
          "output_type": "execute_result",
          "data": {
            "image/svg+xml": "<?xml version=\"1.0\" encoding=\"UTF-8\" standalone=\"no\"?>\n<!DOCTYPE svg PUBLIC \"-//W3C//DTD SVG 1.1//EN\"\n \"http://www.w3.org/Graphics/SVG/1.1/DTD/svg11.dtd\">\n<!-- Generated by graphviz version 2.43.0 (0)\n -->\n<!-- Pages: 1 -->\n<svg width=\"818pt\" height=\"328pt\"\n viewBox=\"0.00 0.00 817.59 328.00\" xmlns=\"http://www.w3.org/2000/svg\" xmlns:xlink=\"http://www.w3.org/1999/xlink\">\n<g id=\"graph0\" class=\"graph\" transform=\"scale(1 1) rotate(0) translate(4 324)\">\n<polygon fill=\"white\" stroke=\"transparent\" points=\"-4,4 -4,-324 813.59,-324 813.59,4 -4,4\"/>\n<!-- ecc08236&#45;4415&#45;4f4f&#45;b458&#45;a99f018159f8 -->\n<g id=\"node1\" class=\"node\">\n<title>ecc08236&#45;4415&#45;4f4f&#45;b458&#45;a99f018159f8</title>\n<g id=\"a_node1\"><a xlink:title=\".\">\n<ellipse fill=\"black\" stroke=\"black\" cx=\"1.8\" cy=\"-129\" rx=\"1.8\" ry=\"1.8\"/>\n</a>\n</g>\n</g>\n<!-- 8 -->\n<g id=\"node2\" class=\"node\">\n<title>8</title>\n<ellipse fill=\"none\" stroke=\"black\" cx=\"58.6\" cy=\"-129\" rx=\"18\" ry=\"18\"/>\n<text text-anchor=\"middle\" x=\"58.6\" y=\"-125.3\" font-family=\"Times,serif\" font-size=\"14.00\">8</text>\n</g>\n<!-- ecc08236&#45;4415&#45;4f4f&#45;b458&#45;a99f018159f8&#45;&gt;8 -->\n<g id=\"edge1\" class=\"edge\">\n<title>ecc08236&#45;4415&#45;4f4f&#45;b458&#45;a99f018159f8&#45;&gt;8</title>\n<g id=\"a_edge1\"><a xlink:title=\"&#45;&gt;8\">\n<path fill=\"none\" stroke=\"black\" d=\"M3.75,-129C7.25,-129 19.84,-129 31.96,-129\"/>\n<polygon fill=\"black\" stroke=\"black\" points=\"32.08,-131.98 40.58,-129 32.07,-126.03 32.08,-131.98\"/>\n</a>\n</g>\n</g>\n<!-- 6 -->\n<g id=\"node3\" class=\"node\">\n<title>6</title>\n<ellipse fill=\"none\" stroke=\"black\" cx=\"137.6\" cy=\"-189\" rx=\"18\" ry=\"18\"/>\n<text text-anchor=\"middle\" x=\"137.6\" y=\"-185.3\" font-family=\"Times,serif\" font-size=\"14.00\">6</text>\n</g>\n<!-- 8&#45;&gt;6 -->\n<g id=\"edge2\" class=\"edge\">\n<title>8&#45;&gt;6</title>\n<path fill=\"none\" stroke=\"black\" d=\"M73.37,-139.73C85.19,-148.94 102.42,-162.36 115.9,-172.87\"/>\n<polygon fill=\"black\" stroke=\"black\" points=\"114.42,-175.49 122.95,-178.37 118.08,-170.8 114.42,-175.49\"/>\n<text text-anchor=\"middle\" x=\"98.1\" y=\"-163.8\" font-family=\"Times,serif\" font-size=\"14.00\">0</text>\n</g>\n<!-- 7 -->\n<g id=\"node4\" class=\"node\">\n<title>7</title>\n<ellipse fill=\"none\" stroke=\"black\" cx=\"298.6\" cy=\"-109\" rx=\"18\" ry=\"18\"/>\n<text text-anchor=\"middle\" x=\"298.6\" y=\"-105.3\" font-family=\"Times,serif\" font-size=\"14.00\">7</text>\n</g>\n<!-- 8&#45;&gt;7 -->\n<g id=\"edge3\" class=\"edge\">\n<title>8&#45;&gt;7</title>\n<path fill=\"none\" stroke=\"black\" d=\"M76.72,-127.56C117.97,-124.09 223.08,-115.26 271.92,-111.16\"/>\n<polygon fill=\"black\" stroke=\"black\" points=\"272.42,-114.1 280.64,-110.43 271.92,-108.17 272.42,-114.1\"/>\n<text text-anchor=\"middle\" x=\"177.1\" y=\"-123.8\" font-family=\"Times,serif\" font-size=\"14.00\">1</text>\n</g>\n<!-- 10 -->\n<g id=\"node5\" class=\"node\">\n<title>10</title>\n<ellipse fill=\"none\" stroke=\"black\" cx=\"218.1\" cy=\"-213\" rx=\"19.5\" ry=\"19.5\"/>\n<text text-anchor=\"middle\" x=\"218.1\" y=\"-209.3\" font-family=\"Times,serif\" font-size=\"14.00\">10</text>\n</g>\n<!-- 6&#45;&gt;10 -->\n<g id=\"edge4\" class=\"edge\">\n<title>6&#45;&gt;10</title>\n<path fill=\"none\" stroke=\"black\" d=\"M155.25,-194.09C165.6,-197.26 179.15,-201.4 190.92,-205\"/>\n<polygon fill=\"black\" stroke=\"black\" points=\"190.11,-207.86 199.11,-207.5 191.85,-202.17 190.11,-207.86\"/>\n<text text-anchor=\"middle\" x=\"177.1\" y=\"-204.8\" font-family=\"Times,serif\" font-size=\"14.00\">1</text>\n</g>\n<!-- 5 -->\n<g id=\"node6\" class=\"node\">\n<title>5</title>\n<ellipse fill=\"none\" stroke=\"black\" cx=\"535.6\" cy=\"-157\" rx=\"18\" ry=\"18\"/>\n<text text-anchor=\"middle\" x=\"535.6\" y=\"-153.3\" font-family=\"Times,serif\" font-size=\"14.00\">5</text>\n</g>\n<!-- 6&#45;&gt;5 -->\n<g id=\"edge5\" class=\"edge\">\n<title>6&#45;&gt;5</title>\n<path fill=\"none\" stroke=\"black\" d=\"M152.94,-179.23C168.15,-169.81 193.26,-157 217.1,-157 217.1,-157 217.1,-157 457.6,-157 474.64,-157 493.82,-157 508.77,-157\"/>\n<polygon fill=\"black\" stroke=\"black\" points=\"508.97,-159.98 517.47,-157 508.97,-154.03 508.97,-159.98\"/>\n<text text-anchor=\"middle\" x=\"338.1\" y=\"-160.8\" font-family=\"Times,serif\" font-size=\"14.00\">0</text>\n</g>\n<!-- 0 -->\n<g id=\"node7\" class=\"node\">\n<title>0</title>\n<ellipse fill=\"none\" stroke=\"black\" cx=\"377.6\" cy=\"-210\" rx=\"18\" ry=\"18\"/>\n<text text-anchor=\"middle\" x=\"377.6\" y=\"-206.3\" font-family=\"Times,serif\" font-size=\"14.00\">0</text>\n</g>\n<!-- 7&#45;&gt;0 -->\n<g id=\"edge6\" class=\"edge\">\n<title>7&#45;&gt;0</title>\n<path fill=\"none\" stroke=\"black\" d=\"M316.85,-109.92C325.19,-111.19 334.84,-113.98 341.6,-120 359.91,-136.33 368.72,-163.4 372.91,-183.59\"/>\n<polygon fill=\"black\" stroke=\"black\" points=\"370,-184.24 374.49,-192.05 375.85,-183.15 370,-184.24\"/>\n<text text-anchor=\"middle\" x=\"338.1\" y=\"-123.8\" font-family=\"Times,serif\" font-size=\"14.00\">1</text>\n</g>\n<!-- 4 -->\n<g id=\"node8\" class=\"node\">\n<title>4</title>\n<ellipse fill=\"none\" stroke=\"black\" cx=\"377.6\" cy=\"-18\" rx=\"18\" ry=\"18\"/>\n<text text-anchor=\"middle\" x=\"377.6\" y=\"-14.3\" font-family=\"Times,serif\" font-size=\"14.00\">4</text>\n</g>\n<!-- 7&#45;&gt;4 -->\n<g id=\"edge7\" class=\"edge\">\n<title>7&#45;&gt;4</title>\n<path fill=\"none\" stroke=\"black\" d=\"M303.22,-91.59C307.71,-74.19 317.03,-47.82 334.6,-32 339.2,-27.85 345.07,-24.93 350.95,-22.87\"/>\n<polygon fill=\"black\" stroke=\"black\" points=\"352.08,-25.64 359.43,-20.43 350.44,-19.92 352.08,-25.64\"/>\n<text text-anchor=\"middle\" x=\"338.1\" y=\"-35.8\" font-family=\"Times,serif\" font-size=\"14.00\">0</text>\n</g>\n<!-- 10&#45;&gt;7 -->\n<g id=\"edge8\" class=\"edge\">\n<title>10&#45;&gt;7</title>\n<path fill=\"none\" stroke=\"black\" d=\"M230.68,-197.65C244.2,-179.74 266.64,-150.01 281.76,-129.98\"/>\n<polygon fill=\"black\" stroke=\"black\" points=\"284.23,-131.65 286.97,-123.07 279.48,-128.07 284.23,-131.65\"/>\n<text text-anchor=\"middle\" x=\"259.1\" y=\"-167.8\" font-family=\"Times,serif\" font-size=\"14.00\">1</text>\n</g>\n<!-- 9 -->\n<g id=\"node9\" class=\"node\">\n<title>9</title>\n<ellipse fill=\"none\" stroke=\"black\" cx=\"456.6\" cy=\"-210\" rx=\"18\" ry=\"18\"/>\n<text text-anchor=\"middle\" x=\"456.6\" y=\"-206.3\" font-family=\"Times,serif\" font-size=\"14.00\">9</text>\n</g>\n<!-- 10&#45;&gt;9 -->\n<g id=\"edge9\" class=\"edge\">\n<title>10&#45;&gt;9</title>\n<path fill=\"none\" stroke=\"black\" d=\"M236.35,-219.88C242.36,-222.08 249.21,-224.37 255.6,-226 316.06,-241.47 333.93,-246.63 395.6,-237 408.86,-234.93 422.58,-229.07 433.55,-223.34\"/>\n<polygon fill=\"black\" stroke=\"black\" points=\"434.99,-225.95 441.01,-219.25 432.13,-220.73 434.99,-225.95\"/>\n<text text-anchor=\"middle\" x=\"338.1\" y=\"-244.8\" font-family=\"Times,serif\" font-size=\"14.00\">0</text>\n</g>\n<!-- 2 -->\n<g id=\"node10\" class=\"node\">\n<title>2</title>\n<ellipse fill=\"none\" stroke=\"black\" cx=\"618.6\" cy=\"-161\" rx=\"22\" ry=\"22\"/>\n<ellipse fill=\"none\" stroke=\"black\" cx=\"618.6\" cy=\"-161\" rx=\"26\" ry=\"26\"/>\n<text text-anchor=\"middle\" x=\"618.6\" y=\"-157.3\" font-family=\"Times,serif\" font-size=\"14.00\">2</text>\n</g>\n<!-- 5&#45;&gt;2 -->\n<g id=\"edge10\" class=\"edge\">\n<title>5&#45;&gt;2</title>\n<path fill=\"none\" stroke=\"black\" d=\"M553.77,-157.85C563.59,-158.33 576.19,-158.96 587.59,-159.52\"/>\n<polygon fill=\"black\" stroke=\"black\" points=\"587.78,-162.51 596.41,-159.95 588.06,-156.56 587.78,-162.51\"/>\n<text text-anchor=\"middle\" x=\"575.1\" y=\"-162.8\" font-family=\"Times,serif\" font-size=\"14.00\">1</text>\n</g>\n<!-- 11 -->\n<g id=\"node11\" class=\"node\">\n<title>11</title>\n<ellipse fill=\"none\" stroke=\"black\" cx=\"790.09\" cy=\"-146\" rx=\"19.5\" ry=\"19.5\"/>\n<text text-anchor=\"middle\" x=\"790.09\" y=\"-142.3\" font-family=\"Times,serif\" font-size=\"14.00\">11</text>\n</g>\n<!-- 5&#45;&gt;11 -->\n<g id=\"edge11\" class=\"edge\">\n<title>5&#45;&gt;11</title>\n<path fill=\"none\" stroke=\"black\" d=\"M548.53,-143.95C555.13,-136.94 563.59,-128.27 571.6,-121 611.83,-84.48 629.96,-80.7 683.6,-72 702.9,-68.87 709.89,-63.69 727.6,-72 749.1,-82.09 765.69,-103.81 776.19,-121.12\"/>\n<polygon fill=\"black\" stroke=\"black\" points=\"773.75,-122.85 780.59,-128.71 778.9,-119.86 773.75,-122.85\"/>\n<text text-anchor=\"middle\" x=\"662.1\" y=\"-80.8\" font-family=\"Times,serif\" font-size=\"14.00\">0</text>\n</g>\n<!-- 0&#45;&gt;10 -->\n<g id=\"edge12\" class=\"edge\">\n<title>0&#45;&gt;10</title>\n<path fill=\"none\" stroke=\"black\" d=\"M359.38,-210.33C332.13,-210.85 278.84,-211.86 246.35,-212.48\"/>\n<polygon fill=\"black\" stroke=\"black\" points=\"246.22,-209.51 237.78,-212.64 246.33,-215.46 246.22,-209.51\"/>\n<text text-anchor=\"middle\" x=\"298.6\" y=\"-214.8\" font-family=\"Times,serif\" font-size=\"14.00\">1</text>\n</g>\n<!-- 0&#45;&gt;9 -->\n<g id=\"edge13\" class=\"edge\">\n<title>0&#45;&gt;9</title>\n<path fill=\"none\" stroke=\"black\" d=\"M395.69,-210C405.75,-210 418.69,-210 429.96,-210\"/>\n<polygon fill=\"black\" stroke=\"black\" points=\"430.06,-212.98 438.56,-210 430.06,-207.03 430.06,-212.98\"/>\n<text text-anchor=\"middle\" x=\"417.1\" y=\"-213.8\" font-family=\"Times,serif\" font-size=\"14.00\">0</text>\n</g>\n<!-- 4&#45;&gt;7 -->\n<g id=\"edge14\" class=\"edge\">\n<title>4&#45;&gt;7</title>\n<path fill=\"none\" stroke=\"black\" d=\"M362.98,-29.23C354.36,-36.66 343.26,-46.87 334.6,-57 326.78,-66.14 319.2,-77.07 313.1,-86.55\"/>\n<polygon fill=\"black\" stroke=\"black\" points=\"310.56,-85 308.54,-93.78 315.59,-88.18 310.56,-85\"/>\n<text text-anchor=\"middle\" x=\"338.1\" y=\"-60.8\" font-family=\"Times,serif\" font-size=\"14.00\">1</text>\n</g>\n<!-- 1 -->\n<g id=\"node12\" class=\"node\">\n<title>1</title>\n<ellipse fill=\"none\" stroke=\"black\" cx=\"705.6\" cy=\"-103\" rx=\"22\" ry=\"22\"/>\n<ellipse fill=\"none\" stroke=\"black\" cx=\"705.6\" cy=\"-103\" rx=\"26\" ry=\"26\"/>\n<text text-anchor=\"middle\" x=\"705.6\" y=\"-99.3\" font-family=\"Times,serif\" font-size=\"14.00\">1</text>\n</g>\n<!-- 4&#45;&gt;1 -->\n<g id=\"edge15\" class=\"edge\">\n<title>4&#45;&gt;1</title>\n<path fill=\"none\" stroke=\"black\" d=\"M395.72,-16.95C411.31,-16.09 434.99,-15 455.6,-15 455.6,-15 455.6,-15 619.6,-15 653.67,-15 678.41,-49.55 692.14,-75.35\"/>\n<polygon fill=\"black\" stroke=\"black\" points=\"689.54,-76.81 696.05,-83.03 694.84,-74.11 689.54,-76.81\"/>\n<text text-anchor=\"middle\" x=\"535.6\" y=\"-18.8\" font-family=\"Times,serif\" font-size=\"14.00\">0</text>\n</g>\n<!-- 9&#45;&gt;7 -->\n<g id=\"edge16\" class=\"edge\">\n<title>9&#45;&gt;7</title>\n<path fill=\"none\" stroke=\"black\" d=\"M444.76,-196.17C426.32,-173.84 386.48,-130.49 341.6,-112 336.66,-109.97 331.12,-108.85 325.73,-108.29\"/>\n<polygon fill=\"black\" stroke=\"black\" points=\"325.57,-105.3 316.92,-107.82 325.25,-111.24 325.57,-105.3\"/>\n<text text-anchor=\"middle\" x=\"377.6\" y=\"-149.8\" font-family=\"Times,serif\" font-size=\"14.00\">1</text>\n</g>\n<!-- 9&#45;&gt;5 -->\n<g id=\"edge17\" class=\"edge\">\n<title>9&#45;&gt;5</title>\n<path fill=\"none\" stroke=\"black\" d=\"M472.08,-200.03C483.66,-192.06 500.07,-180.77 513.17,-171.75\"/>\n<polygon fill=\"black\" stroke=\"black\" points=\"515.12,-174.02 520.44,-166.75 511.75,-169.12 515.12,-174.02\"/>\n<text text-anchor=\"middle\" x=\"496.1\" y=\"-188.8\" font-family=\"Times,serif\" font-size=\"14.00\">0</text>\n</g>\n<!-- 2&#45;&gt;1 -->\n<g id=\"edge21\" class=\"edge\">\n<title>2&#45;&gt;1</title>\n<path fill=\"none\" stroke=\"black\" d=\"M636.48,-148.01C643.27,-142.9 651.22,-137.06 658.6,-132 665.09,-127.55 672.23,-122.92 678.91,-118.7\"/>\n<polygon fill=\"black\" stroke=\"black\" points=\"680.84,-121 686.48,-113.98 677.69,-115.95 680.84,-121\"/>\n<text text-anchor=\"middle\" x=\"662.1\" y=\"-135.8\" font-family=\"Times,serif\" font-size=\"14.00\">1</text>\n</g>\n<!-- 3 -->\n<g id=\"node13\" class=\"node\">\n<title>3</title>\n<ellipse fill=\"none\" stroke=\"black\" cx=\"705.6\" cy=\"-216\" rx=\"18\" ry=\"18\"/>\n<text text-anchor=\"middle\" x=\"705.6\" y=\"-212.3\" font-family=\"Times,serif\" font-size=\"14.00\">3</text>\n</g>\n<!-- 2&#45;&gt;3 -->\n<g id=\"edge20\" class=\"edge\">\n<title>2&#45;&gt;3</title>\n<path fill=\"none\" stroke=\"black\" d=\"M630.15,-179.88C636.92,-190.17 646.67,-202.17 658.6,-209 664.71,-212.5 671.99,-214.43 678.94,-215.45\"/>\n<polygon fill=\"black\" stroke=\"black\" points=\"678.7,-218.42 687.45,-216.3 679.29,-212.49 678.7,-218.42\"/>\n<text text-anchor=\"middle\" x=\"662.1\" y=\"-215.8\" font-family=\"Times,serif\" font-size=\"14.00\">0</text>\n</g>\n<!-- 11&#45;&gt;9 -->\n<g id=\"edge24\" class=\"edge\">\n<title>11&#45;&gt;9</title>\n<path fill=\"none\" stroke=\"black\" d=\"M784.9,-164.9C776.37,-197.77 753.67,-262 706.6,-262 534.6,-262 534.6,-262 534.6,-262 510.82,-262 488.89,-244.76 474.57,-230.13\"/>\n<polygon fill=\"black\" stroke=\"black\" points=\"476.51,-227.85 468.54,-223.66 472.16,-231.91 476.51,-227.85\"/>\n<text text-anchor=\"middle\" x=\"618.6\" y=\"-265.8\" font-family=\"Times,serif\" font-size=\"14.00\">0</text>\n</g>\n<!-- 11&#45;&gt;2 -->\n<g id=\"edge25\" class=\"edge\">\n<title>11&#45;&gt;2</title>\n<path fill=\"none\" stroke=\"black\" d=\"M770.31,-147.66C741.08,-150.25 684.43,-155.26 649.52,-158.35\"/>\n<polygon fill=\"black\" stroke=\"black\" points=\"648.92,-155.42 640.72,-159.13 649.45,-161.34 648.92,-155.42\"/>\n<text text-anchor=\"middle\" x=\"705.6\" y=\"-158.8\" font-family=\"Times,serif\" font-size=\"14.00\">1</text>\n</g>\n<!-- 1&#45;&gt;5 -->\n<g id=\"edge22\" class=\"edge\">\n<title>1&#45;&gt;5</title>\n<path fill=\"none\" stroke=\"black\" d=\"M683.58,-102.3C661.29,-102.25 625.37,-104.15 596.6,-115 581.76,-120.6 567.14,-130.7 556.05,-139.6\"/>\n<polygon fill=\"black\" stroke=\"black\" points=\"553.94,-137.49 549.3,-145.21 557.74,-142.06 553.94,-137.49\"/>\n<text text-anchor=\"middle\" x=\"618.6\" y=\"-118.8\" font-family=\"Times,serif\" font-size=\"14.00\">1</text>\n</g>\n<!-- 1&#45;&gt;11 -->\n<g id=\"edge23\" class=\"edge\">\n<title>1&#45;&gt;11</title>\n<path fill=\"none\" stroke=\"black\" d=\"M725.32,-112.76C736.94,-118.81 752,-126.67 764.57,-133.22\"/>\n<polygon fill=\"black\" stroke=\"black\" points=\"763.5,-136.02 772.41,-137.3 766.24,-130.74 763.5,-136.02\"/>\n<text text-anchor=\"middle\" x=\"749.1\" y=\"-129.8\" font-family=\"Times,serif\" font-size=\"14.00\">0</text>\n</g>\n<!-- 3&#45;&gt;6 -->\n<g id=\"edge18\" class=\"edge\">\n<title>3&#45;&gt;6</title>\n<path fill=\"none\" stroke=\"black\" d=\"M697.92,-232.32C686.2,-258.02 659.34,-305 619.6,-305 217.1,-305 217.1,-305 217.1,-305 174.02,-305 152.97,-249.44 144.09,-215.22\"/>\n<polygon fill=\"black\" stroke=\"black\" points=\"146.9,-214.18 142,-206.62 141.12,-215.58 146.9,-214.18\"/>\n<text text-anchor=\"middle\" x=\"417.1\" y=\"-308.8\" font-family=\"Times,serif\" font-size=\"14.00\">0</text>\n</g>\n<!-- 3&#45;&gt;2 -->\n<g id=\"edge19\" class=\"edge\">\n<title>3&#45;&gt;2</title>\n<path fill=\"none\" stroke=\"black\" d=\"M689.98,-206.55C677.63,-198.55 659.66,-186.92 644.96,-177.41\"/>\n<polygon fill=\"black\" stroke=\"black\" points=\"646.37,-174.78 637.62,-172.66 643.14,-179.78 646.37,-174.78\"/>\n<text text-anchor=\"middle\" x=\"662.1\" y=\"-193.8\" font-family=\"Times,serif\" font-size=\"14.00\">1</text>\n</g>\n</g>\n</svg>\n",
            "text/plain": [
              "<AGraph <Swig Object of type 'Agraph_t *' at 0x7f528f7cf0c0>>"
            ]
          },
          "metadata": {},
          "execution_count": 52
        }
      ],
      "source": [
        "fa.show_diagram()"
      ]
    },
    {
      "cell_type": "code",
      "execution_count": 53,
      "metadata": {
        "colab": {
          "base_uri": "https://localhost:8080/"
        },
        "id": "M-tzIafPeCvw",
        "outputId": "26c5255f-30bd-40f8-e8c3-ea0098b80995"
      },
      "outputs": [
        {
          "output_type": "stream",
          "name": "stdout",
          "text": [
            "  100101  accepted by fa: True\n",
            "     100  accepted by fa: True\n",
            "   00101  accepted by fa: True\n",
            "   10011  accepted by fa: True\n",
            "   11001  accepted by fa: True\n",
            "  010100  accepted by fa: True\n",
            "  010001  accepted by fa: True\n",
            "   10100  accepted by fa: True\n",
            "  010011  accepted by fa: True\n",
            "  000001  accepted by fa: True\n",
            "     001  accepted by fa: True\n",
            "  110011  accepted by fa: True\n",
            "  100111  accepted by fa: True\n",
            "  111001  accepted by fa: True\n",
            "  100011  accepted by fa: True\n",
            "  001011  accepted by fa: True\n",
            "  110001  accepted by fa: True\n",
            "   10001  accepted by fa: True\n",
            "  110100  accepted by fa: True\n",
            "   00011  accepted by fa: True\n",
            "    0011  accepted by fa: True\n",
            "   01001  accepted by fa: True\n",
            "  001111  accepted by fa: True\n",
            "   01100  accepted by fa: True\n",
            "  001101  accepted by fa: True\n",
            "  111100  accepted by fa: True\n",
            "  000101  accepted by fa: True\n",
            "    0001  accepted by fa: True\n"
          ]
        }
      ],
      "source": [
        "fa = fa1 & fa2\n",
        "A = fa1.words_of_lengths(3,6)\n",
        "B = fa2.words_of_lengths(3,6)\n",
        "C = set(A) & set(B)\n",
        "for w in C:\n",
        "    print(f\"{w:>8}  accepted by fa: {w in fa}\")"
      ]
    },
    {
      "cell_type": "code",
      "execution_count": 54,
      "metadata": {
        "id": "TJUDhPi7eCvx"
      },
      "outputs": [],
      "source": [
        "fa7 = DFA.of_length(['0','1'], min_length=4, max_length=5)"
      ]
    },
    {
      "cell_type": "code",
      "execution_count": 55,
      "metadata": {
        "colab": {
          "base_uri": "https://localhost:8080/"
        },
        "id": "J-PK2YjieCvx",
        "outputId": "bf35725f-f79a-4f99-fee6-e135d64b5bff"
      },
      "outputs": [
        {
          "output_type": "execute_result",
          "data": {
            "text/plain": [
              "48"
            ]
          },
          "metadata": {},
          "execution_count": 55
        }
      ],
      "source": [
        "len(fa7)"
      ]
    },
    {
      "cell_type": "code",
      "execution_count": 56,
      "metadata": {
        "colab": {
          "base_uri": "https://localhost:8080/",
          "height": 135
        },
        "id": "1Qpk1RtbeCvx",
        "outputId": "67cbd715-ca70-4e9e-e5ec-a23d72e40a5b"
      },
      "outputs": [
        {
          "output_type": "execute_result",
          "data": {
            "image/svg+xml": "<?xml version=\"1.0\" encoding=\"UTF-8\" standalone=\"no\"?>\n<!DOCTYPE svg PUBLIC \"-//W3C//DTD SVG 1.1//EN\"\n \"http://www.w3.org/Graphics/SVG/1.1/DTD/svg11.dtd\">\n<!-- Generated by graphviz version 2.43.0 (0)\n -->\n<!-- Pages: 1 -->\n<svg width=\"641pt\" height=\"85pt\"\n viewBox=\"0.00 0.00 640.60 85.00\" xmlns=\"http://www.w3.org/2000/svg\" xmlns:xlink=\"http://www.w3.org/1999/xlink\">\n<g id=\"graph0\" class=\"graph\" transform=\"scale(1 1) rotate(0) translate(4 81)\">\n<polygon fill=\"white\" stroke=\"transparent\" points=\"-4,4 -4,-81 636.6,-81 636.6,4 -4,4\"/>\n<!-- 536ae254&#45;7b65&#45;4ef7&#45;a2d5&#45;bc7aa32a6707 -->\n<g id=\"node1\" class=\"node\">\n<title>536ae254&#45;7b65&#45;4ef7&#45;a2d5&#45;bc7aa32a6707</title>\n<g id=\"a_node1\"><a xlink:title=\".\">\n<ellipse fill=\"black\" stroke=\"black\" cx=\"1.8\" cy=\"-26\" rx=\"1.8\" ry=\"1.8\"/>\n</a>\n</g>\n</g>\n<!-- 0 -->\n<g id=\"node2\" class=\"node\">\n<title>0</title>\n<ellipse fill=\"none\" stroke=\"black\" cx=\"58.6\" cy=\"-26\" rx=\"18\" ry=\"18\"/>\n<text text-anchor=\"middle\" x=\"58.6\" y=\"-22.3\" font-family=\"Times,serif\" font-size=\"14.00\">0</text>\n</g>\n<!-- 536ae254&#45;7b65&#45;4ef7&#45;a2d5&#45;bc7aa32a6707&#45;&gt;0 -->\n<g id=\"edge1\" class=\"edge\">\n<title>536ae254&#45;7b65&#45;4ef7&#45;a2d5&#45;bc7aa32a6707&#45;&gt;0</title>\n<g id=\"a_edge1\"><a xlink:title=\"&#45;&gt;0\">\n<path fill=\"none\" stroke=\"black\" d=\"M3.75,-26C7.25,-26 19.84,-26 31.96,-26\"/>\n<polygon fill=\"black\" stroke=\"black\" points=\"32.08,-28.98 40.58,-26 32.07,-23.03 32.08,-28.98\"/>\n</a>\n</g>\n</g>\n<!-- 1 -->\n<g id=\"node3\" class=\"node\">\n<title>1</title>\n<ellipse fill=\"none\" stroke=\"black\" cx=\"148.6\" cy=\"-26\" rx=\"18\" ry=\"18\"/>\n<text text-anchor=\"middle\" x=\"148.6\" y=\"-22.3\" font-family=\"Times,serif\" font-size=\"14.00\">1</text>\n</g>\n<!-- 0&#45;&gt;1 -->\n<g id=\"edge2\" class=\"edge\">\n<title>0&#45;&gt;1</title>\n<path fill=\"none\" stroke=\"black\" d=\"M76.99,-26C89.84,-26 107.56,-26 122.03,-26\"/>\n<polygon fill=\"black\" stroke=\"black\" points=\"122.05,-28.98 130.55,-26 122.05,-23.03 122.05,-28.98\"/>\n<text text-anchor=\"middle\" x=\"103.6\" y=\"-29.8\" font-family=\"Times,serif\" font-size=\"14.00\">0,1</text>\n</g>\n<!-- 2 -->\n<g id=\"node4\" class=\"node\">\n<title>2</title>\n<ellipse fill=\"none\" stroke=\"black\" cx=\"238.6\" cy=\"-26\" rx=\"18\" ry=\"18\"/>\n<text text-anchor=\"middle\" x=\"238.6\" y=\"-22.3\" font-family=\"Times,serif\" font-size=\"14.00\">2</text>\n</g>\n<!-- 1&#45;&gt;2 -->\n<g id=\"edge3\" class=\"edge\">\n<title>1&#45;&gt;2</title>\n<path fill=\"none\" stroke=\"black\" d=\"M166.99,-26C179.84,-26 197.56,-26 212.03,-26\"/>\n<polygon fill=\"black\" stroke=\"black\" points=\"212.05,-28.98 220.55,-26 212.05,-23.03 212.05,-28.98\"/>\n<text text-anchor=\"middle\" x=\"193.6\" y=\"-29.8\" font-family=\"Times,serif\" font-size=\"14.00\">0,1</text>\n</g>\n<!-- 3 -->\n<g id=\"node5\" class=\"node\">\n<title>3</title>\n<ellipse fill=\"none\" stroke=\"black\" cx=\"328.6\" cy=\"-26\" rx=\"18\" ry=\"18\"/>\n<text text-anchor=\"middle\" x=\"328.6\" y=\"-22.3\" font-family=\"Times,serif\" font-size=\"14.00\">3</text>\n</g>\n<!-- 2&#45;&gt;3 -->\n<g id=\"edge4\" class=\"edge\">\n<title>2&#45;&gt;3</title>\n<path fill=\"none\" stroke=\"black\" d=\"M256.99,-26C269.84,-26 287.56,-26 302.03,-26\"/>\n<polygon fill=\"black\" stroke=\"black\" points=\"302.05,-28.98 310.55,-26 302.05,-23.03 302.05,-28.98\"/>\n<text text-anchor=\"middle\" x=\"283.6\" y=\"-29.8\" font-family=\"Times,serif\" font-size=\"14.00\">0,1</text>\n</g>\n<!-- 4 -->\n<g id=\"node6\" class=\"node\">\n<title>4</title>\n<ellipse fill=\"none\" stroke=\"black\" cx=\"422.6\" cy=\"-26\" rx=\"22\" ry=\"22\"/>\n<ellipse fill=\"none\" stroke=\"black\" cx=\"422.6\" cy=\"-26\" rx=\"26\" ry=\"26\"/>\n<text text-anchor=\"middle\" x=\"422.6\" y=\"-22.3\" font-family=\"Times,serif\" font-size=\"14.00\">4</text>\n</g>\n<!-- 3&#45;&gt;4 -->\n<g id=\"edge5\" class=\"edge\">\n<title>3&#45;&gt;4</title>\n<path fill=\"none\" stroke=\"black\" d=\"M346.9,-26C359.49,-26 376.85,-26 391.67,-26\"/>\n<polygon fill=\"black\" stroke=\"black\" points=\"392,-28.98 400.5,-26 392,-23.03 392,-28.98\"/>\n<text text-anchor=\"middle\" x=\"373.6\" y=\"-29.8\" font-family=\"Times,serif\" font-size=\"14.00\">0,1</text>\n</g>\n<!-- 5 -->\n<g id=\"node7\" class=\"node\">\n<title>5</title>\n<ellipse fill=\"none\" stroke=\"black\" cx=\"520.6\" cy=\"-26\" rx=\"22\" ry=\"22\"/>\n<ellipse fill=\"none\" stroke=\"black\" cx=\"520.6\" cy=\"-26\" rx=\"26\" ry=\"26\"/>\n<text text-anchor=\"middle\" x=\"520.6\" y=\"-22.3\" font-family=\"Times,serif\" font-size=\"14.00\">5</text>\n</g>\n<!-- 4&#45;&gt;5 -->\n<g id=\"edge6\" class=\"edge\">\n<title>4&#45;&gt;5</title>\n<path fill=\"none\" stroke=\"black\" d=\"M444.91,-26C458.08,-26 475.19,-26 489.71,-26\"/>\n<polygon fill=\"black\" stroke=\"black\" points=\"489.85,-28.98 498.35,-26 489.85,-23.03 489.85,-28.98\"/>\n<text text-anchor=\"middle\" x=\"471.6\" y=\"-29.8\" font-family=\"Times,serif\" font-size=\"14.00\">0,1</text>\n</g>\n<!-- 6 -->\n<g id=\"node8\" class=\"node\">\n<title>6</title>\n<ellipse fill=\"none\" stroke=\"black\" cx=\"614.6\" cy=\"-26\" rx=\"18\" ry=\"18\"/>\n<text text-anchor=\"middle\" x=\"614.6\" y=\"-22.3\" font-family=\"Times,serif\" font-size=\"14.00\">6</text>\n</g>\n<!-- 5&#45;&gt;6 -->\n<g id=\"edge7\" class=\"edge\">\n<title>5&#45;&gt;6</title>\n<path fill=\"none\" stroke=\"black\" d=\"M542.94,-26C556.26,-26 573.51,-26 587.62,-26\"/>\n<polygon fill=\"black\" stroke=\"black\" points=\"587.88,-28.98 596.38,-26 587.88,-23.03 587.88,-28.98\"/>\n<text text-anchor=\"middle\" x=\"569.6\" y=\"-29.8\" font-family=\"Times,serif\" font-size=\"14.00\">0,1</text>\n</g>\n<!-- 6&#45;&gt;6 -->\n<g id=\"edge8\" class=\"edge\">\n<title>6&#45;&gt;6</title>\n<path fill=\"none\" stroke=\"black\" d=\"M606.93,-42.29C605.08,-52.39 607.64,-62 614.6,-62 619.49,-62 622.21,-57.25 622.75,-50.92\"/>\n<polygon fill=\"black\" stroke=\"black\" points=\"625.71,-50.61 622.27,-42.29 619.77,-50.94 625.71,-50.61\"/>\n<text text-anchor=\"middle\" x=\"614.6\" y=\"-65.8\" font-family=\"Times,serif\" font-size=\"14.00\">0,1</text>\n</g>\n</g>\n</svg>\n",
            "text/plain": [
              "<AGraph <Swig Object of type 'Agraph_t *' at 0x7f528f7cd980>>"
            ]
          },
          "metadata": {},
          "execution_count": 56
        }
      ],
      "source": [
        "fa7.show_diagram()"
      ]
    },
    {
      "cell_type": "code",
      "execution_count": 57,
      "metadata": {
        "id": "aWq7KtgfeCvx"
      },
      "outputs": [],
      "source": [
        "fa8 = DFA.of_length(['0','1'], min_length=3, max_length=5)"
      ]
    },
    {
      "cell_type": "code",
      "execution_count": 58,
      "metadata": {
        "colab": {
          "base_uri": "https://localhost:8080/",
          "height": 135
        },
        "id": "G011jlpaeCvx",
        "outputId": "ae4cbe77-f345-4aaa-d8d5-f8838458f45e"
      },
      "outputs": [
        {
          "output_type": "execute_result",
          "data": {
            "image/svg+xml": "<?xml version=\"1.0\" encoding=\"UTF-8\" standalone=\"no\"?>\n<!DOCTYPE svg PUBLIC \"-//W3C//DTD SVG 1.1//EN\"\n \"http://www.w3.org/Graphics/SVG/1.1/DTD/svg11.dtd\">\n<!-- Generated by graphviz version 2.43.0 (0)\n -->\n<!-- Pages: 1 -->\n<svg width=\"649pt\" height=\"85pt\"\n viewBox=\"0.00 0.00 648.60 85.00\" xmlns=\"http://www.w3.org/2000/svg\" xmlns:xlink=\"http://www.w3.org/1999/xlink\">\n<g id=\"graph0\" class=\"graph\" transform=\"scale(1 1) rotate(0) translate(4 81)\">\n<polygon fill=\"white\" stroke=\"transparent\" points=\"-4,4 -4,-81 644.6,-81 644.6,4 -4,4\"/>\n<!-- e72b87cc&#45;fc06&#45;4d39&#45;b18d&#45;870fa6722b62 -->\n<g id=\"node1\" class=\"node\">\n<title>e72b87cc&#45;fc06&#45;4d39&#45;b18d&#45;870fa6722b62</title>\n<g id=\"a_node1\"><a xlink:title=\".\">\n<ellipse fill=\"black\" stroke=\"black\" cx=\"1.8\" cy=\"-26\" rx=\"1.8\" ry=\"1.8\"/>\n</a>\n</g>\n</g>\n<!-- 0 -->\n<g id=\"node2\" class=\"node\">\n<title>0</title>\n<ellipse fill=\"none\" stroke=\"black\" cx=\"58.6\" cy=\"-26\" rx=\"18\" ry=\"18\"/>\n<text text-anchor=\"middle\" x=\"58.6\" y=\"-22.3\" font-family=\"Times,serif\" font-size=\"14.00\">0</text>\n</g>\n<!-- e72b87cc&#45;fc06&#45;4d39&#45;b18d&#45;870fa6722b62&#45;&gt;0 -->\n<g id=\"edge1\" class=\"edge\">\n<title>e72b87cc&#45;fc06&#45;4d39&#45;b18d&#45;870fa6722b62&#45;&gt;0</title>\n<g id=\"a_edge1\"><a xlink:title=\"&#45;&gt;0\">\n<path fill=\"none\" stroke=\"black\" d=\"M3.75,-26C7.25,-26 19.84,-26 31.96,-26\"/>\n<polygon fill=\"black\" stroke=\"black\" points=\"32.08,-28.98 40.58,-26 32.07,-23.03 32.08,-28.98\"/>\n</a>\n</g>\n</g>\n<!-- 1 -->\n<g id=\"node3\" class=\"node\">\n<title>1</title>\n<ellipse fill=\"none\" stroke=\"black\" cx=\"148.6\" cy=\"-26\" rx=\"18\" ry=\"18\"/>\n<text text-anchor=\"middle\" x=\"148.6\" y=\"-22.3\" font-family=\"Times,serif\" font-size=\"14.00\">1</text>\n</g>\n<!-- 0&#45;&gt;1 -->\n<g id=\"edge2\" class=\"edge\">\n<title>0&#45;&gt;1</title>\n<path fill=\"none\" stroke=\"black\" d=\"M76.99,-26C89.84,-26 107.56,-26 122.03,-26\"/>\n<polygon fill=\"black\" stroke=\"black\" points=\"122.05,-28.98 130.55,-26 122.05,-23.03 122.05,-28.98\"/>\n<text text-anchor=\"middle\" x=\"103.6\" y=\"-29.8\" font-family=\"Times,serif\" font-size=\"14.00\">0,1</text>\n</g>\n<!-- 2 -->\n<g id=\"node4\" class=\"node\">\n<title>2</title>\n<ellipse fill=\"none\" stroke=\"black\" cx=\"238.6\" cy=\"-26\" rx=\"18\" ry=\"18\"/>\n<text text-anchor=\"middle\" x=\"238.6\" y=\"-22.3\" font-family=\"Times,serif\" font-size=\"14.00\">2</text>\n</g>\n<!-- 1&#45;&gt;2 -->\n<g id=\"edge3\" class=\"edge\">\n<title>1&#45;&gt;2</title>\n<path fill=\"none\" stroke=\"black\" d=\"M166.99,-26C179.84,-26 197.56,-26 212.03,-26\"/>\n<polygon fill=\"black\" stroke=\"black\" points=\"212.05,-28.98 220.55,-26 212.05,-23.03 212.05,-28.98\"/>\n<text text-anchor=\"middle\" x=\"193.6\" y=\"-29.8\" font-family=\"Times,serif\" font-size=\"14.00\">0,1</text>\n</g>\n<!-- 3 -->\n<g id=\"node5\" class=\"node\">\n<title>3</title>\n<ellipse fill=\"none\" stroke=\"black\" cx=\"332.6\" cy=\"-26\" rx=\"22\" ry=\"22\"/>\n<ellipse fill=\"none\" stroke=\"black\" cx=\"332.6\" cy=\"-26\" rx=\"26\" ry=\"26\"/>\n<text text-anchor=\"middle\" x=\"332.6\" y=\"-22.3\" font-family=\"Times,serif\" font-size=\"14.00\">3</text>\n</g>\n<!-- 2&#45;&gt;3 -->\n<g id=\"edge4\" class=\"edge\">\n<title>2&#45;&gt;3</title>\n<path fill=\"none\" stroke=\"black\" d=\"M256.9,-26C269.49,-26 286.85,-26 301.67,-26\"/>\n<polygon fill=\"black\" stroke=\"black\" points=\"302,-28.98 310.5,-26 302,-23.03 302,-28.98\"/>\n<text text-anchor=\"middle\" x=\"283.6\" y=\"-29.8\" font-family=\"Times,serif\" font-size=\"14.00\">0,1</text>\n</g>\n<!-- 4 -->\n<g id=\"node6\" class=\"node\">\n<title>4</title>\n<ellipse fill=\"none\" stroke=\"black\" cx=\"430.6\" cy=\"-26\" rx=\"22\" ry=\"22\"/>\n<ellipse fill=\"none\" stroke=\"black\" cx=\"430.6\" cy=\"-26\" rx=\"26\" ry=\"26\"/>\n<text text-anchor=\"middle\" x=\"430.6\" y=\"-22.3\" font-family=\"Times,serif\" font-size=\"14.00\">4</text>\n</g>\n<!-- 3&#45;&gt;4 -->\n<g id=\"edge5\" class=\"edge\">\n<title>3&#45;&gt;4</title>\n<path fill=\"none\" stroke=\"black\" d=\"M354.91,-26C368.08,-26 385.19,-26 399.71,-26\"/>\n<polygon fill=\"black\" stroke=\"black\" points=\"399.85,-28.98 408.35,-26 399.85,-23.03 399.85,-28.98\"/>\n<text text-anchor=\"middle\" x=\"381.6\" y=\"-29.8\" font-family=\"Times,serif\" font-size=\"14.00\">0,1</text>\n</g>\n<!-- 5 -->\n<g id=\"node7\" class=\"node\">\n<title>5</title>\n<ellipse fill=\"none\" stroke=\"black\" cx=\"528.6\" cy=\"-26\" rx=\"22\" ry=\"22\"/>\n<ellipse fill=\"none\" stroke=\"black\" cx=\"528.6\" cy=\"-26\" rx=\"26\" ry=\"26\"/>\n<text text-anchor=\"middle\" x=\"528.6\" y=\"-22.3\" font-family=\"Times,serif\" font-size=\"14.00\">5</text>\n</g>\n<!-- 4&#45;&gt;5 -->\n<g id=\"edge6\" class=\"edge\">\n<title>4&#45;&gt;5</title>\n<path fill=\"none\" stroke=\"black\" d=\"M452.91,-26C466.08,-26 483.19,-26 497.71,-26\"/>\n<polygon fill=\"black\" stroke=\"black\" points=\"497.85,-28.98 506.35,-26 497.85,-23.03 497.85,-28.98\"/>\n<text text-anchor=\"middle\" x=\"479.6\" y=\"-29.8\" font-family=\"Times,serif\" font-size=\"14.00\">0,1</text>\n</g>\n<!-- 6 -->\n<g id=\"node8\" class=\"node\">\n<title>6</title>\n<ellipse fill=\"none\" stroke=\"black\" cx=\"622.6\" cy=\"-26\" rx=\"18\" ry=\"18\"/>\n<text text-anchor=\"middle\" x=\"622.6\" y=\"-22.3\" font-family=\"Times,serif\" font-size=\"14.00\">6</text>\n</g>\n<!-- 5&#45;&gt;6 -->\n<g id=\"edge8\" class=\"edge\">\n<title>5&#45;&gt;6</title>\n<path fill=\"none\" stroke=\"black\" d=\"M550.94,-26C564.26,-26 581.51,-26 595.62,-26\"/>\n<polygon fill=\"black\" stroke=\"black\" points=\"595.88,-28.98 604.38,-26 595.88,-23.03 595.88,-28.98\"/>\n<text text-anchor=\"middle\" x=\"577.6\" y=\"-29.8\" font-family=\"Times,serif\" font-size=\"14.00\">0,1</text>\n</g>\n<!-- 6&#45;&gt;6 -->\n<g id=\"edge7\" class=\"edge\">\n<title>6&#45;&gt;6</title>\n<path fill=\"none\" stroke=\"black\" d=\"M614.93,-42.29C613.08,-52.39 615.64,-62 622.6,-62 627.49,-62 630.21,-57.25 630.75,-50.92\"/>\n<polygon fill=\"black\" stroke=\"black\" points=\"633.71,-50.61 630.27,-42.29 627.77,-50.94 633.71,-50.61\"/>\n<text text-anchor=\"middle\" x=\"622.6\" y=\"-65.8\" font-family=\"Times,serif\" font-size=\"14.00\">0,1</text>\n</g>\n</g>\n</svg>\n",
            "text/plain": [
              "<AGraph <Swig Object of type 'Agraph_t *' at 0x7f52a40bf060>>"
            ]
          },
          "metadata": {},
          "execution_count": 58
        }
      ],
      "source": [
        "fa8.show_diagram()"
      ]
    },
    {
      "cell_type": "code",
      "execution_count": 59,
      "metadata": {
        "colab": {
          "base_uri": "https://localhost:8080/"
        },
        "id": "Wo1W2mBzeCvy",
        "outputId": "f11874da-a948-4f49-a466-17c8ce4d4645"
      },
      "outputs": [
        {
          "output_type": "execute_result",
          "data": {
            "text/plain": [
              "True"
            ]
          },
          "metadata": {},
          "execution_count": 59
        }
      ],
      "source": [
        "fa7 <= fa8"
      ]
    },
    {
      "cell_type": "code",
      "execution_count": 60,
      "metadata": {
        "colab": {
          "base_uri": "https://localhost:8080/"
        },
        "id": "KRU-ia9ueCvy",
        "outputId": "8f1d6679-9e41-48db-bee6-13c64aca6150"
      },
      "outputs": [
        {
          "output_type": "execute_result",
          "data": {
            "text/plain": [
              "True"
            ]
          },
          "metadata": {},
          "execution_count": 60
        }
      ],
      "source": [
        "fa7 < fa8"
      ]
    },
    {
      "cell_type": "code",
      "execution_count": 61,
      "metadata": {
        "colab": {
          "base_uri": "https://localhost:8080/"
        },
        "id": "iJjqv5lSeCvy",
        "outputId": "f5acdc5c-f08a-456c-e4b1-a9764132721b"
      },
      "outputs": [
        {
          "output_type": "execute_result",
          "data": {
            "text/plain": [
              "False"
            ]
          },
          "metadata": {},
          "execution_count": 61
        }
      ],
      "source": [
        "fa8 <= fa7"
      ]
    },
    {
      "cell_type": "markdown",
      "metadata": {
        "id": "COcNyJaCeCvz"
      },
      "source": [
        "## The complementary automata\n",
        "* The complement of a given automaton `fa1` is any automaton `fa2` which accepts\n",
        "  exactly all the words that are rejected by `fa1`.\n",
        "* In the autoama-lib package this is easily obtained by `f2 = ~ fa1`."
      ]
    },
    {
      "cell_type": "code",
      "execution_count": 62,
      "metadata": {
        "id": "8Luw_ma3eCvz"
      },
      "outputs": [],
      "source": [
        "fa9 = ~ fa8"
      ]
    },
    {
      "cell_type": "code",
      "execution_count": 63,
      "metadata": {
        "colab": {
          "base_uri": "https://localhost:8080/",
          "height": 140
        },
        "id": "ZcgamtCMeCvz",
        "outputId": "346bf750-42c4-4f5f-e90a-5be06d1805f3"
      },
      "outputs": [
        {
          "output_type": "execute_result",
          "data": {
            "image/svg+xml": "<?xml version=\"1.0\" encoding=\"UTF-8\" standalone=\"no\"?>\n<!DOCTYPE svg PUBLIC \"-//W3C//DTD SVG 1.1//EN\"\n \"http://www.w3.org/Graphics/SVG/1.1/DTD/svg11.dtd\">\n<!-- Generated by graphviz version 2.43.0 (0)\n -->\n<!-- Pages: 1 -->\n<svg width=\"661pt\" height=\"89pt\"\n viewBox=\"0.00 0.00 660.60 89.00\" xmlns=\"http://www.w3.org/2000/svg\" xmlns:xlink=\"http://www.w3.org/1999/xlink\">\n<g id=\"graph0\" class=\"graph\" transform=\"scale(1 1) rotate(0) translate(4 85)\">\n<polygon fill=\"white\" stroke=\"transparent\" points=\"-4,4 -4,-85 656.6,-85 656.6,4 -4,4\"/>\n<!-- 72b35335&#45;a972&#45;4dd3&#45;82cc&#45;50adb4a4380d -->\n<g id=\"node1\" class=\"node\">\n<title>72b35335&#45;a972&#45;4dd3&#45;82cc&#45;50adb4a4380d</title>\n<g id=\"a_node1\"><a xlink:title=\".\">\n<ellipse fill=\"black\" stroke=\"black\" cx=\"1.8\" cy=\"-26\" rx=\"1.8\" ry=\"1.8\"/>\n</a>\n</g>\n</g>\n<!-- 6 -->\n<g id=\"node2\" class=\"node\">\n<title>6</title>\n<ellipse fill=\"none\" stroke=\"black\" cx=\"62.6\" cy=\"-26\" rx=\"22\" ry=\"22\"/>\n<ellipse fill=\"none\" stroke=\"black\" cx=\"62.6\" cy=\"-26\" rx=\"26\" ry=\"26\"/>\n<text text-anchor=\"middle\" x=\"62.6\" y=\"-22.3\" font-family=\"Times,serif\" font-size=\"14.00\">6</text>\n</g>\n<!-- 72b35335&#45;a972&#45;4dd3&#45;82cc&#45;50adb4a4380d&#45;&gt;6 -->\n<g id=\"edge1\" class=\"edge\">\n<title>72b35335&#45;a972&#45;4dd3&#45;82cc&#45;50adb4a4380d&#45;&gt;6</title>\n<g id=\"a_edge1\"><a xlink:title=\"&#45;&gt;6\">\n<path fill=\"none\" stroke=\"black\" d=\"M3.82,-26C7.33,-26 19.36,-26 31.54,-26\"/>\n<polygon fill=\"black\" stroke=\"black\" points=\"31.82,-28.98 40.31,-26 31.81,-23.03 31.82,-28.98\"/>\n</a>\n</g>\n</g>\n<!-- 5 -->\n<g id=\"node3\" class=\"node\">\n<title>5</title>\n<ellipse fill=\"none\" stroke=\"black\" cx=\"160.6\" cy=\"-26\" rx=\"22\" ry=\"22\"/>\n<ellipse fill=\"none\" stroke=\"black\" cx=\"160.6\" cy=\"-26\" rx=\"26\" ry=\"26\"/>\n<text text-anchor=\"middle\" x=\"160.6\" y=\"-22.3\" font-family=\"Times,serif\" font-size=\"14.00\">5</text>\n</g>\n<!-- 6&#45;&gt;5 -->\n<g id=\"edge2\" class=\"edge\">\n<title>6&#45;&gt;5</title>\n<path fill=\"none\" stroke=\"black\" d=\"M84.91,-26C98.08,-26 115.19,-26 129.71,-26\"/>\n<polygon fill=\"black\" stroke=\"black\" points=\"129.85,-28.98 138.35,-26 129.85,-23.03 129.85,-28.98\"/>\n<text text-anchor=\"middle\" x=\"111.6\" y=\"-29.8\" font-family=\"Times,serif\" font-size=\"14.00\">0,1</text>\n</g>\n<!-- 1 -->\n<g id=\"node4\" class=\"node\">\n<title>1</title>\n<ellipse fill=\"none\" stroke=\"black\" cx=\"258.6\" cy=\"-26\" rx=\"22\" ry=\"22\"/>\n<ellipse fill=\"none\" stroke=\"black\" cx=\"258.6\" cy=\"-26\" rx=\"26\" ry=\"26\"/>\n<text text-anchor=\"middle\" x=\"258.6\" y=\"-22.3\" font-family=\"Times,serif\" font-size=\"14.00\">1</text>\n</g>\n<!-- 5&#45;&gt;1 -->\n<g id=\"edge3\" class=\"edge\">\n<title>5&#45;&gt;1</title>\n<path fill=\"none\" stroke=\"black\" d=\"M182.91,-26C196.08,-26 213.19,-26 227.71,-26\"/>\n<polygon fill=\"black\" stroke=\"black\" points=\"227.85,-28.98 236.35,-26 227.85,-23.03 227.85,-28.98\"/>\n<text text-anchor=\"middle\" x=\"209.6\" y=\"-29.8\" font-family=\"Times,serif\" font-size=\"14.00\">0,1</text>\n</g>\n<!-- 0 -->\n<g id=\"node5\" class=\"node\">\n<title>0</title>\n<ellipse fill=\"none\" stroke=\"black\" cx=\"352.6\" cy=\"-26\" rx=\"18\" ry=\"18\"/>\n<text text-anchor=\"middle\" x=\"352.6\" y=\"-22.3\" font-family=\"Times,serif\" font-size=\"14.00\">0</text>\n</g>\n<!-- 1&#45;&gt;0 -->\n<g id=\"edge4\" class=\"edge\">\n<title>1&#45;&gt;0</title>\n<path fill=\"none\" stroke=\"black\" d=\"M280.94,-26C294.26,-26 311.51,-26 325.62,-26\"/>\n<polygon fill=\"black\" stroke=\"black\" points=\"325.88,-28.98 334.38,-26 325.88,-23.03 325.88,-28.98\"/>\n<text text-anchor=\"middle\" x=\"307.6\" y=\"-29.8\" font-family=\"Times,serif\" font-size=\"14.00\">0,1</text>\n</g>\n<!-- 4 -->\n<g id=\"node6\" class=\"node\">\n<title>4</title>\n<ellipse fill=\"none\" stroke=\"black\" cx=\"442.6\" cy=\"-26\" rx=\"18\" ry=\"18\"/>\n<text text-anchor=\"middle\" x=\"442.6\" y=\"-22.3\" font-family=\"Times,serif\" font-size=\"14.00\">4</text>\n</g>\n<!-- 0&#45;&gt;4 -->\n<g id=\"edge5\" class=\"edge\">\n<title>0&#45;&gt;4</title>\n<path fill=\"none\" stroke=\"black\" d=\"M370.99,-26C383.84,-26 401.56,-26 416.03,-26\"/>\n<polygon fill=\"black\" stroke=\"black\" points=\"416.05,-28.98 424.55,-26 416.05,-23.03 416.05,-28.98\"/>\n<text text-anchor=\"middle\" x=\"397.6\" y=\"-29.8\" font-family=\"Times,serif\" font-size=\"14.00\">0,1</text>\n</g>\n<!-- 3 -->\n<g id=\"node7\" class=\"node\">\n<title>3</title>\n<ellipse fill=\"none\" stroke=\"black\" cx=\"532.6\" cy=\"-26\" rx=\"18\" ry=\"18\"/>\n<text text-anchor=\"middle\" x=\"532.6\" y=\"-22.3\" font-family=\"Times,serif\" font-size=\"14.00\">3</text>\n</g>\n<!-- 4&#45;&gt;3 -->\n<g id=\"edge6\" class=\"edge\">\n<title>4&#45;&gt;3</title>\n<path fill=\"none\" stroke=\"black\" d=\"M460.99,-26C473.84,-26 491.56,-26 506.03,-26\"/>\n<polygon fill=\"black\" stroke=\"black\" points=\"506.05,-28.98 514.55,-26 506.05,-23.03 506.05,-28.98\"/>\n<text text-anchor=\"middle\" x=\"487.6\" y=\"-29.8\" font-family=\"Times,serif\" font-size=\"14.00\">0,1</text>\n</g>\n<!-- 2 -->\n<g id=\"node8\" class=\"node\">\n<title>2</title>\n<ellipse fill=\"none\" stroke=\"black\" cx=\"626.6\" cy=\"-26\" rx=\"22\" ry=\"22\"/>\n<ellipse fill=\"none\" stroke=\"black\" cx=\"626.6\" cy=\"-26\" rx=\"26\" ry=\"26\"/>\n<text text-anchor=\"middle\" x=\"626.6\" y=\"-22.3\" font-family=\"Times,serif\" font-size=\"14.00\">2</text>\n</g>\n<!-- 3&#45;&gt;2 -->\n<g id=\"edge7\" class=\"edge\">\n<title>3&#45;&gt;2</title>\n<path fill=\"none\" stroke=\"black\" d=\"M550.9,-26C563.49,-26 580.85,-26 595.67,-26\"/>\n<polygon fill=\"black\" stroke=\"black\" points=\"596,-28.98 604.5,-26 596,-23.03 596,-28.98\"/>\n<text text-anchor=\"middle\" x=\"577.6\" y=\"-29.8\" font-family=\"Times,serif\" font-size=\"14.00\">0,1</text>\n</g>\n<!-- 2&#45;&gt;2 -->\n<g id=\"edge8\" class=\"edge\">\n<title>2&#45;&gt;2</title>\n<path fill=\"none\" stroke=\"black\" d=\"M617.87,-46.58C616.66,-56.84 619.57,-66 626.6,-66 631.54,-66 634.45,-61.47 635.32,-55.22\"/>\n<polygon fill=\"black\" stroke=\"black\" points=\"638.3,-55.08 635.33,-46.58 632.35,-55.08 638.3,-55.08\"/>\n<text text-anchor=\"middle\" x=\"626.6\" y=\"-69.8\" font-family=\"Times,serif\" font-size=\"14.00\">0,1</text>\n</g>\n</g>\n</svg>\n",
            "text/plain": [
              "<AGraph <Swig Object of type 'Agraph_t *' at 0x7f52a40be970>>"
            ]
          },
          "metadata": {},
          "execution_count": 63
        }
      ],
      "source": [
        "fa9.show_diagram()"
      ]
    },
    {
      "cell_type": "code",
      "execution_count": 64,
      "metadata": {
        "colab": {
          "base_uri": "https://localhost:8080/"
        },
        "id": "YPA9x0qseCvz",
        "outputId": "606b27c5-efd8-46f3-e089-fe0a2cb3125a"
      },
      "outputs": [
        {
          "output_type": "execute_result",
          "data": {
            "text/plain": [
              "(True, False)"
            ]
          },
          "metadata": {},
          "execution_count": 64
        }
      ],
      "source": [
        "'111' in fa8, '111' in fa9"
      ]
    },
    {
      "cell_type": "code",
      "execution_count": 65,
      "metadata": {
        "colab": {
          "base_uri": "https://localhost:8080/"
        },
        "id": "1HxFcrnoeCv0",
        "outputId": "0b260185-b7d2-445c-c9ff-f01194337ab8"
      },
      "outputs": [
        {
          "output_type": "execute_result",
          "data": {
            "text/plain": [
              "(False, True)"
            ]
          },
          "metadata": {},
          "execution_count": 65
        }
      ],
      "source": [
        "'111111' in fa8, '111111' in fa9"
      ]
    },
    {
      "cell_type": "markdown",
      "metadata": {
        "id": "I1RNFntfVgHV"
      },
      "source": [
        "## More on Minimal Automata"
      ]
    },
    {
      "cell_type": "code",
      "execution_count": 66,
      "metadata": {
        "id": "H2InBfks6sgr"
      },
      "outputs": [],
      "source": [
        "fa = DFA(\"\"\"\n",
        "states: q0 q1 q2 q3 q4 q5 q6 q7\n",
        "input_symbols: 0 1\n",
        "transitions:\n",
        "    q0:  0:q1  1:q5\n",
        "    q1:  0:q6  1:q2\n",
        "    q2:  0:q0  1:q2\n",
        "    q3:  0:q2  1:q6\n",
        "    q4:  0:q7  1:q5\n",
        "    q5:  0:q2  1:q6\n",
        "    q6:  0:q6  1:q4\n",
        "    q7:  0:q6  1:q2\n",
        "initial_state: q0\n",
        "final_states: q2\n",
        "\"\"\")"
      ]
    },
    {
      "cell_type": "code",
      "execution_count": 67,
      "metadata": {
        "colab": {
          "base_uri": "https://localhost:8080/",
          "height": 419
        },
        "id": "xYE7sNo_6sgr",
        "outputId": "b510ff0d-e85c-4387-b994-34b9a48ca64b"
      },
      "outputs": [
        {
          "output_type": "execute_result",
          "data": {
            "image/svg+xml": "<?xml version=\"1.0\" encoding=\"UTF-8\" standalone=\"no\"?>\n<!DOCTYPE svg PUBLIC \"-//W3C//DTD SVG 1.1//EN\"\n \"http://www.w3.org/Graphics/SVG/1.1/DTD/svg11.dtd\">\n<!-- Generated by graphviz version 2.43.0 (0)\n -->\n<!-- Pages: 1 -->\n<svg width=\"510pt\" height=\"298pt\"\n viewBox=\"0.00 0.00 509.58 298.00\" xmlns=\"http://www.w3.org/2000/svg\" xmlns:xlink=\"http://www.w3.org/1999/xlink\">\n<g id=\"graph0\" class=\"graph\" transform=\"scale(1 1) rotate(0) translate(4 294)\">\n<polygon fill=\"white\" stroke=\"transparent\" points=\"-4,4 -4,-294 505.58,-294 505.58,4 -4,4\"/>\n<!-- 19046acb&#45;5d9c&#45;4c75&#45;8c50&#45;9a0481518bab -->\n<g id=\"node1\" class=\"node\">\n<title>19046acb&#45;5d9c&#45;4c75&#45;8c50&#45;9a0481518bab</title>\n<g id=\"a_node1\"><a xlink:title=\".\">\n<ellipse fill=\"black\" stroke=\"black\" cx=\"1.8\" cy=\"-116\" rx=\"1.8\" ry=\"1.8\"/>\n</a>\n</g>\n</g>\n<!-- q0 -->\n<g id=\"node2\" class=\"node\">\n<title>q0</title>\n<ellipse fill=\"none\" stroke=\"black\" cx=\"60.1\" cy=\"-116\" rx=\"19.5\" ry=\"19.5\"/>\n<text text-anchor=\"middle\" x=\"60.1\" y=\"-112.3\" font-family=\"Times,serif\" font-size=\"14.00\">q0</text>\n</g>\n<!-- 19046acb&#45;5d9c&#45;4c75&#45;8c50&#45;9a0481518bab&#45;&gt;q0 -->\n<g id=\"edge1\" class=\"edge\">\n<title>19046acb&#45;5d9c&#45;4c75&#45;8c50&#45;9a0481518bab&#45;&gt;q0</title>\n<g id=\"a_edge1\"><a xlink:title=\"&#45;&gt;q0\">\n<path fill=\"none\" stroke=\"black\" d=\"M3.78,-116C7.28,-116 19.64,-116 31.78,-116\"/>\n<polygon fill=\"black\" stroke=\"black\" points=\"31.96,-118.98 40.46,-116 31.96,-113.03 31.96,-118.98\"/>\n</a>\n</g>\n</g>\n<!-- q5 -->\n<g id=\"node3\" class=\"node\">\n<title>q5</title>\n<ellipse fill=\"none\" stroke=\"black\" cx=\"142.09\" cy=\"-212\" rx=\"19.5\" ry=\"19.5\"/>\n<text text-anchor=\"middle\" x=\"142.09\" y=\"-208.3\" font-family=\"Times,serif\" font-size=\"14.00\">q5</text>\n</g>\n<!-- q0&#45;&gt;q5 -->\n<g id=\"edge2\" class=\"edge\">\n<title>q0&#45;&gt;q5</title>\n<path fill=\"none\" stroke=\"black\" d=\"M73.25,-130.58C86.52,-146.51 107.92,-172.19 123.13,-190.44\"/>\n<polygon fill=\"black\" stroke=\"black\" points=\"121.1,-192.65 128.83,-197.28 125.67,-188.85 121.1,-192.65\"/>\n<text text-anchor=\"middle\" x=\"101.1\" y=\"-170.8\" font-family=\"Times,serif\" font-size=\"14.00\">1</text>\n</g>\n<!-- q1 -->\n<g id=\"node4\" class=\"node\">\n<title>q1</title>\n<ellipse fill=\"none\" stroke=\"black\" cx=\"142.09\" cy=\"-116\" rx=\"19.5\" ry=\"19.5\"/>\n<text text-anchor=\"middle\" x=\"142.09\" y=\"-112.3\" font-family=\"Times,serif\" font-size=\"14.00\">q1</text>\n</g>\n<!-- q0&#45;&gt;q1 -->\n<g id=\"edge3\" class=\"edge\">\n<title>q0&#45;&gt;q1</title>\n<path fill=\"none\" stroke=\"black\" d=\"M79.65,-116C89.78,-116 102.5,-116 113.75,-116\"/>\n<polygon fill=\"black\" stroke=\"black\" points=\"113.86,-118.98 122.36,-116 113.86,-113.03 113.86,-118.98\"/>\n<text text-anchor=\"middle\" x=\"101.1\" y=\"-119.8\" font-family=\"Times,serif\" font-size=\"14.00\">0</text>\n</g>\n<!-- q6 -->\n<g id=\"node5\" class=\"node\">\n<title>q6</title>\n<ellipse fill=\"none\" stroke=\"black\" cx=\"224.09\" cy=\"-144\" rx=\"19.5\" ry=\"19.5\"/>\n<text text-anchor=\"middle\" x=\"224.09\" y=\"-140.3\" font-family=\"Times,serif\" font-size=\"14.00\">q6</text>\n</g>\n<!-- q5&#45;&gt;q6 -->\n<g id=\"edge4\" class=\"edge\">\n<title>q5&#45;&gt;q6</title>\n<path fill=\"none\" stroke=\"black\" d=\"M157.4,-199.84C169.83,-189.27 188.02,-173.82 202.1,-161.84\"/>\n<polygon fill=\"black\" stroke=\"black\" points=\"204.09,-164.05 208.64,-156.28 200.24,-159.52 204.09,-164.05\"/>\n<text text-anchor=\"middle\" x=\"183.09\" y=\"-184.8\" font-family=\"Times,serif\" font-size=\"14.00\">1</text>\n</g>\n<!-- q2 -->\n<g id=\"node6\" class=\"node\">\n<title>q2</title>\n<ellipse fill=\"none\" stroke=\"black\" cx=\"474.08\" cy=\"-97\" rx=\"23.5\" ry=\"23.5\"/>\n<ellipse fill=\"none\" stroke=\"black\" cx=\"474.08\" cy=\"-97\" rx=\"27.5\" ry=\"27.5\"/>\n<text text-anchor=\"middle\" x=\"474.08\" y=\"-93.3\" font-family=\"Times,serif\" font-size=\"14.00\">q2</text>\n</g>\n<!-- q5&#45;&gt;q2 -->\n<g id=\"edge5\" class=\"edge\">\n<title>q5&#45;&gt;q2</title>\n<path fill=\"none\" stroke=\"black\" d=\"M153.46,-227.9C167.03,-246.56 192.69,-275 223.09,-275 223.09,-275 223.09,-275 389.08,-275 452.75,-275 468.24,-180.72 471.95,-129.39\"/>\n<polygon fill=\"black\" stroke=\"black\" points=\"474.94,-129.31 472.5,-120.64 469,-128.94 474.94,-129.31\"/>\n<text text-anchor=\"middle\" x=\"306.09\" y=\"-278.8\" font-family=\"Times,serif\" font-size=\"14.00\">0</text>\n</g>\n<!-- q1&#45;&gt;q6 -->\n<g id=\"edge6\" class=\"edge\">\n<title>q1&#45;&gt;q6</title>\n<path fill=\"none\" stroke=\"black\" d=\"M160.85,-122.21C171.52,-125.95 185.28,-130.77 197.15,-134.92\"/>\n<polygon fill=\"black\" stroke=\"black\" points=\"196.38,-137.8 205.39,-137.8 198.35,-132.19 196.38,-137.8\"/>\n<text text-anchor=\"middle\" x=\"183.09\" y=\"-134.8\" font-family=\"Times,serif\" font-size=\"14.00\">0</text>\n</g>\n<!-- q1&#45;&gt;q2 -->\n<g id=\"edge7\" class=\"edge\">\n<title>q1&#45;&gt;q2</title>\n<path fill=\"none\" stroke=\"black\" d=\"M161.4,-111.3C184.98,-105.68 227.3,-97 264.09,-97 264.09,-97 264.09,-97 389.08,-97 406.39,-97 425.71,-97 441.45,-97\"/>\n<polygon fill=\"black\" stroke=\"black\" points=\"441.76,-99.98 450.26,-97 441.76,-94.03 441.76,-99.98\"/>\n<text text-anchor=\"middle\" x=\"306.09\" y=\"-100.8\" font-family=\"Times,serif\" font-size=\"14.00\">1</text>\n</g>\n<!-- q6&#45;&gt;q6 -->\n<g id=\"edge8\" class=\"edge\">\n<title>q6&#45;&gt;q6</title>\n<path fill=\"none\" stroke=\"black\" d=\"M216.9,-162.52C215.68,-172.45 218.08,-181.5 224.09,-181.5 228.23,-181.5 230.65,-177.22 231.37,-171.32\"/>\n<polygon fill=\"black\" stroke=\"black\" points=\"234.34,-170.99 231.28,-162.52 228.39,-171.05 234.34,-170.99\"/>\n<text text-anchor=\"middle\" x=\"224.09\" y=\"-185.3\" font-family=\"Times,serif\" font-size=\"14.00\">0</text>\n</g>\n<!-- q4 -->\n<g id=\"node7\" class=\"node\">\n<title>q4</title>\n<ellipse fill=\"none\" stroke=\"black\" cx=\"306.09\" cy=\"-200\" rx=\"19.5\" ry=\"19.5\"/>\n<text text-anchor=\"middle\" x=\"306.09\" y=\"-196.3\" font-family=\"Times,serif\" font-size=\"14.00\">q4</text>\n</g>\n<!-- q6&#45;&gt;q4 -->\n<g id=\"edge9\" class=\"edge\">\n<title>q6&#45;&gt;q4</title>\n<path fill=\"none\" stroke=\"black\" d=\"M240.52,-154.8C252.47,-163.16 269.2,-174.88 282.64,-184.28\"/>\n<polygon fill=\"black\" stroke=\"black\" points=\"281.04,-186.79 289.71,-189.24 284.46,-181.92 281.04,-186.79\"/>\n<text text-anchor=\"middle\" x=\"265.09\" y=\"-177.8\" font-family=\"Times,serif\" font-size=\"14.00\">1</text>\n</g>\n<!-- q2&#45;&gt;q0 -->\n<g id=\"edge10\" class=\"edge\">\n<title>q2&#45;&gt;q0</title>\n<path fill=\"none\" stroke=\"black\" d=\"M465.29,-74.99C453.57,-46.37 428.51,0 389.08,0 141.09,0 141.09,0 141.09,0 98.13,0 76.47,-54.59 67.1,-88.87\"/>\n<polygon fill=\"black\" stroke=\"black\" points=\"64.22,-88.13 64.98,-97.1 69.98,-89.62 64.22,-88.13\"/>\n<text text-anchor=\"middle\" x=\"265.09\" y=\"-3.8\" font-family=\"Times,serif\" font-size=\"14.00\">0</text>\n</g>\n<!-- q2&#45;&gt;q2 -->\n<g id=\"edge11\" class=\"edge\">\n<title>q2&#45;&gt;q2</title>\n<path fill=\"none\" stroke=\"black\" d=\"M465.99,-119.2C465.11,-129.5 467.81,-138.5 474.08,-138.5 478.49,-138.5 481.13,-134.05 482.01,-127.83\"/>\n<polygon fill=\"black\" stroke=\"black\" points=\"484.99,-127.75 482.17,-119.2 479.04,-127.64 484.99,-127.75\"/>\n<text text-anchor=\"middle\" x=\"474.08\" y=\"-142.3\" font-family=\"Times,serif\" font-size=\"14.00\">1</text>\n</g>\n<!-- q4&#45;&gt;q5 -->\n<g id=\"edge14\" class=\"edge\">\n<title>q4&#45;&gt;q5</title>\n<path fill=\"none\" stroke=\"black\" d=\"M286.52,-201.57C274.32,-202.58 258.01,-203.91 243.59,-205 218.79,-206.87 190.53,-208.82 170.31,-210.19\"/>\n<polygon fill=\"black\" stroke=\"black\" points=\"169.9,-207.24 161.62,-210.77 170.3,-213.17 169.9,-207.24\"/>\n<text text-anchor=\"middle\" x=\"224.09\" y=\"-210.8\" font-family=\"Times,serif\" font-size=\"14.00\">1</text>\n</g>\n<!-- q7 -->\n<g id=\"node9\" class=\"node\">\n<title>q7</title>\n<ellipse fill=\"none\" stroke=\"black\" cx=\"388.08\" cy=\"-148\" rx=\"19.5\" ry=\"19.5\"/>\n<text text-anchor=\"middle\" x=\"388.08\" y=\"-144.3\" font-family=\"Times,serif\" font-size=\"14.00\">q7</text>\n</g>\n<!-- q4&#45;&gt;q7 -->\n<g id=\"edge15\" class=\"edge\">\n<title>q4&#45;&gt;q7</title>\n<path fill=\"none\" stroke=\"black\" d=\"M322.89,-189.73C334.62,-182.11 350.78,-171.6 363.96,-163.03\"/>\n<polygon fill=\"black\" stroke=\"black\" points=\"365.81,-165.38 371.31,-158.25 362.56,-160.39 365.81,-165.38\"/>\n<text text-anchor=\"middle\" x=\"347.09\" y=\"-179.8\" font-family=\"Times,serif\" font-size=\"14.00\">0</text>\n</g>\n<!-- q3 -->\n<g id=\"node8\" class=\"node\">\n<title>q3</title>\n<ellipse fill=\"none\" stroke=\"black\" cx=\"142.09\" cy=\"-53\" rx=\"19.5\" ry=\"19.5\"/>\n<text text-anchor=\"middle\" x=\"142.09\" y=\"-49.3\" font-family=\"Times,serif\" font-size=\"14.00\">q3</text>\n</g>\n<!-- q3&#45;&gt;q6 -->\n<g id=\"edge12\" class=\"edge\">\n<title>q3&#45;&gt;q6</title>\n<path fill=\"none\" stroke=\"black\" d=\"M155.59,-67.22C168.78,-82.22 189.71,-106.02 204.76,-123.15\"/>\n<polygon fill=\"black\" stroke=\"black\" points=\"202.57,-125.17 210.42,-129.58 207.04,-121.23 202.57,-125.17\"/>\n<text text-anchor=\"middle\" x=\"183.09\" y=\"-105.8\" font-family=\"Times,serif\" font-size=\"14.00\">1</text>\n</g>\n<!-- q3&#45;&gt;q2 -->\n<g id=\"edge13\" class=\"edge\">\n<title>q3&#45;&gt;q2</title>\n<path fill=\"none\" stroke=\"black\" d=\"M161.48,-50.47C177.67,-48.47 201.9,-46 223.09,-46 223.09,-46 223.09,-46 389.08,-46 412.67,-46 435.28,-60.87 451.09,-74.56\"/>\n<polygon fill=\"black\" stroke=\"black\" points=\"449.13,-76.8 457.43,-80.3 453.13,-72.39 449.13,-76.8\"/>\n<text text-anchor=\"middle\" x=\"306.09\" y=\"-49.8\" font-family=\"Times,serif\" font-size=\"14.00\">0</text>\n</g>\n<!-- q7&#45;&gt;q6 -->\n<g id=\"edge16\" class=\"edge\">\n<title>q7&#45;&gt;q6</title>\n<path fill=\"none\" stroke=\"black\" d=\"M368.47,-147.54C339.96,-146.84 285.34,-145.49 252.36,-144.67\"/>\n<polygon fill=\"black\" stroke=\"black\" points=\"252.24,-141.69 243.67,-144.46 252.1,-147.64 252.24,-141.69\"/>\n<text text-anchor=\"middle\" x=\"306.09\" y=\"-150.8\" font-family=\"Times,serif\" font-size=\"14.00\">0</text>\n</g>\n<!-- q7&#45;&gt;q2 -->\n<g id=\"edge17\" class=\"edge\">\n<title>q7&#45;&gt;q2</title>\n<path fill=\"none\" stroke=\"black\" d=\"M405.28,-138.17C416.84,-131.15 432.65,-121.55 446.1,-113.38\"/>\n<polygon fill=\"black\" stroke=\"black\" points=\"447.97,-115.73 453.69,-108.77 444.88,-110.64 447.97,-115.73\"/>\n<text text-anchor=\"middle\" x=\"429.08\" y=\"-129.8\" font-family=\"Times,serif\" font-size=\"14.00\">1</text>\n</g>\n</g>\n</svg>\n",
            "text/plain": [
              "<AGraph <Swig Object of type 'Agraph_t *' at 0x7f528f6a6880>>"
            ]
          },
          "metadata": {},
          "execution_count": 67
        }
      ],
      "source": [
        "fa.show_diagram()"
      ]
    },
    {
      "cell_type": "code",
      "execution_count": 68,
      "metadata": {
        "id": "vS8eIIiOVgHV"
      },
      "outputs": [],
      "source": [
        "minfa = fa.minify()"
      ]
    },
    {
      "cell_type": "code",
      "execution_count": 69,
      "metadata": {
        "colab": {
          "base_uri": "https://localhost:8080/",
          "height": 292
        },
        "id": "ZzCZB3KtVgHV",
        "outputId": "40789e3a-c2d1-4161-e208-069e9f8f970f"
      },
      "outputs": [
        {
          "output_type": "execute_result",
          "data": {
            "image/svg+xml": "<?xml version=\"1.0\" encoding=\"UTF-8\" standalone=\"no\"?>\n<!DOCTYPE svg PUBLIC \"-//W3C//DTD SVG 1.1//EN\"\n \"http://www.w3.org/Graphics/SVG/1.1/DTD/svg11.dtd\">\n<!-- Generated by graphviz version 2.43.0 (0)\n -->\n<!-- Pages: 1 -->\n<svg width=\"255pt\" height=\"203pt\"\n viewBox=\"0.00 0.00 254.60 203.37\" xmlns=\"http://www.w3.org/2000/svg\" xmlns:xlink=\"http://www.w3.org/1999/xlink\">\n<g id=\"graph0\" class=\"graph\" transform=\"scale(1 1) rotate(0) translate(4 199.37)\">\n<polygon fill=\"white\" stroke=\"transparent\" points=\"-4,4 -4,-199.37 250.6,-199.37 250.6,4 -4,4\"/>\n<!-- 1ab2c29e&#45;16ac&#45;4240&#45;b8e6&#45;7b41bd0fe7c0 -->\n<g id=\"node1\" class=\"node\">\n<title>1ab2c29e&#45;16ac&#45;4240&#45;b8e6&#45;7b41bd0fe7c0</title>\n<g id=\"a_node1\"><a xlink:title=\".\">\n<ellipse fill=\"black\" stroke=\"black\" cx=\"1.8\" cy=\"-90.37\" rx=\"1.8\" ry=\"1.8\"/>\n</a>\n</g>\n</g>\n<!-- 4 -->\n<g id=\"node2\" class=\"node\">\n<title>4</title>\n<ellipse fill=\"none\" stroke=\"black\" cx=\"58.6\" cy=\"-90.37\" rx=\"18\" ry=\"18\"/>\n<text text-anchor=\"middle\" x=\"58.6\" y=\"-86.67\" font-family=\"Times,serif\" font-size=\"14.00\">4</text>\n</g>\n<!-- 1ab2c29e&#45;16ac&#45;4240&#45;b8e6&#45;7b41bd0fe7c0&#45;&gt;4 -->\n<g id=\"edge1\" class=\"edge\">\n<title>1ab2c29e&#45;16ac&#45;4240&#45;b8e6&#45;7b41bd0fe7c0&#45;&gt;4</title>\n<g id=\"a_edge1\"><a xlink:title=\"&#45;&gt;4\">\n<path fill=\"none\" stroke=\"black\" d=\"M3.75,-90.37C7.25,-90.37 19.84,-90.37 31.96,-90.37\"/>\n<polygon fill=\"black\" stroke=\"black\" points=\"32.08,-93.35 40.58,-90.37 32.07,-87.4 32.08,-93.35\"/>\n</a>\n</g>\n</g>\n<!-- 2 -->\n<g id=\"node3\" class=\"node\">\n<title>2</title>\n<ellipse fill=\"none\" stroke=\"black\" cx=\"137.6\" cy=\"-55.37\" rx=\"18\" ry=\"18\"/>\n<text text-anchor=\"middle\" x=\"137.6\" y=\"-51.67\" font-family=\"Times,serif\" font-size=\"14.00\">2</text>\n</g>\n<!-- 4&#45;&gt;2 -->\n<g id=\"edge2\" class=\"edge\">\n<title>4&#45;&gt;2</title>\n<path fill=\"none\" stroke=\"black\" d=\"M75.18,-83.29C86.04,-78.35 100.71,-71.68 113,-66.1\"/>\n<polygon fill=\"black\" stroke=\"black\" points=\"114.53,-68.67 121.04,-62.44 112.07,-63.26 114.53,-68.67\"/>\n<text text-anchor=\"middle\" x=\"98.1\" y=\"-77.17\" font-family=\"Times,serif\" font-size=\"14.00\">0</text>\n</g>\n<!-- 3 -->\n<g id=\"node4\" class=\"node\">\n<title>3</title>\n<ellipse fill=\"none\" stroke=\"black\" cx=\"137.6\" cy=\"-109.37\" rx=\"18\" ry=\"18\"/>\n<text text-anchor=\"middle\" x=\"137.6\" y=\"-105.67\" font-family=\"Times,serif\" font-size=\"14.00\">3</text>\n</g>\n<!-- 4&#45;&gt;3 -->\n<g id=\"edge3\" class=\"edge\">\n<title>4&#45;&gt;3</title>\n<path fill=\"none\" stroke=\"black\" d=\"M76.31,-94.49C86.6,-97.03 99.99,-100.34 111.54,-103.19\"/>\n<polygon fill=\"black\" stroke=\"black\" points=\"110.95,-106.11 119.92,-105.26 112.38,-100.33 110.95,-106.11\"/>\n<text text-anchor=\"middle\" x=\"98.1\" y=\"-104.17\" font-family=\"Times,serif\" font-size=\"14.00\">1</text>\n</g>\n<!-- 0 -->\n<g id=\"node5\" class=\"node\">\n<title>0</title>\n<ellipse fill=\"none\" stroke=\"black\" cx=\"220.6\" cy=\"-26.37\" rx=\"18\" ry=\"18\"/>\n<text text-anchor=\"middle\" x=\"220.6\" y=\"-22.67\" font-family=\"Times,serif\" font-size=\"14.00\">0</text>\n</g>\n<!-- 2&#45;&gt;0 -->\n<g id=\"edge4\" class=\"edge\">\n<title>2&#45;&gt;0</title>\n<path fill=\"none\" stroke=\"black\" d=\"M150.62,-42.47C156.86,-36.7 164.97,-30.5 173.6,-27.37 179.9,-25.08 187.01,-24.19 193.72,-24.02\"/>\n<polygon fill=\"black\" stroke=\"black\" points=\"193.96,-27 202.51,-24.17 194.06,-21.05 193.96,-27\"/>\n<text text-anchor=\"middle\" x=\"177.1\" y=\"-31.17\" font-family=\"Times,serif\" font-size=\"14.00\">0</text>\n</g>\n<!-- 1 -->\n<g id=\"node6\" class=\"node\">\n<title>1</title>\n<ellipse fill=\"none\" stroke=\"black\" cx=\"220.6\" cy=\"-140.37\" rx=\"22\" ry=\"22\"/>\n<ellipse fill=\"none\" stroke=\"black\" cx=\"220.6\" cy=\"-140.37\" rx=\"26\" ry=\"26\"/>\n<text text-anchor=\"middle\" x=\"220.6\" y=\"-136.67\" font-family=\"Times,serif\" font-size=\"14.00\">1</text>\n</g>\n<!-- 2&#45;&gt;1 -->\n<g id=\"edge5\" class=\"edge\">\n<title>2&#45;&gt;1</title>\n<path fill=\"none\" stroke=\"black\" d=\"M155.92,-54.28C164.09,-54.6 173.56,-56.27 180.6,-61.37 189.53,-67.84 200.76,-92.07 208.88,-112.01\"/>\n<polygon fill=\"black\" stroke=\"black\" points=\"206.13,-113.15 212.04,-119.94 211.66,-110.95 206.13,-113.15\"/>\n<text text-anchor=\"middle\" x=\"177.1\" y=\"-65.17\" font-family=\"Times,serif\" font-size=\"14.00\">1</text>\n</g>\n<!-- 3&#45;&gt;0 -->\n<g id=\"edge6\" class=\"edge\">\n<title>3&#45;&gt;0</title>\n<path fill=\"none\" stroke=\"black\" d=\"M153.52,-100.82C162,-95.56 172.5,-88.31 180.6,-80.37 190.08,-71.09 198.9,-59.28 205.74,-49.07\"/>\n<polygon fill=\"black\" stroke=\"black\" points=\"208.43,-50.39 210.57,-41.65 203.44,-47.15 208.43,-50.39\"/>\n<text text-anchor=\"middle\" x=\"177.1\" y=\"-89.17\" font-family=\"Times,serif\" font-size=\"14.00\">1</text>\n</g>\n<!-- 3&#45;&gt;1 -->\n<g id=\"edge7\" class=\"edge\">\n<title>3&#45;&gt;1</title>\n<path fill=\"none\" stroke=\"black\" d=\"M154.6,-115.49C165.17,-119.54 179.29,-124.94 191.68,-129.68\"/>\n<polygon fill=\"black\" stroke=\"black\" points=\"190.91,-132.57 199.91,-132.83 193.04,-127.02 190.91,-132.57\"/>\n<text text-anchor=\"middle\" x=\"177.1\" y=\"-128.17\" font-family=\"Times,serif\" font-size=\"14.00\">0</text>\n</g>\n<!-- 0&#45;&gt;4 -->\n<g id=\"edge8\" class=\"edge\">\n<title>0&#45;&gt;4</title>\n<path fill=\"none\" stroke=\"black\" d=\"M203.82,-19.11C183.33,-10.81 146.97,0 119.6,-13.37 97.28,-24.27 80.86,-47.93 70.89,-66.16\"/>\n<polygon fill=\"black\" stroke=\"black\" points=\"68.04,-65.18 66.76,-74.09 73.32,-67.92 68.04,-65.18\"/>\n<text text-anchor=\"middle\" x=\"137.6\" y=\"-17.17\" font-family=\"Times,serif\" font-size=\"14.00\">1</text>\n</g>\n<!-- 0&#45;&gt;0 -->\n<g id=\"edge9\" class=\"edge\">\n<title>0&#45;&gt;0</title>\n<path fill=\"none\" stroke=\"black\" d=\"M213.22,-43.04C211.58,-53 214.04,-62.37 220.6,-62.37 225.11,-62.37 227.68,-57.94 228.32,-51.93\"/>\n<polygon fill=\"black\" stroke=\"black\" points=\"231.28,-51.42 227.98,-43.04 225.33,-51.64 231.28,-51.42\"/>\n<text text-anchor=\"middle\" x=\"220.6\" y=\"-66.17\" font-family=\"Times,serif\" font-size=\"14.00\">0</text>\n</g>\n<!-- 1&#45;&gt;4 -->\n<g id=\"edge10\" class=\"edge\">\n<title>1&#45;&gt;4</title>\n<path fill=\"none\" stroke=\"black\" d=\"M198.53,-143.31C177.75,-145.35 145.43,-146.18 119.6,-136.37 103.95,-130.42 89,-118.99 77.94,-109\"/>\n<polygon fill=\"black\" stroke=\"black\" points=\"79.82,-106.69 71.59,-103.04 75.75,-111.03 79.82,-106.69\"/>\n<text text-anchor=\"middle\" x=\"137.6\" y=\"-147.17\" font-family=\"Times,serif\" font-size=\"14.00\">0</text>\n</g>\n<!-- 1&#45;&gt;1 -->\n<g id=\"edge11\" class=\"edge\">\n<title>1&#45;&gt;1</title>\n<path fill=\"none\" stroke=\"black\" d=\"M212.92,-161.36C211.97,-171.46 214.53,-180.37 220.6,-180.37 224.77,-180.37 227.29,-176.16 228.14,-170.24\"/>\n<polygon fill=\"black\" stroke=\"black\" points=\"231.12,-169.91 228.28,-161.36 225.17,-169.81 231.12,-169.91\"/>\n<text text-anchor=\"middle\" x=\"220.6\" y=\"-184.17\" font-family=\"Times,serif\" font-size=\"14.00\">1</text>\n</g>\n</g>\n</svg>\n",
            "text/plain": [
              "<AGraph <Swig Object of type 'Agraph_t *' at 0x7f52a40bca50>>"
            ]
          },
          "metadata": {},
          "execution_count": 69
        }
      ],
      "source": [
        "minfa.show_diagram()"
      ]
    },
    {
      "cell_type": "code",
      "execution_count": 70,
      "metadata": {
        "colab": {
          "base_uri": "https://localhost:8080/"
        },
        "id": "QKFm2hE7VgHQ",
        "outputId": "0bc053f2-b950-4e8a-e8e9-ed09ebbf4496"
      },
      "outputs": [
        {
          "output_type": "execute_result",
          "data": {
            "text/plain": [
              "True"
            ]
          },
          "metadata": {},
          "execution_count": 70
        }
      ],
      "source": [
        "minfa == fa"
      ]
    },
    {
      "cell_type": "code",
      "execution_count": 71,
      "metadata": {
        "colab": {
          "base_uri": "https://localhost:8080/"
        },
        "id": "dFlBLd29VgHR",
        "outputId": "ac0d044b-ad92-4de8-9569-3633d852f8b5"
      },
      "outputs": [
        {
          "output_type": "stream",
          "name": "stdout",
          "text": [
            "DFA(states={0, 1, 2, 3, 4}, input_symbols={'1', '0'}, transitions={0: {'0': 0, '1': 4}, 1: {'0': 4, '1': 1}, 2: {'0': 0, '1': 1}, 3: {'0': 1, '1': 0}, 4: {'0': 2, '1': 3}}, initial_state=4, final_states={1}, allow_partial=False)\n"
          ]
        }
      ],
      "source": [
        "print(minfa)"
      ]
    },
    {
      "cell_type": "code",
      "execution_count": 72,
      "metadata": {
        "colab": {
          "base_uri": "https://localhost:8080/",
          "height": 176
        },
        "id": "gIbzZaUncbXW",
        "outputId": "a91fd78e-7214-4089-ea99-01302b8d8e68"
      },
      "outputs": [
        {
          "output_type": "execute_result",
          "data": {
            "image/svg+xml": "<?xml version=\"1.0\" encoding=\"UTF-8\" standalone=\"no\"?>\n<!DOCTYPE svg PUBLIC \"-//W3C//DTD SVG 1.1//EN\"\n \"http://www.w3.org/Graphics/SVG/1.1/DTD/svg11.dtd\">\n<!-- Generated by graphviz version 2.43.0 (0)\n -->\n<!-- Pages: 1 -->\n<svg width=\"264pt\" height=\"116pt\"\n viewBox=\"0.00 0.00 263.59 116.00\" xmlns=\"http://www.w3.org/2000/svg\" xmlns:xlink=\"http://www.w3.org/1999/xlink\">\n<g id=\"graph0\" class=\"graph\" transform=\"scale(1 1) rotate(0) translate(4 112)\">\n<polygon fill=\"white\" stroke=\"transparent\" points=\"-4,4 -4,-112 259.59,-112 259.59,4 -4,4\"/>\n<!-- 76c66766&#45;b9a9&#45;4d74&#45;8e4b&#45;7b31b888106a -->\n<g id=\"node1\" class=\"node\">\n<title>76c66766&#45;b9a9&#45;4d74&#45;8e4b&#45;7b31b888106a</title>\n<g id=\"a_node1\"><a xlink:title=\".\">\n<ellipse fill=\"black\" stroke=\"black\" cx=\"1.8\" cy=\"-19.5\" rx=\"1.8\" ry=\"1.8\"/>\n</a>\n</g>\n</g>\n<!-- q0 -->\n<g id=\"node2\" class=\"node\">\n<title>q0</title>\n<ellipse fill=\"none\" stroke=\"black\" cx=\"60.1\" cy=\"-19.5\" rx=\"19.5\" ry=\"19.5\"/>\n<text text-anchor=\"middle\" x=\"60.1\" y=\"-15.8\" font-family=\"Times,serif\" font-size=\"14.00\">q0</text>\n</g>\n<!-- 76c66766&#45;b9a9&#45;4d74&#45;8e4b&#45;7b31b888106a&#45;&gt;q0 -->\n<g id=\"edge1\" class=\"edge\">\n<title>76c66766&#45;b9a9&#45;4d74&#45;8e4b&#45;7b31b888106a&#45;&gt;q0</title>\n<g id=\"a_edge1\"><a xlink:title=\"&#45;&gt;q0\">\n<path fill=\"none\" stroke=\"black\" d=\"M3.78,-19.5C7.28,-19.5 19.64,-19.5 31.78,-19.5\"/>\n<polygon fill=\"black\" stroke=\"black\" points=\"31.96,-22.48 40.46,-19.5 31.96,-16.53 31.96,-22.48\"/>\n</a>\n</g>\n</g>\n<!-- q2 -->\n<g id=\"node3\" class=\"node\">\n<title>q2</title>\n<ellipse fill=\"none\" stroke=\"black\" cx=\"142.09\" cy=\"-55.5\" rx=\"19.5\" ry=\"19.5\"/>\n<text text-anchor=\"middle\" x=\"142.09\" y=\"-51.8\" font-family=\"Times,serif\" font-size=\"14.00\">q2</text>\n</g>\n<!-- q0&#45;&gt;q2 -->\n<g id=\"edge2\" class=\"edge\">\n<title>q0&#45;&gt;q2</title>\n<path fill=\"none\" stroke=\"black\" d=\"M78.06,-27.13C89.02,-32.06 103.47,-38.57 115.77,-44.11\"/>\n<polygon fill=\"black\" stroke=\"black\" points=\"114.91,-46.98 123.88,-47.75 117.35,-41.55 114.91,-46.98\"/>\n<text text-anchor=\"middle\" x=\"101.1\" y=\"-42.3\" font-family=\"Times,serif\" font-size=\"14.00\">1</text>\n</g>\n<!-- q1 -->\n<g id=\"node4\" class=\"node\">\n<title>q1</title>\n<ellipse fill=\"none\" stroke=\"black\" cx=\"228.09\" cy=\"-36.5\" rx=\"23.5\" ry=\"23.5\"/>\n<ellipse fill=\"none\" stroke=\"black\" cx=\"228.09\" cy=\"-36.5\" rx=\"27.5\" ry=\"27.5\"/>\n<text text-anchor=\"middle\" x=\"228.09\" y=\"-32.8\" font-family=\"Times,serif\" font-size=\"14.00\">q1</text>\n</g>\n<!-- q0&#45;&gt;q1 -->\n<g id=\"edge3\" class=\"edge\">\n<title>q0&#45;&gt;q1</title>\n<path fill=\"none\" stroke=\"black\" d=\"M79.39,-15.56C99.64,-11.82 133.18,-7.46 161.59,-12.5 173.95,-14.69 187.03,-19.04 198.22,-23.44\"/>\n<polygon fill=\"black\" stroke=\"black\" points=\"197.39,-26.31 206.38,-26.78 199.64,-20.81 197.39,-26.31\"/>\n<text text-anchor=\"middle\" x=\"142.09\" y=\"-16.3\" font-family=\"Times,serif\" font-size=\"14.00\">0</text>\n</g>\n<!-- q2&#45;&gt;q2 -->\n<g id=\"edge4\" class=\"edge\">\n<title>q2&#45;&gt;q2</title>\n<path fill=\"none\" stroke=\"black\" d=\"M134.9,-74.02C133.68,-83.95 136.08,-93 142.09,-93 146.23,-93 148.66,-88.72 149.37,-82.82\"/>\n<polygon fill=\"black\" stroke=\"black\" points=\"152.34,-82.49 149.29,-74.02 146.39,-82.55 152.34,-82.49\"/>\n<text text-anchor=\"middle\" x=\"142.09\" y=\"-96.8\" font-family=\"Times,serif\" font-size=\"14.00\">1</text>\n</g>\n<!-- q2&#45;&gt;q1 -->\n<g id=\"edge5\" class=\"edge\">\n<title>q2&#45;&gt;q1</title>\n<path fill=\"none\" stroke=\"black\" d=\"M161.9,-55.46C169.63,-55.12 178.62,-54.3 186.59,-52.5 190.43,-51.63 194.38,-50.46 198.24,-49.13\"/>\n<polygon fill=\"black\" stroke=\"black\" points=\"199.54,-51.82 206.46,-46.06 197.46,-46.25 199.54,-51.82\"/>\n<text text-anchor=\"middle\" x=\"183.09\" y=\"-57.3\" font-family=\"Times,serif\" font-size=\"14.00\">0</text>\n</g>\n<!-- q1&#45;&gt;q2 -->\n<g id=\"edge6\" class=\"edge\">\n<title>q1&#45;&gt;q2</title>\n<path fill=\"none\" stroke=\"black\" d=\"M204.54,-32.05C196.54,-31.26 187.55,-31.29 179.59,-33.5 174.87,-34.81 170.15,-36.92 165.74,-39.32\"/>\n<polygon fill=\"black\" stroke=\"black\" points=\"163.96,-36.92 158.22,-43.86 167.04,-42.01 163.96,-36.92\"/>\n<text text-anchor=\"middle\" x=\"183.09\" y=\"-37.3\" font-family=\"Times,serif\" font-size=\"14.00\">1</text>\n</g>\n<!-- q1&#45;&gt;q1 -->\n<g id=\"edge7\" class=\"edge\">\n<title>q1&#45;&gt;q1</title>\n<path fill=\"none\" stroke=\"black\" d=\"M220,-58.7C219.12,-69 221.82,-78 228.09,-78 232.5,-78 235.14,-73.55 236.02,-67.33\"/>\n<polygon fill=\"black\" stroke=\"black\" points=\"239,-67.25 236.18,-58.7 233.05,-67.14 239,-67.25\"/>\n<text text-anchor=\"middle\" x=\"228.09\" y=\"-81.8\" font-family=\"Times,serif\" font-size=\"14.00\">0</text>\n</g>\n</g>\n</svg>\n",
            "text/plain": [
              "<AGraph <Swig Object of type 'Agraph_t *' at 0x7f52a40bf4e0>>"
            ]
          },
          "metadata": {},
          "execution_count": 72
        }
      ],
      "source": [
        "fa4.show_diagram()"
      ]
    },
    {
      "cell_type": "code",
      "source": [
        "fa4.minify().show_diagram()"
      ],
      "metadata": {
        "colab": {
          "base_uri": "https://localhost:8080/",
          "height": 140
        },
        "id": "jQVk68yqTssv",
        "outputId": "fe2885aa-53c5-4aea-93d8-d6ca5e0a6b50"
      },
      "execution_count": 73,
      "outputs": [
        {
          "output_type": "execute_result",
          "data": {
            "image/svg+xml": "<?xml version=\"1.0\" encoding=\"UTF-8\" standalone=\"no\"?>\n<!DOCTYPE svg PUBLIC \"-//W3C//DTD SVG 1.1//EN\"\n \"http://www.w3.org/Graphics/SVG/1.1/DTD/svg11.dtd\">\n<!-- Generated by graphviz version 2.43.0 (0)\n -->\n<!-- Pages: 1 -->\n<svg width=\"176pt\" height=\"89pt\"\n viewBox=\"0.00 0.00 175.60 89.00\" xmlns=\"http://www.w3.org/2000/svg\" xmlns:xlink=\"http://www.w3.org/1999/xlink\">\n<g id=\"graph0\" class=\"graph\" transform=\"scale(1 1) rotate(0) translate(4 85)\">\n<polygon fill=\"white\" stroke=\"transparent\" points=\"-4,4 -4,-85 171.6,-85 171.6,4 -4,4\"/>\n<!-- 554fbe27&#45;3c25&#45;41a0&#45;915e&#45;e9706b3d0037 -->\n<g id=\"node1\" class=\"node\">\n<title>554fbe27&#45;3c25&#45;41a0&#45;915e&#45;e9706b3d0037</title>\n<g id=\"a_node1\"><a xlink:title=\".\">\n<ellipse fill=\"black\" stroke=\"black\" cx=\"1.8\" cy=\"-26\" rx=\"1.8\" ry=\"1.8\"/>\n</a>\n</g>\n</g>\n<!-- 0 -->\n<g id=\"node2\" class=\"node\">\n<title>0</title>\n<ellipse fill=\"none\" stroke=\"black\" cx=\"58.6\" cy=\"-26\" rx=\"18\" ry=\"18\"/>\n<text text-anchor=\"middle\" x=\"58.6\" y=\"-22.3\" font-family=\"Times,serif\" font-size=\"14.00\">0</text>\n</g>\n<!-- 554fbe27&#45;3c25&#45;41a0&#45;915e&#45;e9706b3d0037&#45;&gt;0 -->\n<g id=\"edge1\" class=\"edge\">\n<title>554fbe27&#45;3c25&#45;41a0&#45;915e&#45;e9706b3d0037&#45;&gt;0</title>\n<g id=\"a_edge1\"><a xlink:title=\"&#45;&gt;0\">\n<path fill=\"none\" stroke=\"black\" d=\"M3.75,-26C7.25,-26 19.84,-26 31.96,-26\"/>\n<polygon fill=\"black\" stroke=\"black\" points=\"32.08,-28.98 40.58,-26 32.07,-23.03 32.08,-28.98\"/>\n</a>\n</g>\n</g>\n<!-- 0&#45;&gt;0 -->\n<g id=\"edge2\" class=\"edge\">\n<title>0&#45;&gt;0</title>\n<path fill=\"none\" stroke=\"black\" d=\"M52.22,-43.04C50.92,-52.86 53.05,-62 58.6,-62 62.42,-62 64.62,-57.68 65.19,-51.79\"/>\n<polygon fill=\"black\" stroke=\"black\" points=\"68.16,-51.46 64.98,-43.04 62.21,-51.61 68.16,-51.46\"/>\n<text text-anchor=\"middle\" x=\"58.6\" y=\"-65.8\" font-family=\"Times,serif\" font-size=\"14.00\">1</text>\n</g>\n<!-- 1 -->\n<g id=\"node3\" class=\"node\">\n<title>1</title>\n<ellipse fill=\"none\" stroke=\"black\" cx=\"141.6\" cy=\"-26\" rx=\"22\" ry=\"22\"/>\n<ellipse fill=\"none\" stroke=\"black\" cx=\"141.6\" cy=\"-26\" rx=\"26\" ry=\"26\"/>\n<text text-anchor=\"middle\" x=\"141.6\" y=\"-22.3\" font-family=\"Times,serif\" font-size=\"14.00\">1</text>\n</g>\n<!-- 0&#45;&gt;1 -->\n<g id=\"edge3\" class=\"edge\">\n<title>0&#45;&gt;1</title>\n<path fill=\"none\" stroke=\"black\" d=\"M76.78,-26C86.6,-26 99.19,-26 110.6,-26\"/>\n<polygon fill=\"black\" stroke=\"black\" points=\"110.91,-28.98 119.41,-26 110.91,-23.03 110.91,-28.98\"/>\n<text text-anchor=\"middle\" x=\"98.1\" y=\"-29.8\" font-family=\"Times,serif\" font-size=\"14.00\">0</text>\n</g>\n<!-- 1&#45;&gt;0 -->\n<g id=\"edge4\" class=\"edge\">\n<title>1&#45;&gt;0</title>\n<path fill=\"none\" stroke=\"black\" d=\"M123.53,-13.2C115.03,-8.33 104.48,-4.49 94.6,-7 90.19,-8.12 85.73,-9.92 81.55,-11.98\"/>\n<polygon fill=\"black\" stroke=\"black\" points=\"79.95,-9.46 73.91,-16.13 82.8,-14.68 79.95,-9.46\"/>\n<text text-anchor=\"middle\" x=\"98.1\" y=\"-10.8\" font-family=\"Times,serif\" font-size=\"14.00\">1</text>\n</g>\n<!-- 1&#45;&gt;1 -->\n<g id=\"edge5\" class=\"edge\">\n<title>1&#45;&gt;1</title>\n<path fill=\"none\" stroke=\"black\" d=\"M133.92,-46.99C132.97,-57.09 135.53,-66 141.6,-66 145.77,-66 148.29,-61.79 149.14,-55.87\"/>\n<polygon fill=\"black\" stroke=\"black\" points=\"152.12,-55.54 149.28,-46.99 146.17,-55.44 152.12,-55.54\"/>\n<text text-anchor=\"middle\" x=\"141.6\" y=\"-69.8\" font-family=\"Times,serif\" font-size=\"14.00\">0</text>\n</g>\n</g>\n</svg>\n",
            "text/plain": [
              "<AGraph <Swig Object of type 'Agraph_t *' at 0x7f52a40bc660>>"
            ]
          },
          "metadata": {},
          "execution_count": 73
        }
      ]
    },
    {
      "cell_type": "markdown",
      "metadata": {
        "id": "VuL4qMCD54TO"
      },
      "source": [
        "## Automata subtraction\n",
        "* The subtraction of two automata `fa1` and `fa2` is the\n",
        "  the minimal automaton which accepts the subtraction of\n",
        "  their languages.\n",
        "* In the automata-lib package, this automaton is obtained\n",
        "  by the **subtraction operator** `fa1 - fa2`."
      ]
    },
    {
      "cell_type": "code",
      "execution_count": 74,
      "metadata": {
        "id": "fsDid9DfVgHR"
      },
      "outputs": [],
      "source": [
        "fa = fa1 - fa2"
      ]
    },
    {
      "cell_type": "code",
      "execution_count": 75,
      "metadata": {
        "colab": {
          "base_uri": "https://localhost:8080/",
          "height": 568
        },
        "id": "KDe5XaL0VgHR",
        "outputId": "30ceb681-cfae-4664-bb5a-51c0b27798ff"
      },
      "outputs": [
        {
          "output_type": "execute_result",
          "data": {
            "image/svg+xml": "<?xml version=\"1.0\" encoding=\"UTF-8\" standalone=\"no\"?>\n<!DOCTYPE svg PUBLIC \"-//W3C//DTD SVG 1.1//EN\"\n \"http://www.w3.org/Graphics/SVG/1.1/DTD/svg11.dtd\">\n<!-- Generated by graphviz version 2.43.0 (0)\n -->\n<!-- Pages: 1 -->\n<svg width=\"826pt\" height=\"410pt\"\n viewBox=\"0.00 0.00 825.59 410.00\" xmlns=\"http://www.w3.org/2000/svg\" xmlns:xlink=\"http://www.w3.org/1999/xlink\">\n<g id=\"graph0\" class=\"graph\" transform=\"scale(1 1) rotate(0) translate(4 406)\">\n<polygon fill=\"white\" stroke=\"transparent\" points=\"-4,4 -4,-406 821.59,-406 821.59,4 -4,4\"/>\n<!-- c3ad4d53&#45;7532&#45;4172&#45;b517&#45;918d35870fb4 -->\n<g id=\"node1\" class=\"node\">\n<title>c3ad4d53&#45;7532&#45;4172&#45;b517&#45;918d35870fb4</title>\n<g id=\"a_node1\"><a xlink:title=\".\">\n<ellipse fill=\"black\" stroke=\"black\" cx=\"1.8\" cy=\"-18\" rx=\"1.8\" ry=\"1.8\"/>\n</a>\n</g>\n</g>\n<!-- 8 -->\n<g id=\"node2\" class=\"node\">\n<title>8</title>\n<ellipse fill=\"none\" stroke=\"black\" cx=\"58.6\" cy=\"-18\" rx=\"18\" ry=\"18\"/>\n<text text-anchor=\"middle\" x=\"58.6\" y=\"-14.3\" font-family=\"Times,serif\" font-size=\"14.00\">8</text>\n</g>\n<!-- c3ad4d53&#45;7532&#45;4172&#45;b517&#45;918d35870fb4&#45;&gt;8 -->\n<g id=\"edge1\" class=\"edge\">\n<title>c3ad4d53&#45;7532&#45;4172&#45;b517&#45;918d35870fb4&#45;&gt;8</title>\n<g id=\"a_edge1\"><a xlink:title=\"&#45;&gt;8\">\n<path fill=\"none\" stroke=\"black\" d=\"M3.75,-18C7.25,-18 19.84,-18 31.96,-18\"/>\n<polygon fill=\"black\" stroke=\"black\" points=\"32.08,-20.98 40.58,-18 32.07,-15.03 32.08,-20.98\"/>\n</a>\n</g>\n</g>\n<!-- 0 -->\n<g id=\"node3\" class=\"node\">\n<title>0</title>\n<ellipse fill=\"none\" stroke=\"black\" cx=\"137.6\" cy=\"-277\" rx=\"18\" ry=\"18\"/>\n<text text-anchor=\"middle\" x=\"137.6\" y=\"-273.3\" font-family=\"Times,serif\" font-size=\"14.00\">0</text>\n</g>\n<!-- 8&#45;&gt;0 -->\n<g id=\"edge2\" class=\"edge\">\n<title>8&#45;&gt;0</title>\n<path fill=\"none\" stroke=\"black\" d=\"M64.65,-34.99C77.84,-79.36 113.37,-198.86 129.02,-251.51\"/>\n<polygon fill=\"black\" stroke=\"black\" points=\"126.25,-252.64 131.53,-259.94 131.96,-250.94 126.25,-252.64\"/>\n<text text-anchor=\"middle\" x=\"98.1\" y=\"-159.8\" font-family=\"Times,serif\" font-size=\"14.00\">1</text>\n</g>\n<!-- 6 -->\n<g id=\"node4\" class=\"node\">\n<title>6</title>\n<ellipse fill=\"none\" stroke=\"black\" cx=\"717.6\" cy=\"-69\" rx=\"18\" ry=\"18\"/>\n<text text-anchor=\"middle\" x=\"717.6\" y=\"-65.3\" font-family=\"Times,serif\" font-size=\"14.00\">6</text>\n</g>\n<!-- 8&#45;&gt;6 -->\n<g id=\"edge3\" class=\"edge\">\n<title>8&#45;&gt;6</title>\n<path fill=\"none\" stroke=\"black\" d=\"M75.92,-12.58C91.37,-7.94 115.3,-2 136.6,-2 136.6,-2 136.6,-2 635.6,-2 664.24,-2 688.21,-27.18 702.47,-46.67\"/>\n<polygon fill=\"black\" stroke=\"black\" points=\"700.14,-48.53 707.44,-53.8 705.02,-45.12 700.14,-48.53\"/>\n<text text-anchor=\"middle\" x=\"378.6\" y=\"-5.8\" font-family=\"Times,serif\" font-size=\"14.00\">0</text>\n</g>\n<!-- 5 -->\n<g id=\"node5\" class=\"node\">\n<title>5</title>\n<ellipse fill=\"none\" stroke=\"black\" cx=\"216.6\" cy=\"-334\" rx=\"18\" ry=\"18\"/>\n<text text-anchor=\"middle\" x=\"216.6\" y=\"-330.3\" font-family=\"Times,serif\" font-size=\"14.00\">5</text>\n</g>\n<!-- 0&#45;&gt;5 -->\n<g id=\"edge4\" class=\"edge\">\n<title>0&#45;&gt;5</title>\n<path fill=\"none\" stroke=\"black\" d=\"M152.72,-287.45C164.45,-296.13 181.29,-308.6 194.59,-318.45\"/>\n<polygon fill=\"black\" stroke=\"black\" points=\"192.97,-320.95 201.57,-323.61 196.5,-316.16 192.97,-320.95\"/>\n<text text-anchor=\"middle\" x=\"177.1\" y=\"-310.8\" font-family=\"Times,serif\" font-size=\"14.00\">1</text>\n</g>\n<!-- 7 -->\n<g id=\"node6\" class=\"node\">\n<title>7</title>\n<ellipse fill=\"none\" stroke=\"black\" cx=\"216.6\" cy=\"-278\" rx=\"18\" ry=\"18\"/>\n<text text-anchor=\"middle\" x=\"216.6\" y=\"-274.3\" font-family=\"Times,serif\" font-size=\"14.00\">7</text>\n</g>\n<!-- 0&#45;&gt;7 -->\n<g id=\"edge5\" class=\"edge\">\n<title>0&#45;&gt;7</title>\n<path fill=\"none\" stroke=\"black\" d=\"M155.69,-277.22C165.76,-277.35 178.69,-277.52 189.96,-277.67\"/>\n<polygon fill=\"black\" stroke=\"black\" points=\"190.02,-280.65 198.56,-277.78 190.1,-274.7 190.02,-280.65\"/>\n<text text-anchor=\"middle\" x=\"177.1\" y=\"-280.8\" font-family=\"Times,serif\" font-size=\"14.00\">0</text>\n</g>\n<!-- 3 -->\n<g id=\"node7\" class=\"node\">\n<title>3</title>\n<ellipse fill=\"none\" stroke=\"black\" cx=\"378.6\" cy=\"-159\" rx=\"22\" ry=\"22\"/>\n<ellipse fill=\"none\" stroke=\"black\" cx=\"378.6\" cy=\"-159\" rx=\"26\" ry=\"26\"/>\n<text text-anchor=\"middle\" x=\"378.6\" y=\"-155.3\" font-family=\"Times,serif\" font-size=\"14.00\">3</text>\n</g>\n<!-- 6&#45;&gt;3 -->\n<g id=\"edge6\" class=\"edge\">\n<title>6&#45;&gt;3</title>\n<path fill=\"none\" stroke=\"black\" d=\"M700.77,-62.35C684.67,-56.2 658.84,-48 635.6,-48 466.1,-48 466.1,-48 466.1,-48 424.72,-48 400.23,-96.58 388.4,-129.47\"/>\n<polygon fill=\"black\" stroke=\"black\" points=\"385.47,-128.85 385.52,-137.86 391.09,-130.79 385.47,-128.85\"/>\n<text text-anchor=\"middle\" x=\"551.6\" y=\"-51.8\" font-family=\"Times,serif\" font-size=\"14.00\">0</text>\n</g>\n<!-- 10 -->\n<g id=\"node8\" class=\"node\">\n<title>10</title>\n<ellipse fill=\"none\" stroke=\"black\" cx=\"798.09\" cy=\"-300\" rx=\"19.5\" ry=\"19.5\"/>\n<text text-anchor=\"middle\" x=\"798.09\" y=\"-296.3\" font-family=\"Times,serif\" font-size=\"14.00\">10</text>\n</g>\n<!-- 6&#45;&gt;10 -->\n<g id=\"edge7\" class=\"edge\">\n<title>6&#45;&gt;10</title>\n<path fill=\"none\" stroke=\"black\" d=\"M724.37,-85.99C737.9,-125.81 771.76,-225.44 788.05,-273.39\"/>\n<polygon fill=\"black\" stroke=\"black\" points=\"785.33,-274.63 790.88,-281.72 790.96,-272.71 785.33,-274.63\"/>\n<text text-anchor=\"middle\" x=\"757.1\" y=\"-195.8\" font-family=\"Times,serif\" font-size=\"14.00\">1</text>\n</g>\n<!-- 5&#45;&gt;10 -->\n<g id=\"edge8\" class=\"edge\">\n<title>5&#45;&gt;10</title>\n<path fill=\"none\" stroke=\"black\" d=\"M234.69,-336.45C250.26,-338.47 273.93,-341 294.6,-341 294.6,-341 294.6,-341 718.6,-341 739.87,-341 761.08,-329.02 776.08,-318.02\"/>\n<polygon fill=\"black\" stroke=\"black\" points=\"778,-320.3 782.91,-312.75 774.36,-315.59 778,-320.3\"/>\n<text text-anchor=\"middle\" x=\"512.1\" y=\"-344.8\" font-family=\"Times,serif\" font-size=\"14.00\">1</text>\n</g>\n<!-- 9 -->\n<g id=\"node9\" class=\"node\">\n<title>9</title>\n<ellipse fill=\"none\" stroke=\"black\" cx=\"295.6\" cy=\"-225\" rx=\"18\" ry=\"18\"/>\n<text text-anchor=\"middle\" x=\"295.6\" y=\"-221.3\" font-family=\"Times,serif\" font-size=\"14.00\">9</text>\n</g>\n<!-- 5&#45;&gt;9 -->\n<g id=\"edge9\" class=\"edge\">\n<title>5&#45;&gt;9</title>\n<path fill=\"none\" stroke=\"black\" d=\"M227.67,-319.75C240.87,-301.06 264.14,-268.11 279.47,-246.42\"/>\n<polygon fill=\"black\" stroke=\"black\" points=\"282.06,-247.91 284.53,-239.25 277.2,-244.48 282.06,-247.91\"/>\n<text text-anchor=\"middle\" x=\"256.1\" y=\"-285.8\" font-family=\"Times,serif\" font-size=\"14.00\">0</text>\n</g>\n<!-- 7&#45;&gt;0 -->\n<g id=\"edge10\" class=\"edge\">\n<title>7&#45;&gt;0</title>\n<path fill=\"none\" stroke=\"black\" d=\"M201.69,-267.83C195.55,-263.95 188.04,-259.98 180.6,-258 173.37,-256.08 165.83,-258.09 159.16,-261.42\"/>\n<polygon fill=\"black\" stroke=\"black\" points=\"157.6,-258.89 151.8,-265.78 160.63,-264.01 157.6,-258.89\"/>\n<text text-anchor=\"middle\" x=\"177.1\" y=\"-261.8\" font-family=\"Times,serif\" font-size=\"14.00\">1</text>\n</g>\n<!-- 2 -->\n<g id=\"node10\" class=\"node\">\n<title>2</title>\n<ellipse fill=\"none\" stroke=\"black\" cx=\"634.6\" cy=\"-199\" rx=\"18\" ry=\"18\"/>\n<text text-anchor=\"middle\" x=\"634.6\" y=\"-195.3\" font-family=\"Times,serif\" font-size=\"14.00\">2</text>\n</g>\n<!-- 7&#45;&gt;2 -->\n<g id=\"edge11\" class=\"edge\">\n<title>7&#45;&gt;2</title>\n<path fill=\"none\" stroke=\"black\" d=\"M234.13,-282.85C286.51,-297.25 452.28,-335.39 569.6,-279 593.58,-267.47 611.39,-242.09 622.05,-222.99\"/>\n<polygon fill=\"black\" stroke=\"black\" points=\"624.81,-224.14 626.18,-215.24 619.56,-221.34 624.81,-224.14\"/>\n<text text-anchor=\"middle\" x=\"422.1\" y=\"-311.8\" font-family=\"Times,serif\" font-size=\"14.00\">0</text>\n</g>\n<!-- 11 -->\n<g id=\"node11\" class=\"node\">\n<title>11</title>\n<ellipse fill=\"none\" stroke=\"black\" cx=\"467.1\" cy=\"-163\" rx=\"23.5\" ry=\"23.5\"/>\n<ellipse fill=\"none\" stroke=\"black\" cx=\"467.1\" cy=\"-163\" rx=\"27.5\" ry=\"27.5\"/>\n<text text-anchor=\"middle\" x=\"467.1\" y=\"-159.3\" font-family=\"Times,serif\" font-size=\"14.00\">11</text>\n</g>\n<!-- 3&#45;&gt;11 -->\n<g id=\"edge12\" class=\"edge\">\n<title>3&#45;&gt;11</title>\n<path fill=\"none\" stroke=\"black\" d=\"M400.98,-159.99C411.17,-160.46 423.55,-161.03 434.77,-161.55\"/>\n<polygon fill=\"black\" stroke=\"black\" points=\"434.82,-164.53 443.45,-161.95 435.1,-158.59 434.82,-164.53\"/>\n<text text-anchor=\"middle\" x=\"422.1\" y=\"-165.8\" font-family=\"Times,serif\" font-size=\"14.00\">0</text>\n</g>\n<!-- 4 -->\n<g id=\"node12\" class=\"node\">\n<title>4</title>\n<ellipse fill=\"none\" stroke=\"black\" cx=\"551.6\" cy=\"-117\" rx=\"18\" ry=\"18\"/>\n<text text-anchor=\"middle\" x=\"551.6\" y=\"-113.3\" font-family=\"Times,serif\" font-size=\"14.00\">4</text>\n</g>\n<!-- 3&#45;&gt;4 -->\n<g id=\"edge13\" class=\"edge\">\n<title>3&#45;&gt;4</title>\n<path fill=\"none\" stroke=\"black\" d=\"M395.3,-144.52C407.47,-134.34 425.29,-121.58 443.6,-116 470.62,-107.77 503.29,-109.67 525.36,-112.57\"/>\n<polygon fill=\"black\" stroke=\"black\" points=\"525,-115.52 533.84,-113.8 525.86,-109.64 525,-115.52\"/>\n<text text-anchor=\"middle\" x=\"467.1\" y=\"-119.8\" font-family=\"Times,serif\" font-size=\"14.00\">1</text>\n</g>\n<!-- 10&#45;&gt;0 -->\n<g id=\"edge14\" class=\"edge\">\n<title>10&#45;&gt;0</title>\n<path fill=\"none\" stroke=\"black\" d=\"M790.31,-318.03C779.41,-343.51 755.42,-387 718.6,-387 215.6,-387 215.6,-387 215.6,-387 174.9,-387 153.9,-335.84 144.66,-303.3\"/>\n<polygon fill=\"black\" stroke=\"black\" points=\"147.42,-302.12 142.36,-294.67 141.67,-303.65 147.42,-302.12\"/>\n<text text-anchor=\"middle\" x=\"467.1\" y=\"-390.8\" font-family=\"Times,serif\" font-size=\"14.00\">1</text>\n</g>\n<!-- 10&#45;&gt;9 -->\n<g id=\"edge15\" class=\"edge\">\n<title>10&#45;&gt;9</title>\n<path fill=\"none\" stroke=\"black\" d=\"M782.86,-287.56C767.92,-275.82 743.22,-260 718.6,-260 377.6,-260 377.6,-260 377.6,-260 356.21,-260 334.05,-249.58 318.33,-240.12\"/>\n<polygon fill=\"black\" stroke=\"black\" points=\"319.5,-237.34 310.73,-235.31 316.32,-242.37 319.5,-237.34\"/>\n<text text-anchor=\"middle\" x=\"551.6\" y=\"-263.8\" font-family=\"Times,serif\" font-size=\"14.00\">0</text>\n</g>\n<!-- 9&#45;&gt;0 -->\n<g id=\"edge16\" class=\"edge\">\n<title>9&#45;&gt;0</title>\n<path fill=\"none\" stroke=\"black\" d=\"M277.38,-224.53C257.71,-224.54 224.86,-226.25 198.6,-236 184.05,-241.41 169.62,-251.09 158.56,-259.68\"/>\n<polygon fill=\"black\" stroke=\"black\" points=\"156.57,-257.47 151.82,-265.12 160.3,-262.1 156.57,-257.47\"/>\n<text text-anchor=\"middle\" x=\"216.6\" y=\"-239.8\" font-family=\"Times,serif\" font-size=\"14.00\">1</text>\n</g>\n<!-- 9&#45;&gt;3 -->\n<g id=\"edge17\" class=\"edge\">\n<title>9&#45;&gt;3</title>\n<path fill=\"none\" stroke=\"black\" d=\"M307.85,-211.54C314.38,-204.15 322.99,-195.07 331.6,-188 337.68,-183 344.68,-178.18 351.36,-173.96\"/>\n<polygon fill=\"black\" stroke=\"black\" points=\"353.27,-176.28 358.97,-169.3 350.17,-171.2 353.27,-176.28\"/>\n<text text-anchor=\"middle\" x=\"335.1\" y=\"-191.8\" font-family=\"Times,serif\" font-size=\"14.00\">0</text>\n</g>\n<!-- 2&#45;&gt;3 -->\n<g id=\"edge18\" class=\"edge\">\n<title>2&#45;&gt;3</title>\n<path fill=\"none\" stroke=\"black\" d=\"M616.63,-201.53C582.87,-205.95 505.2,-212.98 443.6,-195 429.78,-190.97 415.7,-183.49 404.27,-176.38\"/>\n<polygon fill=\"black\" stroke=\"black\" points=\"405.58,-173.69 396.83,-171.57 402.35,-178.68 405.58,-173.69\"/>\n<text text-anchor=\"middle\" x=\"512.1\" y=\"-209.8\" font-family=\"Times,serif\" font-size=\"14.00\">1</text>\n</g>\n<!-- 2&#45;&gt;11 -->\n<g id=\"edge19\" class=\"edge\">\n<title>2&#45;&gt;11</title>\n<path fill=\"none\" stroke=\"black\" d=\"M616.75,-195.31C603.85,-192.48 585.6,-188.48 569.6,-185 545.81,-179.82 518.88,-173.98 498.74,-169.63\"/>\n<polygon fill=\"black\" stroke=\"black\" points=\"499.22,-166.69 490.28,-167.79 497.95,-172.5 499.22,-166.69\"/>\n<text text-anchor=\"middle\" x=\"551.6\" y=\"-188.8\" font-family=\"Times,serif\" font-size=\"14.00\">0</text>\n</g>\n<!-- 11&#45;&gt;9 -->\n<g id=\"edge20\" class=\"edge\">\n<title>11&#45;&gt;9</title>\n<path fill=\"none\" stroke=\"black\" d=\"M445.2,-172.63C438.94,-175.43 432.03,-178.42 425.6,-181 389.89,-195.34 347.5,-209.22 321.32,-217.43\"/>\n<polygon fill=\"black\" stroke=\"black\" points=\"320.33,-214.62 313.1,-219.99 322.1,-220.3 320.33,-214.62\"/>\n<text text-anchor=\"middle\" x=\"378.6\" y=\"-208.8\" font-family=\"Times,serif\" font-size=\"14.00\">0</text>\n</g>\n<!-- 11&#45;&gt;4 -->\n<g id=\"edge21\" class=\"edge\">\n<title>11&#45;&gt;4</title>\n<path fill=\"none\" stroke=\"black\" d=\"M488.07,-151.86C500.04,-145.19 515.3,-136.68 527.75,-129.74\"/>\n<polygon fill=\"black\" stroke=\"black\" points=\"529.49,-132.18 535.46,-125.44 526.59,-126.98 529.49,-132.18\"/>\n<text text-anchor=\"middle\" x=\"512.1\" y=\"-143.8\" font-family=\"Times,serif\" font-size=\"14.00\">1</text>\n</g>\n<!-- 4&#45;&gt;2 -->\n<g id=\"edge22\" class=\"edge\">\n<title>4&#45;&gt;2</title>\n<path fill=\"none\" stroke=\"black\" d=\"M565.21,-129.08C573.62,-137.18 584.86,-148.14 594.6,-158 601.53,-165.03 609.03,-172.85 615.59,-179.77\"/>\n<polygon fill=\"black\" stroke=\"black\" points=\"613.77,-182.18 621.77,-186.32 618.1,-178.1 613.77,-182.18\"/>\n<text text-anchor=\"middle\" x=\"591.1\" y=\"-161.8\" font-family=\"Times,serif\" font-size=\"14.00\">1</text>\n</g>\n<!-- 1 -->\n<g id=\"node13\" class=\"node\">\n<title>1</title>\n<ellipse fill=\"none\" stroke=\"black\" cx=\"634.6\" cy=\"-98\" rx=\"22\" ry=\"22\"/>\n<ellipse fill=\"none\" stroke=\"black\" cx=\"634.6\" cy=\"-98\" rx=\"26\" ry=\"26\"/>\n<text text-anchor=\"middle\" x=\"634.6\" y=\"-94.3\" font-family=\"Times,serif\" font-size=\"14.00\">1</text>\n</g>\n<!-- 4&#45;&gt;1 -->\n<g id=\"edge23\" class=\"edge\">\n<title>4&#45;&gt;1</title>\n<path fill=\"none\" stroke=\"black\" d=\"M569.38,-113.06C579.6,-110.67 592.92,-107.54 604.79,-104.76\"/>\n<polygon fill=\"black\" stroke=\"black\" points=\"605.5,-107.65 613.1,-102.81 604.15,-101.86 605.5,-107.65\"/>\n<text text-anchor=\"middle\" x=\"591.1\" y=\"-112.8\" font-family=\"Times,serif\" font-size=\"14.00\">0</text>\n</g>\n<!-- 1&#45;&gt;6 -->\n<g id=\"edge24\" class=\"edge\">\n<title>1&#45;&gt;6</title>\n<path fill=\"none\" stroke=\"black\" d=\"M655.62,-90.83C666.7,-86.86 680.56,-81.9 692.27,-77.71\"/>\n<polygon fill=\"black\" stroke=\"black\" points=\"693.34,-80.49 700.34,-74.82 691.33,-74.89 693.34,-80.49\"/>\n<text text-anchor=\"middle\" x=\"678.1\" y=\"-87.8\" font-family=\"Times,serif\" font-size=\"14.00\">0</text>\n</g>\n<!-- 1&#45;&gt;4 -->\n<g id=\"edge25\" class=\"edge\">\n<title>1&#45;&gt;4</title>\n<path fill=\"none\" stroke=\"black\" d=\"M614.02,-89.67C605.72,-87.28 596.04,-86.04 587.6,-89 581.77,-91.04 576.2,-94.5 571.28,-98.31\"/>\n<polygon fill=\"black\" stroke=\"black\" points=\"569.13,-96.23 564.59,-104.01 572.99,-100.76 569.13,-96.23\"/>\n<text text-anchor=\"middle\" x=\"591.1\" y=\"-92.8\" font-family=\"Times,serif\" font-size=\"14.00\">1</text>\n</g>\n</g>\n</svg>\n",
            "text/plain": [
              "<AGraph <Swig Object of type 'Agraph_t *' at 0x7f528f7cd320>>"
            ]
          },
          "metadata": {},
          "execution_count": 75
        }
      ],
      "source": [
        "fa.show_diagram()"
      ]
    },
    {
      "cell_type": "code",
      "execution_count": 76,
      "metadata": {
        "colab": {
          "base_uri": "https://localhost:8080/"
        },
        "id": "MRb4vGcmVgHS",
        "outputId": "02863627-59b7-4ce3-9390-4be607bc1905"
      },
      "outputs": [
        {
          "output_type": "execute_result",
          "data": {
            "text/plain": [
              "{'0010', '0100', '1000', '1001', '1100'}"
            ]
          },
          "metadata": {},
          "execution_count": 76
        }
      ],
      "source": [
        "A = fa1[4]\n",
        "B = fa2[4]\n",
        "set(A) - set(B)"
      ]
    },
    {
      "cell_type": "code",
      "execution_count": 77,
      "metadata": {
        "colab": {
          "base_uri": "https://localhost:8080/"
        },
        "id": "0Pz6hMjZVgHS",
        "outputId": "fca590f0-62c4-44c1-e584-7b1bf59578f8"
      },
      "outputs": [
        {
          "output_type": "execute_result",
          "data": {
            "text/plain": [
              "True"
            ]
          },
          "metadata": {},
          "execution_count": 77
        }
      ],
      "source": [
        "'0010' in fa and '0100' in fa and '1000' in fa and '1001' in fa and '1100' in fa"
      ]
    },
    {
      "cell_type": "code",
      "execution_count": 78,
      "metadata": {
        "colab": {
          "base_uri": "https://localhost:8080/"
        },
        "id": "tRgtdN3BVgHT",
        "outputId": "1c46b59f-99df-45b4-961b-30f175c802d1"
      },
      "outputs": [
        {
          "output_type": "stream",
          "name": "stdout",
          "text": [
            "['0010', '0100', '1000', '1001', '1100']\n"
          ]
        }
      ],
      "source": [
        "D = [w for w in fa1[4] if not w in fa2]\n",
        "print(D)"
      ]
    },
    {
      "cell_type": "markdown",
      "metadata": {
        "id": "Xu7PvyG-4fPe"
      },
      "source": [
        "## Union and intersection of automata\n",
        "* The union of two automata `fa1` and `fa2` is defined as a\n",
        "  minimal automaton which accepts the union of their languages.\n",
        "* In the automata-lib package this automaton is obtained\n",
        "  by the **union operator** `fa1 | fa2`.\n",
        "* The **intersection operator** is `fa1 & fa2`.\n",
        "* The following code verifies that words of length 5\n",
        "  and below accepted by `fa1 & fa2` are also accepted\n",
        "  by `fa1 | fa2`"
      ]
    },
    {
      "cell_type": "code",
      "execution_count": 79,
      "metadata": {
        "colab": {
          "base_uri": "https://localhost:8080/"
        },
        "id": "0vgq1qFsVgHU",
        "outputId": "5d23d61c-7a50-4ca7-bcdc-d9922860bab0"
      },
      "outputs": [
        {
          "output_type": "stream",
          "name": "stdout",
          "text": [
            "     001  True\n",
            "     100  True\n",
            "    0001  True\n",
            "    0011  True\n",
            "   00011  True\n",
            "   00101  True\n",
            "   01001  True\n",
            "   01100  True\n",
            "   10001  True\n",
            "   10011  True\n",
            "   10100  True\n",
            "   11001  True\n"
          ]
        }
      ],
      "source": [
        "intersection = fa1 & fa2\n",
        "union = fa1 | fa2\n",
        "\n",
        "for w in intersection:\n",
        "    if len(w)>5:\n",
        "        break\n",
        "    print(f\"{w:>8}  {w in union}\")"
      ]
    },
    {
      "cell_type": "code",
      "execution_count": 80,
      "metadata": {
        "id": "ehhZWXnOVgHX"
      },
      "outputs": [],
      "source": [
        "fa = fa1 & fa2"
      ]
    },
    {
      "cell_type": "code",
      "execution_count": 81,
      "metadata": {
        "colab": {
          "base_uri": "https://localhost:8080/",
          "height": 654
        },
        "id": "UeUdW-9eVgHX",
        "outputId": "b5569dfc-75f5-440c-e671-72691eec2367"
      },
      "outputs": [
        {
          "output_type": "execute_result",
          "data": {
            "image/svg+xml": "<?xml version=\"1.0\" encoding=\"UTF-8\" standalone=\"no\"?>\n<!DOCTYPE svg PUBLIC \"-//W3C//DTD SVG 1.1//EN\"\n \"http://www.w3.org/Graphics/SVG/1.1/DTD/svg11.dtd\">\n<!-- Generated by graphviz version 2.43.0 (0)\n -->\n<!-- Pages: 1 -->\n<svg width=\"739pt\" height=\"474pt\"\n viewBox=\"0.00 0.00 738.59 474.00\" xmlns=\"http://www.w3.org/2000/svg\" xmlns:xlink=\"http://www.w3.org/1999/xlink\">\n<g id=\"graph0\" class=\"graph\" transform=\"scale(1 1) rotate(0) translate(4 470)\">\n<polygon fill=\"white\" stroke=\"transparent\" points=\"-4,4 -4,-470 734.59,-470 734.59,4 -4,4\"/>\n<!-- 21ea2efe&#45;3c1a&#45;4e67&#45;83e7&#45;e0a0898fa702 -->\n<g id=\"node1\" class=\"node\">\n<title>21ea2efe&#45;3c1a&#45;4e67&#45;83e7&#45;e0a0898fa702</title>\n<g id=\"a_node1\"><a xlink:title=\".\">\n<ellipse fill=\"black\" stroke=\"black\" cx=\"1.8\" cy=\"-18\" rx=\"1.8\" ry=\"1.8\"/>\n</a>\n</g>\n</g>\n<!-- 8 -->\n<g id=\"node2\" class=\"node\">\n<title>8</title>\n<ellipse fill=\"none\" stroke=\"black\" cx=\"58.6\" cy=\"-18\" rx=\"18\" ry=\"18\"/>\n<text text-anchor=\"middle\" x=\"58.6\" y=\"-14.3\" font-family=\"Times,serif\" font-size=\"14.00\">8</text>\n</g>\n<!-- 21ea2efe&#45;3c1a&#45;4e67&#45;83e7&#45;e0a0898fa702&#45;&gt;8 -->\n<g id=\"edge1\" class=\"edge\">\n<title>21ea2efe&#45;3c1a&#45;4e67&#45;83e7&#45;e0a0898fa702&#45;&gt;8</title>\n<g id=\"a_edge1\"><a xlink:title=\"&#45;&gt;8\">\n<path fill=\"none\" stroke=\"black\" d=\"M3.75,-18C7.25,-18 19.84,-18 31.96,-18\"/>\n<polygon fill=\"black\" stroke=\"black\" points=\"32.08,-20.98 40.58,-18 32.07,-15.03 32.08,-20.98\"/>\n</a>\n</g>\n</g>\n<!-- 5 -->\n<g id=\"node3\" class=\"node\">\n<title>5</title>\n<ellipse fill=\"none\" stroke=\"black\" cx=\"137.6\" cy=\"-310\" rx=\"18\" ry=\"18\"/>\n<text text-anchor=\"middle\" x=\"137.6\" y=\"-306.3\" font-family=\"Times,serif\" font-size=\"14.00\">5</text>\n</g>\n<!-- 8&#45;&gt;5 -->\n<g id=\"edge2\" class=\"edge\">\n<title>8&#45;&gt;5</title>\n<path fill=\"none\" stroke=\"black\" d=\"M64.19,-35.39C77.21,-84.79 114.48,-226.13 129.85,-284.41\"/>\n<polygon fill=\"black\" stroke=\"black\" points=\"126.99,-285.24 132.04,-292.7 132.75,-283.72 126.99,-285.24\"/>\n<text text-anchor=\"middle\" x=\"98.1\" y=\"-176.8\" font-family=\"Times,serif\" font-size=\"14.00\">1</text>\n</g>\n<!-- 7 -->\n<g id=\"node4\" class=\"node\">\n<title>7</title>\n<ellipse fill=\"none\" stroke=\"black\" cx=\"629.1\" cy=\"-94\" rx=\"18\" ry=\"18\"/>\n<text text-anchor=\"middle\" x=\"629.1\" y=\"-90.3\" font-family=\"Times,serif\" font-size=\"14.00\">7</text>\n</g>\n<!-- 8&#45;&gt;7 -->\n<g id=\"edge3\" class=\"edge\">\n<title>8&#45;&gt;7</title>\n<path fill=\"none\" stroke=\"black\" d=\"M75.92,-12.58C91.37,-7.94 115.3,-2 136.6,-2 136.6,-2 136.6,-2 415.1,-2 490.69,-2 569.91,-51.43 606.82,-77.83\"/>\n<polygon fill=\"black\" stroke=\"black\" points=\"605.42,-80.49 614.04,-83.08 608.92,-75.68 605.42,-80.49\"/>\n<text text-anchor=\"middle\" x=\"335.1\" y=\"-5.8\" font-family=\"Times,serif\" font-size=\"14.00\">0</text>\n</g>\n<!-- 0 -->\n<g id=\"node5\" class=\"node\">\n<title>0</title>\n<ellipse fill=\"none\" stroke=\"black\" cx=\"216.6\" cy=\"-291\" rx=\"18\" ry=\"18\"/>\n<text text-anchor=\"middle\" x=\"216.6\" y=\"-287.3\" font-family=\"Times,serif\" font-size=\"14.00\">0</text>\n</g>\n<!-- 5&#45;&gt;0 -->\n<g id=\"edge4\" class=\"edge\">\n<title>5&#45;&gt;0</title>\n<path fill=\"none\" stroke=\"black\" d=\"M153.34,-300.54C159.37,-297.18 166.58,-293.79 173.6,-292 178.76,-290.69 184.4,-290.04 189.81,-289.79\"/>\n<polygon fill=\"black\" stroke=\"black\" points=\"190.14,-292.76 198.61,-289.69 190.08,-286.81 190.14,-292.76\"/>\n<text text-anchor=\"middle\" x=\"177.1\" y=\"-295.8\" font-family=\"Times,serif\" font-size=\"14.00\">1</text>\n</g>\n<!-- 4 -->\n<g id=\"node6\" class=\"node\">\n<title>4</title>\n<ellipse fill=\"none\" stroke=\"black\" cx=\"216.6\" cy=\"-367\" rx=\"18\" ry=\"18\"/>\n<text text-anchor=\"middle\" x=\"216.6\" y=\"-363.3\" font-family=\"Times,serif\" font-size=\"14.00\">4</text>\n</g>\n<!-- 5&#45;&gt;4 -->\n<g id=\"edge5\" class=\"edge\">\n<title>5&#45;&gt;4</title>\n<path fill=\"none\" stroke=\"black\" d=\"M150.07,-323.29C156.53,-330.28 165.01,-338.69 173.6,-345 179.29,-349.18 185.88,-353.03 192.13,-356.3\"/>\n<polygon fill=\"black\" stroke=\"black\" points=\"190.85,-358.98 199.78,-360.12 193.5,-353.66 190.85,-358.98\"/>\n<text text-anchor=\"middle\" x=\"177.1\" y=\"-352.8\" font-family=\"Times,serif\" font-size=\"14.00\">0</text>\n</g>\n<!-- 10 -->\n<g id=\"node7\" class=\"node\">\n<title>10</title>\n<ellipse fill=\"none\" stroke=\"black\" cx=\"711.09\" cy=\"-341\" rx=\"19.5\" ry=\"19.5\"/>\n<text text-anchor=\"middle\" x=\"711.09\" y=\"-337.3\" font-family=\"Times,serif\" font-size=\"14.00\">10</text>\n</g>\n<!-- 7&#45;&gt;10 -->\n<g id=\"edge6\" class=\"edge\">\n<title>7&#45;&gt;10</title>\n<path fill=\"none\" stroke=\"black\" d=\"M635.6,-110.98C649.28,-153.22 684.94,-263.32 701.46,-314.33\"/>\n<polygon fill=\"black\" stroke=\"black\" points=\"698.68,-315.4 704.13,-322.57 704.34,-313.57 698.68,-315.4\"/>\n<text text-anchor=\"middle\" x=\"670.1\" y=\"-227.8\" font-family=\"Times,serif\" font-size=\"14.00\">1</text>\n</g>\n<!-- 6 -->\n<g id=\"node8\" class=\"node\">\n<title>6</title>\n<ellipse fill=\"none\" stroke=\"black\" cx=\"374.6\" cy=\"-232\" rx=\"18\" ry=\"18\"/>\n<text text-anchor=\"middle\" x=\"374.6\" y=\"-228.3\" font-family=\"Times,serif\" font-size=\"14.00\">6</text>\n</g>\n<!-- 7&#45;&gt;6 -->\n<g id=\"edge7\" class=\"edge\">\n<title>7&#45;&gt;6</title>\n<path fill=\"none\" stroke=\"black\" d=\"M611.68,-89.44C576.12,-80.6 490.77,-65.06 435.6,-102 400.63,-125.41 385.67,-174.71 379.55,-205.42\"/>\n<polygon fill=\"black\" stroke=\"black\" points=\"376.6,-205.03 377.99,-213.93 382.45,-206.11 376.6,-205.03\"/>\n<text text-anchor=\"middle\" x=\"501.1\" y=\"-84.8\" font-family=\"Times,serif\" font-size=\"14.00\">0</text>\n</g>\n<!-- 0&#45;&gt;10 -->\n<g id=\"edge8\" class=\"edge\">\n<title>0&#45;&gt;10</title>\n<path fill=\"none\" stroke=\"black\" d=\"M234.38,-295.46C265.99,-304.1 336.26,-324.45 392.6,-349 442.56,-370.77 445.6,-408 500.1,-408 500.1,-408 500.1,-408 630.1,-408 657.89,-408 681.1,-383.94 695.24,-364.66\"/>\n<polygon fill=\"black\" stroke=\"black\" points=\"697.77,-366.23 700.2,-357.56 692.89,-362.82 697.77,-366.23\"/>\n<text text-anchor=\"middle\" x=\"457.6\" y=\"-408.8\" font-family=\"Times,serif\" font-size=\"14.00\">1</text>\n</g>\n<!-- 9 -->\n<g id=\"node9\" class=\"node\">\n<title>9</title>\n<ellipse fill=\"none\" stroke=\"black\" cx=\"295.6\" cy=\"-232\" rx=\"18\" ry=\"18\"/>\n<text text-anchor=\"middle\" x=\"295.6\" y=\"-228.3\" font-family=\"Times,serif\" font-size=\"14.00\">9</text>\n</g>\n<!-- 0&#45;&gt;9 -->\n<g id=\"edge9\" class=\"edge\">\n<title>0&#45;&gt;9</title>\n<path fill=\"none\" stroke=\"black\" d=\"M231.37,-280.45C243.12,-271.45 260.2,-258.36 273.65,-248.05\"/>\n<polygon fill=\"black\" stroke=\"black\" points=\"275.75,-250.19 280.69,-242.66 272.13,-245.47 275.75,-250.19\"/>\n<text text-anchor=\"middle\" x=\"256.1\" y=\"-266.8\" font-family=\"Times,serif\" font-size=\"14.00\">0</text>\n</g>\n<!-- 4&#45;&gt;5 -->\n<g id=\"edge10\" class=\"edge\">\n<title>4&#45;&gt;5</title>\n<path fill=\"none\" stroke=\"black\" d=\"M204.66,-353.14C198.23,-345.62 189.61,-336.55 180.6,-330 175.21,-326.08 168.93,-322.61 162.9,-319.71\"/>\n<polygon fill=\"black\" stroke=\"black\" points=\"163.9,-316.9 154.93,-316.11 161.45,-322.32 163.9,-316.9\"/>\n<text text-anchor=\"middle\" x=\"177.1\" y=\"-333.8\" font-family=\"Times,serif\" font-size=\"14.00\">1</text>\n</g>\n<!-- 1 -->\n<g id=\"node10\" class=\"node\">\n<title>1</title>\n<ellipse fill=\"none\" stroke=\"black\" cx=\"544.6\" cy=\"-342\" rx=\"22\" ry=\"22\"/>\n<ellipse fill=\"none\" stroke=\"black\" cx=\"544.6\" cy=\"-342\" rx=\"26\" ry=\"26\"/>\n<text text-anchor=\"middle\" x=\"544.6\" y=\"-338.3\" font-family=\"Times,serif\" font-size=\"14.00\">1</text>\n</g>\n<!-- 4&#45;&gt;1 -->\n<g id=\"edge11\" class=\"edge\">\n<title>4&#45;&gt;1</title>\n<path fill=\"none\" stroke=\"black\" d=\"M234.75,-365.69C279.27,-362.28 402.21,-352.86 504.6,-345 507.6,-344.77 510.73,-344.53 513.86,-344.29\"/>\n<polygon fill=\"black\" stroke=\"black\" points=\"514.3,-347.24 522.55,-343.62 513.85,-341.31 514.3,-347.24\"/>\n<text text-anchor=\"middle\" x=\"374.6\" y=\"-359.8\" font-family=\"Times,serif\" font-size=\"14.00\">0</text>\n</g>\n<!-- 10&#45;&gt;5 -->\n<g id=\"edge12\" class=\"edge\">\n<title>10&#45;&gt;5</title>\n<path fill=\"none\" stroke=\"black\" d=\"M705.56,-360.16C696.82,-391.68 674.49,-451 630.1,-451 215.6,-451 215.6,-451 215.6,-451 164,-451 146.77,-377.36 141.18,-336.52\"/>\n<polygon fill=\"black\" stroke=\"black\" points=\"144.1,-335.93 140.1,-327.86 138.2,-336.66 144.1,-335.93\"/>\n<text text-anchor=\"middle\" x=\"414.1\" y=\"-454.8\" font-family=\"Times,serif\" font-size=\"14.00\">1</text>\n</g>\n<!-- 10&#45;&gt;9 -->\n<g id=\"edge13\" class=\"edge\">\n<title>10&#45;&gt;9</title>\n<path fill=\"none\" stroke=\"black\" d=\"M708.72,-321.63C704.25,-264.73 688.07,-99.97 648.6,-67 575.8,-6.2 517.19,-31.65 435.6,-80 379.78,-113.08 333.26,-175.63 310.9,-209.25\"/>\n<polygon fill=\"black\" stroke=\"black\" points=\"308.16,-208.01 305.99,-216.75 313.13,-211.27 308.16,-208.01\"/>\n<text text-anchor=\"middle\" x=\"501.1\" y=\"-50.8\" font-family=\"Times,serif\" font-size=\"14.00\">0</text>\n</g>\n<!-- 2 -->\n<g id=\"node11\" class=\"node\">\n<title>2</title>\n<ellipse fill=\"none\" stroke=\"black\" cx=\"457.6\" cy=\"-221\" rx=\"22\" ry=\"22\"/>\n<ellipse fill=\"none\" stroke=\"black\" cx=\"457.6\" cy=\"-221\" rx=\"26\" ry=\"26\"/>\n<text text-anchor=\"middle\" x=\"457.6\" y=\"-217.3\" font-family=\"Times,serif\" font-size=\"14.00\">2</text>\n</g>\n<!-- 6&#45;&gt;2 -->\n<g id=\"edge14\" class=\"edge\">\n<title>6&#45;&gt;2</title>\n<path fill=\"none\" stroke=\"black\" d=\"M392.78,-229.67C402.77,-228.31 415.63,-226.56 427.19,-224.99\"/>\n<polygon fill=\"black\" stroke=\"black\" points=\"427.68,-227.93 435.71,-223.84 426.89,-222.03 427.68,-227.93\"/>\n<text text-anchor=\"middle\" x=\"414.1\" y=\"-230.8\" font-family=\"Times,serif\" font-size=\"14.00\">1</text>\n</g>\n<!-- 11 -->\n<g id=\"node12\" class=\"node\">\n<title>11</title>\n<ellipse fill=\"none\" stroke=\"black\" cx=\"629.1\" cy=\"-256\" rx=\"19.5\" ry=\"19.5\"/>\n<text text-anchor=\"middle\" x=\"629.1\" y=\"-252.3\" font-family=\"Times,serif\" font-size=\"14.00\">11</text>\n</g>\n<!-- 6&#45;&gt;11 -->\n<g id=\"edge15\" class=\"edge\">\n<title>6&#45;&gt;11</title>\n<path fill=\"none\" stroke=\"black\" d=\"M391.39,-238.8C414.28,-248.22 458.25,-264.67 497.6,-270 533.51,-274.86 575.16,-268.28 601.56,-262.6\"/>\n<polygon fill=\"black\" stroke=\"black\" points=\"602.26,-265.49 609.9,-260.72 600.95,-259.69 602.26,-265.49\"/>\n<text text-anchor=\"middle\" x=\"501.1\" y=\"-273.8\" font-family=\"Times,serif\" font-size=\"14.00\">0</text>\n</g>\n<!-- 9&#45;&gt;5 -->\n<g id=\"edge16\" class=\"edge\">\n<title>9&#45;&gt;5</title>\n<path fill=\"none\" stroke=\"black\" d=\"M277.29,-231.95C257.24,-232.57 223.76,-235.76 198.6,-249 180.58,-258.49 164.65,-275.31 153.74,-288.89\"/>\n<polygon fill=\"black\" stroke=\"black\" points=\"151.36,-287.1 148.51,-295.64 156.07,-290.74 151.36,-287.1\"/>\n<text text-anchor=\"middle\" x=\"216.6\" y=\"-252.8\" font-family=\"Times,serif\" font-size=\"14.00\">1</text>\n</g>\n<!-- 9&#45;&gt;6 -->\n<g id=\"edge17\" class=\"edge\">\n<title>9&#45;&gt;6</title>\n<path fill=\"none\" stroke=\"black\" d=\"M313.69,-232C323.76,-232 336.69,-232 347.96,-232\"/>\n<polygon fill=\"black\" stroke=\"black\" points=\"348.06,-234.98 356.56,-232 348.06,-229.03 348.06,-234.98\"/>\n<text text-anchor=\"middle\" x=\"335.1\" y=\"-235.8\" font-family=\"Times,serif\" font-size=\"14.00\">0</text>\n</g>\n<!-- 1&#45;&gt;6 -->\n<g id=\"edge22\" class=\"edge\">\n<title>1&#45;&gt;6</title>\n<path fill=\"none\" stroke=\"black\" d=\"M522.62,-337.52C494.52,-330.66 444.29,-315.27 410.6,-287 400.65,-278.65 392.59,-266.74 386.72,-256.13\"/>\n<polygon fill=\"black\" stroke=\"black\" points=\"389.24,-254.52 382.67,-248.36 383.96,-257.27 389.24,-254.52\"/>\n<text text-anchor=\"middle\" x=\"457.6\" y=\"-327.8\" font-family=\"Times,serif\" font-size=\"14.00\">1</text>\n</g>\n<!-- 1&#45;&gt;11 -->\n<g id=\"edge23\" class=\"edge\">\n<title>1&#45;&gt;11</title>\n<path fill=\"none\" stroke=\"black\" d=\"M563.15,-330.05C572.15,-323.49 583,-314.89 591.6,-306 599.42,-297.91 606.95,-288.08 613.12,-279.28\"/>\n<polygon fill=\"black\" stroke=\"black\" points=\"615.62,-280.89 617.95,-272.19 610.71,-277.54 615.62,-280.89\"/>\n<text text-anchor=\"middle\" x=\"588.1\" y=\"-315.8\" font-family=\"Times,serif\" font-size=\"14.00\">0</text>\n</g>\n<!-- 2&#45;&gt;1 -->\n<g id=\"edge21\" class=\"edge\">\n<title>2&#45;&gt;1</title>\n<path fill=\"none\" stroke=\"black\" d=\"M476.97,-231.44C486.2,-237.4 497,-245.56 504.6,-255 518.34,-272.06 528.29,-294.74 534.71,-312.66\"/>\n<polygon fill=\"black\" stroke=\"black\" points=\"532.01,-313.95 537.57,-321.03 537.64,-312.02 532.01,-313.95\"/>\n<text text-anchor=\"middle\" x=\"501.1\" y=\"-258.8\" font-family=\"Times,serif\" font-size=\"14.00\">1</text>\n</g>\n<!-- 3 -->\n<g id=\"node13\" class=\"node\">\n<title>3</title>\n<ellipse fill=\"none\" stroke=\"black\" cx=\"544.6\" cy=\"-166\" rx=\"18\" ry=\"18\"/>\n<text text-anchor=\"middle\" x=\"544.6\" y=\"-162.3\" font-family=\"Times,serif\" font-size=\"14.00\">3</text>\n</g>\n<!-- 2&#45;&gt;3 -->\n<g id=\"edge20\" class=\"edge\">\n<title>2&#45;&gt;3</title>\n<path fill=\"none\" stroke=\"black\" d=\"M468.26,-201.42C474.89,-190.22 484.8,-177.03 497.6,-170 503.73,-166.63 511.01,-165.1 517.96,-164.53\"/>\n<polygon fill=\"black\" stroke=\"black\" points=\"518.06,-167.5 526.47,-164.28 517.89,-161.56 518.06,-167.5\"/>\n<text text-anchor=\"middle\" x=\"501.1\" y=\"-173.8\" font-family=\"Times,serif\" font-size=\"14.00\">0</text>\n</g>\n<!-- 11&#45;&gt;9 -->\n<g id=\"edge24\" class=\"edge\">\n<title>11&#45;&gt;9</title>\n<path fill=\"none\" stroke=\"black\" d=\"M624.4,-236.83C618,-209.52 601.96,-160.36 566.6,-139 480.83,-87.19 362.18,-175.17 316.05,-214.49\"/>\n<polygon fill=\"black\" stroke=\"black\" points=\"314.01,-212.33 309.53,-220.14 317.9,-216.82 314.01,-212.33\"/>\n<text text-anchor=\"middle\" x=\"457.6\" y=\"-142.8\" font-family=\"Times,serif\" font-size=\"14.00\">0</text>\n</g>\n<!-- 11&#45;&gt;2 -->\n<g id=\"edge25\" class=\"edge\">\n<title>11&#45;&gt;2</title>\n<path fill=\"none\" stroke=\"black\" d=\"M609.74,-252.21C580.42,-246.15 522.77,-234.25 487.77,-227.02\"/>\n<polygon fill=\"black\" stroke=\"black\" points=\"488.31,-224.09 479.38,-225.29 487.1,-229.92 488.31,-224.09\"/>\n<text text-anchor=\"middle\" x=\"544.6\" y=\"-246.8\" font-family=\"Times,serif\" font-size=\"14.00\">1</text>\n</g>\n<!-- 3&#45;&gt;7 -->\n<g id=\"edge18\" class=\"edge\">\n<title>3&#45;&gt;7</title>\n<path fill=\"none\" stroke=\"black\" d=\"M558.85,-154.43C572.21,-142.78 592.96,-124.66 608.27,-111.3\"/>\n<polygon fill=\"black\" stroke=\"black\" points=\"610.43,-113.37 614.88,-105.54 606.52,-108.88 610.43,-113.37\"/>\n<text text-anchor=\"middle\" x=\"588.1\" y=\"-133.8\" font-family=\"Times,serif\" font-size=\"14.00\">0</text>\n</g>\n<!-- 3&#45;&gt;2 -->\n<g id=\"edge19\" class=\"edge\">\n<title>3&#45;&gt;2</title>\n<path fill=\"none\" stroke=\"black\" d=\"M528.4,-173.97C519.3,-178.89 507.6,-185.5 497.6,-192 492.56,-195.28 487.31,-198.98 482.35,-202.61\"/>\n<polygon fill=\"black\" stroke=\"black\" points=\"480.4,-200.35 475.36,-207.82 483.95,-205.13 480.4,-200.35\"/>\n<text text-anchor=\"middle\" x=\"501.1\" y=\"-195.8\" font-family=\"Times,serif\" font-size=\"14.00\">1</text>\n</g>\n</g>\n</svg>\n",
            "text/plain": [
              "<AGraph <Swig Object of type 'Agraph_t *' at 0x7f528f6e7b40>>"
            ]
          },
          "metadata": {},
          "execution_count": 81
        }
      ],
      "source": [
        "fa.show_diagram()"
      ]
    },
    {
      "cell_type": "code",
      "execution_count": 82,
      "metadata": {
        "colab": {
          "base_uri": "https://localhost:8080/"
        },
        "id": "bJYSJivpVgHX",
        "outputId": "fb8a4ba1-dfe2-4796-dea6-41104e2219ad"
      },
      "outputs": [
        {
          "output_type": "stream",
          "name": "stdout",
          "text": [
            "  100101  accepted by fa: True\n",
            "     100  accepted by fa: True\n",
            "   00101  accepted by fa: True\n",
            "   10011  accepted by fa: True\n",
            "   11001  accepted by fa: True\n",
            "  010100  accepted by fa: True\n",
            "  010001  accepted by fa: True\n",
            "   10100  accepted by fa: True\n",
            "  010011  accepted by fa: True\n",
            "  000001  accepted by fa: True\n",
            "     001  accepted by fa: True\n",
            "  110011  accepted by fa: True\n",
            "  100111  accepted by fa: True\n",
            "  111001  accepted by fa: True\n",
            "  100011  accepted by fa: True\n",
            "  001011  accepted by fa: True\n",
            "  110001  accepted by fa: True\n",
            "   10001  accepted by fa: True\n",
            "  110100  accepted by fa: True\n",
            "   00011  accepted by fa: True\n",
            "    0011  accepted by fa: True\n",
            "   01001  accepted by fa: True\n",
            "  001111  accepted by fa: True\n",
            "   01100  accepted by fa: True\n",
            "  001101  accepted by fa: True\n",
            "  111100  accepted by fa: True\n",
            "  000101  accepted by fa: True\n",
            "    0001  accepted by fa: True\n"
          ]
        }
      ],
      "source": [
        "fa = fa1 & fa2\n",
        "A = fa1.words_of_lengths(3,6)\n",
        "B = fa2.words_of_lengths(3,6)\n",
        "C = set(A) & set(B)\n",
        "for w in C:\n",
        "    print(f\"{w:>8}  accepted by fa: {w in fa}\")"
      ]
    },
    {
      "cell_type": "code",
      "execution_count": 83,
      "metadata": {
        "id": "JJpozHVNVgHT"
      },
      "outputs": [],
      "source": [
        "fa = fa2 | fa5"
      ]
    },
    {
      "cell_type": "code",
      "execution_count": 84,
      "metadata": {
        "colab": {
          "base_uri": "https://localhost:8080/",
          "height": 368
        },
        "id": "kVP_4UA_VgHT",
        "outputId": "d83b098e-be9c-495c-9712-7773c8d80142"
      },
      "outputs": [
        {
          "output_type": "execute_result",
          "data": {
            "image/svg+xml": "<?xml version=\"1.0\" encoding=\"UTF-8\" standalone=\"no\"?>\n<!DOCTYPE svg PUBLIC \"-//W3C//DTD SVG 1.1//EN\"\n \"http://www.w3.org/Graphics/SVG/1.1/DTD/svg11.dtd\">\n<!-- Generated by graphviz version 2.43.0 (0)\n -->\n<!-- Pages: 1 -->\n<svg width=\"516pt\" height=\"260pt\"\n viewBox=\"0.00 0.00 515.60 260.00\" xmlns=\"http://www.w3.org/2000/svg\" xmlns:xlink=\"http://www.w3.org/1999/xlink\">\n<g id=\"graph0\" class=\"graph\" transform=\"scale(1 1) rotate(0) translate(4 256)\">\n<polygon fill=\"white\" stroke=\"transparent\" points=\"-4,4 -4,-256 511.6,-256 511.6,4 -4,4\"/>\n<!-- 21e7330b&#45;e202&#45;4b03&#45;a2d7&#45;1116a3f138d8 -->\n<g id=\"node1\" class=\"node\">\n<title>21e7330b&#45;e202&#45;4b03&#45;a2d7&#45;1116a3f138d8</title>\n<g id=\"a_node1\"><a xlink:title=\".\">\n<ellipse fill=\"black\" stroke=\"black\" cx=\"1.8\" cy=\"-18\" rx=\"1.8\" ry=\"1.8\"/>\n</a>\n</g>\n</g>\n<!-- 4 -->\n<g id=\"node2\" class=\"node\">\n<title>4</title>\n<ellipse fill=\"none\" stroke=\"black\" cx=\"58.6\" cy=\"-18\" rx=\"18\" ry=\"18\"/>\n<text text-anchor=\"middle\" x=\"58.6\" y=\"-14.3\" font-family=\"Times,serif\" font-size=\"14.00\">4</text>\n</g>\n<!-- 21e7330b&#45;e202&#45;4b03&#45;a2d7&#45;1116a3f138d8&#45;&gt;4 -->\n<g id=\"edge1\" class=\"edge\">\n<title>21e7330b&#45;e202&#45;4b03&#45;a2d7&#45;1116a3f138d8&#45;&gt;4</title>\n<g id=\"a_edge1\"><a xlink:title=\"&#45;&gt;4\">\n<path fill=\"none\" stroke=\"black\" d=\"M3.75,-18C7.25,-18 19.84,-18 31.96,-18\"/>\n<polygon fill=\"black\" stroke=\"black\" points=\"32.08,-20.98 40.58,-18 32.07,-15.03 32.08,-20.98\"/>\n</a>\n</g>\n</g>\n<!-- 1 -->\n<g id=\"node3\" class=\"node\">\n<title>1</title>\n<ellipse fill=\"none\" stroke=\"black\" cx=\"141.6\" cy=\"-93\" rx=\"22\" ry=\"22\"/>\n<ellipse fill=\"none\" stroke=\"black\" cx=\"141.6\" cy=\"-93\" rx=\"26\" ry=\"26\"/>\n<text text-anchor=\"middle\" x=\"141.6\" y=\"-89.3\" font-family=\"Times,serif\" font-size=\"14.00\">1</text>\n</g>\n<!-- 4&#45;&gt;1 -->\n<g id=\"edge2\" class=\"edge\">\n<title>4&#45;&gt;1</title>\n<path fill=\"none\" stroke=\"black\" d=\"M72.61,-30.05C84.95,-41.47 103.72,-58.85 118.41,-72.46\"/>\n<polygon fill=\"black\" stroke=\"black\" points=\"116.58,-74.82 124.84,-78.41 120.62,-70.45 116.58,-74.82\"/>\n<text text-anchor=\"middle\" x=\"98.1\" y=\"-58.8\" font-family=\"Times,serif\" font-size=\"14.00\">0</text>\n</g>\n<!-- 3 -->\n<g id=\"node4\" class=\"node\">\n<title>3</title>\n<ellipse fill=\"none\" stroke=\"black\" cx=\"394.6\" cy=\"-95\" rx=\"22\" ry=\"22\"/>\n<ellipse fill=\"none\" stroke=\"black\" cx=\"394.6\" cy=\"-95\" rx=\"26\" ry=\"26\"/>\n<text text-anchor=\"middle\" x=\"394.6\" y=\"-91.3\" font-family=\"Times,serif\" font-size=\"14.00\">3</text>\n</g>\n<!-- 4&#45;&gt;3 -->\n<g id=\"edge3\" class=\"edge\">\n<title>4&#45;&gt;3</title>\n<path fill=\"none\" stroke=\"black\" d=\"M75.86,-12.85C92.08,-8.17 117.81,-2 140.6,-2 140.6,-2 140.6,-2 308.6,-2 344.24,-2 368.94,-39.66 382.19,-67.06\"/>\n<polygon fill=\"black\" stroke=\"black\" points=\"379.51,-68.35 385.78,-74.82 384.91,-65.86 379.51,-68.35\"/>\n<text text-anchor=\"middle\" x=\"224.6\" y=\"-5.8\" font-family=\"Times,serif\" font-size=\"14.00\">1</text>\n</g>\n<!-- 0 -->\n<g id=\"node5\" class=\"node\">\n<title>0</title>\n<ellipse fill=\"none\" stroke=\"black\" cx=\"224.6\" cy=\"-144\" rx=\"18\" ry=\"18\"/>\n<text text-anchor=\"middle\" x=\"224.6\" y=\"-140.3\" font-family=\"Times,serif\" font-size=\"14.00\">0</text>\n</g>\n<!-- 1&#45;&gt;0 -->\n<g id=\"edge4\" class=\"edge\">\n<title>1&#45;&gt;0</title>\n<path fill=\"none\" stroke=\"black\" d=\"M160.58,-104.32C172.62,-111.9 188.56,-121.94 201.39,-130.02\"/>\n<polygon fill=\"black\" stroke=\"black\" points=\"200.14,-132.75 208.92,-134.76 203.31,-127.71 200.14,-132.75\"/>\n<text text-anchor=\"middle\" x=\"185.1\" y=\"-124.8\" font-family=\"Times,serif\" font-size=\"14.00\">1</text>\n</g>\n<!-- 2 -->\n<g id=\"node6\" class=\"node\">\n<title>2</title>\n<ellipse fill=\"none\" stroke=\"black\" cx=\"307.6\" cy=\"-95\" rx=\"22\" ry=\"22\"/>\n<ellipse fill=\"none\" stroke=\"black\" cx=\"307.6\" cy=\"-95\" rx=\"26\" ry=\"26\"/>\n<text text-anchor=\"middle\" x=\"307.6\" y=\"-91.3\" font-family=\"Times,serif\" font-size=\"14.00\">2</text>\n</g>\n<!-- 1&#45;&gt;2 -->\n<g id=\"edge5\" class=\"edge\">\n<title>1&#45;&gt;2</title>\n<path fill=\"none\" stroke=\"black\" d=\"M163.7,-93.26C192.49,-93.61 244.21,-94.24 276.9,-94.64\"/>\n<polygon fill=\"black\" stroke=\"black\" points=\"277.04,-97.61 285.58,-94.74 277.12,-91.67 277.04,-97.61\"/>\n<text text-anchor=\"middle\" x=\"224.6\" y=\"-97.8\" font-family=\"Times,serif\" font-size=\"14.00\">0</text>\n</g>\n<!-- 3&#45;&gt;1 -->\n<g id=\"edge6\" class=\"edge\">\n<title>3&#45;&gt;1</title>\n<path fill=\"none\" stroke=\"black\" d=\"M375.66,-83.58C363.26,-76.39 346.09,-67.78 329.6,-64 273.72,-51.18 207.13,-69.31 170.4,-82.16\"/>\n<polygon fill=\"black\" stroke=\"black\" points=\"169.15,-79.45 162.16,-85.13 171.17,-85.04 169.15,-79.45\"/>\n<text text-anchor=\"middle\" x=\"264.1\" y=\"-64.8\" font-family=\"Times,serif\" font-size=\"14.00\">1</text>\n</g>\n<!-- 5 -->\n<g id=\"node7\" class=\"node\">\n<title>5</title>\n<ellipse fill=\"none\" stroke=\"black\" cx=\"481.6\" cy=\"-133\" rx=\"22\" ry=\"22\"/>\n<ellipse fill=\"none\" stroke=\"black\" cx=\"481.6\" cy=\"-133\" rx=\"26\" ry=\"26\"/>\n<text text-anchor=\"middle\" x=\"481.6\" y=\"-129.3\" font-family=\"Times,serif\" font-size=\"14.00\">5</text>\n</g>\n<!-- 3&#45;&gt;5 -->\n<g id=\"edge7\" class=\"edge\">\n<title>3&#45;&gt;5</title>\n<path fill=\"none\" stroke=\"black\" d=\"M414.89,-103.62C426.22,-108.69 440.72,-115.17 453.22,-120.76\"/>\n<polygon fill=\"black\" stroke=\"black\" points=\"452.12,-123.53 461.09,-124.28 454.55,-118.09 452.12,-123.53\"/>\n<text text-anchor=\"middle\" x=\"438.1\" y=\"-118.8\" font-family=\"Times,serif\" font-size=\"14.00\">0</text>\n</g>\n<!-- 0&#45;&gt;3 -->\n<g id=\"edge8\" class=\"edge\">\n<title>0&#45;&gt;3</title>\n<path fill=\"none\" stroke=\"black\" d=\"M241.39,-151.22C262.34,-159.72 300.11,-171.22 329.6,-159 348.81,-151.04 365.27,-134.21 376.68,-119.8\"/>\n<polygon fill=\"black\" stroke=\"black\" points=\"379.09,-121.54 381.86,-112.97 374.35,-117.94 379.09,-121.54\"/>\n<text text-anchor=\"middle\" x=\"307.6\" y=\"-167.8\" font-family=\"Times,serif\" font-size=\"14.00\">1</text>\n</g>\n<!-- 0&#45;&gt;2 -->\n<g id=\"edge9\" class=\"edge\">\n<title>0&#45;&gt;2</title>\n<path fill=\"none\" stroke=\"black\" d=\"M240.46,-135.01C251.76,-128.18 267.58,-118.6 280.92,-110.53\"/>\n<polygon fill=\"black\" stroke=\"black\" points=\"282.69,-112.93 288.43,-105.99 279.62,-107.84 282.69,-112.93\"/>\n<text text-anchor=\"middle\" x=\"264.1\" y=\"-125.8\" font-family=\"Times,serif\" font-size=\"14.00\">0</text>\n</g>\n<!-- 2&#45;&gt;3 -->\n<g id=\"edge10\" class=\"edge\">\n<title>2&#45;&gt;3</title>\n<path fill=\"none\" stroke=\"black\" d=\"M329.61,-95C339.93,-95 352.54,-95 363.83,-95\"/>\n<polygon fill=\"black\" stroke=\"black\" points=\"364.04,-97.98 372.54,-95 364.04,-92.03 364.04,-97.98\"/>\n<text text-anchor=\"middle\" x=\"351.1\" y=\"-98.8\" font-family=\"Times,serif\" font-size=\"14.00\">1</text>\n</g>\n<!-- 2&#45;&gt;2 -->\n<g id=\"edge11\" class=\"edge\">\n<title>2&#45;&gt;2</title>\n<path fill=\"none\" stroke=\"black\" d=\"M299.92,-115.99C298.97,-126.09 301.53,-135 307.6,-135 311.77,-135 314.29,-130.79 315.14,-124.87\"/>\n<polygon fill=\"black\" stroke=\"black\" points=\"318.12,-124.54 315.28,-115.99 312.17,-124.44 318.12,-124.54\"/>\n<text text-anchor=\"middle\" x=\"307.6\" y=\"-138.8\" font-family=\"Times,serif\" font-size=\"14.00\">0</text>\n</g>\n<!-- 5&#45;&gt;1 -->\n<g id=\"edge12\" class=\"edge\">\n<title>5&#45;&gt;1</title>\n<path fill=\"none\" stroke=\"black\" d=\"M474.04,-154.05C463.1,-184.44 438.04,-237 395.6,-237 223.6,-237 223.6,-237 223.6,-237 171.92,-237 152.86,-165.66 146.11,-123.41\"/>\n<polygon fill=\"black\" stroke=\"black\" points=\"149.03,-122.84 144.84,-114.87 143.15,-123.72 149.03,-122.84\"/>\n<text text-anchor=\"middle\" x=\"307.6\" y=\"-240.8\" font-family=\"Times,serif\" font-size=\"14.00\">0</text>\n</g>\n<!-- 5&#45;&gt;3 -->\n<g id=\"edge13\" class=\"edge\">\n<title>5&#45;&gt;3</title>\n<path fill=\"none\" stroke=\"black\" d=\"M468.35,-114.96C461.56,-106.59 452.32,-97.52 441.6,-93 436.48,-90.84 430.74,-90 425.1,-89.92\"/>\n<polygon fill=\"black\" stroke=\"black\" points=\"424.77,-86.96 416.43,-90.35 425.07,-92.91 424.77,-86.96\"/>\n<text text-anchor=\"middle\" x=\"438.1\" y=\"-96.8\" font-family=\"Times,serif\" font-size=\"14.00\">1</text>\n</g>\n</g>\n</svg>\n",
            "text/plain": [
              "<AGraph <Swig Object of type 'Agraph_t *' at 0x7f528f7cc720>>"
            ]
          },
          "metadata": {},
          "execution_count": 84
        }
      ],
      "source": [
        "fa.show_diagram()"
      ]
    },
    {
      "cell_type": "code",
      "execution_count": 85,
      "metadata": {
        "colab": {
          "base_uri": "https://localhost:8080/",
          "height": 238
        },
        "id": "CJMngKvE6sgu",
        "outputId": "642a6eec-2a99-4253-f4cc-f685ae78a711"
      },
      "outputs": [
        {
          "output_type": "execute_result",
          "data": {
            "image/svg+xml": "<?xml version=\"1.0\" encoding=\"UTF-8\" standalone=\"no\"?>\n<!DOCTYPE svg PUBLIC \"-//W3C//DTD SVG 1.1//EN\"\n \"http://www.w3.org/Graphics/SVG/1.1/DTD/svg11.dtd\">\n<!-- Generated by graphviz version 2.43.0 (0)\n -->\n<!-- Pages: 1 -->\n<svg width=\"421pt\" height=\"162pt\"\n viewBox=\"0.00 0.00 420.60 161.56\" xmlns=\"http://www.w3.org/2000/svg\" xmlns:xlink=\"http://www.w3.org/1999/xlink\">\n<g id=\"graph0\" class=\"graph\" transform=\"scale(1 1) rotate(0) translate(4 157.56)\">\n<polygon fill=\"white\" stroke=\"transparent\" points=\"-4,4 -4,-157.56 416.6,-157.56 416.6,4 -4,4\"/>\n<!-- 1ec8b042&#45;dd21&#45;497a&#45;be47&#45;67fefe279e57 -->\n<g id=\"node1\" class=\"node\">\n<title>1ec8b042&#45;dd21&#45;497a&#45;be47&#45;67fefe279e57</title>\n<g id=\"a_node1\"><a xlink:title=\".\">\n<ellipse fill=\"black\" stroke=\"black\" cx=\"1.8\" cy=\"-21.56\" rx=\"1.8\" ry=\"1.8\"/>\n</a>\n</g>\n</g>\n<!-- 0 -->\n<g id=\"node2\" class=\"node\">\n<title>0</title>\n<ellipse fill=\"none\" stroke=\"black\" cx=\"58.6\" cy=\"-21.56\" rx=\"18\" ry=\"18\"/>\n<text text-anchor=\"middle\" x=\"58.6\" y=\"-17.86\" font-family=\"Times,serif\" font-size=\"14.00\">0</text>\n</g>\n<!-- 1ec8b042&#45;dd21&#45;497a&#45;be47&#45;67fefe279e57&#45;&gt;0 -->\n<g id=\"edge1\" class=\"edge\">\n<title>1ec8b042&#45;dd21&#45;497a&#45;be47&#45;67fefe279e57&#45;&gt;0</title>\n<g id=\"a_edge1\"><a xlink:title=\"&#45;&gt;0\">\n<path fill=\"none\" stroke=\"black\" d=\"M3.75,-21.56C7.25,-21.56 19.84,-21.56 31.96,-21.56\"/>\n<polygon fill=\"black\" stroke=\"black\" points=\"32.08,-24.54 40.58,-21.56 32.07,-18.59 32.08,-24.54\"/>\n</a>\n</g>\n</g>\n<!-- 0&#45;&gt;0 -->\n<g id=\"edge2\" class=\"edge\">\n<title>0&#45;&gt;0</title>\n<path fill=\"none\" stroke=\"black\" d=\"M52.22,-38.6C50.92,-48.42 53.05,-57.56 58.6,-57.56 62.42,-57.56 64.62,-53.24 65.19,-47.35\"/>\n<polygon fill=\"black\" stroke=\"black\" points=\"68.16,-47.02 64.98,-38.6 62.21,-47.17 68.16,-47.02\"/>\n<text text-anchor=\"middle\" x=\"58.6\" y=\"-61.36\" font-family=\"Times,serif\" font-size=\"14.00\">1</text>\n</g>\n<!-- 4 -->\n<g id=\"node3\" class=\"node\">\n<title>4</title>\n<ellipse fill=\"none\" stroke=\"black\" cx=\"137.6\" cy=\"-21.56\" rx=\"18\" ry=\"18\"/>\n<text text-anchor=\"middle\" x=\"137.6\" y=\"-17.86\" font-family=\"Times,serif\" font-size=\"14.00\">4</text>\n</g>\n<!-- 0&#45;&gt;4 -->\n<g id=\"edge3\" class=\"edge\">\n<title>0&#45;&gt;4</title>\n<path fill=\"none\" stroke=\"black\" d=\"M76.69,-21.56C86.76,-21.56 99.69,-21.56 110.96,-21.56\"/>\n<polygon fill=\"black\" stroke=\"black\" points=\"111.06,-24.54 119.56,-21.56 111.06,-18.59 111.06,-24.54\"/>\n<text text-anchor=\"middle\" x=\"98.1\" y=\"-25.36\" font-family=\"Times,serif\" font-size=\"14.00\">0</text>\n</g>\n<!-- 4&#45;&gt;0 -->\n<g id=\"edge4\" class=\"edge\">\n<title>4&#45;&gt;0</title>\n<path fill=\"none\" stroke=\"black\" d=\"M123.42,-10.42C115.36,-4.94 104.68,0 94.6,-2.56 90.19,-3.68 85.73,-5.48 81.55,-7.54\"/>\n<polygon fill=\"black\" stroke=\"black\" points=\"79.95,-5.02 73.91,-11.7 82.8,-10.24 79.95,-5.02\"/>\n<text text-anchor=\"middle\" x=\"98.1\" y=\"-6.36\" font-family=\"Times,serif\" font-size=\"14.00\">1</text>\n</g>\n<!-- 3 -->\n<g id=\"node4\" class=\"node\">\n<title>3</title>\n<ellipse fill=\"none\" stroke=\"black\" cx=\"220.6\" cy=\"-55.56\" rx=\"22\" ry=\"22\"/>\n<ellipse fill=\"none\" stroke=\"black\" cx=\"220.6\" cy=\"-55.56\" rx=\"26\" ry=\"26\"/>\n<text text-anchor=\"middle\" x=\"220.6\" y=\"-51.86\" font-family=\"Times,serif\" font-size=\"14.00\">3</text>\n</g>\n<!-- 4&#45;&gt;3 -->\n<g id=\"edge5\" class=\"edge\">\n<title>4&#45;&gt;3</title>\n<path fill=\"none\" stroke=\"black\" d=\"M154.6,-28.28C165.27,-32.75 179.56,-38.76 192.03,-43.99\"/>\n<polygon fill=\"black\" stroke=\"black\" points=\"190.92,-46.75 199.91,-47.29 193.22,-41.26 190.92,-46.75\"/>\n<text text-anchor=\"middle\" x=\"177.1\" y=\"-42.36\" font-family=\"Times,serif\" font-size=\"14.00\">0</text>\n</g>\n<!-- 2 -->\n<g id=\"node5\" class=\"node\">\n<title>2</title>\n<ellipse fill=\"none\" stroke=\"black\" cx=\"303.6\" cy=\"-102.56\" rx=\"18\" ry=\"18\"/>\n<text text-anchor=\"middle\" x=\"303.6\" y=\"-98.86\" font-family=\"Times,serif\" font-size=\"14.00\">2</text>\n</g>\n<!-- 3&#45;&gt;2 -->\n<g id=\"edge6\" class=\"edge\">\n<title>3&#45;&gt;2</title>\n<path fill=\"none\" stroke=\"black\" d=\"M239.98,-66.23C251.89,-73.13 267.47,-82.18 280.11,-89.51\"/>\n<polygon fill=\"black\" stroke=\"black\" points=\"278.7,-92.14 287.55,-93.83 281.69,-86.99 278.7,-92.14\"/>\n<text text-anchor=\"middle\" x=\"264.1\" y=\"-85.36\" font-family=\"Times,serif\" font-size=\"14.00\">1</text>\n</g>\n<!-- 1 -->\n<g id=\"node6\" class=\"node\">\n<title>1</title>\n<ellipse fill=\"none\" stroke=\"black\" cx=\"386.6\" cy=\"-67.56\" rx=\"22\" ry=\"22\"/>\n<ellipse fill=\"none\" stroke=\"black\" cx=\"386.6\" cy=\"-67.56\" rx=\"26\" ry=\"26\"/>\n<text text-anchor=\"middle\" x=\"386.6\" y=\"-63.86\" font-family=\"Times,serif\" font-size=\"14.00\">1</text>\n</g>\n<!-- 3&#45;&gt;1 -->\n<g id=\"edge7\" class=\"edge\">\n<title>3&#45;&gt;1</title>\n<path fill=\"none\" stroke=\"black\" d=\"M242.69,-56.25C262.95,-57 294.4,-58.39 321.6,-60.56 332.83,-61.45 345.14,-62.73 355.93,-63.95\"/>\n<polygon fill=\"black\" stroke=\"black\" points=\"355.81,-66.93 364.59,-64.95 356.49,-61.02 355.81,-66.93\"/>\n<text text-anchor=\"middle\" x=\"303.6\" y=\"-64.36\" font-family=\"Times,serif\" font-size=\"14.00\">0</text>\n</g>\n<!-- 2&#45;&gt;2 -->\n<g id=\"edge8\" class=\"edge\">\n<title>2&#45;&gt;2</title>\n<path fill=\"none\" stroke=\"black\" d=\"M296.87,-119.6C295.49,-129.42 297.74,-138.56 303.6,-138.56 307.63,-138.56 309.95,-134.24 310.56,-128.35\"/>\n<polygon fill=\"black\" stroke=\"black\" points=\"313.53,-128.02 310.33,-119.6 307.58,-128.18 313.53,-128.02\"/>\n<text text-anchor=\"middle\" x=\"303.6\" y=\"-142.36\" font-family=\"Times,serif\" font-size=\"14.00\">1</text>\n</g>\n<!-- 2&#45;&gt;1 -->\n<g id=\"edge9\" class=\"edge\">\n<title>2&#45;&gt;1</title>\n<path fill=\"none\" stroke=\"black\" d=\"M321.88,-104.21C329.68,-104.34 338.86,-103.61 346.6,-100.56 353.1,-98 359.29,-93.9 364.75,-89.44\"/>\n<polygon fill=\"black\" stroke=\"black\" points=\"366.85,-91.55 371.24,-83.69 362.9,-87.1 366.85,-91.55\"/>\n<text text-anchor=\"middle\" x=\"343.1\" y=\"-105.36\" font-family=\"Times,serif\" font-size=\"14.00\">0</text>\n</g>\n<!-- 1&#45;&gt;4 -->\n<g id=\"edge10\" class=\"edge\">\n<title>1&#45;&gt;4</title>\n<path fill=\"none\" stroke=\"black\" d=\"M365.63,-59.72C338.34,-49.44 287.64,-31.85 242.6,-24.56 216.19,-20.29 185.54,-19.95 164.38,-20.43\"/>\n<polygon fill=\"black\" stroke=\"black\" points=\"164.07,-17.47 155.66,-20.69 164.24,-23.41 164.07,-17.47\"/>\n<text text-anchor=\"middle\" x=\"264.1\" y=\"-32.36\" font-family=\"Times,serif\" font-size=\"14.00\">0</text>\n</g>\n<!-- 1&#45;&gt;2 -->\n<g id=\"edge11\" class=\"edge\">\n<title>1&#45;&gt;2</title>\n<path fill=\"none\" stroke=\"black\" d=\"M365.06,-72.65C356.96,-74.95 347.69,-77.97 339.6,-81.56 335.23,-83.5 330.73,-85.88 326.47,-88.33\"/>\n<polygon fill=\"black\" stroke=\"black\" points=\"324.9,-85.8 319.15,-92.73 327.97,-90.9 324.9,-85.8\"/>\n<text text-anchor=\"middle\" x=\"343.1\" y=\"-85.36\" font-family=\"Times,serif\" font-size=\"14.00\">1</text>\n</g>\n</g>\n</svg>\n",
            "text/plain": [
              "<AGraph <Swig Object of type 'Agraph_t *' at 0x7f528f7cccf0>>"
            ]
          },
          "metadata": {},
          "execution_count": 85
        }
      ],
      "source": [
        "(fa1 & fa4).show_diagram()"
      ]
    },
    {
      "cell_type": "code",
      "execution_count": 86,
      "metadata": {
        "colab": {
          "base_uri": "https://localhost:8080/"
        },
        "id": "JFUrYYrIVgHU",
        "outputId": "470cfc27-ed87-44b7-d357-bbf2d65cb396"
      },
      "outputs": [
        {
          "output_type": "execute_result",
          "data": {
            "text/plain": [
              "['000', '100', '0010', '0100', '1000', '1100']"
            ]
          },
          "metadata": {},
          "execution_count": 86
        }
      ],
      "source": [
        "W = (fa1 & fa4).words_of_lengths(3,4)\n",
        "W"
      ]
    },
    {
      "cell_type": "code",
      "execution_count": 87,
      "metadata": {
        "colab": {
          "base_uri": "https://localhost:8080/"
        },
        "id": "TpLeGoGI6sgu",
        "outputId": "85ad0daf-2a82-4c34-e575-3cec690b46f3"
      },
      "outputs": [
        {
          "output_type": "execute_result",
          "data": {
            "text/plain": [
              "{'000', '0010', '0100', '100', '1000', '1100'}"
            ]
          },
          "metadata": {},
          "execution_count": 87
        }
      ],
      "source": [
        "A = fa1.words_of_lengths(3,4)\n",
        "B = fa4.words_of_lengths(3,4)\n",
        "set(A).intersection(B)"
      ]
    },
    {
      "cell_type": "code",
      "execution_count": 88,
      "metadata": {
        "id": "uTNPfAguVgHY"
      },
      "outputs": [],
      "source": [
        "fa7 = DFA.of_length(['0','1'], min_length=4, max_length=5)"
      ]
    },
    {
      "cell_type": "code",
      "execution_count": 89,
      "metadata": {
        "colab": {
          "base_uri": "https://localhost:8080/"
        },
        "id": "DDp5U2v4VgHY",
        "outputId": "0445d83a-cc46-4b03-acd4-f8d8bfeb93a2"
      },
      "outputs": [
        {
          "output_type": "execute_result",
          "data": {
            "text/plain": [
              "48"
            ]
          },
          "metadata": {},
          "execution_count": 89
        }
      ],
      "source": [
        "len(fa7)"
      ]
    },
    {
      "cell_type": "code",
      "execution_count": 90,
      "metadata": {
        "colab": {
          "base_uri": "https://localhost:8080/",
          "height": 135
        },
        "id": "Xt8O9HfZVgHY",
        "outputId": "ab0de5ea-6090-4d9e-d40c-daf0ecef626c"
      },
      "outputs": [
        {
          "output_type": "execute_result",
          "data": {
            "image/svg+xml": "<?xml version=\"1.0\" encoding=\"UTF-8\" standalone=\"no\"?>\n<!DOCTYPE svg PUBLIC \"-//W3C//DTD SVG 1.1//EN\"\n \"http://www.w3.org/Graphics/SVG/1.1/DTD/svg11.dtd\">\n<!-- Generated by graphviz version 2.43.0 (0)\n -->\n<!-- Pages: 1 -->\n<svg width=\"641pt\" height=\"85pt\"\n viewBox=\"0.00 0.00 640.60 85.00\" xmlns=\"http://www.w3.org/2000/svg\" xmlns:xlink=\"http://www.w3.org/1999/xlink\">\n<g id=\"graph0\" class=\"graph\" transform=\"scale(1 1) rotate(0) translate(4 81)\">\n<polygon fill=\"white\" stroke=\"transparent\" points=\"-4,4 -4,-81 636.6,-81 636.6,4 -4,4\"/>\n<!-- 329d0d7c&#45;1213&#45;426a&#45;9785&#45;cc672c5f6177 -->\n<g id=\"node1\" class=\"node\">\n<title>329d0d7c&#45;1213&#45;426a&#45;9785&#45;cc672c5f6177</title>\n<g id=\"a_node1\"><a xlink:title=\".\">\n<ellipse fill=\"black\" stroke=\"black\" cx=\"1.8\" cy=\"-26\" rx=\"1.8\" ry=\"1.8\"/>\n</a>\n</g>\n</g>\n<!-- 0 -->\n<g id=\"node2\" class=\"node\">\n<title>0</title>\n<ellipse fill=\"none\" stroke=\"black\" cx=\"58.6\" cy=\"-26\" rx=\"18\" ry=\"18\"/>\n<text text-anchor=\"middle\" x=\"58.6\" y=\"-22.3\" font-family=\"Times,serif\" font-size=\"14.00\">0</text>\n</g>\n<!-- 329d0d7c&#45;1213&#45;426a&#45;9785&#45;cc672c5f6177&#45;&gt;0 -->\n<g id=\"edge1\" class=\"edge\">\n<title>329d0d7c&#45;1213&#45;426a&#45;9785&#45;cc672c5f6177&#45;&gt;0</title>\n<g id=\"a_edge1\"><a xlink:title=\"&#45;&gt;0\">\n<path fill=\"none\" stroke=\"black\" d=\"M3.75,-26C7.25,-26 19.84,-26 31.96,-26\"/>\n<polygon fill=\"black\" stroke=\"black\" points=\"32.08,-28.98 40.58,-26 32.07,-23.03 32.08,-28.98\"/>\n</a>\n</g>\n</g>\n<!-- 1 -->\n<g id=\"node3\" class=\"node\">\n<title>1</title>\n<ellipse fill=\"none\" stroke=\"black\" cx=\"148.6\" cy=\"-26\" rx=\"18\" ry=\"18\"/>\n<text text-anchor=\"middle\" x=\"148.6\" y=\"-22.3\" font-family=\"Times,serif\" font-size=\"14.00\">1</text>\n</g>\n<!-- 0&#45;&gt;1 -->\n<g id=\"edge2\" class=\"edge\">\n<title>0&#45;&gt;1</title>\n<path fill=\"none\" stroke=\"black\" d=\"M76.99,-26C89.84,-26 107.56,-26 122.03,-26\"/>\n<polygon fill=\"black\" stroke=\"black\" points=\"122.05,-28.98 130.55,-26 122.05,-23.03 122.05,-28.98\"/>\n<text text-anchor=\"middle\" x=\"103.6\" y=\"-29.8\" font-family=\"Times,serif\" font-size=\"14.00\">0,1</text>\n</g>\n<!-- 2 -->\n<g id=\"node4\" class=\"node\">\n<title>2</title>\n<ellipse fill=\"none\" stroke=\"black\" cx=\"238.6\" cy=\"-26\" rx=\"18\" ry=\"18\"/>\n<text text-anchor=\"middle\" x=\"238.6\" y=\"-22.3\" font-family=\"Times,serif\" font-size=\"14.00\">2</text>\n</g>\n<!-- 1&#45;&gt;2 -->\n<g id=\"edge3\" class=\"edge\">\n<title>1&#45;&gt;2</title>\n<path fill=\"none\" stroke=\"black\" d=\"M166.99,-26C179.84,-26 197.56,-26 212.03,-26\"/>\n<polygon fill=\"black\" stroke=\"black\" points=\"212.05,-28.98 220.55,-26 212.05,-23.03 212.05,-28.98\"/>\n<text text-anchor=\"middle\" x=\"193.6\" y=\"-29.8\" font-family=\"Times,serif\" font-size=\"14.00\">0,1</text>\n</g>\n<!-- 3 -->\n<g id=\"node5\" class=\"node\">\n<title>3</title>\n<ellipse fill=\"none\" stroke=\"black\" cx=\"328.6\" cy=\"-26\" rx=\"18\" ry=\"18\"/>\n<text text-anchor=\"middle\" x=\"328.6\" y=\"-22.3\" font-family=\"Times,serif\" font-size=\"14.00\">3</text>\n</g>\n<!-- 2&#45;&gt;3 -->\n<g id=\"edge4\" class=\"edge\">\n<title>2&#45;&gt;3</title>\n<path fill=\"none\" stroke=\"black\" d=\"M256.99,-26C269.84,-26 287.56,-26 302.03,-26\"/>\n<polygon fill=\"black\" stroke=\"black\" points=\"302.05,-28.98 310.55,-26 302.05,-23.03 302.05,-28.98\"/>\n<text text-anchor=\"middle\" x=\"283.6\" y=\"-29.8\" font-family=\"Times,serif\" font-size=\"14.00\">0,1</text>\n</g>\n<!-- 4 -->\n<g id=\"node6\" class=\"node\">\n<title>4</title>\n<ellipse fill=\"none\" stroke=\"black\" cx=\"422.6\" cy=\"-26\" rx=\"22\" ry=\"22\"/>\n<ellipse fill=\"none\" stroke=\"black\" cx=\"422.6\" cy=\"-26\" rx=\"26\" ry=\"26\"/>\n<text text-anchor=\"middle\" x=\"422.6\" y=\"-22.3\" font-family=\"Times,serif\" font-size=\"14.00\">4</text>\n</g>\n<!-- 3&#45;&gt;4 -->\n<g id=\"edge5\" class=\"edge\">\n<title>3&#45;&gt;4</title>\n<path fill=\"none\" stroke=\"black\" d=\"M346.9,-26C359.49,-26 376.85,-26 391.67,-26\"/>\n<polygon fill=\"black\" stroke=\"black\" points=\"392,-28.98 400.5,-26 392,-23.03 392,-28.98\"/>\n<text text-anchor=\"middle\" x=\"373.6\" y=\"-29.8\" font-family=\"Times,serif\" font-size=\"14.00\">0,1</text>\n</g>\n<!-- 5 -->\n<g id=\"node7\" class=\"node\">\n<title>5</title>\n<ellipse fill=\"none\" stroke=\"black\" cx=\"520.6\" cy=\"-26\" rx=\"22\" ry=\"22\"/>\n<ellipse fill=\"none\" stroke=\"black\" cx=\"520.6\" cy=\"-26\" rx=\"26\" ry=\"26\"/>\n<text text-anchor=\"middle\" x=\"520.6\" y=\"-22.3\" font-family=\"Times,serif\" font-size=\"14.00\">5</text>\n</g>\n<!-- 4&#45;&gt;5 -->\n<g id=\"edge6\" class=\"edge\">\n<title>4&#45;&gt;5</title>\n<path fill=\"none\" stroke=\"black\" d=\"M444.91,-26C458.08,-26 475.19,-26 489.71,-26\"/>\n<polygon fill=\"black\" stroke=\"black\" points=\"489.85,-28.98 498.35,-26 489.85,-23.03 489.85,-28.98\"/>\n<text text-anchor=\"middle\" x=\"471.6\" y=\"-29.8\" font-family=\"Times,serif\" font-size=\"14.00\">0,1</text>\n</g>\n<!-- 6 -->\n<g id=\"node8\" class=\"node\">\n<title>6</title>\n<ellipse fill=\"none\" stroke=\"black\" cx=\"614.6\" cy=\"-26\" rx=\"18\" ry=\"18\"/>\n<text text-anchor=\"middle\" x=\"614.6\" y=\"-22.3\" font-family=\"Times,serif\" font-size=\"14.00\">6</text>\n</g>\n<!-- 5&#45;&gt;6 -->\n<g id=\"edge7\" class=\"edge\">\n<title>5&#45;&gt;6</title>\n<path fill=\"none\" stroke=\"black\" d=\"M542.94,-26C556.26,-26 573.51,-26 587.62,-26\"/>\n<polygon fill=\"black\" stroke=\"black\" points=\"587.88,-28.98 596.38,-26 587.88,-23.03 587.88,-28.98\"/>\n<text text-anchor=\"middle\" x=\"569.6\" y=\"-29.8\" font-family=\"Times,serif\" font-size=\"14.00\">0,1</text>\n</g>\n<!-- 6&#45;&gt;6 -->\n<g id=\"edge8\" class=\"edge\">\n<title>6&#45;&gt;6</title>\n<path fill=\"none\" stroke=\"black\" d=\"M606.93,-42.29C605.08,-52.39 607.64,-62 614.6,-62 619.49,-62 622.21,-57.25 622.75,-50.92\"/>\n<polygon fill=\"black\" stroke=\"black\" points=\"625.71,-50.61 622.27,-42.29 619.77,-50.94 625.71,-50.61\"/>\n<text text-anchor=\"middle\" x=\"614.6\" y=\"-65.8\" font-family=\"Times,serif\" font-size=\"14.00\">0,1</text>\n</g>\n</g>\n</svg>\n",
            "text/plain": [
              "<AGraph <Swig Object of type 'Agraph_t *' at 0x7f528f6a7f30>>"
            ]
          },
          "metadata": {},
          "execution_count": 90
        }
      ],
      "source": [
        "fa7.show_diagram()"
      ]
    },
    {
      "cell_type": "code",
      "execution_count": 91,
      "metadata": {
        "id": "5M2CeLFmVgHZ"
      },
      "outputs": [],
      "source": [
        "fa8 = DFA.of_length(['0','1'], min_length=3, max_length=5)"
      ]
    },
    {
      "cell_type": "code",
      "execution_count": 92,
      "metadata": {
        "colab": {
          "base_uri": "https://localhost:8080/",
          "height": 135
        },
        "id": "3FQBP7w4VgHZ",
        "outputId": "27327f9a-a73c-4b13-a049-ec16473c2b13",
        "scrolled": true
      },
      "outputs": [
        {
          "output_type": "execute_result",
          "data": {
            "image/svg+xml": "<?xml version=\"1.0\" encoding=\"UTF-8\" standalone=\"no\"?>\n<!DOCTYPE svg PUBLIC \"-//W3C//DTD SVG 1.1//EN\"\n \"http://www.w3.org/Graphics/SVG/1.1/DTD/svg11.dtd\">\n<!-- Generated by graphviz version 2.43.0 (0)\n -->\n<!-- Pages: 1 -->\n<svg width=\"649pt\" height=\"85pt\"\n viewBox=\"0.00 0.00 648.60 85.00\" xmlns=\"http://www.w3.org/2000/svg\" xmlns:xlink=\"http://www.w3.org/1999/xlink\">\n<g id=\"graph0\" class=\"graph\" transform=\"scale(1 1) rotate(0) translate(4 81)\">\n<polygon fill=\"white\" stroke=\"transparent\" points=\"-4,4 -4,-81 644.6,-81 644.6,4 -4,4\"/>\n<!-- 0d403d8b&#45;f96f&#45;4f1f&#45;89b5&#45;29b43b862c14 -->\n<g id=\"node1\" class=\"node\">\n<title>0d403d8b&#45;f96f&#45;4f1f&#45;89b5&#45;29b43b862c14</title>\n<g id=\"a_node1\"><a xlink:title=\".\">\n<ellipse fill=\"black\" stroke=\"black\" cx=\"1.8\" cy=\"-26\" rx=\"1.8\" ry=\"1.8\"/>\n</a>\n</g>\n</g>\n<!-- 0 -->\n<g id=\"node2\" class=\"node\">\n<title>0</title>\n<ellipse fill=\"none\" stroke=\"black\" cx=\"58.6\" cy=\"-26\" rx=\"18\" ry=\"18\"/>\n<text text-anchor=\"middle\" x=\"58.6\" y=\"-22.3\" font-family=\"Times,serif\" font-size=\"14.00\">0</text>\n</g>\n<!-- 0d403d8b&#45;f96f&#45;4f1f&#45;89b5&#45;29b43b862c14&#45;&gt;0 -->\n<g id=\"edge1\" class=\"edge\">\n<title>0d403d8b&#45;f96f&#45;4f1f&#45;89b5&#45;29b43b862c14&#45;&gt;0</title>\n<g id=\"a_edge1\"><a xlink:title=\"&#45;&gt;0\">\n<path fill=\"none\" stroke=\"black\" d=\"M3.75,-26C7.25,-26 19.84,-26 31.96,-26\"/>\n<polygon fill=\"black\" stroke=\"black\" points=\"32.08,-28.98 40.58,-26 32.07,-23.03 32.08,-28.98\"/>\n</a>\n</g>\n</g>\n<!-- 1 -->\n<g id=\"node3\" class=\"node\">\n<title>1</title>\n<ellipse fill=\"none\" stroke=\"black\" cx=\"148.6\" cy=\"-26\" rx=\"18\" ry=\"18\"/>\n<text text-anchor=\"middle\" x=\"148.6\" y=\"-22.3\" font-family=\"Times,serif\" font-size=\"14.00\">1</text>\n</g>\n<!-- 0&#45;&gt;1 -->\n<g id=\"edge2\" class=\"edge\">\n<title>0&#45;&gt;1</title>\n<path fill=\"none\" stroke=\"black\" d=\"M76.99,-26C89.84,-26 107.56,-26 122.03,-26\"/>\n<polygon fill=\"black\" stroke=\"black\" points=\"122.05,-28.98 130.55,-26 122.05,-23.03 122.05,-28.98\"/>\n<text text-anchor=\"middle\" x=\"103.6\" y=\"-29.8\" font-family=\"Times,serif\" font-size=\"14.00\">0,1</text>\n</g>\n<!-- 2 -->\n<g id=\"node4\" class=\"node\">\n<title>2</title>\n<ellipse fill=\"none\" stroke=\"black\" cx=\"238.6\" cy=\"-26\" rx=\"18\" ry=\"18\"/>\n<text text-anchor=\"middle\" x=\"238.6\" y=\"-22.3\" font-family=\"Times,serif\" font-size=\"14.00\">2</text>\n</g>\n<!-- 1&#45;&gt;2 -->\n<g id=\"edge3\" class=\"edge\">\n<title>1&#45;&gt;2</title>\n<path fill=\"none\" stroke=\"black\" d=\"M166.99,-26C179.84,-26 197.56,-26 212.03,-26\"/>\n<polygon fill=\"black\" stroke=\"black\" points=\"212.05,-28.98 220.55,-26 212.05,-23.03 212.05,-28.98\"/>\n<text text-anchor=\"middle\" x=\"193.6\" y=\"-29.8\" font-family=\"Times,serif\" font-size=\"14.00\">0,1</text>\n</g>\n<!-- 3 -->\n<g id=\"node5\" class=\"node\">\n<title>3</title>\n<ellipse fill=\"none\" stroke=\"black\" cx=\"332.6\" cy=\"-26\" rx=\"22\" ry=\"22\"/>\n<ellipse fill=\"none\" stroke=\"black\" cx=\"332.6\" cy=\"-26\" rx=\"26\" ry=\"26\"/>\n<text text-anchor=\"middle\" x=\"332.6\" y=\"-22.3\" font-family=\"Times,serif\" font-size=\"14.00\">3</text>\n</g>\n<!-- 2&#45;&gt;3 -->\n<g id=\"edge4\" class=\"edge\">\n<title>2&#45;&gt;3</title>\n<path fill=\"none\" stroke=\"black\" d=\"M256.9,-26C269.49,-26 286.85,-26 301.67,-26\"/>\n<polygon fill=\"black\" stroke=\"black\" points=\"302,-28.98 310.5,-26 302,-23.03 302,-28.98\"/>\n<text text-anchor=\"middle\" x=\"283.6\" y=\"-29.8\" font-family=\"Times,serif\" font-size=\"14.00\">0,1</text>\n</g>\n<!-- 4 -->\n<g id=\"node6\" class=\"node\">\n<title>4</title>\n<ellipse fill=\"none\" stroke=\"black\" cx=\"430.6\" cy=\"-26\" rx=\"22\" ry=\"22\"/>\n<ellipse fill=\"none\" stroke=\"black\" cx=\"430.6\" cy=\"-26\" rx=\"26\" ry=\"26\"/>\n<text text-anchor=\"middle\" x=\"430.6\" y=\"-22.3\" font-family=\"Times,serif\" font-size=\"14.00\">4</text>\n</g>\n<!-- 3&#45;&gt;4 -->\n<g id=\"edge5\" class=\"edge\">\n<title>3&#45;&gt;4</title>\n<path fill=\"none\" stroke=\"black\" d=\"M354.91,-26C368.08,-26 385.19,-26 399.71,-26\"/>\n<polygon fill=\"black\" stroke=\"black\" points=\"399.85,-28.98 408.35,-26 399.85,-23.03 399.85,-28.98\"/>\n<text text-anchor=\"middle\" x=\"381.6\" y=\"-29.8\" font-family=\"Times,serif\" font-size=\"14.00\">0,1</text>\n</g>\n<!-- 5 -->\n<g id=\"node7\" class=\"node\">\n<title>5</title>\n<ellipse fill=\"none\" stroke=\"black\" cx=\"528.6\" cy=\"-26\" rx=\"22\" ry=\"22\"/>\n<ellipse fill=\"none\" stroke=\"black\" cx=\"528.6\" cy=\"-26\" rx=\"26\" ry=\"26\"/>\n<text text-anchor=\"middle\" x=\"528.6\" y=\"-22.3\" font-family=\"Times,serif\" font-size=\"14.00\">5</text>\n</g>\n<!-- 4&#45;&gt;5 -->\n<g id=\"edge6\" class=\"edge\">\n<title>4&#45;&gt;5</title>\n<path fill=\"none\" stroke=\"black\" d=\"M452.91,-26C466.08,-26 483.19,-26 497.71,-26\"/>\n<polygon fill=\"black\" stroke=\"black\" points=\"497.85,-28.98 506.35,-26 497.85,-23.03 497.85,-28.98\"/>\n<text text-anchor=\"middle\" x=\"479.6\" y=\"-29.8\" font-family=\"Times,serif\" font-size=\"14.00\">0,1</text>\n</g>\n<!-- 6 -->\n<g id=\"node8\" class=\"node\">\n<title>6</title>\n<ellipse fill=\"none\" stroke=\"black\" cx=\"622.6\" cy=\"-26\" rx=\"18\" ry=\"18\"/>\n<text text-anchor=\"middle\" x=\"622.6\" y=\"-22.3\" font-family=\"Times,serif\" font-size=\"14.00\">6</text>\n</g>\n<!-- 5&#45;&gt;6 -->\n<g id=\"edge8\" class=\"edge\">\n<title>5&#45;&gt;6</title>\n<path fill=\"none\" stroke=\"black\" d=\"M550.94,-26C564.26,-26 581.51,-26 595.62,-26\"/>\n<polygon fill=\"black\" stroke=\"black\" points=\"595.88,-28.98 604.38,-26 595.88,-23.03 595.88,-28.98\"/>\n<text text-anchor=\"middle\" x=\"577.6\" y=\"-29.8\" font-family=\"Times,serif\" font-size=\"14.00\">0,1</text>\n</g>\n<!-- 6&#45;&gt;6 -->\n<g id=\"edge7\" class=\"edge\">\n<title>6&#45;&gt;6</title>\n<path fill=\"none\" stroke=\"black\" d=\"M614.93,-42.29C613.08,-52.39 615.64,-62 622.6,-62 627.49,-62 630.21,-57.25 630.75,-50.92\"/>\n<polygon fill=\"black\" stroke=\"black\" points=\"633.71,-50.61 630.27,-42.29 627.77,-50.94 633.71,-50.61\"/>\n<text text-anchor=\"middle\" x=\"622.6\" y=\"-65.8\" font-family=\"Times,serif\" font-size=\"14.00\">0,1</text>\n</g>\n</g>\n</svg>\n",
            "text/plain": [
              "<AGraph <Swig Object of type 'Agraph_t *' at 0x7f52a40bc870>>"
            ]
          },
          "metadata": {},
          "execution_count": 92
        }
      ],
      "source": [
        "fa8.show_diagram()"
      ]
    },
    {
      "cell_type": "code",
      "execution_count": 93,
      "metadata": {
        "colab": {
          "base_uri": "https://localhost:8080/"
        },
        "id": "oU48oGqVVgHa",
        "outputId": "a887e945-2d4f-473c-b992-43f11712d54d"
      },
      "outputs": [
        {
          "output_type": "execute_result",
          "data": {
            "text/plain": [
              "True"
            ]
          },
          "metadata": {},
          "execution_count": 93
        }
      ],
      "source": [
        "fa7 <= fa8"
      ]
    },
    {
      "cell_type": "code",
      "execution_count": 94,
      "metadata": {
        "colab": {
          "base_uri": "https://localhost:8080/"
        },
        "id": "WUu9FnnFVgHa",
        "outputId": "2ab13d39-14d6-47b6-83ed-c8ce7c7912b0"
      },
      "outputs": [
        {
          "output_type": "execute_result",
          "data": {
            "text/plain": [
              "True"
            ]
          },
          "metadata": {},
          "execution_count": 94
        }
      ],
      "source": [
        "fa7 < fa8"
      ]
    },
    {
      "cell_type": "code",
      "execution_count": 95,
      "metadata": {
        "colab": {
          "base_uri": "https://localhost:8080/"
        },
        "id": "Hb3BNrQbVgHb",
        "outputId": "bd87a5d5-005f-4a03-9c3e-3fdb753b4dd8"
      },
      "outputs": [
        {
          "output_type": "execute_result",
          "data": {
            "text/plain": [
              "False"
            ]
          },
          "metadata": {},
          "execution_count": 95
        }
      ],
      "source": [
        "fa8 <= fa7"
      ]
    },
    {
      "cell_type": "markdown",
      "metadata": {
        "id": "TSORxa-8yF7G"
      },
      "source": [
        "# Non Deterministic Finite Automata\n",
        "* The automata-lib `NFA` class is used for creating a new\n",
        "  instance of a deterministic finite automaton.\n",
        "* The following simple examples are self explanatory on how\n",
        "  this is done."
      ]
    },
    {
      "cell_type": "code",
      "execution_count": 96,
      "metadata": {
        "id": "I_4aM5F2yF7G"
      },
      "outputs": [],
      "source": [
        "nfa1 = NFA(\"\"\"\n",
        "    name: nfa1\n",
        "    states: q0 q1 q2\n",
        "    input_symbols: a b\n",
        "    transitions:\n",
        "        q0: a:q1\n",
        "        q1: a:q1, epsilon:q2\n",
        "        q2: b:q0\n",
        "    initial_state: q0\n",
        "    final_states: q1\n",
        "\"\"\")\n"
      ]
    },
    {
      "cell_type": "code",
      "execution_count": 97,
      "metadata": {
        "colab": {
          "base_uri": "https://localhost:8080/",
          "height": 187
        },
        "id": "dg2hlWm7yF7H",
        "outputId": "b5f36054-88ef-4b14-9b94-0c07b940c05f"
      },
      "outputs": [
        {
          "output_type": "execute_result",
          "data": {
            "image/svg+xml": "<?xml version=\"1.0\" encoding=\"UTF-8\" standalone=\"no\"?>\n<!DOCTYPE svg PUBLIC \"-//W3C//DTD SVG 1.1//EN\"\n \"http://www.w3.org/Graphics/SVG/1.1/DTD/svg11.dtd\">\n<!-- Generated by graphviz version 2.43.0 (0)\n -->\n<!-- Pages: 1 -->\n<svg width=\"260pt\" height=\"124pt\"\n viewBox=\"0.00 0.00 259.59 124.00\" xmlns=\"http://www.w3.org/2000/svg\" xmlns:xlink=\"http://www.w3.org/1999/xlink\">\n<g id=\"graph0\" class=\"graph\" transform=\"scale(1 1) rotate(0) translate(4 120)\">\n<polygon fill=\"white\" stroke=\"transparent\" points=\"-4,4 -4,-120 255.59,-120 255.59,4 -4,4\"/>\n<!-- fb2d2bc1&#45;71c1&#45;4e83&#45;a2f9&#45;6edfa4cddbdf -->\n<g id=\"node1\" class=\"node\">\n<title>fb2d2bc1&#45;71c1&#45;4e83&#45;a2f9&#45;6edfa4cddbdf</title>\n<g id=\"a_node1\"><a xlink:title=\".\">\n<ellipse fill=\"black\" stroke=\"black\" cx=\"1.8\" cy=\"-19.5\" rx=\"1.8\" ry=\"1.8\"/>\n</a>\n</g>\n</g>\n<!-- q0 -->\n<g id=\"node2\" class=\"node\">\n<title>q0</title>\n<ellipse fill=\"none\" stroke=\"black\" cx=\"60.1\" cy=\"-19.5\" rx=\"19.5\" ry=\"19.5\"/>\n<text text-anchor=\"middle\" x=\"60.1\" y=\"-15.8\" font-family=\"Times,serif\" font-size=\"14.00\">q0</text>\n</g>\n<!-- fb2d2bc1&#45;71c1&#45;4e83&#45;a2f9&#45;6edfa4cddbdf&#45;&gt;q0 -->\n<g id=\"edge1\" class=\"edge\">\n<title>fb2d2bc1&#45;71c1&#45;4e83&#45;a2f9&#45;6edfa4cddbdf&#45;&gt;q0</title>\n<g id=\"a_edge1\"><a xlink:title=\"&#45;&gt;q0\">\n<path fill=\"none\" stroke=\"black\" d=\"M3.78,-19.5C7.28,-19.5 19.64,-19.5 31.78,-19.5\"/>\n<polygon fill=\"black\" stroke=\"black\" points=\"31.96,-22.48 40.46,-19.5 31.96,-16.53 31.96,-22.48\"/>\n</a>\n</g>\n</g>\n<!-- q1 -->\n<g id=\"node3\" class=\"node\">\n<title>q1</title>\n<ellipse fill=\"none\" stroke=\"black\" cx=\"146.09\" cy=\"-59.5\" rx=\"23.5\" ry=\"23.5\"/>\n<ellipse fill=\"none\" stroke=\"black\" cx=\"146.09\" cy=\"-59.5\" rx=\"27.5\" ry=\"27.5\"/>\n<text text-anchor=\"middle\" x=\"146.09\" y=\"-55.8\" font-family=\"Times,serif\" font-size=\"14.00\">q1</text>\n</g>\n<!-- q0&#45;&gt;q1 -->\n<g id=\"edge2\" class=\"edge\">\n<title>q0&#45;&gt;q1</title>\n<path fill=\"none\" stroke=\"black\" d=\"M78.1,-27.59C89.21,-32.89 104,-39.93 116.86,-46.05\"/>\n<polygon fill=\"black\" stroke=\"black\" points=\"115.61,-48.75 124.56,-49.72 118.17,-43.38 115.61,-48.75\"/>\n<text text-anchor=\"middle\" x=\"101.1\" y=\"-43.3\" font-family=\"Times,serif\" font-size=\"14.00\">a</text>\n</g>\n<!-- q1&#45;&gt;q1 -->\n<g id=\"edge3\" class=\"edge\">\n<title>q1&#45;&gt;q1</title>\n<path fill=\"none\" stroke=\"black\" d=\"M138.01,-81.7C137.13,-92 139.82,-101 146.09,-101 150.51,-101 153.15,-96.55 154.02,-90.33\"/>\n<polygon fill=\"black\" stroke=\"black\" points=\"157,-90.25 154.18,-81.7 151.05,-90.14 157,-90.25\"/>\n<text text-anchor=\"middle\" x=\"146.09\" y=\"-104.8\" font-family=\"Times,serif\" font-size=\"14.00\">a</text>\n</g>\n<!-- q2 -->\n<g id=\"node4\" class=\"node\">\n<title>q2</title>\n<ellipse fill=\"none\" stroke=\"black\" cx=\"232.09\" cy=\"-19.5\" rx=\"19.5\" ry=\"19.5\"/>\n<text text-anchor=\"middle\" x=\"232.09\" y=\"-15.8\" font-family=\"Times,serif\" font-size=\"14.00\">q2</text>\n</g>\n<!-- q1&#45;&gt;q2 -->\n<g id=\"edge4\" class=\"edge\">\n<title>q1&#45;&gt;q2</title>\n<path fill=\"none\" stroke=\"black\" d=\"M167.86,-49.61C179.46,-44.09 194,-37.16 206.21,-31.35\"/>\n<polygon fill=\"black\" stroke=\"black\" points=\"207.83,-33.87 214.23,-27.53 205.28,-28.5 207.83,-33.87\"/>\n<text text-anchor=\"middle\" x=\"191.09\" y=\"-43.3\" font-family=\"Times,serif\" font-size=\"14.00\">ε</text>\n</g>\n<!-- q2&#45;&gt;q0 -->\n<g id=\"edge5\" class=\"edge\">\n<title>q2&#45;&gt;q0</title>\n<path fill=\"none\" stroke=\"black\" d=\"M212.57,-16.84C200.39,-15.22 184.08,-13.32 169.59,-12.5 148.74,-11.32 143.45,-11.32 122.6,-12.5 111.28,-13.14 98.85,-14.44 88.15,-15.75\"/>\n<polygon fill=\"black\" stroke=\"black\" points=\"87.68,-12.81 79.62,-16.84 88.43,-18.71 87.68,-12.81\"/>\n<text text-anchor=\"middle\" x=\"146.09\" y=\"-16.3\" font-family=\"Times,serif\" font-size=\"14.00\">b</text>\n</g>\n</g>\n</svg>\n",
            "text/plain": [
              "<AGraph <Swig Object of type 'Agraph_t *' at 0x7f52a40bc5d0>>"
            ]
          },
          "metadata": {},
          "execution_count": 97
        }
      ],
      "source": [
        "nfa1.show_diagram()"
      ]
    },
    {
      "cell_type": "code",
      "execution_count": 98,
      "metadata": {
        "id": "AYNl7MgGVgG-"
      },
      "outputs": [],
      "source": [
        "nfa2 = NFA(\"\"\"\n",
        "states: q0 q1 q2 q3\n",
        "input_symbols: 0 1\n",
        "transitions:\n",
        "    q0:  0:q0 q3 ,  1:q2 q3\n",
        "    q1:  0:q1 ,  epsilon:q2\n",
        "    q2:  0:q0 q1 ,  epsilon:q2 q3\n",
        "    q3:  0:q1\n",
        "initial_state: q0\n",
        "final_states: q2 q3\n",
        "\"\"\")"
      ]
    },
    {
      "cell_type": "code",
      "execution_count": 99,
      "metadata": {
        "colab": {
          "base_uri": "https://localhost:8080/",
          "height": 223
        },
        "id": "aq_JoWTyVgG_",
        "outputId": "3e55f2b6-fdc7-4b93-ee53-75f85f3f47b0"
      },
      "outputs": [
        {
          "output_type": "execute_result",
          "data": {
            "image/svg+xml": "<?xml version=\"1.0\" encoding=\"UTF-8\" standalone=\"no\"?>\n<!DOCTYPE svg PUBLIC \"-//W3C//DTD SVG 1.1//EN\"\n \"http://www.w3.org/Graphics/SVG/1.1/DTD/svg11.dtd\">\n<!-- Generated by graphviz version 2.43.0 (0)\n -->\n<!-- Pages: 1 -->\n<svg width=\"350pt\" height=\"151pt\"\n viewBox=\"0.00 0.00 349.59 151.00\" xmlns=\"http://www.w3.org/2000/svg\" xmlns:xlink=\"http://www.w3.org/1999/xlink\">\n<g id=\"graph0\" class=\"graph\" transform=\"scale(1 1) rotate(0) translate(4 147)\">\n<polygon fill=\"white\" stroke=\"transparent\" points=\"-4,4 -4,-147 345.59,-147 345.59,4 -4,4\"/>\n<!-- 993e3e87&#45;2c48&#45;450e&#45;8925&#45;18912893a00d -->\n<g id=\"node1\" class=\"node\">\n<title>993e3e87&#45;2c48&#45;450e&#45;8925&#45;18912893a00d</title>\n<g id=\"a_node1\"><a xlink:title=\".\">\n<ellipse fill=\"black\" stroke=\"black\" cx=\"1.8\" cy=\"-56.5\" rx=\"1.8\" ry=\"1.8\"/>\n</a>\n</g>\n</g>\n<!-- q0 -->\n<g id=\"node2\" class=\"node\">\n<title>q0</title>\n<ellipse fill=\"none\" stroke=\"black\" cx=\"60.1\" cy=\"-56.5\" rx=\"19.5\" ry=\"19.5\"/>\n<text text-anchor=\"middle\" x=\"60.1\" y=\"-52.8\" font-family=\"Times,serif\" font-size=\"14.00\">q0</text>\n</g>\n<!-- 993e3e87&#45;2c48&#45;450e&#45;8925&#45;18912893a00d&#45;&gt;q0 -->\n<g id=\"edge1\" class=\"edge\">\n<title>993e3e87&#45;2c48&#45;450e&#45;8925&#45;18912893a00d&#45;&gt;q0</title>\n<g id=\"a_edge1\"><a xlink:title=\"&#45;&gt;q0\">\n<path fill=\"none\" stroke=\"black\" d=\"M3.78,-56.5C7.28,-56.5 19.64,-56.5 31.78,-56.5\"/>\n<polygon fill=\"black\" stroke=\"black\" points=\"31.96,-59.48 40.46,-56.5 31.96,-53.53 31.96,-59.48\"/>\n</a>\n</g>\n</g>\n<!-- q0&#45;&gt;q0 -->\n<g id=\"edge2\" class=\"edge\">\n<title>q0&#45;&gt;q0</title>\n<path fill=\"none\" stroke=\"black\" d=\"M53.63,-75.02C52.53,-84.95 54.68,-94 60.1,-94 63.82,-94 66,-89.72 66.65,-83.82\"/>\n<polygon fill=\"black\" stroke=\"black\" points=\"69.62,-83.5 66.57,-75.02 63.67,-83.55 69.62,-83.5\"/>\n<text text-anchor=\"middle\" x=\"60.1\" y=\"-97.8\" font-family=\"Times,serif\" font-size=\"14.00\">0</text>\n</g>\n<!-- q2 -->\n<g id=\"node3\" class=\"node\">\n<title>q2</title>\n<ellipse fill=\"none\" stroke=\"black\" cx=\"146.09\" cy=\"-86.5\" rx=\"23.5\" ry=\"23.5\"/>\n<ellipse fill=\"none\" stroke=\"black\" cx=\"146.09\" cy=\"-86.5\" rx=\"27.5\" ry=\"27.5\"/>\n<text text-anchor=\"middle\" x=\"146.09\" y=\"-82.8\" font-family=\"Times,serif\" font-size=\"14.00\">q2</text>\n</g>\n<!-- q0&#45;&gt;q2 -->\n<g id=\"edge3\" class=\"edge\">\n<title>q0&#45;&gt;q2</title>\n<path fill=\"none\" stroke=\"black\" d=\"M78,-64.44C84.11,-67.17 91.1,-70.13 97.6,-72.5 103.13,-74.52 109.11,-76.46 114.89,-78.22\"/>\n<polygon fill=\"black\" stroke=\"black\" points=\"114.16,-81.11 123.15,-80.66 115.84,-75.4 114.16,-81.11\"/>\n<text text-anchor=\"middle\" x=\"101.1\" y=\"-78.3\" font-family=\"Times,serif\" font-size=\"14.00\">1</text>\n</g>\n<!-- q3 -->\n<g id=\"node4\" class=\"node\">\n<title>q3</title>\n<ellipse fill=\"none\" stroke=\"black\" cx=\"236.09\" cy=\"-27.5\" rx=\"23.5\" ry=\"23.5\"/>\n<ellipse fill=\"none\" stroke=\"black\" cx=\"236.09\" cy=\"-27.5\" rx=\"27.5\" ry=\"27.5\"/>\n<text text-anchor=\"middle\" x=\"236.09\" y=\"-23.8\" font-family=\"Times,serif\" font-size=\"14.00\">q3</text>\n</g>\n<!-- q0&#45;&gt;q3 -->\n<g id=\"edge4\" class=\"edge\">\n<title>q0&#45;&gt;q3</title>\n<path fill=\"none\" stroke=\"black\" d=\"M78.94,-50.73C91.12,-47.01 107.69,-42.34 122.6,-39.5 149.85,-34.32 181.28,-31.2 203.97,-29.45\"/>\n<polygon fill=\"black\" stroke=\"black\" points=\"204.26,-32.41 212.52,-28.82 203.83,-26.47 204.26,-32.41\"/>\n<text text-anchor=\"middle\" x=\"146.09\" y=\"-43.3\" font-family=\"Times,serif\" font-size=\"14.00\">0,1</text>\n</g>\n<!-- q2&#45;&gt;q0 -->\n<g id=\"edge5\" class=\"edge\">\n<title>q2&#45;&gt;q0</title>\n<path fill=\"none\" stroke=\"black\" d=\"M129.39,-69.46C122.47,-63.17 113.82,-56.78 104.6,-53.5 99.36,-51.64 93.54,-51.09 87.91,-51.26\"/>\n<polygon fill=\"black\" stroke=\"black\" points=\"87.52,-48.3 79.32,-52.02 88.05,-54.23 87.52,-48.3\"/>\n<text text-anchor=\"middle\" x=\"101.1\" y=\"-57.3\" font-family=\"Times,serif\" font-size=\"14.00\">0</text>\n</g>\n<!-- q2&#45;&gt;q2 -->\n<g id=\"edge6\" class=\"edge\">\n<title>q2&#45;&gt;q2</title>\n<path fill=\"none\" stroke=\"black\" d=\"M138.01,-108.7C137.13,-119 139.82,-128 146.09,-128 150.51,-128 153.15,-123.55 154.02,-117.33\"/>\n<polygon fill=\"black\" stroke=\"black\" points=\"157,-117.26 154.18,-108.7 151.05,-117.15 157,-117.26\"/>\n<text text-anchor=\"middle\" x=\"146.09\" y=\"-131.8\" font-family=\"Times,serif\" font-size=\"14.00\">ε</text>\n</g>\n<!-- q2&#45;&gt;q3 -->\n<g id=\"edge7\" class=\"edge\">\n<title>q2&#45;&gt;q3</title>\n<path fill=\"none\" stroke=\"black\" d=\"M165.48,-72.99C172.36,-68.03 180.28,-62.43 187.59,-57.5 194.11,-53.12 201.22,-48.52 207.91,-44.29\"/>\n<polygon fill=\"black\" stroke=\"black\" points=\"209.9,-46.55 215.51,-39.51 206.73,-41.51 209.9,-46.55\"/>\n<text text-anchor=\"middle\" x=\"191.09\" y=\"-61.3\" font-family=\"Times,serif\" font-size=\"14.00\">ε</text>\n</g>\n<!-- q1 -->\n<g id=\"node5\" class=\"node\">\n<title>q1</title>\n<ellipse fill=\"none\" stroke=\"black\" cx=\"322.09\" cy=\"-86.5\" rx=\"19.5\" ry=\"19.5\"/>\n<text text-anchor=\"middle\" x=\"322.09\" y=\"-82.8\" font-family=\"Times,serif\" font-size=\"14.00\">q1</text>\n</g>\n<!-- q2&#45;&gt;q1 -->\n<g id=\"edge8\" class=\"edge\">\n<title>q2&#45;&gt;q1</title>\n<path fill=\"none\" stroke=\"black\" d=\"M169.84,-86.5C201.8,-86.5 259.91,-86.5 294.05,-86.5\"/>\n<polygon fill=\"black\" stroke=\"black\" points=\"294.09,-89.48 302.59,-86.5 294.09,-83.53 294.09,-89.48\"/>\n<text text-anchor=\"middle\" x=\"236.09\" y=\"-90.3\" font-family=\"Times,serif\" font-size=\"14.00\">0</text>\n</g>\n<!-- q3&#45;&gt;q1 -->\n<g id=\"edge9\" class=\"edge\">\n<title>q3&#45;&gt;q1</title>\n<path fill=\"none\" stroke=\"black\" d=\"M256.82,-39.3C265.48,-44.64 275.68,-51.18 284.59,-57.5 289.56,-61.03 294.76,-64.98 299.62,-68.82\"/>\n<polygon fill=\"black\" stroke=\"black\" points=\"297.95,-71.29 306.45,-74.28 301.67,-66.65 297.95,-71.29\"/>\n<text text-anchor=\"middle\" x=\"281.09\" y=\"-61.3\" font-family=\"Times,serif\" font-size=\"14.00\">0</text>\n</g>\n<!-- q1&#45;&gt;q2 -->\n<g id=\"edge10\" class=\"edge\">\n<title>q1&#45;&gt;q2</title>\n<path fill=\"none\" stroke=\"black\" d=\"M303.84,-93.8C297.82,-96.16 290.98,-98.65 284.59,-100.5 273.71,-103.65 270.87,-104.38 259.59,-105.5 227.67,-108.66 218.55,-108.9 187.59,-100.5 184.04,-99.53 180.35,-98.42 176.7,-97.25\"/>\n<polygon fill=\"black\" stroke=\"black\" points=\"177.36,-94.33 168.36,-94.46 175.48,-99.98 177.36,-94.33\"/>\n<text text-anchor=\"middle\" x=\"236.09\" y=\"-111.3\" font-family=\"Times,serif\" font-size=\"14.00\">ε</text>\n</g>\n<!-- q1&#45;&gt;q1 -->\n<g id=\"edge11\" class=\"edge\">\n<title>q1&#45;&gt;q1</title>\n<path fill=\"none\" stroke=\"black\" d=\"M314.9,-105.02C313.68,-114.95 316.07,-124 322.09,-124 326.22,-124 328.65,-119.72 329.36,-113.82\"/>\n<polygon fill=\"black\" stroke=\"black\" points=\"332.33,-113.49 329.28,-105.02 326.38,-113.55 332.33,-113.49\"/>\n<text text-anchor=\"middle\" x=\"322.09\" y=\"-127.8\" font-family=\"Times,serif\" font-size=\"14.00\">0</text>\n</g>\n</g>\n</svg>\n",
            "text/plain": [
              "<AGraph <Swig Object of type 'Agraph_t *' at 0x7f528f6e4c60>>"
            ]
          },
          "metadata": {},
          "execution_count": 99
        }
      ],
      "source": [
        "nfa2.show_diagram()"
      ]
    },
    {
      "cell_type": "markdown",
      "metadata": {
        "id": "dxtPLymS0WFH"
      },
      "source": [
        "* Note: arrows with no symbols are epsilon transitions!"
      ]
    },
    {
      "cell_type": "code",
      "execution_count": 100,
      "metadata": {
        "colab": {
          "base_uri": "https://localhost:8080/"
        },
        "id": "ZjiRQR6R71XF",
        "outputId": "1cf9ffb8-d1d3-40dd-a74b-e4a24e2b45dc"
      },
      "outputs": [
        {
          "output_type": "execute_result",
          "data": {
            "text/plain": [
              "frozenset({'q0', 'q1', 'q2', 'q3'})"
            ]
          },
          "metadata": {},
          "execution_count": 100
        }
      ],
      "source": [
        "nfa2.states"
      ]
    },
    {
      "cell_type": "code",
      "execution_count": 101,
      "metadata": {
        "colab": {
          "base_uri": "https://localhost:8080/"
        },
        "id": "FWbrbxkEyF7I",
        "outputId": "b78a589e-0cb3-4489-de9b-87e2f5aa4b6f"
      },
      "outputs": [
        {
          "output_type": "stream",
          "name": "stdout",
          "text": [
            "q0\n",
            "q2\n",
            "q3\n",
            "q1\n"
          ]
        }
      ],
      "source": [
        "for q in nfa2.states: print(f\"{q}\")"
      ]
    },
    {
      "cell_type": "code",
      "execution_count": 102,
      "metadata": {
        "colab": {
          "base_uri": "https://localhost:8080/"
        },
        "id": "YDKCAJlryF7I",
        "outputId": "63695ccc-8878-4e97-a497-ef5f8abbbbe1"
      },
      "outputs": [
        {
          "output_type": "stream",
          "name": "stdout",
          "text": [
            "q0\n",
            "q2\n",
            "q3\n",
            "q1\n"
          ]
        }
      ],
      "source": [
        "[print(f\"{q}\") for q in nfa2.states];"
      ]
    },
    {
      "cell_type": "code",
      "execution_count": 103,
      "metadata": {
        "colab": {
          "base_uri": "https://localhost:8080/"
        },
        "id": "bce4B2iEyF7J",
        "outputId": "35008387-cc81-41ec-d0c4-55e336538403"
      },
      "outputs": [
        {
          "output_type": "execute_result",
          "data": {
            "text/plain": [
              "['q2', 'q3']"
            ]
          },
          "metadata": {},
          "execution_count": 103
        }
      ],
      "source": [
        "list(nfa2.final_states)"
      ]
    },
    {
      "cell_type": "markdown",
      "metadata": {
        "id": "i2atLsDdyF7J"
      },
      "source": [
        "## Convert an NFA to an equivalent DFA"
      ]
    },
    {
      "cell_type": "code",
      "execution_count": 104,
      "metadata": {
        "id": "dmWiLOCoyF7J"
      },
      "outputs": [],
      "source": [
        "dfa = DFA.from_nfa(nfa2)"
      ]
    },
    {
      "cell_type": "code",
      "execution_count": 105,
      "metadata": {
        "colab": {
          "base_uri": "https://localhost:8080/",
          "height": 152
        },
        "id": "Elwl3aU0yF7J",
        "outputId": "26a3efd5-8501-48da-af98-f32bfa8b489a"
      },
      "outputs": [
        {
          "output_type": "execute_result",
          "data": {
            "image/svg+xml": "<?xml version=\"1.0\" encoding=\"UTF-8\" standalone=\"no\"?>\n<!DOCTYPE svg PUBLIC \"-//W3C//DTD SVG 1.1//EN\"\n \"http://www.w3.org/Graphics/SVG/1.1/DTD/svg11.dtd\">\n<!-- Generated by graphviz version 2.43.0 (0)\n -->\n<!-- Pages: 1 -->\n<svg width=\"263pt\" height=\"98pt\"\n viewBox=\"0.00 0.00 262.60 98.00\" xmlns=\"http://www.w3.org/2000/svg\" xmlns:xlink=\"http://www.w3.org/1999/xlink\">\n<g id=\"graph0\" class=\"graph\" transform=\"scale(1 1) rotate(0) translate(4 94)\">\n<polygon fill=\"white\" stroke=\"transparent\" points=\"-4,4 -4,-94 258.6,-94 258.6,4 -4,4\"/>\n<!-- 97beb084&#45;2d73&#45;4708&#45;a010&#45;b9102ea07128 -->\n<g id=\"node1\" class=\"node\">\n<title>97beb084&#45;2d73&#45;4708&#45;a010&#45;b9102ea07128</title>\n<g id=\"a_node1\"><a xlink:title=\".\">\n<ellipse fill=\"black\" stroke=\"black\" cx=\"1.8\" cy=\"-18\" rx=\"1.8\" ry=\"1.8\"/>\n</a>\n</g>\n</g>\n<!-- 2 -->\n<g id=\"node2\" class=\"node\">\n<title>2</title>\n<ellipse fill=\"none\" stroke=\"black\" cx=\"58.6\" cy=\"-18\" rx=\"18\" ry=\"18\"/>\n<text text-anchor=\"middle\" x=\"58.6\" y=\"-14.3\" font-family=\"Times,serif\" font-size=\"14.00\">2</text>\n</g>\n<!-- 97beb084&#45;2d73&#45;4708&#45;a010&#45;b9102ea07128&#45;&gt;2 -->\n<g id=\"edge1\" class=\"edge\">\n<title>97beb084&#45;2d73&#45;4708&#45;a010&#45;b9102ea07128&#45;&gt;2</title>\n<g id=\"a_edge1\"><a xlink:title=\"&#45;&gt;2\">\n<path fill=\"none\" stroke=\"black\" d=\"M3.75,-18C7.25,-18 19.84,-18 31.96,-18\"/>\n<polygon fill=\"black\" stroke=\"black\" points=\"32.08,-20.98 40.58,-18 32.07,-15.03 32.08,-20.98\"/>\n</a>\n</g>\n</g>\n<!-- 1 -->\n<g id=\"node3\" class=\"node\">\n<title>1</title>\n<ellipse fill=\"none\" stroke=\"black\" cx=\"141.6\" cy=\"-57\" rx=\"22\" ry=\"22\"/>\n<ellipse fill=\"none\" stroke=\"black\" cx=\"141.6\" cy=\"-57\" rx=\"26\" ry=\"26\"/>\n<text text-anchor=\"middle\" x=\"141.6\" y=\"-53.3\" font-family=\"Times,serif\" font-size=\"14.00\">1</text>\n</g>\n<!-- 2&#45;&gt;1 -->\n<g id=\"edge2\" class=\"edge\">\n<title>2&#45;&gt;1</title>\n<path fill=\"none\" stroke=\"black\" d=\"M75.22,-25.52C86,-30.71 100.63,-37.76 113.32,-43.86\"/>\n<polygon fill=\"black\" stroke=\"black\" points=\"112.36,-46.7 121.31,-47.71 114.94,-41.34 112.36,-46.7\"/>\n<text text-anchor=\"middle\" x=\"98.1\" y=\"-40.8\" font-family=\"Times,serif\" font-size=\"14.00\">1</text>\n</g>\n<!-- 3 -->\n<g id=\"node4\" class=\"node\">\n<title>3</title>\n<ellipse fill=\"none\" stroke=\"black\" cx=\"228.6\" cy=\"-35\" rx=\"22\" ry=\"22\"/>\n<ellipse fill=\"none\" stroke=\"black\" cx=\"228.6\" cy=\"-35\" rx=\"26\" ry=\"26\"/>\n<text text-anchor=\"middle\" x=\"228.6\" y=\"-31.3\" font-family=\"Times,serif\" font-size=\"14.00\">3</text>\n</g>\n<!-- 2&#45;&gt;3 -->\n<g id=\"edge3\" class=\"edge\">\n<title>2&#45;&gt;3</title>\n<path fill=\"none\" stroke=\"black\" d=\"M76.31,-14.37C96.98,-10.46 133.15,-5.48 163.6,-11 176.07,-13.26 189.27,-17.81 200.42,-22.35\"/>\n<polygon fill=\"black\" stroke=\"black\" points=\"199.52,-25.2 208.51,-25.78 201.84,-19.72 199.52,-25.2\"/>\n<text text-anchor=\"middle\" x=\"141.6\" y=\"-14.8\" font-family=\"Times,serif\" font-size=\"14.00\">0</text>\n</g>\n<!-- 1&#45;&gt;3 -->\n<g id=\"edge4\" class=\"edge\">\n<title>1&#45;&gt;3</title>\n<path fill=\"none\" stroke=\"black\" d=\"M163.89,-55.39C171.74,-54.49 180.66,-53.11 188.6,-51 192.55,-49.95 196.63,-48.6 200.6,-47.13\"/>\n<polygon fill=\"black\" stroke=\"black\" points=\"201.7,-49.89 208.5,-43.99 199.5,-44.36 201.7,-49.89\"/>\n<text text-anchor=\"middle\" x=\"185.1\" y=\"-55.8\" font-family=\"Times,serif\" font-size=\"14.00\">0</text>\n</g>\n<!-- 3&#45;&gt;1 -->\n<g id=\"edge5\" class=\"edge\">\n<title>3&#45;&gt;1</title>\n<path fill=\"none\" stroke=\"black\" d=\"M206.65,-30.61C198.68,-29.72 189.59,-29.66 181.6,-32 176.33,-33.54 171.1,-36.04 166.26,-38.87\"/>\n<polygon fill=\"black\" stroke=\"black\" points=\"164.58,-36.42 159.03,-43.51 167.79,-41.43 164.58,-36.42\"/>\n<text text-anchor=\"middle\" x=\"185.1\" y=\"-35.8\" font-family=\"Times,serif\" font-size=\"14.00\">1</text>\n</g>\n<!-- 3&#45;&gt;3 -->\n<g id=\"edge6\" class=\"edge\">\n<title>3&#45;&gt;3</title>\n<path fill=\"none\" stroke=\"black\" d=\"M220.92,-55.99C219.97,-66.09 222.53,-75 228.6,-75 232.77,-75 235.29,-70.79 236.14,-64.87\"/>\n<polygon fill=\"black\" stroke=\"black\" points=\"239.12,-64.54 236.28,-55.99 233.17,-64.44 239.12,-64.54\"/>\n<text text-anchor=\"middle\" x=\"228.6\" y=\"-78.8\" font-family=\"Times,serif\" font-size=\"14.00\">0</text>\n</g>\n</g>\n</svg>\n",
            "text/plain": [
              "<AGraph <Swig Object of type 'Agraph_t *' at 0x7f528f6a4e10>>"
            ]
          },
          "metadata": {},
          "execution_count": 105
        }
      ],
      "source": [
        "dfa.show_diagram()"
      ]
    },
    {
      "cell_type": "markdown",
      "metadata": {
        "id": "xMiBfHQGyF7J"
      },
      "source": [
        "* The `random_words` method which we used in the DFA case does not exist for NFA class!\n",
        "* But after converting an NFA to a DFA we can use it to get examples of words accepted by a given NFA."
      ]
    },
    {
      "cell_type": "code",
      "execution_count": 106,
      "metadata": {
        "colab": {
          "base_uri": "https://localhost:8080/"
        },
        "id": "ML9xOLWLyF7J",
        "outputId": "86c9fc1f-1a54-428c-944f-cc119eedcd39"
      },
      "outputs": [
        {
          "output_type": "execute_result",
          "data": {
            "text/plain": [
              "['0001001', '0100010', '1000010']"
            ]
          },
          "metadata": {},
          "execution_count": 106
        }
      ],
      "source": [
        "dfa.random_words(7, 3)"
      ]
    },
    {
      "cell_type": "markdown",
      "metadata": {
        "id": "gnlRa9jqyF7J"
      },
      "source": [
        "* Computation sequences for NFA are currently no available.\n",
        "* A weaker for is the following general form:"
      ]
    },
    {
      "cell_type": "code",
      "execution_count": 107,
      "metadata": {
        "colab": {
          "base_uri": "https://localhost:8080/",
          "height": 296
        },
        "id": "O4e9z7VRyF7J",
        "outputId": "21e1a0a8-f1f2-42b5-83c2-18ad83d822f0"
      },
      "outputs": [
        {
          "output_type": "stream",
          "name": "stdout",
          "text": [
            "input=0000100\n"
          ]
        },
        {
          "output_type": "display_data",
          "data": {
            "text/plain": [
              "<IPython.core.display.HTML object>"
            ],
            "text/html": [
              "<br/>"
            ]
          },
          "metadata": {}
        },
        {
          "output_type": "display_data",
          "data": {
            "text/plain": [
              "<IPython.core.display.Latex object>"
            ],
            "text/latex": "$\\mathbf{q0}\\xrightarrow{\\;\\textbf{0}\\;}\\mathbf{q0}\\xrightarrow{\\;\\textbf{0}\\;}\\mathbf{q0}\\xrightarrow{\\;\\textbf{0}\\;}\\mathbf{q0}\\xrightarrow{\\;\\textbf{0}\\;}\\mathbf{q0}\\xrightarrow{\\;\\textbf{1}\\;}\\mathbf{q2}\\xrightarrow{\\;\\textbf{0}\\;}\\mathbf{q0}\\xrightarrow{\\;\\textbf{0}\\;}\\mathbf{q3}$"
          },
          "metadata": {}
        },
        {
          "output_type": "display_data",
          "data": {
            "text/plain": [
              "<IPython.core.display.HTML object>"
            ],
            "text/html": [
              "<br/>"
            ]
          },
          "metadata": {}
        },
        {
          "output_type": "display_data",
          "data": {
            "text/plain": [
              "<IPython.core.display.Latex object>"
            ],
            "text/latex": "$\\mathbf{q0}\\xrightarrow{\\;\\textbf{0}\\;}\\mathbf{q0}\\xrightarrow{\\;\\textbf{0}\\;}\\mathbf{q3}\\xrightarrow{\\;\\textbf{0}\\;}\\mathbf{q1}\\xrightarrow{\\;\\textbf{$\\varepsilon$}\\;}\\mathbf{q2}\\xrightarrow{\\;\\textbf{0}\\;}\\mathbf{q0}\\xrightarrow{\\;\\textbf{1}\\;}\\mathbf{q2}\\xrightarrow{\\;\\textbf{0}\\;}\\mathbf{q0}\\xrightarrow{\\;\\textbf{0}\\;}\\mathbf{q3}$"
          },
          "metadata": {}
        },
        {
          "output_type": "display_data",
          "data": {
            "text/plain": [
              "<IPython.core.display.HTML object>"
            ],
            "text/html": [
              "<br/>"
            ]
          },
          "metadata": {}
        },
        {
          "output_type": "display_data",
          "data": {
            "text/plain": [
              "<IPython.core.display.Latex object>"
            ],
            "text/latex": "$\\mathbf{q0}\\xrightarrow{\\;\\textbf{0}\\;}\\mathbf{q3}\\xrightarrow{\\;\\textbf{0}\\;}\\mathbf{q1}\\xrightarrow{\\;\\textbf{0}\\;}\\mathbf{q1}\\xrightarrow{\\;\\textbf{$\\varepsilon$}\\;}\\mathbf{q2}\\xrightarrow{\\;\\textbf{0}\\;}\\mathbf{q0}\\xrightarrow{\\;\\textbf{1}\\;}\\mathbf{q2}\\xrightarrow{\\;\\textbf{0}\\;}\\mathbf{q0}\\xrightarrow{\\;\\textbf{0}\\;}\\mathbf{q3}$"
          },
          "metadata": {}
        },
        {
          "output_type": "display_data",
          "data": {
            "text/plain": [
              "<IPython.core.display.HTML object>"
            ],
            "text/html": [
              "<br/>"
            ]
          },
          "metadata": {}
        },
        {
          "output_type": "display_data",
          "data": {
            "text/plain": [
              "<IPython.core.display.Latex object>"
            ],
            "text/latex": "$\\mathbf{q0}\\xrightarrow{\\;\\textbf{0}\\;}\\mathbf{q3}\\xrightarrow{\\;\\textbf{0}\\;}\\mathbf{q1}\\xrightarrow{\\;\\textbf{$\\varepsilon$}\\;}\\mathbf{q2}\\xrightarrow{\\;\\textbf{0}\\;}\\mathbf{q0}\\xrightarrow{\\;\\textbf{0}\\;}\\mathbf{q0}\\xrightarrow{\\;\\textbf{1}\\;}\\mathbf{q2}\\xrightarrow{\\;\\textbf{0}\\;}\\mathbf{q0}\\xrightarrow{\\;\\textbf{0}\\;}\\mathbf{q3}$"
          },
          "metadata": {}
        },
        {
          "output_type": "display_data",
          "data": {
            "text/plain": [
              "<IPython.core.display.HTML object>"
            ],
            "text/html": [
              "<br/>"
            ]
          },
          "metadata": {}
        },
        {
          "output_type": "display_data",
          "data": {
            "text/plain": [
              "<IPython.core.display.Latex object>"
            ],
            "text/latex": "$\\mathbf{q0}\\xrightarrow{\\;\\textbf{0}\\;}\\mathbf{q3}\\xrightarrow{\\;\\textbf{0}\\;}\\mathbf{q1}\\xrightarrow{\\;\\textbf{$\\varepsilon$}\\;}\\mathbf{q2}\\xrightarrow{\\;\\textbf{0}\\;}\\mathbf{q1}\\xrightarrow{\\;\\textbf{$\\varepsilon$}\\;}\\mathbf{q2}\\xrightarrow{\\;\\textbf{0}\\;}\\mathbf{q0}\\xrightarrow{\\;\\textbf{1}\\;}\\mathbf{q2}\\xrightarrow{\\;\\textbf{0}\\;}\\mathbf{q0}\\xrightarrow{\\;\\textbf{0}\\;}\\mathbf{q3}$"
          },
          "metadata": {}
        },
        {
          "output_type": "display_data",
          "data": {
            "text/plain": [
              "<IPython.core.display.HTML object>"
            ],
            "text/html": [
              "<br/>"
            ]
          },
          "metadata": {}
        },
        {
          "output_type": "display_data",
          "data": {
            "text/plain": [
              "<IPython.core.display.Latex object>"
            ],
            "text/latex": "$\\mathbf{q0}\\xrightarrow{\\;\\textbf{0}\\;}\\mathbf{q3}\\xrightarrow{\\;\\textbf{0}\\;}\\mathbf{q1}\\xrightarrow{\\;\\textbf{$\\varepsilon$}\\;}\\mathbf{q2}\\xrightarrow{\\;\\textbf{$\\varepsilon$}\\;}\\mathbf{q3}\\xrightarrow{\\;\\textbf{0}\\;}\\mathbf{q1}\\xrightarrow{\\;\\textbf{$\\varepsilon$}\\;}\\mathbf{q2}\\xrightarrow{\\;\\textbf{0}\\;}\\mathbf{q0}\\xrightarrow{\\;\\textbf{1}\\;}\\mathbf{q2}\\xrightarrow{\\;\\textbf{0}\\;}\\mathbf{q0}\\xrightarrow{\\;\\textbf{0}\\;}\\mathbf{q3}$"
          },
          "metadata": {}
        },
        {
          "output_type": "execute_result",
          "data": {
            "text/plain": [
              "6"
            ]
          },
          "metadata": {},
          "execution_count": 107
        }
      ],
      "source": [
        "nfa2.compseq('0000100', limit=6)"
      ]
    },
    {
      "cell_type": "markdown",
      "metadata": {
        "id": "LJ8tlOI2yF7K"
      },
      "source": [
        "## NFA with epsilon transitions"
      ]
    },
    {
      "cell_type": "code",
      "execution_count": 108,
      "metadata": {
        "id": "9wp-zjgZVgHB"
      },
      "outputs": [],
      "source": [
        "nfa3 = NFA(\"\"\"\n",
        "states: q0 q1 q2 q3\n",
        "input_symbols: 0 1\n",
        "transitions:\n",
        "    q0:  0:q0 q2, 1:q1, epsilon:q0 q1\n",
        "    q1:  0:q2, epsilon:q0\n",
        "    q2:  0:q1 q3\n",
        "    q3:  0:q0 q1, 1:q2, epsilon:q0\n",
        "initial_state: q0\n",
        "final_states: q2 q3\n",
        "\"\"\")"
      ]
    },
    {
      "cell_type": "code",
      "execution_count": 109,
      "metadata": {
        "colab": {
          "base_uri": "https://localhost:8080/",
          "height": 167
        },
        "id": "0VLlPSK4VgHC",
        "outputId": "6114363e-66f0-44c3-a280-a487e083b8c6"
      },
      "outputs": [
        {
          "output_type": "execute_result",
          "data": {
            "image/svg+xml": "<?xml version=\"1.0\" encoding=\"UTF-8\" standalone=\"no\"?>\n<!DOCTYPE svg PUBLIC \"-//W3C//DTD SVG 1.1//EN\"\n \"http://www.w3.org/Graphics/SVG/1.1/DTD/svg11.dtd\">\n<!-- Generated by graphviz version 2.43.0 (0)\n -->\n<!-- Pages: 1 -->\n<svg width=\"374pt\" height=\"109pt\"\n viewBox=\"0.00 0.00 373.59 108.92\" xmlns=\"http://www.w3.org/2000/svg\" xmlns:xlink=\"http://www.w3.org/1999/xlink\">\n<g id=\"graph0\" class=\"graph\" transform=\"scale(1 1) rotate(0) translate(4 104.92)\">\n<polygon fill=\"white\" stroke=\"transparent\" points=\"-4,4 -4,-104.92 369.59,-104.92 369.59,4 -4,4\"/>\n<!-- 93ff646b&#45;b3d4&#45;48fe&#45;9119&#45;ffbf8d13d27d -->\n<g id=\"node1\" class=\"node\">\n<title>93ff646b&#45;b3d4&#45;48fe&#45;9119&#45;ffbf8d13d27d</title>\n<g id=\"a_node1\"><a xlink:title=\".\">\n<ellipse fill=\"black\" stroke=\"black\" cx=\"1.8\" cy=\"-26.42\" rx=\"1.8\" ry=\"1.8\"/>\n</a>\n</g>\n</g>\n<!-- q0 -->\n<g id=\"node2\" class=\"node\">\n<title>q0</title>\n<ellipse fill=\"none\" stroke=\"black\" cx=\"60.1\" cy=\"-26.42\" rx=\"19.5\" ry=\"19.5\"/>\n<text text-anchor=\"middle\" x=\"60.1\" y=\"-22.72\" font-family=\"Times,serif\" font-size=\"14.00\">q0</text>\n</g>\n<!-- 93ff646b&#45;b3d4&#45;48fe&#45;9119&#45;ffbf8d13d27d&#45;&gt;q0 -->\n<g id=\"edge1\" class=\"edge\">\n<title>93ff646b&#45;b3d4&#45;48fe&#45;9119&#45;ffbf8d13d27d&#45;&gt;q0</title>\n<g id=\"a_edge1\"><a xlink:title=\"&#45;&gt;q0\">\n<path fill=\"none\" stroke=\"black\" d=\"M3.78,-26.42C7.28,-26.42 19.64,-26.42 31.78,-26.42\"/>\n<polygon fill=\"black\" stroke=\"black\" points=\"31.96,-29.39 40.46,-26.42 31.96,-23.44 31.96,-29.39\"/>\n</a>\n</g>\n</g>\n<!-- q0&#45;&gt;q0 -->\n<g id=\"edge2\" class=\"edge\">\n<title>q0&#45;&gt;q0</title>\n<path fill=\"none\" stroke=\"black\" d=\"M53.63,-44.94C52.53,-54.87 54.68,-63.92 60.1,-63.92 63.82,-63.92 66,-59.64 66.65,-53.74\"/>\n<polygon fill=\"black\" stroke=\"black\" points=\"69.62,-53.41 66.57,-44.94 63.67,-53.47 69.62,-53.41\"/>\n<text text-anchor=\"middle\" x=\"60.1\" y=\"-67.72\" font-family=\"Times,serif\" font-size=\"14.00\">0,ε</text>\n</g>\n<!-- q1 -->\n<g id=\"node3\" class=\"node\">\n<title>q1</title>\n<ellipse fill=\"none\" stroke=\"black\" cx=\"152.09\" cy=\"-81.42\" rx=\"19.5\" ry=\"19.5\"/>\n<text text-anchor=\"middle\" x=\"152.09\" y=\"-77.72\" font-family=\"Times,serif\" font-size=\"14.00\">q1</text>\n</g>\n<!-- q0&#45;&gt;q1 -->\n<g id=\"edge3\" class=\"edge\">\n<title>q0&#45;&gt;q1</title>\n<path fill=\"none\" stroke=\"black\" d=\"M74.05,-40.16C80.65,-46.61 89.07,-54.04 97.6,-59.42 105.97,-64.7 115.82,-69.17 124.77,-72.68\"/>\n<polygon fill=\"black\" stroke=\"black\" points=\"124,-75.56 133,-75.74 126.07,-69.99 124,-75.56\"/>\n<text text-anchor=\"middle\" x=\"106.1\" y=\"-71.22\" font-family=\"Times,serif\" font-size=\"14.00\">1,ε</text>\n</g>\n<!-- q2 -->\n<g id=\"node4\" class=\"node\">\n<title>q2</title>\n<ellipse fill=\"none\" stroke=\"black\" cx=\"248.09\" cy=\"-43.42\" rx=\"23.5\" ry=\"23.5\"/>\n<ellipse fill=\"none\" stroke=\"black\" cx=\"248.09\" cy=\"-43.42\" rx=\"27.5\" ry=\"27.5\"/>\n<text text-anchor=\"middle\" x=\"248.09\" y=\"-39.72\" font-family=\"Times,serif\" font-size=\"14.00\">q2</text>\n</g>\n<!-- q0&#45;&gt;q2 -->\n<g id=\"edge4\" class=\"edge\">\n<title>q0&#45;&gt;q2</title>\n<path fill=\"none\" stroke=\"black\" d=\"M80.02,-26.7C107.86,-27.32 161.46,-29.27 206.59,-35.42 209.76,-35.85 213.06,-36.37 216.34,-36.95\"/>\n<polygon fill=\"black\" stroke=\"black\" points=\"215.99,-39.91 224.89,-38.54 217.08,-34.06 215.99,-39.91\"/>\n<text text-anchor=\"middle\" x=\"152.09\" y=\"-35.22\" font-family=\"Times,serif\" font-size=\"14.00\">0</text>\n</g>\n<!-- q1&#45;&gt;q0 -->\n<g id=\"edge5\" class=\"edge\">\n<title>q1&#45;&gt;q0</title>\n<path fill=\"none\" stroke=\"black\" d=\"M140.34,-65.29C133.84,-56.72 124.84,-46.69 114.6,-40.42 106.61,-35.53 96.95,-32.33 88.05,-30.25\"/>\n<polygon fill=\"black\" stroke=\"black\" points=\"88.41,-27.29 79.49,-28.52 87.23,-33.12 88.41,-27.29\"/>\n<text text-anchor=\"middle\" x=\"106.1\" y=\"-44.22\" font-family=\"Times,serif\" font-size=\"14.00\">ε</text>\n</g>\n<!-- q1&#45;&gt;q2 -->\n<g id=\"edge6\" class=\"edge\">\n<title>q1&#45;&gt;q2</title>\n<path fill=\"none\" stroke=\"black\" d=\"M164,-65.57C170.42,-57.64 179.31,-48.82 189.59,-44.42 197.78,-40.91 207.25,-39.73 216.11,-39.67\"/>\n<polygon fill=\"black\" stroke=\"black\" points=\"216.11,-42.65 224.7,-39.95 216.3,-36.7 216.11,-42.65\"/>\n<text text-anchor=\"middle\" x=\"198.09\" y=\"-48.22\" font-family=\"Times,serif\" font-size=\"14.00\">0</text>\n</g>\n<!-- q2&#45;&gt;q1 -->\n<g id=\"edge7\" class=\"edge\">\n<title>q2&#45;&gt;q1</title>\n<path fill=\"none\" stroke=\"black\" d=\"M226.01,-51.94C211.98,-57.61 193.46,-65.1 178.6,-71.11\"/>\n<polygon fill=\"black\" stroke=\"black\" points=\"177.1,-68.5 170.34,-74.45 179.34,-74.02 177.1,-68.5\"/>\n<text text-anchor=\"middle\" x=\"198.09\" y=\"-69.22\" font-family=\"Times,serif\" font-size=\"14.00\">0</text>\n</g>\n<!-- q3 -->\n<g id=\"node5\" class=\"node\">\n<title>q3</title>\n<ellipse fill=\"none\" stroke=\"black\" cx=\"338.09\" cy=\"-43.42\" rx=\"23.5\" ry=\"23.5\"/>\n<ellipse fill=\"none\" stroke=\"black\" cx=\"338.09\" cy=\"-43.42\" rx=\"27.5\" ry=\"27.5\"/>\n<text text-anchor=\"middle\" x=\"338.09\" y=\"-39.72\" font-family=\"Times,serif\" font-size=\"14.00\">q3</text>\n</g>\n<!-- q2&#45;&gt;q3 -->\n<g id=\"edge8\" class=\"edge\">\n<title>q2&#45;&gt;q3</title>\n<path fill=\"none\" stroke=\"black\" d=\"M268.1,-30.79C276.63,-26.56 286.93,-23.37 296.59,-25.42 300.7,-26.29 304.9,-27.61 308.97,-29.15\"/>\n<polygon fill=\"black\" stroke=\"black\" points=\"308.06,-31.99 317.05,-32.53 310.36,-26.5 308.06,-31.99\"/>\n<text text-anchor=\"middle\" x=\"293.09\" y=\"-29.22\" font-family=\"Times,serif\" font-size=\"14.00\">0</text>\n</g>\n<!-- q3&#45;&gt;q0 -->\n<g id=\"edge9\" class=\"edge\">\n<title>q3&#45;&gt;q0</title>\n<path fill=\"none\" stroke=\"black\" d=\"M318.3,-30.7C305.71,-23.09 288.42,-14.36 271.59,-11.42 206.16,0 127.84,-12.28 87.7,-20.41\"/>\n<polygon fill=\"black\" stroke=\"black\" points=\"86.98,-17.52 79.27,-22.18 88.2,-23.35 86.98,-17.52\"/>\n<text text-anchor=\"middle\" x=\"198.09\" y=\"-10.22\" font-family=\"Times,serif\" font-size=\"14.00\">0,ε</text>\n</g>\n<!-- q3&#45;&gt;q1 -->\n<g id=\"edge10\" class=\"edge\">\n<title>q3&#45;&gt;q1</title>\n<path fill=\"none\" stroke=\"black\" d=\"M317.41,-55.08C304.74,-62.06 287.69,-70.51 271.59,-75.42 243.7,-83.93 235.69,-82.41 206.59,-84.42 198.14,-85 188.93,-84.79 180.58,-84.27\"/>\n<polygon fill=\"black\" stroke=\"black\" points=\"180.62,-81.29 171.92,-83.62 180.17,-87.23 180.62,-81.29\"/>\n<text text-anchor=\"middle\" x=\"248.09\" y=\"-86.22\" font-family=\"Times,serif\" font-size=\"14.00\">0</text>\n</g>\n<!-- q3&#45;&gt;q2 -->\n<g id=\"edge11\" class=\"edge\">\n<title>q3&#45;&gt;q2</title>\n<path fill=\"none\" stroke=\"black\" d=\"M314.5,-43.42C304.15,-43.42 291.7,-43.42 280.45,-43.42\"/>\n<polygon fill=\"black\" stroke=\"black\" points=\"280.25,-40.44 271.75,-43.42 280.25,-46.39 280.25,-40.44\"/>\n<text text-anchor=\"middle\" x=\"293.09\" y=\"-47.22\" font-family=\"Times,serif\" font-size=\"14.00\">1</text>\n</g>\n</g>\n</svg>\n",
            "text/plain": [
              "<AGraph <Swig Object of type 'Agraph_t *' at 0x7f528f6a7c90>>"
            ]
          },
          "metadata": {},
          "execution_count": 109
        }
      ],
      "source": [
        "nfa3.show_diagram()"
      ]
    },
    {
      "cell_type": "code",
      "execution_count": 110,
      "metadata": {
        "colab": {
          "base_uri": "https://localhost:8080/",
          "height": 214
        },
        "id": "oMQ-l3GMnp2A",
        "outputId": "a1ebd096-de34-4725-fbc2-767eaf83d870"
      },
      "outputs": [
        {
          "output_type": "stream",
          "name": "stdout",
          "text": [
            "input=1100\n"
          ]
        },
        {
          "output_type": "display_data",
          "data": {
            "text/plain": [
              "<IPython.core.display.HTML object>"
            ],
            "text/html": [
              "<br/>"
            ]
          },
          "metadata": {}
        },
        {
          "output_type": "display_data",
          "data": {
            "text/plain": [
              "<IPython.core.display.Latex object>"
            ],
            "text/latex": "$\\mathbf{q0}\\xrightarrow{\\;\\textbf{1}\\;}\\mathbf{q1}\\xrightarrow{\\;\\textbf{$\\varepsilon$}\\;}\\mathbf{q0}\\xrightarrow{\\;\\textbf{1}\\;}\\mathbf{q1}\\xrightarrow{\\;\\textbf{0}\\;}\\mathbf{q2}\\xrightarrow{\\;\\textbf{0}\\;}\\mathbf{q3}$"
          },
          "metadata": {}
        },
        {
          "output_type": "display_data",
          "data": {
            "text/plain": [
              "<IPython.core.display.HTML object>"
            ],
            "text/html": [
              "<br/>"
            ]
          },
          "metadata": {}
        },
        {
          "output_type": "display_data",
          "data": {
            "text/plain": [
              "<IPython.core.display.Latex object>"
            ],
            "text/latex": "$\\mathbf{q0}\\xrightarrow{\\;\\textbf{1}\\;}\\mathbf{q1}\\xrightarrow{\\;\\textbf{$\\varepsilon$}\\;}\\mathbf{q0}\\xrightarrow{\\;\\textbf{1}\\;}\\mathbf{q1}\\xrightarrow{\\;\\textbf{$\\varepsilon$}\\;}\\mathbf{q0}\\xrightarrow{\\;\\textbf{0}\\;}\\mathbf{q0}\\xrightarrow{\\;\\textbf{0}\\;}\\mathbf{q2}$"
          },
          "metadata": {}
        },
        {
          "output_type": "display_data",
          "data": {
            "text/plain": [
              "<IPython.core.display.HTML object>"
            ],
            "text/html": [
              "<br/>"
            ]
          },
          "metadata": {}
        },
        {
          "output_type": "display_data",
          "data": {
            "text/plain": [
              "<IPython.core.display.Latex object>"
            ],
            "text/latex": "$\\mathbf{q0}\\xrightarrow{\\;\\textbf{1}\\;}\\mathbf{q1}\\xrightarrow{\\;\\textbf{$\\varepsilon$}\\;}\\mathbf{q0}\\xrightarrow{\\;\\textbf{1}\\;}\\mathbf{q1}\\xrightarrow{\\;\\textbf{$\\varepsilon$}\\;}\\mathbf{q0}\\xrightarrow{\\;\\textbf{0}\\;}\\mathbf{q2}\\xrightarrow{\\;\\textbf{0}\\;}\\mathbf{q3}$"
          },
          "metadata": {}
        },
        {
          "output_type": "display_data",
          "data": {
            "text/plain": [
              "<IPython.core.display.HTML object>"
            ],
            "text/html": [
              "<br/>"
            ]
          },
          "metadata": {}
        },
        {
          "output_type": "display_data",
          "data": {
            "text/plain": [
              "<IPython.core.display.Latex object>"
            ],
            "text/latex": "$\\mathbf{q0}\\xrightarrow{\\;\\textbf{1}\\;}\\mathbf{q1}\\xrightarrow{\\;\\textbf{$\\varepsilon$}\\;}\\mathbf{q0}\\xrightarrow{\\;\\textbf{1}\\;}\\mathbf{q1}\\xrightarrow{\\;\\textbf{$\\varepsilon$}\\;}\\mathbf{q0}\\xrightarrow{\\;\\textbf{0}\\;}\\mathbf{q0}\\xrightarrow{\\;\\textbf{$\\varepsilon$}\\;}\\mathbf{q1}\\xrightarrow{\\;\\textbf{0}\\;}\\mathbf{q2}$"
          },
          "metadata": {}
        },
        {
          "output_type": "execute_result",
          "data": {
            "text/plain": [
              "4"
            ]
          },
          "metadata": {},
          "execution_count": 110
        }
      ],
      "source": [
        "nfa3.compseq('1100', limit=7)"
      ]
    },
    {
      "cell_type": "markdown",
      "metadata": {
        "id": "Feq679OZ0sBD"
      },
      "source": [
        "* Note: arrows with no symbols are epsilon transitions!"
      ]
    },
    {
      "cell_type": "markdown",
      "metadata": {
        "id": "h8nCpvxKnp2B"
      },
      "source": [
        "## Example 2.5 from the book\n",
        "* Lets try to write a formal definition of the NFA in example 2.5 in the book\n",
        "\n",
        "<img src=\"https://samyzaf.com/afl/sol/auto3.jpg\" width=40% alt=\"auto3.jpg\"/>\n"
      ]
    },
    {
      "cell_type": "code",
      "execution_count": 111,
      "metadata": {
        "id": "SnTpc2WiVgHE"
      },
      "outputs": [],
      "source": [
        "nfa4 = NFA(\"\"\"\n",
        "states: q0 q1 q2 q3 q4\n",
        "input_symbols: 0 1\n",
        "transitions:\n",
        "    q0:  0:q0 q3, 1:q0 q1\n",
        "    q1:  1:q2\n",
        "    q2:  0:q2 , 1:q2\n",
        "    q3:  0:q4\n",
        "    q4:  0:q4, 1:q4\n",
        "initial_state: q0\n",
        "final_states: q2 q4\n",
        "\"\"\")"
      ]
    },
    {
      "cell_type": "code",
      "execution_count": 112,
      "metadata": {
        "colab": {
          "base_uri": "https://localhost:8080/",
          "height": 275
        },
        "id": "OFWEfJVeyF7K",
        "outputId": "ef56825d-6537-4076-985f-45204a10cee6"
      },
      "outputs": [
        {
          "output_type": "execute_result",
          "data": {
            "image/svg+xml": "<?xml version=\"1.0\" encoding=\"UTF-8\" standalone=\"no\"?>\n<!DOCTYPE svg PUBLIC \"-//W3C//DTD SVG 1.1//EN\"\n \"http://www.w3.org/Graphics/SVG/1.1/DTD/svg11.dtd\">\n<!-- Generated by graphviz version 2.43.0 (0)\n -->\n<!-- Pages: 1 -->\n<svg width=\"264pt\" height=\"190pt\"\n viewBox=\"0.00 0.00 263.59 190.00\" xmlns=\"http://www.w3.org/2000/svg\" xmlns:xlink=\"http://www.w3.org/1999/xlink\">\n<g id=\"graph0\" class=\"graph\" transform=\"scale(1 1) rotate(0) translate(4 186)\">\n<polygon fill=\"white\" stroke=\"transparent\" points=\"-4,4 -4,-186 259.59,-186 259.59,4 -4,4\"/>\n<!-- 96fd3943&#45;4640&#45;4aba&#45;9532&#45;39e71944dfdb -->\n<g id=\"node1\" class=\"node\">\n<title>96fd3943&#45;4640&#45;4aba&#45;9532&#45;39e71944dfdb</title>\n<g id=\"a_node1\"><a xlink:title=\".\">\n<ellipse fill=\"black\" stroke=\"black\" cx=\"1.8\" cy=\"-85.5\" rx=\"1.8\" ry=\"1.8\"/>\n</a>\n</g>\n</g>\n<!-- q0 -->\n<g id=\"node2\" class=\"node\">\n<title>q0</title>\n<ellipse fill=\"none\" stroke=\"black\" cx=\"60.1\" cy=\"-85.5\" rx=\"19.5\" ry=\"19.5\"/>\n<text text-anchor=\"middle\" x=\"60.1\" y=\"-81.8\" font-family=\"Times,serif\" font-size=\"14.00\">q0</text>\n</g>\n<!-- 96fd3943&#45;4640&#45;4aba&#45;9532&#45;39e71944dfdb&#45;&gt;q0 -->\n<g id=\"edge1\" class=\"edge\">\n<title>96fd3943&#45;4640&#45;4aba&#45;9532&#45;39e71944dfdb&#45;&gt;q0</title>\n<g id=\"a_edge1\"><a xlink:title=\"&#45;&gt;q0\">\n<path fill=\"none\" stroke=\"black\" d=\"M3.78,-85.5C7.28,-85.5 19.64,-85.5 31.78,-85.5\"/>\n<polygon fill=\"black\" stroke=\"black\" points=\"31.96,-88.48 40.46,-85.5 31.96,-82.53 31.96,-88.48\"/>\n</a>\n</g>\n</g>\n<!-- q0&#45;&gt;q0 -->\n<g id=\"edge2\" class=\"edge\">\n<title>q0&#45;&gt;q0</title>\n<path fill=\"none\" stroke=\"black\" d=\"M53.63,-104.02C52.53,-113.95 54.68,-123 60.1,-123 63.82,-123 66,-118.72 66.65,-112.82\"/>\n<polygon fill=\"black\" stroke=\"black\" points=\"69.62,-112.5 66.57,-104.02 63.67,-112.55 69.62,-112.5\"/>\n<text text-anchor=\"middle\" x=\"60.1\" y=\"-126.8\" font-family=\"Times,serif\" font-size=\"14.00\">0,1</text>\n</g>\n<!-- q3 -->\n<g id=\"node3\" class=\"node\">\n<title>q3</title>\n<ellipse fill=\"none\" stroke=\"black\" cx=\"142.09\" cy=\"-119.5\" rx=\"19.5\" ry=\"19.5\"/>\n<text text-anchor=\"middle\" x=\"142.09\" y=\"-115.8\" font-family=\"Times,serif\" font-size=\"14.00\">q3</text>\n</g>\n<!-- q0&#45;&gt;q3 -->\n<g id=\"edge3\" class=\"edge\">\n<title>q0&#45;&gt;q3</title>\n<path fill=\"none\" stroke=\"black\" d=\"M78.46,-92.88C89.36,-97.51 103.61,-103.57 115.76,-108.73\"/>\n<polygon fill=\"black\" stroke=\"black\" points=\"114.78,-111.55 123.77,-112.14 117.11,-106.08 114.78,-111.55\"/>\n<text text-anchor=\"middle\" x=\"101.1\" y=\"-107.3\" font-family=\"Times,serif\" font-size=\"14.00\">0</text>\n</g>\n<!-- q1 -->\n<g id=\"node4\" class=\"node\">\n<title>q1</title>\n<ellipse fill=\"none\" stroke=\"black\" cx=\"142.09\" cy=\"-57.5\" rx=\"19.5\" ry=\"19.5\"/>\n<text text-anchor=\"middle\" x=\"142.09\" y=\"-53.8\" font-family=\"Times,serif\" font-size=\"14.00\">q1</text>\n</g>\n<!-- q0&#45;&gt;q1 -->\n<g id=\"edge4\" class=\"edge\">\n<title>q0&#45;&gt;q1</title>\n<path fill=\"none\" stroke=\"black\" d=\"M78.91,-79.12C84.85,-77 91.5,-74.64 97.6,-72.5 103.27,-70.51 109.37,-68.4 115.15,-66.4\"/>\n<polygon fill=\"black\" stroke=\"black\" points=\"116.23,-69.17 123.3,-63.59 114.29,-63.55 116.23,-69.17\"/>\n<text text-anchor=\"middle\" x=\"101.1\" y=\"-76.3\" font-family=\"Times,serif\" font-size=\"14.00\">1</text>\n</g>\n<!-- q4 -->\n<g id=\"node5\" class=\"node\">\n<title>q4</title>\n<ellipse fill=\"none\" stroke=\"black\" cx=\"228.09\" cy=\"-125.5\" rx=\"23.5\" ry=\"23.5\"/>\n<ellipse fill=\"none\" stroke=\"black\" cx=\"228.09\" cy=\"-125.5\" rx=\"27.5\" ry=\"27.5\"/>\n<text text-anchor=\"middle\" x=\"228.09\" y=\"-121.8\" font-family=\"Times,serif\" font-size=\"14.00\">q4</text>\n</g>\n<!-- q3&#45;&gt;q4 -->\n<g id=\"edge5\" class=\"edge\">\n<title>q3&#45;&gt;q4</title>\n<path fill=\"none\" stroke=\"black\" d=\"M161.74,-120.83C171.83,-121.55 184.56,-122.46 196.09,-123.28\"/>\n<polygon fill=\"black\" stroke=\"black\" points=\"195.93,-126.25 204.62,-123.89 196.35,-120.32 195.93,-126.25\"/>\n<text text-anchor=\"middle\" x=\"183.09\" y=\"-126.3\" font-family=\"Times,serif\" font-size=\"14.00\">0</text>\n</g>\n<!-- q2 -->\n<g id=\"node6\" class=\"node\">\n<title>q2</title>\n<ellipse fill=\"none\" stroke=\"black\" cx=\"228.09\" cy=\"-27.5\" rx=\"23.5\" ry=\"23.5\"/>\n<ellipse fill=\"none\" stroke=\"black\" cx=\"228.09\" cy=\"-27.5\" rx=\"27.5\" ry=\"27.5\"/>\n<text text-anchor=\"middle\" x=\"228.09\" y=\"-23.8\" font-family=\"Times,serif\" font-size=\"14.00\">q2</text>\n</g>\n<!-- q1&#45;&gt;q2 -->\n<g id=\"edge6\" class=\"edge\">\n<title>q1&#45;&gt;q2</title>\n<path fill=\"none\" stroke=\"black\" d=\"M160.91,-51.14C171.55,-47.34 185.34,-42.41 197.57,-38.04\"/>\n<polygon fill=\"black\" stroke=\"black\" points=\"198.73,-40.79 205.73,-35.13 196.72,-35.19 198.73,-40.79\"/>\n<text text-anchor=\"middle\" x=\"183.09\" y=\"-48.3\" font-family=\"Times,serif\" font-size=\"14.00\">1</text>\n</g>\n<!-- q4&#45;&gt;q4 -->\n<g id=\"edge7\" class=\"edge\">\n<title>q4&#45;&gt;q4</title>\n<path fill=\"none\" stroke=\"black\" d=\"M220,-147.7C219.12,-158 221.82,-167 228.09,-167 232.5,-167 235.14,-162.55 236.02,-156.33\"/>\n<polygon fill=\"black\" stroke=\"black\" points=\"239,-156.26 236.18,-147.7 233.05,-156.15 239,-156.26\"/>\n<text text-anchor=\"middle\" x=\"228.09\" y=\"-170.8\" font-family=\"Times,serif\" font-size=\"14.00\">0,1</text>\n</g>\n<!-- q2&#45;&gt;q2 -->\n<g id=\"edge8\" class=\"edge\">\n<title>q2&#45;&gt;q2</title>\n<path fill=\"none\" stroke=\"black\" d=\"M220,-49.7C219.12,-60 221.82,-69 228.09,-69 232.5,-69 235.14,-64.55 236.02,-58.33\"/>\n<polygon fill=\"black\" stroke=\"black\" points=\"239,-58.25 236.18,-49.7 233.05,-58.14 239,-58.25\"/>\n<text text-anchor=\"middle\" x=\"228.09\" y=\"-72.8\" font-family=\"Times,serif\" font-size=\"14.00\">0,1</text>\n</g>\n</g>\n</svg>\n",
            "text/plain": [
              "<AGraph <Swig Object of type 'Agraph_t *' at 0x7f528f6a5d70>>"
            ]
          },
          "metadata": {},
          "execution_count": 112
        }
      ],
      "source": [
        "nfa4.show_diagram()"
      ]
    },
    {
      "cell_type": "markdown",
      "metadata": {
        "id": "TGqrgKrJnp2B"
      },
      "source": [
        "* Expectedly, the **Graphviz** programs generates a similar diagram.\n",
        "* Lets find several computation sequences for some words accepted by `nfa4`.\n",
        "* Easy to see that $w=0011$ is accepted:"
      ]
    },
    {
      "cell_type": "code",
      "execution_count": 113,
      "metadata": {
        "colab": {
          "base_uri": "https://localhost:8080/"
        },
        "id": "_tyTgd5Wnp2B",
        "outputId": "4caaa994-6a46-4687-bef9-c36b047bab2e"
      },
      "outputs": [
        {
          "output_type": "execute_result",
          "data": {
            "text/plain": [
              "True"
            ]
          },
          "metadata": {},
          "execution_count": 113
        }
      ],
      "source": [
        "w = '0011'\n",
        "w in nfa4"
      ]
    },
    {
      "cell_type": "markdown",
      "metadata": {
        "id": "Uwy6sChPnp2B"
      },
      "source": [
        "* For an NFA there could be infinitely many number of computation sequences.\n",
        "* The `compseq` method accepts an additional argument `limit` for how many of the we want to get.\n",
        "* In some cases there are fewer than `limit`."
      ]
    },
    {
      "cell_type": "code",
      "execution_count": 114,
      "metadata": {
        "colab": {
          "base_uri": "https://localhost:8080/",
          "height": 116
        },
        "id": "MqVjIQb7yF7K",
        "outputId": "2cfa936e-09b1-476b-cf5e-7c15898cc441"
      },
      "outputs": [
        {
          "output_type": "stream",
          "name": "stdout",
          "text": [
            "input=0011\n"
          ]
        },
        {
          "output_type": "display_data",
          "data": {
            "text/plain": [
              "<IPython.core.display.HTML object>"
            ],
            "text/html": [
              "<br/>"
            ]
          },
          "metadata": {}
        },
        {
          "output_type": "display_data",
          "data": {
            "text/plain": [
              "<IPython.core.display.Latex object>"
            ],
            "text/latex": "$\\mathbf{q0}\\xrightarrow{\\;\\textbf{0}\\;}\\mathbf{q0}\\xrightarrow{\\;\\textbf{0}\\;}\\mathbf{q0}\\xrightarrow{\\;\\textbf{1}\\;}\\mathbf{q1}\\xrightarrow{\\;\\textbf{1}\\;}\\mathbf{q2}$"
          },
          "metadata": {}
        },
        {
          "output_type": "display_data",
          "data": {
            "text/plain": [
              "<IPython.core.display.HTML object>"
            ],
            "text/html": [
              "<br/>"
            ]
          },
          "metadata": {}
        },
        {
          "output_type": "display_data",
          "data": {
            "text/plain": [
              "<IPython.core.display.Latex object>"
            ],
            "text/latex": "$\\mathbf{q0}\\xrightarrow{\\;\\textbf{0}\\;}\\mathbf{q3}\\xrightarrow{\\;\\textbf{0}\\;}\\mathbf{q4}\\xrightarrow{\\;\\textbf{1}\\;}\\mathbf{q4}\\xrightarrow{\\;\\textbf{1}\\;}\\mathbf{q4}$"
          },
          "metadata": {}
        }
      ],
      "source": [
        "nfa4.compseq(w, limit=5);"
      ]
    },
    {
      "cell_type": "code",
      "execution_count": 115,
      "metadata": {
        "colab": {
          "base_uri": "https://localhost:8080/"
        },
        "id": "tAlzjUBunp2C",
        "outputId": "c0a72557-3e65-4064-ec2e-2f0e91b92440"
      },
      "outputs": [
        {
          "output_type": "execute_result",
          "data": {
            "text/plain": [
              "True"
            ]
          },
          "metadata": {},
          "execution_count": 115
        }
      ],
      "source": [
        "w = '011011'\n",
        "w in nfa4"
      ]
    },
    {
      "cell_type": "code",
      "execution_count": 116,
      "metadata": {
        "colab": {
          "base_uri": "https://localhost:8080/",
          "height": 133
        },
        "id": "yeYHUQ1gnp2C",
        "outputId": "10c4acc7-97ac-4ccc-b052-0de4751954e7"
      },
      "outputs": [
        {
          "output_type": "stream",
          "name": "stdout",
          "text": [
            "input=011011\n"
          ]
        },
        {
          "output_type": "display_data",
          "data": {
            "text/plain": [
              "<IPython.core.display.HTML object>"
            ],
            "text/html": [
              "<br/>"
            ]
          },
          "metadata": {}
        },
        {
          "output_type": "display_data",
          "data": {
            "text/plain": [
              "<IPython.core.display.Latex object>"
            ],
            "text/latex": "$\\mathbf{q0}\\xrightarrow{\\;\\textbf{0}\\;}\\mathbf{q0}\\xrightarrow{\\;\\textbf{1}\\;}\\mathbf{q0}\\xrightarrow{\\;\\textbf{1}\\;}\\mathbf{q0}\\xrightarrow{\\;\\textbf{0}\\;}\\mathbf{q0}\\xrightarrow{\\;\\textbf{1}\\;}\\mathbf{q1}\\xrightarrow{\\;\\textbf{1}\\;}\\mathbf{q2}$"
          },
          "metadata": {}
        },
        {
          "output_type": "display_data",
          "data": {
            "text/plain": [
              "<IPython.core.display.HTML object>"
            ],
            "text/html": [
              "<br/>"
            ]
          },
          "metadata": {}
        },
        {
          "output_type": "display_data",
          "data": {
            "text/plain": [
              "<IPython.core.display.Latex object>"
            ],
            "text/latex": "$\\mathbf{q0}\\xrightarrow{\\;\\textbf{0}\\;}\\mathbf{q0}\\xrightarrow{\\;\\textbf{1}\\;}\\mathbf{q1}\\xrightarrow{\\;\\textbf{1}\\;}\\mathbf{q2}\\xrightarrow{\\;\\textbf{0}\\;}\\mathbf{q2}\\xrightarrow{\\;\\textbf{1}\\;}\\mathbf{q2}\\xrightarrow{\\;\\textbf{1}\\;}\\mathbf{q2}$"
          },
          "metadata": {}
        },
        {
          "output_type": "execute_result",
          "data": {
            "text/plain": [
              "2"
            ]
          },
          "metadata": {},
          "execution_count": 116
        }
      ],
      "source": [
        "nfa4.compseq(w, limit=10)"
      ]
    },
    {
      "cell_type": "code",
      "execution_count": 117,
      "metadata": {
        "colab": {
          "base_uri": "https://localhost:8080/"
        },
        "id": "HN0ee7_wnp2C",
        "outputId": "3e5d5e25-edbb-4f4f-b662-baa53652019a"
      },
      "outputs": [
        {
          "output_type": "execute_result",
          "data": {
            "text/plain": [
              "False"
            ]
          },
          "metadata": {},
          "execution_count": 117
        }
      ],
      "source": [
        "w = '010'\n",
        "w in nfa4"
      ]
    },
    {
      "cell_type": "code",
      "execution_count": 118,
      "metadata": {
        "colab": {
          "base_uri": "https://localhost:8080/"
        },
        "id": "1BcCS0aznp2C",
        "outputId": "5250c2e3-eb24-4600-a013-3f70dc68e27d"
      },
      "outputs": [
        {
          "output_type": "stream",
          "name": "stdout",
          "text": [
            "input=010\n",
            "REJECTED: 010\n"
          ]
        },
        {
          "output_type": "execute_result",
          "data": {
            "text/plain": [
              "0"
            ]
          },
          "metadata": {},
          "execution_count": 118
        }
      ],
      "source": [
        "nfa4.compseq(w, limit=10)"
      ]
    },
    {
      "cell_type": "code",
      "execution_count": 119,
      "metadata": {
        "colab": {
          "base_uri": "https://localhost:8080/"
        },
        "id": "A_TdXYdmnp2C",
        "outputId": "9cf57d07-ff22-47a9-bc6a-3b5fd72a8e34"
      },
      "outputs": [
        {
          "output_type": "execute_result",
          "data": {
            "text/plain": [
              "True"
            ]
          },
          "metadata": {},
          "execution_count": 119
        }
      ],
      "source": [
        "w = '0010000'\n",
        "w in nfa4"
      ]
    },
    {
      "cell_type": "code",
      "execution_count": 120,
      "metadata": {
        "colab": {
          "base_uri": "https://localhost:8080/",
          "height": 214
        },
        "id": "mUnHQpBsnp2D",
        "outputId": "a68573e3-830b-485b-8b09-057c13aad4cf"
      },
      "outputs": [
        {
          "output_type": "stream",
          "name": "stdout",
          "text": [
            "input=0010000\n"
          ]
        },
        {
          "output_type": "display_data",
          "data": {
            "text/plain": [
              "<IPython.core.display.HTML object>"
            ],
            "text/html": [
              "<br/>"
            ]
          },
          "metadata": {}
        },
        {
          "output_type": "display_data",
          "data": {
            "text/plain": [
              "<IPython.core.display.Latex object>"
            ],
            "text/latex": "$\\mathbf{q0}\\xrightarrow{\\;\\textbf{0}\\;}\\mathbf{q0}\\xrightarrow{\\;\\textbf{0}\\;}\\mathbf{q0}\\xrightarrow{\\;\\textbf{1}\\;}\\mathbf{q0}\\xrightarrow{\\;\\textbf{0}\\;}\\mathbf{q0}\\xrightarrow{\\;\\textbf{0}\\;}\\mathbf{q0}\\xrightarrow{\\;\\textbf{0}\\;}\\mathbf{q3}\\xrightarrow{\\;\\textbf{0}\\;}\\mathbf{q4}$"
          },
          "metadata": {}
        },
        {
          "output_type": "display_data",
          "data": {
            "text/plain": [
              "<IPython.core.display.HTML object>"
            ],
            "text/html": [
              "<br/>"
            ]
          },
          "metadata": {}
        },
        {
          "output_type": "display_data",
          "data": {
            "text/plain": [
              "<IPython.core.display.Latex object>"
            ],
            "text/latex": "$\\mathbf{q0}\\xrightarrow{\\;\\textbf{0}\\;}\\mathbf{q0}\\xrightarrow{\\;\\textbf{0}\\;}\\mathbf{q0}\\xrightarrow{\\;\\textbf{1}\\;}\\mathbf{q0}\\xrightarrow{\\;\\textbf{0}\\;}\\mathbf{q0}\\xrightarrow{\\;\\textbf{0}\\;}\\mathbf{q3}\\xrightarrow{\\;\\textbf{0}\\;}\\mathbf{q4}\\xrightarrow{\\;\\textbf{0}\\;}\\mathbf{q4}$"
          },
          "metadata": {}
        },
        {
          "output_type": "display_data",
          "data": {
            "text/plain": [
              "<IPython.core.display.HTML object>"
            ],
            "text/html": [
              "<br/>"
            ]
          },
          "metadata": {}
        },
        {
          "output_type": "display_data",
          "data": {
            "text/plain": [
              "<IPython.core.display.Latex object>"
            ],
            "text/latex": "$\\mathbf{q0}\\xrightarrow{\\;\\textbf{0}\\;}\\mathbf{q0}\\xrightarrow{\\;\\textbf{0}\\;}\\mathbf{q0}\\xrightarrow{\\;\\textbf{1}\\;}\\mathbf{q0}\\xrightarrow{\\;\\textbf{0}\\;}\\mathbf{q3}\\xrightarrow{\\;\\textbf{0}\\;}\\mathbf{q4}\\xrightarrow{\\;\\textbf{0}\\;}\\mathbf{q4}\\xrightarrow{\\;\\textbf{0}\\;}\\mathbf{q4}$"
          },
          "metadata": {}
        },
        {
          "output_type": "display_data",
          "data": {
            "text/plain": [
              "<IPython.core.display.HTML object>"
            ],
            "text/html": [
              "<br/>"
            ]
          },
          "metadata": {}
        },
        {
          "output_type": "display_data",
          "data": {
            "text/plain": [
              "<IPython.core.display.Latex object>"
            ],
            "text/latex": "$\\mathbf{q0}\\xrightarrow{\\;\\textbf{0}\\;}\\mathbf{q3}\\xrightarrow{\\;\\textbf{0}\\;}\\mathbf{q4}\\xrightarrow{\\;\\textbf{1}\\;}\\mathbf{q4}\\xrightarrow{\\;\\textbf{0}\\;}\\mathbf{q4}\\xrightarrow{\\;\\textbf{0}\\;}\\mathbf{q4}\\xrightarrow{\\;\\textbf{0}\\;}\\mathbf{q4}\\xrightarrow{\\;\\textbf{0}\\;}\\mathbf{q4}$"
          },
          "metadata": {}
        },
        {
          "output_type": "execute_result",
          "data": {
            "text/plain": [
              "4"
            ]
          },
          "metadata": {},
          "execution_count": 120
        }
      ],
      "source": [
        "nfa4.compseq(w, limit=10)"
      ]
    },
    {
      "cell_type": "markdown",
      "metadata": {
        "id": "MkFbLXBDnp2D"
      },
      "source": [
        "* Lets check what automata-lib gives as an equivalnt DFA\n",
        "* The algorithm in the book gives\n",
        "\n",
        "<img src=\"https://samyzaf.com/afl/sol/auto4.jpg\" width=40% alt=\"auto3.jpg\"/>"
      ]
    },
    {
      "cell_type": "code",
      "execution_count": 121,
      "metadata": {
        "colab": {
          "base_uri": "https://localhost:8080/",
          "height": 207
        },
        "id": "taMvmpuNnp2D",
        "outputId": "ecce0cfb-a38c-48f7-d15e-ab7252a6df94"
      },
      "outputs": [
        {
          "output_type": "execute_result",
          "data": {
            "image/svg+xml": "<?xml version=\"1.0\" encoding=\"UTF-8\" standalone=\"no\"?>\n<!DOCTYPE svg PUBLIC \"-//W3C//DTD SVG 1.1//EN\"\n \"http://www.w3.org/Graphics/SVG/1.1/DTD/svg11.dtd\">\n<!-- Generated by graphviz version 2.43.0 (0)\n -->\n<!-- Pages: 1 -->\n<svg width=\"334pt\" height=\"139pt\"\n viewBox=\"0.00 0.00 333.60 139.00\" xmlns=\"http://www.w3.org/2000/svg\" xmlns:xlink=\"http://www.w3.org/1999/xlink\">\n<g id=\"graph0\" class=\"graph\" transform=\"scale(1 1) rotate(0) translate(4 135)\">\n<polygon fill=\"white\" stroke=\"transparent\" points=\"-4,4 -4,-135 329.6,-135 329.6,4 -4,4\"/>\n<!-- e49e21a7&#45;7ea5&#45;4d04&#45;b10c&#45;ee79dc60442f -->\n<g id=\"node1\" class=\"node\">\n<title>e49e21a7&#45;7ea5&#45;4d04&#45;b10c&#45;ee79dc60442f</title>\n<g id=\"a_node1\"><a xlink:title=\".\">\n<ellipse fill=\"black\" stroke=\"black\" cx=\"1.8\" cy=\"-18\" rx=\"1.8\" ry=\"1.8\"/>\n</a>\n</g>\n</g>\n<!-- 0 -->\n<g id=\"node2\" class=\"node\">\n<title>0</title>\n<ellipse fill=\"none\" stroke=\"black\" cx=\"58.6\" cy=\"-18\" rx=\"18\" ry=\"18\"/>\n<text text-anchor=\"middle\" x=\"58.6\" y=\"-14.3\" font-family=\"Times,serif\" font-size=\"14.00\">0</text>\n</g>\n<!-- e49e21a7&#45;7ea5&#45;4d04&#45;b10c&#45;ee79dc60442f&#45;&gt;0 -->\n<g id=\"edge1\" class=\"edge\">\n<title>e49e21a7&#45;7ea5&#45;4d04&#45;b10c&#45;ee79dc60442f&#45;&gt;0</title>\n<g id=\"a_edge1\"><a xlink:title=\"&#45;&gt;0\">\n<path fill=\"none\" stroke=\"black\" d=\"M3.75,-18C7.25,-18 19.84,-18 31.96,-18\"/>\n<polygon fill=\"black\" stroke=\"black\" points=\"32.08,-20.98 40.58,-18 32.07,-15.03 32.08,-20.98\"/>\n</a>\n</g>\n</g>\n<!-- 2 -->\n<g id=\"node3\" class=\"node\">\n<title>2</title>\n<ellipse fill=\"none\" stroke=\"black\" cx=\"137.6\" cy=\"-63\" rx=\"18\" ry=\"18\"/>\n<text text-anchor=\"middle\" x=\"137.6\" y=\"-59.3\" font-family=\"Times,serif\" font-size=\"14.00\">2</text>\n</g>\n<!-- 0&#45;&gt;2 -->\n<g id=\"edge2\" class=\"edge\">\n<title>0&#45;&gt;2</title>\n<path fill=\"none\" stroke=\"black\" d=\"M74.45,-26.68C85.74,-33.27 101.46,-42.46 114.27,-49.95\"/>\n<polygon fill=\"black\" stroke=\"black\" points=\"112.96,-52.63 121.8,-54.35 115.96,-47.49 112.96,-52.63\"/>\n<text text-anchor=\"middle\" x=\"98.1\" y=\"-44.8\" font-family=\"Times,serif\" font-size=\"14.00\">1</text>\n</g>\n<!-- 3 -->\n<g id=\"node4\" class=\"node\">\n<title>3</title>\n<ellipse fill=\"none\" stroke=\"black\" cx=\"216.6\" cy=\"-42\" rx=\"18\" ry=\"18\"/>\n<text text-anchor=\"middle\" x=\"216.6\" y=\"-38.3\" font-family=\"Times,serif\" font-size=\"14.00\">3</text>\n</g>\n<!-- 0&#45;&gt;3 -->\n<g id=\"edge3\" class=\"edge\">\n<title>0&#45;&gt;3</title>\n<path fill=\"none\" stroke=\"black\" d=\"M76.95,-16.69C100.91,-15.45 145.21,-15.26 180.6,-27 184.37,-28.25 188.3,-29.74 192.11,-31.29\"/>\n<polygon fill=\"black\" stroke=\"black\" points=\"191.15,-34.12 200.14,-34.7 193.48,-28.64 191.15,-34.12\"/>\n<text text-anchor=\"middle\" x=\"137.6\" y=\"-24.8\" font-family=\"Times,serif\" font-size=\"14.00\">0</text>\n</g>\n<!-- 2&#45;&gt;3 -->\n<g id=\"edge4\" class=\"edge\">\n<title>2&#45;&gt;3</title>\n<path fill=\"none\" stroke=\"black\" d=\"M155.31,-58.44C165.6,-55.64 178.99,-51.98 190.54,-48.84\"/>\n<polygon fill=\"black\" stroke=\"black\" points=\"191.5,-51.66 198.92,-46.55 189.94,-45.92 191.5,-51.66\"/>\n<text text-anchor=\"middle\" x=\"177.1\" y=\"-56.8\" font-family=\"Times,serif\" font-size=\"14.00\">0</text>\n</g>\n<!-- 1 -->\n<g id=\"node5\" class=\"node\">\n<title>1</title>\n<ellipse fill=\"none\" stroke=\"black\" cx=\"299.6\" cy=\"-76\" rx=\"22\" ry=\"22\"/>\n<ellipse fill=\"none\" stroke=\"black\" cx=\"299.6\" cy=\"-76\" rx=\"26\" ry=\"26\"/>\n<text text-anchor=\"middle\" x=\"299.6\" y=\"-72.3\" font-family=\"Times,serif\" font-size=\"14.00\">1</text>\n</g>\n<!-- 2&#45;&gt;1 -->\n<g id=\"edge5\" class=\"edge\">\n<title>2&#45;&gt;1</title>\n<path fill=\"none\" stroke=\"black\" d=\"M155.21,-67.91C160.98,-69.44 167.53,-71 173.6,-72 211.4,-78.25 221.3,-78.98 259.6,-78 262.61,-77.92 265.74,-77.81 268.87,-77.68\"/>\n<polygon fill=\"black\" stroke=\"black\" points=\"269.21,-80.65 277.56,-77.28 268.93,-74.7 269.21,-80.65\"/>\n<text text-anchor=\"middle\" x=\"216.6\" y=\"-81.8\" font-family=\"Times,serif\" font-size=\"14.00\">1</text>\n</g>\n<!-- 3&#45;&gt;2 -->\n<g id=\"edge6\" class=\"edge\">\n<title>3&#45;&gt;2</title>\n<path fill=\"none\" stroke=\"black\" d=\"M200.15,-33.98C192.09,-30.88 182.15,-28.76 173.6,-32 167.23,-34.41 161.28,-38.57 156.16,-43.08\"/>\n<polygon fill=\"black\" stroke=\"black\" points=\"153.77,-41.25 149.72,-49.3 157.9,-45.53 153.77,-41.25\"/>\n<text text-anchor=\"middle\" x=\"177.1\" y=\"-35.8\" font-family=\"Times,serif\" font-size=\"14.00\">1</text>\n</g>\n<!-- 3&#45;&gt;1 -->\n<g id=\"edge7\" class=\"edge\">\n<title>3&#45;&gt;1</title>\n<path fill=\"none\" stroke=\"black\" d=\"M233.6,-48.72C244.27,-53.19 258.56,-59.2 271.03,-64.43\"/>\n<polygon fill=\"black\" stroke=\"black\" points=\"269.92,-67.19 278.91,-67.73 272.22,-61.7 269.92,-67.19\"/>\n<text text-anchor=\"middle\" x=\"256.1\" y=\"-62.8\" font-family=\"Times,serif\" font-size=\"14.00\">0</text>\n</g>\n<!-- 1&#45;&gt;1 -->\n<g id=\"edge8\" class=\"edge\">\n<title>1&#45;&gt;1</title>\n<path fill=\"none\" stroke=\"black\" d=\"M291.92,-96.99C290.97,-107.09 293.53,-116 299.6,-116 303.77,-116 306.29,-111.79 307.14,-105.87\"/>\n<polygon fill=\"black\" stroke=\"black\" points=\"310.12,-105.54 307.28,-96.99 304.17,-105.44 310.12,-105.54\"/>\n<text text-anchor=\"middle\" x=\"299.6\" y=\"-119.8\" font-family=\"Times,serif\" font-size=\"14.00\">0,1</text>\n</g>\n</g>\n</svg>\n",
            "text/plain": [
              "<AGraph <Swig Object of type 'Agraph_t *' at 0x7f528f932670>>"
            ]
          },
          "metadata": {},
          "execution_count": 121
        }
      ],
      "source": [
        "dfa = DFA.from_nfa(nfa4)\n",
        "dfa.show_diagram()"
      ]
    },
    {
      "cell_type": "markdown",
      "metadata": {
        "id": "YiU0SUnenp2D"
      },
      "source": [
        "* The Python algorithm performs one more step: minimalization.\n",
        "* The book algorithm does not produce the most minimal DFA."
      ]
    },
    {
      "cell_type": "markdown",
      "metadata": {
        "id": "1nf4rYQ-np2D"
      },
      "source": [
        "## Exercise 2.6\n",
        "Convert the following non-deterministic finite automata to an equivalent deterministic automata.\n",
        "\n",
        "<img src=\"https://samyzaf.com/afl/sol/nfa1b_small.jpg\" width=35% alt=\"nfa1b_small.jpg\"/>\n",
        "\n",
        "## Solution\n",
        "* This problem should be solved by using the algorithm outlined in Chapter 2,\n",
        "  which presumably is the one used by the automata-lib package (seems like it also minimizes the automaton).\n",
        "* The following code gives a minimal DFA.\n",
        "* First we need a formal definition:"
      ]
    },
    {
      "cell_type": "code",
      "execution_count": 122,
      "metadata": {
        "id": "DqtmX42Onp2D"
      },
      "outputs": [],
      "source": [
        "nfa5 = NFA(\"\"\"\n",
        "states: q0 q1 q2\n",
        "input_symbols: 0 1\n",
        "transitions:\n",
        "    q0:  0:q0 q2, 1:q1, epsilon:q1\n",
        "    q1:  0:q2\n",
        "    q2:  1:q2\n",
        "initial_state: q0\n",
        "final_states: q0 q1\n",
        "\"\"\")"
      ]
    },
    {
      "cell_type": "code",
      "execution_count": 123,
      "metadata": {
        "colab": {
          "base_uri": "https://localhost:8080/",
          "height": 140
        },
        "id": "azGDDtU-np2D",
        "outputId": "fe462464-051b-4d3d-9f44-9455f1383c7e"
      },
      "outputs": [
        {
          "output_type": "execute_result",
          "data": {
            "image/svg+xml": "<?xml version=\"1.0\" encoding=\"UTF-8\" standalone=\"no\"?>\n<!DOCTYPE svg PUBLIC \"-//W3C//DTD SVG 1.1//EN\"\n \"http://www.w3.org/Graphics/SVG/1.1/DTD/svg11.dtd\">\n<!-- Generated by graphviz version 2.43.0 (0)\n -->\n<!-- Pages: 1 -->\n<svg width=\"184pt\" height=\"89pt\"\n viewBox=\"0.00 0.00 183.60 89.00\" xmlns=\"http://www.w3.org/2000/svg\" xmlns:xlink=\"http://www.w3.org/1999/xlink\">\n<g id=\"graph0\" class=\"graph\" transform=\"scale(1 1) rotate(0) translate(4 85)\">\n<polygon fill=\"white\" stroke=\"transparent\" points=\"-4,4 -4,-85 179.6,-85 179.6,4 -4,4\"/>\n<!-- fdc30a3c&#45;2f56&#45;482d&#45;b9f8&#45;c82057763fed -->\n<g id=\"node1\" class=\"node\">\n<title>fdc30a3c&#45;2f56&#45;482d&#45;b9f8&#45;c82057763fed</title>\n<g id=\"a_node1\"><a xlink:title=\".\">\n<ellipse fill=\"black\" stroke=\"black\" cx=\"1.8\" cy=\"-26\" rx=\"1.8\" ry=\"1.8\"/>\n</a>\n</g>\n</g>\n<!-- 2 -->\n<g id=\"node2\" class=\"node\">\n<title>2</title>\n<ellipse fill=\"none\" stroke=\"black\" cx=\"62.6\" cy=\"-26\" rx=\"22\" ry=\"22\"/>\n<ellipse fill=\"none\" stroke=\"black\" cx=\"62.6\" cy=\"-26\" rx=\"26\" ry=\"26\"/>\n<text text-anchor=\"middle\" x=\"62.6\" y=\"-22.3\" font-family=\"Times,serif\" font-size=\"14.00\">2</text>\n</g>\n<!-- fdc30a3c&#45;2f56&#45;482d&#45;b9f8&#45;c82057763fed&#45;&gt;2 -->\n<g id=\"edge1\" class=\"edge\">\n<title>fdc30a3c&#45;2f56&#45;482d&#45;b9f8&#45;c82057763fed&#45;&gt;2</title>\n<g id=\"a_edge1\"><a xlink:title=\"&#45;&gt;2\">\n<path fill=\"none\" stroke=\"black\" d=\"M3.82,-26C7.33,-26 19.36,-26 31.54,-26\"/>\n<polygon fill=\"black\" stroke=\"black\" points=\"31.82,-28.98 40.31,-26 31.81,-23.03 31.82,-28.98\"/>\n</a>\n</g>\n</g>\n<!-- 2&#45;&gt;2 -->\n<g id=\"edge2\" class=\"edge\">\n<title>2&#45;&gt;2</title>\n<path fill=\"none\" stroke=\"black\" d=\"M55.28,-46.99C54.38,-57.09 56.82,-66 62.6,-66 66.58,-66 68.97,-61.79 69.78,-55.87\"/>\n<polygon fill=\"black\" stroke=\"black\" points=\"72.77,-55.53 69.92,-46.99 66.82,-55.45 72.77,-55.53\"/>\n<text text-anchor=\"middle\" x=\"62.6\" y=\"-69.8\" font-family=\"Times,serif\" font-size=\"14.00\">0</text>\n</g>\n<!-- 1 -->\n<g id=\"node3\" class=\"node\">\n<title>1</title>\n<ellipse fill=\"none\" stroke=\"black\" cx=\"149.6\" cy=\"-26\" rx=\"22\" ry=\"22\"/>\n<ellipse fill=\"none\" stroke=\"black\" cx=\"149.6\" cy=\"-26\" rx=\"26\" ry=\"26\"/>\n<text text-anchor=\"middle\" x=\"149.6\" y=\"-22.3\" font-family=\"Times,serif\" font-size=\"14.00\">1</text>\n</g>\n<!-- 2&#45;&gt;1 -->\n<g id=\"edge3\" class=\"edge\">\n<title>2&#45;&gt;1</title>\n<path fill=\"none\" stroke=\"black\" d=\"M84.61,-26C94.93,-26 107.54,-26 118.83,-26\"/>\n<polygon fill=\"black\" stroke=\"black\" points=\"119.04,-28.98 127.54,-26 119.04,-23.03 119.04,-28.98\"/>\n<text text-anchor=\"middle\" x=\"106.1\" y=\"-29.8\" font-family=\"Times,serif\" font-size=\"14.00\">1</text>\n</g>\n</g>\n</svg>\n",
            "text/plain": [
              "<AGraph <Swig Object of type 'Agraph_t *' at 0x7f528f932dc0>>"
            ]
          },
          "metadata": {},
          "execution_count": 123
        }
      ],
      "source": [
        "dfa = DFA.from_nfa(nfa5)\n",
        "dfa.show_diagram()"
      ]
    },
    {
      "cell_type": "code",
      "execution_count": 124,
      "metadata": {
        "id": "xc8PI6f3np2E"
      },
      "outputs": [],
      "source": [
        "mindfa = dfa.minify()"
      ]
    },
    {
      "cell_type": "code",
      "execution_count": 125,
      "metadata": {
        "colab": {
          "base_uri": "https://localhost:8080/",
          "height": 140
        },
        "id": "4imJ68BBnp2E",
        "outputId": "d37418f1-56a7-45c9-d33c-0c4b0af7dc3d"
      },
      "outputs": [
        {
          "output_type": "execute_result",
          "data": {
            "image/svg+xml": "<?xml version=\"1.0\" encoding=\"UTF-8\" standalone=\"no\"?>\n<!DOCTYPE svg PUBLIC \"-//W3C//DTD SVG 1.1//EN\"\n \"http://www.w3.org/Graphics/SVG/1.1/DTD/svg11.dtd\">\n<!-- Generated by graphviz version 2.43.0 (0)\n -->\n<!-- Pages: 1 -->\n<svg width=\"184pt\" height=\"89pt\"\n viewBox=\"0.00 0.00 183.60 89.00\" xmlns=\"http://www.w3.org/2000/svg\" xmlns:xlink=\"http://www.w3.org/1999/xlink\">\n<g id=\"graph0\" class=\"graph\" transform=\"scale(1 1) rotate(0) translate(4 85)\">\n<polygon fill=\"white\" stroke=\"transparent\" points=\"-4,4 -4,-85 179.6,-85 179.6,4 -4,4\"/>\n<!-- 4e0c40d9&#45;58e6&#45;43b1&#45;855c&#45;838388a36b67 -->\n<g id=\"node1\" class=\"node\">\n<title>4e0c40d9&#45;58e6&#45;43b1&#45;855c&#45;838388a36b67</title>\n<g id=\"a_node1\"><a xlink:title=\".\">\n<ellipse fill=\"black\" stroke=\"black\" cx=\"1.8\" cy=\"-26\" rx=\"1.8\" ry=\"1.8\"/>\n</a>\n</g>\n</g>\n<!-- 2 -->\n<g id=\"node2\" class=\"node\">\n<title>2</title>\n<ellipse fill=\"none\" stroke=\"black\" cx=\"62.6\" cy=\"-26\" rx=\"22\" ry=\"22\"/>\n<ellipse fill=\"none\" stroke=\"black\" cx=\"62.6\" cy=\"-26\" rx=\"26\" ry=\"26\"/>\n<text text-anchor=\"middle\" x=\"62.6\" y=\"-22.3\" font-family=\"Times,serif\" font-size=\"14.00\">2</text>\n</g>\n<!-- 4e0c40d9&#45;58e6&#45;43b1&#45;855c&#45;838388a36b67&#45;&gt;2 -->\n<g id=\"edge1\" class=\"edge\">\n<title>4e0c40d9&#45;58e6&#45;43b1&#45;855c&#45;838388a36b67&#45;&gt;2</title>\n<g id=\"a_edge1\"><a xlink:title=\"&#45;&gt;2\">\n<path fill=\"none\" stroke=\"black\" d=\"M3.82,-26C7.33,-26 19.36,-26 31.54,-26\"/>\n<polygon fill=\"black\" stroke=\"black\" points=\"31.82,-28.98 40.31,-26 31.81,-23.03 31.82,-28.98\"/>\n</a>\n</g>\n</g>\n<!-- 2&#45;&gt;2 -->\n<g id=\"edge2\" class=\"edge\">\n<title>2&#45;&gt;2</title>\n<path fill=\"none\" stroke=\"black\" d=\"M55.28,-46.99C54.38,-57.09 56.82,-66 62.6,-66 66.58,-66 68.97,-61.79 69.78,-55.87\"/>\n<polygon fill=\"black\" stroke=\"black\" points=\"72.77,-55.53 69.92,-46.99 66.82,-55.45 72.77,-55.53\"/>\n<text text-anchor=\"middle\" x=\"62.6\" y=\"-69.8\" font-family=\"Times,serif\" font-size=\"14.00\">0</text>\n</g>\n<!-- 1 -->\n<g id=\"node3\" class=\"node\">\n<title>1</title>\n<ellipse fill=\"none\" stroke=\"black\" cx=\"149.6\" cy=\"-26\" rx=\"22\" ry=\"22\"/>\n<ellipse fill=\"none\" stroke=\"black\" cx=\"149.6\" cy=\"-26\" rx=\"26\" ry=\"26\"/>\n<text text-anchor=\"middle\" x=\"149.6\" y=\"-22.3\" font-family=\"Times,serif\" font-size=\"14.00\">1</text>\n</g>\n<!-- 2&#45;&gt;1 -->\n<g id=\"edge3\" class=\"edge\">\n<title>2&#45;&gt;1</title>\n<path fill=\"none\" stroke=\"black\" d=\"M84.61,-26C94.93,-26 107.54,-26 118.83,-26\"/>\n<polygon fill=\"black\" stroke=\"black\" points=\"119.04,-28.98 127.54,-26 119.04,-23.03 119.04,-28.98\"/>\n<text text-anchor=\"middle\" x=\"106.1\" y=\"-29.8\" font-family=\"Times,serif\" font-size=\"14.00\">1</text>\n</g>\n</g>\n</svg>\n",
            "text/plain": [
              "<AGraph <Swig Object of type 'Agraph_t *' at 0x7f528f9184b0>>"
            ]
          },
          "metadata": {},
          "execution_count": 125
        }
      ],
      "source": [
        "mindfa.show_diagram()"
      ]
    },
    {
      "cell_type": "markdown",
      "metadata": {
        "id": "7Xo7De4qnp2E"
      },
      "source": [
        "* So the code gives a minimal DFA.\n",
        "* If we remove the state '0' (which obviously looks redundant),\n",
        "  we get a minimal NFA which is equivalent to nfa5."
      ]
    },
    {
      "cell_type": "code",
      "execution_count": 126,
      "metadata": {
        "id": "Z2fN7A9jnp2E"
      },
      "outputs": [],
      "source": [
        "min_nfa = NFA(\"\"\"\n",
        "states: 2 1\n",
        "input_symbols: 0 1\n",
        "transitions:\n",
        "    2:  0:2 , 1:1\n",
        "initial_state: 2\n",
        "final_states: 2 1\n",
        "\"\"\")"
      ]
    },
    {
      "cell_type": "code",
      "execution_count": 127,
      "metadata": {
        "colab": {
          "base_uri": "https://localhost:8080/",
          "height": 140
        },
        "id": "saAHdvQ5np2E",
        "outputId": "e8bafed7-6c6b-42d6-ca7e-588e8a3156e5"
      },
      "outputs": [
        {
          "output_type": "execute_result",
          "data": {
            "image/svg+xml": "<?xml version=\"1.0\" encoding=\"UTF-8\" standalone=\"no\"?>\n<!DOCTYPE svg PUBLIC \"-//W3C//DTD SVG 1.1//EN\"\n \"http://www.w3.org/Graphics/SVG/1.1/DTD/svg11.dtd\">\n<!-- Generated by graphviz version 2.43.0 (0)\n -->\n<!-- Pages: 1 -->\n<svg width=\"184pt\" height=\"89pt\"\n viewBox=\"0.00 0.00 183.60 89.00\" xmlns=\"http://www.w3.org/2000/svg\" xmlns:xlink=\"http://www.w3.org/1999/xlink\">\n<g id=\"graph0\" class=\"graph\" transform=\"scale(1 1) rotate(0) translate(4 85)\">\n<polygon fill=\"white\" stroke=\"transparent\" points=\"-4,4 -4,-85 179.6,-85 179.6,4 -4,4\"/>\n<!-- 9f214a81&#45;49eb&#45;484e&#45;bd68&#45;da915f84059a -->\n<g id=\"node1\" class=\"node\">\n<title>9f214a81&#45;49eb&#45;484e&#45;bd68&#45;da915f84059a</title>\n<g id=\"a_node1\"><a xlink:title=\".\">\n<ellipse fill=\"black\" stroke=\"black\" cx=\"1.8\" cy=\"-26\" rx=\"1.8\" ry=\"1.8\"/>\n</a>\n</g>\n</g>\n<!-- 2 -->\n<g id=\"node2\" class=\"node\">\n<title>2</title>\n<ellipse fill=\"none\" stroke=\"black\" cx=\"62.6\" cy=\"-26\" rx=\"22\" ry=\"22\"/>\n<ellipse fill=\"none\" stroke=\"black\" cx=\"62.6\" cy=\"-26\" rx=\"26\" ry=\"26\"/>\n<text text-anchor=\"middle\" x=\"62.6\" y=\"-22.3\" font-family=\"Times,serif\" font-size=\"14.00\">2</text>\n</g>\n<!-- 9f214a81&#45;49eb&#45;484e&#45;bd68&#45;da915f84059a&#45;&gt;2 -->\n<g id=\"edge1\" class=\"edge\">\n<title>9f214a81&#45;49eb&#45;484e&#45;bd68&#45;da915f84059a&#45;&gt;2</title>\n<g id=\"a_edge1\"><a xlink:title=\"&#45;&gt;2\">\n<path fill=\"none\" stroke=\"black\" d=\"M3.82,-26C7.33,-26 19.36,-26 31.54,-26\"/>\n<polygon fill=\"black\" stroke=\"black\" points=\"31.82,-28.98 40.31,-26 31.81,-23.03 31.82,-28.98\"/>\n</a>\n</g>\n</g>\n<!-- 2&#45;&gt;2 -->\n<g id=\"edge2\" class=\"edge\">\n<title>2&#45;&gt;2</title>\n<path fill=\"none\" stroke=\"black\" d=\"M55.28,-46.99C54.38,-57.09 56.82,-66 62.6,-66 66.58,-66 68.97,-61.79 69.78,-55.87\"/>\n<polygon fill=\"black\" stroke=\"black\" points=\"72.77,-55.53 69.92,-46.99 66.82,-55.45 72.77,-55.53\"/>\n<text text-anchor=\"middle\" x=\"62.6\" y=\"-69.8\" font-family=\"Times,serif\" font-size=\"14.00\">0</text>\n</g>\n<!-- 1 -->\n<g id=\"node3\" class=\"node\">\n<title>1</title>\n<ellipse fill=\"none\" stroke=\"black\" cx=\"149.6\" cy=\"-26\" rx=\"22\" ry=\"22\"/>\n<ellipse fill=\"none\" stroke=\"black\" cx=\"149.6\" cy=\"-26\" rx=\"26\" ry=\"26\"/>\n<text text-anchor=\"middle\" x=\"149.6\" y=\"-22.3\" font-family=\"Times,serif\" font-size=\"14.00\">1</text>\n</g>\n<!-- 2&#45;&gt;1 -->\n<g id=\"edge3\" class=\"edge\">\n<title>2&#45;&gt;1</title>\n<path fill=\"none\" stroke=\"black\" d=\"M84.61,-26C94.93,-26 107.54,-26 118.83,-26\"/>\n<polygon fill=\"black\" stroke=\"black\" points=\"119.04,-28.98 127.54,-26 119.04,-23.03 119.04,-28.98\"/>\n<text text-anchor=\"middle\" x=\"106.1\" y=\"-29.8\" font-family=\"Times,serif\" font-size=\"14.00\">1</text>\n</g>\n</g>\n</svg>\n",
            "text/plain": [
              "<AGraph <Swig Object of type 'Agraph_t *' at 0x7f528fbe9620>>"
            ]
          },
          "metadata": {},
          "execution_count": 127
        }
      ],
      "source": [
        "min_nfa.show_diagram()"
      ]
    },
    {
      "cell_type": "markdown",
      "metadata": {
        "id": "JtKYtwH3np2F"
      },
      "source": [
        "* Lets check that `min_nfa` is indeed equivalent to `nfa5`:"
      ]
    },
    {
      "cell_type": "code",
      "execution_count": 128,
      "metadata": {
        "colab": {
          "base_uri": "https://localhost:8080/"
        },
        "id": "ebiJpDi6np2F",
        "outputId": "7e79c4cb-2c96-4c6a-cd61-5200f9fd1ce4"
      },
      "outputs": [
        {
          "output_type": "execute_result",
          "data": {
            "text/plain": [
              "True"
            ]
          },
          "metadata": {},
          "execution_count": 128
        }
      ],
      "source": [
        "min_nfa == nfa5"
      ]
    },
    {
      "cell_type": "markdown",
      "metadata": {
        "id": "c6Clfas2np2F"
      },
      "source": [
        "* The NFA class does not have `words_of_lengths` and `random_words` methods!\n",
        "* To get all words of length 3 to 8, convert your NFA to a DFA and use the dfa:"
      ]
    },
    {
      "cell_type": "code",
      "execution_count": 129,
      "metadata": {
        "colab": {
          "base_uri": "https://localhost:8080/"
        },
        "id": "oEw5ycoBnp2F",
        "outputId": "9519c456-317d-4a42-9c22-a91ab61a43bb"
      },
      "outputs": [
        {
          "output_type": "execute_result",
          "data": {
            "text/plain": [
              "['000',\n",
              " '001',\n",
              " '0000',\n",
              " '0001',\n",
              " '00000',\n",
              " '00001',\n",
              " '000000',\n",
              " '000001',\n",
              " '0000000',\n",
              " '0000001',\n",
              " '00000000',\n",
              " '00000001']"
            ]
          },
          "metadata": {},
          "execution_count": 129
        }
      ],
      "source": [
        "dfa[3:8]"
      ]
    },
    {
      "cell_type": "markdown",
      "metadata": {
        "id": "6u9wCzSnnp2F"
      },
      "source": [
        "### Convert NFA to regular expression\n",
        "* Quote from the automata-lib manual: \"Due to circular dependency constraints,\n",
        "  there is no method to convert an NFA directly to a regular expression.\n",
        "  However, it can be accomplished by first converting to a GNFA\""
      ]
    },
    {
      "cell_type": "code",
      "execution_count": 130,
      "metadata": {
        "colab": {
          "base_uri": "https://localhost:8080/"
        },
        "id": "hYptt6iBnp2F",
        "outputId": "65a7a719-0129-4459-ab2c-ca44d1316669"
      },
      "outputs": [
        {
          "output_type": "stream",
          "name": "stdout",
          "text": [
            "0*(1?)?\n"
          ]
        }
      ],
      "source": [
        "reg = GNFA.from_nfa(nfa5).to_regex()\n",
        "print(reg)"
      ]
    },
    {
      "cell_type": "markdown",
      "metadata": {
        "id": "yTS3qiQNaVcY"
      },
      "source": [
        "## Eliminating epsilon transitions from an NFA\n",
        "* The `eliminate_lambda` method can be used for eliminating epsilon transitions from an NFA.\n",
        "* The result is an NFA with NO epsilon transtions!"
      ]
    },
    {
      "cell_type": "code",
      "execution_count": 131,
      "metadata": {
        "id": "9W810pbnaVcY",
        "colab": {
          "base_uri": "https://localhost:8080/",
          "height": 184
        },
        "outputId": "8dacade1-c42f-48ac-e2ac-5d4e7d920ec1"
      },
      "outputs": [
        {
          "output_type": "execute_result",
          "data": {
            "image/svg+xml": "<?xml version=\"1.0\" encoding=\"UTF-8\" standalone=\"no\"?>\n<!DOCTYPE svg PUBLIC \"-//W3C//DTD SVG 1.1//EN\"\n \"http://www.w3.org/Graphics/SVG/1.1/DTD/svg11.dtd\">\n<!-- Generated by graphviz version 2.43.0 (0)\n -->\n<!-- Pages: 1 -->\n<svg width=\"268pt\" height=\"122pt\"\n viewBox=\"0.00 0.00 267.59 122.00\" xmlns=\"http://www.w3.org/2000/svg\" xmlns:xlink=\"http://www.w3.org/1999/xlink\">\n<g id=\"graph0\" class=\"graph\" transform=\"scale(1 1) rotate(0) translate(4 118)\">\n<polygon fill=\"white\" stroke=\"transparent\" points=\"-4,4 -4,-118 263.59,-118 263.59,4 -4,4\"/>\n<!-- 9609c6b5&#45;bb25&#45;4d9c&#45;9415&#45;513eedafbf52 -->\n<g id=\"node1\" class=\"node\">\n<title>9609c6b5&#45;bb25&#45;4d9c&#45;9415&#45;513eedafbf52</title>\n<g id=\"a_node1\"><a xlink:title=\".\">\n<ellipse fill=\"black\" stroke=\"black\" cx=\"1.8\" cy=\"-57.5\" rx=\"1.8\" ry=\"1.8\"/>\n</a>\n</g>\n</g>\n<!-- q0 -->\n<g id=\"node2\" class=\"node\">\n<title>q0</title>\n<ellipse fill=\"none\" stroke=\"black\" cx=\"64.1\" cy=\"-57.5\" rx=\"23.5\" ry=\"23.5\"/>\n<ellipse fill=\"none\" stroke=\"black\" cx=\"64.1\" cy=\"-57.5\" rx=\"27.5\" ry=\"27.5\"/>\n<text text-anchor=\"middle\" x=\"64.1\" y=\"-53.8\" font-family=\"Times,serif\" font-size=\"14.00\">q0</text>\n</g>\n<!-- 9609c6b5&#45;bb25&#45;4d9c&#45;9415&#45;513eedafbf52&#45;&gt;q0 -->\n<g id=\"edge1\" class=\"edge\">\n<title>9609c6b5&#45;bb25&#45;4d9c&#45;9415&#45;513eedafbf52&#45;&gt;q0</title>\n<g id=\"a_edge1\"><a xlink:title=\"&#45;&gt;q0\">\n<path fill=\"none\" stroke=\"black\" d=\"M3.85,-57.5C7.37,-57.5 19.27,-57.5 31.48,-57.5\"/>\n<polygon fill=\"black\" stroke=\"black\" points=\"31.82,-60.48 40.32,-57.5 31.82,-54.53 31.82,-60.48\"/>\n</a>\n</g>\n</g>\n<!-- q0&#45;&gt;q0 -->\n<g id=\"edge2\" class=\"edge\">\n<title>q0&#45;&gt;q0</title>\n<path fill=\"none\" stroke=\"black\" d=\"M56.72,-80.12C56.01,-90.25 58.47,-99 64.1,-99 67.97,-99 70.34,-94.86 71.21,-88.99\"/>\n<polygon fill=\"black\" stroke=\"black\" points=\"74.2,-88.71 71.48,-80.12 68.25,-88.53 74.2,-88.71\"/>\n<text text-anchor=\"middle\" x=\"64.1\" y=\"-102.8\" font-family=\"Times,serif\" font-size=\"14.00\">0</text>\n</g>\n<!-- q2 -->\n<g id=\"node3\" class=\"node\">\n<title>q2</title>\n<ellipse fill=\"none\" stroke=\"black\" cx=\"240.09\" cy=\"-57.5\" rx=\"19.5\" ry=\"19.5\"/>\n<text text-anchor=\"middle\" x=\"240.09\" y=\"-53.8\" font-family=\"Times,serif\" font-size=\"14.00\">q2</text>\n</g>\n<!-- q0&#45;&gt;q2 -->\n<g id=\"edge3\" class=\"edge\">\n<title>q0&#45;&gt;q2</title>\n<path fill=\"none\" stroke=\"black\" d=\"M87.78,-60.09C93.58,-60.66 99.81,-61.18 105.6,-61.5 148.64,-63.86 159.58,-65.43 202.59,-62.5 205.62,-62.29 208.78,-61.99 211.92,-61.64\"/>\n<polygon fill=\"black\" stroke=\"black\" points=\"212.52,-64.56 220.57,-60.53 211.76,-58.66 212.52,-64.56\"/>\n<text text-anchor=\"middle\" x=\"154.09\" y=\"-67.3\" font-family=\"Times,serif\" font-size=\"14.00\">0</text>\n</g>\n<!-- q1 -->\n<g id=\"node4\" class=\"node\">\n<title>q1</title>\n<ellipse fill=\"none\" stroke=\"black\" cx=\"154.09\" cy=\"-27.5\" rx=\"23.5\" ry=\"23.5\"/>\n<ellipse fill=\"none\" stroke=\"black\" cx=\"154.09\" cy=\"-27.5\" rx=\"27.5\" ry=\"27.5\"/>\n<text text-anchor=\"middle\" x=\"154.09\" y=\"-23.8\" font-family=\"Times,serif\" font-size=\"14.00\">q1</text>\n</g>\n<!-- q0&#45;&gt;q1 -->\n<g id=\"edge4\" class=\"edge\">\n<title>q0&#45;&gt;q1</title>\n<path fill=\"none\" stroke=\"black\" d=\"M86.85,-50.09C97.83,-46.34 111.31,-41.75 123.24,-37.68\"/>\n<polygon fill=\"black\" stroke=\"black\" points=\"124.51,-40.39 131.59,-34.83 122.58,-34.76 124.51,-40.39\"/>\n<text text-anchor=\"middle\" x=\"109.1\" y=\"-46.3\" font-family=\"Times,serif\" font-size=\"14.00\">1</text>\n</g>\n<!-- q2&#45;&gt;q2 -->\n<g id=\"edge5\" class=\"edge\">\n<title>q2&#45;&gt;q2</title>\n<path fill=\"none\" stroke=\"black\" d=\"M232.9,-76.02C231.68,-85.95 234.08,-95 240.09,-95 244.23,-95 246.65,-90.72 247.37,-84.82\"/>\n<polygon fill=\"black\" stroke=\"black\" points=\"250.34,-84.49 247.28,-76.02 244.39,-84.55 250.34,-84.49\"/>\n<text text-anchor=\"middle\" x=\"240.09\" y=\"-98.8\" font-family=\"Times,serif\" font-size=\"14.00\">1</text>\n</g>\n<!-- q1&#45;&gt;q2 -->\n<g id=\"edge6\" class=\"edge\">\n<title>q1&#45;&gt;q2</title>\n<path fill=\"none\" stroke=\"black\" d=\"M176.73,-35.23C187.91,-39.22 201.64,-44.12 213.37,-48.31\"/>\n<polygon fill=\"black\" stroke=\"black\" points=\"212.48,-51.16 221.49,-51.21 214.49,-45.55 212.48,-51.16\"/>\n<text text-anchor=\"middle\" x=\"199.09\" y=\"-47.3\" font-family=\"Times,serif\" font-size=\"14.00\">0</text>\n</g>\n</g>\n</svg>\n",
            "text/plain": [
              "<AGraph <Swig Object of type 'Agraph_t *' at 0x7f528fbe98f0>>"
            ]
          },
          "metadata": {},
          "execution_count": 131
        }
      ],
      "source": [
        "nfa = nfa5.eliminate_lambda()\n",
        "nfa.show_diagram()"
      ]
    },
    {
      "cell_type": "code",
      "execution_count": 132,
      "metadata": {
        "colab": {
          "base_uri": "https://localhost:8080/"
        },
        "id": "imwCq0F7aVcZ",
        "outputId": "5afc8233-ce0a-4e3c-e411-ecaa608834b0"
      },
      "outputs": [
        {
          "output_type": "execute_result",
          "data": {
            "text/plain": [
              "True"
            ]
          },
          "metadata": {},
          "execution_count": 132
        }
      ],
      "source": [
        "nfa == nfa5"
      ]
    },
    {
      "cell_type": "code",
      "execution_count": 133,
      "metadata": {
        "colab": {
          "base_uri": "https://localhost:8080/",
          "height": 167
        },
        "id": "HAeHluehaVcZ",
        "outputId": "daea77c9-51fb-43b6-83e7-5e6a1d7a1a5f"
      },
      "outputs": [
        {
          "output_type": "execute_result",
          "data": {
            "image/svg+xml": "<?xml version=\"1.0\" encoding=\"UTF-8\" standalone=\"no\"?>\n<!DOCTYPE svg PUBLIC \"-//W3C//DTD SVG 1.1//EN\"\n \"http://www.w3.org/Graphics/SVG/1.1/DTD/svg11.dtd\">\n<!-- Generated by graphviz version 2.43.0 (0)\n -->\n<!-- Pages: 1 -->\n<svg width=\"374pt\" height=\"109pt\"\n viewBox=\"0.00 0.00 373.59 108.92\" xmlns=\"http://www.w3.org/2000/svg\" xmlns:xlink=\"http://www.w3.org/1999/xlink\">\n<g id=\"graph0\" class=\"graph\" transform=\"scale(1 1) rotate(0) translate(4 104.92)\">\n<polygon fill=\"white\" stroke=\"transparent\" points=\"-4,4 -4,-104.92 369.59,-104.92 369.59,4 -4,4\"/>\n<!-- 6c07a7a0&#45;80c7&#45;4c09&#45;bffc&#45;42537efac968 -->\n<g id=\"node1\" class=\"node\">\n<title>6c07a7a0&#45;80c7&#45;4c09&#45;bffc&#45;42537efac968</title>\n<g id=\"a_node1\"><a xlink:title=\".\">\n<ellipse fill=\"black\" stroke=\"black\" cx=\"1.8\" cy=\"-26.42\" rx=\"1.8\" ry=\"1.8\"/>\n</a>\n</g>\n</g>\n<!-- q0 -->\n<g id=\"node2\" class=\"node\">\n<title>q0</title>\n<ellipse fill=\"none\" stroke=\"black\" cx=\"60.1\" cy=\"-26.42\" rx=\"19.5\" ry=\"19.5\"/>\n<text text-anchor=\"middle\" x=\"60.1\" y=\"-22.72\" font-family=\"Times,serif\" font-size=\"14.00\">q0</text>\n</g>\n<!-- 6c07a7a0&#45;80c7&#45;4c09&#45;bffc&#45;42537efac968&#45;&gt;q0 -->\n<g id=\"edge1\" class=\"edge\">\n<title>6c07a7a0&#45;80c7&#45;4c09&#45;bffc&#45;42537efac968&#45;&gt;q0</title>\n<g id=\"a_edge1\"><a xlink:title=\"&#45;&gt;q0\">\n<path fill=\"none\" stroke=\"black\" d=\"M3.78,-26.42C7.28,-26.42 19.64,-26.42 31.78,-26.42\"/>\n<polygon fill=\"black\" stroke=\"black\" points=\"31.96,-29.39 40.46,-26.42 31.96,-23.44 31.96,-29.39\"/>\n</a>\n</g>\n</g>\n<!-- q0&#45;&gt;q0 -->\n<g id=\"edge2\" class=\"edge\">\n<title>q0&#45;&gt;q0</title>\n<path fill=\"none\" stroke=\"black\" d=\"M53.63,-44.94C52.53,-54.87 54.68,-63.92 60.1,-63.92 63.82,-63.92 66,-59.64 66.65,-53.74\"/>\n<polygon fill=\"black\" stroke=\"black\" points=\"69.62,-53.41 66.57,-44.94 63.67,-53.47 69.62,-53.41\"/>\n<text text-anchor=\"middle\" x=\"60.1\" y=\"-67.72\" font-family=\"Times,serif\" font-size=\"14.00\">0,ε</text>\n</g>\n<!-- q1 -->\n<g id=\"node3\" class=\"node\">\n<title>q1</title>\n<ellipse fill=\"none\" stroke=\"black\" cx=\"152.09\" cy=\"-81.42\" rx=\"19.5\" ry=\"19.5\"/>\n<text text-anchor=\"middle\" x=\"152.09\" y=\"-77.72\" font-family=\"Times,serif\" font-size=\"14.00\">q1</text>\n</g>\n<!-- q0&#45;&gt;q1 -->\n<g id=\"edge3\" class=\"edge\">\n<title>q0&#45;&gt;q1</title>\n<path fill=\"none\" stroke=\"black\" d=\"M74.05,-40.16C80.65,-46.61 89.07,-54.04 97.6,-59.42 105.97,-64.7 115.82,-69.17 124.77,-72.68\"/>\n<polygon fill=\"black\" stroke=\"black\" points=\"124,-75.56 133,-75.74 126.07,-69.99 124,-75.56\"/>\n<text text-anchor=\"middle\" x=\"106.1\" y=\"-71.22\" font-family=\"Times,serif\" font-size=\"14.00\">1,ε</text>\n</g>\n<!-- q2 -->\n<g id=\"node4\" class=\"node\">\n<title>q2</title>\n<ellipse fill=\"none\" stroke=\"black\" cx=\"248.09\" cy=\"-43.42\" rx=\"23.5\" ry=\"23.5\"/>\n<ellipse fill=\"none\" stroke=\"black\" cx=\"248.09\" cy=\"-43.42\" rx=\"27.5\" ry=\"27.5\"/>\n<text text-anchor=\"middle\" x=\"248.09\" y=\"-39.72\" font-family=\"Times,serif\" font-size=\"14.00\">q2</text>\n</g>\n<!-- q0&#45;&gt;q2 -->\n<g id=\"edge4\" class=\"edge\">\n<title>q0&#45;&gt;q2</title>\n<path fill=\"none\" stroke=\"black\" d=\"M80.02,-26.7C107.86,-27.32 161.46,-29.27 206.59,-35.42 209.76,-35.85 213.06,-36.37 216.34,-36.95\"/>\n<polygon fill=\"black\" stroke=\"black\" points=\"215.99,-39.91 224.89,-38.54 217.08,-34.06 215.99,-39.91\"/>\n<text text-anchor=\"middle\" x=\"152.09\" y=\"-35.22\" font-family=\"Times,serif\" font-size=\"14.00\">0</text>\n</g>\n<!-- q1&#45;&gt;q0 -->\n<g id=\"edge5\" class=\"edge\">\n<title>q1&#45;&gt;q0</title>\n<path fill=\"none\" stroke=\"black\" d=\"M140.34,-65.29C133.84,-56.72 124.84,-46.69 114.6,-40.42 106.61,-35.53 96.95,-32.33 88.05,-30.25\"/>\n<polygon fill=\"black\" stroke=\"black\" points=\"88.41,-27.29 79.49,-28.52 87.23,-33.12 88.41,-27.29\"/>\n<text text-anchor=\"middle\" x=\"106.1\" y=\"-44.22\" font-family=\"Times,serif\" font-size=\"14.00\">ε</text>\n</g>\n<!-- q1&#45;&gt;q2 -->\n<g id=\"edge6\" class=\"edge\">\n<title>q1&#45;&gt;q2</title>\n<path fill=\"none\" stroke=\"black\" d=\"M164,-65.57C170.42,-57.64 179.31,-48.82 189.59,-44.42 197.78,-40.91 207.25,-39.73 216.11,-39.67\"/>\n<polygon fill=\"black\" stroke=\"black\" points=\"216.11,-42.65 224.7,-39.95 216.3,-36.7 216.11,-42.65\"/>\n<text text-anchor=\"middle\" x=\"198.09\" y=\"-48.22\" font-family=\"Times,serif\" font-size=\"14.00\">0</text>\n</g>\n<!-- q2&#45;&gt;q1 -->\n<g id=\"edge7\" class=\"edge\">\n<title>q2&#45;&gt;q1</title>\n<path fill=\"none\" stroke=\"black\" d=\"M226.01,-51.94C211.98,-57.61 193.46,-65.1 178.6,-71.11\"/>\n<polygon fill=\"black\" stroke=\"black\" points=\"177.1,-68.5 170.34,-74.45 179.34,-74.02 177.1,-68.5\"/>\n<text text-anchor=\"middle\" x=\"198.09\" y=\"-69.22\" font-family=\"Times,serif\" font-size=\"14.00\">0</text>\n</g>\n<!-- q3 -->\n<g id=\"node5\" class=\"node\">\n<title>q3</title>\n<ellipse fill=\"none\" stroke=\"black\" cx=\"338.09\" cy=\"-43.42\" rx=\"23.5\" ry=\"23.5\"/>\n<ellipse fill=\"none\" stroke=\"black\" cx=\"338.09\" cy=\"-43.42\" rx=\"27.5\" ry=\"27.5\"/>\n<text text-anchor=\"middle\" x=\"338.09\" y=\"-39.72\" font-family=\"Times,serif\" font-size=\"14.00\">q3</text>\n</g>\n<!-- q2&#45;&gt;q3 -->\n<g id=\"edge8\" class=\"edge\">\n<title>q2&#45;&gt;q3</title>\n<path fill=\"none\" stroke=\"black\" d=\"M268.1,-30.79C276.63,-26.56 286.93,-23.37 296.59,-25.42 300.7,-26.29 304.9,-27.61 308.97,-29.15\"/>\n<polygon fill=\"black\" stroke=\"black\" points=\"308.06,-31.99 317.05,-32.53 310.36,-26.5 308.06,-31.99\"/>\n<text text-anchor=\"middle\" x=\"293.09\" y=\"-29.22\" font-family=\"Times,serif\" font-size=\"14.00\">0</text>\n</g>\n<!-- q3&#45;&gt;q0 -->\n<g id=\"edge9\" class=\"edge\">\n<title>q3&#45;&gt;q0</title>\n<path fill=\"none\" stroke=\"black\" d=\"M318.3,-30.7C305.71,-23.09 288.42,-14.36 271.59,-11.42 206.16,0 127.84,-12.28 87.7,-20.41\"/>\n<polygon fill=\"black\" stroke=\"black\" points=\"86.98,-17.52 79.27,-22.18 88.2,-23.35 86.98,-17.52\"/>\n<text text-anchor=\"middle\" x=\"198.09\" y=\"-10.22\" font-family=\"Times,serif\" font-size=\"14.00\">0,ε</text>\n</g>\n<!-- q3&#45;&gt;q1 -->\n<g id=\"edge10\" class=\"edge\">\n<title>q3&#45;&gt;q1</title>\n<path fill=\"none\" stroke=\"black\" d=\"M317.41,-55.08C304.74,-62.06 287.69,-70.51 271.59,-75.42 243.7,-83.93 235.69,-82.41 206.59,-84.42 198.14,-85 188.93,-84.79 180.58,-84.27\"/>\n<polygon fill=\"black\" stroke=\"black\" points=\"180.62,-81.29 171.92,-83.62 180.17,-87.23 180.62,-81.29\"/>\n<text text-anchor=\"middle\" x=\"248.09\" y=\"-86.22\" font-family=\"Times,serif\" font-size=\"14.00\">0</text>\n</g>\n<!-- q3&#45;&gt;q2 -->\n<g id=\"edge11\" class=\"edge\">\n<title>q3&#45;&gt;q2</title>\n<path fill=\"none\" stroke=\"black\" d=\"M314.5,-43.42C304.15,-43.42 291.7,-43.42 280.45,-43.42\"/>\n<polygon fill=\"black\" stroke=\"black\" points=\"280.25,-40.44 271.75,-43.42 280.25,-46.39 280.25,-40.44\"/>\n<text text-anchor=\"middle\" x=\"293.09\" y=\"-47.22\" font-family=\"Times,serif\" font-size=\"14.00\">1</text>\n</g>\n</g>\n</svg>\n",
            "text/plain": [
              "<AGraph <Swig Object of type 'Agraph_t *' at 0x7f528fbeb9c0>>"
            ]
          },
          "metadata": {},
          "execution_count": 133
        }
      ],
      "source": [
        "nfa = nfa3.eliminate_lambda()\n",
        "nfa3.show_diagram()"
      ]
    },
    {
      "cell_type": "code",
      "source": [
        "nfa.show_diagram()"
      ],
      "metadata": {
        "colab": {
          "base_uri": "https://localhost:8080/",
          "height": 207
        },
        "id": "8aWc5pXkXhZm",
        "outputId": "d38df881-03e8-4018-a53f-147516afeb82"
      },
      "execution_count": 134,
      "outputs": [
        {
          "output_type": "execute_result",
          "data": {
            "image/svg+xml": "<?xml version=\"1.0\" encoding=\"UTF-8\" standalone=\"no\"?>\n<!DOCTYPE svg PUBLIC \"-//W3C//DTD SVG 1.1//EN\"\n \"http://www.w3.org/Graphics/SVG/1.1/DTD/svg11.dtd\">\n<!-- Generated by graphviz version 2.43.0 (0)\n -->\n<!-- Pages: 1 -->\n<svg width=\"387pt\" height=\"139pt\"\n viewBox=\"0.00 0.00 386.59 138.69\" xmlns=\"http://www.w3.org/2000/svg\" xmlns:xlink=\"http://www.w3.org/1999/xlink\">\n<g id=\"graph0\" class=\"graph\" transform=\"scale(1 1) rotate(0) translate(4 134.69)\">\n<polygon fill=\"white\" stroke=\"transparent\" points=\"-4,4 -4,-134.69 382.59,-134.69 382.59,4 -4,4\"/>\n<!-- 5bcb27c3&#45;a5a6&#45;47be&#45;b4bc&#45;4a8cfbfe947c -->\n<g id=\"node1\" class=\"node\">\n<title>5bcb27c3&#45;a5a6&#45;47be&#45;b4bc&#45;4a8cfbfe947c</title>\n<g id=\"a_node1\"><a xlink:title=\".\">\n<ellipse fill=\"black\" stroke=\"black\" cx=\"1.8\" cy=\"-23.19\" rx=\"1.8\" ry=\"1.8\"/>\n</a>\n</g>\n</g>\n<!-- q0 -->\n<g id=\"node2\" class=\"node\">\n<title>q0</title>\n<ellipse fill=\"none\" stroke=\"black\" cx=\"60.1\" cy=\"-23.19\" rx=\"19.5\" ry=\"19.5\"/>\n<text text-anchor=\"middle\" x=\"60.1\" y=\"-19.49\" font-family=\"Times,serif\" font-size=\"14.00\">q0</text>\n</g>\n<!-- 5bcb27c3&#45;a5a6&#45;47be&#45;b4bc&#45;4a8cfbfe947c&#45;&gt;q0 -->\n<g id=\"edge1\" class=\"edge\">\n<title>5bcb27c3&#45;a5a6&#45;47be&#45;b4bc&#45;4a8cfbfe947c&#45;&gt;q0</title>\n<g id=\"a_edge1\"><a xlink:title=\"&#45;&gt;q0\">\n<path fill=\"none\" stroke=\"black\" d=\"M3.78,-23.19C7.28,-23.19 19.64,-23.19 31.78,-23.19\"/>\n<polygon fill=\"black\" stroke=\"black\" points=\"31.96,-26.17 40.46,-23.19 31.96,-20.22 31.96,-26.17\"/>\n</a>\n</g>\n</g>\n<!-- q0&#45;&gt;q0 -->\n<g id=\"edge2\" class=\"edge\">\n<title>q0&#45;&gt;q0</title>\n<path fill=\"none\" stroke=\"black\" d=\"M53.63,-41.71C52.53,-51.64 54.68,-60.69 60.1,-60.69 63.82,-60.69 66,-56.41 66.65,-50.51\"/>\n<polygon fill=\"black\" stroke=\"black\" points=\"69.62,-50.19 66.57,-41.71 63.67,-50.24 69.62,-50.19\"/>\n<text text-anchor=\"middle\" x=\"60.1\" y=\"-64.49\" font-family=\"Times,serif\" font-size=\"14.00\">0</text>\n</g>\n<!-- q1 -->\n<g id=\"node3\" class=\"node\">\n<title>q1</title>\n<ellipse fill=\"none\" stroke=\"black\" cx=\"153.09\" cy=\"-78.19\" rx=\"19.5\" ry=\"19.5\"/>\n<text text-anchor=\"middle\" x=\"153.09\" y=\"-74.49\" font-family=\"Times,serif\" font-size=\"14.00\">q1</text>\n</g>\n<!-- q0&#45;&gt;q1 -->\n<g id=\"edge3\" class=\"edge\">\n<title>q0&#45;&gt;q1</title>\n<path fill=\"none\" stroke=\"black\" d=\"M74.03,-36.96C80.63,-43.41 89.05,-50.84 97.6,-56.19 106.34,-61.66 116.67,-66.24 125.98,-69.78\"/>\n<polygon fill=\"black\" stroke=\"black\" points=\"125.15,-72.65 134.16,-72.74 127.18,-67.05 125.15,-72.65\"/>\n<text text-anchor=\"middle\" x=\"106.6\" y=\"-67.99\" font-family=\"Times,serif\" font-size=\"14.00\">1</text>\n</g>\n<!-- q2 -->\n<g id=\"node4\" class=\"node\">\n<title>q2</title>\n<ellipse fill=\"none\" stroke=\"black\" cx=\"250.09\" cy=\"-40.19\" rx=\"23.5\" ry=\"23.5\"/>\n<ellipse fill=\"none\" stroke=\"black\" cx=\"250.09\" cy=\"-40.19\" rx=\"27.5\" ry=\"27.5\"/>\n<text text-anchor=\"middle\" x=\"250.09\" y=\"-36.49\" font-family=\"Times,serif\" font-size=\"14.00\">q2</text>\n</g>\n<!-- q0&#45;&gt;q2 -->\n<g id=\"edge4\" class=\"edge\">\n<title>q0&#45;&gt;q2</title>\n<path fill=\"none\" stroke=\"black\" d=\"M79.81,-23.45C107.9,-24.03 162.58,-25.94 208.59,-32.19 211.76,-32.62 215.06,-33.15 218.34,-33.72\"/>\n<polygon fill=\"black\" stroke=\"black\" points=\"217.99,-36.68 226.89,-35.31 219.08,-30.83 217.99,-36.68\"/>\n<text text-anchor=\"middle\" x=\"153.09\" y=\"-30.99\" font-family=\"Times,serif\" font-size=\"14.00\">0</text>\n</g>\n<!-- q1&#45;&gt;q0 -->\n<g id=\"edge5\" class=\"edge\">\n<title>q1&#45;&gt;q0</title>\n<path fill=\"none\" stroke=\"black\" d=\"M141.35,-62.05C134.85,-53.47 125.85,-43.44 115.6,-37.19 107.32,-32.14 97.26,-28.91 88.06,-26.83\"/>\n<polygon fill=\"black\" stroke=\"black\" points=\"88.49,-23.89 79.57,-25.18 87.35,-29.73 88.49,-23.89\"/>\n<text text-anchor=\"middle\" x=\"106.6\" y=\"-40.99\" font-family=\"Times,serif\" font-size=\"14.00\">0,1</text>\n</g>\n<!-- q1&#45;&gt;q1 -->\n<g id=\"edge6\" class=\"edge\">\n<title>q1&#45;&gt;q1</title>\n<path fill=\"none\" stroke=\"black\" d=\"M144.94,-95.94C143.28,-106.16 146,-115.69 153.09,-115.69 158.09,-115.69 160.91,-110.98 161.57,-104.63\"/>\n<polygon fill=\"black\" stroke=\"black\" points=\"164.54,-104.32 161.25,-95.94 158.59,-104.54 164.54,-104.32\"/>\n<text text-anchor=\"middle\" x=\"153.09\" y=\"-119.49\" font-family=\"Times,serif\" font-size=\"14.00\">0,1</text>\n</g>\n<!-- q1&#45;&gt;q2 -->\n<g id=\"edge7\" class=\"edge\">\n<title>q1&#45;&gt;q2</title>\n<path fill=\"none\" stroke=\"black\" d=\"M165,-62.34C171.42,-54.42 180.31,-45.6 190.59,-41.19 199.08,-37.56 208.92,-36.38 218.08,-36.37\"/>\n<polygon fill=\"black\" stroke=\"black\" points=\"217.99,-39.34 226.59,-36.68 218.2,-33.4 217.99,-39.34\"/>\n<text text-anchor=\"middle\" x=\"199.59\" y=\"-44.99\" font-family=\"Times,serif\" font-size=\"14.00\">0</text>\n</g>\n<!-- q2&#45;&gt;q1 -->\n<g id=\"edge8\" class=\"edge\">\n<title>q2&#45;&gt;q1</title>\n<path fill=\"none\" stroke=\"black\" d=\"M228.13,-48.58C213.8,-54.31 194.71,-61.94 179.51,-68.03\"/>\n<polygon fill=\"black\" stroke=\"black\" points=\"178.31,-65.3 171.52,-71.22 180.52,-70.83 178.31,-65.3\"/>\n<text text-anchor=\"middle\" x=\"199.59\" y=\"-65.99\" font-family=\"Times,serif\" font-size=\"14.00\">0</text>\n</g>\n<!-- q3 -->\n<g id=\"node5\" class=\"node\">\n<title>q3</title>\n<ellipse fill=\"none\" stroke=\"black\" cx=\"351.09\" cy=\"-40.19\" rx=\"23.5\" ry=\"23.5\"/>\n<ellipse fill=\"none\" stroke=\"black\" cx=\"351.09\" cy=\"-40.19\" rx=\"27.5\" ry=\"27.5\"/>\n<text text-anchor=\"middle\" x=\"351.09\" y=\"-36.49\" font-family=\"Times,serif\" font-size=\"14.00\">q3</text>\n</g>\n<!-- q2&#45;&gt;q3 -->\n<g id=\"edge9\" class=\"edge\">\n<title>q2&#45;&gt;q3</title>\n<path fill=\"none\" stroke=\"black\" d=\"M271.13,-29.3C277.49,-26.4 284.67,-23.66 291.59,-22.19 301.72,-20.04 312.61,-22.14 322.22,-25.56\"/>\n<polygon fill=\"black\" stroke=\"black\" points=\"321.3,-28.39 330.29,-28.83 323.53,-22.88 321.3,-28.39\"/>\n<text text-anchor=\"middle\" x=\"300.59\" y=\"-25.99\" font-family=\"Times,serif\" font-size=\"14.00\">0</text>\n</g>\n<!-- q3&#45;&gt;q0 -->\n<g id=\"edge10\" class=\"edge\">\n<title>q3&#45;&gt;q0</title>\n<path fill=\"none\" stroke=\"black\" d=\"M330.85,-27.85C324.29,-24.03 316.8,-20.08 309.59,-17.19 294.28,-11.06 289.96,-10.21 273.59,-8.19 207.05,0 128.19,-10.93 87.83,-18.01\"/>\n<polygon fill=\"black\" stroke=\"black\" points=\"87.19,-15.1 79.35,-19.54 88.24,-20.96 87.19,-15.1\"/>\n<text text-anchor=\"middle\" x=\"199.59\" y=\"-8.99\" font-family=\"Times,serif\" font-size=\"14.00\">0,1</text>\n</g>\n<!-- q3&#45;&gt;q1 -->\n<g id=\"edge11\" class=\"edge\">\n<title>q3&#45;&gt;q1</title>\n<path fill=\"none\" stroke=\"black\" d=\"M329.65,-50.23C323.28,-53.24 316.19,-56.46 309.59,-59.19 267.14,-76.77 254.42,-78.03 208.59,-81.19 199.68,-81.81 189.95,-81.56 181.2,-81.01\"/>\n<polygon fill=\"black\" stroke=\"black\" points=\"181.22,-78.02 172.52,-80.34 180.77,-83.96 181.22,-78.02\"/>\n<text text-anchor=\"middle\" x=\"250.09\" y=\"-82.99\" font-family=\"Times,serif\" font-size=\"14.00\">0,1</text>\n</g>\n<!-- q3&#45;&gt;q2 -->\n<g id=\"edge12\" class=\"edge\">\n<title>q3&#45;&gt;q2</title>\n<path fill=\"none\" stroke=\"black\" d=\"M327.25,-40.19C314.03,-40.19 297.19,-40.19 282.71,-40.19\"/>\n<polygon fill=\"black\" stroke=\"black\" points=\"282.55,-37.22 274.05,-40.19 282.55,-43.17 282.55,-37.22\"/>\n<text text-anchor=\"middle\" x=\"300.59\" y=\"-43.99\" font-family=\"Times,serif\" font-size=\"14.00\">0,1</text>\n</g>\n</g>\n</svg>\n",
            "text/plain": [
              "<AGraph <Swig Object of type 'Agraph_t *' at 0x7f528fbea520>>"
            ]
          },
          "metadata": {},
          "execution_count": 134
        }
      ]
    },
    {
      "cell_type": "markdown",
      "metadata": {
        "id": "4n4_z2iqaVcZ"
      },
      "source": [
        "## NFA from a regular expression"
      ]
    },
    {
      "cell_type": "code",
      "execution_count": 135,
      "metadata": {
        "colab": {
          "base_uri": "https://localhost:8080/",
          "height": 122
        },
        "id": "qqeQvyRvaVcZ",
        "outputId": "d8ac34bf-481b-47fb-916f-867ea2d2973f"
      },
      "outputs": [
        {
          "output_type": "execute_result",
          "data": {
            "image/svg+xml": "<?xml version=\"1.0\" encoding=\"UTF-8\" standalone=\"no\"?>\n<!DOCTYPE svg PUBLIC \"-//W3C//DTD SVG 1.1//EN\"\n \"http://www.w3.org/Graphics/SVG/1.1/DTD/svg11.dtd\">\n<!-- Generated by graphviz version 2.43.0 (0)\n -->\n<!-- Pages: 1 -->\n<svg width=\"737pt\" height=\"75pt\"\n viewBox=\"0.00 0.00 736.60 75.00\" xmlns=\"http://www.w3.org/2000/svg\" xmlns:xlink=\"http://www.w3.org/1999/xlink\">\n<g id=\"graph0\" class=\"graph\" transform=\"scale(1 1) rotate(0) translate(4 71)\">\n<polygon fill=\"white\" stroke=\"transparent\" points=\"-4,4 -4,-71 732.6,-71 732.6,4 -4,4\"/>\n<!-- 367633a8&#45;1c03&#45;4ada&#45;99ff&#45;92283152243b -->\n<g id=\"node1\" class=\"node\">\n<title>367633a8&#45;1c03&#45;4ada&#45;99ff&#45;92283152243b</title>\n<g id=\"a_node1\"><a xlink:title=\".\">\n<ellipse fill=\"black\" stroke=\"black\" cx=\"1.8\" cy=\"-41\" rx=\"1.8\" ry=\"1.8\"/>\n</a>\n</g>\n</g>\n<!-- 0 -->\n<g id=\"node2\" class=\"node\">\n<title>0</title>\n<ellipse fill=\"none\" stroke=\"black\" cx=\"58.6\" cy=\"-41\" rx=\"18\" ry=\"18\"/>\n<text text-anchor=\"middle\" x=\"58.6\" y=\"-37.3\" font-family=\"Times,serif\" font-size=\"14.00\">0</text>\n</g>\n<!-- 367633a8&#45;1c03&#45;4ada&#45;99ff&#45;92283152243b&#45;&gt;0 -->\n<g id=\"edge1\" class=\"edge\">\n<title>367633a8&#45;1c03&#45;4ada&#45;99ff&#45;92283152243b&#45;&gt;0</title>\n<g id=\"a_edge1\"><a xlink:title=\"&#45;&gt;0\">\n<path fill=\"none\" stroke=\"black\" d=\"M3.75,-41C7.25,-41 19.84,-41 31.96,-41\"/>\n<polygon fill=\"black\" stroke=\"black\" points=\"32.08,-43.98 40.58,-41 32.07,-38.03 32.08,-43.98\"/>\n</a>\n</g>\n</g>\n<!-- 1 -->\n<g id=\"node3\" class=\"node\">\n<title>1</title>\n<ellipse fill=\"none\" stroke=\"black\" cx=\"137.6\" cy=\"-41\" rx=\"18\" ry=\"18\"/>\n<text text-anchor=\"middle\" x=\"137.6\" y=\"-37.3\" font-family=\"Times,serif\" font-size=\"14.00\">1</text>\n</g>\n<!-- 0&#45;&gt;1 -->\n<g id=\"edge2\" class=\"edge\">\n<title>0&#45;&gt;1</title>\n<path fill=\"none\" stroke=\"black\" d=\"M76.69,-41C86.76,-41 99.69,-41 110.96,-41\"/>\n<polygon fill=\"black\" stroke=\"black\" points=\"111.06,-43.98 119.56,-41 111.06,-38.03 111.06,-43.98\"/>\n<text text-anchor=\"middle\" x=\"98.1\" y=\"-44.8\" font-family=\"Times,serif\" font-size=\"14.00\">a</text>\n</g>\n<!-- 2 -->\n<g id=\"node4\" class=\"node\">\n<title>2</title>\n<ellipse fill=\"none\" stroke=\"black\" cx=\"216.6\" cy=\"-41\" rx=\"18\" ry=\"18\"/>\n<text text-anchor=\"middle\" x=\"216.6\" y=\"-37.3\" font-family=\"Times,serif\" font-size=\"14.00\">2</text>\n</g>\n<!-- 1&#45;&gt;2 -->\n<g id=\"edge3\" class=\"edge\">\n<title>1&#45;&gt;2</title>\n<path fill=\"none\" stroke=\"black\" d=\"M155.69,-41C165.76,-41 178.69,-41 189.96,-41\"/>\n<polygon fill=\"black\" stroke=\"black\" points=\"190.06,-43.98 198.56,-41 190.06,-38.03 190.06,-43.98\"/>\n<text text-anchor=\"middle\" x=\"177.1\" y=\"-44.8\" font-family=\"Times,serif\" font-size=\"14.00\">ε</text>\n</g>\n<!-- 3 -->\n<g id=\"node5\" class=\"node\">\n<title>3</title>\n<ellipse fill=\"none\" stroke=\"black\" cx=\"295.6\" cy=\"-41\" rx=\"18\" ry=\"18\"/>\n<text text-anchor=\"middle\" x=\"295.6\" y=\"-37.3\" font-family=\"Times,serif\" font-size=\"14.00\">3</text>\n</g>\n<!-- 2&#45;&gt;3 -->\n<g id=\"edge4\" class=\"edge\">\n<title>2&#45;&gt;3</title>\n<path fill=\"none\" stroke=\"black\" d=\"M234.69,-41C244.76,-41 257.69,-41 268.96,-41\"/>\n<polygon fill=\"black\" stroke=\"black\" points=\"269.06,-43.98 277.56,-41 269.06,-38.03 269.06,-43.98\"/>\n<text text-anchor=\"middle\" x=\"256.1\" y=\"-44.8\" font-family=\"Times,serif\" font-size=\"14.00\">a</text>\n</g>\n<!-- 8 -->\n<g id=\"node6\" class=\"node\">\n<title>8</title>\n<ellipse fill=\"none\" stroke=\"black\" cx=\"374.6\" cy=\"-41\" rx=\"18\" ry=\"18\"/>\n<text text-anchor=\"middle\" x=\"374.6\" y=\"-37.3\" font-family=\"Times,serif\" font-size=\"14.00\">8</text>\n</g>\n<!-- 3&#45;&gt;8 -->\n<g id=\"edge5\" class=\"edge\">\n<title>3&#45;&gt;8</title>\n<path fill=\"none\" stroke=\"black\" d=\"M313.69,-41C323.76,-41 336.69,-41 347.96,-41\"/>\n<polygon fill=\"black\" stroke=\"black\" points=\"348.06,-43.98 356.56,-41 348.06,-38.03 348.06,-43.98\"/>\n<text text-anchor=\"middle\" x=\"335.1\" y=\"-44.8\" font-family=\"Times,serif\" font-size=\"14.00\">ε</text>\n</g>\n<!-- 4 -->\n<g id=\"node7\" class=\"node\">\n<title>4</title>\n<ellipse fill=\"none\" stroke=\"black\" cx=\"457.6\" cy=\"-41\" rx=\"22\" ry=\"22\"/>\n<ellipse fill=\"none\" stroke=\"black\" cx=\"457.6\" cy=\"-41\" rx=\"26\" ry=\"26\"/>\n<text text-anchor=\"middle\" x=\"457.6\" y=\"-37.3\" font-family=\"Times,serif\" font-size=\"14.00\">4</text>\n</g>\n<!-- 8&#45;&gt;4 -->\n<g id=\"edge6\" class=\"edge\">\n<title>8&#45;&gt;4</title>\n<path fill=\"none\" stroke=\"black\" d=\"M392.78,-41C402.6,-41 415.19,-41 426.6,-41\"/>\n<polygon fill=\"black\" stroke=\"black\" points=\"426.91,-43.98 435.41,-41 426.91,-38.03 426.91,-43.98\"/>\n<text text-anchor=\"middle\" x=\"414.1\" y=\"-44.8\" font-family=\"Times,serif\" font-size=\"14.00\">ε</text>\n</g>\n<!-- 5 -->\n<g id=\"node8\" class=\"node\">\n<title>5</title>\n<ellipse fill=\"none\" stroke=\"black\" cx=\"540.6\" cy=\"-18\" rx=\"18\" ry=\"18\"/>\n<text text-anchor=\"middle\" x=\"540.6\" y=\"-14.3\" font-family=\"Times,serif\" font-size=\"14.00\">5</text>\n</g>\n<!-- 4&#45;&gt;5 -->\n<g id=\"edge7\" class=\"edge\">\n<title>4&#45;&gt;5</title>\n<path fill=\"none\" stroke=\"black\" d=\"M479.04,-35.2C489.87,-32.12 503.26,-28.32 514.7,-25.07\"/>\n<polygon fill=\"black\" stroke=\"black\" points=\"515.62,-27.9 522.98,-22.72 513.99,-22.18 515.62,-27.9\"/>\n<text text-anchor=\"middle\" x=\"501.1\" y=\"-32.8\" font-family=\"Times,serif\" font-size=\"14.00\">b</text>\n</g>\n<!-- 6 -->\n<g id=\"node9\" class=\"node\">\n<title>6</title>\n<ellipse fill=\"none\" stroke=\"black\" cx=\"619.6\" cy=\"-18\" rx=\"18\" ry=\"18\"/>\n<text text-anchor=\"middle\" x=\"619.6\" y=\"-14.3\" font-family=\"Times,serif\" font-size=\"14.00\">6</text>\n</g>\n<!-- 5&#45;&gt;6 -->\n<g id=\"edge8\" class=\"edge\">\n<title>5&#45;&gt;6</title>\n<path fill=\"none\" stroke=\"black\" d=\"M558.69,-18C568.76,-18 581.69,-18 592.96,-18\"/>\n<polygon fill=\"black\" stroke=\"black\" points=\"593.06,-20.98 601.56,-18 593.06,-15.03 593.06,-20.98\"/>\n<text text-anchor=\"middle\" x=\"580.1\" y=\"-21.8\" font-family=\"Times,serif\" font-size=\"14.00\">ε</text>\n</g>\n<!-- 7 -->\n<g id=\"node10\" class=\"node\">\n<title>7</title>\n<ellipse fill=\"none\" stroke=\"black\" cx=\"702.6\" cy=\"-41\" rx=\"22\" ry=\"22\"/>\n<ellipse fill=\"none\" stroke=\"black\" cx=\"702.6\" cy=\"-41\" rx=\"26\" ry=\"26\"/>\n<text text-anchor=\"middle\" x=\"702.6\" y=\"-37.3\" font-family=\"Times,serif\" font-size=\"14.00\">7</text>\n</g>\n<!-- 6&#45;&gt;7 -->\n<g id=\"edge9\" class=\"edge\">\n<title>6&#45;&gt;7</title>\n<path fill=\"none\" stroke=\"black\" d=\"M636.99,-22.65C647.26,-25.57 660.78,-29.41 672.79,-32.82\"/>\n<polygon fill=\"black\" stroke=\"black\" points=\"672.22,-35.75 681.21,-35.21 673.85,-30.03 672.22,-35.75\"/>\n<text text-anchor=\"middle\" x=\"659.1\" y=\"-32.8\" font-family=\"Times,serif\" font-size=\"14.00\">b</text>\n</g>\n<!-- 7&#45;&gt;4 -->\n<g id=\"edge10\" class=\"edge\">\n<title>7&#45;&gt;4</title>\n<path fill=\"none\" stroke=\"black\" d=\"M680.64,-45.47C674.83,-46.51 668.49,-47.48 662.6,-48 589.56,-54.5 570.64,-54.5 497.6,-48 494.47,-47.72 491.21,-47.32 487.98,-46.85\"/>\n<polygon fill=\"black\" stroke=\"black\" points=\"488.43,-43.9 479.56,-45.47 487.47,-49.78 488.43,-43.9\"/>\n<text text-anchor=\"middle\" x=\"580.1\" y=\"-55.8\" font-family=\"Times,serif\" font-size=\"14.00\">ε</text>\n</g>\n</g>\n</svg>\n",
            "text/plain": [
              "<AGraph <Swig Object of type 'Agraph_t *' at 0x7f528fbeabb0>>"
            ]
          },
          "metadata": {},
          "execution_count": 135
        }
      ],
      "source": [
        "nfa6 = NFA.from_regex('aa(bb)*')\n",
        "nfa6.show_diagram()"
      ]
    },
    {
      "cell_type": "markdown",
      "metadata": {
        "id": "BPduNtkaaVcZ"
      },
      "source": [
        "* Lets convert to DFA and print words for testing"
      ]
    },
    {
      "cell_type": "code",
      "execution_count": 136,
      "metadata": {
        "id": "u6PrYgWLaVca"
      },
      "outputs": [],
      "source": [
        "dfa = DFA.from_nfa(nfa6)"
      ]
    },
    {
      "cell_type": "code",
      "execution_count": 137,
      "metadata": {
        "colab": {
          "base_uri": "https://localhost:8080/",
          "height": 102
        },
        "id": "KFVFOinwaVca",
        "outputId": "289c3470-70e3-459b-a64a-5389cfc3e652"
      },
      "outputs": [
        {
          "output_type": "execute_result",
          "data": {
            "image/svg+xml": "<?xml version=\"1.0\" encoding=\"UTF-8\" standalone=\"no\"?>\n<!DOCTYPE svg PUBLIC \"-//W3C//DTD SVG 1.1//EN\"\n \"http://www.w3.org/Graphics/SVG/1.1/DTD/svg11.dtd\">\n<!-- Generated by graphviz version 2.43.0 (0)\n -->\n<!-- Pages: 1 -->\n<svg width=\"330pt\" height=\"60pt\"\n viewBox=\"0.00 0.00 329.60 60.00\" xmlns=\"http://www.w3.org/2000/svg\" xmlns:xlink=\"http://www.w3.org/1999/xlink\">\n<g id=\"graph0\" class=\"graph\" transform=\"scale(1 1) rotate(0) translate(4 56)\">\n<polygon fill=\"white\" stroke=\"transparent\" points=\"-4,4 -4,-56 325.6,-56 325.6,4 -4,4\"/>\n<!-- ca968f5f&#45;b6bd&#45;4c53&#45;9664&#45;79bc7cd491fe -->\n<g id=\"node1\" class=\"node\">\n<title>ca968f5f&#45;b6bd&#45;4c53&#45;9664&#45;79bc7cd491fe</title>\n<g id=\"a_node1\"><a xlink:title=\".\">\n<ellipse fill=\"black\" stroke=\"black\" cx=\"1.8\" cy=\"-26\" rx=\"1.8\" ry=\"1.8\"/>\n</a>\n</g>\n</g>\n<!-- 4 -->\n<g id=\"node2\" class=\"node\">\n<title>4</title>\n<ellipse fill=\"none\" stroke=\"black\" cx=\"58.6\" cy=\"-26\" rx=\"18\" ry=\"18\"/>\n<text text-anchor=\"middle\" x=\"58.6\" y=\"-22.3\" font-family=\"Times,serif\" font-size=\"14.00\">4</text>\n</g>\n<!-- ca968f5f&#45;b6bd&#45;4c53&#45;9664&#45;79bc7cd491fe&#45;&gt;4 -->\n<g id=\"edge1\" class=\"edge\">\n<title>ca968f5f&#45;b6bd&#45;4c53&#45;9664&#45;79bc7cd491fe&#45;&gt;4</title>\n<g id=\"a_edge1\"><a xlink:title=\"&#45;&gt;4\">\n<path fill=\"none\" stroke=\"black\" d=\"M3.75,-26C7.25,-26 19.84,-26 31.96,-26\"/>\n<polygon fill=\"black\" stroke=\"black\" points=\"32.08,-28.98 40.58,-26 32.07,-23.03 32.08,-28.98\"/>\n</a>\n</g>\n</g>\n<!-- 2 -->\n<g id=\"node3\" class=\"node\">\n<title>2</title>\n<ellipse fill=\"none\" stroke=\"black\" cx=\"137.6\" cy=\"-26\" rx=\"18\" ry=\"18\"/>\n<text text-anchor=\"middle\" x=\"137.6\" y=\"-22.3\" font-family=\"Times,serif\" font-size=\"14.00\">2</text>\n</g>\n<!-- 4&#45;&gt;2 -->\n<g id=\"edge2\" class=\"edge\">\n<title>4&#45;&gt;2</title>\n<path fill=\"none\" stroke=\"black\" d=\"M76.69,-26C86.76,-26 99.69,-26 110.96,-26\"/>\n<polygon fill=\"black\" stroke=\"black\" points=\"111.06,-28.98 119.56,-26 111.06,-23.03 111.06,-28.98\"/>\n<text text-anchor=\"middle\" x=\"98.1\" y=\"-29.8\" font-family=\"Times,serif\" font-size=\"14.00\">a</text>\n</g>\n<!-- 1 -->\n<g id=\"node4\" class=\"node\">\n<title>1</title>\n<ellipse fill=\"none\" stroke=\"black\" cx=\"220.6\" cy=\"-26\" rx=\"22\" ry=\"22\"/>\n<ellipse fill=\"none\" stroke=\"black\" cx=\"220.6\" cy=\"-26\" rx=\"26\" ry=\"26\"/>\n<text text-anchor=\"middle\" x=\"220.6\" y=\"-22.3\" font-family=\"Times,serif\" font-size=\"14.00\">1</text>\n</g>\n<!-- 2&#45;&gt;1 -->\n<g id=\"edge3\" class=\"edge\">\n<title>2&#45;&gt;1</title>\n<path fill=\"none\" stroke=\"black\" d=\"M155.78,-26C165.6,-26 178.19,-26 189.6,-26\"/>\n<polygon fill=\"black\" stroke=\"black\" points=\"189.91,-28.98 198.41,-26 189.91,-23.03 189.91,-28.98\"/>\n<text text-anchor=\"middle\" x=\"177.1\" y=\"-29.8\" font-family=\"Times,serif\" font-size=\"14.00\">a</text>\n</g>\n<!-- 3 -->\n<g id=\"node5\" class=\"node\">\n<title>3</title>\n<ellipse fill=\"none\" stroke=\"black\" cx=\"303.6\" cy=\"-26\" rx=\"18\" ry=\"18\"/>\n<text text-anchor=\"middle\" x=\"303.6\" y=\"-22.3\" font-family=\"Times,serif\" font-size=\"14.00\">3</text>\n</g>\n<!-- 1&#45;&gt;3 -->\n<g id=\"edge4\" class=\"edge\">\n<title>1&#45;&gt;3</title>\n<path fill=\"none\" stroke=\"black\" d=\"M242.88,-26C253.28,-26 265.88,-26 276.82,-26\"/>\n<polygon fill=\"black\" stroke=\"black\" points=\"277.04,-28.98 285.54,-26 277.04,-23.03 277.04,-28.98\"/>\n<text text-anchor=\"middle\" x=\"264.1\" y=\"-29.8\" font-family=\"Times,serif\" font-size=\"14.00\">b</text>\n</g>\n<!-- 3&#45;&gt;1 -->\n<g id=\"edge5\" class=\"edge\">\n<title>3&#45;&gt;1</title>\n<path fill=\"none\" stroke=\"black\" d=\"M287.88,-16.46C281.85,-13.08 274.64,-9.7 267.6,-8 260.8,-6.35 253.67,-7.58 247.1,-10.02\"/>\n<polygon fill=\"black\" stroke=\"black\" points=\"245.66,-7.41 239.15,-13.64 248.12,-12.83 245.66,-7.41\"/>\n<text text-anchor=\"middle\" x=\"264.1\" y=\"-11.8\" font-family=\"Times,serif\" font-size=\"14.00\">b</text>\n</g>\n</g>\n</svg>\n",
            "text/plain": [
              "<AGraph <Swig Object of type 'Agraph_t *' at 0x7f528fbeb2a0>>"
            ]
          },
          "metadata": {},
          "execution_count": 137
        }
      ],
      "source": [
        "dfa.show_diagram()"
      ]
    },
    {
      "cell_type": "markdown",
      "metadata": {
        "id": "5_1rw5PiaVca"
      },
      "source": [
        "* The following code prints all words of length 0 to 12:"
      ]
    },
    {
      "cell_type": "code",
      "execution_count": 138,
      "metadata": {
        "colab": {
          "base_uri": "https://localhost:8080/"
        },
        "id": "9UKKYvwZaVca",
        "outputId": "70fd0548-123e-4ad3-b065-adba26a16695"
      },
      "outputs": [
        {
          "output_type": "execute_result",
          "data": {
            "text/plain": [
              "['aa', 'aabb', 'aabbbb', 'aabbbbbb', 'aabbbbbbbb', 'aabbbbbbbbbb']"
            ]
          },
          "metadata": {},
          "execution_count": 138
        }
      ],
      "source": [
        "dfa[0:12]"
      ]
    },
    {
      "cell_type": "markdown",
      "metadata": {
        "id": "REy6PGWAaVca"
      },
      "source": [
        "## Addition of two automatons\n",
        "* The addition of two automatons is defined as a minimal NFA which accepts\n",
        "  all the word $w$, for which $w=uv$ where $u\\in L(fa1)$ and $v\\in L(fa2)$.\n",
        "* This is also called **concatanation**."
      ]
    },
    {
      "cell_type": "code",
      "execution_count": 139,
      "metadata": {
        "colab": {
          "base_uri": "https://localhost:8080/",
          "height": 238
        },
        "id": "2V5U8Jy5aVca",
        "outputId": "66635ad0-66e7-4343-f676-0295df2d0f34"
      },
      "outputs": [
        {
          "output_type": "execute_result",
          "data": {
            "image/svg+xml": "<?xml version=\"1.0\" encoding=\"UTF-8\" standalone=\"no\"?>\n<!DOCTYPE svg PUBLIC \"-//W3C//DTD SVG 1.1//EN\"\n \"http://www.w3.org/Graphics/SVG/1.1/DTD/svg11.dtd\">\n<!-- Generated by graphviz version 2.43.0 (0)\n -->\n<!-- Pages: 1 -->\n<svg width=\"911pt\" height=\"162pt\"\n viewBox=\"0.00 0.00 910.59 162.00\" xmlns=\"http://www.w3.org/2000/svg\" xmlns:xlink=\"http://www.w3.org/1999/xlink\">\n<g id=\"graph0\" class=\"graph\" transform=\"scale(1 1) rotate(0) translate(4 158)\">\n<polygon fill=\"white\" stroke=\"transparent\" points=\"-4,4 -4,-158 906.59,-158 906.59,4 -4,4\"/>\n<!-- 3220282d&#45;0a09&#45;4860&#45;a1a0&#45;c58aadafeb8e -->\n<g id=\"node1\" class=\"node\">\n<title>3220282d&#45;0a09&#45;4860&#45;a1a0&#45;c58aadafeb8e</title>\n<g id=\"a_node1\"><a xlink:title=\".\">\n<ellipse fill=\"black\" stroke=\"black\" cx=\"1.8\" cy=\"-68\" rx=\"1.8\" ry=\"1.8\"/>\n</a>\n</g>\n</g>\n<!-- 0 -->\n<g id=\"node2\" class=\"node\">\n<title>0</title>\n<ellipse fill=\"none\" stroke=\"black\" cx=\"58.6\" cy=\"-68\" rx=\"18\" ry=\"18\"/>\n<text text-anchor=\"middle\" x=\"58.6\" y=\"-64.3\" font-family=\"Times,serif\" font-size=\"14.00\">0</text>\n</g>\n<!-- 3220282d&#45;0a09&#45;4860&#45;a1a0&#45;c58aadafeb8e&#45;&gt;0 -->\n<g id=\"edge1\" class=\"edge\">\n<title>3220282d&#45;0a09&#45;4860&#45;a1a0&#45;c58aadafeb8e&#45;&gt;0</title>\n<g id=\"a_edge1\"><a xlink:title=\"&#45;&gt;0\">\n<path fill=\"none\" stroke=\"black\" d=\"M3.75,-68C7.25,-68 19.84,-68 31.96,-68\"/>\n<polygon fill=\"black\" stroke=\"black\" points=\"32.08,-70.98 40.58,-68 32.07,-65.03 32.08,-70.98\"/>\n</a>\n</g>\n</g>\n<!-- 0&#45;&gt;0 -->\n<g id=\"edge2\" class=\"edge\">\n<title>0&#45;&gt;0</title>\n<path fill=\"none\" stroke=\"black\" d=\"M52.22,-85.04C50.92,-94.86 53.05,-104 58.6,-104 62.42,-104 64.62,-99.68 65.19,-93.79\"/>\n<polygon fill=\"black\" stroke=\"black\" points=\"68.16,-93.46 64.98,-85.04 62.21,-93.61 68.16,-93.46\"/>\n<text text-anchor=\"middle\" x=\"58.6\" y=\"-107.8\" font-family=\"Times,serif\" font-size=\"14.00\">0</text>\n</g>\n<!-- 1 -->\n<g id=\"node3\" class=\"node\">\n<title>1</title>\n<ellipse fill=\"none\" stroke=\"black\" cx=\"226.6\" cy=\"-103\" rx=\"18\" ry=\"18\"/>\n<text text-anchor=\"middle\" x=\"226.6\" y=\"-99.3\" font-family=\"Times,serif\" font-size=\"14.00\">1</text>\n</g>\n<!-- 0&#45;&gt;1 -->\n<g id=\"edge3\" class=\"edge\">\n<title>0&#45;&gt;1</title>\n<path fill=\"none\" stroke=\"black\" d=\"M74.16,-77.06C80.29,-80.57 87.61,-84.36 94.6,-87 135.21,-102.33 147.21,-106.24 190.6,-105 193.61,-104.91 196.77,-104.79 199.9,-104.64\"/>\n<polygon fill=\"black\" stroke=\"black\" points=\"200.19,-107.6 208.52,-104.17 199.87,-101.66 200.19,-107.6\"/>\n<text text-anchor=\"middle\" x=\"147.6\" y=\"-107.8\" font-family=\"Times,serif\" font-size=\"14.00\">0</text>\n</g>\n<!-- 2 -->\n<g id=\"node4\" class=\"node\">\n<title>2</title>\n<ellipse fill=\"none\" stroke=\"black\" cx=\"147.6\" cy=\"-68\" rx=\"18\" ry=\"18\"/>\n<text text-anchor=\"middle\" x=\"147.6\" y=\"-64.3\" font-family=\"Times,serif\" font-size=\"14.00\">2</text>\n</g>\n<!-- 0&#45;&gt;2 -->\n<g id=\"edge4\" class=\"edge\">\n<title>0&#45;&gt;2</title>\n<path fill=\"none\" stroke=\"black\" d=\"M76.79,-68C89.3,-68 106.46,-68 120.64,-68\"/>\n<polygon fill=\"black\" stroke=\"black\" points=\"120.95,-70.98 129.45,-68 120.95,-65.03 120.95,-70.98\"/>\n<text text-anchor=\"middle\" x=\"103.1\" y=\"-71.8\" font-family=\"Times,serif\" font-size=\"14.00\">1,ε</text>\n</g>\n<!-- 3 -->\n<g id=\"node5\" class=\"node\">\n<title>3</title>\n<ellipse fill=\"none\" stroke=\"black\" cx=\"226.6\" cy=\"-41\" rx=\"18\" ry=\"18\"/>\n<text text-anchor=\"middle\" x=\"226.6\" y=\"-37.3\" font-family=\"Times,serif\" font-size=\"14.00\">3</text>\n</g>\n<!-- 0&#45;&gt;3 -->\n<g id=\"edge5\" class=\"edge\">\n<title>0&#45;&gt;3</title>\n<path fill=\"none\" stroke=\"black\" d=\"M73.03,-56.88C86.41,-46.58 108.02,-31.98 129.6,-26 153.67,-19.33 182.02,-25.4 201.64,-31.7\"/>\n<polygon fill=\"black\" stroke=\"black\" points=\"200.72,-34.53 209.73,-34.47 202.65,-28.9 200.72,-34.53\"/>\n<text text-anchor=\"middle\" x=\"147.6\" y=\"-29.8\" font-family=\"Times,serif\" font-size=\"14.00\">ε</text>\n</g>\n<!-- 1&#45;&gt;1 -->\n<g id=\"edge6\" class=\"edge\">\n<title>1&#45;&gt;1</title>\n<path fill=\"none\" stroke=\"black\" d=\"M219.87,-120.04C218.49,-129.86 220.74,-139 226.6,-139 230.63,-139 232.95,-134.68 233.56,-128.79\"/>\n<polygon fill=\"black\" stroke=\"black\" points=\"236.53,-128.46 233.33,-120.04 230.58,-128.62 236.53,-128.46\"/>\n<text text-anchor=\"middle\" x=\"226.6\" y=\"-142.8\" font-family=\"Times,serif\" font-size=\"14.00\">1</text>\n</g>\n<!-- 2&#45;&gt;1 -->\n<g id=\"edge7\" class=\"edge\">\n<title>2&#45;&gt;1</title>\n<path fill=\"none\" stroke=\"black\" d=\"M164.18,-75.08C175.04,-80.02 189.71,-86.69 202,-92.27\"/>\n<polygon fill=\"black\" stroke=\"black\" points=\"201.07,-95.12 210.04,-95.93 203.53,-89.7 201.07,-95.12\"/>\n<text text-anchor=\"middle\" x=\"187.1\" y=\"-89.8\" font-family=\"Times,serif\" font-size=\"14.00\">0</text>\n</g>\n<!-- 2&#45;&gt;3 -->\n<g id=\"edge8\" class=\"edge\">\n<title>2&#45;&gt;3</title>\n<path fill=\"none\" stroke=\"black\" d=\"M164.53,-61.32C170.47,-58.9 177.31,-56.23 183.6,-54 189.08,-52.06 195.01,-50.12 200.65,-48.36\"/>\n<polygon fill=\"black\" stroke=\"black\" points=\"201.88,-51.1 209.14,-45.76 200.14,-45.41 201.88,-51.1\"/>\n<text text-anchor=\"middle\" x=\"187.1\" y=\"-57.8\" font-family=\"Times,serif\" font-size=\"14.00\">ε</text>\n</g>\n<!-- 4 -->\n<g id=\"node6\" class=\"node\">\n<title>4</title>\n<ellipse fill=\"none\" stroke=\"black\" cx=\"305.6\" cy=\"-41\" rx=\"18\" ry=\"18\"/>\n<text text-anchor=\"middle\" x=\"305.6\" y=\"-37.3\" font-family=\"Times,serif\" font-size=\"14.00\">4</text>\n</g>\n<!-- 3&#45;&gt;4 -->\n<g id=\"edge9\" class=\"edge\">\n<title>3&#45;&gt;4</title>\n<path fill=\"none\" stroke=\"black\" d=\"M244.69,-41C254.76,-41 267.69,-41 278.96,-41\"/>\n<polygon fill=\"black\" stroke=\"black\" points=\"279.06,-43.98 287.56,-41 279.06,-38.03 279.06,-43.98\"/>\n<text text-anchor=\"middle\" x=\"266.1\" y=\"-44.8\" font-family=\"Times,serif\" font-size=\"14.00\">a</text>\n</g>\n<!-- 5 -->\n<g id=\"node7\" class=\"node\">\n<title>5</title>\n<ellipse fill=\"none\" stroke=\"black\" cx=\"384.6\" cy=\"-41\" rx=\"18\" ry=\"18\"/>\n<text text-anchor=\"middle\" x=\"384.6\" y=\"-37.3\" font-family=\"Times,serif\" font-size=\"14.00\">5</text>\n</g>\n<!-- 4&#45;&gt;5 -->\n<g id=\"edge10\" class=\"edge\">\n<title>4&#45;&gt;5</title>\n<path fill=\"none\" stroke=\"black\" d=\"M323.69,-41C333.76,-41 346.69,-41 357.96,-41\"/>\n<polygon fill=\"black\" stroke=\"black\" points=\"358.06,-43.98 366.56,-41 358.06,-38.03 358.06,-43.98\"/>\n<text text-anchor=\"middle\" x=\"345.1\" y=\"-44.8\" font-family=\"Times,serif\" font-size=\"14.00\">ε</text>\n</g>\n<!-- 6 -->\n<g id=\"node8\" class=\"node\">\n<title>6</title>\n<ellipse fill=\"none\" stroke=\"black\" cx=\"463.6\" cy=\"-41\" rx=\"18\" ry=\"18\"/>\n<text text-anchor=\"middle\" x=\"463.6\" y=\"-37.3\" font-family=\"Times,serif\" font-size=\"14.00\">6</text>\n</g>\n<!-- 5&#45;&gt;6 -->\n<g id=\"edge11\" class=\"edge\">\n<title>5&#45;&gt;6</title>\n<path fill=\"none\" stroke=\"black\" d=\"M402.69,-41C412.76,-41 425.69,-41 436.96,-41\"/>\n<polygon fill=\"black\" stroke=\"black\" points=\"437.06,-43.98 445.56,-41 437.06,-38.03 437.06,-43.98\"/>\n<text text-anchor=\"middle\" x=\"424.1\" y=\"-44.8\" font-family=\"Times,serif\" font-size=\"14.00\">a</text>\n</g>\n<!-- 11 -->\n<g id=\"node9\" class=\"node\">\n<title>11</title>\n<ellipse fill=\"none\" stroke=\"black\" cx=\"544.1\" cy=\"-41\" rx=\"19.5\" ry=\"19.5\"/>\n<text text-anchor=\"middle\" x=\"544.1\" y=\"-37.3\" font-family=\"Times,serif\" font-size=\"14.00\">11</text>\n</g>\n<!-- 6&#45;&gt;11 -->\n<g id=\"edge12\" class=\"edge\">\n<title>6&#45;&gt;11</title>\n<path fill=\"none\" stroke=\"black\" d=\"M481.63,-41C491.6,-41 504.41,-41 515.75,-41\"/>\n<polygon fill=\"black\" stroke=\"black\" points=\"515.95,-43.98 524.45,-41 515.95,-38.03 515.95,-43.98\"/>\n<text text-anchor=\"middle\" x=\"503.1\" y=\"-44.8\" font-family=\"Times,serif\" font-size=\"14.00\">ε</text>\n</g>\n<!-- 7 -->\n<g id=\"node10\" class=\"node\">\n<title>7</title>\n<ellipse fill=\"none\" stroke=\"black\" cx=\"628.6\" cy=\"-41\" rx=\"22\" ry=\"22\"/>\n<ellipse fill=\"none\" stroke=\"black\" cx=\"628.6\" cy=\"-41\" rx=\"26\" ry=\"26\"/>\n<text text-anchor=\"middle\" x=\"628.6\" y=\"-37.3\" font-family=\"Times,serif\" font-size=\"14.00\">7</text>\n</g>\n<!-- 11&#45;&gt;7 -->\n<g id=\"edge13\" class=\"edge\">\n<title>11&#45;&gt;7</title>\n<path fill=\"none\" stroke=\"black\" d=\"M563.82,-41C573.8,-41 586.31,-41 597.61,-41\"/>\n<polygon fill=\"black\" stroke=\"black\" points=\"597.83,-43.98 606.33,-41 597.83,-38.03 597.83,-43.98\"/>\n<text text-anchor=\"middle\" x=\"585.1\" y=\"-44.8\" font-family=\"Times,serif\" font-size=\"14.00\">ε</text>\n</g>\n<!-- 8 -->\n<g id=\"node11\" class=\"node\">\n<title>8</title>\n<ellipse fill=\"none\" stroke=\"black\" cx=\"711.6\" cy=\"-18\" rx=\"18\" ry=\"18\"/>\n<text text-anchor=\"middle\" x=\"711.6\" y=\"-14.3\" font-family=\"Times,serif\" font-size=\"14.00\">8</text>\n</g>\n<!-- 7&#45;&gt;8 -->\n<g id=\"edge14\" class=\"edge\">\n<title>7&#45;&gt;8</title>\n<path fill=\"none\" stroke=\"black\" d=\"M650.04,-35.2C660.87,-32.12 674.26,-28.32 685.69,-25.07\"/>\n<polygon fill=\"black\" stroke=\"black\" points=\"686.62,-27.9 693.98,-22.72 684.99,-22.18 686.62,-27.9\"/>\n<text text-anchor=\"middle\" x=\"672.1\" y=\"-33.8\" font-family=\"Times,serif\" font-size=\"14.00\">b</text>\n</g>\n<!-- 9 -->\n<g id=\"node12\" class=\"node\">\n<title>9</title>\n<ellipse fill=\"none\" stroke=\"black\" cx=\"790.6\" cy=\"-18\" rx=\"18\" ry=\"18\"/>\n<text text-anchor=\"middle\" x=\"790.6\" y=\"-14.3\" font-family=\"Times,serif\" font-size=\"14.00\">9</text>\n</g>\n<!-- 8&#45;&gt;9 -->\n<g id=\"edge15\" class=\"edge\">\n<title>8&#45;&gt;9</title>\n<path fill=\"none\" stroke=\"black\" d=\"M729.69,-18C739.75,-18 752.69,-18 763.96,-18\"/>\n<polygon fill=\"black\" stroke=\"black\" points=\"764.06,-20.98 772.56,-18 764.06,-15.03 764.06,-20.98\"/>\n<text text-anchor=\"middle\" x=\"751.1\" y=\"-21.8\" font-family=\"Times,serif\" font-size=\"14.00\">ε</text>\n</g>\n<!-- 10 -->\n<g id=\"node13\" class=\"node\">\n<title>10</title>\n<ellipse fill=\"none\" stroke=\"black\" cx=\"875.09\" cy=\"-41\" rx=\"23.5\" ry=\"23.5\"/>\n<ellipse fill=\"none\" stroke=\"black\" cx=\"875.09\" cy=\"-41\" rx=\"27.5\" ry=\"27.5\"/>\n<text text-anchor=\"middle\" x=\"875.09\" y=\"-37.3\" font-family=\"Times,serif\" font-size=\"14.00\">10</text>\n</g>\n<!-- 9&#45;&gt;10 -->\n<g id=\"edge16\" class=\"edge\">\n<title>9&#45;&gt;10</title>\n<path fill=\"none\" stroke=\"black\" d=\"M808.29,-22.65C818.44,-25.48 831.72,-29.19 843.68,-32.52\"/>\n<polygon fill=\"black\" stroke=\"black\" points=\"843.11,-35.45 852.1,-34.87 844.71,-29.72 843.11,-35.45\"/>\n<text text-anchor=\"middle\" x=\"830.1\" y=\"-33.8\" font-family=\"Times,serif\" font-size=\"14.00\">b</text>\n</g>\n<!-- 10&#45;&gt;7 -->\n<g id=\"edge17\" class=\"edge\">\n<title>10&#45;&gt;7</title>\n<path fill=\"none\" stroke=\"black\" d=\"M851.93,-46.19C846.01,-47.35 839.59,-48.41 833.6,-49 760.61,-56.14 741.55,-56.41 668.6,-49 665.38,-48.67 662.04,-48.2 658.73,-47.64\"/>\n<polygon fill=\"black\" stroke=\"black\" points=\"659.02,-44.67 650.12,-46.02 657.92,-50.52 659.02,-44.67\"/>\n<text text-anchor=\"middle\" x=\"751.1\" y=\"-57.8\" font-family=\"Times,serif\" font-size=\"14.00\">ε</text>\n</g>\n</g>\n</svg>\n",
            "text/plain": [
              "<AGraph <Swig Object of type 'Agraph_t *' at 0x7f528fbe9d70>>"
            ]
          },
          "metadata": {},
          "execution_count": 139
        }
      ],
      "source": [
        "nfa = nfa5+nfa6\n",
        "nfa.show_diagram()"
      ]
    },
    {
      "cell_type": "code",
      "execution_count": 140,
      "metadata": {
        "colab": {
          "base_uri": "https://localhost:8080/"
        },
        "id": "H6sCbbekaVca",
        "outputId": "2c15c027-acab-4638-eadb-4ef98a17da6d"
      },
      "outputs": [
        {
          "output_type": "execute_result",
          "data": {
            "text/plain": [
              "['aa',\n",
              " '0aa',\n",
              " '1aa',\n",
              " '00aa',\n",
              " '01aa',\n",
              " 'aabb',\n",
              " '000aa',\n",
              " '001aa',\n",
              " '0aabb',\n",
              " '1aabb',\n",
              " '0000aa',\n",
              " '0001aa',\n",
              " '00aabb',\n",
              " '01aabb',\n",
              " 'aabbbb',\n",
              " '00000aa',\n",
              " '00001aa',\n",
              " '000aabb',\n",
              " '001aabb',\n",
              " '0aabbbb',\n",
              " '1aabbbb',\n",
              " '000000aa',\n",
              " '000001aa',\n",
              " '0000aabb',\n",
              " '0001aabb',\n",
              " '00aabbbb',\n",
              " '01aabbbb',\n",
              " 'aabbbbbb',\n",
              " '0000000aa',\n",
              " '0000001aa',\n",
              " '00000aabb',\n",
              " '00001aabb',\n",
              " '000aabbbb',\n",
              " '001aabbbb',\n",
              " '0aabbbbbb',\n",
              " '1aabbbbbb',\n",
              " '00000000aa',\n",
              " '00000001aa',\n",
              " '000000aabb',\n",
              " '000001aabb',\n",
              " '0000aabbbb',\n",
              " '0001aabbbb',\n",
              " '00aabbbbbb',\n",
              " '01aabbbbbb',\n",
              " 'aabbbbbbbb',\n",
              " '000000000aa',\n",
              " '000000001aa',\n",
              " '0000000aabb',\n",
              " '0000001aabb',\n",
              " '00000aabbbb',\n",
              " '00001aabbbb',\n",
              " '000aabbbbbb',\n",
              " '001aabbbbbb',\n",
              " '0aabbbbbbbb',\n",
              " '1aabbbbbbbb',\n",
              " '0000000000aa',\n",
              " '0000000001aa',\n",
              " '00000000aabb',\n",
              " '00000001aabb',\n",
              " '000000aabbbb',\n",
              " '000001aabbbb',\n",
              " '0000aabbbbbb',\n",
              " '0001aabbbbbb',\n",
              " '00aabbbbbbbb',\n",
              " '01aabbbbbbbb',\n",
              " 'aabbbbbbbbbb']"
            ]
          },
          "metadata": {},
          "execution_count": 140
        }
      ],
      "source": [
        "dfa = DFA.from_nfa(nfa)\n",
        "dfa[0:12]"
      ]
    },
    {
      "cell_type": "code",
      "execution_count": 141,
      "metadata": {
        "colab": {
          "base_uri": "https://localhost:8080/"
        },
        "id": "GoZATCQKaVca",
        "outputId": "a78fff8f-24fc-478d-87ea-5b4c4ae74f60",
        "tags": []
      },
      "outputs": [
        {
          "output_type": "stream",
          "name": "stdout",
          "text": [
            "0*(1?)?aa(bb)*(bb)?\n"
          ]
        }
      ],
      "source": [
        "reg = GNFA.from_nfa(nfa).to_regex()\n",
        "print(reg)"
      ]
    },
    {
      "cell_type": "markdown",
      "metadata": {
        "id": "BL8BVxC8LDew"
      },
      "source": [
        "## Exercise 3.13\n",
        "Convert the following deterministic finite automata to an equivalent regular expression.\n",
        "\n",
        "<img src=\"https://samyzaf.com/afl/figs/dfa1b.jpg\" width=50% alt=\"dfa1b.jpg\"/>\n",
        "\n",
        "## Solution\n",
        "* This problem (from Chapter 3) should be solved by using the algorithm outlined in Chapter 3,\n",
        "  which presumably is the one used by the automata-lib package (seems like it also minimizes the expression).\n",
        "* The following code gives the final result but does not show how to obtain it.\n",
        "* First we need a formal definition:"
      ]
    },
    {
      "cell_type": "code",
      "execution_count": 142,
      "metadata": {
        "id": "NOTUO8h0LDex"
      },
      "outputs": [],
      "source": [
        "dfa = DFA(\"\"\"\n",
        "states: q0 q1 q2\n",
        "input_symbols: 0 1\n",
        "transitions:\n",
        "    q0:  0:q1 1:q1\n",
        "    q1:  0:q1 1:q2\n",
        "    q2:  0:q0 1:q1\n",
        "initial_state: q0\n",
        "final_states: q0 q2\n",
        "\"\"\")"
      ]
    },
    {
      "cell_type": "code",
      "execution_count": 143,
      "metadata": {
        "colab": {
          "base_uri": "https://localhost:8080/"
        },
        "id": "upaqvU-9LDex",
        "outputId": "6533da27-3cf4-4297-e578-186d413a5b06"
      },
      "outputs": [
        {
          "output_type": "stream",
          "name": "stdout",
          "text": [
            "((0|1)(1(0(0|1)|1)|0)*10?)?\n"
          ]
        }
      ],
      "source": [
        "reg = GNFA.from_dfa(dfa).to_regex()\n",
        "print(reg)"
      ]
    },
    {
      "cell_type": "markdown",
      "metadata": {
        "id": "b_AEDe5yLDex"
      },
      "source": [
        "## Exercise 3.33\n",
        "Convert the following deterministic finite automata to an equivalent minimal DFA.\n",
        "\n",
        "<img src=\"https://samyzaf.com/afl/figs/nfa1h.jpg\" width=50% alt=\"nfa1h.jpg\"/>\n",
        "\n",
        "## Solution\n",
        "* This problem (from Chapter 3) should be solved by using the algorithm outlined in Chapter 3,\n",
        "  which presumably is the one used by the automata-lib package.\n",
        "* The following code gives the final result but does not show how to obtain it.\n",
        "* First we need a formal definition:"
      ]
    },
    {
      "cell_type": "code",
      "execution_count": 144,
      "metadata": {
        "id": "J8cbx-RZLDex"
      },
      "outputs": [],
      "source": [
        "dfa = DFA(\"\"\"\n",
        "states: q0 q1 q2 q3 q4 q5\n",
        "input_symbols: 0 1\n",
        "transitions:\n",
        "    q0:  0:q3 1:q1\n",
        "    q1:  0:q5 1:q2\n",
        "    q2:  0:q2 1:q5\n",
        "    q3:  0:q0 1:q4\n",
        "    q4:  0:q5 1:q2\n",
        "    q5:  0:q5 1:q5\n",
        "initial_state: q0\n",
        "final_states: q1 q4\n",
        "\"\"\")"
      ]
    },
    {
      "cell_type": "code",
      "execution_count": 145,
      "metadata": {
        "colab": {
          "base_uri": "https://localhost:8080/",
          "height": 135
        },
        "id": "nh8K1WZJLDex",
        "outputId": "c87e1fe6-6a50-4154-b2ac-a562e9bb3407"
      },
      "outputs": [
        {
          "output_type": "execute_result",
          "data": {
            "image/svg+xml": "<?xml version=\"1.0\" encoding=\"UTF-8\" standalone=\"no\"?>\n<!DOCTYPE svg PUBLIC \"-//W3C//DTD SVG 1.1//EN\"\n \"http://www.w3.org/Graphics/SVG/1.1/DTD/svg11.dtd\">\n<!-- Generated by graphviz version 2.43.0 (0)\n -->\n<!-- Pages: 1 -->\n<svg width=\"262pt\" height=\"85pt\"\n viewBox=\"0.00 0.00 261.60 85.00\" xmlns=\"http://www.w3.org/2000/svg\" xmlns:xlink=\"http://www.w3.org/1999/xlink\">\n<g id=\"graph0\" class=\"graph\" transform=\"scale(1 1) rotate(0) translate(4 81)\">\n<polygon fill=\"white\" stroke=\"transparent\" points=\"-4,4 -4,-81 257.6,-81 257.6,4 -4,4\"/>\n<!-- 412be138&#45;dcdb&#45;4285&#45;93e1&#45;41d773f44680 -->\n<g id=\"node1\" class=\"node\">\n<title>412be138&#45;dcdb&#45;4285&#45;93e1&#45;41d773f44680</title>\n<g id=\"a_node1\"><a xlink:title=\".\">\n<ellipse fill=\"black\" stroke=\"black\" cx=\"1.8\" cy=\"-26\" rx=\"1.8\" ry=\"1.8\"/>\n</a>\n</g>\n</g>\n<!-- 2 -->\n<g id=\"node2\" class=\"node\">\n<title>2</title>\n<ellipse fill=\"none\" stroke=\"black\" cx=\"58.6\" cy=\"-26\" rx=\"18\" ry=\"18\"/>\n<text text-anchor=\"middle\" x=\"58.6\" y=\"-22.3\" font-family=\"Times,serif\" font-size=\"14.00\">2</text>\n</g>\n<!-- 412be138&#45;dcdb&#45;4285&#45;93e1&#45;41d773f44680&#45;&gt;2 -->\n<g id=\"edge1\" class=\"edge\">\n<title>412be138&#45;dcdb&#45;4285&#45;93e1&#45;41d773f44680&#45;&gt;2</title>\n<g id=\"a_edge1\"><a xlink:title=\"&#45;&gt;2\">\n<path fill=\"none\" stroke=\"black\" d=\"M3.75,-26C7.25,-26 19.84,-26 31.96,-26\"/>\n<polygon fill=\"black\" stroke=\"black\" points=\"32.08,-28.98 40.58,-26 32.07,-23.03 32.08,-28.98\"/>\n</a>\n</g>\n</g>\n<!-- 2&#45;&gt;2 -->\n<g id=\"edge2\" class=\"edge\">\n<title>2&#45;&gt;2</title>\n<path fill=\"none\" stroke=\"black\" d=\"M52.22,-43.04C50.92,-52.86 53.05,-62 58.6,-62 62.42,-62 64.62,-57.68 65.19,-51.79\"/>\n<polygon fill=\"black\" stroke=\"black\" points=\"68.16,-51.46 64.98,-43.04 62.21,-51.61 68.16,-51.46\"/>\n<text text-anchor=\"middle\" x=\"58.6\" y=\"-65.8\" font-family=\"Times,serif\" font-size=\"14.00\">0</text>\n</g>\n<!-- 1 -->\n<g id=\"node3\" class=\"node\">\n<title>1</title>\n<ellipse fill=\"none\" stroke=\"black\" cx=\"141.6\" cy=\"-26\" rx=\"22\" ry=\"22\"/>\n<ellipse fill=\"none\" stroke=\"black\" cx=\"141.6\" cy=\"-26\" rx=\"26\" ry=\"26\"/>\n<text text-anchor=\"middle\" x=\"141.6\" y=\"-22.3\" font-family=\"Times,serif\" font-size=\"14.00\">1</text>\n</g>\n<!-- 2&#45;&gt;1 -->\n<g id=\"edge3\" class=\"edge\">\n<title>2&#45;&gt;1</title>\n<path fill=\"none\" stroke=\"black\" d=\"M76.78,-26C86.6,-26 99.19,-26 110.6,-26\"/>\n<polygon fill=\"black\" stroke=\"black\" points=\"110.91,-28.98 119.41,-26 110.91,-23.03 110.91,-28.98\"/>\n<text text-anchor=\"middle\" x=\"98.1\" y=\"-29.8\" font-family=\"Times,serif\" font-size=\"14.00\">1</text>\n</g>\n<!-- 0 -->\n<g id=\"node4\" class=\"node\">\n<title>0</title>\n<ellipse fill=\"none\" stroke=\"black\" cx=\"235.6\" cy=\"-26\" rx=\"18\" ry=\"18\"/>\n<text text-anchor=\"middle\" x=\"235.6\" y=\"-22.3\" font-family=\"Times,serif\" font-size=\"14.00\">0</text>\n</g>\n<!-- 1&#45;&gt;0 -->\n<g id=\"edge4\" class=\"edge\">\n<title>1&#45;&gt;0</title>\n<path fill=\"none\" stroke=\"black\" d=\"M163.94,-26C177.26,-26 194.51,-26 208.62,-26\"/>\n<polygon fill=\"black\" stroke=\"black\" points=\"208.88,-28.98 217.38,-26 208.88,-23.03 208.88,-28.98\"/>\n<text text-anchor=\"middle\" x=\"190.6\" y=\"-29.8\" font-family=\"Times,serif\" font-size=\"14.00\">0,1</text>\n</g>\n<!-- 0&#45;&gt;0 -->\n<g id=\"edge5\" class=\"edge\">\n<title>0&#45;&gt;0</title>\n<path fill=\"none\" stroke=\"black\" d=\"M227.93,-42.29C226.08,-52.39 228.64,-62 235.6,-62 240.49,-62 243.21,-57.25 243.75,-50.92\"/>\n<polygon fill=\"black\" stroke=\"black\" points=\"246.71,-50.61 243.27,-42.29 240.77,-50.94 246.71,-50.61\"/>\n<text text-anchor=\"middle\" x=\"235.6\" y=\"-65.8\" font-family=\"Times,serif\" font-size=\"14.00\">0,1</text>\n</g>\n</g>\n</svg>\n",
            "text/plain": [
              "<AGraph <Swig Object of type 'Agraph_t *' at 0x7f528f59d1a0>>"
            ]
          },
          "metadata": {},
          "execution_count": 145
        }
      ],
      "source": [
        "min_dfa = dfa.minify()\n",
        "min_dfa.show_diagram()"
      ]
    },
    {
      "cell_type": "code",
      "execution_count": 146,
      "metadata": {
        "colab": {
          "base_uri": "https://localhost:8080/"
        },
        "id": "-EJ1WJVRLDey",
        "outputId": "7b390789-50e8-40ec-99a0-66541eb18aad"
      },
      "outputs": [
        {
          "output_type": "stream",
          "name": "stdout",
          "text": [
            "0*1\n"
          ]
        }
      ],
      "source": [
        "reg = GNFA.from_dfa(min_dfa).to_regex()\n",
        "print(reg)"
      ]
    },
    {
      "cell_type": "markdown",
      "metadata": {
        "id": "3du6eA_CLDey"
      },
      "source": [
        "## Exercise 3.33\n",
        "Convert the following deterministic finite automata to an equivalent minimal DFA.\n",
        "\n",
        "<img src=\"https://samyzaf.com/afl/figs/nfa1h.jpg\" width=50% alt=\"nfa1h.jpg\"/>\n",
        "\n",
        "## Solution\n",
        "* This problem (from Chapter 3) should be solved by using the algorithm outlined in Chapter 3,\n",
        "  which presumably is the one used by the automata-lib package.\n",
        "* The following code gives the final result but does not show how to obtain it.\n",
        "* First we need a formal definition:"
      ]
    },
    {
      "cell_type": "code",
      "execution_count": 147,
      "metadata": {
        "colab": {
          "base_uri": "https://localhost:8080/"
        },
        "id": "czjl_JvbLDey",
        "outputId": "fc2fadbe-6654-48dd-c391-84cfa6f09aca"
      },
      "outputs": [
        {
          "output_type": "execute_result",
          "data": {
            "text/plain": [
              "['1',\n",
              " '01',\n",
              " '001',\n",
              " '0001',\n",
              " '00001',\n",
              " '000001',\n",
              " '0000001',\n",
              " '00000001',\n",
              " '000000001',\n",
              " '0000000001']"
            ]
          },
          "metadata": {},
          "execution_count": 147
        }
      ],
      "source": [
        "dfa[0:10]"
      ]
    },
    {
      "cell_type": "markdown",
      "metadata": {
        "id": "ZzArbQHeLDey"
      },
      "source": [
        "## Exercise 3.34.3\n",
        "Find a minimal DFA for the langauge\n",
        "$L = \\{0^{2n} : n\\geq 0\\} \\cup \\{1^{3n} n\\geq 0\\}$.\n",
        "\n",
        "## Solution\n",
        "* This is the language that corresponds to the regular expression $(00)* | (111)*$\n",
        "* We can use the automata-lib facilities"
      ]
    },
    {
      "cell_type": "code",
      "execution_count": 148,
      "metadata": {
        "colab": {
          "base_uri": "https://localhost:8080/",
          "height": 234
        },
        "id": "jVMrTotrLDey",
        "outputId": "87e791f1-d7f5-46b4-94cc-d9731f8d5375"
      },
      "outputs": [
        {
          "output_type": "execute_result",
          "data": {
            "image/svg+xml": "<?xml version=\"1.0\" encoding=\"UTF-8\" standalone=\"no\"?>\n<!DOCTYPE svg PUBLIC \"-//W3C//DTD SVG 1.1//EN\"\n \"http://www.w3.org/Graphics/SVG/1.1/DTD/svg11.dtd\">\n<!-- Generated by graphviz version 2.43.0 (0)\n -->\n<!-- Pages: 1 -->\n<svg width=\"350pt\" height=\"159pt\"\n viewBox=\"0.00 0.00 349.60 159.00\" xmlns=\"http://www.w3.org/2000/svg\" xmlns:xlink=\"http://www.w3.org/1999/xlink\">\n<g id=\"graph0\" class=\"graph\" transform=\"scale(1 1) rotate(0) translate(4 155)\">\n<polygon fill=\"white\" stroke=\"transparent\" points=\"-4,4 -4,-155 345.6,-155 345.6,4 -4,4\"/>\n<!-- 988902a9&#45;0bca&#45;4fda&#45;a2fe&#45;31b9d60d96ae -->\n<g id=\"node1\" class=\"node\">\n<title>988902a9&#45;0bca&#45;4fda&#45;a2fe&#45;31b9d60d96ae</title>\n<g id=\"a_node1\"><a xlink:title=\".\">\n<ellipse fill=\"black\" stroke=\"black\" cx=\"1.8\" cy=\"-75\" rx=\"1.8\" ry=\"1.8\"/>\n</a>\n</g>\n</g>\n<!-- 6 -->\n<g id=\"node2\" class=\"node\">\n<title>6</title>\n<ellipse fill=\"none\" stroke=\"black\" cx=\"62.6\" cy=\"-75\" rx=\"22\" ry=\"22\"/>\n<ellipse fill=\"none\" stroke=\"black\" cx=\"62.6\" cy=\"-75\" rx=\"26\" ry=\"26\"/>\n<text text-anchor=\"middle\" x=\"62.6\" y=\"-71.3\" font-family=\"Times,serif\" font-size=\"14.00\">6</text>\n</g>\n<!-- 988902a9&#45;0bca&#45;4fda&#45;a2fe&#45;31b9d60d96ae&#45;&gt;6 -->\n<g id=\"edge1\" class=\"edge\">\n<title>988902a9&#45;0bca&#45;4fda&#45;a2fe&#45;31b9d60d96ae&#45;&gt;6</title>\n<g id=\"a_edge1\"><a xlink:title=\"&#45;&gt;6\">\n<path fill=\"none\" stroke=\"black\" d=\"M3.82,-75C7.33,-75 19.36,-75 31.54,-75\"/>\n<polygon fill=\"black\" stroke=\"black\" points=\"31.82,-77.98 40.31,-75 31.81,-72.03 31.82,-77.98\"/>\n</a>\n</g>\n</g>\n<!-- 3 -->\n<g id=\"node3\" class=\"node\">\n<title>3</title>\n<ellipse fill=\"none\" stroke=\"black\" cx=\"145.6\" cy=\"-102\" rx=\"18\" ry=\"18\"/>\n<text text-anchor=\"middle\" x=\"145.6\" y=\"-98.3\" font-family=\"Times,serif\" font-size=\"14.00\">3</text>\n</g>\n<!-- 6&#45;&gt;3 -->\n<g id=\"edge2\" class=\"edge\">\n<title>6&#45;&gt;3</title>\n<path fill=\"none\" stroke=\"black\" d=\"M83.62,-81.67C94.71,-85.37 108.57,-89.99 120.27,-93.89\"/>\n<polygon fill=\"black\" stroke=\"black\" points=\"119.34,-96.71 128.34,-96.58 121.22,-91.07 119.34,-96.71\"/>\n<text text-anchor=\"middle\" x=\"106.1\" y=\"-93.8\" font-family=\"Times,serif\" font-size=\"14.00\">0</text>\n</g>\n<!-- 5 -->\n<g id=\"node4\" class=\"node\">\n<title>5</title>\n<ellipse fill=\"none\" stroke=\"black\" cx=\"145.6\" cy=\"-48\" rx=\"18\" ry=\"18\"/>\n<text text-anchor=\"middle\" x=\"145.6\" y=\"-44.3\" font-family=\"Times,serif\" font-size=\"14.00\">5</text>\n</g>\n<!-- 6&#45;&gt;5 -->\n<g id=\"edge3\" class=\"edge\">\n<title>6&#45;&gt;5</title>\n<path fill=\"none\" stroke=\"black\" d=\"M83.62,-68.33C94.71,-64.63 108.57,-60.01 120.27,-56.11\"/>\n<polygon fill=\"black\" stroke=\"black\" points=\"121.22,-58.93 128.34,-53.42 119.34,-53.29 121.22,-58.93\"/>\n<text text-anchor=\"middle\" x=\"106.1\" y=\"-64.8\" font-family=\"Times,serif\" font-size=\"14.00\">1</text>\n</g>\n<!-- 4 -->\n<g id=\"node5\" class=\"node\">\n<title>4</title>\n<ellipse fill=\"none\" stroke=\"black\" cx=\"228.6\" cy=\"-125\" rx=\"22\" ry=\"22\"/>\n<ellipse fill=\"none\" stroke=\"black\" cx=\"228.6\" cy=\"-125\" rx=\"26\" ry=\"26\"/>\n<text text-anchor=\"middle\" x=\"228.6\" y=\"-121.3\" font-family=\"Times,serif\" font-size=\"14.00\">4</text>\n</g>\n<!-- 3&#45;&gt;4 -->\n<g id=\"edge4\" class=\"edge\">\n<title>3&#45;&gt;4</title>\n<path fill=\"none\" stroke=\"black\" d=\"M162.99,-106.65C173.26,-109.57 186.78,-113.41 198.79,-116.82\"/>\n<polygon fill=\"black\" stroke=\"black\" points=\"198.22,-119.75 207.21,-119.21 199.85,-114.03 198.22,-119.75\"/>\n<text text-anchor=\"middle\" x=\"185.1\" y=\"-116.8\" font-family=\"Times,serif\" font-size=\"14.00\">0</text>\n</g>\n<!-- 2 -->\n<g id=\"node6\" class=\"node\">\n<title>2</title>\n<ellipse fill=\"none\" stroke=\"black\" cx=\"228.6\" cy=\"-61\" rx=\"18\" ry=\"18\"/>\n<text text-anchor=\"middle\" x=\"228.6\" y=\"-57.3\" font-family=\"Times,serif\" font-size=\"14.00\">2</text>\n</g>\n<!-- 5&#45;&gt;2 -->\n<g id=\"edge5\" class=\"edge\">\n<title>5&#45;&gt;2</title>\n<path fill=\"none\" stroke=\"black\" d=\"M163.78,-50.76C174.91,-52.54 189.62,-54.9 202.11,-56.91\"/>\n<polygon fill=\"black\" stroke=\"black\" points=\"201.86,-59.88 210.72,-58.29 202.8,-54.01 201.86,-59.88\"/>\n<text text-anchor=\"middle\" x=\"185.1\" y=\"-57.8\" font-family=\"Times,serif\" font-size=\"14.00\">1</text>\n</g>\n<!-- 4&#45;&gt;3 -->\n<g id=\"edge6\" class=\"edge\">\n<title>4&#45;&gt;3</title>\n<path fill=\"none\" stroke=\"black\" d=\"M213.23,-109.15C206.46,-102.84 197.84,-96.3 188.6,-93 182.94,-90.97 176.68,-91.12 170.76,-92.26\"/>\n<polygon fill=\"black\" stroke=\"black\" points=\"169.85,-89.43 162.43,-94.53 171.41,-95.17 169.85,-89.43\"/>\n<text text-anchor=\"middle\" x=\"185.1\" y=\"-96.8\" font-family=\"Times,serif\" font-size=\"14.00\">0</text>\n</g>\n<!-- 1 -->\n<g id=\"node7\" class=\"node\">\n<title>1</title>\n<ellipse fill=\"none\" stroke=\"black\" cx=\"315.6\" cy=\"-26\" rx=\"22\" ry=\"22\"/>\n<ellipse fill=\"none\" stroke=\"black\" cx=\"315.6\" cy=\"-26\" rx=\"26\" ry=\"26\"/>\n<text text-anchor=\"middle\" x=\"315.6\" y=\"-22.3\" font-family=\"Times,serif\" font-size=\"14.00\">1</text>\n</g>\n<!-- 2&#45;&gt;1 -->\n<g id=\"edge7\" class=\"edge\">\n<title>2&#45;&gt;1</title>\n<path fill=\"none\" stroke=\"black\" d=\"M245.59,-54.42C257.22,-49.63 273.25,-43.02 286.94,-37.39\"/>\n<polygon fill=\"black\" stroke=\"black\" points=\"288.37,-40.02 295.1,-34.03 286.11,-34.51 288.37,-40.02\"/>\n<text text-anchor=\"middle\" x=\"272.1\" y=\"-47.8\" font-family=\"Times,serif\" font-size=\"14.00\">1</text>\n</g>\n<!-- 1&#45;&gt;5 -->\n<g id=\"edge8\" class=\"edge\">\n<title>1&#45;&gt;5</title>\n<path fill=\"none\" stroke=\"black\" d=\"M294.02,-21.19C272.08,-16.87 236.45,-12.16 206.6,-19 193.35,-22.03 179.63,-28.39 168.65,-34.38\"/>\n<polygon fill=\"black\" stroke=\"black\" points=\"167.11,-31.84 161.19,-38.63 170.05,-37.01 167.11,-31.84\"/>\n<text text-anchor=\"middle\" x=\"228.6\" y=\"-22.8\" font-family=\"Times,serif\" font-size=\"14.00\">1</text>\n</g>\n</g>\n</svg>\n",
            "text/plain": [
              "<AGraph <Swig Object of type 'Agraph_t *' at 0x7f528f59d470>>"
            ]
          },
          "metadata": {},
          "execution_count": 148
        }
      ],
      "source": [
        "reg = '(00)*|(111)*'\n",
        "nfa = NFA.from_regex(reg)\n",
        "dfa = DFA.from_nfa(nfa, minify=True)\n",
        "dfa.show_diagram()"
      ]
    }
  ],
  "metadata": {
    "colab": {
      "provenance": [],
      "include_colab_link": true
    },
    "kernelspec": {
      "display_name": "Python 3 (ipykernel)",
      "language": "python",
      "name": "python3"
    },
    "language_info": {
      "codemirror_mode": {
        "name": "ipython",
        "version": 3
      },
      "file_extension": ".py",
      "mimetype": "text/x-python",
      "name": "python",
      "nbconvert_exporter": "python",
      "pygments_lexer": "ipython3",
      "version": "3.7.16"
    }
  },
  "nbformat": 4,
  "nbformat_minor": 0
}