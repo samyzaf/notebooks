{
  "cells": [
    {
      "cell_type": "markdown",
      "metadata": {
        "id": "view-in-github",
        "colab_type": "text"
      },
      "source": [
        "<a href=\"https://colab.research.google.com/github/samyzaf/notebooks/blob/main/ode6.ipynb\" target=\"_parent\"><img src=\"https://colab.research.google.com/assets/colab-badge.svg\" alt=\"Open In Colab\"/></a>"
      ]
    },
    {
      "cell_type": "markdown",
      "metadata": {
        "id": "zo0mZHrOCICt"
      },
      "source": [
        "# Ordinary Differential Equations\n",
        "# Chapter 6: Solutions to exercises\n",
        "\n",
        "<a href=\"https://samyzaf.com/technion/ode/ode.pdf\">\n",
        "<img src=\"https://samyzaf.com/technion/ode/ode2.jpg\" alt=\"ode book cover\"/>\n",
        "</a>\n",
        "\n",
        "* We used Python **Sympy** package for obtaining the final\n",
        "  result for most of the exercises.\n",
        "* This package is still under development, and is not yet\n",
        "  ready to cope with all ode's.\n",
        "* The new site https://mathdf.com seems to be a great source\n",
        "  for obtaining full step-by-step solutions.\n",
        "  Please use it for obtaining full solutions and let us know\n",
        "  if it meets expectations. We will be glad to receive full solutions\n",
        "  and add them here later (sz@samyzaf.com).\n",
        "* This notebook can be edited and executed by clicking\n",
        "  the **open in colab** button.\n",
        "* These are only a small number of solutions.\n",
        "  Hopefully this will encourage students to try to solve more\n",
        "  exercises with similar methods. We will be glad to accept notebooks\n",
        "  with solutions to other exercises in this book.\n",
        "  Please send them to sz@samyzaf.com."
      ]
    },
    {
      "cell_type": "code",
      "execution_count": 1,
      "metadata": {
        "colab": {
          "base_uri": "https://localhost:8080/"
        },
        "id": "M6sQe4JlsK7u",
        "outputId": "5beeed6a-697a-492a-c009-b83fc8d06736"
      },
      "outputs": [
        {
          "output_type": "stream",
          "name": "stdout",
          "text": [
            "Looking in indexes: https://pypi.org/simple, https://us-python.pkg.dev/colab-wheels/public/simple/\n",
            "Requirement already satisfied: sympy in /usr/local/lib/python3.8/dist-packages (1.7.1)\n",
            "Collecting sympy\n",
            "  Downloading sympy-1.11.1-py3-none-any.whl (6.5 MB)\n",
            "\u001b[K     |████████████████████████████████| 6.5 MB 14.7 MB/s \n",
            "\u001b[?25hRequirement already satisfied: mpmath>=0.19 in /usr/local/lib/python3.8/dist-packages (from sympy) (1.2.1)\n",
            "Installing collected packages: sympy\n",
            "  Attempting uninstall: sympy\n",
            "    Found existing installation: sympy 1.7.1\n",
            "    Uninstalling sympy-1.7.1:\n",
            "      Successfully uninstalled sympy-1.7.1\n",
            "Successfully installed sympy-1.11.1\n"
          ]
        }
      ],
      "source": [
        "%pip install --upgrade sympy"
      ]
    },
    {
      "cell_type": "code",
      "execution_count": 2,
      "metadata": {
        "id": "QO4VgM1r1vEy"
      },
      "outputs": [],
      "source": [
        "from sympy import *\n",
        "from sympy.solvers.ode import checkodesol\n",
        "from IPython.display import HTML\n",
        "import matplotlib.pyplot as plt"
      ]
    },
    {
      "cell_type": "markdown",
      "metadata": {
        "id": "YoIKr1sI4NRE"
      },
      "source": [
        "# Example\n",
        "\n",
        "* The following is a simple example of taking a Laplace transform of $f(t)$ and\n",
        "  then using partial fractions to simplify the result.\n",
        "\n",
        "$$\n",
        "f(t) = 2t + 3e^{2t} \\cos 3t\n",
        "$$\n"
      ]
    },
    {
      "cell_type": "code",
      "execution_count": 86,
      "metadata": {
        "colab": {
          "base_uri": "https://localhost:8080/",
          "height": 143
        },
        "id": "FVVNYpnrXxRv",
        "outputId": "4a4063eb-3b28-4759-ec66-ca2065049aee"
      },
      "outputs": [
        {
          "output_type": "stream",
          "name": "stdout",
          "text": [
            "Sympy expression:\n",
            "(3*s**2*(s + 2) + 2*(s + 2)**2 + 18)/(s**2*((s + 2)**2 + 9))\n",
            "\n",
            "Math expression\n"
          ]
        },
        {
          "output_type": "display_data",
          "data": {
            "text/plain": [
              "(3*s**2*(s + 2) + 2*(s + 2)**2 + 18)/(s**2*((s + 2)**2 + 9))"
            ],
            "text/latex": "$\\displaystyle \\frac{3 s^{2} \\left(s + 2\\right) + 2 \\left(s + 2\\right)^{2} + 18}{s^{2} \\left(\\left(s + 2\\right)^{2} + 9\\right)}$"
          },
          "metadata": {}
        }
      ],
      "source": [
        "s,t = symbols(\"s,t\")\n",
        "f = 2*t + 3*exp(-2*t) * cos(3*t)\n",
        "F = laplace_transform(f, t, s, noconds=True)\n",
        "print(\"Sympy expression:\")\n",
        "print(F)\n",
        "print(\"\\nMath expression\")\n",
        "display(F)"
      ]
    },
    {
      "cell_type": "code",
      "source": [
        "expand(F)"
      ],
      "metadata": {
        "colab": {
          "base_uri": "https://localhost:8080/",
          "height": 55
        },
        "id": "5RSF9RYiCliP",
        "outputId": "7c3e8631-1adc-4d61-9b85-de89371895a5"
      },
      "execution_count": 87,
      "outputs": [
        {
          "output_type": "execute_result",
          "data": {
            "text/plain": [
              "3*s**3/(s**4 + 4*s**3 + 13*s**2) + 8*s**2/(s**4 + 4*s**3 + 13*s**2) + 8*s/(s**4 + 4*s**3 + 13*s**2) + 26/(s**4 + 4*s**3 + 13*s**2)"
            ],
            "text/latex": "$\\displaystyle \\frac{3 s^{3}}{s^{4} + 4 s^{3} + 13 s^{2}} + \\frac{8 s^{2}}{s^{4} + 4 s^{3} + 13 s^{2}} + \\frac{8 s}{s^{4} + 4 s^{3} + 13 s^{2}} + \\frac{26}{s^{4} + 4 s^{3} + 13 s^{2}}$"
          },
          "metadata": {},
          "execution_count": 87
        }
      ]
    },
    {
      "cell_type": "code",
      "execution_count": 89,
      "metadata": {
        "colab": {
          "base_uri": "https://localhost:8080/",
          "height": 54
        },
        "id": "aNcH72F6XxRw",
        "outputId": "7d9e149b-4ed4-4b34-eb4c-441fac4aede7"
      },
      "outputs": [
        {
          "output_type": "display_data",
          "data": {
            "text/plain": [
              "3*(s + 2)/(s**2 + 4*s + 13) + 2/s**2"
            ],
            "text/latex": "$\\displaystyle \\frac{3 \\left(s + 2\\right)}{s^{2} + 4 s + 13} + \\frac{2}{s^{2}}$"
          },
          "metadata": {}
        }
      ],
      "source": [
        "# Partial Fractions:\n",
        "F = polys.partfrac.apart(F)\n",
        "display(F)"
      ]
    },
    {
      "cell_type": "code",
      "source": [
        "expand(F)"
      ],
      "metadata": {
        "colab": {
          "base_uri": "https://localhost:8080/",
          "height": 52
        },
        "id": "itgJZ9jbC0Vv",
        "outputId": "0e994c08-48b5-461c-8710-f91ec259d0f9"
      },
      "execution_count": 90,
      "outputs": [
        {
          "output_type": "execute_result",
          "data": {
            "text/plain": [
              "3*s/(s**2 + 4*s + 13) + 6/(s**2 + 4*s + 13) + 2/s**2"
            ],
            "text/latex": "$\\displaystyle \\frac{3 s}{s^{2} + 4 s + 13} + \\frac{6}{s^{2} + 4 s + 13} + \\frac{2}{s^{2}}$"
          },
          "metadata": {},
          "execution_count": 90
        }
      ]
    },
    {
      "cell_type": "markdown",
      "metadata": {
        "id": "7kZIkO5nXxRx"
      },
      "source": [
        "# Exercise 6.2\n",
        "\n",
        "$f(t) =\n",
        "\\sin t \\ (0 \\leq t \\leq 2\\pi),\n",
        "\\quad 0 \\ (2\\pi < t)\n",
        "$\n"
      ]
    },
    {
      "cell_type": "code",
      "execution_count": 5,
      "metadata": {
        "colab": {
          "base_uri": "https://localhost:8080/",
          "height": 74
        },
        "id": "NZnh7uRSHpf3",
        "outputId": "4160bd83-7bcc-4385-86cb-acc9ee84f194"
      },
      "outputs": [
        {
          "output_type": "stream",
          "name": "stdout",
          "text": [
            "(2*exp(2*pi*s) - 2)*exp(-2*pi*s)/(s**2 + 4)\n"
          ]
        },
        {
          "output_type": "display_data",
          "data": {
            "text/plain": [
              "(2*exp(2*pi*s) - 2)*exp(-2*pi*s)/(s**2 + 4)"
            ],
            "text/latex": "$\\displaystyle \\frac{\\left(2 e^{2 \\pi s} - 2\\right) e^{- 2 \\pi s}}{s^{2} + 4}$"
          },
          "metadata": {}
        }
      ],
      "source": [
        "t = symbols(\"t\", real=True, positive=True)\n",
        "s = symbols(\"s\", real=True)\n",
        "\n",
        "f = Piecewise((0, t < 0), (sin(2*t), t<=2*pi), (0, True))\n",
        "    \n",
        "T = laplace_transform(f, t, s, noconds=True)\n",
        "print(T)\n",
        "display(T)"
      ]
    },
    {
      "cell_type": "markdown",
      "metadata": {
        "id": "ZyFYRsm34NRO"
      },
      "source": [
        "# Exercise 6.4\n",
        "\n",
        "$f(t) = \\\\\n",
        " 1,    \\quad    0 \\leq t \\leq 2   \\\\\n",
        "-1,    \\quad    2 < t \\leq 4\n",
        "$"
      ]
    },
    {
      "cell_type": "code",
      "execution_count": 6,
      "metadata": {
        "colab": {
          "base_uri": "https://localhost:8080/",
          "height": 88
        },
        "id": "pta_vjpo4NRQ",
        "outputId": "55d8bc70-6c5f-4cef-8158-9cada7e2c710"
      },
      "outputs": [
        {
          "output_type": "stream",
          "name": "stdout",
          "text": [
            "Piecewise(((exp(4*s) - 2*exp(2*s) + 1)*exp(-4*s)/s, (s > 0) | (s < 0)), (0, True))\n"
          ]
        },
        {
          "output_type": "display_data",
          "data": {
            "text/plain": [
              "Piecewise(((exp(4*s) - 2*exp(2*s) + 1)*exp(-4*s)/s, (s > 0) | (s < 0)), (0, True))"
            ],
            "text/latex": "$\\displaystyle \\begin{cases} \\frac{\\left(e^{4 s} - 2 e^{2 s} + 1\\right) e^{- 4 s}}{s} & \\text{for}\\: s > 0 \\vee s < 0 \\\\0 & \\text{otherwise} \\end{cases}$"
          },
          "metadata": {}
        }
      ],
      "source": [
        "t = symbols(\"t\", real=True, positive=True)\n",
        "s = symbols(\"s\", real=True)\n",
        "    \n",
        "f = Piecewise((1, t<=2), (-1, t<=4), (0, True))\n",
        "#? f = sign(2-(t%4)) # This is probably not what was meant ?!\n",
        "    \n",
        "T = laplace_transform(f, t, s, noconds=True)\n",
        "print(T)\n",
        "display(T)"
      ]
    },
    {
      "cell_type": "code",
      "execution_count": 7,
      "metadata": {
        "colab": {
          "base_uri": "https://localhost:8080/",
          "height": 54
        },
        "id": "Jt1h8PWLZ05u",
        "outputId": "e5742ced-8ecb-4197-aae4-62262a24daba"
      },
      "outputs": [
        {
          "output_type": "execute_result",
          "data": {
            "text/plain": [
              "1/s - 2*exp(-2*s)/s + exp(-4*s)/s"
            ],
            "text/latex": "$\\displaystyle \\frac{1}{s} - \\frac{2 e^{- 2 s}}{s} + \\frac{e^{- 4 s}}{s}$"
          },
          "metadata": {},
          "execution_count": 7
        }
      ],
      "source": [
        "F= (exp(4*s) - 2*exp(2*s) + 1)*exp(-4*s)/s\n",
        "expand(F)"
      ]
    },
    {
      "cell_type": "markdown",
      "metadata": {
        "id": "4SP199FvXxR1"
      },
      "source": [
        "* It's not clear if this is equal to $\\tanh(s)/s$ !?\n",
        "* Probably the problem is missing somethin!? It does not specify anything about $t>4$ ..."
      ]
    },
    {
      "cell_type": "markdown",
      "metadata": {
        "id": "poUTpkjx4NRR"
      },
      "source": [
        "# Exercise 6.5.1\n",
        "\n",
        "$e^{-t} \\cos 2t$"
      ]
    },
    {
      "cell_type": "code",
      "execution_count": 8,
      "metadata": {
        "colab": {
          "base_uri": "https://localhost:8080/",
          "height": 58
        },
        "id": "lVU3PItM4NRT",
        "outputId": "07f7b704-30d0-4803-a776-201cdcc71fdf"
      },
      "outputs": [
        {
          "output_type": "display_data",
          "data": {
            "text/plain": [
              "(s + 1)/((s + 1)**2 + 1)"
            ],
            "text/latex": "$\\displaystyle \\frac{s + 1}{\\left(s + 1\\right)^{2} + 1}$"
          },
          "metadata": {}
        }
      ],
      "source": [
        "t = symbols(\"t\", real=True, positive=True)\n",
        "s = symbols(\"s\", real=True)\n",
        "\n",
        "f = exp(-t) * cos(t)\n",
        "F = laplace_transform(f, t, s, noconds=True)\n",
        "display(F)"
      ]
    },
    {
      "cell_type": "code",
      "execution_count": 9,
      "metadata": {
        "colab": {
          "base_uri": "https://localhost:8080/",
          "height": 52
        },
        "id": "9kJeTe7sZUrr",
        "outputId": "83a8f962-9262-464e-93f9-8c8fda517089"
      },
      "outputs": [
        {
          "output_type": "execute_result",
          "data": {
            "text/plain": [
              "(s + 1)/(s**2 + 2*s + 2)"
            ],
            "text/latex": "$\\displaystyle \\frac{s + 1}{s^{2} + 2 s + 2}$"
          },
          "metadata": {},
          "execution_count": 9
        }
      ],
      "source": [
        "polys.partfrac.apart(F)"
      ]
    },
    {
      "cell_type": "markdown",
      "metadata": {
        "id": "nESqAJ_O4NRU"
      },
      "source": [
        "# Exercise 6.5.2\n",
        "\n",
        "$e^{-4t} \\cosh 2t$\n"
      ]
    },
    {
      "cell_type": "code",
      "execution_count": 10,
      "metadata": {
        "colab": {
          "base_uri": "https://localhost:8080/",
          "height": 58
        },
        "id": "q0_RWXtb4NRV",
        "outputId": "c56655e6-ecaf-4568-c2b1-e19932ac8c1e"
      },
      "outputs": [
        {
          "output_type": "display_data",
          "data": {
            "text/plain": [
              "(s + 4)/((s + 4)**2 - 4)"
            ],
            "text/latex": "$\\displaystyle \\frac{s + 4}{\\left(s + 4\\right)^{2} - 4}$"
          },
          "metadata": {}
        }
      ],
      "source": [
        "t = symbols(\"t\", real=True, positive=True)\n",
        "s = symbols(\"s\", real=True)\n",
        "\n",
        "f = exp(-4*t) * cosh(2*t)\n",
        "F = laplace_transform(f, t, s, noconds=True)\n",
        "display(F)"
      ]
    },
    {
      "cell_type": "code",
      "execution_count": 11,
      "metadata": {
        "colab": {
          "base_uri": "https://localhost:8080/",
          "height": 55
        },
        "id": "qYU-EHpXXxR4",
        "outputId": "077cf5e0-a347-4958-c6d4-2bc10258de9b"
      },
      "outputs": [
        {
          "output_type": "execute_result",
          "data": {
            "text/plain": [
              "1/(2*(s + 6)) + 1/(2*(s + 2))"
            ],
            "text/latex": "$\\displaystyle \\frac{1}{2 \\left(s + 6\\right)} + \\frac{1}{2 \\left(s + 2\\right)}$"
          },
          "metadata": {},
          "execution_count": 11
        }
      ],
      "source": [
        "polys.partfrac.apart(F)"
      ]
    },
    {
      "cell_type": "markdown",
      "metadata": {
        "id": "XsmZ4uTU4NRW"
      },
      "source": [
        "# Exercise 6.5.3\n",
        "\n",
        "$(t^2+1)^2$\n"
      ]
    },
    {
      "cell_type": "code",
      "execution_count": 12,
      "metadata": {
        "colab": {
          "base_uri": "https://localhost:8080/",
          "height": 54
        },
        "id": "aAmznmFK4NRX",
        "outputId": "fde12bb4-1bd6-4b56-9c27-691f982def03"
      },
      "outputs": [
        {
          "output_type": "display_data",
          "data": {
            "text/plain": [
              "(s**4 + 4*s**2 + 24)/s**5"
            ],
            "text/latex": "$\\displaystyle \\frac{s^{4} + 4 s^{2} + 24}{s^{5}}$"
          },
          "metadata": {}
        }
      ],
      "source": [
        "t = symbols(\"t\", real=True, positive=True)\n",
        "s = symbols(\"s\", real=True)\n",
        "\n",
        "f = (t**2 + 1)**2\n",
        "F = laplace_transform(f, t, s, noconds=True)\n",
        "display(F)"
      ]
    },
    {
      "cell_type": "code",
      "execution_count": 13,
      "metadata": {
        "colab": {
          "base_uri": "https://localhost:8080/",
          "height": 51
        },
        "id": "3Yqnne3GXxR6",
        "outputId": "1839fd91-74ba-40cb-b91e-44fbab3dfb97"
      },
      "outputs": [
        {
          "output_type": "execute_result",
          "data": {
            "text/plain": [
              "1/s + 4/s**3 + 24/s**5"
            ],
            "text/latex": "$\\displaystyle \\frac{1}{s} + \\frac{4}{s^{3}} + \\frac{24}{s^{5}}$"
          },
          "metadata": {},
          "execution_count": 13
        }
      ],
      "source": [
        "polys.partfrac.apart(F)"
      ]
    },
    {
      "cell_type": "markdown",
      "metadata": {
        "id": "hjueVl8n4NRZ"
      },
      "source": [
        "# Exercise 6.5.4\n",
        "\n",
        "$3 \\cosh t - 4\\sinh 5t$\n"
      ]
    },
    {
      "cell_type": "code",
      "execution_count": 14,
      "metadata": {
        "colab": {
          "base_uri": "https://localhost:8080/",
          "height": 52
        },
        "id": "ToRZvmw84NRZ",
        "outputId": "3a59f7e4-fbf7-46e4-c60e-2582921d78ff"
      },
      "outputs": [
        {
          "output_type": "display_data",
          "data": {
            "text/plain": [
              "3*s/(s**2 - 1) - 20/(s**2 - 25)"
            ],
            "text/latex": "$\\displaystyle \\frac{3 s}{s^{2} - 1} - \\frac{20}{s^{2} - 25}$"
          },
          "metadata": {}
        }
      ],
      "source": [
        "t = symbols(\"t\", real=True, positive=True)\n",
        "s = symbols(\"s\", real=True)\n",
        "\n",
        "f = 3*cosh(t) - 4*sinh(5*t)\n",
        "F = laplace_transform(f, t, s, noconds=True)\n",
        "display(F)"
      ]
    },
    {
      "cell_type": "code",
      "execution_count": 15,
      "metadata": {
        "colab": {
          "base_uri": "https://localhost:8080/",
          "height": 55
        },
        "id": "R8vU5f33XxR7",
        "outputId": "ceeb9eac-5e20-4804-b628-db378b47af33"
      },
      "outputs": [
        {
          "output_type": "execute_result",
          "data": {
            "text/plain": [
              "2/(s + 5) + 3/(2*(s + 1)) + 3/(2*(s - 1)) - 2/(s - 5)"
            ],
            "text/latex": "$\\displaystyle \\frac{2}{s + 5} + \\frac{3}{2 \\left(s + 1\\right)} + \\frac{3}{2 \\left(s - 1\\right)} - \\frac{2}{s - 5}$"
          },
          "metadata": {},
          "execution_count": 15
        }
      ],
      "source": [
        "polys.partfrac.apart(F)"
      ]
    },
    {
      "cell_type": "markdown",
      "metadata": {
        "id": "ZCi3ZoFI4NRa"
      },
      "source": [
        "# Exercise 6.5.5\n",
        "\n",
        "$t^n \\sin t$"
      ]
    },
    {
      "cell_type": "code",
      "execution_count": 16,
      "metadata": {
        "colab": {
          "base_uri": "https://localhost:8080/",
          "height": 59
        },
        "id": "LZ9Zy66h4NRb",
        "outputId": "03abc7bd-1a46-4f33-915b-f5715b2af320"
      },
      "outputs": [
        {
          "output_type": "display_data",
          "data": {
            "text/plain": [
              "-I*(s**2 + 1)**(-n - 1)*(-s*(s - I)**n + s*(s + I)**n + I*(s - I)**n + I*(s + I)**n)*factorial(n)/2"
            ],
            "text/latex": "$\\displaystyle - \\frac{i \\left(s^{2} + 1\\right)^{- n - 1} \\left(- s \\left(s - i\\right)^{n} + s \\left(s + i\\right)^{n} + i \\left(s - i\\right)^{n} + i \\left(s + i\\right)^{n}\\right) n!}{2}$"
          },
          "metadata": {}
        }
      ],
      "source": [
        "t = symbols(\"t\", real=True, positive=True)\n",
        "s = symbols(\"s\", real=True)\n",
        "n = symbols(\"n\", integer=True, positive=True)\n",
        "\n",
        "f = t**n * sin(t)\n",
        "F = laplace_transform(f, t, s, noconds=True)\n",
        "display(F)"
      ]
    },
    {
      "cell_type": "code",
      "execution_count": 17,
      "metadata": {
        "colab": {
          "base_uri": "https://localhost:8080/",
          "height": 58
        },
        "id": "zUAs3v6vXxR8",
        "outputId": "c58e5384-db29-435f-d813-5ff8ec3c81e1"
      },
      "outputs": [
        {
          "output_type": "execute_result",
          "data": {
            "text/plain": [
              "I*s*(s - I)**n*factorial(n)/(2*s**2*(s**2 + 1)**n + 2*(s**2 + 1)**n) - I*s*(s + I)**n*factorial(n)/(2*s**2*(s**2 + 1)**n + 2*(s**2 + 1)**n) + (s - I)**n*factorial(n)/(2*s**2*(s**2 + 1)**n + 2*(s**2 + 1)**n) + (s + I)**n*factorial(n)/(2*s**2*(s**2 + 1)**n + 2*(s**2 + 1)**n)"
            ],
            "text/latex": "$\\displaystyle \\frac{i s \\left(s - i\\right)^{n} n!}{2 s^{2} \\left(s^{2} + 1\\right)^{n} + 2 \\left(s^{2} + 1\\right)^{n}} - \\frac{i s \\left(s + i\\right)^{n} n!}{2 s^{2} \\left(s^{2} + 1\\right)^{n} + 2 \\left(s^{2} + 1\\right)^{n}} + \\frac{\\left(s - i\\right)^{n} n!}{2 s^{2} \\left(s^{2} + 1\\right)^{n} + 2 \\left(s^{2} + 1\\right)^{n}} + \\frac{\\left(s + i\\right)^{n} n!}{2 s^{2} \\left(s^{2} + 1\\right)^{n} + 2 \\left(s^{2} + 1\\right)^{n}}$"
          },
          "metadata": {},
          "execution_count": 17
        }
      ],
      "source": [
        "expand(F)"
      ]
    },
    {
      "cell_type": "markdown",
      "metadata": {
        "id": "v_C2mMNjXxR9"
      },
      "source": [
        "* Sometimes it's better to look at specific examples:"
      ]
    },
    {
      "cell_type": "code",
      "execution_count": 18,
      "metadata": {
        "colab": {
          "base_uri": "https://localhost:8080/",
          "height": 58
        },
        "id": "vvWX0aY8XxR9",
        "outputId": "68e2eb78-4498-4452-9bf3-409280883fbe"
      },
      "outputs": [
        {
          "output_type": "display_data",
          "data": {
            "text/plain": [
              "12*I/(s + I)**5 - 12*I/(s - I)**5"
            ],
            "text/latex": "$\\displaystyle \\frac{12 i}{\\left(s + i\\right)^{5}} - \\frac{12 i}{\\left(s - i\\right)^{5}}$"
          },
          "metadata": {}
        }
      ],
      "source": [
        "f = t**4 * sin(t)\n",
        "F = laplace_transform(f, t, s, noconds=True)\n",
        "display(F)"
      ]
    },
    {
      "cell_type": "code",
      "execution_count": 19,
      "metadata": {
        "colab": {
          "base_uri": "https://localhost:8080/",
          "height": 58
        },
        "id": "G8uv6qjNXxR9",
        "outputId": "9dc43a65-de71-48cc-8fbf-8a951f11095c"
      },
      "outputs": [
        {
          "output_type": "display_data",
          "data": {
            "text/plain": [
              "60*I/(s + I)**6 - 60*I/(s - I)**6"
            ],
            "text/latex": "$\\displaystyle \\frac{60 i}{\\left(s + i\\right)^{6}} - \\frac{60 i}{\\left(s - i\\right)^{6}}$"
          },
          "metadata": {}
        }
      ],
      "source": [
        "f = t**5 * sin(t)\n",
        "F = laplace_transform(f, t, s, noconds=True)\n",
        "display(F)"
      ]
    },
    {
      "cell_type": "code",
      "execution_count": 20,
      "metadata": {
        "colab": {
          "base_uri": "https://localhost:8080/",
          "height": 58
        },
        "id": "0_AHqIF0XxR-",
        "outputId": "04c6e039-39f0-410e-a468-78da69763665"
      },
      "outputs": [
        {
          "output_type": "display_data",
          "data": {
            "text/plain": [
              "360*I/(s + I)**7 - 360*I/(s - I)**7"
            ],
            "text/latex": "$\\displaystyle \\frac{360 i}{\\left(s + i\\right)^{7}} - \\frac{360 i}{\\left(s - i\\right)^{7}}$"
          },
          "metadata": {}
        }
      ],
      "source": [
        "f = t**6 * sin(t)\n",
        "F = laplace_transform(f, t, s, noconds=True)\n",
        "display(F)"
      ]
    },
    {
      "cell_type": "code",
      "execution_count": 21,
      "metadata": {
        "colab": {
          "base_uri": "https://localhost:8080/",
          "height": 58
        },
        "id": "JKycWFKVXxR-",
        "outputId": "61a2fa79-d0e5-4fde-b41a-9d7f001c9fbb"
      },
      "outputs": [
        {
          "output_type": "display_data",
          "data": {
            "text/plain": [
              "2520*I/(s + I)**8 - 2520*I/(s - I)**8"
            ],
            "text/latex": "$\\displaystyle \\frac{2520 i}{\\left(s + i\\right)^{8}} - \\frac{2520 i}{\\left(s - i\\right)^{8}}$"
          },
          "metadata": {}
        }
      ],
      "source": [
        "f = t**7 * sin(t)\n",
        "F = laplace_transform(f, t, s, noconds=True)\n",
        "display(F)"
      ]
    },
    {
      "cell_type": "markdown",
      "metadata": {
        "id": "WOh-G_fmXxR-"
      },
      "source": [
        "* Looks like the shortest general formula is:\n",
        "\n",
        "$\\displaystyle\n",
        "\\frac{in!}{2(s+i)^{n+1}}\n",
        "-\n",
        "\\frac{in!}{2(s-i)^{n+1}}\n",
        "$"
      ]
    },
    {
      "cell_type": "markdown",
      "metadata": {
        "id": "9PGQ_yxX4NRd"
      },
      "source": [
        "# Exercise 6.5.6\n",
        "\n",
        "$\\dfrac{1}{(t-a)(t-b)}$"
      ]
    },
    {
      "cell_type": "code",
      "execution_count": 22,
      "metadata": {
        "colab": {
          "base_uri": "https://localhost:8080/",
          "height": 58
        },
        "id": "jEJmLcwk4NRd",
        "outputId": "856ebc59-d9ee-47b2-9ea5-4ca120cb3c03"
      },
      "outputs": [
        {
          "output_type": "display_data",
          "data": {
            "text/plain": [
              "LaplaceTransform(1/(a*b - a*t - b*t + t**2), t, s)"
            ],
            "text/latex": "$\\displaystyle \\mathcal{L}_{t}\\left[\\frac{1}{a b - a t - b t + t^{2}}\\right]\\left(s\\right)$"
          },
          "metadata": {}
        }
      ],
      "source": [
        "t = symbols(\"t\", real=True, positive=True)\n",
        "s = symbols(\"s\", real=True)\n",
        "a,b = symbols(\"a b\", real=True)\n",
        "f = 1 / ((t-a)*(t-b))\n",
        "F = laplace_transform(f, t, s, noconds=True)\n",
        "display(F)"
      ]
    },
    {
      "cell_type": "markdown",
      "metadata": {
        "id": "8GixvyUqXxR_"
      },
      "source": [
        "* As we see, Sympy 1.11.1 fails to give a meaningful result.\n",
        "* In such cases it's worth trying some specific cases of the general\n",
        "  problem and help Sympy with partial fractions ..."
      ]
    },
    {
      "cell_type": "code",
      "execution_count": 23,
      "metadata": {
        "colab": {
          "base_uri": "https://localhost:8080/",
          "height": 73
        },
        "id": "iFxEPUI3fwgn",
        "outputId": "167927e1-ed7b-415a-ca40-253219e4190d"
      },
      "outputs": [
        {
          "output_type": "stream",
          "name": "stdout",
          "text": [
            "-1/(4*(t + 7)) + 1/(4*(t + 3))\n"
          ]
        },
        {
          "output_type": "display_data",
          "data": {
            "text/plain": [
              "-1/(4*(t + 7)) + 1/(4*(t + 3))"
            ],
            "text/latex": "$\\displaystyle - \\frac{1}{4 \\left(t + 7\\right)} + \\frac{1}{4 \\left(t + 3\\right)}$"
          },
          "metadata": {}
        }
      ],
      "source": [
        "f = 1 / ((t+3)*(t+7))\n",
        "f2 = polys.partfrac.apart(f)\n",
        "print(f2)\n",
        "display(f2)"
      ]
    },
    {
      "cell_type": "code",
      "execution_count": 24,
      "metadata": {
        "colab": {
          "base_uri": "https://localhost:8080/",
          "height": 73
        },
        "id": "872Vf4FoXxSA",
        "outputId": "9ac22eb2-e809-4257-c09b-bc8afc5e183c"
      },
      "outputs": [
        {
          "output_type": "stream",
          "name": "stdout",
          "text": [
            "(-exp(4*s)*Ei(-3*s) + Ei(-7*s))*exp(-7*s)/4\n"
          ]
        },
        {
          "output_type": "display_data",
          "data": {
            "text/plain": [
              "(-exp(4*s)*Ei(-3*s) + Ei(-7*s))*exp(-7*s)/4"
            ],
            "text/latex": "$\\displaystyle \\frac{\\left(- e^{4 s} \\operatorname{Ei}{\\left(- 3 s \\right)} + \\operatorname{Ei}{\\left(- 7 s \\right)}\\right) e^{- 7 s}}{4}$"
          },
          "metadata": {}
        }
      ],
      "source": [
        "F = laplace_transform(f2, t, s, noconds=True)\n",
        "print(F)\n",
        "display(F)"
      ]
    },
    {
      "cell_type": "markdown",
      "metadata": {
        "id": "i8mTQdZTXxSA"
      },
      "source": [
        "The function Ei is\n",
        "\n",
        "$\\displaystyle\n",
        "\\operatorname{Ei}(x)\n",
        "=\n",
        "\\sum_{n=1}^\\infty \\frac{x^n}{n\\, n!}\n",
        "+ \\log(x) + \\gamma\n",
        "=\n",
        "\\int_{-\\infty}^x \\frac{e^t}{t} \\mathrm{d}t\n",
        "\\\\\n",
        "\\gamma = \\text{Euler Constant}\n",
        "$"
      ]
    },
    {
      "cell_type": "markdown",
      "metadata": {
        "id": "wpOgBOudXxSA"
      },
      "source": [
        "* This exercise probably exceeds the level required for this course and should be dropped\n",
        "  if no basic solution is found."
      ]
    },
    {
      "cell_type": "markdown",
      "metadata": {
        "id": "xdFm4Isz4NRe"
      },
      "source": [
        "# Exercise 6.5.7\n",
        "\n",
        "$\\dfrac{3}{2t-1}$"
      ]
    },
    {
      "cell_type": "code",
      "execution_count": 25,
      "metadata": {
        "colab": {
          "base_uri": "https://localhost:8080/",
          "height": 56
        },
        "id": "RdIBmV9V4NRe",
        "outputId": "6b677f2b-a336-420c-8d44-b644477e1aca"
      },
      "outputs": [
        {
          "output_type": "display_data",
          "data": {
            "text/plain": [
              "-3*exp(s/2)*Ei(s/2)/2"
            ],
            "text/latex": "$\\displaystyle - \\frac{3 e^{\\frac{s}{2}} \\operatorname{Ei}{\\left(\\frac{s}{2} \\right)}}{2}$"
          },
          "metadata": {}
        }
      ],
      "source": [
        "t = symbols(\"t\", real=True, positive=True)\n",
        "s = symbols(\"s\", real=True)\n",
        "f = 3 / (2*t - 1)\n",
        "F = laplace_transform(f, t, s, noconds=True)\n",
        "display(F)"
      ]
    },
    {
      "cell_type": "markdown",
      "metadata": {
        "id": "HdBCeA3DXxSB"
      },
      "source": [
        "* This exercise probably exceeds the level required for this course and should be dropped\n",
        "  if no basic solution is found."
      ]
    },
    {
      "cell_type": "markdown",
      "metadata": {
        "id": "qvZ_rgOD4NRh"
      },
      "source": [
        "# Exercise 6.6.1\n",
        "\n",
        "$\n",
        "f(t) = \\\\\n",
        "1,  \\ 0\\leq t < 1 \\\\\n",
        "0,  \\ 1\\leq t < 2 \\\\\n",
        "1,  \\ 2\\leq t < 3 \\\\\n",
        "0,  \\ 3\\leq t<\\infty\n",
        "$\n",
        "\n"
      ]
    },
    {
      "cell_type": "code",
      "execution_count": 26,
      "metadata": {
        "colab": {
          "base_uri": "https://localhost:8080/",
          "height": 73
        },
        "id": "S6r9SRWr4NRh",
        "outputId": "43418199-97af-4e0b-bf15-a987c166bdcf"
      },
      "outputs": [
        {
          "output_type": "stream",
          "name": "stdout",
          "text": [
            "(-(1 - exp(s))*exp(2*s) + exp(s) - 1)*exp(-3*s)/s\n"
          ]
        },
        {
          "output_type": "display_data",
          "data": {
            "text/plain": [
              "(-(1 - exp(s))*exp(2*s) + exp(s) - 1)*exp(-3*s)/s"
            ],
            "text/latex": "$\\displaystyle \\frac{\\left(- \\left(1 - e^{s}\\right) e^{2 s} + e^{s} - 1\\right) e^{- 3 s}}{s}$"
          },
          "metadata": {}
        }
      ],
      "source": [
        "t = symbols(\"t\", real=True, positive=True)\n",
        "s = symbols(\"s\", real=True)\n",
        "    \n",
        "f = Heaviside(1-t) + Heaviside(t-2) - Heaviside(t-3)\n",
        "F = laplace_transform(f, t, s, noconds=True)\n",
        "print(F)\n",
        "display(F)"
      ]
    },
    {
      "cell_type": "code",
      "execution_count": 27,
      "metadata": {
        "colab": {
          "base_uri": "https://localhost:8080/",
          "height": 54
        },
        "id": "A1onUSKCBjTe",
        "outputId": "e5992821-098f-4348-c2e8-08c8011c8a45"
      },
      "outputs": [
        {
          "output_type": "execute_result",
          "data": {
            "text/plain": [
              "1/s - exp(-s)/s + exp(-2*s)/s - exp(-3*s)/s"
            ],
            "text/latex": "$\\displaystyle \\frac{1}{s} - \\frac{e^{- s}}{s} + \\frac{e^{- 2 s}}{s} - \\frac{e^{- 3 s}}{s}$"
          },
          "metadata": {},
          "execution_count": 27
        }
      ],
      "source": [
        "expand(F)"
      ]
    },
    {
      "cell_type": "markdown",
      "metadata": {
        "id": "u2UBzp-9BjTf"
      },
      "source": [
        "* We can validate our expression of $f(t)$ in terms of `Heaviside`\n",
        "  functions by plotting the graph of $f(t)$."
      ]
    },
    {
      "cell_type": "code",
      "execution_count": 28,
      "metadata": {
        "colab": {
          "base_uri": "https://localhost:8080/",
          "height": 313
        },
        "id": "BPsyU7A6BjTf",
        "outputId": "7ce4658f-93c3-483a-aee1-ed4566e59e75"
      },
      "outputs": [
        {
          "output_type": "display_data",
          "data": {
            "text/plain": [
              "<Figure size 432x288 with 1 Axes>"
            ],
            "image/png": "[encoded data removed]"
          },
          "metadata": {
            "needs_background": "light"
          }
        },
        {
          "output_type": "execute_result",
          "data": {
            "text/plain": [
              "<sympy.plotting.plot.Plot at 0x7fb1c76db250>"
            ]
          },
          "metadata": {},
          "execution_count": 28
        }
      ],
      "source": [
        "plot(f, (t,0,7))"
      ]
    },
    {
      "cell_type": "markdown",
      "metadata": {
        "id": "UXV85sGG4NRi"
      },
      "source": [
        "# Exercise 6.6.2\n",
        "\n",
        "$\n",
        "f(t) = \\\\\n",
        "1,        \\quad  0\\leq t < 2 \\\\\n",
        "(t-2)^2,  \\quad  2\\leq t < \\infty\n",
        "$\n"
      ]
    },
    {
      "cell_type": "code",
      "execution_count": 29,
      "metadata": {
        "colab": {
          "base_uri": "https://localhost:8080/",
          "height": 56
        },
        "id": "c2UUcyrY4NRj",
        "outputId": "6ccfffdb-2c61-4f95-e7b1-10111e0804fb"
      },
      "outputs": [
        {
          "output_type": "display_data",
          "data": {
            "text/plain": [
              "(-s**2*(1 - exp(2*s)) + 2)*exp(-2*s)/s**3"
            ],
            "text/latex": "$\\displaystyle \\frac{\\left(- s^{2} \\cdot \\left(1 - e^{2 s}\\right) + 2\\right) e^{- 2 s}}{s^{3}}$"
          },
          "metadata": {}
        }
      ],
      "source": [
        "s,t = symbols(\"s t\", real=True)\n",
        "    \n",
        "f = Heaviside(2-t) + Heaviside(t-2) * (t-2)**2\n",
        "F = laplace_transform(f, t, s, noconds=True)\n",
        "display(F)"
      ]
    },
    {
      "cell_type": "code",
      "execution_count": 30,
      "metadata": {
        "colab": {
          "base_uri": "https://localhost:8080/",
          "height": 54
        },
        "id": "VXnW-vFFBjTf",
        "outputId": "94d5ad16-bb06-4af7-9545-7b3e83f745e4"
      },
      "outputs": [
        {
          "output_type": "execute_result",
          "data": {
            "text/plain": [
              "1/s - exp(-2*s)/s + 2*exp(-2*s)/s**3"
            ],
            "text/latex": "$\\displaystyle \\frac{1}{s} - \\frac{e^{- 2 s}}{s} + \\frac{2 e^{- 2 s}}{s^{3}}$"
          },
          "metadata": {},
          "execution_count": 30
        }
      ],
      "source": [
        "expand(F)"
      ]
    },
    {
      "cell_type": "markdown",
      "metadata": {
        "id": "zEONyFsxYpYz",
        "outputId": "0a4a9ca9-64bc-478c-e347-e61e98abd3ea"
      },
      "source": [
        "* We can validate our expression of $f(t)$ in terms of `Heaviside`\n",
        "  functions by plotting the graph of $f(t)$."
      ]
    },
    {
      "cell_type": "code",
      "execution_count": 31,
      "metadata": {
        "colab": {
          "base_uri": "https://localhost:8080/",
          "height": 313
        },
        "id": "fbVJHdwIBjTg",
        "outputId": "7746d918-a0a6-4221-e8f0-7e399105a71f"
      },
      "outputs": [
        {
          "output_type": "display_data",
          "data": {
            "text/plain": [
              "<Figure size 432x288 with 1 Axes>"
            ],
            "image/png": "[encoded data removed]"
          },
          "metadata": {
            "needs_background": "light"
          }
        },
        {
          "output_type": "execute_result",
          "data": {
            "text/plain": [
              "<sympy.plotting.plot.Plot at 0x7fb1c748f2b0>"
            ]
          },
          "metadata": {},
          "execution_count": 31
        }
      ],
      "source": [
        "plot(f, (t,0,5))"
      ]
    },
    {
      "cell_type": "markdown",
      "metadata": {
        "id": "Eo9qMHAq4NRk"
      },
      "source": [
        "# Exercise 6.6.3\n",
        "\n",
        "$\n",
        "f(t) = \\\\\n",
        "1,        \\ 0\\leq t < 1 \\\\\n",
        "t^2-2t+2, \\ 1\\leq t < \\infty\n",
        "$\n",
        "\n"
      ]
    },
    {
      "cell_type": "code",
      "execution_count": 32,
      "metadata": {
        "colab": {
          "base_uri": "https://localhost:8080/",
          "height": 123
        },
        "id": "EgAkgU7d4NRl",
        "outputId": "62faf3c9-87ea-4862-cbae-f795e22f87c9"
      },
      "outputs": [
        {
          "output_type": "stream",
          "name": "stdout",
          "text": [
            "Sympy expression:\n",
            "1/s + 2*exp(-s)/s**3\n",
            "\n",
            "Final answer:\n"
          ]
        },
        {
          "output_type": "display_data",
          "data": {
            "text/plain": [
              "1/s + 2*exp(-s)/s**3"
            ],
            "text/latex": "$\\displaystyle \\frac{1}{s} + \\frac{2 e^{- s}}{s^{3}}$"
          },
          "metadata": {}
        }
      ],
      "source": [
        "t = symbols(\"t\", real=True, positive=True)\n",
        "s = symbols(\"s\", real=True)\n",
        "    \n",
        "f = Heaviside(1-t) + Heaviside(t-1) * (t**2 -2*t +2)\n",
        "T = laplace_transform(f, t, s, noconds=True)\n",
        "print(\"Sympy expression:\")\n",
        "print(T)\n",
        "print(\"\\nFinal answer:\")\n",
        "display(T)"
      ]
    },
    {
      "cell_type": "markdown",
      "metadata": {
        "outputId": "0a4a9ca9-64bc-478c-e347-e61e98abd3ea",
        "id": "aLmhI2XKBjTg"
      },
      "source": [
        "* We can validate our expression of $f(t)$ in terms of `Heaviside`\n",
        "  functions by plotting the graph of $f(t)$."
      ]
    },
    {
      "cell_type": "code",
      "execution_count": 33,
      "metadata": {
        "colab": {
          "base_uri": "https://localhost:8080/",
          "height": 314
        },
        "id": "DisAbDHHBjTg",
        "outputId": "e7ab6775-7860-40ec-eeb5-b7523c800dac"
      },
      "outputs": [
        {
          "output_type": "display_data",
          "data": {
            "text/plain": [
              "<Figure size 432x288 with 1 Axes>"
            ],
            "image/png": "[encoded data removed]"
          },
          "metadata": {
            "needs_background": "light"
          }
        },
        {
          "output_type": "execute_result",
          "data": {
            "text/plain": [
              "<sympy.plotting.plot.Plot at 0x7fb1c789fe20>"
            ]
          },
          "metadata": {},
          "execution_count": 33
        }
      ],
      "source": [
        "plot(f, (t,0,4))"
      ]
    },
    {
      "cell_type": "markdown",
      "metadata": {
        "id": "YXi-q8jgYpYz"
      },
      "source": [
        "# Exercise 6.6.4\n",
        "\n",
        "$\n",
        "f(t) = \\\\\n",
        "0,      \\ 0\\leq t < \\pi \\\\\n",
        "t-\\pi,  \\ \\pi\\leq t < 2\\pi \\\\\n",
        "1,      \\ 2\\pi \\leq t < \\infty\n",
        "$"
      ]
    },
    {
      "cell_type": "code",
      "execution_count": 34,
      "metadata": {
        "colab": {
          "base_uri": "https://localhost:8080/",
          "height": 54
        },
        "id": "7ueMCJOXYpYz",
        "outputId": "5c76a94a-237f-42c2-d039-d695664b0ace"
      },
      "outputs": [
        {
          "output_type": "display_data",
          "data": {
            "text/plain": [
              "(-pi*s + s + exp(pi*s) - 1)*exp(-2*pi*s)/s**2"
            ],
            "text/latex": "$\\displaystyle \\frac{\\left(- \\pi s + s + e^{\\pi s} - 1\\right) e^{- 2 \\pi s}}{s^{2}}$"
          },
          "metadata": {}
        }
      ],
      "source": [
        "t = symbols(\"t\", real=True, positive=True)\n",
        "s = symbols(\"s\", real=True)\n",
        "    \n",
        "f = (Heaviside(2*pi-t) - Heaviside(pi-t)) * (t-pi) + Heaviside(t-2*pi)\n",
        "F = laplace_transform(f, t, s, noconds=True)\n",
        "display(F)"
      ]
    },
    {
      "cell_type": "code",
      "execution_count": 35,
      "metadata": {
        "colab": {
          "base_uri": "https://localhost:8080/",
          "height": 54
        },
        "id": "yXgKFdXNBjTh",
        "outputId": "945f933e-2300-43c2-b1c6-99854aeb3a3d"
      },
      "outputs": [
        {
          "output_type": "execute_result",
          "data": {
            "text/plain": [
              "-pi*exp(-2*pi*s)/s + exp(-2*pi*s)/s + exp(-pi*s)/s**2 - exp(-2*pi*s)/s**2"
            ],
            "text/latex": "$\\displaystyle - \\frac{\\pi e^{- 2 \\pi s}}{s} + \\frac{e^{- 2 \\pi s}}{s} + \\frac{e^{- \\pi s}}{s^{2}} - \\frac{e^{- 2 \\pi s}}{s^{2}}$"
          },
          "metadata": {},
          "execution_count": 35
        }
      ],
      "source": [
        "expand(F)"
      ]
    },
    {
      "cell_type": "code",
      "execution_count": 36,
      "metadata": {
        "colab": {
          "base_uri": "https://localhost:8080/",
          "height": 313
        },
        "id": "rplnwFb1BjTh",
        "outputId": "2b376ba8-4e44-4b34-bfe3-3a2ad5b1a54d"
      },
      "outputs": [
        {
          "output_type": "display_data",
          "data": {
            "text/plain": [
              "<Figure size 432x288 with 1 Axes>"
            ],
            "image/png": "[encoded data removed]"
          },
          "metadata": {
            "needs_background": "light"
          }
        },
        {
          "output_type": "execute_result",
          "data": {
            "text/plain": [
              "<sympy.plotting.plot.Plot at 0x7fb1c7b71bb0>"
            ]
          },
          "metadata": {},
          "execution_count": 36
        }
      ],
      "source": [
        "plot(f, (t,0,9))"
      ]
    },
    {
      "cell_type": "markdown",
      "metadata": {
        "id": "tTHBhhGdYpY0"
      },
      "source": [
        "# Exercise 6.6.5\n",
        "\n",
        "$\n",
        "f(t) = \\\\\n",
        "1,        \\quad 0\\leq t < 1 \\\\\n",
        "0,        \\quad 1\\leq t < \\infty\n",
        "$"
      ]
    },
    {
      "cell_type": "code",
      "execution_count": 37,
      "metadata": {
        "colab": {
          "base_uri": "https://localhost:8080/",
          "height": 53
        },
        "id": "3FE8sqHlYpY0",
        "outputId": "ce732b39-d97c-4dbb-8192-42d88748bfa1"
      },
      "outputs": [
        {
          "output_type": "display_data",
          "data": {
            "text/plain": [
              "(1 - exp(-s))/s"
            ],
            "text/latex": "$\\displaystyle \\frac{1 - e^{- s}}{s}$"
          },
          "metadata": {}
        }
      ],
      "source": [
        "t = symbols(\"t\", real=True, positive=True)\n",
        "s = symbols(\"s\", real=True)\n",
        "    \n",
        "f = Heaviside(1-t) \n",
        "F = laplace_transform(f, t, s, noconds=True)\n",
        "display(F)"
      ]
    },
    {
      "cell_type": "markdown",
      "metadata": {
        "id": "wktno-scYpY1"
      },
      "source": [
        "# Exercise 6.6.6\n",
        "\n",
        "$\n",
        "f(t) = \\left\\{\n",
        "\\begin{array}{ll}\n",
        "1,      &\\quad  0\\leq t < 2 \\\\\n",
        "t-3,    &\\quad  2\\leq t < 3 \\\\\n",
        "-1,     &\\quad  3\\leq t < \\infty\n",
        "\\end{array}\n",
        "\\right.\n",
        "$\n"
      ]
    },
    {
      "cell_type": "code",
      "execution_count": 38,
      "metadata": {
        "colab": {
          "base_uri": "https://localhost:8080/",
          "height": 56
        },
        "id": "7oFeUq9EYpY1",
        "outputId": "9c4c4978-55fb-477f-c960-b6dd1465b07b"
      },
      "outputs": [
        {
          "output_type": "display_data",
          "data": {
            "text/plain": [
              "(s*exp(3*s) - 2*s*exp(s) - s + exp(s) - 1)*exp(-3*s)/s**2"
            ],
            "text/latex": "$\\displaystyle \\frac{\\left(s e^{3 s} - 2 s e^{s} - s + e^{s} - 1\\right) e^{- 3 s}}{s^{2}}$"
          },
          "metadata": {}
        }
      ],
      "source": [
        "t = symbols(\"t\", real=True, positive=True)\n",
        "s = symbols(\"s\", real=True)\n",
        "    \n",
        "f = Heaviside(2-t) + (Heaviside(t-2) - Heaviside(t-3)) * (t-3) - Heaviside(t-3)   \n",
        "F = laplace_transform(f, t, s, noconds=True)\n",
        "display(F)"
      ]
    },
    {
      "cell_type": "code",
      "execution_count": 39,
      "metadata": {
        "colab": {
          "base_uri": "https://localhost:8080/",
          "height": 54
        },
        "id": "3bcylnu1BjTi",
        "outputId": "781f5d33-10fb-4dec-ca09-04f871f47cd3"
      },
      "outputs": [
        {
          "output_type": "execute_result",
          "data": {
            "text/plain": [
              "1/s - 2*exp(-2*s)/s - exp(-3*s)/s + exp(-2*s)/s**2 - exp(-3*s)/s**2"
            ],
            "text/latex": "$\\displaystyle \\frac{1}{s} - \\frac{2 e^{- 2 s}}{s} - \\frac{e^{- 3 s}}{s} + \\frac{e^{- 2 s}}{s^{2}} - \\frac{e^{- 3 s}}{s^{2}}$"
          },
          "metadata": {},
          "execution_count": 39
        }
      ],
      "source": [
        "expand(F)"
      ]
    },
    {
      "cell_type": "code",
      "execution_count": 40,
      "metadata": {
        "colab": {
          "base_uri": "https://localhost:8080/",
          "height": 314
        },
        "id": "xsut3Yp2BjTi",
        "outputId": "49dcd847-b488-4ccc-d383-21694b289a7e"
      },
      "outputs": [
        {
          "output_type": "display_data",
          "data": {
            "text/plain": [
              "<Figure size 432x288 with 1 Axes>"
            ],
            "image/png": "[encoded data removed]"
          },
          "metadata": {
            "needs_background": "light"
          }
        },
        {
          "output_type": "execute_result",
          "data": {
            "text/plain": [
              "<sympy.plotting.plot.Plot at 0x7fb1c49aa910>"
            ]
          },
          "metadata": {},
          "execution_count": 40
        }
      ],
      "source": [
        "plot(f, (t,0,9))"
      ]
    },
    {
      "cell_type": "markdown",
      "metadata": {
        "id": "WAjgfxQYYpY1"
      },
      "source": [
        "# Exercise 6.7\n",
        "\n",
        "$f(t) = \\dfrac{\\sin t}{t}$"
      ]
    },
    {
      "cell_type": "code",
      "execution_count": 41,
      "metadata": {
        "colab": {
          "base_uri": "https://localhost:8080/",
          "height": 75
        },
        "id": "cS6jEg-_YpY1",
        "outputId": "4873c07d-700f-4c88-fa38-ad267375a286"
      },
      "outputs": [
        {
          "output_type": "stream",
          "name": "stdout",
          "text": [
            "atan(1/s)\n"
          ]
        },
        {
          "output_type": "display_data",
          "data": {
            "text/plain": [
              "atan(1/s)"
            ],
            "text/latex": "$\\displaystyle \\operatorname{atan}{\\left(\\frac{1}{s} \\right)}$"
          },
          "metadata": {}
        }
      ],
      "source": [
        "t = symbols(\"t\", real=True, positive=True)\n",
        "s = symbols(\"s\", real=True)\n",
        "    \n",
        "f = sin(t)/t   \n",
        "T = laplace_transform(f, t, s, noconds=True)\n",
        "print(T)\n",
        "display(T)"
      ]
    },
    {
      "cell_type": "markdown",
      "metadata": {
        "id": "57nn9VY-YpY2"
      },
      "source": [
        "# Exercise 6.8\n",
        "\n",
        "${\\cal L}[f](s) = \\dfrac{d^n}{ds^n} \\left[\\dfrac{1}{s^2 -a^2}\\right]$\n",
        "\n",
        "Objective: what is $f(t)$ ?\n",
        "\n",
        "* Sympy still not ready to deal with abstract $n$-th derivative.\n",
        "* We will compute several particular cases $n=1,2,3$ and guess the general solution."
      ]
    },
    {
      "cell_type": "code",
      "execution_count": 42,
      "metadata": {
        "colab": {
          "base_uri": "https://localhost:8080/",
          "height": 78
        },
        "id": "hn_WT_EaYpY2",
        "outputId": "89c2b8e2-c2d8-4982-ed6b-8498c7bbc623"
      },
      "outputs": [
        {
          "output_type": "stream",
          "name": "stdout",
          "text": [
            "-2*s**2/(-a**2 + s**2)**2 + 1/(-a**2 + s**2)\n"
          ]
        },
        {
          "output_type": "display_data",
          "data": {
            "text/plain": [
              "-2*s**2/(-a**2 + s**2)**2 + 1/(-a**2 + s**2)"
            ],
            "text/latex": "$\\displaystyle - \\frac{2 s^{2}}{\\left(- a^{2} + s^{2}\\right)^{2}} + \\frac{1}{- a^{2} + s^{2}}$"
          },
          "metadata": {}
        }
      ],
      "source": [
        "t = symbols(\"t\", real=True, positive=True)\n",
        "s, a = symbols(\"s a\", real=True)\n",
        "\n",
        "F = diff(s/(s**2 - a**2), s)\n",
        "print(F)\n",
        "display(F)"
      ]
    },
    {
      "cell_type": "code",
      "execution_count": 43,
      "metadata": {
        "colab": {
          "base_uri": "https://localhost:8080/",
          "height": 39
        },
        "id": "3_OMswQZXxSI",
        "outputId": "a0f478fd-4e0d-44d3-9a48-75a9c61b5b53"
      },
      "outputs": [
        {
          "output_type": "execute_result",
          "data": {
            "text/plain": [
              "-t*cosh(a*t)"
            ],
            "text/latex": "$\\displaystyle - t \\cosh{\\left(a t \\right)}$"
          },
          "metadata": {},
          "execution_count": 43
        }
      ],
      "source": [
        "inverse_laplace_transform(F, s, t)"
      ]
    },
    {
      "cell_type": "code",
      "execution_count": 44,
      "metadata": {
        "colab": {
          "base_uri": "https://localhost:8080/",
          "height": 90
        },
        "id": "DDA9uVOCYpY2",
        "outputId": "cbbce844-531d-477d-eb06-e50a5d10e6e2"
      },
      "outputs": [
        {
          "output_type": "stream",
          "name": "stdout",
          "text": [
            "-2*s*(4*s**2/(a**2 - s**2) + 3)/(a**2 - s**2)**2\n"
          ]
        },
        {
          "output_type": "display_data",
          "data": {
            "text/plain": [
              "-2*s*(4*s**2/(a**2 - s**2) + 3)/(a**2 - s**2)**2"
            ],
            "text/latex": "$\\displaystyle - \\frac{2 s \\left(\\frac{4 s^{2}}{a^{2} - s^{2}} + 3\\right)}{\\left(a^{2} - s^{2}\\right)^{2}}$"
          },
          "metadata": {}
        }
      ],
      "source": [
        "F = diff(s/(s**2 - a**2), (s,2))\n",
        "print(F)\n",
        "display(F)"
      ]
    },
    {
      "cell_type": "code",
      "execution_count": 45,
      "metadata": {
        "colab": {
          "base_uri": "https://localhost:8080/",
          "height": 55
        },
        "id": "UYeeHrtFXxSI",
        "outputId": "d86eb92a-cbbe-4faf-a481-7007319ce0d5"
      },
      "outputs": [
        {
          "output_type": "execute_result",
          "data": {
            "text/plain": [
              "-8*s**3/(a**6 - 3*a**4*s**2 + 3*a**2*s**4 - s**6) - 6*s/(a**4 - 2*a**2*s**2 + s**4)"
            ],
            "text/latex": "$\\displaystyle - \\frac{8 s^{3}}{a^{6} - 3 a^{4} s^{2} + 3 a^{2} s^{4} - s^{6}} - \\frac{6 s}{a^{4} - 2 a^{2} s^{2} + s^{4}}$"
          },
          "metadata": {},
          "execution_count": 45
        }
      ],
      "source": [
        "expand(F)"
      ]
    },
    {
      "cell_type": "code",
      "execution_count": 46,
      "metadata": {
        "colab": {
          "base_uri": "https://localhost:8080/",
          "height": 39
        },
        "id": "39j-lIc8XxSJ",
        "outputId": "06a20c89-8517-461b-c073-29df44091680"
      },
      "outputs": [
        {
          "output_type": "execute_result",
          "data": {
            "text/plain": [
              "t**2*cosh(a*t)"
            ],
            "text/latex": "$\\displaystyle t^{2} \\cosh{\\left(a t \\right)}$"
          },
          "metadata": {},
          "execution_count": 46
        }
      ],
      "source": [
        "inverse_laplace_transform(F, s, t)"
      ]
    },
    {
      "cell_type": "code",
      "execution_count": 47,
      "metadata": {
        "colab": {
          "base_uri": "https://localhost:8080/",
          "height": 101
        },
        "id": "s1bpupcUXxSJ",
        "outputId": "0ff4a8d3-0711-4bed-d780-72dd7f1f635d"
      },
      "outputs": [
        {
          "output_type": "stream",
          "name": "stdout",
          "text": [
            "-6*(4*s**2*(2*s**2/(a**2 - s**2) + 1)/(a**2 - s**2) + 4*s**2/(a**2 - s**2) + 1)/(a**2 - s**2)**2\n"
          ]
        },
        {
          "output_type": "display_data",
          "data": {
            "text/plain": [
              "-6*(4*s**2*(2*s**2/(a**2 - s**2) + 1)/(a**2 - s**2) + 4*s**2/(a**2 - s**2) + 1)/(a**2 - s**2)**2"
            ],
            "text/latex": "$\\displaystyle - \\frac{6 \\cdot \\left(\\frac{4 s^{2} \\cdot \\left(\\frac{2 s^{2}}{a^{2} - s^{2}} + 1\\right)}{a^{2} - s^{2}} + \\frac{4 s^{2}}{a^{2} - s^{2}} + 1\\right)}{\\left(a^{2} - s^{2}\\right)^{2}}$"
          },
          "metadata": {}
        }
      ],
      "source": [
        "F = diff(s/(s**2 - a**2), (s,3))\n",
        "print(F)\n",
        "display(F)"
      ]
    },
    {
      "cell_type": "code",
      "execution_count": 48,
      "metadata": {
        "colab": {
          "base_uri": "https://localhost:8080/",
          "height": 55
        },
        "id": "MPYF67I8XxSJ",
        "outputId": "9557c888-40be-4c81-f1ce-5bf77658268b"
      },
      "outputs": [
        {
          "output_type": "execute_result",
          "data": {
            "text/plain": [
              "-48*s**4/(a**8 - 4*a**6*s**2 + 6*a**4*s**4 - 4*a**2*s**6 + s**8) - 48*s**2/(a**6 - 3*a**4*s**2 + 3*a**2*s**4 - s**6) - 6/(a**4 - 2*a**2*s**2 + s**4)"
            ],
            "text/latex": "$\\displaystyle - \\frac{48 s^{4}}{a^{8} - 4 a^{6} s^{2} + 6 a^{4} s^{4} - 4 a^{2} s^{6} + s^{8}} - \\frac{48 s^{2}}{a^{6} - 3 a^{4} s^{2} + 3 a^{2} s^{4} - s^{6}} - \\frac{6}{a^{4} - 2 a^{2} s^{2} + s^{4}}$"
          },
          "metadata": {},
          "execution_count": 48
        }
      ],
      "source": [
        "expand(F)"
      ]
    },
    {
      "cell_type": "code",
      "execution_count": 49,
      "metadata": {
        "colab": {
          "base_uri": "https://localhost:8080/",
          "height": 39
        },
        "id": "rHuhzl7mXxSK",
        "outputId": "e1c90593-d9a2-4236-a163-aeb3597e4b49"
      },
      "outputs": [
        {
          "output_type": "execute_result",
          "data": {
            "text/plain": [
              "-t**3*cosh(a*t)"
            ],
            "text/latex": "$\\displaystyle - t^{3} \\cosh{\\left(a t \\right)}$"
          },
          "metadata": {},
          "execution_count": 49
        }
      ],
      "source": [
        "inverse_laplace_transform(F, s, t)"
      ]
    },
    {
      "cell_type": "markdown",
      "metadata": {
        "id": "1DygTHeXXxSK"
      },
      "source": [
        "* Looks like the general formula is\n",
        "\n",
        "$\n",
        "\\qquad f(t) = (-1)^n t^n \\cosh(at)\n",
        "$\n",
        "* But you still need to prove it formally !!"
      ]
    },
    {
      "cell_type": "markdown",
      "metadata": {
        "id": "pqBnGWXAYpY2"
      },
      "source": [
        "# Exercise 6.10.1\n",
        "\n",
        "$\\int_{0}^{\\infty} te^{-2t} \\cos t \\, dt$\n"
      ]
    },
    {
      "cell_type": "code",
      "execution_count": 50,
      "metadata": {
        "colab": {
          "base_uri": "https://localhost:8080/",
          "height": 51
        },
        "id": "WBXf0URPYpY2",
        "outputId": "99a44f65-6665-4ccc-f2b5-7a69be893d7c"
      },
      "outputs": [
        {
          "output_type": "execute_result",
          "data": {
            "text/plain": [
              "3/25"
            ],
            "text/latex": "$\\displaystyle \\frac{3}{25}$"
          },
          "metadata": {},
          "execution_count": 50
        }
      ],
      "source": [
        "t = symbols(\"t\", real=True, positive=True)\n",
        "s = symbols(\"s\", real=True)\n",
        "    \n",
        "f = t*exp(-2*t)*cos(t)\n",
        "integrate(f, (t,0,oo))"
      ]
    },
    {
      "cell_type": "code",
      "execution_count": 51,
      "metadata": {
        "colab": {
          "base_uri": "https://localhost:8080/",
          "height": 55
        },
        "id": "xjBm47oXYpY3",
        "outputId": "97012e8d-eae2-4320-c6d8-e214269138b0"
      },
      "outputs": [
        {
          "output_type": "display_data",
          "data": {
            "text/plain": [
              "(s**2 - 1)/(s**4 + 2*s**2 + 1)"
            ],
            "text/latex": "$\\displaystyle \\frac{s^{2} - 1}{s^{4} + 2 s^{2} + 1}$"
          },
          "metadata": {}
        }
      ],
      "source": [
        "f = t*cos(t)\n",
        "F = laplace_transform(f,t,s, noconds=True)\n",
        "display(F)"
      ]
    },
    {
      "cell_type": "code",
      "execution_count": 52,
      "metadata": {
        "colab": {
          "base_uri": "https://localhost:8080/",
          "height": 51
        },
        "id": "feMJInZbXxSL",
        "outputId": "f2d3621d-765b-4958-e278-a020e2407f2b"
      },
      "outputs": [
        {
          "output_type": "execute_result",
          "data": {
            "text/plain": [
              "3/25"
            ],
            "text/latex": "$\\displaystyle \\frac{3}{25}$"
          },
          "metadata": {},
          "execution_count": 52
        }
      ],
      "source": [
        "F.subs(s,-2)"
      ]
    },
    {
      "cell_type": "code",
      "execution_count": 53,
      "metadata": {
        "colab": {
          "base_uri": "https://localhost:8080/"
        },
        "id": "O4tWJMCVXxSM",
        "outputId": "a52a01e6-dc36-4301-fddc-4031a47cf36e"
      },
      "outputs": [
        {
          "output_type": "execute_result",
          "data": {
            "text/plain": [
              "0.12"
            ]
          },
          "metadata": {},
          "execution_count": 53
        }
      ],
      "source": [
        "F = lambdify(s, F)\n",
        "F(-2)"
      ]
    },
    {
      "cell_type": "markdown",
      "metadata": {
        "id": "MAq7l3ZYBjTl"
      },
      "source": [
        "* The function `lambdify(s, F)` converts `F` into a regular Python function."
      ]
    },
    {
      "cell_type": "markdown",
      "metadata": {
        "id": "TmoiRYBIYpY3"
      },
      "source": [
        "# Exercise 6.10.2\n",
        "\n",
        "$\\int_{0}^{\\infty} t^3 e^{-t}\\sin t \\, dt$"
      ]
    },
    {
      "cell_type": "code",
      "execution_count": 54,
      "metadata": {
        "colab": {
          "base_uri": "https://localhost:8080/",
          "height": 37
        },
        "id": "kixL_JqoYpY3",
        "outputId": "7906c5b5-4961-4088-d548-434292bdb91a"
      },
      "outputs": [
        {
          "output_type": "execute_result",
          "data": {
            "text/plain": [
              "0"
            ],
            "text/latex": "$\\displaystyle 0$"
          },
          "metadata": {},
          "execution_count": 54
        }
      ],
      "source": [
        "t = symbols(\"t\", real=True, positive=True)\n",
        "s = symbols(\"s\", real=True)\n",
        "    \n",
        "f = t**3 * exp(-t) * sin(t)\n",
        "integrate(f, (t,0,oo))"
      ]
    },
    {
      "cell_type": "markdown",
      "metadata": {
        "id": "LKDbOAc3BjTm"
      },
      "source": [
        "* We may use Laplace Transform to solve this integral as follows\n",
        "\n",
        "$\\int_{0}^{\\infty} t^3 e^{-t}\\sin t \\, dt = {\\cal L}[t^3\\sin t](1)$"
      ]
    },
    {
      "cell_type": "code",
      "execution_count": 55,
      "metadata": {
        "colab": {
          "base_uri": "https://localhost:8080/",
          "height": 58
        },
        "id": "WyqFEZrDYpY3",
        "outputId": "68a14bd0-22fc-40da-95fc-a1c6c0df3c01"
      },
      "outputs": [
        {
          "output_type": "display_data",
          "data": {
            "text/plain": [
              "3*I/(s + I)**4 - 3*I/(s - I)**4"
            ],
            "text/latex": "$\\displaystyle \\frac{3 i}{\\left(s + i\\right)^{4}} - \\frac{3 i}{\\left(s - i\\right)^{4}}$"
          },
          "metadata": {}
        }
      ],
      "source": [
        "f = t**3 * sin(t)\n",
        "F = laplace_transform(f,t,s, noconds=True)\n",
        "display(F)"
      ]
    },
    {
      "cell_type": "code",
      "execution_count": 56,
      "metadata": {
        "colab": {
          "base_uri": "https://localhost:8080/",
          "height": 58
        },
        "id": "lE2lI5gH4TeI",
        "outputId": "efc55be6-8f2a-4da2-b33f-171a98d8e7ed"
      },
      "outputs": [
        {
          "output_type": "display_data",
          "data": {
            "text/plain": [
              "3*I/(1 + I)**4 - 3*I/(1 - I)**4"
            ],
            "text/latex": "$\\displaystyle \\frac{3 i}{\\left(1 + i\\right)^{4}} - \\frac{3 i}{\\left(1 - i\\right)^{4}}$"
          },
          "metadata": {}
        }
      ],
      "source": [
        "a = F.subs(s, 1)\n",
        "display(a)"
      ]
    },
    {
      "cell_type": "code",
      "execution_count": 57,
      "metadata": {
        "colab": {
          "base_uri": "https://localhost:8080/"
        },
        "id": "KnE_pS3oXxSN",
        "outputId": "d5595b10-fa66-4a2a-bf79-6cbb8cc2c98f"
      },
      "outputs": [
        {
          "output_type": "execute_result",
          "data": {
            "text/plain": [
              "(0, 0)"
            ]
          },
          "metadata": {},
          "execution_count": 57
        }
      ],
      "source": [
        "a.as_real_imag()"
      ]
    },
    {
      "cell_type": "markdown",
      "metadata": {
        "id": "xikI_O_5YpY3"
      },
      "source": [
        "# Exercise 6.10.3\n",
        "\n",
        "$\\int_{0}^{\\infty} x^4 e^{-x} dx$\n"
      ]
    },
    {
      "cell_type": "code",
      "execution_count": 58,
      "metadata": {
        "colab": {
          "base_uri": "https://localhost:8080/",
          "height": 37
        },
        "id": "iQXVGPgiYpY4",
        "outputId": "6a6cffb5-fc20-4c6d-d01c-b66142a1520b"
      },
      "outputs": [
        {
          "output_type": "execute_result",
          "data": {
            "text/plain": [
              "24"
            ],
            "text/latex": "$\\displaystyle 24$"
          },
          "metadata": {},
          "execution_count": 58
        }
      ],
      "source": [
        "x = symbols(\"x\", real=True, positive=True)\n",
        "    \n",
        "f = x**4 * exp(-x)\n",
        "integrate(f, (x,0,oo))"
      ]
    },
    {
      "cell_type": "code",
      "execution_count": 59,
      "metadata": {
        "colab": {
          "base_uri": "https://localhost:8080/",
          "height": 51
        },
        "id": "iPCT3wK8YpY4",
        "outputId": "4ec99727-db64-4b40-cf13-89a159464d74"
      },
      "outputs": [
        {
          "output_type": "display_data",
          "data": {
            "text/plain": [
              "24/s**5"
            ],
            "text/latex": "$\\displaystyle \\frac{24}{s^{5}}$"
          },
          "metadata": {}
        }
      ],
      "source": [
        "t = symbols(\"t\", real=True, positive=True)\n",
        "s = symbols(\"s\", real=True)\n",
        "f = t**4\n",
        "F = laplace_transform(f,t,s, noconds=True)\n",
        "display(F)"
      ]
    },
    {
      "cell_type": "code",
      "execution_count": 60,
      "metadata": {
        "colab": {
          "base_uri": "https://localhost:8080/",
          "height": 37
        },
        "id": "6t3yqU_AXxSP",
        "outputId": "c5266a23-cbdc-4ede-9592-f335faffad5b"
      },
      "outputs": [
        {
          "output_type": "display_data",
          "data": {
            "text/plain": [
              "24"
            ],
            "text/latex": "$\\displaystyle 24$"
          },
          "metadata": {}
        }
      ],
      "source": [
        "a = F.subs(s, 1)\n",
        "display(a)"
      ]
    },
    {
      "cell_type": "markdown",
      "metadata": {
        "id": "KK8We_wvXxSP"
      },
      "source": [
        "# Exercise 6.10.4\n",
        "\n",
        "$\\int_{0}^{\\infty} x^6 e^{-3x} dx$\n"
      ]
    },
    {
      "cell_type": "code",
      "execution_count": 61,
      "metadata": {
        "colab": {
          "base_uri": "https://localhost:8080/",
          "height": 51
        },
        "id": "_nUFJcR9XxSP",
        "outputId": "e1b7e3c8-3aab-4d1f-f839-b305967ccb7c"
      },
      "outputs": [
        {
          "output_type": "execute_result",
          "data": {
            "text/plain": [
              "80/243"
            ],
            "text/latex": "$\\displaystyle \\frac{80}{243}$"
          },
          "metadata": {},
          "execution_count": 61
        }
      ],
      "source": [
        "x = symbols(\"x\", real=True, positive=True)\n",
        "    \n",
        "f = x**6 * exp(-3*x)\n",
        "integrate(f, (x,0,oo))"
      ]
    },
    {
      "cell_type": "code",
      "execution_count": 62,
      "metadata": {
        "colab": {
          "base_uri": "https://localhost:8080/",
          "height": 51
        },
        "id": "Grq0esqUXxSQ",
        "outputId": "0976b5a8-5906-4786-d1af-0a372ef015fc"
      },
      "outputs": [
        {
          "output_type": "display_data",
          "data": {
            "text/plain": [
              "720/s**7"
            ],
            "text/latex": "$\\displaystyle \\frac{720}{s^{7}}$"
          },
          "metadata": {}
        }
      ],
      "source": [
        "t = symbols(\"t\", real=True, positive=True)\n",
        "s = symbols(\"s\", real=True)\n",
        "f = t**6\n",
        "F = laplace_transform(f,t,s, noconds=True)\n",
        "display(F)"
      ]
    },
    {
      "cell_type": "code",
      "execution_count": 63,
      "metadata": {
        "colab": {
          "base_uri": "https://localhost:8080/",
          "height": 51
        },
        "id": "Jf2zqbAzXxSQ",
        "outputId": "c31844f6-7b32-4d22-d474-9fc7c66b0732"
      },
      "outputs": [
        {
          "output_type": "display_data",
          "data": {
            "text/plain": [
              "80/243"
            ],
            "text/latex": "$\\displaystyle \\frac{80}{243}$"
          },
          "metadata": {}
        }
      ],
      "source": [
        "a = F.subs(s, 3)\n",
        "display(a)"
      ]
    },
    {
      "cell_type": "markdown",
      "metadata": {
        "id": "vth-rl-LYpY4"
      },
      "source": [
        "# Exercise 6.15.1 (Inverse Laplance Transform)\n",
        "\n",
        "$\\dfrac{3s-14}{s^2-4s+18}$"
      ]
    },
    {
      "cell_type": "code",
      "execution_count": 64,
      "metadata": {
        "colab": {
          "base_uri": "https://localhost:8080/",
          "height": 68
        },
        "id": "PdbxK-VOYpY4",
        "outputId": "ee06b77f-8811-4be1-b0a7-6d28b7cb35d3"
      },
      "outputs": [
        {
          "output_type": "display_data",
          "data": {
            "text/plain": [
              "(-4*sqrt(14)*sin(sqrt(14)*t)/7 + 3*cos(sqrt(14)*t))*exp(2*t)"
            ],
            "text/latex": "$\\displaystyle \\left(- \\frac{4 \\sqrt{14} \\sin{\\left(\\sqrt{14} t \\right)}}{7} + 3 \\cos{\\left(\\sqrt{14} t \\right)}\\right) e^{2 t}$"
          },
          "metadata": {}
        }
      ],
      "source": [
        "t = symbols(\"t\", real=True, positive=True)\n",
        "s = symbols(\"s\", real=True)\n",
        "F = (3*s - 14) / (s**2 - 4*s + 18)\n",
        "f = inverse_laplace_transform(F, s, t)\n",
        "display(f)"
      ]
    },
    {
      "cell_type": "markdown",
      "metadata": {
        "id": "catI4PShXxSR"
      },
      "source": [
        "# Exercise 6.15.2\n",
        "\n",
        "$\\dfrac{1}{s^2(s^2+1)}$\n"
      ]
    },
    {
      "cell_type": "code",
      "execution_count": 65,
      "metadata": {
        "colab": {
          "base_uri": "https://localhost:8080/",
          "height": 39
        },
        "id": "6umwI06sXxSR",
        "outputId": "bef7e396-04c8-4fe2-8202-7c04ddfd6c43"
      },
      "outputs": [
        {
          "output_type": "display_data",
          "data": {
            "text/plain": [
              "t - sin(t)"
            ],
            "text/latex": "$\\displaystyle t - \\sin{\\left(t \\right)}$"
          },
          "metadata": {}
        }
      ],
      "source": [
        "t = symbols(\"t\", real=True, positive=True)\n",
        "s = symbols(\"s\", real=True)\n",
        "F = 1 / (s**2 * (s**2 +1))\n",
        "f = inverse_laplace_transform(F, s, t)\n",
        "display(f)"
      ]
    },
    {
      "cell_type": "markdown",
      "metadata": {
        "id": "KWfBUO1oXxSS"
      },
      "source": [
        "# Exercise 6.15.3\n",
        "\n",
        "$\\dfrac{1}{s^2 - 3s + 2}$\n"
      ]
    },
    {
      "cell_type": "code",
      "execution_count": 66,
      "metadata": {
        "colab": {
          "base_uri": "https://localhost:8080/",
          "height": 39
        },
        "id": "sPn26vP2XxSS",
        "outputId": "7da41b98-8b3b-4f5e-d561-c2e1bd2d55fc"
      },
      "outputs": [
        {
          "output_type": "display_data",
          "data": {
            "text/plain": [
              "(exp(t) - 1)*exp(t)"
            ],
            "text/latex": "$\\displaystyle \\left(e^{t} - 1\\right) e^{t}$"
          },
          "metadata": {}
        }
      ],
      "source": [
        "t = symbols(\"t\", real=True, positive=True)\n",
        "s = symbols(\"s\", real=True)\n",
        "F = 1 / (s**2 - 3*s +2)\n",
        "f = inverse_laplace_transform(F, s, t)\n",
        "display(f)"
      ]
    },
    {
      "cell_type": "markdown",
      "metadata": {
        "id": "h6yw5AUzXxSS"
      },
      "source": [
        "# Exercise 6.15.4\n",
        "\n",
        "$\\dfrac{s^2}{(s^2+4)^2}$\n"
      ]
    },
    {
      "cell_type": "code",
      "execution_count": 67,
      "metadata": {
        "colab": {
          "base_uri": "https://localhost:8080/",
          "height": 53
        },
        "id": "rslRLaCaXxST",
        "outputId": "42624e9d-8db9-43f1-ca9d-64252878683f"
      },
      "outputs": [
        {
          "output_type": "display_data",
          "data": {
            "text/plain": [
              "sin(2*t)/2"
            ],
            "text/latex": "$\\displaystyle \\frac{\\sin{\\left(2 t \\right)}}{2}$"
          },
          "metadata": {}
        }
      ],
      "source": [
        "t = symbols(\"t\", real=True, positive=True)\n",
        "s = symbols(\"s\", real=True)\n",
        "F = s**2 / (s**2 + 4)**2\n",
        "f = inverse_laplace_transform(F, s, t)\n",
        "display(f)"
      ]
    },
    {
      "cell_type": "markdown",
      "metadata": {
        "id": "228O5Vp8XxST"
      },
      "source": [
        "# Exercise 6.15.5\n",
        "\n",
        "$\\dfrac{s}{(s^2+4)^2}$\n"
      ]
    },
    {
      "cell_type": "code",
      "execution_count": 68,
      "metadata": {
        "colab": {
          "base_uri": "https://localhost:8080/",
          "height": 82
        },
        "id": "fwqrV_zEXxST",
        "outputId": "1fc14317-734a-423d-fdf8-1503e9b72ca2"
      },
      "outputs": [
        {
          "output_type": "display_data",
          "data": {
            "text/plain": [
              "Piecewise((0, (exp(t) < 1) | (exp(-t) < 1)), (meijerg(((0, 1 - 2*I, 1 - 2*I, 1 + 2*I, 1 + 2*I), ()), ((), (1, -2*I, -2*I, 2*I, 2*I)), exp(t)), True))"
            ],
            "text/latex": "$\\displaystyle \\begin{cases} 0 & \\text{for}\\: e^{- t} < 1 \\vee e^{t} < 1 \\\\{G_{5, 5}^{0, 5}\\left(\\begin{matrix} 0, 1 - 2 i, 1 - 2 i, 1 + 2 i, 1 + 2 i &  \\\\ & 1, - 2 i, - 2 i, 2 i, 2 i \\end{matrix} \\middle| {e^{t}} \\right)} & \\text{otherwise} \\end{cases}$"
          },
          "metadata": {}
        }
      ],
      "source": [
        "t = symbols(\"t\", real=True, positive=True)\n",
        "s = symbols(\"s\")\n",
        "F = s / (s**2 + 4)**2\n",
        "f = inverse_laplace_transform(F, s, t)\n",
        "display(f)"
      ]
    },
    {
      "cell_type": "markdown",
      "metadata": {
        "id": "ioKqwevUBjTp"
      },
      "source": [
        "* In case it does not work, we may try to use the integral form of the inverse Laplace transform\n",
        "\n",
        "$\\displaystyle\n",
        "\\qquad\n",
        "f(t)=\\frac{1}{2\\pi i}\\int_{s'-i\\infty}^{s'+i\\infty}e^{st}F(s)ds\n",
        "$"
      ]
    },
    {
      "cell_type": "markdown",
      "metadata": {
        "id": "A5o-gPh5XxSU"
      },
      "source": [
        "# Exercise 6.15.6\n",
        "\n",
        "$\\ln\\left(1+\\dfrac{1}{s^2}\\right)$\n"
      ]
    },
    {
      "cell_type": "code",
      "execution_count": 69,
      "metadata": {
        "colab": {
          "base_uri": "https://localhost:8080/",
          "height": 58
        },
        "id": "mDqWsPyXXxSU",
        "outputId": "4a89097f-e8e4-41af-fd07-843e94dd17fe"
      },
      "outputs": [
        {
          "output_type": "display_data",
          "data": {
            "text/plain": [
              "InverseLaplaceTransform(log(1 + s**(-2)), s, t, _None)"
            ],
            "text/latex": "$\\displaystyle \\mathcal{L}^{-1}_{s}\\left[\\log{\\left(1 + \\frac{1}{s^{2}} \\right)}\\right]\\left(t\\right)$"
          },
          "metadata": {}
        }
      ],
      "source": [
        "t = symbols(\"t\", real=True, positive=True)\n",
        "s = symbols(\"s\", real=True)\n",
        "F = log(1 + 1/s**2)\n",
        "f = inverse_laplace_transform(F, s, t)\n",
        "display(f)"
      ]
    },
    {
      "cell_type": "markdown",
      "metadata": {
        "id": "FHkQP5WdXxSU"
      },
      "source": [
        "* Sympy 1.11.1 failed to solve ...\n",
        "* Tried other integral calculators and they also failed. Probably bad problem ..."
      ]
    },
    {
      "cell_type": "markdown",
      "metadata": {
        "id": "ak7VwGdxXxSV"
      },
      "source": [
        "# Exercise 6.15.7\n",
        "\n",
        "$\\dfrac{1}{(s^2+4)^2}$"
      ]
    },
    {
      "cell_type": "code",
      "execution_count": 70,
      "metadata": {
        "colab": {
          "base_uri": "https://localhost:8080/",
          "height": 82
        },
        "id": "hVq8de-pXxSV",
        "outputId": "67c83091-7e63-4c84-a66a-37bce6541792"
      },
      "outputs": [
        {
          "output_type": "display_data",
          "data": {
            "text/plain": [
              "Piecewise((0, (exp(t) < 1) | (exp(-t) < 1)), (meijerg(((1 - 2*I, 1 - 2*I, 1 + 2*I, 1 + 2*I), ()), ((), (-2*I, -2*I, 2*I, 2*I)), exp(t)), True))"
            ],
            "text/latex": "$\\displaystyle \\begin{cases} 0 & \\text{for}\\: e^{- t} < 1 \\vee e^{t} < 1 \\\\{G_{4, 4}^{0, 4}\\left(\\begin{matrix} 1 - 2 i, 1 - 2 i, 1 + 2 i, 1 + 2 i &  \\\\ & - 2 i, - 2 i, 2 i, 2 i \\end{matrix} \\middle| {e^{t}} \\right)} & \\text{otherwise} \\end{cases}$"
          },
          "metadata": {}
        }
      ],
      "source": [
        "t = symbols(\"t\", real=True, positive=True)\n",
        "s = symbols(\"s\", real=True)\n",
        "F = 1 / (s**2 + 4)**2\n",
        "f = inverse_laplace_transform(F, s, t)\n",
        "display(f)"
      ]
    },
    {
      "cell_type": "markdown",
      "metadata": {
        "id": "JwS6NrxBXxSV"
      },
      "source": [
        "# Exercise 6.15.8\n",
        "\n",
        "$\\dfrac{s^3}{s^4-16}$"
      ]
    },
    {
      "cell_type": "code",
      "execution_count": 71,
      "metadata": {
        "colab": {
          "base_uri": "https://localhost:8080/",
          "height": 53
        },
        "id": "2ZnmeBItXxSV",
        "outputId": "6226be41-779f-4934-9e28-783c1d92e366"
      },
      "outputs": [
        {
          "output_type": "display_data",
          "data": {
            "text/plain": [
              "cos(2*t)/2 + cosh(2*t)/2"
            ],
            "text/latex": "$\\displaystyle \\frac{\\cos{\\left(2 t \\right)}}{2} + \\frac{\\cosh{\\left(2 t \\right)}}{2}$"
          },
          "metadata": {}
        }
      ],
      "source": [
        "t = symbols(\"t\", real=True, positive=True)\n",
        "s = symbols(\"s\", real=True)\n",
        "F = s**3 / (s**4 - 16)\n",
        "f = inverse_laplace_transform(F, s, t)\n",
        "display(f)"
      ]
    },
    {
      "cell_type": "markdown",
      "metadata": {
        "id": "253u3rKgXxSW"
      },
      "source": [
        "# Exercise 6.15.9\n",
        "\n",
        "$\\dfrac{1}{s^3+1}$"
      ]
    },
    {
      "cell_type": "code",
      "execution_count": 72,
      "metadata": {
        "colab": {
          "base_uri": "https://localhost:8080/",
          "height": 66
        },
        "id": "uta8slOsXxSW",
        "outputId": "0e7b3740-d64f-49c7-b54d-db36a7e5783b"
      },
      "outputs": [
        {
          "output_type": "display_data",
          "data": {
            "text/plain": [
              "(-6*exp(3*t/2)*cos(sqrt(3)*t/2 + pi/3) + 3)*exp(-t)/9"
            ],
            "text/latex": "$\\displaystyle \\frac{\\left(- 6 e^{\\frac{3 t}{2}} \\cos{\\left(\\frac{\\sqrt{3} t}{2} + \\frac{\\pi}{3} \\right)} + 3\\right) e^{- t}}{9}$"
          },
          "metadata": {}
        }
      ],
      "source": [
        "t = symbols(\"t\", real=True, positive=True)\n",
        "s = symbols(\"s\")\n",
        "F = 1 / (s**3 + 1)\n",
        "f = inverse_laplace_transform(F, s, t)\n",
        "display(f)"
      ]
    },
    {
      "cell_type": "code",
      "execution_count": 73,
      "metadata": {
        "colab": {
          "base_uri": "https://localhost:8080/",
          "height": 66
        },
        "id": "orJUbTheXxSX",
        "outputId": "c02ca0bb-17bb-4718-ec2c-8852cd56cebe"
      },
      "outputs": [
        {
          "output_type": "execute_result",
          "data": {
            "text/plain": [
              "-2*exp(t/2)*cos(sqrt(3)*t/2 + pi/3)/3 + exp(-t)/3"
            ],
            "text/latex": "$\\displaystyle - \\frac{2 e^{\\frac{t}{2}} \\cos{\\left(\\frac{\\sqrt{3} t}{2} + \\frac{\\pi}{3} \\right)}}{3} + \\frac{e^{- t}}{3}$"
          },
          "metadata": {},
          "execution_count": 73
        }
      ],
      "source": [
        "expand(f)"
      ]
    },
    {
      "cell_type": "markdown",
      "metadata": {
        "id": "-5UG2THbXxSX"
      },
      "source": [
        "# Exercise 6.15.10\n",
        "\n",
        "$\\dfrac{2s^2+s-10}{(s-4)(s^2+2s+2)}$\n"
      ]
    },
    {
      "cell_type": "code",
      "execution_count": 74,
      "metadata": {
        "colab": {
          "base_uri": "https://localhost:8080/",
          "height": 39
        },
        "id": "ZUqxWwUxXxSX",
        "outputId": "a433b142-f38d-495d-9e1e-bae305ae5d60"
      },
      "outputs": [
        {
          "output_type": "display_data",
          "data": {
            "text/plain": [
              "(exp(5*t) + 2*sin(t) + cos(t))*exp(-t)"
            ],
            "text/latex": "$\\displaystyle \\left(e^{5 t} + 2 \\sin{\\left(t \\right)} + \\cos{\\left(t \\right)}\\right) e^{- t}$"
          },
          "metadata": {}
        }
      ],
      "source": [
        "t = symbols(\"t\", real=True, positive=True)\n",
        "s = symbols(\"s\", real=True)\n",
        "F = (2*s**2 + s -10) / ((s-4) * (s**2 + 2*s +2))\n",
        "f = inverse_laplace_transform(F, s, t)\n",
        "display(f)"
      ]
    },
    {
      "cell_type": "code",
      "execution_count": 75,
      "metadata": {
        "colab": {
          "base_uri": "https://localhost:8080/",
          "height": 39
        },
        "id": "H1rB2RwJXxSX",
        "outputId": "26830940-2704-40e4-9026-d8cd4aae8a80"
      },
      "outputs": [
        {
          "output_type": "execute_result",
          "data": {
            "text/plain": [
              "exp(4*t) + 2*exp(-t)*sin(t) + exp(-t)*cos(t)"
            ],
            "text/latex": "$\\displaystyle e^{4 t} + 2 e^{- t} \\sin{\\left(t \\right)} + e^{- t} \\cos{\\left(t \\right)}$"
          },
          "metadata": {},
          "execution_count": 75
        }
      ],
      "source": [
        "expand(f)"
      ]
    },
    {
      "cell_type": "markdown",
      "metadata": {
        "id": "KDDHGHPNBjTs"
      },
      "source": [
        "# Exercise 6.17.1\n",
        "\n",
        "$\n",
        "f(t) = \\\\\n",
        "1, \\  0\\leq t \\leq T    \\\\\n",
        "0, \\  t>T\n",
        "$"
      ]
    },
    {
      "cell_type": "code",
      "execution_count": 76,
      "metadata": {
        "colab": {
          "base_uri": "https://localhost:8080/",
          "height": 53
        },
        "outputId": "8b03c2a3-2424-4260-ebab-2319581692eb",
        "id": "5BYmNPOEBjTs"
      },
      "outputs": [
        {
          "output_type": "display_data",
          "data": {
            "text/plain": [
              "T*(1 - exp(-s))/s"
            ],
            "text/latex": "$\\displaystyle \\frac{T \\left(1 - e^{- s}\\right)}{s}$"
          },
          "metadata": {}
        }
      ],
      "source": [
        "s,t,T = symbols(\"s t T\", real=True)\n",
        "\n",
        "f = Heaviside(1-t) * T \n",
        "F = laplace_transform(f, t, s, noconds=True)\n",
        "display(F)"
      ]
    },
    {
      "cell_type": "code",
      "execution_count": 77,
      "metadata": {
        "colab": {
          "base_uri": "https://localhost:8080/",
          "height": 53
        },
        "id": "pTIHv59HBjTs",
        "outputId": "1391a551-169f-4ebc-a4bc-c2ca29b9d84d"
      },
      "outputs": [
        {
          "output_type": "execute_result",
          "data": {
            "text/plain": [
              "T/s - T*exp(-s)/s"
            ],
            "text/latex": "$\\displaystyle \\frac{T}{s} - \\frac{T e^{- s}}{s}$"
          },
          "metadata": {},
          "execution_count": 77
        }
      ],
      "source": [
        "expand(F)"
      ]
    },
    {
      "cell_type": "markdown",
      "source": [
        "* [Link to step-by-step-solution](\"https://samyzaf.com/technion/ode/sol/chap6.17.1.pdf\")"
      ],
      "metadata": {
        "id": "DiTTKM-AWhPB"
      }
    },
    {
      "cell_type": "markdown",
      "metadata": {
        "id": "mAZpyCslBjTt"
      },
      "source": [
        "# Exercise 6.17.2\n",
        "\n",
        "$\n",
        "f(t) = \\\\\n",
        "0,        \\  0\\leq t \\leq 1 \\\\\n",
        "(t-1)^2,  \\  t > 1\n",
        "$"
      ]
    },
    {
      "cell_type": "code",
      "execution_count": 78,
      "metadata": {
        "colab": {
          "base_uri": "https://localhost:8080/",
          "height": 53
        },
        "outputId": "c877ea60-78ae-4a3f-dd25-debc626948ce",
        "id": "XVrOwdRfBjTt"
      },
      "outputs": [
        {
          "output_type": "display_data",
          "data": {
            "text/plain": [
              "2*exp(-s)/s**3"
            ],
            "text/latex": "$\\displaystyle \\frac{2 e^{- s}}{s^{3}}$"
          },
          "metadata": {}
        }
      ],
      "source": [
        "s,t,T = symbols(\"s t T\", real=True)\n",
        "    \n",
        "f = Heaviside(t-1) * (t-1)**2\n",
        "F = laplace_transform(f, t, s, noconds=True)\n",
        "display(F)"
      ]
    },
    {
      "cell_type": "markdown",
      "metadata": {
        "id": "M3FKwppLBjTt"
      },
      "source": [
        "### Alternative solution\n",
        "* In other cases we may need to proceed by definition .."
      ]
    },
    {
      "cell_type": "code",
      "execution_count": 79,
      "metadata": {
        "colab": {
          "base_uri": "https://localhost:8080/"
        },
        "id": "TZlnLTXJBjTt",
        "outputId": "6250eff7-97db-4f51-c34a-4324caf6f017"
      },
      "outputs": [
        {
          "output_type": "stream",
          "name": "stdout",
          "text": [
            "Piecewise(((-s**2*t**2 + 2*s**2*t - s**2 - 2*s*t + 2*s - 2)*exp(-s*t)/s**3, Ne(s**3, 0)), (t**3/3 - t**2 + t, True))\n"
          ]
        }
      ],
      "source": [
        "i = Integral(exp(-s*t) * (t-1)**2 , t)\n",
        "i = i.doit()\n",
        "print(i)"
      ]
    },
    {
      "cell_type": "markdown",
      "metadata": {
        "id": "rbaUXrVBBjTt"
      },
      "source": [
        "* Sympy gives two parts for cases in which $s$ is complex which does not concern us.\n",
        "* Only the first case is relevant:"
      ]
    },
    {
      "cell_type": "code",
      "execution_count": 80,
      "metadata": {
        "colab": {
          "base_uri": "https://localhost:8080/",
          "height": 53
        },
        "id": "cDAmOGnxBjTt",
        "outputId": "eba33b4b-f24e-4d3b-fb92-98a418febb24"
      },
      "outputs": [
        {
          "output_type": "display_data",
          "data": {
            "text/plain": [
              "2*exp(-s)/s**3"
            ],
            "text/latex": "$\\displaystyle \\frac{2 e^{- s}}{s^{3}}$"
          },
          "metadata": {}
        }
      ],
      "source": [
        "i = (-s**2*t**2 + 2*s**2*t - s**2 - 2*s*t + 2*s - 2)*exp(-s*t)/s**3\n",
        "F = -i.subs(t,1)\n",
        "display(F)"
      ]
    },
    {
      "cell_type": "markdown",
      "metadata": {
        "id": "yi9-Q9wbBjTt"
      },
      "source": [
        "# Exercise 6.17.3\n",
        "\n",
        "$\n",
        "f(t) = \\\\\n",
        "t^2,  \\  0 \\leq t < 2    \\\\\n",
        "4t,   \\  t \\geq 2\n",
        "$"
      ]
    },
    {
      "cell_type": "code",
      "execution_count": 81,
      "metadata": {
        "colab": {
          "base_uri": "https://localhost:8080/",
          "height": 56
        },
        "outputId": "98a875ba-f26d-4fa5-c847-3c3f9edb5338",
        "scrolled": true,
        "id": "A5KfZYn2BjTu"
      },
      "outputs": [
        {
          "output_type": "display_data",
          "data": {
            "text/plain": [
              "2*(2*s**2 + exp(2*s) - 1)*exp(-2*s)/s**3"
            ],
            "text/latex": "$\\displaystyle \\frac{2 \\cdot \\left(2 s^{2} + e^{2 s} - 1\\right) e^{- 2 s}}{s^{3}}$"
          },
          "metadata": {}
        }
      ],
      "source": [
        "s,t,T = symbols(\"s t T\", real=True)\n",
        "    \n",
        "f = Heaviside(2-t) * t**2 + Heaviside(t-2) * 4*t\n",
        "F = laplace_transform(f, t, s, noconds=True)\n",
        "display(F)"
      ]
    },
    {
      "cell_type": "code",
      "execution_count": 82,
      "metadata": {
        "colab": {
          "base_uri": "https://localhost:8080/",
          "height": 54
        },
        "id": "_tVtQV8rBjTu",
        "outputId": "b323364c-407e-4c05-deea-5ca090ef7791"
      },
      "outputs": [
        {
          "output_type": "execute_result",
          "data": {
            "text/plain": [
              "4*exp(-2*s)/s + 2/s**3 - 2*exp(-2*s)/s**3"
            ],
            "text/latex": "$\\displaystyle \\frac{4 e^{- 2 s}}{s} + \\frac{2}{s^{3}} - \\frac{2 e^{- 2 s}}{s^{3}}$"
          },
          "metadata": {},
          "execution_count": 82
        }
      ],
      "source": [
        "expand(F)"
      ]
    },
    {
      "cell_type": "markdown",
      "metadata": {
        "id": "yKLdvG41BjTu"
      },
      "source": [
        "# Exercise 6.17.5\n",
        "\n",
        "$\n",
        "f(t) = \\\\\n",
        "0,    \\  t<a \\\\\n",
        "5,  \\  a \\leq t < b    \\\\\n",
        "0,   \\  b< t \n",
        "$"
      ]
    },
    {
      "cell_type": "code",
      "execution_count": 83,
      "metadata": {
        "colab": {
          "base_uri": "https://localhost:8080/",
          "height": 54
        },
        "outputId": "c7e9ed9c-0607-4ac5-d168-03c4bcbb5a46",
        "id": "WKCNAHNPBjTu"
      },
      "outputs": [
        {
          "output_type": "display_data",
          "data": {
            "text/plain": [
              "-5*exp(-b*s)/s + 5*exp(-a*s)/s"
            ],
            "text/latex": "$\\displaystyle - \\frac{5 e^{- b s}}{s} + \\frac{5 e^{- a s}}{s}$"
          },
          "metadata": {}
        }
      ],
      "source": [
        "s,t,a,b = symbols(\"s t a b\", real=True)\n",
        "    \n",
        "f = 5*Heaviside(t-a) - 5*Heaviside(t-b)\n",
        "F = laplace_transform(f, t, s, noconds=True)\n",
        "#print(F)\n",
        "display(F)"
      ]
    },
    {
      "cell_type": "markdown",
      "metadata": {
        "id": "VYNQfoLhBjTu"
      },
      "source": [
        "* Lets try to plot an example for $a=3$, $b=7$."
      ]
    },
    {
      "cell_type": "code",
      "execution_count": 84,
      "metadata": {
        "colab": {
          "base_uri": "https://localhost:8080/",
          "height": 313
        },
        "id": "Bhtys8fWBjTu",
        "outputId": "606e501e-dd41-48bb-a831-f9b110e36847"
      },
      "outputs": [
        {
          "output_type": "display_data",
          "data": {
            "text/plain": [
              "<Figure size 432x288 with 1 Axes>"
            ],
            "image/png": "[encoded data removed]"
          },
          "metadata": {
            "needs_background": "light"
          }
        },
        {
          "output_type": "execute_result",
          "data": {
            "text/plain": [
              "<sympy.plotting.plot.Plot at 0x7fb1bf16f940>"
            ]
          },
          "metadata": {},
          "execution_count": 84
        }
      ],
      "source": [
        "f = 5*Heaviside(t-3) - 5*Heaviside(t-7)\n",
        "plot(f, (t,0,12))"
      ]
    },
    {
      "cell_type": "markdown",
      "metadata": {
        "id": "1wKOErbhqKWU"
      },
      "source": [
        "# **TO BE CONTINUED ...**\n",
        "* Any student with a basic Python programming skill\n",
        "  is welcome to continue and solve more exercises\n",
        "  from the\n",
        "<a href=\"https://samyzaf.com/technion/ode/ode.pdf\">\n",
        "Ordinal Differential Equations book\n",
        "</a>.\n",
        "\n",
        "* Send your solutions notebook to sz@samyzaf.com.\n",
        "* They will be checked and added to this notebook.\n",
        "* Thanks!!!"
      ]
    },
    {
      "cell_type": "code",
      "execution_count": 84,
      "metadata": {
        "id": "W69YSbejO4P-"
      },
      "outputs": [],
      "source": []
    }
  ],
  "metadata": {
    "colab": {
      "provenance": [],
      "include_colab_link": true
    },
    "kernelspec": {
      "display_name": "Python 3 (ipykernel)",
      "language": "python",
      "name": "python3"
    },
    "language_info": {
      "codemirror_mode": {
        "name": "ipython",
        "version": 3
      },
      "file_extension": ".py",
      "mimetype": "text/x-python",
      "name": "python",
      "nbconvert_exporter": "python",
      "pygments_lexer": "ipython3",
      "version": "3.7.11"
    }
  },
  "nbformat": 4,
  "nbformat_minor": 0
}