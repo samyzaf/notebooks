{
  "cells": [
    {
      "cell_type": "markdown",
      "metadata": {
        "id": "view-in-github",
        "colab_type": "text"
      },
      "source": [
        "<a href=\"https://colab.research.google.com/github/samyzaf/notebooks/blob/main/ode6.ipynb\" target=\"_parent\"><img src=\"https://colab.research.google.com/assets/colab-badge.svg\" alt=\"Open In Colab\"/></a>"
      ]
    },
    {
      "cell_type": "markdown",
      "metadata": {
        "id": "zo0mZHrOCICt"
      },
      "source": [
        "# Ordinary Differential Equations\n",
        "# Chapter 6: Solutions to exercises\n",
        "\n",
        "<a href=\"https://samyzaf.com/technion/ode/ode.pdf\">\n",
        "<img src=\"https://samyzaf.com/technion/ode/ode2.jpg\" alt=\"ode book cover\"/>\n",
        "</a>\n",
        "\n",
        "* We used Python **Sympy** package and the Jupyter-Lab enviroments for\n",
        "  code-generating step-bystep final result for most of the exercises.\n",
        "* These packages are still under active development, and are not yet fully tested\n",
        "  and/or ready to cope with all ode's or Transforms.\n",
        "  So we will appreciate your careful check and feedback of our work.\n",
        "* The new site https://mathdf.com seems to be a great source\n",
        "  for obtaining full step-by-step solutions for differential equations.\n",
        "  Please use it for obtaining full solutions and let us know\n",
        "  if it meets expectations. We will be glad to receive full solutions\n",
        "  and add them here later (sz@samyzaf.com).\n",
        "* This notebook can be edited and executed by clicking\n",
        "  the **open in colab** button.\n",
        "* These are only a small number of solutions to exercises in capter 6.\n",
        "  Hopefully this will encourage students to try to solve more\n",
        "  exercises with similar methods. We will be glad to accept notebooks\n",
        "  with solutions to other exercises in this book.\n",
        "  Please send them to sz@samyzaf.com."
      ]
    },
    {
      "cell_type": "code",
      "execution_count": 1,
      "metadata": {
        "colab": {
          "base_uri": "https://localhost:8080/"
        },
        "id": "M6sQe4JlsK7u",
        "outputId": "85378557-05ce-4d0d-f7e9-1963c4223ce7"
      },
      "outputs": [
        {
          "output_type": "stream",
          "name": "stdout",
          "text": [
            "Looking in indexes: https://pypi.org/simple, https://us-python.pkg.dev/colab-wheels/public/simple/\n",
            "Requirement already satisfied: sympy in /usr/local/lib/python3.8/dist-packages (1.7.1)\n",
            "Collecting sympy\n",
            "  Downloading sympy-1.11.1-py3-none-any.whl (6.5 MB)\n",
            "\u001b[K     |████████████████████████████████| 6.5 MB 5.2 MB/s \n",
            "\u001b[?25hRequirement already satisfied: mpmath>=0.19 in /usr/local/lib/python3.8/dist-packages (from sympy) (1.2.1)\n",
            "Installing collected packages: sympy\n",
            "  Attempting uninstall: sympy\n",
            "    Found existing installation: sympy 1.7.1\n",
            "    Uninstalling sympy-1.7.1:\n",
            "      Successfully uninstalled sympy-1.7.1\n",
            "Successfully installed sympy-1.11.1\n"
          ]
        }
      ],
      "source": [
        "%pip install --upgrade sympy"
      ]
    },
    {
      "cell_type": "code",
      "execution_count": 2,
      "metadata": {
        "id": "QO4VgM1r1vEy"
      },
      "outputs": [],
      "source": [
        "from sympy import *\n",
        "from IPython.display import HTML\n",
        "import matplotlib.pyplot as plt"
      ]
    },
    {
      "cell_type": "markdown",
      "metadata": {
        "id": "YoIKr1sI4NRE",
        "tags": []
      },
      "source": [
        "# Example\n",
        "\n",
        "* The following is a simple example of taking a Laplace transform of $f(t)$ and\n",
        "  then using partial fractions to simplify the result.\n",
        "\n",
        "$$\n",
        "f(t) = 2t + 3e^{2t} \\cos 3t\n",
        "$$\n"
      ]
    },
    {
      "cell_type": "code",
      "execution_count": 3,
      "metadata": {
        "colab": {
          "base_uri": "https://localhost:8080/",
          "height": 143
        },
        "collapsed": true,
        "id": "FVVNYpnrXxRv",
        "jupyter": {
          "outputs_hidden": true,
          "source_hidden": true
        },
        "outputId": "277100f1-3922-44b9-ba87-c36c34780699",
        "tags": []
      },
      "outputs": [
        {
          "output_type": "stream",
          "name": "stdout",
          "text": [
            "Sympy expression:\n",
            "(3*s**2*(s + 2) + 2*(s + 2)**2 + 18)/(s**2*((s + 2)**2 + 9))\n",
            "\n",
            "Math expression\n"
          ]
        },
        {
          "output_type": "display_data",
          "data": {
            "text/plain": [
              "(3*s**2*(s + 2) + 2*(s + 2)**2 + 18)/(s**2*((s + 2)**2 + 9))"
            ],
            "text/latex": "$\\displaystyle \\frac{3 s^{2} \\left(s + 2\\right) + 2 \\left(s + 2\\right)^{2} + 18}{s^{2} \\left(\\left(s + 2\\right)^{2} + 9\\right)}$"
          },
          "metadata": {}
        }
      ],
      "source": [
        "s,t = symbols(\"s,t\")\n",
        "f = 2*t + 3*exp(-2*t) * cos(3*t)\n",
        "F = laplace_transform(f, t, s, noconds=True)\n",
        "print(\"Sympy expression:\")\n",
        "print(F)\n",
        "print(\"\\nMath expression\")\n",
        "display(F)"
      ]
    },
    {
      "cell_type": "code",
      "execution_count": 4,
      "metadata": {
        "colab": {
          "base_uri": "https://localhost:8080/",
          "height": 55
        },
        "id": "5RSF9RYiCliP",
        "outputId": "2e05632b-b118-4960-d9d7-bda8b535856b"
      },
      "outputs": [
        {
          "output_type": "execute_result",
          "data": {
            "text/plain": [
              "3*s**3/(s**4 + 4*s**3 + 13*s**2) + 8*s**2/(s**4 + 4*s**3 + 13*s**2) + 8*s/(s**4 + 4*s**3 + 13*s**2) + 26/(s**4 + 4*s**3 + 13*s**2)"
            ],
            "text/latex": "$\\displaystyle \\frac{3 s^{3}}{s^{4} + 4 s^{3} + 13 s^{2}} + \\frac{8 s^{2}}{s^{4} + 4 s^{3} + 13 s^{2}} + \\frac{8 s}{s^{4} + 4 s^{3} + 13 s^{2}} + \\frac{26}{s^{4} + 4 s^{3} + 13 s^{2}}$"
          },
          "metadata": {},
          "execution_count": 4
        }
      ],
      "source": [
        "expand(F)"
      ]
    },
    {
      "cell_type": "code",
      "execution_count": 5,
      "metadata": {
        "colab": {
          "base_uri": "https://localhost:8080/",
          "height": 54
        },
        "id": "aNcH72F6XxRw",
        "outputId": "dafc4ab6-dff0-42e5-ffe1-972b49d7bd93",
        "tags": []
      },
      "outputs": [
        {
          "output_type": "display_data",
          "data": {
            "text/plain": [
              "3*(s + 2)/(s**2 + 4*s + 13) + 2/s**2"
            ],
            "text/latex": "$\\displaystyle \\frac{3 \\left(s + 2\\right)}{s^{2} + 4 s + 13} + \\frac{2}{s^{2}}$"
          },
          "metadata": {}
        }
      ],
      "source": [
        "# Partial Fractions:\n",
        "F = polys.partfrac.apart(F)\n",
        "display(F)"
      ]
    },
    {
      "cell_type": "code",
      "execution_count": 6,
      "metadata": {
        "colab": {
          "base_uri": "https://localhost:8080/",
          "height": 52
        },
        "id": "itgJZ9jbC0Vv",
        "outputId": "1bc720d5-b134-4e45-ea15-993909b4632c",
        "tags": []
      },
      "outputs": [
        {
          "output_type": "execute_result",
          "data": {
            "text/plain": [
              "3*s/(s**2 + 4*s + 13) + 6/(s**2 + 4*s + 13) + 2/s**2"
            ],
            "text/latex": "$\\displaystyle \\frac{3 s}{s^{2} + 4 s + 13} + \\frac{6}{s^{2} + 4 s + 13} + \\frac{2}{s^{2}}$"
          },
          "metadata": {},
          "execution_count": 6
        }
      ],
      "source": [
        "expand(F)"
      ]
    },
    {
      "cell_type": "markdown",
      "metadata": {
        "id": "7kZIkO5nXxRx"
      },
      "source": [
        "# Exercise 6.2\n",
        "\n",
        "$f(t) =\n",
        "\\sin t \\ (0 \\leq t \\leq 2\\pi),\n",
        "\\quad 0 \\ (2\\pi < t)\n",
        "$\n"
      ]
    },
    {
      "cell_type": "code",
      "execution_count": 7,
      "metadata": {
        "colab": {
          "base_uri": "https://localhost:8080/",
          "height": 74
        },
        "id": "NZnh7uRSHpf3",
        "outputId": "1150163e-8d2d-48a5-9046-c84cbce1dee2"
      },
      "outputs": [
        {
          "output_type": "stream",
          "name": "stdout",
          "text": [
            "(2*exp(2*pi*s) - 2)*exp(-2*pi*s)/(s**2 + 4)\n"
          ]
        },
        {
          "output_type": "display_data",
          "data": {
            "text/plain": [
              "(2*exp(2*pi*s) - 2)*exp(-2*pi*s)/(s**2 + 4)"
            ],
            "text/latex": "$\\displaystyle \\frac{\\left(2 e^{2 \\pi s} - 2\\right) e^{- 2 \\pi s}}{s^{2} + 4}$"
          },
          "metadata": {}
        }
      ],
      "source": [
        "t = symbols(\"t\", real=True, positive=True)\n",
        "s = symbols(\"s\", real=True)\n",
        "\n",
        "f = Piecewise((0, t < 0), (sin(2*t), t<=2*pi), (0, True))\n",
        "    \n",
        "T = laplace_transform(f, t, s, noconds=True)\n",
        "print(T)\n",
        "display(T)"
      ]
    },
    {
      "cell_type": "markdown",
      "metadata": {
        "id": "ZyFYRsm34NRO"
      },
      "source": [
        "# Exercise 6.4\n",
        "\n",
        "$f(t) = \\\\\n",
        " 1,    \\quad    0 \\leq t \\leq 2   \\\\\n",
        "-1,    \\quad    2 < t \\leq 4\n",
        "$"
      ]
    },
    {
      "cell_type": "code",
      "execution_count": 8,
      "metadata": {
        "colab": {
          "base_uri": "https://localhost:8080/",
          "height": 88
        },
        "id": "pta_vjpo4NRQ",
        "outputId": "ff4e6ba6-2d3c-4386-cc0e-58304fe3ab8a"
      },
      "outputs": [
        {
          "output_type": "stream",
          "name": "stdout",
          "text": [
            "Piecewise(((exp(4*s) - 2*exp(2*s) + 1)*exp(-4*s)/s, (s > 0) | (s < 0)), (0, True))\n"
          ]
        },
        {
          "output_type": "display_data",
          "data": {
            "text/plain": [
              "Piecewise(((exp(4*s) - 2*exp(2*s) + 1)*exp(-4*s)/s, (s > 0) | (s < 0)), (0, True))"
            ],
            "text/latex": "$\\displaystyle \\begin{cases} \\frac{\\left(e^{4 s} - 2 e^{2 s} + 1\\right) e^{- 4 s}}{s} & \\text{for}\\: s > 0 \\vee s < 0 \\\\0 & \\text{otherwise} \\end{cases}$"
          },
          "metadata": {}
        }
      ],
      "source": [
        "t = symbols(\"t\", real=True, positive=True)\n",
        "s = symbols(\"s\", real=True)\n",
        "    \n",
        "f = Piecewise((1, t<=2), (-1, t<=4), (0, True))\n",
        "#? f = sign(2-(t%4)) # This is probably not what was meant ?!\n",
        "    \n",
        "T = laplace_transform(f, t, s, noconds=True)\n",
        "print(T)\n",
        "display(T)"
      ]
    },
    {
      "cell_type": "code",
      "execution_count": 9,
      "metadata": {
        "colab": {
          "base_uri": "https://localhost:8080/",
          "height": 54
        },
        "id": "Jt1h8PWLZ05u",
        "outputId": "767b1ba9-c769-473c-fa1a-34ba77e529db"
      },
      "outputs": [
        {
          "output_type": "execute_result",
          "data": {
            "text/plain": [
              "1/s - 2*exp(-2*s)/s + exp(-4*s)/s"
            ],
            "text/latex": "$\\displaystyle \\frac{1}{s} - \\frac{2 e^{- 2 s}}{s} + \\frac{e^{- 4 s}}{s}$"
          },
          "metadata": {},
          "execution_count": 9
        }
      ],
      "source": [
        "F= (exp(4*s) - 2*exp(2*s) + 1)*exp(-4*s)/s\n",
        "expand(F)"
      ]
    },
    {
      "cell_type": "markdown",
      "metadata": {
        "id": "4SP199FvXxR1"
      },
      "source": [
        "* It's not clear if this is equal to $\\tanh(s)/s$ !?\n",
        "* Probably the problem is missing somethin!? It does not specify anything about $t>4$ ..."
      ]
    },
    {
      "cell_type": "markdown",
      "metadata": {
        "id": "poUTpkjx4NRR"
      },
      "source": [
        "# Exercise 6.5.1\n",
        "\n",
        "$e^{-t} \\cos 2t$"
      ]
    },
    {
      "cell_type": "code",
      "execution_count": 10,
      "metadata": {
        "colab": {
          "base_uri": "https://localhost:8080/",
          "height": 58
        },
        "id": "lVU3PItM4NRT",
        "outputId": "71b26e94-b38b-42fa-e1b3-8601cc5c6d9a"
      },
      "outputs": [
        {
          "output_type": "display_data",
          "data": {
            "text/plain": [
              "(s + 1)/((s + 1)**2 + 1)"
            ],
            "text/latex": "$\\displaystyle \\frac{s + 1}{\\left(s + 1\\right)^{2} + 1}$"
          },
          "metadata": {}
        }
      ],
      "source": [
        "t = symbols(\"t\", real=True, positive=True)\n",
        "s = symbols(\"s\", real=True)\n",
        "\n",
        "f = exp(-t) * cos(t)\n",
        "F = laplace_transform(f, t, s, noconds=True)\n",
        "display(F)"
      ]
    },
    {
      "cell_type": "code",
      "execution_count": 11,
      "metadata": {
        "colab": {
          "base_uri": "https://localhost:8080/",
          "height": 52
        },
        "id": "9kJeTe7sZUrr",
        "outputId": "b44092b1-d9a1-4ecf-92a8-9aed00906a8e"
      },
      "outputs": [
        {
          "output_type": "execute_result",
          "data": {
            "text/plain": [
              "(s + 1)/(s**2 + 2*s + 2)"
            ],
            "text/latex": "$\\displaystyle \\frac{s + 1}{s^{2} + 2 s + 2}$"
          },
          "metadata": {},
          "execution_count": 11
        }
      ],
      "source": [
        "polys.partfrac.apart(F)"
      ]
    },
    {
      "cell_type": "markdown",
      "metadata": {
        "id": "nESqAJ_O4NRU"
      },
      "source": [
        "# Exercise 6.5.2\n",
        "\n",
        "$e^{-4t} \\cosh 2t$\n"
      ]
    },
    {
      "cell_type": "code",
      "execution_count": 12,
      "metadata": {
        "colab": {
          "base_uri": "https://localhost:8080/",
          "height": 58
        },
        "id": "q0_RWXtb4NRV",
        "outputId": "bc8ca5b0-4b7b-4b1c-ec76-ffcdb4f0d19c"
      },
      "outputs": [
        {
          "output_type": "display_data",
          "data": {
            "text/plain": [
              "(s + 4)/((s + 4)**2 - 4)"
            ],
            "text/latex": "$\\displaystyle \\frac{s + 4}{\\left(s + 4\\right)^{2} - 4}$"
          },
          "metadata": {}
        }
      ],
      "source": [
        "t = symbols(\"t\", real=True, positive=True)\n",
        "s = symbols(\"s\", real=True)\n",
        "\n",
        "f = exp(-4*t) * cosh(2*t)\n",
        "F = laplace_transform(f, t, s, noconds=True)\n",
        "display(F)"
      ]
    },
    {
      "cell_type": "code",
      "execution_count": 13,
      "metadata": {
        "colab": {
          "base_uri": "https://localhost:8080/",
          "height": 55
        },
        "id": "qYU-EHpXXxR4",
        "outputId": "6d5a15eb-cfda-4480-e8e8-d47965184799"
      },
      "outputs": [
        {
          "output_type": "execute_result",
          "data": {
            "text/plain": [
              "1/(2*(s + 6)) + 1/(2*(s + 2))"
            ],
            "text/latex": "$\\displaystyle \\frac{1}{2 \\left(s + 6\\right)} + \\frac{1}{2 \\left(s + 2\\right)}$"
          },
          "metadata": {},
          "execution_count": 13
        }
      ],
      "source": [
        "polys.partfrac.apart(F)"
      ]
    },
    {
      "cell_type": "markdown",
      "metadata": {
        "id": "XsmZ4uTU4NRW"
      },
      "source": [
        "# Exercise 6.5.3\n",
        "\n",
        "$(t^2+1)^2$\n"
      ]
    },
    {
      "cell_type": "code",
      "execution_count": 14,
      "metadata": {
        "colab": {
          "base_uri": "https://localhost:8080/",
          "height": 54
        },
        "id": "aAmznmFK4NRX",
        "outputId": "99883622-e5ff-438d-ec4e-9f5011e09ce4"
      },
      "outputs": [
        {
          "output_type": "display_data",
          "data": {
            "text/plain": [
              "(s**4 + 4*s**2 + 24)/s**5"
            ],
            "text/latex": "$\\displaystyle \\frac{s^{4} + 4 s^{2} + 24}{s^{5}}$"
          },
          "metadata": {}
        }
      ],
      "source": [
        "t = symbols(\"t\", real=True, positive=True)\n",
        "s = symbols(\"s\", real=True)\n",
        "\n",
        "f = (t**2 + 1)**2\n",
        "F = laplace_transform(f, t, s, noconds=True)\n",
        "display(F)"
      ]
    },
    {
      "cell_type": "code",
      "execution_count": 15,
      "metadata": {
        "colab": {
          "base_uri": "https://localhost:8080/",
          "height": 51
        },
        "id": "3Yqnne3GXxR6",
        "outputId": "36e04d78-efcc-45a7-d306-5c2056b18ce5"
      },
      "outputs": [
        {
          "output_type": "execute_result",
          "data": {
            "text/plain": [
              "1/s + 4/s**3 + 24/s**5"
            ],
            "text/latex": "$\\displaystyle \\frac{1}{s} + \\frac{4}{s^{3}} + \\frac{24}{s^{5}}$"
          },
          "metadata": {},
          "execution_count": 15
        }
      ],
      "source": [
        "polys.partfrac.apart(F)"
      ]
    },
    {
      "cell_type": "markdown",
      "metadata": {
        "id": "hjueVl8n4NRZ"
      },
      "source": [
        "# Exercise 6.5.4\n",
        "\n",
        "$3 \\cosh t - 4\\sinh 5t$\n"
      ]
    },
    {
      "cell_type": "code",
      "execution_count": 16,
      "metadata": {
        "colab": {
          "base_uri": "https://localhost:8080/",
          "height": 52
        },
        "id": "ToRZvmw84NRZ",
        "outputId": "7c3449ea-07f1-480b-e35c-a662fe11fcce"
      },
      "outputs": [
        {
          "output_type": "display_data",
          "data": {
            "text/plain": [
              "3*s/(s**2 - 1) - 20/(s**2 - 25)"
            ],
            "text/latex": "$\\displaystyle \\frac{3 s}{s^{2} - 1} - \\frac{20}{s^{2} - 25}$"
          },
          "metadata": {}
        }
      ],
      "source": [
        "t = symbols(\"t\", real=True, positive=True)\n",
        "s = symbols(\"s\", real=True)\n",
        "\n",
        "f = 3*cosh(t) - 4*sinh(5*t)\n",
        "F = laplace_transform(f, t, s, noconds=True)\n",
        "display(F)"
      ]
    },
    {
      "cell_type": "code",
      "execution_count": 17,
      "metadata": {
        "colab": {
          "base_uri": "https://localhost:8080/",
          "height": 55
        },
        "id": "R8vU5f33XxR7",
        "outputId": "5441c106-e60f-4f09-9b12-000b978885a8"
      },
      "outputs": [
        {
          "output_type": "execute_result",
          "data": {
            "text/plain": [
              "2/(s + 5) + 3/(2*(s + 1)) + 3/(2*(s - 1)) - 2/(s - 5)"
            ],
            "text/latex": "$\\displaystyle \\frac{2}{s + 5} + \\frac{3}{2 \\left(s + 1\\right)} + \\frac{3}{2 \\left(s - 1\\right)} - \\frac{2}{s - 5}$"
          },
          "metadata": {},
          "execution_count": 17
        }
      ],
      "source": [
        "polys.partfrac.apart(F)"
      ]
    },
    {
      "cell_type": "markdown",
      "metadata": {
        "id": "ZCi3ZoFI4NRa"
      },
      "source": [
        "# Exercise 6.5.5\n",
        "\n",
        "$t^n \\sin t$"
      ]
    },
    {
      "cell_type": "code",
      "execution_count": 18,
      "metadata": {
        "colab": {
          "base_uri": "https://localhost:8080/",
          "height": 59
        },
        "id": "LZ9Zy66h4NRb",
        "outputId": "a7b8e863-060b-45d4-b08d-08da86ba17f8"
      },
      "outputs": [
        {
          "output_type": "display_data",
          "data": {
            "text/plain": [
              "-I*(s**2 + 1)**(-n - 1)*(-s*(s - I)**n + s*(s + I)**n + I*(s - I)**n + I*(s + I)**n)*factorial(n)/2"
            ],
            "text/latex": "$\\displaystyle - \\frac{i \\left(s^{2} + 1\\right)^{- n - 1} \\left(- s \\left(s - i\\right)^{n} + s \\left(s + i\\right)^{n} + i \\left(s - i\\right)^{n} + i \\left(s + i\\right)^{n}\\right) n!}{2}$"
          },
          "metadata": {}
        }
      ],
      "source": [
        "t = symbols(\"t\", real=True, positive=True)\n",
        "s = symbols(\"s\", real=True)\n",
        "n = symbols(\"n\", integer=True, positive=True)\n",
        "\n",
        "f = t**n * sin(t)\n",
        "F = laplace_transform(f, t, s, noconds=True)\n",
        "display(F)"
      ]
    },
    {
      "cell_type": "code",
      "execution_count": 19,
      "metadata": {
        "colab": {
          "base_uri": "https://localhost:8080/",
          "height": 58
        },
        "id": "zUAs3v6vXxR8",
        "outputId": "8ff094ee-bfdf-4b16-b536-cc90bdc95dbb"
      },
      "outputs": [
        {
          "output_type": "execute_result",
          "data": {
            "text/plain": [
              "I*s*(s - I)**n*factorial(n)/(2*s**2*(s**2 + 1)**n + 2*(s**2 + 1)**n) - I*s*(s + I)**n*factorial(n)/(2*s**2*(s**2 + 1)**n + 2*(s**2 + 1)**n) + (s - I)**n*factorial(n)/(2*s**2*(s**2 + 1)**n + 2*(s**2 + 1)**n) + (s + I)**n*factorial(n)/(2*s**2*(s**2 + 1)**n + 2*(s**2 + 1)**n)"
            ],
            "text/latex": "$\\displaystyle \\frac{i s \\left(s - i\\right)^{n} n!}{2 s^{2} \\left(s^{2} + 1\\right)^{n} + 2 \\left(s^{2} + 1\\right)^{n}} - \\frac{i s \\left(s + i\\right)^{n} n!}{2 s^{2} \\left(s^{2} + 1\\right)^{n} + 2 \\left(s^{2} + 1\\right)^{n}} + \\frac{\\left(s - i\\right)^{n} n!}{2 s^{2} \\left(s^{2} + 1\\right)^{n} + 2 \\left(s^{2} + 1\\right)^{n}} + \\frac{\\left(s + i\\right)^{n} n!}{2 s^{2} \\left(s^{2} + 1\\right)^{n} + 2 \\left(s^{2} + 1\\right)^{n}}$"
          },
          "metadata": {},
          "execution_count": 19
        }
      ],
      "source": [
        "expand(F)"
      ]
    },
    {
      "cell_type": "markdown",
      "metadata": {
        "id": "v_C2mMNjXxR9"
      },
      "source": [
        "* Sometimes it's better to look at specific examples:"
      ]
    },
    {
      "cell_type": "code",
      "execution_count": 20,
      "metadata": {
        "colab": {
          "base_uri": "https://localhost:8080/",
          "height": 58
        },
        "id": "vvWX0aY8XxR9",
        "outputId": "a914c53f-10ea-4152-d7f2-ea09e529c56b"
      },
      "outputs": [
        {
          "output_type": "display_data",
          "data": {
            "text/plain": [
              "12*I/(s + I)**5 - 12*I/(s - I)**5"
            ],
            "text/latex": "$\\displaystyle \\frac{12 i}{\\left(s + i\\right)^{5}} - \\frac{12 i}{\\left(s - i\\right)^{5}}$"
          },
          "metadata": {}
        }
      ],
      "source": [
        "f = t**4 * sin(t)\n",
        "F = laplace_transform(f, t, s, noconds=True)\n",
        "display(F)"
      ]
    },
    {
      "cell_type": "code",
      "execution_count": 21,
      "metadata": {
        "colab": {
          "base_uri": "https://localhost:8080/",
          "height": 58
        },
        "id": "G8uv6qjNXxR9",
        "outputId": "811201e2-9e32-4a89-cfd9-019dc0dc2ded"
      },
      "outputs": [
        {
          "output_type": "display_data",
          "data": {
            "text/plain": [
              "60*I/(s + I)**6 - 60*I/(s - I)**6"
            ],
            "text/latex": "$\\displaystyle \\frac{60 i}{\\left(s + i\\right)^{6}} - \\frac{60 i}{\\left(s - i\\right)^{6}}$"
          },
          "metadata": {}
        }
      ],
      "source": [
        "f = t**5 * sin(t)\n",
        "F = laplace_transform(f, t, s, noconds=True)\n",
        "display(F)"
      ]
    },
    {
      "cell_type": "code",
      "execution_count": 22,
      "metadata": {
        "colab": {
          "base_uri": "https://localhost:8080/",
          "height": 58
        },
        "id": "0_AHqIF0XxR-",
        "outputId": "a68f4ff2-c1e3-417f-fc91-c1f7770e4bc8"
      },
      "outputs": [
        {
          "output_type": "display_data",
          "data": {
            "text/plain": [
              "360*I/(s + I)**7 - 360*I/(s - I)**7"
            ],
            "text/latex": "$\\displaystyle \\frac{360 i}{\\left(s + i\\right)^{7}} - \\frac{360 i}{\\left(s - i\\right)^{7}}$"
          },
          "metadata": {}
        }
      ],
      "source": [
        "f = t**6 * sin(t)\n",
        "F = laplace_transform(f, t, s, noconds=True)\n",
        "display(F)"
      ]
    },
    {
      "cell_type": "code",
      "execution_count": 23,
      "metadata": {
        "colab": {
          "base_uri": "https://localhost:8080/",
          "height": 58
        },
        "id": "JKycWFKVXxR-",
        "outputId": "8ef61590-a1a5-44c2-ec5c-d8a6e0d43f4c"
      },
      "outputs": [
        {
          "output_type": "display_data",
          "data": {
            "text/plain": [
              "2520*I/(s + I)**8 - 2520*I/(s - I)**8"
            ],
            "text/latex": "$\\displaystyle \\frac{2520 i}{\\left(s + i\\right)^{8}} - \\frac{2520 i}{\\left(s - i\\right)^{8}}$"
          },
          "metadata": {}
        }
      ],
      "source": [
        "f = t**7 * sin(t)\n",
        "F = laplace_transform(f, t, s, noconds=True)\n",
        "display(F)"
      ]
    },
    {
      "cell_type": "markdown",
      "metadata": {
        "id": "WOh-G_fmXxR-"
      },
      "source": [
        "* Looks like the shortest general formula is:\n",
        "\n",
        "$\\displaystyle\n",
        "\\frac{in!}{2(s+i)^{n+1}}\n",
        "-\n",
        "\\frac{in!}{2(s-i)^{n+1}}\n",
        "$"
      ]
    },
    {
      "cell_type": "markdown",
      "metadata": {
        "id": "9PGQ_yxX4NRd"
      },
      "source": [
        "# Exercise 6.5.6\n",
        "\n",
        "$\\dfrac{1}{(t-a)(t-b)}$"
      ]
    },
    {
      "cell_type": "code",
      "execution_count": 24,
      "metadata": {
        "colab": {
          "base_uri": "https://localhost:8080/",
          "height": 58
        },
        "id": "jEJmLcwk4NRd",
        "outputId": "56881990-36f2-4c08-bbd7-2cd4ccb7ffe4"
      },
      "outputs": [
        {
          "output_type": "display_data",
          "data": {
            "text/plain": [
              "LaplaceTransform(1/(a*b - a*t - b*t + t**2), t, s)"
            ],
            "text/latex": "$\\displaystyle \\mathcal{L}_{t}\\left[\\frac{1}{a b - a t - b t + t^{2}}\\right]\\left(s\\right)$"
          },
          "metadata": {}
        }
      ],
      "source": [
        "t = symbols(\"t\", real=True, positive=True)\n",
        "s = symbols(\"s\", real=True)\n",
        "a,b = symbols(\"a b\", real=True)\n",
        "f = 1 / ((t-a)*(t-b))\n",
        "F = laplace_transform(f, t, s, noconds=True)\n",
        "display(F)"
      ]
    },
    {
      "cell_type": "markdown",
      "metadata": {
        "id": "8GixvyUqXxR_"
      },
      "source": [
        "* As we see, Sympy 1.11.1 fails to give a meaningful result.\n",
        "* In such cases it's worth trying some specific cases of the general\n",
        "  problem and help Sympy with partial fractions ..."
      ]
    },
    {
      "cell_type": "code",
      "execution_count": 25,
      "metadata": {
        "colab": {
          "base_uri": "https://localhost:8080/",
          "height": 73
        },
        "id": "iFxEPUI3fwgn",
        "outputId": "a2d1426f-c33e-4dcc-bf3e-fb42f4c65030"
      },
      "outputs": [
        {
          "output_type": "stream",
          "name": "stdout",
          "text": [
            "-1/(4*(t + 7)) + 1/(4*(t + 3))\n"
          ]
        },
        {
          "output_type": "display_data",
          "data": {
            "text/plain": [
              "-1/(4*(t + 7)) + 1/(4*(t + 3))"
            ],
            "text/latex": "$\\displaystyle - \\frac{1}{4 \\left(t + 7\\right)} + \\frac{1}{4 \\left(t + 3\\right)}$"
          },
          "metadata": {}
        }
      ],
      "source": [
        "f = 1 / ((t+3)*(t+7))\n",
        "f2 = polys.partfrac.apart(f)\n",
        "print(f2)\n",
        "display(f2)"
      ]
    },
    {
      "cell_type": "code",
      "execution_count": 26,
      "metadata": {
        "colab": {
          "base_uri": "https://localhost:8080/",
          "height": 73
        },
        "id": "872Vf4FoXxSA",
        "outputId": "e8be5a53-0883-4c94-abe4-61553eaf97d9"
      },
      "outputs": [
        {
          "output_type": "stream",
          "name": "stdout",
          "text": [
            "(-exp(4*s)*Ei(-3*s) + Ei(-7*s))*exp(-7*s)/4\n"
          ]
        },
        {
          "output_type": "display_data",
          "data": {
            "text/plain": [
              "(-exp(4*s)*Ei(-3*s) + Ei(-7*s))*exp(-7*s)/4"
            ],
            "text/latex": "$\\displaystyle \\frac{\\left(- e^{4 s} \\operatorname{Ei}{\\left(- 3 s \\right)} + \\operatorname{Ei}{\\left(- 7 s \\right)}\\right) e^{- 7 s}}{4}$"
          },
          "metadata": {}
        }
      ],
      "source": [
        "F = laplace_transform(f2, t, s, noconds=True)\n",
        "print(F)\n",
        "display(F)"
      ]
    },
    {
      "cell_type": "markdown",
      "metadata": {
        "id": "i8mTQdZTXxSA"
      },
      "source": [
        "The function Ei is\n",
        "\n",
        "$\\displaystyle\n",
        "\\operatorname{Ei}(x)\n",
        "=\n",
        "\\sum_{n=1}^\\infty \\frac{x^n}{n\\, n!}\n",
        "+ \\log(x) + \\gamma\n",
        "=\n",
        "\\int_{-\\infty}^x \\frac{e^t}{t} \\mathrm{d}t\n",
        "\\\\\n",
        "\\gamma = \\text{Euler Constant}\n",
        "$"
      ]
    },
    {
      "cell_type": "markdown",
      "metadata": {
        "id": "wpOgBOudXxSA"
      },
      "source": [
        "* This exercise probably exceeds the level required for this course and should be dropped\n",
        "  if no basic solution is found."
      ]
    },
    {
      "cell_type": "markdown",
      "metadata": {
        "id": "xdFm4Isz4NRe"
      },
      "source": [
        "# Exercise 6.5.7\n",
        "\n",
        "$\\dfrac{3}{2t-1}$"
      ]
    },
    {
      "cell_type": "code",
      "execution_count": 27,
      "metadata": {
        "colab": {
          "base_uri": "https://localhost:8080/",
          "height": 56
        },
        "id": "RdIBmV9V4NRe",
        "outputId": "2d4f0170-888d-46a6-c0cf-dee737da0089"
      },
      "outputs": [
        {
          "output_type": "display_data",
          "data": {
            "text/plain": [
              "-3*exp(s/2)*Ei(s/2)/2"
            ],
            "text/latex": "$\\displaystyle - \\frac{3 e^{\\frac{s}{2}} \\operatorname{Ei}{\\left(\\frac{s}{2} \\right)}}{2}$"
          },
          "metadata": {}
        }
      ],
      "source": [
        "t = symbols(\"t\", real=True, positive=True)\n",
        "s = symbols(\"s\", real=True)\n",
        "f = 3 / (2*t - 1)\n",
        "F = laplace_transform(f, t, s, noconds=True)\n",
        "display(F)"
      ]
    },
    {
      "cell_type": "markdown",
      "metadata": {
        "id": "HdBCeA3DXxSB"
      },
      "source": [
        "* This exercise probably exceeds the level required for this course and should be dropped\n",
        "  if no basic solution is found."
      ]
    },
    {
      "cell_type": "markdown",
      "metadata": {
        "id": "qvZ_rgOD4NRh"
      },
      "source": [
        "# Exercise 6.6.1\n",
        "\n",
        "$\n",
        "f(t) = \\\\\n",
        "1,  \\ 0\\leq t < 1 \\\\\n",
        "0,  \\ 1\\leq t < 2 \\\\\n",
        "1,  \\ 2\\leq t < 3 \\\\\n",
        "0,  \\ 3\\leq t<\\infty\n",
        "$\n",
        "\n"
      ]
    },
    {
      "cell_type": "code",
      "execution_count": 28,
      "metadata": {
        "colab": {
          "base_uri": "https://localhost:8080/",
          "height": 73
        },
        "id": "S6r9SRWr4NRh",
        "outputId": "055e761e-e615-4e8b-f4b2-595a2084f02d"
      },
      "outputs": [
        {
          "output_type": "stream",
          "name": "stdout",
          "text": [
            "(-(1 - exp(s))*exp(2*s) + exp(s) - 1)*exp(-3*s)/s\n"
          ]
        },
        {
          "output_type": "display_data",
          "data": {
            "text/plain": [
              "(-(1 - exp(s))*exp(2*s) + exp(s) - 1)*exp(-3*s)/s"
            ],
            "text/latex": "$\\displaystyle \\frac{\\left(- \\left(1 - e^{s}\\right) e^{2 s} + e^{s} - 1\\right) e^{- 3 s}}{s}$"
          },
          "metadata": {}
        }
      ],
      "source": [
        "t = symbols(\"t\", real=True, positive=True)\n",
        "s = symbols(\"s\", real=True)\n",
        "    \n",
        "f = Heaviside(1-t) + Heaviside(t-2) - Heaviside(t-3)\n",
        "F = laplace_transform(f, t, s, noconds=True)\n",
        "print(F)\n",
        "display(F)"
      ]
    },
    {
      "cell_type": "code",
      "execution_count": 29,
      "metadata": {
        "colab": {
          "base_uri": "https://localhost:8080/",
          "height": 54
        },
        "id": "A1onUSKCBjTe",
        "outputId": "b5860e51-9fd3-4d8d-ea93-684d5be53d10"
      },
      "outputs": [
        {
          "output_type": "execute_result",
          "data": {
            "text/plain": [
              "1/s - exp(-s)/s + exp(-2*s)/s - exp(-3*s)/s"
            ],
            "text/latex": "$\\displaystyle \\frac{1}{s} - \\frac{e^{- s}}{s} + \\frac{e^{- 2 s}}{s} - \\frac{e^{- 3 s}}{s}$"
          },
          "metadata": {},
          "execution_count": 29
        }
      ],
      "source": [
        "expand(F)"
      ]
    },
    {
      "cell_type": "markdown",
      "metadata": {
        "id": "u2UBzp-9BjTf"
      },
      "source": [
        "* We can validate our expression of $f(t)$ in terms of `Heaviside`\n",
        "  functions by plotting the graph of $f(t)$."
      ]
    },
    {
      "cell_type": "code",
      "execution_count": 30,
      "metadata": {
        "colab": {
          "base_uri": "https://localhost:8080/",
          "height": 313
        },
        "id": "BPsyU7A6BjTf",
        "outputId": "a6163ff4-ce09-4906-e671-2ae77603e435"
      },
      "outputs": [
        {
          "output_type": "display_data",
          "data": {
            "text/plain": [
              "<Figure size 432x288 with 1 Axes>"
            ],
            "image/png": "[encoded data removed]"
          },
          "metadata": {
            "needs_background": "light"
          }
        },
        {
          "output_type": "execute_result",
          "data": {
            "text/plain": [
              "<sympy.plotting.plot.Plot at 0x7f8f31d40370>"
            ]
          },
          "metadata": {},
          "execution_count": 30
        }
      ],
      "source": [
        "plot(f, (t,0,7))"
      ]
    },
    {
      "cell_type": "markdown",
      "metadata": {
        "id": "UXV85sGG4NRi"
      },
      "source": [
        "# Exercise 6.6.2\n",
        "\n",
        "$\n",
        "f(t) = \\\\\n",
        "1,        \\quad  0\\leq t < 2 \\\\\n",
        "(t-2)^2,  \\quad  2\\leq t < \\infty\n",
        "$\n"
      ]
    },
    {
      "cell_type": "code",
      "execution_count": 31,
      "metadata": {
        "colab": {
          "base_uri": "https://localhost:8080/",
          "height": 56
        },
        "id": "c2UUcyrY4NRj",
        "outputId": "4b2e2d01-1235-4abf-b9cf-73127b87812d"
      },
      "outputs": [
        {
          "output_type": "display_data",
          "data": {
            "text/plain": [
              "(-s**2*(1 - exp(2*s)) + 2)*exp(-2*s)/s**3"
            ],
            "text/latex": "$\\displaystyle \\frac{\\left(- s^{2} \\cdot \\left(1 - e^{2 s}\\right) + 2\\right) e^{- 2 s}}{s^{3}}$"
          },
          "metadata": {}
        }
      ],
      "source": [
        "s,t = symbols(\"s t\", real=True)\n",
        "    \n",
        "f = Heaviside(2-t) + Heaviside(t-2) * (t-2)**2\n",
        "F = laplace_transform(f, t, s, noconds=True)\n",
        "display(F)"
      ]
    },
    {
      "cell_type": "code",
      "execution_count": 32,
      "metadata": {
        "colab": {
          "base_uri": "https://localhost:8080/",
          "height": 54
        },
        "id": "VXnW-vFFBjTf",
        "outputId": "fb3a9bb5-ca5a-4d15-f118-a8869e354357"
      },
      "outputs": [
        {
          "output_type": "execute_result",
          "data": {
            "text/plain": [
              "1/s - exp(-2*s)/s + 2*exp(-2*s)/s**3"
            ],
            "text/latex": "$\\displaystyle \\frac{1}{s} - \\frac{e^{- 2 s}}{s} + \\frac{2 e^{- 2 s}}{s^{3}}$"
          },
          "metadata": {},
          "execution_count": 32
        }
      ],
      "source": [
        "expand(F)"
      ]
    },
    {
      "cell_type": "markdown",
      "metadata": {
        "id": "zEONyFsxYpYz",
        "outputId": "0a4a9ca9-64bc-478c-e347-e61e98abd3ea"
      },
      "source": [
        "* We can validate our expression of $f(t)$ in terms of `Heaviside`\n",
        "  functions by plotting the graph of $f(t)$."
      ]
    },
    {
      "cell_type": "code",
      "execution_count": 33,
      "metadata": {
        "colab": {
          "base_uri": "https://localhost:8080/",
          "height": 313
        },
        "id": "fbVJHdwIBjTg",
        "outputId": "b9e86ddc-46fa-4b1e-d77d-105b717a201b"
      },
      "outputs": [
        {
          "output_type": "display_data",
          "data": {
            "text/plain": [
              "<Figure size 432x288 with 1 Axes>"
            ],
            "image/png": "[encoded data removed]"
          },
          "metadata": {
            "needs_background": "light"
          }
        },
        {
          "output_type": "execute_result",
          "data": {
            "text/plain": [
              "<sympy.plotting.plot.Plot at 0x7f8f3234cc10>"
            ]
          },
          "metadata": {},
          "execution_count": 33
        }
      ],
      "source": [
        "plot(f, (t,0,5))"
      ]
    },
    {
      "cell_type": "markdown",
      "metadata": {
        "id": "Eo9qMHAq4NRk"
      },
      "source": [
        "# Exercise 6.6.3\n",
        "\n",
        "$\n",
        "f(t) = \\\\\n",
        "1,        \\ 0\\leq t < 1 \\\\\n",
        "t^2-2t+2, \\ 1\\leq t < \\infty\n",
        "$\n",
        "\n"
      ]
    },
    {
      "cell_type": "code",
      "execution_count": 34,
      "metadata": {
        "colab": {
          "base_uri": "https://localhost:8080/",
          "height": 123
        },
        "id": "EgAkgU7d4NRl",
        "outputId": "27f8f133-44b6-4eaf-9da0-9657d96a7e79"
      },
      "outputs": [
        {
          "output_type": "stream",
          "name": "stdout",
          "text": [
            "Sympy expression:\n",
            "1/s + 2*exp(-s)/s**3\n",
            "\n",
            "Final answer:\n"
          ]
        },
        {
          "output_type": "display_data",
          "data": {
            "text/plain": [
              "1/s + 2*exp(-s)/s**3"
            ],
            "text/latex": "$\\displaystyle \\frac{1}{s} + \\frac{2 e^{- s}}{s^{3}}$"
          },
          "metadata": {}
        }
      ],
      "source": [
        "t = symbols(\"t\", real=True, positive=True)\n",
        "s = symbols(\"s\", real=True)\n",
        "    \n",
        "f = Heaviside(1-t) + Heaviside(t-1) * (t**2 -2*t +2)\n",
        "T = laplace_transform(f, t, s, noconds=True)\n",
        "print(\"Sympy expression:\")\n",
        "print(T)\n",
        "print(\"\\nFinal answer:\")\n",
        "display(T)"
      ]
    },
    {
      "cell_type": "markdown",
      "metadata": {
        "id": "aLmhI2XKBjTg",
        "outputId": "0a4a9ca9-64bc-478c-e347-e61e98abd3ea"
      },
      "source": [
        "* We can validate our expression of $f(t)$ in terms of `Heaviside`\n",
        "  functions by plotting the graph of $f(t)$."
      ]
    },
    {
      "cell_type": "code",
      "execution_count": 35,
      "metadata": {
        "colab": {
          "base_uri": "https://localhost:8080/",
          "height": 314
        },
        "id": "DisAbDHHBjTg",
        "outputId": "9734fadc-85f0-4598-8c78-ba663ccf5fb2"
      },
      "outputs": [
        {
          "output_type": "display_data",
          "data": {
            "text/plain": [
              "<Figure size 432x288 with 1 Axes>"
            ],
            "image/png": "[encoded data removed]"
          },
          "metadata": {
            "needs_background": "light"
          }
        },
        {
          "output_type": "execute_result",
          "data": {
            "text/plain": [
              "<sympy.plotting.plot.Plot at 0x7f8f323eb130>"
            ]
          },
          "metadata": {},
          "execution_count": 35
        }
      ],
      "source": [
        "plot(f, (t,0,4))"
      ]
    },
    {
      "cell_type": "markdown",
      "metadata": {
        "id": "YXi-q8jgYpYz"
      },
      "source": [
        "# Exercise 6.6.4\n",
        "\n",
        "$\n",
        "f(t) = \\\\\n",
        "0,      \\ 0\\leq t < \\pi \\\\\n",
        "t-\\pi,  \\ \\pi\\leq t < 2\\pi \\\\\n",
        "1,      \\ 2\\pi \\leq t < \\infty\n",
        "$"
      ]
    },
    {
      "cell_type": "code",
      "execution_count": 36,
      "metadata": {
        "colab": {
          "base_uri": "https://localhost:8080/",
          "height": 54
        },
        "id": "7ueMCJOXYpYz",
        "outputId": "920ebfae-772e-41cf-ddb2-088d30c7005d"
      },
      "outputs": [
        {
          "output_type": "display_data",
          "data": {
            "text/plain": [
              "(-pi*s + s + exp(pi*s) - 1)*exp(-2*pi*s)/s**2"
            ],
            "text/latex": "$\\displaystyle \\frac{\\left(- \\pi s + s + e^{\\pi s} - 1\\right) e^{- 2 \\pi s}}{s^{2}}$"
          },
          "metadata": {}
        }
      ],
      "source": [
        "t = symbols(\"t\", real=True, positive=True)\n",
        "s = symbols(\"s\", real=True)\n",
        "    \n",
        "f = (Heaviside(2*pi-t) - Heaviside(pi-t)) * (t-pi) + Heaviside(t-2*pi)\n",
        "F = laplace_transform(f, t, s, noconds=True)\n",
        "display(F)"
      ]
    },
    {
      "cell_type": "code",
      "execution_count": 37,
      "metadata": {
        "colab": {
          "base_uri": "https://localhost:8080/",
          "height": 54
        },
        "id": "yXgKFdXNBjTh",
        "outputId": "f655c3a4-be9f-4d30-fa26-9874a6e7782b"
      },
      "outputs": [
        {
          "output_type": "execute_result",
          "data": {
            "text/plain": [
              "-pi*exp(-2*pi*s)/s + exp(-2*pi*s)/s + exp(-pi*s)/s**2 - exp(-2*pi*s)/s**2"
            ],
            "text/latex": "$\\displaystyle - \\frac{\\pi e^{- 2 \\pi s}}{s} + \\frac{e^{- 2 \\pi s}}{s} + \\frac{e^{- \\pi s}}{s^{2}} - \\frac{e^{- 2 \\pi s}}{s^{2}}$"
          },
          "metadata": {},
          "execution_count": 37
        }
      ],
      "source": [
        "expand(F)"
      ]
    },
    {
      "cell_type": "code",
      "execution_count": 38,
      "metadata": {
        "colab": {
          "base_uri": "https://localhost:8080/",
          "height": 313
        },
        "id": "rplnwFb1BjTh",
        "outputId": "1acb9c98-cc65-4945-e2dc-29724b1341a6"
      },
      "outputs": [
        {
          "output_type": "display_data",
          "data": {
            "text/plain": [
              "<Figure size 432x288 with 1 Axes>"
            ],
            "image/png": "[encoded data removed]"
          },
          "metadata": {
            "needs_background": "light"
          }
        },
        {
          "output_type": "execute_result",
          "data": {
            "text/plain": [
              "<sympy.plotting.plot.Plot at 0x7f8f31ff3a60>"
            ]
          },
          "metadata": {},
          "execution_count": 38
        }
      ],
      "source": [
        "plot(f, (t,0,9))"
      ]
    },
    {
      "cell_type": "markdown",
      "metadata": {
        "id": "tTHBhhGdYpY0"
      },
      "source": [
        "# Exercise 6.6.5\n",
        "\n",
        "$\n",
        "f(t) = \\\\\n",
        "1,        \\quad 0\\leq t < 1 \\\\\n",
        "0,        \\quad 1\\leq t < \\infty\n",
        "$"
      ]
    },
    {
      "cell_type": "code",
      "execution_count": 39,
      "metadata": {
        "colab": {
          "base_uri": "https://localhost:8080/",
          "height": 53
        },
        "id": "3FE8sqHlYpY0",
        "outputId": "088c18c0-2655-4b6f-de06-ce6a12e0ddb3"
      },
      "outputs": [
        {
          "output_type": "display_data",
          "data": {
            "text/plain": [
              "(1 - exp(-s))/s"
            ],
            "text/latex": "$\\displaystyle \\frac{1 - e^{- s}}{s}$"
          },
          "metadata": {}
        }
      ],
      "source": [
        "t = symbols(\"t\", real=True, positive=True)\n",
        "s = symbols(\"s\", real=True)\n",
        "    \n",
        "f = Heaviside(1-t) \n",
        "F = laplace_transform(f, t, s, noconds=True)\n",
        "display(F)"
      ]
    },
    {
      "cell_type": "markdown",
      "metadata": {
        "id": "wktno-scYpY1"
      },
      "source": [
        "# Exercise 6.6.6\n",
        "\n",
        "$\n",
        "f(t) = \\left\\{\n",
        "\\begin{array}{ll}\n",
        "1,      &\\quad  0\\leq t < 2 \\\\\n",
        "t-3,    &\\quad  2\\leq t < 3 \\\\\n",
        "-1,     &\\quad  3\\leq t < \\infty\n",
        "\\end{array}\n",
        "\\right.\n",
        "$\n"
      ]
    },
    {
      "cell_type": "code",
      "execution_count": 40,
      "metadata": {
        "colab": {
          "base_uri": "https://localhost:8080/",
          "height": 56
        },
        "id": "7oFeUq9EYpY1",
        "outputId": "0b7e04f5-a0dc-49b9-9e6b-51736cba8f72"
      },
      "outputs": [
        {
          "output_type": "display_data",
          "data": {
            "text/plain": [
              "(s*exp(3*s) - 2*s*exp(s) - s + exp(s) - 1)*exp(-3*s)/s**2"
            ],
            "text/latex": "$\\displaystyle \\frac{\\left(s e^{3 s} - 2 s e^{s} - s + e^{s} - 1\\right) e^{- 3 s}}{s^{2}}$"
          },
          "metadata": {}
        }
      ],
      "source": [
        "t = symbols(\"t\", real=True, positive=True)\n",
        "s = symbols(\"s\", real=True)\n",
        "    \n",
        "f = Heaviside(2-t) + (Heaviside(t-2) - Heaviside(t-3)) * (t-3) - Heaviside(t-3)   \n",
        "F = laplace_transform(f, t, s, noconds=True)\n",
        "display(F)"
      ]
    },
    {
      "cell_type": "code",
      "execution_count": 41,
      "metadata": {
        "colab": {
          "base_uri": "https://localhost:8080/",
          "height": 54
        },
        "id": "3bcylnu1BjTi",
        "outputId": "99f8f351-4d43-42de-a1e0-359b2c0a04bf"
      },
      "outputs": [
        {
          "output_type": "execute_result",
          "data": {
            "text/plain": [
              "1/s - 2*exp(-2*s)/s - exp(-3*s)/s + exp(-2*s)/s**2 - exp(-3*s)/s**2"
            ],
            "text/latex": "$\\displaystyle \\frac{1}{s} - \\frac{2 e^{- 2 s}}{s} - \\frac{e^{- 3 s}}{s} + \\frac{e^{- 2 s}}{s^{2}} - \\frac{e^{- 3 s}}{s^{2}}$"
          },
          "metadata": {},
          "execution_count": 41
        }
      ],
      "source": [
        "expand(F)"
      ]
    },
    {
      "cell_type": "code",
      "execution_count": 42,
      "metadata": {
        "colab": {
          "base_uri": "https://localhost:8080/",
          "height": 314
        },
        "id": "xsut3Yp2BjTi",
        "outputId": "81de6786-0d4c-44e6-f58f-6259b298eb49"
      },
      "outputs": [
        {
          "output_type": "display_data",
          "data": {
            "text/plain": [
              "<Figure size 432x288 with 1 Axes>"
            ],
            "image/png": "[encoded data removed]"
          },
          "metadata": {
            "needs_background": "light"
          }
        },
        {
          "output_type": "execute_result",
          "data": {
            "text/plain": [
              "<sympy.plotting.plot.Plot at 0x7f8f31da8310>"
            ]
          },
          "metadata": {},
          "execution_count": 42
        }
      ],
      "source": [
        "plot(f, (t,0,9))"
      ]
    },
    {
      "cell_type": "markdown",
      "metadata": {
        "id": "WAjgfxQYYpY1"
      },
      "source": [
        "# Exercise 6.7\n",
        "\n",
        "$f(t) = \\dfrac{\\sin t}{t}$"
      ]
    },
    {
      "cell_type": "code",
      "execution_count": 43,
      "metadata": {
        "colab": {
          "base_uri": "https://localhost:8080/",
          "height": 75
        },
        "id": "cS6jEg-_YpY1",
        "outputId": "379b253b-f7ab-4f66-c668-7682a397d4a1"
      },
      "outputs": [
        {
          "output_type": "stream",
          "name": "stdout",
          "text": [
            "atan(1/s)\n"
          ]
        },
        {
          "output_type": "display_data",
          "data": {
            "text/plain": [
              "atan(1/s)"
            ],
            "text/latex": "$\\displaystyle \\operatorname{atan}{\\left(\\frac{1}{s} \\right)}$"
          },
          "metadata": {}
        }
      ],
      "source": [
        "t = symbols(\"t\", real=True, positive=True)\n",
        "s = symbols(\"s\", real=True)\n",
        "    \n",
        "f = sin(t)/t   \n",
        "T = laplace_transform(f, t, s, noconds=True)\n",
        "print(T)\n",
        "display(T)"
      ]
    },
    {
      "cell_type": "markdown",
      "metadata": {
        "id": "57nn9VY-YpY2"
      },
      "source": [
        "# Exercise 6.8\n",
        "\n",
        "${\\cal L}[f](s) = \\dfrac{d^n}{ds^n} \\left[\\dfrac{1}{s^2 -a^2}\\right]$\n",
        "\n",
        "Objective: what is $f(t)$ ?\n",
        "\n",
        "* Sympy still not ready to deal with abstract $n$-th derivative.\n",
        "* We will compute several particular cases $n=1,2,3$ and guess the general solution."
      ]
    },
    {
      "cell_type": "code",
      "execution_count": 44,
      "metadata": {
        "colab": {
          "base_uri": "https://localhost:8080/",
          "height": 78
        },
        "id": "hn_WT_EaYpY2",
        "outputId": "2a19b5cb-abb2-4f74-d443-f8046845ef14"
      },
      "outputs": [
        {
          "output_type": "stream",
          "name": "stdout",
          "text": [
            "-2*s**2/(-a**2 + s**2)**2 + 1/(-a**2 + s**2)\n"
          ]
        },
        {
          "output_type": "display_data",
          "data": {
            "text/plain": [
              "-2*s**2/(-a**2 + s**2)**2 + 1/(-a**2 + s**2)"
            ],
            "text/latex": "$\\displaystyle - \\frac{2 s^{2}}{\\left(- a^{2} + s^{2}\\right)^{2}} + \\frac{1}{- a^{2} + s^{2}}$"
          },
          "metadata": {}
        }
      ],
      "source": [
        "t = symbols(\"t\", real=True, positive=True)\n",
        "s, a = symbols(\"s a\", real=True)\n",
        "\n",
        "F = diff(s/(s**2 - a**2), s)\n",
        "print(F)\n",
        "display(F)"
      ]
    },
    {
      "cell_type": "code",
      "execution_count": 45,
      "metadata": {
        "colab": {
          "base_uri": "https://localhost:8080/",
          "height": 39
        },
        "id": "3_OMswQZXxSI",
        "outputId": "9609452b-379c-4a30-dfbc-815d17382cc4"
      },
      "outputs": [
        {
          "output_type": "execute_result",
          "data": {
            "text/plain": [
              "-t*cosh(a*t)"
            ],
            "text/latex": "$\\displaystyle - t \\cosh{\\left(a t \\right)}$"
          },
          "metadata": {},
          "execution_count": 45
        }
      ],
      "source": [
        "inverse_laplace_transform(F, s, t)"
      ]
    },
    {
      "cell_type": "code",
      "execution_count": 46,
      "metadata": {
        "colab": {
          "base_uri": "https://localhost:8080/",
          "height": 90
        },
        "id": "DDA9uVOCYpY2",
        "outputId": "f04da82f-54ff-4bdf-9845-fc067e17da08"
      },
      "outputs": [
        {
          "output_type": "stream",
          "name": "stdout",
          "text": [
            "-2*s*(4*s**2/(a**2 - s**2) + 3)/(a**2 - s**2)**2\n"
          ]
        },
        {
          "output_type": "display_data",
          "data": {
            "text/plain": [
              "-2*s*(4*s**2/(a**2 - s**2) + 3)/(a**2 - s**2)**2"
            ],
            "text/latex": "$\\displaystyle - \\frac{2 s \\left(\\frac{4 s^{2}}{a^{2} - s^{2}} + 3\\right)}{\\left(a^{2} - s^{2}\\right)^{2}}$"
          },
          "metadata": {}
        }
      ],
      "source": [
        "F = diff(s/(s**2 - a**2), (s,2))\n",
        "print(F)\n",
        "display(F)"
      ]
    },
    {
      "cell_type": "code",
      "execution_count": 47,
      "metadata": {
        "colab": {
          "base_uri": "https://localhost:8080/",
          "height": 55
        },
        "id": "UYeeHrtFXxSI",
        "outputId": "1816476c-4c59-491b-f2b8-d973fef943c1"
      },
      "outputs": [
        {
          "output_type": "execute_result",
          "data": {
            "text/plain": [
              "-8*s**3/(a**6 - 3*a**4*s**2 + 3*a**2*s**4 - s**6) - 6*s/(a**4 - 2*a**2*s**2 + s**4)"
            ],
            "text/latex": "$\\displaystyle - \\frac{8 s^{3}}{a^{6} - 3 a^{4} s^{2} + 3 a^{2} s^{4} - s^{6}} - \\frac{6 s}{a^{4} - 2 a^{2} s^{2} + s^{4}}$"
          },
          "metadata": {},
          "execution_count": 47
        }
      ],
      "source": [
        "expand(F)"
      ]
    },
    {
      "cell_type": "code",
      "execution_count": 48,
      "metadata": {
        "colab": {
          "base_uri": "https://localhost:8080/",
          "height": 39
        },
        "id": "39j-lIc8XxSJ",
        "outputId": "ffff5653-658a-434a-b529-cfb96a3d21d7"
      },
      "outputs": [
        {
          "output_type": "execute_result",
          "data": {
            "text/plain": [
              "t**2*cosh(a*t)"
            ],
            "text/latex": "$\\displaystyle t^{2} \\cosh{\\left(a t \\right)}$"
          },
          "metadata": {},
          "execution_count": 48
        }
      ],
      "source": [
        "inverse_laplace_transform(F, s, t)"
      ]
    },
    {
      "cell_type": "code",
      "execution_count": 49,
      "metadata": {
        "colab": {
          "base_uri": "https://localhost:8080/",
          "height": 101
        },
        "id": "s1bpupcUXxSJ",
        "outputId": "c3e77232-9c6c-4c69-c468-5504dde4a2da"
      },
      "outputs": [
        {
          "output_type": "stream",
          "name": "stdout",
          "text": [
            "-6*(4*s**2*(2*s**2/(a**2 - s**2) + 1)/(a**2 - s**2) + 4*s**2/(a**2 - s**2) + 1)/(a**2 - s**2)**2\n"
          ]
        },
        {
          "output_type": "display_data",
          "data": {
            "text/plain": [
              "-6*(4*s**2*(2*s**2/(a**2 - s**2) + 1)/(a**2 - s**2) + 4*s**2/(a**2 - s**2) + 1)/(a**2 - s**2)**2"
            ],
            "text/latex": "$\\displaystyle - \\frac{6 \\cdot \\left(\\frac{4 s^{2} \\cdot \\left(\\frac{2 s^{2}}{a^{2} - s^{2}} + 1\\right)}{a^{2} - s^{2}} + \\frac{4 s^{2}}{a^{2} - s^{2}} + 1\\right)}{\\left(a^{2} - s^{2}\\right)^{2}}$"
          },
          "metadata": {}
        }
      ],
      "source": [
        "F = diff(s/(s**2 - a**2), (s,3))\n",
        "print(F)\n",
        "display(F)"
      ]
    },
    {
      "cell_type": "code",
      "execution_count": 50,
      "metadata": {
        "colab": {
          "base_uri": "https://localhost:8080/",
          "height": 55
        },
        "id": "MPYF67I8XxSJ",
        "outputId": "a2c57860-2663-462b-a220-747ca2fbad5c"
      },
      "outputs": [
        {
          "output_type": "execute_result",
          "data": {
            "text/plain": [
              "-48*s**4/(a**8 - 4*a**6*s**2 + 6*a**4*s**4 - 4*a**2*s**6 + s**8) - 48*s**2/(a**6 - 3*a**4*s**2 + 3*a**2*s**4 - s**6) - 6/(a**4 - 2*a**2*s**2 + s**4)"
            ],
            "text/latex": "$\\displaystyle - \\frac{48 s^{4}}{a^{8} - 4 a^{6} s^{2} + 6 a^{4} s^{4} - 4 a^{2} s^{6} + s^{8}} - \\frac{48 s^{2}}{a^{6} - 3 a^{4} s^{2} + 3 a^{2} s^{4} - s^{6}} - \\frac{6}{a^{4} - 2 a^{2} s^{2} + s^{4}}$"
          },
          "metadata": {},
          "execution_count": 50
        }
      ],
      "source": [
        "expand(F)"
      ]
    },
    {
      "cell_type": "code",
      "execution_count": 51,
      "metadata": {
        "colab": {
          "base_uri": "https://localhost:8080/",
          "height": 39
        },
        "id": "rHuhzl7mXxSK",
        "outputId": "d71df86c-70e6-4046-cc58-936fb167a89e"
      },
      "outputs": [
        {
          "output_type": "execute_result",
          "data": {
            "text/plain": [
              "-t**3*cosh(a*t)"
            ],
            "text/latex": "$\\displaystyle - t^{3} \\cosh{\\left(a t \\right)}$"
          },
          "metadata": {},
          "execution_count": 51
        }
      ],
      "source": [
        "inverse_laplace_transform(F, s, t)"
      ]
    },
    {
      "cell_type": "markdown",
      "metadata": {
        "id": "1DygTHeXXxSK"
      },
      "source": [
        "* Looks like the general formula is\n",
        "\n",
        "$\n",
        "\\qquad f(t) = (-1)^n t^n \\cosh(at)\n",
        "$\n",
        "* But you still need to prove it formally !!"
      ]
    },
    {
      "cell_type": "markdown",
      "metadata": {
        "id": "dQC2xMQTR2sj"
      },
      "source": [
        "# Exercise 6.9.1\n",
        "\n",
        "Prove:\n",
        "\n",
        "$\\displaystyle\n",
        "{\\cal L}[\\sin^2 t](s) = \\frac{2}{s(s^2+4)}$"
      ]
    },
    {
      "cell_type": "markdown",
      "metadata": {
        "id": "Iuu6UpcIR2sk"
      },
      "source": [
        "* First lets validate this identity"
      ]
    },
    {
      "cell_type": "code",
      "execution_count": 52,
      "metadata": {
        "colab": {
          "base_uri": "https://localhost:8080/",
          "height": 55
        },
        "outputId": "171353b5-be36-4778-8186-380bb5b716f2",
        "id": "CTrl5otRR2sk"
      },
      "outputs": [
        {
          "output_type": "display_data",
          "data": {
            "text/plain": [
              "2/(s*(s**2 + 4))"
            ],
            "text/latex": "$\\displaystyle \\frac{2}{s \\left(s^{2} + 4\\right)}$"
          },
          "metadata": {}
        }
      ],
      "source": [
        "t = symbols(\"t\", real=True, positive=True)\n",
        "s = symbols(\"s\", real=True)\n",
        "    \n",
        "f = sin(t)**2 \n",
        "F = laplace_transform(f, t, s, noconds=True)\n",
        "display(F)"
      ]
    },
    {
      "cell_type": "markdown",
      "metadata": {
        "id": "DiTTKM-AWhPB"
      },
      "source": [
        "### [Link to step-by-step-solution](https://samyzaf.com/technion/ode/sol/chap6.9.1.pdf)"
      ]
    },
    {
      "cell_type": "markdown",
      "metadata": {
        "id": "QZyQu2L_R2sq"
      },
      "source": [
        "# Exercise 6.9.2\n",
        "\n",
        "Prove:\n",
        "\n",
        "$\\displaystyle\n",
        "{\\cal L}[A \\cos (\\omega t + \\theta)] (s)\n",
        "=\n",
        "\\frac{A(s\\cos\\theta - \\omega\\sin\\theta)}{s^2+\\omega^2}$\n"
      ]
    },
    {
      "cell_type": "markdown",
      "metadata": {
        "id": "Qn1QEczDR2sr"
      },
      "source": [
        "* First, lets verify that this identity is true."
      ]
    },
    {
      "cell_type": "code",
      "execution_count": 53,
      "metadata": {
        "colab": {
          "base_uri": "https://localhost:8080/",
          "height": 54
        },
        "id": "WBXf0URPYpY2",
        "outputId": "26b620d1-9e2c-449a-cdc9-facfe85874e9",
        "tags": []
      },
      "outputs": [
        {
          "output_type": "display_data",
          "data": {
            "text/plain": [
              "A*(s*cos(theta) - w*sin(theta))/(s**2 + w**2)"
            ],
            "text/latex": "$\\displaystyle \\frac{A \\left(s \\cos{\\left(\\theta \\right)} - w \\sin{\\left(\\theta \\right)}\\right)}{s^{2} + w^{2}}$"
          },
          "metadata": {}
        }
      ],
      "source": [
        "t,w,theta = symbols(\"t w theta\", real=True, positive=True)\n",
        "s, A = symbols(\"s A\", real=True)\n",
        "    \n",
        "f = A * cos(w*t + theta)\n",
        "F = laplace_transform(f, t, s, noconds=True)\n",
        "display(F)"
      ]
    },
    {
      "cell_type": "markdown",
      "metadata": {
        "id": "5SyoVyO7R2sr"
      },
      "source": [
        "### [Link to step-by-step-solution](https://samyzaf.com/technion/ode/sol/chap6.9.2.pdf)"
      ]
    },
    {
      "cell_type": "markdown",
      "metadata": {
        "id": "ivUm1HldR2ss"
      },
      "source": [
        "# Exercise 6.9.3\n",
        "\n",
        "Prove:\n",
        "\n",
        "$\\displaystyle\n",
        "{\\cal L}[\\cos at \\cosh at](s)\n",
        "=\n",
        "\\frac{s^3}{s^4+4a^4}$\n"
      ]
    },
    {
      "cell_type": "markdown",
      "metadata": {
        "id": "S3LoV9CER2ss"
      },
      "source": [
        "* First, lets verify that this identity is true."
      ]
    },
    {
      "cell_type": "code",
      "execution_count": 54,
      "metadata": {
        "colab": {
          "base_uri": "https://localhost:8080/",
          "height": 55
        },
        "outputId": "bfc18974-90f1-4dd4-cf12-db538455b991",
        "tags": [],
        "id": "gb66bJ92R2st"
      },
      "outputs": [
        {
          "output_type": "display_data",
          "data": {
            "text/plain": [
              "s**3/(4*a**4 + s**4)"
            ],
            "text/latex": "$\\displaystyle \\frac{s^{3}}{4 a^{4} + s^{4}}$"
          },
          "metadata": {}
        }
      ],
      "source": [
        "t,s,a = symbols(\"t s a\", real=True, positive=True)\n",
        "    \n",
        "f = cos(a*t) * cosh(a*t)\n",
        "F = laplace_transform(f, t, s, noconds=True)\n",
        "display(F)"
      ]
    },
    {
      "cell_type": "markdown",
      "metadata": {
        "id": "wFoYIDegR2st"
      },
      "source": [
        "### [Link to step-by-step-solution](https://samyzaf.com/technion/ode/sol/chap6.9.3.pdf)"
      ]
    },
    {
      "cell_type": "markdown",
      "metadata": {
        "id": "aRDTleJrR2st"
      },
      "source": [
        "# Exercise 6.9.4\n",
        "\n",
        "Prove:\n",
        "\n",
        "$\\displaystyle\n",
        "{\\cal L}[(t^2-5t+6)e^{2t}]\n",
        "=\n",
        "\\frac{6s^2 -29s+36}{(s-2)^3}$\n"
      ]
    },
    {
      "cell_type": "markdown",
      "metadata": {
        "id": "pS9tg0xkR2su"
      },
      "source": [
        "* First, lets verify that this identity is true."
      ]
    },
    {
      "cell_type": "code",
      "execution_count": 55,
      "metadata": {
        "colab": {
          "base_uri": "https://localhost:8080/",
          "height": 63
        },
        "outputId": "fd207371-b9a7-4c6b-dd7c-4126cc521c4c",
        "tags": [],
        "id": "vsFJ5jUVR2su"
      },
      "outputs": [
        {
          "output_type": "display_data",
          "data": {
            "text/plain": [
              "(-5*s + 6*(s - 2)**2 + 12)/(s - 2)**3"
            ],
            "text/latex": "$\\displaystyle \\frac{- 5 s + 6 \\left(s - 2\\right)^{2} + 12}{\\left(s - 2\\right)^{3}}$"
          },
          "metadata": {}
        }
      ],
      "source": [
        "t,s = symbols(\"t s\", real=True, positive=True)\n",
        "    \n",
        "f = (t**2 - 5*t + 6) * exp(2*t)\n",
        "F = laplace_transform(f, t, s, noconds=True)\n",
        "display(F)"
      ]
    },
    {
      "cell_type": "code",
      "execution_count": 56,
      "metadata": {
        "colab": {
          "base_uri": "https://localhost:8080/",
          "height": 55
        },
        "id": "ITL7FFDAR2su",
        "outputId": "147ffdfa-c0ae-4213-8b4e-0cb2e105238b"
      },
      "outputs": [
        {
          "output_type": "execute_result",
          "data": {
            "text/plain": [
              "6*s**2/(s**3 - 6*s**2 + 12*s - 8) - 29*s/(s**3 - 6*s**2 + 12*s - 8) + 36/(s**3 - 6*s**2 + 12*s - 8)"
            ],
            "text/latex": "$\\displaystyle \\frac{6 s^{2}}{s^{3} - 6 s^{2} + 12 s - 8} - \\frac{29 s}{s^{3} - 6 s^{2} + 12 s - 8} + \\frac{36}{s^{3} - 6 s^{2} + 12 s - 8}$"
          },
          "metadata": {},
          "execution_count": 56
        }
      ],
      "source": [
        "expand(F)"
      ]
    },
    {
      "cell_type": "markdown",
      "metadata": {
        "id": "pbURqVHPR2sv"
      },
      "source": [
        "* This is exactly what is expected."
      ]
    },
    {
      "cell_type": "markdown",
      "metadata": {
        "id": "TYYiY-naR2sv"
      },
      "source": [
        "### [Link to step-by-step-solution](https://samyzaf.com/technion/ode/sol/chap6.9.4.pdf)"
      ]
    },
    {
      "cell_type": "markdown",
      "metadata": {
        "id": "pqBnGWXAYpY2",
        "tags": []
      },
      "source": [
        "# Exercise 6.10.1\n",
        "\n",
        "$\\int_{0}^{\\infty} te^{-2t} \\cos t \\, dt$\n"
      ]
    },
    {
      "cell_type": "code",
      "execution_count": 57,
      "metadata": {
        "colab": {
          "base_uri": "https://localhost:8080/",
          "height": 55
        },
        "collapsed": true,
        "id": "xjBm47oXYpY3",
        "jupyter": {
          "outputs_hidden": true
        },
        "outputId": "ac70d0d7-c173-4065-bc9c-332772255812",
        "tags": []
      },
      "outputs": [
        {
          "output_type": "display_data",
          "data": {
            "text/plain": [
              "(s**2 - 1)/(s**4 + 2*s**2 + 1)"
            ],
            "text/latex": "$\\displaystyle \\frac{s^{2} - 1}{s^{4} + 2 s^{2} + 1}$"
          },
          "metadata": {}
        }
      ],
      "source": [
        "f = t*cos(t)\n",
        "F = laplace_transform(f,t,s, noconds=True)\n",
        "display(F)"
      ]
    },
    {
      "cell_type": "code",
      "execution_count": 58,
      "metadata": {
        "colab": {
          "base_uri": "https://localhost:8080/",
          "height": 51
        },
        "id": "feMJInZbXxSL",
        "outputId": "accb3979-1b54-4c5b-ffb5-3f55fd7bf2d9"
      },
      "outputs": [
        {
          "output_type": "execute_result",
          "data": {
            "text/plain": [
              "3/25"
            ],
            "text/latex": "$\\displaystyle \\frac{3}{25}$"
          },
          "metadata": {},
          "execution_count": 58
        }
      ],
      "source": [
        "F.subs(s,-2)"
      ]
    },
    {
      "cell_type": "code",
      "execution_count": 59,
      "metadata": {
        "colab": {
          "base_uri": "https://localhost:8080/"
        },
        "id": "O4tWJMCVXxSM",
        "outputId": "23143273-ef45-4c7f-d9df-3b7bd289c55f"
      },
      "outputs": [
        {
          "output_type": "execute_result",
          "data": {
            "text/plain": [
              "0.12"
            ]
          },
          "metadata": {},
          "execution_count": 59
        }
      ],
      "source": [
        "F = lambdify(s, F)\n",
        "F(-2)"
      ]
    },
    {
      "cell_type": "markdown",
      "metadata": {
        "id": "MAq7l3ZYBjTl"
      },
      "source": [
        "* The function `lambdify(s, F)` converts `F` into a regular Python function."
      ]
    },
    {
      "cell_type": "markdown",
      "metadata": {
        "id": "TmoiRYBIYpY3"
      },
      "source": [
        "# Exercise 6.10.2\n",
        "\n",
        "$\\int_{0}^{\\infty} t^3 e^{-t}\\sin t \\, dt$"
      ]
    },
    {
      "cell_type": "code",
      "execution_count": 60,
      "metadata": {
        "colab": {
          "base_uri": "https://localhost:8080/",
          "height": 37
        },
        "id": "kixL_JqoYpY3",
        "outputId": "979ca950-a6c3-4343-fbdd-89c3b87a96b6"
      },
      "outputs": [
        {
          "output_type": "execute_result",
          "data": {
            "text/plain": [
              "0"
            ],
            "text/latex": "$\\displaystyle 0$"
          },
          "metadata": {},
          "execution_count": 60
        }
      ],
      "source": [
        "t = symbols(\"t\", real=True, positive=True)\n",
        "s = symbols(\"s\", real=True)\n",
        "    \n",
        "f = t**3 * exp(-t) * sin(t)\n",
        "integrate(f, (t,0,oo))"
      ]
    },
    {
      "cell_type": "markdown",
      "metadata": {
        "id": "LKDbOAc3BjTm"
      },
      "source": [
        "* We may use Laplace Transform to solve this integral as follows\n",
        "\n",
        "$\\int_{0}^{\\infty} t^3 e^{-t}\\sin t \\, dt = {\\cal L}[t^3\\sin t](1)$"
      ]
    },
    {
      "cell_type": "code",
      "execution_count": 61,
      "metadata": {
        "colab": {
          "base_uri": "https://localhost:8080/",
          "height": 58
        },
        "id": "WyqFEZrDYpY3",
        "outputId": "cbb651d7-efe2-47ac-b357-e0604f8da931"
      },
      "outputs": [
        {
          "output_type": "display_data",
          "data": {
            "text/plain": [
              "3*I/(s + I)**4 - 3*I/(s - I)**4"
            ],
            "text/latex": "$\\displaystyle \\frac{3 i}{\\left(s + i\\right)^{4}} - \\frac{3 i}{\\left(s - i\\right)^{4}}$"
          },
          "metadata": {}
        }
      ],
      "source": [
        "f = t**3 * sin(t)\n",
        "F = laplace_transform(f,t,s, noconds=True)\n",
        "display(F)"
      ]
    },
    {
      "cell_type": "code",
      "execution_count": 62,
      "metadata": {
        "colab": {
          "base_uri": "https://localhost:8080/",
          "height": 58
        },
        "id": "lE2lI5gH4TeI",
        "outputId": "cbebe492-f22d-4663-c0c5-3f68cf8e66fc"
      },
      "outputs": [
        {
          "output_type": "display_data",
          "data": {
            "text/plain": [
              "3*I/(1 + I)**4 - 3*I/(1 - I)**4"
            ],
            "text/latex": "$\\displaystyle \\frac{3 i}{\\left(1 + i\\right)^{4}} - \\frac{3 i}{\\left(1 - i\\right)^{4}}$"
          },
          "metadata": {}
        }
      ],
      "source": [
        "a = F.subs(s, 1)\n",
        "display(a)"
      ]
    },
    {
      "cell_type": "code",
      "execution_count": 63,
      "metadata": {
        "colab": {
          "base_uri": "https://localhost:8080/"
        },
        "id": "KnE_pS3oXxSN",
        "outputId": "46bfc9b1-4a6a-4bc9-9f81-d6834c4cdf03"
      },
      "outputs": [
        {
          "output_type": "execute_result",
          "data": {
            "text/plain": [
              "(0, 0)"
            ]
          },
          "metadata": {},
          "execution_count": 63
        }
      ],
      "source": [
        "a.as_real_imag()"
      ]
    },
    {
      "cell_type": "markdown",
      "metadata": {
        "id": "xikI_O_5YpY3"
      },
      "source": [
        "# Exercise 6.10.3\n",
        "\n",
        "$\\int_{0}^{\\infty} x^4 e^{-x} dx$\n"
      ]
    },
    {
      "cell_type": "code",
      "execution_count": 64,
      "metadata": {
        "colab": {
          "base_uri": "https://localhost:8080/",
          "height": 37
        },
        "id": "iQXVGPgiYpY4",
        "outputId": "aa35f187-ccac-4d42-ca40-9a3bce00a832"
      },
      "outputs": [
        {
          "output_type": "execute_result",
          "data": {
            "text/plain": [
              "24"
            ],
            "text/latex": "$\\displaystyle 24$"
          },
          "metadata": {},
          "execution_count": 64
        }
      ],
      "source": [
        "x = symbols(\"x\", real=True, positive=True)\n",
        "    \n",
        "f = x**4 * exp(-x)\n",
        "integrate(f, (x,0,oo))"
      ]
    },
    {
      "cell_type": "code",
      "execution_count": 65,
      "metadata": {
        "colab": {
          "base_uri": "https://localhost:8080/",
          "height": 51
        },
        "id": "iPCT3wK8YpY4",
        "outputId": "f317b031-e6eb-43c6-d888-33176d44fbd2"
      },
      "outputs": [
        {
          "output_type": "display_data",
          "data": {
            "text/plain": [
              "24/s**5"
            ],
            "text/latex": "$\\displaystyle \\frac{24}{s^{5}}$"
          },
          "metadata": {}
        }
      ],
      "source": [
        "t = symbols(\"t\", real=True, positive=True)\n",
        "s = symbols(\"s\", real=True)\n",
        "f = t**4\n",
        "F = laplace_transform(f,t,s, noconds=True)\n",
        "display(F)"
      ]
    },
    {
      "cell_type": "code",
      "execution_count": 66,
      "metadata": {
        "colab": {
          "base_uri": "https://localhost:8080/",
          "height": 37
        },
        "id": "6t3yqU_AXxSP",
        "outputId": "9a029987-3901-4c38-f2a5-cafe1d22c7ed"
      },
      "outputs": [
        {
          "output_type": "display_data",
          "data": {
            "text/plain": [
              "24"
            ],
            "text/latex": "$\\displaystyle 24$"
          },
          "metadata": {}
        }
      ],
      "source": [
        "a = F.subs(s, 1)\n",
        "display(a)"
      ]
    },
    {
      "cell_type": "markdown",
      "metadata": {
        "id": "KK8We_wvXxSP"
      },
      "source": [
        "# Exercise 6.10.4\n",
        "\n",
        "$\\int_{0}^{\\infty} x^6 e^{-3x} dx$\n"
      ]
    },
    {
      "cell_type": "code",
      "execution_count": 67,
      "metadata": {
        "colab": {
          "base_uri": "https://localhost:8080/",
          "height": 51
        },
        "id": "_nUFJcR9XxSP",
        "outputId": "e424314d-e030-43ea-ee12-822c34411973"
      },
      "outputs": [
        {
          "output_type": "execute_result",
          "data": {
            "text/plain": [
              "80/243"
            ],
            "text/latex": "$\\displaystyle \\frac{80}{243}$"
          },
          "metadata": {},
          "execution_count": 67
        }
      ],
      "source": [
        "x = symbols(\"x\", real=True, positive=True)\n",
        "    \n",
        "f = x**6 * exp(-3*x)\n",
        "integrate(f, (x,0,oo))"
      ]
    },
    {
      "cell_type": "code",
      "execution_count": 68,
      "metadata": {
        "colab": {
          "base_uri": "https://localhost:8080/",
          "height": 51
        },
        "id": "Grq0esqUXxSQ",
        "outputId": "61954ad6-cbd8-4145-d7c4-f5f973a33a9d"
      },
      "outputs": [
        {
          "output_type": "display_data",
          "data": {
            "text/plain": [
              "720/s**7"
            ],
            "text/latex": "$\\displaystyle \\frac{720}{s^{7}}$"
          },
          "metadata": {}
        }
      ],
      "source": [
        "t = symbols(\"t\", real=True, positive=True)\n",
        "s = symbols(\"s\", real=True)\n",
        "f = t**6\n",
        "F = laplace_transform(f,t,s, noconds=True)\n",
        "display(F)"
      ]
    },
    {
      "cell_type": "code",
      "execution_count": 69,
      "metadata": {
        "colab": {
          "base_uri": "https://localhost:8080/",
          "height": 51
        },
        "id": "Jf2zqbAzXxSQ",
        "outputId": "a6713068-c004-45e6-808c-01e8c7adec33"
      },
      "outputs": [
        {
          "output_type": "display_data",
          "data": {
            "text/plain": [
              "80/243"
            ],
            "text/latex": "$\\displaystyle \\frac{80}{243}$"
          },
          "metadata": {}
        }
      ],
      "source": [
        "a = F.subs(s, 3)\n",
        "display(a)"
      ]
    },
    {
      "cell_type": "markdown",
      "metadata": {
        "id": "vth-rl-LYpY4"
      },
      "source": [
        "# Exercise 6.15.1 (Inverse Laplance Transform)\n",
        "\n",
        "$\\dfrac{3s-14}{s^2-4s+18}$"
      ]
    },
    {
      "cell_type": "code",
      "execution_count": 70,
      "metadata": {
        "colab": {
          "base_uri": "https://localhost:8080/",
          "height": 68
        },
        "id": "PdbxK-VOYpY4",
        "outputId": "87befb3f-98be-4f33-d6f1-d80cd7a54a14"
      },
      "outputs": [
        {
          "output_type": "display_data",
          "data": {
            "text/plain": [
              "(-4*sqrt(14)*sin(sqrt(14)*t)/7 + 3*cos(sqrt(14)*t))*exp(2*t)"
            ],
            "text/latex": "$\\displaystyle \\left(- \\frac{4 \\sqrt{14} \\sin{\\left(\\sqrt{14} t \\right)}}{7} + 3 \\cos{\\left(\\sqrt{14} t \\right)}\\right) e^{2 t}$"
          },
          "metadata": {}
        }
      ],
      "source": [
        "t = symbols(\"t\", real=True, positive=True)\n",
        "s = symbols(\"s\", real=True)\n",
        "F = (3*s - 14) / (s**2 - 4*s + 18)\n",
        "f = inverse_laplace_transform(F, s, t)\n",
        "display(f)"
      ]
    },
    {
      "cell_type": "markdown",
      "metadata": {
        "id": "catI4PShXxSR"
      },
      "source": [
        "# Exercise 6.15.2\n",
        "\n",
        "$\\dfrac{1}{s^2(s^2+1)}$\n"
      ]
    },
    {
      "cell_type": "code",
      "execution_count": 71,
      "metadata": {
        "colab": {
          "base_uri": "https://localhost:8080/",
          "height": 39
        },
        "id": "6umwI06sXxSR",
        "outputId": "d48d1cef-9b48-4758-e6ed-3e87154e46d0"
      },
      "outputs": [
        {
          "output_type": "display_data",
          "data": {
            "text/plain": [
              "t - sin(t)"
            ],
            "text/latex": "$\\displaystyle t - \\sin{\\left(t \\right)}$"
          },
          "metadata": {}
        }
      ],
      "source": [
        "t = symbols(\"t\", real=True, positive=True)\n",
        "s = symbols(\"s\", real=True)\n",
        "F = 1 / (s**2 * (s**2 +1))\n",
        "f = inverse_laplace_transform(F, s, t)\n",
        "display(f)"
      ]
    },
    {
      "cell_type": "markdown",
      "metadata": {
        "id": "KWfBUO1oXxSS"
      },
      "source": [
        "# Exercise 6.15.3\n",
        "\n",
        "$\\dfrac{1}{s^2 - 3s + 2}$\n"
      ]
    },
    {
      "cell_type": "code",
      "execution_count": 72,
      "metadata": {
        "colab": {
          "base_uri": "https://localhost:8080/",
          "height": 39
        },
        "id": "sPn26vP2XxSS",
        "outputId": "fe42f945-9a3f-4dc5-d042-b08654394597"
      },
      "outputs": [
        {
          "output_type": "display_data",
          "data": {
            "text/plain": [
              "(exp(t) - 1)*exp(t)"
            ],
            "text/latex": "$\\displaystyle \\left(e^{t} - 1\\right) e^{t}$"
          },
          "metadata": {}
        }
      ],
      "source": [
        "t = symbols(\"t\", real=True, positive=True)\n",
        "s = symbols(\"s\", real=True)\n",
        "F = 1 / (s**2 - 3*s +2)\n",
        "f = inverse_laplace_transform(F, s, t)\n",
        "display(f)"
      ]
    },
    {
      "cell_type": "markdown",
      "metadata": {
        "id": "h6yw5AUzXxSS"
      },
      "source": [
        "# Exercise 6.15.4\n",
        "\n",
        "$\\dfrac{s^2}{(s^2+4)^2}$\n"
      ]
    },
    {
      "cell_type": "code",
      "execution_count": 73,
      "metadata": {
        "colab": {
          "base_uri": "https://localhost:8080/",
          "height": 53
        },
        "id": "rslRLaCaXxST",
        "outputId": "00437f31-5301-4116-f019-bd7f70d2e661"
      },
      "outputs": [
        {
          "output_type": "display_data",
          "data": {
            "text/plain": [
              "sin(2*t)/2"
            ],
            "text/latex": "$\\displaystyle \\frac{\\sin{\\left(2 t \\right)}}{2}$"
          },
          "metadata": {}
        }
      ],
      "source": [
        "t = symbols(\"t\", real=True, positive=True)\n",
        "s = symbols(\"s\", real=True)\n",
        "F = s**2 / (s**2 + 4)**2\n",
        "f = inverse_laplace_transform(F, s, t)\n",
        "display(f)"
      ]
    },
    {
      "cell_type": "markdown",
      "metadata": {
        "id": "228O5Vp8XxST"
      },
      "source": [
        "# Exercise 6.15.5\n",
        "\n",
        "$\\dfrac{s}{(s^2+4)^2}$\n"
      ]
    },
    {
      "cell_type": "code",
      "execution_count": 74,
      "metadata": {
        "colab": {
          "base_uri": "https://localhost:8080/",
          "height": 82
        },
        "id": "fwqrV_zEXxST",
        "outputId": "84a823b5-0623-437c-930d-d208776855a8"
      },
      "outputs": [
        {
          "output_type": "display_data",
          "data": {
            "text/plain": [
              "Piecewise((0, (exp(t) < 1) | (exp(-t) < 1)), (meijerg(((0, 1 - 2*I, 1 - 2*I, 1 + 2*I, 1 + 2*I), ()), ((), (1, -2*I, -2*I, 2*I, 2*I)), exp(t)), True))"
            ],
            "text/latex": "$\\displaystyle \\begin{cases} 0 & \\text{for}\\: e^{- t} < 1 \\vee e^{t} < 1 \\\\{G_{5, 5}^{0, 5}\\left(\\begin{matrix} 0, 1 - 2 i, 1 - 2 i, 1 + 2 i, 1 + 2 i &  \\\\ & 1, - 2 i, - 2 i, 2 i, 2 i \\end{matrix} \\middle| {e^{t}} \\right)} & \\text{otherwise} \\end{cases}$"
          },
          "metadata": {}
        }
      ],
      "source": [
        "t = symbols(\"t\", real=True, positive=True)\n",
        "s = symbols(\"s\")\n",
        "F = s / (s**2 + 4)**2\n",
        "f = inverse_laplace_transform(F, s, t)\n",
        "display(f)"
      ]
    },
    {
      "cell_type": "markdown",
      "metadata": {
        "id": "ioKqwevUBjTp"
      },
      "source": [
        "* In case it does not work, we may try to use the integral form of the inverse Laplace transform\n",
        "\n",
        "$\\displaystyle\n",
        "\\qquad\n",
        "f(t)=\\frac{1}{2\\pi i}\\int_{s'-i\\infty}^{s'+i\\infty}e^{st}F(s)ds\n",
        "$"
      ]
    },
    {
      "cell_type": "markdown",
      "metadata": {
        "id": "A5o-gPh5XxSU"
      },
      "source": [
        "# Exercise 6.15.6\n",
        "\n",
        "$\\ln\\left(1+\\dfrac{1}{s^2}\\right)$\n"
      ]
    },
    {
      "cell_type": "code",
      "execution_count": 75,
      "metadata": {
        "colab": {
          "base_uri": "https://localhost:8080/",
          "height": 58
        },
        "id": "mDqWsPyXXxSU",
        "outputId": "e8e622bd-feee-4a0c-cc7b-b9107334f1a0"
      },
      "outputs": [
        {
          "output_type": "display_data",
          "data": {
            "text/plain": [
              "InverseLaplaceTransform(log(1 + s**(-2)), s, t, _None)"
            ],
            "text/latex": "$\\displaystyle \\mathcal{L}^{-1}_{s}\\left[\\log{\\left(1 + \\frac{1}{s^{2}} \\right)}\\right]\\left(t\\right)$"
          },
          "metadata": {}
        }
      ],
      "source": [
        "t = symbols(\"t\", real=True, positive=True)\n",
        "s = symbols(\"s\", real=True)\n",
        "F = log(1 + 1/s**2)\n",
        "f = inverse_laplace_transform(F, s, t)\n",
        "display(f)"
      ]
    },
    {
      "cell_type": "markdown",
      "metadata": {
        "id": "FHkQP5WdXxSU"
      },
      "source": [
        "* Sympy 1.11.1 failed to solve ...\n",
        "* Tried other integral calculators and they also failed. Probably bad problem ..."
      ]
    },
    {
      "cell_type": "markdown",
      "metadata": {
        "id": "ak7VwGdxXxSV"
      },
      "source": [
        "# Exercise 6.15.7\n",
        "\n",
        "$\\dfrac{1}{(s^2+4)^2}$"
      ]
    },
    {
      "cell_type": "code",
      "execution_count": 76,
      "metadata": {
        "colab": {
          "base_uri": "https://localhost:8080/",
          "height": 82
        },
        "id": "hVq8de-pXxSV",
        "outputId": "14811a3c-a5bd-4083-9793-bb7fd2ccece9"
      },
      "outputs": [
        {
          "output_type": "display_data",
          "data": {
            "text/plain": [
              "Piecewise((0, (exp(t) < 1) | (exp(-t) < 1)), (meijerg(((1 - 2*I, 1 - 2*I, 1 + 2*I, 1 + 2*I), ()), ((), (-2*I, -2*I, 2*I, 2*I)), exp(t)), True))"
            ],
            "text/latex": "$\\displaystyle \\begin{cases} 0 & \\text{for}\\: e^{- t} < 1 \\vee e^{t} < 1 \\\\{G_{4, 4}^{0, 4}\\left(\\begin{matrix} 1 - 2 i, 1 - 2 i, 1 + 2 i, 1 + 2 i &  \\\\ & - 2 i, - 2 i, 2 i, 2 i \\end{matrix} \\middle| {e^{t}} \\right)} & \\text{otherwise} \\end{cases}$"
          },
          "metadata": {}
        }
      ],
      "source": [
        "t = symbols(\"t\", real=True, positive=True)\n",
        "s = symbols(\"s\", real=True)\n",
        "F = 1 / (s**2 + 4)**2\n",
        "f = inverse_laplace_transform(F, s, t)\n",
        "display(f)"
      ]
    },
    {
      "cell_type": "markdown",
      "metadata": {
        "id": "JwS6NrxBXxSV"
      },
      "source": [
        "# Exercise 6.15.8\n",
        "\n",
        "$\\dfrac{s^3}{s^4-16}$"
      ]
    },
    {
      "cell_type": "code",
      "execution_count": 77,
      "metadata": {
        "colab": {
          "base_uri": "https://localhost:8080/",
          "height": 53
        },
        "id": "2ZnmeBItXxSV",
        "outputId": "2073f5fc-28c3-4867-816c-6e653c337493"
      },
      "outputs": [
        {
          "output_type": "display_data",
          "data": {
            "text/plain": [
              "cos(2*t)/2 + cosh(2*t)/2"
            ],
            "text/latex": "$\\displaystyle \\frac{\\cos{\\left(2 t \\right)}}{2} + \\frac{\\cosh{\\left(2 t \\right)}}{2}$"
          },
          "metadata": {}
        }
      ],
      "source": [
        "t = symbols(\"t\", real=True, positive=True)\n",
        "s = symbols(\"s\", real=True)\n",
        "F = s**3 / (s**4 - 16)\n",
        "f = inverse_laplace_transform(F, s, t)\n",
        "display(f)"
      ]
    },
    {
      "cell_type": "markdown",
      "metadata": {
        "id": "253u3rKgXxSW"
      },
      "source": [
        "# Exercise 6.15.9\n",
        "\n",
        "$\\dfrac{1}{s^3+1}$"
      ]
    },
    {
      "cell_type": "code",
      "execution_count": 78,
      "metadata": {
        "colab": {
          "base_uri": "https://localhost:8080/",
          "height": 66
        },
        "id": "uta8slOsXxSW",
        "outputId": "c2c145dc-1359-4521-f313-0ed128a85634"
      },
      "outputs": [
        {
          "output_type": "display_data",
          "data": {
            "text/plain": [
              "(-6*exp(3*t/2)*cos(sqrt(3)*t/2 + pi/3) + 3)*exp(-t)/9"
            ],
            "text/latex": "$\\displaystyle \\frac{\\left(- 6 e^{\\frac{3 t}{2}} \\cos{\\left(\\frac{\\sqrt{3} t}{2} + \\frac{\\pi}{3} \\right)} + 3\\right) e^{- t}}{9}$"
          },
          "metadata": {}
        }
      ],
      "source": [
        "t = symbols(\"t\", real=True, positive=True)\n",
        "s = symbols(\"s\")\n",
        "F = 1 / (s**3 + 1)\n",
        "f = inverse_laplace_transform(F, s, t)\n",
        "display(f)"
      ]
    },
    {
      "cell_type": "code",
      "execution_count": 79,
      "metadata": {
        "colab": {
          "base_uri": "https://localhost:8080/",
          "height": 66
        },
        "id": "orJUbTheXxSX",
        "outputId": "8cc6cb60-01c9-4286-9623-687086092188"
      },
      "outputs": [
        {
          "output_type": "execute_result",
          "data": {
            "text/plain": [
              "-2*exp(t/2)*cos(sqrt(3)*t/2 + pi/3)/3 + exp(-t)/3"
            ],
            "text/latex": "$\\displaystyle - \\frac{2 e^{\\frac{t}{2}} \\cos{\\left(\\frac{\\sqrt{3} t}{2} + \\frac{\\pi}{3} \\right)}}{3} + \\frac{e^{- t}}{3}$"
          },
          "metadata": {},
          "execution_count": 79
        }
      ],
      "source": [
        "expand(f)"
      ]
    },
    {
      "cell_type": "markdown",
      "metadata": {
        "id": "-5UG2THbXxSX"
      },
      "source": [
        "# Exercise 6.15.10\n",
        "\n",
        "$\\dfrac{2s^2+s-10}{(s-4)(s^2+2s+2)}$\n"
      ]
    },
    {
      "cell_type": "code",
      "execution_count": 80,
      "metadata": {
        "colab": {
          "base_uri": "https://localhost:8080/",
          "height": 39
        },
        "id": "ZUqxWwUxXxSX",
        "outputId": "4c3a67cf-aa62-40f9-87d5-1543e8e3f3e9"
      },
      "outputs": [
        {
          "output_type": "display_data",
          "data": {
            "text/plain": [
              "(exp(5*t) + 2*sin(t) + cos(t))*exp(-t)"
            ],
            "text/latex": "$\\displaystyle \\left(e^{5 t} + 2 \\sin{\\left(t \\right)} + \\cos{\\left(t \\right)}\\right) e^{- t}$"
          },
          "metadata": {}
        }
      ],
      "source": [
        "t = symbols(\"t\", real=True, positive=True)\n",
        "s = symbols(\"s\", real=True)\n",
        "F = (2*s**2 + s -10) / ((s-4) * (s**2 + 2*s +2))\n",
        "f = inverse_laplace_transform(F, s, t)\n",
        "display(f)"
      ]
    },
    {
      "cell_type": "code",
      "execution_count": 81,
      "metadata": {
        "colab": {
          "base_uri": "https://localhost:8080/",
          "height": 39
        },
        "id": "H1rB2RwJXxSX",
        "outputId": "614ca615-2ae7-4d4f-a166-dd9b076484e8"
      },
      "outputs": [
        {
          "output_type": "execute_result",
          "data": {
            "text/plain": [
              "exp(4*t) + 2*exp(-t)*sin(t) + exp(-t)*cos(t)"
            ],
            "text/latex": "$\\displaystyle e^{4 t} + 2 e^{- t} \\sin{\\left(t \\right)} + e^{- t} \\cos{\\left(t \\right)}$"
          },
          "metadata": {},
          "execution_count": 81
        }
      ],
      "source": [
        "expand(f)"
      ]
    },
    {
      "cell_type": "markdown",
      "metadata": {
        "id": "KDDHGHPNBjTs"
      },
      "source": [
        "# Exercise 6.17.1\n",
        "\n",
        "$\n",
        "f(t) = \\\\\n",
        "1, \\  0\\leq t \\leq T    \\\\\n",
        "0, \\  t>T\n",
        "$"
      ]
    },
    {
      "cell_type": "code",
      "execution_count": 82,
      "metadata": {
        "colab": {
          "base_uri": "https://localhost:8080/",
          "height": 53
        },
        "id": "5BYmNPOEBjTs",
        "outputId": "c407b2ed-c2e4-4e37-dcb8-f9acb55edccd"
      },
      "outputs": [
        {
          "output_type": "display_data",
          "data": {
            "text/plain": [
              "T*(1 - exp(-s))/s"
            ],
            "text/latex": "$\\displaystyle \\frac{T \\left(1 - e^{- s}\\right)}{s}$"
          },
          "metadata": {}
        }
      ],
      "source": [
        "s,t,T = symbols(\"s t T\", real=True)\n",
        "\n",
        "f = Heaviside(1-t) * T \n",
        "F = laplace_transform(f, t, s, noconds=True)\n",
        "display(F)"
      ]
    },
    {
      "cell_type": "code",
      "execution_count": 83,
      "metadata": {
        "colab": {
          "base_uri": "https://localhost:8080/",
          "height": 53
        },
        "id": "pTIHv59HBjTs",
        "outputId": "6e9412d2-215a-49b1-a12f-d585378e566b"
      },
      "outputs": [
        {
          "output_type": "execute_result",
          "data": {
            "text/plain": [
              "T/s - T*exp(-s)/s"
            ],
            "text/latex": "$\\displaystyle \\frac{T}{s} - \\frac{T e^{- s}}{s}$"
          },
          "metadata": {},
          "execution_count": 83
        }
      ],
      "source": [
        "expand(F)"
      ]
    },
    {
      "cell_type": "markdown",
      "metadata": {
        "id": "rrrrzLogR2s6"
      },
      "source": [
        "### [Link to step-by-step-solution](https://samyzaf.com/technion/ode/sol/chap6.17.1.pdf)"
      ]
    },
    {
      "cell_type": "markdown",
      "metadata": {
        "id": "mAZpyCslBjTt"
      },
      "source": [
        "# Exercise 6.17.2\n",
        "\n",
        "$\n",
        "f(t) = \\\\\n",
        "0,        \\  0\\leq t \\leq 1 \\\\\n",
        "(t-1)^2,  \\  t > 1\n",
        "$"
      ]
    },
    {
      "cell_type": "code",
      "execution_count": 84,
      "metadata": {
        "colab": {
          "base_uri": "https://localhost:8080/",
          "height": 53
        },
        "id": "XVrOwdRfBjTt",
        "outputId": "c93d749c-9b45-4408-8c80-bf896f2df602"
      },
      "outputs": [
        {
          "output_type": "display_data",
          "data": {
            "text/plain": [
              "2*exp(-s)/s**3"
            ],
            "text/latex": "$\\displaystyle \\frac{2 e^{- s}}{s^{3}}$"
          },
          "metadata": {}
        }
      ],
      "source": [
        "s,t,T = symbols(\"s t T\", real=True)\n",
        "    \n",
        "f = Heaviside(t-1) * (t-1)**2\n",
        "F = laplace_transform(f, t, s, noconds=True)\n",
        "display(F)"
      ]
    },
    {
      "cell_type": "markdown",
      "metadata": {
        "id": "M3FKwppLBjTt"
      },
      "source": [
        "### Alternative solution\n",
        "* In other cases we may need to proceed by definition .."
      ]
    },
    {
      "cell_type": "code",
      "execution_count": 85,
      "metadata": {
        "colab": {
          "base_uri": "https://localhost:8080/"
        },
        "id": "TZlnLTXJBjTt",
        "outputId": "0d741050-4b4a-4461-a289-619352b2e514"
      },
      "outputs": [
        {
          "output_type": "stream",
          "name": "stdout",
          "text": [
            "Piecewise(((-s**2*t**2 + 2*s**2*t - s**2 - 2*s*t + 2*s - 2)*exp(-s*t)/s**3, Ne(s**3, 0)), (t**3/3 - t**2 + t, True))\n"
          ]
        }
      ],
      "source": [
        "i = Integral(exp(-s*t) * (t-1)**2 , t)\n",
        "i = i.doit()\n",
        "print(i)"
      ]
    },
    {
      "cell_type": "markdown",
      "metadata": {
        "id": "rbaUXrVBBjTt"
      },
      "source": [
        "* Sympy gives two parts for cases in which $s$ is complex which does not concern us.\n",
        "* Only the first case is relevant:"
      ]
    },
    {
      "cell_type": "code",
      "execution_count": 86,
      "metadata": {
        "colab": {
          "base_uri": "https://localhost:8080/",
          "height": 53
        },
        "id": "cDAmOGnxBjTt",
        "outputId": "0c33de3c-3bd0-4d90-8e5a-f516c9d10d4e"
      },
      "outputs": [
        {
          "output_type": "display_data",
          "data": {
            "text/plain": [
              "2*exp(-s)/s**3"
            ],
            "text/latex": "$\\displaystyle \\frac{2 e^{- s}}{s^{3}}$"
          },
          "metadata": {}
        }
      ],
      "source": [
        "i = (-s**2*t**2 + 2*s**2*t - s**2 - 2*s*t + 2*s - 2)*exp(-s*t)/s**3\n",
        "F = -i.subs(t,1)\n",
        "display(F)"
      ]
    },
    {
      "cell_type": "markdown",
      "metadata": {
        "id": "vne-iYw5YazQ"
      },
      "source": [
        "### [Link to step-by-step-solution](https://samyzaf.com/technion/ode/sol/chap6.17.2.pdf)"
      ]
    },
    {
      "cell_type": "markdown",
      "metadata": {
        "id": "yi9-Q9wbBjTt"
      },
      "source": [
        "# Exercise 6.17.3\n",
        "\n",
        "$\n",
        "f(t) = \\\\\n",
        "t^2,  \\  0 \\leq t < 2    \\\\\n",
        "4t,   \\  t \\geq 2\n",
        "$"
      ]
    },
    {
      "cell_type": "code",
      "execution_count": 87,
      "metadata": {
        "colab": {
          "base_uri": "https://localhost:8080/",
          "height": 56
        },
        "id": "A5KfZYn2BjTu",
        "outputId": "9caabc44-45ba-40c6-fb44-bf93ca9a2749",
        "scrolled": true
      },
      "outputs": [
        {
          "output_type": "display_data",
          "data": {
            "text/plain": [
              "2*(2*s**2 + exp(2*s) - 1)*exp(-2*s)/s**3"
            ],
            "text/latex": "$\\displaystyle \\frac{2 \\cdot \\left(2 s^{2} + e^{2 s} - 1\\right) e^{- 2 s}}{s^{3}}$"
          },
          "metadata": {}
        }
      ],
      "source": [
        "s,t,T = symbols(\"s t T\", real=True)\n",
        "    \n",
        "f = Heaviside(2-t) * t**2 + Heaviside(t-2) * 4*t\n",
        "F = laplace_transform(f, t, s, noconds=True)\n",
        "display(F)"
      ]
    },
    {
      "cell_type": "markdown",
      "metadata": {
        "id": "vfh5BugYYqZU"
      },
      "source": [
        "### [Link to step-by-step-solution](https://samyzaf.com/technion/ode/sol/chap6.17.3.pdf)"
      ]
    },
    {
      "cell_type": "code",
      "execution_count": 88,
      "metadata": {
        "colab": {
          "base_uri": "https://localhost:8080/",
          "height": 54
        },
        "id": "_tVtQV8rBjTu",
        "outputId": "df84cecc-27f0-4d86-ffcc-15de3e543dd7"
      },
      "outputs": [
        {
          "output_type": "execute_result",
          "data": {
            "text/plain": [
              "4*exp(-2*s)/s + 2/s**3 - 2*exp(-2*s)/s**3"
            ],
            "text/latex": "$\\displaystyle \\frac{4 e^{- 2 s}}{s} + \\frac{2}{s^{3}} - \\frac{2 e^{- 2 s}}{s^{3}}$"
          },
          "metadata": {},
          "execution_count": 88
        }
      ],
      "source": [
        "expand(F)"
      ]
    },
    {
      "cell_type": "markdown",
      "metadata": {
        "id": "02QKOTxDY1uk"
      },
      "source": [
        "# Exercise 6.17.4\n",
        "\n",
        "$\n",
        "f(t) = \\\\\n",
        "t,    \\quad \\;   0\\leq t\\leq 7          \\\\\n",
        "3-t,  \\quad \\;   7<t<8                  \\\\\n",
        "1,    \\quad \\;   8 \\leq t\n",
        "$"
      ]
    },
    {
      "cell_type": "markdown",
      "metadata": {
        "id": "vD_uE80hZQlS"
      },
      "source": [
        "### [Link to step-by-step-solution](https://samyzaf.com/technion/ode/sol/chap6.17.4.pdf)"
      ]
    },
    {
      "cell_type": "markdown",
      "metadata": {
        "id": "yKLdvG41BjTu"
      },
      "source": [
        "# Exercise 6.17.5\n",
        "\n",
        "$\n",
        "f(t) = \\\\\n",
        "0,    \\  t<a \\\\\n",
        "5,  \\  a \\leq t < b    \\\\\n",
        "0,   \\  b< t \n",
        "$"
      ]
    },
    {
      "cell_type": "code",
      "execution_count": 89,
      "metadata": {
        "colab": {
          "base_uri": "https://localhost:8080/",
          "height": 54
        },
        "id": "WKCNAHNPBjTu",
        "outputId": "32b4c376-3aee-4efc-b4d3-b84a7e800486"
      },
      "outputs": [
        {
          "output_type": "display_data",
          "data": {
            "text/plain": [
              "-5*exp(-b*s)/s + 5*exp(-a*s)/s"
            ],
            "text/latex": "$\\displaystyle - \\frac{5 e^{- b s}}{s} + \\frac{5 e^{- a s}}{s}$"
          },
          "metadata": {}
        }
      ],
      "source": [
        "s,t,a,b = symbols(\"s t a b\", real=True)\n",
        "    \n",
        "f = 5*Heaviside(t-a) - 5*Heaviside(t-b)\n",
        "F = laplace_transform(f, t, s, noconds=True)\n",
        "#print(F)\n",
        "display(F)"
      ]
    },
    {
      "cell_type": "markdown",
      "metadata": {
        "id": "VYNQfoLhBjTu"
      },
      "source": [
        "* Lets try to plot an example for $a=3$, $b=7$."
      ]
    },
    {
      "cell_type": "code",
      "execution_count": 90,
      "metadata": {
        "colab": {
          "base_uri": "https://localhost:8080/",
          "height": 313
        },
        "id": "Bhtys8fWBjTu",
        "outputId": "50a7a9db-2037-4728-cbf3-0ae1bb4fad72"
      },
      "outputs": [
        {
          "output_type": "display_data",
          "data": {
            "text/plain": [
              "<Figure size 432x288 with 1 Axes>"
            ],
            "image/png": "[encoded data removed]"
          },
          "metadata": {
            "needs_background": "light"
          }
        },
        {
          "output_type": "execute_result",
          "data": {
            "text/plain": [
              "<sympy.plotting.plot.Plot at 0x7f8f29ec8460>"
            ]
          },
          "metadata": {},
          "execution_count": 90
        }
      ],
      "source": [
        "f = 5*Heaviside(t-3) - 5*Heaviside(t-7)\n",
        "plot(f, (t,0,12))"
      ]
    },
    {
      "cell_type": "markdown",
      "metadata": {
        "id": "NVQICb0eZXK8"
      },
      "source": [
        "## [Link to step-by-step-solution](https://samyzaf.com/technion/ode/sol/chap6.17.5.pdf)"
      ]
    },
    {
      "cell_type": "markdown",
      "metadata": {
        "id": "SJTO3VVDZlZ0"
      },
      "source": [
        "# Exercise 6.17.6\n",
        "\n",
        "$\n",
        "f(t) = \\\\\n",
        "0,    \\quad \\;  0 \\leq t < 1    \\\\\n",
        "1,    \\quad \\;  1 \\leq t < 4    \\\\\n",
        "4,    \\quad \\;  t\\geq 4\n",
        "$"
      ]
    },
    {
      "cell_type": "markdown",
      "metadata": {
        "id": "BRBBkhahaCMs"
      },
      "source": [
        "### [Link to step-by-step-solution](https://samyzaf.com/technion/ode/sol/chap6.17.6.pdf)"
      ]
    },
    {
      "cell_type": "markdown",
      "metadata": {
        "id": "aKEPJRV7ap2M"
      },
      "source": [
        "# Exercise 6.17.7\n",
        "\n",
        "$\n",
        "f(t) = \\\\\n",
        "0,     \\quad \\;  0 \\leq t < 1    \\\\\n",
        "t-1,   \\quad \\;  1 \\leq t < 3    \\\\\n",
        "8-2t,  \\quad \\;  3\\leq t<4 \\\\\n",
        "0,     \\quad \\;  4 \\leq t\n",
        "$"
      ]
    },
    {
      "cell_type": "markdown",
      "metadata": {
        "id": "Fyb5Pv8La5QE"
      },
      "source": [
        "### [Link to step-by-step-solution](https://samyzaf.com/technion/ode/sol/chap6.17.7.pdf)"
      ]
    },
    {
      "cell_type": "markdown",
      "metadata": {
        "id": "hzN3GSxObh2V"
      },
      "source": [
        "# Exercise 6.17.8\n",
        "\n",
        "$\n",
        "f(t) = u_1(t) + 3u_5(t)\n",
        "$"
      ]
    },
    {
      "cell_type": "code",
      "execution_count": 91,
      "metadata": {
        "colab": {
          "base_uri": "https://localhost:8080/",
          "height": 56
        },
        "id": "fRkV6ZP9bwn1",
        "outputId": "8c2100b4-2686-4ad9-f9b2-6b24b27632ae"
      },
      "outputs": [
        {
          "output_type": "display_data",
          "data": {
            "text/plain": [
              "(exp(4*s) + 3)*exp(-5*s)/s"
            ],
            "text/latex": "$\\displaystyle \\frac{\\left(e^{4 s} + 3\\right) e^{- 5 s}}{s}$"
          },
          "metadata": {}
        }
      ],
      "source": [
        "s,t = symbols(\"s t\", real=True)\n",
        "    \n",
        "f = Heaviside(t-1) + 3*Heaviside(t-5)\n",
        "F = laplace_transform(f, t, s, noconds=True)\n",
        "display(F)"
      ]
    },
    {
      "cell_type": "code",
      "execution_count": 92,
      "metadata": {
        "colab": {
          "base_uri": "https://localhost:8080/",
          "height": 54
        },
        "id": "O7dUPJFHb7cn",
        "outputId": "f7f447aa-4344-4151-e862-4ec9372cc121"
      },
      "outputs": [
        {
          "output_type": "execute_result",
          "data": {
            "text/plain": [
              "exp(-s)/s + 3*exp(-5*s)/s"
            ],
            "text/latex": "$\\displaystyle \\frac{e^{- s}}{s} + \\frac{3 e^{- 5 s}}{s}$"
          },
          "metadata": {},
          "execution_count": 92
        }
      ],
      "source": [
        "expand(F)"
      ]
    },
    {
      "cell_type": "markdown",
      "metadata": {
        "id": "f5gAQqphbBQx"
      },
      "source": [
        "# Exercise 6.17.9\n",
        "\n",
        "$\n",
        "f(t) = \\\\\n",
        "\\cos 2t,  \\quad \\;  0 \\leq t < \\pi  \\\\\n",
        "0,        \\quad \\;  \\pi\\leq t<\\infty\n",
        "$"
      ]
    },
    {
      "cell_type": "code",
      "execution_count": 93,
      "metadata": {
        "colab": {
          "base_uri": "https://localhost:8080/",
          "height": 55
        },
        "id": "Ctfg3IjscSQ7",
        "outputId": "df0fd504-b815-4866-b4d8-dd3f57d9072f"
      },
      "outputs": [
        {
          "output_type": "display_data",
          "data": {
            "text/plain": [
              "s*(exp(pi*s) - 1)*exp(-pi*s)/(s**2 + 4)"
            ],
            "text/latex": "$\\displaystyle \\frac{s \\left(e^{\\pi s} - 1\\right) e^{- \\pi s}}{s^{2} + 4}$"
          },
          "metadata": {}
        }
      ],
      "source": [
        "s,t = symbols(\"s t\", real=True)\n",
        "    \n",
        "f = Heaviside(pi - t) * cos(2*t)\n",
        "F = laplace_transform(f, t, s, noconds=True)\n",
        "display(F)"
      ]
    },
    {
      "cell_type": "markdown",
      "metadata": {
        "id": "lNwrayFMbOiE"
      },
      "source": [
        "### [Link to step-by-step-solution](https://samyzaf.com/technion/ode/sol/chap6.17.9.pdf)"
      ]
    },
    {
      "cell_type": "markdown",
      "metadata": {
        "id": "1wKOErbhqKWU"
      },
      "source": [
        "# **TO BE CONTINUED ...**\n",
        "* Any student with a basic Python programming skill\n",
        "  is welcome to continue and solve more exercises\n",
        "  from the\n",
        "<a href=\"https://samyzaf.com/technion/ode/ode.pdf\">\n",
        "Ordinal Differential Equations book\n",
        "</a>.\n",
        "\n",
        "* Send your solutions notebook to sz@samyzaf.com.\n",
        "* They will be checked and added to this notebook.\n",
        "* Thanks!!!"
      ]
    },
    {
      "cell_type": "code",
      "execution_count": 93,
      "metadata": {
        "id": "W69YSbejO4P-"
      },
      "outputs": [],
      "source": []
    }
  ],
  "metadata": {
    "colab": {
      "provenance": [],
      "include_colab_link": true
    },
    "kernelspec": {
      "display_name": "Python 3 (ipykernel)",
      "language": "python",
      "name": "python3"
    },
    "language_info": {
      "codemirror_mode": {
        "name": "ipython",
        "version": 3
      },
      "file_extension": ".py",
      "mimetype": "text/x-python",
      "name": "python",
      "nbconvert_exporter": "python",
      "pygments_lexer": "ipython3",
      "version": "3.7.11"
    }
  },
  "nbformat": 4,
  "nbformat_minor": 0
}