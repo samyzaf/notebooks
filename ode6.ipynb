{
  "cells": [
    {
      "cell_type": "markdown",
      "metadata": {
        "id": "view-in-github",
        "colab_type": "text"
      },
      "source": [
        "<a href=\"https://colab.research.google.com/github/samyzaf/notebooks/blob/main/ode6.ipynb\" target=\"_parent\"><img src=\"https://colab.research.google.com/assets/colab-badge.svg\" alt=\"Open In Colab\"/></a>"
      ]
    },
    {
      "cell_type": "markdown",
      "metadata": {
        "id": "zo0mZHrOCICt"
      },
      "source": [
        "# Ordinary Differential Equations\n",
        "# Chapter 6: Solutions to exercises\n",
        "\n",
        "<a href=\"https://samyzaf.com/technion/ode/ode.pdf\">\n",
        "<img src=\"https://samyzaf.com/technion/ode/ode2.jpg\" alt=\"ode book cover\"/>\n",
        "</a>\n",
        "\n",
        "* We used Python **Sympy** package for obtaining the final\n",
        "  result for most of the exercises.\n",
        "* This package is still under development, and is not yet\n",
        "  ready to cope with all ode's.\n",
        "* The new site https://mathdf.com seems to be a great source\n",
        "  for obtaining full step-by-step solutions.\n",
        "  Please use it for obtaining full solutions and let us know\n",
        "  if it meets expectations. We will be glad to receive full solutions\n",
        "  and add them here later (sz@samyzaf.com).\n",
        "* This notebook can be edited and executed by clicking\n",
        "  the **open in colab** button.\n",
        "* These are only a small number of solutions.\n",
        "  Hopefully this will encourage students to try to solve more\n",
        "  exercises with similar methods. We will be glad to accept notebooks\n",
        "  with solutions to other exercises in this book.\n",
        "  Please send them to sz@samyzaf.com."
      ]
    },
    {
      "cell_type": "code",
      "execution_count": 1,
      "metadata": {
        "colab": {
          "base_uri": "https://localhost:8080/"
        },
        "id": "M6sQe4JlsK7u",
        "outputId": "e52690bc-e86b-4809-a279-8a4db1117831"
      },
      "outputs": [
        {
          "output_type": "stream",
          "name": "stdout",
          "text": [
            "Looking in indexes: https://pypi.org/simple, https://us-python.pkg.dev/colab-wheels/public/simple/\n",
            "Requirement already satisfied: sympy in /usr/local/lib/python3.8/dist-packages (1.7.1)\n",
            "Collecting sympy\n",
            "  Downloading sympy-1.11.1-py3-none-any.whl (6.5 MB)\n",
            "\u001b[K     |████████████████████████████████| 6.5 MB 4.3 MB/s \n",
            "\u001b[?25hRequirement already satisfied: mpmath>=0.19 in /usr/local/lib/python3.8/dist-packages (from sympy) (1.2.1)\n",
            "Installing collected packages: sympy\n",
            "  Attempting uninstall: sympy\n",
            "    Found existing installation: sympy 1.7.1\n",
            "    Uninstalling sympy-1.7.1:\n",
            "      Successfully uninstalled sympy-1.7.1\n",
            "Successfully installed sympy-1.11.1\n"
          ]
        }
      ],
      "source": [
        "%pip install --upgrade sympy"
      ]
    },
    {
      "cell_type": "code",
      "execution_count": 2,
      "metadata": {
        "id": "QO4VgM1r1vEy"
      },
      "outputs": [],
      "source": [
        "from sympy import *\n",
        "from sympy.solvers.ode import checkodesol\n",
        "from IPython.display import HTML"
      ]
    },
    {
      "cell_type": "markdown",
      "metadata": {
        "id": "YoIKr1sI4NRE"
      },
      "source": [
        "# Example\n",
        "\n",
        "* The following is a simple example of taking a Laplace transform of $f(t)$ and\n",
        "  then using partial fractions to simplify the result.\n",
        "\n",
        "$$\n",
        "f(t) = 2t + 3e^{2t} \\cos 3t\n",
        "$$\n"
      ]
    },
    {
      "cell_type": "code",
      "execution_count": 3,
      "metadata": {
        "colab": {
          "base_uri": "https://localhost:8080/",
          "height": 91
        },
        "id": "FVVNYpnrXxRv",
        "outputId": "b6b22efe-67eb-40ea-a873-6f7a0606010e"
      },
      "outputs": [
        {
          "output_type": "stream",
          "name": "stdout",
          "text": [
            "(3*s**2*(s + 2) + 2*(s + 2)**2 + 18)/(s**2*((s + 2)**2 + 9))\n"
          ]
        },
        {
          "output_type": "display_data",
          "data": {
            "text/plain": [
              "(3*s**2*(s + 2) + 2*(s + 2)**2 + 18)/(s**2*((s + 2)**2 + 9))"
            ],
            "text/latex": "$\\displaystyle \\frac{3 s^{2} \\left(s + 2\\right) + 2 \\left(s + 2\\right)^{2} + 18}{s^{2} \\left(\\left(s + 2\\right)^{2} + 9\\right)}$"
          },
          "metadata": {}
        }
      ],
      "source": [
        "s,t = symbols(\"s,t\")\n",
        "f = 2*t + 3*exp(-2*t) * cos(3*t)\n",
        "T = laplace_transform(f, t, s, noconds=True)\n",
        "print(T)\n",
        "display(T)"
      ]
    },
    {
      "cell_type": "code",
      "execution_count": 4,
      "metadata": {
        "colab": {
          "base_uri": "https://localhost:8080/",
          "height": 54
        },
        "id": "aNcH72F6XxRw",
        "outputId": "08f48edd-982b-4b04-ae7a-6fc6542f1af8"
      },
      "outputs": [
        {
          "output_type": "execute_result",
          "data": {
            "text/plain": [
              "3*(s + 2)/(s**2 + 4*s + 13) + 2/s**2"
            ],
            "text/latex": "$\\displaystyle \\frac{3 \\left(s + 2\\right)}{s^{2} + 4 s + 13} + \\frac{2}{s^{2}}$"
          },
          "metadata": {},
          "execution_count": 4
        }
      ],
      "source": [
        "polys.partfrac.apart(T)"
      ]
    },
    {
      "cell_type": "markdown",
      "metadata": {
        "id": "7kZIkO5nXxRx"
      },
      "source": [
        "# Exercise 6.2\n",
        "\n",
        "$f(t) =\n",
        "\\sin t \\ (0 \\leq t \\leq 2\\pi),\n",
        "\\quad 0 \\ (2\\pi < t)\n",
        "$\n"
      ]
    },
    {
      "cell_type": "code",
      "execution_count": 5,
      "metadata": {
        "colab": {
          "base_uri": "https://localhost:8080/",
          "height": 74
        },
        "id": "NZnh7uRSHpf3",
        "outputId": "9eb7e208-0b5f-4615-fc65-3fec70f606f4"
      },
      "outputs": [
        {
          "output_type": "stream",
          "name": "stdout",
          "text": [
            "(2*exp(2*pi*s) - 2)*exp(-2*pi*s)/(s**2 + 4)\n"
          ]
        },
        {
          "output_type": "display_data",
          "data": {
            "text/plain": [
              "(2*exp(2*pi*s) - 2)*exp(-2*pi*s)/(s**2 + 4)"
            ],
            "text/latex": "$\\displaystyle \\frac{\\left(2 e^{2 \\pi s} - 2\\right) e^{- 2 \\pi s}}{s^{2} + 4}$"
          },
          "metadata": {}
        }
      ],
      "source": [
        "t = symbols(\"t\", real=True, positive=True)\n",
        "s = symbols(\"s\", real=True)\n",
        "\n",
        "f = Piecewise((0, t < 0), (sin(2*t), t<=2*pi), (0, True))\n",
        "    \n",
        "T = laplace_transform(f, t, s, noconds=True)\n",
        "print(T)\n",
        "display(T)"
      ]
    },
    {
      "cell_type": "markdown",
      "metadata": {
        "id": "ZyFYRsm34NRO"
      },
      "source": [
        "# Exercise 6.4\n",
        "\n",
        "$f(t) = \\\\\n",
        " 1,    \\quad    0 \\leq t \\leq 2   \\\\\n",
        "-1,    \\quad    2 < t \\leq 4\n",
        "$"
      ]
    },
    {
      "cell_type": "code",
      "execution_count": 6,
      "metadata": {
        "colab": {
          "base_uri": "https://localhost:8080/",
          "height": 88
        },
        "id": "pta_vjpo4NRQ",
        "outputId": "62d6c1b4-1310-400d-c2d7-44ec99d01391"
      },
      "outputs": [
        {
          "output_type": "stream",
          "name": "stdout",
          "text": [
            "Piecewise(((exp(4*s) - 2*exp(2*s) + 1)*exp(-4*s)/s, (s > 0) | (s < 0)), (0, True))\n"
          ]
        },
        {
          "output_type": "display_data",
          "data": {
            "text/plain": [
              "Piecewise(((exp(4*s) - 2*exp(2*s) + 1)*exp(-4*s)/s, (s > 0) | (s < 0)), (0, True))"
            ],
            "text/latex": "$\\displaystyle \\begin{cases} \\frac{\\left(e^{4 s} - 2 e^{2 s} + 1\\right) e^{- 4 s}}{s} & \\text{for}\\: s > 0 \\vee s < 0 \\\\0 & \\text{otherwise} \\end{cases}$"
          },
          "metadata": {}
        }
      ],
      "source": [
        "t = symbols(\"t\", real=True, positive=True)\n",
        "s = symbols(\"s\", real=True)\n",
        "    \n",
        "f = Piecewise((1, t<=2), (-1, t<=4), (0, True))\n",
        "#? f = sign(2-(t%4)) # This is probably not what was meant ?!\n",
        "    \n",
        "T = laplace_transform(f, t, s, noconds=True)\n",
        "print(T)\n",
        "display(T)"
      ]
    },
    {
      "cell_type": "code",
      "execution_count": 7,
      "metadata": {
        "colab": {
          "base_uri": "https://localhost:8080/",
          "height": 54
        },
        "id": "Jt1h8PWLZ05u",
        "outputId": "756b6f27-e47c-4f0a-9265-857548901912"
      },
      "outputs": [
        {
          "output_type": "execute_result",
          "data": {
            "text/plain": [
              "1/s - 2*exp(-2*s)/s + exp(-4*s)/s"
            ],
            "text/latex": "$\\displaystyle \\frac{1}{s} - \\frac{2 e^{- 2 s}}{s} + \\frac{e^{- 4 s}}{s}$"
          },
          "metadata": {},
          "execution_count": 7
        }
      ],
      "source": [
        "F= (exp(4*s) - 2*exp(2*s) + 1)*exp(-4*s)/s\n",
        "expand(F)"
      ]
    },
    {
      "cell_type": "markdown",
      "metadata": {
        "id": "4SP199FvXxR1"
      },
      "source": [
        "* It's not clear if this is equal to $\\tanh(s)/s$ !?\n",
        "* Probably the problem is missing somethin!? It does not specify anything about $t>4$ ..."
      ]
    },
    {
      "cell_type": "markdown",
      "metadata": {
        "id": "poUTpkjx4NRR"
      },
      "source": [
        "# Exercise 6.5.1\n",
        "\n",
        "$e^{-t} \\cos 2t$"
      ]
    },
    {
      "cell_type": "code",
      "execution_count": 8,
      "metadata": {
        "colab": {
          "base_uri": "https://localhost:8080/",
          "height": 58
        },
        "id": "lVU3PItM4NRT",
        "outputId": "b431d55c-6101-4ed6-8718-0bd2e88b5ece"
      },
      "outputs": [
        {
          "output_type": "display_data",
          "data": {
            "text/plain": [
              "(s + 1)/((s + 1)**2 + 1)"
            ],
            "text/latex": "$\\displaystyle \\frac{s + 1}{\\left(s + 1\\right)^{2} + 1}$"
          },
          "metadata": {}
        }
      ],
      "source": [
        "t = symbols(\"t\", real=True, positive=True)\n",
        "s = symbols(\"s\", real=True)\n",
        "\n",
        "f = exp(-t) * cos(t)\n",
        "F = laplace_transform(f, t, s, noconds=True)\n",
        "display(F)"
      ]
    },
    {
      "cell_type": "code",
      "execution_count": 9,
      "metadata": {
        "colab": {
          "base_uri": "https://localhost:8080/",
          "height": 52
        },
        "id": "9kJeTe7sZUrr",
        "outputId": "7df19819-eb04-4a6f-b648-cd6fa5da0ebc"
      },
      "outputs": [
        {
          "output_type": "execute_result",
          "data": {
            "text/plain": [
              "(s + 1)/(s**2 + 2*s + 2)"
            ],
            "text/latex": "$\\displaystyle \\frac{s + 1}{s^{2} + 2 s + 2}$"
          },
          "metadata": {},
          "execution_count": 9
        }
      ],
      "source": [
        "polys.partfrac.apart(F)"
      ]
    },
    {
      "cell_type": "markdown",
      "metadata": {
        "id": "nESqAJ_O4NRU"
      },
      "source": [
        "# Exercise 6.5.2\n",
        "\n",
        "$e^{-4t} \\cosh 2t$\n"
      ]
    },
    {
      "cell_type": "code",
      "execution_count": 10,
      "metadata": {
        "colab": {
          "base_uri": "https://localhost:8080/",
          "height": 58
        },
        "id": "q0_RWXtb4NRV",
        "outputId": "5cf286cb-0abc-40f9-8d54-0557111922cf"
      },
      "outputs": [
        {
          "output_type": "display_data",
          "data": {
            "text/plain": [
              "(s + 4)/((s + 4)**2 - 4)"
            ],
            "text/latex": "$\\displaystyle \\frac{s + 4}{\\left(s + 4\\right)^{2} - 4}$"
          },
          "metadata": {}
        }
      ],
      "source": [
        "t = symbols(\"t\", real=True, positive=True)\n",
        "s = symbols(\"s\", real=True)\n",
        "\n",
        "f = exp(-4*t) * cosh(2*t)\n",
        "F = laplace_transform(f, t, s, noconds=True)\n",
        "display(F)"
      ]
    },
    {
      "cell_type": "code",
      "execution_count": 11,
      "metadata": {
        "colab": {
          "base_uri": "https://localhost:8080/",
          "height": 55
        },
        "id": "qYU-EHpXXxR4",
        "outputId": "a3fb6e0a-bf29-4549-ee0e-280c731f0f59"
      },
      "outputs": [
        {
          "output_type": "execute_result",
          "data": {
            "text/plain": [
              "1/(2*(s + 6)) + 1/(2*(s + 2))"
            ],
            "text/latex": "$\\displaystyle \\frac{1}{2 \\left(s + 6\\right)} + \\frac{1}{2 \\left(s + 2\\right)}$"
          },
          "metadata": {},
          "execution_count": 11
        }
      ],
      "source": [
        "polys.partfrac.apart(F)"
      ]
    },
    {
      "cell_type": "markdown",
      "metadata": {
        "id": "XsmZ4uTU4NRW"
      },
      "source": [
        "# Exercise 6.5.3\n",
        "\n",
        "$(t^2+1)^2$\n"
      ]
    },
    {
      "cell_type": "code",
      "execution_count": 12,
      "metadata": {
        "colab": {
          "base_uri": "https://localhost:8080/",
          "height": 54
        },
        "id": "aAmznmFK4NRX",
        "outputId": "8f60c9fd-ab1d-4c62-97dc-a0d917519954"
      },
      "outputs": [
        {
          "output_type": "display_data",
          "data": {
            "text/plain": [
              "(s**4 + 4*s**2 + 24)/s**5"
            ],
            "text/latex": "$\\displaystyle \\frac{s^{4} + 4 s^{2} + 24}{s^{5}}$"
          },
          "metadata": {}
        }
      ],
      "source": [
        "t = symbols(\"t\", real=True, positive=True)\n",
        "s = symbols(\"s\", real=True)\n",
        "\n",
        "f = (t**2 + 1)**2\n",
        "F = laplace_transform(f, t, s, noconds=True)\n",
        "display(F)"
      ]
    },
    {
      "cell_type": "code",
      "execution_count": 13,
      "metadata": {
        "colab": {
          "base_uri": "https://localhost:8080/",
          "height": 51
        },
        "id": "3Yqnne3GXxR6",
        "outputId": "8d94f0f7-b04c-4547-8d7b-ea908967962f"
      },
      "outputs": [
        {
          "output_type": "execute_result",
          "data": {
            "text/plain": [
              "1/s + 4/s**3 + 24/s**5"
            ],
            "text/latex": "$\\displaystyle \\frac{1}{s} + \\frac{4}{s^{3}} + \\frac{24}{s^{5}}$"
          },
          "metadata": {},
          "execution_count": 13
        }
      ],
      "source": [
        "polys.partfrac.apart(F)"
      ]
    },
    {
      "cell_type": "markdown",
      "metadata": {
        "id": "hjueVl8n4NRZ"
      },
      "source": [
        "# Exercise 6.5.4\n",
        "\n",
        "$3 \\cosh t - 4\\sinh 5t$\n"
      ]
    },
    {
      "cell_type": "code",
      "execution_count": 14,
      "metadata": {
        "colab": {
          "base_uri": "https://localhost:8080/",
          "height": 52
        },
        "id": "ToRZvmw84NRZ",
        "outputId": "ae13c08d-322f-422b-c9f0-0054f4c09d1c"
      },
      "outputs": [
        {
          "output_type": "display_data",
          "data": {
            "text/plain": [
              "3*s/(s**2 - 1) - 20/(s**2 - 25)"
            ],
            "text/latex": "$\\displaystyle \\frac{3 s}{s^{2} - 1} - \\frac{20}{s^{2} - 25}$"
          },
          "metadata": {}
        }
      ],
      "source": [
        "t = symbols(\"t\", real=True, positive=True)\n",
        "s = symbols(\"s\", real=True)\n",
        "\n",
        "f = 3*cosh(t) - 4*sinh(5*t)\n",
        "F = laplace_transform(f, t, s, noconds=True)\n",
        "display(F)"
      ]
    },
    {
      "cell_type": "code",
      "execution_count": 15,
      "metadata": {
        "colab": {
          "base_uri": "https://localhost:8080/",
          "height": 55
        },
        "id": "R8vU5f33XxR7",
        "outputId": "6f17ce1b-fdce-4089-ba1d-083af4578dbf"
      },
      "outputs": [
        {
          "output_type": "execute_result",
          "data": {
            "text/plain": [
              "2/(s + 5) + 3/(2*(s + 1)) + 3/(2*(s - 1)) - 2/(s - 5)"
            ],
            "text/latex": "$\\displaystyle \\frac{2}{s + 5} + \\frac{3}{2 \\left(s + 1\\right)} + \\frac{3}{2 \\left(s - 1\\right)} - \\frac{2}{s - 5}$"
          },
          "metadata": {},
          "execution_count": 15
        }
      ],
      "source": [
        "polys.partfrac.apart(F)"
      ]
    },
    {
      "cell_type": "markdown",
      "metadata": {
        "id": "ZCi3ZoFI4NRa"
      },
      "source": [
        "# Exercise 6.5.5\n",
        "\n",
        "$t^n \\sin t$"
      ]
    },
    {
      "cell_type": "code",
      "execution_count": 16,
      "metadata": {
        "colab": {
          "base_uri": "https://localhost:8080/",
          "height": 59
        },
        "id": "LZ9Zy66h4NRb",
        "outputId": "8ef6aaa0-c459-4c19-8e58-afcd9e3d27b7"
      },
      "outputs": [
        {
          "output_type": "display_data",
          "data": {
            "text/plain": [
              "-I*(s**2 + 1)**(-n - 1)*(-s*(s - I)**n + s*(s + I)**n + I*(s - I)**n + I*(s + I)**n)*factorial(n)/2"
            ],
            "text/latex": "$\\displaystyle - \\frac{i \\left(s^{2} + 1\\right)^{- n - 1} \\left(- s \\left(s - i\\right)^{n} + s \\left(s + i\\right)^{n} + i \\left(s - i\\right)^{n} + i \\left(s + i\\right)^{n}\\right) n!}{2}$"
          },
          "metadata": {}
        }
      ],
      "source": [
        "t = symbols(\"t\", real=True, positive=True)\n",
        "s = symbols(\"s\", real=True)\n",
        "n = symbols(\"n\", integer=True, positive=True)\n",
        "\n",
        "f = t**n * sin(t)\n",
        "F = laplace_transform(f, t, s, noconds=True)\n",
        "display(F)"
      ]
    },
    {
      "cell_type": "code",
      "execution_count": 17,
      "metadata": {
        "colab": {
          "base_uri": "https://localhost:8080/",
          "height": 58
        },
        "id": "zUAs3v6vXxR8",
        "outputId": "049665e3-0618-40fd-92e6-2e253ce3c6a2"
      },
      "outputs": [
        {
          "output_type": "execute_result",
          "data": {
            "text/plain": [
              "I*s*(s - I)**n*factorial(n)/(2*s**2*(s**2 + 1)**n + 2*(s**2 + 1)**n) - I*s*(s + I)**n*factorial(n)/(2*s**2*(s**2 + 1)**n + 2*(s**2 + 1)**n) + (s - I)**n*factorial(n)/(2*s**2*(s**2 + 1)**n + 2*(s**2 + 1)**n) + (s + I)**n*factorial(n)/(2*s**2*(s**2 + 1)**n + 2*(s**2 + 1)**n)"
            ],
            "text/latex": "$\\displaystyle \\frac{i s \\left(s - i\\right)^{n} n!}{2 s^{2} \\left(s^{2} + 1\\right)^{n} + 2 \\left(s^{2} + 1\\right)^{n}} - \\frac{i s \\left(s + i\\right)^{n} n!}{2 s^{2} \\left(s^{2} + 1\\right)^{n} + 2 \\left(s^{2} + 1\\right)^{n}} + \\frac{\\left(s - i\\right)^{n} n!}{2 s^{2} \\left(s^{2} + 1\\right)^{n} + 2 \\left(s^{2} + 1\\right)^{n}} + \\frac{\\left(s + i\\right)^{n} n!}{2 s^{2} \\left(s^{2} + 1\\right)^{n} + 2 \\left(s^{2} + 1\\right)^{n}}$"
          },
          "metadata": {},
          "execution_count": 17
        }
      ],
      "source": [
        "expand(F)"
      ]
    },
    {
      "cell_type": "markdown",
      "metadata": {
        "id": "v_C2mMNjXxR9"
      },
      "source": [
        "* Sometimes it's better to look at specific examples:"
      ]
    },
    {
      "cell_type": "code",
      "execution_count": 18,
      "metadata": {
        "colab": {
          "base_uri": "https://localhost:8080/",
          "height": 58
        },
        "id": "vvWX0aY8XxR9",
        "outputId": "36e5d8c2-704f-4119-d156-d2cd3f5f1750"
      },
      "outputs": [
        {
          "output_type": "display_data",
          "data": {
            "text/plain": [
              "12*I/(s + I)**5 - 12*I/(s - I)**5"
            ],
            "text/latex": "$\\displaystyle \\frac{12 i}{\\left(s + i\\right)^{5}} - \\frac{12 i}{\\left(s - i\\right)^{5}}$"
          },
          "metadata": {}
        }
      ],
      "source": [
        "f = t**4 * sin(t)\n",
        "F = laplace_transform(f, t, s, noconds=True)\n",
        "display(F)"
      ]
    },
    {
      "cell_type": "code",
      "execution_count": 19,
      "metadata": {
        "colab": {
          "base_uri": "https://localhost:8080/",
          "height": 58
        },
        "id": "G8uv6qjNXxR9",
        "outputId": "19fc8afb-ae93-4cc7-b3e1-1c2c0ebae2c0"
      },
      "outputs": [
        {
          "output_type": "display_data",
          "data": {
            "text/plain": [
              "60*I/(s + I)**6 - 60*I/(s - I)**6"
            ],
            "text/latex": "$\\displaystyle \\frac{60 i}{\\left(s + i\\right)^{6}} - \\frac{60 i}{\\left(s - i\\right)^{6}}$"
          },
          "metadata": {}
        }
      ],
      "source": [
        "f = t**5 * sin(t)\n",
        "F = laplace_transform(f, t, s, noconds=True)\n",
        "display(F)"
      ]
    },
    {
      "cell_type": "code",
      "execution_count": 20,
      "metadata": {
        "colab": {
          "base_uri": "https://localhost:8080/",
          "height": 58
        },
        "id": "0_AHqIF0XxR-",
        "outputId": "09c96e18-9eb1-4687-9655-72fd2a0195b2"
      },
      "outputs": [
        {
          "output_type": "display_data",
          "data": {
            "text/plain": [
              "360*I/(s + I)**7 - 360*I/(s - I)**7"
            ],
            "text/latex": "$\\displaystyle \\frac{360 i}{\\left(s + i\\right)^{7}} - \\frac{360 i}{\\left(s - i\\right)^{7}}$"
          },
          "metadata": {}
        }
      ],
      "source": [
        "f = t**6 * sin(t)\n",
        "F = laplace_transform(f, t, s, noconds=True)\n",
        "display(F)"
      ]
    },
    {
      "cell_type": "code",
      "execution_count": 21,
      "metadata": {
        "colab": {
          "base_uri": "https://localhost:8080/",
          "height": 58
        },
        "id": "JKycWFKVXxR-",
        "outputId": "bed521bc-3981-413e-8321-b9822d84484f"
      },
      "outputs": [
        {
          "output_type": "display_data",
          "data": {
            "text/plain": [
              "2520*I/(s + I)**8 - 2520*I/(s - I)**8"
            ],
            "text/latex": "$\\displaystyle \\frac{2520 i}{\\left(s + i\\right)^{8}} - \\frac{2520 i}{\\left(s - i\\right)^{8}}$"
          },
          "metadata": {}
        }
      ],
      "source": [
        "f = t**7 * sin(t)\n",
        "F = laplace_transform(f, t, s, noconds=True)\n",
        "display(F)"
      ]
    },
    {
      "cell_type": "markdown",
      "metadata": {
        "id": "WOh-G_fmXxR-"
      },
      "source": [
        "* Looks like the shortest general formula is:\n",
        "$$\n",
        "\\frac{in!}{2(s+i)^{n+1}}\n",
        "-\n",
        "\\frac{in!}{2(s-i)^{n+1}}\n",
        "$$"
      ]
    },
    {
      "cell_type": "markdown",
      "metadata": {
        "id": "9PGQ_yxX4NRd"
      },
      "source": [
        "# Exercise 6.5.6\n",
        "\n",
        "$\\dfrac{1}{(t-a)(t-b)}$"
      ]
    },
    {
      "cell_type": "code",
      "execution_count": 22,
      "metadata": {
        "colab": {
          "base_uri": "https://localhost:8080/",
          "height": 58
        },
        "id": "jEJmLcwk4NRd",
        "outputId": "d79d52b4-7f00-4e0f-c235-785e2f13f7e9"
      },
      "outputs": [
        {
          "output_type": "display_data",
          "data": {
            "text/plain": [
              "LaplaceTransform(1/(a*b - a*t - b*t + t**2), t, s)"
            ],
            "text/latex": "$\\displaystyle \\mathcal{L}_{t}\\left[\\frac{1}{a b - a t - b t + t^{2}}\\right]\\left(s\\right)$"
          },
          "metadata": {}
        }
      ],
      "source": [
        "t = symbols(\"t\", real=True, positive=True)\n",
        "s = symbols(\"s\", real=True)\n",
        "a,b = symbols(\"a b\", real=True)\n",
        "f = 1 / ((t-a)*(t-b))\n",
        "F = laplace_transform(f, t, s, noconds=True)\n",
        "display(F)"
      ]
    },
    {
      "cell_type": "markdown",
      "metadata": {
        "id": "8GixvyUqXxR_"
      },
      "source": [
        "* As we see, Sympy 1.11.1 fails to give a meaningful result.\n",
        "* In such cases it's worth trying some specific cases of the general\n",
        "  problem and help Sympy with partial fractions ..."
      ]
    },
    {
      "cell_type": "code",
      "execution_count": 23,
      "metadata": {
        "colab": {
          "base_uri": "https://localhost:8080/",
          "height": 73
        },
        "id": "iFxEPUI3fwgn",
        "outputId": "65adb206-7ffd-488d-9066-3761223000c9"
      },
      "outputs": [
        {
          "output_type": "stream",
          "name": "stdout",
          "text": [
            "-1/(4*(t + 7)) + 1/(4*(t + 3))\n"
          ]
        },
        {
          "output_type": "display_data",
          "data": {
            "text/plain": [
              "-1/(4*(t + 7)) + 1/(4*(t + 3))"
            ],
            "text/latex": "$\\displaystyle - \\frac{1}{4 \\left(t + 7\\right)} + \\frac{1}{4 \\left(t + 3\\right)}$"
          },
          "metadata": {}
        }
      ],
      "source": [
        "f = 1 / ((t+3)*(t+7))\n",
        "f2 = polys.partfrac.apart(f)\n",
        "print(f2)\n",
        "display(f2)"
      ]
    },
    {
      "cell_type": "code",
      "execution_count": 24,
      "metadata": {
        "colab": {
          "base_uri": "https://localhost:8080/",
          "height": 73
        },
        "id": "872Vf4FoXxSA",
        "outputId": "fd9a56a8-1798-462e-af8d-7c12ba3b9967"
      },
      "outputs": [
        {
          "output_type": "stream",
          "name": "stdout",
          "text": [
            "(-exp(4*s)*Ei(-3*s) + Ei(-7*s))*exp(-7*s)/4\n"
          ]
        },
        {
          "output_type": "display_data",
          "data": {
            "text/plain": [
              "(-exp(4*s)*Ei(-3*s) + Ei(-7*s))*exp(-7*s)/4"
            ],
            "text/latex": "$\\displaystyle \\frac{\\left(- e^{4 s} \\operatorname{Ei}{\\left(- 3 s \\right)} + \\operatorname{Ei}{\\left(- 7 s \\right)}\\right) e^{- 7 s}}{4}$"
          },
          "metadata": {}
        }
      ],
      "source": [
        "F = laplace_transform(f2, t, s, noconds=True)\n",
        "print(F)\n",
        "display(F)"
      ]
    },
    {
      "cell_type": "markdown",
      "metadata": {
        "id": "i8mTQdZTXxSA"
      },
      "source": [
        "The function Ei is\n",
        "$$\n",
        "\\operatorname{Ei}(x)\n",
        "=\n",
        "\\sum_{n=1}^\\infty \\frac{x^n}{n\\, n!}\n",
        "+ \\log(x) + \\gamma\n",
        "=\n",
        "\\int_{-\\infty}^x \\frac{e^t}{t} \\mathrm{d}t\n",
        "\\\\\n",
        "\\gamma = \\text{Euler Constant}\n",
        "$$"
      ]
    },
    {
      "cell_type": "markdown",
      "metadata": {
        "id": "wpOgBOudXxSA"
      },
      "source": [
        "* This exercise probably exceeds the level required for this course and should be dropped\n",
        "  if no basic solution is found."
      ]
    },
    {
      "cell_type": "markdown",
      "metadata": {
        "id": "xdFm4Isz4NRe"
      },
      "source": [
        "# Exercise 6.5.7\n",
        "\n",
        "$\\dfrac{3}{2t-1}$"
      ]
    },
    {
      "cell_type": "code",
      "execution_count": 25,
      "metadata": {
        "colab": {
          "base_uri": "https://localhost:8080/",
          "height": 56
        },
        "id": "RdIBmV9V4NRe",
        "outputId": "f89f8620-5bc7-49ab-ea88-ee1a2a36122a"
      },
      "outputs": [
        {
          "output_type": "display_data",
          "data": {
            "text/plain": [
              "-3*exp(s/2)*Ei(s/2)/2"
            ],
            "text/latex": "$\\displaystyle - \\frac{3 e^{\\frac{s}{2}} \\operatorname{Ei}{\\left(\\frac{s}{2} \\right)}}{2}$"
          },
          "metadata": {}
        }
      ],
      "source": [
        "t = symbols(\"t\", real=True, positive=True)\n",
        "s = symbols(\"s\", real=True)\n",
        "f = 3 / (2*t - 1)\n",
        "F = laplace_transform(f, t, s, noconds=True)\n",
        "display(F)"
      ]
    },
    {
      "cell_type": "markdown",
      "metadata": {
        "id": "HdBCeA3DXxSB"
      },
      "source": [
        "* This exercise probably exceeds the level required for this course and should be dropped\n",
        "  if no basic solution is found."
      ]
    },
    {
      "cell_type": "markdown",
      "metadata": {
        "id": "qvZ_rgOD4NRh"
      },
      "source": [
        "# Exercise 6.6.1\n",
        "\n",
        "$\n",
        "f(t) = \\\\\n",
        "1,  \\ 0\\leq t < 1 \\\\\n",
        "0,  \\ 1\\leq t < 2 \\\\\n",
        "1,  \\ 2\\leq t < 3 \\\\\n",
        "0,  \\ 3\\leq t<\\infty\n",
        "$\n",
        "\n"
      ]
    },
    {
      "cell_type": "code",
      "execution_count": 26,
      "metadata": {
        "colab": {
          "base_uri": "https://localhost:8080/",
          "height": 88
        },
        "id": "S6r9SRWr4NRh",
        "outputId": "ed623f2b-3f3e-4bfe-f3f4-f05cc2c81550"
      },
      "outputs": [
        {
          "output_type": "stream",
          "name": "stdout",
          "text": [
            "Piecewise(((exp(3*s) - exp(2*s) + exp(s) - 1)*exp(-3*s)/s, (s > 0) | (s < 0)), (2, True))\n"
          ]
        },
        {
          "output_type": "display_data",
          "data": {
            "text/plain": [
              "Piecewise(((exp(3*s) - exp(2*s) + exp(s) - 1)*exp(-3*s)/s, (s > 0) | (s < 0)), (2, True))"
            ],
            "text/latex": "$\\displaystyle \\begin{cases} \\frac{\\left(e^{3 s} - e^{2 s} + e^{s} - 1\\right) e^{- 3 s}}{s} & \\text{for}\\: s > 0 \\vee s < 0 \\\\2 & \\text{otherwise} \\end{cases}$"
          },
          "metadata": {}
        }
      ],
      "source": [
        "t = symbols(\"t\", real=True, positive=True)\n",
        "s = symbols(\"s\", real=True)\n",
        "    \n",
        "f = Piecewise((1, t<=1), (0, t<=2), (1, t<=3), (0, True))    \n",
        "T = laplace_transform(f, t, s, noconds=True)\n",
        "print(T)\n",
        "display(T)"
      ]
    },
    {
      "cell_type": "markdown",
      "metadata": {
        "id": "UXV85sGG4NRi"
      },
      "source": [
        "# Exercise 6.6.2\n",
        "\n",
        "$\n",
        "f(t) = \\\\\n",
        "1,        \\quad  0\\leq t < 2 \\\\\n",
        "(t-2)^2,  \\quad  2\\leq t < \\infty\n",
        "$\n"
      ]
    },
    {
      "cell_type": "code",
      "execution_count": 27,
      "metadata": {
        "colab": {
          "base_uri": "https://localhost:8080/",
          "height": 85
        },
        "id": "c2UUcyrY4NRj",
        "outputId": "74dcdf8a-4701-4c95-870a-efe42276004c"
      },
      "outputs": [
        {
          "output_type": "stream",
          "name": "stdout",
          "text": [
            "LaplaceTransform(Piecewise((1, t <= 2), ((t - 2)**2, True)), t, s)\n"
          ]
        },
        {
          "output_type": "display_data",
          "data": {
            "text/plain": [
              "LaplaceTransform(Piecewise((1, t <= 2), ((t - 2)**2, True)), t, s)"
            ],
            "text/latex": "$\\displaystyle \\mathcal{L}_{t}\\left[\\begin{cases} 1 & \\text{for}\\: t \\leq 2 \\\\\\left(t - 2\\right)^{2} & \\text{otherwise} \\end{cases}\\right]\\left(s\\right)$"
          },
          "metadata": {}
        }
      ],
      "source": [
        "t = symbols(\"t\", real=True, positive=True)\n",
        "s = symbols(\"s\", real=True)\n",
        "    \n",
        "f = Piecewise((1, t<=2), ((t-2)**2, True))    \n",
        "T = laplace_transform(f, t, s, noconds=True)\n",
        "print(T)\n",
        "display(T)"
      ]
    },
    {
      "cell_type": "markdown",
      "metadata": {
        "id": "zEONyFsxYpYz",
        "outputId": "0a4a9ca9-64bc-478c-e347-e61e98abd3ea"
      },
      "source": [
        "* Sympy 1.11.1 failed to give a solution"
      ]
    },
    {
      "cell_type": "markdown",
      "metadata": {
        "id": "Eo9qMHAq4NRk"
      },
      "source": [
        "# Exercise 6.6.3\n",
        "\n",
        "$\n",
        "f(t) = \\\\\n",
        "1,        \\ 0\\leq t < 1 \\\\\n",
        "t^2-2t+2, \\ 1\\leq t < \\infty\n",
        "$\n",
        "\n"
      ]
    },
    {
      "cell_type": "code",
      "execution_count": 28,
      "metadata": {
        "colab": {
          "base_uri": "https://localhost:8080/",
          "height": 85
        },
        "id": "EgAkgU7d4NRl",
        "outputId": "4bdae3a8-60f6-4d26-a31c-ec4cceb3aca8"
      },
      "outputs": [
        {
          "output_type": "stream",
          "name": "stdout",
          "text": [
            "LaplaceTransform(Piecewise((1, t <= 1), (t**2 - 2*t + 2, True)), t, s)\n"
          ]
        },
        {
          "output_type": "display_data",
          "data": {
            "text/plain": [
              "LaplaceTransform(Piecewise((1, t <= 1), (t**2 - 2*t + 2, True)), t, s)"
            ],
            "text/latex": "$\\displaystyle \\mathcal{L}_{t}\\left[\\begin{cases} 1 & \\text{for}\\: t \\leq 1 \\\\t^{2} - 2 t + 2 & \\text{otherwise} \\end{cases}\\right]\\left(s\\right)$"
          },
          "metadata": {}
        }
      ],
      "source": [
        "t = symbols(\"t\", real=True, positive=True)\n",
        "s = symbols(\"s\", real=True)\n",
        "    \n",
        "f = Piecewise((1, t<=1), (t**2-2*t+2, True))    \n",
        "T = laplace_transform(f, t, s, noconds=True)\n",
        "print(T)\n",
        "display(T)"
      ]
    },
    {
      "cell_type": "markdown",
      "metadata": {
        "outputId": "0a4a9ca9-64bc-478c-e347-e61e98abd3ea",
        "id": "9A8aBEnlXxSE"
      },
      "source": [
        "* Sympy 1.11.1 failed to give a solution"
      ]
    },
    {
      "cell_type": "markdown",
      "metadata": {
        "id": "YXi-q8jgYpYz"
      },
      "source": [
        "# Exercise 6.6.4\n",
        "\n",
        "$\n",
        "f(t) = \\\\\n",
        "0,      \\ 0\\leq t < \\pi \\\\\n",
        "t-\\pi,  \\ \\pi\\leq t < 2\\pi \\\\\n",
        "1,      \\ 2\\pi \\leq t < \\infty\n",
        "$"
      ]
    },
    {
      "cell_type": "code",
      "execution_count": 29,
      "metadata": {
        "colab": {
          "base_uri": "https://localhost:8080/",
          "height": 108
        },
        "id": "7ueMCJOXYpYz",
        "outputId": "7b1b5ff7-a5ee-4d06-f016-0f03c0264480"
      },
      "outputs": [
        {
          "output_type": "stream",
          "name": "stdout",
          "text": [
            "LaplaceTransform(Piecewise((0, t <= pi), (t - pi, t <= 2*pi), (1, True)), t, s)\n"
          ]
        },
        {
          "output_type": "display_data",
          "data": {
            "text/plain": [
              "LaplaceTransform(Piecewise((0, t <= pi), (t - pi, t <= 2*pi), (1, True)), t, s)"
            ],
            "text/latex": "$\\displaystyle \\mathcal{L}_{t}\\left[\\begin{cases} 0 & \\text{for}\\: t \\leq \\pi \\\\t - \\pi & \\text{for}\\: t \\leq 2 \\pi \\\\1 & \\text{otherwise} \\end{cases}\\right]\\left(s\\right)$"
          },
          "metadata": {}
        }
      ],
      "source": [
        "t = symbols(\"t\", real=True, positive=True)\n",
        "s = symbols(\"s\", real=True)\n",
        "    \n",
        "f = Piecewise((0, t<=pi), (t-pi, t<=2*pi), (1, True))    \n",
        "T = laplace_transform(f, t, s, noconds=True)\n",
        "print(T)\n",
        "display(T)"
      ]
    },
    {
      "cell_type": "code",
      "execution_count": 30,
      "metadata": {
        "colab": {
          "base_uri": "https://localhost:8080/",
          "height": 90
        },
        "id": "IhIdWEY-YpYz",
        "outputId": "593f8509-0e55-49c8-b598-7d3ece4ebd6e"
      },
      "outputs": [
        {
          "output_type": "execute_result",
          "data": {
            "text/plain": [
              "Integral(Piecewise((0, t <= pi), ((t - pi)*exp(-s*t), t <= 2*pi), (exp(-s*t), True)), (t, 0, oo))"
            ],
            "text/latex": "$\\displaystyle \\int\\limits_{0}^{\\infty} \\begin{cases} 0 & \\text{for}\\: t \\leq \\pi \\\\\\left(t - \\pi\\right) e^{- s t} & \\text{for}\\: t \\leq 2 \\pi \\\\e^{- s t} & \\text{otherwise} \\end{cases}\\, dt$"
          },
          "metadata": {},
          "execution_count": 30
        }
      ],
      "source": [
        "Integral(exp(-s*t) * f, (t,0, oo))"
      ]
    },
    {
      "cell_type": "markdown",
      "metadata": {
        "id": "tTHBhhGdYpY0"
      },
      "source": [
        "# Exercise 6.6.5\n",
        "\n",
        "$\n",
        "f(t) = \\\\\n",
        "1,        \\quad 0\\leq t < 1 \\\\\n",
        "0,        \\quad 1\\leq t < \\infty\n",
        "$"
      ]
    },
    {
      "cell_type": "code",
      "execution_count": 31,
      "metadata": {
        "colab": {
          "base_uri": "https://localhost:8080/",
          "height": 68
        },
        "id": "3FE8sqHlYpY0",
        "outputId": "2c01554c-25e3-437d-dbc0-b3562dcedf1a"
      },
      "outputs": [
        {
          "output_type": "stream",
          "name": "stdout",
          "text": [
            "1/s\n"
          ]
        },
        {
          "output_type": "display_data",
          "data": {
            "text/plain": [
              "1/s"
            ],
            "text/latex": "$\\displaystyle \\frac{1}{s}$"
          },
          "metadata": {}
        }
      ],
      "source": [
        "t = symbols(\"t\", real=True, positive=True)\n",
        "s = symbols(\"s\", real=True)\n",
        "    \n",
        "f = Piecewise((1, t<1), (1, True))    \n",
        "T = laplace_transform(f, t, s, noconds=True)\n",
        "print(T)\n",
        "display(T)"
      ]
    },
    {
      "cell_type": "markdown",
      "metadata": {
        "id": "wktno-scYpY1"
      },
      "source": [
        "# Exercise 6.6.6\n",
        "\n",
        "$\n",
        "f(t) = \\\\\n",
        "1,      \\quad  0\\leq t < 2 \\\\\n",
        "t-3,    \\quad  2\\leq t < 3 \\\\\n",
        "-1,     \\quad  3\\leq t < \\infty\n",
        "$\n"
      ]
    },
    {
      "cell_type": "code",
      "execution_count": 32,
      "metadata": {
        "colab": {
          "base_uri": "https://localhost:8080/",
          "height": 108
        },
        "id": "7oFeUq9EYpY1",
        "outputId": "ce6266fd-9498-48ca-f13e-6f5ce3f29cb1"
      },
      "outputs": [
        {
          "output_type": "stream",
          "name": "stdout",
          "text": [
            "LaplaceTransform(Piecewise((1, t < 2), (t - 3, t < 3), (-1, True)), t, s)\n"
          ]
        },
        {
          "output_type": "display_data",
          "data": {
            "text/plain": [
              "LaplaceTransform(Piecewise((1, t < 2), (t - 3, t < 3), (-1, True)), t, s)"
            ],
            "text/latex": "$\\displaystyle \\mathcal{L}_{t}\\left[\\begin{cases} 1 & \\text{for}\\: t < 2 \\\\t - 3 & \\text{for}\\: t < 3 \\\\-1 & \\text{otherwise} \\end{cases}\\right]\\left(s\\right)$"
          },
          "metadata": {}
        }
      ],
      "source": [
        "t = symbols(\"t\", real=True, positive=True)\n",
        "s = symbols(\"s\", real=True)\n",
        "    \n",
        "f = Piecewise((1, t<2), (t-3, t<3), (-1, True))    \n",
        "T = laplace_transform(f, t, s, noconds=True)\n",
        "print(T)\n",
        "display(T)"
      ]
    },
    {
      "cell_type": "markdown",
      "metadata": {
        "id": "WAjgfxQYYpY1"
      },
      "source": [
        "# Exercise 6.7\n",
        "\n",
        "$f(t) = \\dfrac{\\sin t}{t}$"
      ]
    },
    {
      "cell_type": "code",
      "execution_count": 33,
      "metadata": {
        "colab": {
          "base_uri": "https://localhost:8080/",
          "height": 75
        },
        "id": "cS6jEg-_YpY1",
        "outputId": "1ba57eb4-1540-42f0-852c-95273db6787c"
      },
      "outputs": [
        {
          "output_type": "stream",
          "name": "stdout",
          "text": [
            "atan(1/s)\n"
          ]
        },
        {
          "output_type": "display_data",
          "data": {
            "text/plain": [
              "atan(1/s)"
            ],
            "text/latex": "$\\displaystyle \\operatorname{atan}{\\left(\\frac{1}{s} \\right)}$"
          },
          "metadata": {}
        }
      ],
      "source": [
        "t = symbols(\"t\", real=True, positive=True)\n",
        "s = symbols(\"s\", real=True)\n",
        "    \n",
        "f = sin(t)/t   \n",
        "T = laplace_transform(f, t, s, noconds=True)\n",
        "print(T)\n",
        "display(T)"
      ]
    },
    {
      "cell_type": "markdown",
      "metadata": {
        "id": "57nn9VY-YpY2"
      },
      "source": [
        "# Exercise 6.8\n",
        "\n",
        "${\\cal L}[f](s) = \\dfrac{d^n}{ds^n} \\left[\\dfrac{1}{s^2 -a^2}\\right]$\n",
        "\n",
        "Objective: what is $f(t)$ ?\n",
        "\n",
        "* Sympy still not ready to deal with abstract $n$-th derivative.\n",
        "* We will compute several particular cases $n=1,2,3$ and guess the general solution."
      ]
    },
    {
      "cell_type": "code",
      "execution_count": 34,
      "metadata": {
        "colab": {
          "base_uri": "https://localhost:8080/",
          "height": 78
        },
        "id": "hn_WT_EaYpY2",
        "outputId": "93732b95-72a0-4c95-8b2f-e89e06f6736d"
      },
      "outputs": [
        {
          "output_type": "stream",
          "name": "stdout",
          "text": [
            "-2*s**2/(-a**2 + s**2)**2 + 1/(-a**2 + s**2)\n"
          ]
        },
        {
          "output_type": "display_data",
          "data": {
            "text/plain": [
              "-2*s**2/(-a**2 + s**2)**2 + 1/(-a**2 + s**2)"
            ],
            "text/latex": "$\\displaystyle - \\frac{2 s^{2}}{\\left(- a^{2} + s^{2}\\right)^{2}} + \\frac{1}{- a^{2} + s^{2}}$"
          },
          "metadata": {}
        }
      ],
      "source": [
        "t = symbols(\"t\", real=True, positive=True)\n",
        "s, a = symbols(\"s a\", real=True)\n",
        "\n",
        "F = diff(s/(s**2 - a**2), s)\n",
        "print(F)\n",
        "display(F)"
      ]
    },
    {
      "cell_type": "code",
      "execution_count": 35,
      "metadata": {
        "colab": {
          "base_uri": "https://localhost:8080/",
          "height": 39
        },
        "id": "3_OMswQZXxSI",
        "outputId": "ea23a1ab-61c2-4b52-fcbf-4f719d23c390"
      },
      "outputs": [
        {
          "output_type": "execute_result",
          "data": {
            "text/plain": [
              "-t*cosh(a*t)"
            ],
            "text/latex": "$\\displaystyle - t \\cosh{\\left(a t \\right)}$"
          },
          "metadata": {},
          "execution_count": 35
        }
      ],
      "source": [
        "inverse_laplace_transform(F, s, t)"
      ]
    },
    {
      "cell_type": "code",
      "execution_count": 36,
      "metadata": {
        "colab": {
          "base_uri": "https://localhost:8080/",
          "height": 90
        },
        "id": "DDA9uVOCYpY2",
        "outputId": "a20cc3b8-89b7-45de-de5e-69c45e6c67aa"
      },
      "outputs": [
        {
          "output_type": "stream",
          "name": "stdout",
          "text": [
            "-2*s*(4*s**2/(a**2 - s**2) + 3)/(a**2 - s**2)**2\n"
          ]
        },
        {
          "output_type": "display_data",
          "data": {
            "text/plain": [
              "-2*s*(4*s**2/(a**2 - s**2) + 3)/(a**2 - s**2)**2"
            ],
            "text/latex": "$\\displaystyle - \\frac{2 s \\left(\\frac{4 s^{2}}{a^{2} - s^{2}} + 3\\right)}{\\left(a^{2} - s^{2}\\right)^{2}}$"
          },
          "metadata": {}
        }
      ],
      "source": [
        "F = diff(s/(s**2 - a**2), (s,2))\n",
        "print(F)\n",
        "display(F)"
      ]
    },
    {
      "cell_type": "code",
      "execution_count": 37,
      "metadata": {
        "colab": {
          "base_uri": "https://localhost:8080/",
          "height": 55
        },
        "id": "UYeeHrtFXxSI",
        "outputId": "f2f76450-55bb-4058-eaa6-63fa5fbe41fc"
      },
      "outputs": [
        {
          "output_type": "execute_result",
          "data": {
            "text/plain": [
              "-8*s**3/(a**6 - 3*a**4*s**2 + 3*a**2*s**4 - s**6) - 6*s/(a**4 - 2*a**2*s**2 + s**4)"
            ],
            "text/latex": "$\\displaystyle - \\frac{8 s^{3}}{a^{6} - 3 a^{4} s^{2} + 3 a^{2} s^{4} - s^{6}} - \\frac{6 s}{a^{4} - 2 a^{2} s^{2} + s^{4}}$"
          },
          "metadata": {},
          "execution_count": 37
        }
      ],
      "source": [
        "expand(F)"
      ]
    },
    {
      "cell_type": "code",
      "execution_count": 38,
      "metadata": {
        "colab": {
          "base_uri": "https://localhost:8080/",
          "height": 39
        },
        "id": "39j-lIc8XxSJ",
        "outputId": "6cdfd662-5b47-4ede-d6eb-1bed1685a696"
      },
      "outputs": [
        {
          "output_type": "execute_result",
          "data": {
            "text/plain": [
              "t**2*cosh(a*t)"
            ],
            "text/latex": "$\\displaystyle t^{2} \\cosh{\\left(a t \\right)}$"
          },
          "metadata": {},
          "execution_count": 38
        }
      ],
      "source": [
        "inverse_laplace_transform(F, s, t)"
      ]
    },
    {
      "cell_type": "code",
      "execution_count": 39,
      "metadata": {
        "colab": {
          "base_uri": "https://localhost:8080/",
          "height": 101
        },
        "outputId": "0944fbd0-8333-4211-ace2-75bbe8279fe3",
        "id": "s1bpupcUXxSJ"
      },
      "outputs": [
        {
          "output_type": "stream",
          "name": "stdout",
          "text": [
            "-6*(4*s**2*(2*s**2/(a**2 - s**2) + 1)/(a**2 - s**2) + 4*s**2/(a**2 - s**2) + 1)/(a**2 - s**2)**2\n"
          ]
        },
        {
          "output_type": "display_data",
          "data": {
            "text/plain": [
              "-6*(4*s**2*(2*s**2/(a**2 - s**2) + 1)/(a**2 - s**2) + 4*s**2/(a**2 - s**2) + 1)/(a**2 - s**2)**2"
            ],
            "text/latex": "$\\displaystyle - \\frac{6 \\cdot \\left(\\frac{4 s^{2} \\cdot \\left(\\frac{2 s^{2}}{a^{2} - s^{2}} + 1\\right)}{a^{2} - s^{2}} + \\frac{4 s^{2}}{a^{2} - s^{2}} + 1\\right)}{\\left(a^{2} - s^{2}\\right)^{2}}$"
          },
          "metadata": {}
        }
      ],
      "source": [
        "F = diff(s/(s**2 - a**2), (s,3))\n",
        "print(F)\n",
        "display(F)"
      ]
    },
    {
      "cell_type": "code",
      "execution_count": 40,
      "metadata": {
        "colab": {
          "base_uri": "https://localhost:8080/",
          "height": 55
        },
        "id": "MPYF67I8XxSJ",
        "outputId": "48771f5b-9035-4038-f7e2-dcc3603d0ba2"
      },
      "outputs": [
        {
          "output_type": "execute_result",
          "data": {
            "text/plain": [
              "-48*s**4/(a**8 - 4*a**6*s**2 + 6*a**4*s**4 - 4*a**2*s**6 + s**8) - 48*s**2/(a**6 - 3*a**4*s**2 + 3*a**2*s**4 - s**6) - 6/(a**4 - 2*a**2*s**2 + s**4)"
            ],
            "text/latex": "$\\displaystyle - \\frac{48 s^{4}}{a^{8} - 4 a^{6} s^{2} + 6 a^{4} s^{4} - 4 a^{2} s^{6} + s^{8}} - \\frac{48 s^{2}}{a^{6} - 3 a^{4} s^{2} + 3 a^{2} s^{4} - s^{6}} - \\frac{6}{a^{4} - 2 a^{2} s^{2} + s^{4}}$"
          },
          "metadata": {},
          "execution_count": 40
        }
      ],
      "source": [
        "expand(F)"
      ]
    },
    {
      "cell_type": "code",
      "execution_count": 41,
      "metadata": {
        "colab": {
          "base_uri": "https://localhost:8080/",
          "height": 39
        },
        "id": "rHuhzl7mXxSK",
        "outputId": "1456f76f-574a-4bc2-f716-e1c7b42b70ff"
      },
      "outputs": [
        {
          "output_type": "execute_result",
          "data": {
            "text/plain": [
              "-t**3*cosh(a*t)"
            ],
            "text/latex": "$\\displaystyle - t^{3} \\cosh{\\left(a t \\right)}$"
          },
          "metadata": {},
          "execution_count": 41
        }
      ],
      "source": [
        "inverse_laplace_transform(F, s, t)"
      ]
    },
    {
      "cell_type": "markdown",
      "metadata": {
        "id": "1DygTHeXXxSK"
      },
      "source": [
        "* Looks like the general formula is\n",
        "$$\n",
        "f(t) = (-1)^n t^n \\cosh(at)\n",
        "$$\n",
        "* But you still need to prove it formally !!"
      ]
    },
    {
      "cell_type": "markdown",
      "metadata": {
        "id": "pqBnGWXAYpY2"
      },
      "source": [
        "# Exercise 6.10.1\n",
        "\n",
        "$\\int_{0}^{\\infty} te^{-2t} \\cos t \\, dt$\n"
      ]
    },
    {
      "cell_type": "code",
      "execution_count": 42,
      "metadata": {
        "colab": {
          "base_uri": "https://localhost:8080/",
          "height": 51
        },
        "id": "WBXf0URPYpY2",
        "outputId": "cc473192-8d67-4f1c-e7a0-4230e0b5a9bd"
      },
      "outputs": [
        {
          "output_type": "execute_result",
          "data": {
            "text/plain": [
              "3/25"
            ],
            "text/latex": "$\\displaystyle \\frac{3}{25}$"
          },
          "metadata": {},
          "execution_count": 42
        }
      ],
      "source": [
        "t = symbols(\"t\", real=True, positive=True)\n",
        "s = symbols(\"s\", real=True)\n",
        "    \n",
        "f = t*exp(-2*t)*cos(t)\n",
        "integrate(f, (t,0,oo))"
      ]
    },
    {
      "cell_type": "code",
      "execution_count": 43,
      "metadata": {
        "colab": {
          "base_uri": "https://localhost:8080/",
          "height": 55
        },
        "id": "xjBm47oXYpY3",
        "outputId": "c51cc976-f89c-4150-b78f-04338d231794"
      },
      "outputs": [
        {
          "output_type": "display_data",
          "data": {
            "text/plain": [
              "(s**2 - 1)/(s**4 + 2*s**2 + 1)"
            ],
            "text/latex": "$\\displaystyle \\frac{s^{2} - 1}{s^{4} + 2 s^{2} + 1}$"
          },
          "metadata": {}
        }
      ],
      "source": [
        "f = t*cos(t)\n",
        "F = laplace_transform(f,t,s, noconds=True)\n",
        "display(F)"
      ]
    },
    {
      "cell_type": "code",
      "execution_count": 44,
      "metadata": {
        "colab": {
          "base_uri": "https://localhost:8080/",
          "height": 51
        },
        "id": "feMJInZbXxSL",
        "outputId": "c64c90b7-5556-4d8c-ac18-856fe3abdd50"
      },
      "outputs": [
        {
          "output_type": "execute_result",
          "data": {
            "text/plain": [
              "3/25"
            ],
            "text/latex": "$\\displaystyle \\frac{3}{25}$"
          },
          "metadata": {},
          "execution_count": 44
        }
      ],
      "source": [
        "F.subs(s,-2)"
      ]
    },
    {
      "cell_type": "code",
      "execution_count": 45,
      "metadata": {
        "colab": {
          "base_uri": "https://localhost:8080/"
        },
        "id": "O4tWJMCVXxSM",
        "outputId": "e0a78d28-bbd1-44a6-fd35-ea1f9d1bec5f"
      },
      "outputs": [
        {
          "output_type": "execute_result",
          "data": {
            "text/plain": [
              "0.12"
            ]
          },
          "metadata": {},
          "execution_count": 45
        }
      ],
      "source": [
        "F = lambdify(s, F)\n",
        "F(-2)"
      ]
    },
    {
      "cell_type": "markdown",
      "metadata": {
        "id": "TmoiRYBIYpY3"
      },
      "source": [
        "# Exercise 6.10.2\n",
        "\n",
        "$\\int_{0}^{\\infty} t^3 e^{-t}\\sin t \\, dt$"
      ]
    },
    {
      "cell_type": "code",
      "execution_count": 46,
      "metadata": {
        "colab": {
          "base_uri": "https://localhost:8080/",
          "height": 37
        },
        "id": "kixL_JqoYpY3",
        "outputId": "c341a225-4a57-43ee-c98d-70f4a5bc043b"
      },
      "outputs": [
        {
          "output_type": "execute_result",
          "data": {
            "text/plain": [
              "0"
            ],
            "text/latex": "$\\displaystyle 0$"
          },
          "metadata": {},
          "execution_count": 46
        }
      ],
      "source": [
        "t = symbols(\"t\", real=True, positive=True)\n",
        "s = symbols(\"s\", real=True)\n",
        "    \n",
        "f = t**3 * exp(-t) * sin(t)\n",
        "integrate(f, (t,0,oo))"
      ]
    },
    {
      "cell_type": "code",
      "execution_count": 47,
      "metadata": {
        "colab": {
          "base_uri": "https://localhost:8080/",
          "height": 58
        },
        "id": "WyqFEZrDYpY3",
        "outputId": "3b5d2a61-a4e9-4a64-9563-2ca39f21b9a3"
      },
      "outputs": [
        {
          "output_type": "display_data",
          "data": {
            "text/plain": [
              "3*I/(s + I)**4 - 3*I/(s - I)**4"
            ],
            "text/latex": "$\\displaystyle \\frac{3 i}{\\left(s + i\\right)^{4}} - \\frac{3 i}{\\left(s - i\\right)^{4}}$"
          },
          "metadata": {}
        }
      ],
      "source": [
        "f = t**3 * sin(t)\n",
        "F = laplace_transform(f,t,s, noconds=True)\n",
        "display(F)"
      ]
    },
    {
      "cell_type": "code",
      "execution_count": 48,
      "metadata": {
        "colab": {
          "base_uri": "https://localhost:8080/",
          "height": 58
        },
        "id": "lE2lI5gH4TeI",
        "outputId": "a27fa5e3-41cb-4f3b-a960-a8b5d6a9c7c8"
      },
      "outputs": [
        {
          "output_type": "display_data",
          "data": {
            "text/plain": [
              "3*I/(1 + I)**4 - 3*I/(1 - I)**4"
            ],
            "text/latex": "$\\displaystyle \\frac{3 i}{\\left(1 + i\\right)^{4}} - \\frac{3 i}{\\left(1 - i\\right)^{4}}$"
          },
          "metadata": {}
        }
      ],
      "source": [
        "a = F.subs(s, 1)\n",
        "display(a)"
      ]
    },
    {
      "cell_type": "code",
      "execution_count": 49,
      "metadata": {
        "colab": {
          "base_uri": "https://localhost:8080/"
        },
        "id": "KnE_pS3oXxSN",
        "outputId": "edff3454-e14e-4380-e31e-1dfac1bb8c3f"
      },
      "outputs": [
        {
          "output_type": "execute_result",
          "data": {
            "text/plain": [
              "(0, 0)"
            ]
          },
          "metadata": {},
          "execution_count": 49
        }
      ],
      "source": [
        "a.as_real_imag()"
      ]
    },
    {
      "cell_type": "markdown",
      "metadata": {
        "id": "xikI_O_5YpY3"
      },
      "source": [
        "# Exercise 6.10.3\n",
        "\n",
        "$\\int_{0}^{\\infty} x^4 e^{-x} dx$\n"
      ]
    },
    {
      "cell_type": "code",
      "execution_count": 50,
      "metadata": {
        "colab": {
          "base_uri": "https://localhost:8080/",
          "height": 37
        },
        "id": "iQXVGPgiYpY4",
        "outputId": "c098a4b1-a6b3-4327-949c-8b93f7b129ef"
      },
      "outputs": [
        {
          "output_type": "execute_result",
          "data": {
            "text/plain": [
              "24"
            ],
            "text/latex": "$\\displaystyle 24$"
          },
          "metadata": {},
          "execution_count": 50
        }
      ],
      "source": [
        "x = symbols(\"x\", real=True, positive=True)\n",
        "    \n",
        "f = x**4 * exp(-x)\n",
        "integrate(f, (x,0,oo))"
      ]
    },
    {
      "cell_type": "code",
      "execution_count": 51,
      "metadata": {
        "colab": {
          "base_uri": "https://localhost:8080/",
          "height": 51
        },
        "id": "iPCT3wK8YpY4",
        "outputId": "cffc4bdb-5906-43e6-d5ec-7b1db4319a05"
      },
      "outputs": [
        {
          "output_type": "display_data",
          "data": {
            "text/plain": [
              "24/s**5"
            ],
            "text/latex": "$\\displaystyle \\frac{24}{s^{5}}$"
          },
          "metadata": {}
        }
      ],
      "source": [
        "t = symbols(\"t\", real=True, positive=True)\n",
        "s = symbols(\"s\", real=True)\n",
        "f = t**4\n",
        "F = laplace_transform(f,t,s, noconds=True)\n",
        "display(F)"
      ]
    },
    {
      "cell_type": "code",
      "execution_count": 52,
      "metadata": {
        "colab": {
          "base_uri": "https://localhost:8080/",
          "height": 37
        },
        "outputId": "9832b7a8-047a-461a-c52f-186321a23bd4",
        "id": "6t3yqU_AXxSP"
      },
      "outputs": [
        {
          "output_type": "display_data",
          "data": {
            "text/plain": [
              "24"
            ],
            "text/latex": "$\\displaystyle 24$"
          },
          "metadata": {}
        }
      ],
      "source": [
        "a = F.subs(s, 1)\n",
        "display(a)"
      ]
    },
    {
      "cell_type": "markdown",
      "metadata": {
        "id": "KK8We_wvXxSP"
      },
      "source": [
        "# Exercise 6.10.4\n",
        "\n",
        "$\\int_{0}^{\\infty} x^6 e^{-3x} dx$\n"
      ]
    },
    {
      "cell_type": "code",
      "execution_count": 53,
      "metadata": {
        "colab": {
          "base_uri": "https://localhost:8080/",
          "height": 51
        },
        "outputId": "8869b2ce-8ca3-4af6-ef5f-3638b150965e",
        "id": "_nUFJcR9XxSP"
      },
      "outputs": [
        {
          "output_type": "execute_result",
          "data": {
            "text/plain": [
              "80/243"
            ],
            "text/latex": "$\\displaystyle \\frac{80}{243}$"
          },
          "metadata": {},
          "execution_count": 53
        }
      ],
      "source": [
        "x = symbols(\"x\", real=True, positive=True)\n",
        "    \n",
        "f = x**6 * exp(-3*x)\n",
        "integrate(f, (x,0,oo))"
      ]
    },
    {
      "cell_type": "code",
      "execution_count": 54,
      "metadata": {
        "colab": {
          "base_uri": "https://localhost:8080/",
          "height": 51
        },
        "outputId": "12771a7e-907f-43a7-c16d-eac0b656fbde",
        "id": "Grq0esqUXxSQ"
      },
      "outputs": [
        {
          "output_type": "display_data",
          "data": {
            "text/plain": [
              "720/s**7"
            ],
            "text/latex": "$\\displaystyle \\frac{720}{s^{7}}$"
          },
          "metadata": {}
        }
      ],
      "source": [
        "t = symbols(\"t\", real=True, positive=True)\n",
        "s = symbols(\"s\", real=True)\n",
        "f = t**6\n",
        "F = laplace_transform(f,t,s, noconds=True)\n",
        "display(F)"
      ]
    },
    {
      "cell_type": "code",
      "execution_count": 55,
      "metadata": {
        "colab": {
          "base_uri": "https://localhost:8080/",
          "height": 51
        },
        "outputId": "58b84193-36e0-47fc-e838-f0a052059ae0",
        "id": "Jf2zqbAzXxSQ"
      },
      "outputs": [
        {
          "output_type": "display_data",
          "data": {
            "text/plain": [
              "80/243"
            ],
            "text/latex": "$\\displaystyle \\frac{80}{243}$"
          },
          "metadata": {}
        }
      ],
      "source": [
        "a = F.subs(s, 3)\n",
        "display(a)"
      ]
    },
    {
      "cell_type": "markdown",
      "metadata": {
        "id": "vth-rl-LYpY4"
      },
      "source": [
        "# Exercise 6.15.1 (Inverse Laplance Transform)\n",
        "\n",
        "$\\dfrac{3s-14}{s^2-4s+18}$"
      ]
    },
    {
      "cell_type": "code",
      "execution_count": 56,
      "metadata": {
        "colab": {
          "base_uri": "https://localhost:8080/",
          "height": 68
        },
        "id": "PdbxK-VOYpY4",
        "outputId": "176479d6-05cc-49a7-9df5-808886fb5177"
      },
      "outputs": [
        {
          "output_type": "display_data",
          "data": {
            "text/plain": [
              "(-4*sqrt(14)*sin(sqrt(14)*t)/7 + 3*cos(sqrt(14)*t))*exp(2*t)"
            ],
            "text/latex": "$\\displaystyle \\left(- \\frac{4 \\sqrt{14} \\sin{\\left(\\sqrt{14} t \\right)}}{7} + 3 \\cos{\\left(\\sqrt{14} t \\right)}\\right) e^{2 t}$"
          },
          "metadata": {}
        }
      ],
      "source": [
        "t = symbols(\"t\", real=True, positive=True)\n",
        "s = symbols(\"s\", real=True)\n",
        "F = (3*s - 14) / (s**2 - 4*s + 18)\n",
        "f = inverse_laplace_transform(F, s, t)\n",
        "display(f)"
      ]
    },
    {
      "cell_type": "markdown",
      "metadata": {
        "id": "catI4PShXxSR"
      },
      "source": [
        "# Exercise 6.15.2\n",
        "\n",
        "$\\dfrac{1}{s^2(s^2+1)}$\n"
      ]
    },
    {
      "cell_type": "code",
      "execution_count": 57,
      "metadata": {
        "colab": {
          "base_uri": "https://localhost:8080/",
          "height": 39
        },
        "outputId": "28a840e8-9514-44ab-fbda-b3306a149380",
        "id": "6umwI06sXxSR"
      },
      "outputs": [
        {
          "output_type": "display_data",
          "data": {
            "text/plain": [
              "t - sin(t)"
            ],
            "text/latex": "$\\displaystyle t - \\sin{\\left(t \\right)}$"
          },
          "metadata": {}
        }
      ],
      "source": [
        "t = symbols(\"t\", real=True, positive=True)\n",
        "s = symbols(\"s\", real=True)\n",
        "F = 1 / (s**2 * (s**2 +1))\n",
        "f = inverse_laplace_transform(F, s, t)\n",
        "display(f)"
      ]
    },
    {
      "cell_type": "markdown",
      "metadata": {
        "id": "KWfBUO1oXxSS"
      },
      "source": [
        "# Exercise 6.15.3\n",
        "\n",
        "$\\dfrac{1}{s^2 - 3s + 2}$\n"
      ]
    },
    {
      "cell_type": "code",
      "execution_count": 58,
      "metadata": {
        "colab": {
          "base_uri": "https://localhost:8080/",
          "height": 39
        },
        "outputId": "b849f4dd-5e20-4a0c-d0eb-3ca561ba7786",
        "id": "sPn26vP2XxSS"
      },
      "outputs": [
        {
          "output_type": "display_data",
          "data": {
            "text/plain": [
              "(exp(t) - 1)*exp(t)"
            ],
            "text/latex": "$\\displaystyle \\left(e^{t} - 1\\right) e^{t}$"
          },
          "metadata": {}
        }
      ],
      "source": [
        "t = symbols(\"t\", real=True, positive=True)\n",
        "s = symbols(\"s\", real=True)\n",
        "F = 1 / (s**2 - 3*s +2)\n",
        "f = inverse_laplace_transform(F, s, t)\n",
        "display(f)"
      ]
    },
    {
      "cell_type": "markdown",
      "metadata": {
        "id": "h6yw5AUzXxSS"
      },
      "source": [
        "# Exercise 6.15.4\n",
        "\n",
        "$\\dfrac{s^2}{(s^2+4)^2}$\n"
      ]
    },
    {
      "cell_type": "code",
      "execution_count": 59,
      "metadata": {
        "colab": {
          "base_uri": "https://localhost:8080/",
          "height": 53
        },
        "outputId": "4da60b7d-89db-461d-874f-c14c625fc26c",
        "id": "rslRLaCaXxST"
      },
      "outputs": [
        {
          "output_type": "display_data",
          "data": {
            "text/plain": [
              "sin(2*t)/2"
            ],
            "text/latex": "$\\displaystyle \\frac{\\sin{\\left(2 t \\right)}}{2}$"
          },
          "metadata": {}
        }
      ],
      "source": [
        "t = symbols(\"t\", real=True, positive=True)\n",
        "s = symbols(\"s\", real=True)\n",
        "F = s**2 / (s**2 + 4)**2\n",
        "f = inverse_laplace_transform(F, s, t)\n",
        "display(f)"
      ]
    },
    {
      "cell_type": "markdown",
      "metadata": {
        "id": "228O5Vp8XxST"
      },
      "source": [
        "# Exercise 6.15.5\n",
        "\n",
        "$\\dfrac{s}{(s^2+4)^2}$\n"
      ]
    },
    {
      "cell_type": "code",
      "execution_count": 60,
      "metadata": {
        "colab": {
          "base_uri": "https://localhost:8080/",
          "height": 82
        },
        "outputId": "a247964e-be68-4b7d-9b56-99c858c644a2",
        "id": "fwqrV_zEXxST"
      },
      "outputs": [
        {
          "output_type": "display_data",
          "data": {
            "text/plain": [
              "Piecewise((0, (exp(t) < 1) | (exp(-t) < 1)), (meijerg(((0, 1 - 2*I, 1 - 2*I, 1 + 2*I, 1 + 2*I), ()), ((), (1, -2*I, -2*I, 2*I, 2*I)), exp(t)), True))"
            ],
            "text/latex": "$\\displaystyle \\begin{cases} 0 & \\text{for}\\: e^{- t} < 1 \\vee e^{t} < 1 \\\\{G_{5, 5}^{0, 5}\\left(\\begin{matrix} 0, 1 - 2 i, 1 - 2 i, 1 + 2 i, 1 + 2 i &  \\\\ & 1, - 2 i, - 2 i, 2 i, 2 i \\end{matrix} \\middle| {e^{t}} \\right)} & \\text{otherwise} \\end{cases}$"
          },
          "metadata": {}
        }
      ],
      "source": [
        "t = symbols(\"t\", real=True, positive=True)\n",
        "s = symbols(\"s\", real=True)\n",
        "F = s / (s**2 + 4)**2\n",
        "f = inverse_laplace_transform(F, s, t)\n",
        "display(f)"
      ]
    },
    {
      "cell_type": "markdown",
      "metadata": {
        "id": "A5o-gPh5XxSU"
      },
      "source": [
        "# Exercise 6.15.6\n",
        "\n",
        "$\\ln\\left(1+\\dfrac{1}{s^2}\\right)$\n"
      ]
    },
    {
      "cell_type": "code",
      "execution_count": 61,
      "metadata": {
        "colab": {
          "base_uri": "https://localhost:8080/",
          "height": 58
        },
        "outputId": "a9bdd41f-1cbc-4823-885f-a66a3c75bc94",
        "id": "mDqWsPyXXxSU"
      },
      "outputs": [
        {
          "output_type": "display_data",
          "data": {
            "text/plain": [
              "InverseLaplaceTransform(log(1 + s**(-2)), s, t, _None)"
            ],
            "text/latex": "$\\displaystyle \\mathcal{L}^{-1}_{s}\\left[\\log{\\left(1 + \\frac{1}{s^{2}} \\right)}\\right]\\left(t\\right)$"
          },
          "metadata": {}
        }
      ],
      "source": [
        "t = symbols(\"t\", real=True, positive=True)\n",
        "s = symbols(\"s\", real=True)\n",
        "F = log(1 + 1/s**2)\n",
        "f = inverse_laplace_transform(F, s, t)\n",
        "display(f)"
      ]
    },
    {
      "cell_type": "markdown",
      "metadata": {
        "id": "FHkQP5WdXxSU"
      },
      "source": [
        "* Sympy 1.11.1 failed to solve ..."
      ]
    },
    {
      "cell_type": "markdown",
      "metadata": {
        "id": "ak7VwGdxXxSV"
      },
      "source": [
        "# Exercise 6.15.7\n",
        "\n",
        "$\\dfrac{1}{(s^2+4)^2}$"
      ]
    },
    {
      "cell_type": "code",
      "execution_count": 62,
      "metadata": {
        "colab": {
          "base_uri": "https://localhost:8080/",
          "height": 82
        },
        "outputId": "3f664b28-b013-4c29-9092-b24cfe625c0f",
        "id": "hVq8de-pXxSV"
      },
      "outputs": [
        {
          "output_type": "display_data",
          "data": {
            "text/plain": [
              "Piecewise((0, (exp(t) < 1) | (exp(-t) < 1)), (meijerg(((1 - 2*I, 1 - 2*I, 1 + 2*I, 1 + 2*I), ()), ((), (-2*I, -2*I, 2*I, 2*I)), exp(t)), True))"
            ],
            "text/latex": "$\\displaystyle \\begin{cases} 0 & \\text{for}\\: e^{- t} < 1 \\vee e^{t} < 1 \\\\{G_{4, 4}^{0, 4}\\left(\\begin{matrix} 1 - 2 i, 1 - 2 i, 1 + 2 i, 1 + 2 i &  \\\\ & - 2 i, - 2 i, 2 i, 2 i \\end{matrix} \\middle| {e^{t}} \\right)} & \\text{otherwise} \\end{cases}$"
          },
          "metadata": {}
        }
      ],
      "source": [
        "t = symbols(\"t\", real=True, positive=True)\n",
        "s = symbols(\"s\", real=True)\n",
        "F = 1 / (s**2 + 4)**2\n",
        "f = inverse_laplace_transform(F, s, t)\n",
        "display(f)"
      ]
    },
    {
      "cell_type": "markdown",
      "metadata": {
        "id": "JwS6NrxBXxSV"
      },
      "source": [
        "# Exercise 6.15.8\n",
        "\n",
        "$\\dfrac{s^3}{s^4-16}$"
      ]
    },
    {
      "cell_type": "code",
      "execution_count": 63,
      "metadata": {
        "colab": {
          "base_uri": "https://localhost:8080/",
          "height": 53
        },
        "outputId": "e67f329b-0c76-44a6-f169-db05dd51ad7d",
        "id": "2ZnmeBItXxSV"
      },
      "outputs": [
        {
          "output_type": "display_data",
          "data": {
            "text/plain": [
              "cos(2*t)/2 + cosh(2*t)/2"
            ],
            "text/latex": "$\\displaystyle \\frac{\\cos{\\left(2 t \\right)}}{2} + \\frac{\\cosh{\\left(2 t \\right)}}{2}$"
          },
          "metadata": {}
        }
      ],
      "source": [
        "t = symbols(\"t\", real=True, positive=True)\n",
        "s = symbols(\"s\", real=True)\n",
        "F = s**3 / (s**4 - 16)\n",
        "f = inverse_laplace_transform(F, s, t)\n",
        "display(f)"
      ]
    },
    {
      "cell_type": "markdown",
      "metadata": {
        "id": "253u3rKgXxSW"
      },
      "source": [
        "# Exercise 6.15.9\n",
        "\n",
        "$\\dfrac{1}{s^3+1}$"
      ]
    },
    {
      "cell_type": "code",
      "execution_count": 64,
      "metadata": {
        "colab": {
          "base_uri": "https://localhost:8080/",
          "height": 66
        },
        "outputId": "5932ae68-f722-421d-8ac9-d3f3319d99d1",
        "id": "uta8slOsXxSW"
      },
      "outputs": [
        {
          "output_type": "display_data",
          "data": {
            "text/plain": [
              "(-6*exp(3*t/2)*cos(sqrt(3)*t/2 + pi/3) + 3)*exp(-t)/9"
            ],
            "text/latex": "$\\displaystyle \\frac{\\left(- 6 e^{\\frac{3 t}{2}} \\cos{\\left(\\frac{\\sqrt{3} t}{2} + \\frac{\\pi}{3} \\right)} + 3\\right) e^{- t}}{9}$"
          },
          "metadata": {}
        }
      ],
      "source": [
        "t = symbols(\"t\", real=True, positive=True)\n",
        "s = symbols(\"s\", real=True)\n",
        "F = 1 / (s**3 + 1)\n",
        "f = inverse_laplace_transform(F, s, t)\n",
        "display(f)"
      ]
    },
    {
      "cell_type": "code",
      "execution_count": 65,
      "metadata": {
        "colab": {
          "base_uri": "https://localhost:8080/",
          "height": 66
        },
        "id": "orJUbTheXxSX",
        "outputId": "107a3df0-8a19-4e3d-ab9e-1cb0aea4ae76"
      },
      "outputs": [
        {
          "output_type": "execute_result",
          "data": {
            "text/plain": [
              "-2*exp(t/2)*cos(sqrt(3)*t/2 + pi/3)/3 + exp(-t)/3"
            ],
            "text/latex": "$\\displaystyle - \\frac{2 e^{\\frac{t}{2}} \\cos{\\left(\\frac{\\sqrt{3} t}{2} + \\frac{\\pi}{3} \\right)}}{3} + \\frac{e^{- t}}{3}$"
          },
          "metadata": {},
          "execution_count": 65
        }
      ],
      "source": [
        "expand(f)"
      ]
    },
    {
      "cell_type": "markdown",
      "metadata": {
        "id": "-5UG2THbXxSX"
      },
      "source": [
        "# Exercise 6.15.10\n",
        "\n",
        "$\\dfrac{2s^2+s-10}{(s-4)(s^2+2s+2)}$\n"
      ]
    },
    {
      "cell_type": "code",
      "execution_count": 66,
      "metadata": {
        "colab": {
          "base_uri": "https://localhost:8080/",
          "height": 39
        },
        "outputId": "56696a86-e413-46f9-b0b5-a8459383c83a",
        "id": "ZUqxWwUxXxSX"
      },
      "outputs": [
        {
          "output_type": "display_data",
          "data": {
            "text/plain": [
              "(exp(5*t) + 2*sin(t) + cos(t))*exp(-t)"
            ],
            "text/latex": "$\\displaystyle \\left(e^{5 t} + 2 \\sin{\\left(t \\right)} + \\cos{\\left(t \\right)}\\right) e^{- t}$"
          },
          "metadata": {}
        }
      ],
      "source": [
        "t = symbols(\"t\", real=True, positive=True)\n",
        "s = symbols(\"s\", real=True)\n",
        "F = (2*s**2 + s -10) / ((s-4) * (s**2 + 2*s +2))\n",
        "f = inverse_laplace_transform(F, s, t)\n",
        "display(f)"
      ]
    },
    {
      "cell_type": "code",
      "execution_count": 67,
      "metadata": {
        "colab": {
          "base_uri": "https://localhost:8080/",
          "height": 39
        },
        "id": "H1rB2RwJXxSX",
        "outputId": "1b17be0a-674a-4874-a98d-703c365b5928"
      },
      "outputs": [
        {
          "output_type": "execute_result",
          "data": {
            "text/plain": [
              "exp(4*t) + 2*exp(-t)*sin(t) + exp(-t)*cos(t)"
            ],
            "text/latex": "$\\displaystyle e^{4 t} + 2 e^{- t} \\sin{\\left(t \\right)} + e^{- t} \\cos{\\left(t \\right)}$"
          },
          "metadata": {},
          "execution_count": 67
        }
      ],
      "source": [
        "expand(f)"
      ]
    },
    {
      "cell_type": "markdown",
      "metadata": {
        "id": "1wKOErbhqKWU"
      },
      "source": [
        "# **TO BE CONTINUED ...**\n",
        "* Any student with a basic Python programming skill\n",
        "  is welcome to continue and solve more exercises\n",
        "  from the\n",
        "<a href=\"https://samyzaf.com/technion/ode/ode.pdf\">\n",
        "Ordinal Differential Equations book\n",
        "</a>.\n",
        "\n",
        "* Send your solutions notebook to sz@samyzaf.com.\n",
        "* They will be checked and added to this notebook.\n",
        "* Thanks!!!"
      ]
    },
    {
      "cell_type": "code",
      "execution_count": 210,
      "metadata": {
        "id": "W69YSbejO4P-"
      },
      "outputs": [],
      "source": []
    }
  ],
  "metadata": {
    "colab": {
      "provenance": [],
      "include_colab_link": true
    },
    "kernelspec": {
      "display_name": "Python 3 (ipykernel)",
      "language": "python",
      "name": "python3"
    },
    "language_info": {
      "codemirror_mode": {
        "name": "ipython",
        "version": 3
      },
      "file_extension": ".py",
      "mimetype": "text/x-python",
      "name": "python",
      "nbconvert_exporter": "python",
      "pygments_lexer": "ipython3",
      "version": "3.7.11"
    }
  },
  "nbformat": 4,
  "nbformat_minor": 0
}