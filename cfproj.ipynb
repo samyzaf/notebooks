{
  "cells": [
    {
      "cell_type": "markdown",
      "metadata": {
        "id": "view-in-github",
        "colab_type": "text"
      },
      "source": [
        "<a href=\"https://colab.research.google.com/github/samyzaf/notebooks/blob/main/cfproj.ipynb\" target=\"_parent\"><img src=\"https://colab.research.google.com/assets/colab-badge.svg\" alt=\"Open In Colab\"/></a>"
      ]
    },
    {
      "cell_type": "markdown",
      "id": "0cafac0f",
      "metadata": {
        "cell_marker": "\"\"\"",
        "id": "0cafac0f"
      },
      "source": [
        "# **The original file has changed name**\n",
        "\n",
        "# **The new address:**\n",
        "\n",
        "**Google Colab Notebook:**  \n",
        "https://colab.research.google.com/github/samyzaf/notebooks/blob/main/harmonic_animation.ipynb\n",
        "\n",
        "**Static Github Doc:**  \n",
        "https://github.com/samyzaf/notebooks/blob/main/harmonic_animation.ipynb"
      ]
    }
  ],
  "metadata": {
    "jupytext": {
      "cell_metadata_filter": "-all",
      "main_language": "python",
      "notebook_metadata_filter": "-all"
    },
    "colab": {
      "provenance": [],
      "include_colab_link": true
    },
    "language_info": {
      "name": "python"
    },
    "kernelspec": {
      "name": "python3",
      "display_name": "Python 3"
    }
  },
  "nbformat": 4,
  "nbformat_minor": 5
}