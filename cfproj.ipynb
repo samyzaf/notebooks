{
  "cells": [
    {
      "cell_type": "markdown",
      "metadata": {
        "id": "view-in-github",
        "colab_type": "text"
      },
      "source": [
        "<a href=\"https://colab.research.google.com/github/samyzaf/notebooks/blob/main/cfproj.ipynb\" target=\"_parent\"><img src=\"https://colab.research.google.com/assets/colab-badge.svg\" alt=\"Open In Colab\"/></a>"
      ]
    },
    {
      "cell_type": "markdown",
      "metadata": {
        "id": "fZRNtJVVWUIW"
      },
      "source": [
        "# Using Harmonic functions for movie animation\n",
        "* A first draft of a Google Coab notebook for\n",
        "  the Complex functions course projects\n",
        "* This is just a proof of concept and ideas that can\n",
        "  be used for helping the students with this project\n",
        "* Some of the stuff is meant for the instructors and may\n",
        "  not be passed to students\n",
        "* The intention is to start a discussion on what we need\n",
        "  to present to the students.\n",
        "* The **cfclon** project (suggested short name) is in the\n",
        "  context of an an undergraduate course on comple functions,\n",
        "  and its purpose is to demonstrate how theoretical topic\n",
        "  such as \"Harmonic Functions\" is practically used in the\n",
        "  graphical movies industery (such as **Pixar**)\n",
        "* Relavant papers:\n",
        "  * https://www.ams.org/publicoutreach/feature-column/fcarc-harmonic\n",
        "  * https://graphics.pixar.com/library/HarmonicCoordinates/paper.pdf\n",
        "  * https://www.cs.jhu.edu/~misha/Fall07/Papers/Joshi07.pdf\n",
        "  * https://www.cs.huji.ac.il/~danix/mvclone/files/mvc-final-opt.pdf"
      ]
    },
    {
      "cell_type": "markdown",
      "metadata": {
        "id": "bNgCcbH05oim"
      },
      "source": [
        "## Installation\n",
        "* Run the following cell to install **cfclon**."
      ]
    },
    {
      "cell_type": "code",
      "execution_count": null,
      "metadata": {
        "colab": {
          "base_uri": "https://localhost:8080/"
        },
        "id": "JD90Uu4zVoVv",
        "outputId": "58e0c9f3-a8bd-4263-a017-9d1e35b497e0"
      },
      "outputs": [
        {
          "output_type": "stream",
          "name": "stdout",
          "text": [
            "Collecting cfclon\n",
            "  Downloading cfclon-0.1.tar.gz (4.0 kB)\n",
            "  Preparing metadata (setup.py) ... \u001b[?25l\u001b[?25hdone\n",
            "Requirement already satisfied: numpy in /usr/local/lib/python3.10/dist-packages (from cfclon) (1.23.5)\n",
            "Requirement already satisfied: matplotlib in /usr/local/lib/python3.10/dist-packages (from cfclon) (3.7.1)\n",
            "Requirement already satisfied: contourpy>=1.0.1 in /usr/local/lib/python3.10/dist-packages (from matplotlib->cfclon) (1.1.0)\n",
            "Requirement already satisfied: cycler>=0.10 in /usr/local/lib/python3.10/dist-packages (from matplotlib->cfclon) (0.11.0)\n",
            "Requirement already satisfied: fonttools>=4.22.0 in /usr/local/lib/python3.10/dist-packages (from matplotlib->cfclon) (4.42.1)\n",
            "Requirement already satisfied: kiwisolver>=1.0.1 in /usr/local/lib/python3.10/dist-packages (from matplotlib->cfclon) (1.4.5)\n",
            "Requirement already satisfied: packaging>=20.0 in /usr/local/lib/python3.10/dist-packages (from matplotlib->cfclon) (23.1)\n",
            "Requirement already satisfied: pillow>=6.2.0 in /usr/local/lib/python3.10/dist-packages (from matplotlib->cfclon) (9.4.0)\n",
            "Requirement already satisfied: pyparsing>=2.3.1 in /usr/local/lib/python3.10/dist-packages (from matplotlib->cfclon) (3.1.1)\n",
            "Requirement already satisfied: python-dateutil>=2.7 in /usr/local/lib/python3.10/dist-packages (from matplotlib->cfclon) (2.8.2)\n",
            "Requirement already satisfied: six>=1.5 in /usr/local/lib/python3.10/dist-packages (from python-dateutil>=2.7->matplotlib->cfclon) (1.16.0)\n",
            "Building wheels for collected packages: cfclon\n",
            "  Building wheel for cfclon (setup.py) ... \u001b[?25l\u001b[?25hdone\n",
            "  Created wheel for cfclon: filename=cfclon-0.1-py3-none-any.whl size=4045 sha256=93fd6c245acb7533374350bef46722d5f0ff07fb4f2d2f2bfa0814aa52a8c81d\n",
            "  Stored in directory: /root/.cache/pip/wheels/c8/1b/9c/336f7a9abcfbfac5c4f8dac7953e4e8e4012e2d82c184e3885\n",
            "Successfully built cfclon\n",
            "Installing collected packages: cfclon\n",
            "Successfully installed cfclon-0.1\n"
          ]
        }
      ],
      "source": [
        "%pip install cfclon"
      ]
    },
    {
      "cell_type": "markdown",
      "metadata": {
        "id": "z9VhD5Wz5121"
      },
      "source": [
        "## Importing **cfclon**"
      ]
    },
    {
      "cell_type": "code",
      "execution_count": null,
      "metadata": {
        "id": "QO4VgM1r1vEy"
      },
      "outputs": [],
      "source": [
        "from cfclon import *"
      ]
    },
    {
      "cell_type": "markdown",
      "source": [
        "## Introduction\n",
        "* Animation characters such as **Pixar Animation Studio**\n",
        "  [Ratatouille](https://www.imdb.com/title/tt0382932/)\n",
        "  or\n",
        "  [Remy](https://www.youtube.com/watch?v=3YG4h5GbTqU)\n",
        "  are modeled as a 3d geometric mesh that consists of 5000\n",
        "  to 9000 points in the grid (usually a triangular mesh model, but also rectangular grids are common).\n",
        "\n",
        "* Animating a 9000 points mesh is practically\n",
        "  impossible algorithmically or computationaly\n",
        "\n",
        "* The common method for animating a 9000 mesh character\n",
        "  is by enclosing it within a simple **cage** (which usually\n",
        "  consists of 100 or 150 contrl points) which is easier to\n",
        "  manipulate and maneuver (for example by a real person\n",
        "  with a special suit that records his movements).\n",
        "\n",
        "* To move the character we only need to reposition the 100\n",
        "  (roughly) control points of the cage to the desired\n",
        "  pose and deploy an algorithm by which we move\n",
        "  the 9000 mesh points of our character\n",
        "\n",
        "* This algorithm must be computationaly efficient but must\n",
        "  must not cause any distortion\n",
        "\n",
        "* The action of deforming our character from the old cage to\n",
        "  the new cage is called **image cloning**.\n",
        "\n",
        "* Due to the high complexity of the 3D case, this project\n",
        "  is restricted to the two dimensional case\n",
        "\n"
      ],
      "metadata": {
        "id": "5h9KVCeRg5lN"
      }
    },
    {
      "cell_type": "markdown",
      "source": [
        "<IMG src=\"https://samyzaf.com/cfproj/group1.jpg\" width=800 align=\"center\"/>\n"
      ],
      "metadata": {
        "id": "W9HimOS5rR-O"
      }
    },
    {
      "cell_type": "markdown",
      "source": [
        "* The following YouTube video contains more details about\n",
        "  this method\n",
        "  * https://www.youtube.com/watch?v=egf4m6zVHUI\n",
        "* You can also play it here if you entered the\n",
        "  Google Colab mode."
      ],
      "metadata": {
        "id": "2RFLL7b5wYN3"
      }
    },
    {
      "cell_type": "code",
      "source": [
        "YouTubeVideo(\"egf4m6zVHUI\", width=720, height=480)"
      ],
      "metadata": {
        "colab": {
          "base_uri": "https://localhost:8080/",
          "height": 501
        },
        "id": "hgbLN5Xd4IVd",
        "outputId": "7fe145a5-b545-4dee-c3c5-14366ff35337"
      },
      "execution_count": 15,
      "outputs": [
        {
          "output_type": "execute_result",
          "data": {
            "text/plain": [
              "<IPython.lib.display.YouTubeVideo at 0x793d1c1b1fc0>"
            ],
            "text/html": [
              "\n",
              "        <iframe\n",
              "            width=\"720\"\n",
              "            height=\"480\"\n",
              "            src=\"https://www.youtube.com/embed/egf4m6zVHUI\"\n",
              "            frameborder=\"0\"\n",
              "            allowfullscreen\n",
              "            \n",
              "        ></iframe>\n",
              "        "
            ],
            "image/jpeg": "[encoded data removed]"
          },
          "metadata": {},
          "execution_count": 15
        }
      ]
    },
    {
      "cell_type": "markdown",
      "source": [
        "## Barycentric Coordinates\n",
        "*"
      ],
      "metadata": {
        "id": "E0MvuRue9dlp"
      }
    }
  ],
  "metadata": {
    "colab": {
      "provenance": [],
      "include_colab_link": true
    },
    "kernelspec": {
      "display_name": "Python 3 (ipykernel)",
      "language": "python",
      "name": "python3"
    },
    "language_info": {
      "codemirror_mode": {
        "name": "ipython",
        "version": 3
      },
      "file_extension": ".py",
      "mimetype": "text/x-python",
      "name": "python",
      "nbconvert_exporter": "python",
      "pygments_lexer": "ipython3",
      "version": "3.7.11"
    }
  },
  "nbformat": 4,
  "nbformat_minor": 0
}