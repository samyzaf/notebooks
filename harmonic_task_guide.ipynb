{
  "cells": [
    {
      "cell_type": "markdown",
      "metadata": {
        "id": "view-in-github",
        "colab_type": "text"
      },
      "source": [
        "<a href=\"https://colab.research.google.com/github/samyzaf/notebooks/blob/main/harmonic_task_guide.ipynb\" target=\"_parent\"><img src=\"https://colab.research.google.com/assets/colab-badge.svg\" alt=\"Open In Colab\"/></a>"
      ]
    },
    {
      "cell_type": "markdown",
      "metadata": {
        "id": "bNgCcbH05oim"
      },
      "source": [
        "<div dir=rtl>\n",
        "<h1>\n",
        "<B>\n",
        "מדריך לתרגיל התכנותי בפרוייקט שימושים של פונקציות הרמונית באנימציה ממוחשבת\n",
        "</B>\n",
        "</h1>\n",
        "<UL>\n",
        "<LI> למרות שהתרגיל לא אמור להיות מסובך, נביא עוד כמה טיפים נוספים בכדי לעזור לתלמידים להתמודד טוב יותר עם התרגיל.\n",
        "<LI> ראשית כל נפעיל את תיבת הקוד הבאה בכדי לטעון את חבילות הקוד והנתונים הדרושים עבור ביצוע התרגיל.\n",
        "<LI>\n",
        "אין צורך להבין את הקוד Python שמופיע כאן עבור פתרון התרגיל.\n",
        "</UL>\n",
        "</div>"
      ]
    },
    {
      "cell_type": "code",
      "execution_count": null,
      "metadata": {
        "id": "JD90Uu4zVoVv"
      },
      "outputs": [],
      "source": [
        "%pip install -q https://samyzaf.com/cfclon-33.zip\n",
        "from cfclon import *\n",
        "plt.rcParams['figure.dpi'] = 90\n",
        "reg.log.state = \"disabled\"\n",
        "dbname = \"https://samyzaf.com/cfproj/aleph128a.db\"\n",
        "load_db(dbname)"
      ]
    },
    {
      "cell_type": "markdown",
      "source": [
        "<div dir=rtl>\n",
        "<UL>\n",
        "<LI>\n",
        "נפעיל את תיבת הקוד הבאה בכדי לטעון את הכלוב\n",
        "(המרובע) שלנו.\n",
        "<LI>\n",
        "הכלוב נקרא cage1 כי הוא הכלוב ההתחלתי שלנו.\n",
        "<LI>\n",
        " בהמשך נגדיר כלוב נוסף cage2 שאליו נרצה לשבט את הדמות שלנו (האות אלף).\n",
        "</UL>\n",
        "</div>"
      ],
      "metadata": {
        "id": "ciR5UF7CUHyb"
      }
    },
    {
      "cell_type": "code",
      "source": [
        "cage1 = [(1,1), (1,15), (15,15), (15,1)]"
      ],
      "metadata": {
        "id": "K1TAzSQMpHK3"
      },
      "execution_count": null,
      "outputs": []
    },
    {
      "cell_type": "markdown",
      "source": [
        "<div dir=rtl>\n",
        "<UL>\n",
        "<LI>\n",
        "בתיבת הקוד הבאה נגדיר את ששת\n",
        "<B>הקודקודים</B> של <B>דמות האלף</B> שלנו.\n",
        "</UL>\n",
        "</div>"
      ],
      "metadata": {
        "id": "wYbmYDHbqeqv"
      }
    },
    {
      "cell_type": "code",
      "source": [
        "p1 = (2,2)\n",
        "p2 = (5,5)\n",
        "p3 = (11,11)\n",
        "p4 = (14,14)\n",
        "p5 = (13,2)\n",
        "p6 = (3,14)"
      ],
      "metadata": {
        "id": "G5tngOWnrBL4"
      },
      "execution_count": null,
      "outputs": []
    },
    {
      "cell_type": "markdown",
      "source": [
        "<div dir=rtl>\n",
        "<UL>\n",
        "<LI>\n",
        "בתיבת הקוד הבאה אנו מציירים את הכלוב ההתחלתי שלנו cage1.\n",
        "<LI>\n",
        "בינתיים לא נראה את הציור (הוא מתבצע בזכרון בלבד) עד להפעלת הפקודה `()show_plot`, אשר נפעיל לאחר צבירת כל כל פקודות הציור.\n",
        "</div>"
      ],
      "metadata": {
        "id": "4yFkNGGNrm9U"
      }
    },
    {
      "cell_type": "code",
      "source": [
        "draw_cage(cage1)"
      ],
      "metadata": {
        "id": "kNki-haarakV"
      },
      "execution_count": null,
      "outputs": []
    },
    {
      "cell_type": "markdown",
      "source": [
        "<div dir=rtl>\n",
        "<UL>\n",
        "<LI>\n",
        "בתיבת הקוד הבאה נצייר את הקודקודים של דמות האלף שלנו.\n",
        "\n",
        "</div>"
      ],
      "metadata": {
        "id": "S0lxLy_Xr6Ph"
      }
    },
    {
      "cell_type": "code",
      "source": [
        "draw_point(p1)\n",
        "draw_point(p2)\n",
        "draw_point(p3)\n",
        "draw_point(p4)\n",
        "draw_point(p5)\n",
        "draw_point(p6)"
      ],
      "metadata": {
        "id": "Crn97-Nu419a"
      },
      "execution_count": null,
      "outputs": []
    },
    {
      "cell_type": "markdown",
      "source": [
        "<div dir=rtl>\n",
        "<UL>\n",
        "<LI>\n",
        "בתיבת הקוד הבאה נצייר את הקטעים שמרכיבים את דמות האלף שלנו.\n",
        "\n",
        "</div>"
      ],
      "metadata": {
        "id": "6bw1ZYtJATta"
      }
    },
    {
      "cell_type": "code",
      "source": [
        "draw_line(p1,p2)\n",
        "draw_line(p2,p3)\n",
        "draw_line(p3,p4)\n",
        "draw_line(p2,p6)\n",
        "draw_line(p3,p5)"
      ],
      "metadata": {
        "id": "U_Uvuw9pAluG"
      },
      "execution_count": null,
      "outputs": []
    },
    {
      "cell_type": "markdown",
      "source": [
        "<div dir=rtl>\n",
        "<UL>\n",
        "<LI>\n",
        "בתיבת הקוד הבאה נפעיל את פקודת השרטוט למסך של כל פקודות הציור שביצענו קודם.\n",
        "\n",
        "</div>"
      ],
      "metadata": {
        "id": "_sigVfBRB6ew"
      }
    },
    {
      "cell_type": "code",
      "source": [
        "show_plot()"
      ],
      "metadata": {
        "id": "ydaf2TWYAZUA"
      },
      "execution_count": null,
      "outputs": []
    },
    {
      "cell_type": "markdown",
      "source": [
        "<div dir=rtl>\n",
        "<UL>\n",
        "<LI>\n",
        "קיימות פקודות ציור עבור טקסט לצד הנקודות והקטעים שציירנו קודם אבל לא נטרח למנות אותן מאחר וזה לא חשוב עבור הפרוייקט שלנו.\n",
        "<LI>\n",
        "נסתפק בתמונה בלבד של איך השרטוט אמור להראות לאחר הפעלת פקודות כאלה להתרשמות בלבד.\n",
        "<LI>\n",
        "יש לשים לב לכך לכך שכיוון ציר ה-y הפוך ממה שמקובל במתמטיקה. מומלץ לבדוק את ההתאמה בין כל קודקוד לקואורדינטות שלו.\n",
        "  \n",
        "<IMG src=\"https://samyzaf.com/cfproj/aleph1.jpg\" width=400 align=\"center\"/>\n",
        "\n",
        "</div>"
      ],
      "metadata": {
        "id": "wOzsDQMPUsP-"
      }
    },
    {
      "cell_type": "markdown",
      "source": [
        "<div dir=rtl>\n",
        "<UL>\n",
        "<LI>\n",
        "עכשיו נגדיר את הכלוב השני שלנו cage2 וגם נצייר אותו.\n",
        "</UL>\n",
        "</div>"
      ],
      "metadata": {
        "id": "9DUs-4LnGFs0"
      }
    },
    {
      "cell_type": "code",
      "source": [
        "cage2 = [(1,1), (5,20), (18,12), (15,3)]\n",
        "draw_cage(cage2)\n",
        "show_plot()"
      ],
      "metadata": {
        "id": "Jfjhj4xUVuc5"
      },
      "execution_count": null,
      "outputs": []
    },
    {
      "cell_type": "markdown",
      "source": [
        "<div dir=rtl>\n",
        "<UL>\n",
        "<LI>\n",
        "בכדי לפתור את התרגיל דרושות לנו שתי פקודות נוספות:\n",
        "<LI>\n",
        "harmonic_coordinates(p) -\n",
        "לשם חישוב הקואורדינטות ההרמוניות של הנקודה p ביחס לכלוב המקורי cage1.\n",
        "<LI>\n",
        "clone(coords, cage) -\n",
        "לשם שיבוט של נקודה p בכלוב חדש cage.\n",
        "<LI>\n",
        "הארגומנט הראשון coords הוא רשימת הקואורדינטות ההרמוניות של הנקודה p שקיבלנו באמצעות הפקודה הקודמת.\n",
        "<LI>\n",
        "על ידי שימוש בפקודות שראינו, עלינו לשבט את הדמות שלנו  (האות אלף) בתוך הכלוב השני cage2.\n",
        "<LI>\n",
        "יש לחשב את הקודקודים החדשים של הדמות שלנו בכלוב השני, לצייר אותם, ולצייר את הקטעים המתאימים לדמות המשובטת.\n",
        "<LI>\n",
        "נדגיש שוב:\n",
        "המשימה כוללת גם את השרטוט של הדמות המשובטת.\n",
        "</UL>\n",
        "</div>"
      ],
      "metadata": {
        "id": "VaIJiCTDIMlE"
      }
    },
    {
      "cell_type": "markdown",
      "source": [
        "<div dir=rtl>\n",
        "<UL>\n",
        "<LI>\n",
        "<B>דוגמה:</B>\n",
        "נקח לדוגמה את הנקודה\n",
        "p=(6,8).\n",
        "<LI>\n",
        "נוכל לחשב את הקואורדינטות ההרמוניות של p באמצעות הקוד הבא.\n",
        "</UL>\n",
        "</div>"
      ],
      "metadata": {
        "id": "8rWfkmovOwWN"
      }
    },
    {
      "cell_type": "code",
      "source": [
        "p = (6,8)\n",
        "coords = harmonic_coordinates(p)\n",
        "print(coords)"
      ],
      "metadata": {
        "id": "_HBIzdJGPmgE"
      },
      "execution_count": null,
      "outputs": []
    },
    {
      "cell_type": "markdown",
      "source": [
        "<div dir=rtl>\n",
        "\n",
        "<UL>\n",
        "<LI>\n",
        "יש לשים לב שקיבלנו רשימה של 4 מספרים ממשיים שהם הקואורדינטות ההרמוניות של הנקודה p.\n",
        "הסיבה לכך היא שהכלוב שלנו מרובע.\n",
        "<LI>\n",
        "נזכיר שוב כי לכל תלמיד יוקצה כלוב cage2 על פי מספר תעודת הזהות שלו.\n",
        "<LI>\n",
        "למשל עבור מספר זהות \"03123456\" יתקבל הכלוב הבא.\n",
        "</UL>\n",
        "\n",
        "</div>"
      ],
      "metadata": {
        "id": "K02aARPoSRKE"
      }
    },
    {
      "cell_type": "code",
      "source": [
        "id = \"03123456\"\n",
        "cage2 = get_your_cage(id)\n",
        "print(cage2)\n",
        "draw_cage(cage2)\n",
        "show_plot()"
      ],
      "metadata": {
        "id": "xQBMqYOaTdsZ"
      },
      "execution_count": null,
      "outputs": []
    },
    {
      "cell_type": "markdown",
      "source": [
        "<div dir=rtl>\n",
        "<UL>\n",
        "<LI>\n",
        "את הפתרון לתרגיל יש להכניס לתוך תיבת קוד אחת שמופיעה בסוף  המחברת קולאב של התרגיל\n",
        "\n",
        "https://colab.research.google.com/github/samyzaf/notebooks/blob/main/harmonic_task.ipynb\n",
        "\n",
        "<LI>\n",
        "יש למחוק את ההערה שמתחילה בתו '#'\n",
        "ולרשום במקומה את הקוד פייתון שפותר את הבעייה שנפרש על פני כמה שורות כמובן.\n",
        "</UL>\n",
        "</div>"
      ],
      "metadata": {
        "id": "CKZs46kxSK3A"
      }
    },
    {
      "cell_type": "code",
      "source": [
        "# WRITE YOUR CODE HERE."
      ],
      "metadata": {
        "id": "h1dOJVfZqb-6"
      },
      "execution_count": null,
      "outputs": []
    },
    {
      "cell_type": "markdown",
      "source": [
        "<div dir=rtl>\n",
        "\n",
        "<UL>\n",
        "<LI>\n",
        "את\n",
        "המחברת קולאב יש להוריד לדיסק כקובץ ipynb ולאחר מכן להעלות לאתר המוודל\n",
        "של הפרוייקט לשם בדיקה.\n",
        "\n",
        "<LI>\n",
        "הורדת (download) המחברת כקובץ ipynb תתבצע דרך תפריט File למעלה.\n",
        "\n",
        "</UL>\n",
        "\n",
        "</div>"
      ],
      "metadata": {
        "id": "aR1DcE-rUULi"
      }
    }
  ],
  "metadata": {
    "colab": {
      "provenance": [],
      "include_colab_link": true
    },
    "kernelspec": {
      "display_name": "Python 3 (ipykernel)",
      "language": "python",
      "name": "python3"
    },
    "language_info": {
      "codemirror_mode": {
        "name": "ipython",
        "version": 3
      },
      "file_extension": ".py",
      "mimetype": "text/x-python",
      "name": "python",
      "nbconvert_exporter": "python",
      "pygments_lexer": "ipython3",
      "version": "3.7.11"
    }
  },
  "nbformat": 4,
  "nbformat_minor": 0
}