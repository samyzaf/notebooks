{
  "cells": [
    {
      "cell_type": "markdown",
      "metadata": {
        "id": "view-in-github",
        "colab_type": "text"
      },
      "source": [
        "<a href=\"https://colab.research.google.com/github/samyzaf/notebooks/blob/main/cf1.ipynb\" target=\"_parent\"><img src=\"https://colab.research.google.com/assets/colab-badge.svg\" alt=\"Open In Colab\"/></a>"
      ]
    },
    {
      "cell_type": "markdown",
      "metadata": {
        "id": "zo0mZHrOCICt"
      },
      "source": [
        "# Complex Functions\n",
        "# Chapter 1: Solutions to exercises\n",
        "\n",
        "<a href=\"https://samyzaf.com/technion/cfit/cf.pdf\">\n",
        "<img src=\"https://samyzaf.com/technion/cfit/cf1.jpg\" alt=\"ode book cover\"/>\n",
        "</a>\n",
        "\n",
        "* We used Python [**Sympy**](https://live.sympy.org)\n",
        "  package for obtaining the final\n",
        "  result for most of the exercises.\n",
        "  In some cases we used\n",
        "  [**ChatGPT**](https://chat.openai.com/chat)\n",
        "  application (version 3.0) to obtain\n",
        "  step-by-step solutions\n",
        "  which [**Sympy**](https://live.sympy.org)\n",
        "  is not yet able to give.\n",
        "* This package is still under development, and is not yet\n",
        "  ready to cope with all problems yet.\n",
        "  * Manual solutions are provided to some of the problems that cannot be\n",
        "    solved by the program. A link to a PDF solution is provided.\n",
        "* This notebook can be edited and executed by clicking\n",
        "  the **open in colab** button.\n",
        "* These are only a small number of solutions.\n",
        "  Hopefully this will encourage students to try to solve more\n",
        "  exercises with similar methods. We will be glad to accept notebooks\n",
        "  with solutions to other exercises in this book.\n",
        "  Please send them to sz@samyzaf.com."
      ]
    },
    {
      "cell_type": "code",
      "execution_count": null,
      "metadata": {
        "colab": {
          "base_uri": "https://localhost:8080/"
        },
        "id": "M6sQe4JlsK7u",
        "outputId": "cf1fd7a0-8c2b-4125-bb8d-deda74a891c7"
      },
      "outputs": [
        {
          "output_type": "stream",
          "name": "stdout",
          "text": [
            "Looking in indexes: https://pypi.org/simple, https://us-python.pkg.dev/colab-wheels/public/simple/\n",
            "Requirement already satisfied: sympy in /usr/local/lib/python3.8/dist-packages (1.7.1)\n",
            "Collecting sympy\n",
            "  Downloading sympy-1.11.1-py3-none-any.whl (6.5 MB)\n",
            "\u001b[2K     \u001b[90m━━━━━━━━━━━━━━━━━━━━━━━━━━━━━━━━━━━━━━━━\u001b[0m \u001b[32m6.5/6.5 MB\u001b[0m \u001b[31m56.8 MB/s\u001b[0m eta \u001b[36m0:00:00\u001b[0m\n",
            "\u001b[?25hRequirement already satisfied: mpmath>=0.19 in /usr/local/lib/python3.8/dist-packages (from sympy) (1.2.1)\n",
            "Installing collected packages: sympy\n",
            "  Attempting uninstall: sympy\n",
            "    Found existing installation: sympy 1.7.1\n",
            "    Uninstalling sympy-1.7.1:\n",
            "      Successfully uninstalled sympy-1.7.1\n",
            "Successfully installed sympy-1.11.1\n"
          ]
        }
      ],
      "source": [
        "%pip install --upgrade sympy"
      ]
    },
    {
      "cell_type": "code",
      "execution_count": null,
      "metadata": {
        "id": "QO4VgM1r1vEy"
      },
      "outputs": [],
      "source": [
        "from sympy import *\n",
        "from math import atan2\n",
        "from cmath import exp, rect, polar, pi, isclose\n",
        "from numpy import roots\n",
        "from IPython.display import HTML, IFrame"
      ]
    },
    {
      "cell_type": "markdown",
      "metadata": {
        "id": "YoIKr1sI4NRE"
      },
      "source": [
        "# Exercise 1.1.1\n",
        "\n",
        "$\\dfrac{1+2i}{3-4i} + \\dfrac{2-i}{5i}$"
      ]
    },
    {
      "cell_type": "code",
      "execution_count": null,
      "metadata": {
        "colab": {
          "base_uri": "https://localhost:8080/",
          "height": 37
        },
        "id": "QbDnEmqKHEyF",
        "outputId": "f31dcb7d-0304-46cb-f21c-015cd61b621d"
      },
      "outputs": [
        {
          "output_type": "execute_result",
          "data": {
            "text/plain": [
              "-0.400000000000000"
            ],
            "text/latex": "$\\displaystyle -0.4$"
          },
          "metadata": {},
          "execution_count": 3
        }
      ],
      "source": [
        "z1 = 1 + 2j\n",
        "z2 = 3 - 4j\n",
        "z3 = 2 - 1j\n",
        "z4 = 5j\n",
        "e = z1 / z2 + z3 / z4\n",
        "simplify(e)"
      ]
    },
    {
      "cell_type": "code",
      "execution_count": null,
      "metadata": {
        "colab": {
          "base_uri": "https://localhost:8080/",
          "height": 37
        },
        "id": "NZnh7uRSHpf3",
        "outputId": "034e5b9f-d282-4575-cfdd-596abf30d8ad"
      },
      "outputs": [
        {
          "output_type": "execute_result",
          "data": {
            "text/plain": [
              "-0.400000000000000"
            ],
            "text/latex": "$\\displaystyle -0.4$"
          },
          "metadata": {},
          "execution_count": 4
        }
      ],
      "source": [
        "expand(e)"
      ]
    },
    {
      "cell_type": "markdown",
      "metadata": {
        "id": "XsAHNlxoHEyG"
      },
      "source": [
        "* This was too quick\n",
        "* We can do it also step by step ..."
      ]
    },
    {
      "cell_type": "code",
      "execution_count": null,
      "metadata": {
        "colab": {
          "base_uri": "https://localhost:8080/"
        },
        "id": "oHsVbmg_SbWq",
        "outputId": "a900ecfc-ee98-4305-abf4-6cf28239d9a4"
      },
      "outputs": [
        {
          "output_type": "execute_result",
          "data": {
            "text/plain": [
              "(-0.2+0.4j)"
            ]
          },
          "metadata": {},
          "execution_count": 5
        }
      ],
      "source": [
        "z1 / z2"
      ]
    },
    {
      "cell_type": "code",
      "execution_count": null,
      "metadata": {
        "colab": {
          "base_uri": "https://localhost:8080/"
        },
        "id": "QpMUZecDHEyH",
        "outputId": "4329c19f-6b40-42c1-dbbe-6d53fcc61427"
      },
      "outputs": [
        {
          "output_type": "execute_result",
          "data": {
            "text/plain": [
              "(-0.2-0.4j)"
            ]
          },
          "metadata": {},
          "execution_count": 6
        }
      ],
      "source": [
        "z3 / z4"
      ]
    },
    {
      "cell_type": "markdown",
      "metadata": {
        "id": "3dQpqyO2HEyK",
        "tags": []
      },
      "source": [
        "# Exercise 1.1.2\n",
        "\n",
        "$\n",
        "\\dfrac{10i}{(1-i)(2-i)(3-i)}\n",
        "$"
      ]
    },
    {
      "cell_type": "code",
      "execution_count": null,
      "metadata": {
        "colab": {
          "base_uri": "https://localhost:8080/",
          "height": 37
        },
        "id": "CI7aPTFpHEyK",
        "outputId": "5fda6fed-71c0-45ed-ae30-a55e1866c296"
      },
      "outputs": [
        {
          "output_type": "execute_result",
          "data": {
            "text/plain": [
              "-1.00000000000000"
            ],
            "text/latex": "$\\displaystyle -1.0$"
          },
          "metadata": {},
          "execution_count": 7
        }
      ],
      "source": [
        "z1 = 10j\n",
        "z2 = 1 -1j\n",
        "z3 = 2 - 1j\n",
        "z4 = 3 - 1j\n",
        "e = z1 / (z2 * z3 * z4)\n",
        "simplify(e)"
      ]
    },
    {
      "cell_type": "markdown",
      "metadata": {
        "id": "ELN3i2-THEyM",
        "tags": []
      },
      "source": [
        "# Exercise 1.1.3\n",
        "\n",
        "$\n",
        "(1-i)^4\n",
        "$"
      ]
    },
    {
      "cell_type": "code",
      "execution_count": null,
      "metadata": {
        "colab": {
          "base_uri": "https://localhost:8080/",
          "height": 37
        },
        "id": "TH-RzNV7HEyM",
        "outputId": "20105b43-61ba-46df-867a-07fa2bb85430"
      },
      "outputs": [
        {
          "output_type": "execute_result",
          "data": {
            "text/plain": [
              "-4.00000000000000"
            ],
            "text/latex": "$\\displaystyle -4.0$"
          },
          "metadata": {},
          "execution_count": 8
        }
      ],
      "source": [
        "z = 1 - 1j\n",
        "simplify(z**4)"
      ]
    },
    {
      "cell_type": "markdown",
      "metadata": {
        "id": "b8h0nmIcHEyN",
        "tags": []
      },
      "source": [
        "# Exercise 1.1.4\n",
        "\n",
        "$\n",
        "(\\sqrt{3}+i)^{38}\n",
        "$"
      ]
    },
    {
      "cell_type": "code",
      "execution_count": null,
      "metadata": {
        "colab": {
          "base_uri": "https://localhost:8080/",
          "height": 51
        },
        "id": "WPq6svczHEyN",
        "outputId": "04bf9dd0-8d2e-4871-f82e-7bce160c84f9"
      },
      "outputs": [
        {
          "output_type": "execute_result",
          "data": {
            "text/plain": [
              "(sqrt(3) + 1.0*I)**38"
            ],
            "text/latex": "$\\displaystyle \\left(\\sqrt{3} + 1.0 i\\right)^{38}$"
          },
          "metadata": {},
          "execution_count": 9
        }
      ],
      "source": [
        "z = sqrt(3) + 1j\n",
        "simplify(z**38)"
      ]
    },
    {
      "cell_type": "code",
      "execution_count": null,
      "metadata": {
        "colab": {
          "base_uri": "https://localhost:8080/",
          "height": 40
        },
        "id": "1bLne04VSbWt",
        "outputId": "b47624ed-986d-4ce1-c1c1-648e2cf8b16e"
      },
      "outputs": [
        {
          "output_type": "execute_result",
          "data": {
            "text/plain": [
              "137438953472.0 + 137438953472.0*sqrt(3)*I"
            ],
            "text/latex": "$\\displaystyle 137438953472.0 + 137438953472.0 \\sqrt{3} i$"
          },
          "metadata": {},
          "execution_count": 10
        }
      ],
      "source": [
        "expand(z**38)"
      ]
    },
    {
      "cell_type": "code",
      "execution_count": null,
      "metadata": {
        "colab": {
          "base_uri": "https://localhost:8080/"
        },
        "id": "wQ7OyycLSbWt",
        "outputId": "54420cdd-3572-4874-c24c-94f37107dd44"
      },
      "outputs": [
        {
          "output_type": "execute_result",
          "data": {
            "text/plain": [
              "(1.9999999999999998, 0.5235987755982989)"
            ]
          },
          "metadata": {},
          "execution_count": 11
        }
      ],
      "source": [
        "polar(z)"
      ]
    },
    {
      "cell_type": "code",
      "execution_count": null,
      "metadata": {
        "colab": {
          "base_uri": "https://localhost:8080/",
          "height": 37
        },
        "id": "v5OspYY8SbWu",
        "outputId": "e709c479-bf74-418d-c9ca-dc934a4c6bbf"
      },
      "outputs": [
        {
          "output_type": "execute_result",
          "data": {
            "text/plain": [
              "2.00000000000000"
            ],
            "text/latex": "$\\displaystyle 2.0$"
          },
          "metadata": {},
          "execution_count": 12
        }
      ],
      "source": [
        "abs(z)"
      ]
    },
    {
      "cell_type": "code",
      "execution_count": null,
      "metadata": {
        "colab": {
          "base_uri": "https://localhost:8080/"
        },
        "id": "fCc8oI9mSbWu",
        "outputId": "1ea1548b-3956-46cc-bfb4-c3c2a602090d"
      },
      "outputs": [
        {
          "output_type": "execute_result",
          "data": {
            "text/plain": [
              "1.0471975511965965"
            ]
          },
          "metadata": {},
          "execution_count": 13
        }
      ],
      "source": [
        "(38 * pi/6) % (2*pi)"
      ]
    },
    {
      "cell_type": "markdown",
      "metadata": {
        "id": "X44-jpsPRIc-"
      },
      "source": [
        "Result should be: $2^38 e^{\\frac{i\\pi}{3}}$"
      ]
    },
    {
      "cell_type": "markdown",
      "metadata": {
        "id": "ifdZ-0l7HEyO",
        "tags": []
      },
      "source": [
        "# Exercise 1.1.5\n",
        "\n",
        "$\\sqrt[4]{1-i\\sqrt{3}}$"
      ]
    },
    {
      "cell_type": "code",
      "execution_count": null,
      "metadata": {
        "colab": {
          "base_uri": "https://localhost:8080/"
        },
        "id": "B9vhNYjqHEyO",
        "outputId": "ca6b15f7-3457-46b3-e1b1-c3b36069678d"
      },
      "outputs": [
        {
          "output_type": "stream",
          "name": "stdout",
          "text": [
            "(1+1.7320508075688772j)\n"
          ]
        }
      ],
      "source": [
        "z1 = complex(1, sqrt(3))\n",
        "z2 = z1 ** (1/4)\n",
        "print(z1)"
      ]
    },
    {
      "cell_type": "code",
      "execution_count": null,
      "metadata": {
        "colab": {
          "base_uri": "https://localhost:8080/"
        },
        "id": "4bsogfNBSbWv",
        "outputId": "f0700335-33c9-4e93-d48d-694f9a94e2ba"
      },
      "outputs": [
        {
          "output_type": "stream",
          "name": "stdout",
          "text": [
            "Module=1.9999999999999998, Argument=1.0471975511965976\n"
          ]
        }
      ],
      "source": [
        "r,t = polar(z1)\n",
        "print(f\"Module={r}, Argument={t}\")"
      ]
    },
    {
      "cell_type": "code",
      "execution_count": null,
      "metadata": {
        "colab": {
          "base_uri": "https://localhost:8080/"
        },
        "id": "EU8YRyNNSbWv",
        "outputId": "7a930b53-59b9-43e9-f0f3-c85d8e209aee"
      },
      "outputs": [
        {
          "output_type": "execute_result",
          "data": {
            "text/plain": [
              "True"
            ]
          },
          "metadata": {},
          "execution_count": 16
        }
      ],
      "source": [
        "isclose(t, pi/3)"
      ]
    },
    {
      "cell_type": "markdown",
      "metadata": {
        "id": "tpdaDQF3SbWw"
      },
      "source": [
        "* Looks like $z_1 = 2 e^{\\frac{i\\pi}{3}}$.\n",
        "* Hence $\\sqrt[4]{z_1} = \\sqrt[4]{2} e^{\\frac{i\\pi}{12}}$."
      ]
    },
    {
      "cell_type": "markdown",
      "metadata": {
        "id": "0z964DO6HEyP",
        "tags": []
      },
      "source": [
        "# Exercise 1.1.6\n",
        "\n",
        "$\\left(\\sqrt{2+\\sqrt{2}} + i\\sqrt{2-\\sqrt{2}}\\right)^4$"
      ]
    },
    {
      "cell_type": "code",
      "execution_count": null,
      "metadata": {
        "colab": {
          "base_uri": "https://localhost:8080/",
          "height": 39
        },
        "id": "rHSKpFRqHEyQ",
        "outputId": "1fbd66a8-80e9-4122-87ac-1bd8797dd24d"
      },
      "outputs": [
        {
          "output_type": "execute_result",
          "data": {
            "text/plain": [
              "-3.5527136788005e-15 + 16.0*I"
            ],
            "text/latex": "$\\displaystyle -3.5527136788005 \\cdot 10^{-15} + 16.0 i$"
          },
          "metadata": {},
          "execution_count": 17
        }
      ],
      "source": [
        "x = sqrt(2 + sqrt(2))\n",
        "y = sqrt(2 - sqrt(2))\n",
        "z = complex(x, y)\n",
        "simplify(z**4)"
      ]
    },
    {
      "cell_type": "markdown",
      "metadata": {
        "id": "SFsRlFyXHEyQ"
      },
      "source": [
        "* The real part is clearly 0.\n",
        "* Hence the final answer is $z^4 = 16i$."
      ]
    },
    {
      "cell_type": "code",
      "execution_count": null,
      "metadata": {
        "colab": {
          "base_uri": "https://localhost:8080/"
        },
        "id": "7O78sN8CSbWw",
        "outputId": "4fddcb39-11a0-4748-9213-f47126f83430"
      },
      "outputs": [
        {
          "output_type": "stream",
          "name": "stdout",
          "text": [
            "Module=2.0, Argument=0.3926990816987242\n"
          ]
        }
      ],
      "source": [
        "r,t = polar(z)\n",
        "print(f\"Module={r}, Argument={t}\")"
      ]
    },
    {
      "cell_type": "code",
      "execution_count": null,
      "metadata": {
        "colab": {
          "base_uri": "https://localhost:8080/"
        },
        "id": "OOFrqPbnSbWx",
        "outputId": "13a82a72-0242-45f1-bd78-006b56227853"
      },
      "outputs": [
        {
          "output_type": "execute_result",
          "data": {
            "text/plain": [
              "7.999999999999999"
            ]
          },
          "metadata": {},
          "execution_count": 19
        }
      ],
      "source": [
        "pi / t"
      ]
    },
    {
      "cell_type": "code",
      "execution_count": null,
      "metadata": {
        "colab": {
          "base_uri": "https://localhost:8080/"
        },
        "id": "9UUCcCvmSbWx",
        "outputId": "a9db98c1-c26e-4d4b-c0a5-7261beef615b"
      },
      "outputs": [
        {
          "output_type": "execute_result",
          "data": {
            "text/plain": [
              "True"
            ]
          },
          "metadata": {},
          "execution_count": 20
        }
      ],
      "source": [
        "isclose(t, pi/8)"
      ]
    },
    {
      "cell_type": "markdown",
      "metadata": {
        "id": "FF8pNyGPSbWx"
      },
      "source": [
        "* The last computations suggest that $z = 2 e^{\\frac{i\\pi}{8}}$.\n",
        "* But this is not a mathematical proof :-) It must be proven rigorously!\n",
        "* Hence $z^4 = 2^4 e^{\\frac{4i\\pi}{8}} = 16 e^{\\frac{i\\pi}{2}} = 16i$"
      ]
    },
    {
      "cell_type": "markdown",
      "metadata": {
        "id": "ORnYv0LxSbWx"
      },
      "source": [
        "### ChatGPT 3.0\n",
        "Here's a step-by-step simplification of\n",
        "$\\left(\\sqrt{2+\\sqrt{2}} + i\\sqrt{2-\\sqrt{2}}\\right)^4$:\n",
        "\n",
        "Square the real and imaginary parts:\n",
        "\n",
        "$\\left(\\sqrt{2+\\sqrt{2}} + i\\sqrt{2-\\sqrt{2}})^2 = (2+\\sqrt{2}) + 2i\\sqrt{2-\\sqrt{2}} + (2-\\sqrt{2}\\right)i^2 = 4 + 2\\sqrt{2} + 2\\sqrt{2}i^2$\n",
        "\n",
        "Square the result again:\n",
        "\n",
        "$\\left(\\sqrt{2+\\sqrt{2}} + i\\sqrt{2-\\sqrt{2}}\\right)^4 = (4 + 2\\sqrt{2} + 2\\sqrt{2}i^2)^2 = 16 + 16\\sqrt{2} + 8\\sqrt{2}i^2$\n",
        "\n",
        "Simplify the imaginary part:\n",
        "$8\\sqrt{2}i^2 = 8\\sqrt{2}(-1) = -8\\sqrt{2}$\n",
        "\n",
        "The final result is:\n",
        "$\\left(\\sqrt{2+\\sqrt{2}} + i\\sqrt{2-\\sqrt{2}}\\right)^4 = 16 + 16\\sqrt{2} - 8\\sqrt{2} = 16$"
      ]
    },
    {
      "cell_type": "markdown",
      "metadata": {
        "id": "Mlye4uLiSbWy",
        "tags": []
      },
      "source": [
        "# Exercise 1.2\n",
        "Simplify the following expression to the form $x+iy$\n",
        "\n",
        "$\\dfrac{a+ib}{a-ib} - \\dfrac{a-ib}{a+ib}$"
      ]
    },
    {
      "cell_type": "code",
      "execution_count": null,
      "metadata": {
        "colab": {
          "base_uri": "https://localhost:8080/",
          "height": 53
        },
        "id": "rlt-g3ZZSbWy",
        "outputId": "00d20bf9-6f51-4f3f-abe9-94a476a8bd24"
      },
      "outputs": [
        {
          "output_type": "execute_result",
          "data": {
            "text/plain": [
              "4.0*I*a*b/(a**2 + b**2)"
            ],
            "text/latex": "$\\displaystyle \\frac{4.0 i a b}{a^{2} + b^{2}}$"
          },
          "metadata": {},
          "execution_count": 21
        }
      ],
      "source": [
        "a, b = symbols(\"a b\", real=True)\n",
        "z1 = a + b * (1j)\n",
        "z2 = a - b * (1j)\n",
        "e = z1 / z2 - z2 / z1\n",
        "simplify(e)"
      ]
    },
    {
      "cell_type": "markdown",
      "metadata": {
        "id": "GCPM2he8SbWy"
      },
      "source": [
        "* This is of course only the final answer.\n",
        "* The sutudent is still required to come up with a formal proof!\n",
        "* In some cases, ChatGPT can give a correct answer. But you need to provide a lot of help!\n",
        "* In this case we told ChatGPT that the final answer is $\\frac{4 i a b}{a^{2} + b^{2}}$,\n",
        "  and it provided the steps to get this answer!"
      ]
    },
    {
      "cell_type": "markdown",
      "metadata": {
        "id": "CSEnl49JSbWy"
      },
      "source": [
        "### ChatGPT 3.0 ANSWER\n",
        "The expression can be simplified as follows:\n",
        "\\begin{align*}\n",
        "\\frac{a+ib}{a-ib} - \\frac{a-ib}{a+ib} &= \\frac{(a+ib)(a+ib) - (a-ib)(a-ib)}{(a-ib)(a+ib)} \\\\\n",
        "&= \\frac{a^2 + 2iab + b^2 - (a^2 - 2iab + b^2)}{(a^2 + b^2)} \\\\\n",
        "&= \\frac{4iab}{(a^2 + b^2)} \\\\\n",
        "\\end{align*}\n",
        "Hence, the expression can be reduced to $\\frac{4abi}{a^2 + b^2}$."
      ]
    },
    {
      "cell_type": "markdown",
      "metadata": {
        "id": "JDnptxuGSbWz",
        "tags": []
      },
      "source": [
        "# Exercise 1.3.1\n",
        "Find all roots of\n",
        "\n",
        "$z^2 +\\sqrt{32}z - 6i = 0$"
      ]
    },
    {
      "cell_type": "code",
      "execution_count": null,
      "metadata": {
        "colab": {
          "base_uri": "https://localhost:8080/"
        },
        "id": "_V1fWSQNSbWz",
        "outputId": "79f71b33-807b-4779-a4f6-374a034e3e77"
      },
      "outputs": [
        {
          "output_type": "execute_result",
          "data": {
            "text/plain": [
              "[-5.82842712474619 - 1.0*I, 0.17157287525381 + 1.0*I]"
            ]
          },
          "metadata": {},
          "execution_count": 22
        }
      ],
      "source": [
        "z = symbols(\"z\", complex=True)\n",
        "eq = z**2 + sqrt(32) * z - 6*I\n",
        "nroots(eq)"
      ]
    },
    {
      "cell_type": "markdown",
      "metadata": {
        "id": "t3w9B181SbWz"
      },
      "source": [
        "* Note that **Sympy** is using **I** as the name of the imaginary unit $i$\n",
        "* The roots are given in a **numeric form** while the student has to find the **symbolic form** ...\n",
        "* In this case we can find the symbolic roots by using the well known formula for the quadratic equation\n",
        "\n",
        "$\n",
        "\\qquad\n",
        "z_1, z_2\n",
        "=\n",
        "\\frac{-b \\pm \\sqrt{b^2 - 4ac}}{2a}\n",
        "=\n",
        "\\frac{-\\sqrt{32} \\pm \\sqrt{32 + 24i}}{2}\n",
        "$\n",
        "\n",
        "* The square root of $32 + 24i$ can be easily computed by"
      ]
    },
    {
      "cell_type": "code",
      "execution_count": null,
      "metadata": {
        "colab": {
          "base_uri": "https://localhost:8080/"
        },
        "id": "2zYVvhaaSbWz",
        "outputId": "6f82d3c5-385e-4111-dfd4-f1158bf74e9c"
      },
      "outputs": [
        {
          "output_type": "execute_result",
          "data": {
            "text/plain": [
              "(6+2j)"
            ]
          },
          "metadata": {},
          "execution_count": 23
        }
      ],
      "source": [
        "complex(sqrt(32 + 24j))"
      ]
    },
    {
      "cell_type": "markdown",
      "metadata": {
        "id": "c0Bx-ayiSbWz"
      },
      "source": [
        "* Therefore we get (ChatGPT helped)\n",
        "\n",
        "$\\qquad\n",
        "z_1, z_2\n",
        "=\n",
        "\\frac{-\\sqrt{32} \\pm \\sqrt{32 + 24i}}{2}\n",
        "=\n",
        "\\frac{-\\sqrt{32} \\pm (6+2i)}{2}\n",
        "=\n",
        "\\frac{-\\sqrt{32} - 6 - 2i)}{2},\\ \n",
        "\\frac{-\\sqrt{32} + 6+2i}{2}\n",
        "=\n",
        "-\\sqrt{8} - 3 -i,\\ -\\sqrt{8} + 3 +i\n",
        "$"
      ]
    },
    {
      "cell_type": "markdown",
      "metadata": {
        "id": "BTKobQczSbW0",
        "tags": []
      },
      "source": [
        "# Exercise 1.3.2\n",
        "Solve\n",
        "\n",
        "$z^2=\\overline{z}$"
      ]
    },
    {
      "cell_type": "code",
      "execution_count": null,
      "metadata": {
        "colab": {
          "base_uri": "https://localhost:8080/"
        },
        "id": "UGvk_3D2SbW0",
        "outputId": "5bb62136-6b82-4816-e89d-d6ee6c842319"
      },
      "outputs": [
        {
          "output_type": "execute_result",
          "data": {
            "text/plain": [
              "[]"
            ]
          },
          "metadata": {},
          "execution_count": 24
        }
      ],
      "source": [
        "x,y = symbols(\"x y\", real=True)\n",
        "eq = (x + y*I)**2 - x + y*I\n",
        "solve(eq, 0)"
      ]
    },
    {
      "cell_type": "code",
      "execution_count": null,
      "metadata": {
        "colab": {
          "base_uri": "https://localhost:8080/",
          "height": 39
        },
        "id": "SGaxIkYWSbW0",
        "outputId": "a76fa557-e189-45f5-8efa-5e13e4f92ec7"
      },
      "outputs": [
        {
          "output_type": "execute_result",
          "data": {
            "text/plain": [
              "x**2 + 2*I*x*y - y**2"
            ],
            "text/latex": "$\\displaystyle x^{2} + 2 i x y - y^{2}$"
          },
          "metadata": {},
          "execution_count": 25
        }
      ],
      "source": [
        "expand((x + y*I)**2)"
      ]
    },
    {
      "cell_type": "markdown",
      "metadata": {
        "id": "RhvlbLneSbW0"
      },
      "source": [
        "$x^2 -y^2 = x$\n",
        "\n",
        "$2xy = -y$\n",
        "\n",
        "$x=-\\frac{1}{2}$, $y=\\frac{\\sqrt{3}}{2}$\n",
        "\n",
        "$x=0,1$, $y=0$"
      ]
    },
    {
      "cell_type": "markdown",
      "metadata": {
        "id": "zV3Q4im9HEyR",
        "tags": []
      },
      "source": [
        "# Exercise 1.3.5\n",
        "Solve equation\n",
        "\n",
        "$z^3=2iz$"
      ]
    },
    {
      "cell_type": "code",
      "execution_count": null,
      "metadata": {
        "colab": {
          "base_uri": "https://localhost:8080/"
        },
        "id": "Ax0RmdERHEyR",
        "outputId": "b8bd8820-d718-4aee-8aa3-5bd1a1747a4b"
      },
      "outputs": [
        {
          "output_type": "execute_result",
          "data": {
            "text/plain": [
              "[0, -1.0 - 1.0*I, 1.0 + 1.0*I]"
            ]
          },
          "metadata": {},
          "execution_count": 26
        }
      ],
      "source": [
        "z = symbols(\"z\", complex=True)\n",
        "eq = z**3 - 2*I*z\n",
        "nroots(eq)"
      ]
    },
    {
      "cell_type": "markdown",
      "metadata": {
        "id": "7P-FQPPUSbW1"
      },
      "source": [
        "* To get a better display of this result we use:"
      ]
    },
    {
      "cell_type": "code",
      "execution_count": null,
      "metadata": {
        "colab": {
          "base_uri": "https://localhost:8080/",
          "height": 81
        },
        "id": "M7NTR6liSbW1",
        "outputId": "b13eba3d-ef82-477a-9921-84dfc713ca95"
      },
      "outputs": [
        {
          "output_type": "display_data",
          "data": {
            "text/plain": [
              "0"
            ],
            "text/latex": "$\\displaystyle 0$"
          },
          "metadata": {}
        },
        {
          "output_type": "display_data",
          "data": {
            "text/plain": [
              "-1.0 - 1.0*I"
            ],
            "text/latex": "$\\displaystyle -1.0 - 1.0 i$"
          },
          "metadata": {}
        },
        {
          "output_type": "display_data",
          "data": {
            "text/plain": [
              "1.0 + 1.0*I"
            ],
            "text/latex": "$\\displaystyle 1.0 + 1.0 i$"
          },
          "metadata": {}
        }
      ],
      "source": [
        "for r in nroots(eq):\n",
        "    display(r)"
      ]
    },
    {
      "cell_type": "markdown",
      "metadata": {
        "id": "K_s94S5KSbW1"
      },
      "source": [
        "#### Checking ..."
      ]
    },
    {
      "cell_type": "code",
      "execution_count": null,
      "metadata": {
        "colab": {
          "base_uri": "https://localhost:8080/"
        },
        "id": "jhkOri5ySbW1",
        "outputId": "6f7c53ca-cece-4c1f-f642-f08edf767281"
      },
      "outputs": [
        {
          "output_type": "execute_result",
          "data": {
            "text/plain": [
              "(4.727285052306297e-125+4.727285052306297e-125j)"
            ]
          },
          "metadata": {},
          "execution_count": 28
        }
      ],
      "source": [
        "complex(eq.subs(z, 1+1j))"
      ]
    },
    {
      "cell_type": "markdown",
      "metadata": {
        "id": "FxX4A5CaSbW1"
      },
      "source": [
        "This looks like 0+0i"
      ]
    },
    {
      "cell_type": "markdown",
      "metadata": {
        "id": "tbi4Sdn4M_XL"
      },
      "source": [
        "### [Link to step-by-step-solution](https://samyzaf.com/technion/cfit/sol/chap1.3.5.pdf)"
      ]
    },
    {
      "cell_type": "markdown",
      "source": [
        "<iframe src=\"https://samyzaf.com/technion/cfit/sol/chap1.3.5.pdf\" width=800 height=400></iframe>"
      ],
      "metadata": {
        "id": "orVockrndPei"
      }
    },
    {
      "cell_type": "code",
      "execution_count": null,
      "metadata": {
        "colab": {
          "base_uri": "https://localhost:8080/",
          "height": 421
        },
        "id": "Yi9Gplrg-sbi",
        "outputId": "45449bc8-942c-4eed-c84d-8b9e578c402d"
      },
      "outputs": [
        {
          "output_type": "execute_result",
          "data": {
            "text/plain": [
              "<IPython.lib.display.IFrame at 0x7f91673d2a90>"
            ],
            "text/html": [
              "\n",
              "        <iframe\n",
              "            width=\"100%\"\n",
              "            height=\"400\"\n",
              "            src=\"https://samyzaf.com/technion/cfit/sol/chap1.3.5.pdf\"\n",
              "            frameborder=\"0\"\n",
              "            allowfullscreen\n",
              "        ></iframe>\n",
              "        "
            ]
          },
          "metadata": {},
          "execution_count": 43
        }
      ],
      "source": [
        "#IFrame(\"https://samyzaf.com/technion/cfit/sol/chap1.3.5.pdf\", width=\"100%\", height=\"400\")"
      ]
    },
    {
      "cell_type": "markdown",
      "metadata": {
        "id": "e_MKYEirSbW2",
        "tags": []
      },
      "source": [
        "# Exercise 1.3.6\n",
        "Solve equation\n",
        "\n",
        "$z^n=\\overline{z} \\quad (n=1,2,3,\\ldots)$"
      ]
    },
    {
      "cell_type": "markdown",
      "metadata": {
        "id": "deJcp_I4SbW2"
      },
      "source": [
        "### [Link to step-by-step-solution](https://samyzaf.com/technion/cfit/sol/chap1.3.6.pdf)"
      ]
    },
    {
      "cell_type": "markdown",
      "metadata": {
        "id": "KTAnjBA6SbW2"
      },
      "source": [
        "### ChatGPT (probably incorrect?)\n",
        "The equation $z^n = \\overline{z}$ can be solved by expressing $z$ in polar form, $z = r e^{i\\theta}$, where $r \\ge 0$ is the magnitude of $z$ and $0 \\le \\theta < 2\\pi$ is the argument of $z$. Substituting into the equation $z^n = \\overline{z}$ yields:\n",
        "\n",
        "\\begin{align*}\n",
        "r^n e^{in\\theta} &= r e^{-i\\theta} \\\\\n",
        "r^{n-1} &= 1 \\\\\n",
        "r &= 1\n",
        "\\end{align*}\n",
        "\n",
        "Since $0 \\le \\theta < 2\\pi$, we have the following solutions:\n",
        "\n",
        "\\begin{align*}\n",
        "z &= e^{i \\left( \\frac{2\\pi k}{n} \\right)} \\\\\n",
        "&= \\cos \\left( \\frac{2\\pi k}{n} \\right) + i \\sin \\left( \\frac{2\\pi k}{n} \\right)\n",
        "\\end{align*}\n",
        "where $k \\in \\mathbb{Z}$ and $0 \\le k < n$.\n",
        "\n",
        "Thus, the solutions to the equation $z^n = \\overline{z}$ in polar form are\n",
        "$z = \\cos \\left( \\frac{2\\pi k}{n} \\right) + i \\sin \\left( \\frac{2\\pi k}{n} \\right)$\n",
        "for $k \\in \\mathbb{Z}$ and $0 \\le k < n$.\n",
        "\n",
        "### Comment:\n",
        "Not sure about this.\n",
        "The previous solution is more reliable."
      ]
    },
    {
      "cell_type": "markdown",
      "metadata": {
        "id": "qYkHSdP4SbW2",
        "tags": []
      },
      "source": [
        "# Exercise 1.3.7\n",
        "Solve equation\n",
        "\n",
        "$z^2=|z|^2-4$"
      ]
    },
    {
      "cell_type": "markdown",
      "metadata": {
        "id": "M2TV3OBxSbW2"
      },
      "source": [
        "### [Link to step-by-step-solution](https://samyzaf.com/technion/cfit/sol/chap1.3.7.pdf)"
      ]
    },
    {
      "cell_type": "markdown",
      "metadata": {
        "id": "nbzL80OUSbW3",
        "tags": []
      },
      "source": [
        "# Exercise 1.4.1\n",
        "Solve equation\n",
        "\n",
        "$Re(z^2)=Im(z^2)$"
      ]
    },
    {
      "cell_type": "markdown",
      "metadata": {
        "id": "_B-UzXisSbW3"
      },
      "source": [
        "* Full solution to this problem in the following link."
      ]
    },
    {
      "cell_type": "markdown",
      "metadata": {
        "id": "9CFOmrahSbW3"
      },
      "source": [
        "### [Link to step-by-step-solution](https://samyzaf.com/technion/cfit/sol/chap1.4.1.pdf)"
      ]
    },
    {
      "cell_type": "markdown",
      "metadata": {
        "id": "o9fq_z3USbW3",
        "tags": []
      },
      "source": [
        "# Exercise 1.4.3\n",
        "Solve equation\n",
        "\n",
        "$\\arg{\\frac{z}{z-1}} = \\frac{\\pi}{2}$"
      ]
    },
    {
      "cell_type": "markdown",
      "metadata": {
        "id": "5pCbqCN9SbW3"
      },
      "source": [
        "* Full solution to this problem in the following link."
      ]
    },
    {
      "cell_type": "markdown",
      "metadata": {
        "id": "hzRRxZpWSbW3"
      },
      "source": [
        "### [Link to step-by-step-solution](https://samyzaf.com/technion/cfit/sol/chap1.4.3.pdf)"
      ]
    },
    {
      "cell_type": "markdown",
      "metadata": {
        "id": "I1NmpP5ZSbW4"
      },
      "source": [
        "* It is advised to run several checks to test the final resut ..."
      ]
    },
    {
      "cell_type": "code",
      "execution_count": null,
      "metadata": {
        "colab": {
          "base_uri": "https://localhost:8080/",
          "height": 47
        },
        "id": "VAcV_c7iSbW4",
        "outputId": "e12d1a57-c5f0-41b1-f8d6-36a0b5fca16e"
      },
      "outputs": [
        {
          "output_type": "execute_result",
          "data": {
            "text/plain": [
              "pi/2"
            ],
            "text/latex": "$\\displaystyle \\frac{\\pi}{2}$"
          },
          "metadata": {},
          "execution_count": 31
        }
      ],
      "source": [
        "z = 0.5 - 0.5j\n",
        "arg(z/(z-1))"
      ]
    },
    {
      "cell_type": "code",
      "execution_count": null,
      "metadata": {
        "colab": {
          "base_uri": "https://localhost:8080/",
          "height": 47
        },
        "id": "oX3PUkv3SbW4",
        "outputId": "bba887ef-f8ec-41b7-9c2f-1acba69df52a"
      },
      "outputs": [
        {
          "output_type": "execute_result",
          "data": {
            "text/plain": [
              "-pi/2"
            ],
            "text/latex": "$\\displaystyle - \\frac{\\pi}{2}$"
          },
          "metadata": {},
          "execution_count": 32
        }
      ],
      "source": [
        "x = 0.87\n",
        "y = (0.25 - (x-0.5)**2)**0.5\n",
        "z = complex(x,y)\n",
        "arg(z/(z-1))         # Upper circle! Not supposed to be a solution"
      ]
    },
    {
      "cell_type": "code",
      "execution_count": null,
      "metadata": {
        "colab": {
          "base_uri": "https://localhost:8080/",
          "height": 47
        },
        "id": "O_0Em4R6SbW4",
        "outputId": "fd4a0c72-626d-4395-f05c-e11d13a960f1"
      },
      "outputs": [
        {
          "output_type": "execute_result",
          "data": {
            "text/plain": [
              "pi/2"
            ],
            "text/latex": "$\\displaystyle \\frac{\\pi}{2}$"
          },
          "metadata": {},
          "execution_count": 33
        }
      ],
      "source": [
        "x = 0.87\n",
        "y = -(0.25 - (x-0.5)**2)**0.5\n",
        "z = complex(x,y)\n",
        "#print(z)\n",
        "arg(z/(z-1))         # Lower circle! Supposed to be a solution!"
      ]
    },
    {
      "cell_type": "markdown",
      "metadata": {
        "id": "CZugh73gSbW4",
        "tags": []
      },
      "source": [
        "# Exercise 1.5\n",
        "$z_1=2+i$ is one root of\n",
        "$z^4-6z^3+16z^2-22z+k=0$,\n",
        "where $k$ is an integer.\n",
        "\n",
        "Find all roots and values of $k$."
      ]
    },
    {
      "cell_type": "markdown",
      "metadata": {
        "id": "RktEC18TSbW5"
      },
      "source": [
        "### Solution\n",
        "\n",
        "* Plug the root $z=z_1=2+i$ in the equation $z^4-6z^3+16z^2-22z+k=0$ ."
      ]
    },
    {
      "cell_type": "code",
      "execution_count": null,
      "metadata": {
        "colab": {
          "base_uri": "https://localhost:8080/",
          "height": 40
        },
        "id": "pKA9gCFLSbW5",
        "outputId": "719c6c29-e49f-4e52-e582-37f3f0e1bac9"
      },
      "outputs": [
        {
          "output_type": "display_data",
          "data": {
            "text/plain": [
              "k - 44.0 - 6*(2.0 + 1.0*I)**3 - 22.0*I + (2.0 + 1.0*I)**4 + 16*(2.0 + 1.0*I)**2"
            ],
            "text/latex": "$\\displaystyle k - 44.0 - 6 \\left(2.0 + 1.0 i\\right)^{3} - 22.0 i + \\left(2.0 + 1.0 i\\right)^{4} + 16 \\left(2.0 + 1.0 i\\right)^{2}$"
          },
          "metadata": {}
        }
      ],
      "source": [
        "z = symbols(\"z\", complex=True)\n",
        "k = symbols(\"k\", integer=True)\n",
        "p = z**4 - 6*z**3 + 16*z**2 - 22*z + k\n",
        "z1 = 2 + 1j\n",
        "eq = p.subs(z, z1)\n",
        "display(eq)"
      ]
    },
    {
      "cell_type": "code",
      "execution_count": null,
      "metadata": {
        "colab": {
          "base_uri": "https://localhost:8080/",
          "height": 37
        },
        "id": "QjxCc0FKFM0E",
        "outputId": "3a5dd935-cb91-4241-a2de-be7a1356b1cf"
      },
      "outputs": [
        {
          "output_type": "execute_result",
          "data": {
            "text/plain": [
              "15.0000000000000"
            ],
            "text/latex": "$\\displaystyle 15.0$"
          },
          "metadata": {},
          "execution_count": 35
        }
      ],
      "source": [
        "nsolve(eq, 0)"
      ]
    },
    {
      "cell_type": "markdown",
      "metadata": {
        "id": "_gP0ntp2SbW5"
      },
      "source": [
        "* In order for $z_1$ to be a root we must have $k=15$.\n",
        "* Since all coeficients of our polynomial are real, $z_2 = 2 - i$ is also a root!\n",
        "* To get the other two solutions we divide $p$ by $(z-z_1)(z-z_2)$"
      ]
    },
    {
      "cell_type": "code",
      "execution_count": null,
      "metadata": {
        "colab": {
          "base_uri": "https://localhost:8080/",
          "height": 59
        },
        "id": "oYL3ZGuNSbW5",
        "outputId": "6e5ed11a-626b-470b-bff0-f7672ecffbab"
      },
      "outputs": [
        {
          "output_type": "display_data",
          "data": {
            "text/plain": [
              "1.0*z**2 - 2.0*z + 3.0"
            ],
            "text/latex": "$\\displaystyle 1.0 z^{2} - 2.0 z + 3.0$"
          },
          "metadata": {}
        },
        {
          "output_type": "display_data",
          "data": {
            "text/plain": [
              "0"
            ],
            "text/latex": "$\\displaystyle 0$"
          },
          "metadata": {}
        }
      ],
      "source": [
        "p = z**4 - 6*z**3 + 16*z**2 - 22*z + 15\n",
        "z1 = 2 + 1j\n",
        "z2 = 2 - 1j\n",
        "q, r = div(p, (z-z1)*(z-z2), domain=\"CC\") \n",
        "display(q)\n",
        "display(r)"
      ]
    },
    {
      "cell_type": "code",
      "execution_count": null,
      "metadata": {
        "colab": {
          "base_uri": "https://localhost:8080/"
        },
        "id": "cb4FMciZFM0F",
        "outputId": "434537d7-b23c-45da-8af1-2c166a8ef899"
      },
      "outputs": [
        {
          "output_type": "execute_result",
          "data": {
            "text/plain": [
              "[1.0 - 1.4142135623731*I, 1.0 + 1.4142135623731*I]"
            ]
          },
          "metadata": {},
          "execution_count": 37
        }
      ],
      "source": [
        "nroots(q)"
      ]
    },
    {
      "cell_type": "markdown",
      "metadata": {
        "id": "pMiScsjrSbW5"
      },
      "source": [
        "* The other roots are:"
      ]
    },
    {
      "cell_type": "code",
      "execution_count": null,
      "metadata": {
        "colab": {
          "base_uri": "https://localhost:8080/",
          "height": 61
        },
        "id": "yEM0o8AOSbW6",
        "outputId": "2986bf14-6348-41fd-890a-b7b668bfa710"
      },
      "outputs": [
        {
          "output_type": "display_data",
          "data": {
            "text/plain": [
              "1.0 - 1.4142135623731*I"
            ],
            "text/latex": "$\\displaystyle 1.0 - 1.4142135623731 i$"
          },
          "metadata": {}
        },
        {
          "output_type": "display_data",
          "data": {
            "text/plain": [
              "1.0 + 1.4142135623731*I"
            ],
            "text/latex": "$\\displaystyle 1.0 + 1.4142135623731 i$"
          },
          "metadata": {}
        }
      ],
      "source": [
        "for r in nroots(q):\n",
        "    display(r)"
      ]
    },
    {
      "cell_type": "code",
      "execution_count": null,
      "metadata": {
        "colab": {
          "base_uri": "https://localhost:8080/"
        },
        "id": "pU2JB1Y4SbW6",
        "outputId": "563308cb-278e-4a5d-a807-014700941614"
      },
      "outputs": [
        {
          "output_type": "execute_result",
          "data": {
            "text/plain": [
              "True"
            ]
          },
          "metadata": {},
          "execution_count": 39
        }
      ],
      "source": [
        "isclose(1.4142135623731, sqrt(2))"
      ]
    },
    {
      "cell_type": "markdown",
      "metadata": {
        "id": "7HA_INihSbW6"
      },
      "source": [
        "Final answer:\n",
        "\n",
        "$k=15$\n",
        "\n",
        "$z_1 = 2 + i$\n",
        "\n",
        "$z_2 = 2 - i$\n",
        "\n",
        "$z_3 = 1 - \\sqrt{2}\\,i$\n",
        "\n",
        "$z_4 = 1 + \\sqrt{2}\\,i$"
      ]
    },
    {
      "cell_type": "markdown",
      "metadata": {
        "id": "2WbLRqQfSbW6"
      },
      "source": [
        "* This is only a numerical solution.\n",
        "* The student is still required to perform a rigorous polynomial division.\n",
        "* You can find how to do it in many places like:\n",
        "[How to divide polynomials?](https://www.geeksforgeeks.org/how-to-divide-polynomials)"
      ]
    },
    {
      "cell_type": "markdown",
      "metadata": {
        "id": "RY8NXGh0SbW6",
        "tags": []
      },
      "source": [
        "# Exercise 1.6\n",
        "Prove the formula\n",
        "\n",
        "$\\arg(z/w) = \\arg(z) - \\arg(w)$\n",
        "\n",
        "$z,w \\neq 0$"
      ]
    },
    {
      "cell_type": "markdown",
      "metadata": {
        "id": "No9dgeGIFM0G"
      },
      "source": [
        "### Solution\n",
        "\n",
        "$z=r(\\cos\\theta+i\\sin\\theta),\\>\\>\\>\\>\\>w=p(\\cos\\beta+i\\sin\\beta)$\n",
        "\n",
        "$\\frac zw = \\frac rp \\frac {\\cos\\theta+i\\sin\\theta}{\\cos\\beta+i\\sin\\beta}$\n",
        "\n",
        "$=\\frac rp \\frac {(\\cos\\theta+i\\sin\\theta)(\\cos\\beta-i\\sin\\beta)}\n",
        "{(\\cos\\beta+i\\sin\\beta)(\\cos\\beta-i\\sin\\beta)}$\n",
        "\n",
        "$=\\frac rp \\frac {(\\cos\\theta\\cos\\beta+\\sin\\theta\\sin\\beta)+i(\\sin\\theta\\cos\\beta-\\cos\\theta\\sin\\beta)}\n",
        "{\\cos^2\\beta+\\sin^2\\beta}$\n",
        "\n",
        "$=\\frac rp [ \\cos(\\theta-\\beta)+i\\sin(\\theta-\\beta)]$\n",
        "\n",
        "$\\arg(\\frac{z}{w})=\\arg(z)-\\arg(w)$\n",
        "\n",
        "### Sources\n",
        "\n",
        "* [Math Stackexchange](https://math.stackexchange.com/questions/3448455/prove-that-arg-fracz-1z-2-argz-1-argz-2)"
      ]
    },
    {
      "cell_type": "markdown",
      "metadata": {
        "id": "5NDLM5UzFM0G"
      },
      "source": [
        "### ChatGPT\n",
        "\n",
        "The formula $\\arg(z/w) = \\arg(z) - \\arg(w)$ for $z,w \\neq 0$ can be proven by using the polar form of complex numbers.\n",
        "\n",
        "Given $z = r_z\\text{cis}(\\theta_z)$ and $w = r_w\\text{cis}(\\theta_w)$, where $r_z, r_w$ are the magnitudes and $\\theta_z, \\theta_w$ are the arguments of $z$ and $w$, respectively.\n",
        "\n",
        "Then $z/w = \\frac{r_z\\text{cis}(\\theta_z)}{r_w\\text{cis}(\\theta_w)} = \\frac{r_z}{r_w} \\text{cis}(\\theta_z - \\theta_w)$.\n",
        "\n",
        "The argument of $z/w$ is $\\theta_z - \\theta_w$. Hence, $\\arg(z/w) = \\arg(z) - \\arg(w)$."
      ]
    },
    {
      "cell_type": "markdown",
      "metadata": {
        "id": "M2QNNGgCFM0G",
        "tags": []
      },
      "source": [
        "# Exercise 1.7\n",
        "Use the formula\n",
        "$\\arg{z_1/z_2} = \\arg{z_1} - \\arg{z_2}$\n",
        "to calculate the angles of the triangle whose vertices are $z_1$, $z_2$, $z_3$."
      ]
    },
    {
      "cell_type": "markdown",
      "metadata": {
        "id": "y-3iKYDeSbW6"
      },
      "source": [
        "* Full solution to this problem in the following link."
      ]
    },
    {
      "cell_type": "markdown",
      "metadata": {
        "id": "3pPDnVPwSbW7"
      },
      "source": [
        "### [Link to step-by-step-solution](https://samyzaf.com/technion/cfit/sol/chap1.7.pdf)"
      ]
    },
    {
      "cell_type": "markdown",
      "metadata": {
        "id": "d4wRQkgGFM0H",
        "tags": []
      },
      "source": [
        "# Exercise 1.8\n",
        "Formula for the area of a parallelogram generated by $z_1$, $z_2$ "
      ]
    },
    {
      "cell_type": "markdown",
      "metadata": {
        "id": "dMb2kAHx-sbn"
      },
      "source": [
        "### [Link to step-by-step-solution](https://samyzaf.com/technion/cfit/sol/chap1.8.pdf)"
      ]
    },
    {
      "cell_type": "markdown",
      "metadata": {
        "id": "KHMjSXVqSbW7",
        "tags": []
      },
      "source": [
        "# Exercise 1.9\n",
        "Prove the parallelogram equality for complex numbers\n",
        "\n",
        "$|z_1 + z_2|^2 + |z_1 - z_2|^2 = 2(|z_1|^2 + |z_2|^2)$"
      ]
    },
    {
      "cell_type": "markdown",
      "metadata": {
        "id": "AM86zkYlSbW7"
      },
      "source": [
        "### ChatGPT\n",
        "The parallelogram equality can be proven as follows:\n",
        "\n",
        "Starting with the left-hand side:\n",
        "\n",
        "\\begin{align*}\n",
        "\t|z_1+z_2|^2+|z_1-z_2|^2&=(z_1+z_2)(\\overline{z_1+z_2})+(z_1-z_2)(\\overline{z_1-z_2})\\\\\n",
        "\t&=(z_1+z_2)(\\overline{z_1}+\\overline{z_2})+(z_1-z_2)(\\overline{z_1}-\\overline{z_2})\\\\\n",
        "\t&=z_1\\overline{z_1}+z_2\\overline{z_2}+z_1\\overline{z_2}+\\overline{z_1}z_2+z_1\\overline{z_1}+z_2\\overline{z_2}-z_1\\overline{z_2}-\\overline{z_1}z_2\\\\\n",
        "\t&=2z_1\\overline{z_1}+2z_2\\overline{z_2}\\\\\n",
        "&=2|z_1|^2+2|z_2|^2\\\\\n",
        "\t&=2(|z_1|^2+|z_2|^2).\n",
        "\\end{align*}\n",
        "\n",
        "And the parallelogram equality is proven."
      ]
    },
    {
      "cell_type": "markdown",
      "metadata": {
        "id": "AyQd8q3QSbW7",
        "tags": []
      },
      "source": [
        "# Exercise 1.13\n",
        "Prove that for every $z$,\n",
        "$|Re(z)| + |Im(z)| \\leq \\sqrt{2}|z|$"
      ]
    },
    {
      "cell_type": "markdown",
      "metadata": {
        "id": "Ik5iAtdSSbW7"
      },
      "source": [
        "### Solution\n",
        "\n",
        "$(\\sqrt{2}|z|)^2=2|z|^2=2x^2+2y^2$\n",
        "\n",
        "$(|\\operatorname{Re}z|+|\\operatorname{Im}z|)^2=(|x|+|y|)^2=x^2+y^2+2|xy|$\n",
        "\n",
        "$(\\sqrt{2}|z|)^2-(|\\operatorname{Re}z|+|\\operatorname{Im}z|)^2=x^2+y^2-2|xy|=(|x|-|y|)^2\\geq 0$\n",
        "\n",
        "Hence: $\\sqrt{2}|z|\\geq |\\operatorname{Re}z|+|\\operatorname{Im}z|$\n",
        "\n",
        "Source: [Math Exchange](https://math.stackexchange.com/questions/116457/how-does-one-prove-sqrt2z-geq-operatornamerez-operatornameimz-h)"
      ]
    },
    {
      "cell_type": "markdown",
      "metadata": {
        "id": "M6JZIpPYSbW8",
        "tags": []
      },
      "source": [
        "# Exercise 1.14\n",
        "Prove that for every real number $x$,\n",
        "$\\left|\\frac{x-i}{x+i}\\right| = 1$"
      ]
    },
    {
      "cell_type": "markdown",
      "metadata": {
        "id": "ZlZFwBKSSbW8"
      },
      "source": [
        "Let $z=x+i$.\n",
        "\n",
        "Then\n",
        "\n",
        "$\\displaystyle\n",
        "\\left|\\frac{x-i}{x+i}\\right|\n",
        "=\n",
        "\\left|\\frac{\\overline{z}}{z}\\right|\n",
        "=\n",
        "\\frac{|\\overline{z}|}{|z|}\n",
        "=\n",
        "\\frac{|z|}{|z|}\n",
        "=\n",
        "1\n",
        "$"
      ]
    },
    {
      "cell_type": "markdown",
      "metadata": {
        "id": "FzMvStsCSbW8",
        "tags": []
      },
      "source": [
        "# Exercise 1.20\n",
        "Find the polar form $re^{i\\theta}$ of $\\dfrac{(1-i)^{23}}{(\\sqrt{3}-i)^{13}}$"
      ]
    },
    {
      "cell_type": "markdown",
      "metadata": {
        "id": "qyBEssrmSbW8"
      },
      "source": [
        "### ChatGPT (incomplete solution)\n",
        "\n",
        "We can find the polar form of a complex number by using the magnitude and argument formulas. The magnitude of a complex number $z = a + bi$ is given by:\n",
        "\n",
        "$|z| = \\sqrt{a^2 + b^2}$\n",
        "\n",
        "The argument of $z$ is given by:\n",
        "\n",
        "$\\theta = \\arctan \\left(\\frac{b}{a}\\right)$\n",
        "\n",
        "So, let $z = \\frac{(1-i)^{23}}{(\\sqrt{3}-i)^{13}}$. We can find the magnitude and argument of both the numerator and denominator and then divide the results to get the polar form of $z$.\n",
        "\n",
        "First, the magnitude of $(1-i)^{23}$ is $|(1-i)^{23}| = (1^2 + (-1)^2)^{11.5} = 2^{11.5}$\n",
        "\n",
        "The argument of $(1-i)^{23}$ is $\\theta_1 = \\arctan(-1) + 2\\pi k$, where $k \\in \\mathbb{Z}$.\n",
        "\n",
        "Next, the magnitude of $(\\sqrt{3}-i)^{13}$ is $|(\\sqrt{3}-i)^{13}| = (\\sqrt{3^2 + (-1)^2})^{6.5} = (2\\sqrt{3})^{6.5}$\n",
        "\n",
        "The argument of $(\\sqrt{3}-i)^{13}$ is $\\theta_2 = \\arctan \\left(\\frac{-1}{\\sqrt{3}}\\right) + 2\\pi k$, where $k \\in \\mathbb{Z}$.\n",
        "\n",
        "Therefore, the magnitude of $z$ is:\n",
        "\n",
        "$|z| = \\frac{2^{11.5}}{(2\\sqrt{3})^{6.5}} = 2^{-5}$\n",
        "\n",
        "And the argument of $z$ is:\n",
        "\n",
        "$\\theta = \\theta_1 - \\theta_2 = \\arctan(-1) - \\arctan \\left(\\frac{-1}{\\sqrt{3}}\\right) + 2\\pi k$\n",
        "\n",
        "Finally, the polar form of $z$ is:\n",
        "\n",
        "$z = |z| e^{i\\theta} = 2^{-5} e^{i\\theta}$\n",
        "\n",
        "\n",
        "\n"
      ]
    },
    {
      "cell_type": "markdown",
      "metadata": {
        "id": "ho3fpcZpSbW8"
      },
      "source": [
        "We will use **Sympy** to complete **ChatGPT** solution"
      ]
    },
    {
      "cell_type": "code",
      "execution_count": null,
      "metadata": {
        "colab": {
          "base_uri": "https://localhost:8080/",
          "height": 47
        },
        "id": "MT8Jat6KSbW8",
        "outputId": "98f067a3-5d8a-4a78-9575-977633736a2d"
      },
      "outputs": [
        {
          "output_type": "execute_result",
          "data": {
            "text/plain": [
              "pi/4"
            ],
            "text/latex": "$\\displaystyle \\frac{\\pi}{4}$"
          },
          "metadata": {},
          "execution_count": 41
        }
      ],
      "source": [
        "atan(1)"
      ]
    },
    {
      "cell_type": "code",
      "execution_count": null,
      "metadata": {
        "colab": {
          "base_uri": "https://localhost:8080/",
          "height": 47
        },
        "id": "jgKlvr-CSbW9",
        "outputId": "d5268f2b-f9d2-44fb-fcc0-0dfc4a24e5f2"
      },
      "outputs": [
        {
          "output_type": "execute_result",
          "data": {
            "text/plain": [
              "-pi/6"
            ],
            "text/latex": "$\\displaystyle - \\frac{\\pi}{6}$"
          },
          "metadata": {},
          "execution_count": 42
        }
      ],
      "source": [
        "atan(-1/sqrt(3))"
      ]
    },
    {
      "cell_type": "markdown",
      "metadata": {
        "id": "uneqI_y0SbW9"
      },
      "source": [
        "Hence \n",
        "$\\theta = \\theta_1 - \\theta_2 = \\frac{\\pi}{4} - (-\\frac{\\pi}{6}) = \\frac{5\\pi}{12}$\n",
        "\n",
        "Hence\n",
        "$z = |z| e^{i\\theta} = 2^{-5} e^{i\\theta} = 2^{-5} e^{\\frac{5\\pi i}{12}}$"
      ]
    },
    {
      "cell_type": "markdown",
      "metadata": {
        "id": "OL2MydgHSbW9",
        "tags": []
      },
      "source": [
        "# Exercise 1.24\n",
        "Compute $(1+i)^n+(1-i)^n$"
      ]
    },
    {
      "cell_type": "markdown",
      "metadata": {
        "id": "QX8hdbUjSbW9"
      },
      "source": [
        "Look at this link:\n",
        "[Math StackExchange](https://math.stackexchange.com/questions/99884/is-there-a-formula-for-1in1-in)"
      ]
    },
    {
      "cell_type": "markdown",
      "metadata": {
        "id": "uciA7u07FM0J",
        "tags": []
      },
      "source": [
        "# Exercise 1.26\n",
        "If z1+z2+z3=0\n",
        " and |z1|=|z2|=|z3|=1\n",
        ", then z1,z2,z3\n",
        " are the vertices of an equilateral triangle."
      ]
    },
    {
      "cell_type": "markdown",
      "metadata": {
        "id": "D3Intg2IFM0J"
      },
      "source": [
        "Look at the following links:\n",
        "* [Math StackExchange Link 1](https://math.stackexchange.com/questions/201100/vertices-of-equilateral-triangle-inscribed-in-the-unit-circle)\n",
        "\n",
        "* [Math StackExchange Link 2](https://math.stackexchange.com/questions/2771800/if-z-1z-2z-3-0-and-z-1-z-2-z-3-1-then-z-1-z-2-z-3-are-the-vertice)"
      ]
    },
    {
      "cell_type": "markdown",
      "metadata": {
        "id": "1wKOErbhqKWU",
        "tags": []
      },
      "source": [
        "# **TO BE CONTINUED ...**\n",
        "* Any student with basic Python programming skill\n",
        "  is welcome to continue and solve more exercises\n",
        "  from the\n",
        "  <a href=\"https://samyzaf.com/technion/cfit/cf.pdf\">\n",
        "  Complex Functions book\n",
        "</a>\n",
        "\n",
        "* In some cases\n",
        "  [ChatGPT](\"https://chat.openai.com/chat\")\n",
        "  can solve standard problems if you phrase the\n",
        "  question with many clues.\n",
        "  Beware that in many cases it gives wrong statements!\n",
        "\n",
        "* Solutions can also be found in web sites such as Math\n",
        "  [stackexchange](\"https://stackexchange.com/\")\n",
        "  or [Mathoverflow](\"https://mathoverflow.net/\").\n",
        "\n",
        "* Send your solutions notebook to sz@samyzaf.com.\n",
        "* They will be checked and added to this notebook.\n",
        "* Thanks!!!"
      ]
    }
  ],
  "metadata": {
    "colab": {
      "provenance": [],
      "include_colab_link": true
    },
    "kernelspec": {
      "display_name": "Python 3 (ipykernel)",
      "language": "python",
      "name": "python3"
    },
    "language_info": {
      "codemirror_mode": {
        "name": "ipython",
        "version": 3
      },
      "file_extension": ".py",
      "mimetype": "text/x-python",
      "name": "python",
      "nbconvert_exporter": "python",
      "pygments_lexer": "ipython3",
      "version": "3.7.16"
    }
  },
  "nbformat": 4,
  "nbformat_minor": 0
}