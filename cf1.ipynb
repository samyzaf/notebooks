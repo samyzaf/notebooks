{
  "cells": [
    {
      "cell_type": "markdown",
      "metadata": {
        "id": "view-in-github",
        "colab_type": "text"
      },
      "source": [
        "<a href=\"https://colab.research.google.com/github/samyzaf/notebooks/blob/main/cf1.ipynb\" target=\"_parent\"><img src=\"https://colab.research.google.com/assets/colab-badge.svg\" alt=\"Open In Colab\"/></a>"
      ]
    },
    {
      "cell_type": "markdown",
      "id": "9c554400",
      "metadata": {
        "cell_marker": "\"\"\"",
        "id": "9c554400"
      },
      "source": [
        "# Complex Functions\n",
        "# Chapter 1: Solutions to exercises\n",
        "\n",
        "<a href=\"https://samyzaf.com/technion/cfit/cf.pdf\">\n",
        "<img src=\"https://samyzaf.com/technion/cfit/cf1.jpg\" alt=\"ode book cover\"/>\n",
        "</a>\n",
        "\n",
        "* We used Python [**Sympy**](https://live.sympy.org)\n",
        "  package for obtaining the final\n",
        "  result for most of the exercises.\n",
        "* In some cases we used\n",
        "  [**ChatGPT**](https://chat.openai.com/chat)\n",
        "  application (version 3.0) to obtain\n",
        "  step-by-step solutions\n",
        "  which [**Sympy**](https://live.sympy.org)\n",
        "  is not yet able to give.\n",
        "* These packages are still under rapid active development,\n",
        "  and are not yet ready to cope with all problems yet.\n",
        "* Manual solutions are provided to some of the problems\n",
        "  that cannot be solved by these program.\n",
        "  A link to a PDF solution is provided.\n",
        "* This notebook can be edited and executed by clicking\n",
        "  the **open in colab** button at the top of this page.\n",
        "* If you are new to **Google Colab**, view\n",
        "  [Google Colab Tutorial for Beginners](https://www.youtube.com/watch?v=iMlMfrXJYSg)\n",
        "* These are only a small number of solutions.\n",
        "  Hopefully this will encourage students to try to solve more\n",
        "  exercises with similar methods.\n",
        "  We will be glad to accept notebooks\n",
        "  with solutions to other exercises in this book.\n",
        "  Please send them to sz@samyzaf.com."
      ]
    },
    {
      "cell_type": "code",
      "execution_count": 1,
      "id": "872b8ae1",
      "metadata": {
        "lines_to_next_cell": 2,
        "id": "872b8ae1"
      },
      "outputs": [],
      "source": [
        "from sympy import *\n",
        "from math import atan2\n",
        "from cmath import exp, rect, polar, pi, isclose\n",
        "from numpy import roots\n",
        "from IPython.display import HTML, IFrame"
      ]
    },
    {
      "cell_type": "markdown",
      "id": "034a7237",
      "metadata": {
        "cell_marker": "\"\"\"",
        "id": "034a7237"
      },
      "source": [
        "# **Exercise 1.1.1**\n",
        "\n",
        "$\\dfrac{1+2i}{3-4i} + \\dfrac{2-i}{5i}$"
      ]
    },
    {
      "cell_type": "code",
      "execution_count": 2,
      "id": "5f554465",
      "metadata": {
        "lines_to_next_cell": 2,
        "colab": {
          "base_uri": "https://localhost:8080/",
          "height": 37
        },
        "id": "5f554465",
        "outputId": "a005d81d-c3bb-40d4-87b5-a1d3644a8e9a"
      },
      "outputs": [
        {
          "output_type": "execute_result",
          "data": {
            "text/plain": [
              "-0.400000000000000"
            ],
            "text/latex": "$\\displaystyle -0.4$"
          },
          "metadata": {},
          "execution_count": 2
        }
      ],
      "source": [
        "z1 = 1 + 2j\n",
        "z2 = 3 - 4j\n",
        "z3 = 2 - 1j\n",
        "z4 = 5j\n",
        "e = z1 / z2 + z3 / z4\n",
        "simplify(e)\n",
        "\n",
        "expand(e)"
      ]
    },
    {
      "cell_type": "markdown",
      "id": "c1a9e521",
      "metadata": {
        "cell_marker": "\"\"\"",
        "id": "c1a9e521"
      },
      "source": [
        "* This was too quick\n",
        "* We can do it also step by step ..."
      ]
    },
    {
      "cell_type": "code",
      "execution_count": 3,
      "id": "f112c29c",
      "metadata": {
        "lines_to_next_cell": 2,
        "colab": {
          "base_uri": "https://localhost:8080/"
        },
        "id": "f112c29c",
        "outputId": "57949ed5-03e2-4917-8669-c2888fa5d83f"
      },
      "outputs": [
        {
          "output_type": "execute_result",
          "data": {
            "text/plain": [
              "(-0.2-0.4j)"
            ]
          },
          "metadata": {},
          "execution_count": 3
        }
      ],
      "source": [
        "z1 / z2\n",
        "\n",
        "z3 / z4"
      ]
    },
    {
      "cell_type": "markdown",
      "id": "c32bda56",
      "metadata": {
        "cell_marker": "\"\"\"",
        "id": "c32bda56"
      },
      "source": [
        "# **Exercise 1.1.2**\n",
        "\n",
        "$\n",
        "\\dfrac{10i}{(1-i)(2-i)(3-i)}\n",
        "$"
      ]
    },
    {
      "cell_type": "code",
      "execution_count": 4,
      "id": "088b74ca",
      "metadata": {
        "lines_to_next_cell": 2,
        "colab": {
          "base_uri": "https://localhost:8080/",
          "height": 37
        },
        "id": "088b74ca",
        "outputId": "4dc5915c-1441-4875-f177-dfc1f9b88738"
      },
      "outputs": [
        {
          "output_type": "execute_result",
          "data": {
            "text/plain": [
              "-1.00000000000000"
            ],
            "text/latex": "$\\displaystyle -1.0$"
          },
          "metadata": {},
          "execution_count": 4
        }
      ],
      "source": [
        "z1 = 10j\n",
        "z2 = 1 -1j\n",
        "z3 = 2 - 1j\n",
        "z4 = 3 - 1j\n",
        "e = z1 / (z2 * z3 * z4)\n",
        "simplify(e)"
      ]
    },
    {
      "cell_type": "markdown",
      "id": "22242503",
      "metadata": {
        "cell_marker": "\"\"\"",
        "id": "22242503"
      },
      "source": [
        "# **Exercise 1.1.3**\n",
        "\n",
        "$\n",
        "(1-i)^4\n",
        "$"
      ]
    },
    {
      "cell_type": "code",
      "execution_count": 5,
      "id": "fe2979e7",
      "metadata": {
        "lines_to_next_cell": 2,
        "colab": {
          "base_uri": "https://localhost:8080/",
          "height": 37
        },
        "id": "fe2979e7",
        "outputId": "b36ca613-f021-435f-b9ee-eaf0cf94a6d4"
      },
      "outputs": [
        {
          "output_type": "execute_result",
          "data": {
            "text/plain": [
              "-4.00000000000000"
            ],
            "text/latex": "$\\displaystyle -4.0$"
          },
          "metadata": {},
          "execution_count": 5
        }
      ],
      "source": [
        "z = 1 - 1j\n",
        "simplify(z**4)"
      ]
    },
    {
      "cell_type": "markdown",
      "id": "7628370b",
      "metadata": {
        "cell_marker": "\"\"\"",
        "id": "7628370b"
      },
      "source": [
        "# **Exercise 1.1.4**\n",
        "\n",
        "$\n",
        "(\\sqrt{3}+i)^{38}\n",
        "$"
      ]
    },
    {
      "cell_type": "code",
      "execution_count": 6,
      "id": "10af173c",
      "metadata": {
        "lines_to_next_cell": 2,
        "colab": {
          "base_uri": "https://localhost:8080/"
        },
        "id": "10af173c",
        "outputId": "779bcbc3-0966-46e7-afd0-d881eb2783b6"
      },
      "outputs": [
        {
          "output_type": "execute_result",
          "data": {
            "text/plain": [
              "1.0471975511965965"
            ]
          },
          "metadata": {},
          "execution_count": 6
        }
      ],
      "source": [
        "z = sqrt(3) + 1j\n",
        "simplify(z**38)\n",
        "\n",
        "expand(z**38)\n",
        "\n",
        "polar(z)\n",
        "\n",
        "abs(z)\n",
        "\n",
        "(38 * pi/6) % (2*pi)"
      ]
    },
    {
      "cell_type": "markdown",
      "id": "70928a64",
      "metadata": {
        "cell_marker": "\"\"\"",
        "id": "70928a64"
      },
      "source": [
        "Result should be: $2^{38} e^{\\frac{i\\pi}{3}}$\n",
        "\n",
        "# **Exercise 1.1.5**\n",
        "\n",
        "$\\sqrt[4]{1-i\\sqrt{3}}$"
      ]
    },
    {
      "cell_type": "code",
      "execution_count": 7,
      "id": "f9e6a24f",
      "metadata": {
        "lines_to_next_cell": 2,
        "colab": {
          "base_uri": "https://localhost:8080/"
        },
        "id": "f9e6a24f",
        "outputId": "89b02c1c-8e8a-4c2e-a3cd-37367d2b7c7a"
      },
      "outputs": [
        {
          "output_type": "stream",
          "name": "stdout",
          "text": [
            "(1+1.7320508075688772j)\n",
            "Module=2.0, Argument=1.0471975511965976\n"
          ]
        },
        {
          "output_type": "execute_result",
          "data": {
            "text/plain": [
              "True"
            ]
          },
          "metadata": {},
          "execution_count": 7
        }
      ],
      "source": [
        "z1 = complex(1, sqrt(3))\n",
        "z2 = z1 ** (1/4)\n",
        "print(z1)\n",
        "\n",
        "r,t = polar(z1)\n",
        "print(f\"Module={r}, Argument={t}\")\n",
        "\n",
        "isclose(t, pi/3)"
      ]
    },
    {
      "cell_type": "markdown",
      "id": "55794a50",
      "metadata": {
        "cell_marker": "\"\"\"",
        "id": "55794a50"
      },
      "source": [
        "* Looks like $z_1 = 2 e^{\\frac{i\\pi}{3}}$.\n",
        "* Hence $\\sqrt[4]{z_1} = \\sqrt[4]{2} e^{\\frac{i\\pi}{12}}$.\n",
        "\n",
        "# **Exercise 1.1.6**\n",
        "\n",
        "$\\left(\\sqrt{2+\\sqrt{2}} + i\\sqrt{2-\\sqrt{2}}\\right)^4$"
      ]
    },
    {
      "cell_type": "code",
      "execution_count": 8,
      "id": "b5b60f84",
      "metadata": {
        "lines_to_next_cell": 2,
        "colab": {
          "base_uri": "https://localhost:8080/",
          "height": 39
        },
        "id": "b5b60f84",
        "outputId": "41305042-a824-4102-c8e9-fa306d1031bf"
      },
      "outputs": [
        {
          "output_type": "execute_result",
          "data": {
            "text/plain": [
              "-3.5527136788005e-15 + 16.0*I"
            ],
            "text/latex": "$\\displaystyle -3.5527136788005 \\cdot 10^{-15} + 16.0 i$"
          },
          "metadata": {},
          "execution_count": 8
        }
      ],
      "source": [
        "x = sqrt(2 + sqrt(2))\n",
        "y = sqrt(2 - sqrt(2))\n",
        "z = complex(x, y)\n",
        "simplify(z**4)"
      ]
    },
    {
      "cell_type": "markdown",
      "id": "d5c294e5",
      "metadata": {
        "cell_marker": "\"\"\"",
        "id": "d5c294e5"
      },
      "source": [
        "* The real part is clearly 0.\n",
        "* Hence the final answer is $z^4 = 16i$."
      ]
    },
    {
      "cell_type": "code",
      "execution_count": 9,
      "id": "407a8695",
      "metadata": {
        "lines_to_next_cell": 2,
        "colab": {
          "base_uri": "https://localhost:8080/"
        },
        "id": "407a8695",
        "outputId": "01361343-6629-4180-f7a6-e40e87b08a0b"
      },
      "outputs": [
        {
          "output_type": "stream",
          "name": "stdout",
          "text": [
            "Module=2.0, Argument=0.3926990816987242\n"
          ]
        },
        {
          "output_type": "execute_result",
          "data": {
            "text/plain": [
              "True"
            ]
          },
          "metadata": {},
          "execution_count": 9
        }
      ],
      "source": [
        "r,t = polar(z)\n",
        "print(f\"Module={r}, Argument={t}\")\n",
        "\n",
        "pi / t\n",
        "\n",
        "isclose(t, pi/8)"
      ]
    },
    {
      "cell_type": "markdown",
      "id": "1876d3f5",
      "metadata": {
        "cell_marker": "\"\"\"",
        "id": "1876d3f5"
      },
      "source": [
        "* The last computations suggest that $z = 2 e^{\\frac{i\\pi}{8}}$.\n",
        "* But this is not a mathematical proof :-) It must be proven rigorously!\n",
        "* Hence $z^4 = 2^4 e^{\\frac{4i\\pi}{8}} = 16 e^{\\frac{i\\pi}{2}} = 16i$\n",
        "\n",
        "### ChatGPT 3.0\n",
        "Here's a step-by-step simplification of\n",
        "$\\left(\\sqrt{2+\\sqrt{2}} + i\\sqrt{2-\\sqrt{2}}\\right)^4$:\n",
        "\n",
        "Square the real and imaginary parts:\n",
        "\n",
        "$\\left(\\sqrt{2+\\sqrt{2}} + i\\sqrt{2-\\sqrt{2}})^2 = (2+\\sqrt{2}) + 2i\\sqrt{2-\\sqrt{2}} + (2-\\sqrt{2}\\right)i^2 = 4 + 2\\sqrt{2} + 2\\sqrt{2}i^2$\n",
        "\n",
        "Square the result again:\n",
        "\n",
        "$\\left(\\sqrt{2+\\sqrt{2}} + i\\sqrt{2-\\sqrt{2}}\\right)^4 = (4 + 2\\sqrt{2} + 2\\sqrt{2}i^2)^2 = 16 + 16\\sqrt{2} + 8\\sqrt{2}i^2$\n",
        "\n",
        "Simplify the imaginary part:\n",
        "$8\\sqrt{2}i^2 = 8\\sqrt{2}(-1) = -8\\sqrt{2}$\n",
        "\n",
        "The final result is:\n",
        "$\\left(\\sqrt{2+\\sqrt{2}} + i\\sqrt{2-\\sqrt{2}}\\right)^4 = 16 + 16\\sqrt{2} - 8\\sqrt{2} = 16$\n",
        "\n",
        "# **Exercise 1.2**\n",
        "Simplify the following expression to the form $x+iy$\n",
        "\n",
        "$\\dfrac{a+ib}{a-ib} - \\dfrac{a-ib}{a+ib}$"
      ]
    },
    {
      "cell_type": "code",
      "execution_count": 10,
      "id": "69841937",
      "metadata": {
        "lines_to_next_cell": 2,
        "colab": {
          "base_uri": "https://localhost:8080/",
          "height": 53
        },
        "id": "69841937",
        "outputId": "3f2eb0cd-0a1f-48c6-f19d-e200f6c6564a"
      },
      "outputs": [
        {
          "output_type": "execute_result",
          "data": {
            "text/plain": [
              "4.0*I*a*b/(a**2 + b**2)"
            ],
            "text/latex": "$\\displaystyle \\frac{4.0 i a b}{a^{2} + b^{2}}$"
          },
          "metadata": {},
          "execution_count": 10
        }
      ],
      "source": [
        "a, b = symbols(\"a b\", real=True)\n",
        "z1 = a + b * (1j)\n",
        "z2 = a - b * (1j)\n",
        "e = z1 / z2 - z2 / z1\n",
        "simplify(e)"
      ]
    },
    {
      "cell_type": "markdown",
      "id": "113e33a2",
      "metadata": {
        "cell_marker": "\"\"\"",
        "id": "113e33a2"
      },
      "source": [
        "* This is of course only the final answer.\n",
        "* The sutudent is still required to come up with a formal proof!\n",
        "* In some cases, ChatGPT can give a correct answer. But you need to provide a lot of help!\n",
        "* In this case we told ChatGPT that the final answer is $\\frac{4 i a b}{a^{2} + b^{2}}$,\n",
        "  and it provided the steps to get this answer!\n",
        "\n",
        "### ChatGPT 3.0 ANSWER\n",
        "The expression can be simplified as follows:\n",
        "\\begin{align*}\n",
        "\\frac{a+ib}{a-ib} - \\frac{a-ib}{a+ib} &= \\frac{(a+ib)(a+ib) - (a-ib)(a-ib)}{(a-ib)(a+ib)} \\\\\n",
        "&= \\frac{a^2 + 2iab + b^2 - (a^2 - 2iab + b^2)}{(a^2 + b^2)} \\\\\n",
        "&= \\frac{4iab}{(a^2 + b^2)} \\\\\n",
        "\\end{align*}\n",
        "Hence, the expression can be reduced to $\\frac{4abi}{a^2 + b^2}$.\n",
        "\n",
        "# **Exercise 1.3.1**\n",
        "Find all roots of\n",
        "\n",
        "$z^2 +\\sqrt{32}z - 6i = 0$"
      ]
    },
    {
      "cell_type": "code",
      "execution_count": 11,
      "id": "29493bb6",
      "metadata": {
        "lines_to_next_cell": 2,
        "colab": {
          "base_uri": "https://localhost:8080/"
        },
        "id": "29493bb6",
        "outputId": "bef63493-94b4-4a83-fb03-3915571358a7"
      },
      "outputs": [
        {
          "output_type": "execute_result",
          "data": {
            "text/plain": [
              "[-5.82842712474619 - 1.0*I, 0.17157287525381 + 1.0*I]"
            ]
          },
          "metadata": {},
          "execution_count": 11
        }
      ],
      "source": [
        "z = symbols(\"z\", complex=True)\n",
        "eq = z**2 + sqrt(32) * z - 6*I\n",
        "nroots(eq)"
      ]
    },
    {
      "cell_type": "markdown",
      "id": "6ce03d3a",
      "metadata": {
        "cell_marker": "\"\"\"",
        "id": "6ce03d3a"
      },
      "source": [
        "* Note that **Sympy** is using **I** as the name of the imaginary unit $i$\n",
        "* The roots are given in a **numeric form** while the student has to find the **symbolic form** ...\n",
        "* In this case we can find the symbolic roots by using the well known formula for the quadratic equation  \n",
        "$\n",
        "\\qquad\n",
        "z_1, z_2\n",
        "=\n",
        "\\frac{-b \\pm \\sqrt{b^2 - 4ac}}{2a}\n",
        "=\n",
        "\\frac{-\\sqrt{32} \\pm \\sqrt{32 + 24i}}{2}\n",
        "$\n",
        "\n",
        "* The square root of $32 + 24i$ can be easily computed by"
      ]
    },
    {
      "cell_type": "code",
      "execution_count": 12,
      "id": "d9e6d41a",
      "metadata": {
        "lines_to_next_cell": 2,
        "colab": {
          "base_uri": "https://localhost:8080/"
        },
        "id": "d9e6d41a",
        "outputId": "ec099cbd-e253-4d89-8525-3d846d11bd54"
      },
      "outputs": [
        {
          "output_type": "execute_result",
          "data": {
            "text/plain": [
              "(6+2j)"
            ]
          },
          "metadata": {},
          "execution_count": 12
        }
      ],
      "source": [
        "complex(sqrt(32 + 24j))"
      ]
    },
    {
      "cell_type": "markdown",
      "id": "d2e2e2b8",
      "metadata": {
        "cell_marker": "\"\"\"",
        "id": "d2e2e2b8"
      },
      "source": [
        "* Therefore we get (ChatGPT helped)\n",
        "\n",
        "$\\qquad\n",
        "z_1, z_2\n",
        "=\n",
        "\\frac{-\\sqrt{32} \\pm \\sqrt{32 + 24i}}{2}\n",
        "=\n",
        "\\frac{-\\sqrt{32} \\pm (6+2i)}{2}\n",
        "=\n",
        "\\frac{-\\sqrt{32} - 6 - 2i)}{2},\\\n",
        "\\frac{-\\sqrt{32} + 6+2i}{2}\n",
        "=\n",
        "-\\sqrt{8} - 3 -i,\\ -\\sqrt{8} + 3 +i\n",
        "$\n",
        "\n",
        "# **Exercise 1.3.2**\n",
        "Solve\n",
        "\n",
        "$z^2=\\overline{z}$"
      ]
    },
    {
      "cell_type": "code",
      "execution_count": null,
      "id": "a2929617",
      "metadata": {
        "lines_to_next_cell": 2,
        "id": "a2929617"
      },
      "outputs": [],
      "source": [
        "x,y = symbols(\"x y\", real=True)\n",
        "eq = (x + y*I)**2 - x + y*I\n",
        "solve(eq, 0)\n",
        "\n",
        "expand((x + y*I)**2)"
      ]
    },
    {
      "cell_type": "markdown",
      "id": "efc5dd0d",
      "metadata": {
        "cell_marker": "\"\"\"",
        "id": "efc5dd0d"
      },
      "source": [
        "$x^2 -y^2 = x$\n",
        "\n",
        "$2xy = -y$\n",
        "\n",
        "$x=-\\frac{1}{2}$, $y=\\frac{\\sqrt{3}}{2}$\n",
        "\n",
        "$x=0,1$, $y=0$\n",
        "\n",
        "# **Exercise 1.3.5**\n",
        "Solve equation\n",
        "\n",
        "$z^3=2iz$"
      ]
    },
    {
      "cell_type": "code",
      "execution_count": 13,
      "id": "76214abd",
      "metadata": {
        "lines_to_next_cell": 2,
        "colab": {
          "base_uri": "https://localhost:8080/"
        },
        "id": "76214abd",
        "outputId": "08696295-b04e-4278-b332-f6aa5ce6d9c5"
      },
      "outputs": [
        {
          "output_type": "execute_result",
          "data": {
            "text/plain": [
              "[0, -1.0 - 1.0*I, 1.0 + 1.0*I]"
            ]
          },
          "metadata": {},
          "execution_count": 13
        }
      ],
      "source": [
        "z = symbols(\"z\", complex=True)\n",
        "eq = z**3 - 2*I*z\n",
        "nroots(eq)"
      ]
    },
    {
      "cell_type": "markdown",
      "id": "c8181060",
      "metadata": {
        "cell_marker": "\"\"\"",
        "id": "c8181060"
      },
      "source": [
        "* To get a better display of this result we use:"
      ]
    },
    {
      "cell_type": "code",
      "execution_count": 14,
      "id": "60852e3c",
      "metadata": {
        "lines_to_next_cell": 2,
        "colab": {
          "base_uri": "https://localhost:8080/",
          "height": 81
        },
        "id": "60852e3c",
        "outputId": "0415f0ef-a61b-41c7-b3c0-fcb46672cdbd"
      },
      "outputs": [
        {
          "output_type": "display_data",
          "data": {
            "text/plain": [
              "0"
            ],
            "text/latex": "$\\displaystyle 0$"
          },
          "metadata": {}
        },
        {
          "output_type": "display_data",
          "data": {
            "text/plain": [
              "-1.0 - 1.0*I"
            ],
            "text/latex": "$\\displaystyle -1.0 - 1.0 i$"
          },
          "metadata": {}
        },
        {
          "output_type": "display_data",
          "data": {
            "text/plain": [
              "1.0 + 1.0*I"
            ],
            "text/latex": "$\\displaystyle 1.0 + 1.0 i$"
          },
          "metadata": {}
        }
      ],
      "source": [
        "for r in nroots(eq):\n",
        "    display(r)"
      ]
    },
    {
      "cell_type": "markdown",
      "id": "e52bc0f9",
      "metadata": {
        "cell_marker": "\"\"\"",
        "id": "e52bc0f9"
      },
      "source": [
        "#### Checking ..."
      ]
    },
    {
      "cell_type": "code",
      "execution_count": 15,
      "id": "901e37eb",
      "metadata": {
        "lines_to_next_cell": 2,
        "colab": {
          "base_uri": "https://localhost:8080/"
        },
        "id": "901e37eb",
        "outputId": "baf49c78-c46c-47ef-d92b-ecc7071150df"
      },
      "outputs": [
        {
          "output_type": "execute_result",
          "data": {
            "text/plain": [
              "(4.727285052306297e-125+4.727285052306297e-125j)"
            ]
          },
          "metadata": {},
          "execution_count": 15
        }
      ],
      "source": [
        "complex(eq.subs(z, 1+1j))"
      ]
    },
    {
      "cell_type": "markdown",
      "id": "e46189de",
      "metadata": {
        "cell_marker": "\"\"\"",
        "id": "e46189de"
      },
      "source": [
        "This looks like 0+0i\n",
        "\n",
        "### [Link to step-by-step-solution](https://samyzaf.com/technion/cfit/sol/chap1.3.5.pdf)\n",
        "\n",
        "# **Exercise 1.3.6**\n",
        "Solve equation\n",
        "\n",
        "$z^n=\\overline{z} \\quad (n=1,2,3,\\ldots)$\n",
        "\n",
        "### [Link to step-by-step-solution](https://samyzaf.com/technion/cfit/sol/chap1.3.6.pdf)\n",
        "\n",
        "### ChatGPT (probably incorrect?)\n",
        "The equation $z^n = \\overline{z}$ can be solved by expressing $z$ in polar form, $z = r e^{i\\theta}$, where $r \\ge 0$ is the magnitude of $z$ and $0 \\le \\theta < 2\\pi$ is the argument of $z$. Substituting into the equation $z^n = \\overline{z}$ yields:\n",
        "\n",
        "\\begin{align*}\n",
        "r^n e^{in\\theta} &= r e^{-i\\theta} \\\\\n",
        "r^{n-1} &= 1 \\\\\n",
        "r &= 1\n",
        "\\end{align*}\n",
        "\n",
        "Since $0 \\le \\theta < 2\\pi$, we have the following solutions:\n",
        "\n",
        "\\begin{align*}\n",
        "z &= e^{i \\left( \\frac{2\\pi k}{n} \\right)} \\\\\n",
        "&= \\cos \\left( \\frac{2\\pi k}{n} \\right) + i \\sin \\left( \\frac{2\\pi k}{n} \\right)\n",
        "\\end{align*}\n",
        "where $k \\in \\mathbb{Z}$ and $0 \\le k < n$.\n",
        "\n",
        "Thus, the solutions to the equation $z^n = \\overline{z}$ in polar form are\n",
        "$z = \\cos \\left( \\frac{2\\pi k}{n} \\right) + i \\sin \\left( \\frac{2\\pi k}{n} \\right)$\n",
        "for $k \\in \\mathbb{Z}$ and $0 \\le k < n$.\n",
        "\n",
        "### Comment:\n",
        "Not sure about this.\n",
        "The previous solution is more reliable.\n",
        "\n",
        "# **Exercise 1.3.7**\n",
        "Solve equation\n",
        "\n",
        "$z^2=|z|^2-4$\n",
        "\n",
        "### [Link to step-by-step-solution](https://samyzaf.com/technion/cfit/sol/chap1.3.7.pdf)\n",
        "\n",
        "# **Exercise 1.4.1**\n",
        "Solve equation\n",
        "\n",
        "$Re(z^2)=Im(z^2)$\n",
        "\n",
        "* Full solution to this problem in the following link.\n",
        "\n",
        "### [Link to step-by-step-solution](https://samyzaf.com/technion/cfit/sol/chap1.4.1.pdf)\n",
        "\n",
        "# **Exercise 1.4.3**\n",
        "Solve equation\n",
        "\n",
        "$\\arg{\\frac{z}{z-1}} = \\frac{\\pi}{2}$\n",
        "\n",
        "* Full solution to this problem in the following link.\n",
        "\n",
        "### [Link to step-by-step-solution](https://samyzaf.com/technion/cfit/sol/chap1.4.3.pdf)\n",
        "\n",
        "* It is advised to run several checks to test the final resut ..."
      ]
    },
    {
      "cell_type": "code",
      "execution_count": 16,
      "id": "c1044268",
      "metadata": {
        "lines_to_next_cell": 2,
        "colab": {
          "base_uri": "https://localhost:8080/",
          "height": 47
        },
        "id": "c1044268",
        "outputId": "c822610f-8b05-49ea-cea9-ecf6e0ffec94"
      },
      "outputs": [
        {
          "output_type": "execute_result",
          "data": {
            "text/plain": [
              "pi/2"
            ],
            "text/latex": "$\\displaystyle \\frac{\\pi}{2}$"
          },
          "metadata": {},
          "execution_count": 16
        }
      ],
      "source": [
        "z = 0.5 - 0.5j\n",
        "arg(z/(z-1))\n",
        "\n",
        "x = 0.87\n",
        "y = (0.25 - (x-0.5)**2)**0.5\n",
        "z = complex(x,y)\n",
        "arg(z/(z-1))         # Upper circle! Not supposed to be a solution\n",
        "\n",
        "x = 0.87\n",
        "y = -(0.25 - (x-0.5)**2)**0.5\n",
        "z = complex(x,y)\n",
        "#print(z)\n",
        "arg(z/(z-1))         # Lower circle! Supposed to be a solution!"
      ]
    },
    {
      "cell_type": "markdown",
      "id": "f2df4837",
      "metadata": {
        "cell_marker": "\"\"\"",
        "id": "f2df4837"
      },
      "source": [
        "# **Exercise 1.5**\n",
        "$z_1=2+i$ is one root of\n",
        "$z^4-6z^3+16z^2-22z+k=0$,\n",
        "where $k$ is an integer.\n",
        "\n",
        "Find all roots and values of $k$.\n",
        "\n",
        "### Solution\n",
        "\n",
        "* Plug the root $z=z_1=2+i$ in the equation $z^4-6z^3+16z^2-22z+k=0$ ."
      ]
    },
    {
      "cell_type": "code",
      "execution_count": 17,
      "id": "f408434e",
      "metadata": {
        "lines_to_next_cell": 2,
        "colab": {
          "base_uri": "https://localhost:8080/",
          "height": 60
        },
        "id": "f408434e",
        "outputId": "ec524d95-3775-41f5-e1f1-77803426f74a"
      },
      "outputs": [
        {
          "output_type": "display_data",
          "data": {
            "text/plain": [
              "k - 44.0 - 6*(2.0 + 1.0*I)**3 - 22.0*I + (2.0 + 1.0*I)**4 + 16*(2.0 + 1.0*I)**2"
            ],
            "text/latex": "$\\displaystyle k - 44.0 - 6 \\left(2.0 + 1.0 i\\right)^{3} - 22.0 i + \\left(2.0 + 1.0 i\\right)^{4} + 16 \\left(2.0 + 1.0 i\\right)^{2}$"
          },
          "metadata": {}
        },
        {
          "output_type": "execute_result",
          "data": {
            "text/plain": [
              "15.0000000000000"
            ],
            "text/latex": "$\\displaystyle 15.0$"
          },
          "metadata": {},
          "execution_count": 17
        }
      ],
      "source": [
        "z = symbols(\"z\", complex=True)\n",
        "k = symbols(\"k\", integer=True)\n",
        "p = z**4 - 6*z**3 + 16*z**2 - 22*z + k\n",
        "z1 = 2 + 1j\n",
        "eq = p.subs(z, z1)\n",
        "display(eq)\n",
        "\n",
        "nsolve(eq, 0)"
      ]
    },
    {
      "cell_type": "markdown",
      "id": "e71ca244",
      "metadata": {
        "cell_marker": "\"\"\"",
        "id": "e71ca244"
      },
      "source": [
        "* In order for $z_1$ to be a root we must have $k=15$.\n",
        "* Since all coeficients of our polynomial are real, $z_2 = 2 - i$ is also a root!\n",
        "* To get the other two solutions we divide $p$ by $(z-z_1)(z-z_2)$"
      ]
    },
    {
      "cell_type": "code",
      "execution_count": 18,
      "id": "19232eed",
      "metadata": {
        "lines_to_next_cell": 2,
        "colab": {
          "base_uri": "https://localhost:8080/",
          "height": 77
        },
        "id": "19232eed",
        "outputId": "37735709-9b9c-453a-ad20-575ae4ce2b6f"
      },
      "outputs": [
        {
          "output_type": "display_data",
          "data": {
            "text/plain": [
              "1.0*z**2 - 2.0*z + 3.0"
            ],
            "text/latex": "$\\displaystyle 1.0 z^{2} - 2.0 z + 3.0$"
          },
          "metadata": {}
        },
        {
          "output_type": "display_data",
          "data": {
            "text/plain": [
              "0"
            ],
            "text/latex": "$\\displaystyle 0$"
          },
          "metadata": {}
        },
        {
          "output_type": "execute_result",
          "data": {
            "text/plain": [
              "[1.0 - 1.4142135623731*I, 1.0 + 1.4142135623731*I]"
            ]
          },
          "metadata": {},
          "execution_count": 18
        }
      ],
      "source": [
        "p = z**4 - 6*z**3 + 16*z**2 - 22*z + 15\n",
        "z1 = 2 + 1j\n",
        "z2 = 2 - 1j\n",
        "q, r = div(p, (z-z1)*(z-z2), domain=\"CC\")\n",
        "display(q)\n",
        "display(r)\n",
        "\n",
        "nroots(q)"
      ]
    },
    {
      "cell_type": "markdown",
      "id": "77e87370",
      "metadata": {
        "cell_marker": "\"\"\"",
        "id": "77e87370"
      },
      "source": [
        "* The other roots are:"
      ]
    },
    {
      "cell_type": "code",
      "execution_count": 19,
      "id": "3ff64231",
      "metadata": {
        "lines_to_next_cell": 2,
        "colab": {
          "base_uri": "https://localhost:8080/",
          "height": 78
        },
        "id": "3ff64231",
        "outputId": "e531f918-2f31-4889-be69-2461b20c3d4f"
      },
      "outputs": [
        {
          "output_type": "display_data",
          "data": {
            "text/plain": [
              "1.0 - 1.4142135623731*I"
            ],
            "text/latex": "$\\displaystyle 1.0 - 1.4142135623731 i$"
          },
          "metadata": {}
        },
        {
          "output_type": "display_data",
          "data": {
            "text/plain": [
              "1.0 + 1.4142135623731*I"
            ],
            "text/latex": "$\\displaystyle 1.0 + 1.4142135623731 i$"
          },
          "metadata": {}
        },
        {
          "output_type": "execute_result",
          "data": {
            "text/plain": [
              "True"
            ]
          },
          "metadata": {},
          "execution_count": 19
        }
      ],
      "source": [
        "for r in nroots(q):\n",
        "    display(r)\n",
        "\n",
        "isclose(1.4142135623731, sqrt(2))"
      ]
    },
    {
      "cell_type": "markdown",
      "id": "b081ebfa",
      "metadata": {
        "cell_marker": "\"\"\"",
        "id": "b081ebfa"
      },
      "source": [
        "Final answer:\n",
        "\n",
        "$k=15$\n",
        "\n",
        "$z_1 = 2 + i$\n",
        "\n",
        "$z_2 = 2 - i$\n",
        "\n",
        "$z_3 = 1 - \\sqrt{2}\\,i$\n",
        "\n",
        "$z_4 = 1 + \\sqrt{2}\\,i$\n",
        "\n",
        "* This is only a numerical solution.\n",
        "* The student is still required to perform a rigorous polynomial division.\n",
        "* You can find how to do it in many places like:\n",
        "[How to divide polynomials?](https://www.geeksforgeeks.org/how-to-divide-polynomials)\n",
        "\n",
        "# **Exercise 1.6**\n",
        "Prove the formula\n",
        "\n",
        "$\\arg(z/w) = \\arg(z) - \\arg(w)$\n",
        "\n",
        "$z,w \\neq 0$\n",
        "\n",
        "### Solution\n",
        "\n",
        "$z=r(\\cos\\theta+i\\sin\\theta),\\>\\>\\>\\>\\>w=p(\\cos\\beta+i\\sin\\beta)$\n",
        "\n",
        "$\\frac zw = \\frac rp \\frac {\\cos\\theta+i\\sin\\theta}{\\cos\\beta+i\\sin\\beta}$\n",
        "\n",
        "$=\\frac rp \\frac {(\\cos\\theta+i\\sin\\theta)(\\cos\\beta-i\\sin\\beta)}\n",
        "{(\\cos\\beta+i\\sin\\beta)(\\cos\\beta-i\\sin\\beta)}$\n",
        "\n",
        "$=\\frac rp \\frac {(\\cos\\theta\\cos\\beta+\\sin\\theta\\sin\\beta)+i(\\sin\\theta\\cos\\beta-\\cos\\theta\\sin\\beta)}\n",
        "{\\cos^2\\beta+\\sin^2\\beta}$\n",
        "\n",
        "$=\\frac rp [ \\cos(\\theta-\\beta)+i\\sin(\\theta-\\beta)]$\n",
        "\n",
        "$\\arg(\\frac{z}{w})=\\arg(z)-\\arg(w)$\n",
        "\n",
        "### Sources\n",
        "\n",
        "* [Math Stackexchange](https://math.stackexchange.com/questions/3448455/prove-that-arg-fracz-1z-2-argz-1-argz-2)\n",
        "\n",
        "### ChatGPT\n",
        "\n",
        "The formula $\\arg(z/w) = \\arg(z) - \\arg(w)$ for $z,w \\neq 0$ can be proven by using the polar form of complex numbers.\n",
        "\n",
        "Given $z = r_z\\text{cis}(\\theta_z)$ and $w = r_w\\text{cis}(\\theta_w)$, where $r_z, r_w$ are the magnitudes and $\\theta_z, \\theta_w$ are the arguments of $z$ and $w$, respectively.\n",
        "\n",
        "Then $z/w = \\frac{r_z\\text{cis}(\\theta_z)}{r_w\\text{cis}(\\theta_w)} = \\frac{r_z}{r_w} \\text{cis}(\\theta_z - \\theta_w)$.\n",
        "\n",
        "The argument of $z/w$ is $\\theta_z - \\theta_w$. Hence, $\\arg(z/w) = \\arg(z) - \\arg(w)$.\n",
        "\n",
        "# **Exercise 1.7**\n",
        "Use the formula\n",
        "$\\arg{z_1/z_2} = \\arg{z_1} - \\arg{z_2}$\n",
        "to calculate the angles of the triangle whose vertices are $z_1$, $z_2$, $z_3$.\n",
        "\n",
        "* Full solution to this problem in the following link.\n",
        "\n",
        "### [Link to step-by-step-solution](https://samyzaf.com/technion/cfit/sol/chap1.7.pdf)\n",
        "\n",
        "# **Exercise 1.8**\n",
        "Formula for the area of a parallelogram generated by $z_1$, $z_2$\n",
        "\n",
        "### [Link to step-by-step-solution](https://samyzaf.com/technion/cfit/sol/chap1.8.pdf)\n",
        "\n",
        "# **Exercise 1.9**\n",
        "Prove the parallelogram equality for complex numbers\n",
        "\n",
        "$|z_1 + z_2|^2 + |z_1 - z_2|^2 = 2(|z_1|^2 + |z_2|^2)$\n",
        "\n",
        "### ChatGPT\n",
        "The parallelogram equality can be proven as follows:\n",
        "\n",
        "Starting with the left-hand side:\n",
        "\n",
        "\\begin{align*}\n",
        "\t|z_1+z_2|^2+|z_1-z_2|^2&=(z_1+z_2)(\\overline{z_1+z_2})+(z_1-z_2)(\\overline{z_1-z_2})\\\\\n",
        "\t&=(z_1+z_2)(\\overline{z_1}+\\overline{z_2})+(z_1-z_2)(\\overline{z_1}-\\overline{z_2})\\\\\n",
        "\t&=z_1\\overline{z_1}+z_2\\overline{z_2}+z_1\\overline{z_2}+\\overline{z_1}z_2+z_1\\overline{z_1}+z_2\\overline{z_2}-z_1\\overline{z_2}-\\overline{z_1}z_2\\\\\n",
        "\t&=2z_1\\overline{z_1}+2z_2\\overline{z_2}\\\\\n",
        "&=2|z_1|^2+2|z_2|^2\\\\\n",
        "\t&=2(|z_1|^2+|z_2|^2).\n",
        "\\end{align*}\n",
        "\n",
        "And the parallelogram equality is proven.\n",
        "\n",
        "# **Exercise 1.13**\n",
        "Prove that for every $z$,\n",
        "$|Re(z)| + |Im(z)| \\leq \\sqrt{2}|z|$\n",
        "\n",
        "### Solution\n",
        "\n",
        "$(\\sqrt{2}|z|)^2=2|z|^2=2x^2+2y^2$\n",
        "\n",
        "$(|\\operatorname{Re}z|+|\\operatorname{Im}z|)^2=(|x|+|y|)^2=x^2+y^2+2|xy|$\n",
        "\n",
        "$(\\sqrt{2}|z|)^2-(|\\operatorname{Re}z|+|\\operatorname{Im}z|)^2=x^2+y^2-2|xy|=(|x|-|y|)^2\\geq 0$\n",
        "\n",
        "Hence: $\\sqrt{2}|z|\\geq |\\operatorname{Re}z|+|\\operatorname{Im}z|$\n",
        "\n",
        "Source: [Math Exchange](https://math.stackexchange.com/questions/116457/how-does-one-prove-sqrt2z-geq-operatornamerez-operatornameimz-h)\n",
        "\n",
        "# **Exercise 1.14**\n",
        "Prove that for every real number $x$,\n",
        "$\\left|\\frac{x-i}{x+i}\\right| = 1$\n",
        "\n",
        "Let $z=x+i$.\n",
        "\n",
        "Then\n",
        "\n",
        "$\\displaystyle\n",
        "\\left|\\frac{x-i}{x+i}\\right|\n",
        "=\n",
        "\\left|\\frac{\\overline{z}}{z}\\right|\n",
        "=\n",
        "\\frac{|\\overline{z}|}{|z|}\n",
        "=\n",
        "\\frac{|z|}{|z|}\n",
        "=\n",
        "1\n",
        "$\n",
        "\n",
        "# **Exercise 1.20**\n",
        "Find the polar form $re^{i\\theta}$ of $\\dfrac{(1-i)^{23}}{(\\sqrt{3}-i)^{13}}$\n",
        "\n",
        "### ChatGPT (incomplete solution)\n",
        "\n",
        "We can find the polar form of a complex number by using the magnitude and argument formulas. The magnitude of a complex number $z = a + bi$ is given by:\n",
        "\n",
        "$|z| = \\sqrt{a^2 + b^2}$\n",
        "\n",
        "The argument of $z$ is given by:\n",
        "\n",
        "$\\theta = \\arctan \\left(\\frac{b}{a}\\right)$\n",
        "\n",
        "So, let $z = \\frac{(1-i)^{23}}{(\\sqrt{3}-i)^{13}}$. We can find the magnitude and argument of both the numerator and denominator and then divide the results to get the polar form of $z$.\n",
        "\n",
        "First, the magnitude of $(1-i)^{23}$ is $|(1-i)^{23}| = (1^2 + (-1)^2)^{11.5} = 2^{11.5}$\n",
        "\n",
        "The argument of $(1-i)^{23}$ is $\\theta_1 = \\arctan(-1) + 2\\pi k$, where $k \\in \\mathbb{Z}$.\n",
        "\n",
        "Next, the magnitude of $(\\sqrt{3}-i)^{13}$ is $|(\\sqrt{3}-i)^{13}| = (\\sqrt{3^2 + (-1)^2})^{6.5} = (2\\sqrt{3})^{6.5}$\n",
        "\n",
        "The argument of $(\\sqrt{3}-i)^{13}$ is $\\theta_2 = \\arctan \\left(\\frac{-1}{\\sqrt{3}}\\right) + 2\\pi k$, where $k \\in \\mathbb{Z}$.\n",
        "\n",
        "Therefore, the magnitude of $z$ is:\n",
        "\n",
        "$|z| = \\frac{2^{11.5}}{(2\\sqrt{3})^{6.5}} = 2^{-5}$\n",
        "\n",
        "And the argument of $z$ is:\n",
        "\n",
        "$\\theta = \\theta_1 - \\theta_2 = \\arctan(-1) - \\arctan \\left(\\frac{-1}{\\sqrt{3}}\\right) + 2\\pi k$\n",
        "\n",
        "Finally, the polar form of $z$ is:\n",
        "\n",
        "$z = |z| e^{i\\theta} = 2^{-5} e^{i\\theta}$\n",
        "\n",
        "We will use **Sympy** to complete **ChatGPT** solution"
      ]
    },
    {
      "cell_type": "code",
      "execution_count": 20,
      "id": "cae7d261",
      "metadata": {
        "lines_to_next_cell": 2,
        "colab": {
          "base_uri": "https://localhost:8080/",
          "height": 47
        },
        "id": "cae7d261",
        "outputId": "4ae7761c-2dc5-442f-bdff-84d76a36e9ea"
      },
      "outputs": [
        {
          "output_type": "execute_result",
          "data": {
            "text/plain": [
              "-pi/6"
            ],
            "text/latex": "$\\displaystyle - \\frac{\\pi}{6}$"
          },
          "metadata": {},
          "execution_count": 20
        }
      ],
      "source": [
        "atan(1)\n",
        "\n",
        "atan(-1/sqrt(3))"
      ]
    },
    {
      "cell_type": "markdown",
      "id": "573797e1",
      "metadata": {
        "cell_marker": "\"\"\"",
        "lines_to_next_cell": 2,
        "id": "573797e1"
      },
      "source": [
        "Hence\n",
        "$\\theta = \\theta_1 - \\theta_2 = \\frac{\\pi}{4} - (-\\frac{\\pi}{6}) = \\frac{5\\pi}{12}$\n",
        "\n",
        "Hence\n",
        "$z = |z| e^{i\\theta} = 2^{-5} e^{i\\theta} = 2^{-5} e^{\\frac{5\\pi i}{12}}$\n",
        "\n",
        "# **Exercise 1.24**\n",
        "Compute $(1+i)^n+(1-i)^n$\n",
        "\n",
        "Look at this link:\n",
        "[Math StackExchange](https://math.stackexchange.com/questions/99884/is-there-a-formula-for-1in1-in)\n",
        "\n",
        "# **Exercise 1.26**\n",
        "If z1+z2+z3=0\n",
        " and |z1|=|z2|=|z3|=1\n",
        ", then z1,z2,z3\n",
        " are the vertices of an equilateral triangle.\n",
        "\n",
        "Look at the following links:\n",
        "* [Math StackExchange Link 1](https://math.stackexchange.com/questions/201100/vertices-of-equilateral-triangle-inscribed-in-the-unit-circle)\n",
        "\n",
        "* [Math StackExchange Link 2](https://math.stackexchange.com/questions/2771800/if-z-1z-2z-3-0-and-z-1-z-2-z-3-1-then-z-1-z-2-z-3-are-the-vertice)\n",
        "\n",
        "# **Exercise 1.30**\n",
        "Find center $z_0 = x_0 + ix_0$ and radius $r$ of circle passing through $z_1$, $z_2$, $z_3$\n",
        "(provided not on same line).\n",
        "\n",
        "### Solution\n",
        "\n",
        "$\n",
        "\\renewcommand{\\arraystretch}{2.0}\n",
        "\\begin{array}{l}\n",
        "|z_1-z_0|^2 = r^2\n",
        "\\\\\n",
        "|z_2-z_0|^2 = r^2\n",
        "\\\\\n",
        "|z_3-z_0|^2 = r^2\n",
        "\\\\\n",
        "(x_1 - x_0)^2 + (y_1 - y_0)^2 = r^2 \\qquad \\text{(eq1)}\n",
        "\\\\\n",
        "(x_2 - x_0)^2 + (y_2 - y_0)^2 = r^2 \\qquad \\text{(eq2)}\n",
        "\\\\\n",
        "(x_3 - x_0)^2 + (y_3 - y_0)^2 = r^2 \\qquad \\text{(eq3)}\n",
        "\\\\\n",
        "\\text{Subtract (eq2) from (eq1)}\n",
        "\\\\\n",
        "x_1^2 - x_2^2 - 2(x_1 - x_2) x_0\n",
        "+\n",
        "y_1^2 - y_2^2 - 2(y_1 - y_2) y_0\n",
        "= 0\n",
        "\\\\\n",
        "\\text{Subtract (eq3) from (eq1)}\n",
        "\\\\\n",
        "x_1^2 - x_3^2 - 2(x_1 - x_3) x_0\n",
        "+\n",
        "y_1^2 - y_3^2 - 2(y_1 - y_3) y_0\n",
        "= 0\n",
        "\\\\\n",
        "\\text{We get two equations in two variables $x_0$, $y_0$}\n",
        "\\\\\n",
        "2(x_1 - x_2) x_0 + 2(y_1 - y_2) y_0\n",
        "=\n",
        "x_1^2 - x_2^2 + y_1^2 - y_2^2\n",
        "\\\\\n",
        "2(x_1 - x_3) x_0 + 2(y_1 - y_3) y_0\n",
        "=\n",
        "x_1^2 - x_3^2 + y_1^2 - y_3^2\n",
        "\\end{array}\n",
        "$\n",
        "\n",
        "These system can be easily solved by Cramer's rule, and the radius can be computed\n",
        "as the distance from $(x_0,y_0)$ to $(x_1,y_1)$.\n",
        "\n",
        "# **TO BE CONTINUED ...**\n",
        "* Any student with basic Python programming skill\n",
        "  is welcome to continue and solve more exercises\n",
        "  from the\n",
        "  <a href=\"https://samyzaf.com/technion/cfit/cf.pdf\">\n",
        "  Complex Functions book\n",
        "</a>\n",
        "\n",
        "* In some cases\n",
        "  [ChatGPT](\"https://chat.openai.com/chat\")\n",
        "  can solve standard problems if you phrase the\n",
        "  question with many clues.\n",
        "  Beware that in many cases it gives wrong statements!\n",
        "\n",
        "* Solutions can also be found in web sites such as Math\n",
        "  [stackexchange](\"https://stackexchange.com/\")\n",
        "  or [Mathoverflow](\"https://mathoverflow.net/\").\n",
        "\n",
        "* Send your solutions notebook to sz@samyzaf.com.\n",
        "* They will be checked and added to this notebook.\n",
        "* Thanks!!!"
      ]
    }
  ],
  "metadata": {
    "jupytext": {
      "cell_metadata_filter": "-all",
      "main_language": "python",
      "notebook_metadata_filter": "-all"
    },
    "colab": {
      "provenance": [],
      "include_colab_link": true
    },
    "language_info": {
      "name": "python"
    },
    "kernelspec": {
      "name": "python3",
      "display_name": "Python 3"
    }
  },
  "nbformat": 4,
  "nbformat_minor": 5
}