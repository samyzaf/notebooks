{
  "cells": [
    {
      "cell_type": "markdown",
      "metadata": {
        "id": "view-in-github",
        "colab_type": "text"
      },
      "source": [
        "<a href=\"https://colab.research.google.com/github/samyzaf/notebooks/blob/main/cf1.ipynb\" target=\"_parent\"><img src=\"https://colab.research.google.com/assets/colab-badge.svg\" alt=\"Open In Colab\"/></a>"
      ]
    },
    {
      "cell_type": "markdown",
      "metadata": {
        "id": "zo0mZHrOCICt"
      },
      "source": [
        "# Complex Functions\n",
        "# Chapter 1: Solutions to exercises\n",
        "\n",
        "<a href=\"https://samyzaf.com/technion/cfit/cf.pdf\">\n",
        "<img src=\"https://samyzaf.com/technion/cfit/cf1.jpg\" alt=\"ode book cover\"/>\n",
        "</a>\n",
        "\n",
        "* We used Python **Sympy** package for obtaining the final\n",
        "  result for most of the exercises.\n",
        "  In some cases we used [**ChatGPT**](https://chat.openai.com/chat) application (version 3.0) to obtain step-by-step solutions\n",
        "  which **Sympy** is not yet able to give.\n",
        "* This package is still under development, and is not yet\n",
        "  ready to cope with all problems yet.\n",
        "  * Manual solutions are provided to some of the problems that cannot be\n",
        "    solved by the program. A link to a PDF solution is provided.\n",
        "* This notebook can be edited and executed by clicking\n",
        "  the **open in colab** button.\n",
        "* These are only a small number of solutions.\n",
        "  Hopefully this will encourage students to try to solve more\n",
        "  exercises with similar methods. We will be glad to accept notebooks\n",
        "  with solutions to other exercises in this book.\n",
        "  Please send them to sz@samyzaf.com."
      ]
    },
    {
      "cell_type": "code",
      "execution_count": 1,
      "metadata": {
        "colab": {
          "base_uri": "https://localhost:8080/"
        },
        "id": "M6sQe4JlsK7u",
        "outputId": "23db8467-45c3-431f-a2fd-6a6ea66491a1"
      },
      "outputs": [
        {
          "output_type": "stream",
          "name": "stdout",
          "text": [
            "Looking in indexes: https://pypi.org/simple, https://us-python.pkg.dev/colab-wheels/public/simple/\n",
            "Requirement already satisfied: sympy in /usr/local/lib/python3.8/dist-packages (1.7.1)\n",
            "Collecting sympy\n",
            "  Downloading sympy-1.11.1-py3-none-any.whl (6.5 MB)\n",
            "\u001b[2K     \u001b[90m━━━━━━━━━━━━━━━━━━━━━━━━━━━━━━━━━━━━━━━━\u001b[0m \u001b[32m6.5/6.5 MB\u001b[0m \u001b[31m35.9 MB/s\u001b[0m eta \u001b[36m0:00:00\u001b[0m\n",
            "\u001b[?25hRequirement already satisfied: mpmath>=0.19 in /usr/local/lib/python3.8/dist-packages (from sympy) (1.2.1)\n",
            "Installing collected packages: sympy\n",
            "  Attempting uninstall: sympy\n",
            "    Found existing installation: sympy 1.7.1\n",
            "    Uninstalling sympy-1.7.1:\n",
            "      Successfully uninstalled sympy-1.7.1\n",
            "Successfully installed sympy-1.11.1\n"
          ]
        }
      ],
      "source": [
        "%pip install --upgrade sympy"
      ]
    },
    {
      "cell_type": "code",
      "execution_count": 2,
      "metadata": {
        "id": "QO4VgM1r1vEy"
      },
      "outputs": [],
      "source": [
        "from sympy import *\n",
        "from math import atan2\n",
        "from cmath import exp, rect, polar, pi, isclose\n",
        "from numpy import roots\n",
        "from IPython.display import HTML"
      ]
    },
    {
      "cell_type": "markdown",
      "metadata": {
        "id": "YoIKr1sI4NRE"
      },
      "source": [
        "# Exercise 1.1.1\n",
        "\n",
        "$\\dfrac{1+2i}{3-4i} + \\dfrac{2-i}{5i}$"
      ]
    },
    {
      "cell_type": "code",
      "execution_count": 4,
      "metadata": {
        "colab": {
          "base_uri": "https://localhost:8080/",
          "height": 37
        },
        "id": "QbDnEmqKHEyF",
        "outputId": "2349b097-6f27-4971-9f55-d0392f107793"
      },
      "outputs": [
        {
          "output_type": "execute_result",
          "data": {
            "text/plain": [
              "-0.400000000000000"
            ],
            "text/latex": "$\\displaystyle -0.4$"
          },
          "metadata": {},
          "execution_count": 4
        }
      ],
      "source": [
        "z1 = 1 + 2j\n",
        "z2 = 3 - 4j\n",
        "z3 = 2 - 1j\n",
        "z4 = 5j\n",
        "e = z1 / z2 + z3 / z4\n",
        "simplify(e)"
      ]
    },
    {
      "cell_type": "code",
      "execution_count": 5,
      "metadata": {
        "colab": {
          "base_uri": "https://localhost:8080/",
          "height": 37
        },
        "id": "NZnh7uRSHpf3",
        "outputId": "cba17ffb-e2f1-4960-e6ca-99469c991f85"
      },
      "outputs": [
        {
          "output_type": "execute_result",
          "data": {
            "text/plain": [
              "-0.400000000000000"
            ],
            "text/latex": "$\\displaystyle -0.4$"
          },
          "metadata": {},
          "execution_count": 5
        }
      ],
      "source": [
        "expand(e)"
      ]
    },
    {
      "cell_type": "markdown",
      "metadata": {
        "id": "XsAHNlxoHEyG"
      },
      "source": [
        "* This was too quick\n",
        "* We can do it also step by step ..."
      ]
    },
    {
      "cell_type": "code",
      "execution_count": 6,
      "metadata": {
        "colab": {
          "base_uri": "https://localhost:8080/"
        },
        "id": "oHsVbmg_SbWq",
        "outputId": "00eb336e-3bbd-429d-f89b-0f87075b9702"
      },
      "outputs": [
        {
          "output_type": "execute_result",
          "data": {
            "text/plain": [
              "(-0.2+0.4j)"
            ]
          },
          "metadata": {},
          "execution_count": 6
        }
      ],
      "source": [
        "z1 / z2"
      ]
    },
    {
      "cell_type": "code",
      "execution_count": 7,
      "metadata": {
        "colab": {
          "base_uri": "https://localhost:8080/"
        },
        "id": "QpMUZecDHEyH",
        "outputId": "be746882-8032-4e21-e3ec-8943f1b3e996"
      },
      "outputs": [
        {
          "output_type": "execute_result",
          "data": {
            "text/plain": [
              "(-0.2-0.4j)"
            ]
          },
          "metadata": {},
          "execution_count": 7
        }
      ],
      "source": [
        "z3 / z4"
      ]
    },
    {
      "cell_type": "markdown",
      "metadata": {
        "id": "3dQpqyO2HEyK",
        "tags": []
      },
      "source": [
        "# Exercise 1.1.2\n",
        "\n",
        "$\n",
        "\\dfrac{10i}{(1-i)(2-i)(3-i)}\n",
        "$"
      ]
    },
    {
      "cell_type": "code",
      "execution_count": 8,
      "metadata": {
        "id": "CI7aPTFpHEyK",
        "colab": {
          "base_uri": "https://localhost:8080/",
          "height": 37
        },
        "outputId": "cfd1ce0a-f88d-45a8-e124-fc3f867b3827"
      },
      "outputs": [
        {
          "output_type": "execute_result",
          "data": {
            "text/plain": [
              "-1.00000000000000"
            ],
            "text/latex": "$\\displaystyle -1.0$"
          },
          "metadata": {},
          "execution_count": 8
        }
      ],
      "source": [
        "z1 = 10j\n",
        "z2 = 1 -1j\n",
        "z3 = 2 - 1j\n",
        "z4 = 3 - 1j\n",
        "e = z1 / (z2 * z3 * z4)\n",
        "simplify(e)"
      ]
    },
    {
      "cell_type": "markdown",
      "metadata": {
        "id": "ELN3i2-THEyM",
        "tags": []
      },
      "source": [
        "# Exercise 1.1.3\n",
        "\n",
        "$\n",
        "(1-i)^4\n",
        "$"
      ]
    },
    {
      "cell_type": "code",
      "execution_count": 9,
      "metadata": {
        "colab": {
          "base_uri": "https://localhost:8080/",
          "height": 37
        },
        "id": "TH-RzNV7HEyM",
        "outputId": "bc3e9369-7d2d-4f69-e7bf-1101c5b4a217"
      },
      "outputs": [
        {
          "output_type": "execute_result",
          "data": {
            "text/plain": [
              "-4.00000000000000"
            ],
            "text/latex": "$\\displaystyle -4.0$"
          },
          "metadata": {},
          "execution_count": 9
        }
      ],
      "source": [
        "z = 1 - 1j\n",
        "simplify(z**4)"
      ]
    },
    {
      "cell_type": "markdown",
      "metadata": {
        "id": "b8h0nmIcHEyN",
        "tags": []
      },
      "source": [
        "# Exercise 1.1.4\n",
        "\n",
        "$\n",
        "(\\sqrt{3}+i)^{38}\n",
        "$"
      ]
    },
    {
      "cell_type": "code",
      "execution_count": 10,
      "metadata": {
        "id": "WPq6svczHEyN",
        "colab": {
          "base_uri": "https://localhost:8080/",
          "height": 51
        },
        "outputId": "7d35e8a5-423e-40d1-c02e-60537beb879a"
      },
      "outputs": [
        {
          "output_type": "execute_result",
          "data": {
            "text/plain": [
              "(sqrt(3) + 1.0*I)**38"
            ],
            "text/latex": "$\\displaystyle \\left(\\sqrt{3} + 1.0 i\\right)^{38}$"
          },
          "metadata": {},
          "execution_count": 10
        }
      ],
      "source": [
        "z = sqrt(3) + 1j\n",
        "simplify(z**38)"
      ]
    },
    {
      "cell_type": "code",
      "execution_count": 11,
      "metadata": {
        "colab": {
          "base_uri": "https://localhost:8080/",
          "height": 40
        },
        "id": "1bLne04VSbWt",
        "outputId": "e98a12ac-29d6-40e2-a7a0-c7503b66e738"
      },
      "outputs": [
        {
          "output_type": "execute_result",
          "data": {
            "text/plain": [
              "137438953472.0 + 137438953472.0*sqrt(3)*I"
            ],
            "text/latex": "$\\displaystyle 137438953472.0 + 137438953472.0 \\sqrt{3} i$"
          },
          "metadata": {},
          "execution_count": 11
        }
      ],
      "source": [
        "expand(z**38)"
      ]
    },
    {
      "cell_type": "code",
      "execution_count": 12,
      "metadata": {
        "colab": {
          "base_uri": "https://localhost:8080/"
        },
        "id": "wQ7OyycLSbWt",
        "outputId": "bc2fce00-225a-4234-e144-ab7b1be810c1"
      },
      "outputs": [
        {
          "output_type": "execute_result",
          "data": {
            "text/plain": [
              "(1.9999999999999998, 0.5235987755982989)"
            ]
          },
          "metadata": {},
          "execution_count": 12
        }
      ],
      "source": [
        "polar(z)"
      ]
    },
    {
      "cell_type": "code",
      "execution_count": 13,
      "metadata": {
        "colab": {
          "base_uri": "https://localhost:8080/",
          "height": 37
        },
        "id": "v5OspYY8SbWu",
        "outputId": "ae2dd703-aa9c-442c-cef3-0a45077075b4"
      },
      "outputs": [
        {
          "output_type": "execute_result",
          "data": {
            "text/plain": [
              "2.00000000000000"
            ],
            "text/latex": "$\\displaystyle 2.0$"
          },
          "metadata": {},
          "execution_count": 13
        }
      ],
      "source": [
        "abs(z)"
      ]
    },
    {
      "cell_type": "code",
      "execution_count": 14,
      "metadata": {
        "colab": {
          "base_uri": "https://localhost:8080/"
        },
        "id": "fCc8oI9mSbWu",
        "outputId": "845df523-9aee-4b28-bfc2-d87fe8d33e2b"
      },
      "outputs": [
        {
          "output_type": "execute_result",
          "data": {
            "text/plain": [
              "1.0471975511965965"
            ]
          },
          "metadata": {},
          "execution_count": 14
        }
      ],
      "source": [
        "(38 * pi/6) % (2*pi)"
      ]
    },
    {
      "cell_type": "code",
      "execution_count": 15,
      "metadata": {
        "colab": {
          "base_uri": "https://localhost:8080/"
        },
        "id": "M8yJIOYmSbWu",
        "outputId": "2b11fd7d-b483-48bd-87d9-06c27632b099"
      },
      "outputs": [
        {
          "output_type": "execute_result",
          "data": {
            "text/plain": [
              "0.4636476090008061"
            ]
          },
          "metadata": {},
          "execution_count": 15
        }
      ],
      "source": [
        "t = complex(0, pi/6)\n",
        "z1 = 2 * exp(t)\n",
        "z2 = 2**38 * exp(38*t)\n",
        "atan2(1,2)"
      ]
    },
    {
      "cell_type": "markdown",
      "metadata": {
        "id": "ifdZ-0l7HEyO",
        "tags": []
      },
      "source": [
        "# Exercise 1.1.5\n",
        "\n",
        "$\\sqrt[4]{1-i\\sqrt{3}}$"
      ]
    },
    {
      "cell_type": "code",
      "execution_count": 16,
      "metadata": {
        "colab": {
          "base_uri": "https://localhost:8080/"
        },
        "id": "B9vhNYjqHEyO",
        "outputId": "f43a672f-53d4-4076-aef2-cb629554e352"
      },
      "outputs": [
        {
          "output_type": "stream",
          "name": "stdout",
          "text": [
            "(1+1.7320508075688772j)\n"
          ]
        }
      ],
      "source": [
        "z1 = complex(1, sqrt(3))\n",
        "z2 = z1 ** (1/4)\n",
        "print(z1)"
      ]
    },
    {
      "cell_type": "code",
      "execution_count": 17,
      "metadata": {
        "colab": {
          "base_uri": "https://localhost:8080/"
        },
        "id": "4bsogfNBSbWv",
        "outputId": "9fa199d5-a940-4598-c838-54b4ab3dd595"
      },
      "outputs": [
        {
          "output_type": "stream",
          "name": "stdout",
          "text": [
            "Module=1.9999999999999998, Argument=1.0471975511965976\n"
          ]
        }
      ],
      "source": [
        "r,t = polar(z1)\n",
        "print(f\"Module={r}, Argument={t}\")"
      ]
    },
    {
      "cell_type": "code",
      "execution_count": 18,
      "metadata": {
        "colab": {
          "base_uri": "https://localhost:8080/"
        },
        "id": "EU8YRyNNSbWv",
        "outputId": "42be5708-c728-4aa4-9f33-9f5259aa1263"
      },
      "outputs": [
        {
          "output_type": "execute_result",
          "data": {
            "text/plain": [
              "True"
            ]
          },
          "metadata": {},
          "execution_count": 18
        }
      ],
      "source": [
        "isclose(t, pi/3)"
      ]
    },
    {
      "cell_type": "markdown",
      "metadata": {
        "id": "tpdaDQF3SbWw"
      },
      "source": [
        "* Looks like $z_1 = 2 e^{\\frac{i\\pi}{3}}$.\n",
        "* Hence $\\sqrt[4]{z_1} = \\sqrt[4]{2} e^{\\frac{i\\pi}{12}}$."
      ]
    },
    {
      "cell_type": "markdown",
      "metadata": {
        "id": "0z964DO6HEyP",
        "tags": []
      },
      "source": [
        "# Exercise 1.1.6\n",
        "\n",
        "$\\left(\\sqrt{2+\\sqrt{2}} + i\\sqrt{2-\\sqrt{2}}\\right)^4$"
      ]
    },
    {
      "cell_type": "code",
      "execution_count": 19,
      "metadata": {
        "colab": {
          "base_uri": "https://localhost:8080/",
          "height": 39
        },
        "id": "rHSKpFRqHEyQ",
        "outputId": "e6059139-b05d-43b7-9247-135c89af9a1c"
      },
      "outputs": [
        {
          "output_type": "execute_result",
          "data": {
            "text/plain": [
              "-3.5527136788005e-15 + 16.0*I"
            ],
            "text/latex": "$\\displaystyle -3.5527136788005 \\cdot 10^{-15} + 16.0 i$"
          },
          "metadata": {},
          "execution_count": 19
        }
      ],
      "source": [
        "x = sqrt(2 + sqrt(2))\n",
        "y = sqrt(2 - sqrt(2))\n",
        "z = complex(x, y)\n",
        "simplify(z**4)"
      ]
    },
    {
      "cell_type": "markdown",
      "metadata": {
        "id": "SFsRlFyXHEyQ"
      },
      "source": [
        "* The real part is clearly 0.\n",
        "* Hence the final answer is $z^4 = 16i$."
      ]
    },
    {
      "cell_type": "code",
      "execution_count": 20,
      "metadata": {
        "colab": {
          "base_uri": "https://localhost:8080/"
        },
        "id": "7O78sN8CSbWw",
        "outputId": "cd00bed8-6b58-4b2d-ff2e-671d1ecb5799"
      },
      "outputs": [
        {
          "output_type": "stream",
          "name": "stdout",
          "text": [
            "Module=2.0, Argument=0.3926990816987242\n"
          ]
        }
      ],
      "source": [
        "r,t = polar(z)\n",
        "print(f\"Module={r}, Argument={t}\")"
      ]
    },
    {
      "cell_type": "code",
      "execution_count": 21,
      "metadata": {
        "colab": {
          "base_uri": "https://localhost:8080/"
        },
        "id": "OOFrqPbnSbWx",
        "outputId": "2b4f832d-d3d5-4f0b-b925-7a15bed77090"
      },
      "outputs": [
        {
          "output_type": "execute_result",
          "data": {
            "text/plain": [
              "7.999999999999999"
            ]
          },
          "metadata": {},
          "execution_count": 21
        }
      ],
      "source": [
        "pi / t"
      ]
    },
    {
      "cell_type": "code",
      "execution_count": 22,
      "metadata": {
        "colab": {
          "base_uri": "https://localhost:8080/"
        },
        "id": "9UUCcCvmSbWx",
        "outputId": "ec574da8-68fd-48a8-8aee-da6399c8a8e9"
      },
      "outputs": [
        {
          "output_type": "execute_result",
          "data": {
            "text/plain": [
              "True"
            ]
          },
          "metadata": {},
          "execution_count": 22
        }
      ],
      "source": [
        "isclose(t, pi/8)"
      ]
    },
    {
      "cell_type": "markdown",
      "metadata": {
        "id": "FF8pNyGPSbWx"
      },
      "source": [
        "* The last computations suggest that $z = 2 e^{\\frac{i\\pi}{8}}$.\n",
        "* But this is not a mathematical proof :-) It must be proven rigorously!\n",
        "* Hence $z^4 = 2^4 e^{\\frac{4i\\pi}{8}} = 16 e^{\\frac{i\\pi}{2}} = 16i$"
      ]
    },
    {
      "cell_type": "markdown",
      "metadata": {
        "id": "ORnYv0LxSbWx"
      },
      "source": [
        "### ChatGPT 3.0\n",
        "Here's a step-by-step simplification of\n",
        "$\\left(\\sqrt{2+\\sqrt{2}} + i\\sqrt{2-\\sqrt{2}}\\right)^4$:\n",
        "\n",
        "Square the real and imaginary parts:\n",
        "\n",
        "$\\left(\\sqrt{2+\\sqrt{2}} + i\\sqrt{2-\\sqrt{2}})^2 = (2+\\sqrt{2}) + 2i\\sqrt{2-\\sqrt{2}} + (2-\\sqrt{2}\\right)i^2 = 4 + 2\\sqrt{2} + 2\\sqrt{2}i^2$\n",
        "\n",
        "Square the result again:\n",
        "\n",
        "$\\left(\\sqrt{2+\\sqrt{2}} + i\\sqrt{2-\\sqrt{2}}\\right)^4 = (4 + 2\\sqrt{2} + 2\\sqrt{2}i^2)^2 = 16 + 16\\sqrt{2} + 8\\sqrt{2}i^2$\n",
        "\n",
        "Simplify the imaginary part:\n",
        "$8\\sqrt{2}i^2 = 8\\sqrt{2}(-1) = -8\\sqrt{2}$\n",
        "\n",
        "The final result is:\n",
        "$\\left(\\sqrt{2+\\sqrt{2}} + i\\sqrt{2-\\sqrt{2}}\\right)^4 = 16 + 16\\sqrt{2} - 8\\sqrt{2} = 16$"
      ]
    },
    {
      "cell_type": "markdown",
      "metadata": {
        "tags": [],
        "id": "Mlye4uLiSbWy"
      },
      "source": [
        "# Exercise 1.2\n",
        "Simplify the following expression to the form $x+iy$\n",
        "\n",
        "$\\dfrac{a+ib}{a-ib} - \\dfrac{a-ib}{a+ib}$"
      ]
    },
    {
      "cell_type": "code",
      "execution_count": 23,
      "metadata": {
        "colab": {
          "base_uri": "https://localhost:8080/",
          "height": 53
        },
        "outputId": "da0366c4-2bec-4687-b6b3-4e06bf3190f3",
        "id": "rlt-g3ZZSbWy"
      },
      "outputs": [
        {
          "output_type": "execute_result",
          "data": {
            "text/plain": [
              "4.0*I*a*b/(a**2 + b**2)"
            ],
            "text/latex": "$\\displaystyle \\frac{4.0 i a b}{a^{2} + b^{2}}$"
          },
          "metadata": {},
          "execution_count": 23
        }
      ],
      "source": [
        "a, b = symbols(\"a b\", real=True)\n",
        "z1 = a + b * (1j)\n",
        "z2 = a - b * (1j)\n",
        "e = z1 / z2 - z2 / z1\n",
        "simplify(e)"
      ]
    },
    {
      "cell_type": "markdown",
      "metadata": {
        "id": "GCPM2he8SbWy"
      },
      "source": [
        "* This is of course only the final answer.\n",
        "* The sutudent is still required to come up with a formal proof!\n",
        "* In some cases, ChatGPT can give a correct answer. But you need to provide a lot of help!\n",
        "* In this case we told ChatGPT that the final answer is $\\frac{4 i a b}{a^{2} + b^{2}}$,\n",
        "  and it provided the steps to get this answer!"
      ]
    },
    {
      "cell_type": "markdown",
      "metadata": {
        "id": "CSEnl49JSbWy"
      },
      "source": [
        "### ChatGPT 3.0 ANSWER\n",
        "The expression can be simplified as follows:\n",
        "\\begin{align*}\n",
        "\\frac{a+ib}{a-ib} - \\frac{a-ib}{a+ib} &= \\frac{(a+ib)(a+ib) - (a-ib)(a-ib)}{(a-ib)(a+ib)} \\\\\n",
        "&= \\frac{a^2 + 2iab + b^2 - (a^2 - 2iab + b^2)}{(a^2 + b^2)} \\\\\n",
        "&= \\frac{4iab}{(a^2 + b^2)} \\\\\n",
        "\\end{align*}\n",
        "Hence, the expression can be reduced to $\\frac{4abi}{a^2 + b^2}$."
      ]
    },
    {
      "cell_type": "markdown",
      "metadata": {
        "tags": [],
        "id": "JDnptxuGSbWz"
      },
      "source": [
        "# Exercise 1.3.1\n",
        "Find all roots of\n",
        "\n",
        "$z^2 +\\sqrt{32}z - 6i = 0$"
      ]
    },
    {
      "cell_type": "code",
      "execution_count": 24,
      "metadata": {
        "colab": {
          "base_uri": "https://localhost:8080/"
        },
        "outputId": "624416ee-6d35-45e8-c1cf-dc0498a7e98f",
        "id": "_V1fWSQNSbWz"
      },
      "outputs": [
        {
          "output_type": "execute_result",
          "data": {
            "text/plain": [
              "[-5.82842712474619 - 1.0*I, 0.17157287525381 + 1.0*I]"
            ]
          },
          "metadata": {},
          "execution_count": 24
        }
      ],
      "source": [
        "z = symbols(\"z\", complex=True)\n",
        "eq = z**2 + sqrt(32) * z - 6*I\n",
        "nroots(eq)"
      ]
    },
    {
      "cell_type": "markdown",
      "metadata": {
        "id": "t3w9B181SbWz"
      },
      "source": [
        "* Note that **Sympy** is using **I** as the name of the imaginary unit $i$\n",
        "* The roots are given in a **numeric form** while there student has to find the **symbolic form** ...\n",
        "* In this case we can find the symbolic roots by using the well known formula for the quadratic equation\n",
        "\n",
        "$\n",
        "\\qquad\n",
        "z_1, z_2\n",
        "=\n",
        "\\frac{-b \\pm \\sqrt{b^2 - 4ac}}{2a}\n",
        "=\n",
        "\\frac{-\\sqrt{32} \\pm \\sqrt{32 + 24i}}{2}\n",
        "$\n",
        "\n",
        "* The square root of $32 + 24i$ can be easily computed by"
      ]
    },
    {
      "cell_type": "code",
      "execution_count": 25,
      "metadata": {
        "colab": {
          "base_uri": "https://localhost:8080/"
        },
        "id": "2zYVvhaaSbWz",
        "outputId": "b0845c9e-2c59-4455-c4d6-c9212de62be7"
      },
      "outputs": [
        {
          "output_type": "execute_result",
          "data": {
            "text/plain": [
              "(6+2j)"
            ]
          },
          "metadata": {},
          "execution_count": 25
        }
      ],
      "source": [
        "complex(sqrt(32 + 24j))"
      ]
    },
    {
      "cell_type": "markdown",
      "metadata": {
        "id": "c0Bx-ayiSbWz"
      },
      "source": [
        "* Therefore we get (ChatGPT helped)\n",
        "\n",
        "$\\qquad\n",
        "z_1, z_2\n",
        "=\n",
        "\\frac{-\\sqrt{32} \\pm \\sqrt{32 + 24i}}{2}\n",
        "=\n",
        "\\frac{-\\sqrt{32} \\pm (6+2i)}{2}\n",
        "=\n",
        "\\frac{-\\sqrt{32} - 6 - 2i)}{2},\\ \n",
        "\\frac{-\\sqrt{32} + 6+2i}{2}\n",
        "=\n",
        "-\\sqrt{8} - 3 -i,\\ -\\sqrt{8} + 3 +i\n",
        "$"
      ]
    },
    {
      "cell_type": "markdown",
      "metadata": {
        "tags": [],
        "id": "BTKobQczSbW0"
      },
      "source": [
        "# Exercise 1.3.2\n",
        "Solve\n",
        "\n",
        "$z^2=\\overline{z}$"
      ]
    },
    {
      "cell_type": "code",
      "execution_count": 26,
      "metadata": {
        "colab": {
          "base_uri": "https://localhost:8080/"
        },
        "outputId": "1f758c12-e11e-48b7-e57f-347d00205ded",
        "id": "UGvk_3D2SbW0"
      },
      "outputs": [
        {
          "output_type": "execute_result",
          "data": {
            "text/plain": [
              "[]"
            ]
          },
          "metadata": {},
          "execution_count": 26
        }
      ],
      "source": [
        "x,y = symbols(\"x y\", real=True)\n",
        "eq = (x + y*I)**2 - x + y*I\n",
        "solve(eq, 0)"
      ]
    },
    {
      "cell_type": "code",
      "execution_count": 27,
      "metadata": {
        "colab": {
          "base_uri": "https://localhost:8080/",
          "height": 39
        },
        "id": "SGaxIkYWSbW0",
        "outputId": "a6d403b5-3f6a-49b1-9d3a-bdcd379330eb"
      },
      "outputs": [
        {
          "output_type": "execute_result",
          "data": {
            "text/plain": [
              "x**2 + 2*I*x*y - y**2"
            ],
            "text/latex": "$\\displaystyle x^{2} + 2 i x y - y^{2}$"
          },
          "metadata": {},
          "execution_count": 27
        }
      ],
      "source": [
        "expand((x + y*I)**2)"
      ]
    },
    {
      "cell_type": "markdown",
      "metadata": {
        "id": "RhvlbLneSbW0"
      },
      "source": [
        "$x^2 -y^2 = x$\n",
        "\n",
        "$2xy = -y$\n",
        "\n",
        "$x=-\\frac{1}{2}$, $y=\\frac{\\sqrt{3}}{2}$\n",
        "\n",
        "$x=0,1$, $y=0$"
      ]
    },
    {
      "cell_type": "markdown",
      "metadata": {
        "id": "zV3Q4im9HEyR",
        "tags": []
      },
      "source": [
        "# Exercise 1.3.5\n",
        "Solve equation\n",
        "\n",
        "$z^3=2iz$"
      ]
    },
    {
      "cell_type": "code",
      "execution_count": 28,
      "metadata": {
        "id": "Ax0RmdERHEyR",
        "colab": {
          "base_uri": "https://localhost:8080/"
        },
        "outputId": "47360bdc-823a-4096-f76e-0a3242009696"
      },
      "outputs": [
        {
          "output_type": "execute_result",
          "data": {
            "text/plain": [
              "[0, -1.0 - 1.0*I, 1.0 + 1.0*I]"
            ]
          },
          "metadata": {},
          "execution_count": 28
        }
      ],
      "source": [
        "z = symbols(\"z\", complex=True)\n",
        "eq = z**3 - 2*I*z\n",
        "nroots(eq)"
      ]
    },
    {
      "cell_type": "markdown",
      "metadata": {
        "id": "7P-FQPPUSbW1"
      },
      "source": [
        "* To get a better display of this result we use:"
      ]
    },
    {
      "cell_type": "code",
      "execution_count": 29,
      "metadata": {
        "colab": {
          "base_uri": "https://localhost:8080/",
          "height": 81
        },
        "id": "M7NTR6liSbW1",
        "outputId": "f3a88839-39fa-43f9-8455-5ada1c96cba5"
      },
      "outputs": [
        {
          "output_type": "display_data",
          "data": {
            "text/plain": [
              "0"
            ],
            "text/latex": "$\\displaystyle 0$"
          },
          "metadata": {}
        },
        {
          "output_type": "display_data",
          "data": {
            "text/plain": [
              "-1.0 - 1.0*I"
            ],
            "text/latex": "$\\displaystyle -1.0 - 1.0 i$"
          },
          "metadata": {}
        },
        {
          "output_type": "display_data",
          "data": {
            "text/plain": [
              "1.0 + 1.0*I"
            ],
            "text/latex": "$\\displaystyle 1.0 + 1.0 i$"
          },
          "metadata": {}
        }
      ],
      "source": [
        "for r in nroots(eq):\n",
        "    display(r)"
      ]
    },
    {
      "cell_type": "markdown",
      "metadata": {
        "id": "K_s94S5KSbW1"
      },
      "source": [
        "#### Checking ..."
      ]
    },
    {
      "cell_type": "code",
      "execution_count": 30,
      "metadata": {
        "colab": {
          "base_uri": "https://localhost:8080/"
        },
        "id": "jhkOri5ySbW1",
        "outputId": "f0b97c76-929b-4b9c-b910-5301aaa6210d"
      },
      "outputs": [
        {
          "output_type": "execute_result",
          "data": {
            "text/plain": [
              "(4.727285052306297e-125+4.727285052306297e-125j)"
            ]
          },
          "metadata": {},
          "execution_count": 30
        }
      ],
      "source": [
        "complex(eq.subs(z, 1+1j))"
      ]
    },
    {
      "cell_type": "markdown",
      "metadata": {
        "id": "FxX4A5CaSbW1"
      },
      "source": [
        "This looks like 0+0i"
      ]
    },
    {
      "cell_type": "markdown",
      "metadata": {
        "id": "tbi4Sdn4M_XL"
      },
      "source": [
        "### [Link to step-by-step-solution](https://samyzaf.com/technion/cfit/sol/chap1.3.5.pdf)"
      ]
    },
    {
      "cell_type": "markdown",
      "metadata": {
        "tags": [],
        "id": "e_MKYEirSbW2"
      },
      "source": [
        "# Exercise 1.3.6\n",
        "Solve equation\n",
        "\n",
        "$z^n=\\overline{z} \\quad (n=1,2,3,\\ldots)$"
      ]
    },
    {
      "cell_type": "markdown",
      "metadata": {
        "id": "deJcp_I4SbW2"
      },
      "source": [
        "### [Link to step-by-step-solution](https://samyzaf.com/technion/cfit/sol/chap1.3.6.pdf)"
      ]
    },
    {
      "cell_type": "markdown",
      "metadata": {
        "id": "KTAnjBA6SbW2"
      },
      "source": [
        "### ChatGPT (probably incorrect?)\n",
        "The equation $z^n = \\overline{z}$ can be solved by expressing $z$ in polar form, $z = r e^{i\\theta}$, where $r \\ge 0$ is the magnitude of $z$ and $0 \\le \\theta < 2\\pi$ is the argument of $z$. Substituting into the equation $z^n = \\overline{z}$ yields:\n",
        "\n",
        "\\begin{align*}\n",
        "r^n e^{in\\theta} &= r e^{-i\\theta} \\\\\n",
        "r^{n-1} &= 1 \\\\\n",
        "r &= 1\n",
        "\\end{align*}\n",
        "\n",
        "Since $0 \\le \\theta < 2\\pi$, we have the following solutions:\n",
        "\n",
        "\\begin{align*}\n",
        "z &= e^{i \\left( \\frac{2\\pi k}{n} \\right)} \\\\\n",
        "&= \\cos \\left( \\frac{2\\pi k}{n} \\right) + i \\sin \\left( \\frac{2\\pi k}{n} \\right)\n",
        "\\end{align*}\n",
        "where $k \\in \\mathbb{Z}$ and $0 \\le k < n$.\n",
        "\n",
        "Thus, the solutions to the equation $z^n = \\overline{z}$ in polar form are\n",
        "$z = \\cos \\left( \\frac{2\\pi k}{n} \\right) + i \\sin \\left( \\frac{2\\pi k}{n} \\right)$\n",
        "for $k \\in \\mathbb{Z}$ and $0 \\le k < n$."
      ]
    },
    {
      "cell_type": "markdown",
      "metadata": {
        "tags": [],
        "id": "qYkHSdP4SbW2"
      },
      "source": [
        "# Exercise 1.3.7\n",
        "Solve equation\n",
        "\n",
        "$z^2=|z|^2-4$"
      ]
    },
    {
      "cell_type": "markdown",
      "metadata": {
        "id": "M2TV3OBxSbW2"
      },
      "source": [
        "### [Link to step-by-step-solution](https://samyzaf.com/technion/cfit/sol/chap1.3.7.pdf)"
      ]
    },
    {
      "cell_type": "markdown",
      "metadata": {
        "tags": [],
        "id": "nbzL80OUSbW3"
      },
      "source": [
        "# Exercise 1.4.1\n",
        "Solve equation\n",
        "\n",
        "$Re(z^2)=Im(z^2)$"
      ]
    },
    {
      "cell_type": "markdown",
      "metadata": {
        "id": "_B-UzXisSbW3"
      },
      "source": [
        "* Full solution to this problem in the following link."
      ]
    },
    {
      "cell_type": "markdown",
      "metadata": {
        "id": "9CFOmrahSbW3"
      },
      "source": [
        "### [Link to step-by-step-solution](https://samyzaf.com/technion/cfit/sol/chap1.4.1.pdf)"
      ]
    },
    {
      "cell_type": "markdown",
      "metadata": {
        "tags": [],
        "id": "o9fq_z3USbW3"
      },
      "source": [
        "# Exercise 1.4.3\n",
        "Solve equation\n",
        "\n",
        "$\\arg{\\frac{z}{z-1}} = \\frac{\\pi}{2}$"
      ]
    },
    {
      "cell_type": "markdown",
      "metadata": {
        "id": "5pCbqCN9SbW3"
      },
      "source": [
        "* Full solution to this problem in the following link."
      ]
    },
    {
      "cell_type": "markdown",
      "metadata": {
        "id": "hzRRxZpWSbW3"
      },
      "source": [
        "### [Link to step-by-step-solution](https://samyzaf.com/technion/cfit/sol/chap1.4.3.pdf)"
      ]
    },
    {
      "cell_type": "markdown",
      "metadata": {
        "id": "I1NmpP5ZSbW4"
      },
      "source": [
        "* It is advised to run several checks to test the final resut ..."
      ]
    },
    {
      "cell_type": "code",
      "execution_count": 31,
      "metadata": {
        "colab": {
          "base_uri": "https://localhost:8080/",
          "height": 47
        },
        "id": "VAcV_c7iSbW4",
        "outputId": "f8fb3320-14d4-47b3-ab7c-24a842f3c3cc"
      },
      "outputs": [
        {
          "output_type": "execute_result",
          "data": {
            "text/plain": [
              "pi/2"
            ],
            "text/latex": "$\\displaystyle \\frac{\\pi}{2}$"
          },
          "metadata": {},
          "execution_count": 31
        }
      ],
      "source": [
        "z = 0.5 - 0.5j\n",
        "arg(z/(z-1))"
      ]
    },
    {
      "cell_type": "code",
      "execution_count": 32,
      "metadata": {
        "colab": {
          "base_uri": "https://localhost:8080/",
          "height": 47
        },
        "id": "oX3PUkv3SbW4",
        "outputId": "126bee94-cf5b-4f83-d302-60df239ae5e5"
      },
      "outputs": [
        {
          "output_type": "execute_result",
          "data": {
            "text/plain": [
              "-pi/2"
            ],
            "text/latex": "$\\displaystyle - \\frac{\\pi}{2}$"
          },
          "metadata": {},
          "execution_count": 32
        }
      ],
      "source": [
        "x = 0.87\n",
        "y = (0.25 - (x-0.5)**2)**0.5\n",
        "z = complex(x,y)\n",
        "arg(z/(z-1))         # Upper circle! Not supposed to be a solution"
      ]
    },
    {
      "cell_type": "code",
      "execution_count": 33,
      "metadata": {
        "colab": {
          "base_uri": "https://localhost:8080/",
          "height": 47
        },
        "id": "O_0Em4R6SbW4",
        "outputId": "592270c6-dbc4-426c-ba65-ba81d3d45084"
      },
      "outputs": [
        {
          "output_type": "execute_result",
          "data": {
            "text/plain": [
              "pi/2"
            ],
            "text/latex": "$\\displaystyle \\frac{\\pi}{2}$"
          },
          "metadata": {},
          "execution_count": 33
        }
      ],
      "source": [
        "x = 0.87\n",
        "y = -(0.25 - (x-0.5)**2)**0.5\n",
        "z = complex(x,y)\n",
        "#print(z)\n",
        "arg(z/(z-1))         # Lower circle! Supposed to be a solution!"
      ]
    },
    {
      "cell_type": "markdown",
      "metadata": {
        "tags": [],
        "id": "CZugh73gSbW4"
      },
      "source": [
        "# Exercise 1.5\n",
        "$z_1=2+i$ is one root of\n",
        "$z^4-6z^3+16z^2-22z+k=0$,\n",
        "where $k$ is an integer.\n",
        "\n",
        "Find all roots and values of $k$."
      ]
    },
    {
      "cell_type": "markdown",
      "metadata": {
        "id": "RktEC18TSbW5"
      },
      "source": [
        "### Solution\n",
        "\n",
        "* We need to divide the polynom $z^4-6z^3+16z^2-22z+k=0$ by $z-z_1$.\n",
        "* In Python/Sympy, polynomial division is performed by the **div** method.\n",
        "* It returns the quotient and the remainder"
      ]
    },
    {
      "cell_type": "code",
      "execution_count": 34,
      "metadata": {
        "colab": {
          "base_uri": "https://localhost:8080/",
          "height": 61
        },
        "id": "pKA9gCFLSbW5",
        "outputId": "e062cf62-1d58-439f-9f42-b63fab5e3f3b"
      },
      "outputs": [
        {
          "output_type": "display_data",
          "data": {
            "text/plain": [
              "1.0*z**3 + z**2*(-4.0 + 1.0*I) + z*(7.0 - 2.0*I) - 6.0 + 3.0*I"
            ],
            "text/latex": "$\\displaystyle 1.0 z^{3} + z^{2} \\left(-4.0 + 1.0 i\\right) + z \\left(7.0 - 2.0 i\\right) - 6.0 + 3.0 i$"
          },
          "metadata": {}
        },
        {
          "output_type": "display_data",
          "data": {
            "text/plain": [
              "1.0*k - 15.0"
            ],
            "text/latex": "$\\displaystyle 1.0 k - 15.0$"
          },
          "metadata": {}
        }
      ],
      "source": [
        "z = symbols(\"z\", complex=True)\n",
        "k = symbols(\"k\", integer=True)\n",
        "eq = z**4 - 6*z**3 + 16*z**2 - 22*z + k\n",
        "z1 = 2 + 1j\n",
        "q,r = div(eq, z-z1, domain=\"CC\")\n",
        "display(q)\n",
        "display(r)"
      ]
    },
    {
      "cell_type": "markdown",
      "metadata": {
        "id": "_gP0ntp2SbW5"
      },
      "source": [
        "* In order for $z_1$ to be a root we must have $k=15$.\n",
        "* Since all coeficients of our polynomial are real, $z_2 = 2 - i$ is also a root!"
      ]
    },
    {
      "cell_type": "code",
      "execution_count": 35,
      "metadata": {
        "colab": {
          "base_uri": "https://localhost:8080/"
        },
        "id": "oYL3ZGuNSbW5",
        "outputId": "6df94716-7047-4d38-e127-02cb59df75fb"
      },
      "outputs": [
        {
          "output_type": "execute_result",
          "data": {
            "text/plain": [
              "[1.0 - 1.4142135623731*I, 1.0 + 1.4142135623731*I]"
            ]
          },
          "metadata": {},
          "execution_count": 35
        }
      ],
      "source": [
        "z2 = 2 - 1j\n",
        "q2, r = div(q, z-z2, domain=\"CC\") \n",
        "nroots(q2)"
      ]
    },
    {
      "cell_type": "markdown",
      "metadata": {
        "id": "pMiScsjrSbW5"
      },
      "source": [
        "* The other roots are:"
      ]
    },
    {
      "cell_type": "code",
      "execution_count": 36,
      "metadata": {
        "colab": {
          "base_uri": "https://localhost:8080/",
          "height": 61
        },
        "id": "yEM0o8AOSbW6",
        "outputId": "e959546e-3a10-4562-86dd-65ef1a46c221"
      },
      "outputs": [
        {
          "output_type": "display_data",
          "data": {
            "text/plain": [
              "1.0 - 1.4142135623731*I"
            ],
            "text/latex": "$\\displaystyle 1.0 - 1.4142135623731 i$"
          },
          "metadata": {}
        },
        {
          "output_type": "display_data",
          "data": {
            "text/plain": [
              "1.0 + 1.4142135623731*I"
            ],
            "text/latex": "$\\displaystyle 1.0 + 1.4142135623731 i$"
          },
          "metadata": {}
        }
      ],
      "source": [
        "for r in nroots(q2):\n",
        "    display(r)"
      ]
    },
    {
      "cell_type": "code",
      "execution_count": 37,
      "metadata": {
        "colab": {
          "base_uri": "https://localhost:8080/"
        },
        "id": "pU2JB1Y4SbW6",
        "outputId": "421cbe0e-4475-48dc-ff60-b1e23d31ea51"
      },
      "outputs": [
        {
          "output_type": "execute_result",
          "data": {
            "text/plain": [
              "True"
            ]
          },
          "metadata": {},
          "execution_count": 37
        }
      ],
      "source": [
        "isclose(1.4142135623731, sqrt(2))"
      ]
    },
    {
      "cell_type": "markdown",
      "metadata": {
        "id": "7HA_INihSbW6"
      },
      "source": [
        "Final answer:\n",
        "\n",
        "$k=15$\n",
        "\n",
        "$z_1 = 2 + i$\n",
        "\n",
        "$z_2 = 2 - i$\n",
        "\n",
        "$z_3 = 1 - \\sqrt{2}\\,i$\n",
        "\n",
        "$z_4 = 1 + \\sqrt{2}\\,i$"
      ]
    },
    {
      "cell_type": "markdown",
      "metadata": {
        "id": "2WbLRqQfSbW6"
      },
      "source": [
        "* This is only a numerical solution.\n",
        "* The student is still required to perform a rigorous polynomial division.\n",
        "* You can find how to do it in many places like:\n",
        "[How to divide polynomials?](https://www.geeksforgeeks.org/how-to-divide-polynomials)"
      ]
    },
    {
      "cell_type": "markdown",
      "metadata": {
        "tags": [],
        "id": "RY8NXGh0SbW6"
      },
      "source": [
        "# Exercise 1.7\n",
        "Use the formula\n",
        "$\\arg{z_1/z_2} = \\arg{z_1} - \\arg{z_2}$\n",
        "to calculate the angles of the triangle whose vertices are $z_1$, $z_2$, $z_3$."
      ]
    },
    {
      "cell_type": "markdown",
      "metadata": {
        "id": "y-3iKYDeSbW6"
      },
      "source": [
        "* Full solution to this problem in the following link."
      ]
    },
    {
      "cell_type": "markdown",
      "metadata": {
        "id": "3pPDnVPwSbW7"
      },
      "source": [
        "### [Link to step-by-step-solution](https://samyzaf.com/technion/cfit/sol/chap1.7.pdf)"
      ]
    },
    {
      "cell_type": "markdown",
      "metadata": {
        "tags": [],
        "id": "KHMjSXVqSbW7"
      },
      "source": [
        "# Exercise 1.9\n",
        "Prove the parallelogram equality for complex numbers\n",
        "\n",
        "$|z_1 + z_2|^2 + |z_1 - z_2|^2 = 2(|z_1|^2 + |z_2|^2)$"
      ]
    },
    {
      "cell_type": "markdown",
      "metadata": {
        "id": "AM86zkYlSbW7"
      },
      "source": [
        "### ChatGPT\n",
        "The parallelogram equality can be proven as follows:\n",
        "\n",
        "Starting with the left-hand side:\n",
        "\n",
        "\\begin{align*}\n",
        "\t|z_1+z_2|^2+|z_1-z_2|^2&=(z_1+z_2)(\\overline{z_1+z_2})+(z_1-z_2)(\\overline{z_1-z_2})\\\\\n",
        "\t&=(z_1+z_2)(\\overline{z_1}+\\overline{z_2})+(z_1-z_2)(\\overline{z_1}-\\overline{z_2})\\\\\n",
        "\t&=z_1\\overline{z_1}+z_2\\overline{z_2}+z_1\\overline{z_2}+\\overline{z_1}z_2+z_1\\overline{z_1}+z_2\\overline{z_2}-z_1\\overline{z_2}-\\overline{z_1}z_2\\\\\n",
        "\t&=2z_1\\overline{z_1}+2z_2\\overline{z_2}\\\\\n",
        "&=2|z_1|^2+2|z_2|^2\\\\\n",
        "\t&=2(|z_1|^2+|z_2|^2).\n",
        "\\end{align*}\n",
        "\n",
        "And the parallelogram equality is proven."
      ]
    },
    {
      "cell_type": "markdown",
      "metadata": {
        "tags": [],
        "id": "AyQd8q3QSbW7"
      },
      "source": [
        "# Exercise 1.13\n",
        "Prove that for every $z$,\n",
        "$|Re(z)| + |Im(z)| \\leq \\sqrt{2}|z|$"
      ]
    },
    {
      "cell_type": "markdown",
      "metadata": {
        "id": "Ik5iAtdSSbW7"
      },
      "source": [
        "### Solution\n",
        "\n",
        "$(\\sqrt{2}|z|)^2=2|z|^2=2x^2+2y^2$\n",
        "\n",
        "$(|\\operatorname{Re}z|+|\\operatorname{Im}z|)^2=(|x|+|y|)^2=x^2+y^2+2|xy|$\n",
        "\n",
        "$(\\sqrt{2}|z|)^2-(|\\operatorname{Re}z|+|\\operatorname{Im}z|)^2=x^2+y^2-2|xy|=(|x|-|y|)^2\\geq 0$\n",
        "\n",
        "Hence: $\\sqrt{2}|z|\\geq |\\operatorname{Re}z|+|\\operatorname{Im}z|$\n",
        "\n",
        "Source: [Math Exchange](https://math.stackexchange.com/questions/116457/how-does-one-prove-sqrt2z-geq-operatornamerez-operatornameimz-h)"
      ]
    },
    {
      "cell_type": "markdown",
      "metadata": {
        "tags": [],
        "id": "M6JZIpPYSbW8"
      },
      "source": [
        "# Exercise 1.14\n",
        "Prove that for every real number $x$,\n",
        "$\\left|\\frac{x-i}{x+i}\\right| = 1$"
      ]
    },
    {
      "cell_type": "markdown",
      "metadata": {
        "id": "ZlZFwBKSSbW8"
      },
      "source": [
        "Let $z=x+i$.\n",
        "\n",
        "Then\n",
        "\n",
        "$\\displaystyle\n",
        "\\left|\\frac{x-i}{x+i}\\right|\n",
        "=\n",
        "\\left|\\frac{\\overline{z}}{z}\\right|\n",
        "=\n",
        "\\frac{|\\overline{z}|}{|z|}\n",
        "=\n",
        "\\frac{|z|}{|z|}\n",
        "=\n",
        "1\n",
        "$"
      ]
    },
    {
      "cell_type": "markdown",
      "metadata": {
        "tags": [],
        "id": "FzMvStsCSbW8"
      },
      "source": [
        "# Exercise 1.20\n",
        "Find the polar form $re^{i\\theta}$ of $\\dfrac{(1-i)^{23}}{(\\sqrt{3}-i)^{13}}$"
      ]
    },
    {
      "cell_type": "markdown",
      "metadata": {
        "id": "qyBEssrmSbW8"
      },
      "source": [
        "### ChatGPT (incomplete solution)\n",
        "\n",
        "We can find the polar form of a complex number by using the magnitude and argument formulas. The magnitude of a complex number $z = a + bi$ is given by:\n",
        "\n",
        "$|z| = \\sqrt{a^2 + b^2}$\n",
        "\n",
        "The argument of $z$ is given by:\n",
        "\n",
        "$\\theta = \\arctan \\left(\\frac{b}{a}\\right)$\n",
        "\n",
        "So, let $z = \\frac{(1-i)^{23}}{(\\sqrt{3}-i)^{13}}$. We can find the magnitude and argument of both the numerator and denominator and then divide the results to get the polar form of $z$.\n",
        "\n",
        "First, the magnitude of $(1-i)^{23}$ is $|(1-i)^{23}| = (1^2 + (-1)^2)^{11.5} = 2^{11.5}$\n",
        "\n",
        "The argument of $(1-i)^{23}$ is $\\theta_1 = \\arctan(-1) + 2\\pi k$, where $k \\in \\mathbb{Z}$.\n",
        "\n",
        "Next, the magnitude of $(\\sqrt{3}-i)^{13}$ is $|(\\sqrt{3}-i)^{13}| = (\\sqrt{3^2 + (-1)^2})^{6.5} = (2\\sqrt{3})^{6.5}$\n",
        "\n",
        "The argument of $(\\sqrt{3}-i)^{13}$ is $\\theta_2 = \\arctan \\left(\\frac{-1}{\\sqrt{3}}\\right) + 2\\pi k$, where $k \\in \\mathbb{Z}$.\n",
        "\n",
        "Therefore, the magnitude of $z$ is:\n",
        "\n",
        "$|z| = \\frac{2^{11.5}}{(2\\sqrt{3})^{6.5}} = 2^{-5}$\n",
        "\n",
        "And the argument of $z$ is:\n",
        "\n",
        "$\\theta = \\theta_1 - \\theta_2 = \\arctan(-1) - \\arctan \\left(\\frac{-1}{\\sqrt{3}}\\right) + 2\\pi k$\n",
        "\n",
        "Finally, the polar form of $z$ is:\n",
        "\n",
        "$z = |z| e^{i\\theta} = 2^{-5} e^{i\\theta}$\n",
        "\n",
        "\n",
        "\n"
      ]
    },
    {
      "cell_type": "markdown",
      "metadata": {
        "id": "ho3fpcZpSbW8"
      },
      "source": [
        "We will use **Sympy** to complete **ChatGPT* solution"
      ]
    },
    {
      "cell_type": "code",
      "execution_count": 38,
      "metadata": {
        "colab": {
          "base_uri": "https://localhost:8080/",
          "height": 47
        },
        "id": "MT8Jat6KSbW8",
        "outputId": "e0f4eb98-3186-48c4-ac67-2020f096898d"
      },
      "outputs": [
        {
          "output_type": "execute_result",
          "data": {
            "text/plain": [
              "pi/4"
            ],
            "text/latex": "$\\displaystyle \\frac{\\pi}{4}$"
          },
          "metadata": {},
          "execution_count": 38
        }
      ],
      "source": [
        "atan(1)"
      ]
    },
    {
      "cell_type": "code",
      "execution_count": 39,
      "metadata": {
        "colab": {
          "base_uri": "https://localhost:8080/",
          "height": 47
        },
        "id": "jgKlvr-CSbW9",
        "outputId": "764ae934-93da-433e-b25e-ae975b209c0b"
      },
      "outputs": [
        {
          "output_type": "execute_result",
          "data": {
            "text/plain": [
              "-pi/6"
            ],
            "text/latex": "$\\displaystyle - \\frac{\\pi}{6}$"
          },
          "metadata": {},
          "execution_count": 39
        }
      ],
      "source": [
        "atan(-1/sqrt(3))"
      ]
    },
    {
      "cell_type": "markdown",
      "metadata": {
        "id": "uneqI_y0SbW9"
      },
      "source": [
        "Hence \n",
        "$\\theta = \\theta_1 - \\theta_2 = \\frac{\\pi}{4} - (-\\frac{\\pi}{6}) = \\frac{5\\pi}{12}$\n",
        "\n",
        "Hence\n",
        "$z = |z| e^{i\\theta} = 2^{-5} e^{i\\theta} = 2^{-5} e^{\\frac{5\\pi i}{12}}$"
      ]
    },
    {
      "cell_type": "markdown",
      "metadata": {
        "tags": [],
        "id": "OL2MydgHSbW9"
      },
      "source": [
        "# Exercise 1.24\n",
        "Compute $(1+i)^n+(1-i)^n$"
      ]
    },
    {
      "cell_type": "markdown",
      "metadata": {
        "id": "QX8hdbUjSbW9"
      },
      "source": [
        "Look at this link:\n",
        "[Math StackExchange](https://math.stackexchange.com/questions/99884/is-there-a-formula-for-1in1-in)"
      ]
    },
    {
      "cell_type": "markdown",
      "metadata": {
        "id": "1wKOErbhqKWU",
        "tags": []
      },
      "source": [
        "# **TO BE CONTINUED ...**\n",
        "* Any student with basic Python programming skill\n",
        "  is welcome to continue and solve more exercises\n",
        "  from the <a href=\"https://samyzaf.com/technion/cfit/cf.pdf\">\n",
        "  Complex Functions book\n",
        "</a>\n",
        "\n",
        "* In some cases [**ChatGPT**](https://chat.openai.com/chat)\n",
        "  can solve standard problems if you phrase the\n",
        "  question with many clues.\n",
        "  Beware that in many cases it gives wrong statements.\n",
        "\n",
        "* Send your solutions notebook to sz@samyzaf.com.\n",
        "* They will be checked and added to this notebook.\n",
        "* Thanks!!!"
      ]
    }
  ],
  "metadata": {
    "colab": {
      "provenance": [],
      "include_colab_link": true
    },
    "kernelspec": {
      "display_name": "Python 3 (ipykernel)",
      "language": "python",
      "name": "python3"
    },
    "language_info": {
      "codemirror_mode": {
        "name": "ipython",
        "version": 3
      },
      "file_extension": ".py",
      "mimetype": "text/x-python",
      "name": "python",
      "nbconvert_exporter": "python",
      "pygments_lexer": "ipython3",
      "version": "3.7.16"
    }
  },
  "nbformat": 4,
  "nbformat_minor": 0
}