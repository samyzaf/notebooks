{
  "cells": [
    {
      "cell_type": "markdown",
      "metadata": {
        "id": "view-in-github",
        "colab_type": "text"
      },
      "source": [
        "<a href=\"https://colab.research.google.com/github/samyzaf/notebooks/blob/main/ode7.ipynb\" target=\"_parent\"><img src=\"https://colab.research.google.com/assets/colab-badge.svg\" alt=\"Open In Colab\"/></a>"
      ]
    },
    {
      "cell_type": "markdown",
      "id": "a02f3aee",
      "metadata": {
        "cell_marker": "\"\"\"",
        "id": "a02f3aee"
      },
      "source": [
        "# Ordinary Differential Equations\n",
        "# Chapter 7: Solutions to exercises\n",
        "\n",
        "<a href=\"https://samyzaf.com/technion/ode/ode.pdf\">\n",
        "<img src=\"https://samyzaf.com/technion/ode/ode2.jpg\" alt=\"ode book cover\"/>\n",
        "</a>\n",
        "\n",
        "* We used Python **Sympy** package and the Jupyter-Lab enviroments for\n",
        "  code-generating step-bystep final result for most of the exercises.\n",
        "* These packages are still under active development, and are not yet fully tested\n",
        "  and/or ready to cope with all ode's or Transforms.\n",
        "  So we will appreciate your careful check and feedback of our work.\n",
        "* The new site https://mathdf.com seems to be a great source\n",
        "  for obtaining full step-by-step solutions for differential equations.\n",
        "  Please use it for obtaining full solutions and let us know\n",
        "  if it meets expectations. We will be glad to receive full solutions\n",
        "  and add them here later (sz@samyzaf.com).\n",
        "* This notebook can be edited and executed by clicking\n",
        "  the **open in colab** button.\n",
        "* These are only a small number of solutions to exercises in capter 6.\n",
        "  Hopefully this will encourage students to try to solve more\n",
        "  exercises with similar methods. We will be glad to accept notebooks\n",
        "  with solutions to other exercises in this book.\n",
        "  Please send them to sz@samyzaf.com."
      ]
    },
    {
      "cell_type": "code",
      "execution_count": null,
      "id": "a534d84c",
      "metadata": {
        "lines_to_next_cell": 2,
        "id": "a534d84c"
      },
      "outputs": [],
      "source": [
        "from sympy import *\n",
        "from sympy.solvers.ode.systems import dsolve_system\n",
        "from IPython.display import HTML\n",
        "import matplotlib.pyplot as plt"
      ]
    },
    {
      "cell_type": "markdown",
      "id": "f2c19b8c",
      "metadata": {
        "cell_marker": "\"\"\"",
        "id": "f2c19b8c"
      },
      "source": [
        "# Exercise 7.1.1\n",
        "\n",
        "$\n",
        "x'(t) = x(t) - 3y(t)\n",
        "$\n",
        "\n",
        "$\n",
        "y'(t) = 3x(t) + y(t)\n",
        "$"
      ]
    },
    {
      "cell_type": "code",
      "execution_count": null,
      "id": "bb7a080d",
      "metadata": {
        "lines_to_next_cell": 2,
        "colab": {
          "base_uri": "https://localhost:8080/",
          "height": 61
        },
        "id": "bb7a080d",
        "outputId": "7f36dbfe-1b47-496c-e652-08339c080b55"
      },
      "outputs": [
        {
          "output_type": "display_data",
          "data": {
            "text/plain": [
              "Eq(x(t), C1*exp(t))"
            ],
            "text/latex": "$\\displaystyle x{\\left(t \\right)} = C_{1} e^{t}$"
          },
          "metadata": {}
        },
        {
          "output_type": "display_data",
          "data": {
            "text/plain": [
              "Eq(y(t), 3*C1*t*exp(t) + 3*C2*exp(t))"
            ],
            "text/latex": "$\\displaystyle y{\\left(t \\right)} = 3 C_{1} t e^{t} + 3 C_{2} e^{t}$"
          },
          "metadata": {}
        }
      ],
      "source": [
        "x,y = symbols(\"x y\", cls=Function)\n",
        "t = symbols(\"t\", real=True)\n",
        "de1 = Eq(x(t).diff(t), x(t))\n",
        "de2 = Eq(y(t).diff(t), 3*x(t) + y(t))\n",
        "sol = dsolve_system([de1, de2])\n",
        "for eqs in sol:\n",
        "    for eq in eqs:\n",
        "        #print(eq)\n",
        "        display(eq)"
      ]
    },
    {
      "cell_type": "markdown",
      "id": "f95b6e4f",
      "metadata": {
        "cell_marker": "\"\"\"",
        "id": "f95b6e4f"
      },
      "source": [
        "# Exercise 7.1.2\n",
        "\n",
        "$\n",
        "x'(t) + x(t) + 5y(t) = 0\n",
        "$\n",
        "\n",
        "$\n",
        "y'(t) - x(t) - y(t) = 0\n",
        "$"
      ]
    },
    {
      "cell_type": "code",
      "execution_count": null,
      "id": "54dbe0be",
      "metadata": {
        "lines_to_next_cell": 2,
        "colab": {
          "base_uri": "https://localhost:8080/",
          "height": 61
        },
        "id": "54dbe0be",
        "outputId": "fb6d78ea-76f3-4de2-a410-8bef30991bc7"
      },
      "outputs": [
        {
          "output_type": "display_data",
          "data": {
            "text/plain": [
              "Eq(x(t), -(C1 + 2*C2)*cos(2*t) - (2*C1 - C2)*sin(2*t))"
            ],
            "text/latex": "$\\displaystyle x{\\left(t \\right)} = - \\left(C_{1} + 2 C_{2}\\right) \\cos{\\left(2 t \\right)} - \\left(2 C_{1} - C_{2}\\right) \\sin{\\left(2 t \\right)}$"
          },
          "metadata": {}
        },
        {
          "output_type": "display_data",
          "data": {
            "text/plain": [
              "Eq(y(t), C1*cos(2*t) - C2*sin(2*t))"
            ],
            "text/latex": "$\\displaystyle y{\\left(t \\right)} = C_{1} \\cos{\\left(2 t \\right)} - C_{2} \\sin{\\left(2 t \\right)}$"
          },
          "metadata": {}
        }
      ],
      "source": [
        "x,y = symbols(\"x y\", cls=Function)\n",
        "t = symbols(\"t\", real=True)\n",
        "de1 = Eq(x(t).diff(t) + x(t) + 5*y(t), 0)\n",
        "de2 = Eq(y(t).diff(t) - x(t) - y(t), 0)\n",
        "sol = dsolve_system([de1, de2])\n",
        "for eqs in sol:\n",
        "    for eq in eqs:\n",
        "        #print(eq)\n",
        "        display(eq)"
      ]
    },
    {
      "cell_type": "markdown",
      "id": "f7e21132",
      "metadata": {
        "cell_marker": "\"\"\"",
        "id": "f7e21132"
      },
      "source": [
        "* It's not clear if this is equal to $\\tanh(s)/s$ !?\n",
        "* Probably the problem is missing somethin!? It does not specify anything about $t>4$ ...\n",
        "\n",
        "# Exercise 7.1.3\n",
        "\n",
        "$\n",
        "x'(t) = 2x(t) + y(t)\n",
        "$\n",
        "\n",
        "$\n",
        "y'(t) = 3x(t) + 4y(t)\n",
        "$"
      ]
    },
    {
      "cell_type": "code",
      "execution_count": null,
      "id": "2aefd9ef",
      "metadata": {
        "lines_to_next_cell": 2,
        "colab": {
          "base_uri": "https://localhost:8080/",
          "height": 75
        },
        "id": "2aefd9ef",
        "outputId": "1019f04f-3f4e-4f81-8ba2-c12ce36e099a"
      },
      "outputs": [
        {
          "output_type": "display_data",
          "data": {
            "text/plain": [
              "Eq(x(t), -5*C1*exp(-t)/3 + C2*exp(7*t))"
            ],
            "text/latex": "$\\displaystyle x{\\left(t \\right)} = - \\frac{5 C_{1} e^{- t}}{3} + C_{2} e^{7 t}$"
          },
          "metadata": {}
        },
        {
          "output_type": "display_data",
          "data": {
            "text/plain": [
              "Eq(y(t), C1*exp(-t) + C2*exp(7*t))"
            ],
            "text/latex": "$\\displaystyle y{\\left(t \\right)} = C_{1} e^{- t} + C_{2} e^{7 t}$"
          },
          "metadata": {}
        }
      ],
      "source": [
        "x,y = symbols(\"x y\", cls=Function)\n",
        "t = symbols(\"t\", real=True)\n",
        "de1 = Eq(x(t).diff(t) , 2*x(t) + 5*y(t))\n",
        "de2 = Eq(y(t).diff(t) , 3*x(t) + 4*y(t))\n",
        "sol = dsolve_system([de1, de2])\n",
        "for eqs in sol:\n",
        "    for eq in eqs:\n",
        "        display(eq)"
      ]
    },
    {
      "cell_type": "markdown",
      "id": "cb8fe4ea",
      "metadata": {
        "cell_marker": "\"\"\"",
        "id": "cb8fe4ea"
      },
      "source": [
        "# Exercise 7.1.4\n",
        "\n",
        "$\n",
        "x_1'(t) = x_1(t) - 3x_2(t)\n",
        "$\n",
        "\n",
        "$\n",
        "x_2'(t) = 3x_1(t) + x_2(t)\n",
        "$"
      ]
    },
    {
      "cell_type": "code",
      "execution_count": null,
      "id": "0f6368ce",
      "metadata": {
        "lines_to_next_cell": 2,
        "colab": {
          "base_uri": "https://localhost:8080/",
          "height": 61
        },
        "id": "0f6368ce",
        "outputId": "543eedbe-c9f6-4982-9647-5a4a168597d1"
      },
      "outputs": [
        {
          "output_type": "display_data",
          "data": {
            "text/plain": [
              "Eq(x1(t), -C1*exp(t)*sin(3*t) - C2*exp(t)*cos(3*t))"
            ],
            "text/latex": "$\\displaystyle x_{1}{\\left(t \\right)} = - C_{1} e^{t} \\sin{\\left(3 t \\right)} - C_{2} e^{t} \\cos{\\left(3 t \\right)}$"
          },
          "metadata": {}
        },
        {
          "output_type": "display_data",
          "data": {
            "text/plain": [
              "Eq(x2(t), C1*exp(t)*cos(3*t) - C2*exp(t)*sin(3*t))"
            ],
            "text/latex": "$\\displaystyle x_{2}{\\left(t \\right)} = C_{1} e^{t} \\cos{\\left(3 t \\right)} - C_{2} e^{t} \\sin{\\left(3 t \\right)}$"
          },
          "metadata": {}
        }
      ],
      "source": [
        "x1,x2 = symbols(\"x1 x2\", cls=Function)\n",
        "t = symbols(\"t\", real=True)\n",
        "de1 = Eq(x1(t).diff(t) , x1(t) - 3*x2(t))\n",
        "de2 = Eq(x2(t).diff(t) , 3*x1(t) + x2(t))\n",
        "sol = dsolve_system([de1, de2])\n",
        "for eqs in sol:\n",
        "    for eq in eqs:\n",
        "        display(eq)"
      ]
    },
    {
      "cell_type": "markdown",
      "id": "de62299f",
      "metadata": {
        "cell_marker": "\"\"\"",
        "id": "de62299f"
      },
      "source": [
        "# Exercise 7.1.5\n",
        "\n",
        "$\n",
        "x_1'(t) = 7x_1(t) + 3x_2(t)\n",
        "$\n",
        "\n",
        "$\n",
        "x_2'(t) = 6x_1(t) + 4x_2(t)\n",
        "$"
      ]
    },
    {
      "cell_type": "code",
      "execution_count": null,
      "id": "d05e9404",
      "metadata": {
        "lines_to_next_cell": 2,
        "colab": {
          "base_uri": "https://localhost:8080/",
          "height": 75
        },
        "id": "d05e9404",
        "outputId": "f74a0b85-2ebd-4660-c8af-004c5e6a66bc"
      },
      "outputs": [
        {
          "output_type": "display_data",
          "data": {
            "text/plain": [
              "Eq(x1(t), -C1*exp(t)/2 + C2*exp(10*t))"
            ],
            "text/latex": "$\\displaystyle x_{1}{\\left(t \\right)} = - \\frac{C_{1} e^{t}}{2} + C_{2} e^{10 t}$"
          },
          "metadata": {}
        },
        {
          "output_type": "display_data",
          "data": {
            "text/plain": [
              "Eq(x2(t), C1*exp(t) + C2*exp(10*t))"
            ],
            "text/latex": "$\\displaystyle x_{2}{\\left(t \\right)} = C_{1} e^{t} + C_{2} e^{10 t}$"
          },
          "metadata": {}
        }
      ],
      "source": [
        "x1,x2 = symbols(\"x1 x2\", cls=Function)\n",
        "t = symbols(\"t\", real=True)\n",
        "de1 = Eq(x1(t).diff(t) , 7*x1(t) + 3*x2(t))\n",
        "de2 = Eq(x2(t).diff(t) , 6*x1(t) + 4*x2(t))\n",
        "sol = dsolve_system([de1, de2])\n",
        "for eqs in sol:\n",
        "    for eq in eqs:\n",
        "        display(eq)"
      ]
    },
    {
      "cell_type": "markdown",
      "id": "c00389c4",
      "metadata": {
        "cell_marker": "\"\"\"",
        "id": "c00389c4"
      },
      "source": [
        "# Exercise 7.1.6\n",
        "\n",
        "$\n",
        "x_1'(t) = 5x_1(t) - 2x_2(t)\n",
        "$\n",
        "\n",
        "$\n",
        "x_2'(t) = 4x_1(t) - x_2(t)\n",
        "$"
      ]
    },
    {
      "cell_type": "code",
      "execution_count": null,
      "id": "99e06ebb",
      "metadata": {
        "lines_to_next_cell": 2,
        "colab": {
          "base_uri": "https://localhost:8080/",
          "height": 75
        },
        "id": "99e06ebb",
        "outputId": "7709b560-4173-4486-f8da-30e4f7e831cb"
      },
      "outputs": [
        {
          "output_type": "display_data",
          "data": {
            "text/plain": [
              "Eq(x1(t), C1*exp(t)/2 + C2*exp(3*t))"
            ],
            "text/latex": "$\\displaystyle x_{1}{\\left(t \\right)} = \\frac{C_{1} e^{t}}{2} + C_{2} e^{3 t}$"
          },
          "metadata": {}
        },
        {
          "output_type": "display_data",
          "data": {
            "text/plain": [
              "Eq(x2(t), C1*exp(t) + C2*exp(3*t))"
            ],
            "text/latex": "$\\displaystyle x_{2}{\\left(t \\right)} = C_{1} e^{t} + C_{2} e^{3 t}$"
          },
          "metadata": {}
        }
      ],
      "source": [
        "x1,x2 = symbols(\"x1 x2\", cls=Function)\n",
        "t = symbols(\"t\", real=True)\n",
        "de1 = Eq(x1(t).diff(t) , 5*x1(t) - 2*x2(t))\n",
        "de2 = Eq(x2(t).diff(t) , 4*x1(t) - x2(t))\n",
        "sol = dsolve_system([de1, de2])\n",
        "for eqs in sol:\n",
        "    for eq in eqs:\n",
        "        display(eq)"
      ]
    },
    {
      "cell_type": "markdown",
      "id": "c474301f",
      "metadata": {
        "cell_marker": "\"\"\"",
        "id": "c474301f"
      },
      "source": [
        "# Exercise 7.1.7\n",
        "\n",
        "$\n",
        "x_1'(t) = -3x_1(t) + 2x_2(t)\n",
        "$\n",
        "\n",
        "$\n",
        "x_2'(t) = -2x_1(t) + x_2(t)\n",
        "$"
      ]
    },
    {
      "cell_type": "code",
      "execution_count": null,
      "id": "dd71abbb",
      "metadata": {
        "lines_to_next_cell": 2,
        "colab": {
          "base_uri": "https://localhost:8080/",
          "height": 61
        },
        "id": "dd71abbb",
        "outputId": "a11a39cf-83ea-41e1-a5fa-792a76d2f77e"
      },
      "outputs": [
        {
          "output_type": "display_data",
          "data": {
            "text/plain": [
              "Eq(x1(t), -2*C2*t*exp(-t) - (2*C1 - C2)*exp(-t))"
            ],
            "text/latex": "$\\displaystyle x_{1}{\\left(t \\right)} = - 2 C_{2} t e^{- t} - \\left(2 C_{1} - C_{2}\\right) e^{- t}$"
          },
          "metadata": {}
        },
        {
          "output_type": "display_data",
          "data": {
            "text/plain": [
              "Eq(x2(t), -2*C1*exp(-t) - 2*C2*t*exp(-t))"
            ],
            "text/latex": "$\\displaystyle x_{2}{\\left(t \\right)} = - 2 C_{1} e^{- t} - 2 C_{2} t e^{- t}$"
          },
          "metadata": {}
        }
      ],
      "source": [
        "x1,x2 = symbols(\"x1 x2\", cls=Function)\n",
        "t = symbols(\"t\", real=True)\n",
        "de1 = Eq(x1(t).diff(t) , -3*x1(t) + 2*x2(t))\n",
        "de2 = Eq(x2(t).diff(t) , -2*x1(t) + x2(t))\n",
        "sol = dsolve_system([de1, de2])\n",
        "for eqs in sol:\n",
        "    for eq in eqs:\n",
        "        display(eq)"
      ]
    },
    {
      "cell_type": "markdown",
      "id": "8511c1eb",
      "metadata": {
        "cell_marker": "\"\"\"",
        "id": "8511c1eb"
      },
      "source": [
        "# Exercise 7.1.8\n",
        "\n",
        "$\n",
        "x_1'(t) = 3x_1(t) + x_2(t)\n",
        "$\n",
        "\n",
        "$\n",
        "x_2'(t) = -5x_1(t) - 3x_2(t)\n",
        "$"
      ]
    },
    {
      "cell_type": "code",
      "execution_count": null,
      "id": "8c1ddd5e",
      "metadata": {
        "lines_to_next_cell": 2,
        "colab": {
          "base_uri": "https://localhost:8080/",
          "height": 76
        },
        "id": "8c1ddd5e",
        "outputId": "d130bf71-3a91-4000-b08c-141f1f59fed8"
      },
      "outputs": [
        {
          "output_type": "display_data",
          "data": {
            "text/plain": [
              "Eq(x1(t), -C1*exp(-2*t)/5 - C2*exp(2*t))"
            ],
            "text/latex": "$\\displaystyle x_{1}{\\left(t \\right)} = - \\frac{C_{1} e^{- 2 t}}{5} - C_{2} e^{2 t}$"
          },
          "metadata": {}
        },
        {
          "output_type": "display_data",
          "data": {
            "text/plain": [
              "Eq(x2(t), C1*exp(-2*t) + C2*exp(2*t))"
            ],
            "text/latex": "$\\displaystyle x_{2}{\\left(t \\right)} = C_{1} e^{- 2 t} + C_{2} e^{2 t}$"
          },
          "metadata": {}
        }
      ],
      "source": [
        "x1,x2 = symbols(\"x1 x2\", cls=Function)\n",
        "t = symbols(\"t\", real=True)\n",
        "de1 = Eq(x1(t).diff(t) , 3*x1(t) + x2(t))\n",
        "de2 = Eq(x2(t).diff(t) , -5*x1(t) - 3*x2(t))\n",
        "sol = dsolve_system([de1, de2])\n",
        "for eqs in sol:\n",
        "    for eq in eqs:\n",
        "        display(eq)"
      ]
    },
    {
      "cell_type": "markdown",
      "id": "8cb745c5",
      "metadata": {
        "cell_marker": "\"\"\"",
        "id": "8cb745c5"
      },
      "source": [
        "# Exercise 7.1.9\n",
        "\n",
        "$\n",
        "x'(t) = y(t) - 5\\cos t\n",
        "$\n",
        "\n",
        "$\n",
        "y'(t) = 2x(t) + y(t)\n",
        "$"
      ]
    },
    {
      "cell_type": "code",
      "execution_count": null,
      "id": "3d972ee6",
      "metadata": {
        "lines_to_next_cell": 2,
        "colab": {
          "base_uri": "https://localhost:8080/",
          "height": 91
        },
        "id": "3d972ee6",
        "outputId": "9e1e2b26-2f85-4429-9d01-956dfe86cba7"
      },
      "outputs": [
        {
          "output_type": "display_data",
          "data": {
            "text/plain": [
              "Eq(x(t), -C1*exp(-t) + C2*exp(2*t)/2 - 5*exp(2*t)*Integral(exp(-2*t)*cos(t), t)/3 - 10*exp(-t)*Integral(exp(t)*cos(t), t)/3)"
            ],
            "text/latex": "$\\displaystyle x{\\left(t \\right)} = - C_{1} e^{- t} + \\frac{C_{2} e^{2 t}}{2} - \\frac{5 e^{2 t} \\int e^{- 2 t} \\cos{\\left(t \\right)}\\, dt}{3} - \\frac{10 e^{- t} \\int e^{t} \\cos{\\left(t \\right)}\\, dt}{3}$"
          },
          "metadata": {}
        },
        {
          "output_type": "display_data",
          "data": {
            "text/plain": [
              "Eq(y(t), C1*exp(-t) + C2*exp(2*t) - 10*exp(2*t)*Integral(exp(-2*t)*cos(t), t)/3 + 10*exp(-t)*Integral(exp(t)*cos(t), t)/3)"
            ],
            "text/latex": "$\\displaystyle y{\\left(t \\right)} = C_{1} e^{- t} + C_{2} e^{2 t} - \\frac{10 e^{2 t} \\int e^{- 2 t} \\cos{\\left(t \\right)}\\, dt}{3} + \\frac{10 e^{- t} \\int e^{t} \\cos{\\left(t \\right)}\\, dt}{3}$"
          },
          "metadata": {}
        }
      ],
      "source": [
        "x,y = symbols(\"x y\", cls=Function)\n",
        "t = symbols(\"t\", real=True)\n",
        "de1 = Eq(x(t).diff(t) , y(t) - 5*cos(t))\n",
        "de2 = Eq(y(t).diff(t) , 2*x(t) + y(t))\n",
        "sol = dsolve_system([de1, de2])\n",
        "for eqs in sol:\n",
        "    for eq in eqs:\n",
        "        display(eq)"
      ]
    },
    {
      "cell_type": "markdown",
      "id": "62570f31",
      "metadata": {
        "cell_marker": "\"\"\"",
        "id": "62570f31"
      },
      "source": [
        "* Sympy 1.11.1 does not perform the integrals\n",
        "$\\int e^{t} \\cos{\\left(t \\right)}\\, dt$,\n",
        "$\\int e^{- 2 t} \\cos{\\left(t \\right)}\\, dt$\n",
        "* But it's easy to force Sympy to do it on the side"
      ]
    },
    {
      "cell_type": "code",
      "execution_count": null,
      "id": "ac5bfa51",
      "metadata": {
        "lines_to_next_cell": 2,
        "colab": {
          "base_uri": "https://localhost:8080/",
          "height": 54
        },
        "id": "ac5bfa51",
        "outputId": "280bcc94-5ec7-4be0-8158-84ef3d8399c3"
      },
      "outputs": [
        {
          "output_type": "execute_result",
          "data": {
            "text/plain": [
              "exp(-2*t)*sin(t)/5 - 2*exp(-2*t)*cos(t)/5"
            ],
            "text/latex": "$\\displaystyle \\frac{e^{- 2 t} \\sin{\\left(t \\right)}}{5} - \\frac{2 e^{- 2 t} \\cos{\\left(t \\right)}}{5}$"
          },
          "metadata": {},
          "execution_count": 11
        }
      ],
      "source": [
        "Integral(exp(-2*t) * cos(t), t).doit()"
      ]
    },
    {
      "cell_type": "markdown",
      "id": "6cc3eb1b",
      "metadata": {
        "cell_marker": "\"\"\"",
        "id": "6cc3eb1b"
      },
      "source": [
        "* Or turn on the `doit` flag to force Sympy to evaluate integrals"
      ]
    },
    {
      "cell_type": "code",
      "execution_count": null,
      "id": "896ab8b5",
      "metadata": {
        "lines_to_next_cell": 2,
        "colab": {
          "base_uri": "https://localhost:8080/",
          "height": 76
        },
        "id": "896ab8b5",
        "outputId": "54f95c27-bdfc-43e2-b4da-3e1c7a00e48f"
      },
      "outputs": [
        {
          "output_type": "display_data",
          "data": {
            "text/plain": [
              "Eq(x(t), -C1*exp(-t) + C2*exp(2*t)/2 - 2*sin(t) - cos(t))"
            ],
            "text/latex": "$\\displaystyle x{\\left(t \\right)} = - C_{1} e^{- t} + \\frac{C_{2} e^{2 t}}{2} - 2 \\sin{\\left(t \\right)} - \\cos{\\left(t \\right)}$"
          },
          "metadata": {}
        },
        {
          "output_type": "display_data",
          "data": {
            "text/plain": [
              "Eq(y(t), C1*exp(-t) + C2*exp(2*t) + sin(t) + 3*cos(t))"
            ],
            "text/latex": "$\\displaystyle y{\\left(t \\right)} = C_{1} e^{- t} + C_{2} e^{2 t} + \\sin{\\left(t \\right)} + 3 \\cos{\\left(t \\right)}$"
          },
          "metadata": {}
        }
      ],
      "source": [
        "sol = dsolve_system([de1, de2], doit=True)\n",
        "for eqs in sol:\n",
        "    for eq in eqs:\n",
        "        display(eq)"
      ]
    },
    {
      "cell_type": "markdown",
      "id": "e348d70e",
      "metadata": {
        "cell_marker": "\"\"\"",
        "id": "e348d70e"
      },
      "source": [
        "# Exercise 7.1.10\n",
        "\n",
        "$\n",
        "x'(t) = 2x(t) + y(t) + \\cos t\n",
        "$\n",
        "\n",
        "$\n",
        "y'(t) = -x(t) + 2\\sin t\n",
        "$\n"
      ]
    },
    {
      "cell_type": "code",
      "execution_count": null,
      "id": "b1da71c8",
      "metadata": {
        "lines_to_next_cell": 2,
        "colab": {
          "base_uri": "https://localhost:8080/",
          "height": 89
        },
        "id": "b1da71c8",
        "outputId": "68c65b0d-67ed-4cd8-e2b9-b365e5d4a51a"
      },
      "outputs": [
        {
          "output_type": "display_data",
          "data": {
            "text/plain": [
              "Eq(x(t), C1*t*exp(t) + (C1 + C2)*exp(t) + cos(t)/2)"
            ],
            "text/latex": "$\\displaystyle x{\\left(t \\right)} = C_{1} t e^{t} + \\left(C_{1} + C_{2}\\right) e^{t} + \\frac{\\cos{\\left(t \\right)}}{2}$"
          },
          "metadata": {}
        },
        {
          "output_type": "display_data",
          "data": {
            "text/plain": [
              "Eq(y(t), -C1*t*exp(t) - C2*exp(t) - sin(t)/2 - 2*cos(t))"
            ],
            "text/latex": "$\\displaystyle y{\\left(t \\right)} = - C_{1} t e^{t} - C_{2} e^{t} - \\frac{\\sin{\\left(t \\right)}}{2} - 2 \\cos{\\left(t \\right)}$"
          },
          "metadata": {}
        }
      ],
      "source": [
        "x,y = symbols(\"x y\", cls=Function)\n",
        "t = symbols(\"t\", real=True)\n",
        "de1 = Eq(x(t).diff(t) , 2*x(t) + y(t) + cos(t))\n",
        "de2 = Eq(y(t).diff(t) , -x(t) + 2*sin(t))\n",
        "sol = dsolve_system([de1, de2], doit=True)\n",
        "for eqs in sol:\n",
        "    for eq in eqs:\n",
        "        display(eq)"
      ]
    },
    {
      "cell_type": "markdown",
      "id": "5e7ba870",
      "metadata": {
        "cell_marker": "\"\"\"",
        "id": "5e7ba870"
      },
      "source": [
        "# Exercise 7.1.11\n",
        "\n",
        "$\n",
        "x_1'(t) = x_2(t)\n",
        "$\n",
        "\n",
        "$\n",
        "x_2'(t) = -x_1(t)\n",
        "$"
      ]
    },
    {
      "cell_type": "code",
      "execution_count": null,
      "id": "b0138cb1",
      "metadata": {
        "lines_to_next_cell": 2,
        "colab": {
          "base_uri": "https://localhost:8080/",
          "height": 61
        },
        "id": "b0138cb1",
        "outputId": "4f6d4c1f-3bd3-4043-f432-9bf35441df89"
      },
      "outputs": [
        {
          "output_type": "display_data",
          "data": {
            "text/plain": [
              "Eq(x1(t), C1*sin(t) + C2*cos(t))"
            ],
            "text/latex": "$\\displaystyle x_{1}{\\left(t \\right)} = C_{1} \\sin{\\left(t \\right)} + C_{2} \\cos{\\left(t \\right)}$"
          },
          "metadata": {}
        },
        {
          "output_type": "display_data",
          "data": {
            "text/plain": [
              "Eq(x2(t), C1*cos(t) - C2*sin(t))"
            ],
            "text/latex": "$\\displaystyle x_{2}{\\left(t \\right)} = C_{1} \\cos{\\left(t \\right)} - C_{2} \\sin{\\left(t \\right)}$"
          },
          "metadata": {}
        }
      ],
      "source": [
        "x1,x2 = symbols(\"x1 x2\", cls=Function)\n",
        "t = symbols(\"t\", real=True)\n",
        "de1 = Eq(x1(t).diff(t) , x2(t))\n",
        "de2 = Eq(x2(t).diff(t) , -x1(t))\n",
        "sol = dsolve_system([de1, de2], doit=True)\n",
        "for eqs in sol:\n",
        "    for eq in eqs:\n",
        "        display(eq)"
      ]
    },
    {
      "cell_type": "markdown",
      "id": "0952659e",
      "metadata": {
        "cell_marker": "\"\"\"",
        "id": "0952659e"
      },
      "source": [
        "# Exercise 7.1.12\n",
        "\n",
        "$\n",
        "x'(t) = x(t) - y(t) + z(t)\n",
        "$\n",
        "\n",
        "$\n",
        "y'(t) = x(t) + y(t) - z(t)\n",
        "$\n",
        "\n",
        "$\n",
        "z'(t) = 2x(t) - y(t)\n",
        "$\n"
      ]
    },
    {
      "cell_type": "code",
      "execution_count": null,
      "id": "85cf6d72",
      "metadata": {
        "lines_to_next_cell": 2,
        "colab": {
          "base_uri": "https://localhost:8080/",
          "height": 112
        },
        "id": "85cf6d72",
        "outputId": "57407a3c-c6f1-427c-dcad-33c774ddfb6c"
      },
      "outputs": [
        {
          "output_type": "display_data",
          "data": {
            "text/plain": [
              "Eq(x(t), -C1*exp(-t)/5 + C2*exp(t) + C3*exp(2*t))"
            ],
            "text/latex": "$\\displaystyle x{\\left(t \\right)} = - \\frac{C_{1} e^{- t}}{5} + C_{2} e^{t} + C_{3} e^{2 t}$"
          },
          "metadata": {}
        },
        {
          "output_type": "display_data",
          "data": {
            "text/plain": [
              "Eq(y(t), 3*C1*exp(-t)/5 + C2*exp(t))"
            ],
            "text/latex": "$\\displaystyle y{\\left(t \\right)} = \\frac{3 C_{1} e^{- t}}{5} + C_{2} e^{t}$"
          },
          "metadata": {}
        },
        {
          "output_type": "display_data",
          "data": {
            "text/plain": [
              "Eq(z(t), C1*exp(-t) + C2*exp(t) + C3*exp(2*t))"
            ],
            "text/latex": "$\\displaystyle z{\\left(t \\right)} = C_{1} e^{- t} + C_{2} e^{t} + C_{3} e^{2 t}$"
          },
          "metadata": {}
        }
      ],
      "source": [
        "x,y,z = symbols(\"x y z\", cls=Function)\n",
        "t = symbols(\"t\", real=True)\n",
        "\n",
        "de1 = Eq(x(t).diff(t) , x(t) - y(t) + z(t))\n",
        "de2 = Eq(y(t).diff(t) , x(t) + y(t) - z(t))\n",
        "de3 = Eq(z(t).diff(t) , 2*x(t) - y(t))\n",
        "\n",
        "sol = dsolve_system([de1, de2, de3], doit=True)\n",
        "for eqs in sol:\n",
        "    for eq in eqs:\n",
        "        display(eq)"
      ]
    },
    {
      "cell_type": "markdown",
      "id": "ae6b14ee",
      "metadata": {
        "cell_marker": "\"\"\"",
        "id": "ae6b14ee"
      },
      "source": [
        "# Exercise 7.1.13\n",
        "\n",
        "$\n",
        "x_1'(t) = -x_1(t) + x_2(t) + x_3(t)\n",
        "$\n",
        "\n",
        "$\n",
        "x_2'(t) = x_1(t) - x_2(t) + x_3(t)\n",
        "$\n",
        "\n",
        "$\n",
        "x_3'(t) = x_1(t) + x_2(t) - x_3(t)\n",
        "$"
      ]
    },
    {
      "cell_type": "code",
      "execution_count": null,
      "id": "cf24aaf4",
      "metadata": {
        "lines_to_next_cell": 2,
        "colab": {
          "base_uri": "https://localhost:8080/",
          "height": 83
        },
        "id": "cf24aaf4",
        "outputId": "09a96ed0-5994-4841-cc41-5e451034f2c7"
      },
      "outputs": [
        {
          "output_type": "display_data",
          "data": {
            "text/plain": [
              "Eq(x1(t), C3*exp(t) - (C1 + C2)*exp(-2*t))"
            ],
            "text/latex": "$\\displaystyle x_{1}{\\left(t \\right)} = C_{3} e^{t} - \\left(C_{1} + C_{2}\\right) e^{- 2 t}$"
          },
          "metadata": {}
        },
        {
          "output_type": "display_data",
          "data": {
            "text/plain": [
              "Eq(x2(t), C1*exp(-2*t) + C3*exp(t))"
            ],
            "text/latex": "$\\displaystyle x_{2}{\\left(t \\right)} = C_{1} e^{- 2 t} + C_{3} e^{t}$"
          },
          "metadata": {}
        },
        {
          "output_type": "display_data",
          "data": {
            "text/plain": [
              "Eq(x3(t), C2*exp(-2*t) + C3*exp(t))"
            ],
            "text/latex": "$\\displaystyle x_{3}{\\left(t \\right)} = C_{2} e^{- 2 t} + C_{3} e^{t}$"
          },
          "metadata": {}
        }
      ],
      "source": [
        "x1,x2,x3 = symbols(\"x1 x2 x3\", cls=Function)\n",
        "t = symbols(\"t\", real=True)\n",
        "\n",
        "de1 = Eq(x1(t).diff(t) , -x1(t) + x2(t) + x3(t))\n",
        "de2 = Eq(x2(t).diff(t) , x1(t) - x2(t) + x3(t))\n",
        "de3 = Eq(x3(t).diff(t) , x1(t) + x2(t) - x3(t))\n",
        "\n",
        "sol = dsolve_system([de1, de2, de3], doit=True)\n",
        "for eqs in sol:\n",
        "    for eq in eqs:\n",
        "        display(eq)"
      ]
    },
    {
      "cell_type": "markdown",
      "id": "ca5f4a0e",
      "metadata": {
        "cell_marker": "\"\"\"",
        "id": "ca5f4a0e"
      },
      "source": [
        "# Exercise 7.1.14\n",
        "\n",
        "$\n",
        "x_1'(t) = x_1(t) - 2*x_2(t) - x_3(t)\n",
        "$\n",
        "\n",
        "$\n",
        "x_2'(t) = -x_1(t) + x_2(t) + x_3(t)\n",
        "$\n",
        "\n",
        "$\n",
        "x_3'(t) = x_1(t) - x_3(t)\n",
        "$"
      ]
    },
    {
      "cell_type": "code",
      "execution_count": null,
      "id": "979b4da1",
      "metadata": {
        "lines_to_next_cell": 2,
        "colab": {
          "base_uri": "https://localhost:8080/",
          "height": 97
        },
        "id": "979b4da1",
        "outputId": "2c9cc2ff-c7c9-4d4d-8148-43463d6d475b"
      },
      "outputs": [
        {
          "output_type": "display_data",
          "data": {
            "text/plain": [
              "Eq(x1(t), C1 + 3*C2*exp(2*t))"
            ],
            "text/latex": "$\\displaystyle x_{1}{\\left(t \\right)} = C_{1} + 3 C_{2} e^{2 t}$"
          },
          "metadata": {}
        },
        {
          "output_type": "display_data",
          "data": {
            "text/plain": [
              "Eq(x2(t), -2*C2*exp(2*t) - C3*exp(-t)/2)"
            ],
            "text/latex": "$\\displaystyle x_{2}{\\left(t \\right)} = - 2 C_{2} e^{2 t} - \\frac{C_{3} e^{- t}}{2}$"
          },
          "metadata": {}
        },
        {
          "output_type": "display_data",
          "data": {
            "text/plain": [
              "Eq(x3(t), C1 + C2*exp(2*t) + C3*exp(-t))"
            ],
            "text/latex": "$\\displaystyle x_{3}{\\left(t \\right)} = C_{1} + C_{2} e^{2 t} + C_{3} e^{- t}$"
          },
          "metadata": {}
        }
      ],
      "source": [
        "x1,x2,x3 = symbols(\"x1 x2 x3\", cls=Function)\n",
        "t = symbols(\"t\", real=True)\n",
        "\n",
        "de1 = Eq(x1(t).diff(t) , x1(t) - 2*x2(t) - x3(t))\n",
        "de2 = Eq(x2(t).diff(t) , -x1(t) + x2(t) + x3(t))\n",
        "de3 = Eq(x3(t).diff(t) , x1(t) - x3(t))\n",
        "\n",
        "sol = dsolve_system([de1, de2, de3], doit=True)\n",
        "for eqs in sol:\n",
        "    for eq in eqs:\n",
        "        display(eq)"
      ]
    },
    {
      "cell_type": "markdown",
      "id": "e654f71c",
      "metadata": {
        "cell_marker": "\"\"\"",
        "id": "e654f71c"
      },
      "source": [
        "# Exercise 7.1.15\n",
        "\n",
        "$\n",
        "x_1'(t) = x_1(t) - x_2(t) + x_3(t)\n",
        "$\n",
        "\n",
        "$\n",
        "x_2'(t) = x_1(t) + x_2(t) + x_3(t)\n",
        "$\n",
        "\n",
        "$\n",
        "x_3'(t) = 4x_1(t) - x_2(t) + 4x_3(t)\n",
        "$"
      ]
    },
    {
      "cell_type": "code",
      "execution_count": null,
      "id": "8755a6b5",
      "metadata": {
        "lines_to_next_cell": 2,
        "colab": {
          "base_uri": "https://localhost:8080/",
          "height": 128
        },
        "id": "8755a6b5",
        "outputId": "fd04a01d-b9cd-41c8-d5c3-974d1a61d16f"
      },
      "outputs": [
        {
          "output_type": "display_data",
          "data": {
            "text/plain": [
              "Eq(x1(t), -C1 - C2*(1 - 3*sqrt(2))*exp(t*(sqrt(2) + 3))/17 - C3*(1 + 3*sqrt(2))*exp(t*(3 - sqrt(2)))/17)"
            ],
            "text/latex": "$\\displaystyle x_{1}{\\left(t \\right)} = - C_{1} - \\frac{C_{2} \\left(1 - 3 \\sqrt{2}\\right) e^{t \\left(\\sqrt{2} + 3\\right)}}{17} - \\frac{C_{3} \\left(1 + 3 \\sqrt{2}\\right) e^{t \\left(3 - \\sqrt{2}\\right)}}{17}$"
          },
          "metadata": {}
        },
        {
          "output_type": "display_data",
          "data": {
            "text/plain": [
              "Eq(x2(t), C2*(13 - 5*sqrt(2))*exp(t*(sqrt(2) + 3))/17 + C3*(5*sqrt(2) + 13)*exp(t*(3 - sqrt(2)))/17)"
            ],
            "text/latex": "$\\displaystyle x_{2}{\\left(t \\right)} = \\frac{C_{2} \\left(13 - 5 \\sqrt{2}\\right) e^{t \\left(\\sqrt{2} + 3\\right)}}{17} + \\frac{C_{3} \\left(5 \\sqrt{2} + 13\\right) e^{t \\left(3 - \\sqrt{2}\\right)}}{17}$"
          },
          "metadata": {}
        },
        {
          "output_type": "display_data",
          "data": {
            "text/plain": [
              "Eq(x3(t), C1 + C2*exp(t*(sqrt(2) + 3)) + C3*exp(t*(3 - sqrt(2))))"
            ],
            "text/latex": "$\\displaystyle x_{3}{\\left(t \\right)} = C_{1} + C_{2} e^{t \\left(\\sqrt{2} + 3\\right)} + C_{3} e^{t \\left(3 - \\sqrt{2}\\right)}$"
          },
          "metadata": {}
        }
      ],
      "source": [
        "x1,x2,x3 = symbols(\"x1 x2 x3\", cls=Function)\n",
        "t = symbols(\"t\", real=True)\n",
        "\n",
        "de1 = Eq(x1(t).diff(t) , x1(t) - x2(t) + x3(t))\n",
        "de2 = Eq(x2(t).diff(t) , x1(t) + x2(t) + x3(t))\n",
        "de3 = Eq(x3(t).diff(t) , 4*x1(t) - x2(t) + 4*x3(t))\n",
        "\n",
        "sol = dsolve_system([de1, de2, de3], doit=True)\n",
        "for eqs in sol:\n",
        "    for eq in eqs:\n",
        "        display(eq)"
      ]
    },
    {
      "cell_type": "markdown",
      "id": "be165fb6",
      "metadata": {
        "cell_marker": "\"\"\"",
        "id": "be165fb6"
      },
      "source": [
        "# Exercise 1.1.16\n",
        "\n",
        "$\n",
        "x'(t) = 2x(t) + y(t)\n",
        "$\n",
        "\n",
        "$\n",
        "y'(t) = x(t) + 3y(t) - z(t)\n",
        "$\n",
        "\n",
        "$\n",
        "z'(t) = x(t) + 2y(t)\n",
        "$"
      ]
    },
    {
      "cell_type": "code",
      "execution_count": null,
      "id": "a4798fe4",
      "metadata": {
        "lines_to_next_cell": 2,
        "colab": {
          "base_uri": "https://localhost:8080/",
          "height": 136
        },
        "id": "a4798fe4",
        "outputId": "96a1600d-d014-4e19-df7a-90f810ef47b5"
      },
      "outputs": [
        {
          "output_type": "display_data",
          "data": {
            "text/plain": [
              "Eq(x(t), -C1*t*exp(t)/2 + C3*exp(3*t) - (3*C1/2 + C2/2)*exp(t))"
            ],
            "text/latex": "$\\displaystyle x{\\left(t \\right)} = - \\frac{C_{1} t e^{t}}{2} + C_{3} e^{3 t} - \\left(\\frac{3 C_{1}}{2} + \\frac{C_{2}}{2}\\right) e^{t}$"
          },
          "metadata": {}
        },
        {
          "output_type": "display_data",
          "data": {
            "text/plain": [
              "Eq(y(t), C1*t*exp(t)/2 + C3*exp(3*t) + (C1 + C2/2)*exp(t))"
            ],
            "text/latex": "$\\displaystyle y{\\left(t \\right)} = \\frac{C_{1} t e^{t}}{2} + C_{3} e^{3 t} + \\left(C_{1} + \\frac{C_{2}}{2}\\right) e^{t}$"
          },
          "metadata": {}
        },
        {
          "output_type": "display_data",
          "data": {
            "text/plain": [
              "Eq(z(t), C1*t*exp(t)/2 + C2*exp(t)/2 + C3*exp(3*t))"
            ],
            "text/latex": "$\\displaystyle z{\\left(t \\right)} = \\frac{C_{1} t e^{t}}{2} + \\frac{C_{2} e^{t}}{2} + C_{3} e^{3 t}$"
          },
          "metadata": {}
        }
      ],
      "source": [
        "x,y,z = symbols(\"x y z\", cls=Function)\n",
        "t = symbols(\"t\", real=True)\n",
        "\n",
        "de1 = Eq(x(t).diff(t) , 2*x(t) + y(t))\n",
        "de2 = Eq(y(t).diff(t) , x(t) + 3*y(t) - z(t))\n",
        "de3 = Eq(z(t).diff(t) , x(t) + 2*y(t))\n",
        "\n",
        "sol = dsolve_system([de1, de2, de3], doit=True)\n",
        "for eqs in sol:\n",
        "    for eq in eqs:\n",
        "        display(eq)"
      ]
    },
    {
      "cell_type": "markdown",
      "id": "91e78278",
      "metadata": {
        "cell_marker": "\"\"\"",
        "id": "91e78278"
      },
      "source": [
        "# Exercise 1.1.17\n",
        "\n",
        "$\n",
        "x_1'(t) = x_1(t) - x_2(t) - x_3(t)\n",
        "$\n",
        "\n",
        "$\n",
        "x_2'(t) = x_1(t) + x_2(t)\n",
        "$\n",
        "\n",
        "$\n",
        "x'_3(t) = 3x_1(t) + x_3(t)\n",
        "$"
      ]
    },
    {
      "cell_type": "code",
      "execution_count": null,
      "id": "1ba46ac7",
      "metadata": {
        "lines_to_next_cell": 2,
        "colab": {
          "base_uri": "https://localhost:8080/",
          "height": 112
        },
        "id": "1ba46ac7",
        "outputId": "3042bb7b-00ed-451b-e09c-daaaa61404a7"
      },
      "outputs": [
        {
          "output_type": "display_data",
          "data": {
            "text/plain": [
              "Eq(x1(t), -2*C1*exp(t)*sin(2*t)/3 - 2*C2*exp(t)*cos(2*t)/3)"
            ],
            "text/latex": "$\\displaystyle x_{1}{\\left(t \\right)} = - \\frac{2 C_{1} e^{t} \\sin{\\left(2 t \\right)}}{3} - \\frac{2 C_{2} e^{t} \\cos{\\left(2 t \\right)}}{3}$"
          },
          "metadata": {}
        },
        {
          "output_type": "display_data",
          "data": {
            "text/plain": [
              "Eq(x2(t), C1*exp(t)*cos(2*t)/3 - C2*exp(t)*sin(2*t)/3 - C3*exp(t))"
            ],
            "text/latex": "$\\displaystyle x_{2}{\\left(t \\right)} = \\frac{C_{1} e^{t} \\cos{\\left(2 t \\right)}}{3} - \\frac{C_{2} e^{t} \\sin{\\left(2 t \\right)}}{3} - C_{3} e^{t}$"
          },
          "metadata": {}
        },
        {
          "output_type": "display_data",
          "data": {
            "text/plain": [
              "Eq(x3(t), C1*exp(t)*cos(2*t) - C2*exp(t)*sin(2*t) + C3*exp(t))"
            ],
            "text/latex": "$\\displaystyle x_{3}{\\left(t \\right)} = C_{1} e^{t} \\cos{\\left(2 t \\right)} - C_{2} e^{t} \\sin{\\left(2 t \\right)} + C_{3} e^{t}$"
          },
          "metadata": {}
        }
      ],
      "source": [
        "x1,x2,x3 = symbols(\"x1 x2 x3\", cls=Function)\n",
        "t = symbols(\"t\", real=True)\n",
        "\n",
        "de1 = Eq(x1(t).diff(t) , x1(t) - x2(t) - x3(t))\n",
        "de2 = Eq(x2(t).diff(t) , x1(t) + x2(t))\n",
        "de3 = Eq(x3(t).diff(t) , 3*x1(t) + x3(t))\n",
        "\n",
        "sol = dsolve_system([de1, de2, de3], doit=True)\n",
        "for eqs in sol:\n",
        "    for eq in eqs:\n",
        "        display(eq)"
      ]
    },
    {
      "cell_type": "markdown",
      "id": "e5141974",
      "metadata": {
        "cell_marker": "\"\"\"",
        "id": "e5141974"
      },
      "source": [
        "# Exercise 7.1.18\n",
        "\n",
        "$\n",
        "x'(t) = x(t) - 2y(t) - z(t)\n",
        "$\n",
        "\n",
        "$\n",
        "y'(t) = y(t) - x(t) + z(t)\n",
        "$\n",
        "\n",
        "$\n",
        "z'(t) = x(t) - z(t)\n",
        "$\n",
        "\n",
        "* First lets validate this identity"
      ]
    },
    {
      "cell_type": "code",
      "execution_count": null,
      "id": "f09206a6",
      "metadata": {
        "lines_to_next_cell": 2,
        "colab": {
          "base_uri": "https://localhost:8080/",
          "height": 97
        },
        "id": "f09206a6",
        "outputId": "f27f2feb-db9a-4b31-90b6-5e0183ac119f"
      },
      "outputs": [
        {
          "output_type": "display_data",
          "data": {
            "text/plain": [
              "Eq(x(t), C1 + 3*C2*exp(2*t))"
            ],
            "text/latex": "$\\displaystyle x{\\left(t \\right)} = C_{1} + 3 C_{2} e^{2 t}$"
          },
          "metadata": {}
        },
        {
          "output_type": "display_data",
          "data": {
            "text/plain": [
              "Eq(y(t), -2*C2*exp(2*t) - C3*exp(-t)/2)"
            ],
            "text/latex": "$\\displaystyle y{\\left(t \\right)} = - 2 C_{2} e^{2 t} - \\frac{C_{3} e^{- t}}{2}$"
          },
          "metadata": {}
        },
        {
          "output_type": "display_data",
          "data": {
            "text/plain": [
              "Eq(z(t), C1 + C2*exp(2*t) + C3*exp(-t))"
            ],
            "text/latex": "$\\displaystyle z{\\left(t \\right)} = C_{1} + C_{2} e^{2 t} + C_{3} e^{- t}$"
          },
          "metadata": {}
        }
      ],
      "source": [
        "x,y,z = symbols(\"x y z\", cls=Function)\n",
        "t = symbols(\"t\", real=True)\n",
        "\n",
        "de1 = Eq(x(t).diff(t) , x(t) - 2*y(t) - z(t))\n",
        "de2 = Eq(y(t).diff(t) , -x(t) + y(t) + z(t))\n",
        "de3 = Eq(z(t).diff(t) , x(t) - z(t))\n",
        "\n",
        "sol = dsolve_system([de1, de2, de3], doit=True)\n",
        "for eqs in sol:\n",
        "    for eq in eqs:\n",
        "        display(eq)"
      ]
    },
    {
      "cell_type": "markdown",
      "id": "ebc8c777",
      "metadata": {
        "cell_marker": "\"\"\"",
        "id": "ebc8c777"
      },
      "source": [
        "### [Link to step-by-step-solution](https://mathdf.com/dif/#expr=%5B%22x'%3Dx-2y-z%22%2C%22y'%3Dy-x%2Bz%22%2C%22z'%3Dx-z%22%5D&func=y&sarg=t)\n",
        "\n",
        "# Exercise 7.1.19\n",
        "\n",
        "$\n",
        "x'(t) = 2x(t) - y(t) + z(t)\n",
        "$\n",
        "\n",
        "$\n",
        "y'(t) = x(t) + 2y(t) - z(t)\n",
        "$\n",
        "\n",
        "$\n",
        "z'(t) = x(t) - y(t) + 2z(t)\n",
        "$"
      ]
    },
    {
      "cell_type": "code",
      "execution_count": null,
      "id": "b399bc6d",
      "metadata": {
        "lines_to_next_cell": 2,
        "colab": {
          "base_uri": "https://localhost:8080/",
          "height": 83
        },
        "id": "b399bc6d",
        "outputId": "ea2ba911-d319-4eb0-dc26-79aa2b10f006"
      },
      "outputs": [
        {
          "output_type": "display_data",
          "data": {
            "text/plain": [
              "Eq(x(t), C1*exp(2*t) + C2*exp(3*t))"
            ],
            "text/latex": "$\\displaystyle x{\\left(t \\right)} = C_{1} e^{2 t} + C_{2} e^{3 t}$"
          },
          "metadata": {}
        },
        {
          "output_type": "display_data",
          "data": {
            "text/plain": [
              "Eq(y(t), C1*exp(2*t) + C3*exp(t))"
            ],
            "text/latex": "$\\displaystyle y{\\left(t \\right)} = C_{1} e^{2 t} + C_{3} e^{t}$"
          },
          "metadata": {}
        },
        {
          "output_type": "display_data",
          "data": {
            "text/plain": [
              "Eq(z(t), C1*exp(2*t) + C2*exp(3*t) + C3*exp(t))"
            ],
            "text/latex": "$\\displaystyle z{\\left(t \\right)} = C_{1} e^{2 t} + C_{2} e^{3 t} + C_{3} e^{t}$"
          },
          "metadata": {}
        }
      ],
      "source": [
        "x,y,z = symbols(\"x y z\", cls=Function)\n",
        "t = symbols(\"t\", real=True)\n",
        "\n",
        "de1 = Eq(x(t).diff(t) , 2*x(t) - y(t) + z(t))\n",
        "de2 = Eq(y(t).diff(t) , x(t) + 2*y(t) - z(t))\n",
        "de3 = Eq(z(t).diff(t) , x(t) - y(t) + 2*z(t))\n",
        "\n",
        "sol = dsolve_system([de1, de2, de3], doit=True)\n",
        "for eqs in sol:\n",
        "    for eq in eqs:\n",
        "        display(eq)"
      ]
    },
    {
      "cell_type": "markdown",
      "id": "97ae4864",
      "metadata": {
        "cell_marker": "\"\"\"",
        "id": "97ae4864"
      },
      "source": [
        "### [Link to step-by-step-solution](https://mathdf.com/dif/#expr=%5B%22x'%3D2x-y%2Bz%22%2C%22y'%3Dx%2B2y-z%22%2C%22z'%3Dx-y%2B2z%22%5D&func=y&sarg=t)\n",
        "\n",
        "# Exercise 7.1.20\n",
        "\n",
        "$x'(t) = x(t) + 2y(t) + 16te^t$\n",
        "\n",
        "$\n",
        "y'(t) = 2x(t) - 2y(t)\n",
        "$"
      ]
    },
    {
      "cell_type": "code",
      "execution_count": null,
      "id": "c4b15681",
      "metadata": {
        "lines_to_next_cell": 2,
        "colab": {
          "base_uri": "https://localhost:8080/",
          "height": 76
        },
        "id": "c4b15681",
        "outputId": "31f55f96-c359-4a9e-c79f-f9e3afba83e7"
      },
      "outputs": [
        {
          "output_type": "display_data",
          "data": {
            "text/plain": [
              "Eq(x(t), -C1*exp(-3*t)/2 + 2*C2*exp(2*t) - 12*t*exp(t) - 13*exp(t))"
            ],
            "text/latex": "$\\displaystyle x{\\left(t \\right)} = - \\frac{C_{1} e^{- 3 t}}{2} + 2 C_{2} e^{2 t} - 12 t e^{t} - 13 e^{t}$"
          },
          "metadata": {}
        },
        {
          "output_type": "display_data",
          "data": {
            "text/plain": [
              "Eq(y(t), C1*exp(-3*t) + C2*exp(2*t) - 8*t*exp(t) - 6*exp(t))"
            ],
            "text/latex": "$\\displaystyle y{\\left(t \\right)} = C_{1} e^{- 3 t} + C_{2} e^{2 t} - 8 t e^{t} - 6 e^{t}$"
          },
          "metadata": {}
        }
      ],
      "source": [
        "x,y = symbols(\"x y\", cls=Function)\n",
        "t = symbols(\"t\", real=True)\n",
        "de1 = Eq(x(t).diff(t) , x(t) + 2*y(t) + 16*t*exp(t))\n",
        "de2 = Eq(y(t).diff(t) , 2*x(t) - 2*y(t))\n",
        "sol = dsolve_system([de1, de2], doit=True)\n",
        "for eqs in sol:\n",
        "    for eq in eqs:\n",
        "        display(eq)"
      ]
    },
    {
      "cell_type": "markdown",
      "id": "874e1fc8",
      "metadata": {
        "cell_marker": "\"\"\"",
        "id": "874e1fc8"
      },
      "source": [
        "# Exercise 7.1.21\n",
        "\n",
        "$\n",
        "x_1'(t) = x_1(t) + x_3(t)\n",
        "$\n",
        "\n",
        "$\n",
        "x_2'(t) = x_1(t) + x_2(t)\n",
        "$\n",
        "\n",
        "$\n",
        "x_3'(t) = x_3(t)\n",
        "$"
      ]
    },
    {
      "cell_type": "code",
      "execution_count": null,
      "id": "3297ca4c",
      "metadata": {
        "lines_to_next_cell": 2,
        "colab": {
          "base_uri": "https://localhost:8080/",
          "height": 98
        },
        "id": "3297ca4c",
        "outputId": "b36e93f3-5295-4d64-9c01-bf13d3b57953"
      },
      "outputs": [
        {
          "output_type": "display_data",
          "data": {
            "text/plain": [
              "Eq(x1(t), C1*exp(t) + C2*t*exp(t))"
            ],
            "text/latex": "$\\displaystyle x_{1}{\\left(t \\right)} = C_{1} e^{t} + C_{2} t e^{t}$"
          },
          "metadata": {}
        },
        {
          "output_type": "display_data",
          "data": {
            "text/plain": [
              "Eq(x2(t), C1*t*exp(t) + C2*t**2*exp(t)/2 + C3*exp(t))"
            ],
            "text/latex": "$\\displaystyle x_{2}{\\left(t \\right)} = C_{1} t e^{t} + \\frac{C_{2} t^{2} e^{t}}{2} + C_{3} e^{t}$"
          },
          "metadata": {}
        },
        {
          "output_type": "display_data",
          "data": {
            "text/plain": [
              "Eq(x3(t), C2*exp(t))"
            ],
            "text/latex": "$\\displaystyle x_{3}{\\left(t \\right)} = C_{2} e^{t}$"
          },
          "metadata": {}
        }
      ],
      "source": [
        "x1,x2,x3 = symbols(\"x1 x2 x3\", cls=Function)\n",
        "t = symbols(\"t\", real=True)\n",
        "\n",
        "de1 = Eq(x1(t).diff(t) , x1(t) + x3(t))\n",
        "de2 = Eq(x2(t).diff(t) , x1(t) + x2(t))\n",
        "de3 = Eq(x3(t).diff(t) , x3(t))\n",
        "\n",
        "sol = dsolve_system([de1, de2, de3], doit=True)\n",
        "for eqs in sol:\n",
        "    for eq in eqs:\n",
        "        display(eq)"
      ]
    },
    {
      "cell_type": "markdown",
      "id": "f3976af7",
      "metadata": {
        "cell_marker": "\"\"\"",
        "id": "f3976af7"
      },
      "source": [
        "# Exercise 7.1.22\n",
        "\n",
        "$\n",
        "x_1'(t) = 2x_1(t) + 2x_2(t) + 2x_3(t)\n",
        "$\n",
        "\n",
        "$\n",
        "x_2'(t) = 2x_1(t) + 2x_2(t) +2x_3(t)\n",
        "$\n",
        "\n",
        "$\n",
        "x_3'(t) = 2x_1(t) + 2x_2(t) +2x_3(t)\n",
        "$"
      ]
    },
    {
      "cell_type": "code",
      "execution_count": null,
      "id": "1eec831b",
      "metadata": {
        "lines_to_next_cell": 2,
        "colab": {
          "base_uri": "https://localhost:8080/",
          "height": 83
        },
        "id": "1eec831b",
        "outputId": "6ddfc549-e6f6-4245-a1fa-8113a165bb73"
      },
      "outputs": [
        {
          "output_type": "display_data",
          "data": {
            "text/plain": [
              "Eq(x1(t), -C1 - C2 + C3*exp(6*t))"
            ],
            "text/latex": "$\\displaystyle x_{1}{\\left(t \\right)} = - C_{1} - C_{2} + C_{3} e^{6 t}$"
          },
          "metadata": {}
        },
        {
          "output_type": "display_data",
          "data": {
            "text/plain": [
              "Eq(x2(t), C1 + C3*exp(6*t))"
            ],
            "text/latex": "$\\displaystyle x_{2}{\\left(t \\right)} = C_{1} + C_{3} e^{6 t}$"
          },
          "metadata": {}
        },
        {
          "output_type": "display_data",
          "data": {
            "text/plain": [
              "Eq(x3(t), C2 + C3*exp(6*t))"
            ],
            "text/latex": "$\\displaystyle x_{3}{\\left(t \\right)} = C_{2} + C_{3} e^{6 t}$"
          },
          "metadata": {}
        }
      ],
      "source": [
        "x1,x2,x3 = symbols(\"x1 x2 x3\", cls=Function)\n",
        "t = symbols(\"t\", real=True)\n",
        "\n",
        "de1 = Eq(x1(t).diff(t) , 2*x1(t) + 2*x2(t) + 2*x3(t))\n",
        "de2 = Eq(x2(t).diff(t) , 2*x1(t) + 2*x2(t) + 2*x3(t))\n",
        "de3 = Eq(x3(t).diff(t) , 2*x1(t) + 2*x2(t) + 2*x3(t))\n",
        "\n",
        "sol = dsolve_system([de1, de2, de3], doit=True)\n",
        "for eqs in sol:\n",
        "    for eq in eqs:\n",
        "        display(eq)"
      ]
    },
    {
      "cell_type": "markdown",
      "id": "12207af7",
      "metadata": {
        "cell_marker": "\"\"\"",
        "id": "12207af7"
      },
      "source": [
        "* Using the Mathde web site, it is possible to obtain full\n",
        "  step-by-step solutions to these type of problems!\n",
        "* Here is one example:\n",
        "\n",
        "### [Link to step-by-step-solution](https://samyzaf.com/technion/ode/sol/chap6.9.3.pdf)\n",
        "\n",
        "# Exercise 7.2.1\n",
        "\n",
        "$\n",
        "x'(t) = 2x(t) + y(t)\n",
        "$\n",
        "\n",
        "$\n",
        "y'(t) = x(t) + 2y(t)\n",
        "$\n",
        "\n",
        "$\n",
        "x(0)=1\n",
        "$\n",
        "\n",
        "$\n",
        "y(0)=3\n",
        "$"
      ]
    },
    {
      "cell_type": "code",
      "execution_count": null,
      "id": "de4f7fa4",
      "metadata": {
        "lines_to_next_cell": 2,
        "colab": {
          "base_uri": "https://localhost:8080/",
          "height": 61
        },
        "id": "de4f7fa4",
        "outputId": "4b78af16-6d19-4d9c-d4a5-153faa57128f"
      },
      "outputs": [
        {
          "output_type": "display_data",
          "data": {
            "text/plain": [
              "Eq(x(t), 2*exp(3*t) - exp(t))"
            ],
            "text/latex": "$\\displaystyle x{\\left(t \\right)} = 2 e^{3 t} - e^{t}$"
          },
          "metadata": {}
        },
        {
          "output_type": "display_data",
          "data": {
            "text/plain": [
              "Eq(y(t), 2*exp(3*t) + exp(t))"
            ],
            "text/latex": "$\\displaystyle y{\\left(t \\right)} = 2 e^{3 t} + e^{t}$"
          },
          "metadata": {}
        }
      ],
      "source": [
        "x,y = symbols(\"x y\", cls=Function)\n",
        "t = symbols(\"t\", real=True)\n",
        "de1 = Eq(x(t).diff(t) , 2*x(t) + y(t))\n",
        "de2 = Eq(y(t).diff(t) , x(t) + 2*y(t))\n",
        "sol = dsolve_system([de1, de2], doit=True, ics={x(0): 1, y(0): 3})\n",
        "for eqs in sol:\n",
        "    for eq in eqs:\n",
        "        display(eq)"
      ]
    },
    {
      "cell_type": "markdown",
      "id": "e4e9723a",
      "metadata": {
        "cell_marker": "\"\"\"",
        "id": "e4e9723a"
      },
      "source": [
        "# Exercise 7.2.2\n",
        "\n",
        "$\n",
        "x'(t) = y(t) + t\n",
        "$\n",
        "\n",
        "$\n",
        "y'(t) = x(t) + e^t\n",
        "$\n",
        "\n",
        "$\n",
        "x(0)=1\n",
        "$\n",
        "\n",
        "$\n",
        "y(0)=0\n",
        "$\n"
      ]
    },
    {
      "cell_type": "code",
      "execution_count": null,
      "id": "ac3987be",
      "metadata": {
        "lines_to_next_cell": 2,
        "colab": {
          "base_uri": "https://localhost:8080/",
          "height": 90
        },
        "id": "ac3987be",
        "outputId": "94942ae2-48f3-4555-b49e-c77f658a12dd"
      },
      "outputs": [
        {
          "output_type": "display_data",
          "data": {
            "text/plain": [
              "Eq(x(t), -t + 3*exp(t)/2 - 1 + exp(-t)/2)"
            ],
            "text/latex": "$\\displaystyle x{\\left(t \\right)} = - t + \\frac{3 e^{t}}{2} - 1 + \\frac{e^{- t}}{2}$"
          },
          "metadata": {}
        },
        {
          "output_type": "display_data",
          "data": {
            "text/plain": [
              "Eq(y(t), -t + 3*exp(t)/2 - 1 - exp(-t)/2)"
            ],
            "text/latex": "$\\displaystyle y{\\left(t \\right)} = - t + \\frac{3 e^{t}}{2} - 1 - \\frac{e^{- t}}{2}$"
          },
          "metadata": {}
        }
      ],
      "source": [
        "x,y = symbols(\"x y\", cls=Function)\n",
        "t = symbols(\"t\", real=True)\n",
        "de1 = Eq(x(t).diff(t) , y(t) + t)\n",
        "de2 = Eq(y(t).diff(t) , x(t) + t)\n",
        "sol = dsolve_system([de1, de2], doit=True, ics={x(0): 1, y(0): 0})\n",
        "for eqs in sol:\n",
        "    for eq in eqs:\n",
        "        display(eq)"
      ]
    },
    {
      "cell_type": "markdown",
      "id": "68299229",
      "metadata": {
        "cell_marker": "\"\"\"",
        "id": "68299229"
      },
      "source": [
        "# Exercise 7.2.3\n",
        "\n",
        "$\n",
        "x_1'(t) = 3x_1(t) - x_2(t) \\\\\n",
        "x_2'(t) = 4x_1(t) - x_2(t) \\\\\n",
        "x_1(0)=1 \\\\\n",
        "x_2(0)=1\n",
        "$"
      ]
    },
    {
      "cell_type": "code",
      "execution_count": null,
      "id": "2e3489c6",
      "metadata": {
        "lines_to_next_cell": 2,
        "colab": {
          "base_uri": "https://localhost:8080/",
          "height": 61
        },
        "id": "2e3489c6",
        "outputId": "b8abcf85-284d-475f-c0c1-7f11df582cac"
      },
      "outputs": [
        {
          "output_type": "display_data",
          "data": {
            "text/plain": [
              "Eq(x1(t), t*exp(t) + exp(t))"
            ],
            "text/latex": "$\\displaystyle x_{1}{\\left(t \\right)} = t e^{t} + e^{t}$"
          },
          "metadata": {}
        },
        {
          "output_type": "display_data",
          "data": {
            "text/plain": [
              "Eq(x2(t), 2*t*exp(t) + exp(t))"
            ],
            "text/latex": "$\\displaystyle x_{2}{\\left(t \\right)} = 2 t e^{t} + e^{t}$"
          },
          "metadata": {}
        }
      ],
      "source": [
        "x1,x2 = symbols(\"x1 x2\", cls=Function)\n",
        "t = symbols(\"t\", real=True)\n",
        "de1 = Eq(x1(t).diff(t) , 3*x1(t) - x2(t))\n",
        "de2 = Eq(x2(t).diff(t) , 4*x1(t) - x2(t))\n",
        "sol = dsolve_system([de1, de2], ics={x1(0): 1, x2(0): 1})\n",
        "for eqs in sol:\n",
        "    for eq in eqs:\n",
        "        display(eq)"
      ]
    },
    {
      "cell_type": "markdown",
      "id": "d2ba825b",
      "metadata": {
        "cell_marker": "\"\"\"",
        "id": "d2ba825b"
      },
      "source": [
        "# Exercise 7.2.4\n",
        "\n",
        "$\n",
        "x'(t) - x(t) - 5y(t) = 1\n",
        "$\n",
        "\n",
        "$\n",
        "y'(t) + 2x(t) + y(t) = e^t\n",
        "$\n",
        "\n",
        "$\n",
        "x(0)=0\n",
        "$\n",
        "\n",
        "$\n",
        "y(0)=0\n",
        "$\n"
      ]
    },
    {
      "cell_type": "code",
      "execution_count": null,
      "id": "8112b102",
      "metadata": {
        "lines_to_next_cell": 2,
        "colab": {
          "base_uri": "https://localhost:8080/",
          "height": 93
        },
        "id": "8112b102",
        "outputId": "8bcd3dc3-7cec-4be8-9929-52890005df16"
      },
      "outputs": [
        {
          "output_type": "display_data",
          "data": {
            "text/plain": [
              "Eq(x(t), exp(t)*sin(3*t)**2/2 + exp(t)*cos(3*t)**2/2 + sin(3*t)**2/9 + sin(3*t)/6 + cos(3*t)**2/9 - 11*cos(3*t)/18)"
            ],
            "text/latex": "$\\displaystyle x{\\left(t \\right)} = \\frac{e^{t} \\sin^{2}{\\left(3 t \\right)}}{2} + \\frac{e^{t} \\cos^{2}{\\left(3 t \\right)}}{2} + \\frac{\\sin^{2}{\\left(3 t \\right)}}{9} + \\frac{\\sin{\\left(3 t \\right)}}{6} + \\frac{\\cos^{2}{\\left(3 t \\right)}}{9} - \\frac{11 \\cos{\\left(3 t \\right)}}{18}$"
          },
          "metadata": {}
        },
        {
          "output_type": "display_data",
          "data": {
            "text/plain": [
              "Eq(y(t), -2*sin(3*t)**2/9 + sin(3*t)/3 - 2*cos(3*t)**2/9 + 2*cos(3*t)/9)"
            ],
            "text/latex": "$\\displaystyle y{\\left(t \\right)} = - \\frac{2 \\sin^{2}{\\left(3 t \\right)}}{9} + \\frac{\\sin{\\left(3 t \\right)}}{3} - \\frac{2 \\cos^{2}{\\left(3 t \\right)}}{9} + \\frac{2 \\cos{\\left(3 t \\right)}}{9}$"
          },
          "metadata": {}
        }
      ],
      "source": [
        "x,y = symbols(\"x y\", cls=Function)\n",
        "t = symbols(\"t\", real=True)\n",
        "de1 = Eq(x(t).diff(t) - x(t) -  5*y(t) , 1)\n",
        "de2 = Eq(y(t).diff(t) + 2*x(t) + y(t) , exp(t))\n",
        "sol = dsolve_system([de1, de2], doit=True, ics={x(0): 0, y(0): 0})\n",
        "for eqs in sol:\n",
        "    for eq in eqs:\n",
        "        display(eq)"
      ]
    },
    {
      "cell_type": "markdown",
      "id": "fb56a673",
      "metadata": {
        "cell_marker": "\"\"\"",
        "id": "fb56a673"
      },
      "source": [
        "# Exercise 7.2.5\n",
        "\n",
        "$\n",
        "x'(t) = y(t) - 5\\cos t\n",
        "$\n",
        "\n",
        "$\n",
        "y'(t) = 2x(t) + y(t)\n",
        "$\n",
        "\n",
        "$\n",
        "x(0)=0\n",
        "$\n",
        "\n",
        "$\n",
        "y(0)=0\n",
        "$\n"
      ]
    },
    {
      "cell_type": "code",
      "execution_count": null,
      "id": "d00adf66",
      "metadata": {
        "lines_to_next_cell": 2,
        "colab": {
          "base_uri": "https://localhost:8080/",
          "height": 91
        },
        "id": "d00adf66",
        "outputId": "9dcf70c8-f820-45da-955d-96e463c94754"
      },
      "outputs": [
        {
          "output_type": "display_data",
          "data": {
            "text/plain": [
              "Eq(x(t), -2*exp(2*t)/3 - 2*sin(t) - cos(t) + 5*exp(-t)/3)"
            ],
            "text/latex": "$\\displaystyle x{\\left(t \\right)} = - \\frac{2 e^{2 t}}{3} - 2 \\sin{\\left(t \\right)} - \\cos{\\left(t \\right)} + \\frac{5 e^{- t}}{3}$"
          },
          "metadata": {}
        },
        {
          "output_type": "display_data",
          "data": {
            "text/plain": [
              "Eq(y(t), -4*exp(2*t)/3 + sin(t) + 3*cos(t) - 5*exp(-t)/3)"
            ],
            "text/latex": "$\\displaystyle y{\\left(t \\right)} = - \\frac{4 e^{2 t}}{3} + \\sin{\\left(t \\right)} + 3 \\cos{\\left(t \\right)} - \\frac{5 e^{- t}}{3}$"
          },
          "metadata": {}
        }
      ],
      "source": [
        "x,y = symbols(\"x y\", cls=Function)\n",
        "t = symbols(\"t\", real=True)\n",
        "de1 = Eq(x(t).diff(t), y(t) - 5*cos(t))\n",
        "de2 = Eq(y(t).diff(t), 2*x(t) + y(t))\n",
        "sol = dsolve_system([de1, de2], doit=True, ics={x(0): 0, y(0): 0})\n",
        "for eqs in sol:\n",
        "    for eq in eqs:\n",
        "        display(eq)"
      ]
    },
    {
      "cell_type": "markdown",
      "id": "6f63a809",
      "metadata": {
        "cell_marker": "\"\"\"",
        "id": "6f63a809"
      },
      "source": [
        "# Exercise 7.2.6\n",
        "\n",
        "$\n",
        "x'(t) = y(t) + t\n",
        "$\n",
        "\n",
        "$\n",
        "y'(t) = x(t) + e^t\n",
        "$\n",
        "\n",
        "$\n",
        "x(0)=1\n",
        "$\n",
        "\n",
        "$\n",
        "y(0)=0\n",
        "$\n"
      ]
    },
    {
      "cell_type": "code",
      "execution_count": null,
      "id": "41cc3bf3",
      "metadata": {
        "lines_to_next_cell": 2,
        "colab": {
          "base_uri": "https://localhost:8080/",
          "height": 90
        },
        "id": "41cc3bf3",
        "outputId": "c2d7ca7c-504c-4292-fdce-ae5fac6b7e76"
      },
      "outputs": [
        {
          "output_type": "display_data",
          "data": {
            "text/plain": [
              "Eq(x(t), t*exp(t)/2 + 3*exp(t)/4 - 1 + 5*exp(-t)/4)"
            ],
            "text/latex": "$\\displaystyle x{\\left(t \\right)} = \\frac{t e^{t}}{2} + \\frac{3 e^{t}}{4} - 1 + \\frac{5 e^{- t}}{4}$"
          },
          "metadata": {}
        },
        {
          "output_type": "display_data",
          "data": {
            "text/plain": [
              "Eq(y(t), t*exp(t)/2 - t + 5*exp(t)/4 - 5*exp(-t)/4)"
            ],
            "text/latex": "$\\displaystyle y{\\left(t \\right)} = \\frac{t e^{t}}{2} - t + \\frac{5 e^{t}}{4} - \\frac{5 e^{- t}}{4}$"
          },
          "metadata": {}
        }
      ],
      "source": [
        "x,y = symbols(\"x y\", cls=Function)\n",
        "t = symbols(\"t\", real=True)\n",
        "de1 = Eq(x(t).diff(t), y(t) + t)\n",
        "de2 = Eq(y(t).diff(t), x(t) + exp(t))\n",
        "sol = dsolve_system([de1, de2], doit=True, ics={x(0): 1, y(0): 0})\n",
        "for eqs in sol:\n",
        "    for eq in eqs:\n",
        "        display(eq)"
      ]
    },
    {
      "cell_type": "markdown",
      "id": "0aaf9af0",
      "metadata": {
        "cell_marker": "\"\"\"",
        "id": "0aaf9af0"
      },
      "source": [
        "# Exercise 7.3\n",
        "\n",
        "$\n",
        "x_1'(t) = cx_1(t) + x_2(t) + cx_3(t)\n",
        "$\n",
        "\n",
        "$\n",
        "x_2'(t) = x_1(t) + cx_2(t) + x_3(t)\n",
        "$\n",
        "\n",
        "$\n",
        "x_3'(t) = cx_3(t)\n",
        "$"
      ]
    },
    {
      "cell_type": "code",
      "execution_count": null,
      "id": "733634c6",
      "metadata": {
        "lines_to_next_cell": 2,
        "colab": {
          "base_uri": "https://localhost:8080/",
          "height": 84
        },
        "id": "733634c6",
        "outputId": "57b5fead-3b66-4991-c910-d15825bfa463"
      },
      "outputs": [
        {
          "output_type": "display_data",
          "data": {
            "text/plain": [
              "Eq(x1(t), -C1*exp(c*t) - C2*exp(t*(c - 1)) + C3*exp(t*(c + 1)))"
            ],
            "text/latex": "$\\displaystyle x_{1}{\\left(t \\right)} = - C_{1} e^{c t} - C_{2} e^{t \\left(c - 1\\right)} + C_{3} e^{t \\left(c + 1\\right)}$"
          },
          "metadata": {}
        },
        {
          "output_type": "display_data",
          "data": {
            "text/plain": [
              "Eq(x2(t), -C1*c*exp(c*t) + C2*exp(t*(c - 1)) + C3*exp(t*(c + 1)))"
            ],
            "text/latex": "$\\displaystyle x_{2}{\\left(t \\right)} = - C_{1} c e^{c t} + C_{2} e^{t \\left(c - 1\\right)} + C_{3} e^{t \\left(c + 1\\right)}$"
          },
          "metadata": {}
        },
        {
          "output_type": "display_data",
          "data": {
            "text/plain": [
              "Eq(x3(t), C1*exp(c*t))"
            ],
            "text/latex": "$\\displaystyle x_{3}{\\left(t \\right)} = C_{1} e^{c t}$"
          },
          "metadata": {}
        }
      ],
      "source": [
        "x1,x2,x3 = symbols(\"x1 x2 x3\", cls=Function)\n",
        "t,c = symbols(\"t c\", real=True)\n",
        "\n",
        "de1 = Eq(x1(t).diff(t) , c*x1(t) + x2(t) + c*x3(t))\n",
        "de2 = Eq(x2(t).diff(t) , x1(t) + c*x2(t) + x3(t))\n",
        "de3 = Eq(x3(t).diff(t) , c*x3(t))\n",
        "\n",
        "sol = dsolve_system([de1, de2, de3], doit=True)\n",
        "for eqs in sol:\n",
        "    for eq in eqs:\n",
        "        display(eq)"
      ]
    },
    {
      "cell_type": "markdown",
      "id": "6c932ea6",
      "metadata": {
        "cell_marker": "\"\"\"",
        "lines_to_next_cell": 2,
        "id": "6c932ea6"
      },
      "source": [
        "* $x_1(t)$ is bounded on $[0,\\infty)$ if and only if $c\\leq -1$.\n",
        "* Same is true for $x_2(t)$.\n",
        "* $x_3(t)$ is bounded iff $c\\leq 0$.\n",
        "* Hence, $c\\leq -1$ is required for all solutions to be bounded.\n",
        "\n",
        "# **TO BE CONTINUED ...**\n",
        "* Any student with a basic Python programming skill\n",
        "  is welcome to continue and solve more exercises\n",
        "  from the\n",
        "<a href=\"https://samyzaf.com/technion/ode/ode.pdf\">\n",
        "Ordinal Differential Equations book\n",
        "</a>.\n",
        "\n",
        "* Send your solutions notebook to sz@samyzaf.com.\n",
        "* They will be checked and added to this notebook.\n",
        "* Thanks!!!"
      ]
    }
  ],
  "metadata": {
    "jupytext": {
      "cell_metadata_filter": "-all",
      "main_language": "python",
      "notebook_metadata_filter": "-all"
    },
    "colab": {
      "provenance": [],
      "include_colab_link": true
    },
    "language_info": {
      "name": "python"
    },
    "kernelspec": {
      "name": "python3",
      "display_name": "Python 3"
    }
  },
  "nbformat": 4,
  "nbformat_minor": 5
}