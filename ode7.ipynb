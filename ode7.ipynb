{
  "cells": [
    {
      "cell_type": "markdown",
      "metadata": {
        "id": "view-in-github",
        "colab_type": "text"
      },
      "source": [
        "<a href=\"https://colab.research.google.com/github/samyzaf/notebooks/blob/main/ode7.ipynb\" target=\"_parent\"><img src=\"https://colab.research.google.com/assets/colab-badge.svg\" alt=\"Open In Colab\"/></a>"
      ]
    },
    {
      "cell_type": "markdown",
      "metadata": {
        "id": "zo0mZHrOCICt"
      },
      "source": [
        "# Ordinary Differential Equations\n",
        "# Chapter 7: Solutions to exercises\n",
        "\n",
        "<a href=\"https://samyzaf.com/technion/ode/ode.pdf\">\n",
        "<img src=\"https://samyzaf.com/technion/ode/ode2.jpg\" alt=\"ode book cover\"/>\n",
        "</a>\n",
        "\n",
        "* We used Python **Sympy** package and the Jupyter-Lab enviroments for\n",
        "  code-generating step-bystep final result for most of the exercises.\n",
        "* These packages are still under active development, and are not yet fully tested\n",
        "  and/or ready to cope with all ode's or Transforms.\n",
        "  So we will appreciate your careful check and feedback of our work.\n",
        "* The new site https://mathdf.com seems to be a great source\n",
        "  for obtaining full step-by-step solutions for differential equations.\n",
        "  Please use it for obtaining full solutions and let us know\n",
        "  if it meets expectations. We will be glad to receive full solutions\n",
        "  and add them here later (sz@samyzaf.com).\n",
        "* This notebook can be edited and executed by clicking\n",
        "  the **open in colab** button.\n",
        "* These are only a small number of solutions to exercises in capter 6.\n",
        "  Hopefully this will encourage students to try to solve more\n",
        "  exercises with similar methods. We will be glad to accept notebooks\n",
        "  with solutions to other exercises in this book.\n",
        "  Please send them to sz@samyzaf.com."
      ]
    },
    {
      "cell_type": "code",
      "execution_count": null,
      "metadata": {
        "colab": {
          "base_uri": "https://localhost:8080/"
        },
        "id": "M6sQe4JlsK7u",
        "outputId": "97950193-f384-44a7-c323-8d2eb0ab1914"
      },
      "outputs": [
        {
          "output_type": "stream",
          "name": "stdout",
          "text": [
            "Looking in indexes: https://pypi.org/simple, https://us-python.pkg.dev/colab-wheels/public/simple/\n",
            "Requirement already satisfied: sympy in /usr/local/lib/python3.8/dist-packages (1.11.1)\n",
            "Requirement already satisfied: mpmath>=0.19 in /usr/local/lib/python3.8/dist-packages (from sympy) (1.2.1)\n"
          ]
        }
      ],
      "source": [
        "%pip install --upgrade sympy"
      ]
    },
    {
      "cell_type": "code",
      "execution_count": null,
      "metadata": {
        "id": "QO4VgM1r1vEy"
      },
      "outputs": [],
      "source": [
        "from sympy import *\n",
        "from sympy.solvers.ode.systems import dsolve_system\n",
        "from IPython.display import HTML\n",
        "import matplotlib.pyplot as plt"
      ]
    },
    {
      "cell_type": "markdown",
      "metadata": {
        "id": "7kZIkO5nXxRx"
      },
      "source": [
        "# Exercise 7.1.1\n",
        "\n",
        "$\n",
        "x'(t) = x(t) - 3y(t)\n",
        "$\n",
        "\n",
        "$\n",
        "y'(t) = 3x(t) + y(t)\n",
        "$\n"
      ]
    },
    {
      "cell_type": "code",
      "execution_count": null,
      "metadata": {
        "colab": {
          "base_uri": "https://localhost:8080/",
          "height": 61
        },
        "id": "NZnh7uRSHpf3",
        "outputId": "3259c6b0-ab1a-4f9b-dd49-62ec9920ee0e"
      },
      "outputs": [
        {
          "output_type": "display_data",
          "data": {
            "text/plain": [
              "Eq(x(t), C1*exp(t))"
            ],
            "text/latex": "$\\displaystyle x{\\left(t \\right)} = C_{1} e^{t}$"
          },
          "metadata": {}
        },
        {
          "output_type": "display_data",
          "data": {
            "text/plain": [
              "Eq(y(t), 3*C1*t*exp(t) + 3*C2*exp(t))"
            ],
            "text/latex": "$\\displaystyle y{\\left(t \\right)} = 3 C_{1} t e^{t} + 3 C_{2} e^{t}$"
          },
          "metadata": {}
        }
      ],
      "source": [
        "x,y = symbols(\"x y\", cls=Function)\n",
        "t = symbols(\"t\", real=True)\n",
        "de1 = Eq(x(t).diff(t), x(t))\n",
        "de2 = Eq(y(t).diff(t), 3*x(t) + y(t))\n",
        "sol = dsolve_system([de1, de2])\n",
        "for eqs in sol:\n",
        "    for eq in eqs:\n",
        "        #print(eq)\n",
        "        display(eq)"
      ]
    },
    {
      "cell_type": "markdown",
      "metadata": {
        "id": "ZyFYRsm34NRO"
      },
      "source": [
        "# Exercise 7.1.2\n",
        "\n",
        "$\n",
        "x'(t) + x(t) + 5y(t) = 0\n",
        "$\n",
        "\n",
        "$\n",
        "y'(t) - x(t) - y(t) = 0\n",
        "$"
      ]
    },
    {
      "cell_type": "code",
      "execution_count": null,
      "metadata": {
        "colab": {
          "base_uri": "https://localhost:8080/",
          "height": 61
        },
        "id": "pta_vjpo4NRQ",
        "outputId": "97a4ce6a-52a7-4f5d-99d6-ec1c61aad83a"
      },
      "outputs": [
        {
          "output_type": "display_data",
          "data": {
            "text/plain": [
              "Eq(x(t), -(C1 + 2*C2)*cos(2*t) - (2*C1 - C2)*sin(2*t))"
            ],
            "text/latex": "$\\displaystyle x{\\left(t \\right)} = - \\left(C_{1} + 2 C_{2}\\right) \\cos{\\left(2 t \\right)} - \\left(2 C_{1} - C_{2}\\right) \\sin{\\left(2 t \\right)}$"
          },
          "metadata": {}
        },
        {
          "output_type": "display_data",
          "data": {
            "text/plain": [
              "Eq(y(t), C1*cos(2*t) - C2*sin(2*t))"
            ],
            "text/latex": "$\\displaystyle y{\\left(t \\right)} = C_{1} \\cos{\\left(2 t \\right)} - C_{2} \\sin{\\left(2 t \\right)}$"
          },
          "metadata": {}
        }
      ],
      "source": [
        "x,y = symbols(\"x y\", cls=Function)\n",
        "t = symbols(\"t\", real=True)\n",
        "de1 = Eq(x(t).diff(t) + x(t) + 5*y(t), 0)\n",
        "de2 = Eq(y(t).diff(t) - x(t) - y(t), 0)\n",
        "sol = dsolve_system([de1, de2])\n",
        "for eqs in sol:\n",
        "    for eq in eqs:\n",
        "        #print(eq)\n",
        "        display(eq)"
      ]
    },
    {
      "cell_type": "markdown",
      "metadata": {
        "id": "4SP199FvXxR1"
      },
      "source": [
        "* It's not clear if this is equal to $\\tanh(s)/s$ !?\n",
        "* Probably the problem is missing somethin!? It does not specify anything about $t>4$ ..."
      ]
    },
    {
      "cell_type": "markdown",
      "metadata": {
        "id": "poUTpkjx4NRR"
      },
      "source": [
        "# Exercise 7.1.3\n",
        "\n",
        "$\n",
        "x'(t) = 2x(t) + y(t)\n",
        "$\n",
        "\n",
        "$\n",
        "y'(t) = 3x(t) + 4y(t)\n",
        "$"
      ]
    },
    {
      "cell_type": "code",
      "execution_count": null,
      "metadata": {
        "colab": {
          "base_uri": "https://localhost:8080/",
          "height": 75
        },
        "id": "lVU3PItM4NRT",
        "outputId": "2041f6c4-f466-47ca-9eb5-886e28c74738"
      },
      "outputs": [
        {
          "output_type": "display_data",
          "data": {
            "text/plain": [
              "Eq(x(t), -5*C1*exp(-t)/3 + C2*exp(7*t))"
            ],
            "text/latex": "$\\displaystyle x{\\left(t \\right)} = - \\frac{5 C_{1} e^{- t}}{3} + C_{2} e^{7 t}$"
          },
          "metadata": {}
        },
        {
          "output_type": "display_data",
          "data": {
            "text/plain": [
              "Eq(y(t), C1*exp(-t) + C2*exp(7*t))"
            ],
            "text/latex": "$\\displaystyle y{\\left(t \\right)} = C_{1} e^{- t} + C_{2} e^{7 t}$"
          },
          "metadata": {}
        }
      ],
      "source": [
        "x,y = symbols(\"x y\", cls=Function)\n",
        "t = symbols(\"t\", real=True)\n",
        "de1 = Eq(x(t).diff(t) , 2*x(t) + 5*y(t))\n",
        "de2 = Eq(y(t).diff(t) , 3*x(t) + 4*y(t))\n",
        "sol = dsolve_system([de1, de2])\n",
        "for eqs in sol:\n",
        "    for eq in eqs:\n",
        "        display(eq)"
      ]
    },
    {
      "cell_type": "markdown",
      "metadata": {
        "id": "nESqAJ_O4NRU"
      },
      "source": [
        "# Exercise 7.1.4\n",
        "\n",
        "$\n",
        "x_1'(t) = x_1(t) - 3x_2(t)\n",
        "$\n",
        "\n",
        "$\n",
        "x_2'(t) = 3x_1(t) + x_2(t)\n",
        "$\n"
      ]
    },
    {
      "cell_type": "code",
      "execution_count": null,
      "metadata": {
        "colab": {
          "base_uri": "https://localhost:8080/",
          "height": 61
        },
        "id": "q0_RWXtb4NRV",
        "outputId": "f762f325-8b0a-4500-abf8-6168dec5b47e"
      },
      "outputs": [
        {
          "output_type": "display_data",
          "data": {
            "text/plain": [
              "Eq(x1(t), -C1*exp(t)*sin(3*t) - C2*exp(t)*cos(3*t))"
            ],
            "text/latex": "$\\displaystyle x_{1}{\\left(t \\right)} = - C_{1} e^{t} \\sin{\\left(3 t \\right)} - C_{2} e^{t} \\cos{\\left(3 t \\right)}$"
          },
          "metadata": {}
        },
        {
          "output_type": "display_data",
          "data": {
            "text/plain": [
              "Eq(x2(t), C1*exp(t)*cos(3*t) - C2*exp(t)*sin(3*t))"
            ],
            "text/latex": "$\\displaystyle x_{2}{\\left(t \\right)} = C_{1} e^{t} \\cos{\\left(3 t \\right)} - C_{2} e^{t} \\sin{\\left(3 t \\right)}$"
          },
          "metadata": {}
        }
      ],
      "source": [
        "x1,x2 = symbols(\"x1 x2\", cls=Function)\n",
        "t = symbols(\"t\", real=True)\n",
        "de1 = Eq(x1(t).diff(t) , x1(t) - 3*x2(t))\n",
        "de2 = Eq(x2(t).diff(t) , 3*x1(t) + x2(t))\n",
        "sol = dsolve_system([de1, de2])\n",
        "for eqs in sol:\n",
        "    for eq in eqs:\n",
        "        display(eq)"
      ]
    },
    {
      "cell_type": "markdown",
      "metadata": {
        "id": "XsmZ4uTU4NRW"
      },
      "source": [
        "# Exercise 7.1.5\n",
        "\n",
        "$\n",
        "x_1'(t) = 7x_1(t) + 3x_2(t)\n",
        "$\n",
        "\n",
        "$\n",
        "x_2'(t) = 6x_1(t) + 4x_2(t)\n",
        "$\n"
      ]
    },
    {
      "cell_type": "code",
      "execution_count": null,
      "metadata": {
        "colab": {
          "base_uri": "https://localhost:8080/",
          "height": 75
        },
        "id": "aAmznmFK4NRX",
        "outputId": "5ca55743-e255-4c37-8428-777f8059d7b8"
      },
      "outputs": [
        {
          "output_type": "display_data",
          "data": {
            "text/plain": [
              "Eq(x1(t), -C1*exp(t)/2 + C2*exp(10*t))"
            ],
            "text/latex": "$\\displaystyle x_{1}{\\left(t \\right)} = - \\frac{C_{1} e^{t}}{2} + C_{2} e^{10 t}$"
          },
          "metadata": {}
        },
        {
          "output_type": "display_data",
          "data": {
            "text/plain": [
              "Eq(x2(t), C1*exp(t) + C2*exp(10*t))"
            ],
            "text/latex": "$\\displaystyle x_{2}{\\left(t \\right)} = C_{1} e^{t} + C_{2} e^{10 t}$"
          },
          "metadata": {}
        }
      ],
      "source": [
        "x1,x2 = symbols(\"x1 x2\", cls=Function)\n",
        "t = symbols(\"t\", real=True)\n",
        "de1 = Eq(x1(t).diff(t) , 7*x1(t) + 3*x2(t))\n",
        "de2 = Eq(x2(t).diff(t) , 6*x1(t) + 4*x2(t))\n",
        "sol = dsolve_system([de1, de2])\n",
        "for eqs in sol:\n",
        "    for eq in eqs:\n",
        "        display(eq)"
      ]
    },
    {
      "cell_type": "markdown",
      "metadata": {
        "id": "hjueVl8n4NRZ"
      },
      "source": [
        "# Exercise 7.1.6\n",
        "\n",
        "$\n",
        "x_1'(t) = 5x_1(t) - 2x_2(t)\n",
        "$\n",
        "\n",
        "$\n",
        "x_2'(t) = 4x_1(t) - x_2(t)\n",
        "$\n"
      ]
    },
    {
      "cell_type": "code",
      "execution_count": null,
      "metadata": {
        "colab": {
          "base_uri": "https://localhost:8080/",
          "height": 75
        },
        "id": "ToRZvmw84NRZ",
        "outputId": "e90c165a-82b3-4743-aee3-6a0ed23bca94"
      },
      "outputs": [
        {
          "output_type": "display_data",
          "data": {
            "text/plain": [
              "Eq(x1(t), C1*exp(t)/2 + C2*exp(3*t))"
            ],
            "text/latex": "$\\displaystyle x_{1}{\\left(t \\right)} = \\frac{C_{1} e^{t}}{2} + C_{2} e^{3 t}$"
          },
          "metadata": {}
        },
        {
          "output_type": "display_data",
          "data": {
            "text/plain": [
              "Eq(x2(t), C1*exp(t) + C2*exp(3*t))"
            ],
            "text/latex": "$\\displaystyle x_{2}{\\left(t \\right)} = C_{1} e^{t} + C_{2} e^{3 t}$"
          },
          "metadata": {}
        }
      ],
      "source": [
        "x1,x2 = symbols(\"x1 x2\", cls=Function)\n",
        "t = symbols(\"t\", real=True)\n",
        "de1 = Eq(x1(t).diff(t) , 5*x1(t) - 2*x2(t))\n",
        "de2 = Eq(x2(t).diff(t) , 4*x1(t) - x2(t))\n",
        "sol = dsolve_system([de1, de2])\n",
        "for eqs in sol:\n",
        "    for eq in eqs:\n",
        "        display(eq)"
      ]
    },
    {
      "cell_type": "markdown",
      "metadata": {
        "id": "ZCi3ZoFI4NRa"
      },
      "source": [
        "# Exercise 7.1.7\n",
        "\n",
        "$\n",
        "x_1'(t) = -3*x_1(t) + 2x_2(t)\n",
        "$\n",
        "\n",
        "$\n",
        "x_2'(t) = -2x_1(t) + x_2(t)\n",
        "$"
      ]
    },
    {
      "cell_type": "code",
      "execution_count": null,
      "metadata": {
        "colab": {
          "base_uri": "https://localhost:8080/",
          "height": 61
        },
        "id": "LZ9Zy66h4NRb",
        "outputId": "e4c17bc3-1d1f-440b-c483-c009d0784999"
      },
      "outputs": [
        {
          "output_type": "display_data",
          "data": {
            "text/plain": [
              "Eq(x1(t), -2*C2*t*exp(-t) - (2*C1 - C2)*exp(-t))"
            ],
            "text/latex": "$\\displaystyle x_{1}{\\left(t \\right)} = - 2 C_{2} t e^{- t} - \\left(2 C_{1} - C_{2}\\right) e^{- t}$"
          },
          "metadata": {}
        },
        {
          "output_type": "display_data",
          "data": {
            "text/plain": [
              "Eq(x2(t), -2*C1*exp(-t) - 2*C2*t*exp(-t))"
            ],
            "text/latex": "$\\displaystyle x_{2}{\\left(t \\right)} = - 2 C_{1} e^{- t} - 2 C_{2} t e^{- t}$"
          },
          "metadata": {}
        }
      ],
      "source": [
        "x1,x2 = symbols(\"x1 x2\", cls=Function)\n",
        "t = symbols(\"t\", real=True)\n",
        "de1 = Eq(x1(t).diff(t) , -3*x1(t) + 2*x2(t))\n",
        "de2 = Eq(x2(t).diff(t) , -2*x1(t) + x2(t))\n",
        "sol = dsolve_system([de1, de2])\n",
        "for eqs in sol:\n",
        "    for eq in eqs:\n",
        "        display(eq)"
      ]
    },
    {
      "cell_type": "markdown",
      "metadata": {
        "id": "9PGQ_yxX4NRd"
      },
      "source": [
        "# Exercise 7.1.8\n",
        "\n",
        "$\n",
        "x_1'(t) = 3x_1(t) + x_2(t)\n",
        "$\n",
        "\n",
        "$\n",
        "x_2'(t) = -5x_1(t) - 3x_2(t)\n",
        "$"
      ]
    },
    {
      "cell_type": "code",
      "execution_count": null,
      "metadata": {
        "colab": {
          "base_uri": "https://localhost:8080/",
          "height": 76
        },
        "id": "jEJmLcwk4NRd",
        "outputId": "a029ed5d-9a76-4de7-b6a2-63db4e3f82da"
      },
      "outputs": [
        {
          "output_type": "display_data",
          "data": {
            "text/plain": [
              "Eq(x1(t), -C1*exp(-2*t)/5 - C2*exp(2*t))"
            ],
            "text/latex": "$\\displaystyle x_{1}{\\left(t \\right)} = - \\frac{C_{1} e^{- 2 t}}{5} - C_{2} e^{2 t}$"
          },
          "metadata": {}
        },
        {
          "output_type": "display_data",
          "data": {
            "text/plain": [
              "Eq(x2(t), C1*exp(-2*t) + C2*exp(2*t))"
            ],
            "text/latex": "$\\displaystyle x_{2}{\\left(t \\right)} = C_{1} e^{- 2 t} + C_{2} e^{2 t}$"
          },
          "metadata": {}
        }
      ],
      "source": [
        "x1,x2 = symbols(\"x1 x2\", cls=Function)\n",
        "t = symbols(\"t\", real=True)\n",
        "de1 = Eq(x1(t).diff(t) , 3*x1(t) + x2(t))\n",
        "de2 = Eq(x2(t).diff(t) , -5*x1(t) - 3*x2(t))\n",
        "sol = dsolve_system([de1, de2])\n",
        "for eqs in sol:\n",
        "    for eq in eqs:\n",
        "        display(eq)"
      ]
    },
    {
      "cell_type": "markdown",
      "metadata": {
        "id": "xdFm4Isz4NRe"
      },
      "source": [
        "# Exercise 7.1.9\n",
        "\n",
        "$\n",
        "x'(t) = y(t) - 5\\cos t\n",
        "$\n",
        "\n",
        "$\n",
        "y'(t) = 2x(t) + y(t)\n",
        "$"
      ]
    },
    {
      "cell_type": "code",
      "execution_count": null,
      "metadata": {
        "colab": {
          "base_uri": "https://localhost:8080/",
          "height": 91
        },
        "id": "RdIBmV9V4NRe",
        "outputId": "072f40bb-bb5e-4e8b-c8d8-dd1e6e0132ba"
      },
      "outputs": [
        {
          "output_type": "display_data",
          "data": {
            "text/plain": [
              "Eq(x(t), -C1*exp(-t) + C2*exp(2*t)/2 - 5*exp(2*t)*Integral(exp(-2*t)*cos(t), t)/3 - 10*exp(-t)*Integral(exp(t)*cos(t), t)/3)"
            ],
            "text/latex": "$\\displaystyle x{\\left(t \\right)} = - C_{1} e^{- t} + \\frac{C_{2} e^{2 t}}{2} - \\frac{5 e^{2 t} \\int e^{- 2 t} \\cos{\\left(t \\right)}\\, dt}{3} - \\frac{10 e^{- t} \\int e^{t} \\cos{\\left(t \\right)}\\, dt}{3}$"
          },
          "metadata": {}
        },
        {
          "output_type": "display_data",
          "data": {
            "text/plain": [
              "Eq(y(t), C1*exp(-t) + C2*exp(2*t) - 10*exp(2*t)*Integral(exp(-2*t)*cos(t), t)/3 + 10*exp(-t)*Integral(exp(t)*cos(t), t)/3)"
            ],
            "text/latex": "$\\displaystyle y{\\left(t \\right)} = C_{1} e^{- t} + C_{2} e^{2 t} - \\frac{10 e^{2 t} \\int e^{- 2 t} \\cos{\\left(t \\right)}\\, dt}{3} + \\frac{10 e^{- t} \\int e^{t} \\cos{\\left(t \\right)}\\, dt}{3}$"
          },
          "metadata": {}
        }
      ],
      "source": [
        "x,y = symbols(\"x y\", cls=Function)\n",
        "t = symbols(\"t\", real=True)\n",
        "de1 = Eq(x(t).diff(t) , y(t) - 5*cos(t))\n",
        "de2 = Eq(y(t).diff(t) , 2*x(t) + y(t))\n",
        "sol = dsolve_system([de1, de2])\n",
        "for eqs in sol:\n",
        "    for eq in eqs:\n",
        "        display(eq)"
      ]
    },
    {
      "cell_type": "markdown",
      "metadata": {
        "id": "QdI5s-2A4CsF"
      },
      "source": [
        "* Sympy 1.11.1 does not perform the integrals \n",
        "$\\int e^{t} \\cos{\\left(t \\right)}\\, dt$,\n",
        "$\\int e^{- 2 t} \\cos{\\left(t \\right)}\\, dt$\n",
        "* But it's easy to force Sympy to do it on the side"
      ]
    },
    {
      "cell_type": "code",
      "execution_count": null,
      "metadata": {
        "colab": {
          "base_uri": "https://localhost:8080/",
          "height": 54
        },
        "id": "aSLlDXNc4CsG",
        "outputId": "01eddf5a-9751-424e-9ad7-8b977b2febcf"
      },
      "outputs": [
        {
          "output_type": "execute_result",
          "data": {
            "text/plain": [
              "exp(-2*t)*sin(t)/5 - 2*exp(-2*t)*cos(t)/5"
            ],
            "text/latex": "$\\displaystyle \\frac{e^{- 2 t} \\sin{\\left(t \\right)}}{5} - \\frac{2 e^{- 2 t} \\cos{\\left(t \\right)}}{5}$"
          },
          "metadata": {},
          "execution_count": 12
        }
      ],
      "source": [
        "Integral(exp(-2*t) * cos(t), t).doit()"
      ]
    },
    {
      "cell_type": "markdown",
      "metadata": {
        "id": "zmz7uirR4CsG"
      },
      "source": [
        "* Or turn on the `doit` flag to force Sympy to evaluate integrals"
      ]
    },
    {
      "cell_type": "code",
      "execution_count": null,
      "metadata": {
        "colab": {
          "base_uri": "https://localhost:8080/",
          "height": 76
        },
        "id": "m9bK1d7f4CsG",
        "outputId": "10bdba74-4db8-4c57-d2ff-5f9c43d454a3"
      },
      "outputs": [
        {
          "output_type": "display_data",
          "data": {
            "text/plain": [
              "Eq(x(t), -C1*exp(-t) + C2*exp(2*t)/2 - 2*sin(t) - cos(t))"
            ],
            "text/latex": "$\\displaystyle x{\\left(t \\right)} = - C_{1} e^{- t} + \\frac{C_{2} e^{2 t}}{2} - 2 \\sin{\\left(t \\right)} - \\cos{\\left(t \\right)}$"
          },
          "metadata": {}
        },
        {
          "output_type": "display_data",
          "data": {
            "text/plain": [
              "Eq(y(t), C1*exp(-t) + C2*exp(2*t) + sin(t) + 3*cos(t))"
            ],
            "text/latex": "$\\displaystyle y{\\left(t \\right)} = C_{1} e^{- t} + C_{2} e^{2 t} + \\sin{\\left(t \\right)} + 3 \\cos{\\left(t \\right)}$"
          },
          "metadata": {}
        }
      ],
      "source": [
        "sol = dsolve_system([de1, de2], doit=True)\n",
        "for eqs in sol:\n",
        "    for eq in eqs:\n",
        "        display(eq)"
      ]
    },
    {
      "cell_type": "markdown",
      "metadata": {
        "id": "qvZ_rgOD4NRh"
      },
      "source": [
        "# Exercise 7.1.10\n",
        "\n",
        "$\n",
        "x'(t) = 2x(t) + y(t) + \\cos t\n",
        "$\n",
        "\n",
        "$\n",
        "y'(t) = -x(t) + 2\\sin t\n",
        "$\n",
        "\n"
      ]
    },
    {
      "cell_type": "code",
      "execution_count": null,
      "metadata": {
        "colab": {
          "base_uri": "https://localhost:8080/",
          "height": 89
        },
        "id": "S6r9SRWr4NRh",
        "outputId": "ccd02dec-60f3-4d42-e8cf-d64f0369206b"
      },
      "outputs": [
        {
          "output_type": "display_data",
          "data": {
            "text/plain": [
              "Eq(x(t), C1*t*exp(t) + (C1 + C2)*exp(t) + cos(t)/2)"
            ],
            "text/latex": "$\\displaystyle x{\\left(t \\right)} = C_{1} t e^{t} + \\left(C_{1} + C_{2}\\right) e^{t} + \\frac{\\cos{\\left(t \\right)}}{2}$"
          },
          "metadata": {}
        },
        {
          "output_type": "display_data",
          "data": {
            "text/plain": [
              "Eq(y(t), -C1*t*exp(t) - C2*exp(t) - sin(t)/2 - 2*cos(t))"
            ],
            "text/latex": "$\\displaystyle y{\\left(t \\right)} = - C_{1} t e^{t} - C_{2} e^{t} - \\frac{\\sin{\\left(t \\right)}}{2} - 2 \\cos{\\left(t \\right)}$"
          },
          "metadata": {}
        }
      ],
      "source": [
        "x,y = symbols(\"x y\", cls=Function)\n",
        "t = symbols(\"t\", real=True)\n",
        "de1 = Eq(x(t).diff(t) , 2*x(t) + y(t) + cos(t))\n",
        "de2 = Eq(y(t).diff(t) , -x(t) + 2*sin(t))\n",
        "sol = dsolve_system([de1, de2], doit=True)\n",
        "for eqs in sol:\n",
        "    for eq in eqs:\n",
        "        display(eq)"
      ]
    },
    {
      "cell_type": "markdown",
      "metadata": {
        "id": "UXV85sGG4NRi"
      },
      "source": [
        "# Exercise 7.1.11\n",
        "\n",
        "$\n",
        "x_1'(t) = x_2(t)\n",
        "$\n",
        "\n",
        "$\n",
        "x_2'(t) = -x_1(t)\n",
        "$\n"
      ]
    },
    {
      "cell_type": "code",
      "execution_count": null,
      "metadata": {
        "colab": {
          "base_uri": "https://localhost:8080/",
          "height": 61
        },
        "id": "c2UUcyrY4NRj",
        "outputId": "ce61cb1b-2e1e-4d75-ddbd-1d78fabb3cc3"
      },
      "outputs": [
        {
          "output_type": "display_data",
          "data": {
            "text/plain": [
              "Eq(x1(t), C1*sin(t) + C2*cos(t))"
            ],
            "text/latex": "$\\displaystyle x_{1}{\\left(t \\right)} = C_{1} \\sin{\\left(t \\right)} + C_{2} \\cos{\\left(t \\right)}$"
          },
          "metadata": {}
        },
        {
          "output_type": "display_data",
          "data": {
            "text/plain": [
              "Eq(x2(t), C1*cos(t) - C2*sin(t))"
            ],
            "text/latex": "$\\displaystyle x_{2}{\\left(t \\right)} = C_{1} \\cos{\\left(t \\right)} - C_{2} \\sin{\\left(t \\right)}$"
          },
          "metadata": {}
        }
      ],
      "source": [
        "x1,x2 = symbols(\"x1 x2\", cls=Function)\n",
        "t = symbols(\"t\", real=True)\n",
        "de1 = Eq(x1(t).diff(t) , x2(t))\n",
        "de2 = Eq(x2(t).diff(t) , -x1(t))\n",
        "sol = dsolve_system([de1, de2], doit=True)\n",
        "for eqs in sol:\n",
        "    for eq in eqs:\n",
        "        display(eq)"
      ]
    },
    {
      "cell_type": "markdown",
      "metadata": {
        "id": "Eo9qMHAq4NRk"
      },
      "source": [
        "# Exercise 7.1.12\n",
        "\n",
        "$\n",
        "x'(t) = x(t) - y(t) + z(t)\n",
        "$\n",
        "\n",
        "$\n",
        "y'(t) = x(t) + y(t) - z(t)\n",
        "$\n",
        "\n",
        "$\n",
        "z'(t) = 2x(t) - y(t)\n",
        "$\n",
        "\n"
      ]
    },
    {
      "cell_type": "code",
      "execution_count": null,
      "metadata": {
        "colab": {
          "base_uri": "https://localhost:8080/",
          "height": 112
        },
        "id": "EgAkgU7d4NRl",
        "outputId": "0dc8675a-3948-48c8-9da1-66a490ad85a1"
      },
      "outputs": [
        {
          "output_type": "display_data",
          "data": {
            "text/plain": [
              "Eq(x(t), -C1*exp(-t)/5 + C2*exp(t) + C3*exp(2*t))"
            ],
            "text/latex": "$\\displaystyle x{\\left(t \\right)} = - \\frac{C_{1} e^{- t}}{5} + C_{2} e^{t} + C_{3} e^{2 t}$"
          },
          "metadata": {}
        },
        {
          "output_type": "display_data",
          "data": {
            "text/plain": [
              "Eq(y(t), 3*C1*exp(-t)/5 + C2*exp(t))"
            ],
            "text/latex": "$\\displaystyle y{\\left(t \\right)} = \\frac{3 C_{1} e^{- t}}{5} + C_{2} e^{t}$"
          },
          "metadata": {}
        },
        {
          "output_type": "display_data",
          "data": {
            "text/plain": [
              "Eq(z(t), C1*exp(-t) + C2*exp(t) + C3*exp(2*t))"
            ],
            "text/latex": "$\\displaystyle z{\\left(t \\right)} = C_{1} e^{- t} + C_{2} e^{t} + C_{3} e^{2 t}$"
          },
          "metadata": {}
        }
      ],
      "source": [
        "x,y,z = symbols(\"x y z\", cls=Function)\n",
        "t = symbols(\"t\", real=True)\n",
        "\n",
        "de1 = Eq(x(t).diff(t) , x(t) - y(t) + z(t))\n",
        "de2 = Eq(y(t).diff(t) , x(t) + y(t) - z(t))\n",
        "de3 = Eq(z(t).diff(t) , 2*x(t) - y(t))\n",
        "\n",
        "sol = dsolve_system([de1, de2, de3], doit=True)\n",
        "for eqs in sol:\n",
        "    for eq in eqs:\n",
        "        display(eq)"
      ]
    },
    {
      "cell_type": "markdown",
      "metadata": {
        "id": "YXi-q8jgYpYz"
      },
      "source": [
        "# Exercise 7.1.13\n",
        "\n",
        "$\n",
        "x_1'(t) = -x_1(t) + x_2(t) + x_3(t)\n",
        "$\n",
        "\n",
        "$\n",
        "x_2'(t) = x_1(t) - x_2(t) + x_3(t)\n",
        "$\n",
        "\n",
        "$\n",
        "x_3'(t) = x_1(t) + x_2(t) - x_3(t)\n",
        "$"
      ]
    },
    {
      "cell_type": "code",
      "execution_count": null,
      "metadata": {
        "colab": {
          "base_uri": "https://localhost:8080/",
          "height": 82
        },
        "id": "7ueMCJOXYpYz",
        "outputId": "c9cffd13-1e3a-4e6a-db56-0c690e35d897"
      },
      "outputs": [
        {
          "output_type": "display_data",
          "data": {
            "text/plain": [
              "Eq(x1(t), C3*exp(t) - (C1 + C2)*exp(-2*t))"
            ],
            "text/latex": "$\\displaystyle x_{1}{\\left(t \\right)} = C_{3} e^{t} - \\left(C_{1} + C_{2}\\right) e^{- 2 t}$"
          },
          "metadata": {}
        },
        {
          "output_type": "display_data",
          "data": {
            "text/plain": [
              "Eq(x2(t), C1*exp(-2*t) + C3*exp(t))"
            ],
            "text/latex": "$\\displaystyle x_{2}{\\left(t \\right)} = C_{1} e^{- 2 t} + C_{3} e^{t}$"
          },
          "metadata": {}
        },
        {
          "output_type": "display_data",
          "data": {
            "text/plain": [
              "Eq(x3(t), C2*exp(-2*t) + C3*exp(t))"
            ],
            "text/latex": "$\\displaystyle x_{3}{\\left(t \\right)} = C_{2} e^{- 2 t} + C_{3} e^{t}$"
          },
          "metadata": {}
        }
      ],
      "source": [
        "x1,x2,x3 = symbols(\"x1 x2 x3\", cls=Function)\n",
        "t = symbols(\"t\", real=True)\n",
        "\n",
        "de1 = Eq(x1(t).diff(t) , -x1(t) + x2(t) + x3(t))\n",
        "de2 = Eq(x2(t).diff(t) , x1(t) - x2(t) + x3(t))\n",
        "de3 = Eq(x3(t).diff(t) , x1(t) + x2(t) - x3(t))\n",
        "\n",
        "sol = dsolve_system([de1, de2, de3], doit=True)\n",
        "for eqs in sol:\n",
        "    for eq in eqs:\n",
        "        display(eq)"
      ]
    },
    {
      "cell_type": "markdown",
      "metadata": {
        "id": "tTHBhhGdYpY0"
      },
      "source": [
        "# Exercise 7.1.14\n",
        "\n",
        "$\n",
        "x_1'(t) = x_1(t) - 2*x_2(t) - x_3(t)\n",
        "$\n",
        "\n",
        "$\n",
        "x_2'(t) = -x_1(t) + x_2(t) + x_3(t)\n",
        "$\n",
        "\n",
        "$\n",
        "x_3'(t) = x_1(t) - x_3(t)\n",
        "$"
      ]
    },
    {
      "cell_type": "code",
      "execution_count": null,
      "metadata": {
        "colab": {
          "base_uri": "https://localhost:8080/",
          "height": 97
        },
        "id": "3FE8sqHlYpY0",
        "outputId": "22a5867b-2741-48a0-9fe1-4d83db25d7ec"
      },
      "outputs": [
        {
          "output_type": "display_data",
          "data": {
            "text/plain": [
              "Eq(x1(t), C1 + 3*C2*exp(2*t))"
            ],
            "text/latex": "$\\displaystyle x_{1}{\\left(t \\right)} = C_{1} + 3 C_{2} e^{2 t}$"
          },
          "metadata": {}
        },
        {
          "output_type": "display_data",
          "data": {
            "text/plain": [
              "Eq(x2(t), -2*C2*exp(2*t) - C3*exp(-t)/2)"
            ],
            "text/latex": "$\\displaystyle x_{2}{\\left(t \\right)} = - 2 C_{2} e^{2 t} - \\frac{C_{3} e^{- t}}{2}$"
          },
          "metadata": {}
        },
        {
          "output_type": "display_data",
          "data": {
            "text/plain": [
              "Eq(x3(t), C1 + C2*exp(2*t) + C3*exp(-t))"
            ],
            "text/latex": "$\\displaystyle x_{3}{\\left(t \\right)} = C_{1} + C_{2} e^{2 t} + C_{3} e^{- t}$"
          },
          "metadata": {}
        }
      ],
      "source": [
        "x1,x2,x3 = symbols(\"x1 x2 x3\", cls=Function)\n",
        "t = symbols(\"t\", real=True)\n",
        "\n",
        "de1 = Eq(x1(t).diff(t) , x1(t) - 2*x2(t) - x3(t))\n",
        "de2 = Eq(x2(t).diff(t) , -x1(t) + x2(t) + x3(t))\n",
        "de3 = Eq(x3(t).diff(t) , x1(t) - x3(t))\n",
        "\n",
        "sol = dsolve_system([de1, de2, de3], doit=True)\n",
        "for eqs in sol:\n",
        "    for eq in eqs:\n",
        "        display(eq)"
      ]
    },
    {
      "cell_type": "markdown",
      "metadata": {
        "id": "wktno-scYpY1"
      },
      "source": [
        "# Exercise 7.1.15\n",
        "\n",
        "$\n",
        "x_1'(t) = x_1(t) - x_2(t) + x_3(t)\n",
        "$\n",
        "\n",
        "$\n",
        "x_2'(t) = x_1(t) + x_2(t) + x_3(t)\n",
        "$\n",
        "\n",
        "$\n",
        "x_3'(t) = 4x_1(t) - x_2(t) + 4x_3(t)\n",
        "$"
      ]
    },
    {
      "cell_type": "code",
      "execution_count": null,
      "metadata": {
        "colab": {
          "base_uri": "https://localhost:8080/",
          "height": 128
        },
        "id": "7oFeUq9EYpY1",
        "outputId": "e7a30428-615c-4358-ab1e-aefba3372084"
      },
      "outputs": [
        {
          "output_type": "display_data",
          "data": {
            "text/plain": [
              "Eq(x1(t), -C1 - C2*(1 - 3*sqrt(2))*exp(t*(sqrt(2) + 3))/17 - C3*(1 + 3*sqrt(2))*exp(t*(3 - sqrt(2)))/17)"
            ],
            "text/latex": "$\\displaystyle x_{1}{\\left(t \\right)} = - C_{1} - \\frac{C_{2} \\cdot \\left(1 - 3 \\sqrt{2}\\right) e^{t \\left(\\sqrt{2} + 3\\right)}}{17} - \\frac{C_{3} \\cdot \\left(1 + 3 \\sqrt{2}\\right) e^{t \\left(3 - \\sqrt{2}\\right)}}{17}$"
          },
          "metadata": {}
        },
        {
          "output_type": "display_data",
          "data": {
            "text/plain": [
              "Eq(x2(t), C2*(13 - 5*sqrt(2))*exp(t*(sqrt(2) + 3))/17 + C3*(5*sqrt(2) + 13)*exp(t*(3 - sqrt(2)))/17)"
            ],
            "text/latex": "$\\displaystyle x_{2}{\\left(t \\right)} = \\frac{C_{2} \\cdot \\left(13 - 5 \\sqrt{2}\\right) e^{t \\left(\\sqrt{2} + 3\\right)}}{17} + \\frac{C_{3} \\cdot \\left(5 \\sqrt{2} + 13\\right) e^{t \\left(3 - \\sqrt{2}\\right)}}{17}$"
          },
          "metadata": {}
        },
        {
          "output_type": "display_data",
          "data": {
            "text/plain": [
              "Eq(x3(t), C1 + C2*exp(t*(sqrt(2) + 3)) + C3*exp(t*(3 - sqrt(2))))"
            ],
            "text/latex": "$\\displaystyle x_{3}{\\left(t \\right)} = C_{1} + C_{2} e^{t \\left(\\sqrt{2} + 3\\right)} + C_{3} e^{t \\left(3 - \\sqrt{2}\\right)}$"
          },
          "metadata": {}
        }
      ],
      "source": [
        "x1,x2,x3 = symbols(\"x1 x2 x3\", cls=Function)\n",
        "t = symbols(\"t\", real=True)\n",
        "\n",
        "de1 = Eq(x1(t).diff(t) , x1(t) - x2(t) + x3(t))\n",
        "de2 = Eq(x2(t).diff(t) , x1(t) + x2(t) + x3(t))\n",
        "de3 = Eq(x3(t).diff(t) , 4*x1(t) - x2(t) + 4*x3(t))\n",
        "\n",
        "sol = dsolve_system([de1, de2, de3], doit=True)\n",
        "for eqs in sol:\n",
        "    for eq in eqs:\n",
        "        display(eq)"
      ]
    },
    {
      "cell_type": "markdown",
      "metadata": {
        "id": "WAjgfxQYYpY1"
      },
      "source": [
        "# Exercise 1.1.16\n",
        "\n",
        "$\n",
        "x'(t) = 2x(t) + y(t)\n",
        "$\n",
        "\n",
        "$\n",
        "y'(t) = x(t) + 3y(t) - z(t)\n",
        "$\n",
        "\n",
        "$\n",
        "z'(t) = x(t) + 2y(t)\n",
        "$"
      ]
    },
    {
      "cell_type": "code",
      "execution_count": null,
      "metadata": {
        "colab": {
          "base_uri": "https://localhost:8080/",
          "height": 136
        },
        "id": "cS6jEg-_YpY1",
        "outputId": "944ef98b-5f37-426f-8b2f-9a9ba3f33cbd"
      },
      "outputs": [
        {
          "output_type": "display_data",
          "data": {
            "text/plain": [
              "Eq(x(t), -C1*t*exp(t)/2 + C3*exp(3*t) - (3*C1/2 + C2/2)*exp(t))"
            ],
            "text/latex": "$\\displaystyle x{\\left(t \\right)} = - \\frac{C_{1} t e^{t}}{2} + C_{3} e^{3 t} - \\left(\\frac{3 C_{1}}{2} + \\frac{C_{2}}{2}\\right) e^{t}$"
          },
          "metadata": {}
        },
        {
          "output_type": "display_data",
          "data": {
            "text/plain": [
              "Eq(y(t), C1*t*exp(t)/2 + C3*exp(3*t) + (C1 + C2/2)*exp(t))"
            ],
            "text/latex": "$\\displaystyle y{\\left(t \\right)} = \\frac{C_{1} t e^{t}}{2} + C_{3} e^{3 t} + \\left(C_{1} + \\frac{C_{2}}{2}\\right) e^{t}$"
          },
          "metadata": {}
        },
        {
          "output_type": "display_data",
          "data": {
            "text/plain": [
              "Eq(z(t), C1*t*exp(t)/2 + C2*exp(t)/2 + C3*exp(3*t))"
            ],
            "text/latex": "$\\displaystyle z{\\left(t \\right)} = \\frac{C_{1} t e^{t}}{2} + \\frac{C_{2} e^{t}}{2} + C_{3} e^{3 t}$"
          },
          "metadata": {}
        }
      ],
      "source": [
        "x,y,z = symbols(\"x y z\", cls=Function)\n",
        "t = symbols(\"t\", real=True)\n",
        "\n",
        "de1 = Eq(x(t).diff(t) , 2*x(t) + y(t))\n",
        "de2 = Eq(y(t).diff(t) , x(t) + 3*y(t) - z(t))\n",
        "de3 = Eq(z(t).diff(t) , x(t) + 2*y(t))\n",
        "\n",
        "sol = dsolve_system([de1, de2, de3], doit=True)\n",
        "for eqs in sol:\n",
        "    for eq in eqs:\n",
        "        display(eq)"
      ]
    },
    {
      "cell_type": "markdown",
      "metadata": {
        "id": "57nn9VY-YpY2"
      },
      "source": [
        "# Exercise 1.1.17\n",
        "\n",
        "$\n",
        "x_1'(t) = x_1(t) - x_2(t) - x_3(t)\n",
        "$\n",
        "\n",
        "$\n",
        "x_2'(t) = x_1(t) + x_2(t)\n",
        "$\n",
        "\n",
        "$\n",
        "x'_3(t) = 3x_1(t) + x_3(t)\n",
        "$"
      ]
    },
    {
      "cell_type": "code",
      "execution_count": null,
      "metadata": {
        "colab": {
          "base_uri": "https://localhost:8080/",
          "height": 112
        },
        "id": "hn_WT_EaYpY2",
        "outputId": "b1b69eae-1fa9-48bf-fc8e-d8c9f9eeda1d"
      },
      "outputs": [
        {
          "output_type": "display_data",
          "data": {
            "text/plain": [
              "Eq(x1(t), -2*C1*exp(t)*sin(2*t)/3 - 2*C2*exp(t)*cos(2*t)/3)"
            ],
            "text/latex": "$\\displaystyle x_{1}{\\left(t \\right)} = - \\frac{2 C_{1} e^{t} \\sin{\\left(2 t \\right)}}{3} - \\frac{2 C_{2} e^{t} \\cos{\\left(2 t \\right)}}{3}$"
          },
          "metadata": {}
        },
        {
          "output_type": "display_data",
          "data": {
            "text/plain": [
              "Eq(x2(t), C1*exp(t)*cos(2*t)/3 - C2*exp(t)*sin(2*t)/3 - C3*exp(t))"
            ],
            "text/latex": "$\\displaystyle x_{2}{\\left(t \\right)} = \\frac{C_{1} e^{t} \\cos{\\left(2 t \\right)}}{3} - \\frac{C_{2} e^{t} \\sin{\\left(2 t \\right)}}{3} - C_{3} e^{t}$"
          },
          "metadata": {}
        },
        {
          "output_type": "display_data",
          "data": {
            "text/plain": [
              "Eq(x3(t), C1*exp(t)*cos(2*t) - C2*exp(t)*sin(2*t) + C3*exp(t))"
            ],
            "text/latex": "$\\displaystyle x_{3}{\\left(t \\right)} = C_{1} e^{t} \\cos{\\left(2 t \\right)} - C_{2} e^{t} \\sin{\\left(2 t \\right)} + C_{3} e^{t}$"
          },
          "metadata": {}
        }
      ],
      "source": [
        "x1,x2,x3 = symbols(\"x1 x2 x3\", cls=Function)\n",
        "t = symbols(\"t\", real=True)\n",
        "\n",
        "de1 = Eq(x1(t).diff(t) , x1(t) - x2(t) - x3(t))\n",
        "de2 = Eq(x2(t).diff(t) , x1(t) + x2(t))\n",
        "de3 = Eq(x3(t).diff(t) , 3*x1(t) + x3(t))\n",
        "\n",
        "sol = dsolve_system([de1, de2, de3], doit=True)\n",
        "for eqs in sol:\n",
        "    for eq in eqs:\n",
        "        display(eq)"
      ]
    },
    {
      "cell_type": "markdown",
      "metadata": {
        "id": "dQC2xMQTR2sj"
      },
      "source": [
        "# Exercise 7.1.18\n",
        "\n",
        "$\n",
        "x'(t) = x(t) - 2y(t) - z(t)\n",
        "$\n",
        "\n",
        "$\n",
        "y'(t) = y(t) - x(t) + z(t)\n",
        "$\n",
        "\n",
        "$\n",
        "z'(t) = x(t) - z(t)\n",
        "$"
      ]
    },
    {
      "cell_type": "markdown",
      "metadata": {
        "id": "Iuu6UpcIR2sk"
      },
      "source": [
        "* First lets validate this identity"
      ]
    },
    {
      "cell_type": "code",
      "execution_count": null,
      "metadata": {
        "colab": {
          "base_uri": "https://localhost:8080/",
          "height": 97
        },
        "id": "CTrl5otRR2sk",
        "outputId": "77415185-90bb-4818-f2ab-e34104bba299"
      },
      "outputs": [
        {
          "output_type": "display_data",
          "data": {
            "text/plain": [
              "Eq(x(t), C1 + 3*C2*exp(2*t))"
            ],
            "text/latex": "$\\displaystyle x{\\left(t \\right)} = C_{1} + 3 C_{2} e^{2 t}$"
          },
          "metadata": {}
        },
        {
          "output_type": "display_data",
          "data": {
            "text/plain": [
              "Eq(y(t), -2*C2*exp(2*t) - C3*exp(-t)/2)"
            ],
            "text/latex": "$\\displaystyle y{\\left(t \\right)} = - 2 C_{2} e^{2 t} - \\frac{C_{3} e^{- t}}{2}$"
          },
          "metadata": {}
        },
        {
          "output_type": "display_data",
          "data": {
            "text/plain": [
              "Eq(z(t), C1 + C2*exp(2*t) + C3*exp(-t))"
            ],
            "text/latex": "$\\displaystyle z{\\left(t \\right)} = C_{1} + C_{2} e^{2 t} + C_{3} e^{- t}$"
          },
          "metadata": {}
        }
      ],
      "source": [
        "x,y,z = symbols(\"x y z\", cls=Function)\n",
        "t = symbols(\"t\", real=True)\n",
        "\n",
        "de1 = Eq(x(t).diff(t) , x(t) - 2*y(t) - z(t))\n",
        "de2 = Eq(y(t).diff(t) , -x(t) + y(t) + z(t))\n",
        "de3 = Eq(z(t).diff(t) , x(t) - z(t))\n",
        "\n",
        "sol = dsolve_system([de1, de2, de3], doit=True)\n",
        "for eqs in sol:\n",
        "    for eq in eqs:\n",
        "        display(eq)"
      ]
    },
    {
      "cell_type": "markdown",
      "metadata": {
        "id": "JXxM-RE-4CsK"
      },
      "source": [
        "### [Link to step-by-step-solution](https://mathdf.com/dif/#expr=%5B%22x'%3Dx-2y-z%22%2C%22y'%3Dy-x%2Bz%22%2C%22z'%3Dx-z%22%5D&func=y&sarg=t)"
      ]
    },
    {
      "cell_type": "markdown",
      "metadata": {
        "id": "eXPrGQVE4CsK"
      },
      "source": [
        "# Exercise 7.1.19\n",
        "\n",
        "$\n",
        "x'(t) = 2x(t) - y(t) + z(t)\n",
        "$\n",
        "\n",
        "$\n",
        "y'(t) = x(t) + 2y(t) - z(t)\n",
        "$\n",
        "\n",
        "$\n",
        "z'(t) = x(t) - y(t) + 2z(t)\n",
        "$"
      ]
    },
    {
      "cell_type": "code",
      "execution_count": null,
      "metadata": {
        "colab": {
          "base_uri": "https://localhost:8080/",
          "height": 82
        },
        "outputId": "8a922ba2-4cbb-4dae-cd7a-5c53ce25f0ab",
        "id": "9FIVvC3m4CsK"
      },
      "outputs": [
        {
          "output_type": "display_data",
          "data": {
            "text/plain": [
              "Eq(x(t), C1*exp(2*t) + C2*exp(3*t))"
            ],
            "text/latex": "$\\displaystyle x{\\left(t \\right)} = C_{1} e^{2 t} + C_{2} e^{3 t}$"
          },
          "metadata": {}
        },
        {
          "output_type": "display_data",
          "data": {
            "text/plain": [
              "Eq(y(t), C1*exp(2*t) + C3*exp(t))"
            ],
            "text/latex": "$\\displaystyle y{\\left(t \\right)} = C_{1} e^{2 t} + C_{3} e^{t}$"
          },
          "metadata": {}
        },
        {
          "output_type": "display_data",
          "data": {
            "text/plain": [
              "Eq(z(t), C1*exp(2*t) + C2*exp(3*t) + C3*exp(t))"
            ],
            "text/latex": "$\\displaystyle z{\\left(t \\right)} = C_{1} e^{2 t} + C_{2} e^{3 t} + C_{3} e^{t}$"
          },
          "metadata": {}
        }
      ],
      "source": [
        "x,y,z = symbols(\"x y z\", cls=Function)\n",
        "t = symbols(\"t\", real=True)\n",
        "\n",
        "de1 = Eq(x(t).diff(t) , 2*x(t) - y(t) + z(t))\n",
        "de2 = Eq(y(t).diff(t) , x(t) + 2*y(t) - z(t))\n",
        "de3 = Eq(z(t).diff(t) , x(t) - y(t) + 2*z(t))\n",
        "\n",
        "sol = dsolve_system([de1, de2, de3], doit=True)\n",
        "for eqs in sol:\n",
        "    for eq in eqs:\n",
        "        display(eq)"
      ]
    },
    {
      "cell_type": "markdown",
      "metadata": {
        "id": "iaJvgqXF4CsL"
      },
      "source": [
        "### [Link to step-by-step-solution](https://mathdf.com/dif/#expr=%5B%22x'%3D2x-y%2Bz%22%2C%22y'%3Dx%2B2y-z%22%2C%22z'%3Dx-y%2B2z%22%5D&func=y&sarg=t)"
      ]
    },
    {
      "cell_type": "markdown",
      "metadata": {
        "id": "QZyQu2L_R2sq"
      },
      "source": [
        "# Exercise 7.1.20\n",
        "\n",
        "$x'(t) = x(t) + 2y(t) + 16te^t$\n",
        "\n",
        "$\n",
        "y'(t) = 2x(t) - 2y(t)\n",
        "$\n"
      ]
    },
    {
      "cell_type": "code",
      "execution_count": null,
      "metadata": {
        "colab": {
          "base_uri": "https://localhost:8080/",
          "height": 76
        },
        "id": "WBXf0URPYpY2",
        "outputId": "8fffc10e-896b-4d83-e6f8-21e016ae3579",
        "tags": []
      },
      "outputs": [
        {
          "output_type": "display_data",
          "data": {
            "text/plain": [
              "Eq(x(t), -C1*exp(-3*t)/2 + 2*C2*exp(2*t) - 12*t*exp(t) - 13*exp(t))"
            ],
            "text/latex": "$\\displaystyle x{\\left(t \\right)} = - \\frac{C_{1} e^{- 3 t}}{2} + 2 C_{2} e^{2 t} - 12 t e^{t} - 13 e^{t}$"
          },
          "metadata": {}
        },
        {
          "output_type": "display_data",
          "data": {
            "text/plain": [
              "Eq(y(t), C1*exp(-3*t) + C2*exp(2*t) - 8*t*exp(t) - 6*exp(t))"
            ],
            "text/latex": "$\\displaystyle y{\\left(t \\right)} = C_{1} e^{- 3 t} + C_{2} e^{2 t} - 8 t e^{t} - 6 e^{t}$"
          },
          "metadata": {}
        }
      ],
      "source": [
        "x,y = symbols(\"x y\", cls=Function)\n",
        "t = symbols(\"t\", real=True)\n",
        "de1 = Eq(x(t).diff(t) , x(t) + 2*y(t) + 16*t*exp(t))\n",
        "de2 = Eq(y(t).diff(t) , 2*x(t) - 2*y(t))\n",
        "sol = dsolve_system([de1, de2], doit=True)\n",
        "for eqs in sol:\n",
        "    for eq in eqs:\n",
        "        display(eq)"
      ]
    },
    {
      "cell_type": "markdown",
      "metadata": {
        "id": "ivUm1HldR2ss"
      },
      "source": [
        "# Exercise 7.1.21\n",
        "\n",
        "$\n",
        "x_1'(t) = x_1(t) + x_3(t)\n",
        "$\n",
        "\n",
        "$\n",
        "x_2'(t) = x_1(t) + x_2(t)\n",
        "$\n",
        "\n",
        "$\n",
        "x_3'(t) = x_3(t)\n",
        "$"
      ]
    },
    {
      "cell_type": "code",
      "execution_count": null,
      "metadata": {
        "colab": {
          "base_uri": "https://localhost:8080/",
          "height": 97
        },
        "id": "gb66bJ92R2st",
        "outputId": "3abfedc7-18e3-4adb-d1e4-9b85332dc963",
        "tags": []
      },
      "outputs": [
        {
          "output_type": "display_data",
          "data": {
            "text/plain": [
              "Eq(x1(t), C1*exp(t) + C2*t*exp(t))"
            ],
            "text/latex": "$\\displaystyle x_{1}{\\left(t \\right)} = C_{1} e^{t} + C_{2} t e^{t}$"
          },
          "metadata": {}
        },
        {
          "output_type": "display_data",
          "data": {
            "text/plain": [
              "Eq(x2(t), C1*t*exp(t) + C2*t**2*exp(t)/2 + C3*exp(t))"
            ],
            "text/latex": "$\\displaystyle x_{2}{\\left(t \\right)} = C_{1} t e^{t} + \\frac{C_{2} t^{2} e^{t}}{2} + C_{3} e^{t}$"
          },
          "metadata": {}
        },
        {
          "output_type": "display_data",
          "data": {
            "text/plain": [
              "Eq(x3(t), C2*exp(t))"
            ],
            "text/latex": "$\\displaystyle x_{3}{\\left(t \\right)} = C_{2} e^{t}$"
          },
          "metadata": {}
        }
      ],
      "source": [
        "x1,x2,x3 = symbols(\"x1 x2 x3\", cls=Function)\n",
        "t = symbols(\"t\", real=True)\n",
        "\n",
        "de1 = Eq(x1(t).diff(t) , x1(t) + x3(t))\n",
        "de2 = Eq(x2(t).diff(t) , x1(t) + x2(t))\n",
        "de3 = Eq(x3(t).diff(t) , x3(t))\n",
        "\n",
        "sol = dsolve_system([de1, de2, de3], doit=True)\n",
        "for eqs in sol:\n",
        "    for eq in eqs:\n",
        "        display(eq)"
      ]
    },
    {
      "cell_type": "markdown",
      "metadata": {
        "tags": [],
        "id": "qOVrs7VR4CsL"
      },
      "source": [
        "# Exercise 7.1.22\n",
        "\n",
        "$\n",
        "x_1'(t) = 2x_1(t) + 2x_2(t) + 2x_3(t)\n",
        "$\n",
        "\n",
        "$\n",
        "x_2'(t) = 2x_1(t) + 2x_2(t) +2x_3(t)\n",
        "$\n",
        "\n",
        "$\n",
        "x_3'(t) = 2x_1(t) + 2x_2(t) +2x_3(t)\n",
        "$"
      ]
    },
    {
      "cell_type": "code",
      "execution_count": null,
      "metadata": {
        "colab": {
          "base_uri": "https://localhost:8080/",
          "height": 82
        },
        "outputId": "ffed25a1-010b-47ad-d364-ceca2534278b",
        "tags": [],
        "id": "v8HUGtyX4CsM"
      },
      "outputs": [
        {
          "output_type": "display_data",
          "data": {
            "text/plain": [
              "Eq(x1(t), -C1 - C2 + C3*exp(6*t))"
            ],
            "text/latex": "$\\displaystyle x_{1}{\\left(t \\right)} = - C_{1} - C_{2} + C_{3} e^{6 t}$"
          },
          "metadata": {}
        },
        {
          "output_type": "display_data",
          "data": {
            "text/plain": [
              "Eq(x2(t), C1 + C3*exp(6*t))"
            ],
            "text/latex": "$\\displaystyle x_{2}{\\left(t \\right)} = C_{1} + C_{3} e^{6 t}$"
          },
          "metadata": {}
        },
        {
          "output_type": "display_data",
          "data": {
            "text/plain": [
              "Eq(x3(t), C2 + C3*exp(6*t))"
            ],
            "text/latex": "$\\displaystyle x_{3}{\\left(t \\right)} = C_{2} + C_{3} e^{6 t}$"
          },
          "metadata": {}
        }
      ],
      "source": [
        "x1,x2,x3 = symbols(\"x1 x2 x3\", cls=Function)\n",
        "t = symbols(\"t\", real=True)\n",
        "\n",
        "de1 = Eq(x1(t).diff(t) , 2*x1(t) + 2*x2(t) + 2*x3(t))\n",
        "de2 = Eq(x2(t).diff(t) , 2*x1(t) + 2*x2(t) + 2*x3(t))\n",
        "de3 = Eq(x3(t).diff(t) , 2*x1(t) + 2*x2(t) + 2*x3(t))\n",
        "\n",
        "sol = dsolve_system([de1, de2, de3], doit=True)\n",
        "for eqs in sol:\n",
        "    for eq in eqs:\n",
        "        display(eq)"
      ]
    },
    {
      "cell_type": "markdown",
      "source": [
        "* Using the Mathde web site, it is possible to obtain full\n",
        "  step-by-step solutions to these type of problems!\n",
        "* Here is one example:"
      ],
      "metadata": {
        "id": "TIYEDJAwVzqp"
      }
    },
    {
      "cell_type": "markdown",
      "metadata": {
        "id": "wFoYIDegR2st"
      },
      "source": [
        "### [Link to step-by-step-solution](https://samyzaf.com/technion/ode/sol/chap6.9.3.pdf)"
      ]
    },
    {
      "cell_type": "markdown",
      "metadata": {
        "id": "aRDTleJrR2st",
        "tags": []
      },
      "source": [
        "# Exercise 7.2.1\n",
        "\n",
        "$\n",
        "x'(t) = 2x(t) + y(t)\n",
        "$\n",
        "\n",
        "$\n",
        "y'(t) = x(t) + 2y(t)\n",
        "$\n",
        "\n",
        "$\n",
        "x(0)=1\n",
        "$\n",
        "\n",
        "$\n",
        "y(0)=3\n",
        "$\n",
        "\n"
      ]
    },
    {
      "cell_type": "code",
      "execution_count": null,
      "metadata": {
        "colab": {
          "base_uri": "https://localhost:8080/",
          "height": 61
        },
        "id": "vsFJ5jUVR2su",
        "outputId": "adf55d67-a470-4482-afaf-e3d793dd01ef",
        "tags": []
      },
      "outputs": [
        {
          "output_type": "display_data",
          "data": {
            "text/plain": [
              "Eq(x(t), 2*exp(3*t) - exp(t))"
            ],
            "text/latex": "$\\displaystyle x{\\left(t \\right)} = 2 e^{3 t} - e^{t}$"
          },
          "metadata": {}
        },
        {
          "output_type": "display_data",
          "data": {
            "text/plain": [
              "Eq(y(t), 2*exp(3*t) + exp(t))"
            ],
            "text/latex": "$\\displaystyle y{\\left(t \\right)} = 2 e^{3 t} + e^{t}$"
          },
          "metadata": {}
        }
      ],
      "source": [
        "x,y = symbols(\"x y\", cls=Function)\n",
        "t = symbols(\"t\", real=True)\n",
        "de1 = Eq(x(t).diff(t) , 2*x(t) + y(t))\n",
        "de2 = Eq(y(t).diff(t) , x(t) + 2*y(t))\n",
        "sol = dsolve_system([de1, de2], doit=True, ics={x(0): 1, y(0): 3})\n",
        "for eqs in sol:\n",
        "    for eq in eqs:\n",
        "        display(eq)"
      ]
    },
    {
      "cell_type": "markdown",
      "metadata": {
        "tags": [],
        "id": "Tt-wGoqG4CsM"
      },
      "source": [
        "# Exercise 7.2.2\n",
        "\n",
        "$\n",
        "x'(t) = y(t) + t\n",
        "$\n",
        "\n",
        "$\n",
        "y'(t) = x(t) + e^t\n",
        "$\n",
        "\n",
        "$\n",
        "x(0)=1\n",
        "$\n",
        "\n",
        "$\n",
        "y(0)=0\n",
        "$\n",
        "\n"
      ]
    },
    {
      "cell_type": "code",
      "execution_count": null,
      "metadata": {
        "colab": {
          "base_uri": "https://localhost:8080/",
          "height": 90
        },
        "outputId": "e7e108ee-4326-413e-f086-b2f66e6a7212",
        "tags": [],
        "id": "xOqPQP7f4CsM"
      },
      "outputs": [
        {
          "output_type": "display_data",
          "data": {
            "text/plain": [
              "Eq(x(t), -t + 3*exp(t)/2 - 1 + exp(-t)/2)"
            ],
            "text/latex": "$\\displaystyle x{\\left(t \\right)} = - t + \\frac{3 e^{t}}{2} - 1 + \\frac{e^{- t}}{2}$"
          },
          "metadata": {}
        },
        {
          "output_type": "display_data",
          "data": {
            "text/plain": [
              "Eq(y(t), -t + 3*exp(t)/2 - 1 - exp(-t)/2)"
            ],
            "text/latex": "$\\displaystyle y{\\left(t \\right)} = - t + \\frac{3 e^{t}}{2} - 1 - \\frac{e^{- t}}{2}$"
          },
          "metadata": {}
        }
      ],
      "source": [
        "x,y = symbols(\"x y\", cls=Function)\n",
        "t = symbols(\"t\", real=True)\n",
        "de1 = Eq(x(t).diff(t) , y(t) + t)\n",
        "de2 = Eq(y(t).diff(t) , x(t) + t)\n",
        "sol = dsolve_system([de1, de2], doit=True, ics={x(0): 1, y(0): 0})\n",
        "for eqs in sol:\n",
        "    for eq in eqs:\n",
        "        display(eq)"
      ]
    },
    {
      "cell_type": "markdown",
      "metadata": {
        "id": "pqBnGWXAYpY2",
        "tags": []
      },
      "source": [
        "# Exercise 7.2.3\n",
        "\n",
        "$\n",
        "x_1'(t) = 3x_1(t) - x_2(t) \\\\\n",
        "x_2'(t) = 4x_1(t) - x_2(t) \\\\\n",
        "x_1(0)=1 \\\\\n",
        "x_2(0)=1\n",
        "$\n"
      ]
    },
    {
      "cell_type": "code",
      "execution_count": null,
      "metadata": {
        "colab": {
          "base_uri": "https://localhost:8080/",
          "height": 61
        },
        "id": "xjBm47oXYpY3",
        "outputId": "e2a773d8-78ba-4e9f-e0b5-68bc8547300f",
        "tags": []
      },
      "outputs": [
        {
          "output_type": "display_data",
          "data": {
            "text/plain": [
              "Eq(x1(t), t*exp(t) + exp(t))"
            ],
            "text/latex": "$\\displaystyle x_{1}{\\left(t \\right)} = t e^{t} + e^{t}$"
          },
          "metadata": {}
        },
        {
          "output_type": "display_data",
          "data": {
            "text/plain": [
              "Eq(x2(t), 2*t*exp(t) + exp(t))"
            ],
            "text/latex": "$\\displaystyle x_{2}{\\left(t \\right)} = 2 t e^{t} + e^{t}$"
          },
          "metadata": {}
        }
      ],
      "source": [
        "x1,x2 = symbols(\"x1 x2\", cls=Function)\n",
        "t = symbols(\"t\", real=True)\n",
        "de1 = Eq(x1(t).diff(t) , 3*x1(t) - x2(t))\n",
        "de2 = Eq(x2(t).diff(t) , 4*x1(t) - x2(t))\n",
        "sol = dsolve_system([de1, de2], ics={x1(0): 1, x2(0): 1})\n",
        "for eqs in sol:\n",
        "    for eq in eqs:\n",
        "        display(eq)"
      ]
    },
    {
      "cell_type": "markdown",
      "metadata": {
        "tags": [],
        "id": "USlHKDhx4CsN"
      },
      "source": [
        "# Exercise 7.2.4\n",
        "\n",
        "$\n",
        "x'(t) - x(t) - 5y(t) = 1\n",
        "$\n",
        "\n",
        "$\n",
        "y'(t) + 2x(t) + y(t) = e^t\n",
        "$\n",
        "\n",
        "$\n",
        "x(0)=0\n",
        "$\n",
        "\n",
        "$\n",
        "y(0)=0\n",
        "$\n",
        "\n"
      ]
    },
    {
      "cell_type": "code",
      "execution_count": null,
      "metadata": {
        "colab": {
          "base_uri": "https://localhost:8080/",
          "height": 93
        },
        "outputId": "b941475e-2077-4c2b-f59c-89b81b036fc1",
        "tags": [],
        "id": "rMKaq0yt4CsN"
      },
      "outputs": [
        {
          "output_type": "display_data",
          "data": {
            "text/plain": [
              "Eq(x(t), exp(t)*sin(3*t)**2/2 + exp(t)*cos(3*t)**2/2 + sin(3*t)**2/9 + sin(3*t)/6 + cos(3*t)**2/9 - 11*cos(3*t)/18)"
            ],
            "text/latex": "$\\displaystyle x{\\left(t \\right)} = \\frac{e^{t} \\sin^{2}{\\left(3 t \\right)}}{2} + \\frac{e^{t} \\cos^{2}{\\left(3 t \\right)}}{2} + \\frac{\\sin^{2}{\\left(3 t \\right)}}{9} + \\frac{\\sin{\\left(3 t \\right)}}{6} + \\frac{\\cos^{2}{\\left(3 t \\right)}}{9} - \\frac{11 \\cos{\\left(3 t \\right)}}{18}$"
          },
          "metadata": {}
        },
        {
          "output_type": "display_data",
          "data": {
            "text/plain": [
              "Eq(y(t), -2*sin(3*t)**2/9 + sin(3*t)/3 - 2*cos(3*t)**2/9 + 2*cos(3*t)/9)"
            ],
            "text/latex": "$\\displaystyle y{\\left(t \\right)} = - \\frac{2 \\sin^{2}{\\left(3 t \\right)}}{9} + \\frac{\\sin{\\left(3 t \\right)}}{3} - \\frac{2 \\cos^{2}{\\left(3 t \\right)}}{9} + \\frac{2 \\cos{\\left(3 t \\right)}}{9}$"
          },
          "metadata": {}
        }
      ],
      "source": [
        "x,y = symbols(\"x y\", cls=Function)\n",
        "t = symbols(\"t\", real=True)\n",
        "de1 = Eq(x(t).diff(t) - x(t) -  5*y(t) , 1)\n",
        "de2 = Eq(y(t).diff(t) + 2*x(t) + y(t) , exp(t))\n",
        "sol = dsolve_system([de1, de2], doit=True, ics={x(0): 0, y(0): 0})\n",
        "for eqs in sol:\n",
        "    for eq in eqs:\n",
        "        display(eq)"
      ]
    },
    {
      "cell_type": "markdown",
      "metadata": {
        "tags": [],
        "id": "p1fJKNRc4CsN"
      },
      "source": [
        "# Exercise 7.2.5\n",
        "\n",
        "$\n",
        "x'(t) = y(t) - 5\\cos t\n",
        "$\n",
        "\n",
        "$\n",
        "y'(t) = 2x(t) + y(t)\n",
        "$\n",
        "\n",
        "$\n",
        "x(0)=0\n",
        "$\n",
        "\n",
        "$\n",
        "y(0)=0\n",
        "$\n",
        "\n"
      ]
    },
    {
      "cell_type": "code",
      "execution_count": null,
      "metadata": {
        "colab": {
          "base_uri": "https://localhost:8080/",
          "height": 91
        },
        "outputId": "ce62aaf7-e5a2-4a7a-8159-f2534cffbd35",
        "tags": [],
        "id": "quJ7p5l24CsN"
      },
      "outputs": [
        {
          "output_type": "display_data",
          "data": {
            "text/plain": [
              "Eq(x(t), -2*exp(2*t)/3 - 2*sin(t) - cos(t) + 5*exp(-t)/3)"
            ],
            "text/latex": "$\\displaystyle x{\\left(t \\right)} = - \\frac{2 e^{2 t}}{3} - 2 \\sin{\\left(t \\right)} - \\cos{\\left(t \\right)} + \\frac{5 e^{- t}}{3}$"
          },
          "metadata": {}
        },
        {
          "output_type": "display_data",
          "data": {
            "text/plain": [
              "Eq(y(t), -4*exp(2*t)/3 + sin(t) + 3*cos(t) - 5*exp(-t)/3)"
            ],
            "text/latex": "$\\displaystyle y{\\left(t \\right)} = - \\frac{4 e^{2 t}}{3} + \\sin{\\left(t \\right)} + 3 \\cos{\\left(t \\right)} - \\frac{5 e^{- t}}{3}$"
          },
          "metadata": {}
        }
      ],
      "source": [
        "x,y = symbols(\"x y\", cls=Function)\n",
        "t = symbols(\"t\", real=True)\n",
        "de1 = Eq(x(t).diff(t), y(t) - 5*cos(t))\n",
        "de2 = Eq(y(t).diff(t), 2*x(t) + y(t))\n",
        "sol = dsolve_system([de1, de2], doit=True, ics={x(0): 0, y(0): 0})\n",
        "for eqs in sol:\n",
        "    for eq in eqs:\n",
        "        display(eq)"
      ]
    },
    {
      "cell_type": "markdown",
      "metadata": {
        "tags": [],
        "id": "F47MikPQ4CsO"
      },
      "source": [
        "# Exercise 7.2.6\n",
        "\n",
        "$\n",
        "x'(t) = y(t) + t\n",
        "$\n",
        "\n",
        "$\n",
        "y'(t) = x(t) + e^t\n",
        "$\n",
        "\n",
        "$\n",
        "x(0)=1\n",
        "$\n",
        "\n",
        "$\n",
        "y(0)=0\n",
        "$\n",
        "\n"
      ]
    },
    {
      "cell_type": "code",
      "execution_count": null,
      "metadata": {
        "colab": {
          "base_uri": "https://localhost:8080/",
          "height": 90
        },
        "outputId": "741dbc81-c390-4aea-f251-ec6a2837baa4",
        "tags": [],
        "id": "2_KnKwTg4CsO"
      },
      "outputs": [
        {
          "output_type": "display_data",
          "data": {
            "text/plain": [
              "Eq(x(t), t*exp(t)/2 + 3*exp(t)/4 - 1 + 5*exp(-t)/4)"
            ],
            "text/latex": "$\\displaystyle x{\\left(t \\right)} = \\frac{t e^{t}}{2} + \\frac{3 e^{t}}{4} - 1 + \\frac{5 e^{- t}}{4}$"
          },
          "metadata": {}
        },
        {
          "output_type": "display_data",
          "data": {
            "text/plain": [
              "Eq(y(t), t*exp(t)/2 - t + 5*exp(t)/4 - 5*exp(-t)/4)"
            ],
            "text/latex": "$\\displaystyle y{\\left(t \\right)} = \\frac{t e^{t}}{2} - t + \\frac{5 e^{t}}{4} - \\frac{5 e^{- t}}{4}$"
          },
          "metadata": {}
        }
      ],
      "source": [
        "x,y = symbols(\"x y\", cls=Function)\n",
        "t = symbols(\"t\", real=True)\n",
        "de1 = Eq(x(t).diff(t), y(t) + t)\n",
        "de2 = Eq(y(t).diff(t), x(t) + exp(t))\n",
        "sol = dsolve_system([de1, de2], doit=True, ics={x(0): 1, y(0): 0})\n",
        "for eqs in sol:\n",
        "    for eq in eqs:\n",
        "        display(eq)"
      ]
    },
    {
      "cell_type": "markdown",
      "metadata": {
        "tags": [],
        "id": "w6l4_9Vm4CsO"
      },
      "source": [
        "# Exercise 7.3\n",
        "\n",
        "$\n",
        "x_1'(t) = cx_1(t) + x_2(t) + cx_3(t)\n",
        "$\n",
        "\n",
        "$\n",
        "x_2'(t) = x_1(t) + cx_2(t) + x_3(t)\n",
        "$\n",
        "\n",
        "$\n",
        "x_3'(t) = cx_3(t)\n",
        "$"
      ]
    },
    {
      "cell_type": "code",
      "execution_count": null,
      "metadata": {
        "colab": {
          "base_uri": "https://localhost:8080/",
          "height": 84
        },
        "outputId": "455dc249-6a68-45a4-de99-ad70b78a81a6",
        "tags": [],
        "id": "oZbk9d-D4CsP"
      },
      "outputs": [
        {
          "output_type": "display_data",
          "data": {
            "text/plain": [
              "Eq(x1(t), -C1*exp(c*t) - C2*exp(t*(c - 1)) + C3*exp(t*(c + 1)))"
            ],
            "text/latex": "$\\displaystyle x_{1}{\\left(t \\right)} = - C_{1} e^{c t} - C_{2} e^{t \\left(c - 1\\right)} + C_{3} e^{t \\left(c + 1\\right)}$"
          },
          "metadata": {}
        },
        {
          "output_type": "display_data",
          "data": {
            "text/plain": [
              "Eq(x2(t), -C1*c*exp(c*t) + C2*exp(t*(c - 1)) + C3*exp(t*(c + 1)))"
            ],
            "text/latex": "$\\displaystyle x_{2}{\\left(t \\right)} = - C_{1} c e^{c t} + C_{2} e^{t \\left(c - 1\\right)} + C_{3} e^{t \\left(c + 1\\right)}$"
          },
          "metadata": {}
        },
        {
          "output_type": "display_data",
          "data": {
            "text/plain": [
              "Eq(x3(t), C1*exp(c*t))"
            ],
            "text/latex": "$\\displaystyle x_{3}{\\left(t \\right)} = C_{1} e^{c t}$"
          },
          "metadata": {}
        }
      ],
      "source": [
        "x1,x2,x3 = symbols(\"x1 x2 x3\", cls=Function)\n",
        "t,c = symbols(\"t c\", real=True)\n",
        "\n",
        "de1 = Eq(x1(t).diff(t) , c*x1(t) + x2(t) + c*x3(t))\n",
        "de2 = Eq(x2(t).diff(t) , x1(t) + c*x2(t) + x3(t))\n",
        "de3 = Eq(x3(t).diff(t) , c*x3(t))\n",
        "\n",
        "sol = dsolve_system([de1, de2, de3], doit=True)\n",
        "for eqs in sol:\n",
        "    for eq in eqs:\n",
        "        display(eq)"
      ]
    },
    {
      "cell_type": "markdown",
      "metadata": {
        "id": "SXZBhAvs4CsP"
      },
      "source": [
        "* $x_1(t)$ is bounded on $[0,\\infty)$ if and only if $c\\leq -1$.\n",
        "* Same is true for $x_2(t)$.\n",
        "* $x_3(t)$ is bounded iff $c\\leq 0$.\n",
        "* Hence, $c\\leq -1$ is required for all solutions to be bounded."
      ]
    },
    {
      "cell_type": "markdown",
      "metadata": {
        "id": "1wKOErbhqKWU"
      },
      "source": [
        "# **TO BE CONTINUED ...**\n",
        "* Any student with a basic Python programming skill\n",
        "  is welcome to continue and solve more exercises\n",
        "  from the\n",
        "<a href=\"https://samyzaf.com/technion/ode/ode.pdf\">\n",
        "Ordinal Differential Equations book\n",
        "</a>.\n",
        "\n",
        "* Send your solutions notebook to sz@samyzaf.com.\n",
        "* They will be checked and added to this notebook.\n",
        "* Thanks!!!"
      ]
    },
    {
      "cell_type": "code",
      "execution_count": null,
      "metadata": {
        "id": "W69YSbejO4P-"
      },
      "outputs": [],
      "source": []
    }
  ],
  "metadata": {
    "colab": {
      "provenance": [],
      "include_colab_link": true
    },
    "kernelspec": {
      "display_name": "Python 3 (ipykernel)",
      "language": "python",
      "name": "python3"
    },
    "language_info": {
      "codemirror_mode": {
        "name": "ipython",
        "version": 3
      },
      "file_extension": ".py",
      "mimetype": "text/x-python",
      "name": "python",
      "nbconvert_exporter": "python",
      "pygments_lexer": "ipython3",
      "version": "3.7.11"
    }
  },
  "nbformat": 4,
  "nbformat_minor": 0
}