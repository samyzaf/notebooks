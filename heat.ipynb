{
  "cells": [
    {
      "cell_type": "markdown",
      "metadata": {
        "id": "view-in-github",
        "colab_type": "text"
      },
      "source": [
        "<a href=\"https://colab.research.google.com/github/samyzaf/notebooks/blob/main/heat.ipynb\" target=\"_parent\"><img src=\"https://colab.research.google.com/assets/colab-badge.svg\" alt=\"Open In Colab\"/></a>"
      ]
    },
    {
      "cell_type": "markdown",
      "metadata": {
        "id": "bNgCcbH05oim"
      },
      "source": [
        "# 2D Heat Equation Simulator using FDM  \n",
        "<small>version: 29.03.2024e</small>\n",
        "* **FDM** stands for **Finite Difference Method**.\n",
        "* This is a numerical method for solving\n",
        "  differential equations, which is explained in details at the course and in the lecture notes\n",
        "  (add reference later?)\n",
        "* Additional explanations are provided in the PDF\n",
        "  project booklet.\n",
        "* Heat equation simulator Python code was inspired by\n",
        "  a blog of G. Nervadof:  \n",
        "  https://levelup.gitconnected.com/solving-2d-heat-equation-numerically-using-python-3334004aa01a\n",
        "\n",
        "* You need to install our **fdmtools Python Package**.\n",
        "* Please run the next code cell to install\n",
        "  and export these tools to this notebook."
      ]
    },
    {
      "cell_type": "code",
      "source": [
        "%pip install -q https://samyzaf.com/fdmtools-3.zip\n",
        "from fdmtools.heat import *"
      ],
      "metadata": {
        "id": "UaZSqhVASpUW"
      },
      "execution_count": null,
      "outputs": []
    },
    {
      "cell_type": "markdown",
      "source": [
        "* We show how to solve an example of the heat equation over a\n",
        "  rectangular plate (in fact a **square**) which has\n",
        "  the following general form\n",
        "\n",
        "* Additional similar problems can be solved in the same manner.\n",
        "  \n",
        "<IMG src=\"https://samyzaf.com/fdm/heat2b.jpg\" width=800 align=\"center\"/>"
      ],
      "metadata": {
        "id": "69P3xJbStCL6"
      }
    },
    {
      "cell_type": "markdown",
      "source": [
        "## Basic parameters\n",
        "As mentioned, we will use a square plate (**L=a=b**)\n",
        "with the following FDM parameters\n",
        "* **L** = Plate Length = Width = Height\n",
        "* **N** = Grid division (dx = dy = L/N)\n",
        "* **alpha** = Heat physical constant\n",
        "* **dt** = Time grid unit\n",
        "* **fps** = Frames Per Second (for video)\n",
        "* **seconds** = Video Simulation time\n",
        "  (also video duration)\n",
        "* **num_frames** = Total number of **time frames** in our simulation\n",
        "* **framestep** = 10 - for our video,\n",
        "  we take 1 frame from each 10 frames.\n",
        "  You may change this number in your tests.\n",
        "* **dx = dy =** Plate Length grid units (L/N)\n",
        "* **U** = 3D **[Numpy](https://numpy.org)** Array"
      ],
      "metadata": {
        "id": "HEyONmXKjy-j"
      }
    },
    {
      "cell_type": "markdown",
      "source": [
        "### Note\n",
        "* Note the difference between **num_frames** and **frames**.\n",
        "* **num_frames** is the total number of frames we plan to make.\n",
        "* **frames** is a range object which by default consists\n",
        "  of all frames from 1 to **num_frames**, but in other\n",
        "  situations we may want to skip some frames and take only\n",
        "  a subset. We will do this in the wave equation case."
      ],
      "metadata": {
        "id": "FmfYxoTr8DTH"
      }
    },
    {
      "cell_type": "markdown",
      "source": [
        "## Our test case example: simple square plate `LxL`, `L=4`\n",
        "* To make it as simple as possible we will work on\n",
        "  a square domain with length **`L=a=b=4`**.\n",
        "\n",
        "* Exact coordinates: **`D = [0,4]x[0,4]`**\n",
        "\n",
        "* We will use the **Finite Difference Method (FDM)**\n",
        "  to solve the following problem on a 4x4 plate  \n",
        "    \n",
        "$\\qquad\n",
        "\\left\\{\n",
        "\\begin{array}{ll}\n",
        "u_t = 0.1(u_{xx} + u_{yy}), &\\quad 0<x<4,\\quad 0<y<4,\\quad 0\\leq t<\\infty\n",
        "\\\\\n",
        "u(x,y,0) = 0,  &\\quad 0<x<4,\\quad 0<y<4,\\quad t=0\n",
        "\\\\\n",
        "u(x,0,t) = 100\\,\\sqrt[3]{x/4},  &\\quad 0\\leq x\\leq 4,\\quad 0\\leq t<\\infty\n",
        "\\\\\n",
        "u(x,4,t) = 100(0.7 + 0.3\\sin\\frac{5\\pi x}{4}),  &\\quad 0\\leq x\\leq 4,\\quad 0\\leq t<\\infty\n",
        "\\\\\n",
        "u(0,y,t) = 100\\sqrt{y/4},  &\\quad 0\\leq y\\leq 4,\\quad 0\\leq t<\\infty\n",
        "\\\\\n",
        "u(4,y,t) = 0,  &\\quad 0\\leq y\\leq 4,\\quad 0\\leq t<\\infty\n",
        "\\end{array}\n",
        "\\right.\n",
        "$\n",
        "\n",
        "* Here is our specific **FDM parameter plan** for this problem:"
      ],
      "metadata": {
        "id": "LLqLzIcVuT1u"
      }
    },
    {
      "cell_type": "code",
      "source": [
        "L = 4.0                   # Length of plate\n",
        "N = 50                    # Grid division size\n",
        "alpha = 0.1               # Physical heat constant\n",
        "seconds = 20              # Simulation time (also video duration)\n",
        "fps = 30                  # Frames per second (for video simulation)\n",
        "framestep = 10            # pick one video frame from every 10 time frames\n",
        "num_frames = seconds*framestep*fps  # Total number of time frames\n",
        "dx = dy = L/N             # Step sizes = x/y grid units\n",
        "#dt = 0.016               # Time step. Better use an automatic choice\n",
        "dt = dx**2 / (4 * alpha)  # A better automatic choice for dt!\n",
        "print(f\"dt = {dt} (auto choice)\")\n",
        "T = seconds * fps * dt    # Physical time (the real time)"
      ],
      "metadata": {
        "id": "ZJrcW7_ksXTg"
      },
      "execution_count": null,
      "outputs": []
    },
    {
      "cell_type": "markdown",
      "source": [
        "## 3D Grid Array and boundary conditions\n",
        "\n",
        "<IMG src=\"https://samyzaf.com/fdm/cover4.jpg\" width=800 align=\"center\"/>"
      ],
      "metadata": {
        "id": "eRzxT7pFRqsG"
      }
    },
    {
      "cell_type": "code",
      "source": [
        "U = np.empty((N+1, N+1, num_frames))   # 3D Numpy Array - this holds our FDM grid!\n",
        "\n",
        "f  = lambda x,y: 0\n",
        "f1 = lambda x: 100 * (x/L) ** (1/3)\n",
        "f2 = lambda y: 100 * (0.7 + 0.3*sin(5*pi*y/L))\n",
        "g1 = lambda y: 100 * (y/L)**(1/2)\n",
        "g2 = lambda y: 0"
      ],
      "metadata": {
        "id": "MeK-yy2xli1D"
      },
      "execution_count": null,
      "outputs": []
    },
    {
      "cell_type": "markdown",
      "source": [
        "## Specifying initial/boundary conditions\n",
        "* First we create an initially empty\n",
        "  3D [Numpy](https://numpy.org) Array **`U`**,\n",
        "  which is the container of our 3D Grid model for\n",
        "  simulating the heat equation.\n",
        "\n",
        "* To get **N** sub intervals division, we need\n",
        "  **N+1** nodes. Therefore, the shape of\n",
        "  **`U`** must be:\n",
        "  **`(N+1) x (N+1) x num_frames`**.\n",
        "\n",
        "* Mathematically, this is a 3D matrix.\n",
        "  However, note that software arrays behave a little\n",
        "  differently than in Math.\n",
        "\n",
        "* Use **`U[i,j,k]`** to access pixel **`(i,j)`**\n",
        "  on the plate at time frame **`k`**.\n",
        "\n",
        "* The value **`U[i,j,k]`** is destined to be\n",
        "  **FDM** approximation to the solution **$u(x_i,y_j,t_k)$**\n",
        "  on the grid nodes.\n",
        "\n",
        "* [Numpy](https://numpy.org/) is the standard scientific\n",
        "  computation Python package, which is popular for numerical\n",
        "  computations in many engineering fields.\n",
        "\n",
        "* Then we converted our initial and boundary functions\n",
        "  to Python code:\n",
        "  * The initial temperature at time t=0: **`f(x,y)`**,\n",
        "  * The boundary condition functions **`f1, f2, g1, g2`**\n",
        "     will be later applied to over the plate 4 sides.\n",
        "\n",
        "* The Python **lambda** command is a simple mechanism\n",
        "  for creating one line functions.\n",
        "  In most simple cases it is enough, but in more complex\n",
        "  cases, you may need to use the standard **def** mechanism\n",
        "  for defining a Python function."
      ],
      "metadata": {
        "id": "jA9_4K6ml7fj"
      }
    },
    {
      "cell_type": "markdown",
      "source": [
        "* Before solving our grid, we need to set initial\n",
        "  and boundary conditions for it.\n",
        "* We start with the initial\n",
        "  temperature `f(x,y)` on the whole plate at\n",
        "  time frame t=0.\n",
        "* Then we set the boundary conditions on the plate sides\n",
        "  using 4 functions `f1, f2, g1, g2`.\n",
        "* See details in the following figure.\n",
        "\n",
        "<IMG src=\"https://samyzaf.com/fdm/heat5e.jpg\" width=700 align=\"center\"/>\n",
        "\n"
      ],
      "metadata": {
        "id": "nAkzP8Tjm86K"
      }
    },
    {
      "cell_type": "markdown",
      "source": [
        "## Heat Equation Solver\n",
        "* The following **Solve** method solves the heat\n",
        "  equation for a given 3d array **U**.\n",
        "* This method simulates the temperature frames on\n",
        "  **all plate points** for the **full time duration**,\n",
        "  and saves them in the array **U**.\n",
        "* For every pixel **`(i,j)`**, and every time frame **`k`**,\n",
        "  **`U[i,j,k]`** is the temperature of the plate at pixel\n",
        "  **`(i,j)`**, at time frame **`k`**.\n",
        "* We use the **[Numba package](https://numba.pydata.org)\n",
        "  just in time compiler** for speed enhacement\n",
        "  (thanks to Intel/Nvidia support).\n",
        "* It translates the Python code to C and\n",
        "  gets about 1000x speed enhancement.\n",
        "\n",
        "* The validity of this **numerical** method will\n",
        "  be presented\n",
        "  and explained in class or a project booklet.\n",
        "  Under certain conditions it yields very good\n",
        "  approximation to the real solution."
      ],
      "metadata": {
        "id": "afuwR8wLj_2-"
      }
    },
    {
      "cell_type": "code",
      "source": [
        "gamma = (alpha*dt) / (dx**2)\n",
        "\n",
        "@njit\n",
        "def Solve(U):\n",
        "  for k in range(0, num_frames-1):\n",
        "    for i in range(1, N):\n",
        "      for j in range(1, N):\n",
        "        DU = U[i+1,j,k] + U[i-1,j,k] + U[i,j+1,k] + U[i,j-1,k] - 4*U[i,j,k]\n",
        "        U[i,j,k+1] = U[i,j,k] + gamma * DU"
      ],
      "metadata": {
        "id": "8fs7BsE9keiK"
      },
      "execution_count": null,
      "outputs": []
    },
    {
      "cell_type": "markdown",
      "source": [
        "* The 3D array **U** is obtained by selecting a finite\n",
        "  number of discrete points $(x_i,y_j,t_k)$ from\n",
        "  the domain **D** of the infinite continuous\n",
        "  function $u(x,y,t)$.\n",
        "  * **$\\mathbf{x_i}$ = x0 + i*dx/N**\n",
        "  * **$\\mathbf{y_j}$ = y0 + j*dy/N**\n",
        "  * **$\\mathbf{t_k}$ = t0 + k*dt**\n",
        "  * **U[i,j,k] $\\;\\mathbf{\\leftrightarrow}\\;$ $\\mathbf{u(x_i,y_j,t_k)}$**\n",
        "  \n",
        "* Each **node** is encoded by the array key **(i,j,k)**\n",
        "  of 3 integers, which is easier to manipulate by computer algorithms.\n",
        "\n",
        "* Alert: in software, array **U[i,j,k]** indices\n",
        "  are somewhat reversed.\n",
        "  * The index **i** stands for **row number** and\n",
        "     therefore corresponds to **y**!\n",
        "  * The index **j** stands for columns number and\n",
        "     therefore corresponds to **x**!\n",
        "  * Therefore directly manipulating Numpy arrays is\n",
        "     suited for experienced programmers, so we have created easier interface for specifying our initial\n",
        "     and boundary conditions as above."
      ],
      "metadata": {
        "id": "zVSI3wXuS8-d"
      }
    },
    {
      "cell_type": "markdown",
      "source": [
        "## Temperature Frame Plotter\n",
        "* We need a method for plotting the plate heat state\n",
        "  at time frame **`k`**.\n",
        "\n",
        "* We have copied the following two methods from\n",
        "  [G. Nervadof's blog](https://levelup.gitconnected.com/solving-2d-heat-equation-numerically-using-python-3334004aa01a),\n",
        "  and added two lines for tick labels formatting.\n",
        "\n",
        "* The argument **`U_k`** is the **`k`**-th slice of **`U`**\n",
        "  (the **`k`**-th temperature frame).\n",
        "\n",
        "* **plt** is the matplotlib canvas\n",
        "  * `clf` - Clears the current plot figure\n",
        "  * `gca` - Get current axis\n",
        "\n",
        "* At this stage you don't have to understand all\n",
        "  the software details, bu you need to execute this\n",
        "  cell."
      ],
      "metadata": {
        "id": "Uql1hZrtmbzL"
      }
    },
    {
      "cell_type": "code",
      "source": [
        "def plot_heatmap(U_k, k):\n",
        "    plt.clf()\n",
        "    data = [\n",
        "        f\"Heat frame: k = {k} : t = {k/framestep*dt:.3f}\",\n",
        "        f\"alpha = {alpha}\",\n",
        "        f\"L = {L}\",\n",
        "        f\"dx = dy = {dx:.4f}\",\n",
        "        f\"dt = {dt:.4f}\",\n",
        "        f\"Sim. Time = {seconds} seconds\",\n",
        "        f\"Phy. Time = {T:.4f} seconds\",\n",
        "    ]\n",
        "    text = '\\n'.join(data)\n",
        "    ax = plt.gca()\n",
        "    ax.text(-0.18, 1.06, text, fontsize=11, linespacing=1.4, transform=ax.transAxes)\n",
        "    plt.xlabel(\"x\", fontsize=16, fontweight=\"normal\")\n",
        "    plt.ylabel(\"y\", fontsize=16, fontweight=\"normal\")\n",
        "    ax.xaxis.set_major_formatter(FuncFormatter(lambda x,pos: f\"{x/N*L:0.1f}\"))\n",
        "    ax.yaxis.set_major_formatter(FuncFormatter(lambda y,pos: f\"{y/N*L:0.1f}\"))\n",
        "    # This is to plot U_k (U at time-step k)\n",
        "    plt.pcolormesh(U_k, cmap=plt.cm.jet, vmin=Umin, vmax=Umax)\n",
        "    plt.colorbar()\n",
        "    return plt\n",
        "\n",
        "def animate(k):\n",
        "    plot_heatmap(U[:,:,k], k)\n",
        "    pbar.advance()\n"
      ],
      "metadata": {
        "id": "50iQNv_4kkXb"
      },
      "execution_count": null,
      "outputs": []
    },
    {
      "cell_type": "markdown",
      "source": [
        "* Now we are ready to solve our equation.\n",
        "* The **solve** method accepts the empty array **U** and\n",
        "  fills it with the correct grid values.\n",
        "* We use the [matplotlib animation package](https://matplotlib.org/stable/users/explain/animations/animations.html)\n",
        "  for generating an **mp4** video from the sequence of\n",
        "  temperature frames.\n",
        "* Video is saved in file, and then played using the\n",
        "  **play_video** command."
      ],
      "metadata": {
        "id": "3TkzrgiuiQgL"
      }
    },
    {
      "cell_type": "code",
      "source": [
        "boundary_conditions(U, f, f1, f2, g1, g2, dx, dy)\n",
        "Solve(U)\n",
        "\n",
        "Umin = U.min()\n",
        "Umax = U.max()\n",
        "\n",
        "figure_size = (5,5)\n",
        "video_file = \"heat1.mp4\"\n",
        "figure = plt.figure(figsize=figure_size, layout='tight')\n",
        "ax = plt.axes()\n",
        "frames = range(0, num_frames, framestep)\n",
        "pbar = ProgressBar(seconds*fps, prompt=\"Animating: \")\n",
        "anim = animation.FuncAnimation(figure, animate, interval=1, frames=frames, repeat=False)\n",
        "anim.save(video_file, fps=fps)\n",
        "\n",
        "print(\"Done!\")\n",
        "print(f\"Physical run time = {T} seconds\")\n",
        "print(f\"Simulation run time = {seconds} seconds\")\n",
        "print(f\"Number of frames = {num_frames}\")\n",
        "print(f\"Frames per second = {fps}\")\n",
        "print(f\"dx = dy = {dx}\")\n",
        "print(f\"dt = {dt}\")\n",
        "\n",
        "print(\"Playing video file\")\n",
        "play_video(video_file, width=640)"
      ],
      "metadata": {
        "id": "TLrC_13qSGQg"
      },
      "execution_count": null,
      "outputs": []
    },
    {
      "cell_type": "markdown",
      "source": [
        "## Comments\n",
        "* **frames** = Video frames range (integer list from 0 to num_frames-1)\n",
        "* **pbar** = Progress Bar object for monitoring the progress of creating our video simulation.\n",
        "* The **boundary_conditions** method takes care of\n",
        "  initializing the Array **U** with the correct boundary\n",
        "  values.\n",
        "  Converting x/y/t values to i/j/k Numpy array indices\n",
        "  is not intuitive and at first stage can be skipped.\n",
        "  Students interested in how this is done can\n",
        "  download the\n",
        "  **[fdmtools package](https://samyzaf.com/fdmtools-3.zip)**\n",
        "  and browse the Python code for all the details.\n",
        "* Note that *video run time* is\n",
        "  not idetical to real *physical run time*!\n",
        "* The physical heat phenomenon may take a very short time,\n",
        "  but the video must slow it down so we can observe it slowly.\n",
        "  In other cases it might be too slow, and the simulation will speed it up.\n",
        "* Simulation (or video) run time is defined by\n",
        "  the **seconds** parameter.\n",
        "* Physical run time can be calculated by multiplying\n",
        "  the number of video frames by **dt**:"
      ],
      "metadata": {
        "id": "fyh_XNOfNYdQ"
      }
    },
    {
      "cell_type": "code",
      "source": [
        "print(f\"Simulation run time = {seconds} seconds\")\n",
        "print(f\"Physical run time = {num_frames/framestep * dt} seconds\")"
      ],
      "metadata": {
        "id": "3Ywf-UVedQ3m"
      },
      "execution_count": null,
      "outputs": []
    },
    {
      "cell_type": "markdown",
      "source": [
        "* Note that the number of video frames is smaller than\n",
        "  the total number of frames! Since we sample\n",
        "  only one video frame per 10 time frames.\n",
        "* To generate higher resolution videos, you may need\n",
        "  to increase the size of the parameters\n",
        "  **`N`**, and **seconds**.\n",
        "* You may try **`N=100`** or **`N=200`**, but it will\n",
        "  take much more time to generate the video!\n",
        "\n",
        "* You may also want to increase the video time.\n",
        "  You may try **`seconds=30`** or **`seconds=60`**.\n"
      ],
      "metadata": {
        "id": "Vu8P1fNtiaqn"
      }
    },
    {
      "cell_type": "markdown",
      "source": [
        "# CONCLUSION AND CODE SUMMARY\n",
        "* For convenience, we have gathered most of the\n",
        "  technical code under one main method:\n",
        "  **RunSimulation**\n",
        "  inside **one code cell**, which you can run\n",
        "  **repeatedly** without restarting the notebook.\n",
        "  Use it for experimenting with other cases.\n",
        "\n",
        "* To be clear, you must start the first code cell [1],\n",
        "  and then immediately jump to the next cell."
      ],
      "metadata": {
        "id": "DprzIsc6pJC9"
      }
    },
    {
      "cell_type": "code",
      "source": [
        "L = 4.0                   # Length of plate\n",
        "N = 100                    # Grid division size\n",
        "alpha = 0.1               # Physical heat constant\n",
        "seconds = 30              # Simulation time (also video duration)\n",
        "fps = 30                  # Frames per second (for video simulation)\n",
        "framestep = 10            # pick one video frame from every 10 time frames\n",
        "num_frames = seconds*framestep*fps  # Total number of time frames\n",
        "dx = dy = L/N             # Step sizes = x/y grid units\n",
        "#dt = 0.016               # Time step. Better use an automatic choice\n",
        "dt = dx**2 / (4 * alpha)  # A better automatic choice for dt!\n",
        "print(f\"dt = {dt} (auto choice)\")\n",
        "T = seconds * fps * dt    # Physical time (the real time)\n",
        "figure_size = (5,5)\n",
        "video_file = \"heat2.mp4\"\n",
        "\n",
        "# 3D Numpy array\n",
        "U = np.empty((N+1, N+1, num_frames))\n",
        "# Boundary conditions\n",
        "f  = lambda x,y: 0\n",
        "f1 = lambda x: 100 * (x/L) ** (1/3)\n",
        "f2 = lambda x: 100 * (0.7 + 0.3*sin(5*pi*x/L))\n",
        "g1 = lambda y: 100 * (y/L)**(1/2)\n",
        "g2 = lambda y: 0\n",
        "\n",
        "gamma = (alpha*dt) / (dx**2)\n",
        "\n",
        "@njit\n",
        "def Solve(U):\n",
        "  for k in range(0, num_frames-1):\n",
        "    for i in range(1, N):\n",
        "      for j in range(1, N):\n",
        "        DU = U[i+1,j,k] + U[i-1,j,k] + U[i,j+1,k] + U[i,j-1,k] - 4*U[i,j,k]\n",
        "        U[i,j,k+1] = U[i,j,k] + gamma * DU\n",
        "\n",
        "RunSimulation()"
      ],
      "metadata": {
        "id": "kt9ZBpaAOE41"
      },
      "execution_count": null,
      "outputs": []
    },
    {
      "cell_type": "markdown",
      "source": [
        "* You can download your video file to your local\n",
        "  computer by running the following command."
      ],
      "metadata": {
        "id": "aaQZbjUnOj50"
      }
    },
    {
      "cell_type": "code",
      "source": [
        "#file_download(\"heat2.mp4\")"
      ],
      "metadata": {
        "id": "7ySLP0yE1yZz"
      },
      "execution_count": null,
      "outputs": []
    },
    {
      "cell_type": "markdown",
      "source": [
        "* You can also plot particular heat maps at a particular\n",
        "  time frame using the following code."
      ],
      "metadata": {
        "id": "WXq6ZSK4X5cV"
      }
    },
    {
      "cell_type": "code",
      "source": [
        "#plot_heatmap(U[:,:,18], 18)\n",
        "#plt.show()"
      ],
      "metadata": {
        "id": "Sur2ffHZPI1U"
      },
      "execution_count": null,
      "outputs": []
    },
    {
      "cell_type": "markdown",
      "source": [
        "## Final Notes for Python Coders\n",
        "* If you are a Python coder, you may want to download the\n",
        "  **[fdmtools package](https://samyzaf.com/fdmtools-3.zip)**\n",
        "  and read the code and use it for other purposes.\n",
        "  It is a small readable package that contains important\n",
        "  details regarding the other Python that we use,\n",
        "  which is very useful to know.\n",
        "\n",
        "* For Python users, it is worth looking at the\n",
        "  **boundary_conditions** method in order to understand\n",
        "  how the pure math expressions that we use above for these\n",
        "  conditions, are converted to our discrete Numpy array **U**\n",
        "  <IMG src=\"https://samyzaf.com/fdm/code_heat_bc.jpg\" width=640 align=\"center\"/>\n",
        "\n",
        "* The **\":\"** symbol in Python stands for the\n",
        "  default full range **\"0:N\"**.\n",
        "* So, for example, the expression **`U[:,:,0]`** is\n",
        "  actually **`U[0:N, 0:N, 0]`**\n",
        "  which is the matrix for the temperature\n",
        "  at time frame **`k=0`**.\n",
        "* The expression **`U[0,:,:]`** is actually\n",
        "  **`U[0, 0:N, 0:num_frames]`** which represents the\n",
        "  matrix for the bottom side of the plate over all time frames.\n",
        "\n",
        "* Another issue is that Numpy arrays are implemented as\n",
        "  nested lists, and that's why we see nested lists in the last\n",
        "  5 lines of the code above.\n",
        "  For example, the initial temperature frame (t=0) is\n",
        "  obtained **f(x,y)** on each row, and then taking the\n",
        "  list of these lists.\n",
        "\n",
        "* The main reason that we decided to hide these details inside\n",
        "  the package is because the reverse order of x/y and i/j in\n",
        "  Python arrays, which is potentially confusing at first.\n",
        "  One must map x to j (column index),\n",
        "  and y to i (row index).\n",
        "  Understanding the internal works of a Numpy array is not\n",
        "  required for doing the project,\n",
        "  and can be deferred to a later stage after gaining enough\n",
        "  coding experience.\n",
        "\n"
      ],
      "metadata": {
        "id": "jtByBJDvyqSH"
      }
    }
  ],
  "metadata": {
    "colab": {
      "provenance": [],
      "include_colab_link": true
    },
    "kernelspec": {
      "display_name": "Python 3 (ipykernel)",
      "language": "python",
      "name": "python3"
    },
    "language_info": {
      "codemirror_mode": {
        "name": "ipython",
        "version": 3
      },
      "file_extension": ".py",
      "mimetype": "text/x-python",
      "name": "python",
      "nbconvert_exporter": "python",
      "pygments_lexer": "ipython3",
      "version": "3.7.11"
    }
  },
  "nbformat": 4,
  "nbformat_minor": 0
}