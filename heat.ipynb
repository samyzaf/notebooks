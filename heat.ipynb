{
  "cells": [
    {
      "cell_type": "markdown",
      "metadata": {
        "id": "view-in-github",
        "colab_type": "text"
      },
      "source": [
        "<a href=\"https://colab.research.google.com/github/samyzaf/notebooks/blob/main/heat.ipynb\" target=\"_parent\"><img src=\"https://colab.research.google.com/assets/colab-badge.svg\" alt=\"Open In Colab\"/></a>"
      ]
    },
    {
      "cell_type": "markdown",
      "metadata": {
        "id": "bNgCcbH05oim"
      },
      "source": [
        "# 2D Heat Equation Simulator using FDM\n",
        "* FDM stands for **Finite Differences Method**.\n",
        "* Heat equation simulator Python code was inspired by\n",
        "  G. Nervadof at his blog:  \n",
        "  https://levelup.gitconnected.com/solving-2d-heat-equation-numerically-using-python-3334004aa01a\n",
        "\n",
        "* You need to install the **fdmtools Python package**.\n",
        "* Please run the next code cell."
      ]
    },
    {
      "cell_type": "code",
      "source": [
        "%pip install -q https://samyzaf.com/fdmtools-1.zip\n",
        "from fdmtools import *"
      ],
      "metadata": {
        "id": "UaZSqhVASpUW"
      },
      "execution_count": null,
      "outputs": []
    },
    {
      "cell_type": "markdown",
      "source": [
        "* We only touch one example of the heat equation over a\n",
        "  rectangular plate (in fact a square) which has\n",
        "  the following general form\n",
        "  \n",
        "<IMG src=\"https://samyzaf.com/fdm/heat2b.jpg\" width=800 align=\"center\"/>"
      ],
      "metadata": {
        "id": "69P3xJbStCL6"
      }
    },
    {
      "cell_type": "markdown",
      "source": [
        "## Basic parameters\n",
        "As mentioned, we will use a square plate (**L=a=b**)\n",
        "with the following FDM parameters\n",
        "* **L** = Plate Length = Width = Height\n",
        "* **N** = Grid division (dx = dy = L/N)\n",
        "* **alpha** = Heat parameter\n",
        "* **dt** = Time grid unit\n",
        "* **fps** = Frames Per Second (for video)\n",
        "* **seconds** = Video Simulation time (also video duration)\n",
        "* **num_frames** = Total number of **time frames** in our simulation\n",
        "* **dx = dy =** Plate Length grid units (L/N)\n",
        "* **frames** = Video frames range (integer list from 0 to num_frames-1)\n",
        "* **pbar** = Progress Bar object for monitoring the progress of creating our video simulation.\n",
        "* **U** = 3D Numpy Array"
      ],
      "metadata": {
        "id": "HEyONmXKjy-j"
      }
    },
    {
      "cell_type": "markdown",
      "source": [
        "## Our test case example: simple square plate `LxL`, `L=4`\n",
        "* To make it as simple as possible we will work on\n",
        "  a square domain with length **`L=a=b=4`**.\n",
        "\n",
        "* Exact coordinates: **`D = [0,4]x[0,4]`**\n",
        "\n",
        "* We will use the **Finite Differences Method** (FDM)\n",
        "  to solve the following problem on a 4x4 plate  \n",
        "    \n",
        "$\\qquad\n",
        "\\left\\{\n",
        "\\begin{array}{ll}\n",
        "u_t = 0.1(u_{xx} + u_{yy}), &\\quad 0<x<4,\\quad 0<y<4,\\quad 0\\leq t<\\infty\n",
        "\\\\\n",
        "u(x,y,0) = 0,  &\\quad 0<x<4,\\quad 0<y<4\n",
        "\\\\\n",
        "u(x,0,t) = 100\\,\\sqrt[3]{x/4},  &\\quad 0\\leq x\\leq 4,\\quad 0\\leq t<\\infty\n",
        "\\\\\n",
        "u(x,4,t) = 100(0.7 + 0.3\\sin\\frac{5\\pi x}{4}),  &\\quad 0\\leq x\\leq 4,\\quad 0\\leq t<\\infty\n",
        "\\\\\n",
        "u(0,y,t) = 100\\sqrt{y/4},  &\\quad 0\\leq y\\leq 4,\\quad 0\\leq t<\\infty\n",
        "\\\\\n",
        "u(4,y,t) = 0,  &\\quad 0\\leq y\\leq 4,\\quad 0\\leq t<\\infty\n",
        "\\end{array}\n",
        "\\right.\n",
        "$\n",
        "\n",
        "* Here is our specific FDM parameter plan for this problem:"
      ],
      "metadata": {
        "id": "LLqLzIcVuT1u"
      }
    },
    {
      "cell_type": "code",
      "source": [
        "L = 4.0\n",
        "N = 40\n",
        "alpha = 0.1\n",
        "fps = 30\n",
        "seconds = 10\n",
        "num_frames = seconds*fps\n",
        "dx = dy = L/N\n",
        "#dt = 0.016                   #Not recommended, better use an automatic choice\n",
        "dt = dx**2 / (4 * alpha)      # A better choice for dt!\n",
        "print(f\"Good choice for dt = {dt}\")\n",
        "gamma = (alpha*dt) / (dx**2)\n",
        "frames = range(0, num_frames)\n",
        "pbar = ProgressBar(num_frames, prompt=\"Animating: \")\n",
        "\n",
        "U = np.empty((N, N, num_frames))   # 3D Numpy Array - this is our FDM grid!"
      ],
      "metadata": {
        "id": "ZJrcW7_ksXTg"
      },
      "execution_count": null,
      "outputs": []
    },
    {
      "cell_type": "markdown",
      "source": [
        "## 3D Grid Array\n",
        "* In the last line, we created an initially empty\n",
        "  3D Numpy Array **`U`**,\n",
        "  which is the container of our 3D Grid model for\n",
        "  simulating the heat equation.\n",
        "\n",
        "* The shape of `U` is: `N x N x num_frames`.\n",
        "\n",
        "* Use `U[i,j,k]` to access pixel `(i,j)` on the plate at time frame `k`.\n",
        "\n",
        "* To create an empty solution 3D-array U[i,j,k]\n",
        "  with shape (N,N,num_frames)\n"
      ],
      "metadata": {
        "id": "eRzxT7pFRqsG"
      }
    },
    {
      "cell_type": "markdown",
      "source": [
        "<IMG src=\"https://samyzaf.com/fdm/cover3.jpg\" width=800 align=\"center\"/>"
      ],
      "metadata": {
        "id": "oJkCIUOJ4r3T"
      }
    },
    {
      "cell_type": "markdown",
      "source": [
        "## Solver\n",
        "* The **solve** method solves the heat equation for a given\n",
        "  3d array **U**.\n",
        "* This method simulates the temperature frames on\n",
        "  **all plate points** for the full time duration,\n",
        "  and saves them in the array **U**.\n",
        "* For every pixel **`(i,j)`**, and every time frame **`k`**,\n",
        "  **`U[i,j,k]`** is the temperature of the plate at pixel\n",
        "  **`(i,j)`**, at time frame **`k`**.\n",
        "* We use the [Numba package](https://numba.pydata.org)\n",
        "  just in time compiler for speed enhacement\n",
        "  (thanks to Intel/Nvidia support).\n",
        "  It translates the Python code to C and\n",
        "  gets 1000x faster."
      ],
      "metadata": {
        "id": "afuwR8wLj_2-"
      }
    },
    {
      "cell_type": "code",
      "source": [
        "@njit\n",
        "def solve(U):\n",
        "  for k in range(0, num_frames-1):\n",
        "    for i in range(1, N-1):\n",
        "      for j in range(1, N-1):\n",
        "        S = U[i+1,j,k] + U[i-1,j,k] + U[i,j+1,k] + U[i,j-1,k] - 4*U[i,j,k]\n",
        "        U[i,j,k+1] = U[i,j,k] + gamma * S\n",
        "  return U"
      ],
      "metadata": {
        "id": "8fs7BsE9keiK"
      },
      "execution_count": null,
      "outputs": []
    },
    {
      "cell_type": "markdown",
      "source": [
        "## Initial/Boundary conditions\n",
        "* Before solving our grid, we need to set initial\n",
        "  and bpoundary conditions for it.\n",
        "* We start with the initial\n",
        "  temperature `f(x,y)` on the whole plate at\n",
        "  time frame t=0.\n",
        "* Then we set the boundary conditions on the plate sides\n",
        "  using 4 functions `f1, f2, g1, g2`.\n",
        "* See details in the following figure.\n",
        "\n",
        "<IMG src=\"https://samyzaf.com/fdm/heat5e.jpg\" width=700 align=\"center\"/>\n",
        "\n"
      ],
      "metadata": {
        "id": "nAkzP8Tjm86K"
      }
    },
    {
      "cell_type": "code",
      "source": [
        "\n",
        "f = lambda i,j: 0\n",
        "f1 = lambda j: 100 * (j*dx/L) ** (1/3)\n",
        "f2 = lambda i: 100 * (0.7 + 0.3*sin(5*pi*i*dx/L))\n",
        "g1 = lambda j: 100 * (j*dy/L)**(1/2)\n",
        "g2 = lambda i: 0\n",
        "\n",
        "U[:,:,0] = [[f(i,j) for i in range(N)] for j in range(N)]\n",
        "\n",
        "# Bottom side (row=0,column=all,time=all)\n",
        "U[0,:,:] = [[f1(i)] for i in range(N)]\n",
        "\n",
        "# Top side (row=N-1, column=all, time=all)\n",
        "U[N-1,:,:] =  [[f2(i)] for i in range(N)]\n",
        "\n",
        "# Left side (row=all,column=0,time=all)\n",
        "U[:,0,:] = [[g1(j)] for j in range(N)]\n",
        "\n",
        "# Right side (row=all, column=N-1, time=all)\n",
        "U[:,N-1,:] = [[g2(j)] for j in range(N)]"
      ],
      "metadata": {
        "id": "TdtoXP9YnEB5"
      },
      "execution_count": null,
      "outputs": []
    },
    {
      "cell_type": "markdown",
      "source": [
        "## Comments\n",
        "* The FDM mapping from grid indices **U[i,j,k]**\n",
        "  to **x,y,t** values\n",
        "  is as follows:\n",
        "  * **x = $x_i$ = i*dx/N**\n",
        "  * **y = $y_j$ = j*dy/N**\n",
        "  * **t = $t_k$ = k*dt**\n",
        "  * **u(x,y,t) = U[i,j,k]**\n",
        "* The **\":\"** symbol in Python stands for the\n",
        "  default full range **\"0:N\"**.\n",
        "* So, for example, the expression **`U[:,:,0]`** is\n",
        "  actually **`U[0:N, 0:N, 0]`**\n",
        "  which is the matrix for the temperature\n",
        "  at time frame **`k=0`**.\n",
        "* The expression **`U[0,:,:]`** is actually\n",
        "  **`U[0, 0:N, 0:num_frames]`** which represents the\n",
        "  bottom side of the plate over all time frames."
      ],
      "metadata": {
        "id": "zVSI3wXuS8-d"
      }
    },
    {
      "cell_type": "markdown",
      "source": [
        "## Temperature Frame Plotter\n",
        "* We need a method for plotting the plate heat state\n",
        "  at time frame **`k`**.\n",
        "\n",
        "* The argument **`U_k`** is the **`k`**-th slice of **`U`**.\n",
        "\n",
        "* **plt** is the matplotlib canvas\n",
        "  * `clf` - Clears the current plot figure\n",
        "  * `gca` - Get current axis"
      ],
      "metadata": {
        "id": "Uql1hZrtmbzL"
      }
    },
    {
      "cell_type": "code",
      "source": [
        "def plot_heatmap(U_k, k):\n",
        "    plt.clf()\n",
        "    plt.title(f\"Temperature at time t = {k*dt:.3f}\")\n",
        "    plt.xlabel(\"x\")\n",
        "    plt.ylabel(\"y\")\n",
        "    ax = plt.gca()\n",
        "    ax.xaxis.set_major_formatter(FuncFormatter(lambda x, pos: f\"{x/N*L:0.1f}\"))\n",
        "    ax.yaxis.set_major_formatter(FuncFormatter(lambda y, pos: f\"{y/N*L:0.1f}\"))\n",
        "\n",
        "    # This is to plot U_k (U at time-step k)\n",
        "    plt.pcolormesh(U_k, cmap=plt.cm.jet, vmin=0, vmax=100)\n",
        "    plt.colorbar()\n",
        "    return plt\n",
        "\n",
        "def animate(k):\n",
        "    plot_heatmap(U[:,:,k], k)\n",
        "    pbar.advance()\n"
      ],
      "metadata": {
        "id": "50iQNv_4kkXb"
      },
      "execution_count": null,
      "outputs": []
    },
    {
      "cell_type": "code",
      "source": [
        "U = solve(U)\n",
        "\n",
        "anim = animation.FuncAnimation(plt.figure(), animate, interval=1, frames=frames, repeat=False)\n",
        "video_file = \"test1.mp4\"\n",
        "anim.save(video_file, fps=fps)\n",
        "print(\"Done!\")"
      ],
      "metadata": {
        "id": "TLrC_13qSGQg"
      },
      "execution_count": null,
      "outputs": []
    },
    {
      "cell_type": "markdown",
      "source": [
        "* To play the video file that you created,\n",
        "  you need to run the **`play_video`** command"
      ],
      "metadata": {
        "id": "d7J2sjxcMv3Q"
      }
    },
    {
      "cell_type": "code",
      "source": [
        "play_video(video_file, width=640)"
      ],
      "metadata": {
        "id": "tXwfvpAHTzZM"
      },
      "execution_count": null,
      "outputs": []
    },
    {
      "cell_type": "markdown",
      "source": [
        "## Comments\n",
        "* Note Video run time (30 seconds in this case) is\n",
        "  not idetical to real physical simulation run time!\n",
        "* The physical heat phenomenon may take a very short time,\n",
        "  and the video must slow it down in\n",
        "  order that we notice it.\n",
        "* So in general, video duration is much\n",
        "  larger than physical duration.\n",
        "* In the above example (**N=100, seconds=30**),\n",
        "  video run time is 30 seconds, but the real simulation\n",
        "  run time (**num_frames*dt**) is 3.6 seconds!"
      ],
      "metadata": {
        "id": "fyh_XNOfNYdQ"
      }
    },
    {
      "cell_type": "code",
      "source": [
        "print(f\"Video run time = {seconds} seconds\")\n",
        "print(f\"Simulation run time = {num_frames*dt} seconds\")"
      ],
      "metadata": {
        "id": "3Ywf-UVedQ3m"
      },
      "execution_count": null,
      "outputs": []
    },
    {
      "cell_type": "markdown",
      "source": [
        "* To generate higher resolution videos, you may need\n",
        "  to increase the size of the parameters\n",
        "  **`N`**, and **seconds**.\n",
        "* You may try **`N=50`** or **`N=100`**, but it will\n",
        "  take much more time to generate the video.\n",
        "* You may also want to increase the video time.\n",
        "  You may try **`seconds=30`** or **`seconds=60`**.\n",
        "\n",
        "* However, when you make such changes, the old value\n",
        "  of **`dt`** may not work and it is hard to guess\n",
        "  a good value.\n",
        "* Fortunately there is a formula\n",
        "  for guessing a good value for **`dt`** which we used in\n",
        "  our code.\n",
        "* For convenience, we have put all the needed code\n",
        "  in **one code cell*, which you can run it\n",
        "  **repeatedly** without needing to restart\n",
        "  the notebook.\n"
      ],
      "metadata": {
        "id": "Vu8P1fNtiaqn"
      }
    },
    {
      "cell_type": "code",
      "source": [
        "L = 4.0\n",
        "N = 100\n",
        "alpha = 0.1\n",
        "fps = 30 # fps = frames per second\n",
        "seconds = 60\n",
        "num_frames = seconds*fps\n",
        "dx = dy = L/N\n",
        "dt = dx**2 / (4 * alpha)      # A good choice for dt!\n",
        "print(f\"Good choice for dt = {dt}\")\n",
        "gamma = (alpha*dt) / (dx**2)\n",
        "frames = range(0, num_frames)\n",
        "pbar = ProgressBar(num_frames, prompt=\"Animating: \")\n",
        "\n",
        "U = np.empty((N, N, num_frames))\n",
        "f = lambda i,j: 0\n",
        "f1 = lambda j: 100 * (j*dx/L) ** (1/3)\n",
        "f2 = lambda i: 100 * (0.7 + 0.3*sin(5*pi*i*dx/L))\n",
        "g1 = lambda j: 100 * (j*dy/L)**(1/2)\n",
        "g2 = lambda i: 0\n",
        "\n",
        "U[:,:,0] = [[f(i,j) for i in range(N)] for j in range(N)]\n",
        "U[0,:,:] = [[f1(i)] for i in range(N)]\n",
        "U[N-1,:,:] =  [[f2(i)] for i in range(N)]\n",
        "U[:,0,:] = [[g1(j)] for j in range(N)]\n",
        "U[:,N-1,:] = [[g2(j)] for j in range(N)]\n",
        "\n",
        "@njit\n",
        "def solve(U):\n",
        "  for k in range(0, num_frames-1):\n",
        "    for i in range(1, N-1):\n",
        "      for j in range(1, N-1):\n",
        "        S = U[i+1,j,k] + U[i-1,j,k] + U[i,j+1,k] + U[i,j-1,k] - 4*U[i,j,k]\n",
        "        U[i,j,k+1] = U[i,j,k] + gamma * S\n",
        "  return U\n",
        "\n",
        "U = solve(U)\n",
        "\n",
        "anim = animation.FuncAnimation(plt.figure(), animate, interval=1, frames=frames, repeat=False)\n",
        "video_file = \"test2.mp4\"\n",
        "anim.save(video_file, fps=fps)\n",
        "print(\"Done!\")\n",
        "\n",
        "play_video(video_file, width=640)"
      ],
      "metadata": {
        "id": "kt9ZBpaAOE41"
      },
      "execution_count": null,
      "outputs": []
    },
    {
      "cell_type": "markdown",
      "source": [
        "* You can download your video file to your local\n",
        "  computer by running the following command."
      ],
      "metadata": {
        "id": "aaQZbjUnOj50"
      }
    },
    {
      "cell_type": "code",
      "source": [
        "#file_download(\"test2.mp4\")"
      ],
      "metadata": {
        "id": "7ySLP0yE1yZz"
      },
      "execution_count": null,
      "outputs": []
    },
    {
      "cell_type": "markdown",
      "source": [
        "* You can also plot particular heat maps at a particular\n",
        "  time frame using the following code."
      ],
      "metadata": {
        "id": "WXq6ZSK4X5cV"
      }
    },
    {
      "cell_type": "code",
      "source": [
        "#plot_heatmap(U[:,:,18], 18)\n",
        "#plt.show()"
      ],
      "metadata": {
        "id": "Sur2ffHZPI1U"
      },
      "execution_count": null,
      "outputs": []
    }
  ],
  "metadata": {
    "colab": {
      "provenance": [],
      "include_colab_link": true
    },
    "kernelspec": {
      "display_name": "Python 3 (ipykernel)",
      "language": "python",
      "name": "python3"
    },
    "language_info": {
      "codemirror_mode": {
        "name": "ipython",
        "version": 3
      },
      "file_extension": ".py",
      "mimetype": "text/x-python",
      "name": "python",
      "nbconvert_exporter": "python",
      "pygments_lexer": "ipython3",
      "version": "3.7.11"
    }
  },
  "nbformat": 4,
  "nbformat_minor": 0
}