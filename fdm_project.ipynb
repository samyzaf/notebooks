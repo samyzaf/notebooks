{
  "cells": [
    {
      "cell_type": "markdown",
      "metadata": {
        "id": "view-in-github",
        "colab_type": "text"
      },
      "source": [
        "<a href=\"https://colab.research.google.com/github/samyzaf/notebooks/blob/main/fdm_project.ipynb\" target=\"_parent\"><img src=\"https://colab.research.google.com/assets/colab-badge.svg\" alt=\"Open In Colab\"/></a>"
      ]
    },
    {
      "cell_type": "markdown",
      "id": "71f3fac7",
      "metadata": {
        "cell_marker": "\"\"\"",
        "id": "71f3fac7"
      },
      "source": [
        "# **FDM Computational Project<br/>1D Damped Wave Equation**\n",
        "\n",
        "<small> version: 23.05.25a</small>\n",
        "\n",
        "* Main objective: design a simulator using\n",
        "  **Finite Difference Method (FDM)**\n",
        "  for solving a 1D wave equation numerically.\n",
        "\n",
        "* **FDM** is a numerical method for solving differential\n",
        "  equations and many other types of mathematical problems,\n",
        "  which is explained in details at the course\n",
        "  lecture notes and the official project booklet,\n",
        "  with many examples that can help you\n",
        "  with this project.\n",
        "\n",
        "* Before starting to work on this project, please read the\n",
        "  project booklet (\"fdm.pdf\"), and make sure you understand\n",
        "  the examples of the heat and wave equations there.\n",
        "  You will find there links to other Google Colab notebooks\n",
        "  which should give you a good start for this project (מטלה תיכנותית).\n",
        "\n",
        "* Try to solve the theoretical assignment before you start\n",
        "  with this project.\n",
        "\n",
        "* You have to download a copy of this notebook to your\n",
        "  private Google drive and work on your private copy.\n",
        "\n",
        "* Please keep the same name: **\"fdm_project.ipynb\"**.\n",
        "\n",
        "* After completing work, you should upload it to\n",
        "  your Moodle assignment box for the FDM programming project.\n",
        "\n",
        "## **Python, Google Colab, and LaTeX Tutorials**\n",
        "\n",
        "* To do this project you will need to invest an hour\n",
        "  or two (at least) on basic training on Python,\n",
        "  Google Colab, and LaTeX basics.\n",
        "\n",
        "* Please open the following notebook and follow\n",
        "  the tutorials there:  \n",
        "  https://colab.research.google.com/github/samyzaf/notebooks/blob/main/tutorials.ipynb\n",
        "\n",
        "## **Restart and Cleanup**\n",
        "* It is easy to get into troubles when you\n",
        "  execute code. In such cases your notebook may be\n",
        "  invalidated and you will have to restart.\n",
        "\n",
        "* To restart your notebook, go to\n",
        "  **Runtime** menu button and select the\n",
        "  **Disconnect and delete runtime** item.\n",
        "\n",
        "* It is also recommended to clear all outputs\n",
        "  (**Edit** --> **Clear all outputs**).\n",
        "\n",
        "* After restart, make sure to run all code cells\n",
        "  **sequentially**.\n",
        "  * Running code cells in the wrong order can\n",
        "  result in a corrupt notebook and then you have to restart\n",
        "  again.\n",
        "\n",
        "## **Installation and Loading**\n",
        "* The **FDM Project** is based on our\n",
        "  Python package:\n",
        "  [**fdmtools**](https://samyzaf.com/fdmtools.zip).\n",
        "\n",
        "* Python coders can download it and inspect the code.\n",
        "  But the usage is simple and explained in the many examples\n",
        "  in the course project booklet (\"fdm.pdf\")\n",
        "  which you should find in the Moodle site,\n",
        "  and the many Google Colab notebooks that accompany it.\n",
        "\n",
        "* Execute the next code cell in order to install\n",
        "  and load the\n",
        "  [**fdmtools Package**](https://samyzaf.com/fdmtools.zip).\n",
        "\n",
        "* At each stage you can restart your session\n",
        "  from the **Runtime** menu (\"Disconnect and delete runtime\")\n",
        "  if you get into trouble."
      ]
    },
    {
      "cell_type": "code",
      "execution_count": null,
      "id": "a3b7e90d",
      "metadata": {
        "id": "a3b7e90d"
      },
      "outputs": [],
      "source": [
        "%pip install -q https://samyzaf.com/fdmtools.zip   # Install fdmtools package on your Google virtual machine\n",
        "from fdmtools.wave1 import *                       # Import fdmtools commands to this notebook"
      ]
    },
    {
      "cell_type": "markdown",
      "id": "a009d3e0",
      "metadata": {
        "cell_marker": "\"\"\"",
        "id": "a009d3e0"
      },
      "source": [
        "## **Registration**\n",
        "* Please enter your name, identity number, and email\n",
        "  address in the following form.\n",
        "* After any change, press the **play** button &#9658; to update.\n",
        "* After registration, you will you will be assigned a personal\n",
        "  PDE problem to work on."
      ]
    },
    {
      "cell_type": "code",
      "execution_count": null,
      "id": "3e925d5a",
      "metadata": {
        "id": "3e925d5a",
        "cellView": "form"
      },
      "outputs": [],
      "source": [
        "# @title #**Student Form** {\"form-width\":\"50%\"}\n",
        "Name = 'הכנס כאן שם מלא בעברית' # @param {type:\"string\"}\n",
        "Id = '123456789' # @param {type:\"string\"}\n",
        "Email = 'foo@bar.com' # @param {type:\"string\"}\n",
        "\n",
        "RunFile(\"wave1damp_form\")"
      ]
    },
    {
      "cell_type": "markdown",
      "id": "a5baf62a",
      "metadata": {
        "cell_marker": "\"\"\"",
        "id": "a5baf62a"
      },
      "source": [
        "## **Description**\n",
        "* Your mission is to use **FDM**\n",
        "  for solving a special type of a 1D wave equation over\n",
        "  a one dimensional string (of finite length $L$), which\n",
        "  is usually named **\"Damped Wave Equation\"**.\n",
        "\n",
        "* For simplicity we use constant boundary conditions\n",
        "  of a Dirichlet type.\n",
        "\n",
        "* The typical 1-dimensional wave equation $u_{tt} = c^2 u_{xx}$\n",
        "  deals with the propagation of wave along a finite string\n",
        "  (such as a guitar chord or an electrical wave signal)\n",
        "  along a finite period of time.\n",
        "\n",
        "  Where $u(x,t)$ is the **altitude** of the wave\n",
        "  at a point $x$ at time $t$,\n",
        "  and $c$ is a physical constant related to the string type.\n",
        "\n",
        "* In real life scenarios, this simple model is not enough,\n",
        "  and we have to take into account other factors such as\n",
        "  friction and [damping](https://en.wikipedia.org/wiki/Damping).\n",
        "\n",
        "* Our project deals with the more general type of\n",
        "  a 1D wave equation  \n",
        "\n",
        "  $\\large\\qquad u_{tt} + 2\\beta u_t = c^2 u_{xx}$  \n",
        "\n",
        "  where $\\beta$ is the **damping coefficient**,\n",
        "  and $c$ is a **positive** physical constant\n",
        "  which models the wave speed.\n",
        "\n",
        "* This equation describes how disturbances propagate over time\n",
        "  and space, subject to initial and boundary conditions.   \n",
        "\n",
        "  <IMG\n",
        "  src=\"https://samyzaf.com/fdm/wave1d2b.jpg\"\n",
        "  width=600\n",
        "  align=\"center\"\n",
        "  />\n",
        "\n",
        "## **Your Differential Equation Problem**\n",
        "\n",
        "* The values of the coefficients $c$, $\\beta$,\n",
        "  and the boundary conditions,\n",
        "  were assigned to you at the registration stage.\n",
        "\n",
        "* These are unique values assigned for each student\n",
        "  as a function of your **ID** number.\n",
        "\n",
        "* You can print your problem again at any stage\n",
        "  by the following command."
      ]
    },
    {
      "cell_type": "code",
      "execution_count": null,
      "id": "c6677351",
      "metadata": {
        "id": "c6677351"
      },
      "outputs": [],
      "source": [
        "display_my_pde()"
      ]
    },
    {
      "cell_type": "markdown",
      "id": "a850782b",
      "metadata": {
        "cell_marker": "\"\"\"",
        "id": "a850782b"
      },
      "source": [
        "* The physical time $T$ is determined\n",
        "  by the simulation time which we will define later.\n",
        "\n",
        "## **Basic parameters**\n",
        "* As mentioned, our string is modeled as an interval $[0,L]$\n",
        "  on the real $x$-axis, with the following **FDM** parameters\n",
        "* **L** = String Length\n",
        "* **N** = Grid division parameter for the interval $[0,L]$\n",
        "* **c** = Physical wave speed parameter\n",
        "* **beta** = Physical damping coefficient\n",
        "* **dt** = Time grid unit\n",
        "* **fps** = Frames Per Second (for video simulation)\n",
        "* **seconds** = Video Simulation time (also video duration)\n",
        "* **num_frames** = Total number of **video frames** in our simulation\n",
        "* **dx** = $x$ grid unit (L/N)\n",
        "* **U** = 2D Numpy Array (holds the FDM grid)\n",
        "\n",
        "## **Agenda**\n",
        "\n",
        "* Our project is to use the **Finite Difference Method (FDM)**\n",
        "  for finding a discrete numerical solution\n",
        "  to the **damped wave equation** above on a string\n",
        "  of length **L=4** and physical time $T$.\n",
        "  \n",
        "* The value of the physical time $T$ depends on\n",
        "  * **seconds** - our simulation time\n",
        "  * **fps** - number of video frames per second\n",
        "  * **dt** - our discrete time unit  \n",
        "\n",
        "  **T = seconds * fps * dt**.\n",
        "\n",
        "* Here is our **FDM Parameter Plan** for this problem.\n",
        "\n",
        "* Make sure to uncomment and insert the correct\n",
        "  values of **beta** and **c** according to\n",
        "  your assigned **PDE**!\n",
        "\n",
        "* You may experiment with other values in your solution\n",
        "  process."
      ]
    },
    {
      "cell_type": "code",
      "execution_count": null,
      "id": "6b95b14b",
      "metadata": {
        "id": "6b95b14b"
      },
      "outputs": [],
      "source": [
        "L = 4.0                    # Length of string\n",
        "N = 200                    # Grid division size\n",
        "# Uncomment and insert correct values of beta and c!\n",
        "#c = ?                     # Physical wave speed constant (in the equation). Find your correct value!\n",
        "#beta = ?                  # Damping coefficient (in the equation). Find your correct value!\n",
        "fps = 30                   # Frames per second (for video simulation)\n",
        "seconds = 30               # Simulation time (video duration)\n",
        "num_frames = seconds*fps   # Total number of time frames\n",
        "dx = L/N                   # Step sizes = x,y grid units\n",
        "# The standard definition of gamma is\n",
        "# gamma = c*dt/dx\n",
        "# See class notes or project booklet.\n",
        "# We take a different approach and first define gamma and then dt!\n",
        "gamma = 0.85               # Make sure CFL (Courant/Friedrich/Lewy) condition is met: gamma = c*dt/dx <= 1\n",
        "dt = gamma * dx/c          # Automatic choice for dt (See link below)\n",
        "T = seconds * fps * dt     # Physical time (the real time)\n",
        "U = np.zeros((N+1, num_frames))    # Our FDM grid container\n",
        "\n",
        "print(f\"dx = {dx}\")\n",
        "print(f\"dt = {dt}\")\n",
        "print(f\"gamma = {gamma}\")\n",
        "print(f\"T = {T}\")"
      ]
    },
    {
      "cell_type": "markdown",
      "id": "0f084cd6",
      "metadata": {
        "cell_marker": "\"\"\"",
        "id": "0f084cd6"
      },
      "source": [
        "* The **CFL** parameter refers to the\n",
        "  [Courant/Friedrich/Lewy condition](https://en.wikipedia.org/wiki/Courant%E2%80%93Friedrichs%E2%80%93Lewy_condition)\n",
        "  for selecting a stable good value for **dt**.\n",
        "\n",
        "* The stability condition that guarantees convergence of our\n",
        "  discrete approximation to a valid solution is  \n",
        "\n",
        "  $\\qquad\n",
        "  \\gamma = \\dfrac{c\\Delta t}{\\Delta x} \\leq 1\n",
        "  $  \n",
        "\n",
        "  where $c$ is the physical wave constant.\n",
        "  [Look at this **GPT** generated document for more details.](https://samyzaf.com/fdm/gpt_fdm_stability.pdf)\n",
        "\n",
        "* By selecting $\\gamma=0.85$, we ensure that the **CFL**\n",
        "  stability condition $\\gamma\\leq 1$ is met.\n",
        "\n",
        "* Note that by selecting $\\gamma$, the value of $\\Delta t$\n",
        "  is automatically determined by\n",
        "  $\\gamma= \\frac{c\\Delta t}{\\Delta x}$.\n",
        "  That is: $\\Delta t = \\frac{\\gamma \\Delta x}{c}$.\n",
        "\n",
        "* However, it is possible to experiment with other\n",
        "  values for **dt** for controlling the speed and duration\n",
        "  of the simulation.\n",
        "\n",
        "## **Boundary Conditions**\n",
        "\n",
        "* The general form of a Dirichlet 1D wave equation boundary\n",
        "  conditions are:  \n",
        "\n",
        "  $\\qquad\n",
        "\\left\\{\n",
        "    \\begin{array}{ll}\n",
        "    u(x,0) = f(x),  &\\quad 0\\leq x \\leq L\n",
        "    \\\\[0.5ex]\n",
        "    u_t(x,0) = g(x),  &\\quad 0\\leq x \\leq L\n",
        "    \\\\[0.5ex]\n",
        "    u(0,t) = f_1(t), &\\quad 0\\leq t\\leq T\n",
        "    \\\\[0.5ex]\n",
        "    u(L,t) = f_2(t), &\\quad 0\\leq t\\leq T\n",
        "    \\end{array}\n",
        "\\right.\n",
        "$  \n",
        "\n",
        "## **TASK 1: Boundary Conditions**\n",
        "* Based on the particular problem assigned to you,\n",
        "  you should identify the boundary conditions for your\n",
        "  case and write them in the following Python code cell."
      ]
    },
    {
      "cell_type": "code",
      "execution_count": null,
      "id": "62695377",
      "metadata": {
        "id": "62695377"
      },
      "outputs": [],
      "source": [
        "f  = lambda x: . . . . . . . .\n",
        "g  = lambda x: . . . . . . . .\n",
        "f1 = lambda t: . . . . . . . .\n",
        "f2 = lambda t: . . . . . . . ."
      ]
    },
    {
      "cell_type": "markdown",
      "id": "3ba0ff15",
      "metadata": {
        "cell_marker": "\"\"\"",
        "id": "3ba0ff15"
      },
      "source": [
        "## **TASK 2: $\\bf\\LaTeX$ formulas**\n",
        "* Solve your differential equation using the **FDM** method.\n",
        "\n",
        "* You should obtain a recursion formula which\n",
        "  computes the value of **U[i,k]** by previous\n",
        "  terms such as **U[..,k-1]**, **U[..,k-2]**.\n",
        "  * It should not contain any derivatives of **U**.\n",
        "  * It should be simplified.\n",
        "\n",
        "* Make sure to use your boundary conditions!\n",
        "\n",
        "* Edit the next text cell and write\n",
        "  the following four formulas in $\\LaTeX$ format\n",
        "  1. The difference derivative $U_t$ which you used,\n",
        "  2. The difference derivative $U_{tt}$ which you used,\n",
        "  3. The difference derivative $U_{xx}$ which you used,\n",
        "  4. Your final recursion formula for computing the\n",
        "     FDM grid $U$ on time frame **k** from the previous\n",
        "     layers **k-1**, **k-2**.  \n",
        "     * To be clear: derivatives of $U$ on the right side\n",
        "       are not allowed!\n",
        "     * You may use intermediate expressions such as\n",
        "       $\\gamma$ or **DU**, but you need to write their LaTeX\n",
        "       form in a separate line.\n",
        "     * Your recursion formula may be limited to a restricted\n",
        "       range of **i**, **k**, values.\n",
        "       So you are also required to specify the valid range of the\n",
        "       indices **i**, **k**, for which your recursion\n",
        "       formula is valid.\n",
        "     * The range style should be:\n",
        "       $i = a,...,b$.\n",
        "       That is: $i$ starts with $a$ and ends with $b$\n",
        "     * Examples:\n",
        "       * $i=2,...,N-1$\n",
        "       * $k=3,...,N_t-2$.\n",
        "* To edit a text cell: select the cell,\n",
        "  and use the edit button on the top\n",
        "  right menubar of the cell  \n",
        "\n",
        "  <IMG\n",
        "src=\"https://samyzaf.com/fdm/colab_cell_menubar.jpg\"\n",
        "width=400\n",
        "align=\"center\"\n",
        "/>\n",
        "\n",
        "* You may need a quick tour of\n",
        "  the $\\LaTeX$ (LaTeX) system for writing math formulas.\n",
        "  It shouldn't take you more than 5 minutes to get the idea.\n",
        "  Please look at the short LaTeX guide\n",
        "  in our Tutorials notebook:\n",
        "  https://colab.research.google.com/github/samyzaf/notebooks/blob/main/tutorials.ipynb"
      ]
    },
    {
      "cell_type": "markdown",
      "id": "25db1c1a",
      "metadata": {
        "cell_marker": "\"\"\"",
        "id": "25db1c1a"
      },
      "source": [
        "### **Please complete the following LaTeX formulas**  \n",
        "1. $U_t[i,k] = ... $\n",
        "\n",
        "2. $U_{tt}[i,k] = ...$\n",
        "\n",
        "3. $U_{xx}[i,k] = ...$\n",
        "\n",
        "4. $U[i,k] = ...$  \n",
        "   $i=...$  \n",
        "   $k=...$"
      ]
    },
    {
      "cell_type": "markdown",
      "id": "e0957de0",
      "metadata": {
        "cell_marker": "\"\"\"",
        "id": "e0957de0"
      },
      "source": [
        "## **TASK 3: Python Code**\n",
        "* In this task you have to convert your recursion formula\n",
        "  that you obtained in the previous task into\n",
        "  a working Python code!\n",
        "\n",
        "* Your main mission is to write a Python\n",
        "  function **Solve(U)** which accepts **U** as an argument,\n",
        "  solves the equation, and updates **U**.\n",
        "\n",
        "* We started with an zeroes grid **U**, and your Python\n",
        "  function **Solve(U)** should fill **U** with\n",
        "  numerical values that approximate a solution to\n",
        "  our differential equation.\n",
        "\n",
        "* Write your **Solve(U)** function code in\n",
        "  the following code cell (and execute it)."
      ]
    },
    {
      "cell_type": "code",
      "execution_count": null,
      "id": "fbd18fbb",
      "metadata": {
        "id": "fbd18fbb"
      },
      "outputs": [],
      "source": [
        "# Write your Solve(U) code here\n",
        "def Solve(U):\n",
        "    # ...\n",
        "    # ..."
      ]
    },
    {
      "cell_type": "markdown",
      "id": "bdf18892",
      "metadata": {
        "cell_marker": "\"\"\"",
        "id": "bdf18892"
      },
      "source": [
        "* After writing your **Solve(U)** function, you need to run the\n",
        "  simulation phase.\n",
        "\n",
        "* The **RunSimulation()** function automatically\n",
        "  applies your boundary conditions\n",
        "  on **U** and then executes your **Solve(U)** function.\n",
        "\n",
        "* If passed successfully, then your FDM grid **U**\n",
        "  is ready to rock!\n",
        "  \n",
        "* You may use it to approximate the solution\n",
        "  **u(x,t)** of our problem at any point inside the domain.\n",
        "\n",
        "* We also provide a **PlotWaveFrame** method for plotting\n",
        "  your solution at a given time frame, as a debug aid.\n",
        "\n",
        "* Execute the next code cell to run the simulation."
      ]
    },
    {
      "cell_type": "code",
      "execution_count": null,
      "id": "0558fdd4",
      "metadata": {
        "id": "0558fdd4"
      },
      "outputs": [],
      "source": [
        "RunSimulation()"
      ]
    },
    {
      "cell_type": "markdown",
      "id": "d67ff4dc",
      "metadata": {
        "cell_marker": "\"\"\"",
        "id": "d67ff4dc"
      },
      "source": [
        "## **TASK 4: best approximation of $u(x_0, t_0)$**\n",
        "* The point $(x_0,t_0)$ was assigned at the\n",
        "  registration stage.\n",
        "  You may access their values by `par.x0` and `par.t0`.\n",
        "* In this task you have to write code for approximating\n",
        "  the value of $u(x_0, t_0)$ using your FDM grid **U**.\n",
        "\n",
        "* This point may not be a grid node!\n",
        "  So you must devise the best plan to approximate the\n",
        "  value of $u(x0,y0)$ on it.\n",
        "\n",
        "* Write your code in the following code cell."
      ]
    },
    {
      "cell_type": "code",
      "execution_count": null,
      "id": "b9a93e8d",
      "metadata": {
        "id": "b9a93e8d"
      },
      "outputs": [],
      "source": [
        "# Write your code here\n",
        "# ...\n",
        "# ..."
      ]
    },
    {
      "cell_type": "markdown",
      "id": "1e200a5f",
      "metadata": {
        "cell_marker": "\"\"\"",
        "id": "1e200a5f"
      },
      "source": [
        "## **Plotting**\n",
        "\n",
        "* To help with debugging your code, we provide\n",
        "  a plotting utility (**PlotWaveFrame**)\n",
        "  for viewing wave frames.\n",
        "\n",
        "* You can configure the following plotting parameters\n",
        "  to inspect your solution."
      ]
    },
    {
      "cell_type": "code",
      "execution_count": null,
      "id": "3c307536",
      "metadata": {
        "id": "3c307536"
      },
      "outputs": [],
      "source": [
        "# plotting parameters\n",
        "text_x = 0.00                 # x coordinate for top text\n",
        "text_y = 1.07                 # y coordinate for top text\n",
        "math_x = 0.52                 # x coordinate for math text\n",
        "figure_width = 5              # Figure width in inches\n",
        "dpi = 120                     # Video resolution (dots per inch)\n",
        "fontsize = 9                  # Text font size\n",
        "linespacing = 1.5             # Spacing between text lines\n",
        "\n",
        "math_text = [                 # LaTeX Math formula text for video\n",
        "    r\"$u_{tt} + 2\\beta u_t = c^2 u_{xx}$\",\n",
        "    r\"$u(0,t) = f(x)$\",\n",
        "    r\"$u_t(0,t) = g(x)$\",\n",
        "    r\"$u(0,t) = f_1(t)$\",\n",
        "    r\"$u(2,t) = f_2(t)$\",\n",
        "]"
      ]
    },
    {
      "cell_type": "markdown",
      "id": "9178ee20",
      "metadata": {
        "cell_marker": "\"\"\"",
        "id": "9178ee20"
      },
      "source": [
        "### **Plotting frames of your solution**\n",
        "* You can plot a particular wave frame by\n",
        "  using the **PlotWaveFrame** function.\n",
        "\n",
        "* For example, to plot frame k=500 use the command:"
      ]
    },
    {
      "cell_type": "code",
      "execution_count": null,
      "id": "1c603301",
      "metadata": {
        "id": "1c603301"
      },
      "outputs": [],
      "source": [
        "PlotWaveFrame(500)"
      ]
    },
    {
      "cell_type": "markdown",
      "id": "29a196a6",
      "metadata": {
        "cell_marker": "\"\"\"",
        "lines_to_next_cell": 2,
        "id": "29a196a6"
      },
      "source": [
        "## **Final Comments**\n",
        "* Students interested in how the Numpy array is initialized\n",
        "  with the boundary conditions can download the\n",
        "  **[fdmtools package](https://samyzaf.com/fdmtools.zip)**\n",
        "  and browse the Python code for all the details.\n",
        "\n",
        "* You may also use the **MakeVideo()** utility to\n",
        "  view your simulation visually.\n",
        "\n",
        "* Make sure you don't forget to fill your details in the\n",
        "  registration form above.\n",
        "  The most important detail is your ID number!\n",
        "\n",
        "* After completing this project, you should save the notebook as\n",
        "  an **ipynb** file on your local drive:\n",
        "  **File-->Download-->Download .ipynb**.\n",
        "  Then upload it to the\n",
        "  assignment box of the Moodle project page.\n",
        "  * Make sure you keep the same name:\n",
        "    **\"fdm_project.ipynb\"**.\n",
        "\n",
        "* **GOOD LUCK!**"
      ]
    }
  ],
  "metadata": {
    "jupytext": {
      "cell_metadata_filter": "-all",
      "main_language": "python",
      "notebook_metadata_filter": "-all"
    },
    "colab": {
      "provenance": [],
      "include_colab_link": true
    },
    "language_info": {
      "name": "python"
    },
    "kernelspec": {
      "name": "python3",
      "display_name": "Python 3"
    }
  },
  "nbformat": 4,
  "nbformat_minor": 5
}