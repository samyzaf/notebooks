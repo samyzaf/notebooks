{
  "cells": [
    {
      "cell_type": "markdown",
      "metadata": {
        "id": "view-in-github",
        "colab_type": "text"
      },
      "source": [
        "<a href=\"https://colab.research.google.com/github/samyzaf/notebooks/blob/main/fdm_project.ipynb\" target=\"_parent\"><img src=\"https://colab.research.google.com/assets/colab-badge.svg\" alt=\"Open In Colab\"/></a>"
      ]
    },
    {
      "cell_type": "markdown",
      "metadata": {
        "id": "bNgCcbH05oim"
      },
      "source": [
        "# **FDM Project: 1D Heat Equation with a growth/decay factor**\n",
        "* Main objective: design a simulator using\n",
        "  **Finite Difference Method (FDM)**\n",
        "  for solving a 1D heat equation numerically.\n",
        "\n",
        "* **FDM** is a numerical method for solving differential\n",
        "  equations and many other types of mathematical problems,\n",
        "  which is explained in details at the course\n",
        "  lecture notes and the official project booklet,\n",
        "  with many examples that can help you\n",
        "  with this project.\n",
        "\n",
        "* Before starting to work on this project, please read the\n",
        "  project booklet (\"fdm.pdf\"), and make sure you understand\n",
        "  the examples of the 2D heat and wave equations there.\n",
        "  You will find there links to other colab notebooks\n",
        "  which should give you a good start for this project.\n",
        "\n",
        "* You have to download a copy of this notebook to your\n",
        "  private Google drive and work on your private copy.\n",
        "\n",
        "* Please keep the same name: \"fdm_project.ipynb\".\n",
        "\n",
        "* After completing work, you should upload it to\n",
        "  your Moodle assignment box for the FDM project."
      ]
    },
    {
      "cell_type": "markdown",
      "source": [
        "## **Activation**\n",
        "* The **FDM Project** is based on our\n",
        "  Python package:\n",
        "  [**fdmtools**](https://samyzaf.com/fdmtools.zip).\n",
        "\n",
        "* Python coders can download it and inspect the code.\n",
        "  But the usage is simple and explained in the many examples\n",
        "  you should find in the course project booklet (\"fdm.pdf\")\n",
        "  which you should find in the Moodle site.\n",
        "\n",
        "* Execute the next code cell in order to install\n",
        "  and load the\n",
        "  [**fdmtools Package**](https://samyzaf.com/fdmtools.zip).\n",
        "\n",
        "* At each stage you can restart your session\n",
        "  from the **Runtime** menu (\"Disconnect and delete runtime\")\n",
        "  if you get into trouble."
      ],
      "metadata": {
        "id": "IdBqWbuHSqVR"
      }
    },
    {
      "cell_type": "code",
      "source": [
        "%pip install -q https://samyzaf.com/fdmtools.zip\n",
        "from fdmtools.heatd1 import *"
      ],
      "metadata": {
        "id": "UaZSqhVASpUW"
      },
      "execution_count": null,
      "outputs": []
    },
    {
      "cell_type": "markdown",
      "source": [
        "## **Registration**\n",
        "* Please enter your name, identity number, and email\n",
        "  address in the following form.\n",
        "* Use English letters only.\n",
        "* After any change, press the **play** button to update.\n",
        "* After registration, you will get two personnal values\n",
        "  for the parameters $\\alpha$ and $\\beta$ which will be used\n",
        "  to define your assignment, and the pde problem\n",
        "  you need to solve in this project."
      ],
      "metadata": {
        "id": "F-x-zQQVume1"
      }
    },
    {
      "cell_type": "code",
      "source": [
        "# @title Student Form {\"form-width\":\"50%\"}\n",
        "Name = 'Foo Bar' # @param {type:\"string\"}\n",
        "Id = '123456789' # @param {type:\"string\"}\n",
        "Email = 'foo@bar.com' # @param {type:\"string\"}\n",
        "\n",
        "RunForm()"
      ],
      "metadata": {
        "id": "_pFRRRG6se42",
        "cellView": "form"
      },
      "execution_count": null,
      "outputs": []
    },
    {
      "cell_type": "code",
      "source": [
        "print(alpha)\n",
        "print(beta)"
      ],
      "metadata": {
        "id": "ytrE3nMUCzK9"
      },
      "execution_count": null,
      "outputs": []
    },
    {
      "cell_type": "markdown",
      "source": [
        "## **Description**\n",
        "* Your mission is to use **FDM**\n",
        "  for solving a special type of a 1D heat equation over\n",
        "  a one dimensional metal rod (of finite length $L$).\n",
        "\n",
        "* For simplicity we use constant boundary conditions\n",
        "  of a Dirichlet type.\n",
        "\n",
        "* The typical 1-dimensional heat problem deals with the\n",
        "  propagation of heat along a finite metal rod,\n",
        "  of homogeneous density and a constant diffusion rate $\\alpha$.\n",
        "  It is typically modeled by the standard **wave equation**:  \n",
        "\n",
        "  $\\large\\qquad u_{t} = \\alpha u_{xx}$  \n",
        "\n",
        "  where $u(x,t)$ is the **temperature**\n",
        "  at a point $x$ at time $t$,\n",
        "  and $\\alpha$ is a physical diffusion rate constant.\n",
        "\n",
        "* Our project deals with the more general type of\n",
        "  a 1D heat equation  \n",
        "\n",
        "  $\\large\\qquad u_t = \\alpha u_{xx} + \\beta u$  \n",
        "\n",
        "  where $\\alpha$ is the usual **diffusion constant**\n",
        "  and $\\beta$ is a **growth/decay rate constant**.\n",
        "\n",
        "* This equation models heat propagation along a metal rod,\n",
        "  subject to boundary conditions.  \n",
        "\n",
        "  <IMG\n",
        "src=\"https://samyzaf.com/fdm/heatd1d.jpg?1\"\n",
        "width=600\n",
        "align=\"center\"\n",
        "/>"
      ],
      "metadata": {
        "id": "69P3xJbStCL6"
      }
    },
    {
      "cell_type": "markdown",
      "source": [
        "## **Your Differential Equation Problem**\n",
        "\n",
        "* The values of the coefficients $\\alpha$ and $\\beta$\n",
        "  were assigned to you at the regsitration stage.\n",
        "\n",
        "* These are unique values assigned for each student\n",
        "  as a function of the **ID** number.\n",
        "\n",
        "* Execute the next code cell to view again your pde problem."
      ],
      "metadata": {
        "id": "LLqLzIcVuT1u"
      }
    },
    {
      "cell_type": "code",
      "source": [
        "display_my_pde()"
      ],
      "metadata": {
        "id": "2mtZ0BZzPXr5"
      },
      "execution_count": null,
      "outputs": []
    },
    {
      "cell_type": "markdown",
      "source": [
        "* The physical time $T$ is determined\n",
        "  by the simulation time which we will define later.\n",
        "\n",
        "* The values of $\\alpha$ and $\\beta$ were allocated personally\n",
        "  to each student (after the Registration stage).\n",
        "  They are also available as **Python variables**\n",
        "  with names: **alpha**, **beta**.\n",
        "  So you can access them in your Python code in any later code cell."
      ],
      "metadata": {
        "id": "_UZzunEGwW3x"
      }
    },
    {
      "cell_type": "markdown",
      "source": [
        "## **Basic Parameters**\n",
        "* Our metal rod is modeled as an interval $[0,L]$\n",
        "  on the real $x$-axis.\n",
        "* Please follow the following **FDM** parameters scheme\n",
        "  for the coding task\n",
        "  * **L** = Rod Length\n",
        "  * **T** = Physical time duration (real time) of\n",
        "     the heat phenomena\n",
        "  * **alpha** = Physical diffusion rate constant\n",
        "  * **beta** = Physical growth/decay rate constant\n",
        "  * **seconds** = Simulation time\n",
        "  * **N** = Grid division size for the interval $[0,L]$\n",
        "     the time interval $[0,T]$\n",
        "  * **dx** = $x$ grid unit (L/N)\n",
        "  * **dt** = Time grid discrete unit\n",
        "  * **fps** = Frames Per Second (for video simulation)\n",
        "  * **num_frames** = Total number of **time frames** in\n",
        "     our simulation (same as **Nt**!)\n",
        "  * **Nt** = Grid division size parameter for L\n",
        "     (same as **num_frames**)\n",
        "  * **U** = 2D Numpy matrix which implements the FDM grid"
      ],
      "metadata": {
        "id": "HEyONmXKjy-j"
      }
    },
    {
      "cell_type": "markdown",
      "source": [
        "## **Agenda**\n",
        "\n",
        "* Our project is to use the **Finite Difference Method (FDM)**\n",
        "  to solve the heat equation above on a metal rod\n",
        "  of length **L=2**.\n",
        "\n",
        "* We leave the parameter **T** open, so we\n",
        "  we can experiment with different values.     \n",
        "\n",
        "* Here is our suggested **FDM Parameter Plan** for this problem.\n",
        "\n",
        "* You may experiment with other values in your solution\n",
        "  process. For example, it is best to start with a small\n",
        "  value of the **seconds** parameter until your code\n",
        "  is stabilized (to save waiting time..)."
      ],
      "metadata": {
        "id": "hRCqBFW4Ps97"
      }
    },
    {
      "cell_type": "code",
      "source": [
        "L = 2.0                          # Length of rod\n",
        "N = 100                          # Grid division size\n",
        "dx = L/N                         # Step size of x grid unit\n",
        "CFL = 0.5                        # Courant/Friedrich/Lewy condition\n",
        "dt = CFL * dx**2/(2*alpha)       # Automatic choice for dt (See link below)\n",
        "fps = 30                         # Frames per second (good for video simulation)\n",
        "seconds = 15                     # Simulation time (good for video simulation)\n",
        "T = seconds * fps * dt           # Physical time (the real time of the physical event)\n",
        "num_frames = int(seconds*fps)    # Number of discrete time frames (same as Nt)\n",
        "Nt = num_frames                  # Number of discrete time frames (Convenient shorthand)\n",
        "#alpha                           # Heat diffusion rate (allocated earlier!)\n",
        "#beta                            # Heat growth/decay rate (allocated earlier!)\n",
        "gamma = alpha*dt/(dx**2)         # Convenient notation, but relevant to CFL stability\n",
        "U = np.zeros((N+1, Nt+1))        # Our FDM grid (N+1)x(Nt+1) matrix (initialized to zeros)\n",
        "                                 # Dividing a rod to N sub-intervals creates N+1 nodes!\n",
        "\n",
        "print(f\"dx = {dx}\")\n",
        "print(f\"dt = {dt}\")\n",
        "print(f\"gamma = {gamma}\")"
      ],
      "metadata": {
        "id": "ZJrcW7_ksXTg"
      },
      "execution_count": null,
      "outputs": []
    },
    {
      "cell_type": "markdown",
      "source": [
        "* The **CFL** parameter refers to the\n",
        "  [Courant/Friedrich/Lewy condition](https://en.wikipedia.org/wiki/Courant%E2%80%93Friedrichs%E2%80%93Lewy_condition)\n",
        "  for selecting stable values for **dt**.\n",
        "\n",
        "* The stability condition that guarantees convergence of our\n",
        "  discrete approximation to a valid solution is  \n",
        "  $\\qquad\n",
        "  \\gamma = \\frac{\\alpha\\Delta t}{\\Delta x^2} \\leq 0.5\n",
        "  $  \n",
        "  [Look at this GPT generated document for more details.](https://samyzaf.com/fdm/gpt_fdm_stability.pdf)\n",
        "\n",
        "* By selecting $\\Delta t = 0.5 \\cdot \\frac{\\Delta x^2}{2\\alpha}$,\n",
        "  we ensure that the **CFL** stability condition is met, and that our\n",
        "  computation will converge.\n",
        "  \n",
        "* However, it is recommended to experiment with other\n",
        "  values for **CFL** for controlling the speed and duration\n",
        "  of the simulation."
      ],
      "metadata": {
        "id": "_zSWOzlx0YCT"
      }
    },
    {
      "cell_type": "markdown",
      "source": [
        "## **Boundary Conditions**\n",
        "* The specification of our boundary functions is straightforward.\n",
        "\n",
        "* Except for **f**, all functions are identically zero.\n",
        "\n",
        "* The **Python code** for specifying the boundary conditions is:"
      ],
      "metadata": {
        "id": "rW536ZXZrl61"
      }
    },
    {
      "cell_type": "code",
      "source": [
        "f  = lambda x: x * (L-x) * sin(3*pi*x) + x\n",
        "f1 = lambda t: 0\n",
        "f2 = lambda t: 2"
      ],
      "metadata": {
        "id": "yXgABbACsLk8"
      },
      "execution_count": null,
      "outputs": []
    },
    {
      "cell_type": "markdown",
      "source": [
        "## **Task 1: $\\bf\\LaTeX$ formulas**\n",
        "* Solve your differential equation using the **FDM** method.\n",
        "\n",
        "* You should obtain a recursive formula which\n",
        "  computes the value of **U[i,k+1]** by previous\n",
        "  terms such as **U[i-1,k]**, **U[i,k]**, **U[i+1,k]**.\n",
        "  It should not contain any derivatives of **U**!\n",
        "\n",
        "* Use the parameters suggested above numerically!\n",
        "  The symbols $\\alpha$ and $\\beta$ are not allowed.\n",
        "\n",
        "* Make sure you rely on the boundary conditions!\n",
        "\n",
        "* Your task is to edit the next text cell and write\n",
        "  the three following formulas in $\\LaTeX$ format\n",
        "  1. The difference derivative $U_t$ which you used,\n",
        "  2. The difference derivative $U_{xx}$ which you used,\n",
        "  3. Your final recursive formula for computing the\n",
        "     FDM grid $U$ on layer **k+1** from the previous layer **k**.  \n",
        "     To be clear: derivatives of $U$ on the right side are not allowed!\n",
        "* To edit the text cell, select the cell,\n",
        "  and use the edit button on the top\n",
        "  right menubar of the cell  \n",
        "\n",
        "  <IMG\n",
        "src=\"https://samyzaf.com/fdm/colab_cell_menubar.jpg\"\n",
        "width=400\n",
        "align=\"center\"\n",
        "/>\n",
        "\n",
        "* Before you can do that, you may need a quick tour of\n",
        "  the $\\LaTeX$ (LaTeX) system for writing math formulas.\n",
        "  It should't take you more than 5 minutes to get the idea.\n",
        "  Please look at the short guide after the next cell."
      ],
      "metadata": {
        "id": "afuwR8wLj_2-"
      }
    },
    {
      "cell_type": "markdown",
      "source": [
        "## Please complete the following formulas\n",
        "1. $U_t[i,k] = ... $\n",
        "\n",
        "2. $U_{xx}[i,k] = ...$\n",
        "\n",
        "3. $U[i,k+1] = ...$"
      ],
      "metadata": {
        "id": "4EaCB7wztWjR"
      }
    },
    {
      "cell_type": "markdown",
      "source": [
        "## **5 Minutes $\\bf\\LaTeX$ Guide: write math in Google Colab Notebook in no time!**\n",
        "\n",
        "* All we need to know is how to write a math fraction,\n",
        "  exponent, subscript, and a few greek letters!\n",
        "  After going through the easy examples in this table, you\n",
        "  have all you need for this task!  \n",
        "\n",
        "  <IMG\n",
        "src=\"https://samyzaf.com/fdm/latex_guide_1.jpg?3\"\n",
        "width=700\n",
        "align=\"center\"\n",
        "/>  \n",
        "\n",
        "<!--\n",
        "|<font size=\"2\"> LaTeX Command |&nbsp;&nbsp;|<font size=\"2\"> How it is Displayed </font>|\n",
        "| :---|:---:|:---|\n",
        "| `$5U_x - 4U_{tt}$` || $5U_x - 4U_{tt}$ |\n",
        "| `$\\frac{3x^2 \\Delta x}{4\\delta}$` || $\\frac{3x^2 \\Delta x}{4\\delta}$ |\n",
        "| `$\\alpha\\Delta x + \\beta\\Delta t$` || $\\alpha\\Delta x+\\beta\\Delta t$|\n",
        "| `$\\gamma = \\frac{\\alpha\\Delta t}{\\Delta x^2}$` || $\\gamma=\\frac{\\alpha\\Delta t}{\\Delta x^2}$ |\n",
        "| `$8\\delta < 0.25\\epsilon + frac{3x^4}{a+1}$` || $8\\delta < 0.25\\epsilon + \\frac{3x^4}{a+1}$ |  \n",
        "-->\n",
        "\n",
        "\n",
        "* A math formula starts with a `$` sign and ends with a `$` sign.\n",
        "\n",
        "* This is good enough for our needs.\n",
        "\n",
        "* For more information please visit the Google Official Guide:  \n",
        " [Equations and Formulas in Google Colab](https://colab.research.google.com/github/EPS-Libraries-Berkeley/volt/blob/main/LaTeX/Equations_and_Formulas.ipynb)\n"
      ],
      "metadata": {
        "id": "mw9Ivm59tfjB"
      }
    },
    {
      "cell_type": "markdown",
      "source": [
        "## **Task 2: Python Code**\n",
        "* In this task you have to convert the recursive formula\n",
        "  that you obtained in the previous task into\n",
        "  a working Python code!\n",
        "\n",
        "* Your main mission is to write a Python\n",
        "  function **Solve(U)** which takes **U** as an argument\n",
        "  and solves the equation.\n",
        "\n",
        "* We started with an empty grid **U**, and your Python\n",
        "  function **Solve(U)** should fill **U** with\n",
        "  numerical values that approximate a solution to\n",
        "  our differential equation.\n",
        "\n",
        "* Write your **Solve(U)** funcion code in\n",
        "  the following code cell (and execute it)."
      ],
      "metadata": {
        "id": "JCPIlqDGXNDa"
      }
    },
    {
      "cell_type": "code",
      "source": [
        "# Write your Solve(U) code here\n",
        "# ...\n",
        "# ..."
      ],
      "metadata": {
        "id": "MWCNFgI1YHzl"
      },
      "execution_count": null,
      "outputs": []
    },
    {
      "cell_type": "markdown",
      "source": [
        "* After writing your Solve(U) function, you need to run the\n",
        "  simulation phase.\n",
        "\n",
        "* The **RunSimulation()** function applies the boundary conditions\n",
        "  on **U** and then executes your **Solve(U)** function.\n",
        "\n",
        "* If passed successfully, then your FDM grid **U**\n",
        "  is ready to rock. You may use it to approximate the solution\n",
        "  **u(x,t)** of our porblem at any point inside the domain.\n",
        "  We also provide a **PlotHeatFrame** for plotting the solution\n",
        "  at a given time t.\n",
        "\n",
        "* Execute the next code cell to run the simulation."
      ],
      "metadata": {
        "id": "xlW6idGNDzwQ"
      }
    },
    {
      "cell_type": "code",
      "source": [
        "RunSimulation()"
      ],
      "metadata": {
        "id": "TLrC_13qSGQg"
      },
      "execution_count": null,
      "outputs": []
    },
    {
      "cell_type": "markdown",
      "source": [
        "## **Task 3: compute the value of $u(0.5,0.01)$**\n",
        "* In this task you have to write code for approximating\n",
        "  the value of $u(0.5,0.01)$ using your FDM grid **U**.\n",
        "\n",
        "* Write your code in the following code cell.\n"
      ],
      "metadata": {
        "id": "RqKhslR_1xyy"
      }
    },
    {
      "cell_type": "code",
      "source": [
        "# Write your code here\n",
        "# ...\n",
        "# ..."
      ],
      "metadata": {
        "id": "VINbRU-52DMg"
      },
      "execution_count": null,
      "outputs": []
    },
    {
      "cell_type": "markdown",
      "source": [
        "## **Plotting**\n",
        "\n",
        "* To help with debugging your code, we provide\n",
        "  a plotting utility (**PlotHeatFrame**)\n",
        "  for viewing heat frames.\n",
        "\n",
        "* You can configure the following plotting parameters\n",
        "  to inspect your solution.\n"
      ],
      "metadata": {
        "id": "Uql1hZrtmbzL"
      }
    },
    {
      "cell_type": "code",
      "source": [
        "# plotting parameters\n",
        "text_x = 0.00                 # x coordinate for top text\n",
        "text_y = 1.07                 # y coordinate for top text\n",
        "math_x = 0.52                 # x coordinate for math text\n",
        "figure_width = 5              # Figure width in inches\n",
        "dpi = 120                     # Video resolution (dots per inch)\n",
        "fontsize = 9                  # Text font size\n",
        "linespacing = 1.5             # Spacing between text lines\n",
        "\n",
        "math_text = [                 # LaTeX Math formula text for video\n",
        "    r\"$u_{t} = \\alpha u_{xx} + \\beta u$\",\n",
        "    r\"$u(x,0,t) = x (2-x) \\sin(3\\pi x)$\",\n",
        "    r\"$u(0,t) = 0$\",\n",
        "    r\"$u(2,t) = 2$\",\n",
        "]"
      ],
      "metadata": {
        "id": "50iQNv_4kkXb"
      },
      "execution_count": null,
      "outputs": []
    },
    {
      "cell_type": "markdown",
      "source": [
        "### **Plotting frames of your solution**\n",
        "* You can plot a particular heat frame by\n",
        "  using the **PlotHeatFrame** function.\n",
        "\n",
        "* For example, to plot frame k=10 use the command:"
      ],
      "metadata": {
        "id": "WXq6ZSK4X5cV"
      }
    },
    {
      "cell_type": "code",
      "source": [
        "PlotHeatFrame(10)"
      ],
      "metadata": {
        "id": "h1RJ65GR8vhE"
      },
      "execution_count": null,
      "outputs": []
    },
    {
      "cell_type": "markdown",
      "source": [
        "## **Final Comments**\n",
        "* Students interested in how the Numpy array is initialized\n",
        "  with the boundary conditions can download the\n",
        "  **[fdmtools package](https://samyzaf.com/fdmtools.zip)**\n",
        "  and browse the Python code for all the details.\n",
        "\n",
        "* Make sure you don't forget to fill your details at the\n",
        "  form above. The most important detail is your ID number!\n",
        "\n",
        "* After completing this project, you can upload it to the\n",
        "  assignment box of the Moodle project page.\n",
        "  Make sure you keep the same name:\n",
        "  **\"fdm_project.ipynb\"**.\n",
        "\n",
        "* **GOOD LUCK!**\n"
      ],
      "metadata": {
        "id": "fyh_XNOfNYdQ"
      }
    }
  ],
  "metadata": {
    "colab": {
      "provenance": [],
      "include_colab_link": true
    },
    "kernelspec": {
      "display_name": "Python 3",
      "name": "python3"
    },
    "language_info": {
      "codemirror_mode": {
        "name": "ipython",
        "version": 3
      },
      "file_extension": ".py",
      "mimetype": "text/x-python",
      "name": "python",
      "nbconvert_exporter": "python",
      "pygments_lexer": "ipython3",
      "version": "3.7.11"
    }
  },
  "nbformat": 4,
  "nbformat_minor": 0
}