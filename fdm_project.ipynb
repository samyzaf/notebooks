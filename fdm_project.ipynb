{
  "cells": [
    {
      "cell_type": "markdown",
      "metadata": {
        "id": "view-in-github",
        "colab_type": "text"
      },
      "source": [
        "<a href=\"https://colab.research.google.com/github/samyzaf/notebooks/blob/main/fdm_project.ipynb\" target=\"_parent\"><img src=\"https://colab.research.google.com/assets/colab-badge.svg\" alt=\"Open In Colab\"/></a>"
      ]
    },
    {
      "cell_type": "markdown",
      "id": "71f3fac7",
      "metadata": {
        "cell_marker": "\"\"\"",
        "id": "71f3fac7"
      },
      "source": [
        "# **FDM Project Colaboratory Notebook**\n",
        "# **THE PROJECT WILL BE READY SOON ...**\n",
        "\n",
        "# In the mean time start preparing for it ...\n",
        "\n",
        "* Main objective: design a Python Simulator using\n",
        "  **Finite Difference Method (FDM)**\n",
        "  for solving a partial differential equation.\n",
        "\n",
        "* **FDM** is a numerical method for solving differential\n",
        "  equations and many other types of mathematical problems,\n",
        "  which is explained in details at the course\n",
        "  lecture notes and the **official project booklet**,\n",
        "  with many examples that can help you\n",
        "  with this project.\n",
        "\n",
        "* The **official project booklet** should be found in the\n",
        "  Project Moodle web site.\n",
        "\n",
        "* Before starting to work on this project, please read the\n",
        "  project booklet (**\"fdm.pdf\"** in the Moodle web site),\n",
        "  and make sure you understand\n",
        "  the many examples and exercises of using **FDM** for solving\n",
        "  partial differential equations there.\n",
        "  You will find there links to other Colab notebooks\n",
        "  which should give you a good start for this project.\n",
        "  Try to solve some of the exercises there.\n",
        "\n",
        "# **20 minutes Python Guide**\n",
        "* We will use the\n",
        "  [Python](https://python.org) programming\n",
        "  language for this project.\n",
        "  \n",
        "* This is a very easy language to learn!\n",
        "\n",
        "* Please invest 20 minutes in one or more of the following tutorials.\n",
        "\n",
        "* [**TUTORIAL 1**](https://colab.research.google.com/github/data-psl/lectures2020/blob/master/notebooks/01_python_basics.ipynb#scrollTo=3EKvP6jiMZ9H)\n",
        "\n",
        "* [**TUTORIAL 2**](https://colab.research.google.com/github/jckantor/CBE30338/blob/master/docs/01.02-Python-Basics.ipynb)\n",
        "\n",
        "* [**TUTORIAL 3**](https://colab.research.google.com/github/samyzaf/notebooks/blob/main/python_tutorial.ipynb)\n",
        "\n",
        "* [**TUTORIAL 4**](\n",
        "  https://colab.research.google.com)\n",
        "\n",
        "# **Google Colab Notebook Quick Tutorial**\n",
        "\n",
        "* Students new to **Google Colab Notebook**\n",
        "  are encouraged to invest 10 minutes in one of the following tutorials:\n",
        "\n",
        "* Beginners **Google Colab (Jupyter notebook)**,\n",
        "  YouTube courses:\n",
        "  * [Complete Beginner's Tutorial to Google Colab](https://www.youtube.com/watch?v=JJYZ3OE_lGo)  \n",
        "  * [Google Colab Tutorial for Beginners](https://www.youtube.com/watch?v=iMlMfrXJYSg)\n",
        "  * [Official Google Colaboratory Web Site](\n",
        "    https://colab.research.google.com)\n"
      ]
    },
    {
      "cell_type": "markdown",
      "id": "e0957de0",
      "metadata": {
        "cell_marker": "\"\"\"",
        "id": "e0957de0"
      },
      "source": [
        "\n",
        "# **5 Minutes $\\bf\\LaTeX$ Guide**  \n",
        "## **Write Math formulas in Google Colab Notebook in no time!**\n",
        "\n",
        "* LaTeX (pronounced \"La-tech\") is a language for writing math\n",
        "  and science texts which use math symbols and formulas.\n",
        "* It is now part of the Markdown language which Google Colab\n",
        "  notebook uses for its Text Cells.\n",
        "\n",
        "* So you can actually write beautiful Math formulas in\n",
        "  Google Colab if you invest a short time in this tutorial!\n",
        "* All we need to know is how to write a math fraction,\n",
        "  exponent, subscript, and a few Greek letters!\n",
        "* After going through the easy examples in this table, you\n",
        "  have all you need for our project!  \n",
        "\n",
        "  <IMG\n",
        "src=\"https://samyzaf.com/fdm/latex_guide_1.jpg?3\"\n",
        "width=700\n",
        "align=\"center\"\n",
        "/>  \n",
        "\n",
        "* **A LaTeX math expression** starts with a `$` sign and\n",
        "  ends with a `$` sign.\n",
        "  * It consists **only of plain ASCII** characters!  \n",
        "    ### **ASCII TABLE [CODES: 32-126]**\n",
        "    ```\n",
        "    ! \" # $ % & ' ( ) * + , - . / 0 1 2 3 4 5 6 7 8 9 : ; < = > ?  \n",
        "    @ A B C D E F G H I J K L M N O P Q R S T U V W X Y Z [ \\ ] ^ _  \n",
        "    ` a b c d e f g h i j k l m n o p q r s t u v w x y z { | } ~\n",
        "    ```\n",
        "  * You are not allowed to use unicode Greek characters or\n",
        "    unicode math symbols! Only ASCII characters!\n",
        "  * If you want to get the letter $\\beta$,\n",
        "    use the expression `\\beta`!\n",
        "\n",
        "* This introduction good enough for our needs.\n",
        "\n",
        "* For more information please visit the Google Official Guide:  \n",
        " [Equations and Formulas in Google Colab](https://colab.research.google.com/github/EPS-Libraries-Berkeley/volt/blob/main/LaTeX/Equations_and_Formulas.ipynb)\n",
        "\n",
        "## **$\\LaTeX$ EXERCISE**\n",
        "* To make sure you got the idea,\n",
        "  type $\\LaTeX$ code to produce the follwoing three formulas!\n",
        "\n",
        "  <IMG\n",
        "  src=\"https://samyzaf.com/fdm/latex1.png\"\n",
        "  width=500\n",
        "  align=\"center\"\n",
        "  />\n",
        "\n",
        "* Edit the next text cell and write\n",
        "  the three following formulas in $\\LaTeX$ format\n",
        "\n",
        "* To edit a text cell: select the cell,\n",
        "  and use the edit button on the top\n",
        "  right menubar of the cell  \n",
        "\n",
        "  <IMG\n",
        "src=\"https://samyzaf.com/fdm/colab_cell_menubar.jpg\"\n",
        "width=400\n",
        "align=\"center\"\n",
        "/>\n"
      ]
    },
    {
      "cell_type": "markdown",
      "id": "bdf18892",
      "metadata": {
        "cell_marker": "\"\"\"",
        "id": "bdf18892"
      },
      "source": [
        "## **Test your code here &#8595;**\n",
        "Just press the edit button of this cell and start writing\n",
        "bellow this line!\n"
      ]
    }
  ],
  "metadata": {
    "jupytext": {
      "cell_metadata_filter": "-all",
      "main_language": "python",
      "notebook_metadata_filter": "-all"
    },
    "colab": {
      "provenance": [],
      "include_colab_link": true
    },
    "language_info": {
      "name": "python"
    },
    "kernelspec": {
      "name": "python3",
      "display_name": "Python 3"
    }
  },
  "nbformat": 4,
  "nbformat_minor": 5
}